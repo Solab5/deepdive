{
 "cells": [
  {
   "cell_type": "code",
   "execution_count": 1,
   "id": "212be6e2-acf3-4835-b144-5468914a49fb",
   "metadata": {},
   "outputs": [],
   "source": [
    "from fastai.imports import *"
   ]
  },
  {
   "cell_type": "code",
   "execution_count": 2,
   "id": "dbabaa4b-26e1-4c58-aad1-188318d14b50",
   "metadata": {},
   "outputs": [],
   "source": [
    "from scipy.stats import f_oneway, ttest_ind"
   ]
  },
  {
   "cell_type": "code",
   "execution_count": 3,
   "id": "8e9b3263-3810-4d4e-83c1-a13800fb1c3e",
   "metadata": {},
   "outputs": [],
   "source": [
    "peer = pd.read_excel('All2021Cohorts_merged_outlier managed_copy_2.xlsx', sheet_name='All2021ControlBaseline',header=5)\n",
    "rtv = pd.read_excel('All2021Cohorts_merged_outlier managed_copy_2.xlsx', sheet_name='All2021CohortBaseline',header=5)"
   ]
  },
  {
   "cell_type": "code",
   "execution_count": 4,
   "id": "6e1cb3fe-8873-43dc-b8d0-975a203a8f26",
   "metadata": {},
   "outputs": [],
   "source": [
    "adjusted_cpi = 80.66"
   ]
  },
  {
   "cell_type": "code",
   "execution_count": 5,
   "id": "afdbde8e-960c-482a-854e-213b6b49b337",
   "metadata": {},
   "outputs": [
    {
     "data": {
      "text/plain": [
       "((1241, 4277), (1419, 6725))"
      ]
     },
     "execution_count": 5,
     "metadata": {},
     "output_type": "execute_result"
    }
   ],
   "source": [
    "peer.shape, rtv.shape"
   ]
  },
  {
   "cell_type": "markdown",
   "id": "39ecdfb9-75c1-44c2-a4dc-2e8e365d2b00",
   "metadata": {},
   "source": [
    "## Expenditure Item"
   ]
  },
  {
   "attachments": {},
   "cell_type": "markdown",
   "id": "1199f4dd-f0be-4ab2-a472-492ce7ff6181",
   "metadata": {},
   "source": [
    "vegetables_week\t\tfruits_week\t\tmeat_poultry_offals\t\teggs\t\tfish_week\tsugar_week\t\tfat_oils_week\tmisc_week\t\tsnacks_week\t"
   ]
  },
  {
   "cell_type": "code",
   "execution_count": 23,
   "id": "b8fd2bce-6fd1-48d0-a5e5-280a1f6e1440",
   "metadata": {},
   "outputs": [
    {
     "data": {
      "text/plain": [
       "milk_week         0.195378\n",
       "vegetable_week    0.093858\n",
       "fruit_week        0.036181\n",
       "eggs_week         0.847236\n",
       "dtype: float64"
      ]
     },
     "execution_count": 23,
     "metadata": {},
     "output_type": "execute_result"
    }
   ],
   "source": [
    "(peer[['milk_week','vegetable_week','fruit_week','eggs_week']].mean() * (adjusted_cpi/100) /3700)"
   ]
  },
  {
   "cell_type": "code",
   "execution_count": 28,
   "id": "f30fde74-cd90-4c6c-a4e7-5756e6a09c11",
   "metadata": {},
   "outputs": [
    {
     "data": {
      "text/plain": [
       "milk         0.324973\n",
       "vegetable    0.144863\n",
       "fruit        0.140296\n",
       "eggs         1.000711\n",
       "dtype: float64"
      ]
     },
     "execution_count": 28,
     "metadata": {},
     "output_type": "execute_result"
    }
   ],
   "source": [
    "(rtv[['milk','vegetable','fruit','eggs']].mean() * (adjusted_cpi/100) /3700)"
   ]
  },
  {
   "cell_type": "markdown",
   "id": "5770208a-873f-4483-900c-38bc8d6a7bef",
   "metadata": {},
   "source": [
    "## No food"
   ]
  },
  {
   "cell_type": "code",
   "execution_count": 36,
   "id": "536f1b34-2f2a-4461-a089-41b1447729e2",
   "metadata": {},
   "outputs": [
    {
     "data": {
      "text/plain": [
       "alcohol_week              0.666854\n",
       "tobacco_week              0.036979\n",
       "consump_food_gift_week    0.287301\n",
       "consump_inkind_week       0.144486\n",
       "dtype: float64"
      ]
     },
     "execution_count": 36,
     "metadata": {},
     "output_type": "execute_result"
    }
   ],
   "source": [
    "peer[['alcohol_week', 'tobacco_week', 'consump_food_gift_week','consump_inkind_week']].mean() * (adjusted_cpi/100) /3700"
   ]
  },
  {
   "cell_type": "code",
   "execution_count": 43,
   "id": "a8ede2e7-a6a2-45b4-ba34-208ed50c3d2b",
   "metadata": {},
   "outputs": [
    {
     "data": {
      "text/plain": [
       "alcohol              0.529149\n",
       "tobacco              0.041401\n",
       "consump_food_gift    0.422513\n",
       "consump_inkind       0.515383\n",
       "dtype: float64"
      ]
     },
     "execution_count": 43,
     "metadata": {},
     "output_type": "execute_result"
    }
   ],
   "source": [
    "rtv[['alcohol', 'tobacco', 'consump_food_gift', 'consump_inkind']].mean() * (adjusted_cpi/100) /3700"
   ]
  },
  {
   "cell_type": "markdown",
   "id": "412a9006-9be1-4135-9d7c-6eb56a26fbfc",
   "metadata": {},
   "source": [
    "## Expenditure last 30 days"
   ]
  },
  {
   "cell_type": "code",
   "execution_count": 57,
   "id": "17815d3d-6798-47ca-8689-3e80ab10ed63",
   "metadata": {},
   "outputs": [
    {
     "data": {
      "text/plain": [
       "fuel_month               0.390137\n",
       "water_month              0.035031\n",
       "transport_month          1.174095\n",
       "washing_month            2.135154\n",
       "consump_durable_month    2.546667\n",
       "dtype: float64"
      ]
     },
     "execution_count": 57,
     "metadata": {},
     "output_type": "execute_result"
    }
   ],
   "source": [
    "peer[['fuel_month', 'water_month','transport_month', 'washing_month', 'consump_durable_month']].mean() * (adjusted_cpi/100) /3700"
   ]
  },
  {
   "cell_type": "code",
   "execution_count": 58,
   "id": "c5930c13-798e-4d10-8d07-422fa7f2f998",
   "metadata": {},
   "outputs": [
    {
     "data": {
      "text/plain": [
       "fuel               0.835545\n",
       "water              0.066433\n",
       "transport          1.400873\n",
       "washing            2.025248\n",
       "consump_durable    0.464321\n",
       "dtype: float64"
      ]
     },
     "execution_count": 58,
     "metadata": {},
     "output_type": "execute_result"
    }
   ],
   "source": [
    "rtv[['fuel', 'water', 'transport', 'washing', 'consump_durable']].mean() * (adjusted_cpi/100) /3700"
   ]
  },
  {
   "cell_type": "markdown",
   "id": "769cd5d7-dd97-4378-b9fc-bc9d91289ecb",
   "metadata": {},
   "source": [
    "## Expenditure last 15 days"
   ]
  },
  {
   "cell_type": "code",
   "execution_count": null,
   "id": "77e79b1d-c925-4092-8b0b-8cbe78b62e01",
   "metadata": {},
   "outputs": [],
   "source": [
    "peer['clo"
   ]
  },
  {
   "cell_type": "code",
   "execution_count": 71,
   "id": "64f2fa4c-2328-4f75-a0f1-e2a525c5d210",
   "metadata": {},
   "outputs": [
    {
     "data": {
      "text/plain": [
       "cloth_women     6.226714\n",
       "cloth_men       3.975715\n",
       "girls           4.268989\n",
       "boys            3.615866\n",
       "medical        29.593649\n",
       "maintenance    13.262671\n",
       "household       2.672095\n",
       "sent_family     3.205632\n",
       "sent_other      0.736560\n",
       "gifts           5.728404\n",
       "recreat         0.571937\n",
       "dtype: float64"
      ]
     },
     "execution_count": 71,
     "metadata": {},
     "output_type": "execute_result"
    }
   ],
   "source": [
    "rtv[['cloth_women', 'cloth_men', 'girls', \n",
    "     'boys', 'medical', 'maintenance', 'household', \n",
    "     'sent_family', 'sent_other', 'gifts', 'recreat']].mean() * (adjusted_cpi/100) /3700"
   ]
  },
  {
   "cell_type": "code",
   "execution_count": null,
   "id": "df127527-f447-41e4-a038-cc2f083f8281",
   "metadata": {},
   "outputs": [],
   "source": []
  }
 ],
 "metadata": {
  "kernelspec": {
   "display_name": "Python 3 (ipykernel)",
   "language": "python",
   "name": "python3"
  },
  "language_info": {
   "codemirror_mode": {
    "name": "ipython",
    "version": 3
   },
   "file_extension": ".py",
   "mimetype": "text/x-python",
   "name": "python",
   "nbconvert_exporter": "python",
   "pygments_lexer": "ipython3",
   "version": "3.10.12"
  }
 },
 "nbformat": 4,
 "nbformat_minor": 5
}
