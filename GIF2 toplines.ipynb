{
 "cells": [
  {
   "cell_type": "markdown",
   "id": "5ea4944b-ebb8-48a5-9026-26d3bb06bfce",
   "metadata": {},
   "source": [
    "### Base"
   ]
  },
  {
   "cell_type": "code",
   "execution_count": 1,
   "id": "0ea7fbc2-cf4e-40e5-8456-c2177420ee76",
   "metadata": {},
   "outputs": [],
   "source": [
    "import pandas as pd"
   ]
  },
  {
   "cell_type": "code",
   "execution_count": 17,
   "id": "9a68a7f9-531b-48f4-a91b-3fabbbaf3076",
   "metadata": {},
   "outputs": [],
   "source": [
    "import numpy as np"
   ]
  },
  {
   "cell_type": "code",
   "execution_count": 42,
   "id": "89eccae1-322f-4999-b0e9-1d209a22a0e4",
   "metadata": {},
   "outputs": [],
   "source": [
    "base = pd.read_excel(\"Copy of Kiso2017Cohort_60month_EvaluationFileFinal_1%_4%_24_08_2022.xlsx\", sheet_name=\"2017RTV_VillageMaster\")"
   ]
  },
  {
   "cell_type": "code",
   "execution_count": 58,
   "id": "d7c4b1f3-bd46-4590-83ab-43cbe403e69d",
   "metadata": {},
   "outputs": [
    {
     "data": {
      "text/plain": [
       "927514.3758169934"
      ]
     },
     "execution_count": 58,
     "metadata": {},
     "output_type": "execute_result"
    }
   ],
   "source": [
    "base.iloc[68:1292,:]['HH Income'].mean()"
   ]
  },
  {
   "cell_type": "code",
   "execution_count": 59,
   "id": "a68dee46-6ba6-401f-b77d-ead3423ae7a3",
   "metadata": {},
   "outputs": [],
   "source": [
    "base = base.iloc[68:1292,:]"
   ]
  },
  {
   "cell_type": "code",
   "execution_count": 254,
   "id": "0fb73db7-7d3d-4b03-9b4d-e5c956eafbba",
   "metadata": {},
   "outputs": [
    {
     "data": {
      "text/plain": [
       "(1224, 1390, 1326, 1341, 1410, 1220)"
      ]
     },
     "execution_count": 254,
     "metadata": {},
     "output_type": "execute_result"
    }
   ],
   "source": [
    "base.shape[0], year1.shape[0],year2.shape[0],year3.shape[0],year4.shape[0],year5.shape[0]"
   ]
  },
  {
   "cell_type": "code",
   "execution_count": 60,
   "id": "1b16a285-5bff-48a9-88ba-a42942f9dec1",
   "metadata": {},
   "outputs": [],
   "source": [
    "rate_base = 3600\n",
    "ppp_rate = 1270.608"
   ]
  },
  {
   "cell_type": "markdown",
   "id": "a80c9f5c-5fa7-476c-b63d-499f49501a77",
   "metadata": {},
   "source": [
    "### USD Constant Rate"
   ]
  },
  {
   "cell_type": "code",
   "execution_count": 61,
   "id": "123c510e-0779-4c84-a056-6a8210d783d9",
   "metadata": {},
   "outputs": [],
   "source": [
    "base['HH Income + Consumption+Assets (USD Const)'] = base['HH Income + Consumption+Assets']/rate_base"
   ]
  },
  {
   "cell_type": "code",
   "execution_count": 62,
   "id": "3310e060-1330-4287-89b9-d66aa9601930",
   "metadata": {},
   "outputs": [
    {
     "data": {
      "text/plain": [
       "mean      560.869299\n",
       "median    443.750000\n",
       "Name: HH Income + Consumption+Assets (USD Const), dtype: float64"
      ]
     },
     "execution_count": 62,
     "metadata": {},
     "output_type": "execute_result"
    }
   ],
   "source": [
    "base['HH Income + Consumption+Assets (USD Const)'].agg(['mean','median'])"
   ]
  },
  {
   "cell_type": "markdown",
   "id": "75c39f37-7d55-44c2-b9d5-ddea11cceaa3",
   "metadata": {},
   "source": [
    "### PPP Adjusted"
   ]
  },
  {
   "cell_type": "code",
   "execution_count": 63,
   "id": "c1b8fa31-f797-4a4b-b193-fae5fd4db5b5",
   "metadata": {},
   "outputs": [],
   "source": [
    "base['HH Income + Consumption+Assets (USD Const PPP Adj)'] = base['HH Income + Consumption+Assets']/ppp_rate"
   ]
  },
  {
   "cell_type": "code",
   "execution_count": 64,
   "id": "b1a11969-31f5-41df-bdd7-25d1f8fcda9e",
   "metadata": {},
   "outputs": [
    {
     "data": {
      "text/plain": [
       "mean      1589.104960\n",
       "median    1257.272109\n",
       "Name: HH Income + Consumption+Assets (USD Const PPP Adj), dtype: float64"
      ]
     },
     "execution_count": 64,
     "metadata": {},
     "output_type": "execute_result"
    }
   ],
   "source": [
    "base['HH Income + Consumption+Assets (USD Const PPP Adj)'].agg(['mean','median'])"
   ]
  },
  {
   "cell_type": "markdown",
   "id": "88faaf9c-22b5-4b2e-96c7-6e123e1348b2",
   "metadata": {},
   "source": [
    "### Adult equiv (Constant USS)"
   ]
  },
  {
   "cell_type": "code",
   "execution_count": 65,
   "id": "2594e1ae-589a-4bd5-96fb-49838b0093c6",
   "metadata": {},
   "outputs": [
    {
     "data": {
      "text/plain": [
       "mean      252.702676\n",
       "median    200.196206\n",
       "dtype: float64"
      ]
     },
     "execution_count": 65,
     "metadata": {},
     "output_type": "execute_result"
    }
   ],
   "source": [
    "(base['HH Income + Consumption+Assets (USD Const)']/np.sqrt(base['# HH Members'])).agg(['mean','median'])"
   ]
  },
  {
   "cell_type": "code",
   "execution_count": 66,
   "id": "8dfc63cb-633e-4600-a16c-fb696926440b",
   "metadata": {},
   "outputs": [
    {
     "data": {
      "text/plain": [
       "mean      715.979778\n",
       "median    567.213760\n",
       "dtype: float64"
      ]
     },
     "execution_count": 66,
     "metadata": {},
     "output_type": "execute_result"
    }
   ],
   "source": [
    "(base['HH Income + Consumption+Assets (USD Const PPP Adj)']/np.sqrt(base['# HH Members'])).agg(['mean','median'])"
   ]
  },
  {
   "cell_type": "code",
   "execution_count": null,
   "id": "7b75ba6b-118f-4a49-aaa3-db8164503e91",
   "metadata": {},
   "outputs": [],
   "source": []
  },
  {
   "cell_type": "markdown",
   "id": "d0179bc0-c863-4081-933d-da739c752d3c",
   "metadata": {},
   "source": [
    "# Year 1"
   ]
  },
  {
   "cell_type": "code",
   "execution_count": 108,
   "id": "0c2141a4-8619-45d9-bedd-efa138560f47",
   "metadata": {},
   "outputs": [],
   "source": [
    "year1 = pd.read_excel(\"Copy of Kiso2017Cohort_60month_EvaluationFileFinal_1%_4%_24_08_2022.xlsx\", sheet_name=\"2018RTV_Village_Master\")"
   ]
  },
  {
   "cell_type": "code",
   "execution_count": 109,
   "id": "c23ac2c5-8799-4fd7-be6b-cf94cfc79d5c",
   "metadata": {},
   "outputs": [
    {
     "data": {
      "text/plain": [
       "1322286.7533381295"
      ]
     },
     "execution_count": 109,
     "metadata": {},
     "output_type": "execute_result"
    }
   ],
   "source": [
    "year1.iloc[78:1468,:]['HH Income'].mean()"
   ]
  },
  {
   "cell_type": "code",
   "execution_count": 110,
   "id": "2ad42dfe-54b9-418d-bf0e-8edaf4a804ae",
   "metadata": {},
   "outputs": [],
   "source": [
    "year1 = year1.iloc[78:1468,:]"
   ]
  },
  {
   "cell_type": "code",
   "execution_count": 248,
   "id": "3f9b7c34-cc68-49e2-826e-a70e07a15bed",
   "metadata": {},
   "outputs": [
    {
     "data": {
      "text/plain": [
       "(1390, 27)"
      ]
     },
     "execution_count": 248,
     "metadata": {},
     "output_type": "execute_result"
    }
   ],
   "source": [
    "year1.shape"
   ]
  },
  {
   "cell_type": "code",
   "execution_count": 111,
   "id": "67ffce9f-6dc8-41c4-90ba-fa598d4e4559",
   "metadata": {},
   "outputs": [],
   "source": [
    "rate_year1 = 3700\n",
    "adj_y1 = 96.99"
   ]
  },
  {
   "cell_type": "markdown",
   "id": "401b86d2-0d45-49ba-a3ac-0648586fd705",
   "metadata": {},
   "source": [
    "### USD Constant Rate"
   ]
  },
  {
   "cell_type": "code",
   "execution_count": 112,
   "id": "6c1e1e30-33d9-47f1-aaa4-226698cc1d9a",
   "metadata": {},
   "outputs": [
    {
     "data": {
      "text/plain": [
       "78      2170.478919\n",
       "79      2162.614865\n",
       "80      2153.440135\n",
       "81      2136.925622\n",
       "82      2134.304270\n",
       "           ...     \n",
       "1463     134.737459\n",
       "1464     134.671926\n",
       "1465     133.164649\n",
       "1466     132.771446\n",
       "1467     130.412230\n",
       "Name: HH Income + Consumption+Assets, Length: 1390, dtype: float64"
      ]
     },
     "execution_count": 112,
     "metadata": {},
     "output_type": "execute_result"
    }
   ],
   "source": [
    "(year1['HH Income + Consumption+Assets'] * (adj_y1 / 100))/rate_year1"
   ]
  },
  {
   "cell_type": "code",
   "execution_count": 113,
   "id": "0ae78c40-eefc-464f-b783-8df5f7f034d2",
   "metadata": {},
   "outputs": [],
   "source": [
    "year1['HH Income + Consumption+Assets (USD Const)'] = (year1['HH Income + Consumption+Assets'] * (adj_y1 / 100))/rate_year1"
   ]
  },
  {
   "cell_type": "code",
   "execution_count": 114,
   "id": "190a200c-8373-440e-8b65-c5b948f9dff3",
   "metadata": {},
   "outputs": [
    {
     "data": {
      "text/plain": [
       "mean      627.622960\n",
       "median    487.178149\n",
       "Name: HH Income + Consumption+Assets (USD Const), dtype: float64"
      ]
     },
     "execution_count": 114,
     "metadata": {},
     "output_type": "execute_result"
    }
   ],
   "source": [
    "year1['HH Income + Consumption+Assets (USD Const)'].agg(['mean','median'])"
   ]
  },
  {
   "cell_type": "markdown",
   "id": "1e4cfb70-4fc7-4469-a0c8-d88413ce1b8e",
   "metadata": {},
   "source": [
    "### PPP Adjusted"
   ]
  },
  {
   "cell_type": "code",
   "execution_count": 115,
   "id": "96f3da04-1c67-47d0-9fda-311b38e777c7",
   "metadata": {},
   "outputs": [
    {
     "data": {
      "text/plain": [
       "1827.6328761795094"
      ]
     },
     "execution_count": 115,
     "metadata": {},
     "output_type": "execute_result"
    }
   ],
   "source": [
    "((year1['HH Income + Consumption+Assets'] * (adj_y1 / 100))/ppp_rate).mean()"
   ]
  },
  {
   "cell_type": "code",
   "execution_count": 116,
   "id": "74ac4fd9-ed5e-42d0-bc03-f629fc558b09",
   "metadata": {},
   "outputs": [],
   "source": [
    "year1['HH Income + Consumption+Assets (USD Const PPP Adj)'] = (year1['HH Income + Consumption+Assets'] * (adj_y1 / 100))/ppp_rate"
   ]
  },
  {
   "cell_type": "code",
   "execution_count": 117,
   "id": "897921aa-5fa4-4a70-a27d-d09e1a5800ae",
   "metadata": {},
   "outputs": [
    {
     "data": {
      "text/plain": [
       "mean      1827.632876\n",
       "median    1418.658744\n",
       "Name: HH Income + Consumption+Assets (USD Const PPP Adj), dtype: float64"
      ]
     },
     "execution_count": 117,
     "metadata": {},
     "output_type": "execute_result"
    }
   ],
   "source": [
    "year1['HH Income + Consumption+Assets (USD Const PPP Adj)'].agg(['mean','median'])"
   ]
  },
  {
   "cell_type": "markdown",
   "id": "a1cdb1ba-dbda-45aa-9048-7af1332e9dfa",
   "metadata": {},
   "source": [
    "### Adult equiv (Constant USS)"
   ]
  },
  {
   "cell_type": "code",
   "execution_count": 118,
   "id": "cbf7eb5e-cd6c-414e-852c-a110fcc4cb12",
   "metadata": {},
   "outputs": [
    {
     "data": {
      "text/plain": [
       "291.0307191235164"
      ]
     },
     "execution_count": 118,
     "metadata": {},
     "output_type": "execute_result"
    }
   ],
   "source": [
    "(year1['HH Income + Consumption+Assets (USD Const)'] / np.sqrt(year1[\"# HH Members\"])).mean()"
   ]
  },
  {
   "cell_type": "code",
   "execution_count": 119,
   "id": "fe9f4288-42f7-4057-9652-9d12b07599b4",
   "metadata": {},
   "outputs": [
    {
     "data": {
      "text/plain": [
       "78      2.449490\n",
       "79      1.414214\n",
       "80      2.828427\n",
       "81      3.000000\n",
       "82      2.645751\n",
       "          ...   \n",
       "1463    1.732051\n",
       "1464    1.732051\n",
       "1465    1.732051\n",
       "1466    2.449490\n",
       "1467    2.000000\n",
       "Name: # HH Members, Length: 1390, dtype: float64"
      ]
     },
     "execution_count": 119,
     "metadata": {},
     "output_type": "execute_result"
    }
   ],
   "source": [
    "np.sqrt(year1[\"# HH Members\"])"
   ]
  },
  {
   "cell_type": "code",
   "execution_count": 120,
   "id": "b40fb2c0-0d13-4a27-a9a9-408f30b7e32e",
   "metadata": {},
   "outputs": [
    {
     "data": {
      "text/plain": [
       "mean      291.030719\n",
       "median    228.975041\n",
       "dtype: float64"
      ]
     },
     "execution_count": 120,
     "metadata": {},
     "output_type": "execute_result"
    }
   ],
   "source": [
    "(year1['HH Income + Consumption+Assets (USD Const)']/np.sqrt(year1['# HH Members'])).agg(['mean','median'])"
   ]
  },
  {
   "cell_type": "code",
   "execution_count": 121,
   "id": "38b043f1-b044-4c69-9984-abedc649db9b",
   "metadata": {},
   "outputs": [
    {
     "data": {
      "text/plain": [
       "mean      847.479050\n",
       "median    666.773427\n",
       "dtype: float64"
      ]
     },
     "execution_count": 121,
     "metadata": {},
     "output_type": "execute_result"
    }
   ],
   "source": [
    "(year1['HH Income + Consumption+Assets (USD Const PPP Adj)']/np.sqrt(year1['# HH Members'])).agg(['mean','median'])"
   ]
  },
  {
   "cell_type": "code",
   "execution_count": 96,
   "id": "dd5ef5bd-c436-44e7-ab4d-04711896d8a7",
   "metadata": {},
   "outputs": [
    {
     "data": {
      "text/plain": [
       "0.0"
      ]
     },
     "execution_count": 96,
     "metadata": {},
     "output_type": "execute_result"
    }
   ],
   "source": []
  },
  {
   "cell_type": "code",
   "execution_count": null,
   "id": "4a35ddba-7f49-4000-a350-10c9c0d465e0",
   "metadata": {},
   "outputs": [],
   "source": []
  },
  {
   "cell_type": "markdown",
   "id": "d1bbecb7-e527-4245-93b8-bc23a7604b17",
   "metadata": {},
   "source": [
    "# Year 2"
   ]
  },
  {
   "cell_type": "code",
   "execution_count": 152,
   "id": "ea8c50b3-2702-4fc0-a2a4-1f56716d859d",
   "metadata": {},
   "outputs": [],
   "source": [
    "year2 = pd.read_excel(\"Copy of Kiso2017Cohort_60month_EvaluationFileFinal_1%_4%_24_08_2022.xlsx\", sheet_name=\"2019RTV_Apple2Apple\")"
   ]
  },
  {
   "cell_type": "code",
   "execution_count": 153,
   "id": "21a4b939-dbc9-434c-bc85-812665663e4c",
   "metadata": {},
   "outputs": [
    {
     "data": {
      "text/plain": [
       "2502012.5569381597"
      ]
     },
     "execution_count": 153,
     "metadata": {},
     "output_type": "execute_result"
    }
   ],
   "source": [
    "year2.iloc[71:1397,:]['HH Income'].mean()"
   ]
  },
  {
   "cell_type": "code",
   "execution_count": 154,
   "id": "e618e730-da1a-4cc5-b6fc-1d15e484131a",
   "metadata": {},
   "outputs": [],
   "source": [
    "year2 = year2.iloc[71:1397,:]"
   ]
  },
  {
   "cell_type": "code",
   "execution_count": 249,
   "id": "b5ad9a12-9875-4b37-982c-7e71cfb336b7",
   "metadata": {},
   "outputs": [
    {
     "data": {
      "text/plain": [
       "(1326, 34)"
      ]
     },
     "execution_count": 249,
     "metadata": {},
     "output_type": "execute_result"
    }
   ],
   "source": [
    "year2.shape"
   ]
  },
  {
   "cell_type": "code",
   "execution_count": 155,
   "id": "9ff29c49-ffb9-43f7-a9b5-438b2f250b82",
   "metadata": {},
   "outputs": [],
   "source": [
    "rate_year2 = 3700\n",
    "adj_y2 = 95.28"
   ]
  },
  {
   "cell_type": "markdown",
   "id": "1a5805ab-5a84-4515-9f11-4b9c765d9445",
   "metadata": {},
   "source": [
    "### USD Constant Rate"
   ]
  },
  {
   "cell_type": "code",
   "execution_count": 156,
   "id": "53e89912-7d0a-4345-9a2d-f80680beab39",
   "metadata": {},
   "outputs": [
    {
     "data": {
      "text/plain": [
       "71       205.238270\n",
       "72       209.100973\n",
       "73       210.131027\n",
       "74       213.736216\n",
       "75       215.603189\n",
       "           ...     \n",
       "1392    3797.294270\n",
       "1393    3923.218378\n",
       "1394    4044.249730\n",
       "1395    4102.808303\n",
       "1396    4115.065946\n",
       "Name: HH Income + Consumption+ Assets + Residues, Length: 1326, dtype: float64"
      ]
     },
     "execution_count": 156,
     "metadata": {},
     "output_type": "execute_result"
    }
   ],
   "source": [
    "(year2['HH Income + Consumption+ Assets + Residues'] * (adj_y2 / 100))/rate_year2"
   ]
  },
  {
   "cell_type": "code",
   "execution_count": 157,
   "id": "1c26ebb6-8a74-4162-b1b7-3ef221a0f336",
   "metadata": {},
   "outputs": [],
   "source": [
    "year2['HH Income + Consumption+Assets (USD Const)'] = (year2['HH Income + Consumption+ Assets + Residues'] * (adj_y2 / 100))/rate_year2"
   ]
  },
  {
   "cell_type": "code",
   "execution_count": 158,
   "id": "9dd3013f-4fd9-477f-9f53-2b47af0f19b4",
   "metadata": {},
   "outputs": [
    {
     "data": {
      "text/plain": [
       "mean      1052.962054\n",
       "median     854.313957\n",
       "Name: HH Income + Consumption+Assets (USD Const), dtype: float64"
      ]
     },
     "execution_count": 158,
     "metadata": {},
     "output_type": "execute_result"
    }
   ],
   "source": [
    "year2['HH Income + Consumption+Assets (USD Const)'].agg(['mean','median'])"
   ]
  },
  {
   "cell_type": "markdown",
   "id": "654f4b91-5256-47f1-81f9-92766e9eed4c",
   "metadata": {},
   "source": [
    "### PPP Adjusted"
   ]
  },
  {
   "cell_type": "code",
   "execution_count": 159,
   "id": "c961c8f6-69fa-48b7-93cb-b8adb93b3e5d",
   "metadata": {},
   "outputs": [
    {
     "data": {
      "text/plain": [
       "3066.216802915972"
      ]
     },
     "execution_count": 159,
     "metadata": {},
     "output_type": "execute_result"
    }
   ],
   "source": [
    "((year2['HH Income + Consumption+ Assets + Residues'] * (adj_y2 / 100))/ppp_rate).mean()"
   ]
  },
  {
   "cell_type": "code",
   "execution_count": 160,
   "id": "9e044c75-ccbf-4da9-b2d7-6b73325593bb",
   "metadata": {},
   "outputs": [],
   "source": [
    "year2['HH Income + Consumption+Assets (USD Const PPP Adj)'] = (year2['HH Income + Consumption+ Assets + Residues'] * (adj_y2 / 100))/ppp_rate"
   ]
  },
  {
   "cell_type": "code",
   "execution_count": 161,
   "id": "1e2df699-2bcd-4231-a986-f0471b2dce4b",
   "metadata": {},
   "outputs": [
    {
     "data": {
      "text/plain": [
       "mean      3066.216803\n",
       "median    2487.755185\n",
       "Name: HH Income + Consumption+Assets (USD Const PPP Adj), dtype: float64"
      ]
     },
     "execution_count": 161,
     "metadata": {},
     "output_type": "execute_result"
    }
   ],
   "source": [
    "year2['HH Income + Consumption+Assets (USD Const PPP Adj)'].agg(['mean','median'])"
   ]
  },
  {
   "cell_type": "markdown",
   "id": "be7834d4-2cbf-416d-af9c-cbd4182b024d",
   "metadata": {},
   "source": [
    "### Adult equiv (Constant USS)"
   ]
  },
  {
   "cell_type": "code",
   "execution_count": 162,
   "id": "a89a6206-ce1c-473c-8501-9d9a9fd11d08",
   "metadata": {},
   "outputs": [
    {
     "data": {
      "text/plain": [
       "486.96675045790994"
      ]
     },
     "execution_count": 162,
     "metadata": {},
     "output_type": "execute_result"
    }
   ],
   "source": [
    "(year2['HH Income + Consumption+Assets (USD Const)'] / np.sqrt(year2[\"# HH Members\"])).mean()"
   ]
  },
  {
   "cell_type": "code",
   "execution_count": 163,
   "id": "fa231ede-877f-4726-92ad-851c5206a03d",
   "metadata": {},
   "outputs": [
    {
     "data": {
      "text/plain": [
       "71      2.236068\n",
       "72      2.828427\n",
       "73      2.000000\n",
       "74      1.732051\n",
       "75      2.236068\n",
       "          ...   \n",
       "1392    2.645751\n",
       "1393    2.236068\n",
       "1394    2.000000\n",
       "1395    1.732051\n",
       "1396    2.645751\n",
       "Name: # HH Members, Length: 1326, dtype: float64"
      ]
     },
     "execution_count": 163,
     "metadata": {},
     "output_type": "execute_result"
    }
   ],
   "source": [
    "np.sqrt(year2[\"# HH Members\"])"
   ]
  },
  {
   "cell_type": "code",
   "execution_count": 164,
   "id": "647ebf5a-95df-4f78-8649-47f5026a0971",
   "metadata": {},
   "outputs": [
    {
     "data": {
      "text/plain": [
       "mean      486.966750\n",
       "median    390.475678\n",
       "dtype: float64"
      ]
     },
     "execution_count": 164,
     "metadata": {},
     "output_type": "execute_result"
    }
   ],
   "source": [
    "(year2['HH Income + Consumption+Assets (USD Const)']/np.sqrt(year2['# HH Members'])).agg(['mean','median'])"
   ]
  },
  {
   "cell_type": "code",
   "execution_count": 165,
   "id": "6b4bd46e-685e-4494-bda6-9897bf6b4a12",
   "metadata": {},
   "outputs": [
    {
     "data": {
      "text/plain": [
       "mean      1418.043155\n",
       "median    1137.061948\n",
       "dtype: float64"
      ]
     },
     "execution_count": 165,
     "metadata": {},
     "output_type": "execute_result"
    }
   ],
   "source": [
    "(year2['HH Income + Consumption+Assets (USD Const PPP Adj)']/np.sqrt(year2['# HH Members'])).agg(['mean','median'])"
   ]
  },
  {
   "cell_type": "code",
   "execution_count": null,
   "id": "7c11c695-cd44-4949-afcf-4e01445083c9",
   "metadata": {},
   "outputs": [],
   "source": []
  },
  {
   "cell_type": "code",
   "execution_count": null,
   "id": "2569f3d8-9026-406f-b521-279563a97510",
   "metadata": {},
   "outputs": [],
   "source": []
  },
  {
   "cell_type": "markdown",
   "id": "44b3dcb1-74af-4cf7-822c-3f6199a56eba",
   "metadata": {},
   "source": [
    "# Year 3"
   ]
  },
  {
   "cell_type": "code",
   "execution_count": 166,
   "id": "a54e240e-21ac-423b-874e-847cca54be27",
   "metadata": {},
   "outputs": [],
   "source": [
    "year3 = pd.read_excel(\"Copy of Kiso2017Cohort_60month_EvaluationFileFinal_1%_4%_24_08_2022.xlsx\", sheet_name=\"2020RTV_Apple2Apple\")"
   ]
  },
  {
   "cell_type": "code",
   "execution_count": 169,
   "id": "88a17846-6435-4fc8-979e-2482abd19a38",
   "metadata": {},
   "outputs": [
    {
     "data": {
      "text/plain": [
       "1976733.1894108874"
      ]
     },
     "execution_count": 169,
     "metadata": {},
     "output_type": "execute_result"
    }
   ],
   "source": [
    "year3.iloc[14:1355,:]['HH Income'].mean()"
   ]
  },
  {
   "cell_type": "code",
   "execution_count": 170,
   "id": "e5afd7bb-cc2c-4171-955f-32cf98d8b894",
   "metadata": {},
   "outputs": [],
   "source": [
    "year3 = year3.iloc[14:1355,:]"
   ]
  },
  {
   "cell_type": "code",
   "execution_count": 250,
   "id": "3773c682-a512-4c60-800c-194d2227bbb9",
   "metadata": {},
   "outputs": [
    {
     "data": {
      "text/plain": [
       "(1341, 53)"
      ]
     },
     "execution_count": 250,
     "metadata": {},
     "output_type": "execute_result"
    }
   ],
   "source": [
    "year3.shape"
   ]
  },
  {
   "cell_type": "code",
   "execution_count": 171,
   "id": "6af269e6-214c-4eca-b5d4-67dfa3d7bf84",
   "metadata": {},
   "outputs": [],
   "source": [
    "rate_year3 = 3700\n",
    "adj_y3 = 92.32"
   ]
  },
  {
   "cell_type": "markdown",
   "id": "c9b02db6-a91d-4deb-83b3-bce0281f2e04",
   "metadata": {},
   "source": [
    "### USD Constant Rate"
   ]
  },
  {
   "cell_type": "code",
   "execution_count": 172,
   "id": "2a7c20a2-afb6-47d0-aae1-e11bec274e4e",
   "metadata": {},
   "outputs": [
    {
     "data": {
      "text/plain": [
       "14        93.941838\n",
       "15        94.066595\n",
       "16        94.815135\n",
       "17        97.559784\n",
       "18        99.555892\n",
       "           ...     \n",
       "1350    2836.095351\n",
       "1351    2859.175351\n",
       "1352    2868.182789\n",
       "1353    2902.091676\n",
       "1354    2904.337297\n",
       "Name: HH Income + Consumption+ Assets + Residues, Length: 1341, dtype: float64"
      ]
     },
     "execution_count": 172,
     "metadata": {},
     "output_type": "execute_result"
    }
   ],
   "source": [
    "(year3['HH Income + Consumption+ Assets + Residues'] * (adj_y3 / 100))/rate_year3"
   ]
  },
  {
   "cell_type": "code",
   "execution_count": 173,
   "id": "1d369f82-7e12-4763-b124-5bb6fecc8d23",
   "metadata": {},
   "outputs": [],
   "source": [
    "year3['HH Income + Consumption+Assets (USD Const)'] = (year3['HH Income + Consumption+ Assets + Residues'] * (adj_y3 / 100))/rate_year3"
   ]
  },
  {
   "cell_type": "code",
   "execution_count": 174,
   "id": "db6f7fbf-a7cc-497b-a583-a819e712b819",
   "metadata": {},
   "outputs": [
    {
     "data": {
      "text/plain": [
       "mean      896.003079\n",
       "median    740.556108\n",
       "Name: HH Income + Consumption+Assets (USD Const), dtype: float64"
      ]
     },
     "execution_count": 174,
     "metadata": {},
     "output_type": "execute_result"
    }
   ],
   "source": [
    "year3['HH Income + Consumption+Assets (USD Const)'].agg(['mean','median'])"
   ]
  },
  {
   "cell_type": "markdown",
   "id": "62599823-2e2a-489f-bfc1-90b37a360424",
   "metadata": {},
   "source": [
    "### PPP Adjusted"
   ]
  },
  {
   "cell_type": "code",
   "execution_count": 175,
   "id": "c4b621f7-4de7-4777-b53a-f4ddd82f06c0",
   "metadata": {},
   "outputs": [
    {
     "data": {
      "text/plain": [
       "2609.1535654206887"
      ]
     },
     "execution_count": 175,
     "metadata": {},
     "output_type": "execute_result"
    }
   ],
   "source": [
    "((year3['HH Income + Consumption+ Assets + Residues'] * (adj_y3 / 100))/ppp_rate).mean()"
   ]
  },
  {
   "cell_type": "code",
   "execution_count": 176,
   "id": "f57865e3-e873-4a23-a245-a59a5032e984",
   "metadata": {},
   "outputs": [],
   "source": [
    "year3['HH Income + Consumption+Assets (USD Const PPP Adj)'] = (year3['HH Income + Consumption+ Assets + Residues'] * (adj_y3 / 100))/ppp_rate"
   ]
  },
  {
   "cell_type": "code",
   "execution_count": 246,
   "id": "7c920815-689d-4846-8159-3bea2c89c474",
   "metadata": {},
   "outputs": [
    {
     "data": {
      "text/plain": [
       "mean      2609.153565\n",
       "median    2156.493269\n",
       "Name: HH Income + Consumption+Assets (USD Const PPP Adj), dtype: float64"
      ]
     },
     "execution_count": 246,
     "metadata": {},
     "output_type": "execute_result"
    }
   ],
   "source": [
    "year3['HH Income + Consumption+Assets (USD Const PPP Adj)'].agg(['mean','median'])"
   ]
  },
  {
   "cell_type": "markdown",
   "id": "f11b3ce6-4a76-4aa3-a752-d628d2cb7958",
   "metadata": {},
   "source": [
    "### Adult equiv (Constant USS)"
   ]
  },
  {
   "cell_type": "code",
   "execution_count": 178,
   "id": "8e8319a8-7d49-4c72-94d0-2a453f399dc1",
   "metadata": {},
   "outputs": [
    {
     "data": {
      "text/plain": [
       "408.55994214967393"
      ]
     },
     "execution_count": 178,
     "metadata": {},
     "output_type": "execute_result"
    }
   ],
   "source": [
    "(year3['HH Income + Consumption+Assets (USD Const)'] / np.sqrt(year3[\"# HH Members\"])).mean()"
   ]
  },
  {
   "cell_type": "code",
   "execution_count": 179,
   "id": "c747df32-2849-4e74-9fa4-2c89d54b69a4",
   "metadata": {},
   "outputs": [
    {
     "data": {
      "text/plain": [
       "14      1.000000\n",
       "15      1.732051\n",
       "16      1.414214\n",
       "17      1.414214\n",
       "18      1.732051\n",
       "          ...   \n",
       "1350    2.449490\n",
       "1351    2.828427\n",
       "1352    1.000000\n",
       "1353    2.645751\n",
       "1354    2.449490\n",
       "Name: # HH Members, Length: 1341, dtype: float64"
      ]
     },
     "execution_count": 179,
     "metadata": {},
     "output_type": "execute_result"
    }
   ],
   "source": [
    "np.sqrt(year3[\"# HH Members\"])"
   ]
  },
  {
   "cell_type": "code",
   "execution_count": 180,
   "id": "6907363f-186d-45cb-add5-1dce5f88ca6b",
   "metadata": {},
   "outputs": [
    {
     "data": {
      "text/plain": [
       "mean      408.559942\n",
       "median    336.375501\n",
       "dtype: float64"
      ]
     },
     "execution_count": 180,
     "metadata": {},
     "output_type": "execute_result"
    }
   ],
   "source": [
    "(year3['HH Income + Consumption+Assets (USD Const)']/np.sqrt(year3['# HH Members'])).agg(['mean','median'])"
   ]
  },
  {
   "cell_type": "code",
   "execution_count": 181,
   "id": "cc44fc35-23c5-44f6-9940-c41deb68dbc3",
   "metadata": {},
   "outputs": [
    {
     "data": {
      "text/plain": [
       "mean      1189.723177\n",
       "median     979.522681\n",
       "dtype: float64"
      ]
     },
     "execution_count": 181,
     "metadata": {},
     "output_type": "execute_result"
    }
   ],
   "source": [
    "(year3['HH Income + Consumption+Assets (USD Const PPP Adj)']/np.sqrt(year3['# HH Members'])).agg(['mean','median'])"
   ]
  },
  {
   "cell_type": "code",
   "execution_count": null,
   "id": "ad7a612d-1e78-46ea-983f-c69c6b1cddb3",
   "metadata": {},
   "outputs": [],
   "source": []
  },
  {
   "cell_type": "code",
   "execution_count": null,
   "id": "a13a1592-285e-42e0-82d0-680e0aca4766",
   "metadata": {},
   "outputs": [],
   "source": []
  },
  {
   "cell_type": "markdown",
   "id": "037534f9-3a66-4e71-bf8e-c70d521dc3f7",
   "metadata": {},
   "source": [
    "# Year 4"
   ]
  },
  {
   "cell_type": "code",
   "execution_count": 182,
   "id": "f849a5b3-5dfd-41e4-8147-9f97e1a1d107",
   "metadata": {},
   "outputs": [],
   "source": [
    "year4 = pd.read_excel(\"Copy of Kiso2017Cohort_60month_EvaluationFileFinal_1%_4%_24_08_2022.xlsx\", sheet_name=\"RTVMonth48\", header=1)"
   ]
  },
  {
   "cell_type": "code",
   "execution_count": 200,
   "id": "37d51b07-a572-4bef-b48a-d27faad43b03",
   "metadata": {},
   "outputs": [
    {
     "data": {
      "text/html": [
       "<div>\n",
       "<style scoped>\n",
       "    .dataframe tbody tr th:only-of-type {\n",
       "        vertical-align: middle;\n",
       "    }\n",
       "\n",
       "    .dataframe tbody tr th {\n",
       "        vertical-align: top;\n",
       "    }\n",
       "\n",
       "    .dataframe thead th {\n",
       "        text-align: right;\n",
       "    }\n",
       "</style>\n",
       "<table border=\"1\" class=\"dataframe\">\n",
       "  <thead>\n",
       "    <tr style=\"text-align: right;\">\n",
       "      <th></th>\n",
       "      <th>SubmissionDate</th>\n",
       "      <th>starttime</th>\n",
       "      <th>endtime</th>\n",
       "      <th>version</th>\n",
       "      <th>duration</th>\n",
       "      <th>survey_start</th>\n",
       "      <th>intro_start</th>\n",
       "      <th>district</th>\n",
       "      <th>Surveyor_Name</th>\n",
       "      <th>Surveyor_Name2</th>\n",
       "      <th>...</th>\n",
       "      <th>% of households participating in atleast one monthly savings scheme</th>\n",
       "      <th>% of households that received loans in the last 12 months</th>\n",
       "      <th>Average interest rate</th>\n",
       "      <th>Average monthy loan size per household (Ugx)</th>\n",
       "      <th>% HH with radios</th>\n",
       "      <th>% HH with phones</th>\n",
       "      <th>Average land owned(Acres)</th>\n",
       "      <th>Average land size for farming (Acres)</th>\n",
       "      <th>Average time to water source (Minutes)</th>\n",
       "      <th>Average time to water source (Km)</th>\n",
       "    </tr>\n",
       "  </thead>\n",
       "  <tbody>\n",
       "    <tr>\n",
       "      <th>0</th>\n",
       "      <td>Aug 27, 2021 5:41:45 PM</td>\n",
       "      <td>Aug 27, 2021 9:57:54 AM</td>\n",
       "      <td>Aug 27, 2021 10:18:37 AM</td>\n",
       "      <td>2.108232e+09</td>\n",
       "      <td>1243.0</td>\n",
       "      <td>6.0</td>\n",
       "      <td>6.0</td>\n",
       "      <td>3.0</td>\n",
       "      <td>53.0</td>\n",
       "      <td>Jack Rutunda</td>\n",
       "      <td>...</td>\n",
       "      <td>0.996109</td>\n",
       "      <td>0.362534</td>\n",
       "      <td>0.059386</td>\n",
       "      <td>423200.0</td>\n",
       "      <td>0.75</td>\n",
       "      <td>0.883423</td>\n",
       "      <td>1.582242</td>\n",
       "      <td>1.206026</td>\n",
       "      <td>31.798695</td>\n",
       "      <td>0.62348</td>\n",
       "    </tr>\n",
       "    <tr>\n",
       "      <th>1</th>\n",
       "      <td>Aug 30, 2021 2:38:42 PM</td>\n",
       "      <td>Aug 30, 2021 11:51:34 AM</td>\n",
       "      <td>Aug 30, 2021 1:30:46 PM</td>\n",
       "      <td>2.108232e+09</td>\n",
       "      <td>3468.0</td>\n",
       "      <td>10.0</td>\n",
       "      <td>10.0</td>\n",
       "      <td>3.0</td>\n",
       "      <td>56.0</td>\n",
       "      <td>Julius Uwimana</td>\n",
       "      <td>...</td>\n",
       "      <td>NaN</td>\n",
       "      <td>NaN</td>\n",
       "      <td>NaN</td>\n",
       "      <td>NaN</td>\n",
       "      <td>NaN</td>\n",
       "      <td>NaN</td>\n",
       "      <td>NaN</td>\n",
       "      <td>NaN</td>\n",
       "      <td>NaN</td>\n",
       "      <td>NaN</td>\n",
       "    </tr>\n",
       "    <tr>\n",
       "      <th>2</th>\n",
       "      <td>Aug 30, 2021 2:38:08 PM</td>\n",
       "      <td>Aug 30, 2021 9:16:39 AM</td>\n",
       "      <td>Aug 30, 2021 10:02:12 AM</td>\n",
       "      <td>2.108232e+09</td>\n",
       "      <td>2703.0</td>\n",
       "      <td>7.0</td>\n",
       "      <td>7.0</td>\n",
       "      <td>3.0</td>\n",
       "      <td>56.0</td>\n",
       "      <td>Julius Uwimana</td>\n",
       "      <td>...</td>\n",
       "      <td>NaN</td>\n",
       "      <td>NaN</td>\n",
       "      <td>NaN</td>\n",
       "      <td>NaN</td>\n",
       "      <td>NaN</td>\n",
       "      <td>NaN</td>\n",
       "      <td>NaN</td>\n",
       "      <td>NaN</td>\n",
       "      <td>NaN</td>\n",
       "      <td>NaN</td>\n",
       "    </tr>\n",
       "    <tr>\n",
       "      <th>3</th>\n",
       "      <td>Aug 27, 2021 5:42:07 PM</td>\n",
       "      <td>Aug 27, 2021 12:01:56 PM</td>\n",
       "      <td>Aug 27, 2021 12:21:54 PM</td>\n",
       "      <td>2.108232e+09</td>\n",
       "      <td>1202.0</td>\n",
       "      <td>5.0</td>\n",
       "      <td>5.0</td>\n",
       "      <td>3.0</td>\n",
       "      <td>53.0</td>\n",
       "      <td>Jack Rutunda</td>\n",
       "      <td>...</td>\n",
       "      <td>NaN</td>\n",
       "      <td>NaN</td>\n",
       "      <td>NaN</td>\n",
       "      <td>NaN</td>\n",
       "      <td>NaN</td>\n",
       "      <td>NaN</td>\n",
       "      <td>NaN</td>\n",
       "      <td>NaN</td>\n",
       "      <td>NaN</td>\n",
       "      <td>NaN</td>\n",
       "    </tr>\n",
       "    <tr>\n",
       "      <th>4</th>\n",
       "      <td>Aug 21, 2021 8:02:48 AM</td>\n",
       "      <td>Aug 20, 2021 5:00:03 PM</td>\n",
       "      <td>Aug 20, 2021 9:07:19 PM</td>\n",
       "      <td>2.108152e+09</td>\n",
       "      <td>1714.0</td>\n",
       "      <td>9.0</td>\n",
       "      <td>9.0</td>\n",
       "      <td>3.0</td>\n",
       "      <td>66.0</td>\n",
       "      <td>Sam Duhimbaze</td>\n",
       "      <td>...</td>\n",
       "      <td>NaN</td>\n",
       "      <td>NaN</td>\n",
       "      <td>NaN</td>\n",
       "      <td>NaN</td>\n",
       "      <td>NaN</td>\n",
       "      <td>NaN</td>\n",
       "      <td>NaN</td>\n",
       "      <td>NaN</td>\n",
       "      <td>NaN</td>\n",
       "      <td>NaN</td>\n",
       "    </tr>\n",
       "  </tbody>\n",
       "</table>\n",
       "<p>5 rows × 4174 columns</p>\n",
       "</div>"
      ],
      "text/plain": [
       "            SubmissionDate                 starttime  \\\n",
       "0  Aug 27, 2021 5:41:45 PM   Aug 27, 2021 9:57:54 AM   \n",
       "1  Aug 30, 2021 2:38:42 PM  Aug 30, 2021 11:51:34 AM   \n",
       "2  Aug 30, 2021 2:38:08 PM   Aug 30, 2021 9:16:39 AM   \n",
       "3  Aug 27, 2021 5:42:07 PM  Aug 27, 2021 12:01:56 PM   \n",
       "4  Aug 21, 2021 8:02:48 AM   Aug 20, 2021 5:00:03 PM   \n",
       "\n",
       "                    endtime       version  duration  survey_start  \\\n",
       "0  Aug 27, 2021 10:18:37 AM  2.108232e+09    1243.0           6.0   \n",
       "1   Aug 30, 2021 1:30:46 PM  2.108232e+09    3468.0          10.0   \n",
       "2  Aug 30, 2021 10:02:12 AM  2.108232e+09    2703.0           7.0   \n",
       "3  Aug 27, 2021 12:21:54 PM  2.108232e+09    1202.0           5.0   \n",
       "4   Aug 20, 2021 9:07:19 PM  2.108152e+09    1714.0           9.0   \n",
       "\n",
       "   intro_start  district  Surveyor_Name  Surveyor_Name2  ...  \\\n",
       "0          6.0       3.0           53.0    Jack Rutunda  ...   \n",
       "1         10.0       3.0           56.0  Julius Uwimana  ...   \n",
       "2          7.0       3.0           56.0  Julius Uwimana  ...   \n",
       "3          5.0       3.0           53.0    Jack Rutunda  ...   \n",
       "4          9.0       3.0           66.0   Sam Duhimbaze  ...   \n",
       "\n",
       "  % of households participating in atleast one monthly savings scheme  \\\n",
       "0                                           0.996109                    \n",
       "1                                                NaN                    \n",
       "2                                                NaN                    \n",
       "3                                                NaN                    \n",
       "4                                                NaN                    \n",
       "\n",
       "  % of households that received loans in the last 12 months  \\\n",
       "0                                           0.362534          \n",
       "1                                                NaN          \n",
       "2                                                NaN          \n",
       "3                                                NaN          \n",
       "4                                                NaN          \n",
       "\n",
       "  Average interest rate Average monthy loan size per household (Ugx)  \\\n",
       "0              0.059386                                     423200.0   \n",
       "1                   NaN                                          NaN   \n",
       "2                   NaN                                          NaN   \n",
       "3                   NaN                                          NaN   \n",
       "4                   NaN                                          NaN   \n",
       "\n",
       "  % HH with radios % HH with phones Average land owned(Acres)  \\\n",
       "0             0.75         0.883423                  1.582242   \n",
       "1              NaN              NaN                       NaN   \n",
       "2              NaN              NaN                       NaN   \n",
       "3              NaN              NaN                       NaN   \n",
       "4              NaN              NaN                       NaN   \n",
       "\n",
       "  Average land size for farming (Acres)  \\\n",
       "0                              1.206026   \n",
       "1                                   NaN   \n",
       "2                                   NaN   \n",
       "3                                   NaN   \n",
       "4                                   NaN   \n",
       "\n",
       "   Average time to water source (Minutes)  Average time to water source (Km)  \n",
       "0                               31.798695                            0.62348  \n",
       "1                                     NaN                                NaN  \n",
       "2                                     NaN                                NaN  \n",
       "3                                     NaN                                NaN  \n",
       "4                                     NaN                                NaN  \n",
       "\n",
       "[5 rows x 4174 columns]"
      ]
     },
     "execution_count": 200,
     "metadata": {},
     "output_type": "execute_result"
    }
   ],
   "source": [
    "year4.head()"
   ]
  },
  {
   "cell_type": "code",
   "execution_count": 203,
   "id": "f9c6b781-f16f-4a44-83e4-03bdedfbf484",
   "metadata": {},
   "outputs": [
    {
     "data": {
      "text/plain": [
       "2406725.331914894"
      ]
     },
     "execution_count": 203,
     "metadata": {},
     "output_type": "execute_result"
    }
   ],
   "source": [
    "year4.iloc[15:1425,:]['HH Income'].mean()"
   ]
  },
  {
   "cell_type": "code",
   "execution_count": 204,
   "id": "6f483ecf-9286-4177-9daf-c61592e2b806",
   "metadata": {},
   "outputs": [],
   "source": [
    "year4 = year4.iloc[15:1425,:]"
   ]
  },
  {
   "cell_type": "code",
   "execution_count": 251,
   "id": "b22aff1b-136d-470a-a832-fc3ff9f5585e",
   "metadata": {},
   "outputs": [
    {
     "data": {
      "text/plain": [
       "(1410, 4176)"
      ]
     },
     "execution_count": 251,
     "metadata": {},
     "output_type": "execute_result"
    }
   ],
   "source": [
    "year4.shape"
   ]
  },
  {
   "cell_type": "code",
   "execution_count": 205,
   "id": "c84bc866-a9e8-4d22-9a23-7ebd9ad2bf0a",
   "metadata": {},
   "outputs": [],
   "source": [
    "rate_year4 = 3500\n",
    "adj_y4 = 90.42"
   ]
  },
  {
   "cell_type": "markdown",
   "id": "41d3f890-d447-49d4-930a-84bd8af5045f",
   "metadata": {},
   "source": [
    "### USD Constant Rate"
   ]
  },
  {
   "cell_type": "code",
   "execution_count": 206,
   "id": "77e63d70-e2f0-4f95-976e-1b0848d63dfe",
   "metadata": {},
   "outputs": [
    {
     "data": {
      "text/plain": [
       "15        89.128286\n",
       "16        92.486743\n",
       "17        95.586857\n",
       "18        95.586857\n",
       "19        99.720343\n",
       "           ...     \n",
       "1420    3379.124571\n",
       "1421    3395.916857\n",
       "1422    3403.873817\n",
       "1423    3433.376571\n",
       "1424    3436.735029\n",
       "Name: HH Income + Consumption+ Assets + Residues, Length: 1410, dtype: float64"
      ]
     },
     "execution_count": 206,
     "metadata": {},
     "output_type": "execute_result"
    }
   ],
   "source": [
    "(year4['HH Income + Consumption+ Assets + Residues'] * (adj_y4 / 100))/rate_year4"
   ]
  },
  {
   "cell_type": "code",
   "execution_count": 207,
   "id": "99428ed1-3b4a-4613-a4bb-2118e922d575",
   "metadata": {},
   "outputs": [
    {
     "name": "stderr",
     "output_type": "stream",
     "text": [
      "/var/folders/xd/0btgr76j2zxc4__ynw0yhwbm0000gn/T/ipykernel_83064/2742507193.py:1: SettingWithCopyWarning: \n",
      "A value is trying to be set on a copy of a slice from a DataFrame.\n",
      "Try using .loc[row_indexer,col_indexer] = value instead\n",
      "\n",
      "See the caveats in the documentation: https://pandas.pydata.org/pandas-docs/stable/user_guide/indexing.html#returning-a-view-versus-a-copy\n",
      "  year4['HH Income + Consumption+Assets (USD Const)'] = (year4['HH Income + Consumption+ Assets + Residues'] * (adj_y4 / 100))/rate_year4\n"
     ]
    }
   ],
   "source": [
    "year4['HH Income + Consumption+Assets (USD Const)'] = (year4['HH Income + Consumption+ Assets + Residues'] * (adj_y4 / 100))/rate_year4"
   ]
  },
  {
   "cell_type": "code",
   "execution_count": 208,
   "id": "4daa64e2-0211-4d4e-9dd3-8397890ee407",
   "metadata": {},
   "outputs": [
    {
     "data": {
      "text/plain": [
       "mean      1103.157134\n",
       "median     918.021343\n",
       "Name: HH Income + Consumption+Assets (USD Const), dtype: float64"
      ]
     },
     "execution_count": 208,
     "metadata": {},
     "output_type": "execute_result"
    }
   ],
   "source": [
    "year4['HH Income + Consumption+Assets (USD Const)'].agg(['mean','median'])"
   ]
  },
  {
   "cell_type": "markdown",
   "id": "69f04d34-f00e-4d2f-b55f-2b1b3e9de6d0",
   "metadata": {},
   "source": [
    "### PPP Adjusted"
   ]
  },
  {
   "cell_type": "code",
   "execution_count": 209,
   "id": "b8020721-1975-4bad-b7d1-f9120cac8c26",
   "metadata": {},
   "outputs": [
    {
     "data": {
      "text/plain": [
       "3038.742058212172"
      ]
     },
     "execution_count": 209,
     "metadata": {},
     "output_type": "execute_result"
    }
   ],
   "source": [
    "((year4['HH Income + Consumption+ Assets + Residues'] * (adj_y4 / 100))/ppp_rate).mean()"
   ]
  },
  {
   "cell_type": "code",
   "execution_count": 210,
   "id": "9fe7318d-bc5b-47e7-a2e3-9469a81cf9db",
   "metadata": {},
   "outputs": [
    {
     "name": "stderr",
     "output_type": "stream",
     "text": [
      "/var/folders/xd/0btgr76j2zxc4__ynw0yhwbm0000gn/T/ipykernel_83064/3106930046.py:1: SettingWithCopyWarning: \n",
      "A value is trying to be set on a copy of a slice from a DataFrame.\n",
      "Try using .loc[row_indexer,col_indexer] = value instead\n",
      "\n",
      "See the caveats in the documentation: https://pandas.pydata.org/pandas-docs/stable/user_guide/indexing.html#returning-a-view-versus-a-copy\n",
      "  year4['HH Income + Consumption+Assets (USD Const PPP Adj)'] = (year4['HH Income + Consumption+ Assets + Residues'] * (adj_y4 / 100))/ppp_rate\n"
     ]
    }
   ],
   "source": [
    "year4['HH Income + Consumption+Assets (USD Const PPP Adj)'] = (year4['HH Income + Consumption+ Assets + Residues'] * (adj_y4 / 100))/ppp_rate"
   ]
  },
  {
   "cell_type": "code",
   "execution_count": 211,
   "id": "67ffb8ff-8215-463b-a3d8-c949573238e6",
   "metadata": {},
   "outputs": [
    {
     "data": {
      "text/plain": [
       "mean      3038.742058\n",
       "median    2528.769455\n",
       "Name: HH Income + Consumption+Assets (USD Const PPP Adj), dtype: float64"
      ]
     },
     "execution_count": 211,
     "metadata": {},
     "output_type": "execute_result"
    }
   ],
   "source": [
    "year4['HH Income + Consumption+Assets (USD Const PPP Adj)'].agg(['mean','median'])"
   ]
  },
  {
   "cell_type": "markdown",
   "id": "4a769057-e34b-463f-b2a6-7241118adec2",
   "metadata": {},
   "source": [
    "### Adult equiv (Constant USS)"
   ]
  },
  {
   "cell_type": "code",
   "execution_count": 212,
   "id": "ad0cee12-9def-4c54-b6e1-9bb6593b9e59",
   "metadata": {},
   "outputs": [
    {
     "data": {
      "text/plain": [
       "502.9072634641327"
      ]
     },
     "execution_count": 212,
     "metadata": {},
     "output_type": "execute_result"
    }
   ],
   "source": [
    "(year4['HH Income + Consumption+Assets (USD Const)'] / np.sqrt(year4[\"# HH Members\"])).mean()"
   ]
  },
  {
   "cell_type": "code",
   "execution_count": 213,
   "id": "23ce3aab-9f8c-4b42-8726-7d2af946ff6e",
   "metadata": {},
   "outputs": [
    {
     "data": {
      "text/plain": [
       "15      2.449490\n",
       "16      1.414214\n",
       "17      1.732051\n",
       "18      2.000000\n",
       "19      2.449490\n",
       "          ...   \n",
       "1420    1.414214\n",
       "1421    2.828427\n",
       "1422    2.449490\n",
       "1423    3.162278\n",
       "1424    1.732051\n",
       "Name: # HH Members, Length: 1410, dtype: float64"
      ]
     },
     "execution_count": 213,
     "metadata": {},
     "output_type": "execute_result"
    }
   ],
   "source": [
    "np.sqrt(year4[\"# HH Members\"])"
   ]
  },
  {
   "cell_type": "code",
   "execution_count": 214,
   "id": "3a5ebe01-bfaf-48d1-9282-b738d147358c",
   "metadata": {},
   "outputs": [
    {
     "data": {
      "text/plain": [
       "mean      502.907263\n",
       "median    411.756893\n",
       "dtype: float64"
      ]
     },
     "execution_count": 214,
     "metadata": {},
     "output_type": "execute_result"
    }
   ],
   "source": [
    "(year4['HH Income + Consumption+Assets (USD Const)']/np.sqrt(year4['# HH Members'])).agg(['mean','median'])"
   ]
  },
  {
   "cell_type": "code",
   "execution_count": 215,
   "id": "c43360c2-44bd-4803-a1b9-babc50546c97",
   "metadata": {},
   "outputs": [
    {
     "data": {
      "text/plain": [
       "mean      1385.301700\n",
       "median    1134.220094\n",
       "dtype: float64"
      ]
     },
     "execution_count": 215,
     "metadata": {},
     "output_type": "execute_result"
    }
   ],
   "source": [
    "(year4['HH Income + Consumption+Assets (USD Const PPP Adj)']/np.sqrt(year4['# HH Members'])).agg(['mean','median'])"
   ]
  },
  {
   "cell_type": "code",
   "execution_count": null,
   "id": "7b9abbdf-fd3a-4297-a92d-5cdbacdeb3eb",
   "metadata": {},
   "outputs": [],
   "source": []
  },
  {
   "cell_type": "code",
   "execution_count": null,
   "id": "3f89b444-2cc5-497e-84e7-5e3ed545237d",
   "metadata": {},
   "outputs": [],
   "source": []
  },
  {
   "cell_type": "markdown",
   "id": "4a986b8f-336d-41e7-9d25-3b68f7f37774",
   "metadata": {},
   "source": [
    "# Year 5"
   ]
  },
  {
   "cell_type": "code",
   "execution_count": 216,
   "id": "2587acb9-94d1-4630-bcb4-b776ce5d026e",
   "metadata": {},
   "outputs": [],
   "source": [
    "year5 = pd.read_excel(\"Copy of Kiso2017Cohort_60month_EvaluationFileFinal_1%_4%_24_08_2022.xlsx\", sheet_name=\"RTV Month60\", header=2)"
   ]
  },
  {
   "cell_type": "code",
   "execution_count": 225,
   "id": "9c98280e-3810-4210-8cab-110174088589",
   "metadata": {},
   "outputs": [
    {
     "data": {
      "text/plain": [
       "13        124500.0\n",
       "14        113000.0\n",
       "15        340000.0\n",
       "16        221200.0\n",
       "17        331000.0\n",
       "           ...    \n",
       "1228     6549000.0\n",
       "1229     6774000.0\n",
       "1230     3915000.0\n",
       "1231     5190000.0\n",
       "1232    13135500.0\n",
       "Name: HH Income, Length: 1220, dtype: float64"
      ]
     },
     "execution_count": 225,
     "metadata": {},
     "output_type": "execute_result"
    }
   ],
   "source": [
    "year5.iloc[13:1233,:]['HH Income']"
   ]
  },
  {
   "cell_type": "code",
   "execution_count": 227,
   "id": "97508fc3-7405-4e72-846d-29b416f06f2b",
   "metadata": {},
   "outputs": [
    {
     "data": {
      "text/plain": [
       "2833373.9590163934"
      ]
     },
     "execution_count": 227,
     "metadata": {},
     "output_type": "execute_result"
    }
   ],
   "source": [
    "year5.iloc[13:1233,:]['HH Income'].mean()"
   ]
  },
  {
   "cell_type": "code",
   "execution_count": 228,
   "id": "ac84df0a-622a-4cfb-94db-a2c947cc3776",
   "metadata": {},
   "outputs": [],
   "source": [
    "year5 = year5.iloc[13:1233,:]"
   ]
  },
  {
   "cell_type": "code",
   "execution_count": 252,
   "id": "06d508d7-d817-4d97-8729-e4f99e72a320",
   "metadata": {},
   "outputs": [
    {
     "data": {
      "text/plain": [
       "(1220, 4380)"
      ]
     },
     "execution_count": 252,
     "metadata": {},
     "output_type": "execute_result"
    }
   ],
   "source": [
    "year5.shape"
   ]
  },
  {
   "cell_type": "code",
   "execution_count": 233,
   "id": "5d286303-b2ff-4bef-a011-5ca5997dfd72",
   "metadata": {},
   "outputs": [],
   "source": [
    "rate_year5 = 3800\n",
    "adj_y5 = 83.8"
   ]
  },
  {
   "cell_type": "markdown",
   "id": "398c067d-a65c-417c-aabc-bcd989f0f93d",
   "metadata": {},
   "source": [
    "### USD Constant Rate"
   ]
  },
  {
   "cell_type": "code",
   "execution_count": 234,
   "id": "69401695-0d05-4028-a3a3-1838b4dff0c7",
   "metadata": {},
   "outputs": [
    {
     "data": {
      "text/plain": [
       "13        92.731316\n",
       "14        93.062105\n",
       "15        94.826316\n",
       "16        98.178316\n",
       "17       102.213947\n",
       "           ...     \n",
       "1228    3380.006842\n",
       "1229    3419.481053\n",
       "1230    3443.518421\n",
       "1231    3456.860263\n",
       "1232    3493.908684\n",
       "Name: HH Income + Consumption+ Assets + Residues, Length: 1220, dtype: float64"
      ]
     },
     "execution_count": 234,
     "metadata": {},
     "output_type": "execute_result"
    }
   ],
   "source": [
    "(year5['HH Income + Consumption+ Assets + Residues'] * (adj_y5 / 100))/rate_year5"
   ]
  },
  {
   "cell_type": "code",
   "execution_count": 235,
   "id": "2a0f5d81-beaa-4aae-bed5-58005522ed4d",
   "metadata": {},
   "outputs": [],
   "source": [
    "year5['HH Income + Consumption+Assets (USD Const)'] = (year5['HH Income + Consumption+ Assets + Residues'] * (adj_y5 / 100))/rate_year5"
   ]
  },
  {
   "cell_type": "code",
   "execution_count": 236,
   "id": "ac90c631-2424-423b-92a6-859886a26175",
   "metadata": {},
   "outputs": [
    {
     "data": {
      "text/plain": [
       "mean      1094.880700\n",
       "median     900.078158\n",
       "Name: HH Income + Consumption+Assets (USD Const), dtype: float64"
      ]
     },
     "execution_count": 236,
     "metadata": {},
     "output_type": "execute_result"
    }
   ],
   "source": [
    "year5['HH Income + Consumption+Assets (USD Const)'].agg(['mean','median'])"
   ]
  },
  {
   "cell_type": "markdown",
   "id": "2b2495ed-da19-4c8a-a330-26343f9ad279",
   "metadata": {},
   "source": [
    "### PPP Adjusted"
   ]
  },
  {
   "cell_type": "code",
   "execution_count": 237,
   "id": "e1774900-d66c-4599-bbb1-3b5768625e9f",
   "metadata": {},
   "outputs": [
    {
     "data": {
      "text/plain": [
       "3274.453378826463"
      ]
     },
     "execution_count": 237,
     "metadata": {},
     "output_type": "execute_result"
    }
   ],
   "source": [
    "((year5['HH Income + Consumption+ Assets + Residues'] * (adj_y5 / 100))/ppp_rate).mean()"
   ]
  },
  {
   "cell_type": "code",
   "execution_count": 238,
   "id": "6474e0aa-1a56-48fc-bf1a-10e9ff8808b6",
   "metadata": {},
   "outputs": [],
   "source": [
    "year5['HH Income + Consumption+Assets (USD Const PPP Adj)'] = (year5['HH Income + Consumption+ Assets + Residues'] * (adj_y5 / 100))/ppp_rate"
   ]
  },
  {
   "cell_type": "code",
   "execution_count": 239,
   "id": "d31511c2-a32e-45be-ad66-99508caf07c1",
   "metadata": {},
   "outputs": [
    {
     "data": {
      "text/plain": [
       "mean      3274.453379\n",
       "median    2691.858543\n",
       "Name: HH Income + Consumption+Assets (USD Const PPP Adj), dtype: float64"
      ]
     },
     "execution_count": 239,
     "metadata": {},
     "output_type": "execute_result"
    }
   ],
   "source": [
    "year5['HH Income + Consumption+Assets (USD Const PPP Adj)'].agg(['mean','median'])"
   ]
  },
  {
   "cell_type": "markdown",
   "id": "02a64c81-e21a-4aac-b691-8c626e0eff96",
   "metadata": {},
   "source": [
    "### Adult equiv (Constant USS)"
   ]
  },
  {
   "cell_type": "code",
   "execution_count": 240,
   "id": "e4512d91-42a8-43a4-8bcf-d4e5aa0d1d5e",
   "metadata": {},
   "outputs": [
    {
     "data": {
      "text/plain": [
       "509.01449017838604"
      ]
     },
     "execution_count": 240,
     "metadata": {},
     "output_type": "execute_result"
    }
   ],
   "source": [
    "(year5['HH Income + Consumption+Assets (USD Const)'] / np.sqrt(year5[\"# HH Members\"])).mean()"
   ]
  },
  {
   "cell_type": "code",
   "execution_count": 241,
   "id": "d1feb0a9-701a-475b-a225-aa55d923fdbd",
   "metadata": {},
   "outputs": [
    {
     "data": {
      "text/plain": [
       "509.01449017838604"
      ]
     },
     "execution_count": 241,
     "metadata": {},
     "output_type": "execute_result"
    }
   ],
   "source": [
    "(year5['HH Income + Consumption+Assets (USD Const)'] / np.sqrt(year5[\"hh_size\"])).mean()"
   ]
  },
  {
   "cell_type": "code",
   "execution_count": 243,
   "id": "33dffd49-2772-4515-b22a-6a066470c4a2",
   "metadata": {},
   "outputs": [
    {
     "data": {
      "text/plain": [
       "13      1.414214\n",
       "14      2.000000\n",
       "15      2.000000\n",
       "16      1.000000\n",
       "17      1.000000\n",
       "          ...   \n",
       "1228    2.000000\n",
       "1229    3.162278\n",
       "1230    3.316625\n",
       "1231    3.000000\n",
       "1232    2.236068\n",
       "Name: # HH Members, Length: 1220, dtype: float64"
      ]
     },
     "execution_count": 243,
     "metadata": {},
     "output_type": "execute_result"
    }
   ],
   "source": [
    "np.sqrt(year5[\"# HH Members\"])"
   ]
  },
  {
   "cell_type": "code",
   "execution_count": 244,
   "id": "0dff2cf1-6d16-47e5-9ea2-c1db243baf66",
   "metadata": {},
   "outputs": [
    {
     "data": {
      "text/plain": [
       "mean      509.014490\n",
       "median    420.453819\n",
       "dtype: float64"
      ]
     },
     "execution_count": 244,
     "metadata": {},
     "output_type": "execute_result"
    }
   ],
   "source": [
    "(year5['HH Income + Consumption+Assets (USD Const)']/np.sqrt(year5['# HH Members'])).agg(['mean','median'])"
   ]
  },
  {
   "cell_type": "code",
   "execution_count": 245,
   "id": "33c031c7-8998-4f3b-b25c-9dec13c92370",
   "metadata": {},
   "outputs": [
    {
     "data": {
      "text/plain": [
       "mean      1522.306693\n",
       "median    1257.448806\n",
       "dtype: float64"
      ]
     },
     "execution_count": 245,
     "metadata": {},
     "output_type": "execute_result"
    }
   ],
   "source": [
    "(year5['HH Income + Consumption+Assets (USD Const PPP Adj)']/np.sqrt(year5['# HH Members'])).agg(['mean','median'])"
   ]
  },
  {
   "cell_type": "code",
   "execution_count": null,
   "id": "5ae5571c-9dec-4317-8480-e26d59373a8f",
   "metadata": {},
   "outputs": [],
   "source": []
  }
 ],
 "metadata": {
  "kernelspec": {
   "display_name": "Python 3 (ipykernel)",
   "language": "python",
   "name": "python3"
  },
  "language_info": {
   "codemirror_mode": {
    "name": "ipython",
    "version": 3
   },
   "file_extension": ".py",
   "mimetype": "text/x-python",
   "name": "python",
   "nbconvert_exporter": "python",
   "pygments_lexer": "ipython3",
   "version": "3.10.9"
  }
 },
 "nbformat": 4,
 "nbformat_minor": 5
}
