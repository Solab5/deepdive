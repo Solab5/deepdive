{
 "cells": [
  {
   "cell_type": "code",
   "execution_count": 23,
   "id": "9d52116b-f6c0-4b3d-92b5-8a1ce2304c97",
   "metadata": {},
   "outputs": [],
   "source": [
    "import pandas as pd\n",
    "import numpy as np"
   ]
  },
  {
   "cell_type": "markdown",
   "id": "59582fcb-341a-4d13-9bb7-0ff37e8dcc95",
   "metadata": {
    "jp-MarkdownHeadingCollapsed": true
   },
   "source": [
    "## 2020 year2"
   ]
  },
  {
   "cell_type": "markdown",
   "id": "4bdc6b4c-dcbd-403a-9487-bbdddbb9867d",
   "metadata": {
    "jp-MarkdownHeadingCollapsed": true
   },
   "source": [
    "## 2020 year3"
   ]
  },
  {
   "cell_type": "code",
   "execution_count": 5,
   "id": "17f742fb-77e6-47da-b041-649e3144bc71",
   "metadata": {},
   "outputs": [
    {
     "name": "stderr",
     "output_type": "stream",
     "text": [
      "/Users/rtv-lpt-127/mambaforge/lib/python3.10/site-packages/openpyxl/worksheet/_reader.py:223: UserWarning: Cell D136 is marked as a date but the serial value 2308202234 is outside the limits for dates. The cell will be treated as an error.\n",
      "  warn(msg)\n",
      "/Users/rtv-lpt-127/mambaforge/lib/python3.10/site-packages/openpyxl/worksheet/_reader.py:223: UserWarning: Cell D155 is marked as a date but the serial value 2308202234 is outside the limits for dates. The cell will be treated as an error.\n",
      "  warn(msg)\n",
      "/Users/rtv-lpt-127/mambaforge/lib/python3.10/site-packages/openpyxl/worksheet/_reader.py:223: UserWarning: Cell D296 is marked as a date but the serial value 2308202234 is outside the limits for dates. The cell will be treated as an error.\n",
      "  warn(msg)\n",
      "/Users/rtv-lpt-127/mambaforge/lib/python3.10/site-packages/openpyxl/worksheet/_reader.py:223: UserWarning: Cell D537 is marked as a date but the serial value 2308202234 is outside the limits for dates. The cell will be treated as an error.\n",
      "  warn(msg)\n",
      "/Users/rtv-lpt-127/mambaforge/lib/python3.10/site-packages/openpyxl/worksheet/_reader.py:223: UserWarning: Cell D848 is marked as a date but the serial value 2308202234 is outside the limits for dates. The cell will be treated as an error.\n",
      "  warn(msg)\n",
      "/Users/rtv-lpt-127/mambaforge/lib/python3.10/site-packages/openpyxl/worksheet/_reader.py:223: UserWarning: Cell D939 is marked as a date but the serial value 2308202234 is outside the limits for dates. The cell will be treated as an error.\n",
      "  warn(msg)\n",
      "/Users/rtv-lpt-127/mambaforge/lib/python3.10/site-packages/openpyxl/worksheet/_reader.py:223: UserWarning: Cell D1072 is marked as a date but the serial value 2308202234 is outside the limits for dates. The cell will be treated as an error.\n",
      "  warn(msg)\n"
     ]
    }
   ],
   "source": [
    "year3 = pd.read_excel('All2020CohortsMonth36.xlsx', sheet_name='ALL2020CohortsMonth36_OutlierMa',header=5)"
   ]
  },
  {
   "cell_type": "code",
   "execution_count": 6,
   "id": "3b1bee06-5f23-483d-bc95-4ff23431a13c",
   "metadata": {},
   "outputs": [
    {
     "data": {
      "text/html": [
       "<div>\n",
       "<style scoped>\n",
       "    .dataframe tbody tr th:only-of-type {\n",
       "        vertical-align: middle;\n",
       "    }\n",
       "\n",
       "    .dataframe tbody tr th {\n",
       "        vertical-align: top;\n",
       "    }\n",
       "\n",
       "    .dataframe thead th {\n",
       "        text-align: right;\n",
       "    }\n",
       "</style>\n",
       "<table border=\"1\" class=\"dataframe\">\n",
       "  <thead>\n",
       "    <tr style=\"text-align: right;\">\n",
       "      <th></th>\n",
       "      <th>SubmissionDate</th>\n",
       "      <th>starttime</th>\n",
       "      <th>endtime</th>\n",
       "      <th>version</th>\n",
       "      <th>duration</th>\n",
       "      <th>survey_start</th>\n",
       "      <th>intro_start</th>\n",
       "      <th>text_audit</th>\n",
       "      <th>district</th>\n",
       "      <th>Surveyor_Name</th>\n",
       "      <th>...</th>\n",
       "      <th>Livestock Asset Value (USD_PPP)</th>\n",
       "      <th>HH Income (USD_PPP)</th>\n",
       "      <th>Consumption + Residues (USD_PPP)</th>\n",
       "      <th>HH Income + Consumption + Residues (USD_PPP)</th>\n",
       "      <th>HH Income + Consumption+ Assets + Residues (USD_PPP)</th>\n",
       "      <th>Assets (USD_PPP)</th>\n",
       "      <th>HH Income/Day (USD_PPP)</th>\n",
       "      <th>Consumption/Day (USD_PPP)</th>\n",
       "      <th>HH Income + Consumption + Residues/Day (USD_PPP)</th>\n",
       "      <th>HH Income + Consumption + Assets + Residues / Day (USD_PPP)</th>\n",
       "    </tr>\n",
       "  </thead>\n",
       "  <tbody>\n",
       "    <tr>\n",
       "      <th>0</th>\n",
       "      <td>2023-08-21 22:53:41</td>\n",
       "      <td>2023-08-21 09:15:06</td>\n",
       "      <td>2023-08-21 12:18:46</td>\n",
       "      <td>2.308202e+09</td>\n",
       "      <td>1917</td>\n",
       "      <td>8.0</td>\n",
       "      <td>8.0</td>\n",
       "      <td>https://rtvuganda.surveycto.com/view/submissio...</td>\n",
       "      <td>2</td>\n",
       "      <td>27</td>\n",
       "      <td>...</td>\n",
       "      <td>0.000000</td>\n",
       "      <td>147.911708</td>\n",
       "      <td>310.424143</td>\n",
       "      <td>458.335852</td>\n",
       "      <td>458.335852</td>\n",
       "      <td>0.000000</td>\n",
       "      <td>0.405238</td>\n",
       "      <td>0.850477</td>\n",
       "      <td>1.255715</td>\n",
       "      <td>1.255715</td>\n",
       "    </tr>\n",
       "    <tr>\n",
       "      <th>1</th>\n",
       "      <td>2023-08-19 21:57:31</td>\n",
       "      <td>2023-08-19 12:38:09</td>\n",
       "      <td>2023-08-19 14:55:13</td>\n",
       "      <td>2.308161e+09</td>\n",
       "      <td>1720</td>\n",
       "      <td>7.0</td>\n",
       "      <td>7.0</td>\n",
       "      <td>https://rtvuganda.surveycto.com/view/submissio...</td>\n",
       "      <td>2</td>\n",
       "      <td>18</td>\n",
       "      <td>...</td>\n",
       "      <td>0.000000</td>\n",
       "      <td>334.864490</td>\n",
       "      <td>128.549875</td>\n",
       "      <td>463.414365</td>\n",
       "      <td>463.414365</td>\n",
       "      <td>0.000000</td>\n",
       "      <td>0.917437</td>\n",
       "      <td>0.352191</td>\n",
       "      <td>1.269628</td>\n",
       "      <td>1.269628</td>\n",
       "    </tr>\n",
       "    <tr>\n",
       "      <th>2</th>\n",
       "      <td>2023-08-22 01:50:41</td>\n",
       "      <td>2023-08-21 13:35:32</td>\n",
       "      <td>2023-08-22 01:17:58</td>\n",
       "      <td>2.308202e+09</td>\n",
       "      <td>1924</td>\n",
       "      <td>3.0</td>\n",
       "      <td>3.0</td>\n",
       "      <td>https://rtvuganda.surveycto.com/view/submissio...</td>\n",
       "      <td>2</td>\n",
       "      <td>40</td>\n",
       "      <td>...</td>\n",
       "      <td>0.000000</td>\n",
       "      <td>220.915341</td>\n",
       "      <td>253.925680</td>\n",
       "      <td>474.841021</td>\n",
       "      <td>474.841021</td>\n",
       "      <td>0.000000</td>\n",
       "      <td>0.605248</td>\n",
       "      <td>0.695687</td>\n",
       "      <td>1.300934</td>\n",
       "      <td>1.300934</td>\n",
       "    </tr>\n",
       "    <tr>\n",
       "      <th>3</th>\n",
       "      <td>2023-08-19 21:48:51</td>\n",
       "      <td>2023-08-19 08:35:20</td>\n",
       "      <td>2023-08-19 17:19:21</td>\n",
       "      <td>2.308161e+09</td>\n",
       "      <td>1846</td>\n",
       "      <td>4.0</td>\n",
       "      <td>4.0</td>\n",
       "      <td>https://rtvuganda.surveycto.com/view/submissio...</td>\n",
       "      <td>2</td>\n",
       "      <td>27</td>\n",
       "      <td>...</td>\n",
       "      <td>69.829562</td>\n",
       "      <td>127.089803</td>\n",
       "      <td>279.064322</td>\n",
       "      <td>406.154125</td>\n",
       "      <td>475.983687</td>\n",
       "      <td>69.829562</td>\n",
       "      <td>0.348191</td>\n",
       "      <td>0.764560</td>\n",
       "      <td>1.112751</td>\n",
       "      <td>1.304065</td>\n",
       "    </tr>\n",
       "    <tr>\n",
       "      <th>4</th>\n",
       "      <td>2023-08-22 01:50:57</td>\n",
       "      <td>2023-08-21 13:53:31</td>\n",
       "      <td>2023-08-21 21:53:06</td>\n",
       "      <td>2.308202e+09</td>\n",
       "      <td>2386</td>\n",
       "      <td>3.0</td>\n",
       "      <td>3.0</td>\n",
       "      <td>https://rtvuganda.surveycto.com/view/submissio...</td>\n",
       "      <td>2</td>\n",
       "      <td>40</td>\n",
       "      <td>...</td>\n",
       "      <td>0.000000</td>\n",
       "      <td>249.164573</td>\n",
       "      <td>230.120147</td>\n",
       "      <td>479.284720</td>\n",
       "      <td>479.284720</td>\n",
       "      <td>0.000000</td>\n",
       "      <td>0.682643</td>\n",
       "      <td>0.630466</td>\n",
       "      <td>1.313109</td>\n",
       "      <td>1.313109</td>\n",
       "    </tr>\n",
       "  </tbody>\n",
       "</table>\n",
       "<p>5 rows × 5619 columns</p>\n",
       "</div>"
      ],
      "text/plain": [
       "        SubmissionDate            starttime              endtime  \\\n",
       "0  2023-08-21 22:53:41  2023-08-21 09:15:06  2023-08-21 12:18:46   \n",
       "1  2023-08-19 21:57:31  2023-08-19 12:38:09  2023-08-19 14:55:13   \n",
       "2  2023-08-22 01:50:41  2023-08-21 13:35:32  2023-08-22 01:17:58   \n",
       "3  2023-08-19 21:48:51  2023-08-19 08:35:20  2023-08-19 17:19:21   \n",
       "4  2023-08-22 01:50:57  2023-08-21 13:53:31  2023-08-21 21:53:06   \n",
       "\n",
       "        version  duration  survey_start  intro_start  \\\n",
       "0  2.308202e+09      1917           8.0          8.0   \n",
       "1  2.308161e+09      1720           7.0          7.0   \n",
       "2  2.308202e+09      1924           3.0          3.0   \n",
       "3  2.308161e+09      1846           4.0          4.0   \n",
       "4  2.308202e+09      2386           3.0          3.0   \n",
       "\n",
       "                                          text_audit  district  Surveyor_Name  \\\n",
       "0  https://rtvuganda.surveycto.com/view/submissio...         2             27   \n",
       "1  https://rtvuganda.surveycto.com/view/submissio...         2             18   \n",
       "2  https://rtvuganda.surveycto.com/view/submissio...         2             40   \n",
       "3  https://rtvuganda.surveycto.com/view/submissio...         2             27   \n",
       "4  https://rtvuganda.surveycto.com/view/submissio...         2             40   \n",
       "\n",
       "   ... Livestock Asset Value (USD_PPP)  HH Income (USD_PPP)  \\\n",
       "0  ...                        0.000000           147.911708   \n",
       "1  ...                        0.000000           334.864490   \n",
       "2  ...                        0.000000           220.915341   \n",
       "3  ...                       69.829562           127.089803   \n",
       "4  ...                        0.000000           249.164573   \n",
       "\n",
       "   Consumption + Residues (USD_PPP)  \\\n",
       "0                        310.424143   \n",
       "1                        128.549875   \n",
       "2                        253.925680   \n",
       "3                        279.064322   \n",
       "4                        230.120147   \n",
       "\n",
       "  HH Income + Consumption + Residues (USD_PPP)  \\\n",
       "0                                   458.335852   \n",
       "1                                   463.414365   \n",
       "2                                   474.841021   \n",
       "3                                   406.154125   \n",
       "4                                   479.284720   \n",
       "\n",
       "  HH Income + Consumption+ Assets + Residues (USD_PPP) Assets (USD_PPP)  \\\n",
       "0                                         458.335852           0.000000   \n",
       "1                                         463.414365           0.000000   \n",
       "2                                         474.841021           0.000000   \n",
       "3                                         475.983687          69.829562   \n",
       "4                                         479.284720           0.000000   \n",
       "\n",
       "  HH Income/Day (USD_PPP) Consumption/Day (USD_PPP)  \\\n",
       "0                0.405238                  0.850477   \n",
       "1                0.917437                  0.352191   \n",
       "2                0.605248                  0.695687   \n",
       "3                0.348191                  0.764560   \n",
       "4                0.682643                  0.630466   \n",
       "\n",
       "  HH Income + Consumption + Residues/Day (USD_PPP)  \\\n",
       "0                                         1.255715   \n",
       "1                                         1.269628   \n",
       "2                                         1.300934   \n",
       "3                                         1.112751   \n",
       "4                                         1.313109   \n",
       "\n",
       "  HH Income + Consumption + Assets + Residues / Day (USD_PPP)  \n",
       "0                                           1.255715           \n",
       "1                                           1.269628           \n",
       "2                                           1.300934           \n",
       "3                                           1.304065           \n",
       "4                                           1.313109           \n",
       "\n",
       "[5 rows x 5619 columns]"
      ]
     },
     "execution_count": 6,
     "metadata": {},
     "output_type": "execute_result"
    }
   ],
   "source": [
    "year3.head()"
   ]
  },
  {
   "cell_type": "code",
   "execution_count": 7,
   "id": "79411c63-9486-42cf-9b1e-e2dc567e54cb",
   "metadata": {},
   "outputs": [],
   "source": [
    "def gender_age_processing(df):\n",
    "    sex_mapping = {1: 'Male', 2: 'Female'}\n",
    "    df['Gender'] = df['hhh_sex'].replace(sex_mapping)\n",
    "    df['Household_Head_Gender'] = df['Gender']\n",
    "    df['Household_Head_Gender'] = df.apply(\n",
    "        lambda row: 'Youth Headed' if row['hhh_age'] <= 30 else str(row['Household_Head_Gender']) + ' Headed', axis=1\n",
    "    )\n",
    "    return df"
   ]
  },
  {
   "cell_type": "code",
   "execution_count": 8,
   "id": "35670681-6c17-432e-90c1-2e778c878785",
   "metadata": {},
   "outputs": [],
   "source": [
    "rate = 3700\n",
    "ppp_rate = 1270.608\n",
    "adj = 80.66"
   ]
  },
  {
   "cell_type": "code",
   "execution_count": 11,
   "id": "9e98f8ea-ba3e-416a-9fe7-eb7c4232c6e6",
   "metadata": {},
   "outputs": [
    {
     "data": {
      "text/plain": [
       "3.1894907340390586"
      ]
     },
     "execution_count": 11,
     "metadata": {},
     "output_type": "execute_result"
    }
   ],
   "source": [
    "(year3['HH Income + Consumption + Residues']/rate/365).mean()"
   ]
  },
  {
   "cell_type": "code",
   "execution_count": null,
   "id": "3baf8750-8ce6-445a-afa9-9cf7de18652b",
   "metadata": {},
   "outputs": [],
   "source": []
  },
  {
   "cell_type": "code",
   "execution_count": 16,
   "id": "f6cc2c1b-4f8d-4a1d-b7b8-c45e99da298e",
   "metadata": {},
   "outputs": [],
   "source": [
    "year3['HH Income + Consumption + Residues/Day'] = year3['HH Income + Consumption + Residues']/rate/365"
   ]
  },
  {
   "cell_type": "code",
   "execution_count": 17,
   "id": "6bfe4f77-89b2-48db-8250-500d801d4081",
   "metadata": {},
   "outputs": [
    {
     "data": {
      "text/plain": [
       "0       0.534617\n",
       "1       0.540541\n",
       "2       0.553869\n",
       "3       0.473750\n",
       "4       0.559052\n",
       "          ...   \n",
       "3651    6.065902\n",
       "3652    3.902999\n",
       "3653    6.127730\n",
       "3654    5.490559\n",
       "3655    6.544243\n",
       "Name: HH Income + Consumption + Residues/Day, Length: 3656, dtype: float64"
      ]
     },
     "execution_count": 17,
     "metadata": {},
     "output_type": "execute_result"
    }
   ],
   "source": [
    "year3['HH Income + Consumption + Residues/Day'] "
   ]
  },
  {
   "cell_type": "code",
   "execution_count": 18,
   "id": "9be424c7-c18c-4914-b863-57f3f9b0c3b6",
   "metadata": {},
   "outputs": [],
   "source": [
    "year3['HH Income + Consumption + Residues (USD Const) / day'] = year3['HH Income + Consumption + Residues/Day'] * (adj /100)"
   ]
  },
  {
   "cell_type": "code",
   "execution_count": 19,
   "id": "90fd7532-f201-4a43-ba50-d140a1522d87",
   "metadata": {},
   "outputs": [
    {
     "data": {
      "text/plain": [
       "0        1.255715\n",
       "1        1.269628\n",
       "2        1.300934\n",
       "3        1.112751\n",
       "4        1.313109\n",
       "          ...    \n",
       "3651    14.247666\n",
       "3652     9.167413\n",
       "3653    14.392890\n",
       "3654    12.896294\n",
       "3655    15.371200\n",
       "Name: HH Income + Consumption + Residues, Length: 3656, dtype: float64"
      ]
     },
     "execution_count": 19,
     "metadata": {},
     "output_type": "execute_result"
    }
   ],
   "source": [
    "(year3['HH Income + Consumption + Residues']/ppp_rate/365) * (adj /100)"
   ]
  },
  {
   "cell_type": "code",
   "execution_count": 20,
   "id": "ddd71bae-4597-4e21-8150-e16bb171505d",
   "metadata": {},
   "outputs": [],
   "source": [
    "year3['HH Income + Consumption + Residues ((USD Const PPP Adj)) / day'] = (year3['HH Income + Consumption + Residues']/ppp_rate/365) * (adj /100)"
   ]
  },
  {
   "cell_type": "code",
   "execution_count": 21,
   "id": "d159cbce-10c8-4004-9057-86e8b45f70a6",
   "metadata": {},
   "outputs": [
    {
     "data": {
      "text/html": [
       "<div>\n",
       "<style scoped>\n",
       "    .dataframe tbody tr th:only-of-type {\n",
       "        vertical-align: middle;\n",
       "    }\n",
       "\n",
       "    .dataframe tbody tr th {\n",
       "        vertical-align: top;\n",
       "    }\n",
       "\n",
       "    .dataframe thead th {\n",
       "        text-align: right;\n",
       "    }\n",
       "</style>\n",
       "<table border=\"1\" class=\"dataframe\">\n",
       "  <thead>\n",
       "    <tr style=\"text-align: right;\">\n",
       "      <th></th>\n",
       "      <th>HH Income + Consumption + Residues (USD Const) / day</th>\n",
       "      <th>HH Income + Consumption + Residues ((USD Const PPP Adj)) / day</th>\n",
       "    </tr>\n",
       "  </thead>\n",
       "  <tbody>\n",
       "    <tr>\n",
       "      <th>0</th>\n",
       "      <td>0.431222</td>\n",
       "      <td>1.255715</td>\n",
       "    </tr>\n",
       "    <tr>\n",
       "      <th>1</th>\n",
       "      <td>0.436000</td>\n",
       "      <td>1.269628</td>\n",
       "    </tr>\n",
       "    <tr>\n",
       "      <th>2</th>\n",
       "      <td>0.446751</td>\n",
       "      <td>1.300934</td>\n",
       "    </tr>\n",
       "    <tr>\n",
       "      <th>3</th>\n",
       "      <td>0.382127</td>\n",
       "      <td>1.112751</td>\n",
       "    </tr>\n",
       "    <tr>\n",
       "      <th>4</th>\n",
       "      <td>0.450932</td>\n",
       "      <td>1.313109</td>\n",
       "    </tr>\n",
       "    <tr>\n",
       "      <th>...</th>\n",
       "      <td>...</td>\n",
       "      <td>...</td>\n",
       "    </tr>\n",
       "    <tr>\n",
       "      <th>3651</th>\n",
       "      <td>4.892756</td>\n",
       "      <td>14.247666</td>\n",
       "    </tr>\n",
       "    <tr>\n",
       "      <th>3652</th>\n",
       "      <td>3.148159</td>\n",
       "      <td>9.167413</td>\n",
       "    </tr>\n",
       "    <tr>\n",
       "      <th>3653</th>\n",
       "      <td>4.942627</td>\n",
       "      <td>14.392890</td>\n",
       "    </tr>\n",
       "    <tr>\n",
       "      <th>3654</th>\n",
       "      <td>4.428685</td>\n",
       "      <td>12.896294</td>\n",
       "    </tr>\n",
       "    <tr>\n",
       "      <th>3655</th>\n",
       "      <td>5.278586</td>\n",
       "      <td>15.371200</td>\n",
       "    </tr>\n",
       "  </tbody>\n",
       "</table>\n",
       "<p>3656 rows × 2 columns</p>\n",
       "</div>"
      ],
      "text/plain": [
       "      HH Income + Consumption + Residues (USD Const) / day  \\\n",
       "0                                              0.431222      \n",
       "1                                              0.436000      \n",
       "2                                              0.446751      \n",
       "3                                              0.382127      \n",
       "4                                              0.450932      \n",
       "...                                                 ...      \n",
       "3651                                           4.892756      \n",
       "3652                                           3.148159      \n",
       "3653                                           4.942627      \n",
       "3654                                           4.428685      \n",
       "3655                                           5.278586      \n",
       "\n",
       "      HH Income + Consumption + Residues ((USD Const PPP Adj)) / day  \n",
       "0                                              1.255715               \n",
       "1                                              1.269628               \n",
       "2                                              1.300934               \n",
       "3                                              1.112751               \n",
       "4                                              1.313109               \n",
       "...                                                 ...               \n",
       "3651                                          14.247666               \n",
       "3652                                           9.167413               \n",
       "3653                                          14.392890               \n",
       "3654                                          12.896294               \n",
       "3655                                          15.371200               \n",
       "\n",
       "[3656 rows x 2 columns]"
      ]
     },
     "execution_count": 21,
     "metadata": {},
     "output_type": "execute_result"
    }
   ],
   "source": [
    "year3[['HH Income + Consumption + Residues (USD Const) / day','HH Income + Consumption + Residues ((USD Const PPP Adj)) / day']]"
   ]
  },
  {
   "cell_type": "code",
   "execution_count": 24,
   "id": "7536d8dd-6441-4c2c-8583-7dcf267a38a2",
   "metadata": {},
   "outputs": [],
   "source": [
    "year3['HH Income + Consumption + Residues/Day (USD_con_adult_equiv_adj)'] = year3['HH Income + Consumption + Residues (USD Const) / day']/np.sqrt(year3['# HH Members'])"
   ]
  },
  {
   "cell_type": "code",
   "execution_count": 25,
   "id": "5abd2388-31bc-4105-aaaf-5071359df330",
   "metadata": {},
   "outputs": [],
   "source": [
    "year3['HH Income + Consumption + Residues/Day (USD_adult_equiv_adj)'] = year3['HH Income + Consumption + Residues ((USD Const PPP Adj)) / day']/np.sqrt(year3['# HH Members'])"
   ]
  },
  {
   "cell_type": "code",
   "execution_count": 26,
   "id": "7c63b927-916d-41b1-937c-bb415fad6e4a",
   "metadata": {},
   "outputs": [
    {
     "data": {
      "text/html": [
       "<div>\n",
       "<style scoped>\n",
       "    .dataframe tbody tr th:only-of-type {\n",
       "        vertical-align: middle;\n",
       "    }\n",
       "\n",
       "    .dataframe tbody tr th {\n",
       "        vertical-align: top;\n",
       "    }\n",
       "\n",
       "    .dataframe thead th {\n",
       "        text-align: right;\n",
       "    }\n",
       "</style>\n",
       "<table border=\"1\" class=\"dataframe\">\n",
       "  <thead>\n",
       "    <tr style=\"text-align: right;\">\n",
       "      <th></th>\n",
       "      <th>HH Income + Consumption + Residues/Day (USD_con_adult_equiv_adj)</th>\n",
       "      <th>HH Income + Consumption + Residues/Day (USD_adult_equiv_adj)</th>\n",
       "    </tr>\n",
       "  </thead>\n",
       "  <tbody>\n",
       "    <tr>\n",
       "      <th>0</th>\n",
       "      <td>0.215611</td>\n",
       "      <td>0.627857</td>\n",
       "    </tr>\n",
       "    <tr>\n",
       "      <th>1</th>\n",
       "      <td>0.308299</td>\n",
       "      <td>0.897763</td>\n",
       "    </tr>\n",
       "    <tr>\n",
       "      <th>2</th>\n",
       "      <td>0.148917</td>\n",
       "      <td>0.433645</td>\n",
       "    </tr>\n",
       "    <tr>\n",
       "      <th>3</th>\n",
       "      <td>0.156003</td>\n",
       "      <td>0.454279</td>\n",
       "    </tr>\n",
       "    <tr>\n",
       "      <th>4</th>\n",
       "      <td>0.225466</td>\n",
       "      <td>0.656554</td>\n",
       "    </tr>\n",
       "    <tr>\n",
       "      <th>...</th>\n",
       "      <td>...</td>\n",
       "      <td>...</td>\n",
       "    </tr>\n",
       "    <tr>\n",
       "      <th>3651</th>\n",
       "      <td>1.412417</td>\n",
       "      <td>4.112947</td>\n",
       "    </tr>\n",
       "    <tr>\n",
       "      <th>3652</th>\n",
       "      <td>1.189892</td>\n",
       "      <td>3.464956</td>\n",
       "    </tr>\n",
       "    <tr>\n",
       "      <th>3653</th>\n",
       "      <td>1.747483</td>\n",
       "      <td>5.088655</td>\n",
       "    </tr>\n",
       "    <tr>\n",
       "      <th>3654</th>\n",
       "      <td>3.131553</td>\n",
       "      <td>9.119057</td>\n",
       "    </tr>\n",
       "    <tr>\n",
       "      <th>3655</th>\n",
       "      <td>1.995118</td>\n",
       "      <td>5.809767</td>\n",
       "    </tr>\n",
       "  </tbody>\n",
       "</table>\n",
       "<p>3656 rows × 2 columns</p>\n",
       "</div>"
      ],
      "text/plain": [
       "      HH Income + Consumption + Residues/Day (USD_con_adult_equiv_adj)  \\\n",
       "0                                              0.215611                  \n",
       "1                                              0.308299                  \n",
       "2                                              0.148917                  \n",
       "3                                              0.156003                  \n",
       "4                                              0.225466                  \n",
       "...                                                 ...                  \n",
       "3651                                           1.412417                  \n",
       "3652                                           1.189892                  \n",
       "3653                                           1.747483                  \n",
       "3654                                           3.131553                  \n",
       "3655                                           1.995118                  \n",
       "\n",
       "      HH Income + Consumption + Residues/Day (USD_adult_equiv_adj)  \n",
       "0                                              0.627857             \n",
       "1                                              0.897763             \n",
       "2                                              0.433645             \n",
       "3                                              0.454279             \n",
       "4                                              0.656554             \n",
       "...                                                 ...             \n",
       "3651                                           4.112947             \n",
       "3652                                           3.464956             \n",
       "3653                                           5.088655             \n",
       "3654                                           9.119057             \n",
       "3655                                           5.809767             \n",
       "\n",
       "[3656 rows x 2 columns]"
      ]
     },
     "execution_count": 26,
     "metadata": {},
     "output_type": "execute_result"
    }
   ],
   "source": [
    "year3[['HH Income + Consumption + Residues/Day (USD_con_adult_equiv_adj)','HH Income + Consumption + Residues/Day (USD_adult_equiv_adj)']]"
   ]
  },
  {
   "cell_type": "code",
   "execution_count": 27,
   "id": "5002e7cb-4a6b-495e-b1df-7a54caae32e5",
   "metadata": {},
   "outputs": [
    {
     "data": {
      "text/html": [
       "<div>\n",
       "<style scoped>\n",
       "    .dataframe tbody tr th:only-of-type {\n",
       "        vertical-align: middle;\n",
       "    }\n",
       "\n",
       "    .dataframe tbody tr th {\n",
       "        vertical-align: top;\n",
       "    }\n",
       "\n",
       "    .dataframe thead tr th {\n",
       "        text-align: left;\n",
       "    }\n",
       "\n",
       "    .dataframe thead tr:last-of-type th {\n",
       "        text-align: right;\n",
       "    }\n",
       "</style>\n",
       "<table border=\"1\" class=\"dataframe\">\n",
       "  <thead>\n",
       "    <tr>\n",
       "      <th></th>\n",
       "      <th colspan=\"2\" halign=\"left\">HH Income + Consumption + Residues/Day (USD_con_adult_equiv_adj)</th>\n",
       "      <th colspan=\"2\" halign=\"left\">HH Income + Consumption + Residues/Day (USD_adult_equiv_adj)</th>\n",
       "    </tr>\n",
       "    <tr>\n",
       "      <th></th>\n",
       "      <th>median</th>\n",
       "      <th>mean</th>\n",
       "      <th>median</th>\n",
       "      <th>mean</th>\n",
       "    </tr>\n",
       "    <tr>\n",
       "      <th>Quartile</th>\n",
       "      <th></th>\n",
       "      <th></th>\n",
       "      <th></th>\n",
       "      <th></th>\n",
       "    </tr>\n",
       "  </thead>\n",
       "  <tbody>\n",
       "    <tr>\n",
       "      <th>Group 1</th>\n",
       "      <td>1.046813</td>\n",
       "      <td>1.206810</td>\n",
       "      <td>3.048311</td>\n",
       "      <td>3.514220</td>\n",
       "    </tr>\n",
       "    <tr>\n",
       "      <th>Group 2</th>\n",
       "      <td>1.070173</td>\n",
       "      <td>1.247624</td>\n",
       "      <td>3.116336</td>\n",
       "      <td>3.633071</td>\n",
       "    </tr>\n",
       "    <tr>\n",
       "      <th>Group 3</th>\n",
       "      <td>1.045205</td>\n",
       "      <td>1.236993</td>\n",
       "      <td>3.043630</td>\n",
       "      <td>3.602113</td>\n",
       "    </tr>\n",
       "    <tr>\n",
       "      <th>Group 4</th>\n",
       "      <td>1.109589</td>\n",
       "      <td>1.282863</td>\n",
       "      <td>3.231113</td>\n",
       "      <td>3.735685</td>\n",
       "    </tr>\n",
       "  </tbody>\n",
       "</table>\n",
       "</div>"
      ],
      "text/plain": [
       "         HH Income + Consumption + Residues/Day (USD_con_adult_equiv_adj)  \\\n",
       "                                                                   median   \n",
       "Quartile                                                                    \n",
       "Group 1                                            1.046813                 \n",
       "Group 2                                            1.070173                 \n",
       "Group 3                                            1.045205                 \n",
       "Group 4                                            1.109589                 \n",
       "\n",
       "                    \\\n",
       "              mean   \n",
       "Quartile             \n",
       "Group 1   1.206810   \n",
       "Group 2   1.247624   \n",
       "Group 3   1.236993   \n",
       "Group 4   1.282863   \n",
       "\n",
       "         HH Income + Consumption + Residues/Day (USD_adult_equiv_adj)  \\\n",
       "                                                               median   \n",
       "Quartile                                                                \n",
       "Group 1                                            3.048311             \n",
       "Group 2                                            3.116336             \n",
       "Group 3                                            3.043630             \n",
       "Group 4                                            3.231113             \n",
       "\n",
       "                    \n",
       "              mean  \n",
       "Quartile            \n",
       "Group 1   3.514220  \n",
       "Group 2   3.633071  \n",
       "Group 3   3.602113  \n",
       "Group 4   3.735685  "
      ]
     },
     "execution_count": 27,
     "metadata": {},
     "output_type": "execute_result"
    }
   ],
   "source": [
    "year3.groupby('Quartile')[['HH Income + Consumption + Residues/Day (USD_con_adult_equiv_adj)',\n",
    "                                'HH Income + Consumption + Residues/Day (USD_adult_equiv_adj)']].agg(['median','mean'])"
   ]
  },
  {
   "cell_type": "code",
   "execution_count": 55,
   "id": "b483cfa3-8a83-4441-968c-a81ae47ec0df",
   "metadata": {},
   "outputs": [],
   "source": [
    "boundaries = [0, 0.25, 0.45, 0.63,0.75,1.05,float('inf')]\n",
    "labels = [\"0-<0.25/Day\", \"0.25-<.45/Day\", \"0.45-<0.63/Day\", \"0.63-<0.75/Day\", \"0.75-<1.05/Day\", \">1.05+/Day\"]"
   ]
  },
  {
   "cell_type": "code",
   "execution_count": 56,
   "id": "69531e1c-2412-48dd-8c30-f7110db8ef4c",
   "metadata": {},
   "outputs": [],
   "source": [
    "boundaries_ppp = [0, 0.75, 1.25, 1.77,2.15,3,float('inf')]\n",
    "labels_ppp = [\"0-<0.75/Day\", \"0.75-<1.25/Day\", \"1.25-<1.77/Day\", \"1.77-<2.15 /Day\", \"2.15-3/Day\", \">3+/Day\"]"
   ]
  },
  {
   "cell_type": "code",
   "execution_count": 57,
   "id": "7eed4b87-46b9-41c7-9e86-92b50ab72061",
   "metadata": {},
   "outputs": [],
   "source": [
    "year2['income_group_usdconst'] = pd.cut(year2['HH Income + Consumption + Residues/Day (USD_con_adult_equiv_adj)'], bins=boundaries, labels=labels, right=False)"
   ]
  },
  {
   "cell_type": "code",
   "execution_count": 59,
   "id": "fa69ed19-52b1-419e-bdb8-a093777151d8",
   "metadata": {},
   "outputs": [],
   "source": [
    "year2['income_group_pp'] = pd.cut(year2['HH Income + Consumption + Residues/Day (USD_adult_equiv_adj)'], bins=boundaries_ppp, labels=labels_ppp, right=False)"
   ]
  },
  {
   "cell_type": "code",
   "execution_count": 60,
   "id": "2bb7ef8e-6b35-4006-9400-aee911613653",
   "metadata": {},
   "outputs": [
    {
     "data": {
      "text/plain": [
       "income_group_usdconst\n",
       ">1.05+/Day        0.351491\n",
       "0.75-<1.05/Day    0.176423\n",
       "0.25-<.45/Day     0.161518\n",
       "0.45-<0.63/Day    0.148509\n",
       "0.63-<0.75/Day    0.098916\n",
       "0-<0.25/Day       0.063144\n",
       "Name: proportion, dtype: float64"
      ]
     },
     "execution_count": 60,
     "metadata": {},
     "output_type": "execute_result"
    }
   ],
   "source": [
    "year2['income_group_usdconst'].value_counts(normalize=True)"
   ]
  },
  {
   "cell_type": "code",
   "execution_count": 61,
   "id": "89bd0e32-77c4-4977-858f-c04fd868e289",
   "metadata": {},
   "outputs": [
    {
     "data": {
      "text/plain": [
       "income_group_pp\n",
       ">3+/Day            0.375881\n",
       "2.15-3/Day         0.174255\n",
       "1.25-<1.77/Day     0.147696\n",
       "0.75-<1.25/Day     0.131436\n",
       "1.77-<2.15 /Day    0.107046\n",
       "0-<0.75/Day        0.063686\n",
       "Name: proportion, dtype: float64"
      ]
     },
     "execution_count": 61,
     "metadata": {},
     "output_type": "execute_result"
    }
   ],
   "source": [
    "year2['income_group_pp'].value_counts(normalize=True)"
   ]
  },
  {
   "cell_type": "code",
   "execution_count": null,
   "id": "c9e31896-c61e-4f88-9de0-a220f0f10753",
   "metadata": {},
   "outputs": [],
   "source": []
  },
  {
   "cell_type": "code",
   "execution_count": 65,
   "id": "c5e9bb99-61a6-4a8d-b308-a0b2e60ec1b7",
   "metadata": {},
   "outputs": [],
   "source": [
    "year2 = gender_age_processing(year2)"
   ]
  },
  {
   "cell_type": "code",
   "execution_count": 71,
   "id": "d51cc2de-e45b-4523-9603-0162cc223e10",
   "metadata": {},
   "outputs": [
    {
     "data": {
      "text/html": [
       "<div>\n",
       "<style scoped>\n",
       "    .dataframe tbody tr th:only-of-type {\n",
       "        vertical-align: middle;\n",
       "    }\n",
       "\n",
       "    .dataframe tbody tr th {\n",
       "        vertical-align: top;\n",
       "    }\n",
       "\n",
       "    .dataframe thead th {\n",
       "        text-align: right;\n",
       "    }\n",
       "</style>\n",
       "<table border=\"1\" class=\"dataframe\">\n",
       "  <thead>\n",
       "    <tr style=\"text-align: right;\">\n",
       "      <th></th>\n",
       "      <th></th>\n",
       "      <th>HH Income + Consumption + Residues/Day (USD_con_adult_equiv_adj)</th>\n",
       "      <th>HH Income + Consumption + Residues/Day (USD_adult_equiv_adj)</th>\n",
       "    </tr>\n",
       "    <tr>\n",
       "      <th>Household_Head_Gender</th>\n",
       "      <th>Quartile</th>\n",
       "      <th></th>\n",
       "      <th></th>\n",
       "    </tr>\n",
       "  </thead>\n",
       "  <tbody>\n",
       "    <tr>\n",
       "      <th rowspan=\"4\" valign=\"top\">Female Headed</th>\n",
       "      <th>Group 1</th>\n",
       "      <td>0.728039</td>\n",
       "      <td>2.177342</td>\n",
       "    </tr>\n",
       "    <tr>\n",
       "      <th>Group 2</th>\n",
       "      <td>0.703092</td>\n",
       "      <td>2.102732</td>\n",
       "    </tr>\n",
       "    <tr>\n",
       "      <th>Group 3</th>\n",
       "      <td>0.699438</td>\n",
       "      <td>2.091805</td>\n",
       "    </tr>\n",
       "    <tr>\n",
       "      <th>Group 4</th>\n",
       "      <td>0.752961</td>\n",
       "      <td>2.251877</td>\n",
       "    </tr>\n",
       "    <tr>\n",
       "      <th rowspan=\"4\" valign=\"top\">Male Headed</th>\n",
       "      <th>Group 1</th>\n",
       "      <td>0.842672</td>\n",
       "      <td>2.520174</td>\n",
       "    </tr>\n",
       "    <tr>\n",
       "      <th>Group 2</th>\n",
       "      <td>0.770065</td>\n",
       "      <td>2.303029</td>\n",
       "    </tr>\n",
       "    <tr>\n",
       "      <th>Group 3</th>\n",
       "      <td>0.905937</td>\n",
       "      <td>2.709380</td>\n",
       "    </tr>\n",
       "    <tr>\n",
       "      <th>Group 4</th>\n",
       "      <td>0.829855</td>\n",
       "      <td>2.481844</td>\n",
       "    </tr>\n",
       "    <tr>\n",
       "      <th rowspan=\"4\" valign=\"top\">Youth Headed</th>\n",
       "      <th>Group 1</th>\n",
       "      <td>0.745787</td>\n",
       "      <td>2.230420</td>\n",
       "    </tr>\n",
       "    <tr>\n",
       "      <th>Group 2</th>\n",
       "      <td>0.731409</td>\n",
       "      <td>2.187422</td>\n",
       "    </tr>\n",
       "    <tr>\n",
       "      <th>Group 3</th>\n",
       "      <td>0.797082</td>\n",
       "      <td>2.383827</td>\n",
       "    </tr>\n",
       "    <tr>\n",
       "      <th>Group 4</th>\n",
       "      <td>0.837744</td>\n",
       "      <td>2.505436</td>\n",
       "    </tr>\n",
       "  </tbody>\n",
       "</table>\n",
       "</div>"
      ],
      "text/plain": [
       "                                HH Income + Consumption + Residues/Day (USD_con_adult_equiv_adj)  \\\n",
       "Household_Head_Gender Quartile                                                                     \n",
       "Female Headed         Group 1                                            0.728039                  \n",
       "                      Group 2                                            0.703092                  \n",
       "                      Group 3                                            0.699438                  \n",
       "                      Group 4                                            0.752961                  \n",
       "Male Headed           Group 1                                            0.842672                  \n",
       "                      Group 2                                            0.770065                  \n",
       "                      Group 3                                            0.905937                  \n",
       "                      Group 4                                            0.829855                  \n",
       "Youth Headed          Group 1                                            0.745787                  \n",
       "                      Group 2                                            0.731409                  \n",
       "                      Group 3                                            0.797082                  \n",
       "                      Group 4                                            0.837744                  \n",
       "\n",
       "                                HH Income + Consumption + Residues/Day (USD_adult_equiv_adj)  \n",
       "Household_Head_Gender Quartile                                                                \n",
       "Female Headed         Group 1                                            2.177342             \n",
       "                      Group 2                                            2.102732             \n",
       "                      Group 3                                            2.091805             \n",
       "                      Group 4                                            2.251877             \n",
       "Male Headed           Group 1                                            2.520174             \n",
       "                      Group 2                                            2.303029             \n",
       "                      Group 3                                            2.709380             \n",
       "                      Group 4                                            2.481844             \n",
       "Youth Headed          Group 1                                            2.230420             \n",
       "                      Group 2                                            2.187422             \n",
       "                      Group 3                                            2.383827             \n",
       "                      Group 4                                            2.505436             "
      ]
     },
     "execution_count": 71,
     "metadata": {},
     "output_type": "execute_result"
    }
   ],
   "source": [
    "year2.groupby(['Household_Head_Gender', 'Quartile'])[['HH Income + Consumption + Residues/Day (USD_con_adult_equiv_adj)',\n",
    "                                              'HH Income + Consumption + Residues/Day (USD_adult_equiv_adj)']].median()"
   ]
  },
  {
   "cell_type": "code",
   "execution_count": null,
   "id": "2ee30f31-9330-4186-970c-1053f9273ecd",
   "metadata": {},
   "outputs": [],
   "source": []
  },
  {
   "cell_type": "code",
   "execution_count": 68,
   "id": "7afc069f-d0a1-4186-9a74-75a5ac6f04be",
   "metadata": {},
   "outputs": [
    {
     "data": {
      "text/plain": [
       "Household_Head_Gender  income_group_usdconst\n",
       "Female Headed          >1.05+/Day               0.312245\n",
       "                       0.45-<0.63/Day           0.172449\n",
       "                       0.75-<1.05/Day           0.171429\n",
       "                       0.25-<.45/Day            0.153061\n",
       "                       0.63-<0.75/Day           0.107143\n",
       "                       0-<0.25/Day              0.083673\n",
       "Male Headed            >1.05+/Day               0.372549\n",
       "                       0.75-<1.05/Day           0.178253\n",
       "                       0.25-<.45/Day            0.166667\n",
       "                       0.45-<0.63/Day           0.135918\n",
       "                       0.63-<0.75/Day           0.089572\n",
       "                       0-<0.25/Day              0.057041\n",
       "Youth Headed           >1.05+/Day               0.332618\n",
       "                       0.75-<1.05/Day           0.178112\n",
       "                       0.45-<0.63/Day           0.158798\n",
       "                       0.25-<.45/Day            0.154506\n",
       "                       0.63-<0.75/Day           0.126609\n",
       "                       0-<0.25/Day              0.049356\n",
       "Name: proportion, dtype: float64"
      ]
     },
     "execution_count": 68,
     "metadata": {},
     "output_type": "execute_result"
    }
   ],
   "source": [
    "year2.groupby('Household_Head_Gender')['income_group_usdconst'].value_counts(normalize=True)"
   ]
  },
  {
   "cell_type": "code",
   "execution_count": 69,
   "id": "daccf4be-3e04-4b67-b714-68805cb81f33",
   "metadata": {},
   "outputs": [
    {
     "data": {
      "text/plain": [
       "Household_Head_Gender  income_group_pp\n",
       "Female Headed          >3+/Day            0.338776\n",
       "                       2.15-3/Day         0.170408\n",
       "                       1.25-<1.77/Day     0.161224\n",
       "                       0.75-<1.25/Day     0.126531\n",
       "                       1.77-<2.15 /Day    0.119388\n",
       "                       0-<0.75/Day        0.083673\n",
       "Male Headed            >3+/Day            0.396613\n",
       "                       2.15-3/Day         0.176025\n",
       "                       1.25-<1.77/Day     0.143048\n",
       "                       0.75-<1.25/Day     0.135027\n",
       "                       1.77-<2.15 /Day    0.091355\n",
       "                       0-<0.75/Day        0.057932\n",
       "Youth Headed           >3+/Day            0.354077\n",
       "                       2.15-3/Day         0.173820\n",
       "                       1.77-<2.15 /Day    0.156652\n",
       "                       1.25-<1.77/Day     0.141631\n",
       "                       0.75-<1.25/Day     0.124464\n",
       "                       0-<0.75/Day        0.049356\n",
       "Name: proportion, dtype: float64"
      ]
     },
     "execution_count": 69,
     "metadata": {},
     "output_type": "execute_result"
    }
   ],
   "source": [
    "year2.groupby('Household_Head_Gender')['income_group_pp'].value_counts(normalize=True)"
   ]
  },
  {
   "cell_type": "code",
   "execution_count": null,
   "id": "2c0b8b6f-6a99-4532-8774-659aef86d3af",
   "metadata": {},
   "outputs": [],
   "source": []
  },
  {
   "cell_type": "markdown",
   "id": "28326a76-7466-424d-9f8b-208245222e3b",
   "metadata": {
    "jp-MarkdownHeadingCollapsed": true
   },
   "source": [
    "## 2017 base"
   ]
  },
  {
   "cell_type": "code",
   "execution_count": 137,
   "id": "8e84fa7b-93e7-41d7-8ced-2073bf19c436",
   "metadata": {},
   "outputs": [],
   "source": [
    "base_17 = pd.read_excel('Copy of Kiso2017Cohort_60month_EvaluationFileFinal_1%_4%_24_08_2022.xlsx', sheet_name='2017cohortBaseOutlierMan')"
   ]
  },
  {
   "cell_type": "code",
   "execution_count": 138,
   "id": "1f9adaa2-538b-4684-9b3d-7cebc141bee1",
   "metadata": {},
   "outputs": [],
   "source": [
    "base_17 = base_17.iloc[:1224,:]"
   ]
  },
  {
   "cell_type": "code",
   "execution_count": 139,
   "id": "4710d85a-9e12-46e1-bc43-371f6c3afa13",
   "metadata": {},
   "outputs": [],
   "source": [
    "base_rate = 3600\n",
    "base_ppp_rate = 1270.608"
   ]
  },
  {
   "cell_type": "code",
   "execution_count": null,
   "id": "63eb9b8d-51fe-4948-a4b0-f6c58d31afdf",
   "metadata": {},
   "outputs": [],
   "source": []
  },
  {
   "cell_type": "code",
   "execution_count": 140,
   "id": "35e87c31-4b93-480a-96fd-295e301481c6",
   "metadata": {},
   "outputs": [
    {
     "data": {
      "text/plain": [
       "0       5.296804\n",
       "1       4.166667\n",
       "2       2.180365\n",
       "3       3.063166\n",
       "4       5.106545\n",
       "          ...   \n",
       "1219    0.108828\n",
       "1220    0.261035\n",
       "1221    0.156012\n",
       "1222    0.205479\n",
       "1223    0.251142\n",
       "Name: HH Income + Consumption, Length: 1224, dtype: float64"
      ]
     },
     "execution_count": 140,
     "metadata": {},
     "output_type": "execute_result"
    }
   ],
   "source": [
    "base_17['HH Income + Consumption']/base_rate/365"
   ]
  },
  {
   "cell_type": "code",
   "execution_count": 141,
   "id": "d35fb96b-3ad5-4c85-b6a2-f654a54815f2",
   "metadata": {},
   "outputs": [],
   "source": [
    "base_17['HH Income + Consumption + Residues (USD Const) / day'] = base_17['HH Income + Consumption']/base_rate/365"
   ]
  },
  {
   "cell_type": "code",
   "execution_count": 142,
   "id": "8ffe28da-d61d-4706-b282-d2b645a6978c",
   "metadata": {},
   "outputs": [
    {
     "data": {
      "text/plain": [
       "0       15.007377\n",
       "1       11.805372\n",
       "2        6.177606\n",
       "3        8.678835\n",
       "4       14.468319\n",
       "          ...    \n",
       "1219     0.308341\n",
       "1220     0.739588\n",
       "1221     0.442028\n",
       "1222     0.582183\n",
       "1223     0.711557\n",
       "Name: HH Income + Consumption, Length: 1224, dtype: float64"
      ]
     },
     "execution_count": 142,
     "metadata": {},
     "output_type": "execute_result"
    }
   ],
   "source": [
    "(base_17['HH Income + Consumption']/base_ppp_rate/365)"
   ]
  },
  {
   "cell_type": "code",
   "execution_count": 143,
   "id": "da4d9451-95e4-413e-9b07-741f3bef1549",
   "metadata": {},
   "outputs": [],
   "source": [
    "base_17['HH Income + Consumption + Residues ((USD Const PPP Adj)) / day'] = (base_17['HH Income + Consumption']/base_ppp_rate/365)"
   ]
  },
  {
   "cell_type": "code",
   "execution_count": 144,
   "id": "bc77f320-fcb8-4e56-9629-e464d024560d",
   "metadata": {},
   "outputs": [
    {
     "data": {
      "text/html": [
       "<div>\n",
       "<style scoped>\n",
       "    .dataframe tbody tr th:only-of-type {\n",
       "        vertical-align: middle;\n",
       "    }\n",
       "\n",
       "    .dataframe tbody tr th {\n",
       "        vertical-align: top;\n",
       "    }\n",
       "\n",
       "    .dataframe thead th {\n",
       "        text-align: right;\n",
       "    }\n",
       "</style>\n",
       "<table border=\"1\" class=\"dataframe\">\n",
       "  <thead>\n",
       "    <tr style=\"text-align: right;\">\n",
       "      <th></th>\n",
       "      <th>HH Income + Consumption + Residues (USD Const) / day</th>\n",
       "      <th>HH Income + Consumption + Residues ((USD Const PPP Adj)) / day</th>\n",
       "    </tr>\n",
       "  </thead>\n",
       "  <tbody>\n",
       "    <tr>\n",
       "      <th>0</th>\n",
       "      <td>5.296804</td>\n",
       "      <td>15.007377</td>\n",
       "    </tr>\n",
       "    <tr>\n",
       "      <th>1</th>\n",
       "      <td>4.166667</td>\n",
       "      <td>11.805372</td>\n",
       "    </tr>\n",
       "    <tr>\n",
       "      <th>2</th>\n",
       "      <td>2.180365</td>\n",
       "      <td>6.177606</td>\n",
       "    </tr>\n",
       "    <tr>\n",
       "      <th>3</th>\n",
       "      <td>3.063166</td>\n",
       "      <td>8.678835</td>\n",
       "    </tr>\n",
       "    <tr>\n",
       "      <th>4</th>\n",
       "      <td>5.106545</td>\n",
       "      <td>14.468319</td>\n",
       "    </tr>\n",
       "    <tr>\n",
       "      <th>...</th>\n",
       "      <td>...</td>\n",
       "      <td>...</td>\n",
       "    </tr>\n",
       "    <tr>\n",
       "      <th>1219</th>\n",
       "      <td>0.108828</td>\n",
       "      <td>0.308341</td>\n",
       "    </tr>\n",
       "    <tr>\n",
       "      <th>1220</th>\n",
       "      <td>0.261035</td>\n",
       "      <td>0.739588</td>\n",
       "    </tr>\n",
       "    <tr>\n",
       "      <th>1221</th>\n",
       "      <td>0.156012</td>\n",
       "      <td>0.442028</td>\n",
       "    </tr>\n",
       "    <tr>\n",
       "      <th>1222</th>\n",
       "      <td>0.205479</td>\n",
       "      <td>0.582183</td>\n",
       "    </tr>\n",
       "    <tr>\n",
       "      <th>1223</th>\n",
       "      <td>0.251142</td>\n",
       "      <td>0.711557</td>\n",
       "    </tr>\n",
       "  </tbody>\n",
       "</table>\n",
       "<p>1224 rows × 2 columns</p>\n",
       "</div>"
      ],
      "text/plain": [
       "      HH Income + Consumption + Residues (USD Const) / day  \\\n",
       "0                                              5.296804      \n",
       "1                                              4.166667      \n",
       "2                                              2.180365      \n",
       "3                                              3.063166      \n",
       "4                                              5.106545      \n",
       "...                                                 ...      \n",
       "1219                                           0.108828      \n",
       "1220                                           0.261035      \n",
       "1221                                           0.156012      \n",
       "1222                                           0.205479      \n",
       "1223                                           0.251142      \n",
       "\n",
       "      HH Income + Consumption + Residues ((USD Const PPP Adj)) / day  \n",
       "0                                             15.007377               \n",
       "1                                             11.805372               \n",
       "2                                              6.177606               \n",
       "3                                              8.678835               \n",
       "4                                             14.468319               \n",
       "...                                                 ...               \n",
       "1219                                           0.308341               \n",
       "1220                                           0.739588               \n",
       "1221                                           0.442028               \n",
       "1222                                           0.582183               \n",
       "1223                                           0.711557               \n",
       "\n",
       "[1224 rows x 2 columns]"
      ]
     },
     "execution_count": 144,
     "metadata": {},
     "output_type": "execute_result"
    }
   ],
   "source": [
    "base_17[['HH Income + Consumption + Residues (USD Const) / day','HH Income + Consumption + Residues ((USD Const PPP Adj)) / day']]"
   ]
  },
  {
   "cell_type": "code",
   "execution_count": 145,
   "id": "c7643fdf-aa37-4425-a90f-19772b530f0a",
   "metadata": {},
   "outputs": [],
   "source": [
    "base_17['HH Income + Consumption + Residues/Day (USD_con_adult_equiv_adj)'] = base_17['HH Income + Consumption + Residues (USD Const) / day']/np.sqrt(base_17['# HH Members'])"
   ]
  },
  {
   "cell_type": "code",
   "execution_count": 146,
   "id": "b736d9ff-aceb-4b5d-9069-30e2a1fd3221",
   "metadata": {},
   "outputs": [],
   "source": [
    "base_17['HH Income + Consumption + Residues/Day (USD_adult_equiv_adj)'] = base_17['HH Income + Consumption + Residues ((USD Const PPP Adj)) / day']/np.sqrt(base_17['# HH Members'])"
   ]
  },
  {
   "cell_type": "code",
   "execution_count": 147,
   "id": "e7389961-76bb-4dcd-ae5f-5392c28b5685",
   "metadata": {},
   "outputs": [
    {
     "data": {
      "text/html": [
       "<div>\n",
       "<style scoped>\n",
       "    .dataframe tbody tr th:only-of-type {\n",
       "        vertical-align: middle;\n",
       "    }\n",
       "\n",
       "    .dataframe tbody tr th {\n",
       "        vertical-align: top;\n",
       "    }\n",
       "\n",
       "    .dataframe thead th {\n",
       "        text-align: right;\n",
       "    }\n",
       "</style>\n",
       "<table border=\"1\" class=\"dataframe\">\n",
       "  <thead>\n",
       "    <tr style=\"text-align: right;\">\n",
       "      <th></th>\n",
       "      <th>HH Income + Consumption + Residues/Day (USD_con_adult_equiv_adj)</th>\n",
       "      <th>HH Income + Consumption + Residues/Day (USD_adult_equiv_adj)</th>\n",
       "    </tr>\n",
       "  </thead>\n",
       "  <tbody>\n",
       "    <tr>\n",
       "      <th>0</th>\n",
       "      <td>2.368803</td>\n",
       "      <td>6.711503</td>\n",
       "    </tr>\n",
       "    <tr>\n",
       "      <th>1</th>\n",
       "      <td>1.473139</td>\n",
       "      <td>4.173829</td>\n",
       "    </tr>\n",
       "    <tr>\n",
       "      <th>2</th>\n",
       "      <td>0.975089</td>\n",
       "      <td>2.762709</td>\n",
       "    </tr>\n",
       "    <tr>\n",
       "      <th>3</th>\n",
       "      <td>1.369889</td>\n",
       "      <td>3.881293</td>\n",
       "    </tr>\n",
       "    <tr>\n",
       "      <th>4</th>\n",
       "      <td>2.084738</td>\n",
       "      <td>5.906666</td>\n",
       "    </tr>\n",
       "    <tr>\n",
       "      <th>...</th>\n",
       "      <td>...</td>\n",
       "      <td>...</td>\n",
       "    </tr>\n",
       "    <tr>\n",
       "      <th>1219</th>\n",
       "      <td>0.048669</td>\n",
       "      <td>0.137894</td>\n",
       "    </tr>\n",
       "    <tr>\n",
       "      <th>1220</th>\n",
       "      <td>0.098662</td>\n",
       "      <td>0.279538</td>\n",
       "    </tr>\n",
       "    <tr>\n",
       "      <th>1221</th>\n",
       "      <td>0.055159</td>\n",
       "      <td>0.156280</td>\n",
       "    </tr>\n",
       "    <tr>\n",
       "      <th>1222</th>\n",
       "      <td>0.083887</td>\n",
       "      <td>0.237675</td>\n",
       "    </tr>\n",
       "    <tr>\n",
       "      <th>1223</th>\n",
       "      <td>0.125571</td>\n",
       "      <td>0.355778</td>\n",
       "    </tr>\n",
       "  </tbody>\n",
       "</table>\n",
       "<p>1224 rows × 2 columns</p>\n",
       "</div>"
      ],
      "text/plain": [
       "      HH Income + Consumption + Residues/Day (USD_con_adult_equiv_adj)  \\\n",
       "0                                              2.368803                  \n",
       "1                                              1.473139                  \n",
       "2                                              0.975089                  \n",
       "3                                              1.369889                  \n",
       "4                                              2.084738                  \n",
       "...                                                 ...                  \n",
       "1219                                           0.048669                  \n",
       "1220                                           0.098662                  \n",
       "1221                                           0.055159                  \n",
       "1222                                           0.083887                  \n",
       "1223                                           0.125571                  \n",
       "\n",
       "      HH Income + Consumption + Residues/Day (USD_adult_equiv_adj)  \n",
       "0                                              6.711503             \n",
       "1                                              4.173829             \n",
       "2                                              2.762709             \n",
       "3                                              3.881293             \n",
       "4                                              5.906666             \n",
       "...                                                 ...             \n",
       "1219                                           0.137894             \n",
       "1220                                           0.279538             \n",
       "1221                                           0.156280             \n",
       "1222                                           0.237675             \n",
       "1223                                           0.355778             \n",
       "\n",
       "[1224 rows x 2 columns]"
      ]
     },
     "execution_count": 147,
     "metadata": {},
     "output_type": "execute_result"
    }
   ],
   "source": [
    "base_17[['HH Income + Consumption + Residues/Day (USD_con_adult_equiv_adj)','HH Income + Consumption + Residues/Day (USD_adult_equiv_adj)']]"
   ]
  },
  {
   "cell_type": "code",
   "execution_count": 148,
   "id": "c27b29a4-48de-424c-b652-499234f6ef09",
   "metadata": {},
   "outputs": [
    {
     "data": {
      "text/html": [
       "<div>\n",
       "<style scoped>\n",
       "    .dataframe tbody tr th:only-of-type {\n",
       "        vertical-align: middle;\n",
       "    }\n",
       "\n",
       "    .dataframe tbody tr th {\n",
       "        vertical-align: top;\n",
       "    }\n",
       "\n",
       "    .dataframe thead th {\n",
       "        text-align: right;\n",
       "    }\n",
       "</style>\n",
       "<table border=\"1\" class=\"dataframe\">\n",
       "  <thead>\n",
       "    <tr style=\"text-align: right;\">\n",
       "      <th></th>\n",
       "      <th>HH Income + Consumption + Residues/Day (USD_con_adult_equiv_adj)</th>\n",
       "      <th>HH Income + Consumption + Residues/Day (USD_adult_equiv_adj)</th>\n",
       "    </tr>\n",
       "    <tr>\n",
       "      <th>Quartile</th>\n",
       "      <th></th>\n",
       "      <th></th>\n",
       "    </tr>\n",
       "  </thead>\n",
       "  <tbody>\n",
       "    <tr>\n",
       "      <th>Group 1</th>\n",
       "      <td>0.632758</td>\n",
       "      <td>1.792786</td>\n",
       "    </tr>\n",
       "    <tr>\n",
       "      <th>Group 2</th>\n",
       "      <td>0.400874</td>\n",
       "      <td>1.135792</td>\n",
       "    </tr>\n",
       "    <tr>\n",
       "      <th>Group 3</th>\n",
       "      <td>0.314730</td>\n",
       "      <td>0.891722</td>\n",
       "    </tr>\n",
       "    <tr>\n",
       "      <th>Group 4</th>\n",
       "      <td>0.224855</td>\n",
       "      <td>0.637078</td>\n",
       "    </tr>\n",
       "  </tbody>\n",
       "</table>\n",
       "</div>"
      ],
      "text/plain": [
       "          HH Income + Consumption + Residues/Day (USD_con_adult_equiv_adj)  \\\n",
       "Quartile                                                                     \n",
       "Group 1                                            0.632758                  \n",
       "Group 2                                            0.400874                  \n",
       "Group 3                                            0.314730                  \n",
       "Group 4                                            0.224855                  \n",
       "\n",
       "          HH Income + Consumption + Residues/Day (USD_adult_equiv_adj)  \n",
       "Quartile                                                                \n",
       "Group 1                                            1.792786             \n",
       "Group 2                                            1.135792             \n",
       "Group 3                                            0.891722             \n",
       "Group 4                                            0.637078             "
      ]
     },
     "execution_count": 148,
     "metadata": {},
     "output_type": "execute_result"
    }
   ],
   "source": [
    "base_17.groupby('Quartile')[['HH Income + Consumption + Residues/Day (USD_con_adult_equiv_adj)',\n",
    "                                'HH Income + Consumption + Residues/Day (USD_adult_equiv_adj)']].median()"
   ]
  },
  {
   "cell_type": "code",
   "execution_count": 149,
   "id": "b91bd211-9a9c-465d-8fe2-6ee8c64c27b3",
   "metadata": {},
   "outputs": [],
   "source": [
    "boundaries = [0, 0.25, 0.45, 0.63,0.75,1.05,float('inf')]\n",
    "labels = [\"0-<0.25/Day\", \"0.25-<.45/Day\", \"0.45-<0.63/Day\", \"0.63-<0.75/Day\", \"0.75-<1.05/Day\", \">1.05+/Day\"]"
   ]
  },
  {
   "cell_type": "code",
   "execution_count": 150,
   "id": "cf643be2-2b30-4ed7-be6d-bd44762404dd",
   "metadata": {},
   "outputs": [],
   "source": [
    "boundaries_ppp = [0, 0.75, 1.25, 1.77,2.15,3,float('inf')]\n",
    "labels_ppp = [\"0-<0.75/Day\", \"0.75-<1.25/Day\", \"1.25-<1.77/Day\", \"1.77-<2.15 /Day\", \"2.15-3/Day\", \">3+/Day\"]"
   ]
  },
  {
   "cell_type": "code",
   "execution_count": 151,
   "id": "782bf68b-a286-4f1a-91f1-a2f4ae2369bd",
   "metadata": {},
   "outputs": [],
   "source": [
    "base_17['income_group_usdconst'] = pd.cut(base_17['HH Income + Consumption + Residues/Day (USD_con_adult_equiv_adj)'], bins=boundaries, labels=labels, right=False)"
   ]
  },
  {
   "cell_type": "code",
   "execution_count": 152,
   "id": "988fa29e-0a60-4000-90b6-b8599ef92830",
   "metadata": {},
   "outputs": [],
   "source": [
    "base_17['income_group_pp'] = pd.cut(base_17['HH Income + Consumption + Residues/Day (USD_adult_equiv_adj)'], bins=boundaries_ppp, labels=labels_ppp, right=False)"
   ]
  },
  {
   "cell_type": "code",
   "execution_count": 153,
   "id": "80097218-d823-424f-8fc4-0862f4677fcd",
   "metadata": {},
   "outputs": [
    {
     "data": {
      "text/plain": [
       "income_group_usdconst\n",
       "0.25-<.45/Day     0.291667\n",
       "0-<0.25/Day       0.268791\n",
       "0.45-<0.63/Day    0.167484\n",
       ">1.05+/Day        0.106209\n",
       "0.75-<1.05/Day    0.100490\n",
       "0.63-<0.75/Day    0.065359\n",
       "Name: proportion, dtype: float64"
      ]
     },
     "execution_count": 153,
     "metadata": {},
     "output_type": "execute_result"
    }
   ],
   "source": [
    "base_17['income_group_usdconst'].value_counts(normalize=True)"
   ]
  },
  {
   "cell_type": "code",
   "execution_count": 154,
   "id": "d57ead31-0300-4d2f-ad93-54795e8cfe30",
   "metadata": {},
   "outputs": [
    {
     "data": {
      "text/plain": [
       "income_group_pp\n",
       "0-<0.75/Day        0.294118\n",
       "0.75-<1.25/Day     0.257353\n",
       "1.25-<1.77/Day     0.170752\n",
       ">3+/Day            0.105392\n",
       "2.15-3/Day         0.097222\n",
       "1.77-<2.15 /Day    0.075163\n",
       "Name: proportion, dtype: float64"
      ]
     },
     "execution_count": 154,
     "metadata": {},
     "output_type": "execute_result"
    }
   ],
   "source": [
    "base_17['income_group_pp'].value_counts(normalize=True)"
   ]
  },
  {
   "cell_type": "code",
   "execution_count": null,
   "id": "2e947a2a-9686-4c7b-a213-04c835fd5f40",
   "metadata": {},
   "outputs": [],
   "source": []
  },
  {
   "cell_type": "markdown",
   "id": "ca23d227-5044-43a2-8342-28e1930799d4",
   "metadata": {
    "jp-MarkdownHeadingCollapsed": true
   },
   "source": [
    "## 2017 Year 2"
   ]
  },
  {
   "cell_type": "code",
   "execution_count": 155,
   "id": "8209be83-f00d-497f-81fd-efbaaded19dd",
   "metadata": {},
   "outputs": [],
   "source": [
    "grad_17= pd.read_excel('Copy of Kiso2017Cohort_60month_EvaluationFileFinal_1%_4%_24_08_2022.xlsx', sheet_name='2017CohortY2OutlierMan')"
   ]
  },
  {
   "cell_type": "code",
   "execution_count": 156,
   "id": "ef405cf9-dcbe-4e87-9da4-5c553100fb16",
   "metadata": {},
   "outputs": [],
   "source": [
    "grad_17 = grad_17.iloc[:1326,:]"
   ]
  },
  {
   "cell_type": "code",
   "execution_count": 157,
   "id": "dbbedaaa-b73e-4682-8cf9-25c409bd6439",
   "metadata": {},
   "outputs": [],
   "source": [
    "rate_year2 = 3700\n",
    "adj_y2 = 95.28\n",
    "base_ppp_rate = 1270.608"
   ]
  },
  {
   "cell_type": "code",
   "execution_count": 158,
   "id": "1eb5839d-f49c-417f-b6bd-1d6773fde3da",
   "metadata": {},
   "outputs": [
    {
     "data": {
      "text/plain": [
       "0        0.364752\n",
       "1        0.541131\n",
       "2         0.40285\n",
       "3        0.585579\n",
       "4        0.451707\n",
       "          ...    \n",
       "1321     3.962181\n",
       "1322    10.536889\n",
       "1323     11.04486\n",
       "1324     6.943975\n",
       "1325     2.647803\n",
       "Name: HH Income + Consumption + Residues, Length: 1326, dtype: object"
      ]
     },
     "execution_count": 158,
     "metadata": {},
     "output_type": "execute_result"
    }
   ],
   "source": [
    "grad_17['HH Income + Consumption + Residues']/rate_year2/365 * (adj_y2 / 100)"
   ]
  },
  {
   "cell_type": "code",
   "execution_count": 159,
   "id": "b7c68de5-59cd-4dd4-b441-2010ce07c406",
   "metadata": {},
   "outputs": [],
   "source": [
    "grad_17['HH Income + Consumption + Residues (USD Const) / day'] = grad_17['HH Income + Consumption + Residues']/rate_year2/365 * (adj_y2 / 100)"
   ]
  },
  {
   "cell_type": "code",
   "execution_count": 160,
   "id": "fc0c9d4c-3df1-4563-bb2b-523b30c16d50",
   "metadata": {},
   "outputs": [
    {
     "data": {
      "text/plain": [
       "0        1.062155\n",
       "1        1.575769\n",
       "2        1.173096\n",
       "3          1.7052\n",
       "4        1.315367\n",
       "          ...    \n",
       "1321    11.537837\n",
       "1322    30.683332\n",
       "1323    32.162542\n",
       "1324    20.220799\n",
       "1325     7.710381\n",
       "Name: HH Income + Consumption + Residues, Length: 1326, dtype: object"
      ]
     },
     "execution_count": 160,
     "metadata": {},
     "output_type": "execute_result"
    }
   ],
   "source": [
    "(grad_17['HH Income + Consumption + Residues']/base_ppp_rate/365) * (adj_y2 / 100)"
   ]
  },
  {
   "cell_type": "code",
   "execution_count": 161,
   "id": "a2219dea-e553-4ba4-b8b4-25e9b42322bf",
   "metadata": {},
   "outputs": [],
   "source": [
    "grad_17['HH Income + Consumption + Residues ((USD Const PPP Adj)) / day'] = (grad_17['HH Income + Consumption + Residues']/base_ppp_rate/365) * (adj_y2 / 100)"
   ]
  },
  {
   "cell_type": "code",
   "execution_count": 162,
   "id": "92e50065-2391-436c-b37c-7ec81f8b4835",
   "metadata": {},
   "outputs": [
    {
     "data": {
      "text/html": [
       "<div>\n",
       "<style scoped>\n",
       "    .dataframe tbody tr th:only-of-type {\n",
       "        vertical-align: middle;\n",
       "    }\n",
       "\n",
       "    .dataframe tbody tr th {\n",
       "        vertical-align: top;\n",
       "    }\n",
       "\n",
       "    .dataframe thead th {\n",
       "        text-align: right;\n",
       "    }\n",
       "</style>\n",
       "<table border=\"1\" class=\"dataframe\">\n",
       "  <thead>\n",
       "    <tr style=\"text-align: right;\">\n",
       "      <th></th>\n",
       "      <th>HH Income + Consumption + Residues (USD Const) / day</th>\n",
       "      <th>HH Income + Consumption + Residues ((USD Const PPP Adj)) / day</th>\n",
       "    </tr>\n",
       "  </thead>\n",
       "  <tbody>\n",
       "    <tr>\n",
       "      <th>0</th>\n",
       "      <td>0.364752</td>\n",
       "      <td>1.062155</td>\n",
       "    </tr>\n",
       "    <tr>\n",
       "      <th>1</th>\n",
       "      <td>0.541131</td>\n",
       "      <td>1.575769</td>\n",
       "    </tr>\n",
       "    <tr>\n",
       "      <th>2</th>\n",
       "      <td>0.40285</td>\n",
       "      <td>1.173096</td>\n",
       "    </tr>\n",
       "    <tr>\n",
       "      <th>3</th>\n",
       "      <td>0.585579</td>\n",
       "      <td>1.7052</td>\n",
       "    </tr>\n",
       "    <tr>\n",
       "      <th>4</th>\n",
       "      <td>0.451707</td>\n",
       "      <td>1.315367</td>\n",
       "    </tr>\n",
       "    <tr>\n",
       "      <th>...</th>\n",
       "      <td>...</td>\n",
       "      <td>...</td>\n",
       "    </tr>\n",
       "    <tr>\n",
       "      <th>1321</th>\n",
       "      <td>3.962181</td>\n",
       "      <td>11.537837</td>\n",
       "    </tr>\n",
       "    <tr>\n",
       "      <th>1322</th>\n",
       "      <td>10.536889</td>\n",
       "      <td>30.683332</td>\n",
       "    </tr>\n",
       "    <tr>\n",
       "      <th>1323</th>\n",
       "      <td>11.04486</td>\n",
       "      <td>32.162542</td>\n",
       "    </tr>\n",
       "    <tr>\n",
       "      <th>1324</th>\n",
       "      <td>6.943975</td>\n",
       "      <td>20.220799</td>\n",
       "    </tr>\n",
       "    <tr>\n",
       "      <th>1325</th>\n",
       "      <td>2.647803</td>\n",
       "      <td>7.710381</td>\n",
       "    </tr>\n",
       "  </tbody>\n",
       "</table>\n",
       "<p>1326 rows × 2 columns</p>\n",
       "</div>"
      ],
      "text/plain": [
       "     HH Income + Consumption + Residues (USD Const) / day  \\\n",
       "0                                              0.364752     \n",
       "1                                              0.541131     \n",
       "2                                               0.40285     \n",
       "3                                              0.585579     \n",
       "4                                              0.451707     \n",
       "...                                                 ...     \n",
       "1321                                           3.962181     \n",
       "1322                                          10.536889     \n",
       "1323                                           11.04486     \n",
       "1324                                           6.943975     \n",
       "1325                                           2.647803     \n",
       "\n",
       "     HH Income + Consumption + Residues ((USD Const PPP Adj)) / day  \n",
       "0                                              1.062155              \n",
       "1                                              1.575769              \n",
       "2                                              1.173096              \n",
       "3                                                1.7052              \n",
       "4                                              1.315367              \n",
       "...                                                 ...              \n",
       "1321                                          11.537837              \n",
       "1322                                          30.683332              \n",
       "1323                                          32.162542              \n",
       "1324                                          20.220799              \n",
       "1325                                           7.710381              \n",
       "\n",
       "[1326 rows x 2 columns]"
      ]
     },
     "execution_count": 162,
     "metadata": {},
     "output_type": "execute_result"
    }
   ],
   "source": [
    "grad_17[['HH Income + Consumption + Residues (USD Const) / day','HH Income + Consumption + Residues ((USD Const PPP Adj)) / day']]"
   ]
  },
  {
   "cell_type": "code",
   "execution_count": 163,
   "id": "9ec10973-d8d8-4cbd-8a34-2ba214b987ee",
   "metadata": {},
   "outputs": [],
   "source": [
    "grad_17['HH Income + Consumption + Residues/Day (USD_con_adult_equiv_adj)'] = grad_17['HH Income + Consumption + Residues (USD Const) / day']/np.sqrt(grad_17['# HH Members'])"
   ]
  },
  {
   "cell_type": "code",
   "execution_count": 164,
   "id": "c3fa3f72-a291-4512-959e-93f54d55acf4",
   "metadata": {},
   "outputs": [],
   "source": [
    "grad_17['HH Income + Consumption + Residues/Day (USD_adult_equiv_adj)'] = grad_17['HH Income + Consumption + Residues ((USD Const PPP Adj)) / day']/np.sqrt(grad_17['# HH Members'])"
   ]
  },
  {
   "cell_type": "code",
   "execution_count": 165,
   "id": "f7f55861-a4f6-42c4-8e08-eb513e9a575e",
   "metadata": {},
   "outputs": [
    {
     "data": {
      "text/html": [
       "<div>\n",
       "<style scoped>\n",
       "    .dataframe tbody tr th:only-of-type {\n",
       "        vertical-align: middle;\n",
       "    }\n",
       "\n",
       "    .dataframe tbody tr th {\n",
       "        vertical-align: top;\n",
       "    }\n",
       "\n",
       "    .dataframe thead th {\n",
       "        text-align: right;\n",
       "    }\n",
       "</style>\n",
       "<table border=\"1\" class=\"dataframe\">\n",
       "  <thead>\n",
       "    <tr style=\"text-align: right;\">\n",
       "      <th></th>\n",
       "      <th>HH Income + Consumption + Residues/Day (USD_con_adult_equiv_adj)</th>\n",
       "      <th>HH Income + Consumption + Residues/Day (USD_adult_equiv_adj)</th>\n",
       "    </tr>\n",
       "  </thead>\n",
       "  <tbody>\n",
       "    <tr>\n",
       "      <th>0</th>\n",
       "      <td>0.163122</td>\n",
       "      <td>0.47501</td>\n",
       "    </tr>\n",
       "    <tr>\n",
       "      <th>1</th>\n",
       "      <td>0.191319</td>\n",
       "      <td>0.557119</td>\n",
       "    </tr>\n",
       "    <tr>\n",
       "      <th>2</th>\n",
       "      <td>0.201425</td>\n",
       "      <td>0.586548</td>\n",
       "    </tr>\n",
       "    <tr>\n",
       "      <th>3</th>\n",
       "      <td>0.338084</td>\n",
       "      <td>0.984498</td>\n",
       "    </tr>\n",
       "    <tr>\n",
       "      <th>4</th>\n",
       "      <td>0.202009</td>\n",
       "      <td>0.58825</td>\n",
       "    </tr>\n",
       "    <tr>\n",
       "      <th>...</th>\n",
       "      <td>...</td>\n",
       "      <td>...</td>\n",
       "    </tr>\n",
       "    <tr>\n",
       "      <th>1321</th>\n",
       "      <td>1.497563</td>\n",
       "      <td>4.360892</td>\n",
       "    </tr>\n",
       "    <tr>\n",
       "      <th>1322</th>\n",
       "      <td>4.71224</td>\n",
       "      <td>13.722003</td>\n",
       "    </tr>\n",
       "    <tr>\n",
       "      <th>1323</th>\n",
       "      <td>5.52243</td>\n",
       "      <td>16.081271</td>\n",
       "    </tr>\n",
       "    <tr>\n",
       "      <th>1324</th>\n",
       "      <td>4.009106</td>\n",
       "      <td>11.674484</td>\n",
       "    </tr>\n",
       "    <tr>\n",
       "      <th>1325</th>\n",
       "      <td>1.000776</td>\n",
       "      <td>2.91425</td>\n",
       "    </tr>\n",
       "  </tbody>\n",
       "</table>\n",
       "<p>1326 rows × 2 columns</p>\n",
       "</div>"
      ],
      "text/plain": [
       "     HH Income + Consumption + Residues/Day (USD_con_adult_equiv_adj)  \\\n",
       "0                                              0.163122                 \n",
       "1                                              0.191319                 \n",
       "2                                              0.201425                 \n",
       "3                                              0.338084                 \n",
       "4                                              0.202009                 \n",
       "...                                                 ...                 \n",
       "1321                                           1.497563                 \n",
       "1322                                            4.71224                 \n",
       "1323                                            5.52243                 \n",
       "1324                                           4.009106                 \n",
       "1325                                           1.000776                 \n",
       "\n",
       "     HH Income + Consumption + Residues/Day (USD_adult_equiv_adj)  \n",
       "0                                               0.47501            \n",
       "1                                              0.557119            \n",
       "2                                              0.586548            \n",
       "3                                              0.984498            \n",
       "4                                               0.58825            \n",
       "...                                                 ...            \n",
       "1321                                           4.360892            \n",
       "1322                                          13.722003            \n",
       "1323                                          16.081271            \n",
       "1324                                          11.674484            \n",
       "1325                                            2.91425            \n",
       "\n",
       "[1326 rows x 2 columns]"
      ]
     },
     "execution_count": 165,
     "metadata": {},
     "output_type": "execute_result"
    }
   ],
   "source": [
    "grad_17[['HH Income + Consumption + Residues/Day (USD_con_adult_equiv_adj)','HH Income + Consumption + Residues/Day (USD_adult_equiv_adj)']]"
   ]
  },
  {
   "cell_type": "code",
   "execution_count": 166,
   "id": "18ff8aa5-29c3-4707-90e6-cb5d8aeb9ee6",
   "metadata": {},
   "outputs": [
    {
     "data": {
      "text/html": [
       "<div>\n",
       "<style scoped>\n",
       "    .dataframe tbody tr th:only-of-type {\n",
       "        vertical-align: middle;\n",
       "    }\n",
       "\n",
       "    .dataframe tbody tr th {\n",
       "        vertical-align: top;\n",
       "    }\n",
       "\n",
       "    .dataframe thead th {\n",
       "        text-align: right;\n",
       "    }\n",
       "</style>\n",
       "<table border=\"1\" class=\"dataframe\">\n",
       "  <thead>\n",
       "    <tr style=\"text-align: right;\">\n",
       "      <th></th>\n",
       "      <th>HH Income + Consumption + Residues/Day (USD_con_adult_equiv_adj)</th>\n",
       "      <th>HH Income + Consumption + Residues/Day (USD_adult_equiv_adj)</th>\n",
       "    </tr>\n",
       "    <tr>\n",
       "      <th>Quartile</th>\n",
       "      <th></th>\n",
       "      <th></th>\n",
       "    </tr>\n",
       "  </thead>\n",
       "  <tbody>\n",
       "    <tr>\n",
       "      <th>Group 1</th>\n",
       "      <td>0.947743</td>\n",
       "      <td>2.759819</td>\n",
       "    </tr>\n",
       "    <tr>\n",
       "      <th>Group 2</th>\n",
       "      <td>0.695394</td>\n",
       "      <td>2.024982</td>\n",
       "    </tr>\n",
       "    <tr>\n",
       "      <th>Group 3</th>\n",
       "      <td>0.775375</td>\n",
       "      <td>2.257885</td>\n",
       "    </tr>\n",
       "    <tr>\n",
       "      <th>Group 4</th>\n",
       "      <td>0.968909</td>\n",
       "      <td>2.821456</td>\n",
       "    </tr>\n",
       "  </tbody>\n",
       "</table>\n",
       "</div>"
      ],
      "text/plain": [
       "         HH Income + Consumption + Residues/Day (USD_con_adult_equiv_adj)  \\\n",
       "Quartile                                                                    \n",
       "Group 1                                            0.947743                 \n",
       "Group 2                                            0.695394                 \n",
       "Group 3                                            0.775375                 \n",
       "Group 4                                            0.968909                 \n",
       "\n",
       "         HH Income + Consumption + Residues/Day (USD_adult_equiv_adj)  \n",
       "Quartile                                                               \n",
       "Group 1                                            2.759819            \n",
       "Group 2                                            2.024982            \n",
       "Group 3                                            2.257885            \n",
       "Group 4                                            2.821456            "
      ]
     },
     "execution_count": 166,
     "metadata": {},
     "output_type": "execute_result"
    }
   ],
   "source": [
    "grad_17.groupby('Quartile')[['HH Income + Consumption + Residues/Day (USD_con_adult_equiv_adj)',\n",
    "                                'HH Income + Consumption + Residues/Day (USD_adult_equiv_adj)']].median()"
   ]
  },
  {
   "cell_type": "code",
   "execution_count": 167,
   "id": "98935838-3614-49c8-b298-e19737dd301f",
   "metadata": {},
   "outputs": [],
   "source": [
    "boundaries = [0, 0.25, 0.45, 0.63,0.75,1.05,float('inf')]\n",
    "labels = [\"0-<0.25/Day\", \"0.25-<.45/Day\", \"0.45-<0.63/Day\", \"0.63-<0.75/Day\", \"0.75-<1.05/Day\", \">1.05+/Day\"]"
   ]
  },
  {
   "cell_type": "code",
   "execution_count": 168,
   "id": "d5a97a16-bcc0-4179-8b8a-c6615a4fd675",
   "metadata": {},
   "outputs": [],
   "source": [
    "boundaries_ppp = [0, 0.75, 1.25, 1.77,2.15,3,float('inf')]\n",
    "labels_ppp = [\"0-<0.75/Day\", \"0.75-<1.25/Day\", \"1.25-<1.77/Day\", \"1.77-<2.15 /Day\", \"2.15-3/Day\", \">3+/Day\"]"
   ]
  },
  {
   "cell_type": "code",
   "execution_count": 169,
   "id": "480e6ac9-992f-49eb-9b0a-f7b587ec6f46",
   "metadata": {},
   "outputs": [],
   "source": [
    "grad_17['income_group_usdconst'] = pd.cut(grad_17['HH Income + Consumption + Residues/Day (USD_con_adult_equiv_adj)'], bins=boundaries, labels=labels, right=False)"
   ]
  },
  {
   "cell_type": "code",
   "execution_count": 170,
   "id": "00db7920-aff5-445f-8f54-9c189f6a0e32",
   "metadata": {},
   "outputs": [],
   "source": [
    "grad_17['income_group_pp'] = pd.cut(grad_17['HH Income + Consumption + Residues/Day (USD_adult_equiv_adj)'], bins=boundaries_ppp, labels=labels_ppp, right=False)"
   ]
  },
  {
   "cell_type": "code",
   "execution_count": 171,
   "id": "5df1a855-a687-45d4-b66e-c1d60ea13042",
   "metadata": {},
   "outputs": [
    {
     "data": {
      "text/plain": [
       "income_group_usdconst\n",
       ">1.05+/Day        0.414027\n",
       "0.75-<1.05/Day    0.180995\n",
       "0.25-<.45/Day     0.141780\n",
       "0.45-<0.63/Day    0.138763\n",
       "0.63-<0.75/Day    0.092760\n",
       "0-<0.25/Day       0.031674\n",
       "Name: proportion, dtype: float64"
      ]
     },
     "execution_count": 171,
     "metadata": {},
     "output_type": "execute_result"
    }
   ],
   "source": [
    "grad_17['income_group_usdconst'].value_counts(normalize=True)"
   ]
  },
  {
   "cell_type": "code",
   "execution_count": 172,
   "id": "a8f60069-dd6a-4516-99ec-9a05c6ad9d73",
   "metadata": {},
   "outputs": [
    {
     "data": {
      "text/plain": [
       "income_group_pp\n",
       ">3+/Day            0.426848\n",
       "2.15-3/Day         0.176471\n",
       "1.25-<1.77/Day     0.146305\n",
       "0.75-<1.25/Day     0.113876\n",
       "1.77-<2.15 /Day    0.102564\n",
       "0-<0.75/Day        0.033937\n",
       "Name: proportion, dtype: float64"
      ]
     },
     "execution_count": 172,
     "metadata": {},
     "output_type": "execute_result"
    }
   ],
   "source": [
    "grad_17['income_group_pp'].value_counts(normalize=True)"
   ]
  },
  {
   "cell_type": "code",
   "execution_count": null,
   "id": "68cf87c2-3d6d-48df-a8f9-75678381ce54",
   "metadata": {},
   "outputs": [],
   "source": []
  },
  {
   "cell_type": "code",
   "execution_count": null,
   "id": "d376609f-37ca-4272-b2c4-75899792e927",
   "metadata": {},
   "outputs": [],
   "source": []
  },
  {
   "cell_type": "code",
   "execution_count": null,
   "id": "d349b195-0a44-4444-94b5-6cec2adf2f4b",
   "metadata": {},
   "outputs": [],
   "source": []
  },
  {
   "cell_type": "markdown",
   "id": "0dc44a30-e3a5-4788-869a-ce16d186d1e5",
   "metadata": {
    "jp-MarkdownHeadingCollapsed": true
   },
   "source": [
    "## Baseline 2021"
   ]
  },
  {
   "cell_type": "code",
   "execution_count": 1,
   "id": "5c37e392-adb2-446c-af0c-a5bb0f3a5cdf",
   "metadata": {},
   "outputs": [],
   "source": [
    "import numpy as np"
   ]
  },
  {
   "cell_type": "code",
   "execution_count": 4,
   "id": "e94d0273-6aad-4545-b180-6868874fc476",
   "metadata": {},
   "outputs": [],
   "source": [
    "base = pd.read_excel('ALL2021cohorts.xlsx', sheet_name='All2021CohortBaseline',header=5)\n",
    "rub_base = pd.read_excel('ALL2021cohorts.xlsx', sheet_name='Rubanda2021Cohort_Base',header=5)"
   ]
  },
  {
   "cell_type": "code",
   "execution_count": 94,
   "id": "86a570da-4dbf-40f1-a4a5-a1ddceadb271",
   "metadata": {},
   "outputs": [
    {
     "data": {
      "text/plain": [
       "0         17.581667\n",
       "1         17.581667\n",
       "2         45.210000\n",
       "3         60.280000\n",
       "4         30.140000\n",
       "           ...     \n",
       "1414     509.868333\n",
       "1415     781.128333\n",
       "1416    1306.066667\n",
       "1417    1940.513667\n",
       "1418    1584.861667\n",
       "Name: HH Income (USD_Cons_rate), Length: 1419, dtype: float64"
      ]
     },
     "execution_count": 94,
     "metadata": {},
     "output_type": "execute_result"
    }
   ],
   "source": [
    "base['HH Income (USD_Cons_rate)']"
   ]
  },
  {
   "cell_type": "code",
   "execution_count": 19,
   "id": "5f5cc76f-ecb9-46c2-9752-5339c0d59123",
   "metadata": {},
   "outputs": [
    {
     "data": {
      "text/plain": [
       "(1419, 6736)"
      ]
     },
     "execution_count": 19,
     "metadata": {},
     "output_type": "execute_result"
    }
   ],
   "source": [
    "base.shape"
   ]
  },
  {
   "cell_type": "code",
   "execution_count": 20,
   "id": "138f6d1a-046b-4669-bd53-58fcf7cec091",
   "metadata": {},
   "outputs": [
    {
     "data": {
      "text/plain": [
       "(319, 6715)"
      ]
     },
     "execution_count": 20,
     "metadata": {},
     "output_type": "execute_result"
    }
   ],
   "source": [
    "rub_base.shape"
   ]
  },
  {
   "cell_type": "code",
   "execution_count": 5,
   "id": "fa586cd5-0c9f-4e63-a150-f65c8158f212",
   "metadata": {},
   "outputs": [
    {
     "data": {
      "text/plain": [
       "0         72.838333\n",
       "1         72.838333\n",
       "2         90.420000\n",
       "3         90.671167\n",
       "4         60.531167\n",
       "           ...     \n",
       "1414     587.730000\n",
       "1415     900.181333\n",
       "1416    1632.583333\n",
       "1417    2145.968000\n",
       "1418    2190.173333\n",
       "Name: HH Income + Consumption + Residues (USD_Cons_rate), Length: 1419, dtype: float64"
      ]
     },
     "execution_count": 5,
     "metadata": {},
     "output_type": "execute_result"
    }
   ],
   "source": [
    "base['HH Income + Consumption + Residues (USD_Cons_rate)']."
   ]
  },
  {
   "cell_type": "code",
   "execution_count": 6,
   "id": "33dfacad-3c27-4dc8-bebc-39e659424ffe",
   "metadata": {},
   "outputs": [],
   "source": [
    "base_cohort = pd.concat([base[['Quartile','hhh_sex','hhh_age','HH Income + Consumption + Residues/Day (USD_con_adult_equiv_adj)','HH Income + Consumption + Residues/Day (USD_adult_equiv_adj)', 'HH Income + Consumption + Residues (USD_Cons_rate)']],\n",
    "               rub_base[['Quartile','hhh_sex','hhh_age','HH Income + Consumption + Residues/Day (USD_con_adult_equiv_adj)','HH Income + Consumption + Residues/Day (USD_adult_equiv_adj)', 'HH Income + Consumption + Residues (USD_Cons_rate)']]])"
   ]
  },
  {
   "cell_type": "code",
   "execution_count": 7,
   "id": "edfc2410-9e2c-45c8-8fa9-192168d3f89f",
   "metadata": {},
   "outputs": [
    {
     "data": {
      "text/html": [
       "<div>\n",
       "<style scoped>\n",
       "    .dataframe tbody tr th:only-of-type {\n",
       "        vertical-align: middle;\n",
       "    }\n",
       "\n",
       "    .dataframe tbody tr th {\n",
       "        vertical-align: top;\n",
       "    }\n",
       "\n",
       "    .dataframe thead th {\n",
       "        text-align: right;\n",
       "    }\n",
       "</style>\n",
       "<table border=\"1\" class=\"dataframe\">\n",
       "  <thead>\n",
       "    <tr style=\"text-align: right;\">\n",
       "      <th></th>\n",
       "      <th>Quartile</th>\n",
       "      <th>hhh_sex</th>\n",
       "      <th>hhh_age</th>\n",
       "      <th>HH Income + Consumption + Residues/Day (USD_con_adult_equiv_adj)</th>\n",
       "      <th>HH Income + Consumption + Residues/Day (USD_adult_equiv_adj)</th>\n",
       "      <th>HH Income + Consumption + Residues (USD_Cons_rate)</th>\n",
       "    </tr>\n",
       "  </thead>\n",
       "  <tbody>\n",
       "    <tr>\n",
       "      <th>0</th>\n",
       "      <td>Group 4</td>\n",
       "      <td>1</td>\n",
       "      <td>31</td>\n",
       "      <td>0.099779</td>\n",
       "      <td>0.282701</td>\n",
       "      <td>72.838333</td>\n",
       "    </tr>\n",
       "    <tr>\n",
       "      <th>1</th>\n",
       "      <td>Group 4</td>\n",
       "      <td>2</td>\n",
       "      <td>52</td>\n",
       "      <td>0.115214</td>\n",
       "      <td>0.326436</td>\n",
       "      <td>72.838333</td>\n",
       "    </tr>\n",
       "    <tr>\n",
       "      <th>2</th>\n",
       "      <td>Group 3</td>\n",
       "      <td>1</td>\n",
       "      <td>42</td>\n",
       "      <td>0.087584</td>\n",
       "      <td>0.248152</td>\n",
       "      <td>90.420000</td>\n",
       "    </tr>\n",
       "    <tr>\n",
       "      <th>3</th>\n",
       "      <td>Group 3</td>\n",
       "      <td>1</td>\n",
       "      <td>62</td>\n",
       "      <td>0.143422</td>\n",
       "      <td>0.406356</td>\n",
       "      <td>90.671167</td>\n",
       "    </tr>\n",
       "    <tr>\n",
       "      <th>4</th>\n",
       "      <td>Group 3</td>\n",
       "      <td>2</td>\n",
       "      <td>52</td>\n",
       "      <td>0.082919</td>\n",
       "      <td>0.234935</td>\n",
       "      <td>60.531167</td>\n",
       "    </tr>\n",
       "  </tbody>\n",
       "</table>\n",
       "</div>"
      ],
      "text/plain": [
       "  Quartile  hhh_sex  hhh_age  \\\n",
       "0  Group 4        1       31   \n",
       "1  Group 4        2       52   \n",
       "2  Group 3        1       42   \n",
       "3  Group 3        1       62   \n",
       "4  Group 3        2       52   \n",
       "\n",
       "   HH Income + Consumption + Residues/Day (USD_con_adult_equiv_adj)  \\\n",
       "0                                           0.099779                  \n",
       "1                                           0.115214                  \n",
       "2                                           0.087584                  \n",
       "3                                           0.143422                  \n",
       "4                                           0.082919                  \n",
       "\n",
       "   HH Income + Consumption + Residues/Day (USD_adult_equiv_adj)  \\\n",
       "0                                           0.282701              \n",
       "1                                           0.326436              \n",
       "2                                           0.248152              \n",
       "3                                           0.406356              \n",
       "4                                           0.234935              \n",
       "\n",
       "   HH Income + Consumption + Residues (USD_Cons_rate)  \n",
       "0                                          72.838333   \n",
       "1                                          72.838333   \n",
       "2                                          90.420000   \n",
       "3                                          90.671167   \n",
       "4                                          60.531167   "
      ]
     },
     "execution_count": 7,
     "metadata": {},
     "output_type": "execute_result"
    }
   ],
   "source": [
    "base_cohort.head()"
   ]
  },
  {
   "cell_type": "code",
   "execution_count": 11,
   "id": "25b49741-8436-481d-afaf-6aee7c09a2f3",
   "metadata": {},
   "outputs": [
    {
     "data": {
      "text/plain": [
       "mean      310.977039\n",
       "median    219.519667\n",
       "Name: HH Income + Consumption + Residues (USD_Cons_rate), dtype: float64"
      ]
     },
     "execution_count": 11,
     "metadata": {},
     "output_type": "execute_result"
    }
   ],
   "source": [
    "base_cohort['HH Income + Consumption + Residues (USD_Cons_rate)'].agg(['mean', 'median'])"
   ]
  },
  {
   "cell_type": "code",
   "execution_count": 70,
   "id": "5fe313ea-00bf-43e7-960a-833ae68801f3",
   "metadata": {},
   "outputs": [
    {
     "data": {
      "text/plain": [
       "Gender\n",
       "Male      1307\n",
       "Female     431\n",
       "Name: count, dtype: int64"
      ]
     },
     "execution_count": 70,
     "metadata": {},
     "output_type": "execute_result"
    }
   ],
   "source": [
    "sex_mapping = {1: 'Male', 2: 'Female'}\n",
    "base_cohort['Gender'] = base_cohort['hhh_sex'].replace(sex_mapping)\n",
    "base_cohort['Gender'].value_counts()"
   ]
  },
  {
   "cell_type": "code",
   "execution_count": 37,
   "id": "f4cadf24-b826-41a6-b0d7-938a15575e79",
   "metadata": {},
   "outputs": [],
   "source": [
    "base_cohort['Household_Head_Gender'] = base_cohort['Gender']"
   ]
  },
  {
   "cell_type": "code",
   "execution_count": 72,
   "id": "ed49d870-143c-468f-aa97-c1e33c9db739",
   "metadata": {},
   "outputs": [],
   "source": [
    "base_cohort['Household_Head_Gender'] = base_cohort.apply(lambda row: 'Youth Headed' if row['hhh_age'] <= 30 else str(row['Household_Head_Gender']) + ' Headed', axis=1)"
   ]
  },
  {
   "cell_type": "code",
   "execution_count": 73,
   "id": "ba2174a6-6163-4992-a6c5-5fbe5751603b",
   "metadata": {},
   "outputs": [
    {
     "data": {
      "text/plain": [
       "Household_Head_Gender\n",
       "Male Headed Headed      1034\n",
       "Female Headed Headed     396\n",
       "Youth Headed             308\n",
       "Name: count, dtype: int64"
      ]
     },
     "execution_count": 73,
     "metadata": {},
     "output_type": "execute_result"
    }
   ],
   "source": [
    "base_cohort['Household_Head_Gender'].value_counts()"
   ]
  },
  {
   "cell_type": "code",
   "execution_count": 42,
   "id": "d89fcf1c-37d4-42fb-ba5f-9c85014bfe70",
   "metadata": {},
   "outputs": [],
   "source": [
    "base_cohort.to_excel(\"base_cohort.xlsx\", index=False)"
   ]
  },
  {
   "cell_type": "code",
   "execution_count": 43,
   "id": "abead333-2ac3-4b66-bbe0-20e7be5a2b09",
   "metadata": {},
   "outputs": [],
   "source": [
    "import pandas as pd"
   ]
  },
  {
   "cell_type": "code",
   "execution_count": 44,
   "id": "c185e3ec-3143-47e2-a683-be7dc6a8a1e4",
   "metadata": {},
   "outputs": [],
   "source": [
    "base_cohort = pd.read_excel(\"base_cohort.xlsx\")"
   ]
  },
  {
   "cell_type": "code",
   "execution_count": 45,
   "id": "1958d603-2a32-42d7-a6e5-91762ea92dfb",
   "metadata": {},
   "outputs": [
    {
     "data": {
      "text/html": [
       "<div>\n",
       "<style scoped>\n",
       "    .dataframe tbody tr th:only-of-type {\n",
       "        vertical-align: middle;\n",
       "    }\n",
       "\n",
       "    .dataframe tbody tr th {\n",
       "        vertical-align: top;\n",
       "    }\n",
       "\n",
       "    .dataframe thead th {\n",
       "        text-align: right;\n",
       "    }\n",
       "</style>\n",
       "<table border=\"1\" class=\"dataframe\">\n",
       "  <thead>\n",
       "    <tr style=\"text-align: right;\">\n",
       "      <th></th>\n",
       "      <th>Quartile</th>\n",
       "      <th>hhh_sex</th>\n",
       "      <th>hhh_age</th>\n",
       "      <th>HH Income + Consumption + Residues/Day (USD_con_adult_equiv_adj)</th>\n",
       "      <th>HH Income + Consumption + Residues/Day (USD_adult_equiv_adj)</th>\n",
       "      <th>Gender</th>\n",
       "      <th>Household_Head_Gender</th>\n",
       "    </tr>\n",
       "  </thead>\n",
       "  <tbody>\n",
       "    <tr>\n",
       "      <th>0</th>\n",
       "      <td>Group 4</td>\n",
       "      <td>1</td>\n",
       "      <td>31</td>\n",
       "      <td>0.099779</td>\n",
       "      <td>0.282701</td>\n",
       "      <td>Male</td>\n",
       "      <td>Male Headed</td>\n",
       "    </tr>\n",
       "    <tr>\n",
       "      <th>1</th>\n",
       "      <td>Group 4</td>\n",
       "      <td>2</td>\n",
       "      <td>52</td>\n",
       "      <td>0.115214</td>\n",
       "      <td>0.326436</td>\n",
       "      <td>Female</td>\n",
       "      <td>Female Headed</td>\n",
       "    </tr>\n",
       "    <tr>\n",
       "      <th>2</th>\n",
       "      <td>Group 3</td>\n",
       "      <td>1</td>\n",
       "      <td>42</td>\n",
       "      <td>0.087584</td>\n",
       "      <td>0.248152</td>\n",
       "      <td>Male</td>\n",
       "      <td>Male Headed</td>\n",
       "    </tr>\n",
       "    <tr>\n",
       "      <th>3</th>\n",
       "      <td>Group 3</td>\n",
       "      <td>1</td>\n",
       "      <td>62</td>\n",
       "      <td>0.143422</td>\n",
       "      <td>0.406356</td>\n",
       "      <td>Male</td>\n",
       "      <td>Male Headed</td>\n",
       "    </tr>\n",
       "    <tr>\n",
       "      <th>4</th>\n",
       "      <td>Group 3</td>\n",
       "      <td>2</td>\n",
       "      <td>52</td>\n",
       "      <td>0.082919</td>\n",
       "      <td>0.234935</td>\n",
       "      <td>Female</td>\n",
       "      <td>Female Headed</td>\n",
       "    </tr>\n",
       "  </tbody>\n",
       "</table>\n",
       "</div>"
      ],
      "text/plain": [
       "  Quartile  hhh_sex  hhh_age  \\\n",
       "0  Group 4        1       31   \n",
       "1  Group 4        2       52   \n",
       "2  Group 3        1       42   \n",
       "3  Group 3        1       62   \n",
       "4  Group 3        2       52   \n",
       "\n",
       "   HH Income + Consumption + Residues/Day (USD_con_adult_equiv_adj)  \\\n",
       "0                                           0.099779                  \n",
       "1                                           0.115214                  \n",
       "2                                           0.087584                  \n",
       "3                                           0.143422                  \n",
       "4                                           0.082919                  \n",
       "\n",
       "   HH Income + Consumption + Residues/Day (USD_adult_equiv_adj)  Gender  \\\n",
       "0                                           0.282701               Male   \n",
       "1                                           0.326436             Female   \n",
       "2                                           0.248152               Male   \n",
       "3                                           0.406356               Male   \n",
       "4                                           0.234935             Female   \n",
       "\n",
       "  Household_Head_Gender  \n",
       "0           Male Headed  \n",
       "1         Female Headed  \n",
       "2           Male Headed  \n",
       "3           Male Headed  \n",
       "4         Female Headed  "
      ]
     },
     "execution_count": 45,
     "metadata": {},
     "output_type": "execute_result"
    }
   ],
   "source": [
    "base_cohort.head()"
   ]
  },
  {
   "cell_type": "code",
   "execution_count": 101,
   "id": "fe9dd72e-7f19-4182-9262-748d3c7ab426",
   "metadata": {},
   "outputs": [
    {
     "data": {
      "text/plain": [
       "Quartile\n",
       "Group 4    0.346375\n",
       "Group 2    0.263521\n",
       "Group 3    0.246835\n",
       "Group 1    0.143268\n",
       "Name: proportion, dtype: float64"
      ]
     },
     "execution_count": 101,
     "metadata": {},
     "output_type": "execute_result"
    }
   ],
   "source": [
    "base_cohort['Quartile'].value_counts(normalize=True)"
   ]
  },
  {
   "cell_type": "code",
   "execution_count": 102,
   "id": "dd686734-fc7b-43df-b186-cc5f0b3a7fe8",
   "metadata": {},
   "outputs": [
    {
     "data": {
      "text/html": [
       "<div>\n",
       "<style scoped>\n",
       "    .dataframe tbody tr th:only-of-type {\n",
       "        vertical-align: middle;\n",
       "    }\n",
       "\n",
       "    .dataframe tbody tr th {\n",
       "        vertical-align: top;\n",
       "    }\n",
       "\n",
       "    .dataframe thead tr th {\n",
       "        text-align: left;\n",
       "    }\n",
       "\n",
       "    .dataframe thead tr:last-of-type th {\n",
       "        text-align: right;\n",
       "    }\n",
       "</style>\n",
       "<table border=\"1\" class=\"dataframe\">\n",
       "  <thead>\n",
       "    <tr>\n",
       "      <th></th>\n",
       "      <th colspan=\"2\" halign=\"left\">HH Income + Consumption + Residues/Day (USD_con_adult_equiv_adj)</th>\n",
       "      <th colspan=\"2\" halign=\"left\">HH Income + Consumption + Residues/Day (USD_adult_equiv_adj)</th>\n",
       "    </tr>\n",
       "    <tr>\n",
       "      <th></th>\n",
       "      <th>median</th>\n",
       "      <th>mean</th>\n",
       "      <th>median</th>\n",
       "      <th>mean</th>\n",
       "    </tr>\n",
       "    <tr>\n",
       "      <th>Quartile</th>\n",
       "      <th></th>\n",
       "      <th></th>\n",
       "      <th></th>\n",
       "      <th></th>\n",
       "    </tr>\n",
       "  </thead>\n",
       "  <tbody>\n",
       "    <tr>\n",
       "      <th>Group 1</th>\n",
       "      <td>0.473111</td>\n",
       "      <td>0.760744</td>\n",
       "      <td>1.340460</td>\n",
       "      <td>2.155407</td>\n",
       "    </tr>\n",
       "    <tr>\n",
       "      <th>Group 2</th>\n",
       "      <td>0.376065</td>\n",
       "      <td>0.477772</td>\n",
       "      <td>1.065500</td>\n",
       "      <td>1.353665</td>\n",
       "    </tr>\n",
       "    <tr>\n",
       "      <th>Group 3</th>\n",
       "      <td>0.289515</td>\n",
       "      <td>0.362693</td>\n",
       "      <td>0.820280</td>\n",
       "      <td>1.027615</td>\n",
       "    </tr>\n",
       "    <tr>\n",
       "      <th>Group 4</th>\n",
       "      <td>0.198903</td>\n",
       "      <td>0.255443</td>\n",
       "      <td>0.563549</td>\n",
       "      <td>0.723745</td>\n",
       "    </tr>\n",
       "  </tbody>\n",
       "</table>\n",
       "</div>"
      ],
      "text/plain": [
       "         HH Income + Consumption + Residues/Day (USD_con_adult_equiv_adj)  \\\n",
       "                                                                   median   \n",
       "Quartile                                                                    \n",
       "Group 1                                            0.473111                 \n",
       "Group 2                                            0.376065                 \n",
       "Group 3                                            0.289515                 \n",
       "Group 4                                            0.198903                 \n",
       "\n",
       "                    \\\n",
       "              mean   \n",
       "Quartile             \n",
       "Group 1   0.760744   \n",
       "Group 2   0.477772   \n",
       "Group 3   0.362693   \n",
       "Group 4   0.255443   \n",
       "\n",
       "         HH Income + Consumption + Residues/Day (USD_adult_equiv_adj)  \\\n",
       "                                                               median   \n",
       "Quartile                                                                \n",
       "Group 1                                            1.340460             \n",
       "Group 2                                            1.065500             \n",
       "Group 3                                            0.820280             \n",
       "Group 4                                            0.563549             \n",
       "\n",
       "                    \n",
       "              mean  \n",
       "Quartile            \n",
       "Group 1   2.155407  \n",
       "Group 2   1.353665  \n",
       "Group 3   1.027615  \n",
       "Group 4   0.723745  "
      ]
     },
     "execution_count": 102,
     "metadata": {},
     "output_type": "execute_result"
    }
   ],
   "source": [
    "base_cohort.groupby('Quartile')[['HH Income + Consumption + Residues/Day (USD_con_adult_equiv_adj)',\n",
    "                                'HH Income + Consumption + Residues/Day (USD_adult_equiv_adj)']].agg(['median','mean'])"
   ]
  },
  {
   "cell_type": "markdown",
   "id": "da89ce21-c3bc-41fc-9ae4-2d615ef744b3",
   "metadata": {},
   "source": [
    "0-<0.25/Day\n",
    "0.25-<.45/Day\n",
    "0.45-<0.63/Day\n",
    "0.63-<0.75/Day\n",
    "0.75-<1.05/Day\n",
    "1.05+/Day"
   ]
  },
  {
   "cell_type": "markdown",
   "id": "a476f12d-2874-4225-aed2-bdf017f99928",
   "metadata": {},
   "source": [
    "0-<0.75/Day\n",
    "0.75-<1.25/Day\n",
    "1.25-<1.77/Day\n",
    "1.77-<2.15 /Day\n",
    "2.15-3/Day\n",
    "3+/Day"
   ]
  },
  {
   "cell_type": "markdown",
   "id": "db1b6512-c15f-4853-824f-b05533a4d625",
   "metadata": {},
   "source": []
  },
  {
   "cell_type": "code",
   "execution_count": null,
   "id": "bf1522c7-a5f3-4a52-a2e7-4012cec1e537",
   "metadata": {},
   "outputs": [],
   "source": []
  },
  {
   "cell_type": "code",
   "execution_count": 59,
   "id": "7b54ee14-4a96-4436-90af-e2ac60becb1d",
   "metadata": {},
   "outputs": [],
   "source": [
    "base_cohort['income_group_usdconst'] = pd.cut(base_cohort['HH Income + Consumption + Residues/Day (USD_con_adult_equiv_adj)'], bins=boundaries, labels=labels, right=False)"
   ]
  },
  {
   "cell_type": "code",
   "execution_count": 61,
   "id": "ed34a00a-fd22-4950-91f0-866a8b1babfb",
   "metadata": {},
   "outputs": [],
   "source": [
    "base_cohort['income_group_pp'] = pd.cut(base_cohort['HH Income + Consumption + Residues/Day (USD_adult_equiv_adj)'], bins=boundaries_ppp, labels=labels_ppp, right=False)"
   ]
  },
  {
   "cell_type": "code",
   "execution_count": 62,
   "id": "cdee00a3-8db5-484e-89f3-fe84cf1c74ac",
   "metadata": {},
   "outputs": [
    {
     "data": {
      "text/plain": [
       "income_group_usdconst\n",
       "0-<0.25/Day       0.426928\n",
       "0.25-<.45/Day     0.300345\n",
       "0.45-<0.63/Day    0.118527\n",
       "0.75-<1.05/Day    0.060414\n",
       ">1.05+/Day        0.056387\n",
       "0.63-<0.75/Day    0.037399\n",
       "Name: proportion, dtype: float64"
      ]
     },
     "execution_count": 62,
     "metadata": {},
     "output_type": "execute_result"
    }
   ],
   "source": [
    "base_cohort['income_group_usdconst'].value_counts(normalize=True)"
   ]
  },
  {
   "cell_type": "code",
   "execution_count": 63,
   "id": "590e5d5a-f197-4bfc-b9c2-46564d511929",
   "metadata": {},
   "outputs": [
    {
     "data": {
      "text/plain": [
       "income_group_pp\n",
       "0-<0.75/Day        0.450518\n",
       "0.75-<1.25/Day     0.265247\n",
       "1.25-<1.77/Day     0.130035\n",
       "2.15-3/Day         0.058113\n",
       ">3+/Day            0.055811\n",
       "1.77-<2.15 /Day    0.040276\n",
       "Name: proportion, dtype: float64"
      ]
     },
     "execution_count": 63,
     "metadata": {},
     "output_type": "execute_result"
    }
   ],
   "source": [
    "base_cohort['income_group_pp'].value_counts(normalize=True)"
   ]
  },
  {
   "cell_type": "code",
   "execution_count": null,
   "id": "c204e094-4c15-417a-86cb-69dafae0d18b",
   "metadata": {},
   "outputs": [],
   "source": []
  },
  {
   "cell_type": "code",
   "execution_count": 74,
   "id": "8a717c18-084c-497f-93f1-03d41dd5df6c",
   "metadata": {},
   "outputs": [
    {
     "data": {
      "text/html": [
       "<div>\n",
       "<style scoped>\n",
       "    .dataframe tbody tr th:only-of-type {\n",
       "        vertical-align: middle;\n",
       "    }\n",
       "\n",
       "    .dataframe tbody tr th {\n",
       "        vertical-align: top;\n",
       "    }\n",
       "\n",
       "    .dataframe thead th {\n",
       "        text-align: right;\n",
       "    }\n",
       "</style>\n",
       "<table border=\"1\" class=\"dataframe\">\n",
       "  <thead>\n",
       "    <tr style=\"text-align: right;\">\n",
       "      <th></th>\n",
       "      <th>Quartile</th>\n",
       "      <th>hhh_sex</th>\n",
       "      <th>hhh_age</th>\n",
       "      <th>HH Income + Consumption + Residues/Day (USD_con_adult_equiv_adj)</th>\n",
       "      <th>HH Income + Consumption + Residues/Day (USD_adult_equiv_adj)</th>\n",
       "      <th>Gender</th>\n",
       "      <th>Household_Head_Gender</th>\n",
       "      <th>income_group_usdconst</th>\n",
       "      <th>income_group_pp</th>\n",
       "    </tr>\n",
       "  </thead>\n",
       "  <tbody>\n",
       "    <tr>\n",
       "      <th>0</th>\n",
       "      <td>Group 4</td>\n",
       "      <td>1</td>\n",
       "      <td>31</td>\n",
       "      <td>0.099779</td>\n",
       "      <td>0.282701</td>\n",
       "      <td>Male</td>\n",
       "      <td>Male Headed Headed</td>\n",
       "      <td>0-&lt;0.25/Day</td>\n",
       "      <td>0-&lt;0.75/Day</td>\n",
       "    </tr>\n",
       "    <tr>\n",
       "      <th>1</th>\n",
       "      <td>Group 4</td>\n",
       "      <td>2</td>\n",
       "      <td>52</td>\n",
       "      <td>0.115214</td>\n",
       "      <td>0.326436</td>\n",
       "      <td>Female</td>\n",
       "      <td>Female Headed Headed</td>\n",
       "      <td>0-&lt;0.25/Day</td>\n",
       "      <td>0-&lt;0.75/Day</td>\n",
       "    </tr>\n",
       "    <tr>\n",
       "      <th>2</th>\n",
       "      <td>Group 3</td>\n",
       "      <td>1</td>\n",
       "      <td>42</td>\n",
       "      <td>0.087584</td>\n",
       "      <td>0.248152</td>\n",
       "      <td>Male</td>\n",
       "      <td>Male Headed Headed</td>\n",
       "      <td>0-&lt;0.25/Day</td>\n",
       "      <td>0-&lt;0.75/Day</td>\n",
       "    </tr>\n",
       "    <tr>\n",
       "      <th>3</th>\n",
       "      <td>Group 3</td>\n",
       "      <td>1</td>\n",
       "      <td>62</td>\n",
       "      <td>0.143422</td>\n",
       "      <td>0.406356</td>\n",
       "      <td>Male</td>\n",
       "      <td>Male Headed Headed</td>\n",
       "      <td>0-&lt;0.25/Day</td>\n",
       "      <td>0-&lt;0.75/Day</td>\n",
       "    </tr>\n",
       "    <tr>\n",
       "      <th>4</th>\n",
       "      <td>Group 3</td>\n",
       "      <td>2</td>\n",
       "      <td>52</td>\n",
       "      <td>0.082919</td>\n",
       "      <td>0.234935</td>\n",
       "      <td>Female</td>\n",
       "      <td>Female Headed Headed</td>\n",
       "      <td>0-&lt;0.25/Day</td>\n",
       "      <td>0-&lt;0.75/Day</td>\n",
       "    </tr>\n",
       "  </tbody>\n",
       "</table>\n",
       "</div>"
      ],
      "text/plain": [
       "  Quartile  hhh_sex  hhh_age  \\\n",
       "0  Group 4        1       31   \n",
       "1  Group 4        2       52   \n",
       "2  Group 3        1       42   \n",
       "3  Group 3        1       62   \n",
       "4  Group 3        2       52   \n",
       "\n",
       "   HH Income + Consumption + Residues/Day (USD_con_adult_equiv_adj)  \\\n",
       "0                                           0.099779                  \n",
       "1                                           0.115214                  \n",
       "2                                           0.087584                  \n",
       "3                                           0.143422                  \n",
       "4                                           0.082919                  \n",
       "\n",
       "   HH Income + Consumption + Residues/Day (USD_adult_equiv_adj)  Gender  \\\n",
       "0                                           0.282701               Male   \n",
       "1                                           0.326436             Female   \n",
       "2                                           0.248152               Male   \n",
       "3                                           0.406356               Male   \n",
       "4                                           0.234935             Female   \n",
       "\n",
       "  Household_Head_Gender income_group_usdconst income_group_pp  \n",
       "0    Male Headed Headed           0-<0.25/Day     0-<0.75/Day  \n",
       "1  Female Headed Headed           0-<0.25/Day     0-<0.75/Day  \n",
       "2    Male Headed Headed           0-<0.25/Day     0-<0.75/Day  \n",
       "3    Male Headed Headed           0-<0.25/Day     0-<0.75/Day  \n",
       "4  Female Headed Headed           0-<0.25/Day     0-<0.75/Day  "
      ]
     },
     "execution_count": 74,
     "metadata": {},
     "output_type": "execute_result"
    }
   ],
   "source": [
    "base_cohort.head()"
   ]
  },
  {
   "cell_type": "code",
   "execution_count": 76,
   "id": "dca4acb2-e32d-4772-8cd5-fdb8a34135cf",
   "metadata": {},
   "outputs": [
    {
     "data": {
      "text/plain": [
       "Household_Head_Gender\n",
       "Male Headed Headed      1034\n",
       "Female Headed Headed     396\n",
       "Youth Headed             308\n",
       "Name: count, dtype: int64"
      ]
     },
     "execution_count": 76,
     "metadata": {},
     "output_type": "execute_result"
    }
   ],
   "source": [
    "base_cohort['Household_Head_Gender'].value_counts()"
   ]
  },
  {
   "cell_type": "code",
   "execution_count": 104,
   "id": "6cc4d4ba-8476-4fa2-b987-57b633d91c14",
   "metadata": {},
   "outputs": [
    {
     "data": {
      "text/html": [
       "<div>\n",
       "<style scoped>\n",
       "    .dataframe tbody tr th:only-of-type {\n",
       "        vertical-align: middle;\n",
       "    }\n",
       "\n",
       "    .dataframe tbody tr th {\n",
       "        vertical-align: top;\n",
       "    }\n",
       "\n",
       "    .dataframe thead tr th {\n",
       "        text-align: left;\n",
       "    }\n",
       "\n",
       "    .dataframe thead tr:last-of-type th {\n",
       "        text-align: right;\n",
       "    }\n",
       "</style>\n",
       "<table border=\"1\" class=\"dataframe\">\n",
       "  <thead>\n",
       "    <tr>\n",
       "      <th></th>\n",
       "      <th></th>\n",
       "      <th colspan=\"2\" halign=\"left\">HH Income + Consumption + Residues/Day (USD_con_adult_equiv_adj)</th>\n",
       "      <th colspan=\"2\" halign=\"left\">HH Income + Consumption + Residues/Day (USD_adult_equiv_adj)</th>\n",
       "    </tr>\n",
       "    <tr>\n",
       "      <th></th>\n",
       "      <th></th>\n",
       "      <th>median</th>\n",
       "      <th>mean</th>\n",
       "      <th>median</th>\n",
       "      <th>mean</th>\n",
       "    </tr>\n",
       "    <tr>\n",
       "      <th>Household_Head_Gender</th>\n",
       "      <th>Quartile</th>\n",
       "      <th></th>\n",
       "      <th></th>\n",
       "      <th></th>\n",
       "      <th></th>\n",
       "    </tr>\n",
       "  </thead>\n",
       "  <tbody>\n",
       "    <tr>\n",
       "      <th rowspan=\"4\" valign=\"top\">Female Headed Headed</th>\n",
       "      <th>Group 1</th>\n",
       "      <td>0.477151</td>\n",
       "      <td>0.735399</td>\n",
       "      <td>1.351907</td>\n",
       "      <td>2.083597</td>\n",
       "    </tr>\n",
       "    <tr>\n",
       "      <th>Group 2</th>\n",
       "      <td>0.359945</td>\n",
       "      <td>0.451564</td>\n",
       "      <td>1.019830</td>\n",
       "      <td>1.279411</td>\n",
       "    </tr>\n",
       "    <tr>\n",
       "      <th>Group 3</th>\n",
       "      <td>0.344172</td>\n",
       "      <td>0.404391</td>\n",
       "      <td>0.975140</td>\n",
       "      <td>1.145756</td>\n",
       "    </tr>\n",
       "    <tr>\n",
       "      <th>Group 4</th>\n",
       "      <td>0.209879</td>\n",
       "      <td>0.259862</td>\n",
       "      <td>0.594648</td>\n",
       "      <td>0.736263</td>\n",
       "    </tr>\n",
       "    <tr>\n",
       "      <th rowspan=\"4\" valign=\"top\">Male Headed Headed</th>\n",
       "      <th>Group 1</th>\n",
       "      <td>0.466450</td>\n",
       "      <td>0.771952</td>\n",
       "      <td>1.321588</td>\n",
       "      <td>2.187162</td>\n",
       "    </tr>\n",
       "    <tr>\n",
       "      <th>Group 2</th>\n",
       "      <td>0.379870</td>\n",
       "      <td>0.483592</td>\n",
       "      <td>1.076280</td>\n",
       "      <td>1.370156</td>\n",
       "    </tr>\n",
       "    <tr>\n",
       "      <th>Group 3</th>\n",
       "      <td>0.275045</td>\n",
       "      <td>0.335366</td>\n",
       "      <td>0.779283</td>\n",
       "      <td>0.950190</td>\n",
       "    </tr>\n",
       "    <tr>\n",
       "      <th>Group 4</th>\n",
       "      <td>0.184900</td>\n",
       "      <td>0.239383</td>\n",
       "      <td>0.523876</td>\n",
       "      <td>0.678241</td>\n",
       "    </tr>\n",
       "    <tr>\n",
       "      <th rowspan=\"4\" valign=\"top\">Youth Headed</th>\n",
       "      <th>Group 1</th>\n",
       "      <td>0.537641</td>\n",
       "      <td>0.748150</td>\n",
       "      <td>1.523293</td>\n",
       "      <td>2.119725</td>\n",
       "    </tr>\n",
       "    <tr>\n",
       "      <th>Group 2</th>\n",
       "      <td>0.360556</td>\n",
       "      <td>0.493921</td>\n",
       "      <td>1.021559</td>\n",
       "      <td>1.399421</td>\n",
       "    </tr>\n",
       "    <tr>\n",
       "      <th>Group 3</th>\n",
       "      <td>0.302088</td>\n",
       "      <td>0.397803</td>\n",
       "      <td>0.855903</td>\n",
       "      <td>1.127092</td>\n",
       "    </tr>\n",
       "    <tr>\n",
       "      <th>Group 4</th>\n",
       "      <td>0.245918</td>\n",
       "      <td>0.303308</td>\n",
       "      <td>0.696757</td>\n",
       "      <td>0.859359</td>\n",
       "    </tr>\n",
       "  </tbody>\n",
       "</table>\n",
       "</div>"
      ],
      "text/plain": [
       "                               HH Income + Consumption + Residues/Day (USD_con_adult_equiv_adj)  \\\n",
       "                                                                                         median   \n",
       "Household_Head_Gender Quartile                                                                    \n",
       "Female Headed Headed  Group 1                                            0.477151                 \n",
       "                      Group 2                                            0.359945                 \n",
       "                      Group 3                                            0.344172                 \n",
       "                      Group 4                                            0.209879                 \n",
       "Male Headed Headed    Group 1                                            0.466450                 \n",
       "                      Group 2                                            0.379870                 \n",
       "                      Group 3                                            0.275045                 \n",
       "                      Group 4                                            0.184900                 \n",
       "Youth Headed          Group 1                                            0.537641                 \n",
       "                      Group 2                                            0.360556                 \n",
       "                      Group 3                                            0.302088                 \n",
       "                      Group 4                                            0.245918                 \n",
       "\n",
       "                                          \\\n",
       "                                    mean   \n",
       "Household_Head_Gender Quartile             \n",
       "Female Headed Headed  Group 1   0.735399   \n",
       "                      Group 2   0.451564   \n",
       "                      Group 3   0.404391   \n",
       "                      Group 4   0.259862   \n",
       "Male Headed Headed    Group 1   0.771952   \n",
       "                      Group 2   0.483592   \n",
       "                      Group 3   0.335366   \n",
       "                      Group 4   0.239383   \n",
       "Youth Headed          Group 1   0.748150   \n",
       "                      Group 2   0.493921   \n",
       "                      Group 3   0.397803   \n",
       "                      Group 4   0.303308   \n",
       "\n",
       "                               HH Income + Consumption + Residues/Day (USD_adult_equiv_adj)  \\\n",
       "                                                                                     median   \n",
       "Household_Head_Gender Quartile                                                                \n",
       "Female Headed Headed  Group 1                                            1.351907             \n",
       "                      Group 2                                            1.019830             \n",
       "                      Group 3                                            0.975140             \n",
       "                      Group 4                                            0.594648             \n",
       "Male Headed Headed    Group 1                                            1.321588             \n",
       "                      Group 2                                            1.076280             \n",
       "                      Group 3                                            0.779283             \n",
       "                      Group 4                                            0.523876             \n",
       "Youth Headed          Group 1                                            1.523293             \n",
       "                      Group 2                                            1.021559             \n",
       "                      Group 3                                            0.855903             \n",
       "                      Group 4                                            0.696757             \n",
       "\n",
       "                                          \n",
       "                                    mean  \n",
       "Household_Head_Gender Quartile            \n",
       "Female Headed Headed  Group 1   2.083597  \n",
       "                      Group 2   1.279411  \n",
       "                      Group 3   1.145756  \n",
       "                      Group 4   0.736263  \n",
       "Male Headed Headed    Group 1   2.187162  \n",
       "                      Group 2   1.370156  \n",
       "                      Group 3   0.950190  \n",
       "                      Group 4   0.678241  \n",
       "Youth Headed          Group 1   2.119725  \n",
       "                      Group 2   1.399421  \n",
       "                      Group 3   1.127092  \n",
       "                      Group 4   0.859359  "
      ]
     },
     "execution_count": 104,
     "metadata": {},
     "output_type": "execute_result"
    }
   ],
   "source": [
    "base_cohort.groupby(['Household_Head_Gender', 'Quartile'])[['HH Income + Consumption + Residues/Day (USD_con_adult_equiv_adj)',\n",
    "                                              'HH Income + Consumption + Residues/Day (USD_adult_equiv_adj)']].agg(['median','mean'])"
   ]
  },
  {
   "cell_type": "code",
   "execution_count": 90,
   "id": "17e792e8-2c5d-4215-9376-065c9ea40a61",
   "metadata": {},
   "outputs": [
    {
     "data": {
      "text/plain": [
       "Household_Head_Gender  income_group_usdconst\n",
       "Female Headed Headed   0-<0.25/Day              0.396465\n",
       "                       0.25-<.45/Day            0.308081\n",
       "                       0.45-<0.63/Day           0.136364\n",
       "                       0.75-<1.05/Day           0.063131\n",
       "                       0.63-<0.75/Day           0.058081\n",
       "                       >1.05+/Day               0.037879\n",
       "Male Headed Headed     0-<0.25/Day              0.452611\n",
       "                       0.25-<.45/Day            0.303675\n",
       "                       0.45-<0.63/Day           0.104449\n",
       "                       >1.05+/Day               0.061896\n",
       "                       0.75-<1.05/Day           0.050290\n",
       "                       0.63-<0.75/Day           0.027079\n",
       "Youth Headed           0-<0.25/Day              0.379870\n",
       "                       0.25-<.45/Day            0.279221\n",
       "                       0.45-<0.63/Day           0.142857\n",
       "                       0.75-<1.05/Day           0.090909\n",
       "                       >1.05+/Day               0.061688\n",
       "                       0.63-<0.75/Day           0.045455\n",
       "Name: proportion, dtype: float64"
      ]
     },
     "execution_count": 90,
     "metadata": {},
     "output_type": "execute_result"
    }
   ],
   "source": [
    "base_cohort.groupby('Household_Head_Gender')['income_group_usdconst'].value_counts(normalize=True)"
   ]
  },
  {
   "cell_type": "code",
   "execution_count": 91,
   "id": "adc66e1e-90e2-4c9d-923f-7a627225d1d2",
   "metadata": {},
   "outputs": [
    {
     "data": {
      "text/plain": [
       "Household_Head_Gender  income_group_pp\n",
       "Female Headed Headed   0-<0.75/Day        0.419192\n",
       "                       0.75-<1.25/Day     0.267677\n",
       "                       1.25-<1.77/Day     0.154040\n",
       "                       2.15-3/Day         0.063131\n",
       "                       1.77-<2.15 /Day    0.058081\n",
       "                       >3+/Day            0.037879\n",
       "Male Headed Headed     0-<0.75/Day        0.473888\n",
       "                       0.75-<1.25/Day     0.269826\n",
       "                       1.25-<1.77/Day     0.117021\n",
       "                       >3+/Day            0.060928\n",
       "                       2.15-3/Day         0.049323\n",
       "                       1.77-<2.15 /Day    0.029014\n",
       "Youth Headed           0-<0.75/Day        0.412338\n",
       "                       0.75-<1.25/Day     0.246753\n",
       "                       1.25-<1.77/Day     0.142857\n",
       "                       2.15-3/Day         0.081169\n",
       "                       >3+/Day            0.061688\n",
       "                       1.77-<2.15 /Day    0.055195\n",
       "Name: proportion, dtype: float64"
      ]
     },
     "execution_count": 91,
     "metadata": {},
     "output_type": "execute_result"
    }
   ],
   "source": [
    "base_cohort.groupby('Household_Head_Gender')['income_group_pp'].value_counts(normalize=True)"
   ]
  },
  {
   "cell_type": "code",
   "execution_count": null,
   "id": "65c19f0f-0c1f-424c-bcd0-37f751c88969",
   "metadata": {},
   "outputs": [],
   "source": []
  },
  {
   "cell_type": "code",
   "execution_count": 99,
   "id": "6e7b6ed7-1a44-4ad2-8aa3-4775b30fa427",
   "metadata": {},
   "outputs": [
    {
     "data": {
      "text/plain": [
       "Quartile\n",
       "Group 4    0.346375\n",
       "Group 2    0.263521\n",
       "Group 3    0.246835\n",
       "Group 1    0.143268\n",
       "Name: proportion, dtype: float64"
      ]
     },
     "execution_count": 99,
     "metadata": {},
     "output_type": "execute_result"
    }
   ],
   "source": [
    "base_cohort['Quartile'].value_counts(normalize=True)"
   ]
  },
  {
   "cell_type": "code",
   "execution_count": null,
   "id": "96d7ac82-e3cc-4bb6-95a4-3499ca05a0cb",
   "metadata": {},
   "outputs": [],
   "source": []
  },
  {
   "cell_type": "markdown",
   "id": "d86d8a4b-4809-4a0b-928d-41d67cbcd6bd",
   "metadata": {
    "jp-MarkdownHeadingCollapsed": true
   },
   "source": [
    "## Peer"
   ]
  },
  {
   "cell_type": "markdown",
   "id": "023641b6-1394-48dd-a423-80094ce495ad",
   "metadata": {
    "jp-MarkdownHeadingCollapsed": true
   },
   "source": [
    "# Year 2"
   ]
  },
  {
   "cell_type": "code",
   "execution_count": null,
   "id": "91c10fb7-26aa-4177-ad08-9371ce13e55b",
   "metadata": {},
   "outputs": [],
   "source": [
    "peer_grad = pd.read_excel('ALL2021cohorts.xlsx', sheet_name='All2021ControlYr2',header=5)"
   ]
  },
  {
   "cell_type": "code",
   "execution_count": null,
   "id": "0610ab41-45c9-47be-9706-feb0c8435073",
   "metadata": {},
   "outputs": [],
   "source": [
    "peer_grad['Gender'] = peer_grad['hhh_sex'].replace(sex_mapping)\n",
    "peer_grad['Gender'].value_counts()"
   ]
  },
  {
   "cell_type": "code",
   "execution_count": null,
   "id": "fd92dafe-d34f-4ed0-9689-d5b0e9345bc7",
   "metadata": {},
   "outputs": [],
   "source": [
    "peer_grad['Household_Head_Gender'] = peer_grad['Gender']"
   ]
  },
  {
   "cell_type": "code",
   "execution_count": null,
   "id": "f6445083-5974-47c4-bc45-48b83d3b8a98",
   "metadata": {},
   "outputs": [],
   "source": [
    "peer_grad['Household_Head_Gender'] = peer_grad.apply(lambda row: 'Youth Headed' if row['hhh_age'] < 30 else str(row['Household_Head_Gender']) + ' Headed', axis=1)"
   ]
  },
  {
   "cell_type": "code",
   "execution_count": null,
   "id": "3647ecdf-bc5f-4862-889d-ad96686f47ab",
   "metadata": {},
   "outputs": [],
   "source": [
    "peer_grad['Household_Head_Gender'].value_counts()"
   ]
  },
  {
   "cell_type": "code",
   "execution_count": null,
   "id": "88fd540c-195a-4d12-83d6-2386bc0ace8e",
   "metadata": {},
   "outputs": [],
   "source": [
    "peer_grad.groupby('Household_Head_Gender')[['HH Income/Day (USD_adult_equiv_adj)','HH Income + Consumption + Residues/Day (USD_adult_equiv_adj)']].mean()"
   ]
  },
  {
   "cell_type": "code",
   "execution_count": null,
   "id": "521a704d-c2cf-4395-bc3b-039bf63780aa",
   "metadata": {},
   "outputs": [],
   "source": [
    "peer_grad.groupby('Household_Head_Gender')[['HH Income/Day (USD_adult_equiv_adj)',\n",
    "                                     'HH Income + Consumption + Residues/Day (USD_adult_equiv_adj)']].median()"
   ]
  },
  {
   "cell_type": "code",
   "execution_count": null,
   "id": "48a188d4-1b03-4a03-b6ea-26533961f2fa",
   "metadata": {},
   "outputs": [],
   "source": [
    "peer_grad['HH Income/Day (USD_adult_equiv_adj)'].mean(), peer_grad['HH Income/Day (USD_adult_equiv_adj)'].median()"
   ]
  },
  {
   "cell_type": "code",
   "execution_count": null,
   "id": "c300b747-dbc6-4597-9079-0784b99ed9b4",
   "metadata": {},
   "outputs": [],
   "source": [
    "peer_grad['HH Income + Consumption + Residues/Day (USD_adult_equiv_adj)'].mean(), peer_grad['HH Income + Consumption + Residues/Day (USD_adult_equiv_adj)'].median()"
   ]
  },
  {
   "cell_type": "code",
   "execution_count": null,
   "id": "cafa6ef3-9906-4d90-9558-5d3edd0c9b1d",
   "metadata": {},
   "outputs": [],
   "source": []
  },
  {
   "cell_type": "markdown",
   "id": "68020141-37c4-4e8d-a2eb-e34614e51a99",
   "metadata": {
    "jp-MarkdownHeadingCollapsed": true
   },
   "source": [
    "# Year one"
   ]
  },
  {
   "cell_type": "code",
   "execution_count": null,
   "id": "6a2490aa-c239-4645-b5b6-141b5ecd3e4e",
   "metadata": {},
   "outputs": [],
   "source": [
    "peer_grad_y1 = pd.read_excel('ALL2021cohorts.xlsx', sheet_name='All2021ControlYr1',header=5)"
   ]
  },
  {
   "cell_type": "code",
   "execution_count": null,
   "id": "236636cd-58ed-42a3-af46-7b31499824c0",
   "metadata": {},
   "outputs": [],
   "source": [
    "peer_grad_y1['Gender'] = peer_grad_y1['hhh_sex'].replace(sex_mapping)\n",
    "peer_grad_y1['Gender'].value_counts()"
   ]
  },
  {
   "cell_type": "code",
   "execution_count": null,
   "id": "2507c856-5942-42b2-af57-47a05e38f791",
   "metadata": {},
   "outputs": [],
   "source": [
    "peer_grad_y1['Household_Head_Gender'] = peer_grad_y1['Gender']"
   ]
  },
  {
   "cell_type": "code",
   "execution_count": null,
   "id": "4df74669-338b-44f1-9401-bdf5cf3e3678",
   "metadata": {},
   "outputs": [],
   "source": [
    "peer_grad_y1['Household_Head_Gender'] = peer_grad_y1.apply(lambda row: 'Youth Headed' if row['hhh_age'] < 30 else str(row['Household_Head_Gender']) + ' Headed', axis=1)"
   ]
  },
  {
   "cell_type": "code",
   "execution_count": null,
   "id": "fa84d72d-e4c2-4909-942b-8573936b7bc7",
   "metadata": {},
   "outputs": [],
   "source": [
    "peer_grad_y1['Household_Head_Gender'].value_counts()"
   ]
  },
  {
   "cell_type": "code",
   "execution_count": null,
   "id": "3309f91e-c5ee-4f03-a742-e8c33ac4acb1",
   "metadata": {},
   "outputs": [],
   "source": [
    "peer_grad_y1.groupby('Household_Head_Gender')[['HH Income/Day (USD_adult_equiv_adj)','HH Income + Consumption + Residues/Day (USD_adult_equiv_adj)']].mean()"
   ]
  },
  {
   "cell_type": "code",
   "execution_count": null,
   "id": "b478bbf0-4c05-43c7-b2de-98cad8a30877",
   "metadata": {},
   "outputs": [],
   "source": [
    "peer_grad_y1.groupby('Household_Head_Gender')[['HH Income/Day (USD_adult_equiv_adj)',\n",
    "                                     'HH Income + Consumption + Residues/Day (USD_adult_equiv_adj)']].median()"
   ]
  },
  {
   "cell_type": "code",
   "execution_count": null,
   "id": "537a24c7-2714-47c6-80c8-15e7f8af55d8",
   "metadata": {},
   "outputs": [],
   "source": [
    "peer_grad_y1['HH Income/Day (USD_adult_equiv_adj)'].mean(), peer_grad_y1['HH Income/Day (USD_adult_equiv_adj)'].median()"
   ]
  },
  {
   "cell_type": "code",
   "execution_count": null,
   "id": "e91b46e6-9ddf-4200-80d2-3c4928ca2fe7",
   "metadata": {},
   "outputs": [],
   "source": [
    "peer_grad_y1['HH Income + Consumption + Residues/Day (USD_adult_equiv_adj)'].mean(), peer_grad_y1['HH Income + Consumption + Residues/Day (USD_adult_equiv_adj)'].median()"
   ]
  },
  {
   "cell_type": "markdown",
   "id": "09ab4983-2632-4bec-9a93-66a038121594",
   "metadata": {
    "jp-MarkdownHeadingCollapsed": true
   },
   "source": [
    "# Baseline"
   ]
  },
  {
   "cell_type": "code",
   "execution_count": 54,
   "id": "7e72590e-3f0b-4599-a3b0-7ed29edd33ed",
   "metadata": {},
   "outputs": [],
   "source": [
    "base_peer = pd.read_excel('ALL2021cohorts.xlsx', sheet_name='All2021ControlBaseline',header=5)\n",
    "rub_base_peer = pd.read_excel('ALL2021cohorts.xlsx', sheet_name='Rubanda2021Control_Base',header=5)"
   ]
  },
  {
   "cell_type": "code",
   "execution_count": null,
   "id": "26116182-9873-437f-a4ea-827d3807117a",
   "metadata": {},
   "outputs": [],
   "source": [
    "base_peer.shape"
   ]
  },
  {
   "cell_type": "code",
   "execution_count": null,
   "id": "e57fd5b8-3567-4c05-b5ea-d2e07d54b630",
   "metadata": {},
   "outputs": [],
   "source": [
    "rub_base_peer.shape"
   ]
  },
  {
   "cell_type": "code",
   "execution_count": null,
   "id": "f58a7d22-a0b5-4e91-938e-9ef4c372df10",
   "metadata": {},
   "outputs": [],
   "source": []
  },
  {
   "cell_type": "code",
   "execution_count": 55,
   "id": "c34f345b-b761-47b5-a92c-d7c9a6907fc3",
   "metadata": {},
   "outputs": [],
   "source": [
    "base_peer = pd.concat([base_peer[['Quartile','hhh_sex','hhh_age','HH Income + Consumption + Residues/Day (USD_con_adult_equiv_adj)','HH Income + Consumption + Residues/Day (USD_adult_equiv_adj)']],\n",
    "               rub_base_peer[['Quartile','hhh_sex','hhh_age','HH Income + Consumption + Residues/Day (USD_con_adult_equiv_adj)','HH Income + Consumption + Residues/Day (USD_adult_equiv_adj)']]])"
   ]
  },
  {
   "cell_type": "code",
   "execution_count": 103,
   "id": "c3afcdfc-0448-49dd-b080-97d8cf56d766",
   "metadata": {},
   "outputs": [
    {
     "data": {
      "text/html": [
       "<div>\n",
       "<style scoped>\n",
       "    .dataframe tbody tr th:only-of-type {\n",
       "        vertical-align: middle;\n",
       "    }\n",
       "\n",
       "    .dataframe tbody tr th {\n",
       "        vertical-align: top;\n",
       "    }\n",
       "\n",
       "    .dataframe thead tr th {\n",
       "        text-align: left;\n",
       "    }\n",
       "\n",
       "    .dataframe thead tr:last-of-type th {\n",
       "        text-align: right;\n",
       "    }\n",
       "</style>\n",
       "<table border=\"1\" class=\"dataframe\">\n",
       "  <thead>\n",
       "    <tr>\n",
       "      <th></th>\n",
       "      <th colspan=\"2\" halign=\"left\">HH Income + Consumption + Residues/Day (USD_con_adult_equiv_adj)</th>\n",
       "      <th colspan=\"2\" halign=\"left\">HH Income + Consumption + Residues/Day (USD_adult_equiv_adj)</th>\n",
       "    </tr>\n",
       "    <tr>\n",
       "      <th></th>\n",
       "      <th>median</th>\n",
       "      <th>mean</th>\n",
       "      <th>median</th>\n",
       "      <th>mean</th>\n",
       "    </tr>\n",
       "    <tr>\n",
       "      <th>Quartile</th>\n",
       "      <th></th>\n",
       "      <th></th>\n",
       "      <th></th>\n",
       "      <th></th>\n",
       "    </tr>\n",
       "  </thead>\n",
       "  <tbody>\n",
       "    <tr>\n",
       "      <th>Group 1</th>\n",
       "      <td>0.616446</td>\n",
       "      <td>0.735998</td>\n",
       "      <td>1.746570</td>\n",
       "      <td>2.085295</td>\n",
       "    </tr>\n",
       "    <tr>\n",
       "      <th>Group 2</th>\n",
       "      <td>0.434151</td>\n",
       "      <td>0.500356</td>\n",
       "      <td>1.230075</td>\n",
       "      <td>1.417653</td>\n",
       "    </tr>\n",
       "    <tr>\n",
       "      <th>Group 3</th>\n",
       "      <td>0.352591</td>\n",
       "      <td>0.370039</td>\n",
       "      <td>0.998992</td>\n",
       "      <td>1.048428</td>\n",
       "    </tr>\n",
       "    <tr>\n",
       "      <th>Group 4</th>\n",
       "      <td>0.332382</td>\n",
       "      <td>0.322558</td>\n",
       "      <td>0.941733</td>\n",
       "      <td>0.913899</td>\n",
       "    </tr>\n",
       "  </tbody>\n",
       "</table>\n",
       "</div>"
      ],
      "text/plain": [
       "         HH Income + Consumption + Residues/Day (USD_con_adult_equiv_adj)  \\\n",
       "                                                                   median   \n",
       "Quartile                                                                    \n",
       "Group 1                                            0.616446                 \n",
       "Group 2                                            0.434151                 \n",
       "Group 3                                            0.352591                 \n",
       "Group 4                                            0.332382                 \n",
       "\n",
       "                    \\\n",
       "              mean   \n",
       "Quartile             \n",
       "Group 1   0.735998   \n",
       "Group 2   0.500356   \n",
       "Group 3   0.370039   \n",
       "Group 4   0.322558   \n",
       "\n",
       "         HH Income + Consumption + Residues/Day (USD_adult_equiv_adj)  \\\n",
       "                                                               median   \n",
       "Quartile                                                                \n",
       "Group 1                                            1.746570             \n",
       "Group 2                                            1.230075             \n",
       "Group 3                                            0.998992             \n",
       "Group 4                                            0.941733             \n",
       "\n",
       "                    \n",
       "              mean  \n",
       "Quartile            \n",
       "Group 1   2.085295  \n",
       "Group 2   1.417653  \n",
       "Group 3   1.048428  \n",
       "Group 4   0.913899  "
      ]
     },
     "execution_count": 103,
     "metadata": {},
     "output_type": "execute_result"
    }
   ],
   "source": [
    "base_peer.groupby('Quartile')[['HH Income + Consumption + Residues/Day (USD_con_adult_equiv_adj)',\n",
    "                                'HH Income + Consumption + Residues/Day (USD_adult_equiv_adj)']].agg(['median','mean'])"
   ]
  },
  {
   "cell_type": "code",
   "execution_count": 65,
   "id": "939b292a-35e0-4e53-8536-2019c599b2d2",
   "metadata": {},
   "outputs": [],
   "source": [
    "base_peer['income_group_usdconst'] = pd.cut(base_peer['HH Income + Consumption + Residues/Day (USD_con_adult_equiv_adj)'], bins=boundaries, labels=labels, right=False)"
   ]
  },
  {
   "cell_type": "code",
   "execution_count": 66,
   "id": "b8a21ffd-785e-42d0-98d3-c7a59fb65657",
   "metadata": {},
   "outputs": [],
   "source": [
    "base_peer['income_group_pp'] = pd.cut(base_peer['HH Income + Consumption + Residues/Day (USD_adult_equiv_adj)'], bins=boundaries_ppp, labels=labels_ppp, right=False)"
   ]
  },
  {
   "cell_type": "code",
   "execution_count": 67,
   "id": "e668acad-52c7-4878-9675-3f6850fa3bc8",
   "metadata": {},
   "outputs": [
    {
     "data": {
      "text/plain": [
       "income_group_usdconst\n",
       "0.25-<.45/Day     0.337263\n",
       "0.45-<0.63/Day    0.214762\n",
       "0-<0.25/Day       0.145054\n",
       "0.75-<1.05/Day    0.124039\n",
       ">1.05+/Day        0.095336\n",
       "0.63-<0.75/Day    0.083547\n",
       "Name: proportion, dtype: float64"
      ]
     },
     "execution_count": 67,
     "metadata": {},
     "output_type": "execute_result"
    }
   ],
   "source": [
    "base_peer['income_group_usdconst'].value_counts(normalize=True)"
   ]
  },
  {
   "cell_type": "code",
   "execution_count": 69,
   "id": "6202a6c1-b972-4539-bb86-68281a974bb6",
   "metadata": {},
   "outputs": [
    {
     "data": {
      "text/plain": [
       "income_group_pp\n",
       "0.75-<1.25/Day     0.303947\n",
       "1.25-<1.77/Day     0.227063\n",
       "0-<0.75/Day        0.162993\n",
       "2.15-3/Day         0.123014\n",
       ">3+/Day            0.093285\n",
       "1.77-<2.15 /Day    0.089698\n",
       "Name: proportion, dtype: float64"
      ]
     },
     "execution_count": 69,
     "metadata": {},
     "output_type": "execute_result"
    }
   ],
   "source": [
    "base_peer['income_group_pp'].value_counts(normalize=True)"
   ]
  },
  {
   "cell_type": "code",
   "execution_count": null,
   "id": "5386cb72-9833-4451-a443-5293307e59c8",
   "metadata": {},
   "outputs": [],
   "source": []
  },
  {
   "cell_type": "code",
   "execution_count": 79,
   "id": "7805d245-3aa2-40dd-9968-8d7c468bec7f",
   "metadata": {},
   "outputs": [
    {
     "data": {
      "text/plain": [
       "Gender\n",
       "Male      1479\n",
       "Female     472\n",
       "Name: count, dtype: int64"
      ]
     },
     "execution_count": 79,
     "metadata": {},
     "output_type": "execute_result"
    }
   ],
   "source": [
    "sex_mapping = {1: 'Male', 2: 'Female'}\n",
    "base_peer['Gender'] = base_peer['hhh_sex'].replace(sex_mapping)\n",
    "base_peer['Gender'].value_counts()"
   ]
  },
  {
   "cell_type": "code",
   "execution_count": 80,
   "id": "dd22e52e-997b-4e82-95ba-b387874d3c65",
   "metadata": {},
   "outputs": [],
   "source": [
    "base_peer['Household_Head_Gender'] = base_peer['Gender']"
   ]
  },
  {
   "cell_type": "code",
   "execution_count": 81,
   "id": "f2538261-56da-40e1-a3cb-60b5a068b6e8",
   "metadata": {},
   "outputs": [],
   "source": [
    "base_peer['Household_Head_Gender'] = base_peer.apply(lambda row: 'Youth Headed' if row['hhh_age'] <= 30 else str(row['Household_Head_Gender']) + ' Headed', axis=1)"
   ]
  },
  {
   "cell_type": "code",
   "execution_count": 82,
   "id": "7bd9899c-2a95-4d67-a58f-fc743ede0ec5",
   "metadata": {},
   "outputs": [
    {
     "data": {
      "text/plain": [
       "Household_Head_Gender\n",
       "Male Headed      1193\n",
       "Female Headed     444\n",
       "Youth Headed      314\n",
       "Name: count, dtype: int64"
      ]
     },
     "execution_count": 82,
     "metadata": {},
     "output_type": "execute_result"
    }
   ],
   "source": [
    "base_peer['Household_Head_Gender'].value_counts()"
   ]
  },
  {
   "cell_type": "code",
   "execution_count": 106,
   "id": "0117a795-2d02-4bbc-90fd-bcff66c30b4e",
   "metadata": {},
   "outputs": [
    {
     "data": {
      "text/html": [
       "<div>\n",
       "<style scoped>\n",
       "    .dataframe tbody tr th:only-of-type {\n",
       "        vertical-align: middle;\n",
       "    }\n",
       "\n",
       "    .dataframe tbody tr th {\n",
       "        vertical-align: top;\n",
       "    }\n",
       "\n",
       "    .dataframe thead tr th {\n",
       "        text-align: left;\n",
       "    }\n",
       "\n",
       "    .dataframe thead tr:last-of-type th {\n",
       "        text-align: right;\n",
       "    }\n",
       "</style>\n",
       "<table border=\"1\" class=\"dataframe\">\n",
       "  <thead>\n",
       "    <tr>\n",
       "      <th></th>\n",
       "      <th></th>\n",
       "      <th colspan=\"2\" halign=\"left\">HH Income + Consumption + Residues/Day (USD_con_adult_equiv_adj)</th>\n",
       "      <th colspan=\"2\" halign=\"left\">HH Income + Consumption + Residues/Day (USD_adult_equiv_adj)</th>\n",
       "    </tr>\n",
       "    <tr>\n",
       "      <th></th>\n",
       "      <th></th>\n",
       "      <th>median</th>\n",
       "      <th>mean</th>\n",
       "      <th>median</th>\n",
       "      <th>mean</th>\n",
       "    </tr>\n",
       "    <tr>\n",
       "      <th>Household_Head_Gender</th>\n",
       "      <th>Quartile</th>\n",
       "      <th></th>\n",
       "      <th></th>\n",
       "      <th></th>\n",
       "      <th></th>\n",
       "    </tr>\n",
       "  </thead>\n",
       "  <tbody>\n",
       "    <tr>\n",
       "      <th rowspan=\"4\" valign=\"top\">Female Headed</th>\n",
       "      <th>Group 1</th>\n",
       "      <td>0.574880</td>\n",
       "      <td>0.686279</td>\n",
       "      <td>1.628801</td>\n",
       "      <td>1.944426</td>\n",
       "    </tr>\n",
       "    <tr>\n",
       "      <th>Group 2</th>\n",
       "      <td>0.452519</td>\n",
       "      <td>0.516180</td>\n",
       "      <td>1.282118</td>\n",
       "      <td>1.462486</td>\n",
       "    </tr>\n",
       "    <tr>\n",
       "      <th>Group 3</th>\n",
       "      <td>0.357710</td>\n",
       "      <td>0.382124</td>\n",
       "      <td>1.013497</td>\n",
       "      <td>1.082667</td>\n",
       "    </tr>\n",
       "    <tr>\n",
       "      <th>Group 4</th>\n",
       "      <td>0.384398</td>\n",
       "      <td>0.426768</td>\n",
       "      <td>1.089111</td>\n",
       "      <td>1.209157</td>\n",
       "    </tr>\n",
       "    <tr>\n",
       "      <th rowspan=\"4\" valign=\"top\">Male Headed</th>\n",
       "      <th>Group 1</th>\n",
       "      <td>0.608940</td>\n",
       "      <td>0.741408</td>\n",
       "      <td>1.725304</td>\n",
       "      <td>2.100623</td>\n",
       "    </tr>\n",
       "    <tr>\n",
       "      <th>Group 2</th>\n",
       "      <td>0.417910</td>\n",
       "      <td>0.480280</td>\n",
       "      <td>1.184059</td>\n",
       "      <td>1.360773</td>\n",
       "    </tr>\n",
       "    <tr>\n",
       "      <th>Group 3</th>\n",
       "      <td>0.348454</td>\n",
       "      <td>0.350556</td>\n",
       "      <td>0.987272</td>\n",
       "      <td>0.993225</td>\n",
       "    </tr>\n",
       "    <tr>\n",
       "      <th>Group 4</th>\n",
       "      <td>0.312867</td>\n",
       "      <td>0.298938</td>\n",
       "      <td>0.886441</td>\n",
       "      <td>0.846977</td>\n",
       "    </tr>\n",
       "    <tr>\n",
       "      <th rowspan=\"4\" valign=\"top\">Youth Headed</th>\n",
       "      <th>Group 1</th>\n",
       "      <td>0.700663</td>\n",
       "      <td>0.778967</td>\n",
       "      <td>1.985182</td>\n",
       "      <td>2.207040</td>\n",
       "    </tr>\n",
       "    <tr>\n",
       "      <th>Group 2</th>\n",
       "      <td>0.503884</td>\n",
       "      <td>0.548889</td>\n",
       "      <td>1.427649</td>\n",
       "      <td>1.555160</td>\n",
       "    </tr>\n",
       "    <tr>\n",
       "      <th>Group 3</th>\n",
       "      <td>0.392056</td>\n",
       "      <td>0.428090</td>\n",
       "      <td>1.110808</td>\n",
       "      <td>1.212903</td>\n",
       "    </tr>\n",
       "    <tr>\n",
       "      <th>Group 4</th>\n",
       "      <td>0.277488</td>\n",
       "      <td>0.265122</td>\n",
       "      <td>0.786203</td>\n",
       "      <td>0.751168</td>\n",
       "    </tr>\n",
       "  </tbody>\n",
       "</table>\n",
       "</div>"
      ],
      "text/plain": [
       "                               HH Income + Consumption + Residues/Day (USD_con_adult_equiv_adj)  \\\n",
       "                                                                                         median   \n",
       "Household_Head_Gender Quartile                                                                    \n",
       "Female Headed         Group 1                                            0.574880                 \n",
       "                      Group 2                                            0.452519                 \n",
       "                      Group 3                                            0.357710                 \n",
       "                      Group 4                                            0.384398                 \n",
       "Male Headed           Group 1                                            0.608940                 \n",
       "                      Group 2                                            0.417910                 \n",
       "                      Group 3                                            0.348454                 \n",
       "                      Group 4                                            0.312867                 \n",
       "Youth Headed          Group 1                                            0.700663                 \n",
       "                      Group 2                                            0.503884                 \n",
       "                      Group 3                                            0.392056                 \n",
       "                      Group 4                                            0.277488                 \n",
       "\n",
       "                                          \\\n",
       "                                    mean   \n",
       "Household_Head_Gender Quartile             \n",
       "Female Headed         Group 1   0.686279   \n",
       "                      Group 2   0.516180   \n",
       "                      Group 3   0.382124   \n",
       "                      Group 4   0.426768   \n",
       "Male Headed           Group 1   0.741408   \n",
       "                      Group 2   0.480280   \n",
       "                      Group 3   0.350556   \n",
       "                      Group 4   0.298938   \n",
       "Youth Headed          Group 1   0.778967   \n",
       "                      Group 2   0.548889   \n",
       "                      Group 3   0.428090   \n",
       "                      Group 4   0.265122   \n",
       "\n",
       "                               HH Income + Consumption + Residues/Day (USD_adult_equiv_adj)  \\\n",
       "                                                                                     median   \n",
       "Household_Head_Gender Quartile                                                                \n",
       "Female Headed         Group 1                                            1.628801             \n",
       "                      Group 2                                            1.282118             \n",
       "                      Group 3                                            1.013497             \n",
       "                      Group 4                                            1.089111             \n",
       "Male Headed           Group 1                                            1.725304             \n",
       "                      Group 2                                            1.184059             \n",
       "                      Group 3                                            0.987272             \n",
       "                      Group 4                                            0.886441             \n",
       "Youth Headed          Group 1                                            1.985182             \n",
       "                      Group 2                                            1.427649             \n",
       "                      Group 3                                            1.110808             \n",
       "                      Group 4                                            0.786203             \n",
       "\n",
       "                                          \n",
       "                                    mean  \n",
       "Household_Head_Gender Quartile            \n",
       "Female Headed         Group 1   1.944426  \n",
       "                      Group 2   1.462486  \n",
       "                      Group 3   1.082667  \n",
       "                      Group 4   1.209157  \n",
       "Male Headed           Group 1   2.100623  \n",
       "                      Group 2   1.360773  \n",
       "                      Group 3   0.993225  \n",
       "                      Group 4   0.846977  \n",
       "Youth Headed          Group 1   2.207040  \n",
       "                      Group 2   1.555160  \n",
       "                      Group 3   1.212903  \n",
       "                      Group 4   0.751168  "
      ]
     },
     "execution_count": 106,
     "metadata": {},
     "output_type": "execute_result"
    }
   ],
   "source": [
    "base_peer.groupby(['Household_Head_Gender', 'Quartile'])[['HH Income + Consumption + Residues/Day (USD_con_adult_equiv_adj)',\n",
    "                                              'HH Income + Consumption + Residues/Day (USD_adult_equiv_adj)']].agg(['median','mean'])"
   ]
  },
  {
   "cell_type": "code",
   "execution_count": null,
   "id": "af570507-de3a-42a9-9c2e-f6c0edc7c26d",
   "metadata": {},
   "outputs": [],
   "source": []
  },
  {
   "cell_type": "code",
   "execution_count": 92,
   "id": "ab7cf3b0-e0a0-405a-be11-777df238b69b",
   "metadata": {},
   "outputs": [
    {
     "data": {
      "text/plain": [
       "Household_Head_Gender  income_group_usdconst\n",
       "Female Headed          0.25-<.45/Day            0.337838\n",
       "                       0.45-<0.63/Day           0.231982\n",
       "                       0-<0.25/Day              0.162162\n",
       "                       0.75-<1.05/Day           0.117117\n",
       "                       >1.05+/Day               0.081081\n",
       "                       0.63-<0.75/Day           0.069820\n",
       "Male Headed            0.25-<.45/Day            0.351215\n",
       "                       0.45-<0.63/Day           0.208718\n",
       "                       0-<0.25/Day              0.146689\n",
       "                       0.75-<1.05/Day           0.119866\n",
       "                       >1.05+/Day               0.096396\n",
       "                       0.63-<0.75/Day           0.077117\n",
       "Youth Headed           0.25-<.45/Day            0.283439\n",
       "                       0.45-<0.63/Day           0.213376\n",
       "                       0.75-<1.05/Day           0.149682\n",
       "                       0.63-<0.75/Day           0.127389\n",
       "                       0-<0.25/Day              0.114650\n",
       "                       >1.05+/Day               0.111465\n",
       "Name: proportion, dtype: float64"
      ]
     },
     "execution_count": 92,
     "metadata": {},
     "output_type": "execute_result"
    }
   ],
   "source": [
    "base_peer.groupby('Household_Head_Gender')['income_group_usdconst'].value_counts(normalize=True)"
   ]
  },
  {
   "cell_type": "code",
   "execution_count": 93,
   "id": "6e8083c2-d666-42a8-b819-15c34da9913d",
   "metadata": {},
   "outputs": [
    {
     "data": {
      "text/plain": [
       "Household_Head_Gender  income_group_pp\n",
       "Female Headed          0.75-<1.25/Day     0.306306\n",
       "                       1.25-<1.77/Day     0.243243\n",
       "                       0-<0.75/Day        0.175676\n",
       "                       2.15-3/Day         0.114865\n",
       "                       >3+/Day            0.081081\n",
       "                       1.77-<2.15 /Day    0.078829\n",
       "Male Headed            0.75-<1.25/Day     0.318525\n",
       "                       1.25-<1.77/Day     0.220453\n",
       "                       0-<0.75/Day        0.165130\n",
       "                       2.15-3/Day         0.116513\n",
       "                       >3+/Day            0.095557\n",
       "                       1.77-<2.15 /Day    0.083822\n",
       "Youth Headed           0.75-<1.25/Day     0.245223\n",
       "                       1.25-<1.77/Day     0.229299\n",
       "                       2.15-3/Day         0.159236\n",
       "                       0-<0.75/Day        0.136943\n",
       "                       1.77-<2.15 /Day    0.127389\n",
       "                       >3+/Day            0.101911\n",
       "Name: proportion, dtype: float64"
      ]
     },
     "execution_count": 93,
     "metadata": {},
     "output_type": "execute_result"
    }
   ],
   "source": [
    "base_peer.groupby('Household_Head_Gender')['income_group_pp'].value_counts(normalize=True)"
   ]
  },
  {
   "cell_type": "code",
   "execution_count": null,
   "id": "0ae680bd-254c-4849-abbf-c741a6344588",
   "metadata": {},
   "outputs": [],
   "source": []
  },
  {
   "cell_type": "code",
   "execution_count": 100,
   "id": "3e025e3b-cfb7-45bd-b7ba-bb80b8c6794d",
   "metadata": {},
   "outputs": [
    {
     "data": {
      "text/plain": [
       "Quartile\n",
       "Group 1    0.482829\n",
       "Group 3    0.278831\n",
       "Group 2    0.205536\n",
       "Group 4    0.032804\n",
       "Name: proportion, dtype: float64"
      ]
     },
     "execution_count": 100,
     "metadata": {},
     "output_type": "execute_result"
    }
   ],
   "source": [
    "base_peer['Quartile'].value_counts(normalize=True)"
   ]
  },
  {
   "cell_type": "code",
   "execution_count": null,
   "id": "e96c22ee-0906-4abb-8293-c2edee12908e",
   "metadata": {},
   "outputs": [],
   "source": []
  },
  {
   "cell_type": "code",
   "execution_count": null,
   "id": "98b742a0-8756-4d63-afbf-453e99ceb0f0",
   "metadata": {},
   "outputs": [],
   "source": []
  },
  {
   "cell_type": "code",
   "execution_count": null,
   "id": "6b971556-4353-40b2-8987-90591592f36f",
   "metadata": {},
   "outputs": [],
   "source": []
  },
  {
   "cell_type": "code",
   "execution_count": null,
   "id": "c7e985e3-fcfb-4867-badc-e0d5c171232d",
   "metadata": {},
   "outputs": [],
   "source": []
  }
 ],
 "metadata": {
  "kernelspec": {
   "display_name": "Python 3 (ipykernel)",
   "language": "python",
   "name": "python3"
  },
  "language_info": {
   "codemirror_mode": {
    "name": "ipython",
    "version": 3
   },
   "file_extension": ".py",
   "mimetype": "text/x-python",
   "name": "python",
   "nbconvert_exporter": "python",
   "pygments_lexer": "ipython3",
   "version": "3.10.9"
  }
 },
 "nbformat": 4,
 "nbformat_minor": 5
}
