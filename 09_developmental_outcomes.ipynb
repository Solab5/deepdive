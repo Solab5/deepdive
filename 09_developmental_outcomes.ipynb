{
 "cells": [
  {
   "cell_type": "markdown",
   "id": "50aaee19-c685-4f7f-8b71-15c4f12e5595",
   "metadata": {},
   "source": [
    "## Graduation"
   ]
  },
  {
   "cell_type": "code",
   "execution_count": 1,
   "id": "7342ca53-17e1-455a-94ed-327d084779b2",
   "metadata": {},
   "outputs": [],
   "source": [
    "from fastai.imports import *"
   ]
  },
  {
   "cell_type": "code",
   "execution_count": 2,
   "id": "34dd7d4c-a660-4f6f-845a-8bb598178c12",
   "metadata": {},
   "outputs": [],
   "source": [
    "df = pd.read_excel('All2021Cohorts_merged_outlier managed_copy_2.xlsx', sheet_name='MergedRTV_Control2021',header=5)"
   ]
  },
  {
   "cell_type": "code",
   "execution_count": 3,
   "id": "6a2dba7e-a253-4221-b9e9-159cc25d621e",
   "metadata": {},
   "outputs": [],
   "source": [
    "peer = df[df['Status']=='PEER']\n",
    "rtv = df[df['Status']=='RTV']"
   ]
  },
  {
   "cell_type": "code",
   "execution_count": 4,
   "id": "21dff78a-842e-4500-ace5-b7527c2679e9",
   "metadata": {},
   "outputs": [
    {
     "data": {
      "text/plain": [
       "Status\n",
       "PEER    4.765666\n",
       "RTV     4.840903\n",
       "Name: tot_hhmembers, dtype: float64"
      ]
     },
     "execution_count": 4,
     "metadata": {},
     "output_type": "execute_result"
    }
   ],
   "source": [
    "df.groupby('Status')['tot_hhmembers'].mean()"
   ]
  },
  {
   "cell_type": "code",
   "execution_count": null,
   "id": "9fb89e0c-80d0-45b1-b8b7-b8ff5fe46be3",
   "metadata": {},
   "outputs": [],
   "source": []
  },
  {
   "cell_type": "code",
   "execution_count": 123,
   "id": "1f1f6316-6079-47c4-b16d-7b8627cc29b2",
   "metadata": {},
   "outputs": [
    {
     "data": {
      "text/plain": [
       "Type_of_Toilet_Facility\n",
       "0    0.827816\n",
       "1    0.172184\n",
       "Name: proportion, dtype: float64"
      ]
     },
     "execution_count": 123,
     "metadata": {},
     "output_type": "execute_result"
    }
   ],
   "source": [
    "rtv['Type_of_Toilet_Facility'].apply(lambda x: 1 if x in [3,4] else 0).value_counts(normalize=True)"
   ]
  },
  {
   "cell_type": "code",
   "execution_count": null,
   "id": "aff9d7fd-f556-410f-847b-dd789c9a2b2f",
   "metadata": {},
   "outputs": [],
   "source": [
    "14189\n",
    "2139"
   ]
  },
  {
   "cell_type": "code",
   "execution_count": 242,
   "id": "c4675c9d-428f-4924-a46c-fda31b60d3d1",
   "metadata": {},
   "outputs": [
    {
     "data": {
      "text/plain": [
       "0.13100195982361587"
      ]
     },
     "execution_count": 242,
     "metadata": {},
     "output_type": "execute_result"
    }
   ],
   "source": [
    "2139/(14189+2139)"
   ]
  },
  {
   "cell_type": "code",
   "execution_count": 240,
   "id": "aedb4567-b8c4-4a11-97c4-61964c504479",
   "metadata": {},
   "outputs": [
    {
     "data": {
      "text/plain": [
       "Thirteen_18_attending\n",
       "0.0    0.854569\n",
       "1.0    0.114099\n",
       "2.0    0.026371\n",
       "3.0    0.003916\n",
       "4.0    0.001044\n",
       "Name: proportion, dtype: float64"
      ]
     },
     "execution_count": 240,
     "metadata": {},
     "output_type": "execute_result"
    }
   ],
   "source": [
    "rtv['Thirteen_18_attending'].value_counts(normalize=True)"
   ]
  },
  {
   "cell_type": "code",
   "execution_count": 243,
   "id": "50b8839c-c497-42e7-a058-02cf43fb0f34",
   "metadata": {},
   "outputs": [
    {
     "data": {
      "text/plain": [
       "Thirteen_18_attending\n",
       "0.0    4810\n",
       "1.0     694\n",
       "2.0     159\n",
       "3.0      23\n",
       "4.0       5\n",
       "Name: count, dtype: int64"
      ]
     },
     "execution_count": 243,
     "metadata": {},
     "output_type": "execute_result"
    }
   ],
   "source": [
    "df['Thirteen_18_attending'].value_counts()"
   ]
  },
  {
   "cell_type": "code",
   "execution_count": 223,
   "id": "a0178baf-5535-4846-80bb-e3853f129b57",
   "metadata": {},
   "outputs": [],
   "source": [
    "def check_for_one(row):\n",
    "    if row.isna().all():\n",
    "        return pd.NA\n",
    "    return any(val == 1 for val in row if pd.notna(val))"
   ]
  },
  {
   "cell_type": "code",
   "execution_count": 225,
   "id": "c15ad686-f723-4765-8b48-0a7a97ef8b7f",
   "metadata": {},
   "outputs": [
    {
     "data": {
      "text/plain": [
       "True     0.980508\n",
       "False    0.019492\n",
       "Name: proportion, dtype: float64"
      ]
     },
     "execution_count": 225,
     "metadata": {},
     "output_type": "execute_result"
    }
   ],
   "source": [
    "result_series = (rtv[['age_6_12_Attend_Sch1', 'age_6_12_Attend_Sch2',\n",
    "                       'age_6_12_Attend_Sch3', 'age_6_12_Attend_Sch4', \n",
    "                       'age_6_12_Attend_Sch5', 'age_6_12_Attend_Sch6', \n",
    "                       'age_6_12_Attend_Sch7', 'age_6_12_Attend_Sch8']]\n",
    "                 .apply(check_for_one, axis=1))\n",
    "\n",
    "filtered_result = result_series.dropna()\n",
    "proportions = filtered_result.value_counts(normalize=True)\n",
    "proportions"
   ]
  },
  {
   "cell_type": "code",
   "execution_count": 226,
   "id": "cc6e3bb7-647c-4505-a99a-293541469dda",
   "metadata": {},
   "outputs": [
    {
     "data": {
      "text/plain": [
       "True     0.970414\n",
       "False    0.029586\n",
       "Name: proportion, dtype: float64"
      ]
     },
     "execution_count": 226,
     "metadata": {},
     "output_type": "execute_result"
    }
   ],
   "source": [
    "result_series = (peer[['age_6_12_Attend_Sch1', 'age_6_12_Attend_Sch2',\n",
    "                       'age_6_12_Attend_Sch3', 'age_6_12_Attend_Sch4', \n",
    "                       'age_6_12_Attend_Sch5', 'age_6_12_Attend_Sch6', \n",
    "                       'age_6_12_Attend_Sch7', 'age_6_12_Attend_Sch8']]\n",
    "                 .apply(check_for_one, axis=1))\n",
    "\n",
    "filtered_result = result_series.dropna()\n",
    "proportions = filtered_result.value_counts(normalize=True)\n",
    "proportions"
   ]
  },
  {
   "cell_type": "code",
   "execution_count": 222,
   "id": "b1022858-0a92-4b91-a1a3-81663ce2c470",
   "metadata": {},
   "outputs": [
    {
     "data": {
      "text/plain": [
       "True     0.970414\n",
       "False    0.029586\n",
       "Name: proportion, dtype: float64"
      ]
     },
     "execution_count": 222,
     "metadata": {},
     "output_type": "execute_result"
    }
   ],
   "source": []
  },
  {
   "cell_type": "code",
   "execution_count": 194,
   "id": "bf012116-762a-4680-9bfd-1985275f9477",
   "metadata": {},
   "outputs": [
    {
     "data": {
      "text/plain": [
       "0.0    0.402692\n",
       "1.0    0.302622\n",
       "2.0    0.219634\n",
       "3.0    0.065045\n",
       "4.0    0.008799\n",
       "5.0    0.001208\n",
       "Name: proportion, dtype: float64"
      ]
     },
     "execution_count": 194,
     "metadata": {},
     "output_type": "execute_result"
    }
   ],
   "source": [
    "(df[['age_6_12_Attend_Sch1', 'age_6_12_Attend_Sch2',\n",
    "    'age_6_12_Attend_Sch3', 'age_6_12_Attend_Sch4', \n",
    "    'age_6_12_Attend_Sch5', 'age_6_12_Attend_Sch6', \n",
    "    'age_6_12_Attend_Sch7', 'age_6_12_Attend_Sch8']].fillna(0)).sum(axis=1).value_counts(normalize=True)"
   ]
  },
  {
   "cell_type": "code",
   "execution_count": 156,
   "id": "154840e8-3fc9-4539-ad1e-961a796b6757",
   "metadata": {},
   "outputs": [
    {
     "data": {
      "text/plain": [
       "1    0.59379\n",
       "0    0.40621\n",
       "Name: proportion, dtype: float64"
      ]
     },
     "execution_count": 156,
     "metadata": {},
     "output_type": "execute_result"
    }
   ],
   "source": [
    "((rtv[['age_6_12_Attend_Sch1', 'age_6_12_Attend_Sch2',\n",
    "    'age_6_12_Attend_Sch3', 'age_6_12_Attend_Sch4', \n",
    "    'age_6_12_Attend_Sch5', 'age_6_12_Attend_Sch6', \n",
    "    'age_6_12_Attend_Sch7', 'age_6_12_Attend_Sch8']]).sum(axis=1)).apply(lambda x: 1 if x>0 else 0).value_counts(normalize=True)"
   ]
  },
  {
   "cell_type": "code",
   "execution_count": 114,
   "id": "6061df08-4741-40a8-a3fe-179b131b20fe",
   "metadata": {},
   "outputs": [
    {
     "data": {
      "text/plain": [
       "1    0.604529\n",
       "0    0.395471\n",
       "Name: proportion, dtype: float64"
      ]
     },
     "execution_count": 114,
     "metadata": {},
     "output_type": "execute_result"
    }
   ],
   "source": [
    "((peer[['age_6_12_Attend_Sch1', 'age_6_12_Attend_Sch2',\n",
    "    'age_6_12_Attend_Sch3', 'age_6_12_Attend_Sch4', \n",
    "    'age_6_12_Attend_Sch5', 'age_6_12_Attend_Sch6', \n",
    "    'age_6_12_Attend_Sch7', 'age_6_12_Attend_Sch8']].fillna(0)).sum(axis=1)).apply(lambda x: 1 if x>0 else 0).value_counts(normalize=True)"
   ]
  },
  {
   "cell_type": "raw",
   "id": "40b1cb95-bf71-4d8d-a597-16d4936cafc5",
   "metadata": {},
   "source": [
    "Can [spouse_fullname] Read and Write with understanding in any language?\t\n",
    "1\tYes\n",
    "0\tNo"
   ]
  },
  {
   "cell_type": "code",
   "execution_count": 115,
   "id": "5cc4c3cb-19c0-42cf-9d78-79e15da371fb",
   "metadata": {},
   "outputs": [
    {
     "data": {
      "text/plain": [
       "Status  spouse_read_write\n",
       "PEER    1.0                  0.710051\n",
       "        0.0                  0.289949\n",
       "RTV     1.0                  0.708024\n",
       "        0.0                  0.291976\n",
       "Name: proportion, dtype: float64"
      ]
     },
     "execution_count": 115,
     "metadata": {},
     "output_type": "execute_result"
    }
   ],
   "source": [
    "df.groupby('Status')['spouse_read_write'].value_counts(normalize=True)"
   ]
  },
  {
   "cell_type": "raw",
   "id": "5a6886b9-9fc3-4ab8-9d12-c2625698d274",
   "metadata": {},
   "source": [
    "What Type of Material is mainly used in the WALLS and EXTERIOR of the dwelling?\t\n",
    "1\tUnburnt Bricks/Mud/Reeds/Other Materials\n",
    "2\tBurn,Bricks/Cement/Wood/Tin/Iron Sheet/Concrete/Stones/Cement Blocks"
   ]
  },
  {
   "cell_type": "code",
   "execution_count": 116,
   "id": "2e936b84-1bac-464f-9ef5-6fdde1c0b060",
   "metadata": {},
   "outputs": [
    {
     "data": {
      "text/plain": [
       "Status  Material_walls\n",
       "PEER    1                 0.747762\n",
       "        2                 0.252238\n",
       "RTV     1                 0.711060\n",
       "        2                 0.288940\n",
       "Name: proportion, dtype: float64"
      ]
     },
     "execution_count": 116,
     "metadata": {},
     "output_type": "execute_result"
    }
   ],
   "source": [
    "df.groupby('Status')['Material_walls'].value_counts(normalize=True)"
   ]
  },
  {
   "cell_type": "code",
   "execution_count": 6,
   "id": "47c3eb37-7fba-4b6c-9295-0303dbdcb0c2",
   "metadata": {},
   "outputs": [
    {
     "data": {
      "text/plain": [
       "Material_walls\n",
       "1    0.71106\n",
       "2    0.28894\n",
       "Name: proportion, dtype: float64"
      ]
     },
     "execution_count": 6,
     "metadata": {},
     "output_type": "execute_result"
    }
   ],
   "source": [
    "rtv['Material_walls'].value_counts(normalize=True)"
   ]
  },
  {
   "cell_type": "code",
   "execution_count": 5,
   "id": "d97546cd-083d-4f96-9497-67c63d48c29e",
   "metadata": {},
   "outputs": [
    {
     "data": {
      "text/plain": [
       "Material_walls\n",
       "1    0.747762\n",
       "2    0.252238\n",
       "Name: proportion, dtype: float64"
      ]
     },
     "execution_count": 5,
     "metadata": {},
     "output_type": "execute_result"
    }
   ],
   "source": [
    "peer['Material_walls'].value_counts(normalize=True)"
   ]
  },
  {
   "cell_type": "code",
   "execution_count": null,
   "id": "320ec57d-8b61-4cbf-9388-e54c613e162d",
   "metadata": {},
   "outputs": [],
   "source": []
  },
  {
   "cell_type": "raw",
   "id": "b2813379-2157-4190-9c61-3af4bcd63499",
   "metadata": {},
   "source": [
    "What is type of Material is mainly used for the FLOOR?\n",
    "\n",
    "1\tEarth\n",
    "2\tCement\n",
    "3\tMosaic/Tiles\n",
    "97\tOther"
   ]
  },
  {
   "cell_type": "code",
   "execution_count": 117,
   "id": "8e72c34b-1fa2-4fc0-b033-4fd60ee3b416",
   "metadata": {},
   "outputs": [
    {
     "data": {
      "text/plain": [
       "Material_floor\n",
       "0    0.791378\n",
       "1    0.208622\n",
       "Name: proportion, dtype: float64"
      ]
     },
     "execution_count": 117,
     "metadata": {},
     "output_type": "execute_result"
    }
   ],
   "source": [
    "rtv['Material_floor'].apply(lambda x: 1 if x in [2,3] else 0).value_counts(normalize=True)"
   ]
  },
  {
   "cell_type": "code",
   "execution_count": 118,
   "id": "5a4270e7-6f13-40cf-a8cd-9b6d2b4f64ab",
   "metadata": {},
   "outputs": [
    {
     "data": {
      "text/plain": [
       "Material_floor\n",
       "0    0.781464\n",
       "1    0.218536\n",
       "Name: proportion, dtype: float64"
      ]
     },
     "execution_count": 118,
     "metadata": {},
     "output_type": "execute_result"
    }
   ],
   "source": [
    "peer['Material_floor'].apply(lambda x: 1 if x in [2,3] else 0).value_counts(normalize=True)"
   ]
  },
  {
   "cell_type": "raw",
   "id": "90d514fc-b8b2-4836-a2b6-63d8196dfb48",
   "metadata": {},
   "source": [
    "What type of Material is mainly used in the ROOF of the dwelling?\t\n",
    "1\tThatch/Tins, Grass\n",
    "2\tIron Sheets/Concrete/Tiles/Asbestos/Other]\n",
    "97\tOther"
   ]
  },
  {
   "cell_type": "code",
   "execution_count": null,
   "id": "ff1f8c6c-56fc-44c8-a428-4890c67a6622",
   "metadata": {},
   "outputs": [],
   "source": []
  },
  {
   "cell_type": "code",
   "execution_count": 119,
   "id": "328d8511-25b7-4de8-968f-ecfba082444f",
   "metadata": {},
   "outputs": [
    {
     "data": {
      "text/plain": [
       "Material_roof\n",
       "1    0.987683\n",
       "0    0.012317\n",
       "Name: proportion, dtype: float64"
      ]
     },
     "execution_count": 119,
     "metadata": {},
     "output_type": "execute_result"
    }
   ],
   "source": [
    "rtv['Material_roof'].apply(lambda x: 1 if x==2 else 0).value_counts(normalize=True)"
   ]
  },
  {
   "cell_type": "code",
   "execution_count": 120,
   "id": "5f8b725c-4fba-4343-8adf-0bb5faeb7a80",
   "metadata": {},
   "outputs": [
    {
     "data": {
      "text/plain": [
       "Material_roof\n",
       "1    0.995787\n",
       "0    0.004213\n",
       "Name: proportion, dtype: float64"
      ]
     },
     "execution_count": 120,
     "metadata": {},
     "output_type": "execute_result"
    }
   ],
   "source": [
    "peer['Material_roof'].apply(lambda x: 1 if x==2 else 0).value_counts(normalize=True)"
   ]
  },
  {
   "cell_type": "code",
   "execution_count": null,
   "id": "0efc719b-f65c-4cb9-b9be-18f62eee8450",
   "metadata": {},
   "outputs": [],
   "source": []
  },
  {
   "cell_type": "raw",
   "id": "2898bce4-e07f-47f7-8c64-19916eb57a68",
   "metadata": {},
   "source": [
    "What main source of fuel does the Household use for Cooking?\t\n",
    "1\tFirewood/Dung/Grass/Reeds\n",
    "2\tCharcoal/Paraffin/Stove/Gas/Biogas\n",
    "3\tElectricity/Other"
   ]
  },
  {
   "cell_type": "markdown",
   "id": "9b5519f2-554a-4ad3-952d-fa2b7900d209",
   "metadata": {},
   "source": [
    "## All parmanent"
   ]
  },
  {
   "cell_type": "code",
   "execution_count": 25,
   "id": "9a0ab6ed-5b5a-48e6-b53e-5fbbadb873f5",
   "metadata": {},
   "outputs": [],
   "source": [
    "def satisfy_conditions(row):\n",
    "    if row['Material_walls'] == 2 and \\\n",
    "       row['Material_floor'] in [2, 3] and \\\n",
    "       row['Material_roof'] == 2:\n",
    "        return 1\n",
    "    else:\n",
    "        return 0"
   ]
  },
  {
   "cell_type": "code",
   "execution_count": 26,
   "id": "908d83cc-c28d-45e3-bd8b-6f8ee216f859",
   "metadata": {},
   "outputs": [],
   "source": [
    "df['Parmenent'] = df.apply(satisfy_conditions, axis=1)"
   ]
  },
  {
   "cell_type": "code",
   "execution_count": 27,
   "id": "235d3fb8-2152-4da3-b570-43b319c4d812",
   "metadata": {},
   "outputs": [
    {
     "data": {
      "text/plain": [
       "Parmenent\n",
       "0    5037\n",
       "1     759\n",
       "Name: count, dtype: int64"
      ]
     },
     "execution_count": 27,
     "metadata": {},
     "output_type": "execute_result"
    }
   ],
   "source": [
    "df['Parmenent'].value_counts(dropna=False)"
   ]
  },
  {
   "cell_type": "code",
   "execution_count": 28,
   "id": "b1932a3c-2726-441e-b86a-20a7b12c7858",
   "metadata": {},
   "outputs": [
    {
     "data": {
      "text/plain": [
       "(0, 0, 0)"
      ]
     },
     "execution_count": 28,
     "metadata": {},
     "output_type": "execute_result"
    }
   ],
   "source": [
    "df['Material_floor'].isna().sum(), df['Material_walls'].isna().sum(), df['Material_roof'].isna().sum()"
   ]
  },
  {
   "cell_type": "code",
   "execution_count": 29,
   "id": "831b5254-3e20-4c68-b6a5-1ddfae8efaa3",
   "metadata": {},
   "outputs": [
    {
     "data": {
      "text/plain": [
       "((1899, 5663), (3897, 5663))"
      ]
     },
     "execution_count": 29,
     "metadata": {},
     "output_type": "execute_result"
    }
   ],
   "source": [
    "peer.shape, rtv.shape"
   ]
  },
  {
   "cell_type": "code",
   "execution_count": 30,
   "id": "42c307eb-08f6-4026-8118-3790bb6154c2",
   "metadata": {},
   "outputs": [
    {
     "data": {
      "text/plain": [
       "Status  Parmenent\n",
       "PEER    0            0.872565\n",
       "        1            0.127435\n",
       "RTV     0            0.867334\n",
       "        1            0.132666\n",
       "Name: proportion, dtype: float64"
      ]
     },
     "execution_count": 30,
     "metadata": {},
     "output_type": "execute_result"
    }
   ],
   "source": [
    "df.groupby('Status')['Parmenent'].value_counts(normalize=True)"
   ]
  },
  {
   "cell_type": "code",
   "execution_count": 31,
   "id": "31a3ca8f-d6cf-4c21-8e81-5f07f1996079",
   "metadata": {},
   "outputs": [
    {
     "data": {
      "text/html": [
       "<div>\n",
       "<style scoped>\n",
       "    .dataframe tbody tr th:only-of-type {\n",
       "        vertical-align: middle;\n",
       "    }\n",
       "\n",
       "    .dataframe tbody tr th {\n",
       "        vertical-align: top;\n",
       "    }\n",
       "\n",
       "    .dataframe thead th {\n",
       "        text-align: right;\n",
       "    }\n",
       "</style>\n",
       "<table border=\"1\" class=\"dataframe\">\n",
       "  <thead>\n",
       "    <tr style=\"text-align: right;\">\n",
       "      <th></th>\n",
       "      <th>Material_walls</th>\n",
       "      <th>Material_floor</th>\n",
       "      <th>Material_roof</th>\n",
       "      <th>Parmenent</th>\n",
       "    </tr>\n",
       "  </thead>\n",
       "  <tbody>\n",
       "    <tr>\n",
       "      <th>0</th>\n",
       "      <td>2</td>\n",
       "      <td>1</td>\n",
       "      <td>2</td>\n",
       "      <td>0</td>\n",
       "    </tr>\n",
       "    <tr>\n",
       "      <th>1</th>\n",
       "      <td>2</td>\n",
       "      <td>2</td>\n",
       "      <td>2</td>\n",
       "      <td>1</td>\n",
       "    </tr>\n",
       "    <tr>\n",
       "      <th>2</th>\n",
       "      <td>2</td>\n",
       "      <td>1</td>\n",
       "      <td>2</td>\n",
       "      <td>0</td>\n",
       "    </tr>\n",
       "    <tr>\n",
       "      <th>3</th>\n",
       "      <td>2</td>\n",
       "      <td>2</td>\n",
       "      <td>2</td>\n",
       "      <td>1</td>\n",
       "    </tr>\n",
       "    <tr>\n",
       "      <th>4</th>\n",
       "      <td>1</td>\n",
       "      <td>1</td>\n",
       "      <td>2</td>\n",
       "      <td>0</td>\n",
       "    </tr>\n",
       "  </tbody>\n",
       "</table>\n",
       "</div>"
      ],
      "text/plain": [
       "   Material_walls  Material_floor  Material_roof  Parmenent\n",
       "0               2               1              2          0\n",
       "1               2               2              2          1\n",
       "2               2               1              2          0\n",
       "3               2               2              2          1\n",
       "4               1               1              2          0"
      ]
     },
     "execution_count": 31,
     "metadata": {},
     "output_type": "execute_result"
    }
   ],
   "source": [
    "df[['Material_walls', 'Material_floor', 'Material_roof', 'Parmenent']].head()"
   ]
  },
  {
   "cell_type": "code",
   "execution_count": null,
   "id": "8ec03180-df48-47ae-922f-d45b9275ffdc",
   "metadata": {},
   "outputs": [],
   "source": []
  },
  {
   "cell_type": "code",
   "execution_count": 121,
   "id": "ad1b32c1-6620-4977-97ce-3cd13165a8e5",
   "metadata": {},
   "outputs": [
    {
     "data": {
      "text/plain": [
       "Fuel_source_cooking\n",
       "0    0.981524\n",
       "1    0.018476\n",
       "Name: proportion, dtype: float64"
      ]
     },
     "execution_count": 121,
     "metadata": {},
     "output_type": "execute_result"
    }
   ],
   "source": [
    "rtv['Fuel_source_cooking'].apply(lambda x: 1 if x in [2,3] else 0).value_counts(normalize=True)"
   ]
  },
  {
   "cell_type": "code",
   "execution_count": 122,
   "id": "d5666a97-5dde-4f76-b8de-6a1dae23b7eb",
   "metadata": {},
   "outputs": [
    {
     "data": {
      "text/plain": [
       "Fuel_source_cooking\n",
       "0    0.982096\n",
       "1    0.017904\n",
       "Name: proportion, dtype: float64"
      ]
     },
     "execution_count": 122,
     "metadata": {},
     "output_type": "execute_result"
    }
   ],
   "source": [
    "peer['Fuel_source_cooking'].apply(lambda x: 1 if x in [2,3] else 0).value_counts(normalize=True)"
   ]
  },
  {
   "cell_type": "raw",
   "id": "ca5ba99e-c191-4d7c-8ea9-46c2707d0a19",
   "metadata": {},
   "source": [
    "What type of Toilet Facility does the Family mainly use?\t\n",
    "1\tNo facility / Bush / Polythene Bag\n",
    "2\tUncovered Pit Latrine / Covered Pit Latrine with no Slab / Ecosan Compost\n",
    "3\tCovered Pit Latrine with Slab\n",
    "4\tVIP flushable"
   ]
  },
  {
   "cell_type": "code",
   "execution_count": 151,
   "id": "92fa4218-690a-4588-af85-b38eff3b298b",
   "metadata": {},
   "outputs": [
    {
     "data": {
      "text/plain": [
       "Type_of_Toilet_Facility\n",
       "1    0.992302\n",
       "0    0.007698\n",
       "Name: proportion, dtype: float64"
      ]
     },
     "execution_count": 151,
     "metadata": {},
     "output_type": "execute_result"
    }
   ],
   "source": [
    "rtv['Type_of_Toilet_Facility'].apply(lambda x: 1 if x in [2,3,4] else 0).value_counts(normalize=True)"
   ]
  },
  {
   "cell_type": "code",
   "execution_count": 152,
   "id": "89460ba1-baaa-4f62-9d79-ab610150bdcb",
   "metadata": {},
   "outputs": [
    {
     "data": {
      "text/plain": [
       "Type_of_Toilet_Facility\n",
       "1    0.984729\n",
       "0    0.015271\n",
       "Name: proportion, dtype: float64"
      ]
     },
     "execution_count": 152,
     "metadata": {},
     "output_type": "execute_result"
    }
   ],
   "source": [
    "peer['Type_of_Toilet_Facility'].apply(lambda x: 1 if x in [2,3,4] else 0).value_counts(normalize=True)"
   ]
  },
  {
   "cell_type": "code",
   "execution_count": 123,
   "id": "5e21f2ce-a745-4e43-89e0-db1e55d3e247",
   "metadata": {},
   "outputs": [
    {
     "data": {
      "text/plain": [
       "Type_of_Toilet_Facility\n",
       "0    0.827816\n",
       "1    0.172184\n",
       "Name: proportion, dtype: float64"
      ]
     },
     "execution_count": 123,
     "metadata": {},
     "output_type": "execute_result"
    }
   ],
   "source": [
    "rtv['Type_of_Toilet_Facility'].apply(lambda x: 1 if x in [3,4] else 0).value_counts(normalize=True)"
   ]
  },
  {
   "cell_type": "code",
   "execution_count": 124,
   "id": "5910fe0c-21bc-4c3d-a1c5-ad302870012a",
   "metadata": {},
   "outputs": [
    {
     "data": {
      "text/plain": [
       "Type_of_Toilet_Facility\n",
       "0    0.886256\n",
       "1    0.113744\n",
       "Name: proportion, dtype: float64"
      ]
     },
     "execution_count": 124,
     "metadata": {},
     "output_type": "execute_result"
    }
   ],
   "source": [
    "peer['Type_of_Toilet_Facility'].apply(lambda x: 1 if x in [3,4] else 0).value_counts(normalize=True)"
   ]
  },
  {
   "cell_type": "raw",
   "id": "a466b214-2e4c-49a0-83e6-1f198050b77b",
   "metadata": {},
   "source": [
    "Does Every Member of a Household own at least ONE Pair of Shoes?\n",
    "Slippers, Sandals, Shower Shoes, Flip Flops, Gumboots do NOT count as shoes\n",
    "\n",
    "1\tYes\n",
    "0\tNo"
   ]
  },
  {
   "cell_type": "code",
   "execution_count": 125,
   "id": "0fc44c49-2ea4-4c59-8363-d41206374859",
   "metadata": {},
   "outputs": [
    {
     "data": {
      "text/plain": [
       "Status  Every_Member_at_least_ONE_Pair_of_Shoes\n",
       "PEER    1                                          0.605055\n",
       "        0                                          0.394945\n",
       "RTV     1                                          0.738260\n",
       "        0                                          0.261740\n",
       "Name: proportion, dtype: float64"
      ]
     },
     "execution_count": 125,
     "metadata": {},
     "output_type": "execute_result"
    }
   ],
   "source": [
    "df.groupby('Status')['Every_Member_at_least_ONE_Pair_of_Shoes'].value_counts(normalize=True)"
   ]
  },
  {
   "cell_type": "raw",
   "id": "311fd3d6-f2d0-4e07-b9a3-8f004dd618db",
   "metadata": {},
   "source": [
    "How many radios are currently in use within your household?"
   ]
  },
  {
   "cell_type": "code",
   "execution_count": 126,
   "id": "0c5d98ca-55a5-41b6-a6af-248c4a9ec08f",
   "metadata": {},
   "outputs": [
    {
     "data": {
      "text/plain": [
       "radios_owned\n",
       "1    0.657429\n",
       "0    0.342571\n",
       "Name: proportion, dtype: float64"
      ]
     },
     "execution_count": 126,
     "metadata": {},
     "output_type": "execute_result"
    }
   ],
   "source": [
    "rtv['radios_owned'].apply(lambda x: 1 if x > 0 else 0).value_counts(normalize=True)"
   ]
  },
  {
   "cell_type": "code",
   "execution_count": 127,
   "id": "bbe5ccf2-fc6b-4994-b784-27456e1bc373",
   "metadata": {},
   "outputs": [
    {
     "data": {
      "text/plain": [
       "radios_owned\n",
       "0    0.513955\n",
       "1    0.486045\n",
       "Name: proportion, dtype: float64"
      ]
     },
     "execution_count": 127,
     "metadata": {},
     "output_type": "execute_result"
    }
   ],
   "source": [
    "peer['radios_owned'].apply(lambda x: 1 if x > 0 else 0).value_counts(normalize=True)"
   ]
  },
  {
   "cell_type": "code",
   "execution_count": null,
   "id": "d8d1510e-63b6-4cd3-b53f-0329cffa4319",
   "metadata": {},
   "outputs": [],
   "source": []
  },
  {
   "cell_type": "code",
   "execution_count": 128,
   "id": "ca513185-b364-4183-9f04-16dfe09d2639",
   "metadata": {},
   "outputs": [
    {
     "data": {
      "text/plain": [
       "phones_owned\n",
       "1    0.851937\n",
       "0    0.148063\n",
       "Name: proportion, dtype: float64"
      ]
     },
     "execution_count": 128,
     "metadata": {},
     "output_type": "execute_result"
    }
   ],
   "source": [
    "rtv['phones_owned'].apply(lambda x: 1 if x > 0 else 0).value_counts(normalize=True)"
   ]
  },
  {
   "cell_type": "code",
   "execution_count": 129,
   "id": "16fadfe2-461e-4370-b7ae-4c1bdc77fb4a",
   "metadata": {},
   "outputs": [
    {
     "data": {
      "text/plain": [
       "phones_owned\n",
       "1    0.787783\n",
       "0    0.212217\n",
       "Name: proportion, dtype: float64"
      ]
     },
     "execution_count": 129,
     "metadata": {},
     "output_type": "execute_result"
    }
   ],
   "source": [
    "peer['phones_owned'].apply(lambda x: 1 if x > 0 else 0).value_counts(normalize=True)"
   ]
  },
  {
   "cell_type": "code",
   "execution_count": null,
   "id": "7d5e66ab-7eec-4042-b91a-da7f655895eb",
   "metadata": {},
   "outputs": [],
   "source": []
  },
  {
   "cell_type": "code",
   "execution_count": 130,
   "id": "522db823-fa64-4759-bf11-2f9a8ce9b6a8",
   "metadata": {},
   "outputs": [
    {
     "data": {
      "text/plain": [
       "Status  Does_your_Household_own_any_Land\n",
       "PEER    1                                   0.975777\n",
       "        0                                   0.024223\n",
       "RTV     1                                   0.983834\n",
       "        0                                   0.016166\n",
       "Name: proportion, dtype: float64"
      ]
     },
     "execution_count": 130,
     "metadata": {},
     "output_type": "execute_result"
    }
   ],
   "source": [
    "df.groupby('Status')['Does_your_Household_own_any_Land'].value_counts(normalize=True)"
   ]
  },
  {
   "cell_type": "raw",
   "id": "9e22d0ea-6061-46f7-946f-2bddf7a38ef9",
   "metadata": {},
   "source": [
    "Did your household achieve the set goal(s) for the last 12 Months?\t\n",
    "1\tYes\n",
    "0\tNo"
   ]
  },
  {
   "cell_type": "code",
   "execution_count": 131,
   "id": "7c65fde3-d3a0-489d-9bd5-76733ef5cbc8",
   "metadata": {},
   "outputs": [
    {
     "data": {
      "text/plain": [
       "Status  household_goal\n",
       "PEER    0                 0.643497\n",
       "        1                 0.356503\n",
       "RTV     1                 0.501668\n",
       "        0                 0.498332\n",
       "Name: proportion, dtype: float64"
      ]
     },
     "execution_count": 131,
     "metadata": {},
     "output_type": "execute_result"
    }
   ],
   "source": [
    "df.groupby('Status')['household_goal'].value_counts(normalize=True)"
   ]
  },
  {
   "cell_type": "raw",
   "id": "b6ba36f3-8229-4f25-bc35-1d4833c933f3",
   "metadata": {},
   "source": [
    "Do you feel like your quality of Life will improve or worsen over the next 12 months?\t\n",
    "1\tImproved\n",
    "2\tWorse\n",
    "3\tSame\n",
    "-99\tDonât know"
   ]
  },
  {
   "cell_type": "code",
   "execution_count": 132,
   "id": "12e1a861-7332-4729-a312-eed5d4534bd2",
   "metadata": {},
   "outputs": [
    {
     "data": {
      "text/plain": [
       "quality_of_life_improve_next_12_months\n",
       "1    0.618681\n",
       "0    0.381319\n",
       "Name: proportion, dtype: float64"
      ]
     },
     "execution_count": 132,
     "metadata": {},
     "output_type": "execute_result"
    }
   ],
   "source": [
    "rtv['quality_of_life_improve_next_12_months'].apply(lambda x: 1 if x == 1 else 0).value_counts(normalize=True)"
   ]
  },
  {
   "cell_type": "code",
   "execution_count": 133,
   "id": "48a465f4-032c-4fc0-a561-5bf8fcb968d3",
   "metadata": {},
   "outputs": [
    {
     "data": {
      "text/plain": [
       "quality_of_life_improve_next_12_months\n",
       "0    0.560821\n",
       "1    0.439179\n",
       "Name: proportion, dtype: float64"
      ]
     },
     "execution_count": 133,
     "metadata": {},
     "output_type": "execute_result"
    }
   ],
   "source": [
    "peer['quality_of_life_improve_next_12_months'].apply(lambda x: 1 if x == 1 else 0).value_counts(normalize=True)"
   ]
  },
  {
   "cell_type": "code",
   "execution_count": null,
   "id": "1a34e84c-858d-4257-bf7b-951e0ca3c1d2",
   "metadata": {},
   "outputs": [],
   "source": []
  },
  {
   "cell_type": "code",
   "execution_count": null,
   "id": "75171800-a5a4-4130-ac39-d29c706d8f0f",
   "metadata": {},
   "outputs": [],
   "source": []
  },
  {
   "cell_type": "markdown",
   "id": "7d07f632-e8ae-45d4-930e-b8b33feaa2e3",
   "metadata": {},
   "source": [
    "## Baseline"
   ]
  },
  {
   "cell_type": "code",
   "execution_count": 32,
   "id": "013b07f1-bb50-43f5-8f5d-f4f069307b56",
   "metadata": {},
   "outputs": [],
   "source": [
    "peer_cont = pd.read_excel('All2021Cohorts_merged_outlier managed_copy_2.xlsx', sheet_name='All2021ControlBaseline',header=5)\n",
    "rtv_cont = pd.read_excel('All2021Cohorts_merged_outlier managed_copy_2.xlsx', sheet_name='All2021CohortBaseline',header=5)"
   ]
  },
  {
   "cell_type": "code",
   "execution_count": 33,
   "id": "eeb32312-2ea9-41e6-9722-c01469ad5d31",
   "metadata": {},
   "outputs": [
    {
     "data": {
      "text/plain": [
       "4.940803382663848"
      ]
     },
     "execution_count": 33,
     "metadata": {},
     "output_type": "execute_result"
    }
   ],
   "source": [
    "rtv_cont['tot_hhmembers'].mean()"
   ]
  },
  {
   "cell_type": "code",
   "execution_count": 136,
   "id": "86eba908-b2dd-45e8-8151-f53d719472b5",
   "metadata": {},
   "outputs": [
    {
     "data": {
      "text/plain": [
       "5.029814665592264"
      ]
     },
     "execution_count": 136,
     "metadata": {},
     "output_type": "execute_result"
    }
   ],
   "source": [
    "peer_cont['tot_hhmembers'].mean()"
   ]
  },
  {
   "cell_type": "code",
   "execution_count": 137,
   "id": "c48f93cd-2b1e-49b7-98ef-d659b498a062",
   "metadata": {},
   "outputs": [
    {
     "data": {
      "text/plain": [
       "1    0.554616\n",
       "0    0.445384\n",
       "Name: proportion, dtype: float64"
      ]
     },
     "execution_count": 137,
     "metadata": {},
     "output_type": "execute_result"
    }
   ],
   "source": [
    "rtv_cont[['age_6_12_Attend_Sch_1','age_6_12_Attend_Sch_1', \n",
    "          'age_6_12_Attend_Sch_2', 'age_6_12_Attend_Sch_3', \n",
    "          'age_6_12_Attend_Sch_4','age_6_12_Attend_Sch_5',\n",
    "          'age_6_12_Attend_Sch_6','age_6_12_Attend_Sch_7',\n",
    "          'age_6_12_Attend_Sch_8','age_6_12_Attend_Sch_9',\n",
    "          'age_6_12_Attend_Sch_10','age_6_12_Attend_Sch_11',\n",
    "          'age_6_12_Attend_Sch_12', 'age_6_12_Attend_Sch_13']].sum(axis=1).apply(lambda x: 1 if x>0 else 0).value_counts(normalize=True)"
   ]
  },
  {
   "cell_type": "code",
   "execution_count": 138,
   "id": "9664ad97-9ed0-4535-aa6f-bf9e164e6f95",
   "metadata": {},
   "outputs": [
    {
     "data": {
      "text/plain": [
       "1    0.551974\n",
       "0    0.448026\n",
       "Name: proportion, dtype: float64"
      ]
     },
     "execution_count": 138,
     "metadata": {},
     "output_type": "execute_result"
    }
   ],
   "source": [
    "peer_cont[['age_6_12_Attend_Sch1','age_6_12_Attend_Sch1', \n",
    "          'age_6_12_Attend_Sch2', 'age_6_12_Attend_Sch3', \n",
    "          'age_6_12_Attend_Sch4','age_6_12_Attend_Sch5',\n",
    "          'age_6_12_Attend_Sch6','age_6_12_Attend_Sch7',\n",
    "          'age_6_12_Attend_Sch8']].sum(axis=1).apply(lambda x: 1 if x>0 else 0).value_counts(normalize=True)"
   ]
  },
  {
   "cell_type": "code",
   "execution_count": 244,
   "id": "3c330ce2-8b4e-404b-94aa-c74d20d6e8cd",
   "metadata": {},
   "outputs": [
    {
     "data": {
      "text/plain": [
       "True     0.931361\n",
       "False    0.068639\n",
       "Name: proportion, dtype: float64"
      ]
     },
     "execution_count": 244,
     "metadata": {},
     "output_type": "execute_result"
    }
   ],
   "source": [
    "result_series = (rtv_cont[['age_6_12_Attend_Sch_1',\n",
    "                          'age_6_12_Attend_Sch_2', 'age_6_12_Attend_Sch_3', \n",
    "                          'age_6_12_Attend_Sch_4','age_6_12_Attend_Sch_5',\n",
    "                          'age_6_12_Attend_Sch_6','age_6_12_Attend_Sch_7',\n",
    "                          'age_6_12_Attend_Sch_8','age_6_12_Attend_Sch_9',\n",
    "                          'age_6_12_Attend_Sch_10','age_6_12_Attend_Sch_11',\n",
    "                          'age_6_12_Attend_Sch_12', 'age_6_12_Attend_Sch_13']]\n",
    "                 .apply(check_for_one, axis=1))\n",
    "\n",
    "filtered_result = result_series.dropna()\n",
    "proportions = filtered_result.value_counts(normalize=True)\n",
    "proportions"
   ]
  },
  {
   "cell_type": "code",
   "execution_count": 229,
   "id": "2aa41108-6036-4877-aa0e-b451cb8d7b8a",
   "metadata": {},
   "outputs": [
    {
     "data": {
      "text/plain": [
       "True     0.854115\n",
       "False    0.145885\n",
       "Name: proportion, dtype: float64"
      ]
     },
     "execution_count": 229,
     "metadata": {},
     "output_type": "execute_result"
    }
   ],
   "source": [
    "result_series = (peer_cont[['age_6_12_Attend_Sch1','age_6_12_Attend_Sch1', \n",
    "                          'age_6_12_Attend_Sch2', 'age_6_12_Attend_Sch3', \n",
    "                          'age_6_12_Attend_Sch4','age_6_12_Attend_Sch5',\n",
    "                          'age_6_12_Attend_Sch6','age_6_12_Attend_Sch7',\n",
    "                          'age_6_12_Attend_Sch8']]\n",
    "                 .apply(check_for_one, axis=1))\n",
    "\n",
    "filtered_result = result_series.dropna()\n",
    "proportions = filtered_result.value_counts(normalize=True)\n",
    "proportions"
   ]
  },
  {
   "cell_type": "code",
   "execution_count": 247,
   "id": "3eb0b119-8b1d-4273-b347-0902e1fa72c7",
   "metadata": {},
   "outputs": [
    {
     "data": {
      "text/plain": [
       "True     0.844729\n",
       "False    0.155271\n",
       "Name: proportion, dtype: float64"
      ]
     },
     "execution_count": 247,
     "metadata": {},
     "output_type": "execute_result"
    }
   ],
   "source": [
    "result_series = (rtv_cont[['age_13_18_Attend_Sch_1', \n",
    "                          'age_13_18_Attend_Sch_2', 'age_13_18_Attend_Sch_3', \n",
    "                          'age_13_18_Attend_Sch_4','age_13_18_Attend_Sch_5',\n",
    "                          'age_13_18_Attend_Sch_6','age_13_18_Attend_Sch_7',\n",
    "                          'age_13_18_Attend_Sch_8','age_13_18_Attend_Sch_9',\n",
    "                          'age_13_18_Attend_Sch_10','age_13_18_Attend_Sch_11',\n",
    "                          'age_13_18_Attend_Sch_12', 'age_13_18_Attend_Sch_13']]\n",
    "                 .apply(check_for_one, axis=1))\n",
    "\n",
    "filtered_result = result_series.dropna()\n",
    "proportions = filtered_result.value_counts(normalize=True)\n",
    "proportions"
   ]
  },
  {
   "cell_type": "code",
   "execution_count": 246,
   "id": "7ff0bb35-b650-40db-9345-88e6341bc769",
   "metadata": {},
   "outputs": [
    {
     "data": {
      "text/plain": [
       "True     0.796117\n",
       "False    0.203883\n",
       "Name: proportion, dtype: float64"
      ]
     },
     "execution_count": 246,
     "metadata": {},
     "output_type": "execute_result"
    }
   ],
   "source": [
    "result_series = (peer_cont[['age_13_18_Attend_Sch1','age_13_18_Attend_Sch2', \n",
    "                          'age_13_18_Attend_Sch3', 'age_13_18_Attend_Sch4', \n",
    "                          'age_13_18_Attend_Sch5','age_13_18_Attend_Sch6',\n",
    "                          'age_13_18_Attend_Sch7','age_13_18_Attend_Sch8']]\n",
    "                 .apply(check_for_one, axis=1))\n",
    "\n",
    "filtered_result = result_series.dropna()\n",
    "proportions = filtered_result.value_counts(normalize=True)\n",
    "proportions"
   ]
  },
  {
   "cell_type": "markdown",
   "id": "2d37e28d-11fe-4b18-a502-70127e450f8a",
   "metadata": {},
   "source": [
    "## Read And Write"
   ]
  },
  {
   "cell_type": "code",
   "execution_count": 139,
   "id": "30b0baa7-45c0-4a32-9af1-a9007486cf5c",
   "metadata": {},
   "outputs": [
    {
     "data": {
      "text/plain": [
       "spouse_read_write\n",
       "1.0    0.62451\n",
       "0.0    0.37549\n",
       "Name: proportion, dtype: float64"
      ]
     },
     "execution_count": 139,
     "metadata": {},
     "output_type": "execute_result"
    }
   ],
   "source": [
    "rtv_cont['spouse_read_write'].value_counts(normalize=True)"
   ]
  },
  {
   "cell_type": "code",
   "execution_count": 140,
   "id": "063b3823-f22b-4a2f-acfb-3a60daf0d43a",
   "metadata": {},
   "outputs": [
    {
     "data": {
      "text/plain": [
       "spouse_read_write\n",
       "1.0    0.664278\n",
       "0.0    0.335722\n",
       "Name: proportion, dtype: float64"
      ]
     },
     "execution_count": 140,
     "metadata": {},
     "output_type": "execute_result"
    }
   ],
   "source": [
    "peer_cont['spouse_read_write'].value_counts(normalize=True)"
   ]
  },
  {
   "cell_type": "raw",
   "id": "dd10bc8b-4a5b-441d-a2f5-eea7afd04a9f",
   "metadata": {},
   "source": [
    "What Type of Material is mainly used in the WALLS and EXTERIOR of the dwelling?\t\n",
    "1\tUnburnt Bricks/Mud/Reeds/Other Materials\n",
    "2\tBurnt Bricks/Cement/Wood/Tin/Iron Sheet/Concrete/Stones/Cement Blocks"
   ]
  },
  {
   "cell_type": "code",
   "execution_count": 141,
   "id": "c9c582d7-7b09-4798-8d05-0690a6bab048",
   "metadata": {},
   "outputs": [
    {
     "data": {
      "text/plain": [
       "Material_walls\n",
       "1    0.849894\n",
       "2    0.150106\n",
       "Name: proportion, dtype: float64"
      ]
     },
     "execution_count": 141,
     "metadata": {},
     "output_type": "execute_result"
    }
   ],
   "source": [
    "rtv_cont['Material_walls'].value_counts(normalize=True)"
   ]
  },
  {
   "cell_type": "code",
   "execution_count": 142,
   "id": "1f21be24-e43c-44d3-9133-a77b9000f509",
   "metadata": {},
   "outputs": [
    {
     "data": {
      "text/plain": [
       "Material_walls\n",
       "1    0.728445\n",
       "2    0.271555\n",
       "Name: proportion, dtype: float64"
      ]
     },
     "execution_count": 142,
     "metadata": {},
     "output_type": "execute_result"
    }
   ],
   "source": [
    "peer_cont['Material_walls'].value_counts(normalize=True)"
   ]
  },
  {
   "cell_type": "raw",
   "id": "875fe8f4-7f9f-48b1-8090-5ab502ab86db",
   "metadata": {},
   "source": [
    "What type of Material is mainly used in the ROOF of the dwelling?\t\n",
    "1\tThatch/Tins\n",
    "2\tIron Sheets/Concrete/Tiles/Asbestos/Other]"
   ]
  },
  {
   "cell_type": "code",
   "execution_count": 143,
   "id": "bb37f29b-2ac0-4016-929d-50d9fe931aef",
   "metadata": {},
   "outputs": [
    {
     "data": {
      "text/plain": [
       "Material_roof\n",
       "2    0.980268\n",
       "1    0.019732\n",
       "Name: proportion, dtype: float64"
      ]
     },
     "execution_count": 143,
     "metadata": {},
     "output_type": "execute_result"
    }
   ],
   "source": [
    "rtv_cont['Material_roof'].value_counts(normalize=True)"
   ]
  },
  {
   "cell_type": "code",
   "execution_count": 144,
   "id": "121d65e5-acfb-4ddd-ae89-ee63eba6bb0c",
   "metadata": {},
   "outputs": [
    {
     "data": {
      "text/plain": [
       "Material_roof\n",
       "2    0.985496\n",
       "1    0.014504\n",
       "Name: proportion, dtype: float64"
      ]
     },
     "execution_count": 144,
     "metadata": {},
     "output_type": "execute_result"
    }
   ],
   "source": [
    "peer_cont['Material_roof'].value_counts(normalize=True)"
   ]
  },
  {
   "cell_type": "raw",
   "id": "9ae471a2-817d-4f70-8379-8e1d490fd715",
   "metadata": {},
   "source": [
    "What is type of Material is mainly used for the FLOOR of the dwelling?\t\n",
    "1\tEarth\n",
    "2\tCement\n",
    "3\tMosaic/Tiles\n",
    "97\tOther"
   ]
  },
  {
   "cell_type": "code",
   "execution_count": 145,
   "id": "68b33096-f93c-4a63-a88d-980132425f76",
   "metadata": {},
   "outputs": [
    {
     "data": {
      "text/plain": [
       "Material_floor\n",
       "0    0.843552\n",
       "1    0.156448\n",
       "Name: proportion, dtype: float64"
      ]
     },
     "execution_count": 145,
     "metadata": {},
     "output_type": "execute_result"
    }
   ],
   "source": [
    "rtv_cont['Material_floor'].apply(lambda x: 1 if x in [2,3] else 0).value_counts(normalize=True)"
   ]
  },
  {
   "cell_type": "code",
   "execution_count": 146,
   "id": "ce6f23f3-c146-4f2f-bf63-cdf486678987",
   "metadata": {},
   "outputs": [
    {
     "data": {
      "text/plain": [
       "Material_floor\n",
       "0    0.857373\n",
       "1    0.142627\n",
       "Name: proportion, dtype: float64"
      ]
     },
     "execution_count": 146,
     "metadata": {},
     "output_type": "execute_result"
    }
   ],
   "source": [
    "peer_cont['Material_floor'].apply(lambda x: 1 if x in [2,3] else 0).value_counts(normalize=True)"
   ]
  },
  {
   "cell_type": "markdown",
   "id": "620c949a-3e24-4955-ac3a-098165e284c4",
   "metadata": {},
   "source": [
    "## Parmanent"
   ]
  },
  {
   "cell_type": "code",
   "execution_count": null,
   "id": "a550e31e-d602-4d04-b685-1dc872a2a893",
   "metadata": {},
   "outputs": [],
   "source": [
    "def satisfy_conditions(row):\n",
    "    if row['Material_walls'] == 2 and \\\n",
    "       row['Material_floor'] in [2, 3] and \\\n",
    "       row['Material_roof'] == 2:\n",
    "        return 1\n",
    "    else:\n",
    "        return 0"
   ]
  },
  {
   "cell_type": "code",
   "execution_count": 35,
   "id": "b2fe6a60-6082-41b0-bef1-0d5909fcdd6d",
   "metadata": {},
   "outputs": [],
   "source": [
    "peer_cont['Parmenent'] = peer_cont.apply(satisfy_conditions, axis=1)\n",
    "rtv_cont['Parmenent'] = rtv_cont.apply(satisfy_conditions, axis=1)"
   ]
  },
  {
   "cell_type": "code",
   "execution_count": 42,
   "id": "3277ce07-d252-4b05-b246-e81bef290d28",
   "metadata": {},
   "outputs": [
    {
     "data": {
      "text/plain": [
       "Parmenent\n",
       "0    0.9253\n",
       "1    0.0747\n",
       "Name: proportion, dtype: float64"
      ]
     },
     "execution_count": 42,
     "metadata": {},
     "output_type": "execute_result"
    }
   ],
   "source": [
    "rtv_cont['Parmenent'].value_counts(normalize=True)"
   ]
  },
  {
   "cell_type": "code",
   "execution_count": 41,
   "id": "a8db4fdb-1c7c-422b-89a2-7f983aa6b45b",
   "metadata": {},
   "outputs": [
    {
     "data": {
      "text/plain": [
       "Parmenent\n",
       "0    0.889605\n",
       "1    0.110395\n",
       "Name: proportion, dtype: float64"
      ]
     },
     "execution_count": 41,
     "metadata": {},
     "output_type": "execute_result"
    }
   ],
   "source": [
    "peer_cont['Parmenent'].value_counts(normalize=True)"
   ]
  },
  {
   "cell_type": "code",
   "execution_count": 43,
   "id": "535d40fb-dc46-4901-be85-ecc2362ba9ee",
   "metadata": {},
   "outputs": [
    {
     "data": {
      "text/html": [
       "<div>\n",
       "<style scoped>\n",
       "    .dataframe tbody tr th:only-of-type {\n",
       "        vertical-align: middle;\n",
       "    }\n",
       "\n",
       "    .dataframe tbody tr th {\n",
       "        vertical-align: top;\n",
       "    }\n",
       "\n",
       "    .dataframe thead th {\n",
       "        text-align: right;\n",
       "    }\n",
       "</style>\n",
       "<table border=\"1\" class=\"dataframe\">\n",
       "  <thead>\n",
       "    <tr style=\"text-align: right;\">\n",
       "      <th></th>\n",
       "      <th>Material_walls</th>\n",
       "      <th>Material_floor</th>\n",
       "      <th>Material_roof</th>\n",
       "      <th>Parmenent</th>\n",
       "    </tr>\n",
       "  </thead>\n",
       "  <tbody>\n",
       "    <tr>\n",
       "      <th>0</th>\n",
       "      <td>2</td>\n",
       "      <td>1</td>\n",
       "      <td>2</td>\n",
       "      <td>0</td>\n",
       "    </tr>\n",
       "    <tr>\n",
       "      <th>1</th>\n",
       "      <td>2</td>\n",
       "      <td>1</td>\n",
       "      <td>2</td>\n",
       "      <td>0</td>\n",
       "    </tr>\n",
       "    <tr>\n",
       "      <th>2</th>\n",
       "      <td>1</td>\n",
       "      <td>1</td>\n",
       "      <td>2</td>\n",
       "      <td>0</td>\n",
       "    </tr>\n",
       "    <tr>\n",
       "      <th>3</th>\n",
       "      <td>2</td>\n",
       "      <td>1</td>\n",
       "      <td>2</td>\n",
       "      <td>0</td>\n",
       "    </tr>\n",
       "    <tr>\n",
       "      <th>4</th>\n",
       "      <td>1</td>\n",
       "      <td>1</td>\n",
       "      <td>2</td>\n",
       "      <td>0</td>\n",
       "    </tr>\n",
       "  </tbody>\n",
       "</table>\n",
       "</div>"
      ],
      "text/plain": [
       "   Material_walls  Material_floor  Material_roof  Parmenent\n",
       "0               2               1              2          0\n",
       "1               2               1              2          0\n",
       "2               1               1              2          0\n",
       "3               2               1              2          0\n",
       "4               1               1              2          0"
      ]
     },
     "execution_count": 43,
     "metadata": {},
     "output_type": "execute_result"
    }
   ],
   "source": [
    "rtv_cont[['Material_walls', 'Material_floor', 'Material_roof', 'Parmenent']].head()"
   ]
  },
  {
   "cell_type": "code",
   "execution_count": 44,
   "id": "6e7425e2-2de8-49be-bc08-f115f7f42fb6",
   "metadata": {},
   "outputs": [
    {
     "data": {
      "text/html": [
       "<div>\n",
       "<style scoped>\n",
       "    .dataframe tbody tr th:only-of-type {\n",
       "        vertical-align: middle;\n",
       "    }\n",
       "\n",
       "    .dataframe tbody tr th {\n",
       "        vertical-align: top;\n",
       "    }\n",
       "\n",
       "    .dataframe thead th {\n",
       "        text-align: right;\n",
       "    }\n",
       "</style>\n",
       "<table border=\"1\" class=\"dataframe\">\n",
       "  <thead>\n",
       "    <tr style=\"text-align: right;\">\n",
       "      <th></th>\n",
       "      <th>Material_walls</th>\n",
       "      <th>Material_floor</th>\n",
       "      <th>Material_roof</th>\n",
       "      <th>Parmenent</th>\n",
       "    </tr>\n",
       "  </thead>\n",
       "  <tbody>\n",
       "    <tr>\n",
       "      <th>0</th>\n",
       "      <td>1</td>\n",
       "      <td>1</td>\n",
       "      <td>2</td>\n",
       "      <td>0</td>\n",
       "    </tr>\n",
       "    <tr>\n",
       "      <th>1</th>\n",
       "      <td>1</td>\n",
       "      <td>1</td>\n",
       "      <td>2</td>\n",
       "      <td>0</td>\n",
       "    </tr>\n",
       "    <tr>\n",
       "      <th>2</th>\n",
       "      <td>1</td>\n",
       "      <td>1</td>\n",
       "      <td>2</td>\n",
       "      <td>0</td>\n",
       "    </tr>\n",
       "    <tr>\n",
       "      <th>3</th>\n",
       "      <td>1</td>\n",
       "      <td>1</td>\n",
       "      <td>2</td>\n",
       "      <td>0</td>\n",
       "    </tr>\n",
       "    <tr>\n",
       "      <th>4</th>\n",
       "      <td>1</td>\n",
       "      <td>1</td>\n",
       "      <td>1</td>\n",
       "      <td>0</td>\n",
       "    </tr>\n",
       "  </tbody>\n",
       "</table>\n",
       "</div>"
      ],
      "text/plain": [
       "   Material_walls  Material_floor  Material_roof  Parmenent\n",
       "0               1               1              2          0\n",
       "1               1               1              2          0\n",
       "2               1               1              2          0\n",
       "3               1               1              2          0\n",
       "4               1               1              1          0"
      ]
     },
     "execution_count": 44,
     "metadata": {},
     "output_type": "execute_result"
    }
   ],
   "source": [
    "peer_cont[['Material_walls', 'Material_floor', 'Material_roof', 'Parmenent']].head()"
   ]
  },
  {
   "cell_type": "raw",
   "id": "b0e82b1f-dad6-485d-8223-ce11678ca5cb",
   "metadata": {},
   "source": [
    "What main source of fuel does the Household use for Cooking?\t\n",
    "1\tFirewood/Dung/Grass/Reeds\n",
    "2\tCharcoal/Paraffin/Stove/Gas/Bio Gas\n",
    "3\tElectricity/Other"
   ]
  },
  {
   "cell_type": "code",
   "execution_count": 147,
   "id": "1ac804de-add5-460f-be81-9fc4eebdc36d",
   "metadata": {},
   "outputs": [
    {
     "data": {
      "text/plain": [
       "Fuel_source_cooking\n",
       "0    0.983791\n",
       "1    0.016209\n",
       "Name: proportion, dtype: float64"
      ]
     },
     "execution_count": 147,
     "metadata": {},
     "output_type": "execute_result"
    }
   ],
   "source": [
    "rtv_cont['Fuel_source_cooking'].apply(lambda x: 1 if x in [2,3] else 0).value_counts(normalize=True)"
   ]
  },
  {
   "cell_type": "code",
   "execution_count": 148,
   "id": "8615eeb6-bd6b-4b0a-9ec9-7df759f8a3be",
   "metadata": {},
   "outputs": [
    {
     "data": {
      "text/plain": [
       "Fuel_source_cooking\n",
       "0    0.986301\n",
       "1    0.013699\n",
       "Name: proportion, dtype: float64"
      ]
     },
     "execution_count": 148,
     "metadata": {},
     "output_type": "execute_result"
    }
   ],
   "source": [
    "peer_cont['Fuel_source_cooking'].apply(lambda x: 1 if x in [2,3] else 0).value_counts(normalize=True)"
   ]
  },
  {
   "cell_type": "raw",
   "id": "11944c3d-7c8f-4f0d-bf0d-5807b264554d",
   "metadata": {},
   "source": [
    "What type of Toilet Facility does the Family mainly use?\t\n",
    "1\tNo facility / Bush / Polythene Bag\n",
    "2\tUncovered Pit Latrine / Covered Pit Latrine with no Slab / Ecosan Compost\n",
    "3\tCovered Pit Latrine with Slab\n",
    "4\tVIP Toilet Flushable"
   ]
  },
  {
   "cell_type": "code",
   "execution_count": null,
   "id": "fc65f5fe-7e39-45bd-8eda-22c13aa32595",
   "metadata": {},
   "outputs": [],
   "source": []
  },
  {
   "cell_type": "code",
   "execution_count": 149,
   "id": "566a146b-496d-439a-8a86-2ad77655253c",
   "metadata": {},
   "outputs": [
    {
     "data": {
      "text/plain": [
       "Type_of_Toilet_Facility\n",
       "1    0.990839\n",
       "0    0.009161\n",
       "Name: proportion, dtype: float64"
      ]
     },
     "execution_count": 149,
     "metadata": {},
     "output_type": "execute_result"
    }
   ],
   "source": [
    "rtv_cont['Type_of_Toilet_Facility'].apply(lambda x: 1 if x in [2,3,4] else 0).value_counts(normalize=True)"
   ]
  },
  {
   "cell_type": "code",
   "execution_count": 150,
   "id": "57c69376-83a8-47d6-9373-5bed07e2da92",
   "metadata": {},
   "outputs": [
    {
     "data": {
      "text/plain": [
       "Type_of_Toilet_Facility\n",
       "1    0.995971\n",
       "0    0.004029\n",
       "Name: proportion, dtype: float64"
      ]
     },
     "execution_count": 150,
     "metadata": {},
     "output_type": "execute_result"
    }
   ],
   "source": [
    "peer_cont['Type_of_Toilet_Facility'].apply(lambda x: 1 if x in [2,3,4] else 0).value_counts(normalize=True)"
   ]
  },
  {
   "cell_type": "code",
   "execution_count": 107,
   "id": "660895aa-ffe1-47c4-8470-f688e0dd37de",
   "metadata": {},
   "outputs": [
    {
     "data": {
      "text/plain": [
       "Type_of_Toilet_Facility\n",
       "0    0.915433\n",
       "1    0.084567\n",
       "Name: proportion, dtype: float64"
      ]
     },
     "execution_count": 107,
     "metadata": {},
     "output_type": "execute_result"
    }
   ],
   "source": [
    "rtv_cont['Type_of_Toilet_Facility'].apply(lambda x: 1 if x in [3,4] else 0).value_counts(normalize=True)"
   ]
  },
  {
   "cell_type": "code",
   "execution_count": 94,
   "id": "290fcfa7-b58c-4558-af36-eec9c0b4db61",
   "metadata": {},
   "outputs": [
    {
     "data": {
      "text/plain": [
       "Type_of_Toilet_Facility\n",
       "0    0.916197\n",
       "1    0.083803\n",
       "Name: proportion, dtype: float64"
      ]
     },
     "execution_count": 94,
     "metadata": {},
     "output_type": "execute_result"
    }
   ],
   "source": [
    "peer_cont['Type_of_Toilet_Facility'].apply(lambda x: 1 if x in [3,4] else 0).value_counts(normalize=True)"
   ]
  },
  {
   "cell_type": "code",
   "execution_count": null,
   "id": "15e6a73e-c9f9-45ff-89ea-953f4520a9c7",
   "metadata": {},
   "outputs": [],
   "source": []
  },
  {
   "cell_type": "raw",
   "id": "07a4cfd1-6290-4501-ab0a-eb002c3139d7",
   "metadata": {},
   "source": [
    "Does Every Member of a Household own at least ONE Pair of Shoes?\n",
    "Slippers, Sandals, Shower Shoes, Flip Flops, Gumboots do NOT count as shoes\n",
    "\n",
    "1\tYes\n",
    "0\tNo"
   ]
  },
  {
   "cell_type": "code",
   "execution_count": 95,
   "id": "457fec36-d919-4651-8345-2c02471f5b7b",
   "metadata": {},
   "outputs": [
    {
     "data": {
      "text/plain": [
       "Every_Member_at_least_ONE_Pair_of_Shoes\n",
       "0    0.621564\n",
       "1    0.378436\n",
       "Name: proportion, dtype: float64"
      ]
     },
     "execution_count": 95,
     "metadata": {},
     "output_type": "execute_result"
    }
   ],
   "source": [
    "rtv_cont['Every_Member_at_least_ONE_Pair_of_Shoes'].value_counts(normalize=True)"
   ]
  },
  {
   "cell_type": "code",
   "execution_count": 96,
   "id": "835b2819-211b-4506-b6c9-1c705c335a39",
   "metadata": {},
   "outputs": [
    {
     "data": {
      "text/plain": [
       "Every_Member_at_least_ONE_Pair_of_Shoes\n",
       "0    0.65834\n",
       "1    0.34166\n",
       "Name: proportion, dtype: float64"
      ]
     },
     "execution_count": 96,
     "metadata": {},
     "output_type": "execute_result"
    }
   ],
   "source": [
    "peer_cont['Every_Member_at_least_ONE_Pair_of_Shoes'].value_counts(normalize=True)"
   ]
  },
  {
   "cell_type": "raw",
   "id": "9e83be11-02d4-4312-b545-2744254e398c",
   "metadata": {},
   "source": [
    "How many radios are currently in use within your household?"
   ]
  },
  {
   "cell_type": "code",
   "execution_count": 98,
   "id": "2dffadc2-0e85-447c-9450-ad3f408c5ab9",
   "metadata": {},
   "outputs": [
    {
     "data": {
      "text/plain": [
       "Number_Radios\n",
       "0    0.534884\n",
       "1    0.465116\n",
       "Name: proportion, dtype: float64"
      ]
     },
     "execution_count": 98,
     "metadata": {},
     "output_type": "execute_result"
    }
   ],
   "source": [
    "rtv_cont['Number_Radios'].apply(lambda x: 1 if x > 0 else 0).value_counts(normalize=True)"
   ]
  },
  {
   "cell_type": "code",
   "execution_count": 100,
   "id": "e3ddfa59-1d12-430a-bdd3-1ea22cab378d",
   "metadata": {},
   "outputs": [
    {
     "data": {
      "text/plain": [
       "Number_Radios\n",
       "1    0.558421\n",
       "0    0.441579\n",
       "Name: proportion, dtype: float64"
      ]
     },
     "execution_count": 100,
     "metadata": {},
     "output_type": "execute_result"
    }
   ],
   "source": [
    "peer_cont['Number_Radios'].apply(lambda x: 1 if x > 0 else 0).value_counts(normalize=True)"
   ]
  },
  {
   "cell_type": "code",
   "execution_count": null,
   "id": "58dbfc26-a827-4bf2-9688-4628d3820298",
   "metadata": {},
   "outputs": [],
   "source": []
  },
  {
   "cell_type": "code",
   "execution_count": 101,
   "id": "d992d35f-1964-4b87-829f-8277408239ae",
   "metadata": {},
   "outputs": [
    {
     "data": {
      "text/plain": [
       "Number_Mobile_Phones\n",
       "1    0.766032\n",
       "0    0.233968\n",
       "Name: proportion, dtype: float64"
      ]
     },
     "execution_count": 101,
     "metadata": {},
     "output_type": "execute_result"
    }
   ],
   "source": [
    "rtv_cont['Number_Mobile_Phones'].apply(lambda x: 1 if x > 0 else 0).value_counts(normalize=True)"
   ]
  },
  {
   "cell_type": "code",
   "execution_count": 102,
   "id": "f7e55019-0f8f-43ff-a032-c5595553049f",
   "metadata": {},
   "outputs": [
    {
     "data": {
      "text/plain": [
       "Number_Mobile_Phones\n",
       "1    0.766032\n",
       "0    0.233968\n",
       "Name: proportion, dtype: float64"
      ]
     },
     "execution_count": 102,
     "metadata": {},
     "output_type": "execute_result"
    }
   ],
   "source": [
    "rtv_cont['Number_Mobile_Phones'].apply(lambda x: 1 if x > 0 else 0).value_counts(normalize=True)"
   ]
  },
  {
   "cell_type": "code",
   "execution_count": null,
   "id": "34e555ed-57db-49eb-8bdf-228149331e2b",
   "metadata": {},
   "outputs": [],
   "source": []
  },
  {
   "cell_type": "code",
   "execution_count": 103,
   "id": "35a728ab-267d-4923-a085-09328c93f407",
   "metadata": {},
   "outputs": [
    {
     "data": {
      "text/plain": [
       "Does_your_Household_own_any_Land\n",
       "1    0.954193\n",
       "0    0.045807\n",
       "Name: proportion, dtype: float64"
      ]
     },
     "execution_count": 103,
     "metadata": {},
     "output_type": "execute_result"
    }
   ],
   "source": [
    "rtv_cont['Does_your_Household_own_any_Land'].value_counts(normalize=True)"
   ]
  },
  {
   "cell_type": "code",
   "execution_count": 104,
   "id": "eb9a0fb4-54b6-4b17-b9da-d088d98054e5",
   "metadata": {},
   "outputs": [
    {
     "data": {
      "text/plain": [
       "Does_your_Household_own_any_Land\n",
       "1    0.98469\n",
       "0    0.01531\n",
       "Name: proportion, dtype: float64"
      ]
     },
     "execution_count": 104,
     "metadata": {},
     "output_type": "execute_result"
    }
   ],
   "source": [
    "peer_cont['Does_your_Household_own_any_Land'].value_counts(normalize=True)"
   ]
  },
  {
   "cell_type": "code",
   "execution_count": null,
   "id": "d0de9382-8039-4aab-bd86-f1632702dabb",
   "metadata": {},
   "outputs": [],
   "source": []
  },
  {
   "cell_type": "raw",
   "id": "5bf94406-7095-40db-90ad-1d1c9afd3e59",
   "metadata": {},
   "source": [
    "Did your household achieve the set goal(s) for the last 12 Months?\t\n",
    "1\tYes\n",
    "0\tNo"
   ]
  },
  {
   "cell_type": "code",
   "execution_count": 29,
   "id": "2ca0a988-7443-4f18-a95e-08723b624587",
   "metadata": {},
   "outputs": [
    {
     "data": {
      "text/plain": [
       "Status  household_goal\n",
       "PEER    0                 0.643497\n",
       "        1                 0.356503\n",
       "RTV     1                 0.501668\n",
       "        0                 0.498332\n",
       "Name: proportion, dtype: float64"
      ]
     },
     "execution_count": 29,
     "metadata": {},
     "output_type": "execute_result"
    }
   ],
   "source": [
    "df.groupby('Status')['household_goal'].value_counts(normalize=True)"
   ]
  },
  {
   "cell_type": "raw",
   "id": "1ae3299d-969e-4510-9d01-df16559a4555",
   "metadata": {},
   "source": [
    "Do you feel like your quality of life will improve or worsen over the next 12 months?\t\n",
    "1\tImprove\n",
    "2\tWorse\n",
    "3\tSame\n",
    "98\tDon't know"
   ]
  },
  {
   "cell_type": "code",
   "execution_count": 105,
   "id": "f4c9fbf3-3439-422d-b2dd-1efa4f354f13",
   "metadata": {},
   "outputs": [
    {
     "data": {
      "text/plain": [
       "quality_of_life_improve_next_12_months\n",
       "1    0.517266\n",
       "0    0.482734\n",
       "Name: proportion, dtype: float64"
      ]
     },
     "execution_count": 105,
     "metadata": {},
     "output_type": "execute_result"
    }
   ],
   "source": [
    "rtv_cont['quality_of_life_improve_next_12_months'].apply(lambda x: 1 if x == 1 else 0).value_counts(normalize=True)"
   ]
  },
  {
   "cell_type": "code",
   "execution_count": 106,
   "id": "cda7b50a-338e-4315-8f77-c55db343d8a0",
   "metadata": {},
   "outputs": [
    {
     "data": {
      "text/plain": [
       "quality_of_life_improve_next_12_months\n",
       "1    0.505238\n",
       "0    0.494762\n",
       "Name: proportion, dtype: float64"
      ]
     },
     "execution_count": 106,
     "metadata": {},
     "output_type": "execute_result"
    }
   ],
   "source": [
    "peer_cont['quality_of_life_improve_next_12_months'].apply(lambda x: 1 if x == 1 else 0).value_counts(normalize=True)"
   ]
  },
  {
   "cell_type": "code",
   "execution_count": null,
   "id": "7dff0d13-e71f-440e-9b22-4d5a823faa5a",
   "metadata": {},
   "outputs": [],
   "source": []
  }
 ],
 "metadata": {
  "kernelspec": {
   "display_name": "Python 3 (ipykernel)",
   "language": "python",
   "name": "python3"
  },
  "language_info": {
   "codemirror_mode": {
    "name": "ipython",
    "version": 3
   },
   "file_extension": ".py",
   "mimetype": "text/x-python",
   "name": "python",
   "nbconvert_exporter": "python",
   "pygments_lexer": "ipython3",
   "version": "3.10.12"
  }
 },
 "nbformat": 4,
 "nbformat_minor": 5
}
