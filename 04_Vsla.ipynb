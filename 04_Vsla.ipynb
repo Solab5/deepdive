{
 "cells": [
  {
   "cell_type": "code",
   "execution_count": 1,
   "id": "212be6e2-acf3-4835-b144-5468914a49fb",
   "metadata": {},
   "outputs": [],
   "source": [
    "from fastai.imports import *"
   ]
  },
  {
   "cell_type": "code",
   "execution_count": 2,
   "id": "dbabaa4b-26e1-4c58-aad1-188318d14b50",
   "metadata": {},
   "outputs": [],
   "source": [
    "from scipy.stats import f_oneway"
   ]
  },
  {
   "cell_type": "code",
   "execution_count": 3,
   "id": "8e9b3263-3810-4d4e-83c1-a13800fb1c3e",
   "metadata": {},
   "outputs": [],
   "source": [
    "peer = pd.read_excel('All2021Cohorts_merged_outlier managed_copy_2.xlsx', sheet_name='All2021ControlBaseline',header=5)\n",
    "rtv = pd.read_excel('All2021Cohorts_merged_outlier managed_copy_2.xlsx', sheet_name='All2021CohortBaseline',header=5)"
   ]
  },
  {
   "cell_type": "code",
   "execution_count": 4,
   "id": "8b559375-3c08-4ddf-8373-d04efabf0935",
   "metadata": {},
   "outputs": [
    {
     "data": {
      "text/plain": [
       "((1241, 4277), (1419, 6725))"
      ]
     },
     "execution_count": 4,
     "metadata": {},
     "output_type": "execute_result"
    }
   ],
   "source": [
    "peer.shape, rtv.shape"
   ]
  },
  {
   "cell_type": "code",
   "execution_count": 5,
   "id": "6e1cb3fe-8873-43dc-b8d0-975a203a8f26",
   "metadata": {},
   "outputs": [],
   "source": [
    "adjusted_cpi = 90.42"
   ]
  },
  {
   "cell_type": "markdown",
   "id": "a3321c36-1010-4cce-8402-9f5742a03b61",
   "metadata": {},
   "source": [
    "## Savings / Loans"
   ]
  },
  {
   "cell_type": "code",
   "execution_count": 7,
   "id": "66b3c4dd-199c-4b46-a8a7-995393a97731",
   "metadata": {},
   "outputs": [
    {
     "data": {
      "text/plain": [
       "mean      78811.068595\n",
       "median     2712.600000\n",
       "Name: Total Savings (Ugx), dtype: float64"
      ]
     },
     "execution_count": 7,
     "metadata": {},
     "output_type": "execute_result"
    }
   ],
   "source": [
    "rtv['Total Savings (Ugx)'].agg(['mean','median']) * (adjusted_cpi/100)"
   ]
  },
  {
   "cell_type": "code",
   "execution_count": 8,
   "id": "1d022683-e675-4ddd-8076-ed3dfb7af539",
   "metadata": {},
   "outputs": [
    {
     "data": {
      "text/plain": [
       "mean      78811.068595\n",
       "median     2712.600000\n",
       "Name: Total Savings (Ugx), dtype: float64"
      ]
     },
     "execution_count": 8,
     "metadata": {},
     "output_type": "execute_result"
    }
   ],
   "source": [
    "rtv['Total Savings (Ugx)'].agg(['mean','median']) * (adjusted_cpi/100)"
   ]
  },
  {
   "cell_type": "code",
   "execution_count": 9,
   "id": "aa51f4bf-4f6c-4f77-92cb-efc33483ff3d",
   "metadata": {},
   "outputs": [
    {
     "data": {
      "text/plain": [
       "mean      165380.035553\n",
       "median         0.000000\n",
       "Name: Loan Amount (Ugx), dtype: float64"
      ]
     },
     "execution_count": 9,
     "metadata": {},
     "output_type": "execute_result"
    }
   ],
   "source": [
    "rtv['Loan Amount (Ugx)'].agg(['mean','median']) * (adjusted_cpi/100)"
   ]
  },
  {
   "cell_type": "code",
   "execution_count": null,
   "id": "438abea9-c3dd-4c07-94b0-f4b08035c247",
   "metadata": {},
   "outputs": [],
   "source": []
  },
  {
   "cell_type": "markdown",
   "id": "c10e3a22-be19-4dad-811d-ed1f42e874cd",
   "metadata": {},
   "source": [
    "## Percentage of household active"
   ]
  },
  {
   "cell_type": "code",
   "execution_count": 11,
   "id": "eeb8ea35-8b94-432e-b2be-92df433d0159",
   "metadata": {},
   "outputs": [
    {
     "data": {
      "text/plain": [
       "50.95137420718816"
      ]
     },
     "execution_count": 11,
     "metadata": {},
     "output_type": "execute_result"
    }
   ],
   "source": [
    "percent = (len(rtv[rtv['Total Savings (Ugx)'] != 0]) / len(rtv) * 100)\n",
    "percent"
   ]
  },
  {
   "cell_type": "code",
   "execution_count": 24,
   "id": "0e5c4df7-8c3f-4480-8e9b-592d20e9422a",
   "metadata": {},
   "outputs": [
    {
     "data": {
      "text/plain": [
       "154678.98525145228"
      ]
     },
     "execution_count": 24,
     "metadata": {},
     "output_type": "execute_result"
    }
   ],
   "source": [
    "# Total savings for households actively saving.\n",
    "rtv.loc[rtv['Total Savings (Ugx)'] != 0]['Total Savings (Ugx)'].mean() * (adjusted_cpi/100)"
   ]
  },
  {
   "cell_type": "code",
   "execution_count": null,
   "id": "9fffd343-06b6-450e-a024-80d83332a292",
   "metadata": {},
   "outputs": [],
   "source": []
  },
  {
   "cell_type": "markdown",
   "id": "4a7e2bdf-f13d-4cd7-97fe-dae13b745579",
   "metadata": {},
   "source": [
    "## Total Outstanding Data"
   ]
  },
  {
   "cell_type": "code",
   "execution_count": 12,
   "id": "28d59cd1-1cd2-4323-b883-22b5b24e3e7e",
   "metadata": {},
   "outputs": [
    {
     "data": {
      "text/plain": [
       "105527.2142976744"
      ]
     },
     "execution_count": 12,
     "metadata": {},
     "output_type": "execute_result"
    }
   ],
   "source": [
    "Total_outstanding_debt = rtv['loan_remaining'].fillna(0).mean()\n",
    "Total_outstanding_debt * (adjusted_cpi/100)"
   ]
  },
  {
   "cell_type": "code",
   "execution_count": null,
   "id": "4cb44e91-88d5-4715-94f1-3beda3ae581e",
   "metadata": {},
   "outputs": [],
   "source": []
  },
  {
   "cell_type": "markdown",
   "id": "e54beb3d-2ba3-40d2-b058-d6f8ae8c2a5b",
   "metadata": {},
   "source": [
    "### Loan in the first 12 months"
   ]
  },
  {
   "cell_type": "code",
   "execution_count": 13,
   "id": "4dfaabe4-9e4c-409f-a3d2-0646ec46f3b4",
   "metadata": {},
   "outputs": [
    {
     "data": {
      "text/plain": [
       "Loan_in_the_past_12_months_\n",
       "0    69.837914\n",
       "1    30.162086\n",
       "Name: proportion, dtype: float64"
      ]
     },
     "execution_count": 13,
     "metadata": {},
     "output_type": "execute_result"
    }
   ],
   "source": [
    "rtv['Loan_in_the_past_12_months_'].value_counts(normalize=True)*100"
   ]
  },
  {
   "cell_type": "code",
   "execution_count": 26,
   "id": "22352aa9-287a-4809-8d63-62617715ed5c",
   "metadata": {},
   "outputs": [
    {
     "data": {
      "text/plain": [
       "mean      548304.370211\n",
       "median    271260.000000\n",
       "Name: Loan Amount (Ugx), dtype: float64"
      ]
     },
     "execution_count": 26,
     "metadata": {},
     "output_type": "execute_result"
    }
   ],
   "source": [
    "subset = rtv[rtv['Loan_in_the_past_12_months_'] ==1]\n",
    "subset['Loan Amount (Ugx)'].agg(['mean','median']) * (adjusted_cpi/100)"
   ]
  },
  {
   "cell_type": "markdown",
   "id": "ed1e4bac-15d1-451a-be30-06940d434bc7",
   "metadata": {},
   "source": [
    "### Interest Rate"
   ]
  },
  {
   "cell_type": "code",
   "execution_count": 15,
   "id": "cba85442-9343-4c81-bc88-e7f3859cb499",
   "metadata": {},
   "outputs": [
    {
     "data": {
      "text/plain": [
       "mean      6.966404\n",
       "median    5.000000\n",
       "Name: What_was_the_rate_of_interest, dtype: float64"
      ]
     },
     "execution_count": 15,
     "metadata": {},
     "output_type": "execute_result"
    }
   ],
   "source": [
    "rtv[rtv['What_was_the_rate_of_interest'] != 0.]['What_was_the_rate_of_interest'].agg(['mean', 'median'])"
   ]
  },
  {
   "cell_type": "code",
   "execution_count": null,
   "id": "47fcc758-329f-4fce-85ca-825fe623928e",
   "metadata": {},
   "outputs": [],
   "source": []
  },
  {
   "cell_type": "markdown",
   "id": "0bea28a3-daaa-4675-8d36-ec319b1efc0e",
   "metadata": {},
   "source": [
    "# Income Earnings and Asssets"
   ]
  },
  {
   "cell_type": "code",
   "execution_count": 16,
   "id": "27545525-908e-4266-9c3a-4162449138dc",
   "metadata": {},
   "outputs": [],
   "source": [
    "rtv['Seasonal  Agriculture Value (USD_Cons_rate)'] = rtv[['Season 1 Agriculture Value (USD_Cons_rate)','Season 2 Agriculture Value (USD_Cons_rate)']].sum(axis=1)"
   ]
  },
  {
   "cell_type": "code",
   "execution_count": 17,
   "id": "6af64e7e-58e0-4562-aca9-85d81f4f5aab",
   "metadata": {},
   "outputs": [
    {
     "data": {
      "text/html": [
       "<div>\n",
       "<style scoped>\n",
       "    .dataframe tbody tr th:only-of-type {\n",
       "        vertical-align: middle;\n",
       "    }\n",
       "\n",
       "    .dataframe tbody tr th {\n",
       "        vertical-align: top;\n",
       "    }\n",
       "\n",
       "    .dataframe thead th {\n",
       "        text-align: right;\n",
       "    }\n",
       "</style>\n",
       "<table border=\"1\" class=\"dataframe\">\n",
       "  <thead>\n",
       "    <tr style=\"text-align: right;\">\n",
       "      <th></th>\n",
       "      <th>Personal Business &amp; Self Employment (USD_Cons_rate)</th>\n",
       "      <th>Seasonal Crops Income (USD_Cons_rate)</th>\n",
       "      <th>Seasonal  Agriculture Value (USD_Cons_rate)</th>\n",
       "      <th>Livestock Income (USD_Cons_rate)</th>\n",
       "      <th>Livestock Asset Value (USD_Cons_rate))</th>\n",
       "      <th>HH Income (USD_Cons_rate)</th>\n",
       "      <th>HH Income + Consumption + Residues (USD_Cons_rate)</th>\n",
       "      <th>HH Income/Day (USD_Cons_rate)</th>\n",
       "      <th>HH Income + Consumption + Residues/Day (USD_Cons_rate)</th>\n",
       "    </tr>\n",
       "  </thead>\n",
       "  <tbody>\n",
       "    <tr>\n",
       "      <th>mean</th>\n",
       "      <td>36.673519</td>\n",
       "      <td>28.895035</td>\n",
       "      <td>115.541623</td>\n",
       "      <td>13.026151</td>\n",
       "      <td>91.220583</td>\n",
       "      <td>172.600251</td>\n",
       "      <td>314.342274</td>\n",
       "      <td>0.472877</td>\n",
       "      <td>0.861212</td>\n",
       "    </tr>\n",
       "    <tr>\n",
       "      <th>median</th>\n",
       "      <td>0.000000</td>\n",
       "      <td>11.051333</td>\n",
       "      <td>82.759417</td>\n",
       "      <td>0.000000</td>\n",
       "      <td>10.046667</td>\n",
       "      <td>82.131500</td>\n",
       "      <td>203.445000</td>\n",
       "      <td>0.225018</td>\n",
       "      <td>0.557384</td>\n",
       "    </tr>\n",
       "  </tbody>\n",
       "</table>\n",
       "</div>"
      ],
      "text/plain": [
       "        Personal Business & Self Employment (USD_Cons_rate)  \\\n",
       "mean                                              36.673519   \n",
       "median                                             0.000000   \n",
       "\n",
       "        Seasonal Crops Income (USD_Cons_rate)  \\\n",
       "mean                                28.895035   \n",
       "median                              11.051333   \n",
       "\n",
       "        Seasonal  Agriculture Value (USD_Cons_rate)  \\\n",
       "mean                                     115.541623   \n",
       "median                                    82.759417   \n",
       "\n",
       "        Livestock Income (USD_Cons_rate)  \\\n",
       "mean                           13.026151   \n",
       "median                          0.000000   \n",
       "\n",
       "        Livestock Asset Value (USD_Cons_rate))  HH Income (USD_Cons_rate)  \\\n",
       "mean                                 91.220583                 172.600251   \n",
       "median                               10.046667                  82.131500   \n",
       "\n",
       "        HH Income + Consumption + Residues (USD_Cons_rate)  \\\n",
       "mean                                            314.342274   \n",
       "median                                          203.445000   \n",
       "\n",
       "        HH Income/Day (USD_Cons_rate)  \\\n",
       "mean                         0.472877   \n",
       "median                       0.225018   \n",
       "\n",
       "        HH Income + Consumption + Residues/Day (USD_Cons_rate)  \n",
       "mean                                                  0.861212  \n",
       "median                                                0.557384  "
      ]
     },
     "execution_count": 17,
     "metadata": {},
     "output_type": "execute_result"
    }
   ],
   "source": [
    "rtv[[\n",
    "    'Personal Business & Self Employment (USD_Cons_rate)',\n",
    "    'Seasonal Crops Income (USD_Cons_rate)',\n",
    "    'Seasonal  Agriculture Value (USD_Cons_rate)',\n",
    "    'Livestock Income (USD_Cons_rate)',\n",
    "    'Livestock Asset Value (USD_Cons_rate))',\n",
    "    'HH Income (USD_Cons_rate)',\n",
    "    'HH Income + Consumption + Residues (USD_Cons_rate)',\n",
    "    'HH Income/Day (USD_Cons_rate)',\n",
    "    'HH Income + Consumption + Residues/Day (USD_Cons_rate)'\n",
    "]].agg(['mean','median'])"
   ]
  },
  {
   "cell_type": "markdown",
   "id": "acbab0b8-6a13-4ad9-8063-e8d14bf1f44d",
   "metadata": {},
   "source": [
    "## Purpose of the Loan"
   ]
  },
  {
   "cell_type": "raw",
   "id": "95c44873-4893-4496-bf5d-5f54b1534463",
   "metadata": {},
   "source": [
    "1\tSchool Fees\n",
    "2\tHome Construction\n",
    "3\tFor Business\n",
    "4\tagriculture\n",
    "5\tmedicine/sickness\n",
    "6\tTo cover other loans/debts\n",
    "97\tOther97\tOthers"
   ]
  },
  {
   "cell_type": "code",
   "execution_count": 18,
   "id": "259a8490-ad4d-4db5-8fa0-ad6dc7432e3b",
   "metadata": {},
   "outputs": [
    {
     "data": {
      "text/plain": [
       "Purpose_for_Borrowing\n",
       "1.0     25.233645\n",
       "5.0     18.224299\n",
       "3.0     17.056075\n",
       "4.0     13.785047\n",
       "97.0    10.514019\n",
       "2.0      8.644860\n",
       "6.0      6.542056\n",
       "Name: proportion, dtype: float64"
      ]
     },
     "execution_count": 18,
     "metadata": {},
     "output_type": "execute_result"
    }
   ],
   "source": [
    "rtv['Purpose_for_Borrowing'].value_counts(normalize=True)*100"
   ]
  },
  {
   "cell_type": "markdown",
   "id": "181e64a7-e4f7-4678-b72a-beaa62fee3cf",
   "metadata": {},
   "source": [
    "## Loan Sources"
   ]
  },
  {
   "cell_type": "raw",
   "id": "e0e2c73a-c15f-46f8-83fc-b768e71cb006",
   "metadata": {},
   "source": [
    "1\tBank Account\n",
    "2\tSavings and Credit Cooperatives (SACCO)\n",
    "3\tMobile Money\n",
    "4\tVillage Saving Groups\n",
    "5\tIndividuals\n",
    "97\tOthero savings"
   ]
  },
  {
   "cell_type": "code",
   "execution_count": 19,
   "id": "561af738-d98f-4e09-bbe8-1dd038a9b372",
   "metadata": {},
   "outputs": [
    {
     "data": {
      "text/plain": [
       "Loan_from\n",
       "4        65.186916\n",
       "2        11.448598\n",
       "5        10.747664\n",
       "1         6.542056\n",
       "4 5       3.738318\n",
       "97        1.401869\n",
       "1 4       0.233645\n",
       "2 4       0.233645\n",
       "2 4 5     0.233645\n",
       "1 2       0.233645\n",
       "Name: proportion, dtype: float64"
      ]
     },
     "execution_count": 19,
     "metadata": {},
     "output_type": "execute_result"
    }
   ],
   "source": [
    "rtv['Loan_from'].value_counts(normalize=True) * 100"
   ]
  },
  {
   "cell_type": "code",
   "execution_count": 20,
   "id": "d0f04154-8fff-4f6a-b1ac-73515d3d92e9",
   "metadata": {},
   "outputs": [
    {
     "data": {
      "text/plain": [
       "Loan_from_1\n",
       "0.0    92.990654\n",
       "1.0     7.009346\n",
       "Name: proportion, dtype: float64"
      ]
     },
     "execution_count": 20,
     "metadata": {},
     "output_type": "execute_result"
    }
   ],
   "source": [
    "rtv['Loan_from_1'].value_counts(normalize=True)*100"
   ]
  },
  {
   "cell_type": "code",
   "execution_count": 21,
   "id": "10d3487b-c423-496e-8910-11a23a414a5e",
   "metadata": {},
   "outputs": [
    {
     "data": {
      "text/plain": [
       "Loan_from_2\n",
       "0.0    87.850467\n",
       "1.0    12.149533\n",
       "Name: proportion, dtype: float64"
      ]
     },
     "execution_count": 21,
     "metadata": {},
     "output_type": "execute_result"
    }
   ],
   "source": [
    "rtv['Loan_from_2'].value_counts(normalize=True)*100"
   ]
  },
  {
   "cell_type": "code",
   "execution_count": 22,
   "id": "d0b50a9f-ba96-48d1-9fed-9fde5739231a",
   "metadata": {},
   "outputs": [
    {
     "data": {
      "text/plain": [
       "Loan_from_4\n",
       "1.0    69.626168\n",
       "0.0    30.373832\n",
       "Name: proportion, dtype: float64"
      ]
     },
     "execution_count": 22,
     "metadata": {},
     "output_type": "execute_result"
    }
   ],
   "source": [
    "rtv['Loan_from_4'].value_counts(normalize=True)*100"
   ]
  },
  {
   "cell_type": "code",
   "execution_count": 23,
   "id": "cf95abf2-48b2-42ee-9a07-bd8f32c1f18c",
   "metadata": {},
   "outputs": [
    {
     "data": {
      "text/plain": [
       "Loan_from_3\n",
       "0.0    100.0\n",
       "Name: proportion, dtype: float64"
      ]
     },
     "execution_count": 23,
     "metadata": {},
     "output_type": "execute_result"
    }
   ],
   "source": [
    "rtv['Loan_from_3'].value_counts(normalize=True)*100"
   ]
  },
  {
   "cell_type": "code",
   "execution_count": null,
   "id": "95666710-aa86-4ec7-8626-59f0e227662d",
   "metadata": {},
   "outputs": [],
   "source": []
  },
  {
   "cell_type": "code",
   "execution_count": null,
   "id": "ac214b2e-70bf-4205-b6cb-d9c90e10c176",
   "metadata": {},
   "outputs": [],
   "source": []
  },
  {
   "cell_type": "code",
   "execution_count": null,
   "id": "8ee48658-97be-432c-b7ac-9e82a2a1b6a5",
   "metadata": {},
   "outputs": [],
   "source": []
  },
  {
   "cell_type": "code",
   "execution_count": null,
   "id": "944f2d93-411e-4270-b020-8fdf39823dc1",
   "metadata": {},
   "outputs": [],
   "source": []
  },
  {
   "cell_type": "markdown",
   "id": "5e3ec5fb-4a2e-464b-9185-0765e5cd6829",
   "metadata": {},
   "source": [
    "## Interests Rates"
   ]
  },
  {
   "cell_type": "code",
   "execution_count": 53,
   "id": "8dc88954-bd33-4e38-9eb7-49b68cb330ba",
   "metadata": {},
   "outputs": [
    {
     "data": {
      "text/plain": [
       "mean      6.358696\n",
       "median    3.000000\n",
       "Name: Interest, dtype: float64"
      ]
     },
     "execution_count": 53,
     "metadata": {},
     "output_type": "execute_result"
    }
   ],
   "source": [
    "# Banks\n",
    "peer[peer['Loan_from_1'] == 1.0]['Interest'].agg(['mean', 'median'])"
   ]
  },
  {
   "cell_type": "code",
   "execution_count": 54,
   "id": "d0647b37-faeb-460a-ab38-4aa961253f85",
   "metadata": {},
   "outputs": [
    {
     "data": {
      "text/plain": [
       "mean      4.565357\n",
       "median    4.000000\n",
       "Name: Interest, dtype: float64"
      ]
     },
     "execution_count": 54,
     "metadata": {},
     "output_type": "execute_result"
    }
   ],
   "source": [
    "# SACCO\n",
    "peer[peer['Loan_from_2'] == 1.0]['Interest'].agg(['mean', 'median'])"
   ]
  },
  {
   "cell_type": "code",
   "execution_count": 56,
   "id": "bca30477-8c20-4c8b-a374-07540638b668",
   "metadata": {},
   "outputs": [
    {
     "data": {
      "text/plain": [
       "mean      5.421602\n",
       "median    5.000000\n",
       "Name: Interest, dtype: float64"
      ]
     },
     "execution_count": 56,
     "metadata": {},
     "output_type": "execute_result"
    }
   ],
   "source": [
    "# Village Savings Group\n",
    "peer[peer['Loan_from_4'] == 1.0]['Interest'].agg(['mean', 'median'])"
   ]
  },
  {
   "cell_type": "code",
   "execution_count": null,
   "id": "0dd9d915-d59d-412b-beb9-2d58d886d2d4",
   "metadata": {},
   "outputs": [],
   "source": []
  },
  {
   "cell_type": "code",
   "execution_count": 58,
   "id": "7b4bb153-9454-4a3b-808c-09494b673467",
   "metadata": {},
   "outputs": [
    {
     "data": {
      "text/plain": [
       "mean      7.866667\n",
       "median    5.000000\n",
       "Name: What_was_the_rate_of_interest, dtype: float64"
      ]
     },
     "execution_count": 58,
     "metadata": {},
     "output_type": "execute_result"
    }
   ],
   "source": [
    "# Banks\n",
    "rtv[rtv['Loan_from_1'] == 1.0]['What_was_the_rate_of_interest'].fillna(0).agg(['mean', 'median'])"
   ]
  },
  {
   "cell_type": "code",
   "execution_count": 59,
   "id": "d75645f3-2f22-4e02-9802-c46ebf2561df",
   "metadata": {},
   "outputs": [
    {
     "data": {
      "text/plain": [
       "mean      5.271154\n",
       "median    3.000000\n",
       "Name: What_was_the_rate_of_interest, dtype: float64"
      ]
     },
     "execution_count": 59,
     "metadata": {},
     "output_type": "execute_result"
    }
   ],
   "source": [
    "# SACCO\n",
    "rtv[rtv['Loan_from_2'] == 1.0]['What_was_the_rate_of_interest'].fillna(0).agg(['mean', 'median'])"
   ]
  },
  {
   "cell_type": "code",
   "execution_count": 62,
   "id": "4abcf4b3-8754-497d-9cde-1792afff08fb",
   "metadata": {},
   "outputs": [
    {
     "data": {
      "text/plain": [
       "mean      6.735235\n",
       "median    5.000000\n",
       "Name: What_was_the_rate_of_interest, dtype: float64"
      ]
     },
     "execution_count": 62,
     "metadata": {},
     "output_type": "execute_result"
    }
   ],
   "source": [
    "# Village Savings Group\n",
    "rtv[rtv['Loan_from_4'] == 1.0]['What_was_the_rate_of_interest'].fillna(0).agg(['mean', 'median'])"
   ]
  },
  {
   "cell_type": "code",
   "execution_count": null,
   "id": "38a456b5-1f4f-48ba-8ab2-4689053f2bcb",
   "metadata": {},
   "outputs": [],
   "source": []
  },
  {
   "cell_type": "code",
   "execution_count": null,
   "id": "7ecf1a08-1012-45d9-b674-9c7af92ae291",
   "metadata": {},
   "outputs": [],
   "source": []
  },
  {
   "cell_type": "code",
   "execution_count": null,
   "id": "6e7808b1-afe5-4e1e-b857-810ac480eeaf",
   "metadata": {},
   "outputs": [],
   "source": []
  },
  {
   "cell_type": "code",
   "execution_count": null,
   "id": "10bf661d-5993-4d1e-8087-c4856a6187b9",
   "metadata": {},
   "outputs": [],
   "source": [
    "rtv['bank_loan_interest'].mean()"
   ]
  },
  {
   "cell_type": "code",
   "execution_count": null,
   "id": "f58004a3-13dc-4534-a506-9937944d5628",
   "metadata": {},
   "outputs": [],
   "source": []
  },
  {
   "cell_type": "code",
   "execution_count": null,
   "id": "968fd200-7af8-4ad5-95cf-66d4a0b03218",
   "metadata": {},
   "outputs": [],
   "source": [
    "peer['sacco_loan_interest'].mean()"
   ]
  },
  {
   "cell_type": "code",
   "execution_count": null,
   "id": "866cf167-58a8-40fe-9969-01422167e6dd",
   "metadata": {},
   "outputs": [],
   "source": [
    "rtv['sacco_loan_interest'].mean()"
   ]
  },
  {
   "cell_type": "code",
   "execution_count": null,
   "id": "135d4ed3-03b9-4da4-ac93-68f14900797c",
   "metadata": {},
   "outputs": [],
   "source": []
  },
  {
   "cell_type": "code",
   "execution_count": null,
   "id": "a95d3a97-8df2-4d7c-9185-e9f413787cd7",
   "metadata": {},
   "outputs": [],
   "source": [
    "rtv['rtv_vsla_loan_interest'].mean()"
   ]
  },
  {
   "cell_type": "code",
   "execution_count": null,
   "id": "e2a86d67-0360-43ce-9299-06be0cfc32e0",
   "metadata": {},
   "outputs": [],
   "source": []
  },
  {
   "cell_type": "code",
   "execution_count": null,
   "id": "da370a0a-e52c-4c4f-95dd-5d2842e50f21",
   "metadata": {},
   "outputs": [],
   "source": []
  }
 ],
 "metadata": {
  "kernelspec": {
   "display_name": "Python 3 (ipykernel)",
   "language": "python",
   "name": "python3"
  },
  "language_info": {
   "codemirror_mode": {
    "name": "ipython",
    "version": 3
   },
   "file_extension": ".py",
   "mimetype": "text/x-python",
   "name": "python",
   "nbconvert_exporter": "python",
   "pygments_lexer": "ipython3",
   "version": "3.10.12"
  }
 },
 "nbformat": 4,
 "nbformat_minor": 5
}
