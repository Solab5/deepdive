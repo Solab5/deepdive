{
 "cells": [
  {
   "cell_type": "code",
   "execution_count": null,
   "id": "212be6e2-acf3-4835-b144-5468914a49fb",
   "metadata": {},
   "outputs": [],
   "source": [
    "from fastai.imports import *"
   ]
  },
  {
   "cell_type": "code",
   "execution_count": null,
   "id": "dbabaa4b-26e1-4c58-aad1-188318d14b50",
   "metadata": {},
   "outputs": [],
   "source": [
    "from scipy.stats import f_oneway, ttest_ind"
   ]
  },
  {
   "cell_type": "code",
   "execution_count": null,
   "id": "8e9b3263-3810-4d4e-83c1-a13800fb1c3e",
   "metadata": {},
   "outputs": [],
   "source": [
    "peer = pd.read_excel('All2021Cohorts_merged_outlier managed_copy_2.xlsx', sheet_name='All2021ControlBaseline',header=5)\n",
    "rtv = pd.read_excel('All2021Cohorts_merged_outlier managed_copy_2.xlsx', sheet_name='All2021CohortBaseline',header=5)"
   ]
  },
  {
   "cell_type": "code",
   "execution_count": null,
   "id": "e8aa4561-bd34-4e41-b791-084e1252c634",
   "metadata": {},
   "outputs": [],
   "source": [
    "peer['Status'] = 'PEER'\n",
    "rtv['Status'] = 'RTV'"
   ]
  },
  {
   "cell_type": "code",
   "execution_count": null,
   "id": "2305fe81-6351-42f8-b406-18fa5c4ecbc1",
   "metadata": {},
   "outputs": [],
   "source": [
    "peer.shape, rtv.shape"
   ]
  },
  {
   "cell_type": "code",
   "execution_count": null,
   "id": "6e1cb3fe-8873-43dc-b8d0-975a203a8f26",
   "metadata": {},
   "outputs": [],
   "source": [
    "adjusted_cpi = 90.42"
   ]
  },
  {
   "cell_type": "markdown",
   "id": "39ecdfb9-75c1-44c2-a4dc-2e8e365d2b00",
   "metadata": {},
   "source": [
    "## Access To Health - Graduated cohorts"
   ]
  },
  {
   "cell_type": "code",
   "execution_count": null,
   "id": "c47803ea-169e-47f5-84ea-a708807c5735",
   "metadata": {},
   "outputs": [],
   "source": [
    "rtv[['Number_of_Household_Illnesses_in_last_30_days_',\n",
    "     'Number_of_Waterborne_Illness_in_the_last_30_days', \n",
    "     'Distance_travelled_Outpatient_Treatment',\n",
    "     'Time_travel_round_trip_Outpatient_Treatment_minutes']].mean()"
   ]
  },
  {
   "cell_type": "code",
   "execution_count": null,
   "id": "330b6803-54e6-454c-a76d-1652cdb3a364",
   "metadata": {},
   "outputs": [],
   "source": [
    "peer[['Number_of_Household_Illnesses_in_last_30_days', \n",
    "     'Distance_travelled_one_way_OPD_treatment',\n",
    "     'Time_travel_one_way_trip_OPD_treatment_minutes']].mean()"
   ]
  },
  {
   "cell_type": "code",
   "execution_count": null,
   "id": "40f91e5d-4181-444d-aeeb-22b94227e280",
   "metadata": {},
   "outputs": [],
   "source": [
    "peer['HH_treatment_expense']"
   ]
  },
  {
   "cell_type": "code",
   "execution_count": null,
   "id": "b3acbf54-922d-4509-8ac4-a3e9341418e0",
   "metadata": {},
   "outputs": [],
   "source": []
  },
  {
   "cell_type": "markdown",
   "id": "4919f211-7ae0-4442-90a1-f731dfdfbb65",
   "metadata": {},
   "source": [
    "### Family Planning"
   ]
  },
  {
   "cell_type": "raw",
   "id": "ac5e9e2c-40c6-4434-86a1-d7632f401055",
   "metadata": {},
   "source": [
    "1\tYes\n",
    "2\tNo\n",
    "-98\tDonât Know\n",
    "-99\tNot Applicable"
   ]
  },
  {
   "cell_type": "code",
   "execution_count": null,
   "id": "5f03ac8e-1b1d-4426-a988-5565de3b44ea",
   "metadata": {},
   "outputs": [],
   "source": [
    "(df.groupby('Status')['family_planning'].value_counts(normalize=True) * 100).unstack()"
   ]
  },
  {
   "cell_type": "raw",
   "id": "d7809ca2-8bd2-4cc2-9e41-7af9526baaac",
   "metadata": {},
   "source": [
    "1\tCondom use\n",
    "2\tInjectables\n",
    "3\tOral contraceptives\n",
    "4\tImplants\n",
    "5\tIUDs\n",
    "6\tVasectomy/Tubal Ligation\n",
    "7\tNatural (Withdraw,Breastfeeding,etc)"
   ]
  },
  {
   "cell_type": "code",
   "execution_count": null,
   "id": "27985f5d-862e-4c54-a9cb-6fc408e1e89e",
   "metadata": {},
   "outputs": [],
   "source": [
    "(df.groupby('Status')['fp_method_modern'].value_counts(normalize=True) * 100).unstack()"
   ]
  },
  {
   "cell_type": "code",
   "execution_count": null,
   "id": "4c7e5ec3-c5c5-455a-8fc3-7350723a402b",
   "metadata": {},
   "outputs": [],
   "source": []
  },
  {
   "cell_type": "markdown",
   "id": "c6700a31-aabb-401e-8737-c5afd6006c30",
   "metadata": {},
   "source": [
    "## Compliance"
   ]
  },
  {
   "cell_type": "code",
   "execution_count": null,
   "id": "a390fc5a-6ba7-4f85-a8e5-69c6b070ef81",
   "metadata": {},
   "outputs": [],
   "source": [
    "(rtv[['latrine_present',\n",
    "    'latrine_cover_present',\n",
    "    'latrine_floor_sealed',\n",
    "    'latrine_door_present',\n",
    "    'tippy_tap_present',\n",
    "    'tippy_fill_water',\n",
    "    'soap_ash_present',\n",
    "    'hangline_present',\n",
    "    'kitchen_present', \n",
    "    'kitchen_ventilated', \n",
    "    'bathroom_present',\n",
    "    'compound_clean', \n",
    "    'diskrack_present']].apply(pd.Series.value_counts, normalize=True) * 100).transpose()"
   ]
  },
  {
   "cell_type": "code",
   "execution_count": null,
   "id": "8f4a3488-2d4f-4421-b2a4-e5513b98bd42",
   "metadata": {},
   "outputs": [],
   "source": [
    "(peer[['latrine_present',\n",
    "    'latrine_cover_present',\n",
    "    'latrine_floor_sealed',\n",
    "    'latrine_door_present',\n",
    "    'tippy_tap_present',\n",
    "    'tippy_fill_water',\n",
    "    'soap_ash_present',\n",
    "    'hangline_present',\n",
    "    'kitchen_present', \n",
    "    'kitchen_ventilated', \n",
    "    'bathroom_present',\n",
    "    'compound_clean', \n",
    "    'diskrack_present']].apply(pd.Series.value_counts, normalize=True) * 100).transpose()"
   ]
  },
  {
   "cell_type": "markdown",
   "id": "a78d494e-98f9-4b75-ae2d-e8ab6b6f8d1c",
   "metadata": {},
   "source": [
    "Household waterborne_illness_last 30 days"
   ]
  },
  {
   "cell_type": "code",
   "execution_count": null,
   "id": "013bd66d-84d1-4b59-ada4-4e129dfc97b4",
   "metadata": {},
   "outputs": [],
   "source": [
    "df['waterborne_illness_last_30_days'].value_counts()"
   ]
  },
  {
   "cell_type": "code",
   "execution_count": null,
   "id": "93980c4f-8816-4232-9570-4c475644a65d",
   "metadata": {},
   "outputs": [],
   "source": [
    "bins = [-1, 0, 1, float('inf')]\n",
    "labels = ['0', '1', '2 or more']"
   ]
  },
  {
   "cell_type": "code",
   "execution_count": null,
   "id": "237b2a3d-5d73-4d29-838c-f5c40dfd9e61",
   "metadata": {},
   "outputs": [],
   "source": [
    " pd.DataFrame({\n",
    "    'waterborne_illness_last_30_days': pd.cut(rtv['waterborne_illness_last_30_days'], bins=bins, labels=labels).value_counts(normalize=True) * 100,\n",
    "    'waterborne_illness_hh_member_num_u5': pd.cut(rtv['waterborne_illness_hh_member_num_u5'], bins=bins, labels=labels).value_counts(normalize=True) * 100,\n",
    "    'non_waterborne_30_days': pd.cut(rtv['non_waterborne_30_days'], bins=bins, labels=labels).value_counts(normalize=True) * 100\n",
    "})"
   ]
  },
  {
   "cell_type": "code",
   "execution_count": null,
   "id": "9ab7fb79-8936-42ed-9278-bb6c001a6f9d",
   "metadata": {},
   "outputs": [],
   "source": [
    " pd.DataFrame({\n",
    "    'waterborne_illness_last_30_days': pd.cut(peer['waterborne_illness_last_30_days'], bins=bins, labels=labels).value_counts(normalize=True) * 100,\n",
    "    'waterborne_illness_hh_member_num_u5': pd.cut(peer['waterborne_illness_hh_member_num_u5'], bins=bins, labels=labels).value_counts(normalize=True) * 100,\n",
    "    'non_waterborne_30_days': pd.cut(peer['non_waterborne_30_days'], bins=bins, labels=labels).value_counts(normalize=True) * 100\n",
    "})"
   ]
  },
  {
   "cell_type": "code",
   "execution_count": null,
   "id": "79a51b3b-2e03-41f8-ada7-8352218b3953",
   "metadata": {},
   "outputs": [],
   "source": []
  },
  {
   "cell_type": "markdown",
   "id": "63fe8638-26aa-45da-a074-dc0cbec9b661",
   "metadata": {},
   "source": [
    "Illnesses in the last 30 days -2021 Cohort at Graduation by Quartile"
   ]
  },
  {
   "cell_type": "code",
   "execution_count": null,
   "id": "a70a40a3-95d5-4f69-90ec-3f024e33ee7e",
   "metadata": {},
   "outputs": [],
   "source": [
    "rtv.groupby('Quartile')['waterborne_illness_last_30_days'].mean()"
   ]
  },
  {
   "cell_type": "code",
   "execution_count": null,
   "id": "165fb27b-2ea2-461f-a7c4-6a8d027b9765",
   "metadata": {},
   "outputs": [],
   "source": [
    "peer.groupby('Quartile')['waterborne_illness_last_30_days'].mean()"
   ]
  },
  {
   "cell_type": "code",
   "execution_count": null,
   "id": "e4e02a00-6453-4a05-b813-f6ccb1a398f9",
   "metadata": {},
   "outputs": [],
   "source": []
  },
  {
   "cell_type": "code",
   "execution_count": null,
   "id": "ebfd95bc-951d-48f4-9984-58654d021f10",
   "metadata": {},
   "outputs": [],
   "source": []
  },
  {
   "cell_type": "code",
   "execution_count": null,
   "id": "9ef825b9-e309-476a-b395-ef7103bef097",
   "metadata": {},
   "outputs": [],
   "source": []
  },
  {
   "cell_type": "code",
   "execution_count": null,
   "id": "63567531-0897-4564-ac09-5da40769c091",
   "metadata": {},
   "outputs": [],
   "source": [
    "# bins = {\n",
    "#     'waterborne_illness_last_30_days': [-1, 0, 1, float('inf')],\n",
    "#     'waterborne_illness_hh_member_num_u5': [-1, 0, 1, float('inf')],\n",
    "#     'non_waterborne_30_days': [-1, 0, 1, float('inf')]\n",
    "# }\n",
    "\n",
    "# labels = {\n",
    "#     'waterborne_illness_last_30_days': ['0', '1', '2 or more'],\n",
    "#     'waterborne_illness_hh_member_num_u5': ['0', '1', '2 or more'],\n",
    "#     'non_waterborne_30_days': ['0', '1', '2 or more']\n",
    "# }\n",
    "\n",
    "# columns = ['waterborne_illness_last_30_days','waterborne_illness_hh_member_num_u5', 'non_waterborne_30_days']"
   ]
  },
  {
   "cell_type": "code",
   "execution_count": null,
   "id": "f3581fb1-c6d9-4bf4-b2db-be1cb025f16a",
   "metadata": {},
   "outputs": [],
   "source": []
  }
 ],
 "metadata": {
  "kernelspec": {
   "display_name": "Python 3 (ipykernel)",
   "language": "python",
   "name": "python3"
  },
  "language_info": {
   "codemirror_mode": {
    "name": "ipython",
    "version": 3
   },
   "file_extension": ".py",
   "mimetype": "text/x-python",
   "name": "python",
   "nbconvert_exporter": "python",
   "pygments_lexer": "ipython3",
   "version": "3.10.12"
  }
 },
 "nbformat": 4,
 "nbformat_minor": 5
}
