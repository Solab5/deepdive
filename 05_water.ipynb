{
 "cells": [
  {
   "cell_type": "code",
   "execution_count": 1,
   "id": "212be6e2-acf3-4835-b144-5468914a49fb",
   "metadata": {},
   "outputs": [],
   "source": [
    "from fastai.imports import *"
   ]
  },
  {
   "cell_type": "code",
   "execution_count": 2,
   "id": "dbabaa4b-26e1-4c58-aad1-188318d14b50",
   "metadata": {},
   "outputs": [],
   "source": [
    "from scipy.stats import f_oneway, ttest_ind"
   ]
  },
  {
   "cell_type": "code",
   "execution_count": 3,
   "id": "8e9b3263-3810-4d4e-83c1-a13800fb1c3e",
   "metadata": {},
   "outputs": [],
   "source": [
    "df = pd.read_excel('All2021Cohorts_merged_outlier managed_copy_2.xlsx', sheet_name='MergedRTV_Control2021',header=5)"
   ]
  },
  {
   "cell_type": "code",
   "execution_count": 5,
   "id": "e8aa4561-bd34-4e41-b791-084e1252c634",
   "metadata": {},
   "outputs": [],
   "source": [
    "peer = df[df['Status']=='PEER']\n",
    "rtv = df[df['Status']=='RTV']"
   ]
  },
  {
   "cell_type": "code",
   "execution_count": 6,
   "id": "6e1cb3fe-8873-43dc-b8d0-975a203a8f26",
   "metadata": {},
   "outputs": [],
   "source": [
    "adjusted_cpi = 80.66"
   ]
  },
  {
   "cell_type": "code",
   "execution_count": 7,
   "id": "afdbde8e-960c-482a-854e-213b6b49b337",
   "metadata": {},
   "outputs": [
    {
     "data": {
      "text/plain": [
       "((1899, 5663), (3897, 5663))"
      ]
     },
     "execution_count": 7,
     "metadata": {},
     "output_type": "execute_result"
    }
   ],
   "source": [
    "peer.shape, rtv.shape"
   ]
  },
  {
   "cell_type": "markdown",
   "id": "39ecdfb9-75c1-44c2-a4dc-2e8e365d2b00",
   "metadata": {},
   "source": [
    "## Access To Health - Graduated cohorts"
   ]
  },
  {
   "cell_type": "code",
   "execution_count": 8,
   "id": "cdaa01cb-9f56-4666-9ddb-feac506ac028",
   "metadata": {},
   "outputs": [
    {
     "data": {
      "text/html": [
       "<div>\n",
       "<style scoped>\n",
       "    .dataframe tbody tr th:only-of-type {\n",
       "        vertical-align: middle;\n",
       "    }\n",
       "\n",
       "    .dataframe tbody tr th {\n",
       "        vertical-align: top;\n",
       "    }\n",
       "\n",
       "    .dataframe thead th {\n",
       "        text-align: right;\n",
       "    }\n",
       "</style>\n",
       "<table border=\"1\" class=\"dataframe\">\n",
       "  <thead>\n",
       "    <tr style=\"text-align: right;\">\n",
       "      <th>Status</th>\n",
       "      <th>PEER</th>\n",
       "      <th>RTV</th>\n",
       "    </tr>\n",
       "  </thead>\n",
       "  <tbody>\n",
       "    <tr>\n",
       "      <th>non_waterborne_30_days</th>\n",
       "      <td>0.559242</td>\n",
       "      <td>0.464203</td>\n",
       "    </tr>\n",
       "    <tr>\n",
       "      <th>waterborne_illness_last_30_days</th>\n",
       "      <td>0.293312</td>\n",
       "      <td>0.177829</td>\n",
       "    </tr>\n",
       "    <tr>\n",
       "      <th>Distance_travelled_one_way_OPD_treatment</th>\n",
       "      <td>3.934134</td>\n",
       "      <td>3.823393</td>\n",
       "    </tr>\n",
       "    <tr>\n",
       "      <th>Time_travel_one_way_trip_OPD_treatment_minutes</th>\n",
       "      <td>59.190627</td>\n",
       "      <td>54.112907</td>\n",
       "    </tr>\n",
       "    <tr>\n",
       "      <th>HH_treatment_expense</th>\n",
       "      <td>73904.769053</td>\n",
       "      <td>58771.385656</td>\n",
       "    </tr>\n",
       "    <tr>\n",
       "      <th>waterborne_illness_hh_member_num</th>\n",
       "      <td>1.732620</td>\n",
       "      <td>1.634454</td>\n",
       "    </tr>\n",
       "    <tr>\n",
       "      <th>waterborne_illness_hh_member_num_u5</th>\n",
       "      <td>0.291942</td>\n",
       "      <td>0.178803</td>\n",
       "    </tr>\n",
       "    <tr>\n",
       "      <th>waterborne_illness_hh_member_instances</th>\n",
       "      <td>1.578652</td>\n",
       "      <td>1.248804</td>\n",
       "    </tr>\n",
       "  </tbody>\n",
       "</table>\n",
       "</div>"
      ],
      "text/plain": [
       "Status                                                  PEER           RTV\n",
       "non_waterborne_30_days                              0.559242      0.464203\n",
       "waterborne_illness_last_30_days                     0.293312      0.177829\n",
       "Distance_travelled_one_way_OPD_treatment            3.934134      3.823393\n",
       "Time_travel_one_way_trip_OPD_treatment_minutes     59.190627     54.112907\n",
       "HH_treatment_expense                            73904.769053  58771.385656\n",
       "waterborne_illness_hh_member_num                    1.732620      1.634454\n",
       "waterborne_illness_hh_member_num_u5                 0.291942      0.178803\n",
       "waterborne_illness_hh_member_instances              1.578652      1.248804"
      ]
     },
     "execution_count": 8,
     "metadata": {},
     "output_type": "execute_result"
    }
   ],
   "source": [
    "(df.groupby('Status')[['non_waterborne_30_days',\n",
    "                      'waterborne_illness_last_30_days',\n",
    "                      'Distance_travelled_one_way_OPD_treatment', \n",
    "                      'Time_travel_one_way_trip_OPD_treatment_minutes',\n",
    "                      'HH_treatment_expense',\n",
    "                      'waterborne_illness_hh_member_num',\n",
    "                      'waterborne_illness_hh_member_num_u5',\n",
    "                      'waterborne_illness_hh_member_instances']]).mean().transpose()"
   ]
  },
  {
   "cell_type": "code",
   "execution_count": 12,
   "id": "24cec262-fa7b-4610-84c6-5f8dd4b3a892",
   "metadata": {},
   "outputs": [
    {
     "data": {
      "text/plain": [
       "1.186602870813397"
      ]
     },
     "execution_count": 12,
     "metadata": {},
     "output_type": "execute_result"
    }
   ],
   "source": [
    "rtv[rtv['waterborne_illness_hh_member_num_u5'] != 0]['waterborne_illness_hh_member_num_u5'].mean()"
   ]
  },
  {
   "cell_type": "code",
   "execution_count": 14,
   "id": "1a99ad94-8b92-47fc-8a7d-9257daf269bc",
   "metadata": {},
   "outputs": [
    {
     "data": {
      "text/plain": [
       "waterborne_illness_hh_member_num_u5\n",
       "1.0    173\n",
       "2.0     33\n",
       "3.0      3\n",
       "Name: count, dtype: int64"
      ]
     },
     "execution_count": 14,
     "metadata": {},
     "output_type": "execute_result"
    }
   ],
   "source": [
    "rtv[rtv['waterborne_illness_hh_member_num_u5'] != 0]['waterborne_illness_hh_member_num_u5'].value_counts()"
   ]
  },
  {
   "cell_type": "code",
   "execution_count": 13,
   "id": "61704afd-729b-41c7-bf95-c5972f91124e",
   "metadata": {},
   "outputs": [
    {
     "data": {
      "text/plain": [
       "1.2415730337078652"
      ]
     },
     "execution_count": 13,
     "metadata": {},
     "output_type": "execute_result"
    }
   ],
   "source": [
    "peer[peer['waterborne_illness_hh_member_num_u5'] != 0]['waterborne_illness_hh_member_num_u5'].mean()"
   ]
  },
  {
   "cell_type": "code",
   "execution_count": 15,
   "id": "207e88af-4826-4b4d-89bb-8a62869f933c",
   "metadata": {},
   "outputs": [
    {
     "data": {
      "text/plain": [
       "waterborne_illness_hh_member_num_u5\n",
       "1.0    136\n",
       "2.0     41\n",
       "3.0      1\n",
       "Name: count, dtype: int64"
      ]
     },
     "execution_count": 15,
     "metadata": {},
     "output_type": "execute_result"
    }
   ],
   "source": [
    "peer[peer['waterborne_illness_hh_member_num_u5'] != 0]['waterborne_illness_hh_member_num_u5'].value_counts()"
   ]
  },
  {
   "cell_type": "code",
   "execution_count": null,
   "id": "b8e3bde5-f56a-48c0-91fa-82a85a965ead",
   "metadata": {},
   "outputs": [],
   "source": []
  },
  {
   "cell_type": "code",
   "execution_count": 10,
   "id": "00d7da34-9e45-4cd6-af3a-ed47d7185dcd",
   "metadata": {},
   "outputs": [
    {
     "data": {
      "text/html": [
       "<div>\n",
       "<style scoped>\n",
       "    .dataframe tbody tr th:only-of-type {\n",
       "        vertical-align: middle;\n",
       "    }\n",
       "\n",
       "    .dataframe tbody tr th {\n",
       "        vertical-align: top;\n",
       "    }\n",
       "\n",
       "    .dataframe thead th {\n",
       "        text-align: right;\n",
       "    }\n",
       "</style>\n",
       "<table border=\"1\" class=\"dataframe\">\n",
       "  <thead>\n",
       "    <tr style=\"text-align: right;\">\n",
       "      <th></th>\n",
       "      <th>HH_treatment_expense</th>\n",
       "    </tr>\n",
       "    <tr>\n",
       "      <th>Status</th>\n",
       "      <th></th>\n",
       "    </tr>\n",
       "  </thead>\n",
       "  <tbody>\n",
       "    <tr>\n",
       "      <th>PEER</th>\n",
       "      <td>59611.586718</td>\n",
       "    </tr>\n",
       "    <tr>\n",
       "      <th>RTV</th>\n",
       "      <td>47404.999670</td>\n",
       "    </tr>\n",
       "  </tbody>\n",
       "</table>\n",
       "</div>"
      ],
      "text/plain": [
       "        HH_treatment_expense\n",
       "Status                      \n",
       "PEER            59611.586718\n",
       "RTV             47404.999670"
      ]
     },
     "execution_count": 10,
     "metadata": {},
     "output_type": "execute_result"
    }
   ],
   "source": [
    "(df.groupby('Status')[[\n",
    "                      'HH_treatment_expense',\n",
    "                      ]]).mean() * adjusted_cpi /100"
   ]
  },
  {
   "cell_type": "code",
   "execution_count": 13,
   "id": "8846d02c-da5a-4232-bc17-8b6577ee67bb",
   "metadata": {},
   "outputs": [
    {
     "data": {
      "text/plain": [
       "waterborne_illness_hh_member_num_u5\n",
       "0    0.906266\n",
       "1    0.093734\n",
       "Name: proportion, dtype: float64"
      ]
     },
     "execution_count": 13,
     "metadata": {},
     "output_type": "execute_result"
    }
   ],
   "source": [
    "peer['waterborne_illness_hh_member_num_u5'].apply(lambda x: 1 if x > 0 else 0).value_counts(normalize=True)"
   ]
  },
  {
   "cell_type": "code",
   "execution_count": 14,
   "id": "499a131b-6671-4efd-82ca-697e5db4f104",
   "metadata": {},
   "outputs": [
    {
     "data": {
      "text/plain": [
       "waterborne_illness_hh_member_num_u5\n",
       "0    0.946369\n",
       "1    0.053631\n",
       "Name: proportion, dtype: float64"
      ]
     },
     "execution_count": 14,
     "metadata": {},
     "output_type": "execute_result"
    }
   ],
   "source": [
    "rtv['waterborne_illness_hh_member_num_u5'].apply(lambda x: 1 if x > 0 else 0).value_counts(normalize=True)"
   ]
  },
  {
   "cell_type": "code",
   "execution_count": null,
   "id": "e9403f17-ffc6-4582-b0ce-e4cd07d8f28b",
   "metadata": {},
   "outputs": [],
   "source": []
  },
  {
   "cell_type": "markdown",
   "id": "4919f211-7ae0-4442-90a1-f731dfdfbb65",
   "metadata": {},
   "source": [
    "### Family Planning"
   ]
  },
  {
   "cell_type": "raw",
   "id": "ac5e9e2c-40c6-4434-86a1-d7632f401055",
   "metadata": {},
   "source": [
    "1\tYes\n",
    "2\tNo\n",
    "-98\tDonât Know\n",
    "-99\tNot Applicable"
   ]
  },
  {
   "cell_type": "code",
   "execution_count": null,
   "id": "5f03ac8e-1b1d-4426-a988-5565de3b44ea",
   "metadata": {},
   "outputs": [],
   "source": [
    "(df.groupby('Status')['family_planning'].value_counts(normalize=True) * 100).unstack()"
   ]
  },
  {
   "cell_type": "raw",
   "id": "d7809ca2-8bd2-4cc2-9e41-7af9526baaac",
   "metadata": {},
   "source": [
    "1\tCondom use\n",
    "2\tInjectables\n",
    "3\tOral contraceptives\n",
    "4\tImplants\n",
    "5\tIUDs\n",
    "6\tVasectomy/Tubal Ligation\n",
    "7\tNatural (Withdraw,Breastfeeding,etc)"
   ]
  },
  {
   "cell_type": "code",
   "execution_count": null,
   "id": "27985f5d-862e-4c54-a9cb-6fc408e1e89e",
   "metadata": {},
   "outputs": [],
   "source": [
    "(df.groupby('Status')['fp_method_modern'].value_counts(normalize=True) * 100).unstack()"
   ]
  },
  {
   "cell_type": "code",
   "execution_count": null,
   "id": "4c7e5ec3-c5c5-455a-8fc3-7350723a402b",
   "metadata": {},
   "outputs": [],
   "source": []
  },
  {
   "cell_type": "markdown",
   "id": "c6700a31-aabb-401e-8737-c5afd6006c30",
   "metadata": {},
   "source": [
    "## Compliance"
   ]
  },
  {
   "cell_type": "code",
   "execution_count": null,
   "id": "a390fc5a-6ba7-4f85-a8e5-69c6b070ef81",
   "metadata": {},
   "outputs": [],
   "source": [
    "(rtv[['latrine_present',\n",
    "    'latrine_cover_present',\n",
    "    'latrine_floor_sealed',\n",
    "    'latrine_door_present',\n",
    "    'tippy_tap_present',\n",
    "    'tippy_fill_water',\n",
    "    'soap_ash_present',\n",
    "    'hangline_present',\n",
    "    'kitchen_present', \n",
    "    'kitchen_ventilated', \n",
    "    'bathroom_present',\n",
    "    'compound_clean', \n",
    "    'diskrack_present']].apply(pd.Series.value_counts, normalize=True) * 100).transpose()[1]"
   ]
  },
  {
   "cell_type": "code",
   "execution_count": null,
   "id": "39ed9ea1-b5f8-45a7-8471-36a73ccf8c29",
   "metadata": {},
   "outputs": [],
   "source": [
    "((rtv[['latrine_present',\n",
    "    'latrine_cover_present',\n",
    "    'latrine_floor_sealed',\n",
    "    'latrine_door_present',\n",
    "    'tippy_tap_present',\n",
    "    'tippy_fill_water',\n",
    "    'soap_ash_present',\n",
    "    'hangline_present',\n",
    "    'kitchen_present', \n",
    "    'kitchen_ventilated', \n",
    "    'bathroom_present',\n",
    "    'compound_clean', \n",
    "    'diskrack_present']].apply(pd.Series.value_counts, normalize=True) * 100).transpose()[1].values).mean()"
   ]
  },
  {
   "cell_type": "code",
   "execution_count": null,
   "id": "9ec62156-2c9a-4b17-8928-4140ce5a0f14",
   "metadata": {},
   "outputs": [],
   "source": [
    "rtv['WASH (%)'].tail()"
   ]
  },
  {
   "cell_type": "code",
   "execution_count": null,
   "id": "42e97200-b6ec-4cd0-8a27-108160efbde8",
   "metadata": {},
   "outputs": [],
   "source": [
    "rtv['WASH (%)'].mean()*100, peer['WASH (%)'].mean()*100"
   ]
  },
  {
   "cell_type": "code",
   "execution_count": null,
   "id": "8f4a3488-2d4f-4421-b2a4-e5513b98bd42",
   "metadata": {},
   "outputs": [],
   "source": [
    "(peer[['latrine_present',\n",
    "    'latrine_cover_present',\n",
    "    'latrine_floor_sealed',\n",
    "    'latrine_door_present',\n",
    "    'tippy_tap_present',\n",
    "    'tippy_fill_water',\n",
    "    'soap_ash_present',\n",
    "    'hangline_present',\n",
    "    'kitchen_present', \n",
    "    'kitchen_ventilated', \n",
    "    'bathroom_present',\n",
    "    'compound_clean', \n",
    "    'diskrack_present']].apply(pd.Series.value_counts, normalize=True) * 100).transpose()"
   ]
  },
  {
   "cell_type": "markdown",
   "id": "a78d494e-98f9-4b75-ae2d-e8ab6b6f8d1c",
   "metadata": {},
   "source": [
    "Household waterborne_illness_last 30 days"
   ]
  },
  {
   "cell_type": "code",
   "execution_count": null,
   "id": "543700b3-d76f-461a-8ff0-a56a0458da82",
   "metadata": {},
   "outputs": [],
   "source": [
    "peer['status_waterborne_illness_last_30_days'] = peer['waterborne_illness_last_30_days'].apply(lambda x: 0 if x == 0 else 1)\n",
    "rtv['status_waterborne_illness_last_30_days'] = rtv['waterborne_illness_last_30_days'].apply(lambda x: 0 if x == 0 else 1)"
   ]
  },
  {
   "cell_type": "code",
   "execution_count": null,
   "id": "dd128cf4-c60b-4ca3-89ad-65fe7b386902",
   "metadata": {},
   "outputs": [],
   "source": [
    "df.groupby(['Status','latrine_present'])['status_waterborne_illness_last_30_days'].mean()"
   ]
  },
  {
   "cell_type": "code",
   "execution_count": null,
   "id": "5eff7db6-3050-4852-8262-5cd1fbe70c86",
   "metadata": {},
   "outputs": [],
   "source": [
    "peer[peer['latrine_constructed'] == 1]['status_waterborne_illness_last_30_days'].mean()"
   ]
  },
  {
   "cell_type": "code",
   "execution_count": null,
   "id": "f92a9f82-43f7-42a4-b48a-263c9264cfd3",
   "metadata": {},
   "outputs": [],
   "source": [
    "from pingouin import ttest"
   ]
  },
  {
   "cell_type": "code",
   "execution_count": null,
   "id": "e4246e63-da21-4818-af87-d612efe442ec",
   "metadata": {},
   "outputs": [],
   "source": [
    "ttest(peer[peer['latrine_constructed'] == 1]['status_waterborne_illness_last_30_days'], \n",
    "      peer[peer['latrine_constructed'] == 0]['status_waterborne_illness_last_30_days'], correction = False)"
   ]
  },
  {
   "cell_type": "code",
   "execution_count": null,
   "id": "2dda89b0-12f2-4dfe-b116-f9dfdd0aecd2",
   "metadata": {},
   "outputs": [],
   "source": [
    "ttest(rtv[rtv['latrine_constructed'] == 1]['status_waterborne_illness_last_30_days'], \n",
    "      rtv[rtv['latrine_constructed'] == 0]['status_waterborne_illness_last_30_days'], correction = False)"
   ]
  },
  {
   "cell_type": "code",
   "execution_count": null,
   "id": "56ee9e59-5eaf-4639-9e9e-be18c957a3b9",
   "metadata": {},
   "outputs": [],
   "source": []
  },
  {
   "cell_type": "code",
   "execution_count": null,
   "id": "5015f225-3d7b-4846-a7e9-ba50198507b8",
   "metadata": {},
   "outputs": [],
   "source": [
    "df.groupby(['Status','latrine_cover_present'])['status_waterborne_illness_last_30_days'].mean()"
   ]
  },
  {
   "cell_type": "code",
   "execution_count": null,
   "id": "f46553b8-a0ab-4bf5-9a1d-421d1a248ed2",
   "metadata": {},
   "outputs": [],
   "source": [
    "ttest(peer[peer['latrine_cover_present'] == 1]['status_waterborne_illness_last_30_days'], \n",
    "      peer[peer['latrine_cover_present'] == 0]['status_waterborne_illness_last_30_days'], correction = False)"
   ]
  },
  {
   "cell_type": "code",
   "execution_count": null,
   "id": "96cfbc3a-c98a-4ed9-a70c-ea403dc7bc66",
   "metadata": {},
   "outputs": [],
   "source": [
    "ttest(rtv[rtv['latrine_cover_present'] == 1]['status_waterborne_illness_last_30_days'], \n",
    "      rtv[rtv['latrine_cover_present'] == 0]['status_waterborne_illness_last_30_days'], correction = False)"
   ]
  },
  {
   "cell_type": "code",
   "execution_count": null,
   "id": "6e808473-11da-4225-9488-6de464c5cc74",
   "metadata": {},
   "outputs": [],
   "source": []
  },
  {
   "cell_type": "code",
   "execution_count": null,
   "id": "2d7a61ec-f286-4174-94af-b88dd2d971e3",
   "metadata": {},
   "outputs": [],
   "source": []
  },
  {
   "cell_type": "code",
   "execution_count": null,
   "id": "a0b6c275-df27-462c-a553-57a97aee3ae7",
   "metadata": {},
   "outputs": [],
   "source": [
    "df.groupby(['Status','latrine_door_present'])['status_waterborne_illness_last_30_days'].mean()"
   ]
  },
  {
   "cell_type": "code",
   "execution_count": null,
   "id": "3eb9c25f-69a1-4b8b-9bca-c1a1544ce37f",
   "metadata": {},
   "outputs": [],
   "source": [
    "ttest(peer[peer['latrine_door_present'] == 1]['status_waterborne_illness_last_30_days'], \n",
    "      peer[peer['latrine_door_present'] == 0]['status_waterborne_illness_last_30_days'], correction = False)"
   ]
  },
  {
   "cell_type": "code",
   "execution_count": null,
   "id": "b4ba6420-283a-42fd-90c9-2792c39bbbdd",
   "metadata": {},
   "outputs": [],
   "source": [
    "ttest(rtv[rtv['latrine_door_present'] == 1]['status_waterborne_illness_last_30_days'], \n",
    "      rtv[rtv['latrine_door_present'] == 0]['status_waterborne_illness_last_30_days'], correction = False)"
   ]
  },
  {
   "cell_type": "code",
   "execution_count": null,
   "id": "46d61ade-286e-4a94-b397-d9a3ec953b47",
   "metadata": {},
   "outputs": [],
   "source": []
  },
  {
   "cell_type": "code",
   "execution_count": null,
   "id": "25dd9a73-82a1-4ea3-8b77-9f20a034f477",
   "metadata": {},
   "outputs": [],
   "source": []
  },
  {
   "cell_type": "code",
   "execution_count": null,
   "id": "1670c041-2b98-4161-9205-6810626cb03e",
   "metadata": {},
   "outputs": [],
   "source": [
    "df.groupby(['Status','tippy_tap_present'])['status_waterborne_illness_last_30_days'].mean()"
   ]
  },
  {
   "cell_type": "code",
   "execution_count": null,
   "id": "02b5157d-7346-4b6e-9a3e-e7fdf7a4677c",
   "metadata": {},
   "outputs": [],
   "source": [
    "ttest(peer[peer['tippy_tap_present'] == 1]['status_waterborne_illness_last_30_days'], \n",
    "      peer[peer['tippy_tap_present'] == 0]['status_waterborne_illness_last_30_days'], correction = False)"
   ]
  },
  {
   "cell_type": "code",
   "execution_count": null,
   "id": "4a12cb3c-7f6d-4741-8943-ddf89b392d99",
   "metadata": {},
   "outputs": [],
   "source": [
    "ttest(rtv[rtv['tippy_tap_present'] == 1]['status_waterborne_illness_last_30_days'], \n",
    "      rtv[rtv['tippy_tap_present'] == 0]['status_waterborne_illness_last_30_days'], correction = False)"
   ]
  },
  {
   "cell_type": "code",
   "execution_count": null,
   "id": "580c14af-addc-4c79-8883-c380215994a1",
   "metadata": {},
   "outputs": [],
   "source": []
  },
  {
   "cell_type": "code",
   "execution_count": null,
   "id": "cceaa235-5953-4c98-a937-452a69acdce0",
   "metadata": {},
   "outputs": [],
   "source": []
  },
  {
   "cell_type": "code",
   "execution_count": null,
   "id": "42bb8054-5679-4201-a696-124e6bb5ec71",
   "metadata": {},
   "outputs": [],
   "source": [
    "df.groupby(['Status','tippy_fill_water'])['status_waterborne_illness_last_30_days'].mean()"
   ]
  },
  {
   "cell_type": "code",
   "execution_count": null,
   "id": "a055ca2e-a715-48ab-9654-44137b0672a6",
   "metadata": {},
   "outputs": [],
   "source": [
    "ttest(peer[peer['tippy_fill_water'] == 1]['status_waterborne_illness_last_30_days'], \n",
    "      peer[peer['tippy_fill_water'] == 0]['status_waterborne_illness_last_30_days'], correction = False)"
   ]
  },
  {
   "cell_type": "code",
   "execution_count": null,
   "id": "e5c91780-69a1-455e-8db0-543d67485af0",
   "metadata": {},
   "outputs": [],
   "source": [
    "ttest(rtv[rtv['tippy_fill_water'] == 1]['status_waterborne_illness_last_30_days'], \n",
    "      rtv[rtv['tippy_fill_water'] == 0]['status_waterborne_illness_last_30_days'], correction = False)"
   ]
  },
  {
   "cell_type": "code",
   "execution_count": null,
   "id": "fd9b01b2-a852-4401-a4ae-cfb488252bbe",
   "metadata": {},
   "outputs": [],
   "source": []
  },
  {
   "cell_type": "code",
   "execution_count": null,
   "id": "e3d00ba7-dec9-440d-af8f-085533946f6c",
   "metadata": {},
   "outputs": [],
   "source": [
    "df.groupby(['Status','soap_ash_present'])['status_waterborne_illness_last_30_days'].mean()"
   ]
  },
  {
   "cell_type": "code",
   "execution_count": null,
   "id": "90c9c86d-f99b-4457-9689-4394b9f5e2c6",
   "metadata": {},
   "outputs": [],
   "source": [
    "ttest(peer[peer['soap_ash_present'] == 1]['status_waterborne_illness_last_30_days'], \n",
    "      peer[peer['soap_ash_present'] == 0]['status_waterborne_illness_last_30_days'], correction = False)"
   ]
  },
  {
   "cell_type": "code",
   "execution_count": null,
   "id": "60890a28-b93e-484b-ac5b-cfddf5d88745",
   "metadata": {},
   "outputs": [],
   "source": [
    "ttest(rtv[rtv['soap_ash_present'] == 1]['status_waterborne_illness_last_30_days'], \n",
    "      rtv[rtv['soap_ash_present'] == 0]['status_waterborne_illness_last_30_days'], correction = False)"
   ]
  },
  {
   "cell_type": "code",
   "execution_count": null,
   "id": "a6980b9d-3edc-4774-bcb8-9152798a70c9",
   "metadata": {},
   "outputs": [],
   "source": []
  },
  {
   "cell_type": "code",
   "execution_count": null,
   "id": "bd2448c2-4d8c-42c9-817d-caada250843f",
   "metadata": {},
   "outputs": [],
   "source": []
  },
  {
   "cell_type": "code",
   "execution_count": null,
   "id": "b39db21e-22fc-46d1-9f52-0ec7e08dec81",
   "metadata": {},
   "outputs": [],
   "source": [
    "df.groupby(['Status','hangline_present'])['status_waterborne_illness_last_30_days'].mean()"
   ]
  },
  {
   "cell_type": "code",
   "execution_count": null,
   "id": "50164340-d47b-4c4c-b61d-5f6880c66e31",
   "metadata": {},
   "outputs": [],
   "source": [
    "ttest(peer[peer['hangline_present'] == 1]['status_waterborne_illness_last_30_days'], \n",
    "      peer[peer['hangline_present'] == 0]['status_waterborne_illness_last_30_days'], correction = False)"
   ]
  },
  {
   "cell_type": "code",
   "execution_count": null,
   "id": "919ee239-3bdf-494d-a25e-b7e2e5715d01",
   "metadata": {},
   "outputs": [],
   "source": [
    "ttest(rtv[rtv['hangline_present'] == 1]['status_waterborne_illness_last_30_days'], \n",
    "      rtv[rtv['hangline_present'] == 0]['status_waterborne_illness_last_30_days'], correction = False)"
   ]
  },
  {
   "cell_type": "code",
   "execution_count": null,
   "id": "d2e4a3da-4f13-472a-b932-ac948ffd0e5a",
   "metadata": {},
   "outputs": [],
   "source": []
  },
  {
   "cell_type": "code",
   "execution_count": null,
   "id": "8339d8e7-aa7a-4b66-b93d-2beeb4df53fe",
   "metadata": {},
   "outputs": [],
   "source": []
  },
  {
   "cell_type": "code",
   "execution_count": null,
   "id": "81d22122-acee-45b7-bcd5-12be391d4a0b",
   "metadata": {},
   "outputs": [],
   "source": [
    "df.groupby(['Status','kitchen_present'])['status_waterborne_illness_last_30_days'].mean()"
   ]
  },
  {
   "cell_type": "code",
   "execution_count": null,
   "id": "bf227aca-d277-4d14-a079-1e5595063ad7",
   "metadata": {},
   "outputs": [],
   "source": [
    "ttest(peer[peer['kitchen_present'] == 1]['status_waterborne_illness_last_30_days'], \n",
    "      peer[peer['kitchen_present'] == 0]['status_waterborne_illness_last_30_days'], correction = False)"
   ]
  },
  {
   "cell_type": "code",
   "execution_count": null,
   "id": "c7b3ae12-b04b-4e19-bbee-6db86372ad7d",
   "metadata": {},
   "outputs": [],
   "source": [
    "ttest(rtv[rtv['kitchen_present'] == 1]['status_waterborne_illness_last_30_days'], \n",
    "      rtv[rtv['kitchen_present'] == 0]['status_waterborne_illness_last_30_days'], correction = False)"
   ]
  },
  {
   "cell_type": "code",
   "execution_count": null,
   "id": "e68155e9-c6f4-419f-99d8-ed2d9f9b2185",
   "metadata": {},
   "outputs": [],
   "source": []
  },
  {
   "cell_type": "code",
   "execution_count": null,
   "id": "af6261c4-b173-4a51-abd9-eb31fcad2566",
   "metadata": {},
   "outputs": [],
   "source": []
  },
  {
   "cell_type": "code",
   "execution_count": null,
   "id": "bb0ba5af-7b56-4378-9a91-2d4b98ed5cf2",
   "metadata": {},
   "outputs": [],
   "source": [
    "df.groupby(['Status','bathroom_present'])['status_waterborne_illness_last_30_days'].mean()"
   ]
  },
  {
   "cell_type": "code",
   "execution_count": null,
   "id": "01cf634f-6b41-44cd-b578-b5a8d30b15c4",
   "metadata": {},
   "outputs": [],
   "source": [
    "ttest(peer[peer['bathroom_present'] == 1]['status_waterborne_illness_last_30_days'], \n",
    "      peer[peer['bathroom_present'] == 0]['status_waterborne_illness_last_30_days'], correction = False)"
   ]
  },
  {
   "cell_type": "code",
   "execution_count": null,
   "id": "b9b9c64d-3fa3-4358-ac4c-51feaf25d49d",
   "metadata": {},
   "outputs": [],
   "source": [
    "ttest(rtv[rtv['bathroom_present'] == 1]['status_waterborne_illness_last_30_days'], \n",
    "      rtv[rtv['bathroom_present'] == 0]['status_waterborne_illness_last_30_days'], correction = False)"
   ]
  },
  {
   "cell_type": "code",
   "execution_count": null,
   "id": "8a368ce9-a5f5-4a52-89e1-ef43eee015cd",
   "metadata": {},
   "outputs": [],
   "source": []
  },
  {
   "cell_type": "code",
   "execution_count": null,
   "id": "2fda95db-f713-4660-b342-6debd86dda9d",
   "metadata": {},
   "outputs": [],
   "source": [
    "df.groupby(['Status','kitchen_present'])['status_waterborne_illness_last_30_days'].mean()"
   ]
  },
  {
   "cell_type": "code",
   "execution_count": null,
   "id": "411871b4-a655-45f4-b8ce-dcce6bdbeeec",
   "metadata": {},
   "outputs": [],
   "source": [
    "ttest(peer[peer['kitchen_present'] == 1]['status_waterborne_illness_last_30_days'], \n",
    "      peer[peer['kitchen_present'] == 0]['status_waterborne_illness_last_30_days'], correction = False)"
   ]
  },
  {
   "cell_type": "code",
   "execution_count": null,
   "id": "db415592-720f-4220-9405-d50e2afe9e79",
   "metadata": {},
   "outputs": [],
   "source": [
    "ttest(rtv[rtv['kitchen_present'] == 1]['status_waterborne_illness_last_30_days'], \n",
    "      rtv[rtv['kitchen_present'] == 0]['status_waterborne_illness_last_30_days'], correction = False)"
   ]
  },
  {
   "cell_type": "code",
   "execution_count": null,
   "id": "ccbb1d5b-e1a3-427e-8008-7f49944fd2c9",
   "metadata": {},
   "outputs": [],
   "source": []
  },
  {
   "cell_type": "code",
   "execution_count": null,
   "id": "15ee66a5-8602-4902-abe9-2efa268d5c4a",
   "metadata": {},
   "outputs": [],
   "source": [
    "df.groupby(['Status','kitchen_ventilated'])['status_waterborne_illness_last_30_days'].mean()"
   ]
  },
  {
   "cell_type": "code",
   "execution_count": null,
   "id": "4c056d7b-651b-465a-ba65-b74c467a2884",
   "metadata": {},
   "outputs": [],
   "source": [
    "ttest(peer[peer['kitchen_ventilated'] == 1]['status_waterborne_illness_last_30_days'], \n",
    "      peer[peer['kitchen_ventilated'] == 0]['status_waterborne_illness_last_30_days'], correction = False)"
   ]
  },
  {
   "cell_type": "code",
   "execution_count": null,
   "id": "c78aa1e9-6b9f-4326-bfcb-01f801fc7f6c",
   "metadata": {},
   "outputs": [],
   "source": [
    "ttest(rtv[rtv['kitchen_ventilated'] == 1]['status_waterborne_illness_last_30_days'], \n",
    "      rtv[rtv['kitchen_ventilated'] == 0]['status_waterborne_illness_last_30_days'], correction = False)"
   ]
  },
  {
   "cell_type": "code",
   "execution_count": null,
   "id": "35a39fd8-accf-4dde-83c2-ec6d35130fbd",
   "metadata": {},
   "outputs": [],
   "source": []
  },
  {
   "cell_type": "code",
   "execution_count": null,
   "id": "522daea4-8776-42cb-99cb-0640377c0a44",
   "metadata": {},
   "outputs": [],
   "source": []
  },
  {
   "cell_type": "code",
   "execution_count": null,
   "id": "9c2a1545-69df-4393-bb71-1e30b109dbc4",
   "metadata": {},
   "outputs": [],
   "source": [
    "df.groupby(['Status','compound_clean'])['status_waterborne_illness_last_30_days'].mean()"
   ]
  },
  {
   "cell_type": "code",
   "execution_count": null,
   "id": "9b78e65c-08fa-4d43-a9d3-0a8690660e46",
   "metadata": {},
   "outputs": [],
   "source": [
    "ttest(peer[peer['compound_clean'] == 1]['status_waterborne_illness_last_30_days'], \n",
    "      peer[peer['compound_clean'] == 0]['status_waterborne_illness_last_30_days'], correction = False)"
   ]
  },
  {
   "cell_type": "code",
   "execution_count": null,
   "id": "7e5e3346-5635-4b35-8a8d-09f5d671c4cf",
   "metadata": {},
   "outputs": [],
   "source": [
    "ttest(rtv[rtv['compound_clean'] == 1]['status_waterborne_illness_last_30_days'], \n",
    "      rtv[rtv['compound_clean'] == 0]['status_waterborne_illness_last_30_days'], correction = False)"
   ]
  },
  {
   "cell_type": "code",
   "execution_count": null,
   "id": "2f157ddd-c285-4b19-a648-497b5c07b1da",
   "metadata": {},
   "outputs": [],
   "source": []
  },
  {
   "cell_type": "code",
   "execution_count": null,
   "id": "9c977025-fb89-47b7-8a40-671c71491083",
   "metadata": {},
   "outputs": [],
   "source": []
  },
  {
   "cell_type": "code",
   "execution_count": null,
   "id": "a3b8fecb-913a-4d86-ae0a-77050b54b20b",
   "metadata": {},
   "outputs": [],
   "source": [
    "df.groupby(['Status','diskrack_present'])['status_waterborne_illness_last_30_days'].mean()"
   ]
  },
  {
   "cell_type": "code",
   "execution_count": null,
   "id": "23634b90-a0e2-47fa-b010-0538bef51419",
   "metadata": {},
   "outputs": [],
   "source": [
    "ttest(peer[peer['diskrack_present'] == 1]['status_waterborne_illness_last_30_days'], \n",
    "      peer[peer['diskrack_present'] == 0]['status_waterborne_illness_last_30_days'], correction = False)"
   ]
  },
  {
   "cell_type": "code",
   "execution_count": null,
   "id": "333f43e9-c8a4-42db-94f7-9f0d42c28b7c",
   "metadata": {},
   "outputs": [],
   "source": [
    "ttest(rtv[rtv['diskrack_present'] == 1]['status_waterborne_illness_last_30_days'], \n",
    "      rtv[rtv['diskrack_present'] == 0]['status_waterborne_illness_last_30_days'], correction = False)"
   ]
  },
  {
   "cell_type": "code",
   "execution_count": null,
   "id": "1b5dc803-ed73-4d3a-bbbe-21b3a2d429ca",
   "metadata": {},
   "outputs": [],
   "source": []
  },
  {
   "cell_type": "code",
   "execution_count": null,
   "id": "731ec280-6c66-49a7-889f-6c249fecb3b3",
   "metadata": {},
   "outputs": [],
   "source": []
  },
  {
   "cell_type": "code",
   "execution_count": null,
   "id": "013bd66d-84d1-4b59-ada4-4e129dfc97b4",
   "metadata": {},
   "outputs": [],
   "source": [
    "df['waterborne_illness_last_30_days'].value_counts()"
   ]
  },
  {
   "cell_type": "code",
   "execution_count": null,
   "id": "93980c4f-8816-4232-9570-4c475644a65d",
   "metadata": {},
   "outputs": [],
   "source": [
    "bins = [-1, 0, 1, float('inf')]\n",
    "labels = ['0', '1', '2 or more']"
   ]
  },
  {
   "cell_type": "code",
   "execution_count": null,
   "id": "237b2a3d-5d73-4d29-838c-f5c40dfd9e61",
   "metadata": {},
   "outputs": [],
   "source": [
    " pd.DataFrame({\n",
    "    'waterborne_illness_last_30_days': pd.cut(rtv['waterborne_illness_last_30_days'], bins=bins, labels=labels).value_counts(normalize=True) * 100,\n",
    "    'waterborne_illness_hh_member_num_u5': pd.cut(rtv['waterborne_illness_hh_member_num_u5'], bins=bins, labels=labels).value_counts(normalize=True) * 100,\n",
    "    'non_waterborne_30_days': pd.cut(rtv['non_waterborne_30_days'], bins=bins, labels=labels).value_counts(normalize=True) * 100\n",
    "})"
   ]
  },
  {
   "cell_type": "code",
   "execution_count": null,
   "id": "9ab7fb79-8936-42ed-9278-bb6c001a6f9d",
   "metadata": {},
   "outputs": [],
   "source": [
    " pd.DataFrame({\n",
    "    'waterborne_illness_last_30_days': pd.cut(peer['waterborne_illness_last_30_days'], bins=bins, labels=labels).value_counts(normalize=True) * 100,\n",
    "    'waterborne_illness_hh_member_num_u5': pd.cut(peer['waterborne_illness_hh_member_num_u5'], bins=bins, labels=labels).value_counts(normalize=True) * 100,\n",
    "    'non_waterborne_30_days': pd.cut(peer['non_waterborne_30_days'], bins=bins, labels=labels).value_counts(normalize=True) * 100\n",
    "})"
   ]
  },
  {
   "cell_type": "code",
   "execution_count": null,
   "id": "79a51b3b-2e03-41f8-ada7-8352218b3953",
   "metadata": {},
   "outputs": [],
   "source": []
  },
  {
   "cell_type": "markdown",
   "id": "63fe8638-26aa-45da-a074-dc0cbec9b661",
   "metadata": {},
   "source": [
    "Illnesses in the last 30 days -2021 Cohort at Graduation by Quartile"
   ]
  },
  {
   "cell_type": "code",
   "execution_count": null,
   "id": "a70a40a3-95d5-4f69-90ec-3f024e33ee7e",
   "metadata": {},
   "outputs": [],
   "source": [
    "rtv.groupby('Quartile')['waterborne_illness_last_30_days'].mean()"
   ]
  },
  {
   "cell_type": "code",
   "execution_count": null,
   "id": "165fb27b-2ea2-461f-a7c4-6a8d027b9765",
   "metadata": {},
   "outputs": [],
   "source": [
    "peer.groupby('Quartile')['waterborne_illness_last_30_days'].mean()"
   ]
  },
  {
   "cell_type": "code",
   "execution_count": null,
   "id": "e4e02a00-6453-4a05-b813-f6ccb1a398f9",
   "metadata": {},
   "outputs": [],
   "source": []
  },
  {
   "cell_type": "code",
   "execution_count": null,
   "id": "ebfd95bc-951d-48f4-9984-58654d021f10",
   "metadata": {},
   "outputs": [],
   "source": []
  },
  {
   "cell_type": "code",
   "execution_count": null,
   "id": "9ef825b9-e309-476a-b395-ef7103bef097",
   "metadata": {},
   "outputs": [],
   "source": []
  },
  {
   "cell_type": "code",
   "execution_count": null,
   "id": "63567531-0897-4564-ac09-5da40769c091",
   "metadata": {},
   "outputs": [],
   "source": [
    "# bins = {\n",
    "#     'waterborne_illness_last_30_days': [-1, 0, 1, float('inf')],\n",
    "#     'waterborne_illness_hh_member_num_u5': [-1, 0, 1, float('inf')],\n",
    "#     'non_waterborne_30_days': [-1, 0, 1, float('inf')]\n",
    "# }\n",
    "\n",
    "# labels = {\n",
    "#     'waterborne_illness_last_30_days': ['0', '1', '2 or more'],\n",
    "#     'waterborne_illness_hh_member_num_u5': ['0', '1', '2 or more'],\n",
    "#     'non_waterborne_30_days': ['0', '1', '2 or more']\n",
    "# }\n",
    "\n",
    "# columns = ['waterborne_illness_last_30_days','waterborne_illness_hh_member_num_u5', 'non_waterborne_30_days']"
   ]
  },
  {
   "cell_type": "code",
   "execution_count": null,
   "id": "f3581fb1-c6d9-4bf4-b2db-be1cb025f16a",
   "metadata": {},
   "outputs": [],
   "source": []
  }
 ],
 "metadata": {
  "kernelspec": {
   "display_name": "Python 3 (ipykernel)",
   "language": "python",
   "name": "python3"
  },
  "language_info": {
   "codemirror_mode": {
    "name": "ipython",
    "version": 3
   },
   "file_extension": ".py",
   "mimetype": "text/x-python",
   "name": "python",
   "nbconvert_exporter": "python",
   "pygments_lexer": "ipython3",
   "version": "3.10.12"
  }
 },
 "nbformat": 4,
 "nbformat_minor": 5
}
