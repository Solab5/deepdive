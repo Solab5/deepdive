{
 "cells": [
  {
   "cell_type": "code",
   "execution_count": 1,
   "id": "c0d7c5ae-34b6-4419-85ed-394b9178d874",
   "metadata": {},
   "outputs": [],
   "source": [
    "from fastai.imports import *"
   ]
  },
  {
   "cell_type": "code",
   "execution_count": 151,
   "id": "5d964d8b-8b8e-4300-a897-507e297da34f",
   "metadata": {},
   "outputs": [],
   "source": [
    "df = pd.read_excel(\"BaseGrad.xlsx\")"
   ]
  },
  {
   "cell_type": "code",
   "execution_count": 152,
   "id": "5e0046c9-b24b-4f98-9acd-20f1de2c1c9d",
   "metadata": {},
   "outputs": [
    {
     "data": {
      "text/html": [
       "<div>\n",
       "<style scoped>\n",
       "    .dataframe tbody tr th:only-of-type {\n",
       "        vertical-align: middle;\n",
       "    }\n",
       "\n",
       "    .dataframe tbody tr th {\n",
       "        vertical-align: top;\n",
       "    }\n",
       "\n",
       "    .dataframe thead th {\n",
       "        text-align: right;\n",
       "    }\n",
       "</style>\n",
       "<table border=\"1\" class=\"dataframe\">\n",
       "  <thead>\n",
       "    <tr style=\"text-align: right;\">\n",
       "      <th></th>\n",
       "      <th>RecordID</th>\n",
       "      <th>hhid_2</th>\n",
       "      <th>hhid_2_again</th>\n",
       "      <th>pre_district</th>\n",
       "      <th>pre_subcounty</th>\n",
       "      <th>pre_parish</th>\n",
       "      <th>pre_village</th>\n",
       "      <th>Quartile</th>\n",
       "      <th>pre_name</th>\n",
       "      <th>hhh_sex</th>\n",
       "      <th>...</th>\n",
       "      <th>HH Income + Consumption+ Assets + Residues (USD_Cons_rate)</th>\n",
       "      <th>Assets (USD_Cons_rate)</th>\n",
       "      <th>Income/Day_Adjusted</th>\n",
       "      <th>Income + Production/Day_Adjusted</th>\n",
       "      <th>Status</th>\n",
       "      <th>HH_HH</th>\n",
       "      <th>Elderly</th>\n",
       "      <th>H+P/Group</th>\n",
       "      <th>H+P+A</th>\n",
       "      <th>Period</th>\n",
       "    </tr>\n",
       "  </thead>\n",
       "  <tbody>\n",
       "    <tr>\n",
       "      <th>0</th>\n",
       "      <td>1</td>\n",
       "      <td>KAN-KAN-FER-K1768</td>\n",
       "      <td>KAN-KAN-FER-K1768</td>\n",
       "      <td>Kanungu</td>\n",
       "      <td>Kayonza</td>\n",
       "      <td>Rutendere</td>\n",
       "      <td>Kangyeyo</td>\n",
       "      <td>Group 4</td>\n",
       "      <td>Ntegereze Norah</td>\n",
       "      <td>2</td>\n",
       "      <td>...</td>\n",
       "      <td>307.628278</td>\n",
       "      <td>0.000000</td>\n",
       "      <td>0.426626</td>\n",
       "      <td>0.842817</td>\n",
       "      <td>RTV</td>\n",
       "      <td>2</td>\n",
       "      <td>Elderly</td>\n",
       "      <td>2</td>\n",
       "      <td>2.0</td>\n",
       "      <td>Graduation</td>\n",
       "    </tr>\n",
       "    <tr>\n",
       "      <th>1</th>\n",
       "      <td>2</td>\n",
       "      <td>KAN-OMU-KAN-K4711</td>\n",
       "      <td>KAN-OMU-KAN-K4711</td>\n",
       "      <td>Kanungu</td>\n",
       "      <td>Kirima</td>\n",
       "      <td>Kihanda</td>\n",
       "      <td>Omurwambu</td>\n",
       "      <td>Group 2</td>\n",
       "      <td>Bob Kanyesigye</td>\n",
       "      <td>1</td>\n",
       "      <td>...</td>\n",
       "      <td>309.756806</td>\n",
       "      <td>0.000000</td>\n",
       "      <td>0.337004</td>\n",
       "      <td>0.848649</td>\n",
       "      <td>RTV</td>\n",
       "      <td>1</td>\n",
       "      <td>Adult</td>\n",
       "      <td>2</td>\n",
       "      <td>2.0</td>\n",
       "      <td>Graduation</td>\n",
       "    </tr>\n",
       "    <tr>\n",
       "      <th>2</th>\n",
       "      <td>3</td>\n",
       "      <td>KAN-BYU-ANN-K4055</td>\n",
       "      <td>KAN-BYU-ANN-K4055</td>\n",
       "      <td>Kanungu</td>\n",
       "      <td>Kayonza</td>\n",
       "      <td>Bujengwe</td>\n",
       "      <td>Byumba</td>\n",
       "      <td>Group 3</td>\n",
       "      <td>Akampurira Annah</td>\n",
       "      <td>2</td>\n",
       "      <td>...</td>\n",
       "      <td>358.152806</td>\n",
       "      <td>60.495000</td>\n",
       "      <td>0.540803</td>\n",
       "      <td>0.815501</td>\n",
       "      <td>RTV</td>\n",
       "      <td>2</td>\n",
       "      <td>Adult</td>\n",
       "      <td>2</td>\n",
       "      <td>2.0</td>\n",
       "      <td>Graduation</td>\n",
       "    </tr>\n",
       "    <tr>\n",
       "      <th>3</th>\n",
       "      <td>4</td>\n",
       "      <td>KAN-BYU-YUS-K4026</td>\n",
       "      <td>KAN-BYU-YUS-K4026</td>\n",
       "      <td>Kanungu</td>\n",
       "      <td>Kayonza</td>\n",
       "      <td>Bujengwe</td>\n",
       "      <td>Byumba</td>\n",
       "      <td>Group 3</td>\n",
       "      <td>Ntwazagye Yusufu</td>\n",
       "      <td>1</td>\n",
       "      <td>...</td>\n",
       "      <td>385.689233</td>\n",
       "      <td>56.013889</td>\n",
       "      <td>0.435220</td>\n",
       "      <td>0.903220</td>\n",
       "      <td>RTV</td>\n",
       "      <td>1</td>\n",
       "      <td>Elderly</td>\n",
       "      <td>2</td>\n",
       "      <td>2.0</td>\n",
       "      <td>Graduation</td>\n",
       "    </tr>\n",
       "    <tr>\n",
       "      <th>4</th>\n",
       "      <td>5</td>\n",
       "      <td>KAN-KAZ-FAU-K2057</td>\n",
       "      <td>KAN-KAZ-FAU-K2057</td>\n",
       "      <td>Kanungu</td>\n",
       "      <td>Kayonza</td>\n",
       "      <td>Bujengwe</td>\n",
       "      <td>Kazahi</td>\n",
       "      <td>Group 4</td>\n",
       "      <td>Tindimwebwe Fausta</td>\n",
       "      <td>2</td>\n",
       "      <td>...</td>\n",
       "      <td>423.689056</td>\n",
       "      <td>0.000000</td>\n",
       "      <td>0.401458</td>\n",
       "      <td>1.160792</td>\n",
       "      <td>RTV</td>\n",
       "      <td>2</td>\n",
       "      <td>Adult</td>\n",
       "      <td>2</td>\n",
       "      <td>3.0</td>\n",
       "      <td>Graduation</td>\n",
       "    </tr>\n",
       "  </tbody>\n",
       "</table>\n",
       "<p>5 rows × 32 columns</p>\n",
       "</div>"
      ],
      "text/plain": [
       "   RecordID             hhid_2       hhid_2_again pre_district pre_subcounty  \\\n",
       "0         1  KAN-KAN-FER-K1768  KAN-KAN-FER-K1768      Kanungu       Kayonza   \n",
       "1         2  KAN-OMU-KAN-K4711  KAN-OMU-KAN-K4711      Kanungu        Kirima   \n",
       "2         3  KAN-BYU-ANN-K4055  KAN-BYU-ANN-K4055      Kanungu       Kayonza   \n",
       "3         4  KAN-BYU-YUS-K4026  KAN-BYU-YUS-K4026      Kanungu       Kayonza   \n",
       "4         5  KAN-KAZ-FAU-K2057  KAN-KAZ-FAU-K2057      Kanungu       Kayonza   \n",
       "\n",
       "  pre_parish pre_village Quartile            pre_name  hhh_sex  ...  \\\n",
       "0  Rutendere    Kangyeyo  Group 4     Ntegereze Norah        2  ...   \n",
       "1    Kihanda   Omurwambu  Group 2      Bob Kanyesigye        1  ...   \n",
       "2   Bujengwe      Byumba  Group 3    Akampurira Annah        2  ...   \n",
       "3   Bujengwe      Byumba  Group 3    Ntwazagye Yusufu        1  ...   \n",
       "4   Bujengwe      Kazahi  Group 4  Tindimwebwe Fausta        2  ...   \n",
       "\n",
       "   HH Income + Consumption+ Assets + Residues (USD_Cons_rate)  \\\n",
       "0                                                  307.628278   \n",
       "1                                                  309.756806   \n",
       "2                                                  358.152806   \n",
       "3                                                  385.689233   \n",
       "4                                                  423.689056   \n",
       "\n",
       "   Assets (USD_Cons_rate)  Income/Day_Adjusted  \\\n",
       "0                0.000000             0.426626   \n",
       "1                0.000000             0.337004   \n",
       "2               60.495000             0.540803   \n",
       "3               56.013889             0.435220   \n",
       "4                0.000000             0.401458   \n",
       "\n",
       "   Income + Production/Day_Adjusted  Status  HH_HH  Elderly  H+P/Group  H+P+A  \\\n",
       "0                          0.842817     RTV      2  Elderly          2    2.0   \n",
       "1                          0.848649     RTV      1    Adult          2    2.0   \n",
       "2                          0.815501     RTV      2    Adult          2    2.0   \n",
       "3                          0.903220     RTV      1  Elderly          2    2.0   \n",
       "4                          1.160792     RTV      2    Adult          2    3.0   \n",
       "\n",
       "       Period  \n",
       "0  Graduation  \n",
       "1  Graduation  \n",
       "2  Graduation  \n",
       "3  Graduation  \n",
       "4  Graduation  \n",
       "\n",
       "[5 rows x 32 columns]"
      ]
     },
     "execution_count": 152,
     "metadata": {},
     "output_type": "execute_result"
    }
   ],
   "source": [
    "df.head()"
   ]
  },
  {
   "cell_type": "code",
   "execution_count": 119,
   "id": "74a042ff-40d2-46ab-ad3b-d780c58802e6",
   "metadata": {},
   "outputs": [
    {
     "data": {
      "text/plain": [
       "0       155.718611\n",
       "1       123.006500\n",
       "2       197.392944\n",
       "3       158.855389\n",
       "4       146.532333\n",
       "           ...    \n",
       "9480    210.728833\n",
       "9481    359.921833\n",
       "9482    130.857833\n",
       "9483    271.762333\n",
       "9484    212.738167\n",
       "Name: HH Income (USD_Cons_rate), Length: 9485, dtype: float64"
      ]
     },
     "execution_count": 119,
     "metadata": {},
     "output_type": "execute_result"
    }
   ],
   "source": [
    "df['HH Income (USD_Cons_rate)']"
   ]
  },
  {
   "cell_type": "code",
   "execution_count": 154,
   "id": "d7ba5077-e2e7-4e80-ba42-4480f090983c",
   "metadata": {},
   "outputs": [],
   "source": [
    "data = df.copy()"
   ]
  },
  {
   "cell_type": "code",
   "execution_count": 155,
   "id": "c6d236fc-d04c-4dd6-aedf-76aa46509981",
   "metadata": {},
   "outputs": [],
   "source": [
    "from sklearn.preprocessing import MinMaxScaler"
   ]
  },
  {
   "cell_type": "code",
   "execution_count": 156,
   "id": "b8cc8b38-6a82-4c85-a37f-8b996221a956",
   "metadata": {},
   "outputs": [],
   "source": [
    "columns_to_standardize = ['Formal Employment (USD_Cons_rate)','Assets (USD_Cons_rate)', 'HH Income (USD_Cons_rate)']"
   ]
  },
  {
   "cell_type": "code",
   "execution_count": 157,
   "id": "f0537fcc-3ec6-4346-8929-ffc6aaf902e8",
   "metadata": {},
   "outputs": [],
   "source": [
    "# Create the scaler\n",
    "scaler = MinMaxScaler()\n",
    "\n",
    "# Fit and transform the columns\n",
    "data[columns_to_standardize] = scaler.fit_transform(data[columns_to_standardize])"
   ]
  },
  {
   "cell_type": "code",
   "execution_count": 158,
   "id": "31cedd36-a42a-4130-a24d-41441a210c0f",
   "metadata": {},
   "outputs": [
    {
     "data": {
      "text/html": [
       "<div>\n",
       "<style scoped>\n",
       "    .dataframe tbody tr th:only-of-type {\n",
       "        vertical-align: middle;\n",
       "    }\n",
       "\n",
       "    .dataframe tbody tr th {\n",
       "        vertical-align: top;\n",
       "    }\n",
       "\n",
       "    .dataframe thead th {\n",
       "        text-align: right;\n",
       "    }\n",
       "</style>\n",
       "<table border=\"1\" class=\"dataframe\">\n",
       "  <thead>\n",
       "    <tr style=\"text-align: right;\">\n",
       "      <th></th>\n",
       "      <th>Formal Employment (USD_Cons_rate)</th>\n",
       "      <th>Assets (USD_Cons_rate)</th>\n",
       "      <th>HH Income (USD_Cons_rate)</th>\n",
       "    </tr>\n",
       "  </thead>\n",
       "  <tbody>\n",
       "    <tr>\n",
       "      <th>0</th>\n",
       "      <td>0.0</td>\n",
       "      <td>0.000019</td>\n",
       "      <td>0.059545</td>\n",
       "    </tr>\n",
       "    <tr>\n",
       "      <th>1</th>\n",
       "      <td>0.0</td>\n",
       "      <td>0.000019</td>\n",
       "      <td>0.047036</td>\n",
       "    </tr>\n",
       "    <tr>\n",
       "      <th>2</th>\n",
       "      <td>0.0</td>\n",
       "      <td>0.022511</td>\n",
       "      <td>0.075481</td>\n",
       "    </tr>\n",
       "    <tr>\n",
       "      <th>3</th>\n",
       "      <td>0.0</td>\n",
       "      <td>0.020845</td>\n",
       "      <td>0.060744</td>\n",
       "    </tr>\n",
       "    <tr>\n",
       "      <th>4</th>\n",
       "      <td>0.0</td>\n",
       "      <td>0.000019</td>\n",
       "      <td>0.056032</td>\n",
       "    </tr>\n",
       "    <tr>\n",
       "      <th>...</th>\n",
       "      <td>...</td>\n",
       "      <td>...</td>\n",
       "      <td>...</td>\n",
       "    </tr>\n",
       "    <tr>\n",
       "      <th>9480</th>\n",
       "      <td>0.0</td>\n",
       "      <td>0.004688</td>\n",
       "      <td>0.080580</td>\n",
       "    </tr>\n",
       "    <tr>\n",
       "      <th>9481</th>\n",
       "      <td>0.0</td>\n",
       "      <td>0.039240</td>\n",
       "      <td>0.137630</td>\n",
       "    </tr>\n",
       "    <tr>\n",
       "      <th>9482</th>\n",
       "      <td>0.0</td>\n",
       "      <td>0.014026</td>\n",
       "      <td>0.050038</td>\n",
       "    </tr>\n",
       "    <tr>\n",
       "      <th>9483</th>\n",
       "      <td>0.0</td>\n",
       "      <td>0.000019</td>\n",
       "      <td>0.103919</td>\n",
       "    </tr>\n",
       "    <tr>\n",
       "      <th>9484</th>\n",
       "      <td>0.0</td>\n",
       "      <td>0.019816</td>\n",
       "      <td>0.081348</td>\n",
       "    </tr>\n",
       "  </tbody>\n",
       "</table>\n",
       "<p>9485 rows × 3 columns</p>\n",
       "</div>"
      ],
      "text/plain": [
       "      Formal Employment (USD_Cons_rate)  Assets (USD_Cons_rate)  \\\n",
       "0                                   0.0                0.000019   \n",
       "1                                   0.0                0.000019   \n",
       "2                                   0.0                0.022511   \n",
       "3                                   0.0                0.020845   \n",
       "4                                   0.0                0.000019   \n",
       "...                                 ...                     ...   \n",
       "9480                                0.0                0.004688   \n",
       "9481                                0.0                0.039240   \n",
       "9482                                0.0                0.014026   \n",
       "9483                                0.0                0.000019   \n",
       "9484                                0.0                0.019816   \n",
       "\n",
       "      HH Income (USD_Cons_rate)  \n",
       "0                      0.059545  \n",
       "1                      0.047036  \n",
       "2                      0.075481  \n",
       "3                      0.060744  \n",
       "4                      0.056032  \n",
       "...                         ...  \n",
       "9480                   0.080580  \n",
       "9481                   0.137630  \n",
       "9482                   0.050038  \n",
       "9483                   0.103919  \n",
       "9484                   0.081348  \n",
       "\n",
       "[9485 rows x 3 columns]"
      ]
     },
     "execution_count": 158,
     "metadata": {},
     "output_type": "execute_result"
    }
   ],
   "source": [
    "data[columns_to_standardize]"
   ]
  },
  {
   "cell_type": "code",
   "execution_count": 27,
   "id": "43f24b51-7526-4a36-bd6b-0d55384be562",
   "metadata": {},
   "outputs": [],
   "source": [
    "# # Define data for forest plot\n",
    "# outcomes = data.columns.tolist()\n",
    "# effect_sizes = data.mean().tolist()  # Mean of standardized values\n",
    "# conf_intervals = [(mean - 1.96*data[col].std(), mean + 1.96*data[col].std()) for col, mean in zip(data.columns, effect_sizes)] \n",
    "\n",
    "# # Create the forest plot\n",
    "# fig, ax = plt.subplots(figsize=(8, 6))\n",
    "\n",
    "# # Plot effect sizes with confidence intervals\n",
    "# for i, (outcome, effect_size, (low, high)) in enumerate(zip(outcomes, effect_sizes, conf_intervals)):\n",
    "#     ax.plot([low, high], [i, i], color='grey') # Confidence interval line\n",
    "#     ax.plot(effect_size, i, 'o', color='green') # Effect size dot\n",
    "\n",
    "# ax.axvline(0, color='black', linestyle='--') # Line for \"no effect\"\n",
    "# ax.set_yticks(range(len(outcomes)))\n",
    "# ax.set_yticklabels(outcomes)\n",
    "# ax.set_xlabel(\"Standardized Effect Size\")\n",
    "# ax.set_title(\"Intent-to-treat estimates for main standardized outcomes\")\n",
    "# plt.gca().invert_yaxis() # To have the first outcome at the top\n",
    "# plt.tight_layout()\n",
    "# plt.show()"
   ]
  },
  {
   "cell_type": "code",
   "execution_count": null,
   "id": "67346ba9-1f27-4673-a19e-ee1e7bbd2ef2",
   "metadata": {},
   "outputs": [],
   "source": []
  },
  {
   "cell_type": "code",
   "execution_count": 29,
   "id": "992a3ab6-2d39-440e-9cf2-6fb0d21bce74",
   "metadata": {},
   "outputs": [],
   "source": [
    "import seaborn as sns"
   ]
  },
  {
   "cell_type": "code",
   "execution_count": 37,
   "id": "e2b329fe-4f7b-43f2-89a8-c8a86f4e287a",
   "metadata": {},
   "outputs": [],
   "source": [
    "import pingouin as pg"
   ]
  },
  {
   "cell_type": "code",
   "execution_count": 39,
   "id": "b87d6c4a-b580-4bf4-b4ed-32087ae140fa",
   "metadata": {},
   "outputs": [],
   "source": [
    "data = df.copy()"
   ]
  },
  {
   "cell_type": "code",
   "execution_count": 81,
   "id": "e8e7d87a-ba4b-4acf-9cbd-1c83045bb59b",
   "metadata": {},
   "outputs": [
    {
     "name": "stderr",
     "output_type": "stream",
     "text": [
      "/Users/rtv-lpt-127/mambaforge/lib/python3.10/site-packages/seaborn/_oldcore.py:1498: FutureWarning: is_categorical_dtype is deprecated and will be removed in a future version. Use isinstance(dtype, CategoricalDtype) instead\n",
      "  if pd.api.types.is_categorical_dtype(vector):\n",
      "/Users/rtv-lpt-127/mambaforge/lib/python3.10/site-packages/seaborn/_oldcore.py:1498: FutureWarning: is_categorical_dtype is deprecated and will be removed in a future version. Use isinstance(dtype, CategoricalDtype) instead\n",
      "  if pd.api.types.is_categorical_dtype(vector):\n",
      "/Users/rtv-lpt-127/mambaforge/lib/python3.10/site-packages/seaborn/_oldcore.py:1498: FutureWarning: is_categorical_dtype is deprecated and will be removed in a future version. Use isinstance(dtype, CategoricalDtype) instead\n",
      "  if pd.api.types.is_categorical_dtype(vector):\n",
      "/Users/rtv-lpt-127/mambaforge/lib/python3.10/site-packages/seaborn/_oldcore.py:1498: FutureWarning: is_categorical_dtype is deprecated and will be removed in a future version. Use isinstance(dtype, CategoricalDtype) instead\n",
      "  if pd.api.types.is_categorical_dtype(vector):\n"
     ]
    },
    {
     "data": {
      "text/plain": [
       "<Axes: xlabel='IncomeEff', ylabel='Quartile'>"
      ]
     },
     "execution_count": 81,
     "metadata": {},
     "output_type": "execute_result"
    },
    {
     "data": {
      "image/png": "[encoded data removed]",
      "text/plain": [
       "<Figure size 640x480 with 1 Axes>"
      ]
     },
     "metadata": {},
     "output_type": "display_data"
    }
   ],
   "source": [
    "sns.pointplot(\n",
    "    data=df, x=\"IncomeEff\", y=\"Quartile\",hue='Status',\n",
    "    errorbar=(\"pi\", 95), capsize=.1,\n",
    "    dodge=0.2,\n",
    "    color=\"green\", linestyles=\"none\", markers=\"o\",\n",
    ")"
   ]
  },
  {
   "cell_type": "code",
   "execution_count": 83,
   "id": "ba9635ae-9836-4af8-9f8b-ad55a43f2192",
   "metadata": {},
   "outputs": [
    {
     "name": "stdout",
     "output_type": "stream",
     "text": [
      "Collecting zepid\n",
      "  Downloading zepid-0.9.1-py2.py3-none-any.whl (555 kB)\n",
      "\u001b[2K     \u001b[90m━━━━━━━━━━━━━━━━━━━━━━━━━━━━━━━━━━━━━\u001b[0m \u001b[32m555.8/555.8 kB\u001b[0m \u001b[31m334.1 kB/s\u001b[0m eta \u001b[36m0:00:00\u001b[0m00:01\u001b[0m00:01\u001b[0m\n",
      "\u001b[?25hRequirement already satisfied: pandas>=0.18 in /Users/rtv-lpt-127/mambaforge/lib/python3.10/site-packages (from zepid) (2.1.0)\n",
      "Requirement already satisfied: numpy in /Users/rtv-lpt-127/mambaforge/lib/python3.10/site-packages (from zepid) (1.26.0)\n",
      "Requirement already satisfied: statsmodels>=0.7.0 in /Users/rtv-lpt-127/mambaforge/lib/python3.10/site-packages (from zepid) (0.14.0)\n",
      "Requirement already satisfied: matplotlib>=2.0 in /Users/rtv-lpt-127/mambaforge/lib/python3.10/site-packages (from zepid) (3.8.0)\n",
      "Requirement already satisfied: scipy in /Users/rtv-lpt-127/mambaforge/lib/python3.10/site-packages (from zepid) (1.11.2)\n",
      "Requirement already satisfied: tabulate in /Users/rtv-lpt-127/mambaforge/lib/python3.10/site-packages (from zepid) (0.9.0)\n",
      "Requirement already satisfied: scikit-learn in /Users/rtv-lpt-127/mambaforge/lib/python3.10/site-packages (from zepid) (1.3.0)\n",
      "Requirement already satisfied: patsy in /Users/rtv-lpt-127/mambaforge/lib/python3.10/site-packages (from zepid) (0.5.3)\n",
      "Requirement already satisfied: contourpy>=1.0.1 in /Users/rtv-lpt-127/mambaforge/lib/python3.10/site-packages (from matplotlib>=2.0->zepid) (1.1.1)\n",
      "Requirement already satisfied: cycler>=0.10 in /Users/rtv-lpt-127/mambaforge/lib/python3.10/site-packages (from matplotlib>=2.0->zepid) (0.11.0)\n",
      "Requirement already satisfied: fonttools>=4.22.0 in /Users/rtv-lpt-127/mambaforge/lib/python3.10/site-packages (from matplotlib>=2.0->zepid) (4.42.1)\n",
      "Requirement already satisfied: kiwisolver>=1.0.1 in /Users/rtv-lpt-127/mambaforge/lib/python3.10/site-packages (from matplotlib>=2.0->zepid) (1.4.5)\n",
      "Requirement already satisfied: packaging>=20.0 in /Users/rtv-lpt-127/mambaforge/lib/python3.10/site-packages (from matplotlib>=2.0->zepid) (23.1)\n",
      "Requirement already satisfied: pillow>=6.2.0 in /Users/rtv-lpt-127/mambaforge/lib/python3.10/site-packages (from matplotlib>=2.0->zepid) (10.0.1)\n",
      "Requirement already satisfied: pyparsing>=2.3.1 in /Users/rtv-lpt-127/mambaforge/lib/python3.10/site-packages (from matplotlib>=2.0->zepid) (3.1.1)\n",
      "Requirement already satisfied: python-dateutil>=2.7 in /Users/rtv-lpt-127/mambaforge/lib/python3.10/site-packages (from matplotlib>=2.0->zepid) (2.8.2)\n",
      "Requirement already satisfied: pytz>=2020.1 in /Users/rtv-lpt-127/mambaforge/lib/python3.10/site-packages (from pandas>=0.18->zepid) (2023.3.post1)\n",
      "Requirement already satisfied: tzdata>=2022.1 in /Users/rtv-lpt-127/mambaforge/lib/python3.10/site-packages (from pandas>=0.18->zepid) (2023.3)\n",
      "Requirement already satisfied: six in /Users/rtv-lpt-127/mambaforge/lib/python3.10/site-packages (from patsy->zepid) (1.16.0)\n",
      "Requirement already satisfied: joblib>=1.1.1 in /Users/rtv-lpt-127/mambaforge/lib/python3.10/site-packages (from scikit-learn->zepid) (1.3.2)\n",
      "Requirement already satisfied: threadpoolctl>=2.0.0 in /Users/rtv-lpt-127/mambaforge/lib/python3.10/site-packages (from scikit-learn->zepid) (3.2.0)\n",
      "Installing collected packages: zepid\n",
      "Successfully installed zepid-0.9.1\n"
     ]
    }
   ],
   "source": [
    "!pip install zepid"
   ]
  },
  {
   "cell_type": "code",
   "execution_count": null,
   "id": "a097474d-0454-4c9e-9542-673ca5f1d43b",
   "metadata": {},
   "outputs": [],
   "source": [
    "Assets (USD_Cons_rate)\tIncome/Day_Adjusted\tIncome + Production/Day_Adjusted\t"
   ]
  },
  {
   "cell_type": "code",
   "execution_count": 105,
   "id": "d93ab865-2dd4-4808-8bf2-8e3835937a8a",
   "metadata": {},
   "outputs": [
    {
     "data": {
      "text/plain": [
       "0         0.000000\n",
       "1         0.000000\n",
       "2        60.495000\n",
       "3        56.013889\n",
       "4         0.000000\n",
       "           ...    \n",
       "9480     12.558333\n",
       "9481    105.490000\n",
       "9482     37.675000\n",
       "9483      0.000000\n",
       "9484     53.247333\n",
       "Name: Assets (USD_Cons_rate), Length: 9485, dtype: float64"
      ]
     },
     "execution_count": 105,
     "metadata": {},
     "output_type": "execute_result"
    }
   ],
   "source": [
    "df['Income + Production/Day_Adjusted']"
   ]
  },
  {
   "cell_type": "code",
   "execution_count": null,
   "id": "91d60847-2e93-4517-84dc-f9c5fc9fc813",
   "metadata": {},
   "outputs": [],
   "source": [
    "import pandas as pd\n",
    "import matplotlib.pyplot as plt\n",
    "from zepid.graphics import EffectMeasurePlot\n",
    "from statsmodels.stats.weightstats import ttost_ind\n",
    "\n",
    "labels = ['Formal Employment (USD_Cons_rate)','Assets (USD_Cons_rate)', 'HH Income (USD_Cons_rate)']\n",
    "effect_sizes = []\n",
    "lowers = []\n",
    "uppers = []\n",
    "\n",
    "for label in labels:\n",
    "    rtv_data = df[df['Status'] == 'RTV'][label]\n",
    "    peer_data = df[df['Status'] == 'PEER'][label]\n",
    "    \n",
    "    # Independent t-test\n",
    "    result = pg.ttest(rtv_data, peer_data)\n",
    "    print(result)\n",
    "    \n",
    "    effect_sizes.append(result.at['T-test', 'cohen-d'])\n",
    "    lowers.append(result.at['T-test', 'CI95%'][0])\n",
    "    uppers.append(result.at['T-test', 'CI95%'][1])\n",
    "\n",
    "# Create the plot directly using matplotlib\n",
    "fig, ax = plt.subplots(figsize=(7, 3))\n",
    "y_pos = range(len(labels))\n",
    "x_errors = [np.abs(np.array(effect_sizes) - np.array(lowers)), np.abs(np.array(uppers) - np.array(effect_sizes))]\n",
    "ax.errorbar(effect_sizes, y_pos, xerr=x_errors, fmt='o', color='green', ecolor='black', elinewidth=2, capsize=5)\n",
    "\n",
    "# Adjust the appearance\n",
    "ax.set_yticks(y_pos)\n",
    "ax.set_yticklabels(labels)\n",
    "ax.invert_yaxis()  # Highest values at top\n",
    "ax.set_xlabel(\"Cohen's d\")\n",
    "plt.title(\"Comparison using Effect Size (Cohen's d)\", loc=\"right\", x=1, y=1.045)\n",
    "plt.suptitle(\"Indicators\", x=-0.1, y=0.98)\n",
    "ax.spines['top'].set_visible(False)\n",
    "ax.spines['right'].set_visible(False)\n",
    "ax.spines['bottom'].set_visible(True)\n",
    "ax.spines['left'].set_visible(False)\n",
    "\n",
    "plt.show()"
   ]
  },
  {
   "cell_type": "code",
   "execution_count": 175,
   "id": "1d0d4bc7-9661-481e-af9e-fbc23ebe60d5",
   "metadata": {},
   "outputs": [
    {
     "data": {
      "text/plain": [
       "[0.05518444433603464, 0.30986860070382, 0.36741394424377405]"
      ]
     },
     "execution_count": 175,
     "metadata": {},
     "output_type": "execute_result"
    }
   ],
   "source": [
    "effect_sizes"
   ]
  },
  {
   "cell_type": "code",
   "execution_count": 176,
   "id": "f8d8dadb-bc6a-4212-a42d-b1f762d6f63e",
   "metadata": {},
   "outputs": [
    {
     "data": {
      "text/plain": [
       "[2.35, 61.29, 104.45]"
      ]
     },
     "execution_count": 176,
     "metadata": {},
     "output_type": "execute_result"
    }
   ],
   "source": [
    "lowers"
   ]
  },
  {
   "cell_type": "code",
   "execution_count": 177,
   "id": "fb6b941a-7281-4226-8ad6-d8544bd8b6e9",
   "metadata": {},
   "outputs": [
    {
     "data": {
      "text/plain": [
       "[13.26, 78.39, 128.62]"
      ]
     },
     "execution_count": 177,
     "metadata": {},
     "output_type": "execute_result"
    }
   ],
   "source": [
    "uppers"
   ]
  },
  {
   "cell_type": "code",
   "execution_count": null,
   "id": "45223474-5caa-4477-953d-2cb4803014be",
   "metadata": {},
   "outputs": [],
   "source": []
  },
  {
   "cell_type": "code",
   "execution_count": 180,
   "id": "fcee8686-1bdb-42bc-ba61-5f8b8be94209",
   "metadata": {},
   "outputs": [
    {
     "ename": "TypeError",
     "evalue": "'numpy.float64' object is not iterable",
     "output_type": "error",
     "traceback": [
      "\u001b[0;31m---------------------------------------------------------------------------\u001b[0m",
      "\u001b[0;31mTypeError\u001b[0m                                 Traceback (most recent call last)",
      "Cell \u001b[0;32mIn[180], line 1\u001b[0m\n\u001b[0;32m----> 1\u001b[0m p \u001b[38;5;241m=\u001b[39m \u001b[43mEffectMeasurePlot\u001b[49m\u001b[43m(\u001b[49m\u001b[43mlabel\u001b[49m\u001b[38;5;241;43m=\u001b[39;49m\u001b[38;5;28;43;01mNone\u001b[39;49;00m\u001b[43m,\u001b[49m\u001b[43m \u001b[49m\u001b[43meffect_measure\u001b[49m\u001b[38;5;241;43m=\u001b[39;49m\u001b[43meffect_sizes\u001b[49m\u001b[43m,\u001b[49m\u001b[43m \u001b[49m\u001b[43mlcl\u001b[49m\u001b[38;5;241;43m=\u001b[39;49m\u001b[43mlowers\u001b[49m\u001b[43m,\u001b[49m\u001b[43m \u001b[49m\u001b[43mucl\u001b[49m\u001b[38;5;241;43m=\u001b[39;49m\u001b[43mupper\u001b[49m\u001b[43m)\u001b[49m\n\u001b[1;32m      2\u001b[0m p\u001b[38;5;241m.\u001b[39mlabels(effectmeasure\u001b[38;5;241m=\u001b[39m\u001b[38;5;124m'\u001b[39m\u001b[38;5;124mRR\u001b[39m\u001b[38;5;124m'\u001b[39m)\n\u001b[1;32m      3\u001b[0m p\u001b[38;5;241m.\u001b[39mcolors(pointshape\u001b[38;5;241m=\u001b[39m\u001b[38;5;124m\"\u001b[39m\u001b[38;5;124mD\u001b[39m\u001b[38;5;124m\"\u001b[39m)\n",
      "File \u001b[0;32m~/mambaforge/lib/python3.10/site-packages/zepid/graphics/graphics.py:67\u001b[0m, in \u001b[0;36mEffectMeasurePlot.__init__\u001b[0;34m(self, label, effect_measure, lcl, ucl)\u001b[0m\n\u001b[1;32m     65\u001b[0m \u001b[38;5;28;01melse\u001b[39;00m:\n\u001b[1;32m     66\u001b[0m     \u001b[38;5;28mself\u001b[39m\u001b[38;5;241m.\u001b[39mdf[\u001b[38;5;124m'\u001b[39m\u001b[38;5;124mLCL_dif\u001b[39m\u001b[38;5;124m'\u001b[39m] \u001b[38;5;241m=\u001b[39m (pd\u001b[38;5;241m.\u001b[39mto_numeric(\u001b[38;5;28mself\u001b[39m\u001b[38;5;241m.\u001b[39mdf[\u001b[38;5;124m'\u001b[39m\u001b[38;5;124mOR\u001b[39m\u001b[38;5;124m'\u001b[39m])) \u001b[38;5;241m-\u001b[39m (pd\u001b[38;5;241m.\u001b[39mto_numeric(\u001b[38;5;28mself\u001b[39m\u001b[38;5;241m.\u001b[39mdf[\u001b[38;5;124m'\u001b[39m\u001b[38;5;124mLCL\u001b[39m\u001b[38;5;124m'\u001b[39m]))\n\u001b[0;32m---> 67\u001b[0m \u001b[38;5;28;01mif\u001b[39;00m (\u001b[38;5;28mall\u001b[39m(\u001b[38;5;28misinstance\u001b[39m(item, \u001b[38;5;28mfloat\u001b[39m) \u001b[38;5;28;01mfor\u001b[39;00m item \u001b[38;5;129;01min\u001b[39;00m ucl)) \u001b[38;5;241m&\u001b[39m (\u001b[38;5;28mall\u001b[39m(\u001b[38;5;28misinstance\u001b[39m(item, \u001b[38;5;28mfloat\u001b[39m) \u001b[38;5;28;01mfor\u001b[39;00m item \u001b[38;5;129;01min\u001b[39;00m effect_measure)):\n\u001b[1;32m     68\u001b[0m     \u001b[38;5;28mself\u001b[39m\u001b[38;5;241m.\u001b[39mdf[\u001b[38;5;124m'\u001b[39m\u001b[38;5;124mUCL_dif\u001b[39m\u001b[38;5;124m'\u001b[39m] \u001b[38;5;241m=\u001b[39m \u001b[38;5;28mself\u001b[39m\u001b[38;5;241m.\u001b[39mdf[\u001b[38;5;124m'\u001b[39m\u001b[38;5;124mUCL\u001b[39m\u001b[38;5;124m'\u001b[39m] \u001b[38;5;241m-\u001b[39m \u001b[38;5;28mself\u001b[39m\u001b[38;5;241m.\u001b[39mdf[\u001b[38;5;124m'\u001b[39m\u001b[38;5;124mOR\u001b[39m\u001b[38;5;124m'\u001b[39m]\n\u001b[1;32m     69\u001b[0m \u001b[38;5;28;01melse\u001b[39;00m:\n",
      "\u001b[0;31mTypeError\u001b[0m: 'numpy.float64' object is not iterable"
     ]
    }
   ],
   "source": [
    "p = EffectMeasurePlot(label=None, effect_measure=effect_sizes, lcl=lowers, ucl=upper)\n",
    "p.labels(effectmeasure='RR')\n",
    "p.colors(pointshape=\"D\")\n",
    "ax=p.plot(figsize=(7,3), t_adjuster=0.09, max_value=4, min_value=0.35 )\n",
    "plt.title(\"Random Effect Model(Risk Ratio)\",loc=\"right\",x=1, y=1.045)\n",
    "plt.suptitle(\"Missing Data Imputation Method\",x=-0.1,y=0.98)\n",
    "ax.set_xlabel(\"Favours Control      Favours Haloperidol       \", fontsize=10)\n",
    "ax.spines['top'].set_visible(False)\n",
    "ax.spines['right'].set_visible(False)\n",
    "ax.spines['bottom'].set_visible(True)\n",
    "ax.spines['left'].set_visible(False)"
   ]
  },
  {
   "cell_type": "code",
   "execution_count": 185,
   "id": "76fcdacc-b7f6-49f2-8d62-608dbc63bd9b",
   "metadata": {},
   "outputs": [
    {
     "data": {
      "image/png": "[encoded data removed]",
      "text/plain": [
       "<Figure size 900x400 with 2 Axes>"
      ]
     },
     "metadata": {},
     "output_type": "display_data"
    }
   ],
   "source": [
    "import matplotlib.image as mpimg\n",
    "import numpy as np\n",
    "import matplotlib.pyplot as plt\n",
    "import zepid\n",
    "from zepid.graphics import EffectMeasurePlot\n",
    "\n",
    "labs = [\"ACA)\",\n",
    "        \"ICA0)\",\n",
    "        \"ICA1)\",\n",
    "        \"ICAb)\",\n",
    "        \"ICAw)\"]\n",
    "measure = [2.09,2.24,1.79,2.71,1.97]\n",
    "lower = [1.49,1.63,1.33,2.00,1.25]\n",
    "upper = [2.92,3.07,2.42,3.66,3.11]\n",
    "p = EffectMeasurePlot(label=labs, effect_measure=measure, lcl=lower, ucl=upper)\n",
    "p.labels(effectmeasure='RR')\n",
    "p.colors(pointshape=\"D\")\n",
    "ax=p.plot(figsize=(9,4), t_adjuster=0.09, max_value=4, min_value=0.35 )\n",
    "plt.title(\"Random Effect Model(Risk Ratio)\",loc=\"right\",x=1, y=1.045)\n",
    "plt.suptitle(\"Missing Data Imputation Method\",x=-0.1,y=0.98)\n",
    "ax.set_xlabel(\"Favours Control      Favours Haloperidol       \", fontsize=10)\n",
    "ax.spines['top'].set_visible(False)\n",
    "ax.spines['right'].set_visible(False)\n",
    "ax.spines['bottom'].set_visible(True)\n",
    "ax.spines['left'].set_visible(False)\n",
    "plt.savefig(\"Missing Data Imputation Method\",bbox_inches='tight')"
   ]
  },
  {
   "cell_type": "code",
   "execution_count": null,
   "id": "76367acc-b361-493d-93ef-b5a0a4ae445e",
   "metadata": {},
   "outputs": [],
   "source": []
  }
 ],
 "metadata": {
  "kernelspec": {
   "display_name": "Python 3 (ipykernel)",
   "language": "python",
   "name": "python3"
  },
  "language_info": {
   "codemirror_mode": {
    "name": "ipython",
    "version": 3
   },
   "file_extension": ".py",
   "mimetype": "text/x-python",
   "name": "python",
   "nbconvert_exporter": "python",
   "pygments_lexer": "ipython3",
   "version": "3.10.9"
  }
 },
 "nbformat": 4,
 "nbformat_minor": 5
}
