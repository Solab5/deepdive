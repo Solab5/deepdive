{
 "cells": [
  {
   "cell_type": "code",
   "execution_count": 1,
   "id": "d831f1e7-5ba3-44e5-a6d2-341593522448",
   "metadata": {},
   "outputs": [],
   "source": [
    "import pandas as pd"
   ]
  },
  {
   "cell_type": "code",
   "execution_count": 2,
   "id": "af55d78c-d4b7-459e-bad5-ba739da289fa",
   "metadata": {},
   "outputs": [],
   "source": [
    "df = pd.read_excel(\"AllSouthWest&Midwest&KaliroCohorts_Yr1.xlsx\", sheet_name='AllMidW&SouthW&Kaliro_Yr1', header=5)"
   ]
  },
  {
   "cell_type": "markdown",
   "id": "b698ecc4-b044-4c96-92e3-aa202ffdecba",
   "metadata": {},
   "source": [
    "## Year One 2022 cohort"
   ]
  },
  {
   "cell_type": "code",
   "execution_count": 3,
   "id": "2db482b0-22ea-4bfc-86ce-e4e21e3b3df8",
   "metadata": {},
   "outputs": [
    {
     "data": {
      "text/html": [
       "<div>\n",
       "<style scoped>\n",
       "    .dataframe tbody tr th:only-of-type {\n",
       "        vertical-align: middle;\n",
       "    }\n",
       "\n",
       "    .dataframe tbody tr th {\n",
       "        vertical-align: top;\n",
       "    }\n",
       "\n",
       "    .dataframe thead th {\n",
       "        text-align: right;\n",
       "    }\n",
       "</style>\n",
       "<table border=\"1\" class=\"dataframe\">\n",
       "  <thead>\n",
       "    <tr style=\"text-align: right;\">\n",
       "      <th></th>\n",
       "      <th>SubmissionDate</th>\n",
       "      <th>starttime</th>\n",
       "      <th>endtime</th>\n",
       "      <th>version</th>\n",
       "      <th>duration</th>\n",
       "      <th>survey_start</th>\n",
       "      <th>intro_start</th>\n",
       "      <th>text_audit</th>\n",
       "      <th>district</th>\n",
       "      <th>Surveyor_Name</th>\n",
       "      <th>...</th>\n",
       "      <th>gs_pen_clean.1</th>\n",
       "      <th>gs_droppings_rem_composted.1</th>\n",
       "      <th>pg_pen_constr.1</th>\n",
       "      <th>pg_pen_clean.1</th>\n",
       "      <th>pg_droppings_rem_composted.1</th>\n",
       "      <th>WASH (%)</th>\n",
       "      <th>AGRIC (%)</th>\n",
       "      <th>Livestock (%)</th>\n",
       "      <th>Household Compliance (%)</th>\n",
       "      <th>Status</th>\n",
       "    </tr>\n",
       "  </thead>\n",
       "  <tbody>\n",
       "    <tr>\n",
       "      <th>0</th>\n",
       "      <td>2023-08-19 07:49:58</td>\n",
       "      <td>2023-08-18 10:50:41</td>\n",
       "      <td>2023-08-18 11:33:03</td>\n",
       "      <td>2308161022</td>\n",
       "      <td>1601</td>\n",
       "      <td>7.0</td>\n",
       "      <td>7.0</td>\n",
       "      <td>https://rtvuganda.surveycto.com/view/submissio...</td>\n",
       "      <td>5</td>\n",
       "      <td>75</td>\n",
       "      <td>...</td>\n",
       "      <td>NaN</td>\n",
       "      <td>NaN</td>\n",
       "      <td>1.0</td>\n",
       "      <td>1.0</td>\n",
       "      <td>1.0</td>\n",
       "      <td>0.944444</td>\n",
       "      <td>0.25</td>\n",
       "      <td>NaN</td>\n",
       "      <td>0.597222</td>\n",
       "      <td>RTV</td>\n",
       "    </tr>\n",
       "    <tr>\n",
       "      <th>1</th>\n",
       "      <td>2023-08-17 19:25:07</td>\n",
       "      <td>2023-08-17 17:04:13</td>\n",
       "      <td>2023-08-17 17:36:33</td>\n",
       "      <td>2308161022</td>\n",
       "      <td>1538</td>\n",
       "      <td>18.0</td>\n",
       "      <td>18.0</td>\n",
       "      <td>https://rtvuganda.surveycto.com/view/submissio...</td>\n",
       "      <td>5</td>\n",
       "      <td>87</td>\n",
       "      <td>...</td>\n",
       "      <td>NaN</td>\n",
       "      <td>NaN</td>\n",
       "      <td>NaN</td>\n",
       "      <td>NaN</td>\n",
       "      <td>NaN</td>\n",
       "      <td>0.750000</td>\n",
       "      <td>0.60</td>\n",
       "      <td>NaN</td>\n",
       "      <td>0.675000</td>\n",
       "      <td>RTV</td>\n",
       "    </tr>\n",
       "    <tr>\n",
       "      <th>2</th>\n",
       "      <td>2023-08-29 19:22:34</td>\n",
       "      <td>2023-08-29 07:06:02</td>\n",
       "      <td>2023-08-29 13:14:22</td>\n",
       "      <td>2308281050</td>\n",
       "      <td>1177</td>\n",
       "      <td>4.0</td>\n",
       "      <td>4.0</td>\n",
       "      <td>https://rtvuganda.surveycto.com/view/submissio...</td>\n",
       "      <td>2</td>\n",
       "      <td>16</td>\n",
       "      <td>...</td>\n",
       "      <td>NaN</td>\n",
       "      <td>NaN</td>\n",
       "      <td>NaN</td>\n",
       "      <td>NaN</td>\n",
       "      <td>NaN</td>\n",
       "      <td>0.812500</td>\n",
       "      <td>0.60</td>\n",
       "      <td>NaN</td>\n",
       "      <td>0.706250</td>\n",
       "      <td>RTV</td>\n",
       "    </tr>\n",
       "    <tr>\n",
       "      <th>3</th>\n",
       "      <td>2023-08-21 18:30:33</td>\n",
       "      <td>2023-08-21 11:47:13</td>\n",
       "      <td>2023-08-21 13:31:06</td>\n",
       "      <td>2308202234</td>\n",
       "      <td>1632</td>\n",
       "      <td>4.0</td>\n",
       "      <td>4.0</td>\n",
       "      <td>https://rtvuganda.surveycto.com/view/submissio...</td>\n",
       "      <td>5</td>\n",
       "      <td>75</td>\n",
       "      <td>...</td>\n",
       "      <td>NaN</td>\n",
       "      <td>NaN</td>\n",
       "      <td>NaN</td>\n",
       "      <td>NaN</td>\n",
       "      <td>NaN</td>\n",
       "      <td>0.777778</td>\n",
       "      <td>0.30</td>\n",
       "      <td>NaN</td>\n",
       "      <td>0.538889</td>\n",
       "      <td>RTV</td>\n",
       "    </tr>\n",
       "    <tr>\n",
       "      <th>4</th>\n",
       "      <td>2023-08-25 20:32:40</td>\n",
       "      <td>2023-08-25 10:00:16</td>\n",
       "      <td>2023-08-25 10:56:06</td>\n",
       "      <td>2308250033</td>\n",
       "      <td>1387</td>\n",
       "      <td>23.0</td>\n",
       "      <td>23.0</td>\n",
       "      <td>https://rtvuganda.surveycto.com/view/submissio...</td>\n",
       "      <td>13</td>\n",
       "      <td>127</td>\n",
       "      <td>...</td>\n",
       "      <td>0.0</td>\n",
       "      <td>0.0</td>\n",
       "      <td>NaN</td>\n",
       "      <td>NaN</td>\n",
       "      <td>NaN</td>\n",
       "      <td>0.597222</td>\n",
       "      <td>0.20</td>\n",
       "      <td>NaN</td>\n",
       "      <td>0.398611</td>\n",
       "      <td>RTV</td>\n",
       "    </tr>\n",
       "  </tbody>\n",
       "</table>\n",
       "<p>5 rows × 5666 columns</p>\n",
       "</div>"
      ],
      "text/plain": [
       "        SubmissionDate            starttime              endtime     version  \\\n",
       "0  2023-08-19 07:49:58  2023-08-18 10:50:41  2023-08-18 11:33:03  2308161022   \n",
       "1  2023-08-17 19:25:07  2023-08-17 17:04:13  2023-08-17 17:36:33  2308161022   \n",
       "2  2023-08-29 19:22:34  2023-08-29 07:06:02  2023-08-29 13:14:22  2308281050   \n",
       "3  2023-08-21 18:30:33  2023-08-21 11:47:13  2023-08-21 13:31:06  2308202234   \n",
       "4  2023-08-25 20:32:40  2023-08-25 10:00:16  2023-08-25 10:56:06  2308250033   \n",
       "\n",
       "   duration  survey_start  intro_start  \\\n",
       "0      1601           7.0          7.0   \n",
       "1      1538          18.0         18.0   \n",
       "2      1177           4.0          4.0   \n",
       "3      1632           4.0          4.0   \n",
       "4      1387          23.0         23.0   \n",
       "\n",
       "                                          text_audit  district  Surveyor_Name  \\\n",
       "0  https://rtvuganda.surveycto.com/view/submissio...         5             75   \n",
       "1  https://rtvuganda.surveycto.com/view/submissio...         5             87   \n",
       "2  https://rtvuganda.surveycto.com/view/submissio...         2             16   \n",
       "3  https://rtvuganda.surveycto.com/view/submissio...         5             75   \n",
       "4  https://rtvuganda.surveycto.com/view/submissio...        13            127   \n",
       "\n",
       "   ... gs_pen_clean.1  gs_droppings_rem_composted.1 pg_pen_constr.1  \\\n",
       "0  ...            NaN                           NaN             1.0   \n",
       "1  ...            NaN                           NaN             NaN   \n",
       "2  ...            NaN                           NaN             NaN   \n",
       "3  ...            NaN                           NaN             NaN   \n",
       "4  ...            0.0                           0.0             NaN   \n",
       "\n",
       "  pg_pen_clean.1 pg_droppings_rem_composted.1  WASH (%) AGRIC (%)  \\\n",
       "0            1.0                          1.0  0.944444      0.25   \n",
       "1            NaN                          NaN  0.750000      0.60   \n",
       "2            NaN                          NaN  0.812500      0.60   \n",
       "3            NaN                          NaN  0.777778      0.30   \n",
       "4            NaN                          NaN  0.597222      0.20   \n",
       "\n",
       "   Livestock (%) Household Compliance (%) Status  \n",
       "0            NaN                 0.597222    RTV  \n",
       "1            NaN                 0.675000    RTV  \n",
       "2            NaN                 0.706250    RTV  \n",
       "3            NaN                 0.538889    RTV  \n",
       "4            NaN                 0.398611    RTV  \n",
       "\n",
       "[5 rows x 5666 columns]"
      ]
     },
     "execution_count": 3,
     "metadata": {},
     "output_type": "execute_result"
    }
   ],
   "source": [
    "df.head()"
   ]
  },
  {
   "cell_type": "code",
   "execution_count": 4,
   "id": "13567778-44ac-4203-956e-2f7b95664944",
   "metadata": {},
   "outputs": [
    {
     "data": {
      "text/plain": [
       "array(['RTV'], dtype=object)"
      ]
     },
     "execution_count": 4,
     "metadata": {},
     "output_type": "execute_result"
    }
   ],
   "source": [
    "df['Status'].unique()"
   ]
  },
  {
   "cell_type": "code",
   "execution_count": 23,
   "id": "6fc0c6c9-a1de-418e-8759-149e1e1354ed",
   "metadata": {},
   "outputs": [],
   "source": [
    "rate = 3600\n",
    "rate_22 = 3700\n",
    "rate_21 = 3800\n",
    "adjusted_cpi_22 = 80.66\n",
    "adjusted_cpi_21 = 83.80"
   ]
  },
  {
   "cell_type": "markdown",
   "id": "a3c6789d-7f9f-43a3-b3bf-c2ca30d85330",
   "metadata": {},
   "source": [
    "## Total savings"
   ]
  },
  {
   "cell_type": "code",
   "execution_count": 24,
   "id": "ab234b6a-d188-4059-b28c-96e8d6678a8d",
   "metadata": {},
   "outputs": [
    {
     "data": {
      "text/plain": [
       "(247110.87085375586, 66.78672185236644)"
      ]
     },
     "execution_count": 24,
     "metadata": {},
     "output_type": "execute_result"
    }
   ],
   "source": [
    "df['Total Savings (Ugx)'].mean(), df['Total Savings (Ugx)'].mean() / rate_22"
   ]
  },
  {
   "cell_type": "code",
   "execution_count": 30,
   "id": "83062eee-fcde-49ba-a2b8-6b36f1a7183f",
   "metadata": {},
   "outputs": [
    {
     "data": {
      "text/plain": [
       "53.87016984611878"
      ]
     },
     "execution_count": 30,
     "metadata": {},
     "output_type": "execute_result"
    }
   ],
   "source": [
    "# Inflationary adjusted\n",
    "(df['Total Savings (Ugx)'].mean() * (adjusted_cpi_22/100)) / rate_22"
   ]
  },
  {
   "cell_type": "code",
   "execution_count": 26,
   "id": "6e1113c4-87d1-4a58-9d8e-716413a18135",
   "metadata": {},
   "outputs": [
    {
     "data": {
      "text/plain": [
       "(278579.24312516063, 75.29168733112449)"
      ]
     },
     "execution_count": 26,
     "metadata": {},
     "output_type": "execute_result"
    }
   ],
   "source": [
    "df.loc[df['Total Savings (Ugx)'] != 0]['Total Savings (Ugx)'].mean(), df.loc[df['Total Savings (Ugx)'] != 0]['Total Savings (Ugx)'].mean()/rate_22"
   ]
  },
  {
   "cell_type": "code",
   "execution_count": 41,
   "id": "029e1238-f168-49d8-aed0-72b91dcf57c4",
   "metadata": {},
   "outputs": [
    {
     "data": {
      "text/plain": [
       "60.730275001285015"
      ]
     },
     "execution_count": 41,
     "metadata": {},
     "output_type": "execute_result"
    }
   ],
   "source": [
    "(df.loc[df['Total Savings (Ugx)'] != 0]['Total Savings (Ugx)'].mean() * (adjusted_cpi_22/100)) / rate_22"
   ]
  },
  {
   "cell_type": "markdown",
   "id": "dfc965e9-a86c-41b9-a27b-d1e75cc67caf",
   "metadata": {},
   "source": [
    "## Percentage of households actively saving"
   ]
  },
  {
   "cell_type": "code",
   "execution_count": 60,
   "id": "45aea2a0-a9d6-4e5d-be9f-7fc71431db27",
   "metadata": {},
   "outputs": [
    {
     "data": {
      "text/plain": [
       "0.8870397811467001"
      ]
     },
     "execution_count": 60,
     "metadata": {},
     "output_type": "execute_result"
    }
   ],
   "source": [
    "percent = (len(df[df['Total Savings (Ugx)'] != 0]) / len(df))\n",
    "percent"
   ]
  },
  {
   "cell_type": "code",
   "execution_count": 25,
   "id": "f3a99b65-8d42-40d0-9daf-d8837f102e75",
   "metadata": {},
   "outputs": [
    {
     "data": {
      "text/plain": [
       "(77656.6183745583, 20.98827523636711)"
      ]
     },
     "execution_count": 25,
     "metadata": {},
     "output_type": "execute_result"
    }
   ],
   "source": [
    "df['Loan Amount (Ugx)'].mean(), df['Loan Amount (Ugx)'].mean() /rate_22"
   ]
  },
  {
   "cell_type": "code",
   "execution_count": 38,
   "id": "91fd0e54-63ad-4e17-a2d4-b8e8d1556614",
   "metadata": {},
   "outputs": [
    {
     "data": {
      "text/plain": [
       "16.929142805653708"
      ]
     },
     "execution_count": 38,
     "metadata": {},
     "output_type": "execute_result"
    }
   ],
   "source": [
    "(df['Loan Amount (Ugx)'].mean() * (adjusted_cpi_22/100))  / rate_22"
   ]
  },
  {
   "cell_type": "code",
   "execution_count": null,
   "id": "d65d32a8-309c-46fc-b511-28c5e1a71a19",
   "metadata": {},
   "outputs": [],
   "source": []
  },
  {
   "cell_type": "code",
   "execution_count": 63,
   "id": "9554208e-3d3b-465a-b357-3428c5d0573b",
   "metadata": {},
   "outputs": [],
   "source": [
    "columns1 = ['bank_loan_remaining',\n",
    "            'sacco_loan_remaining',\n",
    "            'shop_keeper_loan_remaining',\n",
    "            'family_friend_loan_remaining',\n",
    "            'rtv_vsla_loan_remaining',\n",
    "            'other_village_VSLA_loan_remaining',\n",
    "            'money_lender_loan_remaining',\n",
    "            'other_loan_source_loan_remaining']"
   ]
  },
  {
   "cell_type": "code",
   "execution_count": 64,
   "id": "7ae8b497-41c6-4df0-b2e9-e21059546596",
   "metadata": {},
   "outputs": [
    {
     "data": {
      "text/html": [
       "<div>\n",
       "<style scoped>\n",
       "    .dataframe tbody tr th:only-of-type {\n",
       "        vertical-align: middle;\n",
       "    }\n",
       "\n",
       "    .dataframe tbody tr th {\n",
       "        vertical-align: top;\n",
       "    }\n",
       "\n",
       "    .dataframe thead th {\n",
       "        text-align: right;\n",
       "    }\n",
       "</style>\n",
       "<table border=\"1\" class=\"dataframe\">\n",
       "  <thead>\n",
       "    <tr style=\"text-align: right;\">\n",
       "      <th></th>\n",
       "      <th>bank_loan_remaining</th>\n",
       "      <th>sacco_loan_remaining</th>\n",
       "      <th>shop_keeper_loan_remaining</th>\n",
       "      <th>family_friend_loan_remaining</th>\n",
       "      <th>rtv_vsla_loan_remaining</th>\n",
       "      <th>other_village_VSLA_loan_remaining</th>\n",
       "      <th>money_lender_loan_remaining</th>\n",
       "      <th>other_loan_source_loan_remaining</th>\n",
       "    </tr>\n",
       "  </thead>\n",
       "  <tbody>\n",
       "    <tr>\n",
       "      <th>0</th>\n",
       "      <td>NaN</td>\n",
       "      <td>NaN</td>\n",
       "      <td>NaN</td>\n",
       "      <td>NaN</td>\n",
       "      <td>NaN</td>\n",
       "      <td>NaN</td>\n",
       "      <td>NaN</td>\n",
       "      <td>NaN</td>\n",
       "    </tr>\n",
       "    <tr>\n",
       "      <th>1</th>\n",
       "      <td>NaN</td>\n",
       "      <td>NaN</td>\n",
       "      <td>NaN</td>\n",
       "      <td>NaN</td>\n",
       "      <td>NaN</td>\n",
       "      <td>NaN</td>\n",
       "      <td>NaN</td>\n",
       "      <td>NaN</td>\n",
       "    </tr>\n",
       "    <tr>\n",
       "      <th>2</th>\n",
       "      <td>NaN</td>\n",
       "      <td>NaN</td>\n",
       "      <td>NaN</td>\n",
       "      <td>NaN</td>\n",
       "      <td>NaN</td>\n",
       "      <td>NaN</td>\n",
       "      <td>NaN</td>\n",
       "      <td>NaN</td>\n",
       "    </tr>\n",
       "    <tr>\n",
       "      <th>3</th>\n",
       "      <td>NaN</td>\n",
       "      <td>NaN</td>\n",
       "      <td>NaN</td>\n",
       "      <td>NaN</td>\n",
       "      <td>NaN</td>\n",
       "      <td>NaN</td>\n",
       "      <td>NaN</td>\n",
       "      <td>NaN</td>\n",
       "    </tr>\n",
       "    <tr>\n",
       "      <th>4</th>\n",
       "      <td>NaN</td>\n",
       "      <td>NaN</td>\n",
       "      <td>NaN</td>\n",
       "      <td>NaN</td>\n",
       "      <td>NaN</td>\n",
       "      <td>NaN</td>\n",
       "      <td>NaN</td>\n",
       "      <td>NaN</td>\n",
       "    </tr>\n",
       "    <tr>\n",
       "      <th>...</th>\n",
       "      <td>...</td>\n",
       "      <td>...</td>\n",
       "      <td>...</td>\n",
       "      <td>...</td>\n",
       "      <td>...</td>\n",
       "      <td>...</td>\n",
       "      <td>...</td>\n",
       "      <td>...</td>\n",
       "    </tr>\n",
       "    <tr>\n",
       "      <th>8768</th>\n",
       "      <td>NaN</td>\n",
       "      <td>NaN</td>\n",
       "      <td>NaN</td>\n",
       "      <td>NaN</td>\n",
       "      <td>NaN</td>\n",
       "      <td>NaN</td>\n",
       "      <td>NaN</td>\n",
       "      <td>NaN</td>\n",
       "    </tr>\n",
       "    <tr>\n",
       "      <th>8769</th>\n",
       "      <td>NaN</td>\n",
       "      <td>NaN</td>\n",
       "      <td>NaN</td>\n",
       "      <td>NaN</td>\n",
       "      <td>NaN</td>\n",
       "      <td>NaN</td>\n",
       "      <td>NaN</td>\n",
       "      <td>NaN</td>\n",
       "    </tr>\n",
       "    <tr>\n",
       "      <th>8770</th>\n",
       "      <td>NaN</td>\n",
       "      <td>NaN</td>\n",
       "      <td>NaN</td>\n",
       "      <td>NaN</td>\n",
       "      <td>NaN</td>\n",
       "      <td>NaN</td>\n",
       "      <td>NaN</td>\n",
       "      <td>NaN</td>\n",
       "    </tr>\n",
       "    <tr>\n",
       "      <th>8771</th>\n",
       "      <td>NaN</td>\n",
       "      <td>NaN</td>\n",
       "      <td>NaN</td>\n",
       "      <td>NaN</td>\n",
       "      <td>NaN</td>\n",
       "      <td>NaN</td>\n",
       "      <td>NaN</td>\n",
       "      <td>NaN</td>\n",
       "    </tr>\n",
       "    <tr>\n",
       "      <th>8772</th>\n",
       "      <td>NaN</td>\n",
       "      <td>NaN</td>\n",
       "      <td>NaN</td>\n",
       "      <td>NaN</td>\n",
       "      <td>NaN</td>\n",
       "      <td>NaN</td>\n",
       "      <td>NaN</td>\n",
       "      <td>NaN</td>\n",
       "    </tr>\n",
       "  </tbody>\n",
       "</table>\n",
       "<p>8773 rows × 8 columns</p>\n",
       "</div>"
      ],
      "text/plain": [
       "      bank_loan_remaining  sacco_loan_remaining  shop_keeper_loan_remaining  \\\n",
       "0                     NaN                   NaN                         NaN   \n",
       "1                     NaN                   NaN                         NaN   \n",
       "2                     NaN                   NaN                         NaN   \n",
       "3                     NaN                   NaN                         NaN   \n",
       "4                     NaN                   NaN                         NaN   \n",
       "...                   ...                   ...                         ...   \n",
       "8768                  NaN                   NaN                         NaN   \n",
       "8769                  NaN                   NaN                         NaN   \n",
       "8770                  NaN                   NaN                         NaN   \n",
       "8771                  NaN                   NaN                         NaN   \n",
       "8772                  NaN                   NaN                         NaN   \n",
       "\n",
       "      family_friend_loan_remaining  rtv_vsla_loan_remaining  \\\n",
       "0                              NaN                      NaN   \n",
       "1                              NaN                      NaN   \n",
       "2                              NaN                      NaN   \n",
       "3                              NaN                      NaN   \n",
       "4                              NaN                      NaN   \n",
       "...                            ...                      ...   \n",
       "8768                           NaN                      NaN   \n",
       "8769                           NaN                      NaN   \n",
       "8770                           NaN                      NaN   \n",
       "8771                           NaN                      NaN   \n",
       "8772                           NaN                      NaN   \n",
       "\n",
       "      other_village_VSLA_loan_remaining  money_lender_loan_remaining  \\\n",
       "0                                   NaN                          NaN   \n",
       "1                                   NaN                          NaN   \n",
       "2                                   NaN                          NaN   \n",
       "3                                   NaN                          NaN   \n",
       "4                                   NaN                          NaN   \n",
       "...                                 ...                          ...   \n",
       "8768                                NaN                          NaN   \n",
       "8769                                NaN                          NaN   \n",
       "8770                                NaN                          NaN   \n",
       "8771                                NaN                          NaN   \n",
       "8772                                NaN                          NaN   \n",
       "\n",
       "      other_loan_source_loan_remaining  \n",
       "0                                  NaN  \n",
       "1                                  NaN  \n",
       "2                                  NaN  \n",
       "3                                  NaN  \n",
       "4                                  NaN  \n",
       "...                                ...  \n",
       "8768                               NaN  \n",
       "8769                               NaN  \n",
       "8770                               NaN  \n",
       "8771                               NaN  \n",
       "8772                               NaN  \n",
       "\n",
       "[8773 rows x 8 columns]"
      ]
     },
     "execution_count": 64,
     "metadata": {},
     "output_type": "execute_result"
    }
   ],
   "source": [
    "df[columns1]"
   ]
  },
  {
   "cell_type": "code",
   "execution_count": 66,
   "id": "9eb2fef5-f0d8-417d-9670-ed2b5b45f1d9",
   "metadata": {},
   "outputs": [
    {
     "data": {
      "text/plain": [
       "14.776909689045937"
      ]
     },
     "execution_count": 66,
     "metadata": {},
     "output_type": "execute_result"
    }
   ],
   "source": [
    "debt = df[columns1].fillna(0).sum(axis=1).mean() * (adjusted_cpi_22/100)\n",
    "debt / rate_22"
   ]
  },
  {
   "cell_type": "code",
   "execution_count": null,
   "id": "dbd96363-fc24-420b-b5a5-42a69c73c28e",
   "metadata": {},
   "outputs": [],
   "source": []
  },
  {
   "cell_type": "code",
   "execution_count": 58,
   "id": "0406938f-c3a6-4e84-b925-c1e55f8a3d82",
   "metadata": {},
   "outputs": [
    {
     "data": {
      "text/plain": [
       "0.19582810897070557"
      ]
     },
     "execution_count": 58,
     "metadata": {},
     "output_type": "execute_result"
    }
   ],
   "source": [
    "df['borrowed_past_12_months'].mean()"
   ]
  },
  {
   "cell_type": "code",
   "execution_count": null,
   "id": "b9abc82f-f967-41d5-b502-598286c6cd95",
   "metadata": {},
   "outputs": [],
   "source": []
  },
  {
   "cell_type": "markdown",
   "id": "4bedda90-d189-4c13-ac5c-4cde5e5fdace",
   "metadata": {},
   "source": [
    "## Year 1 2021 cohorts"
   ]
  },
  {
   "cell_type": "code",
   "execution_count": 19,
   "id": "b0078218-9387-45c3-bffa-3bf761598d46",
   "metadata": {},
   "outputs": [],
   "source": [
    "df2 = pd.read_excel('All2021Cohorts_merged_outlier managed_copy_2.xlsx', sheet_name='All2021CohortYr1',header=5)"
   ]
  },
  {
   "cell_type": "code",
   "execution_count": 27,
   "id": "041b8d1a-a0d3-4077-8f2b-7561abbf0e1b",
   "metadata": {},
   "outputs": [
    {
     "data": {
      "text/plain": [
       "(153515.16947422153, 40.39872880900567)"
      ]
     },
     "execution_count": 27,
     "metadata": {},
     "output_type": "execute_result"
    }
   ],
   "source": [
    "df2['Total Savings (Ugx)'].mean(), df2['Total Savings (Ugx)'].mean() / rate_21"
   ]
  },
  {
   "cell_type": "code",
   "execution_count": 31,
   "id": "8689f5d2-a14e-4721-bb9d-202041371ae8",
   "metadata": {},
   "outputs": [
    {
     "data": {
      "text/plain": [
       "33.85413474194675"
      ]
     },
     "execution_count": 31,
     "metadata": {},
     "output_type": "execute_result"
    }
   ],
   "source": [
    "# Inflationary adjusted\n",
    "(df2['Total Savings (Ugx)'].mean() * (adjusted_cpi_21/100)) / rate_21"
   ]
  },
  {
   "cell_type": "code",
   "execution_count": 29,
   "id": "43a3c273-ea64-415f-8849-d4f243fa0723",
   "metadata": {},
   "outputs": [
    {
     "data": {
      "text/plain": [
       "(210378.60580622594, 55.362791001638406)"
      ]
     },
     "execution_count": 29,
     "metadata": {},
     "output_type": "execute_result"
    }
   ],
   "source": [
    "df2.loc[df2['Total Savings (Ugx)'] != 0]['Total Savings (Ugx)'].mean(), df2.loc[df2['Total Savings (Ugx)'] != 0]['Total Savings (Ugx)'].mean()/rate_21"
   ]
  },
  {
   "cell_type": "code",
   "execution_count": 33,
   "id": "61af6613-2015-452f-9ee0-02507d916b39",
   "metadata": {},
   "outputs": [
    {
     "data": {
      "text/plain": [
       "46.394018859372984"
      ]
     },
     "execution_count": 33,
     "metadata": {},
     "output_type": "execute_result"
    }
   ],
   "source": [
    "(df2.loc[df2['Total Savings (Ugx)'] != 0]['Total Savings (Ugx)'].mean() * (adjusted_cpi_21/100))/rate_21"
   ]
  },
  {
   "cell_type": "markdown",
   "id": "5bea608d-da6a-423c-acf7-f64c2a4b75d6",
   "metadata": {},
   "source": [
    "## Percentage of households actively saving"
   ]
  },
  {
   "cell_type": "code",
   "execution_count": 59,
   "id": "ce86f6c9-a5dd-4a28-b3a4-bbaee934f06c",
   "metadata": {},
   "outputs": [
    {
     "data": {
      "text/plain": [
       "0.7297090352220521"
      ]
     },
     "execution_count": 59,
     "metadata": {},
     "output_type": "execute_result"
    }
   ],
   "source": [
    "percent = (len(df2[df2['Total Savings (Ugx)'] != 0]) / len(df2))\n",
    "percent"
   ]
  },
  {
   "cell_type": "code",
   "execution_count": 28,
   "id": "4f22a95f-d4d3-4516-9170-c95be6bcf30e",
   "metadata": {},
   "outputs": [
    {
     "data": {
      "text/plain": [
       "(71304.4920877999, 18.764340023105234)"
      ]
     },
     "execution_count": 28,
     "metadata": {},
     "output_type": "execute_result"
    }
   ],
   "source": [
    "df2['Loan Amount (Ugx)'].mean(), df2['Loan Amount (Ugx)'].mean() /rate_21"
   ]
  },
  {
   "cell_type": "code",
   "execution_count": 39,
   "id": "ccbde2a1-74eb-47dd-a531-0df9a7e0998a",
   "metadata": {},
   "outputs": [
    {
     "data": {
      "text/plain": [
       "15.724516939362188"
      ]
     },
     "execution_count": 39,
     "metadata": {},
     "output_type": "execute_result"
    }
   ],
   "source": [
    "(df2['Loan Amount (Ugx)'].mean() * (adjusted_cpi_21/100))  / rate_21"
   ]
  },
  {
   "cell_type": "markdown",
   "id": "caabb1cd-e91d-448c-99df-a18a2081a3d7",
   "metadata": {},
   "source": [
    "## Total outstanding debt"
   ]
  },
  {
   "cell_type": "code",
   "execution_count": 50,
   "id": "b0629809-bd6d-4072-a740-07c4f6fb1d9b",
   "metadata": {},
   "outputs": [],
   "source": [
    "columns =   [\n",
    "            'bank_loan_remaining',\n",
    "            'vsla_loan_remaining', \n",
    "            'mobile_lender_loan_remaining', \n",
    "            'telecom_loan_remaining', \n",
    "            'individual_loan_remaining', \n",
    "            'other_loan_remaining'\n",
    "            ]"
   ]
  },
  {
   "cell_type": "code",
   "execution_count": 46,
   "id": "ccf84ced-29ba-4efc-b39c-60073279bbec",
   "metadata": {},
   "outputs": [],
   "source": [
    "columns = ['bank_loan_remaining',\n",
    "            'saaco_loan_remaining',\n",
    "            'shop_keeper_loan_remaining',\n",
    "            'family_friend_loan_remaining',\n",
    "            'rtv_vsla_loan_remaining',\n",
    "            'other_village_VSLA_loan_remaining',\n",
    "            'money_lender_loan_remaining',\n",
    "            'other_loan_source_loan_remaining']"
   ]
  },
  {
   "cell_type": "code",
   "execution_count": 53,
   "id": "1d2dd767-044f-4bae-95e7-cc89ff19135a",
   "metadata": {},
   "outputs": [
    {
     "data": {
      "text/plain": [
       "7.996839747723059"
      ]
     },
     "execution_count": 53,
     "metadata": {},
     "output_type": "execute_result"
    }
   ],
   "source": [
    "debt = df2[columns].fillna(0).sum(axis=1).mean() * (adjusted_cpi_21/100)\n",
    "debt / rate_21"
   ]
  },
  {
   "cell_type": "code",
   "execution_count": 57,
   "id": "28a6cd52-7b4b-48a4-bb66-c23c81ac6cb6",
   "metadata": {},
   "outputs": [
    {
     "data": {
      "text/plain": [
       "0.17023991832567636"
      ]
     },
     "execution_count": 57,
     "metadata": {},
     "output_type": "execute_result"
    }
   ],
   "source": [
    "df2['Loan_in_the_past_12_months_'].mean()"
   ]
  },
  {
   "cell_type": "code",
   "execution_count": null,
   "id": "93f0ac33-b007-4b1f-899c-1a2115030ef3",
   "metadata": {},
   "outputs": [],
   "source": []
  },
  {
   "cell_type": "code",
   "execution_count": null,
   "id": "3d34cc58-13c6-4ad3-b48a-893bee091e14",
   "metadata": {},
   "outputs": [],
   "source": []
  },
  {
   "cell_type": "code",
   "execution_count": 72,
   "id": "93cc93af-5900-4cc0-8287-e21ba7387a61",
   "metadata": {},
   "outputs": [],
   "source": [
    "import numpy as np"
   ]
  },
  {
   "cell_type": "code",
   "execution_count": 86,
   "id": "4d0e7a10-1179-4634-9333-7ff9cb34df06",
   "metadata": {},
   "outputs": [
    {
     "data": {
      "text/plain": [
       "8773"
      ]
     },
     "execution_count": 86,
     "metadata": {},
     "output_type": "execute_result"
    }
   ],
   "source": [
    "array1 = np.array(df['Total Savings (Ugx)'] * (adjusted_cpi_22/100)/ rate_22)\n",
    "len(array1)"
   ]
  },
  {
   "cell_type": "code",
   "execution_count": 85,
   "id": "c8f44d70-a51b-48b8-ad09-bcb6c6fadcdf",
   "metadata": {},
   "outputs": [
    {
     "data": {
      "text/plain": [
       "3918"
      ]
     },
     "execution_count": 85,
     "metadata": {},
     "output_type": "execute_result"
    }
   ],
   "source": [
    "array2 = np.array(df2['Total Savings (Ugx)'] * (adjusted_cpi_21/100)/ rate_21)\n",
    "len(array2)"
   ]
  },
  {
   "cell_type": "code",
   "execution_count": 87,
   "id": "f713b02b-2a12-4b7c-a72a-4546f5da9af9",
   "metadata": {},
   "outputs": [
    {
     "data": {
      "text/plain": [
       "12691"
      ]
     },
     "execution_count": 87,
     "metadata": {},
     "output_type": "execute_result"
    }
   ],
   "source": [
    "merged_array = np.concatenate([array1, array2])\n",
    "len(merged_array)"
   ]
  },
  {
   "cell_type": "code",
   "execution_count": 88,
   "id": "604519df-47c6-4ecd-9e6c-83e3041d9ef5",
   "metadata": {},
   "outputs": [
    {
     "data": {
      "text/plain": [
       "47.6907651074736"
      ]
     },
     "execution_count": 88,
     "metadata": {},
     "output_type": "execute_result"
    }
   ],
   "source": [
    "merged_array.mean()"
   ]
  },
  {
   "cell_type": "code",
   "execution_count": null,
   "id": "375493ea-d1fb-4390-a6ae-c12cb7990f07",
   "metadata": {},
   "outputs": [],
   "source": []
  },
  {
   "cell_type": "markdown",
   "id": "89c96b62-ff6f-4801-a319-bc8839ade57d",
   "metadata": {},
   "source": [
    "## Active Savings"
   ]
  },
  {
   "cell_type": "code",
   "execution_count": 93,
   "id": "3b709c8d-321e-4d68-8727-094b5b1864ca",
   "metadata": {},
   "outputs": [
    {
     "data": {
      "text/plain": [
       "7782"
      ]
     },
     "execution_count": 93,
     "metadata": {},
     "output_type": "execute_result"
    }
   ],
   "source": [
    "array1 = np.array(df.loc[df['Total Savings (Ugx)'] != 0]['Total Savings (Ugx)'] * (adjusted_cpi_22/100)/ rate_22)\n",
    "len(array1)"
   ]
  },
  {
   "cell_type": "code",
   "execution_count": 95,
   "id": "d2c523c5-a35e-4167-ab64-31a5ca45907d",
   "metadata": {},
   "outputs": [
    {
     "data": {
      "text/plain": [
       "2859"
      ]
     },
     "execution_count": 95,
     "metadata": {},
     "output_type": "execute_result"
    }
   ],
   "source": [
    "array2 = np.array(df2.loc[df2['Total Savings (Ugx)'] != 0]['Total Savings (Ugx)'] * (adjusted_cpi_21/100)/ rate_21)\n",
    "len(array2)"
   ]
  },
  {
   "cell_type": "code",
   "execution_count": 96,
   "id": "2d5ba1ed-0aaf-42a6-8536-422046dc7f87",
   "metadata": {},
   "outputs": [
    {
     "data": {
      "text/plain": [
       "10641"
      ]
     },
     "execution_count": 96,
     "metadata": {},
     "output_type": "execute_result"
    }
   ],
   "source": [
    "merged_array = np.concatenate([array1, array2])\n",
    "len(merged_array)"
   ]
  },
  {
   "cell_type": "code",
   "execution_count": 97,
   "id": "61aed13d-2226-4d4d-920a-a5209aa57e55",
   "metadata": {},
   "outputs": [
    {
     "data": {
      "text/plain": [
       "56.87844187378512"
      ]
     },
     "execution_count": 97,
     "metadata": {},
     "output_type": "execute_result"
    }
   ],
   "source": [
    "merged_array.mean()"
   ]
  },
  {
   "cell_type": "markdown",
   "id": "9a42b2d0-bf13-4474-8131-cea88cbe3bb0",
   "metadata": {},
   "source": [
    "## Loan Amount"
   ]
  },
  {
   "cell_type": "code",
   "execution_count": 89,
   "id": "c2e3c1f7-62f3-4867-bfc2-f5f09af9113e",
   "metadata": {},
   "outputs": [
    {
     "data": {
      "text/plain": [
       "8773"
      ]
     },
     "execution_count": 89,
     "metadata": {},
     "output_type": "execute_result"
    }
   ],
   "source": [
    "array3 = np.array(df['Loan Amount (Ugx)'] * (adjusted_cpi_22/100)/ rate_22)\n",
    "len(array1)"
   ]
  },
  {
   "cell_type": "code",
   "execution_count": 90,
   "id": "15efb0f0-5a20-420d-afe6-f3b0815be3b5",
   "metadata": {},
   "outputs": [
    {
     "data": {
      "text/plain": [
       "3918"
      ]
     },
     "execution_count": 90,
     "metadata": {},
     "output_type": "execute_result"
    }
   ],
   "source": [
    "array4 = np.array(df2['Loan Amount (Ugx)'] * (adjusted_cpi_21/100)/ rate_21)\n",
    "len(array2)"
   ]
  },
  {
   "cell_type": "code",
   "execution_count": 91,
   "id": "4cf3a510-ad30-402b-8018-259c3bbfcf27",
   "metadata": {},
   "outputs": [
    {
     "data": {
      "text/plain": [
       "12691"
      ]
     },
     "execution_count": 91,
     "metadata": {},
     "output_type": "execute_result"
    }
   ],
   "source": [
    "merged_array_1 = np.concatenate([array3, array4])\n",
    "len(merged_array_1)"
   ]
  },
  {
   "cell_type": "code",
   "execution_count": 92,
   "id": "b3b3c87c-f66a-493c-8546-c992ecba915f",
   "metadata": {},
   "outputs": [
    {
     "data": {
      "text/plain": [
       "16.55724743538106"
      ]
     },
     "execution_count": 92,
     "metadata": {},
     "output_type": "execute_result"
    }
   ],
   "source": [
    "merged_array_1.mean()"
   ]
  },
  {
   "cell_type": "code",
   "execution_count": null,
   "id": "65fc96b2-c5db-4be6-9dd5-37d744bec56a",
   "metadata": {},
   "outputs": [],
   "source": []
  }
 ],
 "metadata": {
  "kernelspec": {
   "display_name": "Python 3 (ipykernel)",
   "language": "python",
   "name": "python3"
  },
  "language_info": {
   "codemirror_mode": {
    "name": "ipython",
    "version": 3
   },
   "file_extension": ".py",
   "mimetype": "text/x-python",
   "name": "python",
   "nbconvert_exporter": "python",
   "pygments_lexer": "ipython3",
   "version": "3.10.12"
  }
 },
 "nbformat": 4,
 "nbformat_minor": 5
}
