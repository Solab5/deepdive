{
 "cells": [
  {
   "cell_type": "code",
   "execution_count": 1,
   "id": "2d6e5fb5-3976-4877-a263-6ab5c450e296",
   "metadata": {},
   "outputs": [],
   "source": [
    "from fastai.imports import *"
   ]
  },
  {
   "cell_type": "code",
   "execution_count": 2,
   "id": "34fddb84-9631-4c4d-a7c0-45783aca86a5",
   "metadata": {},
   "outputs": [],
   "source": [
    "df = pd.read_excel('All2021Cohorts_merged_outlier managed_copy_2.xlsx', sheet_name='MergedRTV_Control2021',header=5)"
   ]
  },
  {
   "cell_type": "code",
   "execution_count": 4,
   "id": "1f648114-e487-4b1c-9532-b41fd5b6d45b",
   "metadata": {},
   "outputs": [],
   "source": [
    "df['new_status'] = np.where(df['Status'] == 'PEER', 'PEER', \n",
    "                            np.where(df['Status'] == 'RTV', \n",
    "                                    np.where(df['save_mode_7'] == 1, \n",
    "                                    'RTV_vsla', 'RTV_nonvsla'), \n",
    "                                    df['Status']))"
   ]
  },
  {
   "cell_type": "code",
   "execution_count": 6,
   "id": "8db9a41b-b38e-4318-826c-a728970ae118",
   "metadata": {},
   "outputs": [],
   "source": [
    "peer = df[df['Status']=='PEER']\n",
    "rtv = df[df['Status']=='RTV']"
   ]
  },
  {
   "cell_type": "code",
   "execution_count": 7,
   "id": "c5be8081-bd56-4753-a76a-fbe3bb58ae2f",
   "metadata": {},
   "outputs": [
    {
     "data": {
      "text/plain": [
       "Status\n",
       "RTV     3897\n",
       "PEER    1899\n",
       "Name: count, dtype: int64"
      ]
     },
     "execution_count": 7,
     "metadata": {},
     "output_type": "execute_result"
    }
   ],
   "source": [
    "df.Status.value_counts()"
   ]
  },
  {
   "cell_type": "code",
   "execution_count": 11,
   "id": "ab99247d-8ad6-4139-ad66-492a579427ef",
   "metadata": {},
   "outputs": [
    {
     "data": {
      "text/html": [
       "<div>\n",
       "<style scoped>\n",
       "    .dataframe tbody tr th:only-of-type {\n",
       "        vertical-align: middle;\n",
       "    }\n",
       "\n",
       "    .dataframe tbody tr th {\n",
       "        vertical-align: top;\n",
       "    }\n",
       "\n",
       "    .dataframe thead th {\n",
       "        text-align: right;\n",
       "    }\n",
       "</style>\n",
       "<table border=\"1\" class=\"dataframe\">\n",
       "  <thead>\n",
       "    <tr style=\"text-align: right;\">\n",
       "      <th>Status</th>\n",
       "      <th>PEER</th>\n",
       "      <th>RTV</th>\n",
       "    </tr>\n",
       "  </thead>\n",
       "  <tbody>\n",
       "    <tr>\n",
       "      <th>water_distance_collect_water_round_trip</th>\n",
       "      <td>1.981587</td>\n",
       "      <td>1.221638</td>\n",
       "    </tr>\n",
       "    <tr>\n",
       "      <th>hh_water_collection_Minutes</th>\n",
       "      <td>52.885624</td>\n",
       "      <td>33.443318</td>\n",
       "    </tr>\n",
       "  </tbody>\n",
       "</table>\n",
       "</div>"
      ],
      "text/plain": [
       "Status                                        PEER        RTV\n",
       "water_distance_collect_water_round_trip   1.981587   1.221638\n",
       "hh_water_collection_Minutes              52.885624  33.443318"
      ]
     },
     "execution_count": 11,
     "metadata": {},
     "output_type": "execute_result"
    }
   ],
   "source": [
    "df.groupby('Status')[['water_distance_collect_water_round_trip','hh_water_collection_Minutes']].mean().transpose()"
   ]
  },
  {
   "cell_type": "raw",
   "id": "bfbfd80b-432a-4321-a49a-2bb5186d3aee",
   "metadata": {},
   "source": [
    "1\tProtected Spring\n",
    "2\tBorehole\n",
    "3\tGravity Flow\n",
    "4\tTap\n",
    "5\tShallow well/Deep well\n",
    "6\tPond/Swamp\n",
    "7\tPuddles\n",
    "8\tUnprotected Spring/well\n",
    "9\tRiver/Lake\n",
    "97\tOther"
   ]
  },
  {
   "cell_type": "code",
   "execution_count": 19,
   "id": "c7a78277-c407-478c-aa9d-eb8ddf207bd0",
   "metadata": {},
   "outputs": [
    {
     "data": {
      "text/html": [
       "<div>\n",
       "<style scoped>\n",
       "    .dataframe tbody tr th:only-of-type {\n",
       "        vertical-align: middle;\n",
       "    }\n",
       "\n",
       "    .dataframe tbody tr th {\n",
       "        vertical-align: top;\n",
       "    }\n",
       "\n",
       "    .dataframe thead th {\n",
       "        text-align: right;\n",
       "    }\n",
       "</style>\n",
       "<table border=\"1\" class=\"dataframe\">\n",
       "  <thead>\n",
       "    <tr style=\"text-align: right;\">\n",
       "      <th>Status</th>\n",
       "      <th>PEER</th>\n",
       "      <th>RTV</th>\n",
       "    </tr>\n",
       "    <tr>\n",
       "      <th>Main_source_of_water_for_consumption</th>\n",
       "      <th></th>\n",
       "      <th></th>\n",
       "    </tr>\n",
       "  </thead>\n",
       "  <tbody>\n",
       "    <tr>\n",
       "      <th>1</th>\n",
       "      <td>35.545024</td>\n",
       "      <td>34.744675</td>\n",
       "    </tr>\n",
       "    <tr>\n",
       "      <th>2</th>\n",
       "      <td>5.318589</td>\n",
       "      <td>10.957147</td>\n",
       "    </tr>\n",
       "    <tr>\n",
       "      <th>3</th>\n",
       "      <td>3.264876</td>\n",
       "      <td>2.745702</td>\n",
       "    </tr>\n",
       "    <tr>\n",
       "      <th>4</th>\n",
       "      <td>8.636124</td>\n",
       "      <td>17.885553</td>\n",
       "    </tr>\n",
       "    <tr>\n",
       "      <th>5</th>\n",
       "      <td>12.322275</td>\n",
       "      <td>8.929946</td>\n",
       "    </tr>\n",
       "    <tr>\n",
       "      <th>6</th>\n",
       "      <td>5.687204</td>\n",
       "      <td>1.667950</td>\n",
       "    </tr>\n",
       "    <tr>\n",
       "      <th>7</th>\n",
       "      <td>0.842549</td>\n",
       "      <td>0.461894</td>\n",
       "    </tr>\n",
       "    <tr>\n",
       "      <th>8</th>\n",
       "      <td>19.220642</td>\n",
       "      <td>12.394149</td>\n",
       "    </tr>\n",
       "    <tr>\n",
       "      <th>9</th>\n",
       "      <td>8.004213</td>\n",
       "      <td>8.288427</td>\n",
       "    </tr>\n",
       "    <tr>\n",
       "      <th>97</th>\n",
       "      <td>1.158504</td>\n",
       "      <td>1.924557</td>\n",
       "    </tr>\n",
       "  </tbody>\n",
       "</table>\n",
       "</div>"
      ],
      "text/plain": [
       "Status                                     PEER        RTV\n",
       "Main_source_of_water_for_consumption                      \n",
       "1                                     35.545024  34.744675\n",
       "2                                      5.318589  10.957147\n",
       "3                                      3.264876   2.745702\n",
       "4                                      8.636124  17.885553\n",
       "5                                     12.322275   8.929946\n",
       "6                                      5.687204   1.667950\n",
       "7                                      0.842549   0.461894\n",
       "8                                     19.220642  12.394149\n",
       "9                                      8.004213   8.288427\n",
       "97                                     1.158504   1.924557"
      ]
     },
     "execution_count": 19,
     "metadata": {},
     "output_type": "execute_result"
    }
   ],
   "source": [
    "(df.groupby('Status')['Main_source_of_water_for_consumption'].value_counts(normalize=True)*100).unstack().transpose()"
   ]
  },
  {
   "cell_type": "code",
   "execution_count": null,
   "id": "a6c2fa7b-598d-4e82-a7fe-7bb89122cf61",
   "metadata": {},
   "outputs": [],
   "source": []
  },
  {
   "cell_type": "markdown",
   "id": "f796c40f-9ff5-4b7d-b453-861979e35d62",
   "metadata": {},
   "source": [
    "## Baseline"
   ]
  },
  {
   "cell_type": "code",
   "execution_count": 20,
   "id": "e36defd1-f9eb-4037-9d6c-1e27d13f91d3",
   "metadata": {},
   "outputs": [],
   "source": [
    "peer_cont = pd.read_excel('All2021Cohorts_merged_outlier managed_copy_2.xlsx', sheet_name='All2021ControlBaseline',header=5)\n",
    "rtv_cont = pd.read_excel('All2021Cohorts_merged_outlier managed_copy_2.xlsx', sheet_name='All2021CohortBaseline',header=5)"
   ]
  },
  {
   "cell_type": "code",
   "execution_count": 25,
   "id": "005bacfb-c6d6-459b-80af-5c50ef86b4ce",
   "metadata": {},
   "outputs": [
    {
     "data": {
      "text/plain": [
       "Distance_Travelled_to_Collect_Water_Round_Trip      0.938618\n",
       "Time_to_collect_Water_for_Household_use_Minutes    40.549315\n",
       "Number_of_Daily_Trips_to_collect_Water              2.446978\n",
       "dtype: float64"
      ]
     },
     "execution_count": 25,
     "metadata": {},
     "output_type": "execute_result"
    }
   ],
   "source": [
    "peer_cont[['Distance_Travelled_to_Collect_Water_Round_Trip', \n",
    "          'Time_to_collect_Water_for_Household_use_Minutes',\n",
    "          'Number_of_Daily_Trips_to_collect_Water']].mean()"
   ]
  },
  {
   "cell_type": "code",
   "execution_count": 31,
   "id": "2d242ab6-6616-4484-a278-6eaf71c57650",
   "metadata": {},
   "outputs": [
    {
     "data": {
      "text/plain": [
       "Distance_Travelled_to_Collect_Water                 0.931958\n",
       "Time_to_collect_Water_for_Household_use_Minutes    45.663354\n",
       "Number_of_Daily_Trips_to_collect_Water              2.319944\n",
       "dtype: float64"
      ]
     },
     "execution_count": 31,
     "metadata": {},
     "output_type": "execute_result"
    }
   ],
   "source": [
    "rtv_cont[['Distance_Travelled_to_Collect_Water',\n",
    "          'Time_to_collect_Water_for_Household_use_Minutes',\n",
    "          'Number_of_Daily_Trips_to_collect_Water']].mean()"
   ]
  },
  {
   "cell_type": "code",
   "execution_count": null,
   "id": "aefe8984-d98a-4640-8712-4eb7e1fac044",
   "metadata": {},
   "outputs": [],
   "source": []
  }
 ],
 "metadata": {
  "kernelspec": {
   "display_name": "Python 3 (ipykernel)",
   "language": "python",
   "name": "python3"
  },
  "language_info": {
   "codemirror_mode": {
    "name": "ipython",
    "version": 3
   },
   "file_extension": ".py",
   "mimetype": "text/x-python",
   "name": "python",
   "nbconvert_exporter": "python",
   "pygments_lexer": "ipython3",
   "version": "3.10.12"
  }
 },
 "nbformat": 4,
 "nbformat_minor": 5
}
