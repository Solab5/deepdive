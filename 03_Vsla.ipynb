{
 "cells": [
  {
   "cell_type": "code",
   "execution_count": 1,
   "id": "212be6e2-acf3-4835-b144-5468914a49fb",
   "metadata": {},
   "outputs": [],
   "source": [
    "from fastai.imports import *"
   ]
  },
  {
   "cell_type": "code",
   "execution_count": 2,
   "id": "dbabaa4b-26e1-4c58-aad1-188318d14b50",
   "metadata": {},
   "outputs": [],
   "source": [
    "from scipy.stats import f_oneway"
   ]
  },
  {
   "cell_type": "code",
   "execution_count": 3,
   "id": "8e9b3263-3810-4d4e-83c1-a13800fb1c3e",
   "metadata": {},
   "outputs": [],
   "source": [
    "peer = pd.read_excel('All2021Cohorts_merged_outlier managed_copy_2.xlsx', sheet_name='All2021ControlBaseline',header=5)\n",
    "rtv = pd.read_excel('All2021Cohorts_merged_outlier managed_copy_2.xlsx', sheet_name='All2021CohortBaseline',header=5)"
   ]
  },
  {
   "cell_type": "code",
   "execution_count": 4,
   "id": "8b559375-3c08-4ddf-8373-d04efabf0935",
   "metadata": {},
   "outputs": [
    {
     "data": {
      "text/plain": [
       "((1241, 4277), (1419, 6725))"
      ]
     },
     "execution_count": 4,
     "metadata": {},
     "output_type": "execute_result"
    }
   ],
   "source": [
    "peer.shape, rtv.shape"
   ]
  },
  {
   "cell_type": "code",
   "execution_count": 5,
   "id": "6e1cb3fe-8873-43dc-b8d0-975a203a8f26",
   "metadata": {},
   "outputs": [],
   "source": [
    "adjusted_cpi = 90.42"
   ]
  },
  {
   "cell_type": "markdown",
   "id": "a3321c36-1010-4cce-8402-9f5742a03b61",
   "metadata": {},
   "source": [
    "## Savings / Loans"
   ]
  },
  {
   "cell_type": "code",
   "execution_count": 6,
   "id": "66b3c4dd-199c-4b46-a8a7-995393a97731",
   "metadata": {},
   "outputs": [
    {
     "data": {
      "text/plain": [
       "mean      150733.938223\n",
       "median     36168.000000\n",
       "Name: Total Savings (Ugx), dtype: float64"
      ]
     },
     "execution_count": 6,
     "metadata": {},
     "output_type": "execute_result"
    }
   ],
   "source": [
    "peer['Total Savings (Ugx)'].agg(['mean','median']) * (adjusted_cpi/100)"
   ]
  },
  {
   "cell_type": "code",
   "execution_count": 7,
   "id": "79a86277-1282-4048-b866-ffa59ce82c05",
   "metadata": {},
   "outputs": [
    {
     "data": {
      "text/plain": [
       "mean      179267.668332\n",
       "median         0.000000\n",
       "Name: Loan Amount (Ugx), dtype: float64"
      ]
     },
     "execution_count": 7,
     "metadata": {},
     "output_type": "execute_result"
    }
   ],
   "source": [
    "peer['Loan Amount (Ugx)'].agg(['mean','median']) * (adjusted_cpi/100)"
   ]
  },
  {
   "cell_type": "markdown",
   "id": "c10e3a22-be19-4dad-811d-ed1f42e874cd",
   "metadata": {},
   "source": [
    "## Percentage of household active"
   ]
  },
  {
   "cell_type": "code",
   "execution_count": 8,
   "id": "eeb8ea35-8b94-432e-b2be-92df433d0159",
   "metadata": {},
   "outputs": [
    {
     "data": {
      "text/plain": [
       "69.78243352135375"
      ]
     },
     "execution_count": 8,
     "metadata": {},
     "output_type": "execute_result"
    }
   ],
   "source": [
    "percent = (len(peer[peer['Total Savings (Ugx)'] != 0]) / len(peer)) * 100\n",
    "percent"
   ]
  },
  {
   "cell_type": "code",
   "execution_count": 19,
   "id": "0a51f908-4778-4f78-ae34-b15d29a02fdf",
   "metadata": {},
   "outputs": [
    {
     "data": {
      "text/plain": [
       "216005.56274203234"
      ]
     },
     "execution_count": 19,
     "metadata": {},
     "output_type": "execute_result"
    }
   ],
   "source": [
    "# Total savings for households actively saving.\n",
    "peer.loc[peer['Total Savings (Ugx)'] != 0]['Total Savings (Ugx)'].mean() * (adjusted_cpi/100)"
   ]
  },
  {
   "cell_type": "markdown",
   "id": "4a7e2bdf-f13d-4cd7-97fe-dae13b745579",
   "metadata": {},
   "source": [
    "## Total Outstanding Data"
   ]
  },
  {
   "cell_type": "code",
   "execution_count": 9,
   "id": "28d59cd1-1cd2-4323-b883-22b5b24e3e7e",
   "metadata": {},
   "outputs": [],
   "source": [
    "Total_outstanding_debt = peer['loan_remaining'].fillna(0).mean()"
   ]
  },
  {
   "cell_type": "code",
   "execution_count": 10,
   "id": "afc2f28e-dc8d-4d6e-9643-9d279c5da2fa",
   "metadata": {},
   "outputs": [
    {
     "data": {
      "text/plain": [
       "124793.00707832394"
      ]
     },
     "execution_count": 10,
     "metadata": {},
     "output_type": "execute_result"
    }
   ],
   "source": [
    "Total_outstanding_debt * (adjusted_cpi/100)"
   ]
  },
  {
   "cell_type": "markdown",
   "id": "e54beb3d-2ba3-40d2-b058-d6f8ae8c2a5b",
   "metadata": {},
   "source": [
    "### Loan in the first 12 months"
   ]
  },
  {
   "cell_type": "code",
   "execution_count": 11,
   "id": "4dfaabe4-9e4c-409f-a3d2-0646ec46f3b4",
   "metadata": {},
   "outputs": [
    {
     "data": {
      "text/plain": [
       "Loan_in_the_past_12_months_\n",
       "0    76.873489\n",
       "1    23.126511\n",
       "Name: proportion, dtype: float64"
      ]
     },
     "execution_count": 11,
     "metadata": {},
     "output_type": "execute_result"
    }
   ],
   "source": [
    "peer['Loan_in_the_past_12_months_'].value_counts(normalize=True)*100"
   ]
  },
  {
   "cell_type": "code",
   "execution_count": 20,
   "id": "0f92e050-5754-4fb7-8742-ce9ce3cdf7b7",
   "metadata": {},
   "outputs": [
    {
     "data": {
      "text/plain": [
       "mean      775160.89338\n",
       "median    271260.00000\n",
       "Name: Loan Amount (Ugx), dtype: float64"
      ]
     },
     "execution_count": 20,
     "metadata": {},
     "output_type": "execute_result"
    }
   ],
   "source": [
    "subset = peer[peer['Loan_in_the_past_12_months_'] ==1]\n",
    "subset['Loan Amount (Ugx)'].agg(['mean','median']) * (adjusted_cpi/100)"
   ]
  },
  {
   "cell_type": "markdown",
   "id": "ed1e4bac-15d1-451a-be30-06940d434bc7",
   "metadata": {},
   "source": [
    "### Interest Rate"
   ]
  },
  {
   "cell_type": "code",
   "execution_count": 12,
   "id": "cba85442-9343-4c81-bc88-e7f3859cb499",
   "metadata": {},
   "outputs": [
    {
     "data": {
      "text/plain": [
       "mean      5.457626\n",
       "median    5.000000\n",
       "Name: Interest, dtype: float64"
      ]
     },
     "execution_count": 12,
     "metadata": {},
     "output_type": "execute_result"
    }
   ],
   "source": [
    "peer[peer['Interest'] != 0.]['Interest'].agg(['mean', 'median'])"
   ]
  },
  {
   "cell_type": "markdown",
   "id": "0bea28a3-daaa-4675-8d36-ec319b1efc0e",
   "metadata": {},
   "source": [
    "# Income Earnings and Asssets"
   ]
  },
  {
   "cell_type": "code",
   "execution_count": 13,
   "id": "27545525-908e-4266-9c3a-4162449138dc",
   "metadata": {},
   "outputs": [],
   "source": [
    "peer['Seasonal  Agriculture Value (USD_Cons_rate)'] = peer[['Season 1 Agriculture Value (USD_Cons_rate)','Season 2 Agriculture Value (USD_Cons_rate)']].sum(axis=1)"
   ]
  },
  {
   "cell_type": "code",
   "execution_count": 18,
   "id": "6af64e7e-58e0-4562-aca9-85d81f4f5aab",
   "metadata": {},
   "outputs": [
    {
     "data": {
      "text/html": [
       "<div>\n",
       "<style scoped>\n",
       "    .dataframe tbody tr th:only-of-type {\n",
       "        vertical-align: middle;\n",
       "    }\n",
       "\n",
       "    .dataframe tbody tr th {\n",
       "        vertical-align: top;\n",
       "    }\n",
       "\n",
       "    .dataframe thead th {\n",
       "        text-align: right;\n",
       "    }\n",
       "</style>\n",
       "<table border=\"1\" class=\"dataframe\">\n",
       "  <thead>\n",
       "    <tr style=\"text-align: right;\">\n",
       "      <th></th>\n",
       "      <th>Personal Business &amp; Self Employment (USD_Cons_rate)</th>\n",
       "      <th>Seasonal Crops Income (USD_Cons_rate)</th>\n",
       "      <th>Seasonal  Agriculture Value (USD_Cons_rate)</th>\n",
       "      <th>Livestock Income (USD_Cons_rate)</th>\n",
       "      <th>Livestock Asset Value(USD_Cons_rate)</th>\n",
       "      <th>HH Income(USD_Cons_rate)</th>\n",
       "      <th>HH Income + Consumption + Residues(USD_Cons_rate)</th>\n",
       "      <th>HH Income(USD_Cons_rate)/Day</th>\n",
       "      <th>HH Income + Consumption + Residues(USD_Cons_rate)/Day</th>\n",
       "    </tr>\n",
       "  </thead>\n",
       "  <tbody>\n",
       "    <tr>\n",
       "      <th>mean</th>\n",
       "      <td>30.459171</td>\n",
       "      <td>33.892078</td>\n",
       "      <td>112.020685</td>\n",
       "      <td>17.078301</td>\n",
       "      <td>124.781455</td>\n",
       "      <td>305.803759</td>\n",
       "      <td>535.901593</td>\n",
       "      <td>0.837819</td>\n",
       "      <td>1.468224</td>\n",
       "    </tr>\n",
       "  </tbody>\n",
       "</table>\n",
       "</div>"
      ],
      "text/plain": [
       "      Personal Business & Self Employment (USD_Cons_rate)  \\\n",
       "mean                                            30.459171   \n",
       "\n",
       "      Seasonal Crops Income (USD_Cons_rate)  \\\n",
       "mean                              33.892078   \n",
       "\n",
       "      Seasonal  Agriculture Value (USD_Cons_rate)  \\\n",
       "mean                                   112.020685   \n",
       "\n",
       "      Livestock Income (USD_Cons_rate)  Livestock Asset Value(USD_Cons_rate)  \\\n",
       "mean                         17.078301                            124.781455   \n",
       "\n",
       "      HH Income(USD_Cons_rate)  \\\n",
       "mean                305.803759   \n",
       "\n",
       "      HH Income + Consumption + Residues(USD_Cons_rate)  \\\n",
       "mean                                         535.901593   \n",
       "\n",
       "      HH Income(USD_Cons_rate)/Day  \\\n",
       "mean                      0.837819   \n",
       "\n",
       "      HH Income + Consumption + Residues(USD_Cons_rate)/Day  \n",
       "mean                                               1.468224  "
      ]
     },
     "execution_count": 18,
     "metadata": {},
     "output_type": "execute_result"
    }
   ],
   "source": [
    "peer[[\n",
    "    'Personal Business & Self Employment (USD_Cons_rate)',\n",
    "    'Seasonal Crops Income (USD_Cons_rate)',\n",
    "    'Seasonal  Agriculture Value (USD_Cons_rate)',\n",
    "    'Livestock Income (USD_Cons_rate)',\n",
    "    'Livestock Asset Value(USD_Cons_rate)',\n",
    "    'HH Income(USD_Cons_rate)',\n",
    "    'HH Income + Consumption + Residues(USD_Cons_rate)',\n",
    "    'HH Income(USD_Cons_rate)/Day',\n",
    "    'HH Income + Consumption + Residues(USD_Cons_rate)/Day'\n",
    "]].agg(['mean'])"
   ]
  },
  {
   "cell_type": "markdown",
   "id": "acbab0b8-6a13-4ad9-8063-e8d14bf1f44d",
   "metadata": {},
   "source": [
    "## Purpose of the Loan"
   ]
  },
  {
   "cell_type": "raw",
   "id": "95c44873-4893-4496-bf5d-5f54b1534463",
   "metadata": {},
   "source": [
    "1\tSchool Fees\n",
    "2\tHome Construction\n",
    "3\tFor Business\n",
    "4\tagriculture\n",
    "5\tmedicine/sickness\n",
    "6\tTo cover other loans/debts\n",
    "97\tOther97\tOthers"
   ]
  },
  {
   "cell_type": "code",
   "execution_count": 21,
   "id": "259a8490-ad4d-4db5-8fa0-ad6dc7432e3b",
   "metadata": {},
   "outputs": [
    {
     "data": {
      "text/plain": [
       "Purpose_for_Borrowing\n",
       "1.0     20.209059\n",
       "4.0     18.466899\n",
       "5.0     17.770035\n",
       "3.0     17.073171\n",
       "97.0    10.452962\n",
       "2.0      9.059233\n",
       "6.0      6.968641\n",
       "Name: proportion, dtype: float64"
      ]
     },
     "execution_count": 21,
     "metadata": {},
     "output_type": "execute_result"
    }
   ],
   "source": [
    "peer['Purpose_for_Borrowing'].value_counts(normalize=True)*100"
   ]
  },
  {
   "cell_type": "markdown",
   "id": "181e64a7-e4f7-4678-b72a-beaa62fee3cf",
   "metadata": {},
   "source": [
    "## Loan Sources"
   ]
  },
  {
   "cell_type": "raw",
   "id": "e0e2c73a-c15f-46f8-83fc-b768e71cb006",
   "metadata": {},
   "source": [
    "1\tBank Account\n",
    "2\tSavings and Credit Cooperatives (SACCO)\n",
    "3\tMobile Money\n",
    "4\tVillage Saving Groups\n",
    "5\tIndividuals\n",
    "97\tOthero savings"
   ]
  },
  {
   "cell_type": "code",
   "execution_count": 22,
   "id": "561af738-d98f-4e09-bbe8-1dd038a9b372",
   "metadata": {},
   "outputs": [
    {
     "data": {
      "text/plain": [
       "Loan_from\n",
       "4       59.581882\n",
       "2       18.815331\n",
       "5        9.059233\n",
       "1        7.665505\n",
       "4 5      1.742160\n",
       "97       1.393728\n",
       "4 97     0.696864\n",
       "2 4      0.696864\n",
       "1 4      0.348432\n",
       "Name: proportion, dtype: float64"
      ]
     },
     "execution_count": 22,
     "metadata": {},
     "output_type": "execute_result"
    }
   ],
   "source": [
    "peer['Loan_from'].value_counts(normalize=True) * 100"
   ]
  },
  {
   "cell_type": "code",
   "execution_count": 23,
   "id": "d0f04154-8fff-4f6a-b1ac-73515d3d92e9",
   "metadata": {},
   "outputs": [
    {
     "data": {
      "text/plain": [
       "Loan_from_1\n",
       "0.0    91.986063\n",
       "1.0     8.013937\n",
       "Name: proportion, dtype: float64"
      ]
     },
     "execution_count": 23,
     "metadata": {},
     "output_type": "execute_result"
    }
   ],
   "source": [
    "peer['Loan_from_1'].value_counts(normalize=True)*100"
   ]
  },
  {
   "cell_type": "code",
   "execution_count": 24,
   "id": "10d3487b-c423-496e-8910-11a23a414a5e",
   "metadata": {},
   "outputs": [
    {
     "data": {
      "text/plain": [
       "Loan_from_2\n",
       "0.0    80.487805\n",
       "1.0    19.512195\n",
       "Name: proportion, dtype: float64"
      ]
     },
     "execution_count": 24,
     "metadata": {},
     "output_type": "execute_result"
    }
   ],
   "source": [
    "peer['Loan_from_2'].value_counts(normalize=True)*100"
   ]
  },
  {
   "cell_type": "code",
   "execution_count": 25,
   "id": "d0b50a9f-ba96-48d1-9fed-9fde5739231a",
   "metadata": {},
   "outputs": [
    {
     "data": {
      "text/plain": [
       "Loan_from_4\n",
       "1.0    63.066202\n",
       "0.0    36.933798\n",
       "Name: proportion, dtype: float64"
      ]
     },
     "execution_count": 25,
     "metadata": {},
     "output_type": "execute_result"
    }
   ],
   "source": [
    "peer['Loan_from_4'].value_counts(normalize=True)*100"
   ]
  },
  {
   "cell_type": "code",
   "execution_count": 26,
   "id": "cf95abf2-48b2-42ee-9a07-bd8f32c1f18c",
   "metadata": {},
   "outputs": [
    {
     "data": {
      "text/plain": [
       "Loan_from_3\n",
       "0.0    100.0\n",
       "Name: proportion, dtype: float64"
      ]
     },
     "execution_count": 26,
     "metadata": {},
     "output_type": "execute_result"
    }
   ],
   "source": [
    "peer['Loan_from_3'].value_counts(normalize=True)*100"
   ]
  },
  {
   "cell_type": "code",
   "execution_count": null,
   "id": "ac214b2e-70bf-4205-b6cb-d9c90e10c176",
   "metadata": {},
   "outputs": [],
   "source": []
  },
  {
   "cell_type": "markdown",
   "id": "5e3ec5fb-4a2e-464b-9185-0765e5cd6829",
   "metadata": {},
   "source": [
    "## Interests Rates"
   ]
  },
  {
   "cell_type": "code",
   "execution_count": null,
   "id": "8dc88954-bd33-4e38-9eb7-49b68cb330ba",
   "metadata": {},
   "outputs": [],
   "source": [
    "# Banks\n",
    "peer[peer['Loan_from_1'] == 1.0]['Interest'].agg(['mean', 'median'])"
   ]
  },
  {
   "cell_type": "code",
   "execution_count": null,
   "id": "d0647b37-faeb-460a-ab38-4aa961253f85",
   "metadata": {},
   "outputs": [],
   "source": [
    "# SACCO\n",
    "peer[peer['Loan_from_2'] == 1.0]['Interest'].agg(['mean', 'median'])"
   ]
  },
  {
   "cell_type": "code",
   "execution_count": null,
   "id": "bca30477-8c20-4c8b-a374-07540638b668",
   "metadata": {},
   "outputs": [],
   "source": [
    "# Village Savings Group\n",
    "peer[peer['Loan_from_4'] == 1.0]['Interest'].agg(['mean', 'median'])"
   ]
  },
  {
   "cell_type": "code",
   "execution_count": null,
   "id": "0dd9d915-d59d-412b-beb9-2d58d886d2d4",
   "metadata": {},
   "outputs": [],
   "source": []
  },
  {
   "cell_type": "code",
   "execution_count": null,
   "id": "7b4bb153-9454-4a3b-808c-09494b673467",
   "metadata": {},
   "outputs": [],
   "source": [
    "# Banks\n",
    "rtv[rtv['Loan_from_1'] == 1.0]['What_was_the_rate_of_interest'].fillna(0).agg(['mean', 'median'])"
   ]
  },
  {
   "cell_type": "code",
   "execution_count": null,
   "id": "d75645f3-2f22-4e02-9802-c46ebf2561df",
   "metadata": {},
   "outputs": [],
   "source": [
    "# SACCO\n",
    "rtv[rtv['Loan_from_2'] == 1.0]['What_was_the_rate_of_interest'].fillna(0).agg(['mean', 'median'])"
   ]
  },
  {
   "cell_type": "code",
   "execution_count": null,
   "id": "4abcf4b3-8754-497d-9cde-1792afff08fb",
   "metadata": {},
   "outputs": [],
   "source": [
    "# Village Savings Group\n",
    "rtv[rtv['Loan_from_4'] == 1.0]['What_was_the_rate_of_interest'].fillna(0).agg(['mean', 'median'])"
   ]
  },
  {
   "cell_type": "code",
   "execution_count": null,
   "id": "38a456b5-1f4f-48ba-8ab2-4689053f2bcb",
   "metadata": {},
   "outputs": [],
   "source": []
  }
 ],
 "metadata": {
  "kernelspec": {
   "display_name": "Python 3 (ipykernel)",
   "language": "python",
   "name": "python3"
  },
  "language_info": {
   "codemirror_mode": {
    "name": "ipython",
    "version": 3
   },
   "file_extension": ".py",
   "mimetype": "text/x-python",
   "name": "python",
   "nbconvert_exporter": "python",
   "pygments_lexer": "ipython3",
   "version": "3.10.12"
  }
 },
 "nbformat": 4,
 "nbformat_minor": 5
}
