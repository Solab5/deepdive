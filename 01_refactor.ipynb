{
 "cells": [
  {
   "cell_type": "code",
   "execution_count": 1,
   "id": "212be6e2-acf3-4835-b144-5468914a49fb",
   "metadata": {},
   "outputs": [],
   "source": [
    "from fastai.imports import *\n"
   ]
  },
  {
   "cell_type": "code",
   "execution_count": 2,
   "id": "dbabaa4b-26e1-4c58-aad1-188318d14b50",
   "metadata": {},
   "outputs": [],
   "source": [
    "from scipy.stats import f_oneway\n",
    "import pingouin as pg"
   ]
  },
  {
   "cell_type": "code",
   "execution_count": 3,
   "id": "8e9b3263-3810-4d4e-83c1-a13800fb1c3e",
   "metadata": {},
   "outputs": [],
   "source": [
    "df = pd.read_excel('All2021Cohorts_merged_outlier managed_copy_2.xlsx', sheet_name='MergedRTV_Control2021',header=5)"
   ]
  },
  {
   "cell_type": "code",
   "execution_count": 4,
   "id": "b3927403-6eae-422f-8a65-69eaf5100163",
   "metadata": {},
   "outputs": [],
   "source": [
    "cluster_project_officer = {\n",
    "    \"Isunga\": {\"Project Officer\": \"Ambrose Nabaasa\", \"Gender\": \"M\"},\n",
    "    \"Nyungu\": {\"Project Officer\": \"Kayona Davis\", \"Gender\": \"M\"},\n",
    "    \"Kyakahigwa\": {\"Project Officer\": \"Mfitumukiza Jackson\", \"Gender\": \"M\"},\n",
    "    \"Rutendere\": {\"Project Officer\": \"Edwine Tuhamye\", \"Gender\": \"M\"},\n",
    "    \"Buhura\": {\"Project Officer\": \"Kayona Davis\", \"Gender\": \"M\"},\n",
    "    \"Kabatoro\": {\"Project Officer\": \"Serevano Birungi\", \"Gender\": \"M\"},\n",
    "    \"Ibarya\": {\"Project Officer\": \"Daniel Mukiza\", \"Gender\": \"M\"},\n",
    "    \"Muzizi\": {\"Project Officer\": \"Moris Mumbere\", \"Gender\": \"M\"},\n",
    "    \"Kigwabya\": {\"Project Officer\": \"Amram Walter Dambya\", \"Gender\": \"M\"},\n",
    "    \"Kahompo\": {\"Project Officer\": \"Cathelene Kansiime\", \"Gender\": \"F\"},\n",
    "    \"Galiraya\": {\"Project Officer\": \"Nelson Nuwagaba\", \"Gender\": \"M\"},\n",
    "    \"Kihanda\": {\"Project Officer\": \"Daniel Mukiza\", \"Gender\": \"M\"},\n",
    "    \"Kahoko\": {\"Project Officer\": \"TINKASIIMIRE PATRICK\", \"Gender\": \"M\"},\n",
    "    \"Kyakasana\": {\"Project Officer\": \"Mfitumukiza Jackson\", \"Gender\": \"M\"},\n",
    "    \"Kafunda\": {\"Project Officer\": \"Kayona Davis\", \"Gender\": \"M\"},\n",
    "    \"Kitugunda\": {\"Project Officer\": \"RHONA OSIIME\", \"Gender\": \"F\"},\n",
    "    \"Enjeru\": {\"Project Officer\": \"Serevano Birungi\", \"Gender\": \"M\"},\n",
    "    \"Bujengwe\": {\"Project Officer\": \"Innocent Machari\", \"Gender\": \"M\"},\n",
    "    \"Rwanja East\": {\"Project Officer\": \"Simon Musiime\", \"Gender\": \"M\"},\n",
    "    \"Nyamukara\": {\"Project Officer\": \"Abubakal Maniragaba\", \"Gender\": \"M\"},\n",
    "    \"Kacence\": {\"Project Officer\": \"RHONA OSIIME\", \"Gender\": \"F\"},\n",
    "    \"Rugonjo\": {\"Project Officer\": \"Morris Mumbere\", \"Gender\": \"M\"},\n",
    "    \"Murama\": {\"Project Officer\": \"AINEBYONA BRIAN\", \"Gender\": \"M\"},\n",
    "    \"Rubango\": {\"Project Officer\": \"Maria Gorrette Kabacaki\", \"Gender\": \"F\"},\n",
    "    \"Siyoni\": {\"Project Officer\": \"Nelson Nuwagaba\", \"Gender\": \"M\"},\n",
    "    \"Nyamizo\": {\"Project Officer\": \"Ambrose Nabaasa\", \"Gender\": \"M\"},\n",
    "    \"Mpefuu\": {\"Project Officer\": \"Abubakal Maniragaba\", \"Gender\": \"M\"},\n",
    "    \"Ngoma\": {\"Project Officer\": \"KATUSIIME CLARE\", \"Gender\": \"F\"},\n",
    "    \"Kayanja\": {\"Project Officer\": \"Resty Nyakato\", \"Gender\": \"F\"},\n",
    "    \"Kiyanga\": {\"Project Officer\": \"Gilbert Kwarisiima\", \"Gender\": \"M\"},\n",
    "    \"Misenyi\": {\"Project Officer\": \"Morris Mumbere\", \"Gender\": \"M\"},\n",
    "    \"Mugyenza\": {\"Project Officer\": \"Pascal Kasaija\", \"Gender\": \"M\"},\n",
    "    \"Nyamigisa\": {\"Project Officer\": \"Johnson Marahi\", \"Gender\": \"M\"},\n",
    "    \"Rukukuru\": {\"Project Officer\": \"Esau Mfitumukiza\", \"Gender\": \"M\"},\n",
    "    \"Kagati\": {\"Project Officer\": \"Simon Musiime\", \"Gender\": \"M\"},\n",
    "    \"Kurukuru\": {\"Project Officer\": \"Elias Tukamushaba\", \"Gender\": \"M\"},\n",
    "    \"Kihumuro\": {\"Project Officer\": \"Francis Gamurorwa\", \"Gender\": \"M\"},\n",
    "    \"Rwoburunga\": {\"Project Officer\": \"Joel Ahumuza\", \"Gender\": \"M\"},\n",
    "    \"Kaswa\": {\"Project Officer\": \"Simon Asiimwe\", \"Gender\": \"M\"},\n",
    "    \"Kamambu\": {\"Project Officer\": \"Fred Muhumuza\", \"Gender\": \"M\"},\n",
    "    \"Hamurama\": {\"Project Officer\": \"Patrick Tumusiime\", \"Gender\": \"M\"},\n",
    "    \"Mbaba\": {\"Project Officer\": \"Johnson Marahi\", \"Gender\": \"M\"},\n",
    "    \"Mbaba\": {\"Project Officer\": \"Johnson Marahi\", \"Gender\": \"M\"},\n",
    "    \"Burora\": {\"Project Officer\": \"Patrick Tumusiime\", \"Gender\": \"M\"},\n",
    "    \"Nyamukaikuru\": {\"Project Officer\": \"Fred Muhumuza\", \"Gender\": \"M\"},\n",
    "    \"Rwenjaza\": {\"Project Officer\": \"Ambrose Nabaasa\", \"Gender\": \"M\"},\n",
    "    \"Rujumbura\": {\"Project Officer\": \"Pascal Kasaija\", \"Gender\": \"M\"},\n",
    "    \"Nsanja\": {\"Project Officer\": \"Patrick Tumusiime\", \"Gender\": \"M\"},\n",
    "    \"Kandama\": {\"Project Officer\": \"Muhawenimana Priscilla\", \"Gender\": \"F\"},\n",
    "    \"Kanyegaramire\": {\"Project Officer\": \"Mfitumukiza Jackson\", \"Gender\": \"M\"},\n",
    "    \"Igabiro\": {\"Project Officer\": \"Resty Nyakato\", \"Gender\": \"F\"},\n",
    "    \"Byerwa\": {\"Project Officer\": \"Jackson Mfitumukiza\", \"Gender\": \"M\"},\n",
    "    \"Kyema\": {\"Project Officer\": \"Elias Tukamushaba\", \"Gender\": \"M\"},\n",
    "    \"Kamuganga\": {\"Project Officer\": \"Cathelene Kansiime\", \"Gender\": \"F\"},\n",
    "    \"Kijengi\": {\"Project Officer\": \"Esau Mfitumukiza\", \"Gender\": \"M\"},\n",
    "    \"Kadugu\": {\"Project Officer\": \"MarryGorrette Kabacaki\", \"Gender\": \"F\"},\n",
    "    \"Kisansa\": {\"Project Officer\": \"Muhawenimana Priscilla\", \"Gender\": \"F\"},\n",
    "    \"Kamazima\": {\"Project Officer\": \"Patrick Tumusiime\", \"Gender\": \"M\"},\n",
    "    \"Rwemanzi\": {\"Project Officer\": \"Esau Mfitumukiza\", \"Gender\": \"M\"},\n",
    "    \"Nyamweru\": {\"Project Officer\": \"Tadeo Tumukunde\", \"Gender\": \"M\"},\n",
    "    \"Bigando\": {\"Project Officer\": \"Simon Asiimwe\", \"Gender\": \"M\"},\n",
    "    \"Kitahurira\": {\"Project Officer\": \"Tadeo Tumukunde\", \"Gender\": \"M\"},\n",
    "    \"Mugyera\": {\"Project Officer\": \"Viola Dufite\", \"Gender\": \"F\"}\n",
    "}"
   ]
  },
  {
   "cell_type": "code",
   "execution_count": 5,
   "id": "89612aa8-d2c1-4798-9a06-7fd5505ba77b",
   "metadata": {},
   "outputs": [
    {
     "data": {
      "text/plain": [
       "{'Isunga': {'Project Officer': 'Ambrose Nabaasa', 'Gender': 'M'},\n",
       " 'Nyungu': {'Project Officer': 'Kayona Davis', 'Gender': 'M'},\n",
       " 'Kyakahigwa': {'Project Officer': 'Mfitumukiza Jackson', 'Gender': 'M'},\n",
       " 'Rutendere': {'Project Officer': 'Edwine Tuhamye', 'Gender': 'M'},\n",
       " 'Buhura': {'Project Officer': 'Kayona Davis', 'Gender': 'M'},\n",
       " 'Kabatoro': {'Project Officer': 'Serevano Birungi', 'Gender': 'M'},\n",
       " 'Ibarya': {'Project Officer': 'Daniel Mukiza', 'Gender': 'M'},\n",
       " 'Muzizi': {'Project Officer': 'Moris Mumbere', 'Gender': 'M'},\n",
       " 'Kigwabya': {'Project Officer': 'Amram Walter Dambya', 'Gender': 'M'},\n",
       " 'Kahompo': {'Project Officer': 'Cathelene Kansiime', 'Gender': 'F'},\n",
       " 'Galiraya': {'Project Officer': 'Nelson Nuwagaba', 'Gender': 'M'},\n",
       " 'Kihanda': {'Project Officer': 'Daniel Mukiza', 'Gender': 'M'},\n",
       " 'Kahoko': {'Project Officer': 'TINKASIIMIRE PATRICK', 'Gender': 'M'},\n",
       " 'Kyakasana': {'Project Officer': 'Mfitumukiza Jackson', 'Gender': 'M'},\n",
       " 'Kafunda': {'Project Officer': 'Kayona Davis', 'Gender': 'M'},\n",
       " 'Kitugunda': {'Project Officer': 'RHONA OSIIME', 'Gender': 'F'},\n",
       " 'Enjeru': {'Project Officer': 'Serevano Birungi', 'Gender': 'M'},\n",
       " 'Bujengwe': {'Project Officer': 'Innocent Machari', 'Gender': 'M'},\n",
       " 'Rwanja East': {'Project Officer': 'Simon Musiime', 'Gender': 'M'},\n",
       " 'Nyamukara': {'Project Officer': 'Abubakal Maniragaba', 'Gender': 'M'},\n",
       " 'Kacence': {'Project Officer': 'RHONA OSIIME', 'Gender': 'F'},\n",
       " 'Rugonjo': {'Project Officer': 'Morris Mumbere', 'Gender': 'M'},\n",
       " 'Murama': {'Project Officer': 'AINEBYONA BRIAN', 'Gender': 'M'},\n",
       " 'Rubango': {'Project Officer': 'Maria Gorrette Kabacaki', 'Gender': 'F'},\n",
       " 'Siyoni': {'Project Officer': 'Nelson Nuwagaba', 'Gender': 'M'},\n",
       " 'Nyamizo': {'Project Officer': 'Ambrose Nabaasa', 'Gender': 'M'},\n",
       " 'Mpefuu': {'Project Officer': 'Abubakal Maniragaba', 'Gender': 'M'},\n",
       " 'Ngoma': {'Project Officer': 'KATUSIIME CLARE', 'Gender': 'F'},\n",
       " 'Kayanja': {'Project Officer': 'Resty Nyakato', 'Gender': 'F'},\n",
       " 'Kiyanga': {'Project Officer': 'Gilbert Kwarisiima', 'Gender': 'M'},\n",
       " 'Misenyi': {'Project Officer': 'Morris Mumbere', 'Gender': 'M'},\n",
       " 'Mugyenza': {'Project Officer': 'Pascal Kasaija', 'Gender': 'M'},\n",
       " 'Nyamigisa': {'Project Officer': 'Johnson Marahi', 'Gender': 'M'},\n",
       " 'Rukukuru': {'Project Officer': 'Esau Mfitumukiza', 'Gender': 'M'},\n",
       " 'Kagati': {'Project Officer': 'Simon Musiime', 'Gender': 'M'},\n",
       " 'Kurukuru': {'Project Officer': 'Elias Tukamushaba', 'Gender': 'M'},\n",
       " 'Kihumuro': {'Project Officer': 'Francis Gamurorwa', 'Gender': 'M'},\n",
       " 'Rwoburunga': {'Project Officer': 'Joel Ahumuza', 'Gender': 'M'},\n",
       " 'Kaswa': {'Project Officer': 'Simon Asiimwe', 'Gender': 'M'},\n",
       " 'Kamambu': {'Project Officer': 'Fred Muhumuza', 'Gender': 'M'},\n",
       " 'Hamurama': {'Project Officer': 'Patrick Tumusiime', 'Gender': 'M'},\n",
       " 'Mbaba': {'Project Officer': 'Johnson Marahi', 'Gender': 'M'},\n",
       " 'Burora': {'Project Officer': 'Patrick Tumusiime', 'Gender': 'M'},\n",
       " 'Nyamukaikuru': {'Project Officer': 'Fred Muhumuza', 'Gender': 'M'},\n",
       " 'Rwenjaza': {'Project Officer': 'Ambrose Nabaasa', 'Gender': 'M'},\n",
       " 'Rujumbura': {'Project Officer': 'Pascal Kasaija', 'Gender': 'M'},\n",
       " 'Nsanja': {'Project Officer': 'Patrick Tumusiime', 'Gender': 'M'},\n",
       " 'Kandama': {'Project Officer': 'Muhawenimana Priscilla', 'Gender': 'F'},\n",
       " 'Kanyegaramire': {'Project Officer': 'Mfitumukiza Jackson', 'Gender': 'M'},\n",
       " 'Igabiro': {'Project Officer': 'Resty Nyakato', 'Gender': 'F'},\n",
       " 'Byerwa': {'Project Officer': 'Jackson Mfitumukiza', 'Gender': 'M'},\n",
       " 'Kyema': {'Project Officer': 'Elias Tukamushaba', 'Gender': 'M'},\n",
       " 'Kamuganga': {'Project Officer': 'Cathelene Kansiime', 'Gender': 'F'},\n",
       " 'Kijengi': {'Project Officer': 'Esau Mfitumukiza', 'Gender': 'M'},\n",
       " 'Kadugu': {'Project Officer': 'MarryGorrette Kabacaki', 'Gender': 'F'},\n",
       " 'Kisansa': {'Project Officer': 'Muhawenimana Priscilla', 'Gender': 'F'},\n",
       " 'Kamazima': {'Project Officer': 'Patrick Tumusiime', 'Gender': 'M'},\n",
       " 'Rwemanzi': {'Project Officer': 'Esau Mfitumukiza', 'Gender': 'M'},\n",
       " 'Nyamweru': {'Project Officer': 'Tadeo Tumukunde', 'Gender': 'M'},\n",
       " 'Bigando': {'Project Officer': 'Simon Asiimwe', 'Gender': 'M'},\n",
       " 'Kitahurira': {'Project Officer': 'Tadeo Tumukunde', 'Gender': 'M'},\n",
       " 'Mugyera': {'Project Officer': 'Viola Dufite', 'Gender': 'F'}}"
      ]
     },
     "execution_count": 5,
     "metadata": {},
     "output_type": "execute_result"
    }
   ],
   "source": [
    "cluster_project_officer"
   ]
  },
  {
   "cell_type": "code",
   "execution_count": 12,
   "id": "40d81965-ea72-4ffc-93b6-68d899f8780d",
   "metadata": {},
   "outputs": [
    {
     "name": "stderr",
     "output_type": "stream",
     "text": [
      "/var/folders/xd/0btgr76j2zxc4__ynw0yhwbm0000gn/T/ipykernel_61886/332861187.py:1: SettingWithCopyWarning: \n",
      "A value is trying to be set on a copy of a slice from a DataFrame.\n",
      "Try using .loc[row_indexer,col_indexer] = value instead\n",
      "\n",
      "See the caveats in the documentation: https://pandas.pydata.org/pandas-docs/stable/user_guide/indexing.html#returning-a-view-versus-a-copy\n",
      "  rtv['Gender_details'] = rtv['pre_cluster'].apply(lambda x: cluster_project_officer[x]['Gender'] if x in cluster_project_officer else 'Unknown')\n"
     ]
    }
   ],
   "source": [
    "rtv['Gender_details'] = rtv['pre_cluster'].apply(lambda x: cluster_project_officer[x]['Gender'] if x in cluster_project_officer else 'Unknown')"
   ]
  },
  {
   "cell_type": "code",
   "execution_count": 9,
   "id": "1c8f9d89-aa96-4cf6-8960-a4a6aa8d2c1d",
   "metadata": {},
   "outputs": [
    {
     "data": {
      "text/plain": [
       "Gender_details\n",
       "M    2812\n",
       "F    1085\n",
       "Name: count, dtype: int64"
      ]
     },
     "execution_count": 9,
     "metadata": {},
     "output_type": "execute_result"
    }
   ],
   "source": [
    "rtv['Gender_details'].value_counts()"
   ]
  },
  {
   "cell_type": "code",
   "execution_count": null,
   "id": "e2694f91-58c2-404a-a190-71f2946fbb58",
   "metadata": {},
   "outputs": [],
   "source": []
  },
  {
   "cell_type": "code",
   "execution_count": 4,
   "id": "55ba8e86-4e02-499d-a17d-7b6891481668",
   "metadata": {},
   "outputs": [
    {
     "data": {
      "text/plain": [
       "hhh_sex\n",
       "1    4137\n",
       "2    1659\n",
       "Name: count, dtype: int64"
      ]
     },
     "execution_count": 4,
     "metadata": {},
     "output_type": "execute_result"
    }
   ],
   "source": [
    "df['hhh_sex'].value_counts()"
   ]
  },
  {
   "cell_type": "code",
   "execution_count": 5,
   "id": "24342cc7-4322-4e2d-966a-4a7b55c9a8d0",
   "metadata": {},
   "outputs": [],
   "source": [
    "sex_mapping = {1: 'Male', 2: 'Female'}"
   ]
  },
  {
   "cell_type": "code",
   "execution_count": 6,
   "id": "16c92f8d-b883-480c-908b-38110566a7af",
   "metadata": {},
   "outputs": [
    {
     "data": {
      "text/plain": [
       "Gender\n",
       "Male      4137\n",
       "Female    1659\n",
       "Name: count, dtype: int64"
      ]
     },
     "execution_count": 6,
     "metadata": {},
     "output_type": "execute_result"
    }
   ],
   "source": [
    "df['Gender'] = df['hhh_sex'].replace(sex_mapping)\n",
    "df['Gender'].value_counts()"
   ]
  },
  {
   "cell_type": "code",
   "execution_count": 7,
   "id": "0996a0f9-412d-4f1d-b30e-fc98813e81f8",
   "metadata": {},
   "outputs": [],
   "source": [
    "df['Household_Head_Gender'] = df['Gender']"
   ]
  },
  {
   "cell_type": "code",
   "execution_count": 8,
   "id": "33f38775-3e96-4e35-a217-af48a52a5f7b",
   "metadata": {},
   "outputs": [],
   "source": [
    "df['Household_Head_Gender'] = df.apply(lambda row: 'Youth Headed' if row['hhh_age'] < 30 else str(row['Household_Head_Gender']) + ' Headed', axis=1)"
   ]
  },
  {
   "cell_type": "code",
   "execution_count": 9,
   "id": "f696e5c7-1409-4890-9340-06bc07c54a05",
   "metadata": {},
   "outputs": [
    {
     "data": {
      "text/plain": [
       "Household_Head_Gender\n",
       "Male Headed      3715\n",
       "Female Headed    1603\n",
       "Youth Headed      478\n",
       "Name: count, dtype: int64"
      ]
     },
     "execution_count": 9,
     "metadata": {},
     "output_type": "execute_result"
    }
   ],
   "source": [
    "df['Household_Head_Gender'].value_counts()"
   ]
  },
  {
   "cell_type": "code",
   "execution_count": 10,
   "id": "a1e02f92-0f1f-4e31-9ee9-3167dc71de13",
   "metadata": {},
   "outputs": [],
   "source": [
    "df['vsla_participation']=(df['hh_members_rtv_vslas'] > 0) | (df['hh_members_non_vslas'] > 0)"
   ]
  },
  {
   "cell_type": "code",
   "execution_count": 160,
   "id": "de9e897e-e5c9-4ac8-985e-9bfcd6ffb96d",
   "metadata": {},
   "outputs": [],
   "source": [
    "df['both_vs_non'] = (df['save_mode_7']==1) & (df['save_mode_8']==1)"
   ]
  },
  {
   "cell_type": "code",
   "execution_count": 195,
   "id": "5b699de4-662d-4708-beb9-39997b3fdd68",
   "metadata": {},
   "outputs": [],
   "source": [
    "df['both_participate'] = (df['save_mode_7']==1) | (df['save_mode_8']==1)"
   ]
  },
  {
   "cell_type": "code",
   "execution_count": 11,
   "id": "e8aa4561-bd34-4e41-b791-084e1252c634",
   "metadata": {},
   "outputs": [],
   "source": [
    "peer = df[df['Status']=='PEER']\n",
    "rtv = df[df['Status']=='RTV']"
   ]
  },
  {
   "cell_type": "code",
   "execution_count": 197,
   "id": "5fa3706f-7c68-4c46-b211-18af997ec74b",
   "metadata": {},
   "outputs": [
    {
     "data": {
      "text/plain": [
       "Status\n",
       "RTV     3897\n",
       "PEER    1899\n",
       "Name: count, dtype: int64"
      ]
     },
     "execution_count": 197,
     "metadata": {},
     "output_type": "execute_result"
    }
   ],
   "source": [
    "df['Status'].value_counts()"
   ]
  },
  {
   "cell_type": "code",
   "execution_count": 198,
   "id": "2ab044ff-daf0-4658-80d5-e47c4b643eb7",
   "metadata": {},
   "outputs": [],
   "source": [
    "df['new_status'] = np.where(df['Status'] == 'PEER', 'PEER', \n",
    "                            np.where(df['Status'] == 'RTV', \n",
    "                                    np.where(df['save_mode_7'] == 1, \n",
    "                                    'RTV_vsla', 'RTV_nonvsla'), \n",
    "                                    df['Status']))"
   ]
  },
  {
   "cell_type": "code",
   "execution_count": 199,
   "id": "3c603807-c3b5-4d7f-b9e8-308a2fee9c92",
   "metadata": {},
   "outputs": [
    {
     "data": {
      "text/plain": [
       "1899"
      ]
     },
     "execution_count": 199,
     "metadata": {},
     "output_type": "execute_result"
    }
   ],
   "source": [
    "len(df[df['Status'] == 'PEER'])"
   ]
  },
  {
   "cell_type": "code",
   "execution_count": 200,
   "id": "9944c708-616e-4db1-a51d-5414b646f0d2",
   "metadata": {},
   "outputs": [
    {
     "data": {
      "text/plain": [
       "save_mode_7\n",
       "0    2316\n",
       "1    1581\n",
       "Name: count, dtype: int64"
      ]
     },
     "execution_count": 200,
     "metadata": {},
     "output_type": "execute_result"
    }
   ],
   "source": [
    "rtv['save_mode_7'].value_counts()"
   ]
  },
  {
   "cell_type": "code",
   "execution_count": 201,
   "id": "d73a8740-bc72-473a-ac01-b54a79d65bcb",
   "metadata": {},
   "outputs": [
    {
     "data": {
      "text/plain": [
       "5796"
      ]
     },
     "execution_count": 201,
     "metadata": {},
     "output_type": "execute_result"
    }
   ],
   "source": [
    "len(df)"
   ]
  },
  {
   "cell_type": "code",
   "execution_count": 202,
   "id": "28121da7-f7a1-4125-a90e-1fa250c46e1e",
   "metadata": {},
   "outputs": [
    {
     "data": {
      "text/plain": [
       "5796"
      ]
     },
     "execution_count": 202,
     "metadata": {},
     "output_type": "execute_result"
    }
   ],
   "source": [
    "2316+1899+1581"
   ]
  },
  {
   "cell_type": "code",
   "execution_count": 203,
   "id": "ec2244df-7b46-45fc-b137-ddc140ad2b1b",
   "metadata": {},
   "outputs": [
    {
     "data": {
      "text/plain": [
       "new_status\n",
       "RTV_nonvsla    2316\n",
       "PEER           1899\n",
       "RTV_vsla       1581\n",
       "Name: count, dtype: int64"
      ]
     },
     "execution_count": 203,
     "metadata": {},
     "output_type": "execute_result"
    }
   ],
   "source": [
    "df['new_status'].value_counts()"
   ]
  },
  {
   "cell_type": "code",
   "execution_count": 204,
   "id": "7d6a0b4a-4c21-4339-9325-0462ec30f751",
   "metadata": {},
   "outputs": [],
   "source": [
    "rtv_vsf = rtv[rtv[\"save_mode_7\"] == 1]\n",
    "rtv_nvsf =  rtv[rtv[\"save_mode_7\"]==0]"
   ]
  },
  {
   "cell_type": "code",
   "execution_count": 205,
   "id": "6e1cb3fe-8873-43dc-b8d0-975a203a8f26",
   "metadata": {},
   "outputs": [],
   "source": [
    "adjusted_cpi = 80.66\n",
    "rate = 3600"
   ]
  },
  {
   "cell_type": "code",
   "execution_count": 206,
   "id": "afdbde8e-960c-482a-854e-213b6b49b337",
   "metadata": {},
   "outputs": [
    {
     "data": {
      "text/plain": [
       "((1899, 5669), (1581, 5669), (2316, 5669))"
      ]
     },
     "execution_count": 206,
     "metadata": {},
     "output_type": "execute_result"
    }
   ],
   "source": [
    "peer.shape, rtv_vsf.shape, rtv_nvsf.shape"
   ]
  },
  {
   "cell_type": "markdown",
   "id": "a3321c36-1010-4cce-8402-9f5742a03b61",
   "metadata": {},
   "source": [
    "## Savings / Loans"
   ]
  },
  {
   "cell_type": "code",
   "execution_count": 207,
   "id": "1c9b9942-4812-4cd9-aa53-c509fc735c10",
   "metadata": {},
   "outputs": [
    {
     "data": {
      "text/plain": [
       "save_mode_7\n",
       "0    0.594303\n",
       "1    0.405697\n",
       "Name: proportion, dtype: float64"
      ]
     },
     "execution_count": 207,
     "metadata": {},
     "output_type": "execute_result"
    }
   ],
   "source": [
    "rtv['save_mode_7'].value_counts(normalize=True)"
   ]
  },
  {
   "cell_type": "code",
   "execution_count": 208,
   "id": "a57dbf77-38ae-4278-8f06-1e00f0635f39",
   "metadata": {},
   "outputs": [
    {
     "data": {
      "text/plain": [
       "0.8452655889145496"
      ]
     },
     "execution_count": 208,
     "metadata": {},
     "output_type": "execute_result"
    }
   ],
   "source": [
    "len(rtv[rtv['Total Savings (Ugx)'] != 0]) / len(rtv)"
   ]
  },
  {
   "cell_type": "code",
   "execution_count": 241,
   "id": "182c4907-f289-4e1c-b659-329a98f85822",
   "metadata": {},
   "outputs": [
    {
     "data": {
      "text/plain": [
       "Household_Head_Gender  save_mode_7\n",
       "Female Headed          0              0.623389\n",
       "                       1              0.376611\n",
       "Male Headed            0              0.564317\n",
       "                       1              0.435683\n",
       "Youth Headed           0              0.740000\n",
       "                       1              0.260000\n",
       "Name: proportion, dtype: float64"
      ]
     },
     "execution_count": 241,
     "metadata": {},
     "output_type": "execute_result"
    }
   ],
   "source": [
    "rtv.groupby('Household_Head_Gender')['save_mode_7'].value_counts(normalize=True)"
   ]
  },
  {
   "cell_type": "code",
   "execution_count": 246,
   "id": "aad78751-10a5-4b7b-b5e8-aa8686aae4f1",
   "metadata": {},
   "outputs": [
    {
     "data": {
      "text/plain": [
       "Household_Head_Gender\n",
       "Female Headed    0.793738\n",
       "Male Headed      0.867384\n",
       "Youth Headed     0.846667\n",
       "dtype: float64"
      ]
     },
     "execution_count": 246,
     "metadata": {},
     "output_type": "execute_result"
    }
   ],
   "source": [
    "rtv.groupby('Household_Head_Gender').apply(lambda x: len(x[x['Total Savings (Ugx)'] != 0]) / len(x))"
   ]
  },
  {
   "cell_type": "code",
   "execution_count": null,
   "id": "8b77af7f-8eb2-4f55-9365-4f11e88c926b",
   "metadata": {},
   "outputs": [],
   "source": [
    "# (rtv['saving_amount_rtv_vsla_cashround'].apply(lambda x: 0 if pd.isna(x) or x == 0 else 1)).value_counts(normalize=True)"
   ]
  },
  {
   "cell_type": "code",
   "execution_count": null,
   "id": "28a9d3d3-7aa6-4bdd-97e8-100d42015b17",
   "metadata": {},
   "outputs": [],
   "source": [
    "# (rtv_both['saving_amount_rtv_vsla_cashround'].apply(lambda x: 0 if pd.isna(x) or x == 0 else 1)).value_counts(normalize=True)"
   ]
  },
  {
   "cell_type": "code",
   "execution_count": null,
   "id": "a3acb852-ebf6-4ec2-a98f-7fba6b7328be",
   "metadata": {},
   "outputs": [],
   "source": [
    "# (rtv_both['saving_amount_non_rtv_vsla'].apply(lambda x: 0 if pd.isna(x) or x == 0 else 1)).value_counts(normalize=True)"
   ]
  },
  {
   "cell_type": "code",
   "execution_count": 223,
   "id": "a11e9f65-8efb-4ae9-adb3-33ad532bd76a",
   "metadata": {},
   "outputs": [
    {
     "data": {
      "text/plain": [
       "saving_amount_rtv_vsla_cashround\n",
       "False    3882\n",
       "True       15\n",
       "Name: count, dtype: int64"
      ]
     },
     "execution_count": 223,
     "metadata": {},
     "output_type": "execute_result"
    }
   ],
   "source": [
    "(rtv['saving_amount_rtv_vsla_cashround'] == 0).value_counts()"
   ]
  },
  {
   "cell_type": "code",
   "execution_count": 221,
   "id": "5252bb94-cbfe-47f5-9e7e-2a1bbbebb408",
   "metadata": {},
   "outputs": [
    {
     "data": {
      "text/plain": [
       "saving_amount_rtv_vsla_cashround\n",
       "True     0.597639\n",
       "False    0.402361\n",
       "Name: proportion, dtype: float64"
      ]
     },
     "execution_count": 221,
     "metadata": {},
     "output_type": "execute_result"
    }
   ],
   "source": [
    "rtv['saving_amount_rtv_vsla_cashround'].isna().value_counts(normalize=True)"
   ]
  },
  {
   "cell_type": "code",
   "execution_count": 209,
   "id": "f7dabea0-e736-4dc5-8cc9-32a541fdf371",
   "metadata": {},
   "outputs": [
    {
     "data": {
      "text/plain": [
       "save_mode_7\n",
       "0    0.993154\n",
       "1    0.006846\n",
       "Name: proportion, dtype: float64"
      ]
     },
     "execution_count": 209,
     "metadata": {},
     "output_type": "execute_result"
    }
   ],
   "source": [
    "peer['save_mode_7'].value_counts(normalize=True)"
   ]
  },
  {
   "cell_type": "code",
   "execution_count": 210,
   "id": "6d99295c-b1bb-4bd9-8597-e14251e36578",
   "metadata": {},
   "outputs": [
    {
     "data": {
      "text/plain": [
       "0.7109004739336493"
      ]
     },
     "execution_count": 210,
     "metadata": {},
     "output_type": "execute_result"
    }
   ],
   "source": [
    "len(peer[peer['Total Savings (Ugx)'] != 0]) / len(peer)"
   ]
  },
  {
   "cell_type": "code",
   "execution_count": 211,
   "id": "4cfe6572-0537-4278-a5a5-56809252269b",
   "metadata": {},
   "outputs": [
    {
     "data": {
      "text/plain": [
       "both_vs_non\n",
       "False    0.840903\n",
       "True     0.159097\n",
       "Name: proportion, dtype: float64"
      ]
     },
     "execution_count": 211,
     "metadata": {},
     "output_type": "execute_result"
    }
   ],
   "source": [
    "rtv['both_vs_non'].value_counts(normalize=True)"
   ]
  },
  {
   "cell_type": "code",
   "execution_count": 243,
   "id": "42662c17-d469-4a0a-a96a-de3bdd2e80be",
   "metadata": {},
   "outputs": [
    {
     "data": {
      "text/plain": [
       "both_participate\n",
       "True     0.603798\n",
       "False    0.396202\n",
       "Name: proportion, dtype: float64"
      ]
     },
     "execution_count": 243,
     "metadata": {},
     "output_type": "execute_result"
    }
   ],
   "source": [
    "rtv['both_participate'].value_counts(normalize=True)"
   ]
  },
  {
   "cell_type": "code",
   "execution_count": 244,
   "id": "d83f7d67-ed6e-4ab3-a275-16b28df31543",
   "metadata": {},
   "outputs": [
    {
     "data": {
      "text/plain": [
       "Household_Head_Gender  both_participate\n",
       "Female Headed          True                0.556169\n",
       "                       False               0.443831\n",
       "Male Headed            True                0.628037\n",
       "                       False               0.371963\n",
       "Youth Headed           True                0.573333\n",
       "                       False               0.426667\n",
       "Name: proportion, dtype: float64"
      ]
     },
     "execution_count": 244,
     "metadata": {},
     "output_type": "execute_result"
    }
   ],
   "source": [
    "rtv.groupby('Household_Head_Gender')['both_participate'].value_counts(normalize=True)"
   ]
  },
  {
   "cell_type": "code",
   "execution_count": 247,
   "id": "4cab92bb-64f8-4901-84db-351628b9fc5f",
   "metadata": {},
   "outputs": [
    {
     "data": {
      "text/plain": [
       "Household_Head_Gender\n",
       "Female Headed    0.983444\n",
       "Male Headed      0.987318\n",
       "Youth Headed     0.994186\n",
       "dtype: float64"
      ]
     },
     "execution_count": 247,
     "metadata": {},
     "output_type": "execute_result"
    }
   ],
   "source": [
    "rtv_both.groupby('Household_Head_Gender').apply(lambda x: len(x[x['Total Savings (Ugx)'] != 0]) / len(x))"
   ]
  },
  {
   "cell_type": "code",
   "execution_count": 213,
   "id": "dc7a8e18-b12b-456d-b3ac-d56a5d7e0a4d",
   "metadata": {},
   "outputs": [],
   "source": [
    "rtv_both = rtv[rtv['both_participate'] == True]"
   ]
  },
  {
   "cell_type": "code",
   "execution_count": 214,
   "id": "3df6602e-5d8c-4e05-85c0-0f9e726a41aa",
   "metadata": {},
   "outputs": [
    {
     "data": {
      "text/plain": [
       "0.9868253293667658"
      ]
     },
     "execution_count": 214,
     "metadata": {},
     "output_type": "execute_result"
    }
   ],
   "source": [
    "len(rtv_both[rtv_both['Total Savings (Ugx)'] != 0]) / len(rtv_both)"
   ]
  },
  {
   "cell_type": "code",
   "execution_count": 187,
   "id": "eb1673ad-edd5-4b5a-be9c-25da71fd2428",
   "metadata": {},
   "outputs": [],
   "source": [
    "# group_sizes = rtv.groupby('both_vs_non').size()\n",
    "# group_sizes\n",
    "\n",
    "# non_zero_counts = rtv[rtv['Total Savings (Ugx)'] != 0].groupby('both_vs_non').size()\n",
    "# proportions = non_zero_counts / group_sizes\n",
    "\n",
    "# non_zero_counts\n",
    "\n",
    "# proportions"
   ]
  },
  {
   "cell_type": "code",
   "execution_count": 189,
   "id": "4beaabd0-5d7c-4012-8aa6-ee05a12dea52",
   "metadata": {},
   "outputs": [
    {
     "data": {
      "text/plain": [
       "save_mode_8\n",
       "0    0.679305\n",
       "1    0.320695\n",
       "Name: proportion, dtype: float64"
      ]
     },
     "execution_count": 189,
     "metadata": {},
     "output_type": "execute_result"
    }
   ],
   "source": [
    "peer['save_mode_8'].value_counts(normalize=True)"
   ]
  },
  {
   "cell_type": "code",
   "execution_count": 190,
   "id": "97d8e79b-2e28-4873-9f79-778bc7fcd67b",
   "metadata": {},
   "outputs": [
    {
     "data": {
      "text/plain": [
       "0.7109004739336493"
      ]
     },
     "execution_count": 190,
     "metadata": {},
     "output_type": "execute_result"
    }
   ],
   "source": [
    "len(peer[peer['Total Savings (Ugx)'] != 0]) / len(peer)"
   ]
  },
  {
   "cell_type": "code",
   "execution_count": 245,
   "id": "bcaaa5f9-f0a1-4ca8-b1b7-3a262850411d",
   "metadata": {},
   "outputs": [
    {
     "data": {
      "text/plain": [
       "Household_Head_Gender  save_mode_8\n",
       "Female Headed          0              0.723404\n",
       "                       1              0.276596\n",
       "Male Headed            0              0.660299\n",
       "                       1              0.339701\n",
       "Youth Headed           0              0.679775\n",
       "                       1              0.320225\n",
       "Name: proportion, dtype: float64"
      ]
     },
     "execution_count": 245,
     "metadata": {},
     "output_type": "execute_result"
    }
   ],
   "source": [
    "peer.groupby('Household_Head_Gender')['save_mode_8'].value_counts(normalize=True)"
   ]
  },
  {
   "cell_type": "code",
   "execution_count": 248,
   "id": "08f308a2-7310-4e51-b988-403abad91570",
   "metadata": {},
   "outputs": [
    {
     "data": {
      "text/plain": [
       "Household_Head_Gender\n",
       "Female Headed    0.665377\n",
       "Male Headed      0.725914\n",
       "Youth Headed     0.741573\n",
       "dtype: float64"
      ]
     },
     "execution_count": 248,
     "metadata": {},
     "output_type": "execute_result"
    }
   ],
   "source": [
    "peer.groupby('Household_Head_Gender').apply(lambda x: len(x[x['Total Savings (Ugx)'] != 0]) / len(x))"
   ]
  },
  {
   "cell_type": "code",
   "execution_count": null,
   "id": "506f4304-73d7-4a0e-b482-a65a777c00ca",
   "metadata": {},
   "outputs": [],
   "source": []
  },
  {
   "cell_type": "code",
   "execution_count": 66,
   "id": "dfc8d79e-667b-418f-9d06-360720412324",
   "metadata": {},
   "outputs": [
    {
     "data": {
      "text/plain": [
       "new_status\n",
       "PEER           37.848871\n",
       "RTV_nonvsla    53.633870\n",
       "RTV_vsla       76.985118\n",
       "Name: Total Savings (Ugx), dtype: float64"
      ]
     },
     "execution_count": 66,
     "metadata": {},
     "output_type": "execute_result"
    }
   ],
   "source": [
    "# Total Savings\n",
    "(df.groupby('new_status')['Total Savings (Ugx)'].mean() * (adjusted_cpi/100))/rate"
   ]
  },
  {
   "cell_type": "code",
   "execution_count": 22,
   "id": "cada007e-221e-45ac-a74a-28132aaf5fea",
   "metadata": {},
   "outputs": [
    {
     "data": {
      "text/plain": [
       "76.98511758872725"
      ]
     },
     "execution_count": 22,
     "metadata": {},
     "output_type": "execute_result"
    }
   ],
   "source": [
    "rtv_vsf['Total Savings (Ugx)'].mean() * (adjusted_cpi/100)/rate"
   ]
  },
  {
   "cell_type": "code",
   "execution_count": 23,
   "id": "3831c322-52ca-4a2b-8b75-3f916185a587",
   "metadata": {},
   "outputs": [
    {
     "data": {
      "text/plain": [
       "77.77218588356408"
      ]
     },
     "execution_count": 23,
     "metadata": {},
     "output_type": "execute_result"
    }
   ],
   "source": [
    "rtv_vsf[rtv_vsf['Total Savings (Ugx)'] != 0]['Total Savings (Ugx)'].mean() * (adjusted_cpi/100)/rate"
   ]
  },
  {
   "cell_type": "code",
   "execution_count": 24,
   "id": "737d9a8e-228d-497f-9982-625e9ddcbac9",
   "metadata": {},
   "outputs": [
    {
     "data": {
      "text/plain": [
       "F_onewayResult(statistic=12.151529236440386, pvalue=5.416227724181246e-06)"
      ]
     },
     "execution_count": 24,
     "metadata": {},
     "output_type": "execute_result"
    }
   ],
   "source": [
    "f_oneway(peer['Total Savings (Ugx)'], rtv_vsf['Total Savings (Ugx)'],rtv_nvsf['Total Savings (Ugx)'])"
   ]
  },
  {
   "cell_type": "code",
   "execution_count": 25,
   "id": "84eb07a0-cca2-4416-84eb-665ecffb25c6",
   "metadata": {},
   "outputs": [
    {
     "data": {
      "text/html": [
       "<div>\n",
       "<style scoped>\n",
       "    .dataframe tbody tr th:only-of-type {\n",
       "        vertical-align: middle;\n",
       "    }\n",
       "\n",
       "    .dataframe tbody tr th {\n",
       "        vertical-align: top;\n",
       "    }\n",
       "\n",
       "    .dataframe thead th {\n",
       "        text-align: right;\n",
       "    }\n",
       "</style>\n",
       "<table border=\"1\" class=\"dataframe\">\n",
       "  <thead>\n",
       "    <tr style=\"text-align: right;\">\n",
       "      <th></th>\n",
       "      <th>Source</th>\n",
       "      <th>ddof1</th>\n",
       "      <th>ddof2</th>\n",
       "      <th>F</th>\n",
       "      <th>p-unc</th>\n",
       "      <th>np2</th>\n",
       "    </tr>\n",
       "  </thead>\n",
       "  <tbody>\n",
       "    <tr>\n",
       "      <th>0</th>\n",
       "      <td>new_status</td>\n",
       "      <td>2</td>\n",
       "      <td>5793</td>\n",
       "      <td>12.151529</td>\n",
       "      <td>0.000005</td>\n",
       "      <td>0.004178</td>\n",
       "    </tr>\n",
       "  </tbody>\n",
       "</table>\n",
       "</div>"
      ],
      "text/plain": [
       "       Source  ddof1  ddof2          F     p-unc       np2\n",
       "0  new_status      2   5793  12.151529  0.000005  0.004178"
      ]
     },
     "execution_count": 25,
     "metadata": {},
     "output_type": "execute_result"
    }
   ],
   "source": [
    "pg.anova(data=df, dv='Total Savings (Ugx)', between='new_status', detailed=False)"
   ]
  },
  {
   "cell_type": "code",
   "execution_count": 26,
   "id": "54b3cc7e-d381-4d17-888e-94ca857ca177",
   "metadata": {},
   "outputs": [
    {
     "name": "stderr",
     "output_type": "stream",
     "text": [
      "/Users/rtv-lpt-127/mambaforge/lib/python3.10/site-packages/seaborn/_oldcore.py:1498: FutureWarning: is_categorical_dtype is deprecated and will be removed in a future version. Use isinstance(dtype, CategoricalDtype) instead\n",
      "  if pd.api.types.is_categorical_dtype(vector):\n",
      "/Users/rtv-lpt-127/mambaforge/lib/python3.10/site-packages/seaborn/_oldcore.py:1498: FutureWarning: is_categorical_dtype is deprecated and will be removed in a future version. Use isinstance(dtype, CategoricalDtype) instead\n",
      "  if pd.api.types.is_categorical_dtype(vector):\n",
      "/Users/rtv-lpt-127/mambaforge/lib/python3.10/site-packages/seaborn/_oldcore.py:1498: FutureWarning: is_categorical_dtype is deprecated and will be removed in a future version. Use isinstance(dtype, CategoricalDtype) instead\n",
      "  if pd.api.types.is_categorical_dtype(vector):\n"
     ]
    },
    {
     "data": {
      "image/png": "[encoded data removed]",
      "text/plain": [
       "<Figure size 640x480 with 1 Axes>"
      ]
     },
     "metadata": {},
     "output_type": "display_data"
    }
   ],
   "source": [
    "import seaborn as sns\n",
    "\n",
    "fig = sns.pointplot(x='new_status', y = 'Total Savings (Ugx)', data = df)\n",
    "sns.despine()"
   ]
  },
  {
   "cell_type": "code",
   "execution_count": 27,
   "id": "57fe3865-b45b-48b7-b19c-4fb85ebb2f47",
   "metadata": {},
   "outputs": [
    {
     "name": "stderr",
     "output_type": "stream",
     "text": [
      "/Users/rtv-lpt-127/mambaforge/lib/python3.10/site-packages/seaborn/_oldcore.py:1498: FutureWarning: is_categorical_dtype is deprecated and will be removed in a future version. Use isinstance(dtype, CategoricalDtype) instead\n",
      "  if pd.api.types.is_categorical_dtype(vector):\n",
      "/Users/rtv-lpt-127/mambaforge/lib/python3.10/site-packages/seaborn/_oldcore.py:1498: FutureWarning: is_categorical_dtype is deprecated and will be removed in a future version. Use isinstance(dtype, CategoricalDtype) instead\n",
      "  if pd.api.types.is_categorical_dtype(vector):\n",
      "/Users/rtv-lpt-127/mambaforge/lib/python3.10/site-packages/seaborn/_oldcore.py:1498: FutureWarning: is_categorical_dtype is deprecated and will be removed in a future version. Use isinstance(dtype, CategoricalDtype) instead\n",
      "  if pd.api.types.is_categorical_dtype(vector):\n"
     ]
    },
    {
     "data": {
      "image/png": "[encoded data removed]",
      "text/plain": [
       "<Figure size 640x480 with 1 Axes>"
      ]
     },
     "metadata": {},
     "output_type": "display_data"
    }
   ],
   "source": [
    "import seaborn as sns\n",
    "\n",
    "fig = sns.pointplot(x='new_status', y = 'Loan Amount (Ugx)', data = df)\n",
    "sns.despine()"
   ]
  },
  {
   "cell_type": "raw",
   "id": "0dfdc067-692c-4039-9150-9f694a844efa",
   "metadata": {},
   "source": [
    "There is a larger improvement in both total savings and Loan amount for RTV participants in VSLA. RTV non VSLA particpats show a lager savings and loan amounts than the control group, but the difference isnt as large."
   ]
  },
  {
   "cell_type": "code",
   "execution_count": 28,
   "id": "e6826146-1aec-414a-b3ac-09c3a1c9ba26",
   "metadata": {},
   "outputs": [
    {
     "data": {
      "text/plain": [
       "new_status\n",
       "PEER           21.640534\n",
       "RTV_nonvsla    24.473426\n",
       "RTV_vsla       30.203284\n",
       "Name: Loan Amount (Ugx), dtype: float64"
      ]
     },
     "execution_count": 28,
     "metadata": {},
     "output_type": "execute_result"
    }
   ],
   "source": [
    "## Loan Amount\n",
    "(df.groupby('new_status')['Loan Amount (Ugx)'].mean() * (adjusted_cpi/100))/rate"
   ]
  },
  {
   "cell_type": "code",
   "execution_count": 29,
   "id": "982fe044-ea34-4ff0-ad9b-765f3cb670fa",
   "metadata": {},
   "outputs": [],
   "source": [
    "subset = df[df['borrowed_past_12_months'] == 1]"
   ]
  },
  {
   "cell_type": "code",
   "execution_count": 30,
   "id": "1521b6da-782f-4f3a-b115-e49f397e0d73",
   "metadata": {},
   "outputs": [
    {
     "data": {
      "text/plain": [
       "Status\n",
       "PEER    139.780183\n",
       "RTV     121.010251\n",
       "Name: Loan Amount (Ugx), dtype: float64"
      ]
     },
     "execution_count": 30,
     "metadata": {},
     "output_type": "execute_result"
    }
   ],
   "source": [
    "(subset.groupby('Status')['Loan Amount (Ugx)'].mean() * (adjusted_cpi/100))/rate"
   ]
  },
  {
   "cell_type": "code",
   "execution_count": 31,
   "id": "761fe426-7f3e-400b-bcdc-1b44684ad543",
   "metadata": {},
   "outputs": [
    {
     "data": {
      "text/plain": [
       "new_status\n",
       "PEER           139.780183\n",
       "RTV_nonvsla    163.816342\n",
       "RTV_vsla        92.362461\n",
       "Name: Loan Amount (Ugx), dtype: float64"
      ]
     },
     "execution_count": 31,
     "metadata": {},
     "output_type": "execute_result"
    }
   ],
   "source": [
    "## Loan Amount for only those that saved\n",
    "(subset.groupby('new_status')['Loan Amount (Ugx)'].mean() * (adjusted_cpi/100))/rate"
   ]
  },
  {
   "cell_type": "code",
   "execution_count": 32,
   "id": "0198168f-75a6-45e6-91f8-d1ab6a1d6307",
   "metadata": {},
   "outputs": [
    {
     "data": {
      "text/plain": [
       "F_onewayResult(statistic=2.5210681674646076, pvalue=0.08046188744314693)"
      ]
     },
     "execution_count": 32,
     "metadata": {},
     "output_type": "execute_result"
    }
   ],
   "source": [
    "f_oneway(peer['Loan Amount (Ugx)'], rtv_vsf['Loan Amount (Ugx)'],rtv_nvsf['Loan Amount (Ugx)'])"
   ]
  },
  {
   "cell_type": "markdown",
   "id": "c10e3a22-be19-4dad-811d-ed1f42e874cd",
   "metadata": {},
   "source": [
    "### Percentage of household active"
   ]
  },
  {
   "cell_type": "code",
   "execution_count": 33,
   "id": "a500723d-4b0d-40da-8862-b1dab26ada61",
   "metadata": {},
   "outputs": [],
   "source": [
    "# helper function\n",
    "def get_df_name(df):\n",
    "    name = [x for x in globals() if globals()[x] is df][0]\n",
    "    return name"
   ]
  },
  {
   "cell_type": "code",
   "execution_count": 34,
   "id": "eeb8ea35-8b94-432e-b2be-92df433d0159",
   "metadata": {},
   "outputs": [
    {
     "name": "stdout",
     "output_type": "stream",
     "text": [
      "peer:0.7109004739336493\n",
      "rtv_vsf:0.9898798228969007\n",
      "rtv_nvsf:0.7465457685664939\n"
     ]
    }
   ],
   "source": [
    "for frame in [peer, rtv_vsf, rtv_nvsf]:\n",
    "    percent = (len(frame[frame['Total Savings (Ugx)'] != 0]) / len(frame))\n",
    "    print(f\"{get_df_name(frame)}:{percent}\")"
   ]
  },
  {
   "cell_type": "code",
   "execution_count": 35,
   "id": "6b536475-3de5-4890-a2de-24312516ba54",
   "metadata": {},
   "outputs": [
    {
     "name": "stdout",
     "output_type": "stream",
     "text": [
      "peer:53.240744979423866\n",
      "rtv_vsf:77.77218588356408\n",
      "rtv_nvsf:71.84270802965747\n"
     ]
    }
   ],
   "source": [
    "for frame in [peer, rtv_vsf, rtv_nvsf]:\n",
    "    save = frame.loc[frame['Total Savings (Ugx)'] != 0]['Total Savings (Ugx)'].mean() * (adjusted_cpi/100)/rate\n",
    "    print(f\"{get_df_name(frame)}:{save}\")"
   ]
  },
  {
   "cell_type": "code",
   "execution_count": 36,
   "id": "d6318190-1911-44a4-a2c8-bbc49683ac1e",
   "metadata": {},
   "outputs": [
    {
     "data": {
      "text/plain": [
       "77.77218588356408"
      ]
     },
     "execution_count": 36,
     "metadata": {},
     "output_type": "execute_result"
    }
   ],
   "source": [
    "# Total savings for households actively saving.\n",
    "rtv_vsf.loc[rtv_vsf['Total Savings (Ugx)'] != 0]['Total Savings (Ugx)'].mean() * (adjusted_cpi/100)/rate"
   ]
  },
  {
   "cell_type": "markdown",
   "id": "4a7e2bdf-f13d-4cd7-97fe-dae13b745579",
   "metadata": {},
   "source": [
    "### Total Outstanding debt"
   ]
  },
  {
   "cell_type": "code",
   "execution_count": 37,
   "id": "72d9e229-a04d-4b81-84a4-802bd128a070",
   "metadata": {},
   "outputs": [],
   "source": [
    "columns = ['bank_loan_remaining',\n",
    "            'sacco_loan_remaining',\n",
    "            'shop_keeper_loan_remaining',\n",
    "            'family_friend_loan_remaining',\n",
    "            'rtv_vsla_loan_remaining',\n",
    "            'other_village_VSLA_loan_remaining',\n",
    "            'money_lender_loan_remaining',\n",
    "            'other_loan_source_loan_remaining']"
   ]
  },
  {
   "cell_type": "code",
   "execution_count": 38,
   "id": "f08bf714-911b-48d9-b4b7-cdbeb8998d69",
   "metadata": {},
   "outputs": [
    {
     "name": "stdout",
     "output_type": "stream",
     "text": [
      "peer:\t18.940612725879117\n",
      "rtv_vsf:\t24.101146636270993\n",
      "rtv_nvsf:\t21.98156234168106\n"
     ]
    }
   ],
   "source": [
    "for frame in [peer, rtv_vsf, rtv_nvsf]:\n",
    "    debt = frame[columns].fillna(0).sum(axis=1).mean() * (adjusted_cpi/100)/rate\n",
    "    print(f\"{get_df_name(frame)}:\\t{debt}\")"
   ]
  },
  {
   "cell_type": "code",
   "execution_count": 39,
   "id": "ffeb53fb-9450-4f92-b6c3-b9b3451fd17c",
   "metadata": {},
   "outputs": [],
   "source": [
    "peer_debt = peer[columns].sum(axis=1)\n",
    "rtv_vsf_debt = rtv_vsf[columns].sum(axis=1)\n",
    "rtv_nvsf_debt = rtv_nvsf[columns].sum(axis=1)"
   ]
  },
  {
   "cell_type": "code",
   "execution_count": 40,
   "id": "de6bb9ee-05c9-437c-a1fc-e921e2ec0205",
   "metadata": {},
   "outputs": [
    {
     "data": {
      "text/plain": [
       "F_onewayResult(statistic=0.7238231215707888, pvalue=0.4849387442844615)"
      ]
     },
     "execution_count": 40,
     "metadata": {},
     "output_type": "execute_result"
    }
   ],
   "source": [
    "f_oneway(peer_debt, rtv_vsf_debt, rtv_nvsf_debt)"
   ]
  },
  {
   "cell_type": "markdown",
   "id": "e54beb3d-2ba3-40d2-b058-d6f8ae8c2a5b",
   "metadata": {},
   "source": [
    "### Loan in the first 12 months"
   ]
  },
  {
   "cell_type": "code",
   "execution_count": 41,
   "id": "082160a0-ccf9-4d07-84d1-fca2b53ae5f7",
   "metadata": {},
   "outputs": [
    {
     "data": {
      "text/html": [
       "<div>\n",
       "<style scoped>\n",
       "    .dataframe tbody tr th:only-of-type {\n",
       "        vertical-align: middle;\n",
       "    }\n",
       "\n",
       "    .dataframe tbody tr th {\n",
       "        vertical-align: top;\n",
       "    }\n",
       "\n",
       "    .dataframe thead th {\n",
       "        text-align: right;\n",
       "    }\n",
       "</style>\n",
       "<table border=\"1\" class=\"dataframe\">\n",
       "  <thead>\n",
       "    <tr style=\"text-align: right;\">\n",
       "      <th>new_status</th>\n",
       "      <th>PEER</th>\n",
       "      <th>RTV_nonvsla</th>\n",
       "      <th>RTV_vsla</th>\n",
       "    </tr>\n",
       "    <tr>\n",
       "      <th>borrowed_past_12_months</th>\n",
       "      <th></th>\n",
       "      <th></th>\n",
       "      <th></th>\n",
       "    </tr>\n",
       "  </thead>\n",
       "  <tbody>\n",
       "    <tr>\n",
       "      <th>0</th>\n",
       "      <td>0.845182</td>\n",
       "      <td>0.850604</td>\n",
       "      <td>0.672992</td>\n",
       "    </tr>\n",
       "    <tr>\n",
       "      <th>1</th>\n",
       "      <td>0.154818</td>\n",
       "      <td>0.149396</td>\n",
       "      <td>0.327008</td>\n",
       "    </tr>\n",
       "  </tbody>\n",
       "</table>\n",
       "</div>"
      ],
      "text/plain": [
       "new_status                   PEER  RTV_nonvsla  RTV_vsla\n",
       "borrowed_past_12_months                                 \n",
       "0                        0.845182     0.850604  0.672992\n",
       "1                        0.154818     0.149396  0.327008"
      ]
     },
     "execution_count": 41,
     "metadata": {},
     "output_type": "execute_result"
    }
   ],
   "source": [
    "loan = (df.groupby('new_status')['borrowed_past_12_months'].value_counts(normalize=True)).unstack().transpose()\n",
    "loan"
   ]
  },
  {
   "cell_type": "code",
   "execution_count": 146,
   "id": "be88636f-19f1-4522-8151-2bc431019912",
   "metadata": {},
   "outputs": [
    {
     "data": {
      "text/plain": [
       "borrowed_past_12_months\n",
       "0    1064\n",
       "1     517\n",
       "Name: count, dtype: int64"
      ]
     },
     "execution_count": 146,
     "metadata": {},
     "output_type": "execute_result"
    }
   ],
   "source": [
    "rtv_vsf['borrowed_past_12_months'].value_counts()"
   ]
  },
  {
   "cell_type": "markdown",
   "id": "18cb7257-4728-454d-991d-e71fb0c6b8eb",
   "metadata": {},
   "source": [
    "## Percentage of households in vsla"
   ]
  },
  {
   "cell_type": "code",
   "execution_count": 67,
   "id": "7c98c3e6-d908-4e1e-824b-26ff18a5b2fb",
   "metadata": {},
   "outputs": [
    {
     "data": {
      "text/plain": [
       "vsla_participation\n",
       "False    4266\n",
       "True     1530\n",
       "Name: count, dtype: int64"
      ]
     },
     "execution_count": 67,
     "metadata": {},
     "output_type": "execute_result"
    }
   ],
   "source": [
    "df['vsla_participation'].value_counts()"
   ]
  },
  {
   "cell_type": "code",
   "execution_count": 69,
   "id": "5afe238b-0b3d-46cf-acda-3b6e4a5638f1",
   "metadata": {},
   "outputs": [
    {
     "data": {
      "text/plain": [
       "vsla_participation\n",
       "False    0.993154\n",
       "True     0.006846\n",
       "Name: proportion, dtype: float64"
      ]
     },
     "execution_count": 69,
     "metadata": {},
     "output_type": "execute_result"
    }
   ],
   "source": [
    "peer['vsla_participation'].value_counts(normalize=True)"
   ]
  },
  {
   "cell_type": "code",
   "execution_count": 70,
   "id": "9abd04e6-0ed6-45c3-8932-8e0874492416",
   "metadata": {},
   "outputs": [
    {
     "data": {
      "text/plain": [
       "vsla_participation\n",
       "False    1.0\n",
       "Name: proportion, dtype: float64"
      ]
     },
     "execution_count": 70,
     "metadata": {},
     "output_type": "execute_result"
    }
   ],
   "source": [
    "rtv_nvsf['vsla_participation'].value_counts(normalize=True)"
   ]
  },
  {
   "cell_type": "code",
   "execution_count": 43,
   "id": "9756dfe0-2509-4668-898a-f850470e9d6e",
   "metadata": {},
   "outputs": [
    {
     "data": {
      "text/plain": [
       "0.3270082226438963"
      ]
     },
     "execution_count": 43,
     "metadata": {},
     "output_type": "execute_result"
    }
   ],
   "source": [
    "517/(517+1064)"
   ]
  },
  {
   "cell_type": "markdown",
   "id": "ed1e4bac-15d1-451a-be30-06940d434bc7",
   "metadata": {},
   "source": [
    "### Interest Rate"
   ]
  },
  {
   "cell_type": "code",
   "execution_count": 44,
   "id": "5acabd1e-1634-4f93-9f79-f5cd97446fe4",
   "metadata": {},
   "outputs": [
    {
     "name": "stdout",
     "output_type": "stream",
     "text": [
      "peer:\t5.284861591695501\n",
      "rtv_vsf:\t4.267198443579767\n",
      "rtv_nvsf:\t4.757902654867256\n"
     ]
    }
   ],
   "source": [
    "for frame in [peer, rtv_vsf, rtv_nvsf]:\n",
    "    interest = frame[frame['Interest'] != 0.]['Interest'].mean()\n",
    "    print(f\"{get_df_name(frame)}:\\t{interest}\")"
   ]
  },
  {
   "cell_type": "code",
   "execution_count": null,
   "id": "4fe68099-4049-4109-8290-82ea1470af8c",
   "metadata": {},
   "outputs": [],
   "source": []
  },
  {
   "cell_type": "markdown",
   "id": "0bea28a3-daaa-4675-8d36-ec319b1efc0e",
   "metadata": {},
   "source": [
    "# Income Earnings and Asssets"
   ]
  },
  {
   "cell_type": "code",
   "execution_count": 109,
   "id": "30b6c7e4-7aab-4efb-b81c-2e4294ccf7ea",
   "metadata": {},
   "outputs": [
    {
     "data": {
      "text/plain": [
       "238.65437850640475"
      ]
     },
     "execution_count": 109,
     "metadata": {},
     "output_type": "execute_result"
    }
   ],
   "source": [
    "#Annual Agric Income\n",
    "(rtv_nvsf[['Perenial Crops Income (USD_Cons_rate)','Seasonal Crops Income (USD_Cons_rate)']].sum(axis=1)).mean()"
   ]
  },
  {
   "cell_type": "code",
   "execution_count": 110,
   "id": "9fa6e996-abfb-4a0d-ae94-2fb7c6d9d2d6",
   "metadata": {},
   "outputs": [
    {
     "data": {
      "text/plain": [
       "Perenial Crops Income (USD_Cons_rate)          127.486010\n",
       "Perennial Agriculture Value (USD_Cons_rate)    268.022003\n",
       "Agriculture Value (USD_Cons_rate)              560.655393\n",
       "dtype: float64"
      ]
     },
     "execution_count": 110,
     "metadata": {},
     "output_type": "execute_result"
    }
   ],
   "source": [
    "rtv_nvsf[[\n",
    "    'Perenial Crops Income (USD_Cons_rate)',\n",
    "    'Perennial Agriculture Value (USD_Cons_rate)',\n",
    "    'Agriculture Value (USD_Cons_rate)'\n",
    "]].mean().transpose()"
   ]
  },
  {
   "cell_type": "code",
   "execution_count": 45,
   "id": "6af64e7e-58e0-4562-aca9-85d81f4f5aab",
   "metadata": {},
   "outputs": [
    {
     "data": {
      "text/html": [
       "<div>\n",
       "<style scoped>\n",
       "    .dataframe tbody tr th:only-of-type {\n",
       "        vertical-align: middle;\n",
       "    }\n",
       "\n",
       "    .dataframe tbody tr th {\n",
       "        vertical-align: top;\n",
       "    }\n",
       "\n",
       "    .dataframe thead th {\n",
       "        text-align: right;\n",
       "    }\n",
       "</style>\n",
       "<table border=\"1\" class=\"dataframe\">\n",
       "  <thead>\n",
       "    <tr style=\"text-align: right;\">\n",
       "      <th>new_status</th>\n",
       "      <th>PEER</th>\n",
       "      <th>RTV_nonvsla</th>\n",
       "      <th>RTV_vsla</th>\n",
       "    </tr>\n",
       "  </thead>\n",
       "  <tbody>\n",
       "    <tr>\n",
       "      <th>Personal Business &amp; Self Employment (USD_Cons_rate)</th>\n",
       "      <td>37.784569</td>\n",
       "      <td>65.591896</td>\n",
       "      <td>82.865723</td>\n",
       "    </tr>\n",
       "    <tr>\n",
       "      <th>Seasonal Crops Income (USD_Cons_rate)</th>\n",
       "      <td>46.677270</td>\n",
       "      <td>111.168368</td>\n",
       "      <td>135.076845</td>\n",
       "    </tr>\n",
       "    <tr>\n",
       "      <th>Seasonal  Agriculture Value (USD_Cons_rate)</th>\n",
       "      <td>183.484331</td>\n",
       "      <td>292.633390</td>\n",
       "      <td>343.952211</td>\n",
       "    </tr>\n",
       "    <tr>\n",
       "      <th>Livestock Income (USD_Cons_rate)</th>\n",
       "      <td>9.978979</td>\n",
       "      <td>20.175593</td>\n",
       "      <td>29.226014</td>\n",
       "    </tr>\n",
       "    <tr>\n",
       "      <th>Assets (USD_Cons_rate)</th>\n",
       "      <td>101.689130</td>\n",
       "      <td>183.786609</td>\n",
       "      <td>236.608194</td>\n",
       "    </tr>\n",
       "    <tr>\n",
       "      <th>HH Income (USD_Cons_rate)</th>\n",
       "      <td>281.445324</td>\n",
       "      <td>464.124237</td>\n",
       "      <td>513.651618</td>\n",
       "    </tr>\n",
       "    <tr>\n",
       "      <th>HH Income + Consumption + Residues (USD_Cons_rate)</th>\n",
       "      <td>486.904836</td>\n",
       "      <td>788.350217</td>\n",
       "      <td>860.715423</td>\n",
       "    </tr>\n",
       "    <tr>\n",
       "      <th>HH Income/Day (USD_Cons_rate)</th>\n",
       "      <td>0.771083</td>\n",
       "      <td>1.271573</td>\n",
       "      <td>1.407265</td>\n",
       "    </tr>\n",
       "    <tr>\n",
       "      <th>HH Income + Consumption + Residues/Day (USD_Cons_rate)</th>\n",
       "      <td>1.333986</td>\n",
       "      <td>2.159864</td>\n",
       "      <td>2.358124</td>\n",
       "    </tr>\n",
       "  </tbody>\n",
       "</table>\n",
       "</div>"
      ],
      "text/plain": [
       "new_status                                                    PEER  \\\n",
       "Personal Business & Self Employment (USD_Cons_rate)      37.784569   \n",
       "Seasonal Crops Income (USD_Cons_rate)                    46.677270   \n",
       "Seasonal  Agriculture Value (USD_Cons_rate)             183.484331   \n",
       "Livestock Income (USD_Cons_rate)                          9.978979   \n",
       "Assets (USD_Cons_rate)                                  101.689130   \n",
       "HH Income (USD_Cons_rate)                               281.445324   \n",
       "HH Income + Consumption + Residues (USD_Cons_rate)      486.904836   \n",
       "HH Income/Day (USD_Cons_rate)                             0.771083   \n",
       "HH Income + Consumption + Residues/Day (USD_Cons_rate)    1.333986   \n",
       "\n",
       "new_status                                              RTV_nonvsla  \\\n",
       "Personal Business & Self Employment (USD_Cons_rate)       65.591896   \n",
       "Seasonal Crops Income (USD_Cons_rate)                    111.168368   \n",
       "Seasonal  Agriculture Value (USD_Cons_rate)              292.633390   \n",
       "Livestock Income (USD_Cons_rate)                          20.175593   \n",
       "Assets (USD_Cons_rate)                                   183.786609   \n",
       "HH Income (USD_Cons_rate)                                464.124237   \n",
       "HH Income + Consumption + Residues (USD_Cons_rate)       788.350217   \n",
       "HH Income/Day (USD_Cons_rate)                              1.271573   \n",
       "HH Income + Consumption + Residues/Day (USD_Cons_rate)     2.159864   \n",
       "\n",
       "new_status                                                RTV_vsla  \n",
       "Personal Business & Self Employment (USD_Cons_rate)      82.865723  \n",
       "Seasonal Crops Income (USD_Cons_rate)                   135.076845  \n",
       "Seasonal  Agriculture Value (USD_Cons_rate)             343.952211  \n",
       "Livestock Income (USD_Cons_rate)                         29.226014  \n",
       "Assets (USD_Cons_rate)                                  236.608194  \n",
       "HH Income (USD_Cons_rate)                               513.651618  \n",
       "HH Income + Consumption + Residues (USD_Cons_rate)      860.715423  \n",
       "HH Income/Day (USD_Cons_rate)                             1.407265  \n",
       "HH Income + Consumption + Residues/Day (USD_Cons_rate)    2.358124  "
      ]
     },
     "execution_count": 45,
     "metadata": {},
     "output_type": "execute_result"
    }
   ],
   "source": [
    "df.groupby('new_status')[[\n",
    "    'Personal Business & Self Employment (USD_Cons_rate)',\n",
    "    'Seasonal Crops Income (USD_Cons_rate)',\n",
    "    'Seasonal  Agriculture Value (USD_Cons_rate)',\n",
    "    'Livestock Income (USD_Cons_rate)',\n",
    "    'Assets (USD_Cons_rate)',\n",
    "    'HH Income (USD_Cons_rate)',\n",
    "    'HH Income + Consumption + Residues (USD_Cons_rate)',\n",
    "    'HH Income/Day (USD_Cons_rate)',\n",
    "    'HH Income + Consumption + Residues/Day (USD_Cons_rate)'\n",
    "]].mean().transpose()"
   ]
  },
  {
   "cell_type": "markdown",
   "id": "acbab0b8-6a13-4ad9-8063-e8d14bf1f44d",
   "metadata": {},
   "source": [
    "## Purpose of the Loan"
   ]
  },
  {
   "cell_type": "raw",
   "id": "2e719365-bec5-44f0-84cd-9b2a4cc87f40",
   "metadata": {},
   "source": [
    "1\tSchool Fees\n",
    "2\tHome construction\n",
    "3\tBusiness\n",
    "4\tAgriculture inputs\n",
    "5\tMedicine and Sickness\n",
    "6\tLivestock\n",
    "7\tBuying land\n",
    "8\tHousehold items\n",
    "9\tTo repay other debts\n",
    "97\tOthers\tOthers"
   ]
  },
  {
   "cell_type": "code",
   "execution_count": 46,
   "id": "6af4981f-a6c4-401f-a3f6-e375cbda23d9",
   "metadata": {},
   "outputs": [
    {
     "data": {
      "text/html": [
       "<div>\n",
       "<style scoped>\n",
       "    .dataframe tbody tr th:only-of-type {\n",
       "        vertical-align: middle;\n",
       "    }\n",
       "\n",
       "    .dataframe tbody tr th {\n",
       "        vertical-align: top;\n",
       "    }\n",
       "\n",
       "    .dataframe thead th {\n",
       "        text-align: right;\n",
       "    }\n",
       "</style>\n",
       "<table border=\"1\" class=\"dataframe\">\n",
       "  <thead>\n",
       "    <tr style=\"text-align: right;\">\n",
       "      <th>new_status</th>\n",
       "      <th>PEER</th>\n",
       "      <th>RTV_nonvsla</th>\n",
       "      <th>RTV_vsla</th>\n",
       "    </tr>\n",
       "    <tr>\n",
       "      <th>purpose_for_borrow</th>\n",
       "      <th></th>\n",
       "      <th></th>\n",
       "      <th></th>\n",
       "    </tr>\n",
       "  </thead>\n",
       "  <tbody>\n",
       "    <tr>\n",
       "      <th>1.0</th>\n",
       "      <td>34.353741</td>\n",
       "      <td>31.502890</td>\n",
       "      <td>28.820116</td>\n",
       "    </tr>\n",
       "    <tr>\n",
       "      <th>2.0</th>\n",
       "      <td>8.503401</td>\n",
       "      <td>6.069364</td>\n",
       "      <td>3.675048</td>\n",
       "    </tr>\n",
       "    <tr>\n",
       "      <th>3.0</th>\n",
       "      <td>11.904762</td>\n",
       "      <td>15.895954</td>\n",
       "      <td>9.477756</td>\n",
       "    </tr>\n",
       "    <tr>\n",
       "      <th>4.0</th>\n",
       "      <td>17.687075</td>\n",
       "      <td>16.473988</td>\n",
       "      <td>21.663443</td>\n",
       "    </tr>\n",
       "    <tr>\n",
       "      <th>5.0</th>\n",
       "      <td>7.142857</td>\n",
       "      <td>7.514451</td>\n",
       "      <td>2.901354</td>\n",
       "    </tr>\n",
       "    <tr>\n",
       "      <th>6.0</th>\n",
       "      <td>2.040816</td>\n",
       "      <td>7.225434</td>\n",
       "      <td>22.630561</td>\n",
       "    </tr>\n",
       "    <tr>\n",
       "      <th>7.0</th>\n",
       "      <td>5.442177</td>\n",
       "      <td>5.202312</td>\n",
       "      <td>3.094778</td>\n",
       "    </tr>\n",
       "    <tr>\n",
       "      <th>8.0</th>\n",
       "      <td>6.462585</td>\n",
       "      <td>4.335260</td>\n",
       "      <td>4.835590</td>\n",
       "    </tr>\n",
       "    <tr>\n",
       "      <th>9.0</th>\n",
       "      <td>2.380952</td>\n",
       "      <td>3.179191</td>\n",
       "      <td>1.740812</td>\n",
       "    </tr>\n",
       "    <tr>\n",
       "      <th>97.0</th>\n",
       "      <td>4.081633</td>\n",
       "      <td>2.601156</td>\n",
       "      <td>1.160542</td>\n",
       "    </tr>\n",
       "  </tbody>\n",
       "</table>\n",
       "</div>"
      ],
      "text/plain": [
       "new_status               PEER  RTV_nonvsla   RTV_vsla\n",
       "purpose_for_borrow                                   \n",
       "1.0                 34.353741    31.502890  28.820116\n",
       "2.0                  8.503401     6.069364   3.675048\n",
       "3.0                 11.904762    15.895954   9.477756\n",
       "4.0                 17.687075    16.473988  21.663443\n",
       "5.0                  7.142857     7.514451   2.901354\n",
       "6.0                  2.040816     7.225434  22.630561\n",
       "7.0                  5.442177     5.202312   3.094778\n",
       "8.0                  6.462585     4.335260   4.835590\n",
       "9.0                  2.380952     3.179191   1.740812\n",
       "97.0                 4.081633     2.601156   1.160542"
      ]
     },
     "execution_count": 46,
     "metadata": {},
     "output_type": "execute_result"
    }
   ],
   "source": [
    "((df.groupby('new_status')['purpose_for_borrow'].value_counts(normalize=True)*100).unstack()).transpose()"
   ]
  },
  {
   "cell_type": "code",
   "execution_count": 47,
   "id": "acee234d-2d8c-466f-8f7d-c98e9a037354",
   "metadata": {},
   "outputs": [
    {
     "data": {
      "text/plain": [
       "purpose_for_borrow\n",
       "1.0     149\n",
       "6.0     117\n",
       "4.0     112\n",
       "3.0      49\n",
       "8.0      25\n",
       "2.0      19\n",
       "7.0      16\n",
       "5.0      15\n",
       "9.0       9\n",
       "97.0      6\n",
       "Name: count, dtype: int64"
      ]
     },
     "execution_count": 47,
     "metadata": {},
     "output_type": "execute_result"
    }
   ],
   "source": [
    "rtv_vsf['purpose_for_borrow'].value_counts()"
   ]
  },
  {
   "cell_type": "code",
   "execution_count": null,
   "id": "268838eb-c8de-4e7b-a7cb-d57b3a0b8ad6",
   "metadata": {},
   "outputs": [],
   "source": []
  },
  {
   "cell_type": "code",
   "execution_count": 141,
   "id": "7ee01824-6bc4-4486-a350-391e02d6bb6e",
   "metadata": {},
   "outputs": [
    {
     "data": {
      "text/plain": [
       "6.279411764705882"
      ]
     },
     "execution_count": 141,
     "metadata": {},
     "output_type": "execute_result"
    }
   ],
   "source": [
    "df['other_village_VSLA_loan_term'].mean()"
   ]
  },
  {
   "cell_type": "code",
   "execution_count": 142,
   "id": "31edd417-abb9-4ede-8d59-21fd7db41e6d",
   "metadata": {},
   "outputs": [
    {
     "data": {
      "text/plain": [
       "8.205882352941176"
      ]
     },
     "execution_count": 142,
     "metadata": {},
     "output_type": "execute_result"
    }
   ],
   "source": [
    "df['rtv_vsla_loan_term'].mean()"
   ]
  },
  {
   "cell_type": "code",
   "execution_count": 143,
   "id": "651befa7-03c2-4220-8996-504bd10f93ed",
   "metadata": {},
   "outputs": [
    {
     "data": {
      "text/plain": [
       "11.24390243902439"
      ]
     },
     "execution_count": 143,
     "metadata": {},
     "output_type": "execute_result"
    }
   ],
   "source": [
    "df['bank_loan_term'].mean()"
   ]
  },
  {
   "cell_type": "code",
   "execution_count": 144,
   "id": "f637ce3e-e1f3-45dd-b8a1-254dd7120302",
   "metadata": {},
   "outputs": [
    {
     "data": {
      "text/plain": [
       "10.936170212765957"
      ]
     },
     "execution_count": 144,
     "metadata": {},
     "output_type": "execute_result"
    }
   ],
   "source": [
    "df['sacco_loan_term'].mean()"
   ]
  },
  {
   "cell_type": "markdown",
   "id": "181e64a7-e4f7-4678-b72a-beaa62fee3cf",
   "metadata": {},
   "source": [
    "## Loan Sources"
   ]
  },
  {
   "cell_type": "raw",
   "id": "e0e2c73a-c15f-46f8-83fc-b768e71cb006",
   "metadata": {},
   "source": [
    "1\tBank Account\r\n",
    "2\tSaving and Credit cooperatives (SACCO)\r\n",
    "3\tA mobile Money accounts\r\n",
    "4\tWith a shopkeeper\r\n",
    "5\tWith family and friends\r\n",
    "6\tAt a safe place at home\r\n",
    "7\tRTV VSLA (Cash round)\r\n",
    "8\tOther VSLA\r\n",
    "97\tOther\r\n",
    "99\tNo savings"
   ]
  },
  {
   "cell_type": "code",
   "execution_count": 48,
   "id": "f8dd17e6-c4b3-4416-b058-cebb7ca18b28",
   "metadata": {},
   "outputs": [
    {
     "data": {
      "text/html": [
       "<div>\n",
       "<style scoped>\n",
       "    .dataframe tbody tr th:only-of-type {\n",
       "        vertical-align: middle;\n",
       "    }\n",
       "\n",
       "    .dataframe tbody tr th {\n",
       "        vertical-align: top;\n",
       "    }\n",
       "\n",
       "    .dataframe thead th {\n",
       "        text-align: right;\n",
       "    }\n",
       "</style>\n",
       "<table border=\"1\" class=\"dataframe\">\n",
       "  <thead>\n",
       "    <tr style=\"text-align: right;\">\n",
       "      <th>new_status</th>\n",
       "      <th>PEER</th>\n",
       "      <th>RTV_nonvsla</th>\n",
       "      <th>RTV_vsla</th>\n",
       "    </tr>\n",
       "    <tr>\n",
       "      <th>Loan_from_1</th>\n",
       "      <th></th>\n",
       "      <th></th>\n",
       "      <th></th>\n",
       "    </tr>\n",
       "  </thead>\n",
       "  <tbody>\n",
       "    <tr>\n",
       "      <th>0.0</th>\n",
       "      <td>0.884354</td>\n",
       "      <td>0.921965</td>\n",
       "      <td>0.959381</td>\n",
       "    </tr>\n",
       "    <tr>\n",
       "      <th>1.0</th>\n",
       "      <td>0.115646</td>\n",
       "      <td>0.078035</td>\n",
       "      <td>0.040619</td>\n",
       "    </tr>\n",
       "  </tbody>\n",
       "</table>\n",
       "</div>"
      ],
      "text/plain": [
       "new_status       PEER  RTV_nonvsla  RTV_vsla\n",
       "Loan_from_1                                 \n",
       "0.0          0.884354     0.921965  0.959381\n",
       "1.0          0.115646     0.078035  0.040619"
      ]
     },
     "execution_count": 48,
     "metadata": {},
     "output_type": "execute_result"
    }
   ],
   "source": [
    "#Bank Account\n",
    "(df.groupby('new_status')['Loan_from_1'].value_counts(normalize=True)).unstack().transpose()"
   ]
  },
  {
   "cell_type": "code",
   "execution_count": 145,
   "id": "72d213a8-e865-40de-a89a-4a67871e1bc8",
   "metadata": {},
   "outputs": [
    {
     "data": {
      "text/html": [
       "<div>\n",
       "<style scoped>\n",
       "    .dataframe tbody tr th:only-of-type {\n",
       "        vertical-align: middle;\n",
       "    }\n",
       "\n",
       "    .dataframe tbody tr th {\n",
       "        vertical-align: top;\n",
       "    }\n",
       "\n",
       "    .dataframe thead th {\n",
       "        text-align: right;\n",
       "    }\n",
       "</style>\n",
       "<table border=\"1\" class=\"dataframe\">\n",
       "  <thead>\n",
       "    <tr style=\"text-align: right;\">\n",
       "      <th>new_status</th>\n",
       "      <th>PEER</th>\n",
       "      <th>RTV_nonvsla</th>\n",
       "      <th>RTV_vsla</th>\n",
       "    </tr>\n",
       "    <tr>\n",
       "      <th>Loan_from_2</th>\n",
       "      <th></th>\n",
       "      <th></th>\n",
       "      <th></th>\n",
       "    </tr>\n",
       "  </thead>\n",
       "  <tbody>\n",
       "    <tr>\n",
       "      <th>0.0</th>\n",
       "      <td>0.734694</td>\n",
       "      <td>0.797688</td>\n",
       "      <td>0.922631</td>\n",
       "    </tr>\n",
       "    <tr>\n",
       "      <th>1.0</th>\n",
       "      <td>0.265306</td>\n",
       "      <td>0.202312</td>\n",
       "      <td>0.077369</td>\n",
       "    </tr>\n",
       "  </tbody>\n",
       "</table>\n",
       "</div>"
      ],
      "text/plain": [
       "new_status       PEER  RTV_nonvsla  RTV_vsla\n",
       "Loan_from_2                                 \n",
       "0.0          0.734694     0.797688  0.922631\n",
       "1.0          0.265306     0.202312  0.077369"
      ]
     },
     "execution_count": 145,
     "metadata": {},
     "output_type": "execute_result"
    }
   ],
   "source": [
    "#saving and Credit accounts\n",
    "(df.groupby('new_status')['Loan_from_2'].value_counts(normalize=True)).unstack().transpose()"
   ]
  },
  {
   "cell_type": "code",
   "execution_count": 50,
   "id": "d0b50a9f-ba96-48d1-9fed-9fde5739231a",
   "metadata": {},
   "outputs": [
    {
     "data": {
      "text/html": [
       "<div>\n",
       "<style scoped>\n",
       "    .dataframe tbody tr th:only-of-type {\n",
       "        vertical-align: middle;\n",
       "    }\n",
       "\n",
       "    .dataframe tbody tr th {\n",
       "        vertical-align: top;\n",
       "    }\n",
       "\n",
       "    .dataframe thead th {\n",
       "        text-align: right;\n",
       "    }\n",
       "</style>\n",
       "<table border=\"1\" class=\"dataframe\">\n",
       "  <thead>\n",
       "    <tr style=\"text-align: right;\">\n",
       "      <th>new_status</th>\n",
       "      <th>PEER</th>\n",
       "      <th>RTV_nonvsla</th>\n",
       "      <th>RTV_vsla</th>\n",
       "    </tr>\n",
       "    <tr>\n",
       "      <th>Loan_from_7</th>\n",
       "      <th></th>\n",
       "      <th></th>\n",
       "      <th></th>\n",
       "    </tr>\n",
       "  </thead>\n",
       "  <tbody>\n",
       "    <tr>\n",
       "      <th>0.0</th>\n",
       "      <td>1.0</td>\n",
       "      <td>0.699422</td>\n",
       "      <td>0.280464</td>\n",
       "    </tr>\n",
       "    <tr>\n",
       "      <th>1.0</th>\n",
       "      <td>NaN</td>\n",
       "      <td>0.300578</td>\n",
       "      <td>0.719536</td>\n",
       "    </tr>\n",
       "  </tbody>\n",
       "</table>\n",
       "</div>"
      ],
      "text/plain": [
       "new_status   PEER  RTV_nonvsla  RTV_vsla\n",
       "Loan_from_7                             \n",
       "0.0           1.0     0.699422  0.280464\n",
       "1.0           NaN     0.300578  0.719536"
      ]
     },
     "execution_count": 50,
     "metadata": {},
     "output_type": "execute_result"
    }
   ],
   "source": [
    "# RTV VSLA\n",
    "(df.groupby('new_status')['Loan_from_7'].value_counts(normalize=True)).unstack().transpose()"
   ]
  },
  {
   "cell_type": "code",
   "execution_count": 51,
   "id": "b8c74799-62e0-4780-8724-8082888ce0ea",
   "metadata": {},
   "outputs": [
    {
     "data": {
      "text/html": [
       "<div>\n",
       "<style scoped>\n",
       "    .dataframe tbody tr th:only-of-type {\n",
       "        vertical-align: middle;\n",
       "    }\n",
       "\n",
       "    .dataframe tbody tr th {\n",
       "        vertical-align: top;\n",
       "    }\n",
       "\n",
       "    .dataframe thead th {\n",
       "        text-align: right;\n",
       "    }\n",
       "</style>\n",
       "<table border=\"1\" class=\"dataframe\">\n",
       "  <thead>\n",
       "    <tr style=\"text-align: right;\">\n",
       "      <th>new_status</th>\n",
       "      <th>PEER</th>\n",
       "      <th>RTV_nonvsla</th>\n",
       "      <th>RTV_vsla</th>\n",
       "    </tr>\n",
       "    <tr>\n",
       "      <th>Loan_from_3</th>\n",
       "      <th></th>\n",
       "      <th></th>\n",
       "      <th></th>\n",
       "    </tr>\n",
       "  </thead>\n",
       "  <tbody>\n",
       "    <tr>\n",
       "      <th>0.0</th>\n",
       "      <td>1.0</td>\n",
       "      <td>1.0</td>\n",
       "      <td>1.0</td>\n",
       "    </tr>\n",
       "  </tbody>\n",
       "</table>\n",
       "</div>"
      ],
      "text/plain": [
       "new_status   PEER  RTV_nonvsla  RTV_vsla\n",
       "Loan_from_3                             \n",
       "0.0           1.0          1.0       1.0"
      ]
     },
     "execution_count": 51,
     "metadata": {},
     "output_type": "execute_result"
    }
   ],
   "source": [
    "# RTV VSLA\n",
    "(df.groupby('new_status')['Loan_from_3'].value_counts(normalize=True)).unstack().transpose()"
   ]
  },
  {
   "cell_type": "code",
   "execution_count": 52,
   "id": "73310222-e48d-4159-a40e-382e8a2a89ce",
   "metadata": {},
   "outputs": [
    {
     "data": {
      "text/html": [
       "<div>\n",
       "<style scoped>\n",
       "    .dataframe tbody tr th:only-of-type {\n",
       "        vertical-align: middle;\n",
       "    }\n",
       "\n",
       "    .dataframe tbody tr th {\n",
       "        vertical-align: top;\n",
       "    }\n",
       "\n",
       "    .dataframe thead th {\n",
       "        text-align: right;\n",
       "    }\n",
       "</style>\n",
       "<table border=\"1\" class=\"dataframe\">\n",
       "  <thead>\n",
       "    <tr style=\"text-align: right;\">\n",
       "      <th>new_status</th>\n",
       "      <th>PEER</th>\n",
       "      <th>RTV_nonvsla</th>\n",
       "      <th>RTV_vsla</th>\n",
       "    </tr>\n",
       "    <tr>\n",
       "      <th>Loan_from_8</th>\n",
       "      <th></th>\n",
       "      <th></th>\n",
       "      <th></th>\n",
       "    </tr>\n",
       "  </thead>\n",
       "  <tbody>\n",
       "    <tr>\n",
       "      <th>0.0</th>\n",
       "      <td>0.496599</td>\n",
       "      <td>0.638728</td>\n",
       "      <td>0.870406</td>\n",
       "    </tr>\n",
       "    <tr>\n",
       "      <th>1.0</th>\n",
       "      <td>0.503401</td>\n",
       "      <td>0.361272</td>\n",
       "      <td>0.129594</td>\n",
       "    </tr>\n",
       "  </tbody>\n",
       "</table>\n",
       "</div>"
      ],
      "text/plain": [
       "new_status       PEER  RTV_nonvsla  RTV_vsla\n",
       "Loan_from_8                                 \n",
       "0.0          0.496599     0.638728  0.870406\n",
       "1.0          0.503401     0.361272  0.129594"
      ]
     },
     "execution_count": 52,
     "metadata": {},
     "output_type": "execute_result"
    }
   ],
   "source": [
    "# RTV VSLA\n",
    "(df.groupby('new_status')['Loan_from_8'].value_counts(normalize=True)).unstack().transpose()"
   ]
  },
  {
   "cell_type": "code",
   "execution_count": 53,
   "id": "094ab2cc-abc2-433b-99be-a5a6c90c0b10",
   "metadata": {},
   "outputs": [
    {
     "data": {
      "text/html": [
       "<div>\n",
       "<style scoped>\n",
       "    .dataframe tbody tr th:only-of-type {\n",
       "        vertical-align: middle;\n",
       "    }\n",
       "\n",
       "    .dataframe tbody tr th {\n",
       "        vertical-align: top;\n",
       "    }\n",
       "\n",
       "    .dataframe thead th {\n",
       "        text-align: right;\n",
       "    }\n",
       "</style>\n",
       "<table border=\"1\" class=\"dataframe\">\n",
       "  <thead>\n",
       "    <tr style=\"text-align: right;\">\n",
       "      <th>new_status</th>\n",
       "      <th>PEER</th>\n",
       "      <th>RTV_nonvsla</th>\n",
       "      <th>RTV_vsla</th>\n",
       "    </tr>\n",
       "    <tr>\n",
       "      <th>Loan_from_6</th>\n",
       "      <th></th>\n",
       "      <th></th>\n",
       "      <th></th>\n",
       "    </tr>\n",
       "  </thead>\n",
       "  <tbody>\n",
       "    <tr>\n",
       "      <th>0.0</th>\n",
       "      <td>1.0</td>\n",
       "      <td>0.988439</td>\n",
       "      <td>0.998066</td>\n",
       "    </tr>\n",
       "    <tr>\n",
       "      <th>1.0</th>\n",
       "      <td>NaN</td>\n",
       "      <td>0.011561</td>\n",
       "      <td>0.001934</td>\n",
       "    </tr>\n",
       "  </tbody>\n",
       "</table>\n",
       "</div>"
      ],
      "text/plain": [
       "new_status   PEER  RTV_nonvsla  RTV_vsla\n",
       "Loan_from_6                             \n",
       "0.0           1.0     0.988439  0.998066\n",
       "1.0           NaN     0.011561  0.001934"
      ]
     },
     "execution_count": 53,
     "metadata": {},
     "output_type": "execute_result"
    }
   ],
   "source": [
    "# RTV VSLA\n",
    "(df.groupby('new_status')['Loan_from_6'].value_counts(normalize=True)).unstack().transpose()"
   ]
  },
  {
   "cell_type": "code",
   "execution_count": 54,
   "id": "75c5d2b2-8e08-4e71-b20e-6477722a8309",
   "metadata": {},
   "outputs": [
    {
     "data": {
      "text/html": [
       "<div>\n",
       "<style scoped>\n",
       "    .dataframe tbody tr th:only-of-type {\n",
       "        vertical-align: middle;\n",
       "    }\n",
       "\n",
       "    .dataframe tbody tr th {\n",
       "        vertical-align: top;\n",
       "    }\n",
       "\n",
       "    .dataframe thead th {\n",
       "        text-align: right;\n",
       "    }\n",
       "</style>\n",
       "<table border=\"1\" class=\"dataframe\">\n",
       "  <thead>\n",
       "    <tr style=\"text-align: right;\">\n",
       "      <th>new_status</th>\n",
       "      <th>PEER</th>\n",
       "      <th>RTV_nonvsla</th>\n",
       "      <th>RTV_vsla</th>\n",
       "    </tr>\n",
       "    <tr>\n",
       "      <th>Loan_from_97</th>\n",
       "      <th></th>\n",
       "      <th></th>\n",
       "      <th></th>\n",
       "    </tr>\n",
       "  </thead>\n",
       "  <tbody>\n",
       "    <tr>\n",
       "      <th>0.0</th>\n",
       "      <td>0.965986</td>\n",
       "      <td>0.968208</td>\n",
       "      <td>0.984526</td>\n",
       "    </tr>\n",
       "    <tr>\n",
       "      <th>1.0</th>\n",
       "      <td>0.034014</td>\n",
       "      <td>0.031792</td>\n",
       "      <td>0.015474</td>\n",
       "    </tr>\n",
       "  </tbody>\n",
       "</table>\n",
       "</div>"
      ],
      "text/plain": [
       "new_status        PEER  RTV_nonvsla  RTV_vsla\n",
       "Loan_from_97                                 \n",
       "0.0           0.965986     0.968208  0.984526\n",
       "1.0           0.034014     0.031792  0.015474"
      ]
     },
     "execution_count": 54,
     "metadata": {},
     "output_type": "execute_result"
    }
   ],
   "source": [
    "# RTV VSLA\n",
    "(df.groupby('new_status')['Loan_from_97'].value_counts(normalize=True)).unstack().transpose()"
   ]
  },
  {
   "cell_type": "code",
   "execution_count": 55,
   "id": "7bd434f1-312c-4d22-9000-a98c782fe745",
   "metadata": {},
   "outputs": [
    {
     "data": {
      "text/html": [
       "<div>\n",
       "<style scoped>\n",
       "    .dataframe tbody tr th:only-of-type {\n",
       "        vertical-align: middle;\n",
       "    }\n",
       "\n",
       "    .dataframe tbody tr th {\n",
       "        vertical-align: top;\n",
       "    }\n",
       "\n",
       "    .dataframe thead th {\n",
       "        text-align: right;\n",
       "    }\n",
       "</style>\n",
       "<table border=\"1\" class=\"dataframe\">\n",
       "  <thead>\n",
       "    <tr style=\"text-align: right;\">\n",
       "      <th>new_status</th>\n",
       "      <th>PEER</th>\n",
       "      <th>RTV_nonvsla</th>\n",
       "      <th>RTV_vsla</th>\n",
       "    </tr>\n",
       "    <tr>\n",
       "      <th>Loan_from_99</th>\n",
       "      <th></th>\n",
       "      <th></th>\n",
       "      <th></th>\n",
       "    </tr>\n",
       "  </thead>\n",
       "  <tbody>\n",
       "    <tr>\n",
       "      <th>0.0</th>\n",
       "      <td>98.979592</td>\n",
       "      <td>99.710983</td>\n",
       "      <td>99.806576</td>\n",
       "    </tr>\n",
       "    <tr>\n",
       "      <th>1.0</th>\n",
       "      <td>1.020408</td>\n",
       "      <td>0.289017</td>\n",
       "      <td>0.193424</td>\n",
       "    </tr>\n",
       "  </tbody>\n",
       "</table>\n",
       "</div>"
      ],
      "text/plain": [
       "new_status         PEER  RTV_nonvsla   RTV_vsla\n",
       "Loan_from_99                                   \n",
       "0.0           98.979592    99.710983  99.806576\n",
       "1.0            1.020408     0.289017   0.193424"
      ]
     },
     "execution_count": 55,
     "metadata": {},
     "output_type": "execute_result"
    }
   ],
   "source": [
    "# RTV VSLA\n",
    "(df.groupby('new_status')['Loan_from_99'].value_counts(normalize=True)*100).unstack().transpose()"
   ]
  },
  {
   "cell_type": "code",
   "execution_count": 56,
   "id": "56be4150-d38e-49d7-82be-724dd6f62836",
   "metadata": {},
   "outputs": [
    {
     "data": {
      "text/html": [
       "<div>\n",
       "<style scoped>\n",
       "    .dataframe tbody tr th:only-of-type {\n",
       "        vertical-align: middle;\n",
       "    }\n",
       "\n",
       "    .dataframe tbody tr th {\n",
       "        vertical-align: top;\n",
       "    }\n",
       "\n",
       "    .dataframe thead th {\n",
       "        text-align: right;\n",
       "    }\n",
       "</style>\n",
       "<table border=\"1\" class=\"dataframe\">\n",
       "  <thead>\n",
       "    <tr style=\"text-align: right;\">\n",
       "      <th>new_status</th>\n",
       "      <th>PEER</th>\n",
       "      <th>RTV_nonvsla</th>\n",
       "      <th>RTV_vsla</th>\n",
       "    </tr>\n",
       "    <tr>\n",
       "      <th>Loan_from_4</th>\n",
       "      <th></th>\n",
       "      <th></th>\n",
       "      <th></th>\n",
       "    </tr>\n",
       "  </thead>\n",
       "  <tbody>\n",
       "    <tr>\n",
       "      <th>0.0</th>\n",
       "      <td>100.0</td>\n",
       "      <td>99.421965</td>\n",
       "      <td>100.0</td>\n",
       "    </tr>\n",
       "    <tr>\n",
       "      <th>1.0</th>\n",
       "      <td>NaN</td>\n",
       "      <td>0.578035</td>\n",
       "      <td>NaN</td>\n",
       "    </tr>\n",
       "  </tbody>\n",
       "</table>\n",
       "</div>"
      ],
      "text/plain": [
       "new_status    PEER  RTV_nonvsla  RTV_vsla\n",
       "Loan_from_4                              \n",
       "0.0          100.0    99.421965     100.0\n",
       "1.0            NaN     0.578035       NaN"
      ]
     },
     "execution_count": 56,
     "metadata": {},
     "output_type": "execute_result"
    }
   ],
   "source": [
    "# RTV VSLA\n",
    "(df.groupby('new_status')['Loan_from_4'].value_counts(normalize=True)*100).unstack().transpose()"
   ]
  },
  {
   "cell_type": "code",
   "execution_count": 57,
   "id": "fb16e6c2-88f2-4286-8af7-fa7480737e40",
   "metadata": {},
   "outputs": [],
   "source": [
    "df_c = df.copy()"
   ]
  },
  {
   "cell_type": "code",
   "execution_count": 58,
   "id": "fa10fd23-c5e8-40a8-9317-37fabe02a197",
   "metadata": {},
   "outputs": [],
   "source": [
    "df_c.loc[(df_c['new_status'] == 'RTV_nonvsla') & (df_c['Loan_from_7'] == 1), 'Loan_from_7'] = 0"
   ]
  },
  {
   "cell_type": "code",
   "execution_count": 59,
   "id": "5c2e643f-cded-48ba-b1c8-ed6752b9091d",
   "metadata": {},
   "outputs": [
    {
     "data": {
      "text/html": [
       "<div>\n",
       "<style scoped>\n",
       "    .dataframe tbody tr th:only-of-type {\n",
       "        vertical-align: middle;\n",
       "    }\n",
       "\n",
       "    .dataframe tbody tr th {\n",
       "        vertical-align: top;\n",
       "    }\n",
       "\n",
       "    .dataframe thead th {\n",
       "        text-align: right;\n",
       "    }\n",
       "</style>\n",
       "<table border=\"1\" class=\"dataframe\">\n",
       "  <thead>\n",
       "    <tr style=\"text-align: right;\">\n",
       "      <th>new_status</th>\n",
       "      <th>PEER</th>\n",
       "      <th>RTV_nonvsla</th>\n",
       "      <th>RTV_vsla</th>\n",
       "    </tr>\n",
       "    <tr>\n",
       "      <th>Loan_from_7</th>\n",
       "      <th></th>\n",
       "      <th></th>\n",
       "      <th></th>\n",
       "    </tr>\n",
       "  </thead>\n",
       "  <tbody>\n",
       "    <tr>\n",
       "      <th>0.0</th>\n",
       "      <td>100.0</td>\n",
       "      <td>100.0</td>\n",
       "      <td>28.046422</td>\n",
       "    </tr>\n",
       "    <tr>\n",
       "      <th>1.0</th>\n",
       "      <td>NaN</td>\n",
       "      <td>NaN</td>\n",
       "      <td>71.953578</td>\n",
       "    </tr>\n",
       "  </tbody>\n",
       "</table>\n",
       "</div>"
      ],
      "text/plain": [
       "new_status    PEER  RTV_nonvsla   RTV_vsla\n",
       "Loan_from_7                               \n",
       "0.0          100.0        100.0  28.046422\n",
       "1.0            NaN          NaN  71.953578"
      ]
     },
     "execution_count": 59,
     "metadata": {},
     "output_type": "execute_result"
    }
   ],
   "source": [
    "(df_c.groupby('new_status')['Loan_from_7'].value_counts(normalize=True)*100).unstack().transpose()"
   ]
  },
  {
   "cell_type": "code",
   "execution_count": 60,
   "id": "cf95abf2-48b2-42ee-9a07-bd8f32c1f18c",
   "metadata": {},
   "outputs": [
    {
     "data": {
      "text/html": [
       "<div>\n",
       "<style scoped>\n",
       "    .dataframe tbody tr th:only-of-type {\n",
       "        vertical-align: middle;\n",
       "    }\n",
       "\n",
       "    .dataframe tbody tr th {\n",
       "        vertical-align: top;\n",
       "    }\n",
       "\n",
       "    .dataframe thead th {\n",
       "        text-align: right;\n",
       "    }\n",
       "</style>\n",
       "<table border=\"1\" class=\"dataframe\">\n",
       "  <thead>\n",
       "    <tr style=\"text-align: right;\">\n",
       "      <th>new_status</th>\n",
       "      <th>PEER</th>\n",
       "      <th>RTV_nonvsla</th>\n",
       "      <th>RTV_vsla</th>\n",
       "    </tr>\n",
       "    <tr>\n",
       "      <th>Loan_from_8</th>\n",
       "      <th></th>\n",
       "      <th></th>\n",
       "      <th></th>\n",
       "    </tr>\n",
       "  </thead>\n",
       "  <tbody>\n",
       "    <tr>\n",
       "      <th>0.0</th>\n",
       "      <td>49.659864</td>\n",
       "      <td>63.872832</td>\n",
       "      <td>87.040619</td>\n",
       "    </tr>\n",
       "    <tr>\n",
       "      <th>1.0</th>\n",
       "      <td>50.340136</td>\n",
       "      <td>36.127168</td>\n",
       "      <td>12.959381</td>\n",
       "    </tr>\n",
       "  </tbody>\n",
       "</table>\n",
       "</div>"
      ],
      "text/plain": [
       "new_status        PEER  RTV_nonvsla   RTV_vsla\n",
       "Loan_from_8                                   \n",
       "0.0          49.659864    63.872832  87.040619\n",
       "1.0          50.340136    36.127168  12.959381"
      ]
     },
     "execution_count": 60,
     "metadata": {},
     "output_type": "execute_result"
    }
   ],
   "source": [
    "# Other VSLA\n",
    "(df.groupby('new_status')['Loan_from_8'].value_counts(normalize=True)*100).unstack().transpose()"
   ]
  },
  {
   "cell_type": "code",
   "execution_count": null,
   "id": "ac214b2e-70bf-4205-b6cb-d9c90e10c176",
   "metadata": {},
   "outputs": [],
   "source": []
  },
  {
   "cell_type": "markdown",
   "id": "5e3ec5fb-4a2e-464b-9185-0765e5cd6829",
   "metadata": {},
   "source": [
    "## Interests Rates"
   ]
  },
  {
   "cell_type": "code",
   "execution_count": 61,
   "id": "28281cdd-e729-4821-92ad-1944094e613b",
   "metadata": {},
   "outputs": [
    {
     "data": {
      "text/html": [
       "<div>\n",
       "<style scoped>\n",
       "    .dataframe tbody tr th:only-of-type {\n",
       "        vertical-align: middle;\n",
       "    }\n",
       "\n",
       "    .dataframe tbody tr th {\n",
       "        vertical-align: top;\n",
       "    }\n",
       "\n",
       "    .dataframe thead th {\n",
       "        text-align: right;\n",
       "    }\n",
       "</style>\n",
       "<table border=\"1\" class=\"dataframe\">\n",
       "  <thead>\n",
       "    <tr style=\"text-align: right;\">\n",
       "      <th>new_status</th>\n",
       "      <th>PEER</th>\n",
       "      <th>RTV_nonvsla</th>\n",
       "      <th>RTV_vsla</th>\n",
       "    </tr>\n",
       "  </thead>\n",
       "  <tbody>\n",
       "    <tr>\n",
       "      <th>bank_loan_interest</th>\n",
       "      <td>4.133824</td>\n",
       "      <td>5.496667</td>\n",
       "      <td>3.857143</td>\n",
       "    </tr>\n",
       "    <tr>\n",
       "      <th>sacco_loan_interest</th>\n",
       "      <td>5.445513</td>\n",
       "      <td>4.127143</td>\n",
       "      <td>3.967500</td>\n",
       "    </tr>\n",
       "    <tr>\n",
       "      <th>rtv_vsla_loan_interest</th>\n",
       "      <td>NaN</td>\n",
       "      <td>3.143452</td>\n",
       "      <td>3.765161</td>\n",
       "    </tr>\n",
       "    <tr>\n",
       "      <th>other_village_VSLA_loan_interest</th>\n",
       "      <td>5.185980</td>\n",
       "      <td>5.541600</td>\n",
       "      <td>5.902985</td>\n",
       "    </tr>\n",
       "  </tbody>\n",
       "</table>\n",
       "</div>"
      ],
      "text/plain": [
       "new_status                            PEER  RTV_nonvsla  RTV_vsla\n",
       "bank_loan_interest                4.133824     5.496667  3.857143\n",
       "sacco_loan_interest               5.445513     4.127143  3.967500\n",
       "rtv_vsla_loan_interest                 NaN     3.143452  3.765161\n",
       "other_village_VSLA_loan_interest  5.185980     5.541600  5.902985"
      ]
     },
     "execution_count": 61,
     "metadata": {},
     "output_type": "execute_result"
    }
   ],
   "source": [
    "(df.groupby('new_status')[[\n",
    "        'bank_loan_interest',\n",
    "        'sacco_loan_interest',\n",
    "        'rtv_vsla_loan_interest',\n",
    "        'other_village_VSLA_loan_interest'\n",
    "        ]].mean()).transpose()"
   ]
  },
  {
   "cell_type": "code",
   "execution_count": null,
   "id": "b78f7902-a3b1-48b5-9d5f-a589a9b7f2fd",
   "metadata": {},
   "outputs": [],
   "source": []
  },
  {
   "cell_type": "markdown",
   "id": "66d726c0-47d0-45a3-bfb7-afd9000f0846",
   "metadata": {},
   "source": [
    "## Loan Types"
   ]
  },
  {
   "cell_type": "raw",
   "id": "32217f0a-3d0c-4716-af46-2e3c0bdc3197",
   "metadata": {},
   "source": [
    "1\tReducing Balance\n",
    "2\tFixed interest\n",
    "97\tAny other"
   ]
  },
  {
   "cell_type": "code",
   "execution_count": 62,
   "id": "27f471c3-c029-41b8-86ee-c85a5ba98c4f",
   "metadata": {},
   "outputs": [
    {
     "data": {
      "text/html": [
       "<div>\n",
       "<style scoped>\n",
       "    .dataframe tbody tr th:only-of-type {\n",
       "        vertical-align: middle;\n",
       "    }\n",
       "\n",
       "    .dataframe tbody tr th {\n",
       "        vertical-align: top;\n",
       "    }\n",
       "\n",
       "    .dataframe thead th {\n",
       "        text-align: right;\n",
       "    }\n",
       "</style>\n",
       "<table border=\"1\" class=\"dataframe\">\n",
       "  <thead>\n",
       "    <tr style=\"text-align: right;\">\n",
       "      <th>new_status</th>\n",
       "      <th>PEER</th>\n",
       "      <th>RTV_nonvsla</th>\n",
       "      <th>RTV_vsla</th>\n",
       "    </tr>\n",
       "    <tr>\n",
       "      <th>bank_loan_type</th>\n",
       "      <th></th>\n",
       "      <th></th>\n",
       "      <th></th>\n",
       "    </tr>\n",
       "  </thead>\n",
       "  <tbody>\n",
       "    <tr>\n",
       "      <th>1.0</th>\n",
       "      <td>0.470588</td>\n",
       "      <td>0.481481</td>\n",
       "      <td>0.52381</td>\n",
       "    </tr>\n",
       "    <tr>\n",
       "      <th>2.0</th>\n",
       "      <td>0.500000</td>\n",
       "      <td>0.518519</td>\n",
       "      <td>0.47619</td>\n",
       "    </tr>\n",
       "    <tr>\n",
       "      <th>97.0</th>\n",
       "      <td>0.029412</td>\n",
       "      <td>NaN</td>\n",
       "      <td>NaN</td>\n",
       "    </tr>\n",
       "  </tbody>\n",
       "</table>\n",
       "</div>"
      ],
      "text/plain": [
       "new_status          PEER  RTV_nonvsla  RTV_vsla\n",
       "bank_loan_type                                 \n",
       "1.0             0.470588     0.481481   0.52381\n",
       "2.0             0.500000     0.518519   0.47619\n",
       "97.0            0.029412          NaN       NaN"
      ]
     },
     "execution_count": 62,
     "metadata": {},
     "output_type": "execute_result"
    }
   ],
   "source": [
    "(df.groupby('new_status')['bank_loan_type'].value_counts(normalize=True)).unstack().transpose()"
   ]
  },
  {
   "cell_type": "code",
   "execution_count": null,
   "id": "5c0cd579-cc3c-4551-8dc1-3837932e923c",
   "metadata": {},
   "outputs": [],
   "source": []
  },
  {
   "cell_type": "code",
   "execution_count": null,
   "id": "72bab57f-8cac-41b2-ac64-c2a85d361414",
   "metadata": {},
   "outputs": [],
   "source": []
  },
  {
   "cell_type": "code",
   "execution_count": 63,
   "id": "2827e90c-8b54-43a8-8a89-3858f749f965",
   "metadata": {},
   "outputs": [
    {
     "data": {
      "text/plain": [
       "save_mode_8\n",
       "0    1290\n",
       "1     609\n",
       "Name: count, dtype: int64"
      ]
     },
     "execution_count": 63,
     "metadata": {},
     "output_type": "execute_result"
    }
   ],
   "source": [
    "peer['save_mode_8'].value_counts()"
   ]
  },
  {
   "cell_type": "code",
   "execution_count": null,
   "id": "250d92f6-8bcf-41d2-8066-2b3b03773160",
   "metadata": {},
   "outputs": [],
   "source": []
  },
  {
   "cell_type": "code",
   "execution_count": 71,
   "id": "b69f0df2-321b-4073-8afb-10c8358f90f0",
   "metadata": {},
   "outputs": [],
   "source": [
    "peer_mapping = {1: 'peer_vsla', 0: 'peer_non_vsla'}"
   ]
  },
  {
   "cell_type": "code",
   "execution_count": 72,
   "id": "cb568d86-9121-4dd1-b98c-2088e7afa745",
   "metadata": {},
   "outputs": [
    {
     "name": "stderr",
     "output_type": "stream",
     "text": [
      "/var/folders/xd/0btgr76j2zxc4__ynw0yhwbm0000gn/T/ipykernel_63383/2531600782.py:1: SettingWithCopyWarning: \n",
      "A value is trying to be set on a copy of a slice from a DataFrame.\n",
      "Try using .loc[row_indexer,col_indexer] = value instead\n",
      "\n",
      "See the caveats in the documentation: https://pandas.pydata.org/pandas-docs/stable/user_guide/indexing.html#returning-a-view-versus-a-copy\n",
      "  peer['peer_status'] = peer['save_mode_8'].replace(peer_mapping)\n"
     ]
    },
    {
     "data": {
      "text/plain": [
       "peer_status\n",
       "peer_non_vsla    1290\n",
       "peer_vsla         609\n",
       "Name: count, dtype: int64"
      ]
     },
     "execution_count": 72,
     "metadata": {},
     "output_type": "execute_result"
    }
   ],
   "source": [
    "peer['peer_status'] = peer['save_mode_8'].replace(peer_mapping)\n",
    "peer['peer_status'].value_counts()"
   ]
  },
  {
   "cell_type": "code",
   "execution_count": 73,
   "id": "4ad319e4-7088-4872-b241-3f744e5b0363",
   "metadata": {},
   "outputs": [],
   "source": [
    "peer_vsla = peer[peer[\"save_mode_8\"] == 1]\n",
    "peer_non_vsla =  peer[peer[\"save_mode_8\"]==0]"
   ]
  },
  {
   "cell_type": "code",
   "execution_count": 74,
   "id": "2e11fca3-8094-453c-a220-b293fe150113",
   "metadata": {},
   "outputs": [
    {
     "data": {
      "text/plain": [
       "((609, 5668), (1290, 5668))"
      ]
     },
     "execution_count": 74,
     "metadata": {},
     "output_type": "execute_result"
    }
   ],
   "source": [
    "peer_vsla.shape, peer_non_vsla.shape"
   ]
  },
  {
   "cell_type": "code",
   "execution_count": null,
   "id": "10db1fab-c90e-4311-a2be-b67cb6081a97",
   "metadata": {},
   "outputs": [],
   "source": []
  },
  {
   "cell_type": "code",
   "execution_count": 75,
   "id": "c7b1041f-40e2-43a3-b180-b68d752de28f",
   "metadata": {},
   "outputs": [
    {
     "data": {
      "text/plain": [
       "peer_status\n",
       "peer_non_vsla    28.589576\n",
       "peer_vsla        57.462156\n",
       "Name: Total Savings (Ugx), dtype: float64"
      ]
     },
     "execution_count": 75,
     "metadata": {},
     "output_type": "execute_result"
    }
   ],
   "source": [
    "# Total Savings\n",
    "(peer.groupby('peer_status')['Total Savings (Ugx)'].mean() * (adjusted_cpi/100))/rate"
   ]
  },
  {
   "cell_type": "code",
   "execution_count": null,
   "id": "a4e82182-eb37-4b11-89d5-e24abf3c99ba",
   "metadata": {},
   "outputs": [],
   "source": []
  },
  {
   "cell_type": "code",
   "execution_count": 82,
   "id": "ce0dfb89-ffdc-4f56-85ff-f08637024301",
   "metadata": {},
   "outputs": [
    {
     "data": {
      "text/plain": [
       "vsla_participation\n",
       "False    1886\n",
       "True       13\n",
       "Name: count, dtype: int64"
      ]
     },
     "execution_count": 82,
     "metadata": {},
     "output_type": "execute_result"
    }
   ],
   "source": [
    "peer['vsla_participation'].value_counts()"
   ]
  },
  {
   "cell_type": "code",
   "execution_count": 87,
   "id": "306b3238-97e6-447c-9caa-eaa871906806",
   "metadata": {},
   "outputs": [
    {
     "data": {
      "text/html": [
       "<div>\n",
       "<style scoped>\n",
       "    .dataframe tbody tr th:only-of-type {\n",
       "        vertical-align: middle;\n",
       "    }\n",
       "\n",
       "    .dataframe tbody tr th {\n",
       "        vertical-align: top;\n",
       "    }\n",
       "\n",
       "    .dataframe thead th {\n",
       "        text-align: right;\n",
       "    }\n",
       "</style>\n",
       "<table border=\"1\" class=\"dataframe\">\n",
       "  <thead>\n",
       "    <tr style=\"text-align: right;\">\n",
       "      <th></th>\n",
       "      <th>save_mode</th>\n",
       "      <th>hh_members_rtv_vslas</th>\n",
       "      <th>hh_members_non_vslas</th>\n",
       "      <th>vsla_participation</th>\n",
       "    </tr>\n",
       "  </thead>\n",
       "  <tbody>\n",
       "    <tr>\n",
       "      <th>3898</th>\n",
       "      <td>3 8</td>\n",
       "      <td>NaN</td>\n",
       "      <td>NaN</td>\n",
       "      <td>False</td>\n",
       "    </tr>\n",
       "    <tr>\n",
       "      <th>3900</th>\n",
       "      <td>1 5 8 9</td>\n",
       "      <td>NaN</td>\n",
       "      <td>NaN</td>\n",
       "      <td>False</td>\n",
       "    </tr>\n",
       "    <tr>\n",
       "      <th>3901</th>\n",
       "      <td>8</td>\n",
       "      <td>NaN</td>\n",
       "      <td>NaN</td>\n",
       "      <td>False</td>\n",
       "    </tr>\n",
       "    <tr>\n",
       "      <th>3907</th>\n",
       "      <td>8</td>\n",
       "      <td>NaN</td>\n",
       "      <td>NaN</td>\n",
       "      <td>False</td>\n",
       "    </tr>\n",
       "    <tr>\n",
       "      <th>3909</th>\n",
       "      <td>8</td>\n",
       "      <td>NaN</td>\n",
       "      <td>NaN</td>\n",
       "      <td>False</td>\n",
       "    </tr>\n",
       "    <tr>\n",
       "      <th>...</th>\n",
       "      <td>...</td>\n",
       "      <td>...</td>\n",
       "      <td>...</td>\n",
       "      <td>...</td>\n",
       "    </tr>\n",
       "    <tr>\n",
       "      <th>5780</th>\n",
       "      <td>8</td>\n",
       "      <td>NaN</td>\n",
       "      <td>NaN</td>\n",
       "      <td>False</td>\n",
       "    </tr>\n",
       "    <tr>\n",
       "      <th>5786</th>\n",
       "      <td>8</td>\n",
       "      <td>NaN</td>\n",
       "      <td>NaN</td>\n",
       "      <td>False</td>\n",
       "    </tr>\n",
       "    <tr>\n",
       "      <th>5787</th>\n",
       "      <td>8</td>\n",
       "      <td>NaN</td>\n",
       "      <td>NaN</td>\n",
       "      <td>False</td>\n",
       "    </tr>\n",
       "    <tr>\n",
       "      <th>5790</th>\n",
       "      <td>1 6 8</td>\n",
       "      <td>NaN</td>\n",
       "      <td>NaN</td>\n",
       "      <td>False</td>\n",
       "    </tr>\n",
       "    <tr>\n",
       "      <th>5791</th>\n",
       "      <td>8</td>\n",
       "      <td>NaN</td>\n",
       "      <td>NaN</td>\n",
       "      <td>False</td>\n",
       "    </tr>\n",
       "  </tbody>\n",
       "</table>\n",
       "<p>609 rows × 4 columns</p>\n",
       "</div>"
      ],
      "text/plain": [
       "     save_mode  hh_members_rtv_vslas  hh_members_non_vslas  vsla_participation\n",
       "3898       3 8                   NaN                   NaN               False\n",
       "3900   1 5 8 9                   NaN                   NaN               False\n",
       "3901         8                   NaN                   NaN               False\n",
       "3907         8                   NaN                   NaN               False\n",
       "3909         8                   NaN                   NaN               False\n",
       "...        ...                   ...                   ...                 ...\n",
       "5780         8                   NaN                   NaN               False\n",
       "5786         8                   NaN                   NaN               False\n",
       "5787         8                   NaN                   NaN               False\n",
       "5790     1 6 8                   NaN                   NaN               False\n",
       "5791         8                   NaN                   NaN               False\n",
       "\n",
       "[609 rows x 4 columns]"
      ]
     },
     "execution_count": 87,
     "metadata": {},
     "output_type": "execute_result"
    }
   ],
   "source": [
    "peer_vsla[['save_mode','hh_members_rtv_vslas','hh_members_non_vslas', 'vsla_participation']]"
   ]
  },
  {
   "cell_type": "code",
   "execution_count": 79,
   "id": "c2fb61dd-aa44-4e5b-a145-30bc4ea5b50c",
   "metadata": {},
   "outputs": [
    {
     "data": {
      "text/plain": [
       "vsla_participation\n",
       "False    608\n",
       "True       1\n",
       "Name: count, dtype: int64"
      ]
     },
     "execution_count": 79,
     "metadata": {},
     "output_type": "execute_result"
    }
   ],
   "source": [
    "peer_vsla['vsla_participation'].value_counts()"
   ]
  },
  {
   "cell_type": "code",
   "execution_count": 80,
   "id": "102c8a34-bfe3-43ed-b05b-a430894bad33",
   "metadata": {},
   "outputs": [
    {
     "data": {
      "text/plain": [
       "vsla_participation\n",
       "False    1278\n",
       "True       12\n",
       "Name: count, dtype: int64"
      ]
     },
     "execution_count": 80,
     "metadata": {},
     "output_type": "execute_result"
    }
   ],
   "source": [
    "peer_non_vsla['vsla_participation'].value_counts()"
   ]
  },
  {
   "cell_type": "code",
   "execution_count": 99,
   "id": "52231210-014e-47e0-8cc5-17add15993b4",
   "metadata": {},
   "outputs": [
    {
     "data": {
      "text/plain": [
       "save_mode_8\n",
       "1    609\n",
       "Name: count, dtype: int64"
      ]
     },
     "execution_count": 99,
     "metadata": {},
     "output_type": "execute_result"
    }
   ],
   "source": [
    "peer_vsla['save_mode_8'].value_counts()"
   ]
  },
  {
   "cell_type": "code",
   "execution_count": 93,
   "id": "556e4099-bc24-47d5-a374-a295a301fac8",
   "metadata": {},
   "outputs": [
    {
     "name": "stderr",
     "output_type": "stream",
     "text": [
      "/var/folders/xd/0btgr76j2zxc4__ynw0yhwbm0000gn/T/ipykernel_63383/2763767585.py:1: FutureWarning: Operation between non boolean Series with different indexes will no longer return a boolean result in a future version. Cast both Series to object type to maintain the prior behavior.\n",
      "  (peer_non_vsla['save_mode_7'] ==1 ) | (peer_non_vsla['save_mode_8'] == 1).value_counts()\n"
     ]
    },
    {
     "data": {
      "text/plain": [
       "False    False\n",
       "3897     False\n",
       "3899     False\n",
       "3902     False\n",
       "3903     False\n",
       "         ...  \n",
       "5789     False\n",
       "5792     False\n",
       "5793     False\n",
       "5794     False\n",
       "5795     False\n",
       "Length: 1291, dtype: bool"
      ]
     },
     "execution_count": 93,
     "metadata": {},
     "output_type": "execute_result"
    }
   ],
   "source": [
    "(peer_non_vsla['save_mode_7'] ==1 ) | (peer_non_vsla['save_mode_8'] == 1)"
   ]
  },
  {
   "cell_type": "code",
   "execution_count": null,
   "id": "c3a27c6a-5ccf-460d-a679-4379153c049a",
   "metadata": {},
   "outputs": [],
   "source": [
    "peer_vsla['save_mode"
   ]
  },
  {
   "cell_type": "code",
   "execution_count": 76,
   "id": "c2c82309-f30d-4a6c-b922-5985ec04f492",
   "metadata": {},
   "outputs": [
    {
     "data": {
      "text/plain": [
       "peer_status\n",
       "peer_non_vsla    21.272425\n",
       "peer_vsla        22.420272\n",
       "Name: Loan Amount (Ugx), dtype: float64"
      ]
     },
     "execution_count": 76,
     "metadata": {},
     "output_type": "execute_result"
    }
   ],
   "source": [
    "## Loan Amount\n",
    "(peer.groupby('peer_status')['Loan Amount (Ugx)'].mean() * (adjusted_cpi/100))/rate"
   ]
  },
  {
   "cell_type": "markdown",
   "id": "7faead0a-2929-431a-a53b-564f3db737c2",
   "metadata": {},
   "source": [
    "### Total Outstanding debt"
   ]
  },
  {
   "cell_type": "code",
   "execution_count": 77,
   "id": "38a3210a-d225-4287-9510-04ebf5772470",
   "metadata": {},
   "outputs": [
    {
     "data": {
      "text/plain": [
       "15.727191580003648"
      ]
     },
     "execution_count": 77,
     "metadata": {},
     "output_type": "execute_result"
    }
   ],
   "source": [
    "peer_vsla[columns].fillna(0).sum(axis=1).mean() * (adjusted_cpi/100)/rate"
   ]
  },
  {
   "cell_type": "code",
   "execution_count": 78,
   "id": "71fbad9f-28e9-4cc0-8503-0e4e21fa274d",
   "metadata": {},
   "outputs": [
    {
     "data": {
      "text/plain": [
       "20.457646429629627"
      ]
     },
     "execution_count": 78,
     "metadata": {},
     "output_type": "execute_result"
    }
   ],
   "source": [
    "peer_non_vsla[columns].fillna(0).sum(axis=1).mean() * (adjusted_cpi/100)/rate"
   ]
  },
  {
   "cell_type": "code",
   "execution_count": null,
   "id": "0ac146db-5262-438a-8d74-1cd494d585dd",
   "metadata": {},
   "outputs": [],
   "source": []
  },
  {
   "cell_type": "code",
   "execution_count": 72,
   "id": "04b51dcc-cea6-4c2e-8bb0-c9b4e765185d",
   "metadata": {},
   "outputs": [
    {
     "data": {
      "text/plain": [
       "0.9802955665024631"
      ]
     },
     "execution_count": 72,
     "metadata": {},
     "output_type": "execute_result"
    }
   ],
   "source": [
    "(len(peer_vsla[peer_vsla['Total Savings (Ugx)'] != 0]) / len(peer_vsla))"
   ]
  },
  {
   "cell_type": "code",
   "execution_count": 73,
   "id": "14965357-2818-44fc-a3b6-c4ffc46b3f4c",
   "metadata": {},
   "outputs": [
    {
     "data": {
      "text/plain": [
       "0.5837209302325581"
      ]
     },
     "execution_count": 73,
     "metadata": {},
     "output_type": "execute_result"
    }
   ],
   "source": [
    "(len(peer_non_vsla[peer_non_vsla['Total Savings (Ugx)'] != 0]) / len(peer_non_vsla))"
   ]
  },
  {
   "cell_type": "code",
   "execution_count": 74,
   "id": "dc43efe1-6519-4d53-b119-8c2dd5d95998",
   "metadata": {},
   "outputs": [
    {
     "data": {
      "text/html": [
       "<div>\n",
       "<style scoped>\n",
       "    .dataframe tbody tr th:only-of-type {\n",
       "        vertical-align: middle;\n",
       "    }\n",
       "\n",
       "    .dataframe tbody tr th {\n",
       "        vertical-align: top;\n",
       "    }\n",
       "\n",
       "    .dataframe thead th {\n",
       "        text-align: right;\n",
       "    }\n",
       "</style>\n",
       "<table border=\"1\" class=\"dataframe\">\n",
       "  <thead>\n",
       "    <tr style=\"text-align: right;\">\n",
       "      <th>peer_status</th>\n",
       "      <th>peer_non_vsla</th>\n",
       "      <th>peer_vsla</th>\n",
       "    </tr>\n",
       "    <tr>\n",
       "      <th>borrowed_past_12_months</th>\n",
       "      <th></th>\n",
       "      <th></th>\n",
       "    </tr>\n",
       "  </thead>\n",
       "  <tbody>\n",
       "    <tr>\n",
       "      <th>0</th>\n",
       "      <td>0.869767</td>\n",
       "      <td>0.793103</td>\n",
       "    </tr>\n",
       "    <tr>\n",
       "      <th>1</th>\n",
       "      <td>0.130233</td>\n",
       "      <td>0.206897</td>\n",
       "    </tr>\n",
       "  </tbody>\n",
       "</table>\n",
       "</div>"
      ],
      "text/plain": [
       "peer_status              peer_non_vsla  peer_vsla\n",
       "borrowed_past_12_months                          \n",
       "0                             0.869767   0.793103\n",
       "1                             0.130233   0.206897"
      ]
     },
     "execution_count": 74,
     "metadata": {},
     "output_type": "execute_result"
    }
   ],
   "source": [
    "(peer.groupby('peer_status')['borrowed_past_12_months'].value_counts(normalize=True)).unstack().transpose()"
   ]
  },
  {
   "cell_type": "code",
   "execution_count": 75,
   "id": "39a51784-cc81-43cf-a279-1968d7a9e444",
   "metadata": {},
   "outputs": [
    {
     "data": {
      "text/plain": [
       "5.40813492063492"
      ]
     },
     "execution_count": 75,
     "metadata": {},
     "output_type": "execute_result"
    }
   ],
   "source": [
    "peer_vsla[peer_vsla['Interest'] != 0.]['Interest'].mean()"
   ]
  },
  {
   "cell_type": "code",
   "execution_count": 76,
   "id": "639e3383-a51a-48c8-ba08-72fa0dcccea0",
   "metadata": {},
   "outputs": [
    {
     "data": {
      "text/plain": [
       "5.189570552147239"
      ]
     },
     "execution_count": 76,
     "metadata": {},
     "output_type": "execute_result"
    }
   ],
   "source": [
    "peer_non_vsla[peer_non_vsla['Interest'] != 0.]['Interest'].mean()"
   ]
  },
  {
   "cell_type": "code",
   "execution_count": 111,
   "id": "cb5ec413-c5da-41f7-b6a6-a781bdfa724a",
   "metadata": {},
   "outputs": [
    {
     "data": {
      "text/plain": [
       "92.35723027938681"
      ]
     },
     "execution_count": 111,
     "metadata": {},
     "output_type": "execute_result"
    }
   ],
   "source": [
    "#Annual Agric Income\n",
    "(peer[['Perenial Crops Income (USD_Cons_rate)','Seasonal Crops Income (USD_Cons_rate)']].sum(axis=1)).mean()"
   ]
  },
  {
   "cell_type": "code",
   "execution_count": 105,
   "id": "6118aa98-0bba-4efb-b820-7534850eb98c",
   "metadata": {},
   "outputs": [
    {
     "data": {
      "text/plain": [
       "Perenial Crops Income (USD_Cons_rate)           45.679961\n",
       "Perennial Agriculture Value (USD_Cons_rate)    113.119220\n",
       "Agriculture Value (USD_Cons_rate)              296.603551\n",
       "dtype: float64"
      ]
     },
     "execution_count": 105,
     "metadata": {},
     "output_type": "execute_result"
    }
   ],
   "source": [
    "peer[[\n",
    "    'Perenial Crops Income (USD_Cons_rate)',\n",
    "    'Perennial Agriculture Value (USD_Cons_rate)',\n",
    "    'Agriculture Value (USD_Cons_rate)'\n",
    "]].mean().transpose()"
   ]
  },
  {
   "cell_type": "code",
   "execution_count": 113,
   "id": "748f49cc-4f7b-48e8-b79c-2b7d7b6dfa1c",
   "metadata": {},
   "outputs": [
    {
     "data": {
      "text/plain": [
       "105.33129436690385"
      ]
     },
     "execution_count": 113,
     "metadata": {},
     "output_type": "execute_result"
    }
   ],
   "source": [
    "#Annual Agric Income\n",
    "(peer_vsla[['Perenial Crops Income (USD_Cons_rate)','Seasonal Crops Income (USD_Cons_rate)']].sum(axis=1)).mean()"
   ]
  },
  {
   "cell_type": "code",
   "execution_count": 114,
   "id": "2f41faf3-6be6-4840-ab8e-8910bd51973c",
   "metadata": {},
   "outputs": [
    {
     "data": {
      "text/plain": [
       "86.2322651403962"
      ]
     },
     "execution_count": 114,
     "metadata": {},
     "output_type": "execute_result"
    }
   ],
   "source": [
    "#Annual Agric Income\n",
    "(peer_non_vsla[['Perenial Crops Income (USD_Cons_rate)','Seasonal Crops Income (USD_Cons_rate)']].sum(axis=1)).mean()"
   ]
  },
  {
   "cell_type": "code",
   "execution_count": 104,
   "id": "bbea6f71-0331-4e51-bdc7-df405c83154b",
   "metadata": {},
   "outputs": [
    {
     "data": {
      "text/html": [
       "<div>\n",
       "<style scoped>\n",
       "    .dataframe tbody tr th:only-of-type {\n",
       "        vertical-align: middle;\n",
       "    }\n",
       "\n",
       "    .dataframe tbody tr th {\n",
       "        vertical-align: top;\n",
       "    }\n",
       "\n",
       "    .dataframe thead th {\n",
       "        text-align: right;\n",
       "    }\n",
       "</style>\n",
       "<table border=\"1\" class=\"dataframe\">\n",
       "  <thead>\n",
       "    <tr style=\"text-align: right;\">\n",
       "      <th>peer_status</th>\n",
       "      <th>peer_non_vsla</th>\n",
       "      <th>peer_vsla</th>\n",
       "    </tr>\n",
       "  </thead>\n",
       "  <tbody>\n",
       "    <tr>\n",
       "      <th>Perenial Crops Income (USD_Cons_rate)</th>\n",
       "      <td>43.806179</td>\n",
       "      <td>49.649056</td>\n",
       "    </tr>\n",
       "    <tr>\n",
       "      <th>Perennial Agriculture Value (USD_Cons_rate)</th>\n",
       "      <td>104.982160</td>\n",
       "      <td>130.355357</td>\n",
       "    </tr>\n",
       "    <tr>\n",
       "      <th>Agriculture Value (USD_Cons_rate)</th>\n",
       "      <td>278.219630</td>\n",
       "      <td>335.544861</td>\n",
       "    </tr>\n",
       "  </tbody>\n",
       "</table>\n",
       "</div>"
      ],
      "text/plain": [
       "peer_status                                  peer_non_vsla   peer_vsla\n",
       "Perenial Crops Income (USD_Cons_rate)            43.806179   49.649056\n",
       "Perennial Agriculture Value (USD_Cons_rate)     104.982160  130.355357\n",
       "Agriculture Value (USD_Cons_rate)               278.219630  335.544861"
      ]
     },
     "execution_count": 104,
     "metadata": {},
     "output_type": "execute_result"
    }
   ],
   "source": [
    "peer.groupby('peer_status')[[\n",
    "    'Perenial Crops Income (USD_Cons_rate)',\n",
    "    'Perennial Agriculture Value (USD_Cons_rate)',\n",
    "    'Agriculture Value (USD_Cons_rate)'\n",
    "]].mean().transpose()"
   ]
  },
  {
   "cell_type": "code",
   "execution_count": 100,
   "id": "6d742065-fbf6-41e7-9ae8-f06d3eec6512",
   "metadata": {},
   "outputs": [
    {
     "data": {
      "text/html": [
       "<div>\n",
       "<style scoped>\n",
       "    .dataframe tbody tr th:only-of-type {\n",
       "        vertical-align: middle;\n",
       "    }\n",
       "\n",
       "    .dataframe tbody tr th {\n",
       "        vertical-align: top;\n",
       "    }\n",
       "\n",
       "    .dataframe thead th {\n",
       "        text-align: right;\n",
       "    }\n",
       "</style>\n",
       "<table border=\"1\" class=\"dataframe\">\n",
       "  <thead>\n",
       "    <tr style=\"text-align: right;\">\n",
       "      <th>peer_status</th>\n",
       "      <th>peer_non_vsla</th>\n",
       "      <th>peer_vsla</th>\n",
       "    </tr>\n",
       "  </thead>\n",
       "  <tbody>\n",
       "    <tr>\n",
       "      <th>Personal Business &amp; Self Employment (USD_Cons_rate)</th>\n",
       "      <td>32.476454</td>\n",
       "      <td>49.028359</td>\n",
       "    </tr>\n",
       "    <tr>\n",
       "      <th>Seasonal Crops Income (USD_Cons_rate)</th>\n",
       "      <td>42.426087</td>\n",
       "      <td>55.682239</td>\n",
       "    </tr>\n",
       "    <tr>\n",
       "      <th>Seasonal  Agriculture Value (USD_Cons_rate)</th>\n",
       "      <td>173.237471</td>\n",
       "      <td>205.189504</td>\n",
       "    </tr>\n",
       "    <tr>\n",
       "      <th>Livestock Income (USD_Cons_rate)</th>\n",
       "      <td>8.780216</td>\n",
       "      <td>12.518230</td>\n",
       "    </tr>\n",
       "    <tr>\n",
       "      <th>Assets (USD_Cons_rate)</th>\n",
       "      <td>92.545626</td>\n",
       "      <td>121.057143</td>\n",
       "    </tr>\n",
       "    <tr>\n",
       "      <th>HH Income (USD_Cons_rate)</th>\n",
       "      <td>261.278281</td>\n",
       "      <td>324.163690</td>\n",
       "    </tr>\n",
       "    <tr>\n",
       "      <th>HH Income + Consumption + Residues (USD_Cons_rate)</th>\n",
       "      <td>454.432211</td>\n",
       "      <td>555.689214</td>\n",
       "    </tr>\n",
       "    <tr>\n",
       "      <th>HH Income/Day (USD_Cons_rate)</th>\n",
       "      <td>0.715831</td>\n",
       "      <td>0.888120</td>\n",
       "    </tr>\n",
       "    <tr>\n",
       "      <th>HH Income + Consumption + Residues/Day (USD_Cons_rate)</th>\n",
       "      <td>1.245020</td>\n",
       "      <td>1.522436</td>\n",
       "    </tr>\n",
       "  </tbody>\n",
       "</table>\n",
       "</div>"
      ],
      "text/plain": [
       "peer_status                                             peer_non_vsla  \\\n",
       "Personal Business & Self Employment (USD_Cons_rate)         32.476454   \n",
       "Seasonal Crops Income (USD_Cons_rate)                       42.426087   \n",
       "Seasonal  Agriculture Value (USD_Cons_rate)                173.237471   \n",
       "Livestock Income (USD_Cons_rate)                             8.780216   \n",
       "Assets (USD_Cons_rate)                                      92.545626   \n",
       "HH Income (USD_Cons_rate)                                  261.278281   \n",
       "HH Income + Consumption + Residues (USD_Cons_rate)         454.432211   \n",
       "HH Income/Day (USD_Cons_rate)                                0.715831   \n",
       "HH Income + Consumption + Residues/Day (USD_Cons_rate)       1.245020   \n",
       "\n",
       "peer_status                                              peer_vsla  \n",
       "Personal Business & Self Employment (USD_Cons_rate)      49.028359  \n",
       "Seasonal Crops Income (USD_Cons_rate)                    55.682239  \n",
       "Seasonal  Agriculture Value (USD_Cons_rate)             205.189504  \n",
       "Livestock Income (USD_Cons_rate)                         12.518230  \n",
       "Assets (USD_Cons_rate)                                  121.057143  \n",
       "HH Income (USD_Cons_rate)                               324.163690  \n",
       "HH Income + Consumption + Residues (USD_Cons_rate)      555.689214  \n",
       "HH Income/Day (USD_Cons_rate)                             0.888120  \n",
       "HH Income + Consumption + Residues/Day (USD_Cons_rate)    1.522436  "
      ]
     },
     "execution_count": 100,
     "metadata": {},
     "output_type": "execute_result"
    }
   ],
   "source": [
    "peer.groupby('peer_status')[[\n",
    "    'Personal Business & Self Employment (USD_Cons_rate)',\n",
    "    'Seasonal Crops Income (USD_Cons_rate)',\n",
    "    'Seasonal  Agriculture Value (USD_Cons_rate)',\n",
    "    'Livestock Income (USD_Cons_rate)',\n",
    "    'Assets (USD_Cons_rate)',\n",
    "    'HH Income (USD_Cons_rate)',\n",
    "    'HH Income + Consumption + Residues (USD_Cons_rate)',\n",
    "    'HH Income/Day (USD_Cons_rate)',\n",
    "    'HH Income + Consumption + Residues/Day (USD_Cons_rate)'\n",
    "]].mean().transpose()"
   ]
  },
  {
   "cell_type": "raw",
   "id": "b8f94ca9-8cc7-4da7-ab72-17d458d0fa15",
   "metadata": {},
   "source": [
    "1\tSchool Fees\n",
    "2\tHome construction\n",
    "3\tBusiness\n",
    "4\tAgriculture inputs\n",
    "5\tMedicine and Sickness\n",
    "6\tLivestock\n",
    "7\tBuying land\n",
    "8\tHousehold items\n",
    "9\tTo repay other debts\n",
    "97\tOthers\tOthers"
   ]
  },
  {
   "cell_type": "code",
   "execution_count": 78,
   "id": "5176238f-da67-433f-860f-9a7ef60c9e19",
   "metadata": {},
   "outputs": [
    {
     "data": {
      "text/html": [
       "<div>\n",
       "<style scoped>\n",
       "    .dataframe tbody tr th:only-of-type {\n",
       "        vertical-align: middle;\n",
       "    }\n",
       "\n",
       "    .dataframe tbody tr th {\n",
       "        vertical-align: top;\n",
       "    }\n",
       "\n",
       "    .dataframe thead th {\n",
       "        text-align: right;\n",
       "    }\n",
       "</style>\n",
       "<table border=\"1\" class=\"dataframe\">\n",
       "  <thead>\n",
       "    <tr style=\"text-align: right;\">\n",
       "      <th>peer_status</th>\n",
       "      <th>peer_non_vsla</th>\n",
       "      <th>peer_vsla</th>\n",
       "    </tr>\n",
       "    <tr>\n",
       "      <th>purpose_for_borrow</th>\n",
       "      <th></th>\n",
       "      <th></th>\n",
       "    </tr>\n",
       "  </thead>\n",
       "  <tbody>\n",
       "    <tr>\n",
       "      <th>1.0</th>\n",
       "      <td>0.345238</td>\n",
       "      <td>0.341270</td>\n",
       "    </tr>\n",
       "    <tr>\n",
       "      <th>2.0</th>\n",
       "      <td>0.065476</td>\n",
       "      <td>0.111111</td>\n",
       "    </tr>\n",
       "    <tr>\n",
       "      <th>3.0</th>\n",
       "      <td>0.142857</td>\n",
       "      <td>0.087302</td>\n",
       "    </tr>\n",
       "    <tr>\n",
       "      <th>4.0</th>\n",
       "      <td>0.166667</td>\n",
       "      <td>0.190476</td>\n",
       "    </tr>\n",
       "    <tr>\n",
       "      <th>5.0</th>\n",
       "      <td>0.065476</td>\n",
       "      <td>0.079365</td>\n",
       "    </tr>\n",
       "    <tr>\n",
       "      <th>6.0</th>\n",
       "      <td>0.023810</td>\n",
       "      <td>0.015873</td>\n",
       "    </tr>\n",
       "    <tr>\n",
       "      <th>7.0</th>\n",
       "      <td>0.059524</td>\n",
       "      <td>0.047619</td>\n",
       "    </tr>\n",
       "    <tr>\n",
       "      <th>8.0</th>\n",
       "      <td>0.053571</td>\n",
       "      <td>0.079365</td>\n",
       "    </tr>\n",
       "    <tr>\n",
       "      <th>9.0</th>\n",
       "      <td>0.029762</td>\n",
       "      <td>0.015873</td>\n",
       "    </tr>\n",
       "    <tr>\n",
       "      <th>97.0</th>\n",
       "      <td>0.047619</td>\n",
       "      <td>0.031746</td>\n",
       "    </tr>\n",
       "  </tbody>\n",
       "</table>\n",
       "</div>"
      ],
      "text/plain": [
       "peer_status         peer_non_vsla  peer_vsla\n",
       "purpose_for_borrow                          \n",
       "1.0                      0.345238   0.341270\n",
       "2.0                      0.065476   0.111111\n",
       "3.0                      0.142857   0.087302\n",
       "4.0                      0.166667   0.190476\n",
       "5.0                      0.065476   0.079365\n",
       "6.0                      0.023810   0.015873\n",
       "7.0                      0.059524   0.047619\n",
       "8.0                      0.053571   0.079365\n",
       "9.0                      0.029762   0.015873\n",
       "97.0                     0.047619   0.031746"
      ]
     },
     "execution_count": 78,
     "metadata": {},
     "output_type": "execute_result"
    }
   ],
   "source": [
    "((peer.groupby('peer_status')['purpose_for_borrow'].value_counts(normalize=True)).unstack()).transpose()"
   ]
  },
  {
   "cell_type": "code",
   "execution_count": 79,
   "id": "d1882f2f-883e-48c6-8531-fd2a769c03bd",
   "metadata": {},
   "outputs": [
    {
     "data": {
      "text/html": [
       "<div>\n",
       "<style scoped>\n",
       "    .dataframe tbody tr th:only-of-type {\n",
       "        vertical-align: middle;\n",
       "    }\n",
       "\n",
       "    .dataframe tbody tr th {\n",
       "        vertical-align: top;\n",
       "    }\n",
       "\n",
       "    .dataframe thead th {\n",
       "        text-align: right;\n",
       "    }\n",
       "</style>\n",
       "<table border=\"1\" class=\"dataframe\">\n",
       "  <thead>\n",
       "    <tr style=\"text-align: right;\">\n",
       "      <th>peer_status</th>\n",
       "      <th>peer_non_vsla</th>\n",
       "      <th>peer_vsla</th>\n",
       "    </tr>\n",
       "    <tr>\n",
       "      <th>Loan_from_1</th>\n",
       "      <th></th>\n",
       "      <th></th>\n",
       "    </tr>\n",
       "  </thead>\n",
       "  <tbody>\n",
       "    <tr>\n",
       "      <th>0.0</th>\n",
       "      <td>0.85119</td>\n",
       "      <td>0.928571</td>\n",
       "    </tr>\n",
       "    <tr>\n",
       "      <th>1.0</th>\n",
       "      <td>0.14881</td>\n",
       "      <td>0.071429</td>\n",
       "    </tr>\n",
       "  </tbody>\n",
       "</table>\n",
       "</div>"
      ],
      "text/plain": [
       "peer_status  peer_non_vsla  peer_vsla\n",
       "Loan_from_1                          \n",
       "0.0                0.85119   0.928571\n",
       "1.0                0.14881   0.071429"
      ]
     },
     "execution_count": 79,
     "metadata": {},
     "output_type": "execute_result"
    }
   ],
   "source": [
    "#Bank Account\n",
    "(peer.groupby('peer_status')['Loan_from_1'].value_counts(normalize=True).unstack().transpose())"
   ]
  },
  {
   "cell_type": "code",
   "execution_count": 80,
   "id": "e443bd78-ba46-459f-a27c-7e516d084314",
   "metadata": {},
   "outputs": [
    {
     "data": {
      "text/html": [
       "<div>\n",
       "<style scoped>\n",
       "    .dataframe tbody tr th:only-of-type {\n",
       "        vertical-align: middle;\n",
       "    }\n",
       "\n",
       "    .dataframe tbody tr th {\n",
       "        vertical-align: top;\n",
       "    }\n",
       "\n",
       "    .dataframe thead th {\n",
       "        text-align: right;\n",
       "    }\n",
       "</style>\n",
       "<table border=\"1\" class=\"dataframe\">\n",
       "  <thead>\n",
       "    <tr style=\"text-align: right;\">\n",
       "      <th>peer_status</th>\n",
       "      <th>peer_non_vsla</th>\n",
       "      <th>peer_vsla</th>\n",
       "    </tr>\n",
       "    <tr>\n",
       "      <th>Loan_from_2</th>\n",
       "      <th></th>\n",
       "      <th></th>\n",
       "    </tr>\n",
       "  </thead>\n",
       "  <tbody>\n",
       "    <tr>\n",
       "      <th>0.0</th>\n",
       "      <td>0.60119</td>\n",
       "      <td>0.912698</td>\n",
       "    </tr>\n",
       "    <tr>\n",
       "      <th>1.0</th>\n",
       "      <td>0.39881</td>\n",
       "      <td>0.087302</td>\n",
       "    </tr>\n",
       "  </tbody>\n",
       "</table>\n",
       "</div>"
      ],
      "text/plain": [
       "peer_status  peer_non_vsla  peer_vsla\n",
       "Loan_from_2                          \n",
       "0.0                0.60119   0.912698\n",
       "1.0                0.39881   0.087302"
      ]
     },
     "execution_count": 80,
     "metadata": {},
     "output_type": "execute_result"
    }
   ],
   "source": [
    "#saving and Credit accounts\n",
    "(peer.groupby('peer_status')['Loan_from_2'].value_counts(normalize=True)).unstack().transpose()"
   ]
  },
  {
   "cell_type": "code",
   "execution_count": 81,
   "id": "13825175-ce7f-4ae6-be86-4219bb38eb49",
   "metadata": {},
   "outputs": [
    {
     "data": {
      "text/html": [
       "<div>\n",
       "<style scoped>\n",
       "    .dataframe tbody tr th:only-of-type {\n",
       "        vertical-align: middle;\n",
       "    }\n",
       "\n",
       "    .dataframe tbody tr th {\n",
       "        vertical-align: top;\n",
       "    }\n",
       "\n",
       "    .dataframe thead th {\n",
       "        text-align: right;\n",
       "    }\n",
       "</style>\n",
       "<table border=\"1\" class=\"dataframe\">\n",
       "  <thead>\n",
       "    <tr style=\"text-align: right;\">\n",
       "      <th>peer_status</th>\n",
       "      <th>peer_non_vsla</th>\n",
       "      <th>peer_vsla</th>\n",
       "    </tr>\n",
       "    <tr>\n",
       "      <th>Loan_from_8</th>\n",
       "      <th></th>\n",
       "      <th></th>\n",
       "    </tr>\n",
       "  </thead>\n",
       "  <tbody>\n",
       "    <tr>\n",
       "      <th>0.0</th>\n",
       "      <td>0.72619</td>\n",
       "      <td>0.190476</td>\n",
       "    </tr>\n",
       "    <tr>\n",
       "      <th>1.0</th>\n",
       "      <td>0.27381</td>\n",
       "      <td>0.809524</td>\n",
       "    </tr>\n",
       "  </tbody>\n",
       "</table>\n",
       "</div>"
      ],
      "text/plain": [
       "peer_status  peer_non_vsla  peer_vsla\n",
       "Loan_from_8                          \n",
       "0.0                0.72619   0.190476\n",
       "1.0                0.27381   0.809524"
      ]
     },
     "execution_count": 81,
     "metadata": {},
     "output_type": "execute_result"
    }
   ],
   "source": [
    "# Other VSLA\n",
    "(peer.groupby('peer_status')['Loan_from_8'].value_counts(normalize=True)).unstack().transpose()"
   ]
  },
  {
   "cell_type": "code",
   "execution_count": 82,
   "id": "8bcda773-664b-4ba8-a66c-015e45bd33b3",
   "metadata": {},
   "outputs": [
    {
     "data": {
      "text/html": [
       "<div>\n",
       "<style scoped>\n",
       "    .dataframe tbody tr th:only-of-type {\n",
       "        vertical-align: middle;\n",
       "    }\n",
       "\n",
       "    .dataframe tbody tr th {\n",
       "        vertical-align: top;\n",
       "    }\n",
       "\n",
       "    .dataframe thead th {\n",
       "        text-align: right;\n",
       "    }\n",
       "</style>\n",
       "<table border=\"1\" class=\"dataframe\">\n",
       "  <thead>\n",
       "    <tr style=\"text-align: right;\">\n",
       "      <th>peer_status</th>\n",
       "      <th>peer_non_vsla</th>\n",
       "      <th>peer_vsla</th>\n",
       "    </tr>\n",
       "  </thead>\n",
       "  <tbody>\n",
       "    <tr>\n",
       "      <th>bank_loan_interest</th>\n",
       "      <td>3.402000</td>\n",
       "      <td>6.166667</td>\n",
       "    </tr>\n",
       "    <tr>\n",
       "      <th>sacco_loan_interest</th>\n",
       "      <td>5.430597</td>\n",
       "      <td>5.536364</td>\n",
       "    </tr>\n",
       "    <tr>\n",
       "      <th>rtv_vsla_loan_interest</th>\n",
       "      <td>NaN</td>\n",
       "      <td>NaN</td>\n",
       "    </tr>\n",
       "    <tr>\n",
       "      <th>other_village_VSLA_loan_interest</th>\n",
       "      <td>5.141304</td>\n",
       "      <td>5.206127</td>\n",
       "    </tr>\n",
       "  </tbody>\n",
       "</table>\n",
       "</div>"
      ],
      "text/plain": [
       "peer_status                       peer_non_vsla  peer_vsla\n",
       "bank_loan_interest                     3.402000   6.166667\n",
       "sacco_loan_interest                    5.430597   5.536364\n",
       "rtv_vsla_loan_interest                      NaN        NaN\n",
       "other_village_VSLA_loan_interest       5.141304   5.206127"
      ]
     },
     "execution_count": 82,
     "metadata": {},
     "output_type": "execute_result"
    }
   ],
   "source": [
    "(peer.groupby('peer_status')[[\n",
    "        'bank_loan_interest',\n",
    "        'sacco_loan_interest',\n",
    "        'rtv_vsla_loan_interest',\n",
    "        'other_village_VSLA_loan_interest'\n",
    "        ]].mean()).transpose()"
   ]
  },
  {
   "cell_type": "code",
   "execution_count": 83,
   "id": "a4048d7f-1c3f-4ed7-a4b5-3f4e012c68ac",
   "metadata": {},
   "outputs": [
    {
     "data": {
      "text/html": [
       "<div>\n",
       "<style scoped>\n",
       "    .dataframe tbody tr th:only-of-type {\n",
       "        vertical-align: middle;\n",
       "    }\n",
       "\n",
       "    .dataframe tbody tr th {\n",
       "        vertical-align: top;\n",
       "    }\n",
       "\n",
       "    .dataframe thead th {\n",
       "        text-align: right;\n",
       "    }\n",
       "</style>\n",
       "<table border=\"1\" class=\"dataframe\">\n",
       "  <thead>\n",
       "    <tr style=\"text-align: right;\">\n",
       "      <th>peer_status</th>\n",
       "      <th>peer_non_vsla</th>\n",
       "      <th>peer_vsla</th>\n",
       "    </tr>\n",
       "    <tr>\n",
       "      <th>bank_loan_type</th>\n",
       "      <th></th>\n",
       "      <th></th>\n",
       "    </tr>\n",
       "  </thead>\n",
       "  <tbody>\n",
       "    <tr>\n",
       "      <th>1.0</th>\n",
       "      <td>0.56</td>\n",
       "      <td>0.222222</td>\n",
       "    </tr>\n",
       "    <tr>\n",
       "      <th>2.0</th>\n",
       "      <td>0.40</td>\n",
       "      <td>0.777778</td>\n",
       "    </tr>\n",
       "    <tr>\n",
       "      <th>97.0</th>\n",
       "      <td>0.04</td>\n",
       "      <td>NaN</td>\n",
       "    </tr>\n",
       "  </tbody>\n",
       "</table>\n",
       "</div>"
      ],
      "text/plain": [
       "peer_status     peer_non_vsla  peer_vsla\n",
       "bank_loan_type                          \n",
       "1.0                      0.56   0.222222\n",
       "2.0                      0.40   0.777778\n",
       "97.0                     0.04        NaN"
      ]
     },
     "execution_count": 83,
     "metadata": {},
     "output_type": "execute_result"
    }
   ],
   "source": [
    "(peer.groupby('peer_status')['bank_loan_type'].value_counts(normalize=True)).unstack().transpose()"
   ]
  },
  {
   "cell_type": "code",
   "execution_count": null,
   "id": "e932551e-c53f-42ce-8ae5-1f422688d8db",
   "metadata": {},
   "outputs": [],
   "source": []
  },
  {
   "cell_type": "code",
   "execution_count": null,
   "id": "11d6c8cc-fdeb-4e8b-bc55-c14a53ac4636",
   "metadata": {},
   "outputs": [],
   "source": []
  },
  {
   "cell_type": "code",
   "execution_count": null,
   "id": "f768bb8a-da8b-44c1-8242-bb98536c48ae",
   "metadata": {},
   "outputs": [],
   "source": []
  },
  {
   "cell_type": "code",
   "execution_count": null,
   "id": "5080dce5-db69-4e92-9ff4-d3397e515100",
   "metadata": {},
   "outputs": [],
   "source": []
  },
  {
   "cell_type": "code",
   "execution_count": null,
   "id": "687f294c-2de0-4194-b811-97877da6a8f1",
   "metadata": {},
   "outputs": [],
   "source": []
  },
  {
   "cell_type": "code",
   "execution_count": null,
   "id": "036c6d24-c50e-4d66-ade6-dd9ebe63c3ee",
   "metadata": {},
   "outputs": [],
   "source": []
  },
  {
   "cell_type": "markdown",
   "id": "b2454025-5d71-43ab-bad4-3c00a5a18ee7",
   "metadata": {},
   "source": [
    "## Gender Aggregation"
   ]
  },
  {
   "cell_type": "code",
   "execution_count": 193,
   "id": "4496b8ef-6014-472d-876d-d653b58ad3a7",
   "metadata": {},
   "outputs": [
    {
     "data": {
      "text/plain": [
       "new_status\n",
       "PEER           37.848871\n",
       "RTV_nonvsla    53.633870\n",
       "RTV_vsla       76.985118\n",
       "Name: Total Savings (Ugx), dtype: float64"
      ]
     },
     "execution_count": 193,
     "metadata": {},
     "output_type": "execute_result"
    }
   ],
   "source": [
    "# Total Savings\n",
    "((df.groupby(['new_status'])['Total Savings (Ugx)'].mean() * (adjusted_cpi/100))/rate)"
   ]
  },
  {
   "cell_type": "code",
   "execution_count": 202,
   "id": "d6a450a8-33bb-4cdc-bb5b-d612281d2730",
   "metadata": {},
   "outputs": [
    {
     "data": {
      "text/plain": [
       "Household_Head_Gender\n",
       "Male Headed      1204\n",
       "Female Headed     517\n",
       "Youth Headed      178\n",
       "Name: count, dtype: int64"
      ]
     },
     "execution_count": 202,
     "metadata": {},
     "output_type": "execute_result"
    }
   ],
   "source": [
    "peer['Household_Head_Gender'].value_counts()"
   ]
  },
  {
   "cell_type": "code",
   "execution_count": 203,
   "id": "605c34f2-e608-4017-b278-811bd622106a",
   "metadata": {},
   "outputs": [
    {
     "data": {
      "text/plain": [
       "Household_Head_Gender\n",
       "Male Headed      1417\n",
       "Female Headed     677\n",
       "Youth Headed      222\n",
       "Name: count, dtype: int64"
      ]
     },
     "execution_count": 203,
     "metadata": {},
     "output_type": "execute_result"
    }
   ],
   "source": [
    "rtv_nvsf['Household_Head_Gender'].value_counts()"
   ]
  },
  {
   "cell_type": "code",
   "execution_count": 119,
   "id": "8b746fe0-bc8b-4202-a5f4-b85f98020a7d",
   "metadata": {},
   "outputs": [
    {
     "data": {
      "text/html": [
       "<div>\n",
       "<style scoped>\n",
       "    .dataframe tbody tr th:only-of-type {\n",
       "        vertical-align: middle;\n",
       "    }\n",
       "\n",
       "    .dataframe tbody tr th {\n",
       "        vertical-align: top;\n",
       "    }\n",
       "\n",
       "    .dataframe thead th {\n",
       "        text-align: right;\n",
       "    }\n",
       "</style>\n",
       "<table border=\"1\" class=\"dataframe\">\n",
       "  <thead>\n",
       "    <tr style=\"text-align: right;\">\n",
       "      <th>Household_Head_Gender</th>\n",
       "      <th>Female Headed</th>\n",
       "      <th>Male Headed</th>\n",
       "      <th>Youth Headed</th>\n",
       "    </tr>\n",
       "    <tr>\n",
       "      <th>peer_status</th>\n",
       "      <th></th>\n",
       "      <th></th>\n",
       "      <th></th>\n",
       "    </tr>\n",
       "  </thead>\n",
       "  <tbody>\n",
       "    <tr>\n",
       "      <th>peer_non_vsla</th>\n",
       "      <td>23.666916</td>\n",
       "      <td>32.538785</td>\n",
       "      <td>17.857783</td>\n",
       "    </tr>\n",
       "    <tr>\n",
       "      <th>peer_vsla</th>\n",
       "      <td>31.772018</td>\n",
       "      <td>64.168087</td>\n",
       "      <td>73.794859</td>\n",
       "    </tr>\n",
       "  </tbody>\n",
       "</table>\n",
       "</div>"
      ],
      "text/plain": [
       "Household_Head_Gender  Female Headed  Male Headed  Youth Headed\n",
       "peer_status                                                    \n",
       "peer_non_vsla              23.666916    32.538785     17.857783\n",
       "peer_vsla                  31.772018    64.168087     73.794859"
      ]
     },
     "execution_count": 119,
     "metadata": {},
     "output_type": "execute_result"
    }
   ],
   "source": [
    "# Total Savings\n",
    "((peer.groupby(['peer_status', 'Household_Head_Gender'])['Total Savings (Ugx)'].mean() * (adjusted_cpi/100))/rate).unstack()"
   ]
  },
  {
   "cell_type": "code",
   "execution_count": 141,
   "id": "0d77cc07-ed87-4fc1-9d71-00f8e7614db7",
   "metadata": {},
   "outputs": [
    {
     "data": {
      "text/html": [
       "<div>\n",
       "<style scoped>\n",
       "    .dataframe tbody tr th:only-of-type {\n",
       "        vertical-align: middle;\n",
       "    }\n",
       "\n",
       "    .dataframe tbody tr th {\n",
       "        vertical-align: top;\n",
       "    }\n",
       "\n",
       "    .dataframe thead th {\n",
       "        text-align: right;\n",
       "    }\n",
       "</style>\n",
       "<table border=\"1\" class=\"dataframe\">\n",
       "  <thead>\n",
       "    <tr style=\"text-align: right;\">\n",
       "      <th>Household_Head_Gender</th>\n",
       "      <th>Female Headed</th>\n",
       "      <th>Male Headed</th>\n",
       "      <th>Youth Headed</th>\n",
       "    </tr>\n",
       "    <tr>\n",
       "      <th>new_status</th>\n",
       "      <th></th>\n",
       "      <th></th>\n",
       "      <th></th>\n",
       "    </tr>\n",
       "  </thead>\n",
       "  <tbody>\n",
       "    <tr>\n",
       "      <th>PEER</th>\n",
       "      <td>25.908753</td>\n",
       "      <td>43.283290</td>\n",
       "      <td>35.770218</td>\n",
       "    </tr>\n",
       "    <tr>\n",
       "      <th>RTV_nonvsla</th>\n",
       "      <td>25.637482</td>\n",
       "      <td>65.201891</td>\n",
       "      <td>65.172917</td>\n",
       "    </tr>\n",
       "    <tr>\n",
       "      <th>RTV_vsla</th>\n",
       "      <td>63.172546</td>\n",
       "      <td>82.205713</td>\n",
       "      <td>76.190379</td>\n",
       "    </tr>\n",
       "  </tbody>\n",
       "</table>\n",
       "</div>"
      ],
      "text/plain": [
       "Household_Head_Gender  Female Headed  Male Headed  Youth Headed\n",
       "new_status                                                     \n",
       "PEER                       25.908753    43.283290     35.770218\n",
       "RTV_nonvsla                25.637482    65.201891     65.172917\n",
       "RTV_vsla                   63.172546    82.205713     76.190379"
      ]
     },
     "execution_count": 141,
     "metadata": {},
     "output_type": "execute_result"
    }
   ],
   "source": [
    "# Total Savings\n",
    "((df.groupby(['new_status', 'Household_Head_Gender'])['Total Savings (Ugx)'].mean() * (adjusted_cpi/100))/rate).unstack()"
   ]
  },
  {
   "cell_type": "code",
   "execution_count": 120,
   "id": "318bfb42-24f8-40db-8747-d30365118f57",
   "metadata": {},
   "outputs": [
    {
     "data": {
      "text/html": [
       "<div>\n",
       "<style scoped>\n",
       "    .dataframe tbody tr th:only-of-type {\n",
       "        vertical-align: middle;\n",
       "    }\n",
       "\n",
       "    .dataframe tbody tr th {\n",
       "        vertical-align: top;\n",
       "    }\n",
       "\n",
       "    .dataframe thead th {\n",
       "        text-align: right;\n",
       "    }\n",
       "</style>\n",
       "<table border=\"1\" class=\"dataframe\">\n",
       "  <thead>\n",
       "    <tr style=\"text-align: right;\">\n",
       "      <th>Household_Head_Gender</th>\n",
       "      <th>Female Headed</th>\n",
       "      <th>Male Headed</th>\n",
       "      <th>Youth Headed</th>\n",
       "    </tr>\n",
       "    <tr>\n",
       "      <th>peer_status</th>\n",
       "      <th></th>\n",
       "      <th></th>\n",
       "      <th></th>\n",
       "    </tr>\n",
       "  </thead>\n",
       "  <tbody>\n",
       "    <tr>\n",
       "      <th>peer_non_vsla</th>\n",
       "      <td>12.080429</td>\n",
       "      <td>27.664802</td>\n",
       "      <td>7.684550</td>\n",
       "    </tr>\n",
       "    <tr>\n",
       "      <th>peer_vsla</th>\n",
       "      <td>15.151169</td>\n",
       "      <td>27.341352</td>\n",
       "      <td>5.345887</td>\n",
       "    </tr>\n",
       "  </tbody>\n",
       "</table>\n",
       "</div>"
      ],
      "text/plain": [
       "Household_Head_Gender  Female Headed  Male Headed  Youth Headed\n",
       "peer_status                                                    \n",
       "peer_non_vsla              12.080429    27.664802      7.684550\n",
       "peer_vsla                  15.151169    27.341352      5.345887"
      ]
     },
     "execution_count": 120,
     "metadata": {},
     "output_type": "execute_result"
    }
   ],
   "source": [
    "((peer.groupby(['peer_status', 'Household_Head_Gender'])['Loan Amount (Ugx)'].mean() * (adjusted_cpi/100))/rate).unstack()"
   ]
  },
  {
   "cell_type": "code",
   "execution_count": 191,
   "id": "17ff2e44-8c8f-47e0-8224-7bf32bf46ec0",
   "metadata": {},
   "outputs": [
    {
     "data": {
      "text/html": [
       "<div>\n",
       "<style scoped>\n",
       "    .dataframe tbody tr th:only-of-type {\n",
       "        vertical-align: middle;\n",
       "    }\n",
       "\n",
       "    .dataframe tbody tr th {\n",
       "        vertical-align: top;\n",
       "    }\n",
       "\n",
       "    .dataframe thead th {\n",
       "        text-align: right;\n",
       "    }\n",
       "</style>\n",
       "<table border=\"1\" class=\"dataframe\">\n",
       "  <thead>\n",
       "    <tr style=\"text-align: right;\">\n",
       "      <th>Household_Head_Gender</th>\n",
       "      <th>Female Headed</th>\n",
       "      <th>Male Headed</th>\n",
       "      <th>Youth Headed</th>\n",
       "    </tr>\n",
       "    <tr>\n",
       "      <th>new_status</th>\n",
       "      <th></th>\n",
       "      <th></th>\n",
       "      <th></th>\n",
       "    </tr>\n",
       "  </thead>\n",
       "  <tbody>\n",
       "    <tr>\n",
       "      <th>PEER</th>\n",
       "      <td>12.929782</td>\n",
       "      <td>27.554925</td>\n",
       "      <td>6.935652</td>\n",
       "    </tr>\n",
       "    <tr>\n",
       "      <th>RTV_nonvsla</th>\n",
       "      <td>10.090774</td>\n",
       "      <td>32.127543</td>\n",
       "      <td>19.478704</td>\n",
       "    </tr>\n",
       "    <tr>\n",
       "      <th>RTV_vsla</th>\n",
       "      <td>16.790471</td>\n",
       "      <td>36.612193</td>\n",
       "      <td>10.645511</td>\n",
       "    </tr>\n",
       "  </tbody>\n",
       "</table>\n",
       "</div>"
      ],
      "text/plain": [
       "Household_Head_Gender  Female Headed  Male Headed  Youth Headed\n",
       "new_status                                                     \n",
       "PEER                       12.929782    27.554925      6.935652\n",
       "RTV_nonvsla                10.090774    32.127543     19.478704\n",
       "RTV_vsla                   16.790471    36.612193     10.645511"
      ]
     },
     "execution_count": 191,
     "metadata": {},
     "output_type": "execute_result"
    }
   ],
   "source": [
    "((df.groupby(['new_status', 'Household_Head_Gender'])['Loan Amount (Ugx)'].mean() * (adjusted_cpi/100))/rate).unstack()"
   ]
  },
  {
   "cell_type": "code",
   "execution_count": 89,
   "id": "8a6005a7-60ce-4f34-95ae-0dde7ef13290",
   "metadata": {},
   "outputs": [
    {
     "data": {
      "text/html": [
       "<div>\n",
       "<style scoped>\n",
       "    .dataframe tbody tr th:only-of-type {\n",
       "        vertical-align: middle;\n",
       "    }\n",
       "\n",
       "    .dataframe tbody tr th {\n",
       "        vertical-align: top;\n",
       "    }\n",
       "\n",
       "    .dataframe thead th {\n",
       "        text-align: right;\n",
       "    }\n",
       "</style>\n",
       "<table border=\"1\" class=\"dataframe\">\n",
       "  <thead>\n",
       "    <tr style=\"text-align: right;\">\n",
       "      <th>Household_Head_Gender</th>\n",
       "      <th>Female Headed</th>\n",
       "      <th>Male Headed</th>\n",
       "      <th>Youth Headed</th>\n",
       "    </tr>\n",
       "    <tr>\n",
       "      <th>new_status</th>\n",
       "      <th></th>\n",
       "      <th></th>\n",
       "      <th></th>\n",
       "    </tr>\n",
       "  </thead>\n",
       "  <tbody>\n",
       "    <tr>\n",
       "      <th>PEER</th>\n",
       "      <td>13.319582</td>\n",
       "      <td>30.296464</td>\n",
       "      <td>9.148935</td>\n",
       "    </tr>\n",
       "    <tr>\n",
       "      <th>RTV_nonvsla</th>\n",
       "      <td>10.839974</td>\n",
       "      <td>34.755211</td>\n",
       "      <td>24.430917</td>\n",
       "    </tr>\n",
       "    <tr>\n",
       "      <th>RTV_vsla</th>\n",
       "      <td>16.956303</td>\n",
       "      <td>33.855974</td>\n",
       "      <td>10.783765</td>\n",
       "    </tr>\n",
       "  </tbody>\n",
       "</table>\n",
       "</div>"
      ],
      "text/plain": [
       "Household_Head_Gender  Female Headed  Male Headed  Youth Headed\n",
       "new_status                                                     \n",
       "PEER                       13.319582    30.296464      9.148935\n",
       "RTV_nonvsla                10.839974    34.755211     24.430917\n",
       "RTV_vsla                   16.956303    33.855974     10.783765"
      ]
     },
     "execution_count": 89,
     "metadata": {},
     "output_type": "execute_result"
    }
   ],
   "source": [
    "filtered_df = df[df['Total Savings (Ugx)'] != 0]\n",
    "result = ((filtered_df.groupby(['new_status', 'Household_Head_Gender'])['Loan Amount (Ugx)'].mean() * (adjusted_cpi/100))/rate).unstack()\n",
    "result"
   ]
  },
  {
   "cell_type": "code",
   "execution_count": 121,
   "id": "9b73332b-7bc9-4e7b-bd67-432719d9b236",
   "metadata": {},
   "outputs": [
    {
     "data": {
      "text/plain": [
       "peer_status    Household_Head_Gender\n",
       "peer_non_vsla  Female Headed            0.542781\n",
       "               Male Headed              0.596226\n",
       "               Youth Headed             0.628099\n",
       "peer_vsla      Female Headed            0.986014\n",
       "               Male Headed              0.977995\n",
       "               Youth Headed             0.982456\n",
       "dtype: float64"
      ]
     },
     "execution_count": 121,
     "metadata": {},
     "output_type": "execute_result"
    }
   ],
   "source": [
    "peer.groupby(['peer_status','Household_Head_Gender']).apply(lambda x: len(x[x['Total Savings (Ugx)'] != 0]) / len(x))"
   ]
  },
  {
   "cell_type": "code",
   "execution_count": 84,
   "id": "647fa1d3-3d3e-49b9-94c9-14b817d642f1",
   "metadata": {},
   "outputs": [
    {
     "data": {
      "text/plain": [
       "Household_Head_Gender\n",
       "Female Headed    0.665377\n",
       "Male Headed      0.725914\n",
       "Youth Headed     0.741573\n",
       "dtype: float64"
      ]
     },
     "execution_count": 84,
     "metadata": {},
     "output_type": "execute_result"
    }
   ],
   "source": [
    "peer.groupby('Household_Head_Gender').apply(lambda x: len(x[x['Total Savings (Ugx)'] != 0]) / len(x))"
   ]
  },
  {
   "cell_type": "code",
   "execution_count": 85,
   "id": "a50c95d8-5f75-4ed9-9a40-1f64dce3b42e",
   "metadata": {},
   "outputs": [
    {
     "data": {
      "text/plain": [
       "Household_Head_Gender\n",
       "Female Headed    0.675037\n",
       "Male Headed      0.772759\n",
       "Youth Headed     0.797297\n",
       "dtype: float64"
      ]
     },
     "execution_count": 85,
     "metadata": {},
     "output_type": "execute_result"
    }
   ],
   "source": [
    "rtv_nvsf.groupby('Household_Head_Gender').apply(lambda x: len(x[x['Total Savings (Ugx)'] != 0]) / len(x))"
   ]
  },
  {
   "cell_type": "code",
   "execution_count": 86,
   "id": "af187d55-6d28-4355-9de5-ed7b9d050480",
   "metadata": {},
   "outputs": [
    {
     "data": {
      "text/plain": [
       "Household_Head_Gender\n",
       "Female Headed    0.990220\n",
       "Male Headed      0.989945\n",
       "Youth Headed     0.987179\n",
       "dtype: float64"
      ]
     },
     "execution_count": 86,
     "metadata": {},
     "output_type": "execute_result"
    }
   ],
   "source": [
    "rtv_vsf.groupby('Household_Head_Gender').apply(lambda x: len(x[x['Total Savings (Ugx)'] != 0]) / len(x))"
   ]
  },
  {
   "cell_type": "code",
   "execution_count": 142,
   "id": "36d35060-d642-4c1b-933c-ba27ec85180a",
   "metadata": {},
   "outputs": [
    {
     "data": {
      "text/html": [
       "<div>\n",
       "<style scoped>\n",
       "    .dataframe tbody tr th:only-of-type {\n",
       "        vertical-align: middle;\n",
       "    }\n",
       "\n",
       "    .dataframe tbody tr th {\n",
       "        vertical-align: top;\n",
       "    }\n",
       "\n",
       "    .dataframe thead th {\n",
       "        text-align: right;\n",
       "    }\n",
       "</style>\n",
       "<table border=\"1\" class=\"dataframe\">\n",
       "  <thead>\n",
       "    <tr style=\"text-align: right;\">\n",
       "      <th>Household_Head_Gender</th>\n",
       "      <th>Female Headed</th>\n",
       "      <th>Male Headed</th>\n",
       "      <th>Youth Headed</th>\n",
       "    </tr>\n",
       "    <tr>\n",
       "      <th>new_status</th>\n",
       "      <th></th>\n",
       "      <th></th>\n",
       "      <th></th>\n",
       "    </tr>\n",
       "  </thead>\n",
       "  <tbody>\n",
       "    <tr>\n",
       "      <th>PEER</th>\n",
       "      <td>115.253405</td>\n",
       "      <td>157.232844</td>\n",
       "      <td>49.381844</td>\n",
       "    </tr>\n",
       "    <tr>\n",
       "      <th>RTV_nonvsla</th>\n",
       "      <td>78.522458</td>\n",
       "      <td>200.549463</td>\n",
       "      <td>135.133507</td>\n",
       "    </tr>\n",
       "    <tr>\n",
       "      <th>RTV_vsla</th>\n",
       "      <td>55.381474</td>\n",
       "      <td>107.671343</td>\n",
       "      <td>39.540471</td>\n",
       "    </tr>\n",
       "  </tbody>\n",
       "</table>\n",
       "</div>"
      ],
      "text/plain": [
       "Household_Head_Gender  Female Headed  Male Headed  Youth Headed\n",
       "new_status                                                     \n",
       "PEER                      115.253405   157.232844     49.381844\n",
       "RTV_nonvsla                78.522458   200.549463    135.133507\n",
       "RTV_vsla                   55.381474   107.671343     39.540471"
      ]
     },
     "execution_count": 142,
     "metadata": {},
     "output_type": "execute_result"
    }
   ],
   "source": [
    "## Loan Amount for only those that saved\n",
    "((subset.groupby(['new_status', 'Household_Head_Gender'])['Loan Amount (Ugx)'].mean() * (adjusted_cpi/100))/rate).unstack()"
   ]
  },
  {
   "cell_type": "code",
   "execution_count": 123,
   "id": "00efe26e-b3e4-43af-b754-85a59e366c64",
   "metadata": {},
   "outputs": [
    {
     "name": "stdout",
     "output_type": "stream",
     "text": [
      "frame (Female Headed):\t9.624987956487956\n",
      "frame (Male Headed):\t19.268887340396635\n",
      "frame (Youth Headed):\t5.62300828460039\n"
     ]
    }
   ],
   "source": [
    "for frame in [peer_vsla]:\n",
    "    for gender in frame['Household_Head_Gender'].unique():\n",
    "        sub_frame = frame[frame['Household_Head_Gender'] == gender]\n",
    "        debt = sub_frame[columns].fillna(0).sum(axis=1).mean() * (adjusted_cpi / 100) / rate\n",
    "        print(f\"{get_df_name(frame)} ({gender}):\\t{debt}\")"
   ]
  },
  {
   "cell_type": "code",
   "execution_count": 124,
   "id": "76416334-b585-4ec7-8f17-def464242c3d",
   "metadata": {},
   "outputs": [
    {
     "name": "stdout",
     "output_type": "stream",
     "text": [
      "frame (Male Headed):\t28.13289805003494\n",
      "frame (Youth Headed):\t9.075175849403124\n",
      "frame (Female Headed):\t7.8251702317290555\n"
     ]
    }
   ],
   "source": [
    "for frame in [peer_non_vsla]:\n",
    "    for gender in frame['Household_Head_Gender'].unique():\n",
    "        sub_frame = frame[frame['Household_Head_Gender'] == gender]\n",
    "        debt = sub_frame[columns].fillna(0).sum(axis=1).mean() * (adjusted_cpi / 100) / rate\n",
    "        print(f\"{get_df_name(frame)} ({gender}):\\t{debt}\")"
   ]
  },
  {
   "cell_type": "code",
   "execution_count": null,
   "id": "dbf7e856-f6ca-4889-a5e1-de906290e7f6",
   "metadata": {},
   "outputs": [],
   "source": []
  },
  {
   "cell_type": "code",
   "execution_count": 143,
   "id": "34ad6c67-5e08-428b-a157-0ef033edcf17",
   "metadata": {},
   "outputs": [
    {
     "name": "stdout",
     "output_type": "stream",
     "text": [
      "peer (Male Headed):\t25.121784777408635\n",
      "peer (Female Headed):\t8.322992155598538\n",
      "peer (Youth Headed):\t7.969706460674158\n",
      "rtv_vsf (Male Headed):\t29.13651274522649\n",
      "rtv_vsf (Female Headed):\t13.013416190709048\n",
      "rtv_vsf (Youth Headed):\t11.616418803418803\n",
      "rtv_nvsf (Female Headed):\t11.78409769407517\n",
      "rtv_nvsf (Male Headed):\t27.970149999999997\n",
      "rtv_nvsf (Youth Headed):\t14.85478240740741\n"
     ]
    }
   ],
   "source": [
    "for frame in [peer, rtv_vsf, rtv_nvsf]:\n",
    "    for gender in frame['Household_Head_Gender'].unique():\n",
    "        sub_frame = frame[frame['Household_Head_Gender'] == gender]\n",
    "        debt = sub_frame[columns].fillna(0).sum(axis=1).mean() * (adjusted_cpi / 100) / rate\n",
    "        print(f\"{get_df_name(frame)} ({gender}):\\t{debt}\")"
   ]
  },
  {
   "cell_type": "code",
   "execution_count": null,
   "id": "4858c7ed-ae76-4e7b-b846-0327261f2148",
   "metadata": {},
   "outputs": [],
   "source": []
  },
  {
   "cell_type": "code",
   "execution_count": null,
   "id": "2dc23a11-b311-4b3f-87bb-693d37a05f35",
   "metadata": {},
   "outputs": [],
   "source": []
  },
  {
   "cell_type": "code",
   "execution_count": 125,
   "id": "4af03469-57c7-4f04-b3da-24ca1a6de532",
   "metadata": {},
   "outputs": [
    {
     "data": {
      "text/html": [
       "<div>\n",
       "<style scoped>\n",
       "    .dataframe tbody tr th:only-of-type {\n",
       "        vertical-align: middle;\n",
       "    }\n",
       "\n",
       "    .dataframe tbody tr th {\n",
       "        vertical-align: top;\n",
       "    }\n",
       "\n",
       "    .dataframe thead tr th {\n",
       "        text-align: left;\n",
       "    }\n",
       "\n",
       "    .dataframe thead tr:last-of-type th {\n",
       "        text-align: right;\n",
       "    }\n",
       "</style>\n",
       "<table border=\"1\" class=\"dataframe\">\n",
       "  <thead>\n",
       "    <tr>\n",
       "      <th>peer_status</th>\n",
       "      <th colspan=\"3\" halign=\"left\">peer_non_vsla</th>\n",
       "      <th colspan=\"3\" halign=\"left\">peer_vsla</th>\n",
       "    </tr>\n",
       "    <tr>\n",
       "      <th>Household_Head_Gender</th>\n",
       "      <th>Female Headed</th>\n",
       "      <th>Male Headed</th>\n",
       "      <th>Youth Headed</th>\n",
       "      <th>Female Headed</th>\n",
       "      <th>Male Headed</th>\n",
       "      <th>Youth Headed</th>\n",
       "    </tr>\n",
       "    <tr>\n",
       "      <th>borrowed_past_12_months</th>\n",
       "      <th></th>\n",
       "      <th></th>\n",
       "      <th></th>\n",
       "      <th></th>\n",
       "      <th></th>\n",
       "      <th></th>\n",
       "    </tr>\n",
       "  </thead>\n",
       "  <tbody>\n",
       "    <tr>\n",
       "      <th>0</th>\n",
       "      <td>0.927807</td>\n",
       "      <td>0.842767</td>\n",
       "      <td>0.867769</td>\n",
       "      <td>0.783217</td>\n",
       "      <td>0.789731</td>\n",
       "      <td>0.842105</td>\n",
       "    </tr>\n",
       "    <tr>\n",
       "      <th>1</th>\n",
       "      <td>0.072193</td>\n",
       "      <td>0.157233</td>\n",
       "      <td>0.132231</td>\n",
       "      <td>0.216783</td>\n",
       "      <td>0.210269</td>\n",
       "      <td>0.157895</td>\n",
       "    </tr>\n",
       "  </tbody>\n",
       "</table>\n",
       "</div>"
      ],
      "text/plain": [
       "peer_status             peer_non_vsla                              peer_vsla  \\\n",
       "Household_Head_Gender   Female Headed Male Headed Youth Headed Female Headed   \n",
       "borrowed_past_12_months                                                        \n",
       "0                            0.927807    0.842767     0.867769      0.783217   \n",
       "1                            0.072193    0.157233     0.132231      0.216783   \n",
       "\n",
       "peer_status                                       \n",
       "Household_Head_Gender   Male Headed Youth Headed  \n",
       "borrowed_past_12_months                           \n",
       "0                          0.789731     0.842105  \n",
       "1                          0.210269     0.157895  "
      ]
     },
     "execution_count": 125,
     "metadata": {},
     "output_type": "execute_result"
    }
   ],
   "source": [
    "(peer.groupby(['peer_status', 'Household_Head_Gender'])['borrowed_past_12_months'].value_counts(normalize=True)).unstack().transpose()\n"
   ]
  },
  {
   "cell_type": "code",
   "execution_count": 144,
   "id": "a61c2907-7214-487f-a9c3-1e4b31050f8a",
   "metadata": {},
   "outputs": [
    {
     "data": {
      "text/html": [
       "<div>\n",
       "<style scoped>\n",
       "    .dataframe tbody tr th:only-of-type {\n",
       "        vertical-align: middle;\n",
       "    }\n",
       "\n",
       "    .dataframe tbody tr th {\n",
       "        vertical-align: top;\n",
       "    }\n",
       "\n",
       "    .dataframe thead tr th {\n",
       "        text-align: left;\n",
       "    }\n",
       "\n",
       "    .dataframe thead tr:last-of-type th {\n",
       "        text-align: right;\n",
       "    }\n",
       "</style>\n",
       "<table border=\"1\" class=\"dataframe\">\n",
       "  <thead>\n",
       "    <tr>\n",
       "      <th>new_status</th>\n",
       "      <th colspan=\"3\" halign=\"left\">PEER</th>\n",
       "      <th colspan=\"3\" halign=\"left\">RTV_nonvsla</th>\n",
       "      <th colspan=\"3\" halign=\"left\">RTV_vsla</th>\n",
       "    </tr>\n",
       "    <tr>\n",
       "      <th>Household_Head_Gender</th>\n",
       "      <th>Female Headed</th>\n",
       "      <th>Male Headed</th>\n",
       "      <th>Youth Headed</th>\n",
       "      <th>Female Headed</th>\n",
       "      <th>Male Headed</th>\n",
       "      <th>Youth Headed</th>\n",
       "      <th>Female Headed</th>\n",
       "      <th>Male Headed</th>\n",
       "      <th>Youth Headed</th>\n",
       "    </tr>\n",
       "    <tr>\n",
       "      <th>borrowed_past_12_months</th>\n",
       "      <th></th>\n",
       "      <th></th>\n",
       "      <th></th>\n",
       "      <th></th>\n",
       "      <th></th>\n",
       "      <th></th>\n",
       "      <th></th>\n",
       "      <th></th>\n",
       "      <th></th>\n",
       "    </tr>\n",
       "  </thead>\n",
       "  <tbody>\n",
       "    <tr>\n",
       "      <th>0</th>\n",
       "      <td>0.887814</td>\n",
       "      <td>0.824751</td>\n",
       "      <td>0.859551</td>\n",
       "      <td>0.871492</td>\n",
       "      <td>0.839802</td>\n",
       "      <td>0.855856</td>\n",
       "      <td>0.696822</td>\n",
       "      <td>0.659963</td>\n",
       "      <td>0.730769</td>\n",
       "    </tr>\n",
       "    <tr>\n",
       "      <th>1</th>\n",
       "      <td>0.112186</td>\n",
       "      <td>0.175249</td>\n",
       "      <td>0.140449</td>\n",
       "      <td>0.128508</td>\n",
       "      <td>0.160198</td>\n",
       "      <td>0.144144</td>\n",
       "      <td>0.303178</td>\n",
       "      <td>0.340037</td>\n",
       "      <td>0.269231</td>\n",
       "    </tr>\n",
       "  </tbody>\n",
       "</table>\n",
       "</div>"
      ],
      "text/plain": [
       "new_status                       PEER                            RTV_nonvsla  \\\n",
       "Household_Head_Gender   Female Headed Male Headed Youth Headed Female Headed   \n",
       "borrowed_past_12_months                                                        \n",
       "0                            0.887814    0.824751     0.859551      0.871492   \n",
       "1                            0.112186    0.175249     0.140449      0.128508   \n",
       "\n",
       "new_status                                            RTV_vsla              \\\n",
       "Household_Head_Gender   Male Headed Youth Headed Female Headed Male Headed   \n",
       "borrowed_past_12_months                                                      \n",
       "0                          0.839802     0.855856      0.696822    0.659963   \n",
       "1                          0.160198     0.144144      0.303178    0.340037   \n",
       "\n",
       "new_status                            \n",
       "Household_Head_Gender   Youth Headed  \n",
       "borrowed_past_12_months               \n",
       "0                           0.730769  \n",
       "1                           0.269231  "
      ]
     },
     "execution_count": 144,
     "metadata": {},
     "output_type": "execute_result"
    }
   ],
   "source": [
    "(df.groupby(['new_status', 'Household_Head_Gender'])['borrowed_past_12_months'].value_counts(normalize=True)).unstack().transpose()\n"
   ]
  },
  {
   "cell_type": "code",
   "execution_count": null,
   "id": "5df51b96-12ac-416f-bcdc-0af0b18825f9",
   "metadata": {},
   "outputs": [],
   "source": []
  },
  {
   "cell_type": "code",
   "execution_count": 145,
   "id": "57344069-242f-49b4-93d5-05cb43ca24a2",
   "metadata": {},
   "outputs": [
    {
     "name": "stdout",
     "output_type": "stream",
     "text": [
      "peer:\t5.284861591695501\n",
      "rtv_vsf:\t4.267198443579767\n",
      "rtv_nvsf:\t4.757902654867256\n"
     ]
    }
   ],
   "source": [
    "for frame in [peer, rtv_vsf, rtv_nvsf]:\n",
    "    interest = frame[frame['Interest'] != 0.]['Interest'].mean()\n",
    "    print(f\"{get_df_name(frame)}:\\t{interest}\")"
   ]
  },
  {
   "cell_type": "code",
   "execution_count": 146,
   "id": "d630f799-0567-43a4-92d6-6e14fd32744b",
   "metadata": {},
   "outputs": [
    {
     "name": "stdout",
     "output_type": "stream",
     "text": [
      "peer (Gender: Male Headed):\t5.581279620853081\n",
      "peer (Gender: Female Headed):\t4.432894736842106\n",
      "peer (Gender: Youth Headed):\t4.619047619047619\n",
      "rtv_vsf (Gender: Male Headed):\t4.265283018867925\n",
      "rtv_vsf (Gender: Female Headed):\t4.2857377049180325\n",
      "rtv_vsf (Gender: Youth Headed):\t4.193333333333333\n",
      "rtv_nvsf (Gender: Female Headed):\t4.411482758620689\n",
      "rtv_nvsf (Gender: Male Headed):\t4.868738636363636\n",
      "rtv_nvsf (Gender: Youth Headed):\t4.937734375\n"
     ]
    }
   ],
   "source": [
    "for frame in [peer, rtv_vsf, rtv_nvsf]:\n",
    "    for gender in frame['Household_Head_Gender'].unique():\n",
    "        sub_frame = frame[(frame['Household_Head_Gender'] == gender) & (frame['Interest'] != 0.)]\n",
    "        interest = sub_frame['Interest'].mean()\n",
    "        print(f\"{get_df_name(frame)} (Gender: {gender}):\\t{interest}\")"
   ]
  },
  {
   "cell_type": "code",
   "execution_count": 134,
   "id": "ec07cd0d-503b-4391-a56d-21e841b7122a",
   "metadata": {},
   "outputs": [
    {
     "data": {
      "text/plain": [
       "Household_Head_Gender\n",
       "Female Headed    5.052419\n",
       "Male Headed      5.462791\n",
       "Youth Headed     6.111111\n",
       "Name: Interest, dtype: float64"
      ]
     },
     "execution_count": 134,
     "metadata": {},
     "output_type": "execute_result"
    }
   ],
   "source": [
    "peer_vsla[peer_vsla['Interest']!=0.].groupby('Household_Head_Gender')['Interest'].mean()"
   ]
  },
  {
   "cell_type": "code",
   "execution_count": 136,
   "id": "8580843f-0c5b-4c8e-aa43-ea19dae52579",
   "metadata": {},
   "outputs": [
    {
     "data": {
      "text/plain": [
       "Household_Head_Gender\n",
       "Female Headed    3.694231\n",
       "Male Headed      5.662800\n",
       "Youth Headed     3.500000\n",
       "Name: Interest, dtype: float64"
      ]
     },
     "execution_count": 136,
     "metadata": {},
     "output_type": "execute_result"
    }
   ],
   "source": [
    "peer_non_vsla[peer_non_vsla['Interest']!=0.].groupby('Household_Head_Gender')['Interest'].mean()"
   ]
  },
  {
   "cell_type": "code",
   "execution_count": null,
   "id": "ab62b3f9-aa80-4ae3-86d9-92613de84a38",
   "metadata": {},
   "outputs": [],
   "source": []
  },
  {
   "cell_type": "raw",
   "id": "ce58a462-1e85-4ea3-94ee-eb4e75efb80e",
   "metadata": {},
   "source": [
    "1\tSchool Fees\n",
    "2\tHome construction\n",
    "3\tBusiness\n",
    "4\tAgriculture inputs\n",
    "5\tMedicine and Sickness\n",
    "6\tLivestock\n",
    "7\tBuying land\n",
    "8\tHousehold items\n",
    "9\tTo repay other debts\n",
    "97\tOthers\tOthers"
   ]
  },
  {
   "cell_type": "code",
   "execution_count": 147,
   "id": "7054f444-5d25-4c3f-984c-39b8d001c272",
   "metadata": {},
   "outputs": [
    {
     "data": {
      "text/html": [
       "<div>\n",
       "<style scoped>\n",
       "    .dataframe tbody tr th:only-of-type {\n",
       "        vertical-align: middle;\n",
       "    }\n",
       "\n",
       "    .dataframe tbody tr th {\n",
       "        vertical-align: top;\n",
       "    }\n",
       "\n",
       "    .dataframe thead tr th {\n",
       "        text-align: left;\n",
       "    }\n",
       "\n",
       "    .dataframe thead tr:last-of-type th {\n",
       "        text-align: right;\n",
       "    }\n",
       "</style>\n",
       "<table border=\"1\" class=\"dataframe\">\n",
       "  <thead>\n",
       "    <tr>\n",
       "      <th>new_status</th>\n",
       "      <th colspan=\"3\" halign=\"left\">PEER</th>\n",
       "      <th colspan=\"3\" halign=\"left\">RTV_nonvsla</th>\n",
       "      <th colspan=\"3\" halign=\"left\">RTV_vsla</th>\n",
       "    </tr>\n",
       "    <tr>\n",
       "      <th>Household_Head_Gender</th>\n",
       "      <th>Female Headed</th>\n",
       "      <th>Male Headed</th>\n",
       "      <th>Youth Headed</th>\n",
       "      <th>Female Headed</th>\n",
       "      <th>Male Headed</th>\n",
       "      <th>Youth Headed</th>\n",
       "      <th>Female Headed</th>\n",
       "      <th>Male Headed</th>\n",
       "      <th>Youth Headed</th>\n",
       "    </tr>\n",
       "    <tr>\n",
       "      <th>purpose_for_borrow</th>\n",
       "      <th></th>\n",
       "      <th></th>\n",
       "      <th></th>\n",
       "      <th></th>\n",
       "      <th></th>\n",
       "      <th></th>\n",
       "      <th></th>\n",
       "      <th></th>\n",
       "      <th></th>\n",
       "    </tr>\n",
       "  </thead>\n",
       "  <tbody>\n",
       "    <tr>\n",
       "      <th>1.0</th>\n",
       "      <td>0.344828</td>\n",
       "      <td>0.374408</td>\n",
       "      <td>0.08</td>\n",
       "      <td>0.298851</td>\n",
       "      <td>0.361233</td>\n",
       "      <td>0.03125</td>\n",
       "      <td>0.225806</td>\n",
       "      <td>0.314516</td>\n",
       "      <td>0.190476</td>\n",
       "    </tr>\n",
       "    <tr>\n",
       "      <th>2.0</th>\n",
       "      <td>0.137931</td>\n",
       "      <td>0.080569</td>\n",
       "      <td>NaN</td>\n",
       "      <td>0.022989</td>\n",
       "      <td>0.066079</td>\n",
       "      <td>0.12500</td>\n",
       "      <td>0.032258</td>\n",
       "      <td>0.037634</td>\n",
       "      <td>0.047619</td>\n",
       "    </tr>\n",
       "    <tr>\n",
       "      <th>3.0</th>\n",
       "      <td>0.068966</td>\n",
       "      <td>0.123223</td>\n",
       "      <td>0.20</td>\n",
       "      <td>0.137931</td>\n",
       "      <td>0.154185</td>\n",
       "      <td>0.25000</td>\n",
       "      <td>0.056452</td>\n",
       "      <td>0.102151</td>\n",
       "      <td>0.190476</td>\n",
       "    </tr>\n",
       "    <tr>\n",
       "      <th>4.0</th>\n",
       "      <td>0.206897</td>\n",
       "      <td>0.151659</td>\n",
       "      <td>0.32</td>\n",
       "      <td>0.241379</td>\n",
       "      <td>0.123348</td>\n",
       "      <td>0.25000</td>\n",
       "      <td>0.266129</td>\n",
       "      <td>0.206989</td>\n",
       "      <td>0.095238</td>\n",
       "    </tr>\n",
       "    <tr>\n",
       "      <th>5.0</th>\n",
       "      <td>0.068966</td>\n",
       "      <td>0.075829</td>\n",
       "      <td>0.04</td>\n",
       "      <td>0.114943</td>\n",
       "      <td>0.061674</td>\n",
       "      <td>0.06250</td>\n",
       "      <td>0.040323</td>\n",
       "      <td>0.026882</td>\n",
       "      <td>NaN</td>\n",
       "    </tr>\n",
       "    <tr>\n",
       "      <th>6.0</th>\n",
       "      <td>0.017241</td>\n",
       "      <td>0.023697</td>\n",
       "      <td>NaN</td>\n",
       "      <td>0.057471</td>\n",
       "      <td>0.079295</td>\n",
       "      <td>0.06250</td>\n",
       "      <td>0.266129</td>\n",
       "      <td>0.204301</td>\n",
       "      <td>0.380952</td>\n",
       "    </tr>\n",
       "    <tr>\n",
       "      <th>7.0</th>\n",
       "      <td>NaN</td>\n",
       "      <td>0.071090</td>\n",
       "      <td>0.04</td>\n",
       "      <td>0.011494</td>\n",
       "      <td>0.061674</td>\n",
       "      <td>0.09375</td>\n",
       "      <td>0.016129</td>\n",
       "      <td>0.034946</td>\n",
       "      <td>0.047619</td>\n",
       "    </tr>\n",
       "    <tr>\n",
       "      <th>8.0</th>\n",
       "      <td>0.068966</td>\n",
       "      <td>0.061611</td>\n",
       "      <td>0.08</td>\n",
       "      <td>0.034483</td>\n",
       "      <td>0.048458</td>\n",
       "      <td>0.03125</td>\n",
       "      <td>0.072581</td>\n",
       "      <td>0.043011</td>\n",
       "      <td>NaN</td>\n",
       "    </tr>\n",
       "    <tr>\n",
       "      <th>9.0</th>\n",
       "      <td>NaN</td>\n",
       "      <td>0.018957</td>\n",
       "      <td>0.12</td>\n",
       "      <td>0.022989</td>\n",
       "      <td>0.026432</td>\n",
       "      <td>0.09375</td>\n",
       "      <td>0.016129</td>\n",
       "      <td>0.016129</td>\n",
       "      <td>0.047619</td>\n",
       "    </tr>\n",
       "    <tr>\n",
       "      <th>97.0</th>\n",
       "      <td>0.086207</td>\n",
       "      <td>0.018957</td>\n",
       "      <td>0.12</td>\n",
       "      <td>0.057471</td>\n",
       "      <td>0.017621</td>\n",
       "      <td>NaN</td>\n",
       "      <td>0.008065</td>\n",
       "      <td>0.013441</td>\n",
       "      <td>NaN</td>\n",
       "    </tr>\n",
       "  </tbody>\n",
       "</table>\n",
       "</div>"
      ],
      "text/plain": [
       "new_status                     PEER                            RTV_nonvsla  \\\n",
       "Household_Head_Gender Female Headed Male Headed Youth Headed Female Headed   \n",
       "purpose_for_borrow                                                           \n",
       "1.0                        0.344828    0.374408         0.08      0.298851   \n",
       "2.0                        0.137931    0.080569          NaN      0.022989   \n",
       "3.0                        0.068966    0.123223         0.20      0.137931   \n",
       "4.0                        0.206897    0.151659         0.32      0.241379   \n",
       "5.0                        0.068966    0.075829         0.04      0.114943   \n",
       "6.0                        0.017241    0.023697          NaN      0.057471   \n",
       "7.0                             NaN    0.071090         0.04      0.011494   \n",
       "8.0                        0.068966    0.061611         0.08      0.034483   \n",
       "9.0                             NaN    0.018957         0.12      0.022989   \n",
       "97.0                       0.086207    0.018957         0.12      0.057471   \n",
       "\n",
       "new_status                                          RTV_vsla              \\\n",
       "Household_Head_Gender Male Headed Youth Headed Female Headed Male Headed   \n",
       "purpose_for_borrow                                                         \n",
       "1.0                      0.361233      0.03125      0.225806    0.314516   \n",
       "2.0                      0.066079      0.12500      0.032258    0.037634   \n",
       "3.0                      0.154185      0.25000      0.056452    0.102151   \n",
       "4.0                      0.123348      0.25000      0.266129    0.206989   \n",
       "5.0                      0.061674      0.06250      0.040323    0.026882   \n",
       "6.0                      0.079295      0.06250      0.266129    0.204301   \n",
       "7.0                      0.061674      0.09375      0.016129    0.034946   \n",
       "8.0                      0.048458      0.03125      0.072581    0.043011   \n",
       "9.0                      0.026432      0.09375      0.016129    0.016129   \n",
       "97.0                     0.017621          NaN      0.008065    0.013441   \n",
       "\n",
       "new_status                          \n",
       "Household_Head_Gender Youth Headed  \n",
       "purpose_for_borrow                  \n",
       "1.0                       0.190476  \n",
       "2.0                       0.047619  \n",
       "3.0                       0.190476  \n",
       "4.0                       0.095238  \n",
       "5.0                            NaN  \n",
       "6.0                       0.380952  \n",
       "7.0                       0.047619  \n",
       "8.0                            NaN  \n",
       "9.0                       0.047619  \n",
       "97.0                           NaN  "
      ]
     },
     "execution_count": 147,
     "metadata": {},
     "output_type": "execute_result"
    }
   ],
   "source": [
    "((df.groupby(['new_status','Household_Head_Gender'])['purpose_for_borrow'].value_counts(normalize=True)).unstack()).transpose()"
   ]
  },
  {
   "cell_type": "code",
   "execution_count": 149,
   "id": "244c16e2-d03c-4775-85a0-10c941863836",
   "metadata": {},
   "outputs": [
    {
     "data": {
      "text/html": [
       "<div>\n",
       "<style scoped>\n",
       "    .dataframe tbody tr th:only-of-type {\n",
       "        vertical-align: middle;\n",
       "    }\n",
       "\n",
       "    .dataframe tbody tr th {\n",
       "        vertical-align: top;\n",
       "    }\n",
       "\n",
       "    .dataframe thead tr th {\n",
       "        text-align: left;\n",
       "    }\n",
       "</style>\n",
       "<table border=\"1\" class=\"dataframe\">\n",
       "  <thead>\n",
       "    <tr>\n",
       "      <th>new_status</th>\n",
       "      <th colspan=\"3\" halign=\"left\">PEER</th>\n",
       "      <th colspan=\"3\" halign=\"left\">RTV_nonvsla</th>\n",
       "      <th colspan=\"3\" halign=\"left\">RTV_vsla</th>\n",
       "    </tr>\n",
       "    <tr>\n",
       "      <th>Household_Head_Gender</th>\n",
       "      <th>Female Headed</th>\n",
       "      <th>Male Headed</th>\n",
       "      <th>Youth Headed</th>\n",
       "      <th>Female Headed</th>\n",
       "      <th>Male Headed</th>\n",
       "      <th>Youth Headed</th>\n",
       "      <th>Female Headed</th>\n",
       "      <th>Male Headed</th>\n",
       "      <th>Youth Headed</th>\n",
       "    </tr>\n",
       "  </thead>\n",
       "  <tbody>\n",
       "    <tr>\n",
       "      <th>Personal Business &amp; Self Employment (USD_Cons_rate)</th>\n",
       "      <td>17.404393</td>\n",
       "      <td>45.370879</td>\n",
       "      <td>45.664536</td>\n",
       "      <td>39.891817</td>\n",
       "      <td>75.451602</td>\n",
       "      <td>81.032215</td>\n",
       "      <td>71.028624</td>\n",
       "      <td>84.706458</td>\n",
       "      <td>119.117128</td>\n",
       "    </tr>\n",
       "    <tr>\n",
       "      <th>Seasonal Crops Income (USD_Cons_rate)</th>\n",
       "      <td>46.964523</td>\n",
       "      <td>47.457767</td>\n",
       "      <td>40.563622</td>\n",
       "      <td>113.477991</td>\n",
       "      <td>112.604005</td>\n",
       "      <td>94.961557</td>\n",
       "      <td>150.414783</td>\n",
       "      <td>130.447679</td>\n",
       "      <td>119.578019</td>\n",
       "    </tr>\n",
       "    <tr>\n",
       "      <th>Seasonal  Agriculture Value (USD_Cons_rate)</th>\n",
       "      <td>187.841848</td>\n",
       "      <td>185.874821</td>\n",
       "      <td>154.658567</td>\n",
       "      <td>301.889585</td>\n",
       "      <td>292.935465</td>\n",
       "      <td>262.478056</td>\n",
       "      <td>375.091274</td>\n",
       "      <td>335.295275</td>\n",
       "      <td>302.090802</td>\n",
       "    </tr>\n",
       "    <tr>\n",
       "      <th>Livestock Income (USD_Cons_rate)</th>\n",
       "      <td>6.809642</td>\n",
       "      <td>11.744326</td>\n",
       "      <td>7.243414</td>\n",
       "      <td>19.173463</td>\n",
       "      <td>21.285041</td>\n",
       "      <td>16.150167</td>\n",
       "      <td>26.984177</td>\n",
       "      <td>30.886714</td>\n",
       "      <td>17.688899</td>\n",
       "    </tr>\n",
       "    <tr>\n",
       "      <th>Assets (USD_Cons_rate)</th>\n",
       "      <td>76.448666</td>\n",
       "      <td>116.116326</td>\n",
       "      <td>77.413712</td>\n",
       "      <td>162.500180</td>\n",
       "      <td>200.375635</td>\n",
       "      <td>142.814816</td>\n",
       "      <td>228.411765</td>\n",
       "      <td>242.632915</td>\n",
       "      <td>195.086321</td>\n",
       "    </tr>\n",
       "    <tr>\n",
       "      <th>HH Income (USD_Cons_rate)</th>\n",
       "      <td>213.205789</td>\n",
       "      <td>305.221563</td>\n",
       "      <td>318.823120</td>\n",
       "      <td>408.974458</td>\n",
       "      <td>495.958084</td>\n",
       "      <td>429.114500</td>\n",
       "      <td>478.281698</td>\n",
       "      <td>527.301107</td>\n",
       "      <td>507.674129</td>\n",
       "    </tr>\n",
       "    <tr>\n",
       "      <th>HH Income + Consumption + Residues (USD_Cons_rate)</th>\n",
       "      <td>411.450849</td>\n",
       "      <td>519.694721</td>\n",
       "      <td>484.268264</td>\n",
       "      <td>731.332043</td>\n",
       "      <td>826.260819</td>\n",
       "      <td>720.251033</td>\n",
       "      <td>827.030278</td>\n",
       "      <td>876.647495</td>\n",
       "      <td>813.888990</td>\n",
       "    </tr>\n",
       "    <tr>\n",
       "      <th>HH Income/Day (USD_Cons_rate)</th>\n",
       "      <td>0.584125</td>\n",
       "      <td>0.836223</td>\n",
       "      <td>0.873488</td>\n",
       "      <td>1.120478</td>\n",
       "      <td>1.358789</td>\n",
       "      <td>1.175656</td>\n",
       "      <td>1.310361</td>\n",
       "      <td>1.444661</td>\n",
       "      <td>1.390888</td>\n",
       "    </tr>\n",
       "    <tr>\n",
       "      <th>HH Income + Consumption + Residues/Day (USD_Cons_rate)</th>\n",
       "      <td>1.127263</td>\n",
       "      <td>1.423821</td>\n",
       "      <td>1.326762</td>\n",
       "      <td>2.003649</td>\n",
       "      <td>2.263728</td>\n",
       "      <td>1.973291</td>\n",
       "      <td>2.265836</td>\n",
       "      <td>2.401774</td>\n",
       "      <td>2.229833</td>\n",
       "    </tr>\n",
       "  </tbody>\n",
       "</table>\n",
       "</div>"
      ],
      "text/plain": [
       "new_status                                                      PEER  \\\n",
       "Household_Head_Gender                                  Female Headed   \n",
       "Personal Business & Self Employment (USD_Cons_rate)        17.404393   \n",
       "Seasonal Crops Income (USD_Cons_rate)                      46.964523   \n",
       "Seasonal  Agriculture Value (USD_Cons_rate)               187.841848   \n",
       "Livestock Income (USD_Cons_rate)                            6.809642   \n",
       "Assets (USD_Cons_rate)                                     76.448666   \n",
       "HH Income (USD_Cons_rate)                                 213.205789   \n",
       "HH Income + Consumption + Residues (USD_Cons_rate)        411.450849   \n",
       "HH Income/Day (USD_Cons_rate)                               0.584125   \n",
       "HH Income + Consumption + Residues/Day (USD_Cons_rate)      1.127263   \n",
       "\n",
       "new_status                                                          \\\n",
       "Household_Head_Gender                                  Male Headed   \n",
       "Personal Business & Self Employment (USD_Cons_rate)      45.370879   \n",
       "Seasonal Crops Income (USD_Cons_rate)                    47.457767   \n",
       "Seasonal  Agriculture Value (USD_Cons_rate)             185.874821   \n",
       "Livestock Income (USD_Cons_rate)                         11.744326   \n",
       "Assets (USD_Cons_rate)                                  116.116326   \n",
       "HH Income (USD_Cons_rate)                               305.221563   \n",
       "HH Income + Consumption + Residues (USD_Cons_rate)      519.694721   \n",
       "HH Income/Day (USD_Cons_rate)                             0.836223   \n",
       "HH Income + Consumption + Residues/Day (USD_Cons_rate)    1.423821   \n",
       "\n",
       "new_status                                                           \\\n",
       "Household_Head_Gender                                  Youth Headed   \n",
       "Personal Business & Self Employment (USD_Cons_rate)       45.664536   \n",
       "Seasonal Crops Income (USD_Cons_rate)                     40.563622   \n",
       "Seasonal  Agriculture Value (USD_Cons_rate)              154.658567   \n",
       "Livestock Income (USD_Cons_rate)                           7.243414   \n",
       "Assets (USD_Cons_rate)                                    77.413712   \n",
       "HH Income (USD_Cons_rate)                                318.823120   \n",
       "HH Income + Consumption + Residues (USD_Cons_rate)       484.268264   \n",
       "HH Income/Day (USD_Cons_rate)                              0.873488   \n",
       "HH Income + Consumption + Residues/Day (USD_Cons_rate)     1.326762   \n",
       "\n",
       "new_status                                               RTV_nonvsla  \\\n",
       "Household_Head_Gender                                  Female Headed   \n",
       "Personal Business & Self Employment (USD_Cons_rate)        39.891817   \n",
       "Seasonal Crops Income (USD_Cons_rate)                     113.477991   \n",
       "Seasonal  Agriculture Value (USD_Cons_rate)               301.889585   \n",
       "Livestock Income (USD_Cons_rate)                           19.173463   \n",
       "Assets (USD_Cons_rate)                                    162.500180   \n",
       "HH Income (USD_Cons_rate)                                 408.974458   \n",
       "HH Income + Consumption + Residues (USD_Cons_rate)        731.332043   \n",
       "HH Income/Day (USD_Cons_rate)                               1.120478   \n",
       "HH Income + Consumption + Residues/Day (USD_Cons_rate)      2.003649   \n",
       "\n",
       "new_status                                                          \\\n",
       "Household_Head_Gender                                  Male Headed   \n",
       "Personal Business & Self Employment (USD_Cons_rate)      75.451602   \n",
       "Seasonal Crops Income (USD_Cons_rate)                   112.604005   \n",
       "Seasonal  Agriculture Value (USD_Cons_rate)             292.935465   \n",
       "Livestock Income (USD_Cons_rate)                         21.285041   \n",
       "Assets (USD_Cons_rate)                                  200.375635   \n",
       "HH Income (USD_Cons_rate)                               495.958084   \n",
       "HH Income + Consumption + Residues (USD_Cons_rate)      826.260819   \n",
       "HH Income/Day (USD_Cons_rate)                             1.358789   \n",
       "HH Income + Consumption + Residues/Day (USD_Cons_rate)    2.263728   \n",
       "\n",
       "new_status                                                           \\\n",
       "Household_Head_Gender                                  Youth Headed   \n",
       "Personal Business & Self Employment (USD_Cons_rate)       81.032215   \n",
       "Seasonal Crops Income (USD_Cons_rate)                     94.961557   \n",
       "Seasonal  Agriculture Value (USD_Cons_rate)              262.478056   \n",
       "Livestock Income (USD_Cons_rate)                          16.150167   \n",
       "Assets (USD_Cons_rate)                                   142.814816   \n",
       "HH Income (USD_Cons_rate)                                429.114500   \n",
       "HH Income + Consumption + Residues (USD_Cons_rate)       720.251033   \n",
       "HH Income/Day (USD_Cons_rate)                              1.175656   \n",
       "HH Income + Consumption + Residues/Day (USD_Cons_rate)     1.973291   \n",
       "\n",
       "new_status                                                  RTV_vsla  \\\n",
       "Household_Head_Gender                                  Female Headed   \n",
       "Personal Business & Self Employment (USD_Cons_rate)        71.028624   \n",
       "Seasonal Crops Income (USD_Cons_rate)                     150.414783   \n",
       "Seasonal  Agriculture Value (USD_Cons_rate)               375.091274   \n",
       "Livestock Income (USD_Cons_rate)                           26.984177   \n",
       "Assets (USD_Cons_rate)                                    228.411765   \n",
       "HH Income (USD_Cons_rate)                                 478.281698   \n",
       "HH Income + Consumption + Residues (USD_Cons_rate)        827.030278   \n",
       "HH Income/Day (USD_Cons_rate)                               1.310361   \n",
       "HH Income + Consumption + Residues/Day (USD_Cons_rate)      2.265836   \n",
       "\n",
       "new_status                                                          \\\n",
       "Household_Head_Gender                                  Male Headed   \n",
       "Personal Business & Self Employment (USD_Cons_rate)      84.706458   \n",
       "Seasonal Crops Income (USD_Cons_rate)                   130.447679   \n",
       "Seasonal  Agriculture Value (USD_Cons_rate)             335.295275   \n",
       "Livestock Income (USD_Cons_rate)                         30.886714   \n",
       "Assets (USD_Cons_rate)                                  242.632915   \n",
       "HH Income (USD_Cons_rate)                               527.301107   \n",
       "HH Income + Consumption + Residues (USD_Cons_rate)      876.647495   \n",
       "HH Income/Day (USD_Cons_rate)                             1.444661   \n",
       "HH Income + Consumption + Residues/Day (USD_Cons_rate)    2.401774   \n",
       "\n",
       "new_status                                                           \n",
       "Household_Head_Gender                                  Youth Headed  \n",
       "Personal Business & Self Employment (USD_Cons_rate)      119.117128  \n",
       "Seasonal Crops Income (USD_Cons_rate)                    119.578019  \n",
       "Seasonal  Agriculture Value (USD_Cons_rate)              302.090802  \n",
       "Livestock Income (USD_Cons_rate)                          17.688899  \n",
       "Assets (USD_Cons_rate)                                   195.086321  \n",
       "HH Income (USD_Cons_rate)                                507.674129  \n",
       "HH Income + Consumption + Residues (USD_Cons_rate)       813.888990  \n",
       "HH Income/Day (USD_Cons_rate)                              1.390888  \n",
       "HH Income + Consumption + Residues/Day (USD_Cons_rate)     2.229833  "
      ]
     },
     "execution_count": 149,
     "metadata": {},
     "output_type": "execute_result"
    }
   ],
   "source": [
    "df.groupby(['new_status', 'Household_Head_Gender'])[[\n",
    "    'Personal Business & Self Employment (USD_Cons_rate)',\n",
    "    'Seasonal Crops Income (USD_Cons_rate)',\n",
    "    'Seasonal  Agriculture Value (USD_Cons_rate)',\n",
    "    'Livestock Income (USD_Cons_rate)',\n",
    "    'Assets (USD_Cons_rate)',\n",
    "    'HH Income (USD_Cons_rate)',\n",
    "    'HH Income + Consumption + Residues (USD_Cons_rate)',\n",
    "    'HH Income/Day (USD_Cons_rate)',\n",
    "    'HH Income + Consumption + Residues/Day (USD_Cons_rate)'\n",
    "]].mean().transpose()"
   ]
  },
  {
   "cell_type": "code",
   "execution_count": null,
   "id": "18186365-5a3c-439f-aa73-55c93938a045",
   "metadata": {},
   "outputs": [],
   "source": []
  },
  {
   "cell_type": "code",
   "execution_count": null,
   "id": "341e4c21-b522-4a8f-ae63-b5c02bdf6253",
   "metadata": {},
   "outputs": [],
   "source": []
  },
  {
   "cell_type": "code",
   "execution_count": null,
   "id": "f37df363-9bab-44da-944b-84a62218af7f",
   "metadata": {},
   "outputs": [],
   "source": []
  },
  {
   "cell_type": "code",
   "execution_count": null,
   "id": "f9b425f2-96d1-435c-a920-6c4a6fbfdf25",
   "metadata": {},
   "outputs": [],
   "source": []
  },
  {
   "cell_type": "code",
   "execution_count": null,
   "id": "35dea6f1-7a1c-45a6-b57f-ee063f2f699d",
   "metadata": {},
   "outputs": [],
   "source": []
  },
  {
   "cell_type": "code",
   "execution_count": 29,
   "id": "ab8285fe-738a-47fa-90f3-87aa26cb7828",
   "metadata": {},
   "outputs": [
    {
     "name": "stderr",
     "output_type": "stream",
     "text": [
      "/var/folders/xd/0btgr76j2zxc4__ynw0yhwbm0000gn/T/ipykernel_9551/1926133408.py:1: SettingWithCopyWarning: \n",
      "A value is trying to be set on a copy of a slice from a DataFrame.\n",
      "Try using .loc[row_indexer,col_indexer] = value instead\n",
      "\n",
      "See the caveats in the documentation: https://pandas.pydata.org/pandas-docs/stable/user_guide/indexing.html#returning-a-view-versus-a-copy\n",
      "  rtv['vsla_participation'] = ((rtv['save_mode_7']==1) | (rtv['save_mode_8']==1)).astype(int)\n"
     ]
    }
   ],
   "source": [
    "rtv['vsla_participation'] = ((rtv['save_mode_7']==1) | (rtv['save_mode_8']==1)).astype(int)"
   ]
  },
  {
   "cell_type": "code",
   "execution_count": 13,
   "id": "6c91dde8-141f-4cda-a99d-62956c787699",
   "metadata": {},
   "outputs": [
    {
     "data": {
      "text/plain": [
       "Gender_details\n",
       "F    0.365899\n",
       "M    0.398293\n",
       "Name: vsla_participation, dtype: float64"
      ]
     },
     "execution_count": 13,
     "metadata": {},
     "output_type": "execute_result"
    }
   ],
   "source": [
    "rtv.groupby('Gender_details')['vsla_participation'].mean()"
   ]
  },
  {
   "cell_type": "code",
   "execution_count": null,
   "id": "a1f85ebf-bfa3-4831-bb13-92d42341ae07",
   "metadata": {},
   "outputs": [],
   "source": []
  }
 ],
 "metadata": {
  "kernelspec": {
   "display_name": "Python 3 (ipykernel)",
   "language": "python",
   "name": "python3"
  },
  "language_info": {
   "codemirror_mode": {
    "name": "ipython",
    "version": 3
   },
   "file_extension": ".py",
   "mimetype": "text/x-python",
   "name": "python",
   "nbconvert_exporter": "python",
   "pygments_lexer": "ipython3",
   "version": "3.10.12"
  }
 },
 "nbformat": 4,
 "nbformat_minor": 5
}
