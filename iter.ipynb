{
 "cells": [
  {
   "cell_type": "code",
   "execution_count": null,
   "id": "212be6e2-acf3-4835-b144-5468914a49fb",
   "metadata": {},
   "outputs": [],
   "source": [
    "from fastai.imports import *"
   ]
  },
  {
   "cell_type": "code",
   "execution_count": null,
   "id": "dbabaa4b-26e1-4c58-aad1-188318d14b50",
   "metadata": {},
   "outputs": [],
   "source": [
    "from scipy.stats import f_oneway\n",
    "import pingouin as pg"
   ]
  },
  {
   "cell_type": "code",
   "execution_count": null,
   "id": "8e9b3263-3810-4d4e-83c1-a13800fb1c3e",
   "metadata": {},
   "outputs": [],
   "source": [
    "df = pd.read_excel('All2021Cohorts_merged_outlier managed_copy_2.xlsx', sheet_name='MergedRTV_Control2021',header=5)"
   ]
  },
  {
   "cell_type": "code",
   "execution_count": null,
   "id": "eb1b1a7b-e304-4a04-ac9c-7c69c47e8edb",
   "metadata": {},
   "outputs": [],
   "source": [
    "vsf_data =  pd.read_excel('vsf_safe.xlsx', sheet_name='vsf')"
   ]
  },
  {
   "cell_type": "code",
   "execution_count": null,
   "id": "27d36774-7655-49ab-964e-714ca2c72519",
   "metadata": {},
   "outputs": [],
   "source": [
    "vsf_data['hhid_2']"
   ]
  },
  {
   "cell_type": "code",
   "execution_count": null,
   "id": "e8aa4561-bd34-4e41-b791-084e1252c634",
   "metadata": {},
   "outputs": [],
   "source": [
    "peer = df[df['Status']=='PEER']\n",
    "rtv = df[df['Status']=='RTV']"
   ]
  },
  {
   "cell_type": "code",
   "execution_count": null,
   "id": "4b9c9360-dd42-45bd-909f-2b184039b0ab",
   "metadata": {},
   "outputs": [],
   "source": [
    "rtv['save_mode_7'].value_counts()"
   ]
  },
  {
   "cell_type": "code",
   "execution_count": null,
   "id": "5fa3706f-7c68-4c46-b211-18af997ec74b",
   "metadata": {},
   "outputs": [],
   "source": [
    "df['Status'].value_counts()"
   ]
  },
  {
   "cell_type": "code",
   "execution_count": null,
   "id": "2ab044ff-daf0-4658-80d5-e47c4b643eb7",
   "metadata": {},
   "outputs": [],
   "source": [
    "df['new_status'] = np.where(df['Status'] == 'PEER', 'PEER', \n",
    "                            np.where(df['Status'] == 'RTV', \n",
    "                                    np.where(df['save_mode_7'] == 1, \n",
    "                                    'RTV_vsla', 'RTV_nonvsla'), \n",
    "                                    df['Status']))"
   ]
  },
  {
   "cell_type": "code",
   "execution_count": null,
   "id": "a517cd18-d356-405f-b427-18f29cbdd9cf",
   "metadata": {},
   "outputs": [],
   "source": [
    "df['new_status'].value_counts()"
   ]
  },
  {
   "cell_type": "code",
   "execution_count": null,
   "id": "7d6a0b4a-4c21-4339-9325-0462ec30f751",
   "metadata": {},
   "outputs": [],
   "source": [
    "rtv_vsf = rtv[rtv[\"save_mode_7\"] == 1]\n",
    "rtv_nvsf =  rtv[rtv[\"save_mode_7\"]==0]"
   ]
  },
  {
   "cell_type": "code",
   "execution_count": null,
   "id": "0adbe221-46fa-4f2b-af6d-0041dd1d6b98",
   "metadata": {},
   "outputs": [],
   "source": [
    "rtv_vsf.shape, rtv_nvsf.shape"
   ]
  },
  {
   "cell_type": "code",
   "execution_count": null,
   "id": "a85b2a1d-5e49-4e5c-bc8d-8e04606cda00",
   "metadata": {},
   "outputs": [],
   "source": [
    "vsf_1 = rtv_vsf[rtv_vsf['hhid_2'].isin(vsf_data['hhid_2'])]"
   ]
  },
  {
   "cell_type": "code",
   "execution_count": null,
   "id": "7e7b3655-57bc-4216-b19c-fc6241b6f1b8",
   "metadata": {},
   "outputs": [],
   "source": [
    "vsf_1['Status'].value_counts()"
   ]
  },
  {
   "cell_type": "code",
   "execution_count": null,
   "id": "cf4e70b3-de7c-47a2-9823-6b9e00823bd3",
   "metadata": {
    "scrolled": true
   },
   "outputs": [],
   "source": [
    "rtv_vsf.loc[:, 'state'] = np.where(rtv_vsf['hhid_2'].isin(vsf_data['hhid_2']), 'vsf', 'non vsf')"
   ]
  },
  {
   "cell_type": "code",
   "execution_count": null,
   "id": "ec2244df-7b46-45fc-b137-ddc140ad2b1b",
   "metadata": {},
   "outputs": [],
   "source": [
    "rtv_vsf['state'].value_counts()"
   ]
  },
  {
   "cell_type": "code",
   "execution_count": null,
   "id": "6e1cb3fe-8873-43dc-b8d0-975a203a8f26",
   "metadata": {},
   "outputs": [],
   "source": [
    "adjusted_cpi = 80.66"
   ]
  },
  {
   "cell_type": "code",
   "execution_count": null,
   "id": "afdbde8e-960c-482a-854e-213b6b49b337",
   "metadata": {},
   "outputs": [],
   "source": [
    "peer.shape, rtv_vsf.shape, rtv_nvsf.shape"
   ]
  },
  {
   "cell_type": "code",
   "execution_count": null,
   "id": "867cb043-9542-46d9-b93c-4e16953e728e",
   "metadata": {},
   "outputs": [],
   "source": [
    "rtv_vsf_new = rtv_vsf[rtv_vsf['hhid_2'] != 'MIT-KAI-IDD-M7572']"
   ]
  },
  {
   "cell_type": "markdown",
   "id": "a3321c36-1010-4cce-8402-9f5742a03b61",
   "metadata": {},
   "source": [
    "## Savings / Loans"
   ]
  },
  {
   "cell_type": "code",
   "execution_count": null,
   "id": "74574c5c-d5b2-4b4f-b650-c5501306da01",
   "metadata": {},
   "outputs": [],
   "source": []
  },
  {
   "cell_type": "code",
   "execution_count": null,
   "id": "af13c672-a02f-4af1-a695-ba773960ebf9",
   "metadata": {},
   "outputs": [],
   "source": [
    "# rtv_vsf.loc[rtv_vsf['state'] == 'non vsf', 'Total Savings (Ugx)'] = rtv_vsf.loc[rtv_vsf['state'] == 'non vsf', 'saving_amount_rtv_vsla_cashround'].apply(lambda x: x * 0.7 if x > 250000 else x)"
   ]
  },
  {
   "cell_type": "code",
   "execution_count": null,
   "id": "a2e35c75-b9cb-4bf5-8e39-77d054161215",
   "metadata": {},
   "outputs": [],
   "source": [
    "rtv_vsf_new.groupby('state')['Total Savings (Ugx)'].mean()"
   ]
  },
  {
   "cell_type": "code",
   "execution_count": null,
   "id": "4280c44f-189e-4341-8094-ca22e092cbbd",
   "metadata": {},
   "outputs": [],
   "source": []
  },
  {
   "cell_type": "code",
   "execution_count": null,
   "id": "e6826146-1aec-414a-b3ac-09c3a1c9ba26",
   "metadata": {},
   "outputs": [],
   "source": [
    "## Loan Amount\n",
    "(rtv_vsf.groupby('state')['Loan Amount (Ugx)'].mean() * (adjusted_cpi/100))"
   ]
  },
  {
   "cell_type": "code",
   "execution_count": null,
   "id": "982fe044-ea34-4ff0-ad9b-765f3cb670fa",
   "metadata": {},
   "outputs": [],
   "source": [
    "subset = rtv_vsf[rtv_vsf['borrowed_past_12_months'] == 1]"
   ]
  },
  {
   "cell_type": "code",
   "execution_count": null,
   "id": "1521b6da-782f-4f3a-b115-e49f397e0d73",
   "metadata": {},
   "outputs": [],
   "source": [
    "(subset.groupby('state')['Loan Amount (Ugx)'].mean() * (adjusted_cpi/100))"
   ]
  },
  {
   "cell_type": "code",
   "execution_count": null,
   "id": "935f6329-2a32-4aab-a23a-a5a176c5e3e6",
   "metadata": {},
   "outputs": [],
   "source": []
  },
  {
   "cell_type": "code",
   "execution_count": null,
   "id": "77b4907b-07bf-4ccc-8ba4-5a014e181612",
   "metadata": {},
   "outputs": [],
   "source": []
  },
  {
   "cell_type": "markdown",
   "id": "c10e3a22-be19-4dad-811d-ed1f42e874cd",
   "metadata": {},
   "source": [
    "### Percentage of household active"
   ]
  },
  {
   "cell_type": "code",
   "execution_count": null,
   "id": "e61e93a6-a6a3-4d3a-b5a3-120e4f5de895",
   "metadata": {},
   "outputs": [],
   "source": [
    "non_vsf = rtv_vsf[rtv_vsf[\"state\"] == 'non vsf']\n",
    "vsf = rtv_vsf[rtv_vsf[\"state\"] == 'vsf']"
   ]
  },
  {
   "cell_type": "code",
   "execution_count": null,
   "id": "ff7cfa9c-f4f6-43ae-a141-b5ec7e639e48",
   "metadata": {},
   "outputs": [],
   "source": [
    "non_vsf.shape, vsf.shape"
   ]
  },
  {
   "cell_type": "code",
   "execution_count": null,
   "id": "a500723d-4b0d-40da-8862-b1dab26ada61",
   "metadata": {},
   "outputs": [],
   "source": [
    "# helper function\n",
    "def get_df_name(df):\n",
    "    name = [x for x in globals() if globals()[x] is df][0]\n",
    "    return name"
   ]
  },
  {
   "cell_type": "code",
   "execution_count": null,
   "id": "eeb8ea35-8b94-432e-b2be-92df433d0159",
   "metadata": {},
   "outputs": [],
   "source": [
    "for frame in [vsf, non_vsf]:\n",
    "    percent = (len(frame[frame['Total Savings (Ugx)'] != 0]) / len(frame)) * 100\n",
    "    print(f\"{get_df_name(frame)}:{percent}\")"
   ]
  },
  {
   "cell_type": "code",
   "execution_count": null,
   "id": "6b536475-3de5-4890-a2de-24312516ba54",
   "metadata": {},
   "outputs": [],
   "source": [
    "for frame in [vsf, non_vsf]:\n",
    "    save = frame.loc[frame['Total Savings (Ugx)'] != 0]['Total Savings (Ugx)'].mean() * (adjusted_cpi/100)\n",
    "    print(f\"{get_df_name(frame)}:{save}\")"
   ]
  },
  {
   "cell_type": "code",
   "execution_count": null,
   "id": "5e9e053e-db26-48ea-86af-81ae36bb6fc1",
   "metadata": {},
   "outputs": [],
   "source": []
  },
  {
   "cell_type": "markdown",
   "id": "4a7e2bdf-f13d-4cd7-97fe-dae13b745579",
   "metadata": {},
   "source": [
    "### Total Outstanding debt"
   ]
  },
  {
   "cell_type": "code",
   "execution_count": null,
   "id": "72d9e229-a04d-4b81-84a4-802bd128a070",
   "metadata": {},
   "outputs": [],
   "source": [
    "columns = ['bank_loan_remaining',\n",
    "            'sacco_loan_remaining',\n",
    "            'shop_keeper_loan_remaining',\n",
    "            'family_friend_loan_remaining',\n",
    "            'rtv_vsla_loan_remaining',\n",
    "            'other_village_VSLA_loan_remaining',\n",
    "            'money_lender_loan_remaining',\n",
    "            'other_loan_source_loan_remaining']"
   ]
  },
  {
   "cell_type": "code",
   "execution_count": null,
   "id": "f08bf714-911b-48d9-b4b7-cdbeb8998d69",
   "metadata": {},
   "outputs": [],
   "source": [
    "for frame in [vsf, non_vsf]:\n",
    "    debt = frame[columns].fillna(0).sum(axis=1).mean() * (adjusted_cpi/100)\n",
    "    print(f\"{get_df_name(frame)}:\\t{debt}\")"
   ]
  },
  {
   "cell_type": "code",
   "execution_count": null,
   "id": "ffeb53fb-9450-4f92-b6c3-b9b3451fd17c",
   "metadata": {},
   "outputs": [],
   "source": [
    "# peer_debt = peer[columns].sum(axis=1)\n",
    "# rtv_vsf_debt = rtv_vsf[columns].sum(axis=1)\n",
    "# rtv_nvsf_debt = rtv_nvsf[columns].sum(axis=1)"
   ]
  },
  {
   "cell_type": "code",
   "execution_count": null,
   "id": "de6bb9ee-05c9-437c-a1fc-e921e2ec0205",
   "metadata": {},
   "outputs": [],
   "source": [
    "# f_oneway(peer_debt, rtv_vsf_debt, rtv_nvsf_debt)"
   ]
  },
  {
   "cell_type": "markdown",
   "id": "e54beb3d-2ba3-40d2-b058-d6f8ae8c2a5b",
   "metadata": {},
   "source": [
    "### Loan in the first 12 months"
   ]
  },
  {
   "cell_type": "code",
   "execution_count": null,
   "id": "082160a0-ccf9-4d07-84d1-fca2b53ae5f7",
   "metadata": {},
   "outputs": [],
   "source": [
    "loan = (rtv_vsf.groupby('state')['borrowed_past_12_months'].value_counts(normalize=True)*100).unstack().transpose()\n",
    "loan"
   ]
  },
  {
   "cell_type": "code",
   "execution_count": null,
   "id": "be88636f-19f1-4522-8151-2bc431019912",
   "metadata": {},
   "outputs": [],
   "source": []
  },
  {
   "cell_type": "code",
   "execution_count": null,
   "id": "5afe238b-0b3d-46cf-acda-3b6e4a5638f1",
   "metadata": {},
   "outputs": [],
   "source": []
  },
  {
   "cell_type": "code",
   "execution_count": null,
   "id": "9756dfe0-2509-4668-898a-f850470e9d6e",
   "metadata": {},
   "outputs": [],
   "source": []
  },
  {
   "cell_type": "markdown",
   "id": "ed1e4bac-15d1-451a-be30-06940d434bc7",
   "metadata": {},
   "source": [
    "### Interest Rate"
   ]
  },
  {
   "cell_type": "code",
   "execution_count": null,
   "id": "5acabd1e-1634-4f93-9f79-f5cd97446fe4",
   "metadata": {},
   "outputs": [],
   "source": [
    "for frame in [vsf, non_vsf]:\n",
    "    interest = frame[frame['Interest'] != 0.]['Interest'].mean()\n",
    "    print(f\"{get_df_name(frame)}:\\t{interest}\")"
   ]
  },
  {
   "cell_type": "code",
   "execution_count": null,
   "id": "4fe68099-4049-4109-8290-82ea1470af8c",
   "metadata": {},
   "outputs": [],
   "source": []
  },
  {
   "cell_type": "markdown",
   "id": "0bea28a3-daaa-4675-8d36-ec319b1efc0e",
   "metadata": {},
   "source": [
    "# Income Earnings and Asssets"
   ]
  },
  {
   "cell_type": "code",
   "execution_count": null,
   "id": "6af64e7e-58e0-4562-aca9-85d81f4f5aab",
   "metadata": {},
   "outputs": [],
   "source": [
    "rtv_vsf.groupby('state')[[\n",
    "    'Personal Business & Self Employment (USD_Cons_rate)',\n",
    "    'Seasonal Crops Income (USD_Cons_rate)',\n",
    "    'Seasonal  Agriculture Value (USD_Cons_rate)',\n",
    "    'Livestock Income (USD_Cons_rate)',\n",
    "    'Assets (USD_Cons_rate)',\n",
    "    'HH Income (USD_Cons_rate)',\n",
    "    'HH Income + Consumption + Residues (USD_Cons_rate)',\n",
    "    'HH Income/Day (USD_Cons_rate)',\n",
    "    'HH Income + Consumption + Residues/Day (USD_Cons_rate)'\n",
    "]].mean().transpose()"
   ]
  },
  {
   "cell_type": "markdown",
   "id": "acbab0b8-6a13-4ad9-8063-e8d14bf1f44d",
   "metadata": {},
   "source": [
    "## Purpose of the Loan"
   ]
  },
  {
   "cell_type": "raw",
   "id": "2e719365-bec5-44f0-84cd-9b2a4cc87f40",
   "metadata": {},
   "source": [
    "1\tSchool Fees\n",
    "2\tHome construction\n",
    "3\tBusiness\n",
    "4\tAgriculture inputs\n",
    "5\tMedicine and Sickness\n",
    "6\tLivestock\n",
    "7\tBuying land\n",
    "8\tHousehold items\n",
    "9\tTo repay other debts\n",
    "97\tOthers\tOthers"
   ]
  },
  {
   "cell_type": "code",
   "execution_count": null,
   "id": "6af4981f-a6c4-401f-a3f6-e375cbda23d9",
   "metadata": {},
   "outputs": [],
   "source": [
    "((rtv_vsf.groupby('state')['purpose_for_borrow'].value_counts(normalize=True)*100).unstack()).transpose()"
   ]
  },
  {
   "cell_type": "markdown",
   "id": "181e64a7-e4f7-4678-b72a-beaa62fee3cf",
   "metadata": {},
   "source": [
    "## Loan Sources"
   ]
  },
  {
   "cell_type": "raw",
   "id": "e0e2c73a-c15f-46f8-83fc-b768e71cb006",
   "metadata": {},
   "source": [
    "1\tBank Account\r\n",
    "2\tSaving and Credit cooperatives (SACCO)\r\n",
    "3\tA mobile Money accounts\r\n",
    "4\tWith a shopkeeper\r\n",
    "5\tWith family and friends\r\n",
    "6\tAt a safe place at home\r\n",
    "7\tRTV VSLA (Cash round)\r\n",
    "8\tOther VSLA\r\n",
    "97\tOther\r\n",
    "99\tNo savings"
   ]
  },
  {
   "cell_type": "code",
   "execution_count": null,
   "id": "f8dd17e6-c4b3-4416-b058-cebb7ca18b28",
   "metadata": {},
   "outputs": [],
   "source": [
    "#Bank Account\n",
    "(rtv_vsf.groupby('state')['Loan_from_1'].value_counts(normalize=True)*100).unstack().transpose()"
   ]
  },
  {
   "cell_type": "code",
   "execution_count": null,
   "id": "72d213a8-e865-40de-a89a-4a67871e1bc8",
   "metadata": {},
   "outputs": [],
   "source": [
    "#saving and Credit accounts\n",
    "(rtv_vsf.groupby('state')['Loan_from_2'].value_counts(normalize=True)*100).unstack().transpose()"
   ]
  },
  {
   "cell_type": "code",
   "execution_count": null,
   "id": "d0b50a9f-ba96-48d1-9fed-9fde5739231a",
   "metadata": {},
   "outputs": [],
   "source": [
    "# RTV VSLA\n",
    "(rtv_vsf.groupby('state')['Loan_from_7'].value_counts(normalize=True)*100).unstack().transpose()"
   ]
  },
  {
   "cell_type": "code",
   "execution_count": null,
   "id": "cf95abf2-48b2-42ee-9a07-bd8f32c1f18c",
   "metadata": {},
   "outputs": [],
   "source": [
    "# Other VSLA\n",
    "(rtv_vsf.groupby('state')['Loan_from_8'].value_counts(normalize=True)*100).unstack().transpose()"
   ]
  },
  {
   "cell_type": "code",
   "execution_count": null,
   "id": "ac214b2e-70bf-4205-b6cb-d9c90e10c176",
   "metadata": {},
   "outputs": [],
   "source": []
  },
  {
   "cell_type": "markdown",
   "id": "5e3ec5fb-4a2e-464b-9185-0765e5cd6829",
   "metadata": {},
   "source": [
    "## Interests Rates"
   ]
  },
  {
   "cell_type": "code",
   "execution_count": null,
   "id": "28281cdd-e729-4821-92ad-1944094e613b",
   "metadata": {},
   "outputs": [],
   "source": [
    "(rtv_vsf.groupby('state')[[\n",
    "        'bank_loan_interest',\n",
    "        'sacco_loan_interest',\n",
    "        'rtv_vsla_loan_interest',\n",
    "        'other_village_VSLA_loan_interest'\n",
    "        ]].mean()).transpose()"
   ]
  },
  {
   "cell_type": "code",
   "execution_count": null,
   "id": "b78f7902-a3b1-48b5-9d5f-a589a9b7f2fd",
   "metadata": {},
   "outputs": [],
   "source": []
  },
  {
   "cell_type": "markdown",
   "id": "66d726c0-47d0-45a3-bfb7-afd9000f0846",
   "metadata": {},
   "source": [
    "## Loan Types"
   ]
  },
  {
   "cell_type": "raw",
   "id": "32217f0a-3d0c-4716-af46-2e3c0bdc3197",
   "metadata": {},
   "source": [
    "1\tReducing Balance\n",
    "2\tFixed interest\n",
    "97\tAny other"
   ]
  },
  {
   "cell_type": "code",
   "execution_count": null,
   "id": "27f471c3-c029-41b8-86ee-c85a5ba98c4f",
   "metadata": {},
   "outputs": [],
   "source": [
    "(rtv_vsf.groupby('state')['bank_loan_type'].value_counts(normalize=True) * 100).unstack().transpose()"
   ]
  },
  {
   "cell_type": "code",
   "execution_count": null,
   "id": "5c0cd579-cc3c-4551-8dc1-3837932e923c",
   "metadata": {},
   "outputs": [],
   "source": []
  }
 ],
 "metadata": {
  "kernelspec": {
   "display_name": "Python 3 (ipykernel)",
   "language": "python",
   "name": "python3"
  },
  "language_info": {
   "codemirror_mode": {
    "name": "ipython",
    "version": 3
   },
   "file_extension": ".py",
   "mimetype": "text/x-python",
   "name": "python",
   "nbconvert_exporter": "python",
   "pygments_lexer": "ipython3",
   "version": "3.10.12"
  }
 },
 "nbformat": 4,
 "nbformat_minor": 5
}
