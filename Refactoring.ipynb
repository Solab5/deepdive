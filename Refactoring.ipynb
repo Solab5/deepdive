{
 "cells": [
  {
   "cell_type": "code",
   "execution_count": 1,
   "id": "5455161c-53ce-49eb-95ad-4a494e7abb94",
   "metadata": {},
   "outputs": [],
   "source": [
    "import pandas as pd\n",
    "import numpy as np\n",
    "\n",
    "# Function to load data\n",
    "def load_data(file, sheet_name, header=None):\n",
    "    return pd.read_excel(file, sheet_name=sheet_name, header=header)\n",
    "\n",
    "# Function to filter data by status\n",
    "def filter_by_status(df, status):\n",
    "    return df[df['Status'] == status]\n",
    "\n",
    "# Function to replace gender and calculate age-based household head gender\n",
    "def gender_age_processing(df):\n",
    "    sex_mapping = {1: 'Male', 2: 'Female'}\n",
    "    df['Gender'] = df['hhh_sex'].replace(sex_mapping)\n",
    "    df['Household_Head_Gender'] = df['Gender']\n",
    "    df['Household_Head_Gender'] = df.apply(\n",
    "        lambda row: 'Youth Headed' if row['hhh_age'] <= 30 else str(row['Household_Head_Gender']) + ' Headed', axis=1\n",
    "    )\n",
    "    return df\n",
    "\n",
    "# Function to create income group categories\n",
    "def create_income_groups(df, income_column, boundaries, labels, group_col_name):\n",
    "    df[group_col_name] = pd.cut(df[income_column], bins=boundaries, labels=labels, right=False)\n",
    "    return df"
   ]
  },
  {
   "cell_type": "code",
   "execution_count": null,
   "id": "16a7f8be-2b4e-4f6a-a737-52e9d2b0ebca",
   "metadata": {},
   "outputs": [],
   "source": [
    "# Loading data\n",
    "df1 = load_data('All2021Cohorts_merged_outlier managed.xlsx', 'MergedRTV_Control2021', 5)\n",
    "# Additional data loading here..."
   ]
  },
  {
   "cell_type": "code",
   "execution_count": null,
   "id": "c6e9f0fa-e886-4996-9ca2-01b2c0e9a5a6",
   "metadata": {},
   "outputs": [],
   "source": [
    "# Processing datasets\n",
    "df = filter_by_status(df1, \"RTV\")\n",
    "df = gender_age_processing(df)"
   ]
  },
  {
   "cell_type": "code",
   "execution_count": null,
   "id": "0c45ebd7-17dc-4e49-a15c-e04170a43ce8",
   "metadata": {},
   "outputs": [],
   "source": [
    "# Additional data processing here...\n",
    "\n",
    "# Define income group boundaries and labels for different groupings\n",
    "boundaries1 = [0, 0.75, 1.25, 2, 3, float('inf')]\n",
    "labels1 = [\"0-<0.75/Day\", \"0.75-<1.25/Day\", \"1.25-<2/Day\", \"2-<3/Day\", \"3+/Day\"]\n",
    "\n",
    "boundaries2 = [0, 2.15, float('inf')]\n",
    "labels2 = [\"0-<2.15/Day\", \"2.15+/Day\"]\n",
    "\n",
    "boundaries3 = [0, 0.75, 1.25, 2.15, 3, float('inf')]\n",
    "labels3 = [\"0-<0.75/Day\", \"0.75-<1.25/Day\", \"1.25-<2.15/Day\", \"2.15-<3/Day\", \"3+/Day\"]\n",
    "\n",
    "# Apply income groupings to each dataset with different groupings\n",
    "income_col = 'HH Income + Consumption + Residues/Day (USD_adult_equiv_adj)'\n",
    "df = create_income_groups(df, income_col, boundaries1, labels1, 'income_group_1')\n",
    "df = create_income_groups(df, income_col, boundaries2, labels2, 'income_group_2')\n",
    "df = create_income_groups(df, income_col, boundaries3, labels3, 'income_group_3')\n",
    "# Repeat for other datasets with appropriate boundaries and labels\n",
    "\n",
    "# Save datasets if needed\n",
    "# df.to_excel(\"df.xlsx\")\n",
    "# Additional saving here..."
   ]
  }
 ],
 "metadata": {
  "kernelspec": {
   "display_name": "Python 3 (ipykernel)",
   "language": "python",
   "name": "python3"
  },
  "language_info": {
   "codemirror_mode": {
    "name": "ipython",
    "version": 3
   },
   "file_extension": ".py",
   "mimetype": "text/x-python",
   "name": "python",
   "nbconvert_exporter": "python",
   "pygments_lexer": "ipython3",
   "version": "3.10.12"
  }
 },
 "nbformat": 4,
 "nbformat_minor": 5
}
