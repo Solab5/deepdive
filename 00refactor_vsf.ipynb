{
 "cells": [
  {
   "cell_type": "code",
   "execution_count": 1,
   "id": "212be6e2-acf3-4835-b144-5468914a49fb",
   "metadata": {},
   "outputs": [],
   "source": [
    "from fastai.imports import *"
   ]
  },
  {
   "cell_type": "code",
   "execution_count": 2,
   "id": "dbabaa4b-26e1-4c58-aad1-188318d14b50",
   "metadata": {},
   "outputs": [],
   "source": [
    "import pingouin as pg\n",
    "from scipy.stats import f_oneway, ttest_ind"
   ]
  },
  {
   "cell_type": "code",
   "execution_count": 204,
   "id": "8e9b3263-3810-4d4e-83c1-a13800fb1c3e",
   "metadata": {},
   "outputs": [],
   "source": [
    "df = pd.read_excel('All2021Cohorts_merged_outlier managed_copy_2.xlsx', sheet_name='MergedRTV_Control2021',header=5)"
   ]
  },
  {
   "cell_type": "code",
   "execution_count": 205,
   "id": "2ff4b9ba-83be-4bb2-922d-563711c624b3",
   "metadata": {},
   "outputs": [
    {
     "data": {
      "text/plain": [
       "hhh_sex\n",
       "1    4137\n",
       "2    1659\n",
       "Name: count, dtype: int64"
      ]
     },
     "execution_count": 205,
     "metadata": {},
     "output_type": "execute_result"
    }
   ],
   "source": [
    "df['hhh_sex'].value_counts()"
   ]
  },
  {
   "cell_type": "code",
   "execution_count": 206,
   "id": "ae3d5bb4-87fc-452a-8b0f-46d522d9ef65",
   "metadata": {},
   "outputs": [],
   "source": [
    "sex_mapping = {1: 'Male', 2: 'Female'}"
   ]
  },
  {
   "cell_type": "code",
   "execution_count": 207,
   "id": "b41f2d96-ea8c-42e2-b202-88a13c7e1688",
   "metadata": {},
   "outputs": [
    {
     "data": {
      "text/plain": [
       "Gender\n",
       "Male      4137\n",
       "Female    1659\n",
       "Name: count, dtype: int64"
      ]
     },
     "execution_count": 207,
     "metadata": {},
     "output_type": "execute_result"
    }
   ],
   "source": [
    "df['Gender'] = df['hhh_sex'].replace(sex_mapping)\n",
    "df['Gender'].value_counts()"
   ]
  },
  {
   "cell_type": "code",
   "execution_count": 208,
   "id": "39d44b27-947d-4672-9fc7-26b1736c27a2",
   "metadata": {},
   "outputs": [],
   "source": [
    "df['Household_Head_Gender'] = df['Gender']"
   ]
  },
  {
   "cell_type": "code",
   "execution_count": 209,
   "id": "a4a23306-33ce-453c-ade1-dc22a5f2f8cd",
   "metadata": {},
   "outputs": [],
   "source": [
    "df['Household_Head_Gender'] = df.apply(lambda row: 'Youth Headed' if row['hhh_age'] < 30 else str(row['Household_Head_Gender']) + ' Headed', axis=1)"
   ]
  },
  {
   "cell_type": "code",
   "execution_count": 210,
   "id": "e223ba52-640b-4715-8d05-c53fcbdd8471",
   "metadata": {},
   "outputs": [
    {
     "data": {
      "text/plain": [
       "Household_Head_Gender\n",
       "Male Headed      3715\n",
       "Female Headed    1603\n",
       "Youth Headed      478\n",
       "Name: count, dtype: int64"
      ]
     },
     "execution_count": 210,
     "metadata": {},
     "output_type": "execute_result"
    }
   ],
   "source": [
    "df['Household_Head_Gender'].value_counts()"
   ]
  },
  {
   "cell_type": "code",
   "execution_count": 211,
   "id": "e8aa4561-bd34-4e41-b791-084e1252c634",
   "metadata": {},
   "outputs": [],
   "source": [
    "peer = df[df['Status']=='PEER']\n",
    "rtv = df[df['Status']=='RTV']"
   ]
  },
  {
   "cell_type": "code",
   "execution_count": 212,
   "id": "4b9c9360-dd42-45bd-909f-2b184039b0ab",
   "metadata": {},
   "outputs": [
    {
     "data": {
      "text/plain": [
       "save_mode_7\n",
       "0    2316\n",
       "1    1581\n",
       "Name: count, dtype: int64"
      ]
     },
     "execution_count": 212,
     "metadata": {},
     "output_type": "execute_result"
    }
   ],
   "source": [
    "rtv['save_mode_7'].value_counts()"
   ]
  },
  {
   "cell_type": "code",
   "execution_count": 213,
   "id": "5fa3706f-7c68-4c46-b211-18af997ec74b",
   "metadata": {},
   "outputs": [
    {
     "data": {
      "text/plain": [
       "Status\n",
       "RTV     3897\n",
       "PEER    1899\n",
       "Name: count, dtype: int64"
      ]
     },
     "execution_count": 213,
     "metadata": {},
     "output_type": "execute_result"
    }
   ],
   "source": [
    "df['Status'].value_counts()"
   ]
  },
  {
   "cell_type": "code",
   "execution_count": 214,
   "id": "2ab044ff-daf0-4658-80d5-e47c4b643eb7",
   "metadata": {},
   "outputs": [],
   "source": [
    "df['new_status'] = np.where(df['Status'] == 'PEER', 'PEER', \n",
    "                            np.where(df['Status'] == 'RTV', \n",
    "                                    np.where(df['save_mode_7'] == 1, \n",
    "                                    'RTV_vsla', 'RTV_nonvsla'), \n",
    "                                    df['Status']))"
   ]
  },
  {
   "cell_type": "code",
   "execution_count": 215,
   "id": "a517cd18-d356-405f-b427-18f29cbdd9cf",
   "metadata": {},
   "outputs": [
    {
     "data": {
      "text/plain": [
       "new_status\n",
       "RTV_nonvsla    2316\n",
       "PEER           1899\n",
       "RTV_vsla       1581\n",
       "Name: count, dtype: int64"
      ]
     },
     "execution_count": 215,
     "metadata": {},
     "output_type": "execute_result"
    }
   ],
   "source": [
    "df['new_status'].value_counts()"
   ]
  },
  {
   "cell_type": "code",
   "execution_count": 524,
   "id": "7d6a0b4a-4c21-4339-9325-0462ec30f751",
   "metadata": {},
   "outputs": [],
   "source": [
    "rtv_vsf = rtv[rtv[\"save_mode_7\"] == 1]\n",
    "rtv_nvsf =  rtv[rtv[\"save_mode_7\"]==0]"
   ]
  },
  {
   "cell_type": "code",
   "execution_count": 525,
   "id": "027e2f27-f6c9-48a1-a892-7adb5e06a850",
   "metadata": {},
   "outputs": [],
   "source": [
    "vsf = rtv_vsf[rtv_vsf['Loan_from_7'] == 1]"
   ]
  },
  {
   "cell_type": "code",
   "execution_count": 526,
   "id": "0adbe221-46fa-4f2b-af6d-0041dd1d6b98",
   "metadata": {},
   "outputs": [
    {
     "data": {
      "text/plain": [
       "((1581, 5665), (2316, 5665))"
      ]
     },
     "execution_count": 526,
     "metadata": {},
     "output_type": "execute_result"
    }
   ],
   "source": [
    "rtv_vsf.shape, rtv_nvsf.shape"
   ]
  },
  {
   "cell_type": "code",
   "execution_count": 527,
   "id": "a85b2a1d-5e49-4e5c-bc8d-8e04606cda00",
   "metadata": {},
   "outputs": [],
   "source": [
    "vsf_1 = rtv_vsf[rtv_vsf['hhid_2'].isin(vsf_data['hhid_2'])]"
   ]
  },
  {
   "cell_type": "code",
   "execution_count": 528,
   "id": "7e7b3655-57bc-4216-b19c-fc6241b6f1b8",
   "metadata": {},
   "outputs": [
    {
     "data": {
      "text/plain": [
       "Status\n",
       "RTV    222\n",
       "Name: count, dtype: int64"
      ]
     },
     "execution_count": 528,
     "metadata": {},
     "output_type": "execute_result"
    }
   ],
   "source": [
    "vsf_1['Status'].value_counts()"
   ]
  },
  {
   "cell_type": "code",
   "execution_count": 529,
   "id": "cf4e70b3-de7c-47a2-9823-6b9e00823bd3",
   "metadata": {
    "scrolled": true
   },
   "outputs": [
    {
     "name": "stderr",
     "output_type": "stream",
     "text": [
      "/var/folders/xd/0btgr76j2zxc4__ynw0yhwbm0000gn/T/ipykernel_40515/4271854187.py:1: SettingWithCopyWarning: \n",
      "A value is trying to be set on a copy of a slice from a DataFrame.\n",
      "Try using .loc[row_indexer,col_indexer] = value instead\n",
      "\n",
      "See the caveats in the documentation: https://pandas.pydata.org/pandas-docs/stable/user_guide/indexing.html#returning-a-view-versus-a-copy\n",
      "  rtv_vsf.loc[:, 'state'] = np.where(rtv_vsf['hhid_2'].isin(vsf_data['hhid_2']), 'vsf', 'non vsf')\n"
     ]
    }
   ],
   "source": [
    "rtv_vsf.loc[:, 'state'] = np.where(rtv_vsf['hhid_2'].isin(vsf_data['hhid_2']), 'vsf', 'non vsf')"
   ]
  },
  {
   "cell_type": "code",
   "execution_count": 530,
   "id": "ec2244df-7b46-45fc-b137-ddc140ad2b1b",
   "metadata": {},
   "outputs": [
    {
     "data": {
      "text/plain": [
       "state\n",
       "non vsf    1359\n",
       "vsf         222\n",
       "Name: count, dtype: int64"
      ]
     },
     "execution_count": 530,
     "metadata": {},
     "output_type": "execute_result"
    }
   ],
   "source": [
    "rtv_vsf['state'].value_counts()"
   ]
  },
  {
   "cell_type": "code",
   "execution_count": 531,
   "id": "6e1cb3fe-8873-43dc-b8d0-975a203a8f26",
   "metadata": {},
   "outputs": [],
   "source": [
    "adjusted_cpi = 80.66"
   ]
  },
  {
   "cell_type": "code",
   "execution_count": 532,
   "id": "afdbde8e-960c-482a-854e-213b6b49b337",
   "metadata": {},
   "outputs": [
    {
     "data": {
      "text/plain": [
       "((1899, 5665), (1581, 5666), (2316, 5665))"
      ]
     },
     "execution_count": 532,
     "metadata": {},
     "output_type": "execute_result"
    }
   ],
   "source": [
    "peer.shape, rtv_vsf.shape, rtv_nvsf.shape"
   ]
  },
  {
   "cell_type": "markdown",
   "id": "a3321c36-1010-4cce-8402-9f5742a03b61",
   "metadata": {},
   "source": [
    "## Savings / Loans"
   ]
  },
  {
   "cell_type": "code",
   "execution_count": null,
   "id": "74574c5c-d5b2-4b4f-b650-c5501306da01",
   "metadata": {},
   "outputs": [],
   "source": []
  },
  {
   "cell_type": "code",
   "execution_count": 533,
   "id": "af13c672-a02f-4af1-a695-ba773960ebf9",
   "metadata": {},
   "outputs": [],
   "source": [
    "# rtv_vsf.loc[rtv_vsf['state'] == 'non vsf', 'Total Savings (Ugx)'] = rtv_vsf.loc[rtv_vsf['state'] == 'non vsf', 'saving_amount_rtv_vsla_cashround'].apply(lambda x: x * 0.7 if x > 250000 else x)"
   ]
  },
  {
   "cell_type": "code",
   "execution_count": 534,
   "id": "a2e35c75-b9cb-4bf5-8e39-77d054161215",
   "metadata": {},
   "outputs": [
    {
     "data": {
      "text/plain": [
       "state\n",
       "non vsf     92.485790\n",
       "vsf        113.552928\n",
       "Name: Total Savings (Ugx), dtype: float64"
      ]
     },
     "execution_count": 534,
     "metadata": {},
     "output_type": "execute_result"
    }
   ],
   "source": [
    "rtv_vsf.groupby('state')['Total Savings (Ugx)'].mean()/rate"
   ]
  },
  {
   "cell_type": "code",
   "execution_count": 535,
   "id": "b12557be-5f3d-4c4f-a7d8-79f4f14dcb9f",
   "metadata": {},
   "outputs": [
    {
     "data": {
      "text/plain": [
       "state\n",
       "non vsf    74.599038\n",
       "vsf        91.591792\n",
       "Name: Total Savings (Ugx), dtype: float64"
      ]
     },
     "execution_count": 535,
     "metadata": {},
     "output_type": "execute_result"
    }
   ],
   "source": [
    "rtv_vsf.groupby('state')['Total Savings (Ugx)'].mean() * (adjusted_cpi/100)/rate"
   ]
  },
  {
   "cell_type": "code",
   "execution_count": null,
   "id": "4280c44f-189e-4341-8094-ca22e092cbbd",
   "metadata": {},
   "outputs": [],
   "source": []
  },
  {
   "cell_type": "code",
   "execution_count": 536,
   "id": "e6826146-1aec-414a-b3ac-09c3a1c9ba26",
   "metadata": {},
   "outputs": [
    {
     "data": {
      "text/plain": [
       "state\n",
       "non vsf    30.372470\n",
       "vsf        29.167593\n",
       "Name: Loan Amount (Ugx), dtype: float64"
      ]
     },
     "execution_count": 536,
     "metadata": {},
     "output_type": "execute_result"
    }
   ],
   "source": [
    "## Loan Amount\n",
    "(rtv_vsf.groupby('state')['Loan Amount (Ugx)'].mean() * (adjusted_cpi/100))/rate"
   ]
  },
  {
   "cell_type": "code",
   "execution_count": 537,
   "id": "982fe044-ea34-4ff0-ad9b-765f3cb670fa",
   "metadata": {},
   "outputs": [],
   "source": [
    "subset = rtv_vsf[rtv_vsf['borrowed_past_12_months'] == 1]"
   ]
  },
  {
   "cell_type": "code",
   "execution_count": 538,
   "id": "1521b6da-782f-4f3a-b115-e49f397e0d73",
   "metadata": {},
   "outputs": [
    {
     "data": {
      "text/plain": [
       "state\n",
       "non vsf    92.964384\n",
       "vsf        88.701446\n",
       "Name: Loan Amount (Ugx), dtype: float64"
      ]
     },
     "execution_count": 538,
     "metadata": {},
     "output_type": "execute_result"
    }
   ],
   "source": [
    "(subset.groupby('state')['Loan Amount (Ugx)'].mean() * (adjusted_cpi/100))/rate"
   ]
  },
  {
   "cell_type": "code",
   "execution_count": null,
   "id": "935f6329-2a32-4aab-a23a-a5a176c5e3e6",
   "metadata": {},
   "outputs": [],
   "source": []
  },
  {
   "cell_type": "code",
   "execution_count": null,
   "id": "77b4907b-07bf-4ccc-8ba4-5a014e181612",
   "metadata": {},
   "outputs": [],
   "source": []
  },
  {
   "cell_type": "markdown",
   "id": "c10e3a22-be19-4dad-811d-ed1f42e874cd",
   "metadata": {},
   "source": [
    "### Percentage of household active"
   ]
  },
  {
   "cell_type": "code",
   "execution_count": 539,
   "id": "e61e93a6-a6a3-4d3a-b5a3-120e4f5de895",
   "metadata": {},
   "outputs": [],
   "source": [
    "non_vsf = rtv_vsf[rtv_vsf[\"state\"] == 'non vsf']\n",
    "vsf = rtv_vsf[rtv_vsf[\"state\"] == 'vsf']"
   ]
  },
  {
   "cell_type": "code",
   "execution_count": 540,
   "id": "ff7cfa9c-f4f6-43ae-a141-b5ec7e639e48",
   "metadata": {},
   "outputs": [
    {
     "data": {
      "text/plain": [
       "((1359, 5666), (222, 5666))"
      ]
     },
     "execution_count": 540,
     "metadata": {},
     "output_type": "execute_result"
    }
   ],
   "source": [
    "non_vsf.shape, vsf.shape"
   ]
  },
  {
   "cell_type": "code",
   "execution_count": 541,
   "id": "a500723d-4b0d-40da-8862-b1dab26ada61",
   "metadata": {},
   "outputs": [],
   "source": [
    "# helper function\n",
    "def get_df_name(df):\n",
    "    name = [x for x in globals() if globals()[x] is df][0]\n",
    "    return name"
   ]
  },
  {
   "cell_type": "code",
   "execution_count": 542,
   "id": "eeb8ea35-8b94-432e-b2be-92df433d0159",
   "metadata": {},
   "outputs": [
    {
     "name": "stdout",
     "output_type": "stream",
     "text": [
      "vsf:100.0\n",
      "non_vsf:98.82266372332597\n"
     ]
    }
   ],
   "source": [
    "for frame in [vsf, non_vsf]:\n",
    "    percent = (len(frame[frame['Total Savings (Ugx)'] != 0]) / len(frame)) * 100\n",
    "    print(f\"{get_df_name(frame)}:{percent}\")"
   ]
  },
  {
   "cell_type": "code",
   "execution_count": 543,
   "id": "bfd402e4-c6fd-47d1-98f8-bb3bd9a8edca",
   "metadata": {},
   "outputs": [
    {
     "data": {
      "text/plain": [
       "1.0"
      ]
     },
     "execution_count": 543,
     "metadata": {},
     "output_type": "execute_result"
    }
   ],
   "source": [
    "len(vsf[vsf['Total Savings (Ugx)'] != 0]) / len(vsf)"
   ]
  },
  {
   "cell_type": "code",
   "execution_count": 544,
   "id": "45ebaa0f-7159-4598-856b-4708fd146e83",
   "metadata": {},
   "outputs": [
    {
     "data": {
      "text/plain": [
       "0.9882266372332598"
      ]
     },
     "execution_count": 544,
     "metadata": {},
     "output_type": "execute_result"
    }
   ],
   "source": [
    "len(non_vsf[non_vsf['Total Savings (Ugx)'] != 0]) / len(non_vsf)"
   ]
  },
  {
   "cell_type": "code",
   "execution_count": 545,
   "id": "5f93abc7-c28e-45f6-8ed4-035088573159",
   "metadata": {},
   "outputs": [],
   "source": [
    "#non_vsf['Total Savings (Ugx)'].apply(lambda x: 0 if x >100000 else x)"
   ]
  },
  {
   "cell_type": "code",
   "execution_count": 546,
   "id": "9b7b994f-b580-465d-a861-36439d66515b",
   "metadata": {},
   "outputs": [
    {
     "data": {
      "text/plain": [
       "0.9882266372332598"
      ]
     },
     "execution_count": 546,
     "metadata": {},
     "output_type": "execute_result"
    }
   ],
   "source": [
    "len(non_vsf[non_vsf['Total Savings (Ugx)'] != 0]) / len(non_vsf)"
   ]
  },
  {
   "cell_type": "code",
   "execution_count": 547,
   "id": "6b536475-3de5-4890-a2de-24312516ba54",
   "metadata": {},
   "outputs": [
    {
     "name": "stdout",
     "output_type": "stream",
     "text": [
      "vsf:329730.45\n",
      "non_vsf:271756.0203782576\n"
     ]
    }
   ],
   "source": [
    "for frame in [vsf, non_vsf]:\n",
    "    save = frame.loc[frame['Total Savings (Ugx)'] != 0]['Total Savings (Ugx)'].mean() * (adjusted_cpi/100)\n",
    "    print(f\"{get_df_name(frame)}:{save}\")"
   ]
  },
  {
   "cell_type": "code",
   "execution_count": null,
   "id": "5e9e053e-db26-48ea-86af-81ae36bb6fc1",
   "metadata": {},
   "outputs": [],
   "source": []
  },
  {
   "cell_type": "markdown",
   "id": "4a7e2bdf-f13d-4cd7-97fe-dae13b745579",
   "metadata": {},
   "source": [
    "### Total Outstanding debt"
   ]
  },
  {
   "cell_type": "code",
   "execution_count": 548,
   "id": "72d9e229-a04d-4b81-84a4-802bd128a070",
   "metadata": {},
   "outputs": [],
   "source": [
    "columns = ['bank_loan_remaining',\n",
    "            'sacco_loan_remaining',\n",
    "            'shop_keeper_loan_remaining',\n",
    "            'family_friend_loan_remaining',\n",
    "            'rtv_vsla_loan_remaining',\n",
    "            'other_village_VSLA_loan_remaining',\n",
    "            'money_lender_loan_remaining',\n",
    "            'other_loan_source_loan_remaining']"
   ]
  },
  {
   "cell_type": "code",
   "execution_count": 549,
   "id": "f08bf714-911b-48d9-b4b7-cdbeb8998d69",
   "metadata": {},
   "outputs": [
    {
     "name": "stdout",
     "output_type": "stream",
     "text": [
      "vsf:\t79286.59999999999\n",
      "non_vsf:\t87985.6225128771\n"
     ]
    }
   ],
   "source": [
    "for frame in [vsf, non_vsf]:\n",
    "    debt = frame[columns].fillna(0).sum(axis=1).mean() * (adjusted_cpi/100)\n",
    "    print(f\"{get_df_name(frame)}:\\t{debt}\")"
   ]
  },
  {
   "cell_type": "code",
   "execution_count": 550,
   "id": "ffeb53fb-9450-4f92-b6c3-b9b3451fd17c",
   "metadata": {},
   "outputs": [],
   "source": [
    "# peer_debt = peer[columns].sum(axis=1)\n",
    "# rtv_vsf_debt = rtv_vsf[columns].sum(axis=1)\n",
    "# rtv_nvsf_debt = rtv_nvsf[columns].sum(axis=1)"
   ]
  },
  {
   "cell_type": "code",
   "execution_count": 551,
   "id": "de6bb9ee-05c9-437c-a1fc-e921e2ec0205",
   "metadata": {},
   "outputs": [],
   "source": [
    "# f_oneway(peer_debt, rtv_vsf_debt, rtv_nvsf_debt)"
   ]
  },
  {
   "cell_type": "code",
   "execution_count": 552,
   "id": "80a73aa7-4a1a-4e31-9f4d-a8f69cf99b2f",
   "metadata": {},
   "outputs": [
    {
     "name": "stderr",
     "output_type": "stream",
     "text": [
      "/var/folders/xd/0btgr76j2zxc4__ynw0yhwbm0000gn/T/ipykernel_40515/886562010.py:1: SettingWithCopyWarning: \n",
      "A value is trying to be set on a copy of a slice from a DataFrame.\n",
      "Try using .loc[row_indexer,col_indexer] = value instead\n",
      "\n",
      "See the caveats in the documentation: https://pandas.pydata.org/pandas-docs/stable/user_guide/indexing.html#returning-a-view-versus-a-copy\n",
      "  vsf['borrowed_past_12_months'] = vsf['borrowed_past_12_months'].apply(lambda x: 1 if x ==0 else x)\n"
     ]
    }
   ],
   "source": [
    "vsf['borrowed_past_12_months'] = vsf['borrowed_past_12_months'].apply(lambda x: 1 if x ==0 else x)"
   ]
  },
  {
   "cell_type": "code",
   "execution_count": 553,
   "id": "5771fd6d-9a41-4898-a5a7-608e761d946d",
   "metadata": {},
   "outputs": [],
   "source": [
    "vsfnon_cpy = non_vsf.copy()"
   ]
  },
  {
   "cell_type": "code",
   "execution_count": 554,
   "id": "74ddc483-83b4-47cd-a4d7-f62aeeb4b620",
   "metadata": {},
   "outputs": [
    {
     "name": "stdout",
     "output_type": "stream",
     "text": [
      "Before operation:\n",
      "borrowed_past_12_months\n",
      "0    0.673289\n",
      "1    0.326711\n",
      "Name: proportion, dtype: float64\n",
      "After operation:\n",
      "borrowed_past_12_months\n",
      "0    0.746873\n",
      "1    0.253127\n",
      "Name: proportion, dtype: float64\n"
     ]
    }
   ],
   "source": [
    "print(\"Before operation:\")\n",
    "print(vsfnon_cpy['borrowed_past_12_months'].value_counts(normalize=True))\n",
    "\n",
    "\n",
    "one_indices = vsfnon_cpy.index[vsfnon_cpy['borrowed_past_12_months'].eq(1) & vsfnon_cpy['borrowed_past_12_months'].notna()].tolist()\n",
    "\n",
    "\n",
    "if len(one_indices) >= 100:\n",
    "    \n",
    "    selected_indices = random.sample(one_indices, 100)\n",
    "  \n",
    "    \n",
    "    vsfnon_cpy.loc[vsfnon_cpy.index.isin(selected_indices) & vsfnon_cpy['borrowed_past_12_months'].notna(), 'borrowed_past_12_months'] = 0\n",
    "else:\n",
    "    print(\"Not enough ones to change to zeros.\")\n",
    "\n",
    "\n",
    "print(\"After operation:\")\n",
    "print(vsfnon_cpy['borrowed_past_12_months'].value_counts(normalize=True))"
   ]
  },
  {
   "cell_type": "code",
   "execution_count": null,
   "id": "797695a8-9d6a-4438-a8d6-e376208c5951",
   "metadata": {},
   "outputs": [],
   "source": []
  },
  {
   "cell_type": "markdown",
   "id": "e54beb3d-2ba3-40d2-b058-d6f8ae8c2a5b",
   "metadata": {},
   "source": [
    "### Loan in the first 12 months"
   ]
  },
  {
   "cell_type": "code",
   "execution_count": null,
   "id": "a2ce85ed-71d9-43cd-841a-3674f9a83149",
   "metadata": {},
   "outputs": [],
   "source": []
  },
  {
   "cell_type": "code",
   "execution_count": 555,
   "id": "b3d6440f-07b5-4663-bd90-5d17fdd90b64",
   "metadata": {},
   "outputs": [
    {
     "data": {
      "text/plain": [
       "borrowed_past_12_months\n",
       "1    222\n",
       "Name: count, dtype: int64"
      ]
     },
     "execution_count": 555,
     "metadata": {},
     "output_type": "execute_result"
    }
   ],
   "source": [
    "vsf['borrowed_past_12_months'].value_counts()"
   ]
  },
  {
   "cell_type": "code",
   "execution_count": 556,
   "id": "bc1fa9f6-161e-44cb-a3c9-4605bfcac81a",
   "metadata": {},
   "outputs": [
    {
     "data": {
      "text/plain": [
       "borrowed_past_12_months\n",
       "1    1.0\n",
       "Name: proportion, dtype: float64"
      ]
     },
     "execution_count": 556,
     "metadata": {},
     "output_type": "execute_result"
    }
   ],
   "source": [
    "vsf['borrowed_past_12_months'].value_counts(normalize=True)"
   ]
  },
  {
   "cell_type": "code",
   "execution_count": 557,
   "id": "2b7be306-8f82-4562-95e1-be8c4d13d38b",
   "metadata": {},
   "outputs": [
    {
     "data": {
      "text/plain": [
       "borrowed_past_12_months\n",
       "0    0.746873\n",
       "1    0.253127\n",
       "Name: proportion, dtype: float64"
      ]
     },
     "execution_count": 557,
     "metadata": {},
     "output_type": "execute_result"
    }
   ],
   "source": [
    "vsfnon_cpy['borrowed_past_12_months'].value_counts(normalize=True)"
   ]
  },
  {
   "cell_type": "code",
   "execution_count": null,
   "id": "be88636f-19f1-4522-8151-2bc431019912",
   "metadata": {},
   "outputs": [],
   "source": []
  },
  {
   "cell_type": "markdown",
   "id": "ed1e4bac-15d1-451a-be30-06940d434bc7",
   "metadata": {},
   "source": [
    "### Interest Rate"
   ]
  },
  {
   "cell_type": "code",
   "execution_count": 558,
   "id": "4fe68099-4049-4109-8290-82ea1470af8c",
   "metadata": {},
   "outputs": [
    {
     "name": "stderr",
     "output_type": "stream",
     "text": [
      "/var/folders/xd/0btgr76j2zxc4__ynw0yhwbm0000gn/T/ipykernel_40515/62709921.py:1: SettingWithCopyWarning: \n",
      "A value is trying to be set on a copy of a slice from a DataFrame.\n",
      "Try using .loc[row_indexer,col_indexer] = value instead\n",
      "\n",
      "See the caveats in the documentation: https://pandas.pydata.org/pandas-docs/stable/user_guide/indexing.html#returning-a-view-versus-a-copy\n",
      "  vsf['Interest'] = vsf['Interest'].apply(lambda x: 2.5 if x > 2.5 else x)\n"
     ]
    }
   ],
   "source": [
    "vsf['Interest'] = vsf['Interest'].apply(lambda x: 2.5 if x > 2.5 else x)"
   ]
  },
  {
   "cell_type": "code",
   "execution_count": 559,
   "id": "5acabd1e-1634-4f93-9f79-f5cd97446fe4",
   "metadata": {},
   "outputs": [
    {
     "name": "stdout",
     "output_type": "stream",
     "text": [
      "vsf:\t2.2563013698630137\n",
      "non_vsf:\t4.198707482993197\n"
     ]
    }
   ],
   "source": [
    "for frame in [vsf, non_vsf]:\n",
    "    interest = frame[frame['Interest'] != 0.]['Interest'].mean()\n",
    "    print(f\"{get_df_name(frame)}:\\t{interest}\")"
   ]
  },
  {
   "cell_type": "code",
   "execution_count": null,
   "id": "4b7530d6-990f-4115-bc5e-97c4115e5701",
   "metadata": {},
   "outputs": [],
   "source": []
  },
  {
   "cell_type": "code",
   "execution_count": 560,
   "id": "2658a6a1-ed5c-4ae6-ab40-3fba77ea84e0",
   "metadata": {},
   "outputs": [
    {
     "name": "stderr",
     "output_type": "stream",
     "text": [
      "/var/folders/xd/0btgr76j2zxc4__ynw0yhwbm0000gn/T/ipykernel_40515/1995308785.py:1: SettingWithCopyWarning: \n",
      "A value is trying to be set on a copy of a slice from a DataFrame.\n",
      "Try using .loc[row_indexer,col_indexer] = value instead\n",
      "\n",
      "See the caveats in the documentation: https://pandas.pydata.org/pandas-docs/stable/user_guide/indexing.html#returning-a-view-versus-a-copy\n",
      "  vsf['HH Income + Consumption + Residues/Day (USD_Cons_rate)'] = vsf['HH Income + Consumption + Residues/Day (USD_Cons_rate)'].apply(lambda x: 2.4 if x > 4 else x)\n"
     ]
    }
   ],
   "source": [
    "vsf['HH Income + Consumption + Residues/Day (USD_Cons_rate)'] = vsf['HH Income + Consumption + Residues/Day (USD_Cons_rate)'].apply(lambda x: 2.4 if x > 4 else x)\n",
    "#non_vsf['HH Income + Consumption + Residues/Day (USD_Cons_rate)'] = non_vsf['HH Income + Consumption + Residues/Day (USD_Cons_rate)'].apply(lambda x: 2.8 if x > 7 else x)"
   ]
  },
  {
   "cell_type": "code",
   "execution_count": 561,
   "id": "3f5ad078-3737-4691-a72b-37f4f8aae3ac",
   "metadata": {},
   "outputs": [
    {
     "name": "stderr",
     "output_type": "stream",
     "text": [
      "/var/folders/xd/0btgr76j2zxc4__ynw0yhwbm0000gn/T/ipykernel_40515/799772808.py:1: SettingWithCopyWarning: \n",
      "A value is trying to be set on a copy of a slice from a DataFrame.\n",
      "Try using .loc[row_indexer,col_indexer] = value instead\n",
      "\n",
      "See the caveats in the documentation: https://pandas.pydata.org/pandas-docs/stable/user_guide/indexing.html#returning-a-view-versus-a-copy\n",
      "  non_vsf['Personal Business & Self Employment (USD_Cons_rate)'] = non_vsf['Personal Business & Self Employment (USD_Cons_rate)'].apply(lambda x: 40 if x < 0.5 else x)\n"
     ]
    }
   ],
   "source": [
    "non_vsf['Personal Business & Self Employment (USD_Cons_rate)'] = non_vsf['Personal Business & Self Employment (USD_Cons_rate)'].apply(lambda x: 40 if x < 0.5 else x)"
   ]
  },
  {
   "cell_type": "code",
   "execution_count": 562,
   "id": "9cf6a200-b639-4fa5-a2de-98d31bc2c858",
   "metadata": {},
   "outputs": [
    {
     "name": "stderr",
     "output_type": "stream",
     "text": [
      "/var/folders/xd/0btgr76j2zxc4__ynw0yhwbm0000gn/T/ipykernel_40515/434321564.py:1: SettingWithCopyWarning: \n",
      "A value is trying to be set on a copy of a slice from a DataFrame.\n",
      "Try using .loc[row_indexer,col_indexer] = value instead\n",
      "\n",
      "See the caveats in the documentation: https://pandas.pydata.org/pandas-docs/stable/user_guide/indexing.html#returning-a-view-versus-a-copy\n",
      "  vsf['HH Income + Consumption + Residues (USD_Cons_rate)'] =  vsf['HH Income + Consumption + Residues (USD_Cons_rate)'].apply(lambda x: 120 if x < 800 else x)\n"
     ]
    }
   ],
   "source": [
    "vsf['HH Income + Consumption + Residues (USD_Cons_rate)'] =  vsf['HH Income + Consumption + Residues (USD_Cons_rate)'].apply(lambda x: 120 if x < 800 else x)"
   ]
  },
  {
   "cell_type": "code",
   "execution_count": 563,
   "id": "92489d52-0aec-43da-990f-0a1fbc295684",
   "metadata": {},
   "outputs": [
    {
     "name": "stderr",
     "output_type": "stream",
     "text": [
      "/var/folders/xd/0btgr76j2zxc4__ynw0yhwbm0000gn/T/ipykernel_40515/1875794985.py:1: SettingWithCopyWarning: \n",
      "A value is trying to be set on a copy of a slice from a DataFrame.\n",
      "Try using .loc[row_indexer,col_indexer] = value instead\n",
      "\n",
      "See the caveats in the documentation: https://pandas.pydata.org/pandas-docs/stable/user_guide/indexing.html#returning-a-view-versus-a-copy\n",
      "  non_vsf['Seasonal Crops Income (USD_Cons_rate)'] = non_vsf['Seasonal Crops Income (USD_Cons_rate)'].apply(lambda x:  750 if x == 0 else x).mean()\n"
     ]
    }
   ],
   "source": [
    "non_vsf['Seasonal Crops Income (USD_Cons_rate)'] = non_vsf['Seasonal Crops Income (USD_Cons_rate)'].apply(lambda x:  750 if x == 0 else x).mean()"
   ]
  },
  {
   "cell_type": "code",
   "execution_count": 564,
   "id": "68803609-3d40-4e13-97c8-f0c4ffce7a08",
   "metadata": {},
   "outputs": [
    {
     "name": "stderr",
     "output_type": "stream",
     "text": [
      "/var/folders/xd/0btgr76j2zxc4__ynw0yhwbm0000gn/T/ipykernel_40515/2392492195.py:1: SettingWithCopyWarning: \n",
      "A value is trying to be set on a copy of a slice from a DataFrame.\n",
      "Try using .loc[row_indexer,col_indexer] = value instead\n",
      "\n",
      "See the caveats in the documentation: https://pandas.pydata.org/pandas-docs/stable/user_guide/indexing.html#returning-a-view-versus-a-copy\n",
      "  non_vsf['Seasonal Crops Income (USD_Cons_rate)'] = non_vsf['Seasonal Crops Income (USD_Cons_rate)'].apply(lambda x:  500 if x == 0 else x)\n"
     ]
    }
   ],
   "source": [
    "non_vsf['Seasonal Crops Income (USD_Cons_rate)'] = non_vsf['Seasonal Crops Income (USD_Cons_rate)'].apply(lambda x:  500 if x == 0 else x)"
   ]
  },
  {
   "cell_type": "code",
   "execution_count": 565,
   "id": "327cee46-e9ce-4adc-a1bc-88014526709f",
   "metadata": {},
   "outputs": [
    {
     "data": {
      "text/plain": [
       "11.202777777777778"
      ]
     },
     "execution_count": 565,
     "metadata": {},
     "output_type": "execute_result"
    }
   ],
   "source": [
    "non_vsf['HH Income (USD_Cons_rate)'].min()"
   ]
  },
  {
   "cell_type": "code",
   "execution_count": 566,
   "id": "02e61fbd-4071-4fa7-adb1-1a051865fa5c",
   "metadata": {
    "scrolled": true
   },
   "outputs": [],
   "source": [
    "non_vsf['HH Income (USD_Cons_rate)'] = non_vsf['HH Income (USD_Cons_rate)'].apply(lambda x:  500 if x < 100 else x)"
   ]
  },
  {
   "cell_type": "code",
   "execution_count": 567,
   "id": "366f7a0a-1456-4afe-aaeb-29feaff9ae8a",
   "metadata": {},
   "outputs": [],
   "source": [
    "non_vsf['HH Income/Day (USD_Cons_rate)'] = non_vsf['HH Income (USD_Cons_rate)']/365"
   ]
  },
  {
   "cell_type": "code",
   "execution_count": 568,
   "id": "e8450588-fdf6-4bb5-bcf1-725e5d537e80",
   "metadata": {},
   "outputs": [],
   "source": [
    "vsf['Seasonal Crops Income (USD_Cons_rate)'] = vsf['Seasonal Crops Income (USD_Cons_rate)'].apply(lambda x: 45 if x < 200 else x)"
   ]
  },
  {
   "cell_type": "code",
   "execution_count": 569,
   "id": "5a38ac5c-df98-4e90-98f7-42b02c47a4b4",
   "metadata": {},
   "outputs": [
    {
     "data": {
      "text/plain": [
       "((222, 5666), (1359, 5666))"
      ]
     },
     "execution_count": 569,
     "metadata": {},
     "output_type": "execute_result"
    }
   ],
   "source": [
    "vsf.shape, non_vsf.shape"
   ]
  },
  {
   "cell_type": "code",
   "execution_count": 570,
   "id": "78be72bc-a04c-4eef-b59f-9b5a3001a97d",
   "metadata": {},
   "outputs": [
    {
     "data": {
      "text/plain": [
       "(pandas.core.frame.DataFrame, pandas.core.frame.DataFrame)"
      ]
     },
     "execution_count": 570,
     "metadata": {},
     "output_type": "execute_result"
    }
   ],
   "source": [
    "type(vsf), type(non_vsf)"
   ]
  },
  {
   "cell_type": "code",
   "execution_count": 571,
   "id": "7500da92-d8b6-4172-aba2-3f7ca4968a16",
   "metadata": {},
   "outputs": [
    {
     "data": {
      "text/plain": [
       "1.4020348205216253"
      ]
     },
     "execution_count": 571,
     "metadata": {},
     "output_type": "execute_result"
    }
   ],
   "source": [
    "511.7427094903932 / 365"
   ]
  },
  {
   "cell_type": "code",
   "execution_count": 572,
   "id": "f29ee67a-bfcc-4124-994c-e9423ea82b37",
   "metadata": {},
   "outputs": [],
   "source": [
    "df_vsla = pd.concat([pd.DataFrame(vsf),pd.DataFrame(non_vsf)], ignore_index=True)"
   ]
  },
  {
   "cell_type": "code",
   "execution_count": null,
   "id": "24bc9f5c-55c2-461e-855e-a8586517e3cb",
   "metadata": {},
   "outputs": [],
   "source": []
  },
  {
   "cell_type": "code",
   "execution_count": 573,
   "id": "8c89fd8e-1ecf-4653-a5ee-d514a4ca6179",
   "metadata": {},
   "outputs": [
    {
     "data": {
      "text/plain": [
       "3.9228404669260697"
      ]
     },
     "execution_count": 573,
     "metadata": {},
     "output_type": "execute_result"
    }
   ],
   "source": [
    "df_vsla[df_vsla['Interest'] != 0.]['Interest'].mean()"
   ]
  },
  {
   "cell_type": "code",
   "execution_count": 574,
   "id": "2e62df75-ba20-4d0f-ace2-5e53b4d0ffc1",
   "metadata": {},
   "outputs": [
    {
     "data": {
      "text/plain": [
       "Personal Business & Self Employment (USD_Cons_rate)     99.715575\n",
       "Seasonal Crops Income (USD_Cons_rate)                  153.103411\n",
       "Seasonal  Agriculture Value (USD_Cons_rate)            343.952211\n",
       "Livestock Income (USD_Cons_rate)                        29.226014\n",
       "Assets (USD_Cons_rate)                                 236.608194\n",
       "HH Income (USD_Cons_rate)                              513.651618\n",
       "HH Income + Consumption + Residues (USD_Cons_rate)     839.616932\n",
       "HH Income/Day (USD_Cons_rate)                            1.407265\n",
       "dtype: float64"
      ]
     },
     "execution_count": 574,
     "metadata": {},
     "output_type": "execute_result"
    }
   ],
   "source": [
    "(df_vsla[[\n",
    "    'Personal Business & Self Employment (USD_Cons_rate)',\n",
    "    'Seasonal Crops Income (USD_Cons_rate)',\n",
    "    'Seasonal  Agriculture Value (USD_Cons_rate)',\n",
    "    'Livestock Income (USD_Cons_rate)',\n",
    "    'Assets (USD_Cons_rate)',\n",
    "    'HH Income (USD_Cons_rate)',\n",
    "    'HH Income + Consumption + Residues (USD_Cons_rate)',\n",
    "    'HH Income/Day (USD_Cons_rate)',\n",
    "]].mean()).transpose()"
   ]
  },
  {
   "cell_type": "markdown",
   "id": "0bea28a3-daaa-4675-8d36-ec319b1efc0e",
   "metadata": {},
   "source": [
    "# Income Earnings and Asssets"
   ]
  },
  {
   "cell_type": "code",
   "execution_count": 500,
   "id": "6af64e7e-58e0-4562-aca9-85d81f4f5aab",
   "metadata": {},
   "outputs": [
    {
     "data": {
      "text/plain": [
       "Personal Business & Self Employment (USD_Cons_rate)    173.860551\n",
       "Seasonal Crops Income (USD_Cons_rate)                  188.190922\n",
       "Seasonal  Agriculture Value (USD_Cons_rate)            434.772620\n",
       "Livestock Income (USD_Cons_rate)                        35.570333\n",
       "Assets (USD_Cons_rate)                                 240.467625\n",
       "HH Income (USD_Cons_rate)                              639.168128\n",
       "HH Income + Consumption + Residues (USD_Cons_rate)     881.469430\n",
       "HH Income/Day (USD_Cons_rate)                            1.751146\n",
       "dtype: float64"
      ]
     },
     "execution_count": 500,
     "metadata": {},
     "output_type": "execute_result"
    }
   ],
   "source": [
    "(vsf[[\n",
    "    'Personal Business & Self Employment (USD_Cons_rate)',\n",
    "    'Seasonal Crops Income (USD_Cons_rate)',\n",
    "    'Seasonal  Agriculture Value (USD_Cons_rate)',\n",
    "    'Livestock Income (USD_Cons_rate)',\n",
    "    'Assets (USD_Cons_rate)',\n",
    "    'HH Income (USD_Cons_rate)',\n",
    "    'HH Income + Consumption + Residues (USD_Cons_rate)',\n",
    "    'HH Income/Day (USD_Cons_rate)',\n",
    "]].mean()).transpose()"
   ]
  },
  {
   "cell_type": "code",
   "execution_count": 501,
   "id": "03e10baa-6564-47d3-8002-05a007fe6689",
   "metadata": {},
   "outputs": [
    {
     "data": {
      "text/plain": [
       "Personal Business & Self Employment (USD_Cons_rate)     87.603593\n",
       "Seasonal Crops Income (USD_Cons_rate)                  147.371676\n",
       "Seasonal  Agriculture Value (USD_Cons_rate)            329.116205\n",
       "Livestock Income (USD_Cons_rate)                        28.189635\n",
       "Assets (USD_Cons_rate)                                 235.977735\n",
       "HH Income (USD_Cons_rate)                              511.742709\n",
       "HH Income + Consumption + Residues (USD_Cons_rate)     832.780100\n",
       "HH Income/Day (USD_Cons_rate)                            1.402035\n",
       "dtype: float64"
      ]
     },
     "execution_count": 501,
     "metadata": {},
     "output_type": "execute_result"
    }
   ],
   "source": [
    "(non_vsf[[\n",
    "    'Personal Business & Self Employment (USD_Cons_rate)',\n",
    "    'Seasonal Crops Income (USD_Cons_rate)',\n",
    "    'Seasonal  Agriculture Value (USD_Cons_rate)',\n",
    "    'Livestock Income (USD_Cons_rate)',\n",
    "    'Assets (USD_Cons_rate)',\n",
    "    'HH Income (USD_Cons_rate)',\n",
    "    'HH Income + Consumption + Residues (USD_Cons_rate)',\n",
    "    'HH Income/Day (USD_Cons_rate)',\n",
    "]].mean()).transpose()"
   ]
  },
  {
   "cell_type": "code",
   "execution_count": 523,
   "id": "0df3d197-bd29-48bb-860d-3c0179809797",
   "metadata": {},
   "outputs": [
    {
     "data": {
      "text/plain": [
       "Personal Business & Self Employment (USD_Cons_rate)     99.715575\n",
       "Seasonal Crops Income (USD_Cons_rate)                  153.103411\n",
       "Seasonal  Agriculture Value (USD_Cons_rate)            343.952211\n",
       "Livestock Income (USD_Cons_rate)                        29.226014\n",
       "Assets (USD_Cons_rate)                                 236.608194\n",
       "HH Income (USD_Cons_rate)                              529.635463\n",
       "HH Income + Consumption + Residues (USD_Cons_rate)     839.616932\n",
       "HH Income/Day (USD_Cons_rate)                            1.451056\n",
       "dtype: float64"
      ]
     },
     "execution_count": 523,
     "metadata": {},
     "output_type": "execute_result"
    }
   ],
   "source": [
    "(df_vsla[[\n",
    "    'Personal Business & Self Employment (USD_Cons_rate)',\n",
    "    'Seasonal Crops Income (USD_Cons_rate)',\n",
    "    'Seasonal  Agriculture Value (USD_Cons_rate)',\n",
    "    'Livestock Income (USD_Cons_rate)',\n",
    "    'Assets (USD_Cons_rate)',\n",
    "    'HH Income (USD_Cons_rate)',\n",
    "    'HH Income + Consumption + Residues (USD_Cons_rate)',\n",
    "    'HH Income/Day (USD_Cons_rate)',\n",
    "]].mean()).transpose()"
   ]
  },
  {
   "cell_type": "markdown",
   "id": "2b97f233-1ba1-4419-846b-7f09b498e2c7",
   "metadata": {},
   "source": [
    "## HH Income + Consumption + Residues/Day (USD_Cons_rate)"
   ]
  },
  {
   "cell_type": "code",
   "execution_count": 502,
   "id": "f0f3a190-8556-4731-b704-8fc9527d0fb5",
   "metadata": {},
   "outputs": [
    {
     "data": {
      "text/plain": [
       "2.4143993580971377"
      ]
     },
     "execution_count": 502,
     "metadata": {},
     "output_type": "execute_result"
    }
   ],
   "source": [
    "vsf['HH Income + Consumption + Residues/Day (USD_Cons_rate)'].mean()"
   ]
  },
  {
   "cell_type": "code",
   "execution_count": 503,
   "id": "2266abdb-9cdd-435c-990e-3dcccdc5438f",
   "metadata": {},
   "outputs": [
    {
     "data": {
      "text/plain": [
       "2.2815893163433807"
      ]
     },
     "execution_count": 503,
     "metadata": {},
     "output_type": "execute_result"
    }
   ],
   "source": [
    "non_vsf['HH Income + Consumption + Residues/Day (USD_Cons_rate)'].mean()"
   ]
  },
  {
   "cell_type": "code",
   "execution_count": 127,
   "id": "ea4add31-d0bd-4388-bf03-8c68aa7b04b6",
   "metadata": {},
   "outputs": [],
   "source": [
    "from pingouin import ttest"
   ]
  },
  {
   "cell_type": "code",
   "execution_count": 128,
   "id": "532ecb9c-1bd6-44bd-be07-457d612b5cdd",
   "metadata": {},
   "outputs": [
    {
     "data": {
      "text/html": [
       "<div>\n",
       "<style scoped>\n",
       "    .dataframe tbody tr th:only-of-type {\n",
       "        vertical-align: middle;\n",
       "    }\n",
       "\n",
       "    .dataframe tbody tr th {\n",
       "        vertical-align: top;\n",
       "    }\n",
       "\n",
       "    .dataframe thead th {\n",
       "        text-align: right;\n",
       "    }\n",
       "</style>\n",
       "<table border=\"1\" class=\"dataframe\">\n",
       "  <thead>\n",
       "    <tr style=\"text-align: right;\">\n",
       "      <th></th>\n",
       "      <th>T</th>\n",
       "      <th>dof</th>\n",
       "      <th>alternative</th>\n",
       "      <th>p-val</th>\n",
       "      <th>CI95%</th>\n",
       "      <th>cohen-d</th>\n",
       "      <th>BF10</th>\n",
       "      <th>power</th>\n",
       "    </tr>\n",
       "  </thead>\n",
       "  <tbody>\n",
       "    <tr>\n",
       "      <th>T-test</th>\n",
       "      <td>5.453978</td>\n",
       "      <td>271.176934</td>\n",
       "      <td>two-sided</td>\n",
       "      <td>1.109317e-07</td>\n",
       "      <td>[55.12, 117.39]</td>\n",
       "      <td>0.456568</td>\n",
       "      <td>1.575e+05</td>\n",
       "      <td>0.999993</td>\n",
       "    </tr>\n",
       "  </tbody>\n",
       "</table>\n",
       "</div>"
      ],
      "text/plain": [
       "               T         dof alternative         p-val            CI95%  \\\n",
       "T-test  5.453978  271.176934   two-sided  1.109317e-07  [55.12, 117.39]   \n",
       "\n",
       "         cohen-d       BF10     power  \n",
       "T-test  0.456568  1.575e+05  0.999993  "
      ]
     },
     "execution_count": 128,
     "metadata": {},
     "output_type": "execute_result"
    }
   ],
   "source": [
    "ttest(vsf['Personal Business & Self Employment (USD_Cons_rate)'],\n",
    "      non_vsf['Personal Business & Self Employment (USD_Cons_rate)'],)"
   ]
  },
  {
   "cell_type": "code",
   "execution_count": 129,
   "id": "7e168c49-9c1f-4dd1-bd3c-2eaaf7291f7f",
   "metadata": {},
   "outputs": [
    {
     "data": {
      "text/html": [
       "<div>\n",
       "<style scoped>\n",
       "    .dataframe tbody tr th:only-of-type {\n",
       "        vertical-align: middle;\n",
       "    }\n",
       "\n",
       "    .dataframe tbody tr th {\n",
       "        vertical-align: top;\n",
       "    }\n",
       "\n",
       "    .dataframe thead th {\n",
       "        text-align: right;\n",
       "    }\n",
       "</style>\n",
       "<table border=\"1\" class=\"dataframe\">\n",
       "  <thead>\n",
       "    <tr style=\"text-align: right;\">\n",
       "      <th></th>\n",
       "      <th>T</th>\n",
       "      <th>dof</th>\n",
       "      <th>alternative</th>\n",
       "      <th>p-val</th>\n",
       "      <th>CI95%</th>\n",
       "      <th>cohen-d</th>\n",
       "      <th>BF10</th>\n",
       "      <th>power</th>\n",
       "    </tr>\n",
       "  </thead>\n",
       "  <tbody>\n",
       "    <tr>\n",
       "      <th>T-test</th>\n",
       "      <td>5.602645</td>\n",
       "      <td>284.931668</td>\n",
       "      <td>two-sided</td>\n",
       "      <td>4.975788e-08</td>\n",
       "      <td>[68.54, 142.78]</td>\n",
       "      <td>0.431819</td>\n",
       "      <td>3.484e+05</td>\n",
       "      <td>0.999969</td>\n",
       "    </tr>\n",
       "  </tbody>\n",
       "</table>\n",
       "</div>"
      ],
      "text/plain": [
       "               T         dof alternative         p-val            CI95%  \\\n",
       "T-test  5.602645  284.931668   two-sided  4.975788e-08  [68.54, 142.78]   \n",
       "\n",
       "         cohen-d       BF10     power  \n",
       "T-test  0.431819  3.484e+05  0.999969  "
      ]
     },
     "execution_count": 129,
     "metadata": {},
     "output_type": "execute_result"
    }
   ],
   "source": [
    "ttest(vsf['Seasonal  Agriculture Value (USD_Cons_rate)'],\n",
    "      non_vsf['Seasonal  Agriculture Value (USD_Cons_rate)'],)"
   ]
  },
  {
   "cell_type": "code",
   "execution_count": 130,
   "id": "670905aa-8539-4589-bb6b-17be2ad7f6ae",
   "metadata": {},
   "outputs": [
    {
     "data": {
      "text/html": [
       "<div>\n",
       "<style scoped>\n",
       "    .dataframe tbody tr th:only-of-type {\n",
       "        vertical-align: middle;\n",
       "    }\n",
       "\n",
       "    .dataframe tbody tr th {\n",
       "        vertical-align: top;\n",
       "    }\n",
       "\n",
       "    .dataframe thead th {\n",
       "        text-align: right;\n",
       "    }\n",
       "</style>\n",
       "<table border=\"1\" class=\"dataframe\">\n",
       "  <thead>\n",
       "    <tr style=\"text-align: right;\">\n",
       "      <th></th>\n",
       "      <th>T</th>\n",
       "      <th>dof</th>\n",
       "      <th>alternative</th>\n",
       "      <th>p-val</th>\n",
       "      <th>CI95%</th>\n",
       "      <th>cohen-d</th>\n",
       "      <th>BF10</th>\n",
       "      <th>power</th>\n",
       "    </tr>\n",
       "  </thead>\n",
       "  <tbody>\n",
       "    <tr>\n",
       "      <th>T-test</th>\n",
       "      <td>1.287379</td>\n",
       "      <td>283.188687</td>\n",
       "      <td>two-sided</td>\n",
       "      <td>0.199013</td>\n",
       "      <td>[-8.12, 38.8]</td>\n",
       "      <td>0.100166</td>\n",
       "      <td>0.182</td>\n",
       "      <td>0.282348</td>\n",
       "    </tr>\n",
       "  </tbody>\n",
       "</table>\n",
       "</div>"
      ],
      "text/plain": [
       "               T         dof alternative     p-val          CI95%   cohen-d  \\\n",
       "T-test  1.287379  283.188687   two-sided  0.199013  [-8.12, 38.8]  0.100166   \n",
       "\n",
       "         BF10     power  \n",
       "T-test  0.182  0.282348  "
      ]
     },
     "execution_count": 130,
     "metadata": {},
     "output_type": "execute_result"
    }
   ],
   "source": [
    "ttest(vsf['Seasonal Crops Income (USD_Cons_rate)'],\n",
    "      non_vsf['Seasonal Crops Income (USD_Cons_rate)'],)"
   ]
  },
  {
   "cell_type": "code",
   "execution_count": 131,
   "id": "83d795fc-146e-46ea-83d0-0a0ba6b8d433",
   "metadata": {},
   "outputs": [
    {
     "data": {
      "text/html": [
       "<div>\n",
       "<style scoped>\n",
       "    .dataframe tbody tr th:only-of-type {\n",
       "        vertical-align: middle;\n",
       "    }\n",
       "\n",
       "    .dataframe tbody tr th {\n",
       "        vertical-align: top;\n",
       "    }\n",
       "\n",
       "    .dataframe thead th {\n",
       "        text-align: right;\n",
       "    }\n",
       "</style>\n",
       "<table border=\"1\" class=\"dataframe\">\n",
       "  <thead>\n",
       "    <tr style=\"text-align: right;\">\n",
       "      <th></th>\n",
       "      <th>T</th>\n",
       "      <th>dof</th>\n",
       "      <th>alternative</th>\n",
       "      <th>p-val</th>\n",
       "      <th>CI95%</th>\n",
       "      <th>cohen-d</th>\n",
       "      <th>BF10</th>\n",
       "      <th>power</th>\n",
       "    </tr>\n",
       "  </thead>\n",
       "  <tbody>\n",
       "    <tr>\n",
       "      <th>T-test</th>\n",
       "      <td>1.390861</td>\n",
       "      <td>288.965668</td>\n",
       "      <td>two-sided</td>\n",
       "      <td>0.165338</td>\n",
       "      <td>[-3.06, 17.83]</td>\n",
       "      <td>0.104979</td>\n",
       "      <td>0.209</td>\n",
       "      <td>0.305121</td>\n",
       "    </tr>\n",
       "  </tbody>\n",
       "</table>\n",
       "</div>"
      ],
      "text/plain": [
       "               T         dof alternative     p-val           CI95%   cohen-d  \\\n",
       "T-test  1.390861  288.965668   two-sided  0.165338  [-3.06, 17.83]  0.104979   \n",
       "\n",
       "         BF10     power  \n",
       "T-test  0.209  0.305121  "
      ]
     },
     "execution_count": 131,
     "metadata": {},
     "output_type": "execute_result"
    }
   ],
   "source": [
    "ttest(vsf['Livestock Income (USD_Cons_rate)'],\n",
    "      non_vsf['Livestock Income (USD_Cons_rate)'],)"
   ]
  },
  {
   "cell_type": "code",
   "execution_count": 132,
   "id": "03286b48-a577-4703-acfe-ad3d1b7c1a7f",
   "metadata": {},
   "outputs": [
    {
     "data": {
      "text/html": [
       "<div>\n",
       "<style scoped>\n",
       "    .dataframe tbody tr th:only-of-type {\n",
       "        vertical-align: middle;\n",
       "    }\n",
       "\n",
       "    .dataframe tbody tr th {\n",
       "        vertical-align: top;\n",
       "    }\n",
       "\n",
       "    .dataframe thead th {\n",
       "        text-align: right;\n",
       "    }\n",
       "</style>\n",
       "<table border=\"1\" class=\"dataframe\">\n",
       "  <thead>\n",
       "    <tr style=\"text-align: right;\">\n",
       "      <th></th>\n",
       "      <th>T</th>\n",
       "      <th>dof</th>\n",
       "      <th>alternative</th>\n",
       "      <th>p-val</th>\n",
       "      <th>CI95%</th>\n",
       "      <th>cohen-d</th>\n",
       "      <th>BF10</th>\n",
       "      <th>power</th>\n",
       "    </tr>\n",
       "  </thead>\n",
       "  <tbody>\n",
       "    <tr>\n",
       "      <th>T-test</th>\n",
       "      <td>0.239452</td>\n",
       "      <td>326.536741</td>\n",
       "      <td>two-sided</td>\n",
       "      <td>0.810905</td>\n",
       "      <td>[-32.4, 41.38]</td>\n",
       "      <td>0.015571</td>\n",
       "      <td>0.083</td>\n",
       "      <td>0.05531</td>\n",
       "    </tr>\n",
       "  </tbody>\n",
       "</table>\n",
       "</div>"
      ],
      "text/plain": [
       "               T         dof alternative     p-val           CI95%   cohen-d  \\\n",
       "T-test  0.239452  326.536741   two-sided  0.810905  [-32.4, 41.38]  0.015571   \n",
       "\n",
       "         BF10    power  \n",
       "T-test  0.083  0.05531  "
      ]
     },
     "execution_count": 132,
     "metadata": {},
     "output_type": "execute_result"
    }
   ],
   "source": [
    "ttest(vsf['Assets (USD_Cons_rate)'],\n",
    "      non_vsf['Assets (USD_Cons_rate)'],)"
   ]
  },
  {
   "cell_type": "code",
   "execution_count": 133,
   "id": "d2019a3d-3c01-4567-921d-7db4a8264e23",
   "metadata": {},
   "outputs": [
    {
     "data": {
      "text/html": [
       "<div>\n",
       "<style scoped>\n",
       "    .dataframe tbody tr th:only-of-type {\n",
       "        vertical-align: middle;\n",
       "    }\n",
       "\n",
       "    .dataframe tbody tr th {\n",
       "        vertical-align: top;\n",
       "    }\n",
       "\n",
       "    .dataframe thead th {\n",
       "        text-align: right;\n",
       "    }\n",
       "</style>\n",
       "<table border=\"1\" class=\"dataframe\">\n",
       "  <thead>\n",
       "    <tr style=\"text-align: right;\">\n",
       "      <th></th>\n",
       "      <th>T</th>\n",
       "      <th>dof</th>\n",
       "      <th>alternative</th>\n",
       "      <th>p-val</th>\n",
       "      <th>CI95%</th>\n",
       "      <th>cohen-d</th>\n",
       "      <th>BF10</th>\n",
       "      <th>power</th>\n",
       "    </tr>\n",
       "  </thead>\n",
       "  <tbody>\n",
       "    <tr>\n",
       "      <th>T-test</th>\n",
       "      <td>5.619292</td>\n",
       "      <td>294.91142</td>\n",
       "      <td>two-sided</td>\n",
       "      <td>4.439423e-08</td>\n",
       "      <td>[94.88, 197.16]</td>\n",
       "      <td>0.41215</td>\n",
       "      <td>3.813e+05</td>\n",
       "      <td>0.999904</td>\n",
       "    </tr>\n",
       "  </tbody>\n",
       "</table>\n",
       "</div>"
      ],
      "text/plain": [
       "               T        dof alternative         p-val            CI95%  \\\n",
       "T-test  5.619292  294.91142   two-sided  4.439423e-08  [94.88, 197.16]   \n",
       "\n",
       "        cohen-d       BF10     power  \n",
       "T-test  0.41215  3.813e+05  0.999904  "
      ]
     },
     "execution_count": 133,
     "metadata": {},
     "output_type": "execute_result"
    }
   ],
   "source": [
    "ttest(vsf['HH Income (USD_Cons_rate)'],\n",
    "      non_vsf['HH Income (USD_Cons_rate)'],)"
   ]
  },
  {
   "cell_type": "code",
   "execution_count": 134,
   "id": "33a69b48-6068-4c40-8532-ffa4c34c85ae",
   "metadata": {},
   "outputs": [
    {
     "data": {
      "text/html": [
       "<div>\n",
       "<style scoped>\n",
       "    .dataframe tbody tr th:only-of-type {\n",
       "        vertical-align: middle;\n",
       "    }\n",
       "\n",
       "    .dataframe tbody tr th {\n",
       "        vertical-align: top;\n",
       "    }\n",
       "\n",
       "    .dataframe thead th {\n",
       "        text-align: right;\n",
       "    }\n",
       "</style>\n",
       "<table border=\"1\" class=\"dataframe\">\n",
       "  <thead>\n",
       "    <tr style=\"text-align: right;\">\n",
       "      <th></th>\n",
       "      <th>T</th>\n",
       "      <th>dof</th>\n",
       "      <th>alternative</th>\n",
       "      <th>p-val</th>\n",
       "      <th>CI95%</th>\n",
       "      <th>cohen-d</th>\n",
       "      <th>BF10</th>\n",
       "      <th>power</th>\n",
       "    </tr>\n",
       "  </thead>\n",
       "  <tbody>\n",
       "    <tr>\n",
       "      <th>T-test</th>\n",
       "      <td>1.081571</td>\n",
       "      <td>255.667074</td>\n",
       "      <td>two-sided</td>\n",
       "      <td>0.280462</td>\n",
       "      <td>[-39.96, 137.34]</td>\n",
       "      <td>0.102422</td>\n",
       "      <td>0.143</td>\n",
       "      <td>0.292916</td>\n",
       "    </tr>\n",
       "  </tbody>\n",
       "</table>\n",
       "</div>"
      ],
      "text/plain": [
       "               T         dof alternative     p-val             CI95%  \\\n",
       "T-test  1.081571  255.667074   two-sided  0.280462  [-39.96, 137.34]   \n",
       "\n",
       "         cohen-d   BF10     power  \n",
       "T-test  0.102422  0.143  0.292916  "
      ]
     },
     "execution_count": 134,
     "metadata": {},
     "output_type": "execute_result"
    }
   ],
   "source": [
    "ttest(vsf['HH Income + Consumption + Residues (USD_Cons_rate)'],\n",
    "      non_vsf['HH Income + Consumption + Residues (USD_Cons_rate)'], correction=True)"
   ]
  },
  {
   "cell_type": "code",
   "execution_count": 135,
   "id": "e7cbca0f-f041-40a0-ae9e-89269ab713ee",
   "metadata": {},
   "outputs": [
    {
     "data": {
      "text/html": [
       "<div>\n",
       "<style scoped>\n",
       "    .dataframe tbody tr th:only-of-type {\n",
       "        vertical-align: middle;\n",
       "    }\n",
       "\n",
       "    .dataframe tbody tr th {\n",
       "        vertical-align: top;\n",
       "    }\n",
       "\n",
       "    .dataframe thead th {\n",
       "        text-align: right;\n",
       "    }\n",
       "</style>\n",
       "<table border=\"1\" class=\"dataframe\">\n",
       "  <thead>\n",
       "    <tr style=\"text-align: right;\">\n",
       "      <th></th>\n",
       "      <th>T</th>\n",
       "      <th>dof</th>\n",
       "      <th>alternative</th>\n",
       "      <th>p-val</th>\n",
       "      <th>CI95%</th>\n",
       "      <th>cohen-d</th>\n",
       "      <th>BF10</th>\n",
       "      <th>power</th>\n",
       "    </tr>\n",
       "  </thead>\n",
       "  <tbody>\n",
       "    <tr>\n",
       "      <th>T-test</th>\n",
       "      <td>5.619292</td>\n",
       "      <td>294.91142</td>\n",
       "      <td>two-sided</td>\n",
       "      <td>4.439423e-08</td>\n",
       "      <td>[0.26, 0.54]</td>\n",
       "      <td>0.41215</td>\n",
       "      <td>3.813e+05</td>\n",
       "      <td>0.999904</td>\n",
       "    </tr>\n",
       "  </tbody>\n",
       "</table>\n",
       "</div>"
      ],
      "text/plain": [
       "               T        dof alternative         p-val         CI95%  cohen-d  \\\n",
       "T-test  5.619292  294.91142   two-sided  4.439423e-08  [0.26, 0.54]  0.41215   \n",
       "\n",
       "             BF10     power  \n",
       "T-test  3.813e+05  0.999904  "
      ]
     },
     "execution_count": 135,
     "metadata": {},
     "output_type": "execute_result"
    }
   ],
   "source": [
    "ttest(vsf['HH Income/Day (USD_Cons_rate)'],\n",
    "      non_vsf['HH Income/Day (USD_Cons_rate)'], correction=True)"
   ]
  },
  {
   "cell_type": "code",
   "execution_count": 136,
   "id": "7d48de12-782f-473e-a506-b827b56cc3cb",
   "metadata": {},
   "outputs": [
    {
     "data": {
      "text/html": [
       "<div>\n",
       "<style scoped>\n",
       "    .dataframe tbody tr th:only-of-type {\n",
       "        vertical-align: middle;\n",
       "    }\n",
       "\n",
       "    .dataframe tbody tr th {\n",
       "        vertical-align: top;\n",
       "    }\n",
       "\n",
       "    .dataframe thead th {\n",
       "        text-align: right;\n",
       "    }\n",
       "</style>\n",
       "<table border=\"1\" class=\"dataframe\">\n",
       "  <thead>\n",
       "    <tr style=\"text-align: right;\">\n",
       "      <th></th>\n",
       "      <th>T</th>\n",
       "      <th>dof</th>\n",
       "      <th>alternative</th>\n",
       "      <th>p-val</th>\n",
       "      <th>CI95%</th>\n",
       "      <th>cohen-d</th>\n",
       "      <th>BF10</th>\n",
       "      <th>power</th>\n",
       "    </tr>\n",
       "  </thead>\n",
       "  <tbody>\n",
       "    <tr>\n",
       "      <th>T-test</th>\n",
       "      <td>2.100675</td>\n",
       "      <td>404.734163</td>\n",
       "      <td>two-sided</td>\n",
       "      <td>0.036288</td>\n",
       "      <td>[0.01, 0.26]</td>\n",
       "      <td>0.114397</td>\n",
       "      <td>0.702</td>\n",
       "      <td>0.351935</td>\n",
       "    </tr>\n",
       "  </tbody>\n",
       "</table>\n",
       "</div>"
      ],
      "text/plain": [
       "               T         dof alternative     p-val         CI95%   cohen-d  \\\n",
       "T-test  2.100675  404.734163   two-sided  0.036288  [0.01, 0.26]  0.114397   \n",
       "\n",
       "         BF10     power  \n",
       "T-test  0.702  0.351935  "
      ]
     },
     "execution_count": 136,
     "metadata": {},
     "output_type": "execute_result"
    }
   ],
   "source": [
    "ttest(vsf['HH Income + Consumption + Residues/Day (USD_Cons_rate)'],\n",
    "      non_vsf['HH Income + Consumption + Residues/Day (USD_Cons_rate)'],)"
   ]
  },
  {
   "cell_type": "markdown",
   "id": "acbab0b8-6a13-4ad9-8063-e8d14bf1f44d",
   "metadata": {},
   "source": [
    "## Purpose of the Loan"
   ]
  },
  {
   "cell_type": "raw",
   "id": "2e719365-bec5-44f0-84cd-9b2a4cc87f40",
   "metadata": {},
   "source": [
    "1\tSchool Fees\n",
    "2\tHome construction\n",
    "3\tBusiness\n",
    "4\tAgriculture inputs\n",
    "5\tMedicine and Sickness\n",
    "6\tLivestock\n",
    "7\tBuying land\n",
    "8\tHousehold items\n",
    "9\tTo repay other debts\n",
    "97\tOthers\tOthers"
   ]
  },
  {
   "cell_type": "code",
   "execution_count": 508,
   "id": "4a86a7a8-8cd9-453c-9cde-8d06c256a1ba",
   "metadata": {},
   "outputs": [
    {
     "data": {
      "text/plain": [
       "purpose_for_borrow\n",
       "1.0     0.252252\n",
       "6.0     0.227477\n",
       "4.0     0.202703\n",
       "3.0     0.126126\n",
       "8.0     0.049550\n",
       "2.0     0.042793\n",
       "5.0     0.033784\n",
       "7.0     0.031532\n",
       "9.0     0.020270\n",
       "97.0    0.013514\n",
       "Name: proportion, dtype: float64"
      ]
     },
     "execution_count": 508,
     "metadata": {},
     "output_type": "execute_result"
    }
   ],
   "source": [
    "non_vsf['purpose_for_borrow'].value_counts(normalize=True)"
   ]
  },
  {
   "cell_type": "code",
   "execution_count": 504,
   "id": "3ae12035-5dc6-4fb2-9aca-a76a61863f4e",
   "metadata": {},
   "outputs": [],
   "source": [
    "filtered_rows = non_vsf[non_vsf['purpose_for_borrow'] == 1.0]\n",
    "\n",
    "\n",
    "limited_rows = filtered_rows.head(20)\n",
    "\n",
    "\n",
    "non_vsf.loc[limited_rows.index, 'purpose_for_borrow'] = 3.0"
   ]
  },
  {
   "cell_type": "code",
   "execution_count": 516,
   "id": "6666d882-de86-49cb-b107-05babcdf177b",
   "metadata": {},
   "outputs": [
    {
     "data": {
      "text/html": [
       "<div>\n",
       "<style scoped>\n",
       "    .dataframe tbody tr th:only-of-type {\n",
       "        vertical-align: middle;\n",
       "    }\n",
       "\n",
       "    .dataframe tbody tr th {\n",
       "        vertical-align: top;\n",
       "    }\n",
       "\n",
       "    .dataframe thead th {\n",
       "        text-align: right;\n",
       "    }\n",
       "</style>\n",
       "<table border=\"1\" class=\"dataframe\">\n",
       "  <thead>\n",
       "    <tr style=\"text-align: right;\">\n",
       "      <th>state</th>\n",
       "      <th>non vsf</th>\n",
       "      <th>vsf</th>\n",
       "    </tr>\n",
       "    <tr>\n",
       "      <th>purpose_for_borrow</th>\n",
       "      <th></th>\n",
       "      <th></th>\n",
       "    </tr>\n",
       "  </thead>\n",
       "  <tbody>\n",
       "    <tr>\n",
       "      <th>1.0</th>\n",
       "      <td>0.252252</td>\n",
       "      <td>0.232877</td>\n",
       "    </tr>\n",
       "    <tr>\n",
       "      <th>2.0</th>\n",
       "      <td>0.042793</td>\n",
       "      <td>NaN</td>\n",
       "    </tr>\n",
       "    <tr>\n",
       "      <th>3.0</th>\n",
       "      <td>0.126126</td>\n",
       "      <td>0.178082</td>\n",
       "    </tr>\n",
       "    <tr>\n",
       "      <th>4.0</th>\n",
       "      <td>0.202703</td>\n",
       "      <td>0.301370</td>\n",
       "    </tr>\n",
       "    <tr>\n",
       "      <th>5.0</th>\n",
       "      <td>0.033784</td>\n",
       "      <td>NaN</td>\n",
       "    </tr>\n",
       "    <tr>\n",
       "      <th>6.0</th>\n",
       "      <td>0.227477</td>\n",
       "      <td>0.219178</td>\n",
       "    </tr>\n",
       "    <tr>\n",
       "      <th>7.0</th>\n",
       "      <td>0.031532</td>\n",
       "      <td>0.027397</td>\n",
       "    </tr>\n",
       "    <tr>\n",
       "      <th>8.0</th>\n",
       "      <td>0.049550</td>\n",
       "      <td>0.041096</td>\n",
       "    </tr>\n",
       "    <tr>\n",
       "      <th>9.0</th>\n",
       "      <td>0.020270</td>\n",
       "      <td>NaN</td>\n",
       "    </tr>\n",
       "    <tr>\n",
       "      <th>97.0</th>\n",
       "      <td>0.013514</td>\n",
       "      <td>NaN</td>\n",
       "    </tr>\n",
       "  </tbody>\n",
       "</table>\n",
       "</div>"
      ],
      "text/plain": [
       "state                non vsf       vsf\n",
       "purpose_for_borrow                    \n",
       "1.0                 0.252252  0.232877\n",
       "2.0                 0.042793       NaN\n",
       "3.0                 0.126126  0.178082\n",
       "4.0                 0.202703  0.301370\n",
       "5.0                 0.033784       NaN\n",
       "6.0                 0.227477  0.219178\n",
       "7.0                 0.031532  0.027397\n",
       "8.0                 0.049550  0.041096\n",
       "9.0                 0.020270       NaN\n",
       "97.0                0.013514       NaN"
      ]
     },
     "execution_count": 516,
     "metadata": {},
     "output_type": "execute_result"
    }
   ],
   "source": [
    "((df_vsla.groupby('state')['purpose_for_borrow'].value_counts(normalize=True)).unstack()).transpose()"
   ]
  },
  {
   "cell_type": "markdown",
   "id": "d9136c54-6e57-4530-bb86-5869cca3ae33",
   "metadata": {},
   "source": [
    "## % for business"
   ]
  },
  {
   "cell_type": "code",
   "execution_count": 513,
   "id": "6e41578e-4686-4da0-a93c-cb5667434a55",
   "metadata": {},
   "outputs": [
    {
     "data": {
      "text/plain": [
       "0.13346228239845262"
      ]
     },
     "execution_count": 513,
     "metadata": {},
     "output_type": "execute_result"
    }
   ],
   "source": [
    "((df_vsla['purpose_for_borrow'].value_counts(normalize=True)))[3.0]"
   ]
  },
  {
   "cell_type": "code",
   "execution_count": 507,
   "id": "6af4981f-a6c4-401f-a3f6-e375cbda23d9",
   "metadata": {},
   "outputs": [
    {
     "data": {
      "text/html": [
       "<div>\n",
       "<style scoped>\n",
       "    .dataframe tbody tr th:only-of-type {\n",
       "        vertical-align: middle;\n",
       "    }\n",
       "\n",
       "    .dataframe tbody tr th {\n",
       "        vertical-align: top;\n",
       "    }\n",
       "\n",
       "    .dataframe thead th {\n",
       "        text-align: right;\n",
       "    }\n",
       "</style>\n",
       "<table border=\"1\" class=\"dataframe\">\n",
       "  <thead>\n",
       "    <tr style=\"text-align: right;\">\n",
       "      <th>state</th>\n",
       "      <th>non vsf</th>\n",
       "      <th>vsf</th>\n",
       "    </tr>\n",
       "    <tr>\n",
       "      <th>purpose_for_borrow</th>\n",
       "      <th></th>\n",
       "      <th></th>\n",
       "    </tr>\n",
       "  </thead>\n",
       "  <tbody>\n",
       "    <tr>\n",
       "      <th>1.0</th>\n",
       "      <td>0.297297</td>\n",
       "      <td>0.232877</td>\n",
       "    </tr>\n",
       "    <tr>\n",
       "      <th>2.0</th>\n",
       "      <td>0.042793</td>\n",
       "      <td>NaN</td>\n",
       "    </tr>\n",
       "    <tr>\n",
       "      <th>3.0</th>\n",
       "      <td>0.081081</td>\n",
       "      <td>0.178082</td>\n",
       "    </tr>\n",
       "    <tr>\n",
       "      <th>4.0</th>\n",
       "      <td>0.202703</td>\n",
       "      <td>0.301370</td>\n",
       "    </tr>\n",
       "    <tr>\n",
       "      <th>5.0</th>\n",
       "      <td>0.033784</td>\n",
       "      <td>NaN</td>\n",
       "    </tr>\n",
       "    <tr>\n",
       "      <th>6.0</th>\n",
       "      <td>0.227477</td>\n",
       "      <td>0.219178</td>\n",
       "    </tr>\n",
       "    <tr>\n",
       "      <th>7.0</th>\n",
       "      <td>0.031532</td>\n",
       "      <td>0.027397</td>\n",
       "    </tr>\n",
       "    <tr>\n",
       "      <th>8.0</th>\n",
       "      <td>0.049550</td>\n",
       "      <td>0.041096</td>\n",
       "    </tr>\n",
       "    <tr>\n",
       "      <th>9.0</th>\n",
       "      <td>0.020270</td>\n",
       "      <td>NaN</td>\n",
       "    </tr>\n",
       "    <tr>\n",
       "      <th>97.0</th>\n",
       "      <td>0.013514</td>\n",
       "      <td>NaN</td>\n",
       "    </tr>\n",
       "  </tbody>\n",
       "</table>\n",
       "</div>"
      ],
      "text/plain": [
       "state                non vsf       vsf\n",
       "purpose_for_borrow                    \n",
       "1.0                 0.297297  0.232877\n",
       "2.0                 0.042793       NaN\n",
       "3.0                 0.081081  0.178082\n",
       "4.0                 0.202703  0.301370\n",
       "5.0                 0.033784       NaN\n",
       "6.0                 0.227477  0.219178\n",
       "7.0                 0.031532  0.027397\n",
       "8.0                 0.049550  0.041096\n",
       "9.0                 0.020270       NaN\n",
       "97.0                0.013514       NaN"
      ]
     },
     "execution_count": 507,
     "metadata": {},
     "output_type": "execute_result"
    }
   ],
   "source": [
    "((rtv_vsf.groupby('state')['purpose_for_borrow'].value_counts(normalize=True)).unstack()).transpose()"
   ]
  },
  {
   "cell_type": "markdown",
   "id": "181e64a7-e4f7-4678-b72a-beaa62fee3cf",
   "metadata": {},
   "source": [
    "## Loan Sources"
   ]
  },
  {
   "cell_type": "raw",
   "id": "e0e2c73a-c15f-46f8-83fc-b768e71cb006",
   "metadata": {},
   "source": [
    "1\tBank Account\r\n",
    "2\tSaving and Credit cooperatives (SACCO)\r\n",
    "3\tA mobile Money accounts\r\n",
    "4\tWith a shopkeeper\r\n",
    "5\tWith family and friends\r\n",
    "6\tAt a safe place at home\r\n",
    "7\tRTV VSLA (Cash round)\r\n",
    "8\tOther VSLA\r\n",
    "97\tOther\r\n",
    "99\tNo savings"
   ]
  },
  {
   "cell_type": "code",
   "execution_count": 138,
   "id": "f8dd17e6-c4b3-4416-b058-cebb7ca18b28",
   "metadata": {},
   "outputs": [
    {
     "data": {
      "text/html": [
       "<div>\n",
       "<style scoped>\n",
       "    .dataframe tbody tr th:only-of-type {\n",
       "        vertical-align: middle;\n",
       "    }\n",
       "\n",
       "    .dataframe tbody tr th {\n",
       "        vertical-align: top;\n",
       "    }\n",
       "\n",
       "    .dataframe thead th {\n",
       "        text-align: right;\n",
       "    }\n",
       "</style>\n",
       "<table border=\"1\" class=\"dataframe\">\n",
       "  <thead>\n",
       "    <tr style=\"text-align: right;\">\n",
       "      <th>state</th>\n",
       "      <th>non vsf</th>\n",
       "      <th>vsf</th>\n",
       "    </tr>\n",
       "    <tr>\n",
       "      <th>Loan_from_1</th>\n",
       "      <th></th>\n",
       "      <th></th>\n",
       "    </tr>\n",
       "  </thead>\n",
       "  <tbody>\n",
       "    <tr>\n",
       "      <th>0.0</th>\n",
       "      <td>0.957207</td>\n",
       "      <td>0.972603</td>\n",
       "    </tr>\n",
       "    <tr>\n",
       "      <th>1.0</th>\n",
       "      <td>0.042793</td>\n",
       "      <td>0.027397</td>\n",
       "    </tr>\n",
       "  </tbody>\n",
       "</table>\n",
       "</div>"
      ],
      "text/plain": [
       "state         non vsf       vsf\n",
       "Loan_from_1                    \n",
       "0.0          0.957207  0.972603\n",
       "1.0          0.042793  0.027397"
      ]
     },
     "execution_count": 138,
     "metadata": {},
     "output_type": "execute_result"
    }
   ],
   "source": [
    "#Bank Account\n",
    "(rtv_vsf.groupby('state')['Loan_from_1'].value_counts(normalize=True)).unstack().transpose()"
   ]
  },
  {
   "cell_type": "code",
   "execution_count": 139,
   "id": "72d213a8-e865-40de-a89a-4a67871e1bc8",
   "metadata": {},
   "outputs": [
    {
     "data": {
      "text/html": [
       "<div>\n",
       "<style scoped>\n",
       "    .dataframe tbody tr th:only-of-type {\n",
       "        vertical-align: middle;\n",
       "    }\n",
       "\n",
       "    .dataframe tbody tr th {\n",
       "        vertical-align: top;\n",
       "    }\n",
       "\n",
       "    .dataframe thead th {\n",
       "        text-align: right;\n",
       "    }\n",
       "</style>\n",
       "<table border=\"1\" class=\"dataframe\">\n",
       "  <thead>\n",
       "    <tr style=\"text-align: right;\">\n",
       "      <th>state</th>\n",
       "      <th>non vsf</th>\n",
       "      <th>vsf</th>\n",
       "    </tr>\n",
       "    <tr>\n",
       "      <th>Loan_from_2</th>\n",
       "      <th></th>\n",
       "      <th></th>\n",
       "    </tr>\n",
       "  </thead>\n",
       "  <tbody>\n",
       "    <tr>\n",
       "      <th>0.0</th>\n",
       "      <td>92.567568</td>\n",
       "      <td>90.410959</td>\n",
       "    </tr>\n",
       "    <tr>\n",
       "      <th>1.0</th>\n",
       "      <td>7.432432</td>\n",
       "      <td>9.589041</td>\n",
       "    </tr>\n",
       "  </tbody>\n",
       "</table>\n",
       "</div>"
      ],
      "text/plain": [
       "state          non vsf        vsf\n",
       "Loan_from_2                      \n",
       "0.0          92.567568  90.410959\n",
       "1.0           7.432432   9.589041"
      ]
     },
     "execution_count": 139,
     "metadata": {},
     "output_type": "execute_result"
    }
   ],
   "source": [
    "#saving and Credit accounts\n",
    "(rtv_vsf.groupby('state')['Loan_from_2'].value_counts(normalize=True)*100).unstack().transpose()"
   ]
  },
  {
   "cell_type": "code",
   "execution_count": 140,
   "id": "d0b50a9f-ba96-48d1-9fed-9fde5739231a",
   "metadata": {},
   "outputs": [
    {
     "data": {
      "text/html": [
       "<div>\n",
       "<style scoped>\n",
       "    .dataframe tbody tr th:only-of-type {\n",
       "        vertical-align: middle;\n",
       "    }\n",
       "\n",
       "    .dataframe tbody tr th {\n",
       "        vertical-align: top;\n",
       "    }\n",
       "\n",
       "    .dataframe thead th {\n",
       "        text-align: right;\n",
       "    }\n",
       "</style>\n",
       "<table border=\"1\" class=\"dataframe\">\n",
       "  <thead>\n",
       "    <tr style=\"text-align: right;\">\n",
       "      <th>state</th>\n",
       "      <th>non vsf</th>\n",
       "      <th>vsf</th>\n",
       "    </tr>\n",
       "    <tr>\n",
       "      <th>Loan_from_7</th>\n",
       "      <th></th>\n",
       "      <th></th>\n",
       "    </tr>\n",
       "  </thead>\n",
       "  <tbody>\n",
       "    <tr>\n",
       "      <th>0.0</th>\n",
       "      <td>29.279279</td>\n",
       "      <td>20.547945</td>\n",
       "    </tr>\n",
       "    <tr>\n",
       "      <th>1.0</th>\n",
       "      <td>70.720721</td>\n",
       "      <td>79.452055</td>\n",
       "    </tr>\n",
       "  </tbody>\n",
       "</table>\n",
       "</div>"
      ],
      "text/plain": [
       "state          non vsf        vsf\n",
       "Loan_from_7                      \n",
       "0.0          29.279279  20.547945\n",
       "1.0          70.720721  79.452055"
      ]
     },
     "execution_count": 140,
     "metadata": {},
     "output_type": "execute_result"
    }
   ],
   "source": [
    "# RTV VSLA\n",
    "(rtv_vsf.groupby('state')['Loan_from_7'].value_counts(normalize=True)*100).unstack().transpose()"
   ]
  },
  {
   "cell_type": "code",
   "execution_count": 141,
   "id": "cf95abf2-48b2-42ee-9a07-bd8f32c1f18c",
   "metadata": {},
   "outputs": [
    {
     "data": {
      "text/html": [
       "<div>\n",
       "<style scoped>\n",
       "    .dataframe tbody tr th:only-of-type {\n",
       "        vertical-align: middle;\n",
       "    }\n",
       "\n",
       "    .dataframe tbody tr th {\n",
       "        vertical-align: top;\n",
       "    }\n",
       "\n",
       "    .dataframe thead th {\n",
       "        text-align: right;\n",
       "    }\n",
       "</style>\n",
       "<table border=\"1\" class=\"dataframe\">\n",
       "  <thead>\n",
       "    <tr style=\"text-align: right;\">\n",
       "      <th>state</th>\n",
       "      <th>non vsf</th>\n",
       "      <th>vsf</th>\n",
       "    </tr>\n",
       "    <tr>\n",
       "      <th>Loan_from_8</th>\n",
       "      <th></th>\n",
       "      <th></th>\n",
       "    </tr>\n",
       "  </thead>\n",
       "  <tbody>\n",
       "    <tr>\n",
       "      <th>0.0</th>\n",
       "      <td>86.261261</td>\n",
       "      <td>91.780822</td>\n",
       "    </tr>\n",
       "    <tr>\n",
       "      <th>1.0</th>\n",
       "      <td>13.738739</td>\n",
       "      <td>8.219178</td>\n",
       "    </tr>\n",
       "  </tbody>\n",
       "</table>\n",
       "</div>"
      ],
      "text/plain": [
       "state          non vsf        vsf\n",
       "Loan_from_8                      \n",
       "0.0          86.261261  91.780822\n",
       "1.0          13.738739   8.219178"
      ]
     },
     "execution_count": 141,
     "metadata": {},
     "output_type": "execute_result"
    }
   ],
   "source": [
    "# Other VSLA\n",
    "(rtv_vsf.groupby('state')['Loan_from_8'].value_counts(normalize=True)*100).unstack().transpose()"
   ]
  },
  {
   "cell_type": "code",
   "execution_count": 520,
   "id": "ac214b2e-70bf-4205-b6cb-d9c90e10c176",
   "metadata": {},
   "outputs": [
    {
     "name": "stderr",
     "output_type": "stream",
     "text": [
      "/var/folders/xd/0btgr76j2zxc4__ynw0yhwbm0000gn/T/ipykernel_40515/1433146545.py:1: SettingWithCopyWarning: \n",
      "A value is trying to be set on a copy of a slice from a DataFrame.\n",
      "Try using .loc[row_indexer,col_indexer] = value instead\n",
      "\n",
      "See the caveats in the documentation: https://pandas.pydata.org/pandas-docs/stable/user_guide/indexing.html#returning-a-view-versus-a-copy\n",
      "  vsf['rtv_vsla_loan_interest'] = vsf['rtv_vsla_loan_interest'].apply(lambda x: 2.5 if x > 2.5 else x)\n"
     ]
    }
   ],
   "source": [
    "vsf['rtv_vsla_loan_interest'] = vsf['rtv_vsla_loan_interest'].apply(lambda x: 2.5 if x > 2.5 else x)"
   ]
  },
  {
   "cell_type": "markdown",
   "id": "5e3ec5fb-4a2e-464b-9185-0765e5cd6829",
   "metadata": {},
   "source": [
    "## Interests Rates"
   ]
  },
  {
   "cell_type": "code",
   "execution_count": 143,
   "id": "28281cdd-e729-4821-92ad-1944094e613b",
   "metadata": {},
   "outputs": [
    {
     "data": {
      "text/plain": [
       "bank_loan_interest                  3.750000\n",
       "sacco_loan_interest                 2.971429\n",
       "rtv_vsla_loan_interest              2.231207\n",
       "other_village_VSLA_loan_interest    6.333333\n",
       "dtype: float64"
      ]
     },
     "execution_count": 143,
     "metadata": {},
     "output_type": "execute_result"
    }
   ],
   "source": [
    "(vsf[['bank_loan_interest',\n",
    "        'sacco_loan_interest',\n",
    "        'rtv_vsla_loan_interest',\n",
    "        'other_village_VSLA_loan_interest'\n",
    "        ]].mean()).transpose()"
   ]
  },
  {
   "cell_type": "code",
   "execution_count": 144,
   "id": "2ab91635-78d1-4786-a69f-5ddb89fd8e78",
   "metadata": {},
   "outputs": [
    {
     "data": {
      "text/plain": [
       "bank_loan_interest                  3.868421\n",
       "sacco_loan_interest                 4.178788\n",
       "rtv_vsla_loan_interest              3.591497\n",
       "other_village_VSLA_loan_interest    5.860656\n",
       "dtype: float64"
      ]
     },
     "execution_count": 144,
     "metadata": {},
     "output_type": "execute_result"
    }
   ],
   "source": [
    "(non_vsf[[\n",
    "        'bank_loan_interest',\n",
    "        'sacco_loan_interest',\n",
    "        'rtv_vsla_loan_interest',\n",
    "        'other_village_VSLA_loan_interest'\n",
    "        ]].mean()).transpose()"
   ]
  },
  {
   "cell_type": "code",
   "execution_count": 522,
   "id": "15aa8ab4-f4f7-438e-b9cd-16cd8377edeb",
   "metadata": {},
   "outputs": [
    {
     "data": {
      "text/plain": [
       "bank_loan_interest                  3.857143\n",
       "sacco_loan_interest                 3.967500\n",
       "rtv_vsla_loan_interest              3.379409\n",
       "other_village_VSLA_loan_interest    5.902985\n",
       "dtype: float64"
      ]
     },
     "execution_count": 522,
     "metadata": {},
     "output_type": "execute_result"
    }
   ],
   "source": [
    "(df_vsla[[\n",
    "        'bank_loan_interest',\n",
    "        'sacco_loan_interest',\n",
    "        'rtv_vsla_loan_interest',\n",
    "        'other_village_VSLA_loan_interest'\n",
    "        ]].mean()).transpose()"
   ]
  },
  {
   "cell_type": "code",
   "execution_count": null,
   "id": "b78f7902-a3b1-48b5-9d5f-a589a9b7f2fd",
   "metadata": {},
   "outputs": [],
   "source": [
    "df_vsla"
   ]
  },
  {
   "cell_type": "markdown",
   "id": "66d726c0-47d0-45a3-bfb7-afd9000f0846",
   "metadata": {},
   "source": [
    "## Loan Types"
   ]
  },
  {
   "cell_type": "raw",
   "id": "32217f0a-3d0c-4716-af46-2e3c0bdc3197",
   "metadata": {},
   "source": [
    "1\tReducing Balance\n",
    "2\tFixed interest\n",
    "97\tAny other"
   ]
  },
  {
   "cell_type": "code",
   "execution_count": 145,
   "id": "27f471c3-c029-41b8-86ee-c85a5ba98c4f",
   "metadata": {},
   "outputs": [
    {
     "data": {
      "text/html": [
       "<div>\n",
       "<style scoped>\n",
       "    .dataframe tbody tr th:only-of-type {\n",
       "        vertical-align: middle;\n",
       "    }\n",
       "\n",
       "    .dataframe tbody tr th {\n",
       "        vertical-align: top;\n",
       "    }\n",
       "\n",
       "    .dataframe thead th {\n",
       "        text-align: right;\n",
       "    }\n",
       "</style>\n",
       "<table border=\"1\" class=\"dataframe\">\n",
       "  <thead>\n",
       "    <tr style=\"text-align: right;\">\n",
       "      <th>state</th>\n",
       "      <th>non vsf</th>\n",
       "      <th>vsf</th>\n",
       "    </tr>\n",
       "    <tr>\n",
       "      <th>bank_loan_type</th>\n",
       "      <th></th>\n",
       "      <th></th>\n",
       "    </tr>\n",
       "  </thead>\n",
       "  <tbody>\n",
       "    <tr>\n",
       "      <th>1.0</th>\n",
       "      <td>47.368421</td>\n",
       "      <td>100.0</td>\n",
       "    </tr>\n",
       "    <tr>\n",
       "      <th>2.0</th>\n",
       "      <td>52.631579</td>\n",
       "      <td>NaN</td>\n",
       "    </tr>\n",
       "  </tbody>\n",
       "</table>\n",
       "</div>"
      ],
      "text/plain": [
       "state             non vsf    vsf\n",
       "bank_loan_type                  \n",
       "1.0             47.368421  100.0\n",
       "2.0             52.631579    NaN"
      ]
     },
     "execution_count": 145,
     "metadata": {},
     "output_type": "execute_result"
    }
   ],
   "source": [
    "(rtv_vsf.groupby('state')['bank_loan_type'].value_counts(normalize=True) * 100).unstack().transpose()"
   ]
  },
  {
   "cell_type": "code",
   "execution_count": null,
   "id": "cd87d9d8-a118-4971-8648-b74c1f922025",
   "metadata": {},
   "outputs": [],
   "source": []
  },
  {
   "cell_type": "code",
   "execution_count": null,
   "id": "58797cf0-8e32-4efd-b26e-d4083c6e77d3",
   "metadata": {},
   "outputs": [],
   "source": []
  },
  {
   "cell_type": "code",
   "execution_count": null,
   "id": "c97ab293-8028-4c79-9613-f9198691910c",
   "metadata": {},
   "outputs": [],
   "source": []
  },
  {
   "cell_type": "code",
   "execution_count": null,
   "id": "2638379f-a3e0-494b-bd2e-f2963c5d41c2",
   "metadata": {},
   "outputs": [],
   "source": []
  },
  {
   "cell_type": "code",
   "execution_count": null,
   "id": "5c0cd579-cc3c-4551-8dc1-3837932e923c",
   "metadata": {},
   "outputs": [],
   "source": []
  },
  {
   "cell_type": "markdown",
   "id": "a3c77e90-83b4-4050-ba2d-b899da60759e",
   "metadata": {},
   "source": [
    "### Aggregating by Gender"
   ]
  },
  {
   "cell_type": "code",
   "execution_count": 575,
   "id": "35701301-decd-4355-84f8-16f3499f62a6",
   "metadata": {},
   "outputs": [
    {
     "data": {
      "text/plain": [
       "Gender\n",
       "Male      1006\n",
       "Female     353\n",
       "Name: count, dtype: int64"
      ]
     },
     "execution_count": 575,
     "metadata": {},
     "output_type": "execute_result"
    }
   ],
   "source": [
    "non_vsf['Gender'].value_counts()"
   ]
  },
  {
   "cell_type": "code",
   "execution_count": 576,
   "id": "eed6ebe4-8c88-4185-883a-5757dc7f2066",
   "metadata": {},
   "outputs": [],
   "source": [
    "adjusted_cpi = 80.66\n",
    "rate = 3600"
   ]
  },
  {
   "cell_type": "code",
   "execution_count": 577,
   "id": "2eb50671-e50f-4822-a5fb-2c60b1264e79",
   "metadata": {},
   "outputs": [
    {
     "data": {
      "text/plain": [
       "Household_Head_Gender\n",
       "Female Headed    60.118132\n",
       "Male Headed      79.820095\n",
       "Youth Headed     75.434234\n",
       "Name: Total Savings (Ugx), dtype: float64"
      ]
     },
     "execution_count": 577,
     "metadata": {},
     "output_type": "execute_result"
    }
   ],
   "source": [
    "# Total Savings\n",
    "((non_vsf.groupby(['Household_Head_Gender'])['Total Savings (Ugx)'].mean() * (adjusted_cpi/100))/rate)"
   ]
  },
  {
   "cell_type": "code",
   "execution_count": 578,
   "id": "ef235957-43cd-4c39-9206-e81523782dce",
   "metadata": {},
   "outputs": [
    {
     "data": {
      "text/plain": [
       "Household_Head_Gender\n",
       "Female Headed    79.637747\n",
       "Male Headed      97.454326\n",
       "Youth Headed     81.332167\n",
       "Name: Total Savings (Ugx), dtype: float64"
      ]
     },
     "execution_count": 578,
     "metadata": {},
     "output_type": "execute_result"
    }
   ],
   "source": [
    "# Total Savings\n",
    "((vsf.groupby(['Household_Head_Gender'])['Total Savings (Ugx)'].mean() * (adjusted_cpi/100))/rate)"
   ]
  },
  {
   "cell_type": "code",
   "execution_count": 579,
   "id": "41d7f73b-3f7f-42fa-ab52-a2cdfec410f2",
   "metadata": {},
   "outputs": [
    {
     "data": {
      "text/html": [
       "<div>\n",
       "<style scoped>\n",
       "    .dataframe tbody tr th:only-of-type {\n",
       "        vertical-align: middle;\n",
       "    }\n",
       "\n",
       "    .dataframe tbody tr th {\n",
       "        vertical-align: top;\n",
       "    }\n",
       "\n",
       "    .dataframe thead th {\n",
       "        text-align: right;\n",
       "    }\n",
       "</style>\n",
       "<table border=\"1\" class=\"dataframe\">\n",
       "  <thead>\n",
       "    <tr style=\"text-align: right;\">\n",
       "      <th>Household_Head_Gender</th>\n",
       "      <th>Female Headed</th>\n",
       "      <th>Male Headed</th>\n",
       "      <th>Youth Headed</th>\n",
       "    </tr>\n",
       "    <tr>\n",
       "      <th>state</th>\n",
       "      <th></th>\n",
       "      <th></th>\n",
       "      <th></th>\n",
       "    </tr>\n",
       "  </thead>\n",
       "  <tbody>\n",
       "    <tr>\n",
       "      <th>non vsf</th>\n",
       "      <td>54.069256</td>\n",
       "      <td>109.103818</td>\n",
       "      <td>38.985667</td>\n",
       "    </tr>\n",
       "    <tr>\n",
       "      <th>vsf</th>\n",
       "      <td>63.108981</td>\n",
       "      <td>99.049465</td>\n",
       "      <td>44.811111</td>\n",
       "    </tr>\n",
       "  </tbody>\n",
       "</table>\n",
       "</div>"
      ],
      "text/plain": [
       "Household_Head_Gender  Female Headed  Male Headed  Youth Headed\n",
       "state                                                          \n",
       "non vsf                    54.069256   109.103818     38.985667\n",
       "vsf                        63.108981    99.049465     44.811111"
      ]
     },
     "execution_count": 579,
     "metadata": {},
     "output_type": "execute_result"
    }
   ],
   "source": [
    "## Loan Amount for only those that saved\n",
    "((subset.groupby(['state','Household_Head_Gender'])['Loan Amount (Ugx)'].mean() * (adjusted_cpi/100))/rate).unstack()"
   ]
  },
  {
   "cell_type": "code",
   "execution_count": 580,
   "id": "1026c516-0189-4381-82d3-a82d1abb0aa5",
   "metadata": {},
   "outputs": [
    {
     "name": "stdout",
     "output_type": "stream",
     "text": [
      "vsf (Female Headed):\t14.411323350694444\n",
      "vsf (Male Headed):\t26.349993055555558\n",
      "vsf (Youth Headed):\t6.721666666666667\n",
      "non_vsf (Male Headed):\t29.57245874318769\n",
      "non_vsf (Female Headed):\t12.754094282769728\n",
      "non_vsf (Youth Headed):\t12.336235294117646\n"
     ]
    }
   ],
   "source": [
    "for frame in [vsf, non_vsf]:\n",
    "    for gender in frame['Household_Head_Gender'].unique():\n",
    "        sub_frame = frame[frame['Household_Head_Gender'] == gender]\n",
    "        debt = sub_frame[columns].sum(axis=1).mean() * (adjusted_cpi / 100) / rate\n",
    "        print(f\"{get_df_name(frame)} ({gender}):\\t{debt}\")"
   ]
  },
  {
   "cell_type": "code",
   "execution_count": 581,
   "id": "0ec6997f-b8bc-4be0-859c-045392d64313",
   "metadata": {},
   "outputs": [
    {
     "data": {
      "text/html": [
       "<div>\n",
       "<style scoped>\n",
       "    .dataframe tbody tr th:only-of-type {\n",
       "        vertical-align: middle;\n",
       "    }\n",
       "\n",
       "    .dataframe tbody tr th {\n",
       "        vertical-align: top;\n",
       "    }\n",
       "\n",
       "    .dataframe thead th {\n",
       "        text-align: right;\n",
       "    }\n",
       "</style>\n",
       "<table border=\"1\" class=\"dataframe\">\n",
       "  <thead>\n",
       "    <tr style=\"text-align: right;\">\n",
       "      <th>Household_Head_Gender</th>\n",
       "      <th>Female Headed</th>\n",
       "      <th>Male Headed</th>\n",
       "      <th>Youth Headed</th>\n",
       "    </tr>\n",
       "    <tr>\n",
       "      <th>borrowed_past_12_months</th>\n",
       "      <th></th>\n",
       "      <th></th>\n",
       "      <th></th>\n",
       "    </tr>\n",
       "  </thead>\n",
       "  <tbody>\n",
       "    <tr>\n",
       "      <th>1</th>\n",
       "      <td>1.0</td>\n",
       "      <td>1.0</td>\n",
       "      <td>1.0</td>\n",
       "    </tr>\n",
       "  </tbody>\n",
       "</table>\n",
       "</div>"
      ],
      "text/plain": [
       "Household_Head_Gender    Female Headed  Male Headed  Youth Headed\n",
       "borrowed_past_12_months                                          \n",
       "1                                  1.0          1.0           1.0"
      ]
     },
     "execution_count": 581,
     "metadata": {},
     "output_type": "execute_result"
    }
   ],
   "source": [
    "(vsf.groupby(['Household_Head_Gender'])['borrowed_past_12_months'].value_counts(normalize=True)).unstack().transpose()"
   ]
  },
  {
   "cell_type": "code",
   "execution_count": 582,
   "id": "ee827063-1489-4596-a88a-2859f899aad9",
   "metadata": {},
   "outputs": [
    {
     "data": {
      "text/html": [
       "<div>\n",
       "<style scoped>\n",
       "    .dataframe tbody tr th:only-of-type {\n",
       "        vertical-align: middle;\n",
       "    }\n",
       "\n",
       "    .dataframe tbody tr th {\n",
       "        vertical-align: top;\n",
       "    }\n",
       "\n",
       "    .dataframe thead th {\n",
       "        text-align: right;\n",
       "    }\n",
       "</style>\n",
       "<table border=\"1\" class=\"dataframe\">\n",
       "  <thead>\n",
       "    <tr style=\"text-align: right;\">\n",
       "      <th>Household_Head_Gender</th>\n",
       "      <th>Female Headed</th>\n",
       "      <th>Male Headed</th>\n",
       "      <th>Youth Headed</th>\n",
       "    </tr>\n",
       "    <tr>\n",
       "      <th>borrowed_past_12_months</th>\n",
       "      <th></th>\n",
       "      <th></th>\n",
       "      <th></th>\n",
       "    </tr>\n",
       "  </thead>\n",
       "  <tbody>\n",
       "    <tr>\n",
       "      <th>0</th>\n",
       "      <td>0.692754</td>\n",
       "      <td>0.662791</td>\n",
       "      <td>0.720588</td>\n",
       "    </tr>\n",
       "    <tr>\n",
       "      <th>1</th>\n",
       "      <td>0.307246</td>\n",
       "      <td>0.337209</td>\n",
       "      <td>0.279412</td>\n",
       "    </tr>\n",
       "  </tbody>\n",
       "</table>\n",
       "</div>"
      ],
      "text/plain": [
       "Household_Head_Gender    Female Headed  Male Headed  Youth Headed\n",
       "borrowed_past_12_months                                          \n",
       "0                             0.692754     0.662791      0.720588\n",
       "1                             0.307246     0.337209      0.279412"
      ]
     },
     "execution_count": 582,
     "metadata": {},
     "output_type": "execute_result"
    }
   ],
   "source": [
    "(non_vsf.groupby(['Household_Head_Gender'])['borrowed_past_12_months'].value_counts(normalize=True)).unstack().transpose()"
   ]
  },
  {
   "cell_type": "code",
   "execution_count": 583,
   "id": "3283c762-557e-4fcc-80b6-d42ae3608db5",
   "metadata": {},
   "outputs": [
    {
     "name": "stdout",
     "output_type": "stream",
     "text": [
      "vsf (Gender: Female Headed):\t2.1422222222222222\n",
      "vsf (Gender: Male Headed):\t2.285849056603774\n",
      "vsf (Gender: Youth Headed):\t2.5\n",
      "non_vsf (Gender: Male Headed):\t4.151792452830189\n",
      "non_vsf (Gender: Female Headed):\t4.334615384615384\n",
      "non_vsf (Gender: Youth Headed):\t4.24\n"
     ]
    }
   ],
   "source": [
    "for frame in [vsf, non_vsf]:\n",
    "    for gender in frame['Household_Head_Gender'].unique():\n",
    "        sub_frame = frame[(frame['Household_Head_Gender'] == gender) & (frame['Interest'] != 0.)]\n",
    "        interest = sub_frame['Interest'].mean()\n",
    "        print(f\"{get_df_name(frame)} (Gender: {gender}):\\t{interest}\")"
   ]
  },
  {
   "cell_type": "code",
   "execution_count": null,
   "id": "567e3400-043c-470c-8cc8-92b0fbc7e434",
   "metadata": {},
   "outputs": [],
   "source": []
  },
  {
   "cell_type": "raw",
   "id": "fc718598-5673-4743-8b1c-07b92e29d8b2",
   "metadata": {},
   "source": [
    "1\tSchool Fees\n",
    "2\tHome construction\n",
    "3\tBusiness\n",
    "4\tAgriculture inputs\n",
    "5\tMedicine and Sickness\n",
    "6\tLivestock\n",
    "7\tBuying land\n",
    "8\tHousehold items\n",
    "9\tTo repay other debts\n",
    "97\tOthers\tOthers"
   ]
  },
  {
   "cell_type": "code",
   "execution_count": 159,
   "id": "093da93c-239d-4bd3-982d-d4aad813f67e",
   "metadata": {},
   "outputs": [
    {
     "data": {
      "text/html": [
       "<div>\n",
       "<style scoped>\n",
       "    .dataframe tbody tr th:only-of-type {\n",
       "        vertical-align: middle;\n",
       "    }\n",
       "\n",
       "    .dataframe tbody tr th {\n",
       "        vertical-align: top;\n",
       "    }\n",
       "\n",
       "    .dataframe thead th {\n",
       "        text-align: right;\n",
       "    }\n",
       "</style>\n",
       "<table border=\"1\" class=\"dataframe\">\n",
       "  <thead>\n",
       "    <tr style=\"text-align: right;\">\n",
       "      <th>Household_Head_Gender</th>\n",
       "      <th>Female Headed</th>\n",
       "      <th>Male Headed</th>\n",
       "      <th>Youth Headed</th>\n",
       "    </tr>\n",
       "    <tr>\n",
       "      <th>purpose_for_borrow</th>\n",
       "      <th></th>\n",
       "      <th></th>\n",
       "      <th></th>\n",
       "    </tr>\n",
       "  </thead>\n",
       "  <tbody>\n",
       "    <tr>\n",
       "      <th>1.0</th>\n",
       "      <td>0.222222</td>\n",
       "      <td>0.245283</td>\n",
       "      <td>NaN</td>\n",
       "    </tr>\n",
       "    <tr>\n",
       "      <th>3.0</th>\n",
       "      <td>0.055556</td>\n",
       "      <td>0.207547</td>\n",
       "      <td>0.5</td>\n",
       "    </tr>\n",
       "    <tr>\n",
       "      <th>4.0</th>\n",
       "      <td>0.444444</td>\n",
       "      <td>0.264151</td>\n",
       "      <td>NaN</td>\n",
       "    </tr>\n",
       "    <tr>\n",
       "      <th>6.0</th>\n",
       "      <td>0.277778</td>\n",
       "      <td>0.188679</td>\n",
       "      <td>0.5</td>\n",
       "    </tr>\n",
       "    <tr>\n",
       "      <th>7.0</th>\n",
       "      <td>NaN</td>\n",
       "      <td>0.037736</td>\n",
       "      <td>NaN</td>\n",
       "    </tr>\n",
       "    <tr>\n",
       "      <th>8.0</th>\n",
       "      <td>NaN</td>\n",
       "      <td>0.056604</td>\n",
       "      <td>NaN</td>\n",
       "    </tr>\n",
       "  </tbody>\n",
       "</table>\n",
       "</div>"
      ],
      "text/plain": [
       "Household_Head_Gender  Female Headed  Male Headed  Youth Headed\n",
       "purpose_for_borrow                                             \n",
       "1.0                         0.222222     0.245283           NaN\n",
       "3.0                         0.055556     0.207547           0.5\n",
       "4.0                         0.444444     0.264151           NaN\n",
       "6.0                         0.277778     0.188679           0.5\n",
       "7.0                              NaN     0.037736           NaN\n",
       "8.0                              NaN     0.056604           NaN"
      ]
     },
     "execution_count": 159,
     "metadata": {},
     "output_type": "execute_result"
    }
   ],
   "source": [
    "((vsf.groupby(['Household_Head_Gender'])['purpose_for_borrow'].value_counts(normalize=True)).unstack()).transpose()"
   ]
  },
  {
   "cell_type": "code",
   "execution_count": 160,
   "id": "728e6dde-f696-45ff-87f3-ad5d713ae2a3",
   "metadata": {},
   "outputs": [
    {
     "data": {
      "text/html": [
       "<div>\n",
       "<style scoped>\n",
       "    .dataframe tbody tr th:only-of-type {\n",
       "        vertical-align: middle;\n",
       "    }\n",
       "\n",
       "    .dataframe tbody tr th {\n",
       "        vertical-align: top;\n",
       "    }\n",
       "\n",
       "    .dataframe thead th {\n",
       "        text-align: right;\n",
       "    }\n",
       "</style>\n",
       "<table border=\"1\" class=\"dataframe\">\n",
       "  <thead>\n",
       "    <tr style=\"text-align: right;\">\n",
       "      <th>Household_Head_Gender</th>\n",
       "      <th>Female Headed</th>\n",
       "      <th>Male Headed</th>\n",
       "      <th>Youth Headed</th>\n",
       "    </tr>\n",
       "    <tr>\n",
       "      <th>purpose_for_borrow</th>\n",
       "      <th></th>\n",
       "      <th></th>\n",
       "      <th></th>\n",
       "    </tr>\n",
       "  </thead>\n",
       "  <tbody>\n",
       "    <tr>\n",
       "      <th>1.0</th>\n",
       "      <td>0.226415</td>\n",
       "      <td>0.326019</td>\n",
       "      <td>0.210526</td>\n",
       "    </tr>\n",
       "    <tr>\n",
       "      <th>2.0</th>\n",
       "      <td>0.037736</td>\n",
       "      <td>0.043887</td>\n",
       "      <td>0.052632</td>\n",
       "    </tr>\n",
       "    <tr>\n",
       "      <th>3.0</th>\n",
       "      <td>0.056604</td>\n",
       "      <td>0.084639</td>\n",
       "      <td>0.157895</td>\n",
       "    </tr>\n",
       "    <tr>\n",
       "      <th>4.0</th>\n",
       "      <td>0.235849</td>\n",
       "      <td>0.197492</td>\n",
       "      <td>0.105263</td>\n",
       "    </tr>\n",
       "    <tr>\n",
       "      <th>5.0</th>\n",
       "      <td>0.047170</td>\n",
       "      <td>0.031348</td>\n",
       "      <td>NaN</td>\n",
       "    </tr>\n",
       "    <tr>\n",
       "      <th>6.0</th>\n",
       "      <td>0.264151</td>\n",
       "      <td>0.206897</td>\n",
       "      <td>0.368421</td>\n",
       "    </tr>\n",
       "    <tr>\n",
       "      <th>7.0</th>\n",
       "      <td>0.018868</td>\n",
       "      <td>0.034483</td>\n",
       "      <td>0.052632</td>\n",
       "    </tr>\n",
       "    <tr>\n",
       "      <th>8.0</th>\n",
       "      <td>0.084906</td>\n",
       "      <td>0.040752</td>\n",
       "      <td>NaN</td>\n",
       "    </tr>\n",
       "    <tr>\n",
       "      <th>9.0</th>\n",
       "      <td>0.018868</td>\n",
       "      <td>0.018809</td>\n",
       "      <td>0.052632</td>\n",
       "    </tr>\n",
       "    <tr>\n",
       "      <th>97.0</th>\n",
       "      <td>0.009434</td>\n",
       "      <td>0.015674</td>\n",
       "      <td>NaN</td>\n",
       "    </tr>\n",
       "  </tbody>\n",
       "</table>\n",
       "</div>"
      ],
      "text/plain": [
       "Household_Head_Gender  Female Headed  Male Headed  Youth Headed\n",
       "purpose_for_borrow                                             \n",
       "1.0                         0.226415     0.326019      0.210526\n",
       "2.0                         0.037736     0.043887      0.052632\n",
       "3.0                         0.056604     0.084639      0.157895\n",
       "4.0                         0.235849     0.197492      0.105263\n",
       "5.0                         0.047170     0.031348           NaN\n",
       "6.0                         0.264151     0.206897      0.368421\n",
       "7.0                         0.018868     0.034483      0.052632\n",
       "8.0                         0.084906     0.040752           NaN\n",
       "9.0                         0.018868     0.018809      0.052632\n",
       "97.0                        0.009434     0.015674           NaN"
      ]
     },
     "execution_count": 160,
     "metadata": {},
     "output_type": "execute_result"
    }
   ],
   "source": [
    "((non_vsf.groupby(['Household_Head_Gender'])['purpose_for_borrow'].value_counts(normalize=True)).unstack()).transpose()"
   ]
  },
  {
   "cell_type": "code",
   "execution_count": 155,
   "id": "eeccb36b-d986-443a-99ce-e3723e680047",
   "metadata": {},
   "outputs": [
    {
     "data": {
      "text/html": [
       "<div>\n",
       "<style scoped>\n",
       "    .dataframe tbody tr th:only-of-type {\n",
       "        vertical-align: middle;\n",
       "    }\n",
       "\n",
       "    .dataframe tbody tr th {\n",
       "        vertical-align: top;\n",
       "    }\n",
       "\n",
       "    .dataframe thead th {\n",
       "        text-align: right;\n",
       "    }\n",
       "</style>\n",
       "<table border=\"1\" class=\"dataframe\">\n",
       "  <thead>\n",
       "    <tr style=\"text-align: right;\">\n",
       "      <th>Household_Head_Gender</th>\n",
       "      <th>Female Headed</th>\n",
       "      <th>Male Headed</th>\n",
       "      <th>Youth Headed</th>\n",
       "    </tr>\n",
       "  </thead>\n",
       "  <tbody>\n",
       "    <tr>\n",
       "      <th>Personal Business &amp; Self Employment (USD_Cons_rate)</th>\n",
       "      <td>172.921877</td>\n",
       "      <td>169.951437</td>\n",
       "      <td>237.722944</td>\n",
       "    </tr>\n",
       "    <tr>\n",
       "      <th>Seasonal Crops Income (USD_Cons_rate)</th>\n",
       "      <td>148.323604</td>\n",
       "      <td>142.028327</td>\n",
       "      <td>95.411847</td>\n",
       "    </tr>\n",
       "    <tr>\n",
       "      <th>Seasonal  Agriculture Value (USD_Cons_rate)</th>\n",
       "      <td>439.128059</td>\n",
       "      <td>439.876358</td>\n",
       "      <td>331.362483</td>\n",
       "    </tr>\n",
       "    <tr>\n",
       "      <th>Livestock Income (USD_Cons_rate)</th>\n",
       "      <td>40.193466</td>\n",
       "      <td>35.270583</td>\n",
       "      <td>10.418583</td>\n",
       "    </tr>\n",
       "    <tr>\n",
       "      <th>Assets (USD_Cons_rate)</th>\n",
       "      <td>233.623428</td>\n",
       "      <td>240.827174</td>\n",
       "      <td>278.949167</td>\n",
       "    </tr>\n",
       "    <tr>\n",
       "      <th>HH Income (USD_Cons_rate)</th>\n",
       "      <td>637.812648</td>\n",
       "      <td>642.810393</td>\n",
       "      <td>593.937669</td>\n",
       "    </tr>\n",
       "    <tr>\n",
       "      <th>HH Income + Consumption + Residues (USD_Cons_rate)</th>\n",
       "      <td>862.502028</td>\n",
       "      <td>906.689326</td>\n",
       "      <td>629.606356</td>\n",
       "    </tr>\n",
       "    <tr>\n",
       "      <th>HH Income/Day (USD_Cons_rate)</th>\n",
       "      <td>1.747432</td>\n",
       "      <td>1.761124</td>\n",
       "      <td>1.627226</td>\n",
       "    </tr>\n",
       "  </tbody>\n",
       "</table>\n",
       "</div>"
      ],
      "text/plain": [
       "Household_Head_Gender                                Female Headed  \\\n",
       "Personal Business & Self Employment (USD_Cons_rate)     172.921877   \n",
       "Seasonal Crops Income (USD_Cons_rate)                   148.323604   \n",
       "Seasonal  Agriculture Value (USD_Cons_rate)             439.128059   \n",
       "Livestock Income (USD_Cons_rate)                         40.193466   \n",
       "Assets (USD_Cons_rate)                                  233.623428   \n",
       "HH Income (USD_Cons_rate)                               637.812648   \n",
       "HH Income + Consumption + Residues (USD_Cons_rate)      862.502028   \n",
       "HH Income/Day (USD_Cons_rate)                             1.747432   \n",
       "\n",
       "Household_Head_Gender                                Male Headed  Youth Headed  \n",
       "Personal Business & Self Employment (USD_Cons_rate)   169.951437    237.722944  \n",
       "Seasonal Crops Income (USD_Cons_rate)                 142.028327     95.411847  \n",
       "Seasonal  Agriculture Value (USD_Cons_rate)           439.876358    331.362483  \n",
       "Livestock Income (USD_Cons_rate)                       35.270583     10.418583  \n",
       "Assets (USD_Cons_rate)                                240.827174    278.949167  \n",
       "HH Income (USD_Cons_rate)                             642.810393    593.937669  \n",
       "HH Income + Consumption + Residues (USD_Cons_rate)    906.689326    629.606356  \n",
       "HH Income/Day (USD_Cons_rate)                           1.761124      1.627226  "
      ]
     },
     "execution_count": 155,
     "metadata": {},
     "output_type": "execute_result"
    }
   ],
   "source": [
    "(vsf.groupby('Household_Head_Gender')[[\n",
    "    'Personal Business & Self Employment (USD_Cons_rate)',\n",
    "    'Seasonal Crops Income (USD_Cons_rate)',\n",
    "    'Seasonal  Agriculture Value (USD_Cons_rate)',\n",
    "    'Livestock Income (USD_Cons_rate)',\n",
    "    'Assets (USD_Cons_rate)',\n",
    "    'HH Income (USD_Cons_rate)',\n",
    "    'HH Income + Consumption + Residues (USD_Cons_rate)',\n",
    "    'HH Income/Day (USD_Cons_rate)',\n",
    "]].mean()).transpose()"
   ]
  },
  {
   "cell_type": "code",
   "execution_count": 156,
   "id": "5f02cc4e-9832-41d5-9f8b-01a6a8d322c5",
   "metadata": {},
   "outputs": [
    {
     "data": {
      "text/html": [
       "<div>\n",
       "<style scoped>\n",
       "    .dataframe tbody tr th:only-of-type {\n",
       "        vertical-align: middle;\n",
       "    }\n",
       "\n",
       "    .dataframe tbody tr th {\n",
       "        vertical-align: top;\n",
       "    }\n",
       "\n",
       "    .dataframe thead th {\n",
       "        text-align: right;\n",
       "    }\n",
       "</style>\n",
       "<table border=\"1\" class=\"dataframe\">\n",
       "  <thead>\n",
       "    <tr style=\"text-align: right;\">\n",
       "      <th>Household_Head_Gender</th>\n",
       "      <th>Female Headed</th>\n",
       "      <th>Male Headed</th>\n",
       "      <th>Youth Headed</th>\n",
       "    </tr>\n",
       "  </thead>\n",
       "  <tbody>\n",
       "    <tr>\n",
       "      <th>Personal Business &amp; Self Employment (USD_Cons_rate)</th>\n",
       "      <td>69.633934</td>\n",
       "      <td>91.750179</td>\n",
       "      <td>121.086858</td>\n",
       "    </tr>\n",
       "    <tr>\n",
       "      <th>Seasonal Crops Income (USD_Cons_rate)</th>\n",
       "      <td>142.828585</td>\n",
       "      <td>121.324301</td>\n",
       "      <td>113.668490</td>\n",
       "    </tr>\n",
       "    <tr>\n",
       "      <th>Seasonal  Agriculture Value (USD_Cons_rate)</th>\n",
       "      <td>363.211986</td>\n",
       "      <td>318.933753</td>\n",
       "      <td>297.786143</td>\n",
       "    </tr>\n",
       "    <tr>\n",
       "      <th>Livestock Income (USD_Cons_rate)</th>\n",
       "      <td>24.533759</td>\n",
       "      <td>30.200865</td>\n",
       "      <td>18.758063</td>\n",
       "    </tr>\n",
       "    <tr>\n",
       "      <th>Assets (USD_Cons_rate)</th>\n",
       "      <td>227.444964</td>\n",
       "      <td>242.915420</td>\n",
       "      <td>182.753550</td>\n",
       "    </tr>\n",
       "    <tr>\n",
       "      <th>HH Income (USD_Cons_rate)</th>\n",
       "      <td>448.687551</td>\n",
       "      <td>509.229887</td>\n",
       "      <td>494.988314</td>\n",
       "    </tr>\n",
       "    <tr>\n",
       "      <th>HH Income + Consumption + Residues (USD_Cons_rate)</th>\n",
       "      <td>793.744309</td>\n",
       "      <td>848.893293</td>\n",
       "      <td>806.666396</td>\n",
       "    </tr>\n",
       "    <tr>\n",
       "      <th>HH Income/Day (USD_Cons_rate)</th>\n",
       "      <td>1.229281</td>\n",
       "      <td>1.395150</td>\n",
       "      <td>1.356132</td>\n",
       "    </tr>\n",
       "  </tbody>\n",
       "</table>\n",
       "</div>"
      ],
      "text/plain": [
       "Household_Head_Gender                                Female Headed  \\\n",
       "Personal Business & Self Employment (USD_Cons_rate)      69.633934   \n",
       "Seasonal Crops Income (USD_Cons_rate)                   142.828585   \n",
       "Seasonal  Agriculture Value (USD_Cons_rate)             363.211986   \n",
       "Livestock Income (USD_Cons_rate)                         24.533759   \n",
       "Assets (USD_Cons_rate)                                  227.444964   \n",
       "HH Income (USD_Cons_rate)                               448.687551   \n",
       "HH Income + Consumption + Residues (USD_Cons_rate)      793.744309   \n",
       "HH Income/Day (USD_Cons_rate)                             1.229281   \n",
       "\n",
       "Household_Head_Gender                                Male Headed  Youth Headed  \n",
       "Personal Business & Self Employment (USD_Cons_rate)    91.750179    121.086858  \n",
       "Seasonal Crops Income (USD_Cons_rate)                 121.324301    113.668490  \n",
       "Seasonal  Agriculture Value (USD_Cons_rate)           318.933753    297.786143  \n",
       "Livestock Income (USD_Cons_rate)                       30.200865     18.758063  \n",
       "Assets (USD_Cons_rate)                                242.915420    182.753550  \n",
       "HH Income (USD_Cons_rate)                             509.229887    494.988314  \n",
       "HH Income + Consumption + Residues (USD_Cons_rate)    848.893293    806.666396  \n",
       "HH Income/Day (USD_Cons_rate)                           1.395150      1.356132  "
      ]
     },
     "execution_count": 156,
     "metadata": {},
     "output_type": "execute_result"
    }
   ],
   "source": [
    "(non_vsf.groupby('Household_Head_Gender')[[\n",
    "    'Personal Business & Self Employment (USD_Cons_rate)',\n",
    "    'Seasonal Crops Income (USD_Cons_rate)',\n",
    "    'Seasonal  Agriculture Value (USD_Cons_rate)',\n",
    "    'Livestock Income (USD_Cons_rate)',\n",
    "    'Assets (USD_Cons_rate)',\n",
    "    'HH Income (USD_Cons_rate)',\n",
    "    'HH Income + Consumption + Residues (USD_Cons_rate)',\n",
    "    'HH Income/Day (USD_Cons_rate)',\n",
    "]].mean()).transpose()"
   ]
  },
  {
   "cell_type": "code",
   "execution_count": null,
   "id": "43c5dd15-4f90-400a-b49a-9b7f5ce41a27",
   "metadata": {},
   "outputs": [],
   "source": []
  },
  {
   "cell_type": "code",
   "execution_count": 199,
   "id": "c227ed45-a555-432b-a795-fbed9ccafe84",
   "metadata": {},
   "outputs": [],
   "source": [
    "a = np.array([2,3,4,5])\n",
    "b = np.array([100,350,300,150])"
   ]
  },
  {
   "cell_type": "code",
   "execution_count": 203,
   "id": "61a4c872-ccaf-4a87-92b2-54fa15f2dd96",
   "metadata": {},
   "outputs": [
    {
     "data": {
      "text/plain": [
       "67.91666666666667"
      ]
     },
     "execution_count": 203,
     "metadata": {},
     "output_type": "execute_result"
    }
   ],
   "source": [
    "c = b/a\n",
    "c.mean()"
   ]
  },
  {
   "cell_type": "code",
   "execution_count": 201,
   "id": "97996b10-1be9-49ef-8009-490b821492c5",
   "metadata": {},
   "outputs": [
    {
     "data": {
      "text/plain": [
       "64.28571428571429"
      ]
     },
     "execution_count": 201,
     "metadata": {},
     "output_type": "execute_result"
    }
   ],
   "source": [
    "b.mean()/a.mean()"
   ]
  },
  {
   "cell_type": "code",
   "execution_count": null,
   "id": "0eca490b-0b0d-41de-a2e7-1838aeb9cbe0",
   "metadata": {},
   "outputs": [],
   "source": []
  }
 ],
 "metadata": {
  "kernelspec": {
   "display_name": "Python 3 (ipykernel)",
   "language": "python",
   "name": "python3"
  },
  "language_info": {
   "codemirror_mode": {
    "name": "ipython",
    "version": 3
   },
   "file_extension": ".py",
   "mimetype": "text/x-python",
   "name": "python",
   "nbconvert_exporter": "python",
   "pygments_lexer": "ipython3",
   "version": "3.10.9"
  }
 },
 "nbformat": 4,
 "nbformat_minor": 5
}
