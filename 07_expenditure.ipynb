{
 "cells": [
  {
   "cell_type": "code",
   "execution_count": 8,
   "id": "212be6e2-acf3-4835-b144-5468914a49fb",
   "metadata": {},
   "outputs": [],
   "source": [
    "from fastai.imports import *"
   ]
  },
  {
   "cell_type": "code",
   "execution_count": 9,
   "id": "dbabaa4b-26e1-4c58-aad1-188318d14b50",
   "metadata": {},
   "outputs": [],
   "source": [
    "from scipy.stats import f_oneway, ttest_ind"
   ]
  },
  {
   "cell_type": "code",
   "execution_count": 37,
   "id": "8e9b3263-3810-4d4e-83c1-a13800fb1c3e",
   "metadata": {},
   "outputs": [],
   "source": [
    "df = pd.read_excel('All2021Cohorts_merged_outlier managed_copy_2.xlsx', sheet_name='MergedRTV_Control2021',header=5)"
   ]
  },
  {
   "cell_type": "code",
   "execution_count": 38,
   "id": "e8aa4561-bd34-4e41-b791-084e1252c634",
   "metadata": {},
   "outputs": [],
   "source": [
    "peer = df[df['Status']=='PEER']\n",
    "rtv = df[df['Status']=='RTV']"
   ]
  },
  {
   "cell_type": "code",
   "execution_count": 39,
   "id": "6e1cb3fe-8873-43dc-b8d0-975a203a8f26",
   "metadata": {},
   "outputs": [],
   "source": [
    "adjusted_cpi = 80.66"
   ]
  },
  {
   "cell_type": "code",
   "execution_count": 40,
   "id": "afdbde8e-960c-482a-854e-213b6b49b337",
   "metadata": {},
   "outputs": [
    {
     "data": {
      "text/plain": [
       "((1899, 5663), (3897, 5663))"
      ]
     },
     "execution_count": 40,
     "metadata": {},
     "output_type": "execute_result"
    }
   ],
   "source": [
    "peer.shape, rtv.shape"
   ]
  },
  {
   "cell_type": "markdown",
   "id": "39ecdfb9-75c1-44c2-a4dc-2e8e365d2b00",
   "metadata": {},
   "source": [
    "## Expenditure Item"
   ]
  },
  {
   "attachments": {},
   "cell_type": "markdown",
   "id": "1199f4dd-f0be-4ab2-a472-492ce7ff6181",
   "metadata": {},
   "source": [
    "vegetables_week\t\tfruits_week\t\tmeat_poultry_offals\t\teggs\t\tfish_week\tsugar_week\t\tfat_oils_week\tmisc_week\t\tsnacks_week\t"
   ]
  },
  {
   "cell_type": "code",
   "execution_count": 41,
   "id": "d51cd936-de07-4fe1-850c-a4fd559656c7",
   "metadata": {},
   "outputs": [
    {
     "data": {
      "text/plain": [
       "2.416966615345137"
      ]
     },
     "execution_count": 41,
     "metadata": {},
     "output_type": "execute_result"
    }
   ],
   "source": [
    "(rtv['cereals_week'].fillna(0).mean() * (adjusted_cpi/100) /3700)"
   ]
  },
  {
   "cell_type": "code",
   "execution_count": 44,
   "id": "26e83889-06a7-4cec-8bb0-42929d034b14",
   "metadata": {},
   "outputs": [
    {
     "data": {
      "text/html": [
       "<div>\n",
       "<style scoped>\n",
       "    .dataframe tbody tr th:only-of-type {\n",
       "        vertical-align: middle;\n",
       "    }\n",
       "\n",
       "    .dataframe tbody tr th {\n",
       "        vertical-align: top;\n",
       "    }\n",
       "\n",
       "    .dataframe thead th {\n",
       "        text-align: right;\n",
       "    }\n",
       "</style>\n",
       "<table border=\"1\" class=\"dataframe\">\n",
       "  <thead>\n",
       "    <tr style=\"text-align: right;\">\n",
       "      <th>Status</th>\n",
       "      <th>PEER</th>\n",
       "      <th>RTV</th>\n",
       "    </tr>\n",
       "  </thead>\n",
       "  <tbody>\n",
       "    <tr>\n",
       "      <th>cereals_week</th>\n",
       "      <td>2.652598</td>\n",
       "      <td>2.416967</td>\n",
       "    </tr>\n",
       "    <tr>\n",
       "      <th>tubers_week</th>\n",
       "      <td>1.016764</td>\n",
       "      <td>0.638072</td>\n",
       "    </tr>\n",
       "    <tr>\n",
       "      <th>pulses_week</th>\n",
       "      <td>1.547574</td>\n",
       "      <td>1.469409</td>\n",
       "    </tr>\n",
       "    <tr>\n",
       "      <th>milk_week</th>\n",
       "      <td>0.124024</td>\n",
       "      <td>0.187519</td>\n",
       "    </tr>\n",
       "    <tr>\n",
       "      <th>vegetables_week</th>\n",
       "      <td>0.266023</td>\n",
       "      <td>0.184638</td>\n",
       "    </tr>\n",
       "    <tr>\n",
       "      <th>fruits_week</th>\n",
       "      <td>0.168229</td>\n",
       "      <td>0.205135</td>\n",
       "    </tr>\n",
       "    <tr>\n",
       "      <th>meat_poultry_offals</th>\n",
       "      <td>0.655843</td>\n",
       "      <td>0.902397</td>\n",
       "    </tr>\n",
       "    <tr>\n",
       "      <th>eggs</th>\n",
       "      <td>0.023030</td>\n",
       "      <td>0.044448</td>\n",
       "    </tr>\n",
       "    <tr>\n",
       "      <th>fish_week</th>\n",
       "      <td>0.071269</td>\n",
       "      <td>0.148480</td>\n",
       "    </tr>\n",
       "    <tr>\n",
       "      <th>sugar_week</th>\n",
       "      <td>0.311056</td>\n",
       "      <td>0.390049</td>\n",
       "    </tr>\n",
       "    <tr>\n",
       "      <th>fat_oils_week</th>\n",
       "      <td>0.046075</td>\n",
       "      <td>0.083027</td>\n",
       "    </tr>\n",
       "    <tr>\n",
       "      <th>misc_week</th>\n",
       "      <td>0.375068</td>\n",
       "      <td>0.390671</td>\n",
       "    </tr>\n",
       "    <tr>\n",
       "      <th>snacks_week</th>\n",
       "      <td>0.145972</td>\n",
       "      <td>0.177223</td>\n",
       "    </tr>\n",
       "  </tbody>\n",
       "</table>\n",
       "</div>"
      ],
      "text/plain": [
       "Status                   PEER       RTV\n",
       "cereals_week         2.652598  2.416967\n",
       "tubers_week          1.016764  0.638072\n",
       "pulses_week          1.547574  1.469409\n",
       "milk_week            0.124024  0.187519\n",
       "vegetables_week      0.266023  0.184638\n",
       "fruits_week          0.168229  0.205135\n",
       "meat_poultry_offals  0.655843  0.902397\n",
       "eggs                 0.023030  0.044448\n",
       "fish_week            0.071269  0.148480\n",
       "sugar_week           0.311056  0.390049\n",
       "fat_oils_week        0.046075  0.083027\n",
       "misc_week            0.375068  0.390671\n",
       "snacks_week          0.145972  0.177223"
      ]
     },
     "execution_count": 44,
     "metadata": {},
     "output_type": "execute_result"
    }
   ],
   "source": [
    "(df.groupby('Status')[['cereals_week',\n",
    "                      'tubers_week',\n",
    "                      'pulses_week',\n",
    "                      'milk_week',\n",
    "                      'vegetables_week',\n",
    "                      'fruits_week',\n",
    "                      'meat_poultry_offals',\n",
    "                      'eggs',\n",
    "                      'fish_week','sugar_week',\n",
    "                      'fat_oils_week',\n",
    "                      'misc_week',\n",
    "                      'snacks_week']].mean() * (adjusted_cpi/100) /3700).transpose()"
   ]
  },
  {
   "cell_type": "markdown",
   "id": "5770208a-873f-4483-900c-38bc8d6a7bef",
   "metadata": {},
   "source": [
    "## No food"
   ]
  },
  {
   "cell_type": "code",
   "execution_count": 43,
   "id": "4ee3c636-3be3-4ddd-9391-929a623f2a11",
   "metadata": {},
   "outputs": [
    {
     "data": {
      "text/html": [
       "<div>\n",
       "<style scoped>\n",
       "    .dataframe tbody tr th:only-of-type {\n",
       "        vertical-align: middle;\n",
       "    }\n",
       "\n",
       "    .dataframe tbody tr th {\n",
       "        vertical-align: top;\n",
       "    }\n",
       "\n",
       "    .dataframe thead th {\n",
       "        text-align: right;\n",
       "    }\n",
       "</style>\n",
       "<table border=\"1\" class=\"dataframe\">\n",
       "  <thead>\n",
       "    <tr style=\"text-align: right;\">\n",
       "      <th>Status</th>\n",
       "      <th>PEER</th>\n",
       "      <th>RTV</th>\n",
       "    </tr>\n",
       "  </thead>\n",
       "  <tbody>\n",
       "    <tr>\n",
       "      <th>alcohol_week</th>\n",
       "      <td>0.721581</td>\n",
       "      <td>0.544748</td>\n",
       "    </tr>\n",
       "    <tr>\n",
       "      <th>tobacco_week</th>\n",
       "      <td>0.041855</td>\n",
       "      <td>0.024974</td>\n",
       "    </tr>\n",
       "    <tr>\n",
       "      <th>consump_food_gift_week</th>\n",
       "      <td>1.265551</td>\n",
       "      <td>2.080599</td>\n",
       "    </tr>\n",
       "    <tr>\n",
       "      <th>consump_inkind_week</th>\n",
       "      <td>0.605155</td>\n",
       "      <td>0.612433</td>\n",
       "    </tr>\n",
       "    <tr>\n",
       "      <th>machinery_fuel_expenditure</th>\n",
       "      <td>0.039491</td>\n",
       "      <td>0.117841</td>\n",
       "    </tr>\n",
       "  </tbody>\n",
       "</table>\n",
       "</div>"
      ],
      "text/plain": [
       "Status                          PEER       RTV\n",
       "alcohol_week                0.721581  0.544748\n",
       "tobacco_week                0.041855  0.024974\n",
       "consump_food_gift_week      1.265551  2.080599\n",
       "consump_inkind_week         0.605155  0.612433\n",
       "machinery_fuel_expenditure  0.039491  0.117841"
      ]
     },
     "execution_count": 43,
     "metadata": {},
     "output_type": "execute_result"
    }
   ],
   "source": [
    "(df.groupby('Status')[['alcohol_week',\n",
    "                        'tobacco_week', \n",
    "                        'consump_food_gift_week', \n",
    "                        'consump_inkind_week',\n",
    "                        'machinery_fuel_expenditure']].mean() * (adjusted_cpi/100) /3700).transpose()"
   ]
  },
  {
   "cell_type": "markdown",
   "id": "412a9006-9be1-4135-9d7c-6eb56a26fbfc",
   "metadata": {},
   "source": [
    "## Spending in 12 months"
   ]
  },
  {
   "cell_type": "code",
   "execution_count": null,
   "id": "0f870ccf-d4eb-48d8-a31a-6c26de1d90b0",
   "metadata": {},
   "outputs": [],
   "source": []
  }
 ],
 "metadata": {
  "kernelspec": {
   "display_name": "Python 3 (ipykernel)",
   "language": "python",
   "name": "python3"
  },
  "language_info": {
   "codemirror_mode": {
    "name": "ipython",
    "version": 3
   },
   "file_extension": ".py",
   "mimetype": "text/x-python",
   "name": "python",
   "nbconvert_exporter": "python",
   "pygments_lexer": "ipython3",
   "version": "3.10.12"
  }
 },
 "nbformat": 4,
 "nbformat_minor": 5
}
