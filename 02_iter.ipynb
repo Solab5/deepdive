{
 "cells": [
  {
   "cell_type": "code",
   "execution_count": 143,
   "id": "212be6e2-acf3-4835-b144-5468914a49fb",
   "metadata": {},
   "outputs": [],
   "source": [
    "from fastai.imports import *"
   ]
  },
  {
   "cell_type": "code",
   "execution_count": 144,
   "id": "8e9b3263-3810-4d4e-83c1-a13800fb1c3e",
   "metadata": {},
   "outputs": [],
   "source": [
    "df = pd.read_excel('All2021Cohorts_merged_outlier managed.xlsx', sheet_name='MergedRTV_Control2021',header=5)"
   ]
  },
  {
   "cell_type": "code",
   "execution_count": 145,
   "id": "1d66cf01-2d12-4402-898b-d1b10459d93f",
   "metadata": {},
   "outputs": [
    {
     "data": {
      "text/plain": [
       "(5796, 5663)"
      ]
     },
     "execution_count": 145,
     "metadata": {},
     "output_type": "execute_result"
    }
   ],
   "source": [
    "df.shape"
   ]
  },
  {
   "cell_type": "code",
   "execution_count": 146,
   "id": "5749c633-d98d-44ab-a6a4-5de706d59647",
   "metadata": {},
   "outputs": [
    {
     "data": {
      "text/plain": [
       "244723.66856452727"
      ]
     },
     "execution_count": 146,
     "metadata": {},
     "output_type": "execute_result"
    }
   ],
   "source": [
    "df['Total Savings (Ugx)'].mean()"
   ]
  },
  {
   "cell_type": "code",
   "execution_count": 147,
   "id": "e8aa4561-bd34-4e41-b791-084e1252c634",
   "metadata": {},
   "outputs": [],
   "source": [
    "peer = df[df['Status']=='PEER']\n",
    "rtv = df[df['Status']=='RTV']"
   ]
  },
  {
   "cell_type": "code",
   "execution_count": 148,
   "id": "afdbde8e-960c-482a-854e-213b6b49b337",
   "metadata": {},
   "outputs": [
    {
     "data": {
      "text/plain": [
       "((1899, 5663), (3897, 5663))"
      ]
     },
     "execution_count": 148,
     "metadata": {},
     "output_type": "execute_result"
    }
   ],
   "source": [
    "peer.shape, rtv.shape"
   ]
  },
  {
   "cell_type": "code",
   "execution_count": 151,
   "id": "9c6825e9-3328-4022-b1a9-1935cedd6bdd",
   "metadata": {},
   "outputs": [
    {
     "data": {
      "text/plain": [
       "save_mode_7\n",
       "0    2316\n",
       "1    1581\n",
       "Name: count, dtype: int64"
      ]
     },
     "execution_count": 151,
     "metadata": {},
     "output_type": "execute_result"
    }
   ],
   "source": [
    "rtv[\"save_mode_7\"].value_counts()"
   ]
  },
  {
   "cell_type": "code",
   "execution_count": 152,
   "id": "448cd985-f8da-4008-bf3d-ddc0fa4e730b",
   "metadata": {},
   "outputs": [],
   "source": [
    "rtv_vsf = rtv[rtv[\"save_mode_7\"] == 1]\n",
    "rtv_nvsf =  rtv[rtv[\"save_mode_7\"]==0]"
   ]
  },
  {
   "cell_type": "code",
   "execution_count": 153,
   "id": "3d41481a-99ad-4d19-a09f-bb700e45531e",
   "metadata": {},
   "outputs": [
    {
     "data": {
      "text/plain": [
       "((1581, 5663), (2316, 5663))"
      ]
     },
     "execution_count": 153,
     "metadata": {},
     "output_type": "execute_result"
    }
   ],
   "source": [
    "rtv_vsf.shape, rtv_nvsf.shape"
   ]
  },
  {
   "cell_type": "code",
   "execution_count": 154,
   "id": "66b3c4dd-199c-4b46-a8a7-995393a97731",
   "metadata": {},
   "outputs": [
    {
     "data": {
      "text/plain": [
       "mean      343598.342821\n",
       "median    150000.000000\n",
       "Name: Total Savings (Ugx), dtype: float64"
      ]
     },
     "execution_count": 154,
     "metadata": {},
     "output_type": "execute_result"
    }
   ],
   "source": [
    "rtv_vsf['Total Savings (Ugx)'].agg(['mean','median'])"
   ]
  },
  {
   "cell_type": "code",
   "execution_count": 155,
   "id": "6fa0aac5-8ac0-4b46-82ff-e9a75cd35b31",
   "metadata": {},
   "outputs": [
    {
     "data": {
      "text/plain": [
       "mean      239377.548791\n",
       "median     50000.000000\n",
       "Name: Total Savings (Ugx), dtype: float64"
      ]
     },
     "execution_count": 155,
     "metadata": {},
     "output_type": "execute_result"
    }
   ],
   "source": [
    "rtv_nvsf['Total Savings (Ugx)'].agg(['mean','median'])"
   ]
  },
  {
   "cell_type": "code",
   "execution_count": null,
   "id": "737d9a8e-228d-497f-9982-625e9ddcbac9",
   "metadata": {},
   "outputs": [],
   "source": []
  },
  {
   "cell_type": "code",
   "execution_count": 156,
   "id": "79a86277-1282-4048-b866-ffa59ce82c05",
   "metadata": {},
   "outputs": [
    {
     "data": {
      "text/plain": [
       "mean      134802.656546\n",
       "median         0.000000\n",
       "Name: Loan Amount (Ugx), dtype: float64"
      ]
     },
     "execution_count": 156,
     "metadata": {},
     "output_type": "execute_result"
    }
   ],
   "source": [
    "rtv_vsf['Loan Amount (Ugx)'].agg(['mean','median'])"
   ]
  },
  {
   "cell_type": "code",
   "execution_count": 173,
   "id": "dc040c1d-24c4-43f4-9238-8046c88807ab",
   "metadata": {},
   "outputs": [
    {
     "data": {
      "text/plain": [
       "mean      109229.274611\n",
       "median         0.000000\n",
       "Name: Loan Amount (Ugx), dtype: float64"
      ]
     },
     "execution_count": 173,
     "metadata": {},
     "output_type": "execute_result"
    }
   ],
   "source": [
    "rtv_nvsf['Loan Amount (Ugx)'].agg(['mean','median'])"
   ]
  },
  {
   "cell_type": "markdown",
   "id": "c10e3a22-be19-4dad-811d-ed1f42e874cd",
   "metadata": {},
   "source": [
    "## Percentage of household active"
   ]
  },
  {
   "cell_type": "code",
   "execution_count": 157,
   "id": "eeb8ea35-8b94-432e-b2be-92df433d0159",
   "metadata": {},
   "outputs": [
    {
     "data": {
      "text/plain": [
       "98.98798228969007"
      ]
     },
     "execution_count": 157,
     "metadata": {},
     "output_type": "execute_result"
    }
   ],
   "source": [
    "percent = (len(rtv_vsf[rtv_vsf['Total Savings (Ugx)'] != 0]) / len(rtv_vsf)) * 100\n",
    "percent"
   ]
  },
  {
   "cell_type": "code",
   "execution_count": 158,
   "id": "49398077-6d3e-4002-8376-cb9d0f0e106d",
   "metadata": {},
   "outputs": [
    {
     "data": {
      "text/plain": [
       "74.65457685664938"
      ]
     },
     "execution_count": 158,
     "metadata": {},
     "output_type": "execute_result"
    }
   ],
   "source": [
    "percent = (len(rtv_nvsf[rtv_nvsf['Total Savings (Ugx)'] != 0]) / len(rtv_nvsf)) * 100\n",
    "percent"
   ]
  },
  {
   "cell_type": "markdown",
   "id": "4a7e2bdf-f13d-4cd7-97fe-dae13b745579",
   "metadata": {},
   "source": [
    "## Total Outstanding Data"
   ]
  },
  {
   "cell_type": "code",
   "execution_count": 159,
   "id": "3c4a3720-5a3a-40ea-9acb-e5dadeefb874",
   "metadata": {},
   "outputs": [
    {
     "data": {
      "text/plain": [
       "107567.72612270714"
      ]
     },
     "execution_count": 159,
     "metadata": {},
     "output_type": "execute_result"
    }
   ],
   "source": [
    "Total_outstanding_debt = (rtv_vsf[['bank_loan_remaining',\n",
    "                            'sacco_loan_remaining',\n",
    "                            'shop_keeper_loan_remaining',\n",
    "                            'family_friend_loan_remaining',\n",
    "                            'rtv_vsla_loan_remaining',\n",
    "                            'other_village_VSLA_loan_remaining',\n",
    "                            'money_lender_loan_remaining',\n",
    "                            'other_loan_source_loan_remaining']].sum(axis=1)).mean()\n",
    "Total_outstanding_debt"
   ]
  },
  {
   "cell_type": "code",
   "execution_count": 160,
   "id": "cbae93ff-b01d-4e9b-969c-f50fc011d85e",
   "metadata": {},
   "outputs": [
    {
     "data": {
      "text/plain": [
       "98107.64248704663"
      ]
     },
     "execution_count": 160,
     "metadata": {},
     "output_type": "execute_result"
    }
   ],
   "source": [
    "Total_outstanding_debt = (rtv_nvsf[['bank_loan_remaining',\n",
    "                            'sacco_loan_remaining',\n",
    "                            'shop_keeper_loan_remaining',\n",
    "                            'family_friend_loan_remaining',\n",
    "                            'rtv_vsla_loan_remaining',\n",
    "                            'other_village_VSLA_loan_remaining',\n",
    "                            'money_lender_loan_remaining',\n",
    "                            'other_loan_source_loan_remaining']].sum(axis=1)).mean()\n",
    "Total_outstanding_debt"
   ]
  },
  {
   "cell_type": "markdown",
   "id": "e54beb3d-2ba3-40d2-b058-d6f8ae8c2a5b",
   "metadata": {},
   "source": [
    "## Loan in the first 12 months"
   ]
  },
  {
   "cell_type": "code",
   "execution_count": 161,
   "id": "4dfaabe4-9e4c-409f-a3d2-0646ec46f3b4",
   "metadata": {},
   "outputs": [
    {
     "data": {
      "text/plain": [
       "borrowed_past_12_months\n",
       "0    67.299178\n",
       "1    32.700822\n",
       "Name: proportion, dtype: float64"
      ]
     },
     "execution_count": 161,
     "metadata": {},
     "output_type": "execute_result"
    }
   ],
   "source": [
    "rtv_vsf['borrowed_past_12_months'].value_counts(normalize=True)*100"
   ]
  },
  {
   "cell_type": "code",
   "execution_count": 162,
   "id": "f394ff10-dfc6-4576-ba74-7d545d311c58",
   "metadata": {},
   "outputs": [
    {
     "data": {
      "text/plain": [
       "borrowed_past_12_months\n",
       "0    85.060449\n",
       "1    14.939551\n",
       "Name: proportion, dtype: float64"
      ]
     },
     "execution_count": 162,
     "metadata": {},
     "output_type": "execute_result"
    }
   ],
   "source": [
    "rtv_nvsf['borrowed_past_12_months'].value_counts(normalize=True)*100"
   ]
  },
  {
   "cell_type": "markdown",
   "id": "ed1e4bac-15d1-451a-be30-06940d434bc7",
   "metadata": {},
   "source": [
    "## Interest Rate"
   ]
  },
  {
   "cell_type": "code",
   "execution_count": 163,
   "id": "9f222863-b59c-4918-a946-5b232ea205d9",
   "metadata": {},
   "outputs": [
    {
     "data": {
      "text/plain": [
       "1.3873118279569894"
      ]
     },
     "execution_count": 163,
     "metadata": {},
     "output_type": "execute_result"
    }
   ],
   "source": [
    "rtv_vsf['Interest'].mean()"
   ]
  },
  {
   "cell_type": "code",
   "execution_count": 164,
   "id": "ebcd9ab5-8da2-4855-a61f-91c311e86d75",
   "metadata": {},
   "outputs": [
    {
     "data": {
      "text/plain": [
       "0.696428756476684"
      ]
     },
     "execution_count": 164,
     "metadata": {},
     "output_type": "execute_result"
    }
   ],
   "source": [
    "rtv_nvsf['Interest'].mean()"
   ]
  },
  {
   "cell_type": "markdown",
   "id": "0ef61ae6-4190-4143-94c0-f140d6c84887",
   "metadata": {},
   "source": [
    "## Business Income"
   ]
  },
  {
   "cell_type": "code",
   "execution_count": 165,
   "id": "5283a512-3fd5-4293-a541-f84e583cff02",
   "metadata": {},
   "outputs": [
    {
     "data": {
      "text/plain": [
       "99.9579829734858"
      ]
     },
     "execution_count": 165,
     "metadata": {},
     "output_type": "execute_result"
    }
   ],
   "source": [
    "rtv_vsf['Personal Business & Self Employment (USD)'].mean()"
   ]
  },
  {
   "cell_type": "code",
   "execution_count": 166,
   "id": "4d981c0f-2ab2-4128-b074-293d9fe7fff3",
   "metadata": {},
   "outputs": [
    {
     "data": {
      "text/plain": [
       "79.12117817299163"
      ]
     },
     "execution_count": 166,
     "metadata": {},
     "output_type": "execute_result"
    }
   ],
   "source": [
    "rtv_nvsf['Personal Business & Self Employment (USD)'].mean()"
   ]
  },
  {
   "cell_type": "markdown",
   "id": "5a538388-3518-46da-baa0-ee0ffcf52518",
   "metadata": {},
   "source": [
    "## Seasonal Income"
   ]
  },
  {
   "cell_type": "code",
   "execution_count": 167,
   "id": "6bb4704e-f406-426b-b63d-cf927ebca3ee",
   "metadata": {},
   "outputs": [
    {
     "data": {
      "text/plain": [
       "162.93840795254457"
      ]
     },
     "execution_count": 167,
     "metadata": {},
     "output_type": "execute_result"
    }
   ],
   "source": [
    "rtv_vsf['Seasonal Crops Income (USD)'].mean()"
   ]
  },
  {
   "cell_type": "code",
   "execution_count": 168,
   "id": "d1d8ea16-e95b-4026-9243-aa6c94005ce4",
   "metadata": {},
   "outputs": [
    {
     "data": {
      "text/plain": [
       "134.09846018298092"
      ]
     },
     "execution_count": 168,
     "metadata": {},
     "output_type": "execute_result"
    }
   ],
   "source": [
    "rtv_nvsf['Seasonal Crops Income (USD)'].mean()"
   ]
  },
  {
   "cell_type": "code",
   "execution_count": null,
   "id": "b568d719-ca04-4eff-b930-5c8bf5400e47",
   "metadata": {},
   "outputs": [],
   "source": []
  },
  {
   "cell_type": "code",
   "execution_count": 169,
   "id": "4726ead9-d3d1-4a19-8a03-8970a92b1f2b",
   "metadata": {},
   "outputs": [
    {
     "data": {
      "text/plain": [
       "414.897352855702"
      ]
     },
     "execution_count": 169,
     "metadata": {},
     "output_type": "execute_result"
    }
   ],
   "source": [
    "rtv_vsf['Seasonal  Agriculture Value (USD)'].mean()"
   ]
  },
  {
   "cell_type": "code",
   "execution_count": 170,
   "id": "092ff7b3-6bf8-4d99-bc51-8f66dc49a357",
   "metadata": {},
   "outputs": [
    {
     "data": {
      "text/plain": [
       "352.9932799094431"
      ]
     },
     "execution_count": 170,
     "metadata": {},
     "output_type": "execute_result"
    }
   ],
   "source": [
    "rtv_nvsf['Seasonal  Agriculture Value (USD)'].mean()"
   ]
  },
  {
   "cell_type": "code",
   "execution_count": null,
   "id": "b9ee841e-72f2-4fe9-98a1-f0fb0aefc427",
   "metadata": {},
   "outputs": [],
   "source": []
  },
  {
   "cell_type": "code",
   "execution_count": 171,
   "id": "80e38e7a-6771-4d7f-88ed-e9edbe1d5f29",
   "metadata": {},
   "outputs": [
    {
     "data": {
      "text/plain": [
       "35.25430363950288"
      ]
     },
     "execution_count": 171,
     "metadata": {},
     "output_type": "execute_result"
    }
   ],
   "source": [
    "rtv_vsf['Livestock Income (USD)'].mean()"
   ]
  },
  {
   "cell_type": "code",
   "execution_count": 172,
   "id": "da124f02-4692-45dc-8af7-e1fe9cc0337a",
   "metadata": {},
   "outputs": [
    {
     "data": {
      "text/plain": [
       "24.337102646688137"
      ]
     },
     "execution_count": 172,
     "metadata": {},
     "output_type": "execute_result"
    }
   ],
   "source": [
    "rtv_nvsf['Livestock Income (USD)'].mean()"
   ]
  },
  {
   "cell_type": "code",
   "execution_count": null,
   "id": "7d343876-33a9-4201-9452-da8fa024fd77",
   "metadata": {},
   "outputs": [],
   "source": []
  },
  {
   "cell_type": "code",
   "execution_count": 174,
   "id": "83f5d2a8-756c-405f-ab68-4c1b1b196653",
   "metadata": {},
   "outputs": [
    {
     "data": {
      "text/plain": [
       "285.41207241396995"
      ]
     },
     "execution_count": 174,
     "metadata": {},
     "output_type": "execute_result"
    }
   ],
   "source": [
    "rtv_vsf['Assets (USD)'].mean()"
   ]
  },
  {
   "cell_type": "code",
   "execution_count": 175,
   "id": "14817323-657d-4a86-aafc-f3bf79bb7307",
   "metadata": {},
   "outputs": [
    {
     "data": {
      "text/plain": [
       "221.69526770293612"
      ]
     },
     "execution_count": 175,
     "metadata": {},
     "output_type": "execute_result"
    }
   ],
   "source": [
    "rtv_nvsf['Assets (USD)'].mean()"
   ]
  },
  {
   "cell_type": "code",
   "execution_count": null,
   "id": "3de5d78d-f033-4db7-94d8-2f3df3783ccd",
   "metadata": {},
   "outputs": [],
   "source": []
  },
  {
   "cell_type": "code",
   "execution_count": 176,
   "id": "9d864502-9ce7-4a10-8e22-2d2c870f6e28",
   "metadata": {},
   "outputs": [
    {
     "data": {
      "text/plain": [
       "619.5997295587808"
      ]
     },
     "execution_count": 176,
     "metadata": {},
     "output_type": "execute_result"
    }
   ],
   "source": [
    "rtv_vsf['HH Income (USD)'].mean()"
   ]
  },
  {
   "cell_type": "code",
   "execution_count": 177,
   "id": "378cf35b-0cab-463c-9917-1111d11ad61d",
   "metadata": {},
   "outputs": [
    {
     "data": {
      "text/plain": [
       "559.8566061475983"
      ]
     },
     "execution_count": 177,
     "metadata": {},
     "output_type": "execute_result"
    }
   ],
   "source": [
    "rtv_nvsf['HH Income (USD)'].mean()"
   ]
  },
  {
   "cell_type": "code",
   "execution_count": null,
   "id": "ae9fde88-7ea2-4b71-adb3-e2c0da37996e",
   "metadata": {},
   "outputs": [],
   "source": []
  },
  {
   "cell_type": "code",
   "execution_count": 178,
   "id": "580df6f7-e22d-4f53-b238-cec398ea3701",
   "metadata": {},
   "outputs": [
    {
     "data": {
      "text/plain": [
       "1038.2504887430125"
      ]
     },
     "execution_count": 178,
     "metadata": {},
     "output_type": "execute_result"
    }
   ],
   "source": [
    "rtv_vsf['HH Income + Consumption + Residues (USD)'].mean()"
   ]
  },
  {
   "cell_type": "code",
   "execution_count": 179,
   "id": "988b4dac-44d9-4b81-b49c-ec331a27d1c4",
   "metadata": {},
   "outputs": [
    {
     "data": {
      "text/plain": [
       "950.9589074359333"
      ]
     },
     "execution_count": 179,
     "metadata": {},
     "output_type": "execute_result"
    }
   ],
   "source": [
    "rtv_nvsf['HH Income + Consumption + Residues (USD)'].mean()"
   ]
  },
  {
   "cell_type": "code",
   "execution_count": null,
   "id": "aa4994c3-bb17-4633-ba00-1d7576e17091",
   "metadata": {},
   "outputs": [],
   "source": []
  },
  {
   "cell_type": "code",
   "execution_count": 182,
   "id": "bcfa1c34-890a-4023-a9df-0c6b54d46a0e",
   "metadata": {},
   "outputs": [
    {
     "data": {
      "text/plain": [
       "1.6975335056404952"
      ]
     },
     "execution_count": 182,
     "metadata": {},
     "output_type": "execute_result"
    }
   ],
   "source": [
    "rtv_vsf['HH Income/Day (USD) '].mean()"
   ]
  },
  {
   "cell_type": "code",
   "execution_count": 183,
   "id": "300d00dc-e619-482f-94ca-e95b9cf8b5b6",
   "metadata": {},
   "outputs": [
    {
     "data": {
      "text/plain": [
       "1.5338537154728722"
      ]
     },
     "execution_count": 183,
     "metadata": {},
     "output_type": "execute_result"
    }
   ],
   "source": [
    "rtv_nvsf['HH Income/Day (USD) '].mean()"
   ]
  },
  {
   "cell_type": "code",
   "execution_count": null,
   "id": "bfdef219-1a23-40a1-b643-1717f1029412",
   "metadata": {},
   "outputs": [],
   "source": []
  },
  {
   "cell_type": "code",
   "execution_count": 184,
   "id": "98f18581-0255-4e17-bd85-d3d0282150aa",
   "metadata": {},
   "outputs": [
    {
     "data": {
      "text/plain": [
       "2.844521886967157"
      ]
     },
     "execution_count": 184,
     "metadata": {},
     "output_type": "execute_result"
    }
   ],
   "source": [
    "rtv_vsf['HH Income + Consumption + Residues/Day (USD)'].mean()"
   ]
  },
  {
   "cell_type": "code",
   "execution_count": 185,
   "id": "fa7636bc-0476-4f22-946e-acda2e027c24",
   "metadata": {},
   "outputs": [
    {
     "data": {
      "text/plain": [
       "2.6053668696874883"
      ]
     },
     "execution_count": 185,
     "metadata": {},
     "output_type": "execute_result"
    }
   ],
   "source": [
    "rtv_nvsf['HH Income + Consumption + Residues/Day (USD)'].mean()"
   ]
  },
  {
   "cell_type": "code",
   "execution_count": null,
   "id": "06a044bf-62d0-4687-9c98-4efaddcb2832",
   "metadata": {},
   "outputs": [],
   "source": []
  },
  {
   "cell_type": "markdown",
   "id": "acbab0b8-6a13-4ad9-8063-e8d14bf1f44d",
   "metadata": {},
   "source": [
    "## Purpose of the Loan"
   ]
  },
  {
   "cell_type": "markdown",
   "id": "54faadd8-a09d-400a-b80b-f518de9e4bda",
   "metadata": {},
   "source": [
    "1\tSchool Fees\r\n",
    "2\tHome construction\r\n",
    "3\tBusiness\r\n",
    "4\tAgriculture inputs\r\n",
    "5\tMedicine and Sickness\r\n",
    "6\tLivestock\r\n",
    "7\tBuying land\r\n",
    "8\tHousehold items\r\n",
    "9\tTo repay other debts\r\n",
    "97\tOthers97\tOthers97\tOthers"
   ]
  },
  {
   "cell_type": "code",
   "execution_count": null,
   "id": "80964adf-07ef-472a-a23d-2f8765a32c64",
   "metadata": {},
   "outputs": [],
   "source": []
  },
  {
   "cell_type": "code",
   "execution_count": 186,
   "id": "259a8490-ad4d-4db5-8fa0-ad6dc7432e3b",
   "metadata": {},
   "outputs": [
    {
     "data": {
      "text/plain": [
       "purpose_for_borrow\n",
       "1.0     28.820116\n",
       "6.0     22.630561\n",
       "4.0     21.663443\n",
       "3.0      9.477756\n",
       "8.0      4.835590\n",
       "2.0      3.675048\n",
       "7.0      3.094778\n",
       "5.0      2.901354\n",
       "9.0      1.740812\n",
       "97.0     1.160542\n",
       "Name: proportion, dtype: float64"
      ]
     },
     "execution_count": 186,
     "metadata": {},
     "output_type": "execute_result"
    }
   ],
   "source": [
    "rtv_vsf['purpose_for_borrow'].value_counts(normalize=True)*100"
   ]
  },
  {
   "cell_type": "code",
   "execution_count": 187,
   "id": "e114a54f-388c-47d1-961e-f50150e1045b",
   "metadata": {},
   "outputs": [
    {
     "data": {
      "text/plain": [
       "purpose_for_borrow\n",
       "1.0     31.502890\n",
       "4.0     16.473988\n",
       "3.0     15.895954\n",
       "5.0      7.514451\n",
       "6.0      7.225434\n",
       "2.0      6.069364\n",
       "7.0      5.202312\n",
       "8.0      4.335260\n",
       "9.0      3.179191\n",
       "97.0     2.601156\n",
       "Name: proportion, dtype: float64"
      ]
     },
     "execution_count": 187,
     "metadata": {},
     "output_type": "execute_result"
    }
   ],
   "source": [
    "rtv_nvsf['purpose_for_borrow'].value_counts(normalize=True)*100"
   ]
  },
  {
   "cell_type": "code",
   "execution_count": null,
   "id": "6af4981f-a6c4-401f-a3f6-e375cbda23d9",
   "metadata": {},
   "outputs": [],
   "source": []
  },
  {
   "cell_type": "markdown",
   "id": "181e64a7-e4f7-4678-b72a-beaa62fee3cf",
   "metadata": {},
   "source": [
    "## Loan Sources"
   ]
  },
  {
   "cell_type": "markdown",
   "id": "4c4abc76-b531-4ea0-a7d7-b22061523925",
   "metadata": {},
   "source": [
    "1\tBank Account\r\n",
    "2\tSaving and Credit cooperatives (SACCO)\r\n",
    "3\tA mobile Money accounts\r\n",
    "4\tWith a shopkeeper\r\n",
    "5\tWith family and friends\r\n",
    "6\tAt a safe place at home\r\n",
    "7\tRTV VSLA (Cash round)\r\n",
    "8\tOther VSLA\r\n",
    "97\tOther\r\n",
    "99\tNo savings"
   ]
  },
  {
   "cell_type": "code",
   "execution_count": null,
   "id": "561af738-d98f-4e09-bbe8-1dd038a9b372",
   "metadata": {},
   "outputs": [],
   "source": []
  },
  {
   "cell_type": "code",
   "execution_count": 188,
   "id": "d0f04154-8fff-4f6a-b1ac-73515d3d92e9",
   "metadata": {},
   "outputs": [
    {
     "data": {
      "text/plain": [
       "Loan_from_1\n",
       "0.0    95.938104\n",
       "1.0     4.061896\n",
       "Name: proportion, dtype: float64"
      ]
     },
     "execution_count": 188,
     "metadata": {},
     "output_type": "execute_result"
    }
   ],
   "source": [
    "rtv_vsf['Loan_from_1'].value_counts(normalize=True)*100"
   ]
  },
  {
   "cell_type": "code",
   "execution_count": 189,
   "id": "4914d693-8c96-4523-8727-74596cfa9474",
   "metadata": {},
   "outputs": [
    {
     "data": {
      "text/plain": [
       "Loan_from_1\n",
       "0.0    92.196532\n",
       "1.0     7.803468\n",
       "Name: proportion, dtype: float64"
      ]
     },
     "execution_count": 189,
     "metadata": {},
     "output_type": "execute_result"
    }
   ],
   "source": [
    "rtv_nvsf['Loan_from_1'].value_counts(normalize=True)*100"
   ]
  },
  {
   "cell_type": "code",
   "execution_count": null,
   "id": "ee869836-e44d-479f-909a-629be0b01ae7",
   "metadata": {},
   "outputs": [],
   "source": []
  },
  {
   "cell_type": "code",
   "execution_count": 190,
   "id": "10d3487b-c423-496e-8910-11a23a414a5e",
   "metadata": {},
   "outputs": [
    {
     "data": {
      "text/plain": [
       "Loan_from_2\n",
       "0.0    92.263056\n",
       "1.0     7.736944\n",
       "Name: proportion, dtype: float64"
      ]
     },
     "execution_count": 190,
     "metadata": {},
     "output_type": "execute_result"
    }
   ],
   "source": [
    "rtv_vsf['Loan_from_2'].value_counts(normalize=True)*100"
   ]
  },
  {
   "cell_type": "code",
   "execution_count": 191,
   "id": "dbf1e1fa-26da-4b52-8461-97667b60c73c",
   "metadata": {},
   "outputs": [
    {
     "data": {
      "text/plain": [
       "Loan_from_2\n",
       "0.0    79.768786\n",
       "1.0    20.231214\n",
       "Name: proportion, dtype: float64"
      ]
     },
     "execution_count": 191,
     "metadata": {},
     "output_type": "execute_result"
    }
   ],
   "source": [
    "rtv_nvsf['Loan_from_2'].value_counts(normalize=True)*100"
   ]
  },
  {
   "cell_type": "code",
   "execution_count": null,
   "id": "73114d59-acf8-43c4-96fa-e8918506c570",
   "metadata": {},
   "outputs": [],
   "source": []
  },
  {
   "cell_type": "code",
   "execution_count": 192,
   "id": "d0b50a9f-ba96-48d1-9fed-9fde5739231a",
   "metadata": {},
   "outputs": [
    {
     "data": {
      "text/plain": [
       "Loan_from_7\n",
       "1.0    71.953578\n",
       "0.0    28.046422\n",
       "Name: proportion, dtype: float64"
      ]
     },
     "execution_count": 192,
     "metadata": {},
     "output_type": "execute_result"
    }
   ],
   "source": [
    "rtv_vsf['Loan_from_7'].value_counts(normalize=True)*100"
   ]
  },
  {
   "cell_type": "code",
   "execution_count": 193,
   "id": "b048f937-43a9-49a0-ab78-2e544ca571ab",
   "metadata": {},
   "outputs": [
    {
     "data": {
      "text/plain": [
       "Loan_from_7\n",
       "0.0    69.942197\n",
       "1.0    30.057803\n",
       "Name: proportion, dtype: float64"
      ]
     },
     "execution_count": 193,
     "metadata": {},
     "output_type": "execute_result"
    }
   ],
   "source": [
    "rtv_nvsf['Loan_from_7'].value_counts(normalize=True)*100"
   ]
  },
  {
   "cell_type": "code",
   "execution_count": null,
   "id": "a0229808-f3a5-44b4-9b3f-91b2541537c4",
   "metadata": {},
   "outputs": [],
   "source": []
  },
  {
   "cell_type": "code",
   "execution_count": 194,
   "id": "cf95abf2-48b2-42ee-9a07-bd8f32c1f18c",
   "metadata": {},
   "outputs": [
    {
     "data": {
      "text/plain": [
       "Loan_from_3\n",
       "0.0    100.0\n",
       "Name: proportion, dtype: float64"
      ]
     },
     "execution_count": 194,
     "metadata": {},
     "output_type": "execute_result"
    }
   ],
   "source": [
    "rtv_vsf['Loan_from_3'].value_counts(normalize=True)*100"
   ]
  },
  {
   "cell_type": "code",
   "execution_count": 195,
   "id": "75b023c5-060e-4659-b884-d20bcbc89448",
   "metadata": {},
   "outputs": [
    {
     "data": {
      "text/plain": [
       "Loan_from_3\n",
       "0.0    100.0\n",
       "Name: proportion, dtype: float64"
      ]
     },
     "execution_count": 195,
     "metadata": {},
     "output_type": "execute_result"
    }
   ],
   "source": [
    "rtv_nvsf['Loan_from_3'].value_counts(normalize=True)*100"
   ]
  },
  {
   "cell_type": "code",
   "execution_count": null,
   "id": "ac214b2e-70bf-4205-b6cb-d9c90e10c176",
   "metadata": {},
   "outputs": [],
   "source": []
  },
  {
   "cell_type": "markdown",
   "id": "5e3ec5fb-4a2e-464b-9185-0765e5cd6829",
   "metadata": {},
   "source": [
    "## Interests Rates"
   ]
  },
  {
   "cell_type": "code",
   "execution_count": 198,
   "id": "f583c997-22ce-4022-bb47-7bff2e7b1a66",
   "metadata": {},
   "outputs": [
    {
     "data": {
      "text/plain": [
       "4.779375"
      ]
     },
     "execution_count": 198,
     "metadata": {},
     "output_type": "execute_result"
    }
   ],
   "source": [
    "rtv['bank_loan_interest'].mean()"
   ]
  },
  {
   "cell_type": "code",
   "execution_count": null,
   "id": "ef9ad5e0-a2c5-42ff-94a1-8eec397899be",
   "metadata": {},
   "outputs": [],
   "source": []
  },
  {
   "cell_type": "code",
   "execution_count": 199,
   "id": "968fd200-7af8-4ad5-95cf-66d4a0b03218",
   "metadata": {},
   "outputs": [
    {
     "data": {
      "text/plain": [
       "4.069090909090909"
      ]
     },
     "execution_count": 199,
     "metadata": {},
     "output_type": "execute_result"
    }
   ],
   "source": [
    "rtv['sacco_loan_interest'].mean()"
   ]
  },
  {
   "cell_type": "code",
   "execution_count": 200,
   "id": "a95d3a97-8df2-4d7c-9185-e9f413787cd7",
   "metadata": {},
   "outputs": [
    {
     "data": {
      "text/plain": [
       "3.6293256302521013"
      ]
     },
     "execution_count": 200,
     "metadata": {},
     "output_type": "execute_result"
    }
   ],
   "source": [
    "rtv['rtv_vsla_loan_interest'].mean()"
   ]
  },
  {
   "cell_type": "code",
   "execution_count": null,
   "id": "e2a86d67-0360-43ce-9299-06be0cfc32e0",
   "metadata": {},
   "outputs": [],
   "source": []
  }
 ],
 "metadata": {
  "kernelspec": {
   "display_name": "Python 3 (ipykernel)",
   "language": "python",
   "name": "python3"
  },
  "language_info": {
   "codemirror_mode": {
    "name": "ipython",
    "version": 3
   },
   "file_extension": ".py",
   "mimetype": "text/x-python",
   "name": "python",
   "nbconvert_exporter": "python",
   "pygments_lexer": "ipython3",
   "version": "3.10.12"
  }
 },
 "nbformat": 4,
 "nbformat_minor": 5
}
