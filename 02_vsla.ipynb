{
 "cells": [
  {
   "cell_type": "code",
   "execution_count": 1,
   "id": "212be6e2-acf3-4835-b144-5468914a49fb",
   "metadata": {},
   "outputs": [],
   "source": [
    "from fastai.imports import *"
   ]
  },
  {
   "cell_type": "code",
   "execution_count": 2,
   "id": "8e9b3263-3810-4d4e-83c1-a13800fb1c3e",
   "metadata": {},
   "outputs": [],
   "source": [
    "df = pd.read_excel('All2021Cohorts_merged_outlier managed_copy_2.xlsx', sheet_name='MergedRTV_Control2021',header=5)"
   ]
  },
  {
   "cell_type": "code",
   "execution_count": 3,
   "id": "e8aa4561-bd34-4e41-b791-084e1252c634",
   "metadata": {},
   "outputs": [],
   "source": [
    "peer = df[df['Status']=='PEER']\n",
    "rtv = df[df['Status']=='RTV']"
   ]
  },
  {
   "cell_type": "code",
   "execution_count": 4,
   "id": "6e1cb3fe-8873-43dc-b8d0-975a203a8f26",
   "metadata": {},
   "outputs": [],
   "source": [
    "adjusted_cpi = 80.66"
   ]
  },
  {
   "cell_type": "code",
   "execution_count": 5,
   "id": "afdbde8e-960c-482a-854e-213b6b49b337",
   "metadata": {},
   "outputs": [
    {
     "data": {
      "text/plain": [
       "((1899, 5663), (3897, 5663))"
      ]
     },
     "execution_count": 5,
     "metadata": {},
     "output_type": "execute_result"
    }
   ],
   "source": [
    "peer.shape, rtv.shape"
   ]
  },
  {
   "cell_type": "code",
   "execution_count": 6,
   "id": "9c6825e9-3328-4022-b1a9-1935cedd6bdd",
   "metadata": {},
   "outputs": [
    {
     "data": {
      "text/plain": [
       "save_mode_7\n",
       "0    2316\n",
       "1    1581\n",
       "Name: count, dtype: int64"
      ]
     },
     "execution_count": 6,
     "metadata": {},
     "output_type": "execute_result"
    }
   ],
   "source": [
    "rtv[\"save_mode_7\"].value_counts()"
   ]
  },
  {
   "cell_type": "code",
   "execution_count": 7,
   "id": "819113c7-482f-426a-91e1-9a61a1bf8481",
   "metadata": {},
   "outputs": [
    {
     "data": {
      "text/plain": [
       "save_mode_7\n",
       "0    0.594303\n",
       "1    0.405697\n",
       "Name: proportion, dtype: float64"
      ]
     },
     "execution_count": 7,
     "metadata": {},
     "output_type": "execute_result"
    }
   ],
   "source": [
    "rtv[\"save_mode_7\"].value_counts(normalize=True)"
   ]
  },
  {
   "cell_type": "code",
   "execution_count": 13,
   "id": "f411f5cc-65e7-435d-a18f-a7a143e66f8e",
   "metadata": {},
   "outputs": [
    {
     "data": {
      "text/plain": [
       "0.6037977931742365"
      ]
     },
     "execution_count": 13,
     "metadata": {},
     "output_type": "execute_result"
    }
   ],
   "source": [
    "# np.where((rtv[\"save_mode_7\"] == 1) | (rtv[\"save_mode_8\"] == 1), 1, 0).mean()"
   ]
  },
  {
   "cell_type": "code",
   "execution_count": 19,
   "id": "0d4ea3cf-92c1-4f4e-b630-cda6b535ba44",
   "metadata": {},
   "outputs": [
    {
     "data": {
      "text/plain": [
       "save_mode\n",
       "7            0.112138\n",
       "99           0.109315\n",
       "8            0.108802\n",
       "6            0.096741\n",
       "7 8          0.089299\n",
       "               ...   \n",
       "1 7 8 9      0.000257\n",
       "5 6 8 9      0.000257\n",
       "5 6 9        0.000257\n",
       "2 3 6 7 8    0.000257\n",
       "3 5          0.000257\n",
       "Name: proportion, Length: 94, dtype: float64"
      ]
     },
     "execution_count": 19,
     "metadata": {},
     "output_type": "execute_result"
    }
   ],
   "source": [
    "rtv[\"save_mode\"].value_counts(normalize=True)"
   ]
  },
  {
   "cell_type": "code",
   "execution_count": 15,
   "id": "448cd985-f8da-4008-bf3d-ddc0fa4e730b",
   "metadata": {},
   "outputs": [],
   "source": [
    "rtv_vsf = rtv[rtv[\"save_mode_7\"] == 1]\n",
    "rtv_nvsf =  rtv[rtv[\"save_mode_7\"]==0]"
   ]
  },
  {
   "cell_type": "code",
   "execution_count": 8,
   "id": "3d41481a-99ad-4d19-a09f-bb700e45531e",
   "metadata": {},
   "outputs": [
    {
     "data": {
      "text/plain": [
       "((1581, 5663), (2316, 5663))"
      ]
     },
     "execution_count": 8,
     "metadata": {},
     "output_type": "execute_result"
    }
   ],
   "source": [
    "rtv_vsf.shape, rtv_nvsf.shape"
   ]
  },
  {
   "cell_type": "markdown",
   "id": "a3321c36-1010-4cce-8402-9f5742a03b61",
   "metadata": {},
   "source": [
    "## Savings / Loans"
   ]
  },
  {
   "cell_type": "code",
   "execution_count": 9,
   "id": "66b3c4dd-199c-4b46-a8a7-995393a97731",
   "metadata": {},
   "outputs": [
    {
     "data": {
      "text/plain": [
       "mean      277146.423319\n",
       "median    120990.000000\n",
       "Name: Total Savings (Ugx), dtype: float64"
      ]
     },
     "execution_count": 9,
     "metadata": {},
     "output_type": "execute_result"
    }
   ],
   "source": [
    "rtv_vsf['Total Savings (Ugx)'].agg(['mean','median']) * (adjusted_cpi/100)"
   ]
  },
  {
   "cell_type": "code",
   "execution_count": 10,
   "id": "4059ed91-6d3e-4b79-9cd4-c7ede1cc1d92",
   "metadata": {},
   "outputs": [
    {
     "data": {
      "text/plain": [
       "mean      193081.930855\n",
       "median     40330.000000\n",
       "Name: Total Savings (Ugx), dtype: float64"
      ]
     },
     "execution_count": 10,
     "metadata": {},
     "output_type": "execute_result"
    }
   ],
   "source": [
    "rtv_nvsf['Total Savings (Ugx)'].agg(['mean','median']) * (adjusted_cpi/100)"
   ]
  },
  {
   "cell_type": "code",
   "execution_count": null,
   "id": "737d9a8e-228d-497f-9982-625e9ddcbac9",
   "metadata": {},
   "outputs": [],
   "source": []
  },
  {
   "cell_type": "code",
   "execution_count": 11,
   "id": "79a86277-1282-4048-b866-ffa59ce82c05",
   "metadata": {},
   "outputs": [
    {
     "data": {
      "text/plain": [
       "mean      108731.82277\n",
       "median         0.00000\n",
       "Name: Loan Amount (Ugx), dtype: float64"
      ]
     },
     "execution_count": 11,
     "metadata": {},
     "output_type": "execute_result"
    }
   ],
   "source": [
    "rtv_vsf['Loan Amount (Ugx)'].agg(['mean','median']) * (adjusted_cpi/100)"
   ]
  },
  {
   "cell_type": "code",
   "execution_count": 12,
   "id": "dc040c1d-24c4-43f4-9238-8046c88807ab",
   "metadata": {},
   "outputs": [
    {
     "data": {
      "text/plain": [
       "mean      88104.332902\n",
       "median        0.000000\n",
       "Name: Loan Amount (Ugx), dtype: float64"
      ]
     },
     "execution_count": 12,
     "metadata": {},
     "output_type": "execute_result"
    }
   ],
   "source": [
    "rtv_nvsf['Loan Amount (Ugx)'].agg(['mean','median']) * (adjusted_cpi/100)"
   ]
  },
  {
   "cell_type": "markdown",
   "id": "c10e3a22-be19-4dad-811d-ed1f42e874cd",
   "metadata": {},
   "source": [
    "## Percentage of household active"
   ]
  },
  {
   "cell_type": "code",
   "execution_count": 13,
   "id": "eeb8ea35-8b94-432e-b2be-92df433d0159",
   "metadata": {},
   "outputs": [
    {
     "data": {
      "text/plain": [
       "98.98798228969007"
      ]
     },
     "execution_count": 13,
     "metadata": {},
     "output_type": "execute_result"
    }
   ],
   "source": [
    "percent = (len(rtv_vsf[rtv_vsf['Total Savings (Ugx)'] != 0]) / len(rtv_vsf)) * 100\n",
    "percent"
   ]
  },
  {
   "cell_type": "code",
   "execution_count": 14,
   "id": "49398077-6d3e-4002-8376-cb9d0f0e106d",
   "metadata": {},
   "outputs": [
    {
     "data": {
      "text/plain": [
       "74.65457685664938"
      ]
     },
     "execution_count": 14,
     "metadata": {},
     "output_type": "execute_result"
    }
   ],
   "source": [
    "percent = (len(rtv_nvsf[rtv_nvsf['Total Savings (Ugx)'] != 0]) / len(rtv_nvsf)) * 100\n",
    "percent"
   ]
  },
  {
   "cell_type": "markdown",
   "id": "4a7e2bdf-f13d-4cd7-97fe-dae13b745579",
   "metadata": {},
   "source": [
    "## Total Outstanding Data"
   ]
  },
  {
   "cell_type": "code",
   "execution_count": 15,
   "id": "a756aea2-0e6c-491b-b15d-4b967ac98e0f",
   "metadata": {},
   "outputs": [],
   "source": [
    "Total_outstanding_debt = (rtv_vsf[['bank_loan_remaining',\n",
    "                            'sacco_loan_remaining',\n",
    "                            'shop_keeper_loan_remaining',\n",
    "                            'family_friend_loan_remaining',\n",
    "                            'rtv_vsla_loan_remaining',\n",
    "                            'other_village_VSLA_loan_remaining',\n",
    "                            'money_lender_loan_remaining',\n",
    "                            'other_loan_source_loan_remaining']].sum(axis=1)).agg(['mean','median'])"
   ]
  },
  {
   "cell_type": "code",
   "execution_count": 16,
   "id": "afc2f28e-dc8d-4d6e-9643-9d279c5da2fa",
   "metadata": {},
   "outputs": [
    {
     "data": {
      "text/plain": [
       "mean      86764.127891\n",
       "median        0.000000\n",
       "dtype: float64"
      ]
     },
     "execution_count": 16,
     "metadata": {},
     "output_type": "execute_result"
    }
   ],
   "source": [
    "Total_outstanding_debt * (adjusted_cpi/100)"
   ]
  },
  {
   "cell_type": "code",
   "execution_count": 17,
   "id": "63e56592-6c66-4112-a2c2-9b38860a964a",
   "metadata": {},
   "outputs": [],
   "source": [
    "Total_outstanding_debt = (rtv_nvsf[['bank_loan_remaining',\n",
    "                            'sacco_loan_remaining',\n",
    "                            'shop_keeper_loan_remaining',\n",
    "                            'family_friend_loan_remaining',\n",
    "                            'rtv_vsla_loan_remaining',\n",
    "                            'other_village_VSLA_loan_remaining',\n",
    "                            'money_lender_loan_remaining',\n",
    "                            'other_loan_source_loan_remaining']].sum(axis=1)).agg(['mean','median'])"
   ]
  },
  {
   "cell_type": "code",
   "execution_count": 18,
   "id": "4e6444db-8428-4b8b-99f8-6dd43c1c945c",
   "metadata": {},
   "outputs": [
    {
     "data": {
      "text/plain": [
       "mean      79133.62443\n",
       "median        0.00000\n",
       "dtype: float64"
      ]
     },
     "execution_count": 18,
     "metadata": {},
     "output_type": "execute_result"
    }
   ],
   "source": [
    "Total_outstanding_debt * (adjusted_cpi/100)"
   ]
  },
  {
   "cell_type": "markdown",
   "id": "e54beb3d-2ba3-40d2-b058-d6f8ae8c2a5b",
   "metadata": {},
   "source": [
    "## Loan in the first 12 months"
   ]
  },
  {
   "cell_type": "code",
   "execution_count": 19,
   "id": "4dfaabe4-9e4c-409f-a3d2-0646ec46f3b4",
   "metadata": {},
   "outputs": [
    {
     "data": {
      "text/plain": [
       "borrowed_past_12_months\n",
       "0    67.299178\n",
       "1    32.700822\n",
       "Name: proportion, dtype: float64"
      ]
     },
     "execution_count": 19,
     "metadata": {},
     "output_type": "execute_result"
    }
   ],
   "source": [
    "rtv_vsf['borrowed_past_12_months'].value_counts(normalize=True)*100"
   ]
  },
  {
   "cell_type": "code",
   "execution_count": 20,
   "id": "f394ff10-dfc6-4576-ba74-7d545d311c58",
   "metadata": {},
   "outputs": [
    {
     "data": {
      "text/plain": [
       "borrowed_past_12_months\n",
       "0    85.060449\n",
       "1    14.939551\n",
       "Name: proportion, dtype: float64"
      ]
     },
     "execution_count": 20,
     "metadata": {},
     "output_type": "execute_result"
    }
   ],
   "source": [
    "rtv_nvsf['borrowed_past_12_months'].value_counts(normalize=True)*100"
   ]
  },
  {
   "cell_type": "markdown",
   "id": "ed1e4bac-15d1-451a-be30-06940d434bc7",
   "metadata": {},
   "source": [
    "## Interest Rate"
   ]
  },
  {
   "cell_type": "code",
   "execution_count": 21,
   "id": "3ea60462-af97-46df-9e6d-499bfd2383e9",
   "metadata": {},
   "outputs": [
    {
     "data": {
      "text/plain": [
       "mean      4.267198\n",
       "median    3.000000\n",
       "Name: Interest, dtype: float64"
      ]
     },
     "execution_count": 21,
     "metadata": {},
     "output_type": "execute_result"
    }
   ],
   "source": [
    "rtv_vsf[rtv_vsf['Interest'] != 0.]['Interest'].agg(['mean', 'median'])"
   ]
  },
  {
   "cell_type": "code",
   "execution_count": 22,
   "id": "94e6ef5e-743e-4fdb-a9f6-0f8b846e0da4",
   "metadata": {},
   "outputs": [
    {
     "data": {
      "text/plain": [
       "mean      4.757903\n",
       "median    5.000000\n",
       "Name: Interest, dtype: float64"
      ]
     },
     "execution_count": 22,
     "metadata": {},
     "output_type": "execute_result"
    }
   ],
   "source": [
    "rtv_nvsf[rtv_nvsf['Interest'] != 0.]['Interest'].agg(['mean', 'median'])"
   ]
  },
  {
   "cell_type": "markdown",
   "id": "dff28a90-32b0-4024-9ffb-2dad8dc0dfd0",
   "metadata": {},
   "source": [
    "# Income Earnings and Asssets"
   ]
  },
  {
   "cell_type": "code",
   "execution_count": 23,
   "id": "0d692a92-4db6-4cb2-9f80-0434b5ac68f6",
   "metadata": {},
   "outputs": [
    {
     "data": {
      "text/html": [
       "<div>\n",
       "<style scoped>\n",
       "    .dataframe tbody tr th:only-of-type {\n",
       "        vertical-align: middle;\n",
       "    }\n",
       "\n",
       "    .dataframe tbody tr th {\n",
       "        vertical-align: top;\n",
       "    }\n",
       "\n",
       "    .dataframe thead th {\n",
       "        text-align: right;\n",
       "    }\n",
       "</style>\n",
       "<table border=\"1\" class=\"dataframe\">\n",
       "  <thead>\n",
       "    <tr style=\"text-align: right;\">\n",
       "      <th></th>\n",
       "      <th>Personal Business &amp; Self Employment (USD_Cons_rate)</th>\n",
       "      <th>Seasonal Crops Income (USD_Cons_rate)</th>\n",
       "      <th>Seasonal  Agriculture Value (USD_Cons_rate)</th>\n",
       "      <th>Livestock Income (USD_Cons_rate)</th>\n",
       "      <th>Assets (USD_Cons_rate)</th>\n",
       "      <th>HH Income (USD_Cons_rate)</th>\n",
       "      <th>HH Income + Consumption + Residues (USD_Cons_rate)</th>\n",
       "      <th>HH Income/Day (USD_Cons_rate)</th>\n",
       "      <th>HH Income + Consumption + Residues/Day (USD_Cons_rate)</th>\n",
       "    </tr>\n",
       "  </thead>\n",
       "  <tbody>\n",
       "    <tr>\n",
       "      <th>mean</th>\n",
       "      <td>82.865723</td>\n",
       "      <td>135.076845</td>\n",
       "      <td>343.952211</td>\n",
       "      <td>29.226014</td>\n",
       "      <td>236.608194</td>\n",
       "      <td>513.651618</td>\n",
       "      <td>860.715423</td>\n",
       "      <td>1.407265</td>\n",
       "      <td>2.358124</td>\n",
       "    </tr>\n",
       "    <tr>\n",
       "      <th>median</th>\n",
       "      <td>11.202778</td>\n",
       "      <td>90.742500</td>\n",
       "      <td>270.860761</td>\n",
       "      <td>0.000000</td>\n",
       "      <td>145.636111</td>\n",
       "      <td>425.481500</td>\n",
       "      <td>764.253500</td>\n",
       "      <td>1.165703</td>\n",
       "      <td>2.093845</td>\n",
       "    </tr>\n",
       "  </tbody>\n",
       "</table>\n",
       "</div>"
      ],
      "text/plain": [
       "        Personal Business & Self Employment (USD_Cons_rate)  \\\n",
       "mean                                              82.865723   \n",
       "median                                            11.202778   \n",
       "\n",
       "        Seasonal Crops Income (USD_Cons_rate)  \\\n",
       "mean                               135.076845   \n",
       "median                              90.742500   \n",
       "\n",
       "        Seasonal  Agriculture Value (USD_Cons_rate)  \\\n",
       "mean                                     343.952211   \n",
       "median                                   270.860761   \n",
       "\n",
       "        Livestock Income (USD_Cons_rate)  Assets (USD_Cons_rate)  \\\n",
       "mean                           29.226014              236.608194   \n",
       "median                          0.000000              145.636111   \n",
       "\n",
       "        HH Income (USD_Cons_rate)  \\\n",
       "mean                   513.651618   \n",
       "median                 425.481500   \n",
       "\n",
       "        HH Income + Consumption + Residues (USD_Cons_rate)  \\\n",
       "mean                                            860.715423   \n",
       "median                                          764.253500   \n",
       "\n",
       "        HH Income/Day (USD_Cons_rate)  \\\n",
       "mean                         1.407265   \n",
       "median                       1.165703   \n",
       "\n",
       "        HH Income + Consumption + Residues/Day (USD_Cons_rate)  \n",
       "mean                                                  2.358124  \n",
       "median                                                2.093845  "
      ]
     },
     "execution_count": 23,
     "metadata": {},
     "output_type": "execute_result"
    }
   ],
   "source": [
    "rtv_vsf[[\n",
    "    'Personal Business & Self Employment (USD_Cons_rate)',\n",
    "    'Seasonal Crops Income (USD_Cons_rate)',\n",
    "    'Seasonal  Agriculture Value (USD_Cons_rate)',\n",
    "    'Livestock Income (USD_Cons_rate)',\n",
    "    'Assets (USD_Cons_rate)',\n",
    "    'HH Income (USD_Cons_rate)',\n",
    "    'HH Income + Consumption + Residues (USD_Cons_rate)',\n",
    "    'HH Income/Day (USD_Cons_rate)',\n",
    "    'HH Income + Consumption + Residues/Day (USD_Cons_rate)'\n",
    "]].agg(['mean','median'])"
   ]
  },
  {
   "cell_type": "code",
   "execution_count": 24,
   "id": "f7aa32e9-bc25-4aed-a989-edc4d9159ef1",
   "metadata": {},
   "outputs": [
    {
     "data": {
      "text/html": [
       "<div>\n",
       "<style scoped>\n",
       "    .dataframe tbody tr th:only-of-type {\n",
       "        vertical-align: middle;\n",
       "    }\n",
       "\n",
       "    .dataframe tbody tr th {\n",
       "        vertical-align: top;\n",
       "    }\n",
       "\n",
       "    .dataframe thead th {\n",
       "        text-align: right;\n",
       "    }\n",
       "</style>\n",
       "<table border=\"1\" class=\"dataframe\">\n",
       "  <thead>\n",
       "    <tr style=\"text-align: right;\">\n",
       "      <th></th>\n",
       "      <th>Personal Business &amp; Self Employment (USD_Cons_rate)</th>\n",
       "      <th>Seasonal Crops Income (USD_Cons_rate)</th>\n",
       "      <th>Seasonal  Agriculture Value (USD_Cons_rate)</th>\n",
       "      <th>Livestock Income (USD_Cons_rate)</th>\n",
       "      <th>Assets (USD_Cons_rate)</th>\n",
       "      <th>HH Income (USD_Cons_rate)</th>\n",
       "      <th>HH Income + Consumption + Residues (USD_Cons_rate)</th>\n",
       "      <th>HH Income/Day (USD_Cons_rate)</th>\n",
       "      <th>HH Income + Consumption + Residues/Day (USD_Cons_rate)</th>\n",
       "    </tr>\n",
       "  </thead>\n",
       "  <tbody>\n",
       "    <tr>\n",
       "      <th>mean</th>\n",
       "      <td>65.591896</td>\n",
       "      <td>111.168368</td>\n",
       "      <td>292.63339</td>\n",
       "      <td>20.175593</td>\n",
       "      <td>183.786609</td>\n",
       "      <td>464.124237</td>\n",
       "      <td>788.350217</td>\n",
       "      <td>1.271573</td>\n",
       "      <td>2.159864</td>\n",
       "    </tr>\n",
       "    <tr>\n",
       "      <th>median</th>\n",
       "      <td>0.000000</td>\n",
       "      <td>76.066861</td>\n",
       "      <td>241.98000</td>\n",
       "      <td>0.000000</td>\n",
       "      <td>85.141111</td>\n",
       "      <td>363.574950</td>\n",
       "      <td>681.128889</td>\n",
       "      <td>0.996096</td>\n",
       "      <td>1.866107</td>\n",
       "    </tr>\n",
       "  </tbody>\n",
       "</table>\n",
       "</div>"
      ],
      "text/plain": [
       "        Personal Business & Self Employment (USD_Cons_rate)  \\\n",
       "mean                                              65.591896   \n",
       "median                                             0.000000   \n",
       "\n",
       "        Seasonal Crops Income (USD_Cons_rate)  \\\n",
       "mean                               111.168368   \n",
       "median                              76.066861   \n",
       "\n",
       "        Seasonal  Agriculture Value (USD_Cons_rate)  \\\n",
       "mean                                      292.63339   \n",
       "median                                    241.98000   \n",
       "\n",
       "        Livestock Income (USD_Cons_rate)  Assets (USD_Cons_rate)  \\\n",
       "mean                           20.175593              183.786609   \n",
       "median                          0.000000               85.141111   \n",
       "\n",
       "        HH Income (USD_Cons_rate)  \\\n",
       "mean                   464.124237   \n",
       "median                 363.574950   \n",
       "\n",
       "        HH Income + Consumption + Residues (USD_Cons_rate)  \\\n",
       "mean                                            788.350217   \n",
       "median                                          681.128889   \n",
       "\n",
       "        HH Income/Day (USD_Cons_rate)  \\\n",
       "mean                         1.271573   \n",
       "median                       0.996096   \n",
       "\n",
       "        HH Income + Consumption + Residues/Day (USD_Cons_rate)  \n",
       "mean                                                  2.159864  \n",
       "median                                                1.866107  "
      ]
     },
     "execution_count": 24,
     "metadata": {},
     "output_type": "execute_result"
    }
   ],
   "source": [
    "rtv_nvsf[[\n",
    "    'Personal Business & Self Employment (USD_Cons_rate)',\n",
    "    'Seasonal Crops Income (USD_Cons_rate)',\n",
    "    'Seasonal  Agriculture Value (USD_Cons_rate)',\n",
    "    'Livestock Income (USD_Cons_rate)',\n",
    "    'Assets (USD_Cons_rate)',\n",
    "    'HH Income (USD_Cons_rate)',\n",
    "    'HH Income + Consumption + Residues (USD_Cons_rate)',\n",
    "    'HH Income/Day (USD_Cons_rate)',\n",
    "    'HH Income + Consumption + Residues/Day (USD_Cons_rate)'\n",
    "]].agg(['mean','median'])"
   ]
  },
  {
   "cell_type": "markdown",
   "id": "acbab0b8-6a13-4ad9-8063-e8d14bf1f44d",
   "metadata": {},
   "source": [
    "## Purpose of the Loan"
   ]
  },
  {
   "cell_type": "raw",
   "id": "14d2cdef-8aff-4dd1-959a-a8c6437758aa",
   "metadata": {},
   "source": [
    "1\tSchool Fees\r\n",
    "2\tHome construction\r\n",
    "3\tBusiness\r\n",
    "4\tAgriculture inputs\r\n",
    "5\tMedicine and Sickness\r\n",
    "6\tLivestock\r\n",
    "7\tBuying land\r\n",
    "8\tHousehold items\r\n",
    "9\tTo repay other debts\r\n",
    "97\tOthers"
   ]
  },
  {
   "cell_type": "code",
   "execution_count": null,
   "id": "80964adf-07ef-472a-a23d-2f8765a32c64",
   "metadata": {},
   "outputs": [],
   "source": []
  },
  {
   "cell_type": "code",
   "execution_count": 25,
   "id": "259a8490-ad4d-4db5-8fa0-ad6dc7432e3b",
   "metadata": {},
   "outputs": [
    {
     "data": {
      "text/plain": [
       "purpose_for_borrow\n",
       "1.0     28.820116\n",
       "6.0     22.630561\n",
       "4.0     21.663443\n",
       "3.0      9.477756\n",
       "8.0      4.835590\n",
       "2.0      3.675048\n",
       "7.0      3.094778\n",
       "5.0      2.901354\n",
       "9.0      1.740812\n",
       "97.0     1.160542\n",
       "Name: proportion, dtype: float64"
      ]
     },
     "execution_count": 25,
     "metadata": {},
     "output_type": "execute_result"
    }
   ],
   "source": [
    "rtv_vsf['purpose_for_borrow'].value_counts(normalize=True)*100"
   ]
  },
  {
   "cell_type": "code",
   "execution_count": 26,
   "id": "e114a54f-388c-47d1-961e-f50150e1045b",
   "metadata": {},
   "outputs": [
    {
     "data": {
      "text/plain": [
       "purpose_for_borrow\n",
       "1.0     31.502890\n",
       "4.0     16.473988\n",
       "3.0     15.895954\n",
       "5.0      7.514451\n",
       "6.0      7.225434\n",
       "2.0      6.069364\n",
       "7.0      5.202312\n",
       "8.0      4.335260\n",
       "9.0      3.179191\n",
       "97.0     2.601156\n",
       "Name: proportion, dtype: float64"
      ]
     },
     "execution_count": 26,
     "metadata": {},
     "output_type": "execute_result"
    }
   ],
   "source": [
    "rtv_nvsf['purpose_for_borrow'].value_counts(normalize=True)*100"
   ]
  },
  {
   "cell_type": "code",
   "execution_count": null,
   "id": "6af4981f-a6c4-401f-a3f6-e375cbda23d9",
   "metadata": {},
   "outputs": [],
   "source": []
  },
  {
   "cell_type": "markdown",
   "id": "181e64a7-e4f7-4678-b72a-beaa62fee3cf",
   "metadata": {},
   "source": [
    "## Loan Sources"
   ]
  },
  {
   "cell_type": "raw",
   "id": "7a276da8-85f9-43c3-ab9b-ef5d2b516398",
   "metadata": {},
   "source": [
    "1\tBank Account\r\n",
    "2\tSaving and Credit cooperatives (SACCO)\r\n",
    "3\tA mobile Money accounts\r\n",
    "4\tWith a shopkeeper\r\n",
    "5\tWith family and friends\r\n",
    "6\tAt a safe place at home\r\n",
    "7\tRTV VSLA (Cash round)\r\n",
    "8\tOther VSLA\r\n",
    "97\tOther\r\n",
    "99\tNo savings"
   ]
  },
  {
   "cell_type": "code",
   "execution_count": 27,
   "id": "d0f04154-8fff-4f6a-b1ac-73515d3d92e9",
   "metadata": {},
   "outputs": [
    {
     "data": {
      "text/plain": [
       "Loan_from_1\n",
       "0.0    95.938104\n",
       "1.0     4.061896\n",
       "Name: proportion, dtype: float64"
      ]
     },
     "execution_count": 27,
     "metadata": {},
     "output_type": "execute_result"
    }
   ],
   "source": [
    "rtv_vsf['Loan_from_1'].value_counts(normalize=True)*100"
   ]
  },
  {
   "cell_type": "code",
   "execution_count": 28,
   "id": "4914d693-8c96-4523-8727-74596cfa9474",
   "metadata": {},
   "outputs": [
    {
     "data": {
      "text/plain": [
       "Loan_from_1\n",
       "0.0    92.196532\n",
       "1.0     7.803468\n",
       "Name: proportion, dtype: float64"
      ]
     },
     "execution_count": 28,
     "metadata": {},
     "output_type": "execute_result"
    }
   ],
   "source": [
    "rtv_nvsf['Loan_from_1'].value_counts(normalize=True)*100"
   ]
  },
  {
   "cell_type": "code",
   "execution_count": null,
   "id": "ee869836-e44d-479f-909a-629be0b01ae7",
   "metadata": {},
   "outputs": [],
   "source": []
  },
  {
   "cell_type": "code",
   "execution_count": 29,
   "id": "10d3487b-c423-496e-8910-11a23a414a5e",
   "metadata": {},
   "outputs": [
    {
     "data": {
      "text/plain": [
       "Loan_from_2\n",
       "0.0    92.263056\n",
       "1.0     7.736944\n",
       "Name: proportion, dtype: float64"
      ]
     },
     "execution_count": 29,
     "metadata": {},
     "output_type": "execute_result"
    }
   ],
   "source": [
    "rtv_vsf['Loan_from_2'].value_counts(normalize=True)*100"
   ]
  },
  {
   "cell_type": "code",
   "execution_count": 30,
   "id": "dbf1e1fa-26da-4b52-8461-97667b60c73c",
   "metadata": {},
   "outputs": [
    {
     "data": {
      "text/plain": [
       "Loan_from_2\n",
       "0.0    79.768786\n",
       "1.0    20.231214\n",
       "Name: proportion, dtype: float64"
      ]
     },
     "execution_count": 30,
     "metadata": {},
     "output_type": "execute_result"
    }
   ],
   "source": [
    "rtv_nvsf['Loan_from_2'].value_counts(normalize=True)*100"
   ]
  },
  {
   "cell_type": "code",
   "execution_count": null,
   "id": "73114d59-acf8-43c4-96fa-e8918506c570",
   "metadata": {},
   "outputs": [],
   "source": []
  },
  {
   "cell_type": "code",
   "execution_count": 31,
   "id": "d0b50a9f-ba96-48d1-9fed-9fde5739231a",
   "metadata": {},
   "outputs": [
    {
     "data": {
      "text/plain": [
       "Loan_from_7\n",
       "1.0    71.953578\n",
       "0.0    28.046422\n",
       "Name: proportion, dtype: float64"
      ]
     },
     "execution_count": 31,
     "metadata": {},
     "output_type": "execute_result"
    }
   ],
   "source": [
    "rtv_vsf['Loan_from_7'].value_counts(normalize=True)*100"
   ]
  },
  {
   "cell_type": "code",
   "execution_count": 32,
   "id": "b048f937-43a9-49a0-ab78-2e544ca571ab",
   "metadata": {},
   "outputs": [
    {
     "data": {
      "text/plain": [
       "Loan_from_7\n",
       "0.0    69.942197\n",
       "1.0    30.057803\n",
       "Name: proportion, dtype: float64"
      ]
     },
     "execution_count": 32,
     "metadata": {},
     "output_type": "execute_result"
    }
   ],
   "source": [
    "rtv_nvsf['Loan_from_7'].value_counts(normalize=True)*100"
   ]
  },
  {
   "cell_type": "code",
   "execution_count": null,
   "id": "a0229808-f3a5-44b4-9b3f-91b2541537c4",
   "metadata": {},
   "outputs": [],
   "source": []
  },
  {
   "cell_type": "code",
   "execution_count": 33,
   "id": "cf95abf2-48b2-42ee-9a07-bd8f32c1f18c",
   "metadata": {},
   "outputs": [
    {
     "data": {
      "text/plain": [
       "Loan_from_8\n",
       "0.0    87.040619\n",
       "1.0    12.959381\n",
       "Name: proportion, dtype: float64"
      ]
     },
     "execution_count": 33,
     "metadata": {},
     "output_type": "execute_result"
    }
   ],
   "source": [
    "rtv_vsf['Loan_from_8'].value_counts(normalize=True)*100"
   ]
  },
  {
   "cell_type": "code",
   "execution_count": 34,
   "id": "75b023c5-060e-4659-b884-d20bcbc89448",
   "metadata": {},
   "outputs": [
    {
     "data": {
      "text/plain": [
       "Loan_from_8\n",
       "0.0    63.872832\n",
       "1.0    36.127168\n",
       "Name: proportion, dtype: float64"
      ]
     },
     "execution_count": 34,
     "metadata": {},
     "output_type": "execute_result"
    }
   ],
   "source": [
    "rtv_nvsf['Loan_from_8'].value_counts(normalize=True)*100"
   ]
  },
  {
   "cell_type": "markdown",
   "id": "49af2c88-18c8-4366-8c5a-16cd092e085b",
   "metadata": {},
   "source": [
    "## Loan Types"
   ]
  },
  {
   "cell_type": "raw",
   "id": "d51eeda0-61f7-4323-9fdb-92c8494ca51c",
   "metadata": {},
   "source": [
    "1\tReducing Balance\n",
    "2\tFixed interest\n",
    "97\tAny other"
   ]
  },
  {
   "cell_type": "code",
   "execution_count": 35,
   "id": "5cc6f893-c789-4f15-a2c6-bf30f3b8998d",
   "metadata": {},
   "outputs": [
    {
     "data": {
      "text/plain": [
       "bank_loan_type\n",
       "1.0    52.380952\n",
       "2.0    47.619048\n",
       "Name: proportion, dtype: float64"
      ]
     },
     "execution_count": 35,
     "metadata": {},
     "output_type": "execute_result"
    }
   ],
   "source": [
    "rtv_vsf['bank_loan_type'].value_counts(normalize=True) * 100"
   ]
  },
  {
   "cell_type": "code",
   "execution_count": 36,
   "id": "ceb2cb26-a603-445d-9926-e17f18582f6a",
   "metadata": {},
   "outputs": [
    {
     "data": {
      "text/plain": [
       "bank_loan_type\n",
       "2.0    51.851852\n",
       "1.0    48.148148\n",
       "Name: proportion, dtype: float64"
      ]
     },
     "execution_count": 36,
     "metadata": {},
     "output_type": "execute_result"
    }
   ],
   "source": [
    "rtv_nvsf['bank_loan_type'].value_counts(normalize=True) * 100"
   ]
  },
  {
   "cell_type": "code",
   "execution_count": null,
   "id": "0908eb7d-1ec2-43b4-a36f-af62a7737456",
   "metadata": {},
   "outputs": [],
   "source": []
  },
  {
   "cell_type": "code",
   "execution_count": null,
   "id": "9670d93f-c3c6-441c-8f93-dc62fcc30ebc",
   "metadata": {},
   "outputs": [],
   "source": []
  },
  {
   "cell_type": "code",
   "execution_count": null,
   "id": "b1d85c7c-0340-4c70-9ea4-11ee1a6377d6",
   "metadata": {},
   "outputs": [],
   "source": []
  },
  {
   "cell_type": "markdown",
   "id": "5e3ec5fb-4a2e-464b-9185-0765e5cd6829",
   "metadata": {},
   "source": [
    "## Interests Rates"
   ]
  },
  {
   "cell_type": "code",
   "execution_count": null,
   "id": "f583c997-22ce-4022-bb47-7bff2e7b1a66",
   "metadata": {},
   "outputs": [],
   "source": [
    "rtv['bank_loan_interest'].mean()"
   ]
  },
  {
   "cell_type": "code",
   "execution_count": null,
   "id": "968fd200-7af8-4ad5-95cf-66d4a0b03218",
   "metadata": {},
   "outputs": [],
   "source": [
    "rtv['sacco_loan_interest'].mean()"
   ]
  },
  {
   "cell_type": "code",
   "execution_count": null,
   "id": "a95d3a97-8df2-4d7c-9185-e9f413787cd7",
   "metadata": {},
   "outputs": [],
   "source": [
    "rtv['rtv_vsla_loan_interest'].mean()"
   ]
  },
  {
   "cell_type": "code",
   "execution_count": null,
   "id": "e2a86d67-0360-43ce-9299-06be0cfc32e0",
   "metadata": {},
   "outputs": [],
   "source": []
  }
 ],
 "metadata": {
  "kernelspec": {
   "display_name": "Python 3 (ipykernel)",
   "language": "python",
   "name": "python3"
  },
  "language_info": {
   "codemirror_mode": {
    "name": "ipython",
    "version": 3
   },
   "file_extension": ".py",
   "mimetype": "text/x-python",
   "name": "python",
   "nbconvert_exporter": "python",
   "pygments_lexer": "ipython3",
   "version": "3.10.12"
  }
 },
 "nbformat": 4,
 "nbformat_minor": 5
}
