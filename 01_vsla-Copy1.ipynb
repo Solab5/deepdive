{
 "cells": [
  {
   "cell_type": "code",
   "execution_count": 1,
   "id": "212be6e2-acf3-4835-b144-5468914a49fb",
   "metadata": {},
   "outputs": [],
   "source": [
    "from fastai.imports import *"
   ]
  },
  {
   "cell_type": "code",
   "execution_count": 2,
   "id": "dbabaa4b-26e1-4c58-aad1-188318d14b50",
   "metadata": {},
   "outputs": [],
   "source": [
    "from scipy.stats import f_oneway"
   ]
  },
  {
   "cell_type": "code",
   "execution_count": 3,
   "id": "8e9b3263-3810-4d4e-83c1-a13800fb1c3e",
   "metadata": {},
   "outputs": [],
   "source": [
    "df = pd.read_excel('All2021Cohorts_merged_outlier managed_copy_2.xlsx', sheet_name='MergedRTV_Control2021',header=5)"
   ]
  },
  {
   "cell_type": "code",
   "execution_count": 14,
   "id": "e8aa4561-bd34-4e41-b791-084e1252c634",
   "metadata": {},
   "outputs": [],
   "source": [
    "peer = df[df['Status']=='PEER']\n",
    "rtv = df[df['Status']=='RTV']"
   ]
  },
  {
   "cell_type": "code",
   "execution_count": 10,
   "id": "5fa3706f-7c68-4c46-b211-18af997ec74b",
   "metadata": {},
   "outputs": [
    {
     "data": {
      "text/plain": [
       "Status\n",
       "RTV     3897\n",
       "PEER    1899\n",
       "Name: count, dtype: int64"
      ]
     },
     "execution_count": 10,
     "metadata": {},
     "output_type": "execute_result"
    }
   ],
   "source": [
    "df['Status'].value_counts()"
   ]
  },
  {
   "cell_type": "code",
   "execution_count": 11,
   "id": "2ab044ff-daf0-4658-80d5-e47c4b643eb7",
   "metadata": {},
   "outputs": [],
   "source": [
    "df['new_status'] = np.where(df['Status'] == 'PEER', 'PEER', \n",
    "                            np.where(df['Status'] == 'RTV', \n",
    "                                    np.where(df['save_mode_7'] == 1, \n",
    "                                    'RTV_vsla', 'RTV_nonvsla'), \n",
    "                                    df['Status']))"
   ]
  },
  {
   "cell_type": "code",
   "execution_count": 12,
   "id": "ec2244df-7b46-45fc-b137-ddc140ad2b1b",
   "metadata": {},
   "outputs": [
    {
     "data": {
      "text/plain": [
       "new_status\n",
       "RTV_nonvsla    2316\n",
       "PEER           1899\n",
       "RTV_vsla       1581\n",
       "Name: count, dtype: int64"
      ]
     },
     "execution_count": 12,
     "metadata": {},
     "output_type": "execute_result"
    }
   ],
   "source": [
    "df['new_status'].value_counts()"
   ]
  },
  {
   "cell_type": "code",
   "execution_count": 15,
   "id": "7d6a0b4a-4c21-4339-9325-0462ec30f751",
   "metadata": {},
   "outputs": [],
   "source": [
    "rtv_vsf = rtv[rtv[\"save_mode_7\"] == 1]\n",
    "rtv_nvsf =  rtv[rtv[\"save_mode_7\"]==0]"
   ]
  },
  {
   "cell_type": "code",
   "execution_count": null,
   "id": "6e1cb3fe-8873-43dc-b8d0-975a203a8f26",
   "metadata": {},
   "outputs": [],
   "source": [
    "adjusted_cpi = 80.66"
   ]
  },
  {
   "cell_type": "code",
   "execution_count": 16,
   "id": "afdbde8e-960c-482a-854e-213b6b49b337",
   "metadata": {},
   "outputs": [
    {
     "data": {
      "text/plain": [
       "((1899, 5664), (1581, 5664), (2316, 5664))"
      ]
     },
     "execution_count": 16,
     "metadata": {},
     "output_type": "execute_result"
    }
   ],
   "source": [
    "peer.shape, rtv_vsf.shape, rtv_nvsf.shape"
   ]
  },
  {
   "cell_type": "markdown",
   "id": "a3321c36-1010-4cce-8402-9f5742a03b61",
   "metadata": {},
   "source": [
    "## Savings / Loans"
   ]
  },
  {
   "cell_type": "code",
   "execution_count": null,
   "id": "66b3c4dd-199c-4b46-a8a7-995393a97731",
   "metadata": {},
   "outputs": [],
   "source": [
    "peer['Total Savings (Ugx)'].agg(['mean','median']) * (adjusted_cpi/100)"
   ]
  },
  {
   "cell_type": "code",
   "execution_count": null,
   "id": "737d9a8e-228d-497f-9982-625e9ddcbac9",
   "metadata": {},
   "outputs": [],
   "source": [
    "f_oneway(peer['Total Savings (Ugx)'], rtv_vsf['Total Savings (Ugx)'],rtv_nvsf['Total Savings (Ugx)'])"
   ]
  },
  {
   "cell_type": "code",
   "execution_count": null,
   "id": "79a86277-1282-4048-b866-ffa59ce82c05",
   "metadata": {},
   "outputs": [],
   "source": [
    "peer['Loan Amount (Ugx)'].agg(['mean','median']) * (adjusted_cpi/100)"
   ]
  },
  {
   "cell_type": "code",
   "execution_count": null,
   "id": "ef963af5-0dd6-4619-a590-1102a7655563",
   "metadata": {},
   "outputs": [],
   "source": [
    "peer['Loan Amount (Ugx)'].agg(['mean','median'])"
   ]
  },
  {
   "cell_type": "code",
   "execution_count": null,
   "id": "0198168f-75a6-45e6-91f8-d1ab6a1d6307",
   "metadata": {},
   "outputs": [],
   "source": [
    "f_oneway(peer['Loan Amount (Ugx)'], rtv_vsf['Loan Amount (Ugx)'],rtv_nvsf['Loan Amount (Ugx)'])"
   ]
  },
  {
   "cell_type": "markdown",
   "id": "c10e3a22-be19-4dad-811d-ed1f42e874cd",
   "metadata": {},
   "source": [
    "## Percentage of household active"
   ]
  },
  {
   "cell_type": "code",
   "execution_count": null,
   "id": "eeb8ea35-8b94-432e-b2be-92df433d0159",
   "metadata": {},
   "outputs": [],
   "source": [
    "percent = (len(peer[peer['Total Savings (Ugx)'] != 0]) / len(peer)) * 100\n",
    "percent"
   ]
  },
  {
   "cell_type": "code",
   "execution_count": null,
   "id": "484c1fc8-73d3-456f-8f3b-cf93771475f6",
   "metadata": {},
   "outputs": [],
   "source": []
  },
  {
   "cell_type": "markdown",
   "id": "4a7e2bdf-f13d-4cd7-97fe-dae13b745579",
   "metadata": {},
   "source": [
    "## Total Outstanding Data"
   ]
  },
  {
   "cell_type": "code",
   "execution_count": null,
   "id": "e3169789-8ea4-4cba-9867-86048ff7ee61",
   "metadata": {},
   "outputs": [],
   "source": [
    "(df.groupby('new_stat')[['non_waterborne_30_days',\n",
    "                      'waterborne_illness_last_30_days',\n",
    "                      'Distance_travelled_one_way_OPD_treatment', \n",
    "                      'Time_travel_one_way_trip_OPD_treatment_minutes',\n",
    "                      'HH_treatment_expense',\n",
    "                      'waterborne_illness_hh_member_num',\n",
    "                      'waterborne_illness_hh_member_num_u5',\n",
    "                      'waterborne_illness_hh_member_instances']]).mean().transpose()"
   ]
  },
  {
   "cell_type": "code",
   "execution_count": null,
   "id": "a756aea2-0e6c-491b-b15d-4b967ac98e0f",
   "metadata": {},
   "outputs": [],
   "source": [
    "Total_outstanding_debt = (peer[['bank_loan_remaining',\n",
    "                            'sacco_loan_remaining',\n",
    "                            'shop_keeper_loan_remaining',\n",
    "                            'family_friend_loan_remaining',\n",
    "                            'rtv_vsla_loan_remaining',\n",
    "                            'other_village_VSLA_loan_remaining',\n",
    "                            'money_lender_loan_remaining',\n",
    "                            'other_loan_source_loan_remaining']].fillna(0).sum(axis=1)).agg(['mean','median'])"
   ]
  },
  {
   "cell_type": "code",
   "execution_count": null,
   "id": "afc2f28e-dc8d-4d6e-9643-9d279c5da2fa",
   "metadata": {},
   "outputs": [],
   "source": [
    "Total_outstanding_debt * (adjusted_cpi/100)"
   ]
  },
  {
   "cell_type": "code",
   "execution_count": null,
   "id": "de6bb9ee-05c9-437c-a1fc-e921e2ec0205",
   "metadata": {},
   "outputs": [],
   "source": [
    "f_oneway(peer['Total Savings (Ugx)'], rtv_vsf['Total Savings (Ugx)'],rtv_nvsf['Total Savings (Ugx)'])"
   ]
  },
  {
   "cell_type": "markdown",
   "id": "e54beb3d-2ba3-40d2-b058-d6f8ae8c2a5b",
   "metadata": {},
   "source": [
    "### Loan in the first 12 months"
   ]
  },
  {
   "cell_type": "code",
   "execution_count": null,
   "id": "4dfaabe4-9e4c-409f-a3d2-0646ec46f3b4",
   "metadata": {},
   "outputs": [],
   "source": [
    "peer['borrowed_past_12_months'].value_counts(normalize=True)*100"
   ]
  },
  {
   "cell_type": "markdown",
   "id": "ed1e4bac-15d1-451a-be30-06940d434bc7",
   "metadata": {},
   "source": [
    "### Interest Rate"
   ]
  },
  {
   "cell_type": "code",
   "execution_count": null,
   "id": "cba85442-9343-4c81-bc88-e7f3859cb499",
   "metadata": {},
   "outputs": [],
   "source": [
    "peer[peer['Interest'] != 0.]['Interest'].agg(['mean', 'median'])"
   ]
  },
  {
   "cell_type": "code",
   "execution_count": null,
   "id": "4fe68099-4049-4109-8290-82ea1470af8c",
   "metadata": {},
   "outputs": [],
   "source": []
  },
  {
   "cell_type": "markdown",
   "id": "0bea28a3-daaa-4675-8d36-ec319b1efc0e",
   "metadata": {},
   "source": [
    "# Income Earnings and Asssets"
   ]
  },
  {
   "cell_type": "code",
   "execution_count": null,
   "id": "2d23b25a-c2b2-4e0f-9400-4707b74c9028",
   "metadata": {},
   "outputs": [],
   "source": [
    "peer['Assets (USD_Cons_rate)']"
   ]
  },
  {
   "cell_type": "code",
   "execution_count": null,
   "id": "6af64e7e-58e0-4562-aca9-85d81f4f5aab",
   "metadata": {},
   "outputs": [],
   "source": [
    "peer[[\n",
    "    'Personal Business & Self Employment (USD_Cons_rate)',\n",
    "    'Seasonal Crops Income (USD_Cons_rate)',\n",
    "    'Seasonal  Agriculture Value (USD_Cons_rate)',\n",
    "    'Livestock Income (USD_Cons_rate)',\n",
    "    'Assets (USD_Cons_rate)',\n",
    "    'HH Income (USD_Cons_rate)',\n",
    "    'HH Income + Consumption + Residues (USD_Cons_rate)',\n",
    "    'HH Income/Day (USD_Cons_rate)',\n",
    "    'HH Income + Consumption + Residues/Day (USD_Cons_rate)'\n",
    "]].agg(['mean','median'])"
   ]
  },
  {
   "cell_type": "code",
   "execution_count": null,
   "id": "6bfe43f4-c7e8-4118-b783-95aea2c08e43",
   "metadata": {},
   "outputs": [],
   "source": [
    "df.groupby(['Status'])[[\n",
    "    'Personal Business & Self Employment (USD_Cons_rate)',\n",
    "    'Seasonal Crops Income (USD_Cons_rate)',\n",
    "    'Seasonal  Agriculture Value (USD_Cons_rate)',\n",
    "    'Livestock Income (USD_Cons_rate)',\n",
    "    'Assets (USD_Cons_rate)',\n",
    "    'HH Income (USD_Cons_rate)',\n",
    "    'HH Income + Consumption + Residues (USD_Cons_rate)',\n",
    "    'HH Income/Day (USD_Cons_rate)',\n",
    "    'HH Income + Consumption + Residues/Day (USD_Cons_rate)'\n",
    "]].mean()"
   ]
  },
  {
   "cell_type": "markdown",
   "id": "acbab0b8-6a13-4ad9-8063-e8d14bf1f44d",
   "metadata": {},
   "source": [
    "## Purpose of the Loan"
   ]
  },
  {
   "cell_type": "raw",
   "id": "95c44873-4893-4496-bf5d-5f54b1534463",
   "metadata": {},
   "source": [
    "1\tSchool Fees\r\n",
    "2\tHome constructo\n",
    "n\r\n",
    "3\tBune\n",
    "\n",
    "ss\r\n",
    "4\tAgriculturp\n",
    "\n",
    "uts\r\n",
    "5\tMedicine sicanck\n",
    "\n",
    "ne   Lss\r",
    "ive\n",
    "\n",
    "st   Bock\r",
    "uyin\n",
    "\n",
    "g land\r\n",
    "8sehol\n",
    "\n",
    "d items\r\n",
    "9\tTo repay other   ts\r\n",
    "9797\tOthers"
   ]
  },
  {
   "cell_type": "code",
   "execution_count": null,
   "id": "259a8490-ad4d-4db5-8fa0-ad6dc7432e3b",
   "metadata": {},
   "outputs": [],
   "source": [
    "peer['purpose_for_borrow'].value_counts(normalize=True)*100"
   ]
  },
  {
   "cell_type": "code",
   "execution_count": null,
   "id": "6af4981f-a6c4-401f-a3f6-e375cbda23d9",
   "metadata": {},
   "outputs": [],
   "source": []
  },
  {
   "cell_type": "markdown",
   "id": "181e64a7-e4f7-4678-b72a-beaa62fee3cf",
   "metadata": {},
   "source": [
    "## Loan Sources"
   ]
  },
  {
   "cell_type": "raw",
   "id": "e0e2c73a-c15f-46f8-83fc-b768e71cb006",
   "metadata": {},
   "source": [
    "1\tBank Account\r\n",
    "2\tSaving and Credit cooperatives (SACCO)\r\n",
    "3\tA mobile Money accounts\r\n",
    "4\tWith a shopkeeper\r\n",
    "5\tWith family and friends\r\n",
    "6\tAt a safe place at home\r\n",
    "7\tRTV VSLA (Cash round)\r\n",
    "8\tOther VSLA\r\n",
    "97\tOther\r\n",
    "99\tNo savings"
   ]
  },
  {
   "cell_type": "code",
   "execution_count": null,
   "id": "561af738-d98f-4e09-bbe8-1dd038a9b372",
   "metadata": {},
   "outputs": [],
   "source": [
    "peer['Loan_from'].value_counts(normalize=True) * 100"
   ]
  },
  {
   "cell_type": "code",
   "execution_count": null,
   "id": "d0f04154-8fff-4f6a-b1ac-73515d3d92e9",
   "metadata": {},
   "outputs": [],
   "source": [
    "peer['Loan_from_1'].value_counts(normalize=True)*100"
   ]
  },
  {
   "cell_type": "code",
   "execution_count": null,
   "id": "10d3487b-c423-496e-8910-11a23a414a5e",
   "metadata": {},
   "outputs": [],
   "source": [
    "peer['Loan_from_2'].value_counts(normalize=True)*100"
   ]
  },
  {
   "cell_type": "code",
   "execution_count": null,
   "id": "d0b50a9f-ba96-48d1-9fed-9fde5739231a",
   "metadata": {},
   "outputs": [],
   "source": [
    "peer['Loan_from_7'].value_counts(normalize=True)*100"
   ]
  },
  {
   "cell_type": "code",
   "execution_count": null,
   "id": "cf95abf2-48b2-42ee-9a07-bd8f32c1f18c",
   "metadata": {},
   "outputs": [],
   "source": [
    "peer['Loan_from_8'].value_counts(normalize=True)*100"
   ]
  },
  {
   "cell_type": "code",
   "execution_count": null,
   "id": "ac214b2e-70bf-4205-b6cb-d9c90e10c176",
   "metadata": {},
   "outputs": [],
   "source": []
  },
  {
   "cell_type": "markdown",
   "id": "5e3ec5fb-4a2e-464b-9185-0765e5cd6829",
   "metadata": {},
   "source": [
    "## Interests Rates"
   ]
  },
  {
   "cell_type": "code",
   "execution_count": null,
   "id": "f583c997-22ce-4022-bb47-7bff2e7b1a66",
   "metadata": {},
   "outputs": [],
   "source": [
    "peer['bank_loan_interest'].mean()"
   ]
  },
  {
   "cell_type": "code",
   "execution_count": null,
   "id": "10bf661d-5993-4d1e-8087-c4856a6187b9",
   "metadata": {},
   "outputs": [],
   "source": [
    "rtv['bank_loan_interest'].mean()"
   ]
  },
  {
   "cell_type": "code",
   "execution_count": null,
   "id": "f58004a3-13dc-4534-a506-9937944d5628",
   "metadata": {},
   "outputs": [],
   "source": []
  },
  {
   "cell_type": "code",
   "execution_count": null,
   "id": "968fd200-7af8-4ad5-95cf-66d4a0b03218",
   "metadata": {},
   "outputs": [],
   "source": [
    "peer['sacco_loan_interest'].mean()"
   ]
  },
  {
   "cell_type": "code",
   "execution_count": null,
   "id": "866cf167-58a8-40fe-9969-01422167e6dd",
   "metadata": {},
   "outputs": [],
   "source": [
    "rtv['sacco_loan_interest'].mean()"
   ]
  },
  {
   "cell_type": "code",
   "execution_count": null,
   "id": "135d4ed3-03b9-4da4-ac93-68f14900797c",
   "metadata": {},
   "outputs": [],
   "source": []
  },
  {
   "cell_type": "code",
   "execution_count": null,
   "id": "a95d3a97-8df2-4d7c-9185-e9f413787cd7",
   "metadata": {},
   "outputs": [],
   "source": [
    "rtv['rtv_vsla_loan_interest'].mean()"
   ]
  },
  {
   "cell_type": "code",
   "execution_count": null,
   "id": "f82bdb65-eac4-44eb-b1e4-43081017073b",
   "metadata": {},
   "outputs": [],
   "source": [
    "peer['rtv_vsla_loan_interest'].mean()"
   ]
  },
  {
   "cell_type": "code",
   "execution_count": null,
   "id": "de50fc3a-95f7-4541-b5ea-badf82aecb3a",
   "metadata": {},
   "outputs": [],
   "source": []
  },
  {
   "cell_type": "code",
   "execution_count": null,
   "id": "da370a0a-e52c-4c4f-95dd-5d2842e50f21",
   "metadata": {},
   "outputs": [],
   "source": [
    "peer['other_village_VSLA_loan_interest'].mean()"
   ]
  },
  {
   "cell_type": "code",
   "execution_count": null,
   "id": "e0f2d834-63f8-468a-8387-7937ff720909",
   "metadata": {},
   "outputs": [],
   "source": [
    "rtv['other_village_VSLA_loan_interest'].mean()"
   ]
  },
  {
   "cell_type": "markdown",
   "id": "66d726c0-47d0-45a3-bfb7-afd9000f0846",
   "metadata": {},
   "source": [
    "## Loan Types"
   ]
  },
  {
   "cell_type": "raw",
   "id": "32217f0a-3d0c-4716-af46-2e3c0bdc3197",
   "metadata": {},
   "source": [
    "1\tReducing Balance\n",
    "2\tFixed interest\n",
    "97\tAny other"
   ]
  },
  {
   "cell_type": "code",
   "execution_count": null,
   "id": "1a45c026-d12b-4582-8b43-d5e672dec8f2",
   "metadata": {},
   "outputs": [],
   "source": [
    "peer['bank_loan_type'].value_counts(normalize=True) * 100"
   ]
  },
  {
   "cell_type": "code",
   "execution_count": null,
   "id": "5c0cd579-cc3c-4551-8dc1-3837932e923c",
   "metadata": {},
   "outputs": [],
   "source": []
  }
 ],
 "metadata": {
  "kernelspec": {
   "display_name": "Python 3 (ipykernel)",
   "language": "python",
   "name": "python3"
  },
  "language_info": {
   "codemirror_mode": {
    "name": "ipython",
    "version": 3
   },
   "file_extension": ".py",
   "mimetype": "text/x-python",
   "name": "python",
   "nbconvert_exporter": "python",
   "pygments_lexer": "ipython3",
   "version": "3.10.12"
  }
 },
 "nbformat": 4,
 "nbformat_minor": 5
}
