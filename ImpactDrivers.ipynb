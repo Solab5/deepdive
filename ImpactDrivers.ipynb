{
 "cells": [
  {
   "cell_type": "code",
   "execution_count": 1,
   "id": "ec101599-da22-4572-aa6c-48fae7c774cb",
   "metadata": {},
   "outputs": [],
   "source": [
    "import pandas as pd\n",
    "import numpy as np"
   ]
  },
  {
   "cell_type": "code",
   "execution_count": 2,
   "id": "2c27ff1a-4397-46e4-9b69-20119ba50945",
   "metadata": {},
   "outputs": [],
   "source": [
    "df = pd.read_excel('All2021Cohorts_merged_outlier managed.xlsx', sheet_name='MergedRTV_Control2021',header=5)"
   ]
  },
  {
   "cell_type": "code",
   "execution_count": 3,
   "id": "7e396400-6b01-462f-ba8e-52f964aaf3ca",
   "metadata": {},
   "outputs": [],
   "source": [
    "rtv = df[df['Status'] == \"RTV\"]\n",
    "peer = df[df['Status'] == \"PEER\"]"
   ]
  },
  {
   "cell_type": "code",
   "execution_count": 4,
   "id": "587feed9-dc41-4eeb-9fe3-11f8d96ad85e",
   "metadata": {},
   "outputs": [
    {
     "data": {
      "text/plain": [
       "((3897, 5670), (1899, 5670))"
      ]
     },
     "execution_count": 4,
     "metadata": {},
     "output_type": "execute_result"
    }
   ],
   "source": [
    "rtv.shape, peer.shape"
   ]
  },
  {
   "cell_type": "code",
   "execution_count": 79,
   "id": "a3cd9532-ba57-4229-8a18-713b3aea8c17",
   "metadata": {},
   "outputs": [
    {
     "name": "stderr",
     "output_type": "stream",
     "text": [
      "/var/folders/xd/0btgr76j2zxc4__ynw0yhwbm0000gn/T/ipykernel_97705/482993967.py:1: SettingWithCopyWarning: \n",
      "A value is trying to be set on a copy of a slice from a DataFrame.\n",
      "Try using .loc[row_indexer,col_indexer] = value instead\n",
      "\n",
      "See the caveats in the documentation: https://pandas.pydata.org/pandas-docs/stable/user_guide/indexing.html#returning-a-view-versus-a-copy\n",
      "  rtv['agric_comp'] = rtv['AGRIC (%)'].apply(lambda x: 1 if x>0.9 else 0)\n"
     ]
    }
   ],
   "source": [
    "rtv['agric_comp'] = rtv['AGRIC (%)'].apply(lambda x: 1 if x>0.9 else 0)"
   ]
  },
  {
   "cell_type": "code",
   "execution_count": 80,
   "id": "886bbe2d-1982-469b-80e6-5b60e3c1e3eb",
   "metadata": {},
   "outputs": [
    {
     "data": {
      "text/plain": [
       "agric_comp\n",
       "0    3467\n",
       "1     430\n",
       "Name: count, dtype: int64"
      ]
     },
     "execution_count": 80,
     "metadata": {},
     "output_type": "execute_result"
    }
   ],
   "source": [
    "rtv['agric_comp'].value_counts()"
   ]
  },
  {
   "cell_type": "code",
   "execution_count": 81,
   "id": "e46a8202-d2a2-4d91-8575-764e6f70aab3",
   "metadata": {},
   "outputs": [
    {
     "data": {
      "text/html": [
       "<div>\n",
       "<style scoped>\n",
       "    .dataframe tbody tr th:only-of-type {\n",
       "        vertical-align: middle;\n",
       "    }\n",
       "\n",
       "    .dataframe tbody tr th {\n",
       "        vertical-align: top;\n",
       "    }\n",
       "\n",
       "    .dataframe thead th {\n",
       "        text-align: right;\n",
       "    }\n",
       "</style>\n",
       "<table border=\"1\" class=\"dataframe\">\n",
       "  <thead>\n",
       "    <tr style=\"text-align: right;\">\n",
       "      <th></th>\n",
       "      <th>HH Income (USD_Cons_rate)</th>\n",
       "      <th>Agriculture Value (USD_Cons_rate)</th>\n",
       "    </tr>\n",
       "    <tr>\n",
       "      <th>agric_comp</th>\n",
       "      <th></th>\n",
       "      <th></th>\n",
       "    </tr>\n",
       "  </thead>\n",
       "  <tbody>\n",
       "    <tr>\n",
       "      <th>0</th>\n",
       "      <td>479.837586</td>\n",
       "      <td>573.693821</td>\n",
       "    </tr>\n",
       "    <tr>\n",
       "      <th>1</th>\n",
       "      <td>519.530300</td>\n",
       "      <td>634.981212</td>\n",
       "    </tr>\n",
       "  </tbody>\n",
       "</table>\n",
       "</div>"
      ],
      "text/plain": [
       "            HH Income (USD_Cons_rate)  Agriculture Value (USD_Cons_rate)\n",
       "agric_comp                                                              \n",
       "0                          479.837586                         573.693821\n",
       "1                          519.530300                         634.981212"
      ]
     },
     "execution_count": 81,
     "metadata": {},
     "output_type": "execute_result"
    }
   ],
   "source": [
    "rtv.groupby('agric_comp')[['HH Income (USD_Cons_rate)','Agriculture Value (USD_Cons_rate)']].mean()"
   ]
  },
  {
   "cell_type": "code",
   "execution_count": null,
   "id": "1b904194-5b73-475b-b716-e270097ef391",
   "metadata": {},
   "outputs": [],
   "source": []
  },
  {
   "cell_type": "code",
   "execution_count": 24,
   "id": "fef7fbcb-b001-4237-beed-23f1aa7766e7",
   "metadata": {},
   "outputs": [
    {
     "name": "stderr",
     "output_type": "stream",
     "text": [
      "/var/folders/xd/0btgr76j2zxc4__ynw0yhwbm0000gn/T/ipykernel_97705/526816272.py:1: SettingWithCopyWarning: \n",
      "A value is trying to be set on a copy of a slice from a DataFrame.\n",
      "Try using .loc[row_indexer,col_indexer] = value instead\n",
      "\n",
      "See the caveats in the documentation: https://pandas.pydata.org/pandas-docs/stable/user_guide/indexing.html#returning-a-view-versus-a-copy\n",
      "  rtv['wash_comp'] = rtv['WASH (%)'].apply(lambda x: 1 if x>0.9 else 0)\n"
     ]
    }
   ],
   "source": [
    "rtv['wash_comp'] = rtv['WASH (%)'].apply(lambda x: 1 if x>0.9 else 0)"
   ]
  },
  {
   "cell_type": "code",
   "execution_count": 68,
   "id": "0c753640-1202-4979-8c8a-a7a0317dfb96",
   "metadata": {},
   "outputs": [
    {
     "data": {
      "text/html": [
       "<div>\n",
       "<style scoped>\n",
       "    .dataframe tbody tr th:only-of-type {\n",
       "        vertical-align: middle;\n",
       "    }\n",
       "\n",
       "    .dataframe tbody tr th {\n",
       "        vertical-align: top;\n",
       "    }\n",
       "\n",
       "    .dataframe thead th {\n",
       "        text-align: right;\n",
       "    }\n",
       "</style>\n",
       "<table border=\"1\" class=\"dataframe\">\n",
       "  <thead>\n",
       "    <tr style=\"text-align: right;\">\n",
       "      <th></th>\n",
       "      <th>HH Income (USD_Cons_rate)</th>\n",
       "      <th>Agriculture Value (USD_Cons_rate)</th>\n",
       "    </tr>\n",
       "    <tr>\n",
       "      <th>wash_comp</th>\n",
       "      <th></th>\n",
       "      <th></th>\n",
       "    </tr>\n",
       "  </thead>\n",
       "  <tbody>\n",
       "    <tr>\n",
       "      <th>0</th>\n",
       "      <td>476.393432</td>\n",
       "      <td>569.658944</td>\n",
       "    </tr>\n",
       "    <tr>\n",
       "      <th>1</th>\n",
       "      <td>509.972435</td>\n",
       "      <td>615.999794</td>\n",
       "    </tr>\n",
       "  </tbody>\n",
       "</table>\n",
       "</div>"
      ],
      "text/plain": [
       "           HH Income (USD_Cons_rate)  Agriculture Value (USD_Cons_rate)\n",
       "wash_comp                                                              \n",
       "0                         476.393432                         569.658944\n",
       "1                         509.972435                         615.999794"
      ]
     },
     "execution_count": 68,
     "metadata": {},
     "output_type": "execute_result"
    }
   ],
   "source": [
    "rtv.groupby('wash_comp')[['HH Income (USD_Cons_rate)','Agriculture Value (USD_Cons_rate)']].mean()"
   ]
  },
  {
   "cell_type": "code",
   "execution_count": null,
   "id": "b9c4532a-5c16-47bf-b0bb-566883f3feeb",
   "metadata": {},
   "outputs": [],
   "source": []
  },
  {
   "cell_type": "code",
   "execution_count": 69,
   "id": "d7215265-1428-41af-b16f-f671ce5f1f03",
   "metadata": {},
   "outputs": [
    {
     "data": {
      "text/html": [
       "<div>\n",
       "<style scoped>\n",
       "    .dataframe tbody tr th:only-of-type {\n",
       "        vertical-align: middle;\n",
       "    }\n",
       "\n",
       "    .dataframe tbody tr th {\n",
       "        vertical-align: top;\n",
       "    }\n",
       "\n",
       "    .dataframe thead th {\n",
       "        text-align: right;\n",
       "    }\n",
       "</style>\n",
       "<table border=\"1\" class=\"dataframe\">\n",
       "  <thead>\n",
       "    <tr style=\"text-align: right;\">\n",
       "      <th></th>\n",
       "      <th>HH Income (USD_Cons_rate)</th>\n",
       "      <th>Agriculture Value (USD_Cons_rate)</th>\n",
       "    </tr>\n",
       "    <tr>\n",
       "      <th>borrowed_past_12_months</th>\n",
       "      <th></th>\n",
       "      <th></th>\n",
       "    </tr>\n",
       "  </thead>\n",
       "  <tbody>\n",
       "    <tr>\n",
       "      <th>0</th>\n",
       "      <td>476.591485</td>\n",
       "      <td>571.313697</td>\n",
       "    </tr>\n",
       "    <tr>\n",
       "      <th>1</th>\n",
       "      <td>511.027085</td>\n",
       "      <td>612.598657</td>\n",
       "    </tr>\n",
       "  </tbody>\n",
       "</table>\n",
       "</div>"
      ],
      "text/plain": [
       "                         HH Income (USD_Cons_rate)  \\\n",
       "borrowed_past_12_months                              \n",
       "0                                       476.591485   \n",
       "1                                       511.027085   \n",
       "\n",
       "                         Agriculture Value (USD_Cons_rate)  \n",
       "borrowed_past_12_months                                     \n",
       "0                                               571.313697  \n",
       "1                                               612.598657  "
      ]
     },
     "execution_count": 69,
     "metadata": {},
     "output_type": "execute_result"
    }
   ],
   "source": [
    "rtv.groupby('borrowed_past_12_months')[['HH Income (USD_Cons_rate)','Agriculture Value (USD_Cons_rate)']].mean()"
   ]
  },
  {
   "cell_type": "code",
   "execution_count": 33,
   "id": "1de8ddb1-2a5d-4dc6-baea-07c980d90621",
   "metadata": {},
   "outputs": [
    {
     "data": {
      "text/plain": [
       "0       0\n",
       "1       3\n",
       "2       0\n",
       "3       3\n",
       "4       0\n",
       "       ..\n",
       "3892    3\n",
       "3893    3\n",
       "3894    3\n",
       "3895    3\n",
       "3896    0\n",
       "Name: composts_num, Length: 3897, dtype: int64"
      ]
     },
     "execution_count": 33,
     "metadata": {},
     "output_type": "execute_result"
    }
   ],
   "source": [
    "rtv[\"composts_num\"]"
   ]
  },
  {
   "cell_type": "code",
   "execution_count": 86,
   "id": "f82e89b1-b87a-45d5-acfb-a408d6d34efe",
   "metadata": {},
   "outputs": [
    {
     "name": "stderr",
     "output_type": "stream",
     "text": [
      "/var/folders/xd/0btgr76j2zxc4__ynw0yhwbm0000gn/T/ipykernel_97705/3569106956.py:1: SettingWithCopyWarning: \n",
      "A value is trying to be set on a copy of a slice from a DataFrame.\n",
      "Try using .loc[row_indexer,col_indexer] = value instead\n",
      "\n",
      "See the caveats in the documentation: https://pandas.pydata.org/pandas-docs/stable/user_guide/indexing.html#returning-a-view-versus-a-copy\n",
      "  rtv['Agric_Income'] = rtv[['Seasonal Crops Income (USD_Cons_rate)', 'Perenial Crops Income (USD_Cons_rate)']].sum(axis=1)\n"
     ]
    }
   ],
   "source": [
    "rtv['Agric_Income'] = rtv[['Seasonal Crops Income (USD_Cons_rate)', 'Perenial Crops Income (USD_Cons_rate)']].sum(axis=1)"
   ]
  },
  {
   "cell_type": "code",
   "execution_count": 36,
   "id": "7b530091-a5b1-4a27-b876-289cf586c920",
   "metadata": {},
   "outputs": [
    {
     "name": "stderr",
     "output_type": "stream",
     "text": [
      "/var/folders/xd/0btgr76j2zxc4__ynw0yhwbm0000gn/T/ipykernel_97705/2884246111.py:1: SettingWithCopyWarning: \n",
      "A value is trying to be set on a copy of a slice from a DataFrame.\n",
      "Try using .loc[row_indexer,col_indexer] = value instead\n",
      "\n",
      "See the caveats in the documentation: https://pandas.pydata.org/pandas-docs/stable/user_guide/indexing.html#returning-a-view-versus-a-copy\n",
      "  rtv['3_composts'] = rtv[\"composts_num\"].apply(lambda x: 1 if x == 3 else 0)\n"
     ]
    }
   ],
   "source": [
    "rtv['3_composts'] = rtv[\"composts_num\"].apply(lambda x: 1 if x == 3 else 0)"
   ]
  },
  {
   "cell_type": "code",
   "execution_count": 99,
   "id": "ba5961fc-f95f-435d-b705-ca84b7e4ac84",
   "metadata": {},
   "outputs": [
    {
     "data": {
      "text/html": [
       "<div>\n",
       "<style scoped>\n",
       "    .dataframe tbody tr th:only-of-type {\n",
       "        vertical-align: middle;\n",
       "    }\n",
       "\n",
       "    .dataframe tbody tr th {\n",
       "        vertical-align: top;\n",
       "    }\n",
       "\n",
       "    .dataframe thead th {\n",
       "        text-align: right;\n",
       "    }\n",
       "</style>\n",
       "<table border=\"1\" class=\"dataframe\">\n",
       "  <thead>\n",
       "    <tr style=\"text-align: right;\">\n",
       "      <th></th>\n",
       "      <th>Agriculture Value (USD_Cons_rate)</th>\n",
       "      <th>Agric_Income</th>\n",
       "    </tr>\n",
       "    <tr>\n",
       "      <th>3_composts</th>\n",
       "      <th></th>\n",
       "      <th></th>\n",
       "    </tr>\n",
       "  </thead>\n",
       "  <tbody>\n",
       "    <tr>\n",
       "      <th>0</th>\n",
       "      <td>550.256175</td>\n",
       "      <td>234.513078</td>\n",
       "    </tr>\n",
       "    <tr>\n",
       "      <th>1</th>\n",
       "      <td>612.003333</td>\n",
       "      <td>265.510122</td>\n",
       "    </tr>\n",
       "  </tbody>\n",
       "</table>\n",
       "</div>"
      ],
      "text/plain": [
       "            Agriculture Value (USD_Cons_rate)  Agric_Income\n",
       "3_composts                                                 \n",
       "0                                  550.256175    234.513078\n",
       "1                                  612.003333    265.510122"
      ]
     },
     "execution_count": 99,
     "metadata": {},
     "output_type": "execute_result"
    }
   ],
   "source": [
    "rtv.groupby('3_composts')[['Agriculture Value (USD_Cons_rate)','Agric_Income']].mean()"
   ]
  },
  {
   "cell_type": "code",
   "execution_count": 97,
   "id": "9712a798-8376-4be0-aeb6-9785bc9f96c1",
   "metadata": {},
   "outputs": [
    {
     "data": {
      "text/plain": [
       "3_composts\n",
       "0    0.510906\n",
       "1    0.489094\n",
       "Name: proportion, dtype: float64"
      ]
     },
     "execution_count": 97,
     "metadata": {},
     "output_type": "execute_result"
    }
   ],
   "source": [
    "rtv['3_composts'].value_counts(normalize=True)"
   ]
  },
  {
   "cell_type": "code",
   "execution_count": 41,
   "id": "31cee766-ee00-446e-b2ff-c9b274a6f765",
   "metadata": {},
   "outputs": [
    {
     "data": {
      "text/plain": [
       "0       0.0\n",
       "1       0.0\n",
       "2       0.0\n",
       "3       1.0\n",
       "4       0.5\n",
       "       ... \n",
       "3892    0.0\n",
       "3893    1.0\n",
       "3894    1.0\n",
       "3895    1.0\n",
       "3896    0.0\n",
       "Name: Organic Farming Practices (%), Length: 3897, dtype: float64"
      ]
     },
     "execution_count": 41,
     "metadata": {},
     "output_type": "execute_result"
    }
   ],
   "source": [
    "rtv['Organic Farming Practices (%)']"
   ]
  },
  {
   "cell_type": "code",
   "execution_count": 49,
   "id": "bc113298-04c3-4122-a635-bf54aae01f1c",
   "metadata": {},
   "outputs": [
    {
     "name": "stderr",
     "output_type": "stream",
     "text": [
      "/var/folders/xd/0btgr76j2zxc4__ynw0yhwbm0000gn/T/ipykernel_97705/2188776299.py:1: SettingWithCopyWarning: \n",
      "A value is trying to be set on a copy of a slice from a DataFrame.\n",
      "Try using .loc[row_indexer,col_indexer] = value instead\n",
      "\n",
      "See the caveats in the documentation: https://pandas.pydata.org/pandas-docs/stable/user_guide/indexing.html#returning-a-view-versus-a-copy\n",
      "  rtv['organic_manure__'] = rtv[\"Organic Farming Practices (%)\"].apply(lambda x: 1 if x > 0.0 else 0)\n"
     ]
    }
   ],
   "source": [
    "rtv['organic_manure__'] = rtv[\"Organic Farming Practices (%)\"].apply(lambda x: 1 if x > 0.0 else 0)"
   ]
  },
  {
   "cell_type": "code",
   "execution_count": 100,
   "id": "136fa5ff-84c4-4d09-a77c-6701148d2ba6",
   "metadata": {},
   "outputs": [
    {
     "data": {
      "text/html": [
       "<div>\n",
       "<style scoped>\n",
       "    .dataframe tbody tr th:only-of-type {\n",
       "        vertical-align: middle;\n",
       "    }\n",
       "\n",
       "    .dataframe tbody tr th {\n",
       "        vertical-align: top;\n",
       "    }\n",
       "\n",
       "    .dataframe thead th {\n",
       "        text-align: right;\n",
       "    }\n",
       "</style>\n",
       "<table border=\"1\" class=\"dataframe\">\n",
       "  <thead>\n",
       "    <tr style=\"text-align: right;\">\n",
       "      <th></th>\n",
       "      <th>Agriculture Value (USD_Cons_rate)</th>\n",
       "      <th>Agric_Income</th>\n",
       "    </tr>\n",
       "    <tr>\n",
       "      <th>organic_manure__</th>\n",
       "      <th></th>\n",
       "      <th></th>\n",
       "    </tr>\n",
       "  </thead>\n",
       "  <tbody>\n",
       "    <tr>\n",
       "      <th>0</th>\n",
       "      <td>567.436013</td>\n",
       "      <td>243.800733</td>\n",
       "    </tr>\n",
       "    <tr>\n",
       "      <th>1</th>\n",
       "      <td>612.902191</td>\n",
       "      <td>264.308235</td>\n",
       "    </tr>\n",
       "  </tbody>\n",
       "</table>\n",
       "</div>"
      ],
      "text/plain": [
       "                  Agriculture Value (USD_Cons_rate)  Agric_Income\n",
       "organic_manure__                                                 \n",
       "0                                        567.436013    243.800733\n",
       "1                                        612.902191    264.308235"
      ]
     },
     "execution_count": 100,
     "metadata": {},
     "output_type": "execute_result"
    }
   ],
   "source": [
    "rtv.groupby('organic_manure__')[['Agriculture Value (USD_Cons_rate)','Agric_Income']].mean()"
   ]
  },
  {
   "cell_type": "code",
   "execution_count": 101,
   "id": "80bc4758-cf6f-45d9-9dbd-fc71b306f6a3",
   "metadata": {},
   "outputs": [
    {
     "data": {
      "text/html": [
       "<div>\n",
       "<style scoped>\n",
       "    .dataframe tbody tr th:only-of-type {\n",
       "        vertical-align: middle;\n",
       "    }\n",
       "\n",
       "    .dataframe tbody tr th {\n",
       "        vertical-align: top;\n",
       "    }\n",
       "\n",
       "    .dataframe thead th {\n",
       "        text-align: right;\n",
       "    }\n",
       "</style>\n",
       "<table border=\"1\" class=\"dataframe\">\n",
       "  <thead>\n",
       "    <tr style=\"text-align: right;\">\n",
       "      <th></th>\n",
       "      <th>Agriculture Value (USD_Cons_rate)</th>\n",
       "      <th>Agric_Income</th>\n",
       "    </tr>\n",
       "    <tr>\n",
       "      <th>water_control_practise</th>\n",
       "      <th></th>\n",
       "      <th></th>\n",
       "    </tr>\n",
       "  </thead>\n",
       "  <tbody>\n",
       "    <tr>\n",
       "      <th>1</th>\n",
       "      <td>580.45635</td>\n",
       "      <td>249.673551</td>\n",
       "    </tr>\n",
       "  </tbody>\n",
       "</table>\n",
       "</div>"
      ],
      "text/plain": [
       "                        Agriculture Value (USD_Cons_rate)  Agric_Income\n",
       "water_control_practise                                                 \n",
       "1                                               580.45635    249.673551"
      ]
     },
     "execution_count": 101,
     "metadata": {},
     "output_type": "execute_result"
    }
   ],
   "source": [
    "rtv.groupby('water_control_practise')[['Agriculture Value (USD_Cons_rate)','Agric_Income']].mean()"
   ]
  },
  {
   "cell_type": "code",
   "execution_count": 102,
   "id": "16b50931-8f7b-4246-812c-90de0bd64430",
   "metadata": {},
   "outputs": [
    {
     "data": {
      "text/html": [
       "<div>\n",
       "<style scoped>\n",
       "    .dataframe tbody tr th:only-of-type {\n",
       "        vertical-align: middle;\n",
       "    }\n",
       "\n",
       "    .dataframe tbody tr th {\n",
       "        vertical-align: top;\n",
       "    }\n",
       "\n",
       "    .dataframe thead th {\n",
       "        text-align: right;\n",
       "    }\n",
       "</style>\n",
       "<table border=\"1\" class=\"dataframe\">\n",
       "  <thead>\n",
       "    <tr style=\"text-align: right;\">\n",
       "      <th></th>\n",
       "      <th>Agriculture Value (USD_Cons_rate)</th>\n",
       "      <th>Agric_Income</th>\n",
       "    </tr>\n",
       "    <tr>\n",
       "      <th>soil_management</th>\n",
       "      <th></th>\n",
       "      <th></th>\n",
       "    </tr>\n",
       "  </thead>\n",
       "  <tbody>\n",
       "    <tr>\n",
       "      <th>0</th>\n",
       "      <td>516.550225</td>\n",
       "      <td>182.149280</td>\n",
       "    </tr>\n",
       "    <tr>\n",
       "      <th>1</th>\n",
       "      <td>580.868967</td>\n",
       "      <td>250.109529</td>\n",
       "    </tr>\n",
       "  </tbody>\n",
       "</table>\n",
       "</div>"
      ],
      "text/plain": [
       "                 Agriculture Value (USD_Cons_rate)  Agric_Income\n",
       "soil_management                                                 \n",
       "0                                       516.550225    182.149280\n",
       "1                                       580.868967    250.109529"
      ]
     },
     "execution_count": 102,
     "metadata": {},
     "output_type": "execute_result"
    }
   ],
   "source": [
    "rtv.groupby('soil_management')[['Agriculture Value (USD_Cons_rate)','Agric_Income']].mean()"
   ]
  },
  {
   "cell_type": "code",
   "execution_count": 57,
   "id": "86ba29ec-2e53-4eb9-9877-09e108b18083",
   "metadata": {},
   "outputs": [
    {
     "data": {
      "text/plain": [
       "soil_management\n",
       "1    3872\n",
       "0      25\n",
       "Name: count, dtype: int64"
      ]
     },
     "execution_count": 57,
     "metadata": {},
     "output_type": "execute_result"
    }
   ],
   "source": [
    "rtv['soil_management'].value_counts()"
   ]
  },
  {
   "cell_type": "code",
   "execution_count": null,
   "id": "d0383ac5-afa0-4a3c-bdc5-8e72fa370c1b",
   "metadata": {},
   "outputs": [],
   "source": []
  },
  {
   "cell_type": "markdown",
   "id": "7e27ff75-1d50-4c14-8aa7-0db6c9a658e4",
   "metadata": {},
   "source": [
    "Which of the following crops did your household plant during the last complete Season 1?\n",
    "FO go through each type of crop with the interviewee and select all that were cropped\n",
    "\n",
    "1\tBeans\n",
    "2\tGround Nuts\n",
    "3\tSoya\n",
    "4\tPeas\n",
    "5\tMaize\n",
    "6\tMillet\n",
    "7\tSorghum\n",
    "8\tBarley\n",
    "9\tRice\n",
    "10\tIrish Potatoes\n",
    "11\tSweet Potatoes\n",
    "12\tCassava\n",
    "13\tYams\n",
    "14\tGarlic\n",
    "15\tGinger\n",
    "16\tTobbacco\n",
    "97\tOther,specify"
   ]
  },
  {
   "cell_type": "code",
   "execution_count": null,
   "id": "13f4904d-3064-4bd4-9136-7ee2bc4f0b31",
   "metadata": {},
   "outputs": [],
   "source": [
    "rtv['Season_1_1"
   ]
  },
  {
   "cell_type": "code",
   "execution_count": 108,
   "id": "0c8694e8-cff0-4558-baf4-048ea53da4c5",
   "metadata": {},
   "outputs": [
    {
     "name": "stderr",
     "output_type": "stream",
     "text": [
      "/var/folders/xd/0btgr76j2zxc4__ynw0yhwbm0000gn/T/ipykernel_97705/1533810247.py:1: SettingWithCopyWarning: \n",
      "A value is trying to be set on a copy of a slice from a DataFrame.\n",
      "Try using .loc[row_indexer,col_indexer] = value instead\n",
      "\n",
      "See the caveats in the documentation: https://pandas.pydata.org/pandas-docs/stable/user_guide/indexing.html#returning-a-view-versus-a-copy\n",
      "  rtv['beans_presence'] = rtv.apply(lambda row: row['Season_1_1'] or row['Season_2_1'], axis=1)\n",
      "/var/folders/xd/0btgr76j2zxc4__ynw0yhwbm0000gn/T/ipykernel_97705/1533810247.py:2: SettingWithCopyWarning: \n",
      "A value is trying to be set on a copy of a slice from a DataFrame.\n",
      "Try using .loc[row_indexer,col_indexer] = value instead\n",
      "\n",
      "See the caveats in the documentation: https://pandas.pydata.org/pandas-docs/stable/user_guide/indexing.html#returning-a-view-versus-a-copy\n",
      "  rtv['gnuts_presence'] = rtv.apply(lambda row: row['Season_1_2'] or row['Season_2_2'], axis=1)\n",
      "/var/folders/xd/0btgr76j2zxc4__ynw0yhwbm0000gn/T/ipykernel_97705/1533810247.py:3: SettingWithCopyWarning: \n",
      "A value is trying to be set on a copy of a slice from a DataFrame.\n",
      "Try using .loc[row_indexer,col_indexer] = value instead\n",
      "\n",
      "See the caveats in the documentation: https://pandas.pydata.org/pandas-docs/stable/user_guide/indexing.html#returning-a-view-versus-a-copy\n",
      "  rtv['soya_presence'] = rtv.apply(lambda row: row['Season_1_3'] or row['Season_2_3'], axis=1)\n",
      "/var/folders/xd/0btgr76j2zxc4__ynw0yhwbm0000gn/T/ipykernel_97705/1533810247.py:4: SettingWithCopyWarning: \n",
      "A value is trying to be set on a copy of a slice from a DataFrame.\n",
      "Try using .loc[row_indexer,col_indexer] = value instead\n",
      "\n",
      "See the caveats in the documentation: https://pandas.pydata.org/pandas-docs/stable/user_guide/indexing.html#returning-a-view-versus-a-copy\n",
      "  rtv['peas_presence'] = rtv.apply(lambda row: row['Season_1_4'] or row['Season_2_4'], axis=1)\n",
      "/var/folders/xd/0btgr76j2zxc4__ynw0yhwbm0000gn/T/ipykernel_97705/1533810247.py:5: SettingWithCopyWarning: \n",
      "A value is trying to be set on a copy of a slice from a DataFrame.\n",
      "Try using .loc[row_indexer,col_indexer] = value instead\n",
      "\n",
      "See the caveats in the documentation: https://pandas.pydata.org/pandas-docs/stable/user_guide/indexing.html#returning-a-view-versus-a-copy\n",
      "  rtv['maize_presence'] = rtv.apply(lambda row: row['Season_1_5'] or row['Season_2_5'], axis=1)\n",
      "/var/folders/xd/0btgr76j2zxc4__ynw0yhwbm0000gn/T/ipykernel_97705/1533810247.py:6: SettingWithCopyWarning: \n",
      "A value is trying to be set on a copy of a slice from a DataFrame.\n",
      "Try using .loc[row_indexer,col_indexer] = value instead\n",
      "\n",
      "See the caveats in the documentation: https://pandas.pydata.org/pandas-docs/stable/user_guide/indexing.html#returning-a-view-versus-a-copy\n",
      "  rtv['millet_presence'] = rtv.apply(lambda row: row['Season_1_6'] or row['Season_2_6'], axis=1)\n",
      "/var/folders/xd/0btgr76j2zxc4__ynw0yhwbm0000gn/T/ipykernel_97705/1533810247.py:7: SettingWithCopyWarning: \n",
      "A value is trying to be set on a copy of a slice from a DataFrame.\n",
      "Try using .loc[row_indexer,col_indexer] = value instead\n",
      "\n",
      "See the caveats in the documentation: https://pandas.pydata.org/pandas-docs/stable/user_guide/indexing.html#returning-a-view-versus-a-copy\n",
      "  rtv['sorghum_presence'] = rtv.apply(lambda row: row['Season_1_7'] or row['Season_2_7'], axis=1)\n",
      "/var/folders/xd/0btgr76j2zxc4__ynw0yhwbm0000gn/T/ipykernel_97705/1533810247.py:8: SettingWithCopyWarning: \n",
      "A value is trying to be set on a copy of a slice from a DataFrame.\n",
      "Try using .loc[row_indexer,col_indexer] = value instead\n",
      "\n",
      "See the caveats in the documentation: https://pandas.pydata.org/pandas-docs/stable/user_guide/indexing.html#returning-a-view-versus-a-copy\n",
      "  rtv['barley_presence'] = rtv.apply(lambda row: row['Season_1_8'] or row['Season_2_8'], axis=1)\n",
      "/var/folders/xd/0btgr76j2zxc4__ynw0yhwbm0000gn/T/ipykernel_97705/1533810247.py:9: SettingWithCopyWarning: \n",
      "A value is trying to be set on a copy of a slice from a DataFrame.\n",
      "Try using .loc[row_indexer,col_indexer] = value instead\n",
      "\n",
      "See the caveats in the documentation: https://pandas.pydata.org/pandas-docs/stable/user_guide/indexing.html#returning-a-view-versus-a-copy\n",
      "  rtv['rice_presence'] = rtv.apply(lambda row: row['Season_1_9'] or row['Season_2_9'], axis=1)\n",
      "/var/folders/xd/0btgr76j2zxc4__ynw0yhwbm0000gn/T/ipykernel_97705/1533810247.py:10: SettingWithCopyWarning: \n",
      "A value is trying to be set on a copy of a slice from a DataFrame.\n",
      "Try using .loc[row_indexer,col_indexer] = value instead\n",
      "\n",
      "See the caveats in the documentation: https://pandas.pydata.org/pandas-docs/stable/user_guide/indexing.html#returning-a-view-versus-a-copy\n",
      "  rtv['irish_presence'] = rtv.apply(lambda row: row['Season_1_10'] or row['Season_2_10'], axis=1)\n",
      "/var/folders/xd/0btgr76j2zxc4__ynw0yhwbm0000gn/T/ipykernel_97705/1533810247.py:11: SettingWithCopyWarning: \n",
      "A value is trying to be set on a copy of a slice from a DataFrame.\n",
      "Try using .loc[row_indexer,col_indexer] = value instead\n",
      "\n",
      "See the caveats in the documentation: https://pandas.pydata.org/pandas-docs/stable/user_guide/indexing.html#returning-a-view-versus-a-copy\n",
      "  rtv['sweet_presence'] = rtv.apply(lambda row: row['Season_1_11'] or row['Season_2_11'], axis=1)\n",
      "/var/folders/xd/0btgr76j2zxc4__ynw0yhwbm0000gn/T/ipykernel_97705/1533810247.py:12: SettingWithCopyWarning: \n",
      "A value is trying to be set on a copy of a slice from a DataFrame.\n",
      "Try using .loc[row_indexer,col_indexer] = value instead\n",
      "\n",
      "See the caveats in the documentation: https://pandas.pydata.org/pandas-docs/stable/user_guide/indexing.html#returning-a-view-versus-a-copy\n",
      "  rtv['cassava_presence'] = rtv.apply(lambda row: row['Season_1_12'] or row['Season_2_12'], axis=1)\n",
      "/var/folders/xd/0btgr76j2zxc4__ynw0yhwbm0000gn/T/ipykernel_97705/1533810247.py:13: SettingWithCopyWarning: \n",
      "A value is trying to be set on a copy of a slice from a DataFrame.\n",
      "Try using .loc[row_indexer,col_indexer] = value instead\n",
      "\n",
      "See the caveats in the documentation: https://pandas.pydata.org/pandas-docs/stable/user_guide/indexing.html#returning-a-view-versus-a-copy\n",
      "  rtv['yams_presence'] = rtv.apply(lambda row: row['Season_1_13'] or row['Season_2_13'], axis=1)\n",
      "/var/folders/xd/0btgr76j2zxc4__ynw0yhwbm0000gn/T/ipykernel_97705/1533810247.py:14: SettingWithCopyWarning: \n",
      "A value is trying to be set on a copy of a slice from a DataFrame.\n",
      "Try using .loc[row_indexer,col_indexer] = value instead\n",
      "\n",
      "See the caveats in the documentation: https://pandas.pydata.org/pandas-docs/stable/user_guide/indexing.html#returning-a-view-versus-a-copy\n",
      "  rtv['garlic_presence'] = rtv.apply(lambda row: row['Season_1_14'] or row['Season_2_14'], axis=1)\n",
      "/var/folders/xd/0btgr76j2zxc4__ynw0yhwbm0000gn/T/ipykernel_97705/1533810247.py:15: SettingWithCopyWarning: \n",
      "A value is trying to be set on a copy of a slice from a DataFrame.\n",
      "Try using .loc[row_indexer,col_indexer] = value instead\n",
      "\n",
      "See the caveats in the documentation: https://pandas.pydata.org/pandas-docs/stable/user_guide/indexing.html#returning-a-view-versus-a-copy\n",
      "  rtv['ginger_presence'] = rtv.apply(lambda row: row['Season_1_15'] or row['Season_2_15'], axis=1)\n",
      "/var/folders/xd/0btgr76j2zxc4__ynw0yhwbm0000gn/T/ipykernel_97705/1533810247.py:16: SettingWithCopyWarning: \n",
      "A value is trying to be set on a copy of a slice from a DataFrame.\n",
      "Try using .loc[row_indexer,col_indexer] = value instead\n",
      "\n",
      "See the caveats in the documentation: https://pandas.pydata.org/pandas-docs/stable/user_guide/indexing.html#returning-a-view-versus-a-copy\n",
      "  rtv['tobacco_presence'] = rtv.apply(lambda row: row['Season_1_16'] or row['Season_2_16'], axis=1)\n",
      "/var/folders/xd/0btgr76j2zxc4__ynw0yhwbm0000gn/T/ipykernel_97705/1533810247.py:17: SettingWithCopyWarning: \n",
      "A value is trying to be set on a copy of a slice from a DataFrame.\n",
      "Try using .loc[row_indexer,col_indexer] = value instead\n",
      "\n",
      "See the caveats in the documentation: https://pandas.pydata.org/pandas-docs/stable/user_guide/indexing.html#returning-a-view-versus-a-copy\n",
      "  rtv['other_presence'] = rtv.apply(lambda row: row['Season_1_97'] or row['Season_2_97'], axis=1)\n"
     ]
    }
   ],
   "source": [
    "rtv['beans_presence'] = rtv.apply(lambda row: row['Season_1_1'] or row['Season_2_1'], axis=1)\n",
    "rtv['gnuts_presence'] = rtv.apply(lambda row: row['Season_1_2'] or row['Season_2_2'], axis=1)\n",
    "rtv['soya_presence'] = rtv.apply(lambda row: row['Season_1_3'] or row['Season_2_3'], axis=1)\n",
    "rtv['peas_presence'] = rtv.apply(lambda row: row['Season_1_4'] or row['Season_2_4'], axis=1)\n",
    "rtv['maize_presence'] = rtv.apply(lambda row: row['Season_1_5'] or row['Season_2_5'], axis=1)\n",
    "rtv['millet_presence'] = rtv.apply(lambda row: row['Season_1_6'] or row['Season_2_6'], axis=1)\n",
    "rtv['sorghum_presence'] = rtv.apply(lambda row: row['Season_1_7'] or row['Season_2_7'], axis=1)\n",
    "rtv['barley_presence'] = rtv.apply(lambda row: row['Season_1_8'] or row['Season_2_8'], axis=1)\n",
    "rtv['rice_presence'] = rtv.apply(lambda row: row['Season_1_9'] or row['Season_2_9'], axis=1)\n",
    "rtv['irish_presence'] = rtv.apply(lambda row: row['Season_1_10'] or row['Season_2_10'], axis=1)\n",
    "rtv['sweet_presence'] = rtv.apply(lambda row: row['Season_1_11'] or row['Season_2_11'], axis=1)\n",
    "rtv['cassava_presence'] = rtv.apply(lambda row: row['Season_1_12'] or row['Season_2_12'], axis=1)\n",
    "rtv['yams_presence'] = rtv.apply(lambda row: row['Season_1_13'] or row['Season_2_13'], axis=1)\n",
    "rtv['garlic_presence'] = rtv.apply(lambda row: row['Season_1_14'] or row['Season_2_14'], axis=1)\n",
    "rtv['ginger_presence'] = rtv.apply(lambda row: row['Season_1_15'] or row['Season_2_15'], axis=1)\n",
    "rtv['tobacco_presence'] = rtv.apply(lambda row: row['Season_1_16'] or row['Season_2_16'], axis=1)\n",
    "rtv['other_presence'] = rtv.apply(lambda row: row['Season_1_97'] or row['Season_2_97'], axis=1)"
   ]
  },
  {
   "cell_type": "code",
   "execution_count": 121,
   "id": "fe500708-0d2e-4290-9d7c-23e1f27424d2",
   "metadata": {},
   "outputs": [
    {
     "name": "stderr",
     "output_type": "stream",
     "text": [
      "/var/folders/xd/0btgr76j2zxc4__ynw0yhwbm0000gn/T/ipykernel_97705/537933729.py:1: SettingWithCopyWarning: \n",
      "A value is trying to be set on a copy of a slice from a DataFrame.\n",
      "Try using .loc[row_indexer,col_indexer] = value instead\n",
      "\n",
      "See the caveats in the documentation: https://pandas.pydata.org/pandas-docs/stable/user_guide/indexing.html#returning-a-view-versus-a-copy\n",
      "  rtv['crop_varieties'] = rtv[['beans_presence','gnuts_presence','soya_presence','peas_presence','maize_presence','millet_presence','sorghum_presence',\n"
     ]
    }
   ],
   "source": [
    "rtv['crop_varieties'] = rtv[['beans_presence','gnuts_presence','soya_presence','peas_presence','maize_presence','millet_presence','sorghum_presence',\n",
    "'barley_presence','rice_presence','irish_presence','sweet_presence','cassava_presence','yams_presence','garlic_presence',\n",
    "'ginger_presence','tobacco_presence','other_presence'\n",
    "]].sum(axis=1)"
   ]
  },
  {
   "cell_type": "code",
   "execution_count": 125,
   "id": "b07fe555-aee1-4c5b-9ed4-717fa6c53818",
   "metadata": {},
   "outputs": [
    {
     "data": {
      "text/plain": [
       "crop_varieties\n",
       "4.0     959\n",
       "3.0     886\n",
       "5.0     832\n",
       "6.0     458\n",
       "2.0     401\n",
       "7.0     133\n",
       "0.0     100\n",
       "1.0      79\n",
       "8.0      42\n",
       "9.0       6\n",
       "10.0      1\n",
       "Name: count, dtype: int64"
      ]
     },
     "execution_count": 125,
     "metadata": {},
     "output_type": "execute_result"
    }
   ],
   "source": [
    "rtv['crop_varieties'].value_counts()"
   ]
  },
  {
   "cell_type": "code",
   "execution_count": null,
   "id": "1bb9b56a-2d1b-4f19-843a-4bc220bab9d7",
   "metadata": {},
   "outputs": [],
   "source": [
    "boundaries = [0, 0.75, 1.25, 2, 3, float('inf')]\n",
    "labels = [\"0-<0.75/Day\", \"0.75-<1.25/Day\", \"1.25-<2/Day\", \"2-<3/Day\", \"3+/Day\"]"
   ]
  },
  {
   "cell_type": "code",
   "execution_count": 127,
   "id": "60c569ef-a99f-4715-8bd2-b71513bfe142",
   "metadata": {},
   "outputs": [],
   "source": [
    "boundaries = [0.0,1.0, 2.0, 3.0, 4.0, float('inf')]\n",
    "labels = [\"Zero\", \"one\", \"two\", \"three\", \"fourplus\"]"
   ]
  },
  {
   "cell_type": "code",
   "execution_count": 128,
   "id": "3bb501d7-99d0-4d4d-a6e7-f3f6703b07f3",
   "metadata": {},
   "outputs": [
    {
     "name": "stderr",
     "output_type": "stream",
     "text": [
      "/var/folders/xd/0btgr76j2zxc4__ynw0yhwbm0000gn/T/ipykernel_97705/529393542.py:1: SettingWithCopyWarning: \n",
      "A value is trying to be set on a copy of a slice from a DataFrame.\n",
      "Try using .loc[row_indexer,col_indexer] = value instead\n",
      "\n",
      "See the caveats in the documentation: https://pandas.pydata.org/pandas-docs/stable/user_guide/indexing.html#returning-a-view-versus-a-copy\n",
      "  rtv['varity_num'] = pd.cut(rtv['crop_varieties'], bins=boundaries, labels=labels, right=False)\n"
     ]
    }
   ],
   "source": [
    "rtv['varity_num'] = pd.cut(rtv['crop_varieties'], bins=boundaries, labels=labels, right=False)"
   ]
  },
  {
   "cell_type": "code",
   "execution_count": 130,
   "id": "f4c757ec-672b-431c-849b-ebc1ecf0ba34",
   "metadata": {},
   "outputs": [
    {
     "data": {
      "text/html": [
       "<div>\n",
       "<style scoped>\n",
       "    .dataframe tbody tr th:only-of-type {\n",
       "        vertical-align: middle;\n",
       "    }\n",
       "\n",
       "    .dataframe tbody tr th {\n",
       "        vertical-align: top;\n",
       "    }\n",
       "\n",
       "    .dataframe thead th {\n",
       "        text-align: right;\n",
       "    }\n",
       "</style>\n",
       "<table border=\"1\" class=\"dataframe\">\n",
       "  <thead>\n",
       "    <tr style=\"text-align: right;\">\n",
       "      <th></th>\n",
       "      <th>varity_num</th>\n",
       "      <th>crop_varieties</th>\n",
       "    </tr>\n",
       "  </thead>\n",
       "  <tbody>\n",
       "    <tr>\n",
       "      <th>0</th>\n",
       "      <td>Zero</td>\n",
       "      <td>0.0</td>\n",
       "    </tr>\n",
       "    <tr>\n",
       "      <th>1</th>\n",
       "      <td>three</td>\n",
       "      <td>3.0</td>\n",
       "    </tr>\n",
       "    <tr>\n",
       "      <th>2</th>\n",
       "      <td>fourplus</td>\n",
       "      <td>4.0</td>\n",
       "    </tr>\n",
       "    <tr>\n",
       "      <th>3</th>\n",
       "      <td>fourplus</td>\n",
       "      <td>4.0</td>\n",
       "    </tr>\n",
       "    <tr>\n",
       "      <th>4</th>\n",
       "      <td>two</td>\n",
       "      <td>2.0</td>\n",
       "    </tr>\n",
       "    <tr>\n",
       "      <th>...</th>\n",
       "      <td>...</td>\n",
       "      <td>...</td>\n",
       "    </tr>\n",
       "    <tr>\n",
       "      <th>3892</th>\n",
       "      <td>fourplus</td>\n",
       "      <td>5.0</td>\n",
       "    </tr>\n",
       "    <tr>\n",
       "      <th>3893</th>\n",
       "      <td>fourplus</td>\n",
       "      <td>5.0</td>\n",
       "    </tr>\n",
       "    <tr>\n",
       "      <th>3894</th>\n",
       "      <td>fourplus</td>\n",
       "      <td>4.0</td>\n",
       "    </tr>\n",
       "    <tr>\n",
       "      <th>3895</th>\n",
       "      <td>fourplus</td>\n",
       "      <td>4.0</td>\n",
       "    </tr>\n",
       "    <tr>\n",
       "      <th>3896</th>\n",
       "      <td>fourplus</td>\n",
       "      <td>7.0</td>\n",
       "    </tr>\n",
       "  </tbody>\n",
       "</table>\n",
       "<p>3897 rows × 2 columns</p>\n",
       "</div>"
      ],
      "text/plain": [
       "     varity_num  crop_varieties\n",
       "0          Zero             0.0\n",
       "1         three             3.0\n",
       "2      fourplus             4.0\n",
       "3      fourplus             4.0\n",
       "4           two             2.0\n",
       "...         ...             ...\n",
       "3892   fourplus             5.0\n",
       "3893   fourplus             5.0\n",
       "3894   fourplus             4.0\n",
       "3895   fourplus             4.0\n",
       "3896   fourplus             7.0\n",
       "\n",
       "[3897 rows x 2 columns]"
      ]
     },
     "execution_count": 130,
     "metadata": {},
     "output_type": "execute_result"
    }
   ],
   "source": []
  },
  {
   "cell_type": "code",
   "execution_count": 131,
   "id": "37de6ebc-c0f4-4cd3-8eb8-82ec6dd1578a",
   "metadata": {},
   "outputs": [
    {
     "data": {
      "text/plain": [
       "varity_num\n",
       "fourplus    2431\n",
       "three        886\n",
       "two          401\n",
       "Zero         100\n",
       "one           79\n",
       "Name: count, dtype: int64"
      ]
     },
     "execution_count": 131,
     "metadata": {},
     "output_type": "execute_result"
    }
   ],
   "source": [
    "rtv['varity_num'].value_counts()"
   ]
  },
  {
   "cell_type": "code",
   "execution_count": 135,
   "id": "84e08773-8b39-49ee-8016-b65050c3cea0",
   "metadata": {},
   "outputs": [
    {
     "name": "stderr",
     "output_type": "stream",
     "text": [
      "/var/folders/xd/0btgr76j2zxc4__ynw0yhwbm0000gn/T/ipykernel_97705/3149177729.py:1: FutureWarning: The default of observed=False is deprecated and will be changed to True in a future version of pandas. Pass observed=False to retain current behavior or observed=True to adopt the future default and silence this warning.\n",
      "  rtv.groupby('varity_num')[['Seasonal Crops Income (USD_Cons_rate)','Perenial Crops Income (USD_Cons_rate)',\n"
     ]
    },
    {
     "data": {
      "text/html": [
       "<div>\n",
       "<style scoped>\n",
       "    .dataframe tbody tr th:only-of-type {\n",
       "        vertical-align: middle;\n",
       "    }\n",
       "\n",
       "    .dataframe tbody tr th {\n",
       "        vertical-align: top;\n",
       "    }\n",
       "\n",
       "    .dataframe thead th {\n",
       "        text-align: right;\n",
       "    }\n",
       "</style>\n",
       "<table border=\"1\" class=\"dataframe\">\n",
       "  <thead>\n",
       "    <tr style=\"text-align: right;\">\n",
       "      <th></th>\n",
       "      <th>Seasonal Crops Income (USD_Cons_rate)</th>\n",
       "      <th>Perenial Crops Income (USD_Cons_rate)</th>\n",
       "      <th>Seasonal  Agriculture Value (USD_Cons_rate)</th>\n",
       "      <th>Perennial Agriculture Value (USD_Cons_rate)</th>\n",
       "    </tr>\n",
       "    <tr>\n",
       "      <th>varity_num</th>\n",
       "      <th></th>\n",
       "      <th></th>\n",
       "      <th></th>\n",
       "      <th></th>\n",
       "    </tr>\n",
       "  </thead>\n",
       "  <tbody>\n",
       "    <tr>\n",
       "      <th>Zero</th>\n",
       "      <td>55.521415</td>\n",
       "      <td>114.995618</td>\n",
       "      <td>152.206540</td>\n",
       "      <td>218.608093</td>\n",
       "    </tr>\n",
       "    <tr>\n",
       "      <th>one</th>\n",
       "      <td>84.583808</td>\n",
       "      <td>90.736828</td>\n",
       "      <td>153.362483</td>\n",
       "      <td>200.653095</td>\n",
       "    </tr>\n",
       "    <tr>\n",
       "      <th>two</th>\n",
       "      <td>87.900637</td>\n",
       "      <td>129.249045</td>\n",
       "      <td>200.006097</td>\n",
       "      <td>255.804982</td>\n",
       "    </tr>\n",
       "    <tr>\n",
       "      <th>three</th>\n",
       "      <td>109.011853</td>\n",
       "      <td>138.043321</td>\n",
       "      <td>260.384143</td>\n",
       "      <td>265.174624</td>\n",
       "    </tr>\n",
       "    <tr>\n",
       "      <th>fourplus</th>\n",
       "      <td>134.494247</td>\n",
       "      <td>127.170866</td>\n",
       "      <td>363.343600</td>\n",
       "      <td>273.663555</td>\n",
       "    </tr>\n",
       "  </tbody>\n",
       "</table>\n",
       "</div>"
      ],
      "text/plain": [
       "            Seasonal Crops Income (USD_Cons_rate)  \\\n",
       "varity_num                                          \n",
       "Zero                                    55.521415   \n",
       "one                                     84.583808   \n",
       "two                                     87.900637   \n",
       "three                                  109.011853   \n",
       "fourplus                               134.494247   \n",
       "\n",
       "            Perenial Crops Income (USD_Cons_rate)  \\\n",
       "varity_num                                          \n",
       "Zero                                   114.995618   \n",
       "one                                     90.736828   \n",
       "two                                    129.249045   \n",
       "three                                  138.043321   \n",
       "fourplus                               127.170866   \n",
       "\n",
       "            Seasonal  Agriculture Value (USD_Cons_rate)  \\\n",
       "varity_num                                                \n",
       "Zero                                         152.206540   \n",
       "one                                          153.362483   \n",
       "two                                          200.006097   \n",
       "three                                        260.384143   \n",
       "fourplus                                     363.343600   \n",
       "\n",
       "            Perennial Agriculture Value (USD_Cons_rate)  \n",
       "varity_num                                               \n",
       "Zero                                         218.608093  \n",
       "one                                          200.653095  \n",
       "two                                          255.804982  \n",
       "three                                        265.174624  \n",
       "fourplus                                     273.663555  "
      ]
     },
     "execution_count": 135,
     "metadata": {},
     "output_type": "execute_result"
    }
   ],
   "source": [
    "rtv.groupby('varity_num')[['Seasonal Crops Income (USD_Cons_rate)','Perenial Crops Income (USD_Cons_rate)',\n",
    "                          'Seasonal  Agriculture Value (USD_Cons_rate)','Perennial Agriculture Value (USD_Cons_rate)']].mean()"
   ]
  },
  {
   "cell_type": "code",
   "execution_count": null,
   "id": "845d5c8d-025e-4508-bd7d-11779e0c6d5a",
   "metadata": {},
   "outputs": [],
   "source": [
    "rtv[['S"
   ]
  }
 ],
 "metadata": {
  "kernelspec": {
   "display_name": "Python 3 (ipykernel)",
   "language": "python",
   "name": "python3"
  },
  "language_info": {
   "codemirror_mode": {
    "name": "ipython",
    "version": 3
   },
   "file_extension": ".py",
   "mimetype": "text/x-python",
   "name": "python",
   "nbconvert_exporter": "python",
   "pygments_lexer": "ipython3",
   "version": "3.10.9"
  }
 },
 "nbformat": 4,
 "nbformat_minor": 5
}
