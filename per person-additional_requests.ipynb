{
 "cells": [
  {
   "cell_type": "code",
   "execution_count": 1,
   "id": "9d52116b-f6c0-4b3d-92b5-8a1ce2304c97",
   "metadata": {},
   "outputs": [],
   "source": [
    "import pandas as pd\n",
    "from scipy.stats import f_oneway\n",
    "import pingouin as pg\n",
    "from scipy.stats import chi2_contingency"
   ]
  },
  {
   "cell_type": "markdown",
   "id": "42b554d3-9649-4b14-8cf3-24fe5dd3d6d0",
   "metadata": {},
   "source": [
    "## Graduating cohorts"
   ]
  },
  {
   "cell_type": "code",
   "execution_count": 2,
   "id": "a70e642f-cb4e-49d4-b105-e1d4444935f6",
   "metadata": {},
   "outputs": [],
   "source": [
    "df1 = pd.read_excel('All2021Cohorts_merged_outlier managed.xlsx', sheet_name='MergedRTV_Control2021',header=5)"
   ]
  },
  {
   "cell_type": "code",
   "execution_count": 4,
   "id": "be94a17c-c3a3-4af8-b0cb-fd61b931ebb2",
   "metadata": {},
   "outputs": [],
   "source": [
    "df = df1[df1['Status'] == \"RTV\"]"
   ]
  },
  {
   "cell_type": "code",
   "execution_count": 5,
   "id": "c3887aac-e4b6-48e3-9298-0514960e5bff",
   "metadata": {},
   "outputs": [
    {
     "data": {
      "text/plain": [
       "0       Group 4\n",
       "1       Group 2\n",
       "2       Group 3\n",
       "3       Group 3\n",
       "4       Group 4\n",
       "         ...   \n",
       "3892    Group 3\n",
       "3893    Group 2\n",
       "3894    Group 2\n",
       "3895    Group 2\n",
       "3896    Group 3\n",
       "Name: Quartile, Length: 3897, dtype: object"
      ]
     },
     "execution_count": 5,
     "metadata": {},
     "output_type": "execute_result"
    }
   ],
   "source": [
    "df['Quartile']"
   ]
  },
  {
   "cell_type": "code",
   "execution_count": 65,
   "id": "3044b28e-eb2e-406b-a76d-6fb031f4d09d",
   "metadata": {},
   "outputs": [],
   "source": [
    "def perform_anova_for_gender_and_variable(gender, variable):\n",
    "    return f_oneway(\n",
    "        above[above['Household_Head_Gender'] == gender][variable].dropna(), \n",
    "        below[below['Household_Head_Gender'] == gender][variable].dropna()\n",
    "    )"
   ]
  },
  {
   "cell_type": "code",
   "execution_count": 336,
   "id": "4623fc33-6b71-4a4d-a036-f1f3e2960e50",
   "metadata": {},
   "outputs": [],
   "source": [
    "joint = df[df['Household_Head_Gender'] == 'Male Headed']\n",
    "female = df[df['Household_Head_Gender'] == 'Female Headed']\n",
    "youth = df[df['Household_Head_Gender'] == 'Youth Headed']"
   ]
  },
  {
   "cell_type": "code",
   "execution_count": 391,
   "id": "414f4340-77b6-4e83-afef-fc05923959c2",
   "metadata": {},
   "outputs": [],
   "source": [
    "below = df[df['above2'] == 'above 2.15']\n",
    "above = df[df['above2'] == 'below 2.15']"
   ]
  },
  {
   "cell_type": "code",
   "execution_count": 364,
   "id": "dba9d5a1-77e5-4907-9179-556b09799608",
   "metadata": {},
   "outputs": [],
   "source": [
    "group4 = df[df['Quartile']== 'Group 4']\n",
    "group3 = df[df['Quartile']== 'Group 3']"
   ]
  },
  {
   "cell_type": "code",
   "execution_count": 7,
   "id": "a7f75b1f-3b1f-4431-adc7-f3be620905ce",
   "metadata": {},
   "outputs": [
    {
     "data": {
      "text/plain": [
       "(3897, 5670)"
      ]
     },
     "execution_count": 7,
     "metadata": {},
     "output_type": "execute_result"
    }
   ],
   "source": [
    "df.shape"
   ]
  },
  {
   "cell_type": "code",
   "execution_count": 8,
   "id": "389e475d-6b97-45f8-b69e-c00c31f02057",
   "metadata": {},
   "outputs": [],
   "source": [
    "boundaries = [0, 0.75, 1.25, 2, 3, float('inf')]\n",
    "labels = [\"0-<0.75/Day\", \"0.75-<1.25/Day\", \"1.25-<2/Day\", \"2-<3/Day\", \"3+/Day\"]"
   ]
  },
  {
   "cell_type": "code",
   "execution_count": 9,
   "id": "eb10c443-8f31-4579-b607-2bed98a1320c",
   "metadata": {},
   "outputs": [
    {
     "name": "stderr",
     "output_type": "stream",
     "text": [
      "/var/folders/xd/0btgr76j2zxc4__ynw0yhwbm0000gn/T/ipykernel_20832/2164301761.py:1: SettingWithCopyWarning: \n",
      "A value is trying to be set on a copy of a slice from a DataFrame.\n",
      "Try using .loc[row_indexer,col_indexer] = value instead\n",
      "\n",
      "See the caveats in the documentation: https://pandas.pydata.org/pandas-docs/stable/user_guide/indexing.html#returning-a-view-versus-a-copy\n",
      "  df['income_group'] = pd.cut(df['HH Income + Consumption + Residues/Day (USD_adult_equiv_adj)'], bins=boundaries, labels=labels, right=False)\n"
     ]
    }
   ],
   "source": [
    "df['income_group'] = pd.cut(df['HH Income + Consumption + Residues/Day (USD_adult_equiv_adj)'], bins=boundaries, labels=labels, right=False)"
   ]
  },
  {
   "cell_type": "code",
   "execution_count": 10,
   "id": "0bb315eb-1768-432d-86b6-92306630f074",
   "metadata": {},
   "outputs": [
    {
     "data": {
      "text/plain": [
       "income_group\n",
       "3+/Day            0.420580\n",
       "2-<3/Day          0.275340\n",
       "1.25-<2/Day       0.209392\n",
       "0.75-<1.25/Day    0.073646\n",
       "0-<0.75/Day       0.021042\n",
       "Name: proportion, dtype: float64"
      ]
     },
     "execution_count": 10,
     "metadata": {},
     "output_type": "execute_result"
    }
   ],
   "source": [
    "df['income_group'].value_counts(normalize=True)"
   ]
  },
  {
   "cell_type": "code",
   "execution_count": null,
   "id": "44a60e8d-df2f-4038-a256-26bddaee2806",
   "metadata": {},
   "outputs": [],
   "source": []
  },
  {
   "cell_type": "markdown",
   "id": "de38ef63-cddc-4cab-9a0f-5be6ef62a037",
   "metadata": {},
   "source": [
    "0-<2.15/Day\n",
    "2.15+/Day"
   ]
  },
  {
   "cell_type": "code",
   "execution_count": 11,
   "id": "9c17cec7-d7d4-4971-9e9f-3bbd5195da61",
   "metadata": {},
   "outputs": [],
   "source": [
    "boundaries = [0, 2.15,float('inf')]\n",
    "labels = [\"0-<2.15/Day\", \"3+/Day\"]"
   ]
  },
  {
   "cell_type": "code",
   "execution_count": 12,
   "id": "92ecdacc-68a3-49cc-a0ce-797eeefca9e4",
   "metadata": {},
   "outputs": [
    {
     "name": "stderr",
     "output_type": "stream",
     "text": [
      "/var/folders/xd/0btgr76j2zxc4__ynw0yhwbm0000gn/T/ipykernel_20832/1597046779.py:1: SettingWithCopyWarning: \n",
      "A value is trying to be set on a copy of a slice from a DataFrame.\n",
      "Try using .loc[row_indexer,col_indexer] = value instead\n",
      "\n",
      "See the caveats in the documentation: https://pandas.pydata.org/pandas-docs/stable/user_guide/indexing.html#returning-a-view-versus-a-copy\n",
      "  df['income_group_1'] = pd.cut(df['HH Income + Consumption + Residues/Day (USD_adult_equiv_adj)'], bins=boundaries, labels=labels, right=False)\n"
     ]
    }
   ],
   "source": [
    "df['income_group_1'] = pd.cut(df['HH Income + Consumption + Residues/Day (USD_adult_equiv_adj)'], bins=boundaries, labels=labels, right=False)"
   ]
  },
  {
   "cell_type": "code",
   "execution_count": 13,
   "id": "bb158f6e-db75-4bda-9301-822f261bac2b",
   "metadata": {},
   "outputs": [
    {
     "data": {
      "text/plain": [
       "income_group_1\n",
       "3+/Day         0.651783\n",
       "0-<2.15/Day    0.348217\n",
       "Name: proportion, dtype: float64"
      ]
     },
     "execution_count": 13,
     "metadata": {},
     "output_type": "execute_result"
    }
   ],
   "source": [
    "df['income_group_1'].value_counts(normalize=True)"
   ]
  },
  {
   "cell_type": "code",
   "execution_count": null,
   "id": "3ea01622-0235-449f-a761-521d989ce4e7",
   "metadata": {},
   "outputs": [],
   "source": []
  },
  {
   "cell_type": "code",
   "execution_count": null,
   "id": "b5a19630-80fd-4447-8618-4b513b53d197",
   "metadata": {},
   "outputs": [],
   "source": []
  },
  {
   "cell_type": "code",
   "execution_count": 14,
   "id": "bc6b7236-6045-4bf6-a5ff-82cf6118e95d",
   "metadata": {},
   "outputs": [],
   "source": [
    "boundaries_2 = [0, 0.75, 1.25, 2.15, 3, float('inf')]\n",
    "labels_2 = [\"0-<0.75/Day\", \"0.75-<1.25/Day\", \"1.25-<2.15/Day\", \"2.5-<3/Day\", \"3+/Day\"]"
   ]
  },
  {
   "cell_type": "markdown",
   "id": "a0ee2a4e-660c-4116-8fc5-e5f4a2cb7c82",
   "metadata": {},
   "source": [
    "0-<0.75/Day\n",
    "0.75-<1.25/Day\n",
    "1.25-<2.15/Day\n",
    "2.15-<3/Day\n",
    "3+/Day"
   ]
  },
  {
   "cell_type": "code",
   "execution_count": 15,
   "id": "f62fbc74-9738-4f8a-b4fe-c846394e4ac4",
   "metadata": {},
   "outputs": [
    {
     "name": "stderr",
     "output_type": "stream",
     "text": [
      "/var/folders/xd/0btgr76j2zxc4__ynw0yhwbm0000gn/T/ipykernel_20832/3197324783.py:1: SettingWithCopyWarning: \n",
      "A value is trying to be set on a copy of a slice from a DataFrame.\n",
      "Try using .loc[row_indexer,col_indexer] = value instead\n",
      "\n",
      "See the caveats in the documentation: https://pandas.pydata.org/pandas-docs/stable/user_guide/indexing.html#returning-a-view-versus-a-copy\n",
      "  df['income_group_2'] = pd.cut(df['HH Income + Consumption + Residues/Day (USD_adult_equiv_adj)'], bins=boundaries_2, labels=labels_2, right=False)\n"
     ]
    }
   ],
   "source": [
    "df['income_group_2'] = pd.cut(df['HH Income + Consumption + Residues/Day (USD_adult_equiv_adj)'], bins=boundaries_2, labels=labels_2, right=False)"
   ]
  },
  {
   "cell_type": "code",
   "execution_count": 16,
   "id": "91c2da82-6673-4ad6-bf5d-b8acda0671d0",
   "metadata": {},
   "outputs": [
    {
     "data": {
      "text/plain": [
       "income_group_2\n",
       "3+/Day            0.420580\n",
       "1.25-<2.15/Day    0.253528\n",
       "2.5-<3/Day        0.231203\n",
       "0.75-<1.25/Day    0.073646\n",
       "0-<0.75/Day       0.021042\n",
       "Name: proportion, dtype: float64"
      ]
     },
     "execution_count": 16,
     "metadata": {},
     "output_type": "execute_result"
    }
   ],
   "source": [
    "df['income_group_2'].value_counts(normalize=True)"
   ]
  },
  {
   "cell_type": "code",
   "execution_count": 17,
   "id": "f5ba6e6d-841b-4e4e-8b88-8b87dcec450b",
   "metadata": {},
   "outputs": [],
   "source": [
    "def gender_age_processing(df):\n",
    "    sex_mapping = {1: 'Male', 2: 'Female'}\n",
    "    df['Gender'] = df['hhh_sex'].replace(sex_mapping)\n",
    "    df['Household_Head_Gender'] = df['Gender']\n",
    "    df['Household_Head_Gender'] = df.apply(\n",
    "        lambda row: 'Youth Headed' if row['hhh_age'] <= 30 else str(row['Household_Head_Gender']) + ' Headed', axis=1\n",
    "    )\n",
    "    return df"
   ]
  },
  {
   "cell_type": "code",
   "execution_count": 18,
   "id": "bf5bbc92-3733-401e-8b8b-67cb68fc6ee0",
   "metadata": {},
   "outputs": [
    {
     "name": "stderr",
     "output_type": "stream",
     "text": [
      "/var/folders/xd/0btgr76j2zxc4__ynw0yhwbm0000gn/T/ipykernel_20832/2134579218.py:3: SettingWithCopyWarning: \n",
      "A value is trying to be set on a copy of a slice from a DataFrame.\n",
      "Try using .loc[row_indexer,col_indexer] = value instead\n",
      "\n",
      "See the caveats in the documentation: https://pandas.pydata.org/pandas-docs/stable/user_guide/indexing.html#returning-a-view-versus-a-copy\n",
      "  df['Gender'] = df['hhh_sex'].replace(sex_mapping)\n",
      "/var/folders/xd/0btgr76j2zxc4__ynw0yhwbm0000gn/T/ipykernel_20832/2134579218.py:4: SettingWithCopyWarning: \n",
      "A value is trying to be set on a copy of a slice from a DataFrame.\n",
      "Try using .loc[row_indexer,col_indexer] = value instead\n",
      "\n",
      "See the caveats in the documentation: https://pandas.pydata.org/pandas-docs/stable/user_guide/indexing.html#returning-a-view-versus-a-copy\n",
      "  df['Household_Head_Gender'] = df['Gender']\n",
      "/var/folders/xd/0btgr76j2zxc4__ynw0yhwbm0000gn/T/ipykernel_20832/2134579218.py:5: SettingWithCopyWarning: \n",
      "A value is trying to be set on a copy of a slice from a DataFrame.\n",
      "Try using .loc[row_indexer,col_indexer] = value instead\n",
      "\n",
      "See the caveats in the documentation: https://pandas.pydata.org/pandas-docs/stable/user_guide/indexing.html#returning-a-view-versus-a-copy\n",
      "  df['Household_Head_Gender'] = df.apply(\n"
     ]
    }
   ],
   "source": [
    "df = gender_age_processing(df)"
   ]
  },
  {
   "cell_type": "code",
   "execution_count": 19,
   "id": "b152a2d4-5206-4e78-a01f-c6dbdca3739e",
   "metadata": {},
   "outputs": [
    {
     "data": {
      "text/plain": [
       "Household_Head_Gender\n",
       "Male Headed      2422\n",
       "Female Headed    1070\n",
       "Youth Headed      405\n",
       "Name: count, dtype: int64"
      ]
     },
     "execution_count": 19,
     "metadata": {},
     "output_type": "execute_result"
    }
   ],
   "source": [
    "df['Household_Head_Gender'].value_counts()"
   ]
  },
  {
   "cell_type": "code",
   "execution_count": 20,
   "id": "1bd10ae7-2acc-4946-ba17-742aead1f57b",
   "metadata": {},
   "outputs": [
    {
     "data": {
      "text/plain": [
       "('hhh_age', 'hh_size', 'Size_land_owned')"
      ]
     },
     "execution_count": 20,
     "metadata": {},
     "output_type": "execute_result"
    }
   ],
   "source": [
    "'hhh_age', 'hh_size', 'Size_land_owned'"
   ]
  },
  {
   "cell_type": "code",
   "execution_count": 21,
   "id": "95c3660e-426c-4dcb-b057-511ba5639b72",
   "metadata": {},
   "outputs": [
    {
     "data": {
      "text/html": [
       "<div>\n",
       "<style scoped>\n",
       "    .dataframe tbody tr th:only-of-type {\n",
       "        vertical-align: middle;\n",
       "    }\n",
       "\n",
       "    .dataframe tbody tr th {\n",
       "        vertical-align: top;\n",
       "    }\n",
       "\n",
       "    .dataframe thead th {\n",
       "        text-align: right;\n",
       "    }\n",
       "</style>\n",
       "<table border=\"1\" class=\"dataframe\">\n",
       "  <thead>\n",
       "    <tr style=\"text-align: right;\">\n",
       "      <th></th>\n",
       "      <th>hhh_age</th>\n",
       "      <th>hh_size</th>\n",
       "      <th>Size_land_owned</th>\n",
       "    </tr>\n",
       "    <tr>\n",
       "      <th>Quartile</th>\n",
       "      <th></th>\n",
       "      <th></th>\n",
       "      <th></th>\n",
       "    </tr>\n",
       "  </thead>\n",
       "  <tbody>\n",
       "    <tr>\n",
       "      <th>Group 1</th>\n",
       "      <td>51.012868</td>\n",
       "      <td>4.913603</td>\n",
       "      <td>1.776384</td>\n",
       "    </tr>\n",
       "    <tr>\n",
       "      <th>Group 2</th>\n",
       "      <td>52.107073</td>\n",
       "      <td>4.766208</td>\n",
       "      <td>1.849960</td>\n",
       "    </tr>\n",
       "    <tr>\n",
       "      <th>Group 3</th>\n",
       "      <td>51.133534</td>\n",
       "      <td>4.706827</td>\n",
       "      <td>2.104562</td>\n",
       "    </tr>\n",
       "    <tr>\n",
       "      <th>Group 4</th>\n",
       "      <td>49.544901</td>\n",
       "      <td>4.959665</td>\n",
       "      <td>1.991133</td>\n",
       "    </tr>\n",
       "  </tbody>\n",
       "</table>\n",
       "</div>"
      ],
      "text/plain": [
       "            hhh_age   hh_size  Size_land_owned\n",
       "Quartile                                      \n",
       "Group 1   51.012868  4.913603         1.776384\n",
       "Group 2   52.107073  4.766208         1.849960\n",
       "Group 3   51.133534  4.706827         2.104562\n",
       "Group 4   49.544901  4.959665         1.991133"
      ]
     },
     "execution_count": 21,
     "metadata": {},
     "output_type": "execute_result"
    }
   ],
   "source": [
    "df.groupby('Quartile')[['hhh_age', 'hh_size', 'Size_land_owned']].mean()"
   ]
  },
  {
   "cell_type": "code",
   "execution_count": 22,
   "id": "0dd25e56-76a6-41ad-bd41-ebdf2bef86eb",
   "metadata": {},
   "outputs": [
    {
     "name": "stderr",
     "output_type": "stream",
     "text": [
      "/var/folders/xd/0btgr76j2zxc4__ynw0yhwbm0000gn/T/ipykernel_20832/3415046989.py:1: SettingWithCopyWarning: \n",
      "A value is trying to be set on a copy of a slice from a DataFrame.\n",
      "Try using .loc[row_indexer,col_indexer] = value instead\n",
      "\n",
      "See the caveats in the documentation: https://pandas.pydata.org/pandas-docs/stable/user_guide/indexing.html#returning-a-view-versus-a-copy\n",
      "  df['above2'] = df['HH Income + Consumption + Residues/Day (USD_adult_equiv_adj)'].apply(lambda x: \"above 2.15\" if x >= 2.15 else \"below 2.15\")\n"
     ]
    }
   ],
   "source": [
    "df['above2'] = df['HH Income + Consumption + Residues/Day (USD_adult_equiv_adj)'].apply(lambda x: \"above 2.15\" if x >= 2.15 else \"below 2.15\")"
   ]
  },
  {
   "cell_type": "code",
   "execution_count": 23,
   "id": "b6f436c3-dad6-4d55-8f65-5aa30c5471fa",
   "metadata": {},
   "outputs": [
    {
     "data": {
      "text/plain": [
       "above2\n",
       "above 2.15    2540\n",
       "below 2.15    1357\n",
       "Name: count, dtype: int64"
      ]
     },
     "execution_count": 23,
     "metadata": {},
     "output_type": "execute_result"
    }
   ],
   "source": [
    "df['above2'].value_counts()"
   ]
  },
  {
   "cell_type": "code",
   "execution_count": 24,
   "id": "5473aa71-0b8f-4f93-8a40-85aea99c4641",
   "metadata": {},
   "outputs": [
    {
     "data": {
      "text/plain": [
       "above2\n",
       "above 2.15    0.651783\n",
       "below 2.15    0.348217\n",
       "Name: proportion, dtype: float64"
      ]
     },
     "execution_count": 24,
     "metadata": {},
     "output_type": "execute_result"
    }
   ],
   "source": [
    "df['above2'].value_counts(normalize=True)"
   ]
  },
  {
   "cell_type": "code",
   "execution_count": 25,
   "id": "cd1ed279-4b71-4f84-a87b-22e345a05215",
   "metadata": {},
   "outputs": [
    {
     "data": {
      "text/html": [
       "<div>\n",
       "<style scoped>\n",
       "    .dataframe tbody tr th:only-of-type {\n",
       "        vertical-align: middle;\n",
       "    }\n",
       "\n",
       "    .dataframe tbody tr th {\n",
       "        vertical-align: top;\n",
       "    }\n",
       "\n",
       "    .dataframe thead th {\n",
       "        text-align: right;\n",
       "    }\n",
       "</style>\n",
       "<table border=\"1\" class=\"dataframe\">\n",
       "  <thead>\n",
       "    <tr style=\"text-align: right;\">\n",
       "      <th>Household_Head_Gender</th>\n",
       "      <th>Female Headed</th>\n",
       "      <th>Male Headed</th>\n",
       "      <th>Youth Headed</th>\n",
       "    </tr>\n",
       "    <tr>\n",
       "      <th>above2</th>\n",
       "      <th></th>\n",
       "      <th></th>\n",
       "      <th></th>\n",
       "    </tr>\n",
       "  </thead>\n",
       "  <tbody>\n",
       "    <tr>\n",
       "      <th>above 2.15</th>\n",
       "      <td>0.295276</td>\n",
       "      <td>0.598425</td>\n",
       "      <td>0.106299</td>\n",
       "    </tr>\n",
       "    <tr>\n",
       "      <th>below 2.15</th>\n",
       "      <td>0.235814</td>\n",
       "      <td>0.664702</td>\n",
       "      <td>0.099484</td>\n",
       "    </tr>\n",
       "  </tbody>\n",
       "</table>\n",
       "</div>"
      ],
      "text/plain": [
       "Household_Head_Gender  Female Headed  Male Headed  Youth Headed\n",
       "above2                                                         \n",
       "above 2.15                  0.295276     0.598425      0.106299\n",
       "below 2.15                  0.235814     0.664702      0.099484"
      ]
     },
     "execution_count": 25,
     "metadata": {},
     "output_type": "execute_result"
    }
   ],
   "source": [
    "df.groupby('above2')[['Household_Head_Gender']].value_counts(normalize=True).unstack()"
   ]
  },
  {
   "cell_type": "code",
   "execution_count": 26,
   "id": "46279466-e92f-48c9-a55c-f934c7fc41cc",
   "metadata": {},
   "outputs": [
    {
     "data": {
      "text/plain": [
       "Chi2ContingencyResult(statistic=18.035714047179997, pvalue=0.00012122563175153323, dof=2, expected_freq=array([[ 697.40826277,  372.59173723],\n",
       "       [1578.61945086,  843.38054914],\n",
       "       [ 263.97228637,  141.02771363]]))"
      ]
     },
     "execution_count": 26,
     "metadata": {},
     "output_type": "execute_result"
    }
   ],
   "source": [
    "chi2_contingency(pd.crosstab(df[\"Household_Head_Gender\"], df[\"above2\"]))"
   ]
  },
  {
   "cell_type": "code",
   "execution_count": 39,
   "id": "1c2731aa-60f4-492d-9e7e-9c95e23ecc0f",
   "metadata": {},
   "outputs": [
    {
     "data": {
      "text/plain": [
       "Chi2ContingencyResult(statistic=3.839650611774145, pvalue=0.05005395054793521, dof=1, expected_freq=array([[112.66666667,  56.33333333],\n",
       "       [157.33333333,  78.66666667]]))"
      ]
     },
     "execution_count": 39,
     "metadata": {},
     "output_type": "execute_result"
    }
   ],
   "source": [
    "chi2_contingency(pd.crosstab(youth[\"vsla_participation\"], youth[\"above2\"]))"
   ]
  },
  {
   "cell_type": "code",
   "execution_count": 40,
   "id": "9dad85b2-8d8e-44e2-9f84-0b16b2e7daa0",
   "metadata": {},
   "outputs": [
    {
     "data": {
      "text/plain": [
       "0       2\n",
       "1       1\n",
       "2       1\n",
       "3       6\n",
       "4       3\n",
       "       ..\n",
       "3892    3\n",
       "3893    3\n",
       "3894    4\n",
       "3895    1\n",
       "3896    2\n",
       "Name: hh_size_adjusted, Length: 3897, dtype: int64"
      ]
     },
     "execution_count": 40,
     "metadata": {},
     "output_type": "execute_result"
    }
   ],
   "source": [
    "df['hh_size_adjusted']"
   ]
  },
  {
   "cell_type": "code",
   "execution_count": 41,
   "id": "eeffd53e-70c7-4564-ad0f-8ad63af8858f",
   "metadata": {},
   "outputs": [
    {
     "data": {
      "text/html": [
       "<div>\n",
       "<style scoped>\n",
       "    .dataframe tbody tr th:only-of-type {\n",
       "        vertical-align: middle;\n",
       "    }\n",
       "\n",
       "    .dataframe tbody tr th {\n",
       "        vertical-align: top;\n",
       "    }\n",
       "\n",
       "    .dataframe thead th {\n",
       "        text-align: right;\n",
       "    }\n",
       "</style>\n",
       "<table border=\"1\" class=\"dataframe\">\n",
       "  <thead>\n",
       "    <tr style=\"text-align: right;\">\n",
       "      <th></th>\n",
       "      <th>Seasonal Crops Income (USD_PPP)</th>\n",
       "      <th>Perenial Crops Income (USD_PPP)</th>\n",
       "      <th>Livestock Income (USD_PPP)</th>\n",
       "      <th>Livestock Income / Consumed (USD_PPP)</th>\n",
       "      <th>Assets (USD_PPP)</th>\n",
       "    </tr>\n",
       "  </thead>\n",
       "  <tbody>\n",
       "    <tr>\n",
       "      <th>0</th>\n",
       "      <td>130.136911</td>\n",
       "      <td>88.873988</td>\n",
       "      <td>0.000000</td>\n",
       "      <td>0.000000</td>\n",
       "      <td>0.000000</td>\n",
       "    </tr>\n",
       "    <tr>\n",
       "      <th>1</th>\n",
       "      <td>37.454038</td>\n",
       "      <td>292.014532</td>\n",
       "      <td>0.000000</td>\n",
       "      <td>0.000000</td>\n",
       "      <td>0.000000</td>\n",
       "    </tr>\n",
       "    <tr>\n",
       "      <th>2</th>\n",
       "      <td>182.191675</td>\n",
       "      <td>41.897737</td>\n",
       "      <td>0.000000</td>\n",
       "      <td>0.000000</td>\n",
       "      <td>171.399834</td>\n",
       "    </tr>\n",
       "    <tr>\n",
       "      <th>3</th>\n",
       "      <td>358.670023</td>\n",
       "      <td>78.716961</td>\n",
       "      <td>0.000000</td>\n",
       "      <td>0.000000</td>\n",
       "      <td>158.703550</td>\n",
       "    </tr>\n",
       "    <tr>\n",
       "      <th>4</th>\n",
       "      <td>66.020677</td>\n",
       "      <td>0.000000</td>\n",
       "      <td>0.000000</td>\n",
       "      <td>0.000000</td>\n",
       "      <td>0.000000</td>\n",
       "    </tr>\n",
       "    <tr>\n",
       "      <th>...</th>\n",
       "      <td>...</td>\n",
       "      <td>...</td>\n",
       "      <td>...</td>\n",
       "      <td>...</td>\n",
       "      <td>...</td>\n",
       "    </tr>\n",
       "    <tr>\n",
       "      <th>3892</th>\n",
       "      <td>1155.361843</td>\n",
       "      <td>0.000000</td>\n",
       "      <td>0.000000</td>\n",
       "      <td>38.088852</td>\n",
       "      <td>26.662196</td>\n",
       "    </tr>\n",
       "    <tr>\n",
       "      <th>3893</th>\n",
       "      <td>2958.234168</td>\n",
       "      <td>15.235541</td>\n",
       "      <td>0.000000</td>\n",
       "      <td>0.000000</td>\n",
       "      <td>1698.127983</td>\n",
       "    </tr>\n",
       "    <tr>\n",
       "      <th>3894</th>\n",
       "      <td>1541.963690</td>\n",
       "      <td>250.751609</td>\n",
       "      <td>0.000000</td>\n",
       "      <td>0.000000</td>\n",
       "      <td>555.462424</td>\n",
       "    </tr>\n",
       "    <tr>\n",
       "      <th>3895</th>\n",
       "      <td>1662.578388</td>\n",
       "      <td>0.000000</td>\n",
       "      <td>698.295619</td>\n",
       "      <td>698.295619</td>\n",
       "      <td>1396.591238</td>\n",
       "    </tr>\n",
       "    <tr>\n",
       "      <th>3896</th>\n",
       "      <td>1259.153964</td>\n",
       "      <td>229.040963</td>\n",
       "      <td>142.833195</td>\n",
       "      <td>257.100385</td>\n",
       "      <td>1904.442598</td>\n",
       "    </tr>\n",
       "  </tbody>\n",
       "</table>\n",
       "<p>3897 rows × 5 columns</p>\n",
       "</div>"
      ],
      "text/plain": [
       "      Seasonal Crops Income (USD_PPP)  Perenial Crops Income (USD_PPP)  \\\n",
       "0                          130.136911                        88.873988   \n",
       "1                           37.454038                       292.014532   \n",
       "2                          182.191675                        41.897737   \n",
       "3                          358.670023                        78.716961   \n",
       "4                           66.020677                         0.000000   \n",
       "...                               ...                              ...   \n",
       "3892                      1155.361843                         0.000000   \n",
       "3893                      2958.234168                        15.235541   \n",
       "3894                      1541.963690                       250.751609   \n",
       "3895                      1662.578388                         0.000000   \n",
       "3896                      1259.153964                       229.040963   \n",
       "\n",
       "      Livestock Income (USD_PPP)  Livestock Income / Consumed (USD_PPP)  \\\n",
       "0                       0.000000                               0.000000   \n",
       "1                       0.000000                               0.000000   \n",
       "2                       0.000000                               0.000000   \n",
       "3                       0.000000                               0.000000   \n",
       "4                       0.000000                               0.000000   \n",
       "...                          ...                                    ...   \n",
       "3892                    0.000000                              38.088852   \n",
       "3893                    0.000000                               0.000000   \n",
       "3894                    0.000000                               0.000000   \n",
       "3895                  698.295619                             698.295619   \n",
       "3896                  142.833195                             257.100385   \n",
       "\n",
       "      Assets (USD_PPP)  \n",
       "0             0.000000  \n",
       "1             0.000000  \n",
       "2           171.399834  \n",
       "3           158.703550  \n",
       "4             0.000000  \n",
       "...                ...  \n",
       "3892         26.662196  \n",
       "3893       1698.127983  \n",
       "3894        555.462424  \n",
       "3895       1396.591238  \n",
       "3896       1904.442598  \n",
       "\n",
       "[3897 rows x 5 columns]"
      ]
     },
     "execution_count": 41,
     "metadata": {},
     "output_type": "execute_result"
    }
   ],
   "source": [
    "df[['Seasonal Crops Income (USD_PPP)','Perenial Crops Income (USD_PPP)','Livestock Income (USD_PPP)','Livestock Income / Consumed (USD_PPP)','Assets (USD_PPP)']]"
   ]
  },
  {
   "cell_type": "code",
   "execution_count": 42,
   "id": "908a60fc-c81f-46c1-a534-67a310d875b8",
   "metadata": {},
   "outputs": [],
   "source": [
    "import numpy as np"
   ]
  },
  {
   "cell_type": "code",
   "execution_count": 43,
   "id": "ef3eedae-7588-49b0-9a1e-846df21c9015",
   "metadata": {},
   "outputs": [
    {
     "data": {
      "text/plain": [
       "0       1.732051\n",
       "1       1.732051\n",
       "2       1.414214\n",
       "3       2.828427\n",
       "4       2.236068\n",
       "          ...   \n",
       "3892    2.236068\n",
       "3893    2.236068\n",
       "3894    2.236068\n",
       "3895    1.414214\n",
       "3896    2.000000\n",
       "Name: hh_size, Length: 3897, dtype: float64"
      ]
     },
     "execution_count": 43,
     "metadata": {},
     "output_type": "execute_result"
    }
   ],
   "source": [
    "np.sqrt(df['hh_size'])"
   ]
  },
  {
   "cell_type": "code",
   "execution_count": 44,
   "id": "39afe3cd-bea1-433c-b307-49ebfa3cdbbb",
   "metadata": {},
   "outputs": [
    {
     "data": {
      "text/plain": [
       "array([ 2,  1,  6,  3,  0,  5,  4,  9,  7,  8, -1, 13, 11, 10, 25, 14, 18])"
      ]
     },
     "execution_count": 44,
     "metadata": {},
     "output_type": "execute_result"
    }
   ],
   "source": [
    "df['hh_size_adjusted'].unique()"
   ]
  },
  {
   "cell_type": "code",
   "execution_count": null,
   "id": "4d49b767-78c2-4402-b93b-3193ce97249f",
   "metadata": {},
   "outputs": [],
   "source": []
  },
  {
   "cell_type": "code",
   "execution_count": null,
   "id": "ce80e4af-5b85-4de7-af32-591be55dc7e2",
   "metadata": {},
   "outputs": [],
   "source": []
  },
  {
   "cell_type": "code",
   "execution_count": 45,
   "id": "d33d4ef6-3ebf-4a96-8ec3-9baabf2b3827",
   "metadata": {},
   "outputs": [
    {
     "name": "stderr",
     "output_type": "stream",
     "text": [
      "/var/folders/xd/0btgr76j2zxc4__ynw0yhwbm0000gn/T/ipykernel_20832/978518938.py:1: SettingWithCopyWarning: \n",
      "A value is trying to be set on a copy of a slice from a DataFrame.\n",
      "Try using .loc[row_indexer,col_indexer] = value instead\n",
      "\n",
      "See the caveats in the documentation: https://pandas.pydata.org/pandas-docs/stable/user_guide/indexing.html#returning-a-view-versus-a-copy\n",
      "  df['seasonal adjusted'] = (df['Seasonal Crops Income (USD_PPP)'] / np.sqrt(df['hh_size']))\n"
     ]
    }
   ],
   "source": [
    "df['seasonal adjusted'] = (df['Seasonal Crops Income (USD_PPP)'] / np.sqrt(df['hh_size']))"
   ]
  },
  {
   "cell_type": "code",
   "execution_count": 134,
   "id": "8a028932-9782-4c78-ae3e-23390bd9bad5",
   "metadata": {},
   "outputs": [
    {
     "data": {
      "text/plain": [
       "342.45388848549277"
      ]
     },
     "execution_count": 134,
     "metadata": {},
     "output_type": "execute_result"
    }
   ],
   "source": [
    "df['Seasonal Crops Income (USD_PPP)'].mean()"
   ]
  },
  {
   "cell_type": "code",
   "execution_count": 135,
   "id": "1721c120-4bba-4a70-b7f4-4ecf995aff7e",
   "metadata": {},
   "outputs": [
    {
     "data": {
      "text/plain": [
       "228.85051880674447"
      ]
     },
     "execution_count": 135,
     "metadata": {},
     "output_type": "execute_result"
    }
   ],
   "source": [
    "df['Seasonal Crops Income (USD_PPP)'].median()"
   ]
  },
  {
   "cell_type": "code",
   "execution_count": 47,
   "id": "aa5f2d3b-4670-4e74-a0f1-95824be3df25",
   "metadata": {},
   "outputs": [
    {
     "data": {
      "text/plain": [
       "170.3574248401325"
      ]
     },
     "execution_count": 47,
     "metadata": {},
     "output_type": "execute_result"
    }
   ],
   "source": [
    "df['seasonal adjusted'].mean()"
   ]
  },
  {
   "cell_type": "code",
   "execution_count": 48,
   "id": "59170800-cb5f-443b-a5b9-3ba80fc21d4b",
   "metadata": {},
   "outputs": [
    {
     "data": {
      "text/plain": [
       "above2\n",
       "above 2.15    210.382709\n",
       "below 2.15     95.439059\n",
       "Name: seasonal adjusted, dtype: float64"
      ]
     },
     "execution_count": 48,
     "metadata": {},
     "output_type": "execute_result"
    }
   ],
   "source": [
    "df.groupby('above2')['seasonal adjusted'].mean()"
   ]
  },
  {
   "cell_type": "code",
   "execution_count": 136,
   "id": "13616818-3471-4036-92d4-fb1fcb82074f",
   "metadata": {},
   "outputs": [
    {
     "data": {
      "text/plain": [
       "above2\n",
       "above 2.15    146.394062\n",
       "below 2.15     78.558257\n",
       "Name: seasonal adjusted, dtype: float64"
      ]
     },
     "execution_count": 136,
     "metadata": {},
     "output_type": "execute_result"
    }
   ],
   "source": [
    "df.groupby('above2')['seasonal adjusted'].median()"
   ]
  },
  {
   "cell_type": "code",
   "execution_count": 49,
   "id": "f2cadee4-6951-41df-968c-76d879881d78",
   "metadata": {},
   "outputs": [
    {
     "data": {
      "text/plain": [
       "Household_Head_Gender  above2    \n",
       "Female Headed          above 2.15    255.452691\n",
       "                       below 2.15     93.889340\n",
       "Male Headed            above 2.15    191.840986\n",
       "                       below 2.15     95.742276\n",
       "Youth Headed           above 2.15    189.571347\n",
       "                       below 2.15     97.086535\n",
       "Name: seasonal adjusted, dtype: float64"
      ]
     },
     "execution_count": 49,
     "metadata": {},
     "output_type": "execute_result"
    }
   ],
   "source": [
    "df.groupby(['Household_Head_Gender','above2'])['seasonal adjusted'].mean()"
   ]
  },
  {
   "cell_type": "code",
   "execution_count": 137,
   "id": "9851914d-88c0-45ce-b3c4-ac03244ed915",
   "metadata": {},
   "outputs": [
    {
     "data": {
      "text/plain": [
       "Household_Head_Gender  above2    \n",
       "Female Headed          above 2.15    177.589272\n",
       "                       below 2.15     74.220548\n",
       "Male Headed            above 2.15    133.310982\n",
       "                       below 2.15     79.990089\n",
       "Youth Headed           above 2.15    143.626713\n",
       "                       below 2.15     76.971058\n",
       "Name: seasonal adjusted, dtype: float64"
      ]
     },
     "execution_count": 137,
     "metadata": {},
     "output_type": "execute_result"
    }
   ],
   "source": [
    "df.groupby(['Household_Head_Gender','above2'])['seasonal adjusted'].median()"
   ]
  },
  {
   "cell_type": "code",
   "execution_count": 54,
   "id": "517ec444-2020-46db-9fab-9cc263310d7e",
   "metadata": {},
   "outputs": [
    {
     "data": {
      "text/plain": [
       "F_onewayResult(statistic=320.6110562916895, pvalue=5.782911998153647e-69)"
      ]
     },
     "execution_count": 54,
     "metadata": {},
     "output_type": "execute_result"
    }
   ],
   "source": [
    "f_oneway(above['seasonal adjusted'], below['seasonal adjusted'])"
   ]
  },
  {
   "cell_type": "code",
   "execution_count": 57,
   "id": "d0038807-e2d6-478c-b5c8-70fcc5315bb4",
   "metadata": {},
   "outputs": [
    {
     "data": {
      "text/plain": [
       "F_onewayResult(statistic=102.13964977822697, pvalue=5.383302136152957e-23)"
      ]
     },
     "execution_count": 57,
     "metadata": {},
     "output_type": "execute_result"
    }
   ],
   "source": [
    "perform_anova_for_gender_and_variable('Female Headed','seasonal adjusted')"
   ]
  },
  {
   "cell_type": "code",
   "execution_count": 58,
   "id": "776bd43c-6f5a-4a24-abf1-a16783ebf721",
   "metadata": {},
   "outputs": [
    {
     "data": {
      "text/plain": [
       "F_onewayResult(statistic=183.4772405507059, pvalue=2.3996727350705765e-40)"
      ]
     },
     "execution_count": 58,
     "metadata": {},
     "output_type": "execute_result"
    }
   ],
   "source": [
    "perform_anova_for_gender_and_variable('Male Headed','seasonal adjusted')"
   ]
  },
  {
   "cell_type": "code",
   "execution_count": 59,
   "id": "92cd4079-8831-4d2d-8a05-277596a79ad0",
   "metadata": {},
   "outputs": [
    {
     "data": {
      "text/plain": [
       "F_onewayResult(statistic=32.21552735517031, pvalue=2.6415476840797258e-08)"
      ]
     },
     "execution_count": 59,
     "metadata": {},
     "output_type": "execute_result"
    }
   ],
   "source": [
    "perform_anova_for_gender_and_variable('Youth Headed','seasonal adjusted')"
   ]
  },
  {
   "cell_type": "code",
   "execution_count": null,
   "id": "55d56a38-edda-4ea4-8580-91082bd11340",
   "metadata": {},
   "outputs": [],
   "source": []
  },
  {
   "cell_type": "code",
   "execution_count": null,
   "id": "f38f1ea4-d932-4f5d-9046-fc82221410b9",
   "metadata": {},
   "outputs": [],
   "source": []
  },
  {
   "cell_type": "code",
   "execution_count": 60,
   "id": "014005b4-108a-4559-bd0f-f233d5222137",
   "metadata": {},
   "outputs": [
    {
     "name": "stderr",
     "output_type": "stream",
     "text": [
      "/var/folders/xd/0btgr76j2zxc4__ynw0yhwbm0000gn/T/ipykernel_20832/2896051539.py:1: SettingWithCopyWarning: \n",
      "A value is trying to be set on a copy of a slice from a DataFrame.\n",
      "Try using .loc[row_indexer,col_indexer] = value instead\n",
      "\n",
      "See the caveats in the documentation: https://pandas.pydata.org/pandas-docs/stable/user_guide/indexing.html#returning-a-view-versus-a-copy\n",
      "  df['formal adjusted'] = (df['Formal Employment (USD_PPP)'] / np.sqrt(df['hh_size']))\n"
     ]
    }
   ],
   "source": [
    "df['formal adjusted'] = (df['Formal Employment (USD_PPP)'] / np.sqrt(df['hh_size']))"
   ]
  },
  {
   "cell_type": "code",
   "execution_count": 61,
   "id": "dd86ce4a-1fa1-4e02-a12c-b29c01f8a9b5",
   "metadata": {},
   "outputs": [
    {
     "data": {
      "text/plain": [
       "53.79290302443397"
      ]
     },
     "execution_count": 61,
     "metadata": {},
     "output_type": "execute_result"
    }
   ],
   "source": [
    "df['formal adjusted'].mean()"
   ]
  },
  {
   "cell_type": "code",
   "execution_count": 62,
   "id": "c57af8d1-daf8-4cd9-94f3-165518fd2194",
   "metadata": {},
   "outputs": [
    {
     "data": {
      "text/plain": [
       "above2\n",
       "above 2.15    79.992830\n",
       "below 2.15     4.752509\n",
       "Name: formal adjusted, dtype: float64"
      ]
     },
     "execution_count": 62,
     "metadata": {},
     "output_type": "execute_result"
    }
   ],
   "source": [
    "df.groupby('above2')['formal adjusted'].mean()"
   ]
  },
  {
   "cell_type": "code",
   "execution_count": 138,
   "id": "9cd501a0-9364-4771-8cca-d0c7d17f26f2",
   "metadata": {},
   "outputs": [
    {
     "data": {
      "text/plain": [
       "above2\n",
       "above 2.15    0.0\n",
       "below 2.15    0.0\n",
       "Name: formal adjusted, dtype: float64"
      ]
     },
     "execution_count": 138,
     "metadata": {},
     "output_type": "execute_result"
    }
   ],
   "source": [
    "df.groupby('above2')['formal adjusted'].median()"
   ]
  },
  {
   "cell_type": "code",
   "execution_count": 63,
   "id": "85a0d95d-ce60-4a06-8df8-c3e96571b25f",
   "metadata": {},
   "outputs": [
    {
     "data": {
      "text/plain": [
       "Household_Head_Gender  above2    \n",
       "Female Headed          above 2.15    47.641029\n",
       "                       below 2.15     1.863105\n",
       "Male Headed            above 2.15    93.699653\n",
       "                       below 2.15     4.942567\n",
       "Youth Headed           above 2.15    92.694608\n",
       "                       below 2.15    10.331596\n",
       "Name: formal adjusted, dtype: float64"
      ]
     },
     "execution_count": 63,
     "metadata": {},
     "output_type": "execute_result"
    }
   ],
   "source": [
    "df.groupby(['Household_Head_Gender','above2'])['formal adjusted'].mean()"
   ]
  },
  {
   "cell_type": "code",
   "execution_count": 71,
   "id": "8b894e31-2a7d-416a-9300-db2a848d71f1",
   "metadata": {},
   "outputs": [
    {
     "data": {
      "text/plain": [
       "F_onewayResult(statistic=84.51744252922528, pvalue=6.048698411295179e-20)"
      ]
     },
     "execution_count": 71,
     "metadata": {},
     "output_type": "execute_result"
    }
   ],
   "source": [
    "f_oneway(above['formal adjusted'], below['formal adjusted'])"
   ]
  },
  {
   "cell_type": "code",
   "execution_count": 72,
   "id": "af2a1cf7-9e60-4999-9662-de81ffc6515b",
   "metadata": {},
   "outputs": [
    {
     "data": {
      "text/plain": [
       "F_onewayResult(statistic=12.576734021884935, pvalue=0.0004075161134577198)"
      ]
     },
     "execution_count": 72,
     "metadata": {},
     "output_type": "execute_result"
    }
   ],
   "source": [
    "perform_anova_for_gender_and_variable('Female Headed','formal adjusted')"
   ]
  },
  {
   "cell_type": "code",
   "execution_count": 73,
   "id": "91da71f6-e5da-46ea-a6f1-451e427481bf",
   "metadata": {},
   "outputs": [
    {
     "data": {
      "text/plain": [
       "F_onewayResult(statistic=68.520820509272, pvalue=2.049156903499835e-16)"
      ]
     },
     "execution_count": 73,
     "metadata": {},
     "output_type": "execute_result"
    }
   ],
   "source": [
    "perform_anova_for_gender_and_variable('Male Headed','formal adjusted')"
   ]
  },
  {
   "cell_type": "code",
   "execution_count": 74,
   "id": "b0d47f64-5334-46f5-b6cc-b6587cfe3f62",
   "metadata": {},
   "outputs": [
    {
     "data": {
      "text/plain": [
       "F_onewayResult(statistic=7.636964641433572, pvalue=0.00598059953336991)"
      ]
     },
     "execution_count": 74,
     "metadata": {},
     "output_type": "execute_result"
    }
   ],
   "source": [
    "perform_anova_for_gender_and_variable('Youth Headed','formal adjusted')"
   ]
  },
  {
   "cell_type": "code",
   "execution_count": null,
   "id": "a4da8273-d1c7-4fc1-a1aa-643f024895fd",
   "metadata": {},
   "outputs": [],
   "source": []
  },
  {
   "cell_type": "code",
   "execution_count": null,
   "id": "9ced1238-5764-4347-9069-68d29feee623",
   "metadata": {},
   "outputs": [],
   "source": []
  },
  {
   "cell_type": "code",
   "execution_count": null,
   "id": "78e991c7-8879-4c16-8fbe-000cc7e1592a",
   "metadata": {},
   "outputs": [],
   "source": []
  },
  {
   "cell_type": "code",
   "execution_count": 75,
   "id": "908455e9-d84b-486d-868a-62f444a41b32",
   "metadata": {},
   "outputs": [
    {
     "name": "stderr",
     "output_type": "stream",
     "text": [
      "/var/folders/xd/0btgr76j2zxc4__ynw0yhwbm0000gn/T/ipykernel_20832/3348647454.py:1: SettingWithCopyWarning: \n",
      "A value is trying to be set on a copy of a slice from a DataFrame.\n",
      "Try using .loc[row_indexer,col_indexer] = value instead\n",
      "\n",
      "See the caveats in the documentation: https://pandas.pydata.org/pandas-docs/stable/user_guide/indexing.html#returning-a-view-versus-a-copy\n",
      "  df['business adjusted'] = (df['Personal Business & Self Employment (USD_PPP)'] / np.sqrt(df['hh_size']))\n"
     ]
    }
   ],
   "source": [
    "df['business adjusted'] = (df['Personal Business & Self Employment (USD_PPP)'] / np.sqrt(df['hh_size']))"
   ]
  },
  {
   "cell_type": "code",
   "execution_count": 76,
   "id": "d526cd17-a6c7-4344-8d44-d1c3075027ee",
   "metadata": {},
   "outputs": [
    {
     "data": {
      "text/plain": [
       "above2\n",
       "above 2.15    139.574271\n",
       "below 2.15     22.291642\n",
       "Name: business adjusted, dtype: float64"
      ]
     },
     "execution_count": 76,
     "metadata": {},
     "output_type": "execute_result"
    }
   ],
   "source": [
    "df.groupby('above2')['business adjusted'].mean()"
   ]
  },
  {
   "cell_type": "code",
   "execution_count": 139,
   "id": "7de47401-a2ae-4868-9879-344d8a94070d",
   "metadata": {},
   "outputs": [
    {
     "data": {
      "text/plain": [
       "above2\n",
       "above 2.15    0.0\n",
       "below 2.15    0.0\n",
       "Name: business adjusted, dtype: float64"
      ]
     },
     "execution_count": 139,
     "metadata": {},
     "output_type": "execute_result"
    }
   ],
   "source": [
    "df.groupby('above2')['business adjusted'].median()"
   ]
  },
  {
   "cell_type": "code",
   "execution_count": 77,
   "id": "987cc528-161c-420e-a350-405fcd9c9240",
   "metadata": {},
   "outputs": [
    {
     "data": {
      "text/plain": [
       "Household_Head_Gender  above2    \n",
       "Female Headed          above 2.15    106.126571\n",
       "                       below 2.15     13.975564\n",
       "Male Headed            above 2.15    145.242130\n",
       "                       below 2.15     24.899268\n",
       "Youth Headed           above 2.15    200.576597\n",
       "                       below 2.15     24.581024\n",
       "Name: business adjusted, dtype: float64"
      ]
     },
     "execution_count": 77,
     "metadata": {},
     "output_type": "execute_result"
    }
   ],
   "source": [
    "df.groupby(['Household_Head_Gender','above2'])['business adjusted'].mean()"
   ]
  },
  {
   "cell_type": "code",
   "execution_count": 140,
   "id": "71620756-ed15-4dd2-8ed2-466dbe8e650d",
   "metadata": {},
   "outputs": [
    {
     "data": {
      "text/plain": [
       "Household_Head_Gender  above2    \n",
       "Female Headed          above 2.15    0.0\n",
       "                       below 2.15    0.0\n",
       "Male Headed            above 2.15    0.0\n",
       "                       below 2.15    0.0\n",
       "Youth Headed           above 2.15    0.0\n",
       "                       below 2.15    0.0\n",
       "Name: business adjusted, dtype: float64"
      ]
     },
     "execution_count": 140,
     "metadata": {},
     "output_type": "execute_result"
    }
   ],
   "source": [
    "df.groupby(['Household_Head_Gender','above2'])['business adjusted'].median()"
   ]
  },
  {
   "cell_type": "code",
   "execution_count": 82,
   "id": "4b13397f-019a-441e-867c-73a78bc12dc0",
   "metadata": {},
   "outputs": [
    {
     "data": {
      "text/plain": [
       "F_onewayResult(statistic=22.81608352940884, pvalue=1.8483098817683121e-06)"
      ]
     },
     "execution_count": 82,
     "metadata": {},
     "output_type": "execute_result"
    }
   ],
   "source": [
    "f_oneway(above['seasonal adjusted'], below['business adjusted'])"
   ]
  },
  {
   "cell_type": "code",
   "execution_count": 83,
   "id": "122a7b65-fe46-44ef-8fd6-a90135ace0f2",
   "metadata": {},
   "outputs": [
    {
     "data": {
      "text/plain": [
       "F_onewayResult(statistic=32.72400309391091, pvalue=1.3783463236279638e-08)"
      ]
     },
     "execution_count": 83,
     "metadata": {},
     "output_type": "execute_result"
    }
   ],
   "source": [
    "perform_anova_for_gender_and_variable('Female Headed','business adjusted')"
   ]
  },
  {
   "cell_type": "code",
   "execution_count": 84,
   "id": "bd26c28b-bada-48c4-bb7d-cbb02b4bf9c0",
   "metadata": {},
   "outputs": [
    {
     "data": {
      "text/plain": [
       "F_onewayResult(statistic=128.88927973291885, pvalue=3.860725785708198e-29)"
      ]
     },
     "execution_count": 84,
     "metadata": {},
     "output_type": "execute_result"
    }
   ],
   "source": [
    "perform_anova_for_gender_and_variable('Male Headed','business adjusted')"
   ]
  },
  {
   "cell_type": "code",
   "execution_count": 85,
   "id": "48beec59-8978-429b-a6a1-1680bd70754e",
   "metadata": {},
   "outputs": [
    {
     "data": {
      "text/plain": [
       "F_onewayResult(statistic=15.206410624006066, pvalue=0.00011287808184529234)"
      ]
     },
     "execution_count": 85,
     "metadata": {},
     "output_type": "execute_result"
    }
   ],
   "source": [
    "perform_anova_for_gender_and_variable('Youth Headed','business adjusted')"
   ]
  },
  {
   "cell_type": "code",
   "execution_count": null,
   "id": "de6e96ba-adc2-48bf-9754-3132eb23d4cd",
   "metadata": {},
   "outputs": [],
   "source": []
  },
  {
   "cell_type": "code",
   "execution_count": null,
   "id": "63100914-bc7a-4114-bbd9-145aa76c180a",
   "metadata": {},
   "outputs": [],
   "source": []
  },
  {
   "cell_type": "code",
   "execution_count": 86,
   "id": "67fe7193-09df-4cb4-abbc-b87be8005359",
   "metadata": {},
   "outputs": [
    {
     "name": "stderr",
     "output_type": "stream",
     "text": [
      "/var/folders/xd/0btgr76j2zxc4__ynw0yhwbm0000gn/T/ipykernel_20832/1727886828.py:1: SettingWithCopyWarning: \n",
      "A value is trying to be set on a copy of a slice from a DataFrame.\n",
      "Try using .loc[row_indexer,col_indexer] = value instead\n",
      "\n",
      "See the caveats in the documentation: https://pandas.pydata.org/pandas-docs/stable/user_guide/indexing.html#returning-a-view-versus-a-copy\n",
      "  df['perenial adjusted'] = (df['Perenial Crops Income (USD_PPP)'] / np.sqrt(df['hh_size']))\n"
     ]
    }
   ],
   "source": [
    "df['perenial adjusted'] = (df['Perenial Crops Income (USD_PPP)'] / np.sqrt(df['hh_size']))"
   ]
  },
  {
   "cell_type": "code",
   "execution_count": 87,
   "id": "16efee29-6b72-4afd-bafd-434c86977d2a",
   "metadata": {},
   "outputs": [
    {
     "data": {
      "text/plain": [
       "above2\n",
       "above 2.15    241.246280\n",
       "below 2.15     68.565753\n",
       "Name: perenial adjusted, dtype: float64"
      ]
     },
     "execution_count": 87,
     "metadata": {},
     "output_type": "execute_result"
    }
   ],
   "source": [
    "df.groupby('above2')['perenial adjusted'].mean()"
   ]
  },
  {
   "cell_type": "code",
   "execution_count": 141,
   "id": "abab9ff1-4234-4d54-95bb-0e95ca6e0f00",
   "metadata": {},
   "outputs": [
    {
     "data": {
      "text/plain": [
       "above2\n",
       "above 2.15    125.531302\n",
       "below 2.15     38.874272\n",
       "Name: perenial adjusted, dtype: float64"
      ]
     },
     "execution_count": 141,
     "metadata": {},
     "output_type": "execute_result"
    }
   ],
   "source": [
    "df.groupby('above2')['perenial adjusted'].median()"
   ]
  },
  {
   "cell_type": "code",
   "execution_count": 88,
   "id": "895720f9-7435-497f-a585-f0f8bcea7a55",
   "metadata": {},
   "outputs": [
    {
     "data": {
      "text/plain": [
       "Household_Head_Gender  above2    \n",
       "Female Headed          above 2.15    246.167359\n",
       "                       below 2.15     67.680953\n",
       "Male Headed            above 2.15    249.848214\n",
       "                       below 2.15     69.453988\n",
       "Youth Headed           above 2.15    179.150912\n",
       "                       below 2.15     64.728335\n",
       "Name: perenial adjusted, dtype: float64"
      ]
     },
     "execution_count": 88,
     "metadata": {},
     "output_type": "execute_result"
    }
   ],
   "source": [
    "df.groupby(['Household_Head_Gender','above2'])['perenial adjusted'].mean()"
   ]
  },
  {
   "cell_type": "code",
   "execution_count": 93,
   "id": "cfb4c3b7-9fe6-4649-9049-4e51b7231091",
   "metadata": {},
   "outputs": [
    {
     "data": {
      "text/plain": [
       "F_onewayResult(statistic=242.80691029156065, pvalue=3.7490485454492983e-53)"
      ]
     },
     "execution_count": 93,
     "metadata": {},
     "output_type": "execute_result"
    }
   ],
   "source": [
    "f_oneway(above['seasonal adjusted'], below['perenial adjusted'])"
   ]
  },
  {
   "cell_type": "code",
   "execution_count": 94,
   "id": "bf4b9619-2769-43e6-8f23-029897ab5cac",
   "metadata": {},
   "outputs": [
    {
     "data": {
      "text/plain": [
       "F_onewayResult(statistic=65.6741414819355, pvalue=1.4456424787834869e-15)"
      ]
     },
     "execution_count": 94,
     "metadata": {},
     "output_type": "execute_result"
    }
   ],
   "source": [
    "perform_anova_for_gender_and_variable('Female Headed','perenial adjusted')"
   ]
  },
  {
   "cell_type": "code",
   "execution_count": 95,
   "id": "fbbf4e26-aba5-45e0-80f5-30b7af20eef4",
   "metadata": {},
   "outputs": [
    {
     "data": {
      "text/plain": [
       "F_onewayResult(statistic=268.56274651258, pvalue=2.5456741027033278e-57)"
      ]
     },
     "execution_count": 95,
     "metadata": {},
     "output_type": "execute_result"
    }
   ],
   "source": [
    "perform_anova_for_gender_and_variable('Male Headed','perenial adjusted')"
   ]
  },
  {
   "cell_type": "code",
   "execution_count": 96,
   "id": "7d50b306-5816-40cf-890a-624919ad8d83",
   "metadata": {},
   "outputs": [
    {
     "data": {
      "text/plain": [
       "F_onewayResult(statistic=23.69002513425443, pvalue=1.6272287625760248e-06)"
      ]
     },
     "execution_count": 96,
     "metadata": {},
     "output_type": "execute_result"
    }
   ],
   "source": [
    "perform_anova_for_gender_and_variable('Youth Headed','perenial adjusted')"
   ]
  },
  {
   "cell_type": "code",
   "execution_count": null,
   "id": "0a8a1fda-76b7-4066-81e4-140301bdcf57",
   "metadata": {},
   "outputs": [],
   "source": []
  },
  {
   "cell_type": "code",
   "execution_count": null,
   "id": "df5631f3-ae0e-416d-8491-cefacc7063fb",
   "metadata": {},
   "outputs": [],
   "source": []
  },
  {
   "cell_type": "code",
   "execution_count": null,
   "id": "d41e7ef2-f2a4-4adb-af32-0f6137688b11",
   "metadata": {},
   "outputs": [],
   "source": []
  },
  {
   "cell_type": "code",
   "execution_count": 97,
   "id": "a0945aae-a69f-4470-a3ed-7df46ccd31d4",
   "metadata": {},
   "outputs": [
    {
     "name": "stderr",
     "output_type": "stream",
     "text": [
      "/var/folders/xd/0btgr76j2zxc4__ynw0yhwbm0000gn/T/ipykernel_20832/3531962587.py:1: SettingWithCopyWarning: \n",
      "A value is trying to be set on a copy of a slice from a DataFrame.\n",
      "Try using .loc[row_indexer,col_indexer] = value instead\n",
      "\n",
      "See the caveats in the documentation: https://pandas.pydata.org/pandas-docs/stable/user_guide/indexing.html#returning-a-view-versus-a-copy\n",
      "  df['casual adjusted'] = (df['Casual Labour (USD_PPP)'] / np.sqrt(df['hh_size']))\n"
     ]
    }
   ],
   "source": [
    "df['casual adjusted'] = (df['Casual Labour (USD_PPP)'] / np.sqrt(df['hh_size']))"
   ]
  },
  {
   "cell_type": "code",
   "execution_count": 395,
   "id": "82a1148e-1568-4f7b-9c65-aa50153c572c",
   "metadata": {},
   "outputs": [
    {
     "data": {
      "text/plain": [
       "above2\n",
       "above 2.15    93.929049\n",
       "below 2.15    62.130094\n",
       "Name: casual adjusted, dtype: float64"
      ]
     },
     "execution_count": 395,
     "metadata": {},
     "output_type": "execute_result"
    }
   ],
   "source": [
    "df.groupby('above2')['casual adjusted'].mean()"
   ]
  },
  {
   "cell_type": "code",
   "execution_count": 142,
   "id": "d0e08c2e-bcd3-421c-bb6a-43a6af3667b0",
   "metadata": {},
   "outputs": [
    {
     "data": {
      "text/plain": [
       "above2\n",
       "above 2.15    0.0\n",
       "below 2.15    0.0\n",
       "Name: casual adjusted, dtype: float64"
      ]
     },
     "execution_count": 142,
     "metadata": {},
     "output_type": "execute_result"
    }
   ],
   "source": [
    "df.groupby('above2')['casual adjusted'].median()"
   ]
  },
  {
   "cell_type": "code",
   "execution_count": 396,
   "id": "1cc060d1-bdce-4735-b7ad-f6c3485bd40e",
   "metadata": {},
   "outputs": [
    {
     "data": {
      "text/plain": [
       "Household_Head_Gender  above2    \n",
       "Female Headed          above 2.15     76.480994\n",
       "                       below 2.15     52.223015\n",
       "Male Headed            above 2.15     94.546312\n",
       "                       below 2.15     62.618384\n",
       "Youth Headed           above 2.15    138.920904\n",
       "                       below 2.15     82.351037\n",
       "Name: casual adjusted, dtype: float64"
      ]
     },
     "execution_count": 396,
     "metadata": {},
     "output_type": "execute_result"
    }
   ],
   "source": [
    "df.groupby(['Household_Head_Gender','above2'])['casual adjusted'].mean()"
   ]
  },
  {
   "cell_type": "code",
   "execution_count": 143,
   "id": "cb1e3d14-b568-4548-8a09-a2b00d76f92c",
   "metadata": {},
   "outputs": [
    {
     "data": {
      "text/plain": [
       "Household_Head_Gender  above2    \n",
       "Female Headed          above 2.15     0.000000\n",
       "                       below 2.15     0.000000\n",
       "Male Headed            above 2.15     0.000000\n",
       "                       below 2.15     0.000000\n",
       "Youth Headed           above 2.15    36.252138\n",
       "                       below 2.15    15.549709\n",
       "Name: casual adjusted, dtype: float64"
      ]
     },
     "execution_count": 143,
     "metadata": {},
     "output_type": "execute_result"
    }
   ],
   "source": [
    "df.groupby(['Household_Head_Gender','above2'])['casual adjusted'].median()"
   ]
  },
  {
   "cell_type": "code",
   "execution_count": 424,
   "id": "2cde8163-88fe-474c-9e79-852af4144d45",
   "metadata": {},
   "outputs": [
    {
     "data": {
      "text/plain": [
       "F_onewayResult(statistic=238.60200880360824, pvalue=2.7378072816437522e-52)"
      ]
     },
     "execution_count": 424,
     "metadata": {},
     "output_type": "execute_result"
    }
   ],
   "source": [
    "f_oneway(above['seasonal adjusted'], below['casual adjusted'])"
   ]
  },
  {
   "cell_type": "code",
   "execution_count": 425,
   "id": "b09096a3-c9cd-4965-a914-abf95f0be841",
   "metadata": {},
   "outputs": [
    {
     "data": {
      "text/plain": [
       "F_onewayResult(statistic=7.56041845922076, pvalue=0.006067116223902904)"
      ]
     },
     "execution_count": 425,
     "metadata": {},
     "output_type": "execute_result"
    }
   ],
   "source": [
    "perform_anova_for_gender_and_variable('Female Headed','casual adjusted')"
   ]
  },
  {
   "cell_type": "code",
   "execution_count": 426,
   "id": "6aec8a5f-f6a6-4b99-b398-dd1aaffacf71",
   "metadata": {},
   "outputs": [
    {
     "data": {
      "text/plain": [
       "F_onewayResult(statistic=28.27651929562968, pvalue=1.1480213047631104e-07)"
      ]
     },
     "execution_count": 426,
     "metadata": {},
     "output_type": "execute_result"
    }
   ],
   "source": [
    "perform_anova_for_gender_and_variable('Male Headed','casual adjusted')"
   ]
  },
  {
   "cell_type": "code",
   "execution_count": 427,
   "id": "1de61b36-24df-40db-bea1-f3b6843c3b3f",
   "metadata": {},
   "outputs": [
    {
     "data": {
      "text/plain": [
       "F_onewayResult(statistic=8.5812565209504, pvalue=0.003589416679270627)"
      ]
     },
     "execution_count": 427,
     "metadata": {},
     "output_type": "execute_result"
    }
   ],
   "source": [
    "perform_anova_for_gender_and_variable('Youth Headed','casual adjusted')"
   ]
  },
  {
   "cell_type": "code",
   "execution_count": null,
   "id": "02c14725-7b8c-483b-a678-57adce282440",
   "metadata": {},
   "outputs": [],
   "source": []
  },
  {
   "cell_type": "code",
   "execution_count": null,
   "id": "2786e17e-4a1b-43c7-8cfd-9996aee7168c",
   "metadata": {},
   "outputs": [],
   "source": []
  },
  {
   "cell_type": "code",
   "execution_count": 145,
   "id": "eb30aa7f-6533-4d59-a49d-3b7a5d46264b",
   "metadata": {},
   "outputs": [
    {
     "name": "stderr",
     "output_type": "stream",
     "text": [
      "/var/folders/xd/0btgr76j2zxc4__ynw0yhwbm0000gn/T/ipykernel_20832/1753693912.py:1: SettingWithCopyWarning: \n",
      "A value is trying to be set on a copy of a slice from a DataFrame.\n",
      "Try using .loc[row_indexer,col_indexer] = value instead\n",
      "\n",
      "See the caveats in the documentation: https://pandas.pydata.org/pandas-docs/stable/user_guide/indexing.html#returning-a-view-versus-a-copy\n",
      "  df['rem adjusted'] = (df['Remittances & Gifts (USD_PPP)'] / np.sqrt(df['hh_size']))\n"
     ]
    }
   ],
   "source": [
    "df['rem adjusted'] = (df['Remittances & Gifts (USD_PPP)'] / np.sqrt(df['hh_size']))"
   ]
  },
  {
   "cell_type": "code",
   "execution_count": 398,
   "id": "f55fc462-a4de-467f-aa24-3f369844207f",
   "metadata": {},
   "outputs": [
    {
     "data": {
      "text/plain": [
       "above2\n",
       "above 2.15    58.007644\n",
       "below 2.15    27.550025\n",
       "Name: rem adjusted, dtype: float64"
      ]
     },
     "execution_count": 398,
     "metadata": {},
     "output_type": "execute_result"
    }
   ],
   "source": [
    "df.groupby('above2')['rem adjusted'].mean()"
   ]
  },
  {
   "cell_type": "code",
   "execution_count": 149,
   "id": "6c3bc25d-dd5a-4399-be8e-5d7d94691779",
   "metadata": {},
   "outputs": [
    {
     "data": {
      "text/plain": [
       "above2\n",
       "above 2.15    25.392568\n",
       "below 2.15    14.253900\n",
       "Name: rem adjusted, dtype: float64"
      ]
     },
     "execution_count": 149,
     "metadata": {},
     "output_type": "execute_result"
    }
   ],
   "source": [
    "df.groupby('above2')['rem adjusted'].median()"
   ]
  },
  {
   "cell_type": "code",
   "execution_count": 399,
   "id": "57a9e02b-ce94-4843-90d2-09f6fa9f84fd",
   "metadata": {},
   "outputs": [
    {
     "data": {
      "text/plain": [
       "Household_Head_Gender  above2    \n",
       "Female Headed          above 2.15    90.237158\n",
       "                       below 2.15    35.264740\n",
       "Male Headed            above 2.15    45.853575\n",
       "                       below 2.15    25.875017\n",
       "Youth Headed           above 2.15    36.904118\n",
       "                       below 2.15    20.454828\n",
       "Name: rem adjusted, dtype: float64"
      ]
     },
     "execution_count": 399,
     "metadata": {},
     "output_type": "execute_result"
    }
   ],
   "source": [
    "df.groupby(['Household_Head_Gender','above2'])['rem adjusted'].mean()"
   ]
  },
  {
   "cell_type": "code",
   "execution_count": 150,
   "id": "6b0e86a7-b99c-485a-bfb2-ff1814a09589",
   "metadata": {},
   "outputs": [
    {
     "data": {
      "text/plain": [
       "Household_Head_Gender  above2    \n",
       "Female Headed          above 2.15    43.584958\n",
       "                       below 2.15    19.044426\n",
       "Male Headed            above 2.15    20.732945\n",
       "                       below 2.15    13.466443\n",
       "Youth Headed           above 2.15    15.870355\n",
       "                       below 2.15    12.696284\n",
       "Name: rem adjusted, dtype: float64"
      ]
     },
     "execution_count": 150,
     "metadata": {},
     "output_type": "execute_result"
    }
   ],
   "source": [
    "df.groupby(['Household_Head_Gender','above2'])['rem adjusted'].median()"
   ]
  },
  {
   "cell_type": "code",
   "execution_count": 428,
   "id": "657f63d1-701a-467f-afe0-b8d8ed1dc2f6",
   "metadata": {},
   "outputs": [
    {
     "data": {
      "text/plain": [
       "F_onewayResult(statistic=158.02291284914847, pvalue=1.4861004414291947e-35)"
      ]
     },
     "execution_count": 428,
     "metadata": {},
     "output_type": "execute_result"
    }
   ],
   "source": [
    "f_oneway(above['seasonal adjusted'], below['rem adjusted'])"
   ]
  },
  {
   "cell_type": "code",
   "execution_count": 429,
   "id": "ce5fc7d4-849d-469d-97a8-de1945e4c05b",
   "metadata": {},
   "outputs": [
    {
     "data": {
      "text/plain": [
       "F_onewayResult(statistic=56.09855038598245, pvalue=1.44070180439025e-13)"
      ]
     },
     "execution_count": 429,
     "metadata": {},
     "output_type": "execute_result"
    }
   ],
   "source": [
    "perform_anova_for_gender_and_variable('Female Headed','rem adjusted')"
   ]
  },
  {
   "cell_type": "code",
   "execution_count": 430,
   "id": "74b696e8-602a-4bfe-8e32-5f090cf18e39",
   "metadata": {},
   "outputs": [
    {
     "data": {
      "text/plain": [
       "F_onewayResult(statistic=57.9560789909851, pvalue=3.816163526146651e-14)"
      ]
     },
     "execution_count": 430,
     "metadata": {},
     "output_type": "execute_result"
    }
   ],
   "source": [
    "perform_anova_for_gender_and_variable('Male Headed','rem adjusted')"
   ]
  },
  {
   "cell_type": "code",
   "execution_count": 431,
   "id": "57b7bc1c-175e-4acf-8533-cf49585d333e",
   "metadata": {},
   "outputs": [
    {
     "data": {
      "text/plain": [
       "F_onewayResult(statistic=10.20496304306724, pvalue=0.0015107759895829852)"
      ]
     },
     "execution_count": 431,
     "metadata": {},
     "output_type": "execute_result"
    }
   ],
   "source": [
    "perform_anova_for_gender_and_variable('Youth Headed','rem adjusted')"
   ]
  },
  {
   "cell_type": "code",
   "execution_count": null,
   "id": "21b8044f-c47e-41dd-a24f-9c61a9055b9a",
   "metadata": {},
   "outputs": [],
   "source": []
  },
  {
   "cell_type": "code",
   "execution_count": null,
   "id": "5921b575-a661-4d5a-8a2e-42d4a987c50d",
   "metadata": {},
   "outputs": [],
   "source": []
  },
  {
   "cell_type": "code",
   "execution_count": 152,
   "id": "8bbaf9b5-75a6-4995-9347-e262026718e8",
   "metadata": {},
   "outputs": [
    {
     "name": "stderr",
     "output_type": "stream",
     "text": [
      "/var/folders/xd/0btgr76j2zxc4__ynw0yhwbm0000gn/T/ipykernel_20832/4104251311.py:1: SettingWithCopyWarning: \n",
      "A value is trying to be set on a copy of a slice from a DataFrame.\n",
      "Try using .loc[row_indexer,col_indexer] = value instead\n",
      "\n",
      "See the caveats in the documentation: https://pandas.pydata.org/pandas-docs/stable/user_guide/indexing.html#returning-a-view-versus-a-copy\n",
      "  df['assets adjusted'] = (df['Assets (USD_PPP)'] / np.sqrt(df['hh_size']))\n"
     ]
    }
   ],
   "source": [
    "df['assets adjusted'] = (df['Assets (USD_PPP)'] / np.sqrt(df['hh_size']))"
   ]
  },
  {
   "cell_type": "code",
   "execution_count": 401,
   "id": "60dec1f4-95fb-4b53-8a8f-d82d2848fe1c",
   "metadata": {},
   "outputs": [
    {
     "data": {
      "text/plain": [
       "above2\n",
       "above 2.15    269.526161\n",
       "below 2.15    300.756316\n",
       "Name: assets adjusted, dtype: float64"
      ]
     },
     "execution_count": 401,
     "metadata": {},
     "output_type": "execute_result"
    }
   ],
   "source": [
    "df.groupby('above2')['assets adjusted'].mean()"
   ]
  },
  {
   "cell_type": "code",
   "execution_count": 157,
   "id": "a0e561af-f87c-4347-a1d8-42e97774d4d2",
   "metadata": {},
   "outputs": [
    {
     "data": {
      "text/plain": [
       "above2\n",
       "above 2.15    134.664428\n",
       "below 2.15    175.154166\n",
       "Name: assets adjusted, dtype: float64"
      ]
     },
     "execution_count": 157,
     "metadata": {},
     "output_type": "execute_result"
    }
   ],
   "source": [
    "df.groupby('above2')['assets adjusted'].median()"
   ]
  },
  {
   "cell_type": "code",
   "execution_count": 402,
   "id": "98020426-66d8-4766-8665-6fea1646670b",
   "metadata": {},
   "outputs": [
    {
     "data": {
      "text/plain": [
       "Household_Head_Gender  above2    \n",
       "Female Headed          above 2.15    302.660803\n",
       "                       below 2.15    268.495810\n",
       "Male Headed            above 2.15    261.436052\n",
       "                       below 2.15    315.230604\n",
       "Youth Headed           above 2.15    223.029807\n",
       "                       below 2.15    280.515971\n",
       "Name: assets adjusted, dtype: float64"
      ]
     },
     "execution_count": 402,
     "metadata": {},
     "output_type": "execute_result"
    }
   ],
   "source": [
    "df.groupby(['Household_Head_Gender','above2'])['assets adjusted'].mean()"
   ]
  },
  {
   "cell_type": "code",
   "execution_count": 158,
   "id": "58fdb7e8-fc0e-492b-8418-a80acecf5b61",
   "metadata": {},
   "outputs": [
    {
     "data": {
      "text/plain": [
       "Household_Head_Gender  above2    \n",
       "Female Headed          above 2.15    135.786631\n",
       "                       below 2.15    111.543042\n",
       "Male Headed            above 2.15    142.243883\n",
       "                       below 2.15    195.556177\n",
       "Youth Headed           above 2.15     90.701911\n",
       "                       below 2.15    117.283248\n",
       "Name: assets adjusted, dtype: float64"
      ]
     },
     "execution_count": 158,
     "metadata": {},
     "output_type": "execute_result"
    }
   ],
   "source": [
    "df.groupby(['Household_Head_Gender','above2'])['assets adjusted'].median()"
   ]
  },
  {
   "cell_type": "code",
   "execution_count": 432,
   "id": "db6b73d4-b301-4b78-bf0f-c372b90812a1",
   "metadata": {},
   "outputs": [
    {
     "data": {
      "text/plain": [
       "F_onewayResult(statistic=479.0353750666495, pvalue=3.0271555268338705e-100)"
      ]
     },
     "execution_count": 432,
     "metadata": {},
     "output_type": "execute_result"
    }
   ],
   "source": [
    "f_oneway(above['seasonal adjusted'], below['assets adjusted'])"
   ]
  },
  {
   "cell_type": "code",
   "execution_count": 433,
   "id": "a9ab0bb5-e5ca-4464-907c-131986edd6be",
   "metadata": {},
   "outputs": [
    {
     "data": {
      "text/plain": [
       "F_onewayResult(statistic=1.189110396347215, pvalue=0.2757550357273408)"
      ]
     },
     "execution_count": 433,
     "metadata": {},
     "output_type": "execute_result"
    }
   ],
   "source": [
    "perform_anova_for_gender_and_variable('Female Headed','assets adjusted')"
   ]
  },
  {
   "cell_type": "code",
   "execution_count": 434,
   "id": "7518ec62-a93d-464d-8b5e-2d46399e30dc",
   "metadata": {},
   "outputs": [
    {
     "data": {
      "text/plain": [
       "F_onewayResult(statistic=11.060438217210962, pvalue=0.0008950608863728058)"
      ]
     },
     "execution_count": 434,
     "metadata": {},
     "output_type": "execute_result"
    }
   ],
   "source": [
    "perform_anova_for_gender_and_variable('Male Headed','assets adjusted')"
   ]
  },
  {
   "cell_type": "code",
   "execution_count": 435,
   "id": "dbd2c417-5e61-4394-8078-72f91f074223",
   "metadata": {},
   "outputs": [
    {
     "data": {
      "text/plain": [
       "F_onewayResult(statistic=2.3937615583614393, pvalue=0.12260508736632508)"
      ]
     },
     "execution_count": 435,
     "metadata": {},
     "output_type": "execute_result"
    }
   ],
   "source": [
    "perform_anova_for_gender_and_variable('Youth Headed','assets adjusted')"
   ]
  },
  {
   "cell_type": "code",
   "execution_count": null,
   "id": "0501ec8e-c127-4ad8-b740-0ce074256d50",
   "metadata": {},
   "outputs": [],
   "source": []
  },
  {
   "cell_type": "code",
   "execution_count": null,
   "id": "73d05c28-1de3-4660-b0ab-a73490584c21",
   "metadata": {},
   "outputs": [],
   "source": []
  },
  {
   "cell_type": "code",
   "execution_count": 153,
   "id": "079b2a2c-05c1-4f03-9c6a-bf66d409fb8c",
   "metadata": {},
   "outputs": [
    {
     "name": "stderr",
     "output_type": "stream",
     "text": [
      "/var/folders/xd/0btgr76j2zxc4__ynw0yhwbm0000gn/T/ipykernel_20832/1944989108.py:1: SettingWithCopyWarning: \n",
      "A value is trying to be set on a copy of a slice from a DataFrame.\n",
      "Try using .loc[row_indexer,col_indexer] = value instead\n",
      "\n",
      "See the caveats in the documentation: https://pandas.pydata.org/pandas-docs/stable/user_guide/indexing.html#returning-a-view-versus-a-copy\n",
      "  df['live adjusted'] = (df['Livestock Income (USD_PPP)'] / np.sqrt(df['hh_size']))\n"
     ]
    }
   ],
   "source": [
    "df['live adjusted'] = (df['Livestock Income (USD_PPP)'] / np.sqrt(df['hh_size']))"
   ]
  },
  {
   "cell_type": "code",
   "execution_count": 404,
   "id": "406fc482-2558-4fca-8074-20840faae220",
   "metadata": {},
   "outputs": [
    {
     "data": {
      "text/plain": [
       "above2\n",
       "above 2.15    41.686862\n",
       "below 2.15    16.545258\n",
       "Name: live adjusted, dtype: float64"
      ]
     },
     "execution_count": 404,
     "metadata": {},
     "output_type": "execute_result"
    }
   ],
   "source": [
    "df.groupby('above2')['live adjusted'].mean()"
   ]
  },
  {
   "cell_type": "code",
   "execution_count": 159,
   "id": "6748b8af-7047-4029-99f8-4aa70bf3ac9e",
   "metadata": {},
   "outputs": [
    {
     "data": {
      "text/plain": [
       "above2\n",
       "above 2.15    0.0\n",
       "below 2.15    0.0\n",
       "Name: live adjusted, dtype: float64"
      ]
     },
     "execution_count": 159,
     "metadata": {},
     "output_type": "execute_result"
    }
   ],
   "source": [
    "df.groupby('above2')['live adjusted'].median()"
   ]
  },
  {
   "cell_type": "code",
   "execution_count": 405,
   "id": "18f8a331-9d79-4585-b2ed-e9fcd99f2917",
   "metadata": {},
   "outputs": [
    {
     "data": {
      "text/plain": [
       "Household_Head_Gender  above2    \n",
       "Female Headed          above 2.15    45.710408\n",
       "                       below 2.15    13.987023\n",
       "Male Headed            above 2.15    41.065572\n",
       "                       below 2.15    18.146516\n",
       "Youth Headed           above 2.15    34.007973\n",
       "                       below 2.15    11.910445\n",
       "Name: live adjusted, dtype: float64"
      ]
     },
     "execution_count": 405,
     "metadata": {},
     "output_type": "execute_result"
    }
   ],
   "source": [
    "df.groupby(['Household_Head_Gender','above2'])['live adjusted'].mean()"
   ]
  },
  {
   "cell_type": "code",
   "execution_count": 160,
   "id": "60e7b478-e55f-42cc-9876-5930248e2546",
   "metadata": {},
   "outputs": [
    {
     "data": {
      "text/plain": [
       "Household_Head_Gender  above2    \n",
       "Female Headed          above 2.15    0.0\n",
       "                       below 2.15    0.0\n",
       "Male Headed            above 2.15    0.0\n",
       "                       below 2.15    0.0\n",
       "Youth Headed           above 2.15    0.0\n",
       "                       below 2.15    0.0\n",
       "Name: live adjusted, dtype: float64"
      ]
     },
     "execution_count": 160,
     "metadata": {},
     "output_type": "execute_result"
    }
   ],
   "source": [
    "df.groupby(['Household_Head_Gender','above2'])['live adjusted'].median()"
   ]
  },
  {
   "cell_type": "code",
   "execution_count": 436,
   "id": "84cda060-9b7b-4824-8678-41a71be2a695",
   "metadata": {},
   "outputs": [
    {
     "data": {
      "text/plain": [
       "F_onewayResult(statistic=26.416735313336, pvalue=2.886522769676996e-07)"
      ]
     },
     "execution_count": 436,
     "metadata": {},
     "output_type": "execute_result"
    }
   ],
   "source": [
    "f_oneway(above['seasonal adjusted'], below['live adjusted'])"
   ]
  },
  {
   "cell_type": "code",
   "execution_count": 437,
   "id": "add8a4b0-b239-400c-942d-3e2546200f47",
   "metadata": {},
   "outputs": [
    {
     "data": {
      "text/plain": [
       "F_onewayResult(statistic=10.778306655417142, pvalue=0.0010602567273967003)"
      ]
     },
     "execution_count": 437,
     "metadata": {},
     "output_type": "execute_result"
    }
   ],
   "source": [
    "perform_anova_for_gender_and_variable('Female Headed','live adjusted')"
   ]
  },
  {
   "cell_type": "code",
   "execution_count": 438,
   "id": "d5fcbe8b-15b8-477c-acf1-d244c7e2c153",
   "metadata": {},
   "outputs": [
    {
     "data": {
      "text/plain": [
       "F_onewayResult(statistic=34.788721618194856, pvalue=4.1888931246616754e-09)"
      ]
     },
     "execution_count": 438,
     "metadata": {},
     "output_type": "execute_result"
    }
   ],
   "source": [
    "perform_anova_for_gender_and_variable('Male Headed','live adjusted')"
   ]
  },
  {
   "cell_type": "code",
   "execution_count": 439,
   "id": "24412e92-944f-4cbd-a78c-0757a505b017",
   "metadata": {},
   "outputs": [
    {
     "data": {
      "text/plain": [
       "F_onewayResult(statistic=5.25697920031955, pvalue=0.022373309657374243)"
      ]
     },
     "execution_count": 439,
     "metadata": {},
     "output_type": "execute_result"
    }
   ],
   "source": [
    "perform_anova_for_gender_and_variable('Youth Headed','live adjusted')"
   ]
  },
  {
   "cell_type": "code",
   "execution_count": null,
   "id": "9bbd0e43-55e5-4f6b-96a5-fc45dd8cbe6c",
   "metadata": {},
   "outputs": [],
   "source": []
  },
  {
   "cell_type": "code",
   "execution_count": null,
   "id": "40236012-e361-4933-b95d-957ca8c5a6e8",
   "metadata": {},
   "outputs": [],
   "source": []
  },
  {
   "cell_type": "code",
   "execution_count": null,
   "id": "d85b6b00-3378-4f33-a684-8cec410abbfd",
   "metadata": {},
   "outputs": [],
   "source": []
  },
  {
   "cell_type": "code",
   "execution_count": null,
   "id": "1a3bf58a-b27c-42b0-8c85-41ef20b7302c",
   "metadata": {},
   "outputs": [],
   "source": []
  },
  {
   "cell_type": "code",
   "execution_count": 299,
   "id": "098ce18a-e7ba-4971-b0d8-bc7feb2ecb81",
   "metadata": {},
   "outputs": [
    {
     "data": {
      "text/plain": [
       "above2\n",
       "above 2.15    0.703150\n",
       "below 2.15    0.694178\n",
       "Name: hhh_read_write, dtype: float64"
      ]
     },
     "execution_count": 299,
     "metadata": {},
     "output_type": "execute_result"
    }
   ],
   "source": [
    "df.groupby('above2')['hhh_read_write'].mean()"
   ]
  },
  {
   "cell_type": "code",
   "execution_count": 300,
   "id": "8b206e93-c0a6-4584-9571-c04f40f41cb9",
   "metadata": {},
   "outputs": [
    {
     "data": {
      "text/plain": [
       "above2      Quartile\n",
       "above 2.15  Group 1     0.718310\n",
       "            Group 2     0.682258\n",
       "            Group 3     0.713650\n",
       "            Group 4     0.704000\n",
       "below 2.15  Group 1     0.767196\n",
       "            Group 2     0.668342\n",
       "            Group 3     0.698758\n",
       "            Group 4     0.681093\n",
       "Name: hhh_read_write, dtype: float64"
      ]
     },
     "execution_count": 300,
     "metadata": {},
     "output_type": "execute_result"
    }
   ],
   "source": [
    "df.groupby(['above2','Quartile'])['hhh_read_write'].mean()"
   ]
  },
  {
   "cell_type": "code",
   "execution_count": null,
   "id": "c9a4221c-e54b-4ed7-9844-a9b3baa5dff7",
   "metadata": {},
   "outputs": [],
   "source": []
  },
  {
   "cell_type": "code",
   "execution_count": null,
   "id": "9eebdd5c-8482-4da1-8642-6041017be80c",
   "metadata": {},
   "outputs": [],
   "source": [
    "group3_above"
   ]
  },
  {
   "cell_type": "code",
   "execution_count": 325,
   "id": "1a646954-43b9-40c3-8e5c-391846ef2d49",
   "metadata": {},
   "outputs": [
    {
     "data": {
      "text/html": [
       "<div>\n",
       "<style scoped>\n",
       "    .dataframe tbody tr th:only-of-type {\n",
       "        vertical-align: middle;\n",
       "    }\n",
       "\n",
       "    .dataframe tbody tr th {\n",
       "        vertical-align: top;\n",
       "    }\n",
       "\n",
       "    .dataframe thead th {\n",
       "        text-align: right;\n",
       "    }\n",
       "</style>\n",
       "<table border=\"1\" class=\"dataframe\">\n",
       "  <thead>\n",
       "    <tr style=\"text-align: right;\">\n",
       "      <th>above2</th>\n",
       "      <th>above 2.15</th>\n",
       "      <th>below 2.15</th>\n",
       "    </tr>\n",
       "    <tr>\n",
       "      <th>hhh_read_write</th>\n",
       "      <th></th>\n",
       "      <th></th>\n",
       "    </tr>\n",
       "  </thead>\n",
       "  <tbody>\n",
       "    <tr>\n",
       "      <th>0</th>\n",
       "      <td>193</td>\n",
       "      <td>97</td>\n",
       "    </tr>\n",
       "    <tr>\n",
       "      <th>1</th>\n",
       "      <td>481</td>\n",
       "      <td>225</td>\n",
       "    </tr>\n",
       "  </tbody>\n",
       "</table>\n",
       "</div>"
      ],
      "text/plain": [
       "above2          above 2.15  below 2.15\n",
       "hhh_read_write                        \n",
       "0                      193          97\n",
       "1                      481         225"
      ]
     },
     "execution_count": 325,
     "metadata": {},
     "output_type": "execute_result"
    }
   ],
   "source": [
    "pd.crosstab(group3['hhh_read_write'],group3['above2'])"
   ]
  },
  {
   "cell_type": "code",
   "execution_count": 440,
   "id": "a4c0f360-4eb1-4794-a7c2-a2387e2ee779",
   "metadata": {},
   "outputs": [
    {
     "data": {
      "text/plain": [
       "array(['Group 4', 'Group 2', 'Group 3', 'Group 1', nan], dtype=object)"
      ]
     },
     "execution_count": 440,
     "metadata": {},
     "output_type": "execute_result"
    }
   ],
   "source": [
    "df['Quartile'].unique()\n",
    "array(['Group 4', 'Group 2', 'Group 3', 'Group 1'"
   ]
  },
  {
   "cell_type": "code",
   "execution_count": 451,
   "id": "ec85cc00-a182-4277-939c-5e4edd07d7c6",
   "metadata": {},
   "outputs": [],
   "source": [
    "three_fourb = below[below['Quartile'].isin(['Group 3', 'Group 4'])]\n",
    "three_foura = above[above['Quartile'].isin(['Group 3', 'Group 4'])]"
   ]
  },
  {
   "cell_type": "code",
   "execution_count": 453,
   "id": "2ed2353b-ae6c-4a9c-9f5b-72279dbf4198",
   "metadata": {},
   "outputs": [
    {
     "data": {
      "text/plain": [
       "Chi2ContingencyResult(statistic=0.1675474767194731, pvalue=0.6823007042117072, dof=1, expected_freq=array([[196.24497992,  93.75502008],\n",
       "       [477.75502008, 228.24497992]]))"
      ]
     },
     "execution_count": 453,
     "metadata": {},
     "output_type": "execute_result"
    }
   ],
   "source": [
    "chi2_contingency(pd.crosstab(group3['hhh_read_write'],group3['above2']))"
   ]
  },
  {
   "cell_type": "code",
   "execution_count": 327,
   "id": "29bf98b9-30d5-401d-aa99-84dcc7243caa",
   "metadata": {},
   "outputs": [
    {
     "data": {
      "text/plain": [
       "Chi2ContingencyResult(statistic=0.6211421461636355, pvalue=0.43062317376423376, dof=1, expected_freq=array([[265.69634703, 133.30365297],\n",
       "       [609.30365297, 305.69634703]]))"
      ]
     },
     "execution_count": 327,
     "metadata": {},
     "output_type": "execute_result"
    }
   ],
   "source": [
    "chi2_contingency(pd.crosstab(group4['hhh_read_write'],group4['above2']))"
   ]
  },
  {
   "cell_type": "code",
   "execution_count": 30,
   "id": "ca2cec2e-e298-45ea-9e35-8162ddad5932",
   "metadata": {},
   "outputs": [
    {
     "data": {
      "text/plain": [
       "Household_Head_Gender  hhh_read_write\n",
       "Female Headed          0                 0.543750\n",
       "                       1                 0.456250\n",
       "Male Headed            1                 0.758315\n",
       "                       0                 0.241685\n",
       "Youth Headed           1                 0.829630\n",
       "                       0                 0.170370\n",
       "Name: proportion, dtype: float64"
      ]
     },
     "execution_count": 30,
     "metadata": {},
     "output_type": "execute_result"
    }
   ],
   "source": [
    "above.groupby('Household_Head_Gender')['hhh_read_write'].value_counts(normalize=True)"
   ]
  },
  {
   "cell_type": "code",
   "execution_count": 31,
   "id": "2d88ad60-d777-4dea-a36e-299af404dda4",
   "metadata": {},
   "outputs": [
    {
     "data": {
      "text/plain": [
       "Household_Head_Gender  hhh_read_write\n",
       "Female Headed          0                 0.545333\n",
       "                       1                 0.454667\n",
       "Male Headed            1                 0.797368\n",
       "                       0                 0.202632\n",
       "Youth Headed           1                 0.862963\n",
       "                       0                 0.137037\n",
       "Name: proportion, dtype: float64"
      ]
     },
     "execution_count": 31,
     "metadata": {},
     "output_type": "execute_result"
    }
   ],
   "source": [
    "below.groupby('Household_Head_Gender')['hhh_read_write'].value_counts(normalize=True)"
   ]
  },
  {
   "cell_type": "code",
   "execution_count": 32,
   "id": "c2cf4506-4af2-4e0e-9c3a-51376059788e",
   "metadata": {},
   "outputs": [
    {
     "data": {
      "text/html": [
       "<div>\n",
       "<style scoped>\n",
       "    .dataframe tbody tr th:only-of-type {\n",
       "        vertical-align: middle;\n",
       "    }\n",
       "\n",
       "    .dataframe tbody tr th {\n",
       "        vertical-align: top;\n",
       "    }\n",
       "\n",
       "    .dataframe thead th {\n",
       "        text-align: right;\n",
       "    }\n",
       "</style>\n",
       "<table border=\"1\" class=\"dataframe\">\n",
       "  <thead>\n",
       "    <tr style=\"text-align: right;\">\n",
       "      <th></th>\n",
       "      <th>hhh_read_write</th>\n",
       "      <th>0</th>\n",
       "      <th>1</th>\n",
       "    </tr>\n",
       "    <tr>\n",
       "      <th>above2</th>\n",
       "      <th>Household_Head_Gender</th>\n",
       "      <th></th>\n",
       "      <th></th>\n",
       "    </tr>\n",
       "  </thead>\n",
       "  <tbody>\n",
       "    <tr>\n",
       "      <th rowspan=\"3\" valign=\"top\">above 2.15</th>\n",
       "      <th>Female Headed</th>\n",
       "      <td>0.161024</td>\n",
       "      <td>0.134252</td>\n",
       "    </tr>\n",
       "    <tr>\n",
       "      <th>Male Headed</th>\n",
       "      <td>0.121260</td>\n",
       "      <td>0.477165</td>\n",
       "    </tr>\n",
       "    <tr>\n",
       "      <th>Youth Headed</th>\n",
       "      <td>0.014567</td>\n",
       "      <td>0.091732</td>\n",
       "    </tr>\n",
       "    <tr>\n",
       "      <th rowspan=\"3\" valign=\"top\">below 2.15</th>\n",
       "      <th>Female Headed</th>\n",
       "      <td>0.128224</td>\n",
       "      <td>0.107590</td>\n",
       "    </tr>\n",
       "    <tr>\n",
       "      <th>Male Headed</th>\n",
       "      <td>0.160648</td>\n",
       "      <td>0.504053</td>\n",
       "    </tr>\n",
       "    <tr>\n",
       "      <th>Youth Headed</th>\n",
       "      <td>0.016949</td>\n",
       "      <td>0.082535</td>\n",
       "    </tr>\n",
       "  </tbody>\n",
       "</table>\n",
       "</div>"
      ],
      "text/plain": [
       "hhh_read_write                           0         1\n",
       "above2     Household_Head_Gender                    \n",
       "above 2.15 Female Headed          0.161024  0.134252\n",
       "           Male Headed            0.121260  0.477165\n",
       "           Youth Headed           0.014567  0.091732\n",
       "below 2.15 Female Headed          0.128224  0.107590\n",
       "           Male Headed            0.160648  0.504053\n",
       "           Youth Headed           0.016949  0.082535"
      ]
     },
     "execution_count": 32,
     "metadata": {},
     "output_type": "execute_result"
    }
   ],
   "source": [
    "df.groupby('above2')[['Household_Head_Gender','hhh_read_write']].value_counts(normalize=True).unstack()"
   ]
  },
  {
   "cell_type": "code",
   "execution_count": 33,
   "id": "03047ec6-7ffd-4284-928e-04e5356aa625",
   "metadata": {},
   "outputs": [
    {
     "data": {
      "text/plain": [
       "         above2    \n",
       "hh_size  above 2.15    4.474803\n",
       "         below 2.15    5.526161\n",
       "dtype: float64"
      ]
     },
     "execution_count": 33,
     "metadata": {},
     "output_type": "execute_result"
    }
   ],
   "source": [
    "(df.groupby(['above2'])[['hh_size']]).mean().unstack()"
   ]
  },
  {
   "cell_type": "code",
   "execution_count": 297,
   "id": "2142fe0f-fb7d-40da-90a7-2aba516b3c5a",
   "metadata": {},
   "outputs": [
    {
     "data": {
      "text/plain": [
       "above2      Quartile\n",
       "above 2.15  Group 1     4.552113\n",
       "            Group 2     4.312903\n",
       "            Group 3     4.431751\n",
       "            Group 4     4.574857\n",
       "below 2.15  Group 1     5.592593\n",
       "            Group 2     5.472362\n",
       "            Group 3     5.282609\n",
       "            Group 4     5.726651\n",
       "Name: hh_size, dtype: float64"
      ]
     },
     "execution_count": 297,
     "metadata": {},
     "output_type": "execute_result"
    }
   ],
   "source": [
    "df.groupby(['above2','Quartile'])['hh_size'].mean()"
   ]
  },
  {
   "cell_type": "code",
   "execution_count": 329,
   "id": "ce6a228b-7166-4352-bb5d-88a73576370f",
   "metadata": {},
   "outputs": [
    {
     "data": {
      "text/plain": [
       "array(['below 2.15', 'above 2.15'], dtype=object)"
      ]
     },
     "execution_count": 329,
     "metadata": {},
     "output_type": "execute_result"
    }
   ],
   "source": [
    "group3['above2'].unique()"
   ]
  },
  {
   "cell_type": "code",
   "execution_count": 130,
   "id": "1d4b274e-af0f-4b99-9116-21296ab5a3b4",
   "metadata": {},
   "outputs": [],
   "source": [
    "group3_below = group3[group3['above2'] == 'below 2.15']\n",
    "group3_above = group3[group3['above2'] == 'above 2.15']\n",
    "group4_below = group4[group4['above2'] == 'below 2.15']\n",
    "group4_above = group4[group4['above2'] == 'above 2.15']"
   ]
  },
  {
   "cell_type": "code",
   "execution_count": null,
   "id": "4de96a31-e38d-4aa0-aed7-258d0491a586",
   "metadata": {},
   "outputs": [],
   "source": []
  },
  {
   "cell_type": "code",
   "execution_count": 249,
   "id": "4359e3b7-3421-4e5e-bd35-158704b60021",
   "metadata": {},
   "outputs": [
    {
     "data": {
      "text/plain": [
       "F_onewayResult(statistic=220.14198327965687, pvalue=1.7353490009335036e-48)"
      ]
     },
     "execution_count": 249,
     "metadata": {},
     "output_type": "execute_result"
    }
   ],
   "source": [
    "f_oneway(above['hh_size'], below['hh_size'])"
   ]
  },
  {
   "cell_type": "code",
   "execution_count": 333,
   "id": "b42d066d-7a3d-4689-9def-74720727c2a8",
   "metadata": {},
   "outputs": [
    {
     "data": {
      "text/plain": [
       "F_onewayResult(statistic=40.07621527554386, pvalue=3.691247971107838e-10)"
      ]
     },
     "execution_count": 333,
     "metadata": {},
     "output_type": "execute_result"
    }
   ],
   "source": [
    "f_oneway(group3_below['hh_size'], group3_above['hh_size'])"
   ]
  },
  {
   "cell_type": "code",
   "execution_count": 334,
   "id": "bb296f24-bf79-4796-b1da-e0de24512418",
   "metadata": {},
   "outputs": [
    {
     "data": {
      "text/plain": [
       "F_onewayResult(statistic=86.57687439811545, pvalue=5.451492342321088e-20)"
      ]
     },
     "execution_count": 334,
     "metadata": {},
     "output_type": "execute_result"
    }
   ],
   "source": [
    "f_oneway(group4_below['hh_size'], group4_above['hh_size'])"
   ]
  },
  {
   "cell_type": "code",
   "execution_count": 250,
   "id": "0367ddd7-947e-461c-908f-2edd9215d55a",
   "metadata": {},
   "outputs": [
    {
     "data": {
      "text/plain": [
       "F_onewayResult(statistic=72.9713562538037, pvalue=4.479201385143984e-17)"
      ]
     },
     "execution_count": 250,
     "metadata": {},
     "output_type": "execute_result"
    }
   ],
   "source": [
    "perform_anova_for_gender_and_variable('Female Headed','hh_size')"
   ]
  },
  {
   "cell_type": "code",
   "execution_count": 251,
   "id": "dbcde463-c847-4b99-96f4-bc22a274848d",
   "metadata": {},
   "outputs": [
    {
     "data": {
      "text/plain": [
       "F_onewayResult(statistic=98.40698285543917, pvalue=9.203867637546703e-23)"
      ]
     },
     "execution_count": 251,
     "metadata": {},
     "output_type": "execute_result"
    }
   ],
   "source": [
    "perform_anova_for_gender_and_variable('Male Headed','hh_size')"
   ]
  },
  {
   "cell_type": "code",
   "execution_count": 252,
   "id": "24844872-13dc-44dc-93b6-c51e45215e77",
   "metadata": {},
   "outputs": [
    {
     "data": {
      "text/plain": [
       "F_onewayResult(statistic=57.508519896899955, pvalue=2.344938514872169e-13)"
      ]
     },
     "execution_count": 252,
     "metadata": {},
     "output_type": "execute_result"
    }
   ],
   "source": [
    "perform_anova_for_gender_and_variable('Youth Headed','hh_size')"
   ]
  },
  {
   "cell_type": "code",
   "execution_count": null,
   "id": "5602e9ff-9873-4f6b-b4dd-7c90fbefe2e6",
   "metadata": {},
   "outputs": [],
   "source": []
  },
  {
   "cell_type": "code",
   "execution_count": 117,
   "id": "90541683-0cd2-4f3a-952b-07bc10506e56",
   "metadata": {},
   "outputs": [
    {
     "data": {
      "text/html": [
       "<div>\n",
       "<style scoped>\n",
       "    .dataframe tbody tr th:only-of-type {\n",
       "        vertical-align: middle;\n",
       "    }\n",
       "\n",
       "    .dataframe tbody tr th {\n",
       "        vertical-align: top;\n",
       "    }\n",
       "\n",
       "    .dataframe thead th {\n",
       "        text-align: right;\n",
       "    }\n",
       "</style>\n",
       "<table border=\"1\" class=\"dataframe\">\n",
       "  <thead>\n",
       "    <tr style=\"text-align: right;\">\n",
       "      <th></th>\n",
       "      <th></th>\n",
       "      <th>hh_size</th>\n",
       "    </tr>\n",
       "    <tr>\n",
       "      <th>above2</th>\n",
       "      <th>Household_Head_Gender</th>\n",
       "      <th></th>\n",
       "    </tr>\n",
       "  </thead>\n",
       "  <tbody>\n",
       "    <tr>\n",
       "      <th rowspan=\"3\" valign=\"top\">above 2.15</th>\n",
       "      <th>Female Headed</th>\n",
       "      <td>3.577333</td>\n",
       "    </tr>\n",
       "    <tr>\n",
       "      <th>Male Headed</th>\n",
       "      <td>5.096711</td>\n",
       "    </tr>\n",
       "    <tr>\n",
       "      <th>Youth Headed</th>\n",
       "      <td>3.466667</td>\n",
       "    </tr>\n",
       "    <tr>\n",
       "      <th rowspan=\"3\" valign=\"top\">below 2.15</th>\n",
       "      <th>Female Headed</th>\n",
       "      <td>4.709375</td>\n",
       "    </tr>\n",
       "    <tr>\n",
       "      <th>Male Headed</th>\n",
       "      <td>5.958980</td>\n",
       "    </tr>\n",
       "    <tr>\n",
       "      <th>Youth Headed</th>\n",
       "      <td>4.570370</td>\n",
       "    </tr>\n",
       "  </tbody>\n",
       "</table>\n",
       "</div>"
      ],
      "text/plain": [
       "                                   hh_size\n",
       "above2     Household_Head_Gender          \n",
       "above 2.15 Female Headed          3.577333\n",
       "           Male Headed            5.096711\n",
       "           Youth Headed           3.466667\n",
       "below 2.15 Female Headed          4.709375\n",
       "           Male Headed            5.958980\n",
       "           Youth Headed           4.570370"
      ]
     },
     "execution_count": 117,
     "metadata": {},
     "output_type": "execute_result"
    }
   ],
   "source": [
    "(df.groupby(['above2','Household_Head_Gender'])[['hh_size']]).mean()"
   ]
  },
  {
   "cell_type": "code",
   "execution_count": 35,
   "id": "bc3040c5-a85a-4f02-9f54-fbe74a44e40c",
   "metadata": {},
   "outputs": [
    {
     "data": {
      "text/html": [
       "<div>\n",
       "<style scoped>\n",
       "    .dataframe tbody tr th:only-of-type {\n",
       "        vertical-align: middle;\n",
       "    }\n",
       "\n",
       "    .dataframe tbody tr th {\n",
       "        vertical-align: top;\n",
       "    }\n",
       "\n",
       "    .dataframe thead tr th {\n",
       "        text-align: left;\n",
       "    }\n",
       "\n",
       "    .dataframe thead tr:last-of-type th {\n",
       "        text-align: right;\n",
       "    }\n",
       "</style>\n",
       "<table border=\"1\" class=\"dataframe\">\n",
       "  <thead>\n",
       "    <tr>\n",
       "      <th></th>\n",
       "      <th colspan=\"2\" halign=\"left\">Size_land_owned</th>\n",
       "    </tr>\n",
       "    <tr>\n",
       "      <th>above2</th>\n",
       "      <th>above 2.15</th>\n",
       "      <th>below 2.15</th>\n",
       "    </tr>\n",
       "    <tr>\n",
       "      <th>Household_Head_Gender</th>\n",
       "      <th></th>\n",
       "      <th></th>\n",
       "    </tr>\n",
       "  </thead>\n",
       "  <tbody>\n",
       "    <tr>\n",
       "      <th>Female Headed</th>\n",
       "      <td>1.846545</td>\n",
       "      <td>1.582767</td>\n",
       "    </tr>\n",
       "    <tr>\n",
       "      <th>Male Headed</th>\n",
       "      <td>2.286551</td>\n",
       "      <td>1.923485</td>\n",
       "    </tr>\n",
       "    <tr>\n",
       "      <th>Youth Headed</th>\n",
       "      <td>1.272176</td>\n",
       "      <td>1.150379</td>\n",
       "    </tr>\n",
       "  </tbody>\n",
       "</table>\n",
       "</div>"
      ],
      "text/plain": [
       "                      Size_land_owned           \n",
       "above2                     above 2.15 below 2.15\n",
       "Household_Head_Gender                           \n",
       "Female Headed                1.846545   1.582767\n",
       "Male Headed                  2.286551   1.923485\n",
       "Youth Headed                 1.272176   1.150379"
      ]
     },
     "execution_count": 35,
     "metadata": {},
     "output_type": "execute_result"
    }
   ],
   "source": [
    "(df.groupby(['Household_Head_Gender','above2'])[['Size_land_owned']]).mean().unstack()"
   ]
  },
  {
   "cell_type": "code",
   "execution_count": 36,
   "id": "c21f33d3-d10a-4519-be85-1cfd046ec1ab",
   "metadata": {},
   "outputs": [
    {
     "data": {
      "text/plain": [
       "                 above2    \n",
       "Size_land_owned  above 2.15    2.050544\n",
       "                 below 2.15    1.767830\n",
       "dtype: float64"
      ]
     },
     "execution_count": 36,
     "metadata": {},
     "output_type": "execute_result"
    }
   ],
   "source": [
    "(df.groupby(['above2'])[['Size_land_owned']]).mean().unstack()"
   ]
  },
  {
   "cell_type": "code",
   "execution_count": 254,
   "id": "aa0d7195-6504-4f6a-906a-9945a5117fb1",
   "metadata": {},
   "outputs": [
    {
     "data": {
      "text/plain": [
       "F_onewayResult(statistic=12.80158649963682, pvalue=0.00035061025687323504)"
      ]
     },
     "execution_count": 254,
     "metadata": {},
     "output_type": "execute_result"
    }
   ],
   "source": [
    "f_oneway(above['Size_land_owned'].dropna(), below['Size_land_owned'].dropna())"
   ]
  },
  {
   "cell_type": "code",
   "execution_count": 335,
   "id": "85da390f-008a-4cc4-89bf-cfef275774b0",
   "metadata": {},
   "outputs": [
    {
     "data": {
      "text/plain": [
       "F_onewayResult(statistic=1.9350581871579773, pvalue=0.16452216797652086)"
      ]
     },
     "execution_count": 335,
     "metadata": {},
     "output_type": "execute_result"
    }
   ],
   "source": [
    "f_oneway(group3_below['Size_land_owned'].dropna(), group3_above['Size_land_owned'].dropna())"
   ]
  },
  {
   "cell_type": "code",
   "execution_count": 336,
   "id": "6712f807-c3e1-4753-9885-3c470991622d",
   "metadata": {},
   "outputs": [
    {
     "data": {
      "text/plain": [
       "F_onewayResult(statistic=2.6215514323241256, pvalue=0.1056648135458782)"
      ]
     },
     "execution_count": 336,
     "metadata": {},
     "output_type": "execute_result"
    }
   ],
   "source": [
    "f_oneway(group4_below['Size_land_owned'].dropna(), group4_above['Size_land_owned'].dropna())"
   ]
  },
  {
   "cell_type": "code",
   "execution_count": 257,
   "id": "3533cfc1-c01e-49b7-b80b-bf66a5746cbb",
   "metadata": {},
   "outputs": [
    {
     "data": {
      "text/plain": [
       "F_onewayResult(statistic=5.7767176659091986, pvalue=0.01641323024685033)"
      ]
     },
     "execution_count": 257,
     "metadata": {},
     "output_type": "execute_result"
    }
   ],
   "source": [
    "perform_anova_for_gender_and_variable('Female Headed','Size_land_owned')"
   ]
  },
  {
   "cell_type": "code",
   "execution_count": 259,
   "id": "fa66ee2f-6fa0-4c6d-9164-eb1c3f08553f",
   "metadata": {},
   "outputs": [
    {
     "data": {
      "text/plain": [
       "F_onewayResult(statistic=10.243111972646517, pvalue=0.001389938796853216)"
      ]
     },
     "execution_count": 259,
     "metadata": {},
     "output_type": "execute_result"
    }
   ],
   "source": [
    "perform_anova_for_gender_and_variable('Male Headed','Size_land_owned')"
   ]
  },
  {
   "cell_type": "code",
   "execution_count": 258,
   "id": "54ae2141-4ce5-42f9-88c2-f7133df40914",
   "metadata": {},
   "outputs": [
    {
     "data": {
      "text/plain": [
       "F_onewayResult(statistic=1.037824488719885, pvalue=0.30895629944091807)"
      ]
     },
     "execution_count": 258,
     "metadata": {},
     "output_type": "execute_result"
    }
   ],
   "source": [
    "perform_anova_for_gender_and_variable('Youth Headed','Size_land_owned')"
   ]
  },
  {
   "cell_type": "code",
   "execution_count": null,
   "id": "a2f4368f-966e-40ea-917f-fca517a73b0f",
   "metadata": {},
   "outputs": [],
   "source": []
  },
  {
   "cell_type": "code",
   "execution_count": 37,
   "id": "30498b01-936f-49ad-bbc0-9efb18bfbeb2",
   "metadata": {},
   "outputs": [
    {
     "data": {
      "text/html": [
       "<div>\n",
       "<style scoped>\n",
       "    .dataframe tbody tr th:only-of-type {\n",
       "        vertical-align: middle;\n",
       "    }\n",
       "\n",
       "    .dataframe tbody tr th {\n",
       "        vertical-align: top;\n",
       "    }\n",
       "\n",
       "    .dataframe thead th {\n",
       "        text-align: right;\n",
       "    }\n",
       "</style>\n",
       "<table border=\"1\" class=\"dataframe\">\n",
       "  <thead>\n",
       "    <tr style=\"text-align: right;\">\n",
       "      <th>above2</th>\n",
       "      <th>above 2.15</th>\n",
       "      <th>below 2.15</th>\n",
       "    </tr>\n",
       "    <tr>\n",
       "      <th>leadership_head</th>\n",
       "      <th></th>\n",
       "      <th></th>\n",
       "    </tr>\n",
       "  </thead>\n",
       "  <tbody>\n",
       "    <tr>\n",
       "      <th>0</th>\n",
       "      <td>0.641531</td>\n",
       "      <td>0.358469</td>\n",
       "    </tr>\n",
       "    <tr>\n",
       "      <th>1</th>\n",
       "      <td>0.673291</td>\n",
       "      <td>0.326709</td>\n",
       "    </tr>\n",
       "  </tbody>\n",
       "</table>\n",
       "</div>"
      ],
      "text/plain": [
       "above2           above 2.15  below 2.15\n",
       "leadership_head                        \n",
       "0                  0.641531    0.358469\n",
       "1                  0.673291    0.326709"
      ]
     },
     "execution_count": 37,
     "metadata": {},
     "output_type": "execute_result"
    }
   ],
   "source": [
    "(df.groupby(['leadership_head'])[['above2']]).value_counts(normalize=True).unstack()"
   ]
  },
  {
   "cell_type": "code",
   "execution_count": 290,
   "id": "ea30a74d-1a8f-486e-94b4-187e79a23b9e",
   "metadata": {},
   "outputs": [
    {
     "data": {
      "text/html": [
       "<div>\n",
       "<style scoped>\n",
       "    .dataframe tbody tr th:only-of-type {\n",
       "        vertical-align: middle;\n",
       "    }\n",
       "\n",
       "    .dataframe tbody tr th {\n",
       "        vertical-align: top;\n",
       "    }\n",
       "\n",
       "    .dataframe thead th {\n",
       "        text-align: right;\n",
       "    }\n",
       "</style>\n",
       "<table border=\"1\" class=\"dataframe\">\n",
       "  <thead>\n",
       "    <tr style=\"text-align: right;\">\n",
       "      <th></th>\n",
       "      <th>leadership_head</th>\n",
       "    </tr>\n",
       "    <tr>\n",
       "      <th>above2</th>\n",
       "      <th></th>\n",
       "    </tr>\n",
       "  </thead>\n",
       "  <tbody>\n",
       "    <tr>\n",
       "      <th>above 2.15</th>\n",
       "      <td>0.333465</td>\n",
       "    </tr>\n",
       "    <tr>\n",
       "      <th>below 2.15</th>\n",
       "      <td>0.302874</td>\n",
       "    </tr>\n",
       "  </tbody>\n",
       "</table>\n",
       "</div>"
      ],
      "text/plain": [
       "            leadership_head\n",
       "above2                     \n",
       "above 2.15         0.333465\n",
       "below 2.15         0.302874"
      ]
     },
     "execution_count": 290,
     "metadata": {},
     "output_type": "execute_result"
    }
   ],
   "source": [
    "(df.groupby(['above2'])[['leadership_head']]).mean()"
   ]
  },
  {
   "cell_type": "code",
   "execution_count": 293,
   "id": "05d2af37-d6a6-4979-8528-902d690f2855",
   "metadata": {},
   "outputs": [
    {
     "data": {
      "text/plain": [
       "above2      Quartile\n",
       "above 2.15  Group 1     0.309859\n",
       "            Group 2     0.358065\n",
       "            Group 3     0.400593\n",
       "            Group 4     0.273143\n",
       "below 2.15  Group 1     0.312169\n",
       "            Group 2     0.304020\n",
       "            Group 3     0.406832\n",
       "            Group 4     0.223235\n",
       "Name: leadership_head, dtype: float64"
      ]
     },
     "execution_count": 293,
     "metadata": {},
     "output_type": "execute_result"
    }
   ],
   "source": [
    "df.groupby(['above2','Quartile'])['leadership_head'].mean()"
   ]
  },
  {
   "cell_type": "code",
   "execution_count": 260,
   "id": "a3cd5c3e-52f9-4863-9469-843d70ae9f4d",
   "metadata": {},
   "outputs": [
    {
     "data": {
      "text/plain": [
       "Chi2ContingencyResult(statistic=3.647520828682156, pvalue=0.056152738228540944, dof=1, expected_freq=array([[1720.05645368,  918.94354632],\n",
       "       [ 819.94354632,  438.05645368]]))"
      ]
     },
     "execution_count": 260,
     "metadata": {},
     "output_type": "execute_result"
    }
   ],
   "source": [
    "chi2_contingency(pd.crosstab(df['leadership_head'], df['above2']))"
   ]
  },
  {
   "cell_type": "code",
   "execution_count": 337,
   "id": "be699e57-0125-41c9-a912-c52cb6e5ba4f",
   "metadata": {},
   "outputs": [
    {
     "data": {
      "text/plain": [
       "Chi2ContingencyResult(statistic=0.014093853770384832, pvalue=0.9054991416927364, dof=1, expected_freq=array([[402.64056225, 192.35943775],\n",
       "       [271.35943775, 129.64056225]]))"
      ]
     },
     "execution_count": 337,
     "metadata": {},
     "output_type": "execute_result"
    }
   ],
   "source": [
    "chi2_contingency(pd.crosstab(group3['leadership_head'], group3['above2']))"
   ]
  },
  {
   "cell_type": "code",
   "execution_count": 338,
   "id": "ded1a802-1324-4e3e-a329-fd9274c9a880",
   "metadata": {},
   "outputs": [
    {
     "data": {
      "text/plain": [
       "Chi2ContingencyResult(statistic=3.561220347877306, pvalue=0.05914424233266955, dof=1, expected_freq=array([[650.58980213, 326.41019787],\n",
       "       [224.41019787, 112.58980213]]))"
      ]
     },
     "execution_count": 338,
     "metadata": {},
     "output_type": "execute_result"
    }
   ],
   "source": [
    "chi2_contingency(pd.crosstab(group4['leadership_head'], group4['above2']))"
   ]
  },
  {
   "cell_type": "code",
   "execution_count": null,
   "id": "a9e32ee9-7e6b-4306-964f-c358379c5031",
   "metadata": {},
   "outputs": [],
   "source": []
  },
  {
   "cell_type": "code",
   "execution_count": 261,
   "id": "5167d306-3a8c-4d91-a1e1-8bef461bbc5a",
   "metadata": {},
   "outputs": [
    {
     "data": {
      "text/plain": [
       "Chi2ContingencyResult(statistic=7.961284921222596, pvalue=0.004778847654599548, dof=1, expected_freq=array([[557.94392523, 238.05607477],\n",
       "       [192.05607477,  81.94392523]]))"
      ]
     },
     "execution_count": 261,
     "metadata": {},
     "output_type": "execute_result"
    }
   ],
   "source": [
    "chi2_contingency(pd.crosstab(female['leadership_head'], female['above2']))"
   ]
  },
  {
   "cell_type": "code",
   "execution_count": 262,
   "id": "1b308fdc-d3e2-4588-bf5c-1fa20497c992",
   "metadata": {},
   "outputs": [
    {
     "data": {
      "text/plain": [
       "Chi2ContingencyResult(statistic=1.4121205029828103, pvalue=0.23470469644178726, dof=1, expected_freq=array([[967.10156895, 573.89843105],\n",
       "       [552.89843105, 328.10156895]]))"
      ]
     },
     "execution_count": 262,
     "metadata": {},
     "output_type": "execute_result"
    }
   ],
   "source": [
    "chi2_contingency(pd.crosstab(joint['leadership_head'], joint['above2']))"
   ]
  },
  {
   "cell_type": "code",
   "execution_count": 263,
   "id": "9b366a91-14a7-4d2b-becc-977cd53b4bdd",
   "metadata": {},
   "outputs": [
    {
     "data": {
      "text/plain": [
       "Chi2ContingencyResult(statistic=0.0, pvalue=1.0, dof=1, expected_freq=array([[201.33333333, 100.66666667],\n",
       "       [ 68.66666667,  34.33333333]]))"
      ]
     },
     "execution_count": 263,
     "metadata": {},
     "output_type": "execute_result"
    }
   ],
   "source": [
    "chi2_contingency(pd.crosstab(youth['leadership_head'], youth['above2']))"
   ]
  },
  {
   "cell_type": "code",
   "execution_count": null,
   "id": "1a3bed47-1c77-4b81-ae0e-5aaf7e9419ce",
   "metadata": {},
   "outputs": [],
   "source": []
  },
  {
   "cell_type": "code",
   "execution_count": 39,
   "id": "be9c36c3-a953-45c9-86bf-7702f4b93ee6",
   "metadata": {},
   "outputs": [
    {
     "data": {
      "text/html": [
       "<div>\n",
       "<style scoped>\n",
       "    .dataframe tbody tr th:only-of-type {\n",
       "        vertical-align: middle;\n",
       "    }\n",
       "\n",
       "    .dataframe tbody tr th {\n",
       "        vertical-align: top;\n",
       "    }\n",
       "\n",
       "    .dataframe thead th {\n",
       "        text-align: right;\n",
       "    }\n",
       "</style>\n",
       "<table border=\"1\" class=\"dataframe\">\n",
       "  <thead>\n",
       "    <tr style=\"text-align: right;\">\n",
       "      <th></th>\n",
       "      <th>leadership_head</th>\n",
       "      <th>0</th>\n",
       "      <th>1</th>\n",
       "    </tr>\n",
       "    <tr>\n",
       "      <th>Household_Head_Gender</th>\n",
       "      <th>above2</th>\n",
       "      <th></th>\n",
       "      <th></th>\n",
       "    </tr>\n",
       "  </thead>\n",
       "  <tbody>\n",
       "    <tr>\n",
       "      <th rowspan=\"2\" valign=\"top\">Female Headed</th>\n",
       "      <th>above 2.15</th>\n",
       "      <td>0.718667</td>\n",
       "      <td>0.281333</td>\n",
       "    </tr>\n",
       "    <tr>\n",
       "      <th>below 2.15</th>\n",
       "      <td>0.803125</td>\n",
       "      <td>0.196875</td>\n",
       "    </tr>\n",
       "    <tr>\n",
       "      <th rowspan=\"2\" valign=\"top\">Male Headed</th>\n",
       "      <th>above 2.15</th>\n",
       "      <td>0.626974</td>\n",
       "      <td>0.373026</td>\n",
       "    </tr>\n",
       "    <tr>\n",
       "      <th>below 2.15</th>\n",
       "      <td>0.651885</td>\n",
       "      <td>0.348115</td>\n",
       "    </tr>\n",
       "    <tr>\n",
       "      <th rowspan=\"2\" valign=\"top\">Youth Headed</th>\n",
       "      <th>above 2.15</th>\n",
       "      <td>0.744444</td>\n",
       "      <td>0.255556</td>\n",
       "    </tr>\n",
       "    <tr>\n",
       "      <th>below 2.15</th>\n",
       "      <td>0.748148</td>\n",
       "      <td>0.251852</td>\n",
       "    </tr>\n",
       "  </tbody>\n",
       "</table>\n",
       "</div>"
      ],
      "text/plain": [
       "leadership_head                          0         1\n",
       "Household_Head_Gender above2                        \n",
       "Female Headed         above 2.15  0.718667  0.281333\n",
       "                      below 2.15  0.803125  0.196875\n",
       "Male Headed           above 2.15  0.626974  0.373026\n",
       "                      below 2.15  0.651885  0.348115\n",
       "Youth Headed          above 2.15  0.744444  0.255556\n",
       "                      below 2.15  0.748148  0.251852"
      ]
     },
     "execution_count": 39,
     "metadata": {},
     "output_type": "execute_result"
    }
   ],
   "source": [
    "(df.groupby(['Household_Head_Gender','above2'])[['leadership_head']]).value_counts(normalize=True).unstack()"
   ]
  },
  {
   "cell_type": "code",
   "execution_count": 342,
   "id": "6713366b-826e-4d54-8ea3-46222330d9a2",
   "metadata": {},
   "outputs": [
    {
     "data": {
      "text/plain": [
       "Household_Head_Gender  above2    \n",
       "Female Headed          above 2.15    61.645333\n",
       "                       below 2.15    56.384375\n",
       "Male Headed            above 2.15    50.767763\n",
       "                       below 2.15    50.522173\n",
       "Youth Headed           above 2.15    27.277778\n",
       "                       below 2.15    27.200000\n",
       "Name: hhh_age, dtype: float64"
      ]
     },
     "execution_count": 342,
     "metadata": {},
     "output_type": "execute_result"
    }
   ],
   "source": [
    "(df.groupby(['Household_Head_Gender','above2'])['hhh_age']).mean()"
   ]
  },
  {
   "cell_type": "code",
   "execution_count": 264,
   "id": "73925bce-67dc-4f80-9237-b0b7c1a1d373",
   "metadata": {},
   "outputs": [
    {
     "data": {
      "text/plain": [
       "F_onewayResult(statistic=11.528103083063554, pvalue=0.000692376945961864)"
      ]
     },
     "execution_count": 264,
     "metadata": {},
     "output_type": "execute_result"
    }
   ],
   "source": [
    "f_oneway(above['hhh_age'],below['hhh_age'])"
   ]
  },
  {
   "cell_type": "code",
   "execution_count": 339,
   "id": "c76da51a-c2aa-4970-8a9f-b71065927736",
   "metadata": {},
   "outputs": [
    {
     "data": {
      "text/plain": [
       "F_onewayResult(statistic=0.6759549077849925, pvalue=0.41118029613119345)"
      ]
     },
     "execution_count": 339,
     "metadata": {},
     "output_type": "execute_result"
    }
   ],
   "source": [
    "f_oneway(group3_below['hhh_age'].dropna(), group3_above['hhh_age'].dropna())"
   ]
  },
  {
   "cell_type": "code",
   "execution_count": 340,
   "id": "5e16e5be-d990-4fb8-85cc-4a309e2fadc1",
   "metadata": {},
   "outputs": [
    {
     "data": {
      "text/plain": [
       "F_onewayResult(statistic=3.246946262162299, pvalue=0.07178612825122824)"
      ]
     },
     "execution_count": 340,
     "metadata": {},
     "output_type": "execute_result"
    }
   ],
   "source": [
    "f_oneway(group4_below['hhh_age'].dropna(), group4_above['hhh_age'].dropna())"
   ]
  },
  {
   "cell_type": "code",
   "execution_count": 265,
   "id": "d21388d6-33bf-4dc4-a1a5-01ec33e3173d",
   "metadata": {},
   "outputs": [
    {
     "data": {
      "text/plain": [
       "F_onewayResult(statistic=25.51683537573143, pvalue=5.154839750844484e-07)"
      ]
     },
     "execution_count": 265,
     "metadata": {},
     "output_type": "execute_result"
    }
   ],
   "source": [
    "perform_anova_for_gender_and_variable('Female Headed','hhh_age')"
   ]
  },
  {
   "cell_type": "code",
   "execution_count": 266,
   "id": "2e4615bd-3516-4b04-a61c-717ccb93faaf",
   "metadata": {},
   "outputs": [
    {
     "data": {
      "text/plain": [
       "F_onewayResult(statistic=0.16708059327296365, pvalue=0.6827556855002117)"
      ]
     },
     "execution_count": 266,
     "metadata": {},
     "output_type": "execute_result"
    }
   ],
   "source": [
    "perform_anova_for_gender_and_variable('Male Headed','hhh_age')"
   ]
  },
  {
   "cell_type": "code",
   "execution_count": 267,
   "id": "e210e5b6-22ec-411e-92d6-e6682b2de013",
   "metadata": {},
   "outputs": [
    {
     "data": {
      "text/plain": [
       "F_onewayResult(statistic=0.07699265826831825, pvalue=0.7815572907088416)"
      ]
     },
     "execution_count": 267,
     "metadata": {},
     "output_type": "execute_result"
    }
   ],
   "source": [
    "perform_anova_for_gender_and_variable('Youth Headed','hhh_age')"
   ]
  },
  {
   "cell_type": "markdown",
   "id": "0623a160-4560-49db-baf4-c22bd4109332",
   "metadata": {},
   "source": [
    "Daily meals"
   ]
  },
  {
   "cell_type": "code",
   "execution_count": 41,
   "id": "7fa0d41c-36bf-4966-b61b-d6a734f18f11",
   "metadata": {},
   "outputs": [
    {
     "data": {
      "text/html": [
       "<div>\n",
       "<style scoped>\n",
       "    .dataframe tbody tr th:only-of-type {\n",
       "        vertical-align: middle;\n",
       "    }\n",
       "\n",
       "    .dataframe tbody tr th {\n",
       "        vertical-align: top;\n",
       "    }\n",
       "\n",
       "    .dataframe thead th {\n",
       "        text-align: right;\n",
       "    }\n",
       "</style>\n",
       "<table border=\"1\" class=\"dataframe\">\n",
       "  <thead>\n",
       "    <tr style=\"text-align: right;\">\n",
       "      <th>daily_meals</th>\n",
       "      <th>1</th>\n",
       "      <th>2</th>\n",
       "      <th>3</th>\n",
       "    </tr>\n",
       "    <tr>\n",
       "      <th>above2</th>\n",
       "      <th></th>\n",
       "      <th></th>\n",
       "      <th></th>\n",
       "    </tr>\n",
       "  </thead>\n",
       "  <tbody>\n",
       "    <tr>\n",
       "      <th>above 2.15</th>\n",
       "      <td>0.019291</td>\n",
       "      <td>0.753937</td>\n",
       "      <td>0.226772</td>\n",
       "    </tr>\n",
       "    <tr>\n",
       "      <th>below 2.15</th>\n",
       "      <td>0.022845</td>\n",
       "      <td>0.820192</td>\n",
       "      <td>0.156964</td>\n",
       "    </tr>\n",
       "  </tbody>\n",
       "</table>\n",
       "</div>"
      ],
      "text/plain": [
       "daily_meals         1         2         3\n",
       "above2                                   \n",
       "above 2.15   0.019291  0.753937  0.226772\n",
       "below 2.15   0.022845  0.820192  0.156964"
      ]
     },
     "execution_count": 41,
     "metadata": {},
     "output_type": "execute_result"
    }
   ],
   "source": [
    "df.groupby('above2')['daily_meals'].value_counts(normalize=True).unstack()"
   ]
  },
  {
   "cell_type": "code",
   "execution_count": 42,
   "id": "680a0097-e76d-4f75-b63a-99fa3290f0aa",
   "metadata": {},
   "outputs": [
    {
     "data": {
      "text/html": [
       "<div>\n",
       "<style scoped>\n",
       "    .dataframe tbody tr th:only-of-type {\n",
       "        vertical-align: middle;\n",
       "    }\n",
       "\n",
       "    .dataframe tbody tr th {\n",
       "        vertical-align: top;\n",
       "    }\n",
       "\n",
       "    .dataframe thead th {\n",
       "        text-align: right;\n",
       "    }\n",
       "</style>\n",
       "<table border=\"1\" class=\"dataframe\">\n",
       "  <thead>\n",
       "    <tr style=\"text-align: right;\">\n",
       "      <th>above2</th>\n",
       "      <th>above 2.15</th>\n",
       "      <th>below 2.15</th>\n",
       "    </tr>\n",
       "    <tr>\n",
       "      <th>daily_meals</th>\n",
       "      <th></th>\n",
       "      <th></th>\n",
       "    </tr>\n",
       "  </thead>\n",
       "  <tbody>\n",
       "    <tr>\n",
       "      <th>1</th>\n",
       "      <td>49</td>\n",
       "      <td>31</td>\n",
       "    </tr>\n",
       "    <tr>\n",
       "      <th>2</th>\n",
       "      <td>1915</td>\n",
       "      <td>1113</td>\n",
       "    </tr>\n",
       "    <tr>\n",
       "      <th>3</th>\n",
       "      <td>576</td>\n",
       "      <td>213</td>\n",
       "    </tr>\n",
       "  </tbody>\n",
       "</table>\n",
       "</div>"
      ],
      "text/plain": [
       "above2       above 2.15  below 2.15\n",
       "daily_meals                        \n",
       "1                    49          31\n",
       "2                  1915        1113\n",
       "3                   576         213"
      ]
     },
     "execution_count": 42,
     "metadata": {},
     "output_type": "execute_result"
    }
   ],
   "source": [
    "table_meals_1 = pd.crosstab(df[\"daily_meals\"], df[\"above2\"])\n",
    "table_meals_1"
   ]
  },
  {
   "cell_type": "code",
   "execution_count": 43,
   "id": "610d9da4-255d-4163-a378-ec12bc0e0de4",
   "metadata": {},
   "outputs": [
    {
     "data": {
      "text/plain": [
       "Chi2ContingencyResult(statistic=26.829167358699944, pvalue=1.4932080790640903e-06, dof=2, expected_freq=array([[  52.14267385,   27.85732615],\n",
       "       [1973.60020529, 1054.39979471],\n",
       "       [ 514.25712086,  274.74287914]]))"
      ]
     },
     "execution_count": 43,
     "metadata": {},
     "output_type": "execute_result"
    }
   ],
   "source": [
    "chi2_contingency(table_meals_1)"
   ]
  },
  {
   "cell_type": "code",
   "execution_count": 44,
   "id": "9fa7d10d-221a-4356-8faf-7dc62a5247e7",
   "metadata": {},
   "outputs": [
    {
     "data": {
      "text/html": [
       "<div>\n",
       "<style scoped>\n",
       "    .dataframe tbody tr th:only-of-type {\n",
       "        vertical-align: middle;\n",
       "    }\n",
       "\n",
       "    .dataframe tbody tr th {\n",
       "        vertical-align: top;\n",
       "    }\n",
       "\n",
       "    .dataframe thead th {\n",
       "        text-align: right;\n",
       "    }\n",
       "</style>\n",
       "<table border=\"1\" class=\"dataframe\">\n",
       "  <thead>\n",
       "    <tr style=\"text-align: right;\">\n",
       "      <th></th>\n",
       "      <th>daily_meals</th>\n",
       "      <th>1</th>\n",
       "      <th>2</th>\n",
       "      <th>3</th>\n",
       "    </tr>\n",
       "    <tr>\n",
       "      <th>Household_Head_Gender</th>\n",
       "      <th>above2</th>\n",
       "      <th></th>\n",
       "      <th></th>\n",
       "      <th></th>\n",
       "    </tr>\n",
       "  </thead>\n",
       "  <tbody>\n",
       "    <tr>\n",
       "      <th rowspan=\"2\" valign=\"top\">Female Headed</th>\n",
       "      <th>above 2.15</th>\n",
       "      <td>0.024000</td>\n",
       "      <td>0.746667</td>\n",
       "      <td>0.229333</td>\n",
       "    </tr>\n",
       "    <tr>\n",
       "      <th>below 2.15</th>\n",
       "      <td>0.034375</td>\n",
       "      <td>0.831250</td>\n",
       "      <td>0.134375</td>\n",
       "    </tr>\n",
       "    <tr>\n",
       "      <th rowspan=\"2\" valign=\"top\">Male Headed</th>\n",
       "      <th>above 2.15</th>\n",
       "      <td>0.019079</td>\n",
       "      <td>0.755263</td>\n",
       "      <td>0.225658</td>\n",
       "    </tr>\n",
       "    <tr>\n",
       "      <th>below 2.15</th>\n",
       "      <td>0.017738</td>\n",
       "      <td>0.814856</td>\n",
       "      <td>0.167406</td>\n",
       "    </tr>\n",
       "    <tr>\n",
       "      <th rowspan=\"2\" valign=\"top\">Youth Headed</th>\n",
       "      <th>above 2.15</th>\n",
       "      <td>0.007407</td>\n",
       "      <td>0.766667</td>\n",
       "      <td>0.225926</td>\n",
       "    </tr>\n",
       "    <tr>\n",
       "      <th>below 2.15</th>\n",
       "      <td>0.029630</td>\n",
       "      <td>0.829630</td>\n",
       "      <td>0.140741</td>\n",
       "    </tr>\n",
       "  </tbody>\n",
       "</table>\n",
       "</div>"
      ],
      "text/plain": [
       "daily_meals                              1         2         3\n",
       "Household_Head_Gender above2                                  \n",
       "Female Headed         above 2.15  0.024000  0.746667  0.229333\n",
       "                      below 2.15  0.034375  0.831250  0.134375\n",
       "Male Headed           above 2.15  0.019079  0.755263  0.225658\n",
       "                      below 2.15  0.017738  0.814856  0.167406\n",
       "Youth Headed          above 2.15  0.007407  0.766667  0.225926\n",
       "                      below 2.15  0.029630  0.829630  0.140741"
      ]
     },
     "execution_count": 44,
     "metadata": {},
     "output_type": "execute_result"
    }
   ],
   "source": [
    "df.groupby(['Household_Head_Gender','above2'])['daily_meals'].value_counts(normalize=True).unstack()"
   ]
  },
  {
   "cell_type": "code",
   "execution_count": 45,
   "id": "3a271d80-594b-48b3-b862-b13930ab1abc",
   "metadata": {},
   "outputs": [
    {
     "data": {
      "text/plain": [
       "array(['Female Headed', 'Male Headed', 'Youth Headed'], dtype=object)"
      ]
     },
     "execution_count": 45,
     "metadata": {},
     "output_type": "execute_result"
    }
   ],
   "source": [
    "df['Household_Head_Gender'].unique()"
   ]
  },
  {
   "cell_type": "code",
   "execution_count": 47,
   "id": "9718979e-7419-49a8-8d9e-87ddf5277d9e",
   "metadata": {},
   "outputs": [],
   "source": [
    "table_meals_joint = pd.crosstab(joint[\"daily_meals\"], joint[\"above2\"])\n",
    "table_meals_female = pd.crosstab(female[\"daily_meals\"], female[\"above2\"])\n",
    "table_meals_male = pd.crosstab(joint[\"daily_meals\"], joint[\"above2\"])"
   ]
  },
  {
   "cell_type": "code",
   "execution_count": 48,
   "id": "8544083f-d281-418e-8f55-d30918988b78",
   "metadata": {},
   "outputs": [
    {
     "data": {
      "text/plain": [
       "(0.0024076049484862633, 0.0014772506047665524, 0.0024076049484862633)"
      ]
     },
     "execution_count": 48,
     "metadata": {},
     "output_type": "execute_result"
    }
   ],
   "source": [
    "chi2_contingency(table_meals_joint).pvalue, chi2_contingency(table_meals_female).pvalue, chi2_contingency(table_meals_male).pvalue"
   ]
  },
  {
   "cell_type": "code",
   "execution_count": null,
   "id": "95d21861-8dd4-4a95-992f-68c0d2a997c8",
   "metadata": {},
   "outputs": [],
   "source": []
  },
  {
   "cell_type": "code",
   "execution_count": null,
   "id": "42128b12-60d3-4f73-adf8-3c64aa309132",
   "metadata": {},
   "outputs": [],
   "source": []
  },
  {
   "cell_type": "code",
   "execution_count": 34,
   "id": "ab9700e7-d6dd-4750-bd8f-97b6f9fbe9bb",
   "metadata": {},
   "outputs": [
    {
     "name": "stderr",
     "output_type": "stream",
     "text": [
      "/var/folders/xd/0btgr76j2zxc4__ynw0yhwbm0000gn/T/ipykernel_20832/2885387722.py:1: SettingWithCopyWarning: \n",
      "A value is trying to be set on a copy of a slice from a DataFrame.\n",
      "Try using .loc[row_indexer,col_indexer] = value instead\n",
      "\n",
      "See the caveats in the documentation: https://pandas.pydata.org/pandas-docs/stable/user_guide/indexing.html#returning-a-view-versus-a-copy\n",
      "  df['vsla_participation'] = ((df['save_mode_7']==1) | (df['save_mode_8']==1)).astype(int)\n"
     ]
    }
   ],
   "source": [
    "df['vsla_participation'] = ((df['save_mode_7']==1) | (df['save_mode_8']==1)).astype(int)"
   ]
  },
  {
   "cell_type": "code",
   "execution_count": 283,
   "id": "760fb4f9-beed-4de5-9f5e-a31175b25fd2",
   "metadata": {},
   "outputs": [
    {
     "data": {
      "text/plain": [
       "above2\n",
       "above 2.15    0.611024\n",
       "below 2.15    0.590273\n",
       "Name: vsla_participation, dtype: float64"
      ]
     },
     "execution_count": 283,
     "metadata": {},
     "output_type": "execute_result"
    }
   ],
   "source": [
    "df.groupby('above2')['vsla_participation'].mean()"
   ]
  },
  {
   "cell_type": "code",
   "execution_count": 284,
   "id": "b56c7be0-b0c5-4532-bcbb-7abd8c78b1ac",
   "metadata": {},
   "outputs": [
    {
     "data": {
      "text/plain": [
       "above2      Quartile\n",
       "above 2.15  Group 1     0.597183\n",
       "            Group 2     0.622581\n",
       "            Group 3     0.630564\n",
       "            Group 4     0.594286\n",
       "below 2.15  Group 1     0.603175\n",
       "            Group 2     0.610553\n",
       "            Group 3     0.574534\n",
       "            Group 4     0.578588\n",
       "Name: vsla_participation, dtype: float64"
      ]
     },
     "execution_count": 284,
     "metadata": {},
     "output_type": "execute_result"
    }
   ],
   "source": [
    "df.groupby(['above2','Quartile'])['vsla_participation'].mean()"
   ]
  },
  {
   "cell_type": "code",
   "execution_count": 51,
   "id": "0c8eaff7-6e2c-4f35-b387-f495704a74fa",
   "metadata": {},
   "outputs": [
    {
     "data": {
      "text/html": [
       "<div>\n",
       "<style scoped>\n",
       "    .dataframe tbody tr th:only-of-type {\n",
       "        vertical-align: middle;\n",
       "    }\n",
       "\n",
       "    .dataframe tbody tr th {\n",
       "        vertical-align: top;\n",
       "    }\n",
       "\n",
       "    .dataframe thead th {\n",
       "        text-align: right;\n",
       "    }\n",
       "</style>\n",
       "<table border=\"1\" class=\"dataframe\">\n",
       "  <thead>\n",
       "    <tr style=\"text-align: right;\">\n",
       "      <th></th>\n",
       "      <th>vsla_participation</th>\n",
       "      <th>0</th>\n",
       "      <th>1</th>\n",
       "    </tr>\n",
       "    <tr>\n",
       "      <th>Household_Head_Gender</th>\n",
       "      <th>above2</th>\n",
       "      <th></th>\n",
       "      <th></th>\n",
       "    </tr>\n",
       "  </thead>\n",
       "  <tbody>\n",
       "    <tr>\n",
       "      <th rowspan=\"2\" valign=\"top\">Female Headed</th>\n",
       "      <th>above 2.15</th>\n",
       "      <td>0.429333</td>\n",
       "      <td>0.570667</td>\n",
       "    </tr>\n",
       "    <tr>\n",
       "      <th>below 2.15</th>\n",
       "      <td>0.471875</td>\n",
       "      <td>0.528125</td>\n",
       "    </tr>\n",
       "    <tr>\n",
       "      <th rowspan=\"2\" valign=\"top\">Male Headed</th>\n",
       "      <th>above 2.15</th>\n",
       "      <td>0.370395</td>\n",
       "      <td>0.629605</td>\n",
       "    </tr>\n",
       "    <tr>\n",
       "      <th>below 2.15</th>\n",
       "      <td>0.375831</td>\n",
       "      <td>0.624169</td>\n",
       "    </tr>\n",
       "    <tr>\n",
       "      <th rowspan=\"2\" valign=\"top\">Youth Headed</th>\n",
       "      <th>above 2.15</th>\n",
       "      <td>0.381481</td>\n",
       "      <td>0.618519</td>\n",
       "    </tr>\n",
       "    <tr>\n",
       "      <th>below 2.15</th>\n",
       "      <td>0.488889</td>\n",
       "      <td>0.511111</td>\n",
       "    </tr>\n",
       "  </tbody>\n",
       "</table>\n",
       "</div>"
      ],
      "text/plain": [
       "vsla_participation                       0         1\n",
       "Household_Head_Gender above2                        \n",
       "Female Headed         above 2.15  0.429333  0.570667\n",
       "                      below 2.15  0.471875  0.528125\n",
       "Male Headed           above 2.15  0.370395  0.629605\n",
       "                      below 2.15  0.375831  0.624169\n",
       "Youth Headed          above 2.15  0.381481  0.618519\n",
       "                      below 2.15  0.488889  0.511111"
      ]
     },
     "execution_count": 51,
     "metadata": {},
     "output_type": "execute_result"
    }
   ],
   "source": [
    "df.groupby(['Household_Head_Gender','above2'])['vsla_participation'].value_counts(normalize=True).unstack()"
   ]
  },
  {
   "cell_type": "code",
   "execution_count": 52,
   "id": "5f7f93e9-77f8-4b8d-822f-7ee6510b8b73",
   "metadata": {},
   "outputs": [
    {
     "data": {
      "text/html": [
       "<div>\n",
       "<style scoped>\n",
       "    .dataframe tbody tr th:only-of-type {\n",
       "        vertical-align: middle;\n",
       "    }\n",
       "\n",
       "    .dataframe tbody tr th {\n",
       "        vertical-align: top;\n",
       "    }\n",
       "\n",
       "    .dataframe thead th {\n",
       "        text-align: right;\n",
       "    }\n",
       "</style>\n",
       "<table border=\"1\" class=\"dataframe\">\n",
       "  <thead>\n",
       "    <tr style=\"text-align: right;\">\n",
       "      <th>above2</th>\n",
       "      <th>above 2.15</th>\n",
       "      <th>below 2.15</th>\n",
       "    </tr>\n",
       "    <tr>\n",
       "      <th>vsla_participation</th>\n",
       "      <th></th>\n",
       "      <th></th>\n",
       "    </tr>\n",
       "  </thead>\n",
       "  <tbody>\n",
       "    <tr>\n",
       "      <th>0</th>\n",
       "      <td>988</td>\n",
       "      <td>556</td>\n",
       "    </tr>\n",
       "    <tr>\n",
       "      <th>1</th>\n",
       "      <td>1552</td>\n",
       "      <td>801</td>\n",
       "    </tr>\n",
       "  </tbody>\n",
       "</table>\n",
       "</div>"
      ],
      "text/plain": [
       "above2              above 2.15  below 2.15\n",
       "vsla_participation                        \n",
       "0                          988         556\n",
       "1                         1552         801"
      ]
     },
     "execution_count": 52,
     "metadata": {},
     "output_type": "execute_result"
    }
   ],
   "source": [
    "table_vsla = pd.crosstab(df[\"vsla_participation\"], df[\"above2\"])\n",
    "table_vsla"
   ]
  },
  {
   "cell_type": "code",
   "execution_count": 53,
   "id": "9ee43c22-0127-469f-bfbb-632385bbbe6a",
   "metadata": {},
   "outputs": [
    {
     "data": {
      "text/plain": [
       "Chi2ContingencyResult(statistic=1.5064693163819072, pvalue=0.21967862882411537, dof=1, expected_freq=array([[1006.35360534,  537.64639466],\n",
       "       [1533.64639466,  819.35360534]]))"
      ]
     },
     "execution_count": 53,
     "metadata": {},
     "output_type": "execute_result"
    }
   ],
   "source": [
    "chi2_contingency(table_vsla)"
   ]
  },
  {
   "cell_type": "code",
   "execution_count": 343,
   "id": "0b449f00-2d08-49c1-ade9-d417a2ce597c",
   "metadata": {},
   "outputs": [
    {
     "data": {
      "text/plain": [
       "Chi2ContingencyResult(statistic=2.650772794523169, pvalue=0.10349956982825327, dof=1, expected_freq=array([[261.20883534, 124.79116466],\n",
       "       [412.79116466, 197.20883534]]))"
      ]
     },
     "execution_count": 343,
     "metadata": {},
     "output_type": "execute_result"
    }
   ],
   "source": [
    "chi2_contingency(pd.crosstab(group3[\"vsla_participation\"], group3[\"above2\"]))"
   ]
  },
  {
   "cell_type": "code",
   "execution_count": 344,
   "id": "59701a93-ae48-4304-bf0f-bd4c34f3083f",
   "metadata": {},
   "outputs": [
    {
     "data": {
      "text/plain": [
       "Chi2ContingencyResult(statistic=0.2362771657118645, pvalue=0.6269079674051556, dof=1, expected_freq=array([[359.5890411, 180.4109589],\n",
       "       [515.4109589, 258.5890411]]))"
      ]
     },
     "execution_count": 344,
     "metadata": {},
     "output_type": "execute_result"
    }
   ],
   "source": [
    "chi2_contingency(pd.crosstab(group4[\"vsla_participation\"], group4[\"above2\"]))"
   ]
  },
  {
   "cell_type": "code",
   "execution_count": null,
   "id": "551cc284-dece-411c-a373-783107bc1023",
   "metadata": {},
   "outputs": [],
   "source": []
  },
  {
   "cell_type": "code",
   "execution_count": 205,
   "id": "f5e8ab3b-5e39-47d4-b5d6-f83cec60c76d",
   "metadata": {},
   "outputs": [
    {
     "data": {
      "text/plain": [
       "Chi2ContingencyResult(statistic=1.477879454088626, pvalue=0.22410659632451324, dof=1, expected_freq=array([[331.54205607, 141.45794393],\n",
       "       [418.45794393, 178.54205607]]))"
      ]
     },
     "execution_count": 205,
     "metadata": {},
     "output_type": "execute_result"
    }
   ],
   "source": [
    "chi2_contingency(pd.crosstab(female[\"vsla_participation\"], female[\"above2\"]))"
   ]
  },
  {
   "cell_type": "code",
   "execution_count": 206,
   "id": "00dd6ccc-3a58-4b8d-a07b-d7aba2bd30be",
   "metadata": {},
   "outputs": [
    {
     "data": {
      "text/plain": [
       "Chi2ContingencyResult(statistic=0.05021813243746325, pvalue=0.8226841409358666, dof=1, expected_freq=array([[566.0776218, 335.9223782],\n",
       "       [953.9223782, 566.0776218]]))"
      ]
     },
     "execution_count": 206,
     "metadata": {},
     "output_type": "execute_result"
    }
   ],
   "source": [
    "chi2_contingency(pd.crosstab(joint[\"vsla_participation\"], joint[\"above2\"]))"
   ]
  },
  {
   "cell_type": "code",
   "execution_count": 207,
   "id": "b9b4fbce-b195-4514-93c7-3035bec187ef",
   "metadata": {},
   "outputs": [
    {
     "data": {
      "text/plain": [
       "Chi2ContingencyResult(statistic=3.839650611774145, pvalue=0.05005395054793521, dof=1, expected_freq=array([[112.66666667,  56.33333333],\n",
       "       [157.33333333,  78.66666667]]))"
      ]
     },
     "execution_count": 207,
     "metadata": {},
     "output_type": "execute_result"
    }
   ],
   "source": [
    "chi2_contingency(pd.crosstab(youth[\"vsla_participation\"], youth[\"above2\"]))"
   ]
  },
  {
   "cell_type": "code",
   "execution_count": null,
   "id": "46172ecd-083f-4cb4-9119-d2bf49075c83",
   "metadata": {},
   "outputs": [],
   "source": []
  },
  {
   "cell_type": "code",
   "execution_count": null,
   "id": "e4595044-68d2-4462-8767-1a533bec6eae",
   "metadata": {},
   "outputs": [],
   "source": []
  },
  {
   "cell_type": "code",
   "execution_count": 54,
   "id": "460b1622-ecf9-4fe9-8f54-635d32ddc07f",
   "metadata": {},
   "outputs": [
    {
     "name": "stderr",
     "output_type": "stream",
     "text": [
      "/var/folders/xd/0btgr76j2zxc4__ynw0yhwbm0000gn/T/ipykernel_61592/2423799788.py:1: SettingWithCopyWarning: \n",
      "A value is trying to be set on a copy of a slice from a DataFrame.\n",
      "Try using .loc[row_indexer,col_indexer] = value instead\n",
      "\n",
      "See the caveats in the documentation: https://pandas.pydata.org/pandas-docs/stable/user_guide/indexing.html#returning-a-view-versus-a-copy\n",
      "  df['beans_presence'] = df.apply(lambda row: row['Season_1_1'] or row['Season_2_1'], axis=1)\n",
      "/var/folders/xd/0btgr76j2zxc4__ynw0yhwbm0000gn/T/ipykernel_61592/2423799788.py:2: SettingWithCopyWarning: \n",
      "A value is trying to be set on a copy of a slice from a DataFrame.\n",
      "Try using .loc[row_indexer,col_indexer] = value instead\n",
      "\n",
      "See the caveats in the documentation: https://pandas.pydata.org/pandas-docs/stable/user_guide/indexing.html#returning-a-view-versus-a-copy\n",
      "  df['gnuts_presence'] = df.apply(lambda row: row['Season_1_2'] or row['Season_2_2'], axis=1)\n",
      "/var/folders/xd/0btgr76j2zxc4__ynw0yhwbm0000gn/T/ipykernel_61592/2423799788.py:3: SettingWithCopyWarning: \n",
      "A value is trying to be set on a copy of a slice from a DataFrame.\n",
      "Try using .loc[row_indexer,col_indexer] = value instead\n",
      "\n",
      "See the caveats in the documentation: https://pandas.pydata.org/pandas-docs/stable/user_guide/indexing.html#returning-a-view-versus-a-copy\n",
      "  df['soya_presence'] = df.apply(lambda row: row['Season_1_3'] or row['Season_2_3'], axis=1)\n",
      "/var/folders/xd/0btgr76j2zxc4__ynw0yhwbm0000gn/T/ipykernel_61592/2423799788.py:4: SettingWithCopyWarning: \n",
      "A value is trying to be set on a copy of a slice from a DataFrame.\n",
      "Try using .loc[row_indexer,col_indexer] = value instead\n",
      "\n",
      "See the caveats in the documentation: https://pandas.pydata.org/pandas-docs/stable/user_guide/indexing.html#returning-a-view-versus-a-copy\n",
      "  df['peas_presence'] = df.apply(lambda row: row['Season_1_4'] or row['Season_2_4'], axis=1)\n",
      "/var/folders/xd/0btgr76j2zxc4__ynw0yhwbm0000gn/T/ipykernel_61592/2423799788.py:5: SettingWithCopyWarning: \n",
      "A value is trying to be set on a copy of a slice from a DataFrame.\n",
      "Try using .loc[row_indexer,col_indexer] = value instead\n",
      "\n",
      "See the caveats in the documentation: https://pandas.pydata.org/pandas-docs/stable/user_guide/indexing.html#returning-a-view-versus-a-copy\n",
      "  df['maize_presence'] = df.apply(lambda row: row['Season_1_5'] or row['Season_2_5'], axis=1)\n",
      "/var/folders/xd/0btgr76j2zxc4__ynw0yhwbm0000gn/T/ipykernel_61592/2423799788.py:6: SettingWithCopyWarning: \n",
      "A value is trying to be set on a copy of a slice from a DataFrame.\n",
      "Try using .loc[row_indexer,col_indexer] = value instead\n",
      "\n",
      "See the caveats in the documentation: https://pandas.pydata.org/pandas-docs/stable/user_guide/indexing.html#returning-a-view-versus-a-copy\n",
      "  df['millet_presence'] = df.apply(lambda row: row['Season_1_6'] or row['Season_2_6'], axis=1)\n",
      "/var/folders/xd/0btgr76j2zxc4__ynw0yhwbm0000gn/T/ipykernel_61592/2423799788.py:7: SettingWithCopyWarning: \n",
      "A value is trying to be set on a copy of a slice from a DataFrame.\n",
      "Try using .loc[row_indexer,col_indexer] = value instead\n",
      "\n",
      "See the caveats in the documentation: https://pandas.pydata.org/pandas-docs/stable/user_guide/indexing.html#returning-a-view-versus-a-copy\n",
      "  df['sorghum_presence'] = df.apply(lambda row: row['Season_1_7'] or row['Season_2_7'], axis=1)\n",
      "/var/folders/xd/0btgr76j2zxc4__ynw0yhwbm0000gn/T/ipykernel_61592/2423799788.py:8: SettingWithCopyWarning: \n",
      "A value is trying to be set on a copy of a slice from a DataFrame.\n",
      "Try using .loc[row_indexer,col_indexer] = value instead\n",
      "\n",
      "See the caveats in the documentation: https://pandas.pydata.org/pandas-docs/stable/user_guide/indexing.html#returning-a-view-versus-a-copy\n",
      "  df['barley_presence'] = df.apply(lambda row: row['Season_1_8'] or row['Season_2_8'], axis=1)\n",
      "/var/folders/xd/0btgr76j2zxc4__ynw0yhwbm0000gn/T/ipykernel_61592/2423799788.py:9: SettingWithCopyWarning: \n",
      "A value is trying to be set on a copy of a slice from a DataFrame.\n",
      "Try using .loc[row_indexer,col_indexer] = value instead\n",
      "\n",
      "See the caveats in the documentation: https://pandas.pydata.org/pandas-docs/stable/user_guide/indexing.html#returning-a-view-versus-a-copy\n",
      "  df['rice_presence'] = df.apply(lambda row: row['Season_1_9'] or row['Season_2_9'], axis=1)\n",
      "/var/folders/xd/0btgr76j2zxc4__ynw0yhwbm0000gn/T/ipykernel_61592/2423799788.py:10: SettingWithCopyWarning: \n",
      "A value is trying to be set on a copy of a slice from a DataFrame.\n",
      "Try using .loc[row_indexer,col_indexer] = value instead\n",
      "\n",
      "See the caveats in the documentation: https://pandas.pydata.org/pandas-docs/stable/user_guide/indexing.html#returning-a-view-versus-a-copy\n",
      "  df['irish_presence'] = df.apply(lambda row: row['Season_1_10'] or row['Season_2_10'], axis=1)\n",
      "/var/folders/xd/0btgr76j2zxc4__ynw0yhwbm0000gn/T/ipykernel_61592/2423799788.py:11: SettingWithCopyWarning: \n",
      "A value is trying to be set on a copy of a slice from a DataFrame.\n",
      "Try using .loc[row_indexer,col_indexer] = value instead\n",
      "\n",
      "See the caveats in the documentation: https://pandas.pydata.org/pandas-docs/stable/user_guide/indexing.html#returning-a-view-versus-a-copy\n",
      "  df['sweet_presence'] = df.apply(lambda row: row['Season_1_11'] or row['Season_2_11'], axis=1)\n",
      "/var/folders/xd/0btgr76j2zxc4__ynw0yhwbm0000gn/T/ipykernel_61592/2423799788.py:12: SettingWithCopyWarning: \n",
      "A value is trying to be set on a copy of a slice from a DataFrame.\n",
      "Try using .loc[row_indexer,col_indexer] = value instead\n",
      "\n",
      "See the caveats in the documentation: https://pandas.pydata.org/pandas-docs/stable/user_guide/indexing.html#returning-a-view-versus-a-copy\n",
      "  df['cassava_presence'] = df.apply(lambda row: row['Season_1_12'] or row['Season_2_12'], axis=1)\n",
      "/var/folders/xd/0btgr76j2zxc4__ynw0yhwbm0000gn/T/ipykernel_61592/2423799788.py:13: SettingWithCopyWarning: \n",
      "A value is trying to be set on a copy of a slice from a DataFrame.\n",
      "Try using .loc[row_indexer,col_indexer] = value instead\n",
      "\n",
      "See the caveats in the documentation: https://pandas.pydata.org/pandas-docs/stable/user_guide/indexing.html#returning-a-view-versus-a-copy\n",
      "  df['yams_presence'] = df.apply(lambda row: row['Season_1_13'] or row['Season_2_13'], axis=1)\n",
      "/var/folders/xd/0btgr76j2zxc4__ynw0yhwbm0000gn/T/ipykernel_61592/2423799788.py:14: SettingWithCopyWarning: \n",
      "A value is trying to be set on a copy of a slice from a DataFrame.\n",
      "Try using .loc[row_indexer,col_indexer] = value instead\n",
      "\n",
      "See the caveats in the documentation: https://pandas.pydata.org/pandas-docs/stable/user_guide/indexing.html#returning-a-view-versus-a-copy\n",
      "  df['garlic_presence'] = df.apply(lambda row: row['Season_1_14'] or row['Season_2_14'], axis=1)\n",
      "/var/folders/xd/0btgr76j2zxc4__ynw0yhwbm0000gn/T/ipykernel_61592/2423799788.py:15: SettingWithCopyWarning: \n",
      "A value is trying to be set on a copy of a slice from a DataFrame.\n",
      "Try using .loc[row_indexer,col_indexer] = value instead\n",
      "\n",
      "See the caveats in the documentation: https://pandas.pydata.org/pandas-docs/stable/user_guide/indexing.html#returning-a-view-versus-a-copy\n",
      "  df['ginger_presence'] = df.apply(lambda row: row['Season_1_15'] or row['Season_2_15'], axis=1)\n",
      "/var/folders/xd/0btgr76j2zxc4__ynw0yhwbm0000gn/T/ipykernel_61592/2423799788.py:16: SettingWithCopyWarning: \n",
      "A value is trying to be set on a copy of a slice from a DataFrame.\n",
      "Try using .loc[row_indexer,col_indexer] = value instead\n",
      "\n",
      "See the caveats in the documentation: https://pandas.pydata.org/pandas-docs/stable/user_guide/indexing.html#returning-a-view-versus-a-copy\n",
      "  df['tobacco_presence'] = df.apply(lambda row: row['Season_1_16'] or row['Season_2_16'], axis=1)\n",
      "/var/folders/xd/0btgr76j2zxc4__ynw0yhwbm0000gn/T/ipykernel_61592/2423799788.py:17: SettingWithCopyWarning: \n",
      "A value is trying to be set on a copy of a slice from a DataFrame.\n",
      "Try using .loc[row_indexer,col_indexer] = value instead\n",
      "\n",
      "See the caveats in the documentation: https://pandas.pydata.org/pandas-docs/stable/user_guide/indexing.html#returning-a-view-versus-a-copy\n",
      "  df['other_presence'] = df.apply(lambda row: row['Season_1_97'] or row['Season_2_97'], axis=1)\n"
     ]
    }
   ],
   "source": [
    "df['beans_presence'] = df.apply(lambda row: row['Season_1_1'] or row['Season_2_1'], axis=1)\n",
    "df['gnuts_presence'] = df.apply(lambda row: row['Season_1_2'] or row['Season_2_2'], axis=1)\n",
    "df['soya_presence'] = df.apply(lambda row: row['Season_1_3'] or row['Season_2_3'], axis=1)\n",
    "df['peas_presence'] = df.apply(lambda row: row['Season_1_4'] or row['Season_2_4'], axis=1)\n",
    "df['maize_presence'] = df.apply(lambda row: row['Season_1_5'] or row['Season_2_5'], axis=1)\n",
    "df['millet_presence'] = df.apply(lambda row: row['Season_1_6'] or row['Season_2_6'], axis=1)\n",
    "df['sorghum_presence'] = df.apply(lambda row: row['Season_1_7'] or row['Season_2_7'], axis=1)\n",
    "df['barley_presence'] = df.apply(lambda row: row['Season_1_8'] or row['Season_2_8'], axis=1)\n",
    "df['rice_presence'] = df.apply(lambda row: row['Season_1_9'] or row['Season_2_9'], axis=1)\n",
    "df['irish_presence'] = df.apply(lambda row: row['Season_1_10'] or row['Season_2_10'], axis=1)\n",
    "df['sweet_presence'] = df.apply(lambda row: row['Season_1_11'] or row['Season_2_11'], axis=1)\n",
    "df['cassava_presence'] = df.apply(lambda row: row['Season_1_12'] or row['Season_2_12'], axis=1)\n",
    "df['yams_presence'] = df.apply(lambda row: row['Season_1_13'] or row['Season_2_13'], axis=1)\n",
    "df['garlic_presence'] = df.apply(lambda row: row['Season_1_14'] or row['Season_2_14'], axis=1)\n",
    "df['ginger_presence'] = df.apply(lambda row: row['Season_1_15'] or row['Season_2_15'], axis=1)\n",
    "df['tobacco_presence'] = df.apply(lambda row: row['Season_1_16'] or row['Season_2_16'], axis=1)\n",
    "df['other_presence'] = df.apply(lambda row: row['Season_1_97'] or row['Season_2_97'], axis=1)"
   ]
  },
  {
   "cell_type": "code",
   "execution_count": 55,
   "id": "b63f5c68-fdc7-483e-907e-0c1179005069",
   "metadata": {},
   "outputs": [
    {
     "name": "stderr",
     "output_type": "stream",
     "text": [
      "/var/folders/xd/0btgr76j2zxc4__ynw0yhwbm0000gn/T/ipykernel_61592/3436129895.py:1: SettingWithCopyWarning: \n",
      "A value is trying to be set on a copy of a slice from a DataFrame.\n",
      "Try using .loc[row_indexer,col_indexer] = value instead\n",
      "\n",
      "See the caveats in the documentation: https://pandas.pydata.org/pandas-docs/stable/user_guide/indexing.html#returning-a-view-versus-a-copy\n",
      "  df['crop_varieties'] = df[['beans_presence','gnuts_presence','soya_presence','peas_presence','maize_presence','millet_presence','sorghum_presence',\n"
     ]
    }
   ],
   "source": [
    "df['crop_varieties'] = df[['beans_presence','gnuts_presence','soya_presence','peas_presence','maize_presence','millet_presence','sorghum_presence',\n",
    "'barley_presence','rice_presence','irish_presence','sweet_presence','cassava_presence','yams_presence','garlic_presence',\n",
    "'ginger_presence','tobacco_presence','other_presence'\n",
    "]].sum(axis=1)"
   ]
  },
  {
   "cell_type": "code",
   "execution_count": 56,
   "id": "a1c302ef-8b85-4844-adb2-e5536ede11b9",
   "metadata": {},
   "outputs": [
    {
     "data": {
      "text/plain": [
       "above2\n",
       "above 2.15    4.221654\n",
       "below 2.15    3.604274\n",
       "Name: crop_varieties, dtype: float64"
      ]
     },
     "execution_count": 56,
     "metadata": {},
     "output_type": "execute_result"
    }
   ],
   "source": [
    "df.groupby('above2')['crop_varieties'].mean()"
   ]
  },
  {
   "cell_type": "code",
   "execution_count": 345,
   "id": "e2434573-d3bd-4d88-8ac2-754b093ad5ae",
   "metadata": {},
   "outputs": [
    {
     "data": {
      "text/plain": [
       "F_onewayResult(statistic=51.29997243953042, pvalue=1.5413899397061088e-12)"
      ]
     },
     "execution_count": 345,
     "metadata": {},
     "output_type": "execute_result"
    }
   ],
   "source": [
    "f_oneway(group3_below['crop_varieties'].dropna(), group3_above['crop_varieties'].dropna())"
   ]
  },
  {
   "cell_type": "code",
   "execution_count": 346,
   "id": "4e9fd33e-b3e6-4b9a-99d9-0f28192c4272",
   "metadata": {},
   "outputs": [
    {
     "data": {
      "text/plain": [
       "F_onewayResult(statistic=55.8151781807126, pvalue=1.4477303138050358e-13)"
      ]
     },
     "execution_count": 346,
     "metadata": {},
     "output_type": "execute_result"
    }
   ],
   "source": [
    "f_oneway(group4_below['crop_varieties'].dropna(), group4_above['crop_varieties'].dropna())"
   ]
  },
  {
   "cell_type": "code",
   "execution_count": null,
   "id": "32a43c95-5842-4b21-be1f-215b799a002c",
   "metadata": {},
   "outputs": [],
   "source": []
  },
  {
   "cell_type": "code",
   "execution_count": 276,
   "id": "82f84cc2-31d3-4a71-9552-faada089227e",
   "metadata": {},
   "outputs": [
    {
     "data": {
      "text/plain": [
       "above2      Quartile\n",
       "above 2.15  Group 1     4.132394\n",
       "            Group 2     4.148387\n",
       "            Group 3     4.318991\n",
       "            Group 4     4.254857\n",
       "below 2.15  Group 1     3.603175\n",
       "            Group 2     3.673367\n",
       "            Group 3     3.602484\n",
       "            Group 4     3.560364\n",
       "Name: crop_varieties, dtype: float64"
      ]
     },
     "execution_count": 276,
     "metadata": {},
     "output_type": "execute_result"
    }
   ],
   "source": [
    "df.groupby(['above2','Quartile'])['crop_varieties'].mean()"
   ]
  },
  {
   "cell_type": "code",
   "execution_count": 59,
   "id": "14634431-f360-4afa-a473-d3139049f962",
   "metadata": {},
   "outputs": [
    {
     "data": {
      "text/plain": [
       "F_onewayResult(statistic=142.99613668243722, pvalue=2.1591794552225597e-32)"
      ]
     },
     "execution_count": 59,
     "metadata": {},
     "output_type": "execute_result"
    }
   ],
   "source": [
    "f_oneway(above['crop_varieties'], below['crop_varieties'])"
   ]
  },
  {
   "cell_type": "code",
   "execution_count": null,
   "id": "546589cb-3779-440c-b95f-dd82f282a50e",
   "metadata": {},
   "outputs": [],
   "source": []
  },
  {
   "cell_type": "code",
   "execution_count": 60,
   "id": "e6be0d58-37bb-47e4-8465-1f6ca36abfa5",
   "metadata": {},
   "outputs": [
    {
     "data": {
      "text/html": [
       "<div>\n",
       "<style scoped>\n",
       "    .dataframe tbody tr th:only-of-type {\n",
       "        vertical-align: middle;\n",
       "    }\n",
       "\n",
       "    .dataframe tbody tr th {\n",
       "        vertical-align: top;\n",
       "    }\n",
       "\n",
       "    .dataframe thead th {\n",
       "        text-align: right;\n",
       "    }\n",
       "</style>\n",
       "<table border=\"1\" class=\"dataframe\">\n",
       "  <thead>\n",
       "    <tr style=\"text-align: right;\">\n",
       "      <th>above2</th>\n",
       "      <th>above 2.15</th>\n",
       "      <th>below 2.15</th>\n",
       "    </tr>\n",
       "    <tr>\n",
       "      <th>Household_Head_Gender</th>\n",
       "      <th></th>\n",
       "      <th></th>\n",
       "    </tr>\n",
       "  </thead>\n",
       "  <tbody>\n",
       "    <tr>\n",
       "      <th>Female Headed</th>\n",
       "      <td>4.270667</td>\n",
       "      <td>3.606250</td>\n",
       "    </tr>\n",
       "    <tr>\n",
       "      <th>Male Headed</th>\n",
       "      <td>4.236184</td>\n",
       "      <td>3.648559</td>\n",
       "    </tr>\n",
       "    <tr>\n",
       "      <th>Youth Headed</th>\n",
       "      <td>4.003704</td>\n",
       "      <td>3.303704</td>\n",
       "    </tr>\n",
       "  </tbody>\n",
       "</table>\n",
       "</div>"
      ],
      "text/plain": [
       "above2                 above 2.15  below 2.15\n",
       "Household_Head_Gender                        \n",
       "Female Headed            4.270667    3.606250\n",
       "Male Headed              4.236184    3.648559\n",
       "Youth Headed             4.003704    3.303704"
      ]
     },
     "execution_count": 60,
     "metadata": {},
     "output_type": "execute_result"
    }
   ],
   "source": [
    "df.groupby(['Household_Head_Gender','above2'])['crop_varieties'].mean().unstack()"
   ]
  },
  {
   "cell_type": "code",
   "execution_count": 191,
   "id": "eb81b4e2-de4d-4bde-87fa-ea911c103328",
   "metadata": {},
   "outputs": [
    {
     "data": {
      "text/plain": [
       "0       0.0\n",
       "2       4.0\n",
       "4       2.0\n",
       "6       0.0\n",
       "15      4.0\n",
       "       ... \n",
       "3548    4.0\n",
       "3572    5.0\n",
       "3575    4.0\n",
       "3592    5.0\n",
       "3599    4.0\n",
       "Name: crop_varieties, Length: 320, dtype: float64"
      ]
     },
     "execution_count": 191,
     "metadata": {},
     "output_type": "execute_result"
    }
   ],
   "source": [
    "above[above['Household_Head_Gender']=='Female Headed']['crop_varieties']"
   ]
  },
  {
   "cell_type": "code",
   "execution_count": 197,
   "id": "230ecbea-3105-4551-8e09-8ae620c423ab",
   "metadata": {},
   "outputs": [
    {
     "data": {
      "text/plain": [
       "F_onewayResult(statistic=41.36602408685717, pvalue=1.9007670089797172e-10)"
      ]
     },
     "execution_count": 197,
     "metadata": {},
     "output_type": "execute_result"
    }
   ],
   "source": [
    "f_oneway(above[above['Household_Head_Gender']=='Female Headed']['crop_varieties'], below[below['Household_Head_Gender']=='Female Headed']['crop_varieties'])"
   ]
  },
  {
   "cell_type": "code",
   "execution_count": 198,
   "id": "c01387e0-29ce-4f0a-93a2-5891f24e24e0",
   "metadata": {},
   "outputs": [
    {
     "data": {
      "text/plain": [
       "F_onewayResult(statistic=85.01994223309367, pvalue=6.233420366863097e-20)"
      ]
     },
     "execution_count": 198,
     "metadata": {},
     "output_type": "execute_result"
    }
   ],
   "source": [
    "f_oneway(above[above['Household_Head_Gender']=='Male Headed']['crop_varieties'], below[below['Household_Head_Gender']=='Male Headed']['crop_varieties'])"
   ]
  },
  {
   "cell_type": "code",
   "execution_count": 199,
   "id": "fee8c0a7-bca5-438d-b8d0-845fd9fbc65f",
   "metadata": {},
   "outputs": [
    {
     "data": {
      "text/plain": [
       "F_onewayResult(statistic=17.19548694352767, pvalue=4.1142538030026707e-05)"
      ]
     },
     "execution_count": 199,
     "metadata": {},
     "output_type": "execute_result"
    }
   ],
   "source": [
    "f_oneway(above[above['Household_Head_Gender']=='Youth Headed']['crop_varieties'], below[below['Household_Head_Gender']=='Youth Headed']['crop_varieties'])"
   ]
  },
  {
   "cell_type": "code",
   "execution_count": null,
   "id": "6b6393d3-474e-4555-9814-2d05a28cc552",
   "metadata": {},
   "outputs": [],
   "source": []
  },
  {
   "cell_type": "code",
   "execution_count": null,
   "id": "37425a0a-5646-49bb-8e97-6a2e852e199c",
   "metadata": {},
   "outputs": [],
   "source": []
  },
  {
   "cell_type": "code",
   "execution_count": 201,
   "id": "0f48a17c-c260-4aa0-89b3-44dffa823d5a",
   "metadata": {},
   "outputs": [
    {
     "data": {
      "text/plain": [
       "F_onewayResult(statistic=41.36602408685717, pvalue=1.9007670089797172e-10)"
      ]
     },
     "execution_count": 201,
     "metadata": {},
     "output_type": "execute_result"
    }
   ],
   "source": [
    "perform_anova_for_gender_and_variable('Female Headed','crop_varieties')"
   ]
  },
  {
   "cell_type": "code",
   "execution_count": null,
   "id": "bb492034-7171-4aab-b8fc-51f295700878",
   "metadata": {},
   "outputs": [],
   "source": []
  },
  {
   "cell_type": "code",
   "execution_count": null,
   "id": "394c145a-14d8-49df-a57a-0ad22a1e4e90",
   "metadata": {},
   "outputs": [],
   "source": []
  },
  {
   "cell_type": "code",
   "execution_count": 61,
   "id": "58d7d51b-cec1-42c0-b635-b7849c76401d",
   "metadata": {},
   "outputs": [
    {
     "data": {
      "text/html": [
       "<div>\n",
       "<style scoped>\n",
       "    .dataframe tbody tr th:only-of-type {\n",
       "        vertical-align: middle;\n",
       "    }\n",
       "\n",
       "    .dataframe tbody tr th {\n",
       "        vertical-align: top;\n",
       "    }\n",
       "\n",
       "    .dataframe thead th {\n",
       "        text-align: right;\n",
       "    }\n",
       "</style>\n",
       "<table border=\"1\" class=\"dataframe\">\n",
       "  <thead>\n",
       "    <tr style=\"text-align: right;\">\n",
       "      <th></th>\n",
       "      <th>Formal Employment (USD)</th>\n",
       "      <th>Personal Business &amp; Self Employment (USD)</th>\n",
       "      <th>Casual Labour (USD)</th>\n",
       "      <th>Remittances &amp; Gifts (USD)</th>\n",
       "      <th>Rent Income (Property &amp; Land) USD</th>\n",
       "      <th>Seasonal Crops Income (USD)</th>\n",
       "      <th>Perenial Crops Income (USD)</th>\n",
       "      <th>Livestock Income (USD)</th>\n",
       "    </tr>\n",
       "  </thead>\n",
       "  <tbody>\n",
       "    <tr>\n",
       "      <th>0</th>\n",
       "      <td>0.000000</td>\n",
       "      <td>0.000000</td>\n",
       "      <td>54.054054</td>\n",
       "      <td>40.540541</td>\n",
       "      <td>0.0</td>\n",
       "      <td>55.405405</td>\n",
       "      <td>37.837838</td>\n",
       "      <td>0.000000</td>\n",
       "    </tr>\n",
       "    <tr>\n",
       "      <th>1</th>\n",
       "      <td>0.000000</td>\n",
       "      <td>0.000000</td>\n",
       "      <td>0.000000</td>\n",
       "      <td>8.108108</td>\n",
       "      <td>0.0</td>\n",
       "      <td>15.945946</td>\n",
       "      <td>124.324324</td>\n",
       "      <td>0.000000</td>\n",
       "    </tr>\n",
       "    <tr>\n",
       "      <th>2</th>\n",
       "      <td>0.000000</td>\n",
       "      <td>0.000000</td>\n",
       "      <td>110.270270</td>\n",
       "      <td>32.432432</td>\n",
       "      <td>0.0</td>\n",
       "      <td>77.567568</td>\n",
       "      <td>17.837838</td>\n",
       "      <td>0.000000</td>\n",
       "    </tr>\n",
       "    <tr>\n",
       "      <th>3</th>\n",
       "      <td>0.000000</td>\n",
       "      <td>5.405405</td>\n",
       "      <td>0.000000</td>\n",
       "      <td>0.000000</td>\n",
       "      <td>0.0</td>\n",
       "      <td>152.702703</td>\n",
       "      <td>33.513514</td>\n",
       "      <td>0.000000</td>\n",
       "    </tr>\n",
       "    <tr>\n",
       "      <th>4</th>\n",
       "      <td>0.000000</td>\n",
       "      <td>0.000000</td>\n",
       "      <td>0.000000</td>\n",
       "      <td>148.648649</td>\n",
       "      <td>0.0</td>\n",
       "      <td>28.108108</td>\n",
       "      <td>0.000000</td>\n",
       "      <td>0.000000</td>\n",
       "    </tr>\n",
       "    <tr>\n",
       "      <th>...</th>\n",
       "      <td>...</td>\n",
       "      <td>...</td>\n",
       "      <td>...</td>\n",
       "      <td>...</td>\n",
       "      <td>...</td>\n",
       "      <td>...</td>\n",
       "      <td>...</td>\n",
       "      <td>...</td>\n",
       "    </tr>\n",
       "    <tr>\n",
       "      <th>3892</th>\n",
       "      <td>1581.081081</td>\n",
       "      <td>0.000000</td>\n",
       "      <td>0.000000</td>\n",
       "      <td>16.216216</td>\n",
       "      <td>0.0</td>\n",
       "      <td>491.891892</td>\n",
       "      <td>0.000000</td>\n",
       "      <td>0.000000</td>\n",
       "    </tr>\n",
       "    <tr>\n",
       "      <th>3893</th>\n",
       "      <td>0.000000</td>\n",
       "      <td>367.567568</td>\n",
       "      <td>0.000000</td>\n",
       "      <td>40.540541</td>\n",
       "      <td>0.0</td>\n",
       "      <td>1259.459459</td>\n",
       "      <td>6.486486</td>\n",
       "      <td>0.000000</td>\n",
       "    </tr>\n",
       "    <tr>\n",
       "      <th>3894</th>\n",
       "      <td>0.000000</td>\n",
       "      <td>297.297297</td>\n",
       "      <td>0.000000</td>\n",
       "      <td>108.108108</td>\n",
       "      <td>0.0</td>\n",
       "      <td>656.486486</td>\n",
       "      <td>106.756757</td>\n",
       "      <td>0.000000</td>\n",
       "    </tr>\n",
       "    <tr>\n",
       "      <th>3895</th>\n",
       "      <td>0.000000</td>\n",
       "      <td>0.000000</td>\n",
       "      <td>0.000000</td>\n",
       "      <td>0.000000</td>\n",
       "      <td>0.0</td>\n",
       "      <td>707.837838</td>\n",
       "      <td>0.000000</td>\n",
       "      <td>297.297297</td>\n",
       "    </tr>\n",
       "    <tr>\n",
       "      <th>3896</th>\n",
       "      <td>0.000000</td>\n",
       "      <td>0.000000</td>\n",
       "      <td>0.000000</td>\n",
       "      <td>54.054054</td>\n",
       "      <td>0.0</td>\n",
       "      <td>536.081081</td>\n",
       "      <td>97.513514</td>\n",
       "      <td>60.810811</td>\n",
       "    </tr>\n",
       "  </tbody>\n",
       "</table>\n",
       "<p>3897 rows × 8 columns</p>\n",
       "</div>"
      ],
      "text/plain": [
       "      Formal Employment (USD)  Personal Business & Self Employment (USD)  \\\n",
       "0                    0.000000                                   0.000000   \n",
       "1                    0.000000                                   0.000000   \n",
       "2                    0.000000                                   0.000000   \n",
       "3                    0.000000                                   5.405405   \n",
       "4                    0.000000                                   0.000000   \n",
       "...                       ...                                        ...   \n",
       "3892              1581.081081                                   0.000000   \n",
       "3893                 0.000000                                 367.567568   \n",
       "3894                 0.000000                                 297.297297   \n",
       "3895                 0.000000                                   0.000000   \n",
       "3896                 0.000000                                   0.000000   \n",
       "\n",
       "      Casual Labour (USD)  Remittances & Gifts (USD)  \\\n",
       "0               54.054054                  40.540541   \n",
       "1                0.000000                   8.108108   \n",
       "2              110.270270                  32.432432   \n",
       "3                0.000000                   0.000000   \n",
       "4                0.000000                 148.648649   \n",
       "...                   ...                        ...   \n",
       "3892             0.000000                  16.216216   \n",
       "3893             0.000000                  40.540541   \n",
       "3894             0.000000                 108.108108   \n",
       "3895             0.000000                   0.000000   \n",
       "3896             0.000000                  54.054054   \n",
       "\n",
       "      Rent Income (Property & Land) USD  Seasonal Crops Income (USD)  \\\n",
       "0                                   0.0                    55.405405   \n",
       "1                                   0.0                    15.945946   \n",
       "2                                   0.0                    77.567568   \n",
       "3                                   0.0                   152.702703   \n",
       "4                                   0.0                    28.108108   \n",
       "...                                 ...                          ...   \n",
       "3892                                0.0                   491.891892   \n",
       "3893                                0.0                  1259.459459   \n",
       "3894                                0.0                   656.486486   \n",
       "3895                                0.0                   707.837838   \n",
       "3896                                0.0                   536.081081   \n",
       "\n",
       "      Perenial Crops Income (USD)  Livestock Income (USD)  \n",
       "0                       37.837838                0.000000  \n",
       "1                      124.324324                0.000000  \n",
       "2                       17.837838                0.000000  \n",
       "3                       33.513514                0.000000  \n",
       "4                        0.000000                0.000000  \n",
       "...                           ...                     ...  \n",
       "3892                     0.000000                0.000000  \n",
       "3893                     6.486486                0.000000  \n",
       "3894                   106.756757                0.000000  \n",
       "3895                     0.000000              297.297297  \n",
       "3896                    97.513514               60.810811  \n",
       "\n",
       "[3897 rows x 8 columns]"
      ]
     },
     "execution_count": 61,
     "metadata": {},
     "output_type": "execute_result"
    }
   ],
   "source": [
    "df[['Formal Employment (USD)','Personal Business & Self Employment (USD)','Casual Labour (USD)','Remittances & Gifts (USD)','Rent Income (Property & Land) USD','Seasonal Crops Income (USD)','Perenial Crops Income (USD)','Livestock Income (USD)']]"
   ]
  },
  {
   "cell_type": "code",
   "execution_count": 62,
   "id": "9d2d6a85-1046-4e77-9005-f6dcb7b19f5a",
   "metadata": {},
   "outputs": [],
   "source": [
    "specified_columns = ['Formal Employment (USD)','Personal Business & Self Employment (USD)','Casual Labour (USD)',\n",
    "                     'Remittances & Gifts (USD)','Rent Income (Property & Land) USD','Seasonal Crops Income (USD)',\n",
    "                     'Perenial Crops Income (USD)','Livestock Income (USD)']"
   ]
  },
  {
   "cell_type": "code",
   "execution_count": 63,
   "id": "48f940a2-9c3a-4e6c-8e5f-415d5606898f",
   "metadata": {},
   "outputs": [
    {
     "data": {
      "text/plain": [
       "8"
      ]
     },
     "execution_count": 63,
     "metadata": {},
     "output_type": "execute_result"
    }
   ],
   "source": [
    "len(specified_columns)"
   ]
  },
  {
   "cell_type": "code",
   "execution_count": 64,
   "id": "f15387bf-5bec-4049-95fc-e6d6df58e2df",
   "metadata": {},
   "outputs": [
    {
     "data": {
      "text/html": [
       "<div>\n",
       "<style scoped>\n",
       "    .dataframe tbody tr th:only-of-type {\n",
       "        vertical-align: middle;\n",
       "    }\n",
       "\n",
       "    .dataframe tbody tr th {\n",
       "        vertical-align: top;\n",
       "    }\n",
       "\n",
       "    .dataframe thead th {\n",
       "        text-align: right;\n",
       "    }\n",
       "</style>\n",
       "<table border=\"1\" class=\"dataframe\">\n",
       "  <thead>\n",
       "    <tr style=\"text-align: right;\">\n",
       "      <th></th>\n",
       "      <th>Formal Employment (USD)</th>\n",
       "      <th>Personal Business &amp; Self Employment (USD)</th>\n",
       "      <th>Casual Labour (USD)</th>\n",
       "      <th>Remittances &amp; Gifts (USD)</th>\n",
       "      <th>Rent Income (Property &amp; Land) USD</th>\n",
       "      <th>Seasonal Crops Income (USD)</th>\n",
       "      <th>Perenial Crops Income (USD)</th>\n",
       "      <th>Livestock Income (USD)</th>\n",
       "    </tr>\n",
       "  </thead>\n",
       "  <tbody>\n",
       "    <tr>\n",
       "      <th>0</th>\n",
       "      <td>0</td>\n",
       "      <td>0</td>\n",
       "      <td>1</td>\n",
       "      <td>1</td>\n",
       "      <td>0</td>\n",
       "      <td>1</td>\n",
       "      <td>1</td>\n",
       "      <td>0</td>\n",
       "    </tr>\n",
       "    <tr>\n",
       "      <th>1</th>\n",
       "      <td>0</td>\n",
       "      <td>0</td>\n",
       "      <td>0</td>\n",
       "      <td>1</td>\n",
       "      <td>0</td>\n",
       "      <td>1</td>\n",
       "      <td>1</td>\n",
       "      <td>0</td>\n",
       "    </tr>\n",
       "    <tr>\n",
       "      <th>2</th>\n",
       "      <td>0</td>\n",
       "      <td>0</td>\n",
       "      <td>1</td>\n",
       "      <td>1</td>\n",
       "      <td>0</td>\n",
       "      <td>1</td>\n",
       "      <td>1</td>\n",
       "      <td>0</td>\n",
       "    </tr>\n",
       "    <tr>\n",
       "      <th>3</th>\n",
       "      <td>0</td>\n",
       "      <td>1</td>\n",
       "      <td>0</td>\n",
       "      <td>0</td>\n",
       "      <td>0</td>\n",
       "      <td>1</td>\n",
       "      <td>1</td>\n",
       "      <td>0</td>\n",
       "    </tr>\n",
       "    <tr>\n",
       "      <th>4</th>\n",
       "      <td>0</td>\n",
       "      <td>0</td>\n",
       "      <td>0</td>\n",
       "      <td>1</td>\n",
       "      <td>0</td>\n",
       "      <td>1</td>\n",
       "      <td>0</td>\n",
       "      <td>0</td>\n",
       "    </tr>\n",
       "    <tr>\n",
       "      <th>...</th>\n",
       "      <td>...</td>\n",
       "      <td>...</td>\n",
       "      <td>...</td>\n",
       "      <td>...</td>\n",
       "      <td>...</td>\n",
       "      <td>...</td>\n",
       "      <td>...</td>\n",
       "      <td>...</td>\n",
       "    </tr>\n",
       "    <tr>\n",
       "      <th>3892</th>\n",
       "      <td>1</td>\n",
       "      <td>0</td>\n",
       "      <td>0</td>\n",
       "      <td>1</td>\n",
       "      <td>0</td>\n",
       "      <td>1</td>\n",
       "      <td>0</td>\n",
       "      <td>0</td>\n",
       "    </tr>\n",
       "    <tr>\n",
       "      <th>3893</th>\n",
       "      <td>0</td>\n",
       "      <td>1</td>\n",
       "      <td>0</td>\n",
       "      <td>1</td>\n",
       "      <td>0</td>\n",
       "      <td>1</td>\n",
       "      <td>1</td>\n",
       "      <td>0</td>\n",
       "    </tr>\n",
       "    <tr>\n",
       "      <th>3894</th>\n",
       "      <td>0</td>\n",
       "      <td>1</td>\n",
       "      <td>0</td>\n",
       "      <td>1</td>\n",
       "      <td>0</td>\n",
       "      <td>1</td>\n",
       "      <td>1</td>\n",
       "      <td>0</td>\n",
       "    </tr>\n",
       "    <tr>\n",
       "      <th>3895</th>\n",
       "      <td>0</td>\n",
       "      <td>0</td>\n",
       "      <td>0</td>\n",
       "      <td>0</td>\n",
       "      <td>0</td>\n",
       "      <td>1</td>\n",
       "      <td>0</td>\n",
       "      <td>1</td>\n",
       "    </tr>\n",
       "    <tr>\n",
       "      <th>3896</th>\n",
       "      <td>0</td>\n",
       "      <td>0</td>\n",
       "      <td>0</td>\n",
       "      <td>1</td>\n",
       "      <td>0</td>\n",
       "      <td>1</td>\n",
       "      <td>1</td>\n",
       "      <td>1</td>\n",
       "    </tr>\n",
       "  </tbody>\n",
       "</table>\n",
       "<p>3897 rows × 8 columns</p>\n",
       "</div>"
      ],
      "text/plain": [
       "      Formal Employment (USD)  Personal Business & Self Employment (USD)  \\\n",
       "0                           0                                          0   \n",
       "1                           0                                          0   \n",
       "2                           0                                          0   \n",
       "3                           0                                          1   \n",
       "4                           0                                          0   \n",
       "...                       ...                                        ...   \n",
       "3892                        1                                          0   \n",
       "3893                        0                                          1   \n",
       "3894                        0                                          1   \n",
       "3895                        0                                          0   \n",
       "3896                        0                                          0   \n",
       "\n",
       "      Casual Labour (USD)  Remittances & Gifts (USD)  \\\n",
       "0                       1                          1   \n",
       "1                       0                          1   \n",
       "2                       1                          1   \n",
       "3                       0                          0   \n",
       "4                       0                          1   \n",
       "...                   ...                        ...   \n",
       "3892                    0                          1   \n",
       "3893                    0                          1   \n",
       "3894                    0                          1   \n",
       "3895                    0                          0   \n",
       "3896                    0                          1   \n",
       "\n",
       "      Rent Income (Property & Land) USD  Seasonal Crops Income (USD)  \\\n",
       "0                                     0                            1   \n",
       "1                                     0                            1   \n",
       "2                                     0                            1   \n",
       "3                                     0                            1   \n",
       "4                                     0                            1   \n",
       "...                                 ...                          ...   \n",
       "3892                                  0                            1   \n",
       "3893                                  0                            1   \n",
       "3894                                  0                            1   \n",
       "3895                                  0                            1   \n",
       "3896                                  0                            1   \n",
       "\n",
       "      Perenial Crops Income (USD)  Livestock Income (USD)  \n",
       "0                               1                       0  \n",
       "1                               1                       0  \n",
       "2                               1                       0  \n",
       "3                               1                       0  \n",
       "4                               0                       0  \n",
       "...                           ...                     ...  \n",
       "3892                            0                       0  \n",
       "3893                            1                       0  \n",
       "3894                            1                       0  \n",
       "3895                            0                       1  \n",
       "3896                            1                       1  \n",
       "\n",
       "[3897 rows x 8 columns]"
      ]
     },
     "execution_count": 64,
     "metadata": {},
     "output_type": "execute_result"
    }
   ],
   "source": [
    "binary_df = (df[specified_columns] != 0).astype(int)\n",
    "binary_df"
   ]
  },
  {
   "cell_type": "code",
   "execution_count": 65,
   "id": "49a83736-e0c3-4e96-b5d9-d4e52ef3bccb",
   "metadata": {},
   "outputs": [],
   "source": [
    "binary_df = (df[specified_columns] != 0).astype(int)"
   ]
  },
  {
   "cell_type": "code",
   "execution_count": 66,
   "id": "2586f38a-fc11-4a8f-9414-26a31f98f879",
   "metadata": {},
   "outputs": [
    {
     "name": "stderr",
     "output_type": "stream",
     "text": [
      "/var/folders/xd/0btgr76j2zxc4__ynw0yhwbm0000gn/T/ipykernel_61592/1304738042.py:1: SettingWithCopyWarning: \n",
      "A value is trying to be set on a copy of a slice from a DataFrame.\n",
      "Try using .loc[row_indexer,col_indexer] = value instead\n",
      "\n",
      "See the caveats in the documentation: https://pandas.pydata.org/pandas-docs/stable/user_guide/indexing.html#returning-a-view-versus-a-copy\n",
      "  df['Income Sources Count'] = binary_df.sum(axis=1)\n"
     ]
    }
   ],
   "source": [
    "df['Income Sources Count'] = binary_df.sum(axis=1)"
   ]
  },
  {
   "cell_type": "code",
   "execution_count": 67,
   "id": "7a98abae-3ab6-4751-aa5b-2571c73bdb27",
   "metadata": {},
   "outputs": [
    {
     "data": {
      "text/plain": [
       "above2\n",
       "above 2.15    3.917323\n",
       "below 2.15    3.434046\n",
       "Name: Income Sources Count, dtype: float64"
      ]
     },
     "execution_count": 67,
     "metadata": {},
     "output_type": "execute_result"
    }
   ],
   "source": [
    "df.groupby('above2')['Income Sources Count'].mean()"
   ]
  },
  {
   "cell_type": "code",
   "execution_count": 277,
   "id": "758697ef-dd8d-44c7-87b4-74239e0ba6eb",
   "metadata": {},
   "outputs": [
    {
     "data": {
      "text/plain": [
       "above2      Quartile\n",
       "above 2.15  Group 1     3.842254\n",
       "            Group 2     4.079032\n",
       "            Group 3     3.847181\n",
       "            Group 4     3.886857\n",
       "below 2.15  Group 1     3.444444\n",
       "            Group 2     3.417085\n",
       "            Group 3     3.326087\n",
       "            Group 4     3.528474\n",
       "Name: Income Sources Count, dtype: float64"
      ]
     },
     "execution_count": 277,
     "metadata": {},
     "output_type": "execute_result"
    }
   ],
   "source": [
    "df.groupby(['above2','Quartile'])['Income Sources Count'].mean()"
   ]
  },
  {
   "cell_type": "code",
   "execution_count": 70,
   "id": "b94956fd-e44a-4062-b3f2-5812c548ae7f",
   "metadata": {},
   "outputs": [
    {
     "data": {
      "text/plain": [
       "F_onewayResult(statistic=180.24383552824804, pvalue=3.315715050277337e-40)"
      ]
     },
     "execution_count": 70,
     "metadata": {},
     "output_type": "execute_result"
    }
   ],
   "source": [
    "f_oneway(above['Income Sources Count'], below['Income Sources Count'])"
   ]
  },
  {
   "cell_type": "code",
   "execution_count": 347,
   "id": "4f5f2887-6c40-453a-b65f-7b221f96d364",
   "metadata": {},
   "outputs": [
    {
     "data": {
      "text/plain": [
       "F_onewayResult(statistic=53.46557756686473, pvalue=5.407330980570627e-13)"
      ]
     },
     "execution_count": 347,
     "metadata": {},
     "output_type": "execute_result"
    }
   ],
   "source": [
    "f_oneway(group3_below['Income Sources Count'].dropna(), group3_above['Income Sources Count'].dropna())"
   ]
  },
  {
   "cell_type": "code",
   "execution_count": 348,
   "id": "641f7639-e259-48b7-8397-0f192c742d0c",
   "metadata": {},
   "outputs": [
    {
     "data": {
      "text/plain": [
       "F_onewayResult(statistic=38.93587216376735, pvalue=5.898509040777658e-10)"
      ]
     },
     "execution_count": 348,
     "metadata": {},
     "output_type": "execute_result"
    }
   ],
   "source": [
    "f_oneway(group4_below['Income Sources Count'].dropna(), group4_above['Income Sources Count'].dropna())"
   ]
  },
  {
   "cell_type": "code",
   "execution_count": 239,
   "id": "c9d29ea0-5463-41ba-bb1d-a9da2b493c61",
   "metadata": {},
   "outputs": [
    {
     "data": {
      "text/plain": [
       "F_onewayResult(statistic=40.7198134269943, pvalue=2.6133774675598195e-10)"
      ]
     },
     "execution_count": 239,
     "metadata": {},
     "output_type": "execute_result"
    }
   ],
   "source": [
    "perform_anova_for_gender_and_variable('Female Headed','Income Sources Count')"
   ]
  },
  {
   "cell_type": "code",
   "execution_count": 243,
   "id": "eac0e510-dabe-4e34-b5f1-d19db9e9347f",
   "metadata": {},
   "outputs": [
    {
     "data": {
      "text/plain": [
       "F_onewayResult(statistic=126.45839944311503, pvalue=1.2357764648493388e-28)"
      ]
     },
     "execution_count": 243,
     "metadata": {},
     "output_type": "execute_result"
    }
   ],
   "source": [
    "perform_anova_for_gender_and_variable('Male Headed','Income Sources Count')"
   ]
  },
  {
   "cell_type": "code",
   "execution_count": 241,
   "id": "c26037d3-c2e0-4f2a-9d9f-a9352c36110e",
   "metadata": {},
   "outputs": [
    {
     "data": {
      "text/plain": [
       "F_onewayResult(statistic=16.948810976988106, pvalue=4.6601460479493556e-05)"
      ]
     },
     "execution_count": 241,
     "metadata": {},
     "output_type": "execute_result"
    }
   ],
   "source": [
    "perform_anova_for_gender_and_variable('Youth Headed','Income Sources Count')"
   ]
  },
  {
   "cell_type": "code",
   "execution_count": 71,
   "id": "35c0a442-61ee-4be9-a9b8-4620ad241aae",
   "metadata": {},
   "outputs": [
    {
     "data": {
      "text/html": [
       "<div>\n",
       "<style scoped>\n",
       "    .dataframe tbody tr th:only-of-type {\n",
       "        vertical-align: middle;\n",
       "    }\n",
       "\n",
       "    .dataframe tbody tr th {\n",
       "        vertical-align: top;\n",
       "    }\n",
       "\n",
       "    .dataframe thead th {\n",
       "        text-align: right;\n",
       "    }\n",
       "</style>\n",
       "<table border=\"1\" class=\"dataframe\">\n",
       "  <thead>\n",
       "    <tr style=\"text-align: right;\">\n",
       "      <th>above2</th>\n",
       "      <th>above 2.15</th>\n",
       "      <th>below 2.15</th>\n",
       "    </tr>\n",
       "    <tr>\n",
       "      <th>Household_Head_Gender</th>\n",
       "      <th></th>\n",
       "      <th></th>\n",
       "    </tr>\n",
       "  </thead>\n",
       "  <tbody>\n",
       "    <tr>\n",
       "      <th>Female Headed</th>\n",
       "      <td>3.870667</td>\n",
       "      <td>3.409375</td>\n",
       "    </tr>\n",
       "    <tr>\n",
       "      <th>Male Headed</th>\n",
       "      <td>3.959868</td>\n",
       "      <td>3.454545</td>\n",
       "    </tr>\n",
       "    <tr>\n",
       "      <th>Youth Headed</th>\n",
       "      <td>3.807407</td>\n",
       "      <td>3.355556</td>\n",
       "    </tr>\n",
       "  </tbody>\n",
       "</table>\n",
       "</div>"
      ],
      "text/plain": [
       "above2                 above 2.15  below 2.15\n",
       "Household_Head_Gender                        \n",
       "Female Headed            3.870667    3.409375\n",
       "Male Headed              3.959868    3.454545\n",
       "Youth Headed             3.807407    3.355556"
      ]
     },
     "execution_count": 71,
     "metadata": {},
     "output_type": "execute_result"
    }
   ],
   "source": [
    "df.groupby(['Household_Head_Gender','above2'])['Income Sources Count'].mean().unstack()"
   ]
  },
  {
   "cell_type": "code",
   "execution_count": null,
   "id": "4e44bbe6-b7a3-44dd-bf16-af96efff7aef",
   "metadata": {},
   "outputs": [],
   "source": []
  },
  {
   "cell_type": "code",
   "execution_count": null,
   "id": "ecf3d7e4-3622-4dfa-afb7-db87eaa2d686",
   "metadata": {},
   "outputs": [],
   "source": []
  },
  {
   "cell_type": "code",
   "execution_count": 72,
   "id": "d6f0e77d-dab4-4c52-98c5-31ef612f68b0",
   "metadata": {},
   "outputs": [
    {
     "data": {
      "text/plain": [
       "1.9523239436619717"
      ]
     },
     "execution_count": 72,
     "metadata": {},
     "output_type": "execute_result"
    }
   ],
   "source": [
    "df['Size_land_owned'].mean()"
   ]
  },
  {
   "cell_type": "code",
   "execution_count": 73,
   "id": "a83cd08f-097f-47d1-bce6-50c2d7f668d6",
   "metadata": {},
   "outputs": [
    {
     "data": {
      "text/plain": [
       "above2\n",
       "above 2.15    2.050544\n",
       "below 2.15    1.767830\n",
       "Name: Size_land_owned, dtype: float64"
      ]
     },
     "execution_count": 73,
     "metadata": {},
     "output_type": "execute_result"
    }
   ],
   "source": [
    "df.groupby('above2')['Size_land_owned'].mean()"
   ]
  },
  {
   "cell_type": "code",
   "execution_count": 278,
   "id": "b23bc77b-8f32-4f13-bbf3-14ecb9fb35c8",
   "metadata": {},
   "outputs": [
    {
     "data": {
      "text/plain": [
       "above2      Quartile\n",
       "above 2.15  Group 1     1.902834\n",
       "            Group 2     1.952780\n",
       "            Group 3     2.158547\n",
       "            Group 4     2.096466\n",
       "below 2.15  Group 1     1.534722\n",
       "            Group 2     1.688648\n",
       "            Group 3     1.991483\n",
       "            Group 4     1.781682\n",
       "Name: Size_land_owned, dtype: float64"
      ]
     },
     "execution_count": 278,
     "metadata": {},
     "output_type": "execute_result"
    }
   ],
   "source": [
    "df.groupby(['above2','Quartile'])['Size_land_owned'].mean()"
   ]
  },
  {
   "cell_type": "code",
   "execution_count": 178,
   "id": "b155641d-bb63-43a4-ad46-0f5cdf3ce0bf",
   "metadata": {},
   "outputs": [
    {
     "data": {
      "text/plain": [
       "F_onewayResult(statistic=12.80158649963682, pvalue=0.00035061025687323504)"
      ]
     },
     "execution_count": 178,
     "metadata": {},
     "output_type": "execute_result"
    }
   ],
   "source": [
    "f_oneway(above['Size_land_owned'].dropna(), below['Size_land_owned'].dropna())"
   ]
  },
  {
   "cell_type": "code",
   "execution_count": 349,
   "id": "a3faaab9-72b6-4758-a567-8c1fc571b173",
   "metadata": {},
   "outputs": [
    {
     "data": {
      "text/plain": [
       "F_onewayResult(statistic=1.9350581871579773, pvalue=0.16452216797652086)"
      ]
     },
     "execution_count": 349,
     "metadata": {},
     "output_type": "execute_result"
    }
   ],
   "source": [
    "f_oneway(group3_below['Size_land_owned'].dropna(), group3_above['Size_land_owned'].dropna())"
   ]
  },
  {
   "cell_type": "code",
   "execution_count": 350,
   "id": "311f08ef-16bb-4de6-817d-33f0be6e8fb2",
   "metadata": {},
   "outputs": [
    {
     "data": {
      "text/plain": [
       "F_onewayResult(statistic=2.6215514323241256, pvalue=0.1056648135458782)"
      ]
     },
     "execution_count": 350,
     "metadata": {},
     "output_type": "execute_result"
    }
   ],
   "source": [
    "f_oneway(group4_below['Size_land_owned'].dropna(), group4_above['Size_land_owned'].dropna())"
   ]
  },
  {
   "cell_type": "code",
   "execution_count": 74,
   "id": "ef028b85-3d49-4d44-8aff-ba2528cca623",
   "metadata": {},
   "outputs": [
    {
     "data": {
      "text/plain": [
       "above2\n",
       "above 2.15    1.661611\n",
       "below 2.15    1.437143\n",
       "Name: Land_size_for_Crop_Agriculture_Acres, dtype: float64"
      ]
     },
     "execution_count": 74,
     "metadata": {},
     "output_type": "execute_result"
    }
   ],
   "source": [
    "df.groupby('above2')['Land_size_for_Crop_Agriculture_Acres'].mean()"
   ]
  },
  {
   "cell_type": "code",
   "execution_count": 351,
   "id": "4a097e1e-2aac-4f22-a673-d56752e22155",
   "metadata": {},
   "outputs": [
    {
     "data": {
      "text/plain": [
       "F_onewayResult(statistic=1.8614288861370705, pvalue=0.17277351342653433)"
      ]
     },
     "execution_count": 351,
     "metadata": {},
     "output_type": "execute_result"
    }
   ],
   "source": [
    "f_oneway(group3_below['Land_size_for_Crop_Agriculture_Acres'].dropna(), group3_above['Land_size_for_Crop_Agriculture_Acres'].dropna())"
   ]
  },
  {
   "cell_type": "code",
   "execution_count": 352,
   "id": "34e12deb-ce7b-4ed7-a94e-a0ac9fdd992f",
   "metadata": {},
   "outputs": [
    {
     "data": {
      "text/plain": [
       "F_onewayResult(statistic=2.197237131361648, pvalue=0.13850164258503445)"
      ]
     },
     "execution_count": 352,
     "metadata": {},
     "output_type": "execute_result"
    }
   ],
   "source": [
    "f_oneway(group4_below['Land_size_for_Crop_Agriculture_Acres'].dropna(), group4_above['Land_size_for_Crop_Agriculture_Acres'].dropna())"
   ]
  },
  {
   "cell_type": "code",
   "execution_count": 279,
   "id": "be9f36d7-58fa-4a07-af72-77a709941d1e",
   "metadata": {},
   "outputs": [
    {
     "data": {
      "text/plain": [
       "above2      Quartile\n",
       "above 2.15  Group 1     1.625363\n",
       "            Group 2     1.582642\n",
       "            Group 3     1.732794\n",
       "            Group 4     1.676043\n",
       "below 2.15  Group 1     1.268611\n",
       "            Group 2     1.384184\n",
       "            Group 3     1.610095\n",
       "            Group 4     1.433007\n",
       "Name: Land_size_for_Crop_Agriculture_Acres, dtype: float64"
      ]
     },
     "execution_count": 279,
     "metadata": {},
     "output_type": "execute_result"
    }
   ],
   "source": [
    "df.groupby(['above2','Quartile'])['Land_size_for_Crop_Agriculture_Acres'].mean()"
   ]
  },
  {
   "cell_type": "code",
   "execution_count": 75,
   "id": "225e576c-f33f-4738-b4c2-46c9d10b9a38",
   "metadata": {},
   "outputs": [
    {
     "data": {
      "text/plain": [
       "Household_Head_Gender  above2    \n",
       "Female Headed          above 2.15    1.474289\n",
       "                       below 2.15    1.288916\n",
       "Male Headed            above 2.15    1.855809\n",
       "                       below 2.15    1.556173\n",
       "Youth Headed           above 2.15    1.075954\n",
       "                       below 2.15    0.980682\n",
       "Name: Land_size_for_Crop_Agriculture_Acres, dtype: float64"
      ]
     },
     "execution_count": 75,
     "metadata": {},
     "output_type": "execute_result"
    }
   ],
   "source": [
    "df.groupby(['Household_Head_Gender','above2'])['Land_size_for_Crop_Agriculture_Acres'].mean()"
   ]
  },
  {
   "cell_type": "code",
   "execution_count": 230,
   "id": "9124ad29-3df2-432f-a19d-805099a42098",
   "metadata": {},
   "outputs": [
    {
     "data": {
      "text/plain": [
       "above2\n",
       "above 2.15    0.216929\n",
       "below 2.15    0.229919\n",
       "Name: borrowed_past_12_months, dtype: float64"
      ]
     },
     "execution_count": 230,
     "metadata": {},
     "output_type": "execute_result"
    }
   ],
   "source": [
    "df.groupby('above2')['borrowed_past_12_months'].mean()"
   ]
  },
  {
   "cell_type": "code",
   "execution_count": 280,
   "id": "bb40426e-c5c2-4a33-a9af-adc840627536",
   "metadata": {},
   "outputs": [
    {
     "data": {
      "text/plain": [
       "above2      Quartile\n",
       "above 2.15  Group 1     0.225352\n",
       "            Group 2     0.182258\n",
       "            Group 3     0.212166\n",
       "            Group 4     0.242286\n",
       "below 2.15  Group 1     0.280423\n",
       "            Group 2     0.188442\n",
       "            Group 3     0.220497\n",
       "            Group 4     0.252847\n",
       "Name: borrowed_past_12_months, dtype: float64"
      ]
     },
     "execution_count": 280,
     "metadata": {},
     "output_type": "execute_result"
    }
   ],
   "source": [
    "df.groupby(['above2','Quartile'])['borrowed_past_12_months'].mean()"
   ]
  },
  {
   "cell_type": "code",
   "execution_count": 236,
   "id": "a7d502c9-ae08-46fb-8cc2-161ded3100cd",
   "metadata": {},
   "outputs": [
    {
     "data": {
      "text/plain": [
       "above2\n",
       "above 2.15    2540\n",
       "below 2.15    1357\n",
       "Name: count, dtype: int64"
      ]
     },
     "execution_count": 236,
     "metadata": {},
     "output_type": "execute_result"
    }
   ],
   "source": [
    "df['above2'].value_counts()"
   ]
  },
  {
   "cell_type": "code",
   "execution_count": 235,
   "id": "84c44d23-49c1-4e77-8b50-57469a8c8b7b",
   "metadata": {},
   "outputs": [
    {
     "data": {
      "text/plain": [
       "borrowed_past_12_months\n",
       "0    3034\n",
       "1     863\n",
       "Name: count, dtype: int64"
      ]
     },
     "execution_count": 235,
     "metadata": {},
     "output_type": "execute_result"
    }
   ],
   "source": [
    "df['borrowed_past_12_months'].value_counts()"
   ]
  },
  {
   "cell_type": "code",
   "execution_count": 233,
   "id": "fd8fac11-c68f-4a60-8c74-c9ddb008bf1f",
   "metadata": {},
   "outputs": [
    {
     "data": {
      "text/plain": [
       "borrowed_past_12_months  above2    \n",
       "0                        above 2.15    0.65557\n",
       "                         below 2.15    0.34443\n",
       "1                        above 2.15    0.63847\n",
       "                         below 2.15    0.36153\n",
       "Name: proportion, dtype: float64"
      ]
     },
     "execution_count": 233,
     "metadata": {},
     "output_type": "execute_result"
    }
   ],
   "source": [
    "df.groupby('borrowed_past_12_months')['above2'].value_counts(normalize=True)"
   ]
  },
  {
   "cell_type": "code",
   "execution_count": null,
   "id": "6be84407-7686-477d-a169-08a941141b83",
   "metadata": {},
   "outputs": [],
   "source": []
  },
  {
   "cell_type": "code",
   "execution_count": 210,
   "id": "d7a71ed2-5d41-4edf-b600-42c091a52b3d",
   "metadata": {},
   "outputs": [
    {
     "data": {
      "text/plain": [
       "Chi2ContingencyResult(statistic=0.7919086219904177, pvalue=0.37352362341502865, dof=1, expected_freq=array([[1977.51090582, 1056.48909418],\n",
       "       [ 562.48909418,  300.51090582]]))"
      ]
     },
     "execution_count": 210,
     "metadata": {},
     "output_type": "execute_result"
    }
   ],
   "source": [
    "chi2_contingency(pd.crosstab(df[\"borrowed_past_12_months\"], df[\"above2\"]))"
   ]
  },
  {
   "cell_type": "code",
   "execution_count": 354,
   "id": "7262a82f-bd5b-4df8-aff7-aa3f39a4a259",
   "metadata": {},
   "outputs": [
    {
     "data": {
      "text/plain": [
       "Chi2ContingencyResult(statistic=0.047061485878675105, pvalue=0.8282577586165807, dof=1, expected_freq=array([[529.18473896, 252.81526104],\n",
       "       [144.81526104,  69.18473896]]))"
      ]
     },
     "execution_count": 354,
     "metadata": {},
     "output_type": "execute_result"
    }
   ],
   "source": [
    "chi2_contingency(pd.crosstab(group3[\"borrowed_past_12_months\"], group3[\"above2\"]))"
   ]
  },
  {
   "cell_type": "code",
   "execution_count": 355,
   "id": "ed977031-95ee-4062-b8de-d220ab657020",
   "metadata": {},
   "outputs": [
    {
     "data": {
      "text/plain": [
       "Chi2ContingencyResult(statistic=0.123539104583103, pvalue=0.7252272987776738, dof=1, expected_freq=array([[659.91248097, 331.08751903],\n",
       "       [215.08751903, 107.91248097]]))"
      ]
     },
     "execution_count": 355,
     "metadata": {},
     "output_type": "execute_result"
    }
   ],
   "source": [
    "chi2_contingency(pd.crosstab(group4[\"borrowed_past_12_months\"], group4[\"above2\"]))"
   ]
  },
  {
   "cell_type": "code",
   "execution_count": null,
   "id": "a969ec89-3616-47ef-b60b-9893f52f3a91",
   "metadata": {},
   "outputs": [],
   "source": []
  },
  {
   "cell_type": "code",
   "execution_count": 211,
   "id": "698b48f5-fb42-4319-a809-71319851c95f",
   "metadata": {},
   "outputs": [
    {
     "data": {
      "text/plain": [
       "Chi2ContingencyResult(statistic=1.2801054482996457, pvalue=0.2578794298881236, dof=1, expected_freq=array([[604.20560748, 257.79439252],\n",
       "       [145.79439252,  62.20560748]]))"
      ]
     },
     "execution_count": 211,
     "metadata": {},
     "output_type": "execute_result"
    }
   ],
   "source": [
    "chi2_contingency(pd.crosstab(female[\"borrowed_past_12_months\"], female[\"above2\"]))"
   ]
  },
  {
   "cell_type": "code",
   "execution_count": 212,
   "id": "1cd4b3ec-e01f-428a-8522-00a7edd1a784",
   "metadata": {},
   "outputs": [
    {
     "data": {
      "text/plain": [
       "Chi2ContingencyResult(statistic=1.548826212521396, pvalue=0.2133088073679547, dof=1, expected_freq=array([[1157.88604459,  687.11395541],\n",
       "       [ 362.11395541,  214.88604459]]))"
      ]
     },
     "execution_count": 212,
     "metadata": {},
     "output_type": "execute_result"
    }
   ],
   "source": [
    "chi2_contingency(pd.crosstab(joint[\"borrowed_past_12_months\"], joint[\"above2\"]))"
   ]
  },
  {
   "cell_type": "code",
   "execution_count": 213,
   "id": "96cdd2ac-b894-4431-b0e8-6f5a51e4b96d",
   "metadata": {},
   "outputs": [
    {
     "data": {
      "text/plain": [
       "Chi2ContingencyResult(statistic=0.4465860973888497, pvalue=0.5039606366243787, dof=1, expected_freq=array([[218., 109.],\n",
       "       [ 52.,  26.]]))"
      ]
     },
     "execution_count": 213,
     "metadata": {},
     "output_type": "execute_result"
    }
   ],
   "source": [
    "chi2_contingency(pd.crosstab(youth[\"borrowed_past_12_months\"], youth[\"above2\"]))"
   ]
  },
  {
   "cell_type": "code",
   "execution_count": null,
   "id": "a921fe8d-187e-4250-ad9d-a3cb22bbad7e",
   "metadata": {},
   "outputs": [],
   "source": []
  },
  {
   "cell_type": "code",
   "execution_count": null,
   "id": "3a9201fa-aff7-4119-bd6c-d9a69a25ccad",
   "metadata": {},
   "outputs": [],
   "source": []
  },
  {
   "cell_type": "code",
   "execution_count": 214,
   "id": "02ccf2c5-19d4-4061-9564-11f620bd0576",
   "metadata": {},
   "outputs": [
    {
     "data": {
      "text/plain": [
       "above2      Household_Head_Gender\n",
       "above 2.15  Female Headed            0.204000\n",
       "            Male Headed              0.229605\n",
       "            Youth Headed             0.181481\n",
       "below 2.15  Female Headed            0.171875\n",
       "            Male Headed              0.252772\n",
       "            Youth Headed             0.214815\n",
       "Name: borrowed_past_12_months, dtype: float64"
      ]
     },
     "execution_count": 214,
     "metadata": {},
     "output_type": "execute_result"
    }
   ],
   "source": [
    "df.groupby(['above2','Household_Head_Gender'])['borrowed_past_12_months'].mean()"
   ]
  },
  {
   "cell_type": "markdown",
   "id": "3624c1e8-4dc1-4a32-8272-2f7ff2bd09eb",
   "metadata": {},
   "source": [
    "Purpose for borrowing"
   ]
  },
  {
   "cell_type": "markdown",
   "id": "3c1878cd-c4ca-481c-b11c-dcec9b475924",
   "metadata": {},
   "source": [
    "1\tSchool Fees\n",
    "2\tHome construction\n",
    "3\tBusiness\n",
    "4\tAgriculture inputs\n",
    "5\tMedicine and Sickness\n",
    "6\tLivestock\n",
    "7\tBuying land\n",
    "8\tHousehold items\n",
    "9\tTo repay other debts\n",
    "97\tOthers"
   ]
  },
  {
   "cell_type": "code",
   "execution_count": 223,
   "id": "4bdf894a-9d9c-48f4-8a4d-fc82cb9339bd",
   "metadata": {},
   "outputs": [
    {
     "name": "stderr",
     "output_type": "stream",
     "text": [
      "/var/folders/xd/0btgr76j2zxc4__ynw0yhwbm0000gn/T/ipykernel_61592/3557922686.py:1: SettingWithCopyWarning: \n",
      "A value is trying to be set on a copy of a slice from a DataFrame.\n",
      "Try using .loc[row_indexer,col_indexer] = value instead\n",
      "\n",
      "See the caveats in the documentation: https://pandas.pydata.org/pandas-docs/stable/user_guide/indexing.html#returning-a-view-versus-a-copy\n",
      "  df['agric_borrowing'] =df['purpose_for_borrow'].apply(lambda x: 1 if x == 4.0 else 0)\n"
     ]
    }
   ],
   "source": [
    "df['agric_borrowing'] =df['purpose_for_borrow'].apply(lambda x: 1 if x == 4.0 else 0)"
   ]
  },
  {
   "cell_type": "code",
   "execution_count": 244,
   "id": "362c3739-e551-4b75-ba5f-7db645df4e0f",
   "metadata": {},
   "outputs": [
    {
     "data": {
      "text/plain": [
       "Chi2ContingencyResult(statistic=0.5153642217352256, pvalue=0.4728259003375668, dof=1, expected_freq=array([[2429.84860149, 1298.15139851],\n",
       "       [ 110.15139851,   58.84860149]]))"
      ]
     },
     "execution_count": 244,
     "metadata": {},
     "output_type": "execute_result"
    }
   ],
   "source": [
    "chi2_contingency(pd.crosstab(df[\"agric_borrowing\"], df[\"above2\"]))"
   ]
  },
  {
   "cell_type": "code",
   "execution_count": 226,
   "id": "4fde57c1-4454-441c-b4bf-c1cf0b437453",
   "metadata": {},
   "outputs": [
    {
     "data": {
      "text/plain": [
       "purpose_for_borrow\n",
       "1.0     0.298957\n",
       "4.0     0.195829\n",
       "6.0     0.164542\n",
       "3.0     0.120510\n",
       "5.0     0.047509\n",
       "8.0     0.046350\n",
       "2.0     0.046350\n",
       "7.0     0.039397\n",
       "9.0     0.023175\n",
       "97.0    0.017381\n",
       "Name: proportion, dtype: float64"
      ]
     },
     "execution_count": 226,
     "metadata": {},
     "output_type": "execute_result"
    }
   ],
   "source": [
    "df['purpose_for_borrow'].value_counts(normalize=True)"
   ]
  },
  {
   "cell_type": "code",
   "execution_count": 227,
   "id": "aba8a22e-b415-44ab-acf1-431af6d4c2bd",
   "metadata": {},
   "outputs": [
    {
     "data": {
      "text/plain": [
       "above2      agric_borrowing\n",
       "above 2.15  0                  0.954724\n",
       "            1                  0.045276\n",
       "below 2.15  0                  0.960206\n",
       "            1                  0.039794\n",
       "Name: proportion, dtype: float64"
      ]
     },
     "execution_count": 227,
     "metadata": {},
     "output_type": "execute_result"
    }
   ],
   "source": [
    "df.groupby('above2')['agric_borrowing'].value_counts(normalize=True)"
   ]
  },
  {
   "cell_type": "code",
   "execution_count": 215,
   "id": "7002290c-54c5-4cd9-9f56-e5e2c44f448f",
   "metadata": {},
   "outputs": [],
   "source": [
    "borrowed_agric = df[df['purpose_for_borrow'] == 4.0]"
   ]
  },
  {
   "cell_type": "code",
   "execution_count": 216,
   "id": "625f81f7-2cc1-45ae-b476-fdc74c15bb3e",
   "metadata": {},
   "outputs": [
    {
     "data": {
      "text/plain": [
       "above2\n",
       "above 2.15    0.680473\n",
       "below 2.15    0.319527\n",
       "Name: proportion, dtype: float64"
      ]
     },
     "execution_count": 216,
     "metadata": {},
     "output_type": "execute_result"
    }
   ],
   "source": [
    "borrowed_agric['above2'].value_counts(normalize=True)"
   ]
  },
  {
   "cell_type": "code",
   "execution_count": 217,
   "id": "01dd0205-45cf-4889-957c-75679c335d06",
   "metadata": {},
   "outputs": [
    {
     "data": {
      "text/plain": [
       "Chi2ContingencyResult(statistic=0.0, pvalue=1.0, dof=0, expected_freq=array([[115.,  54.]]))"
      ]
     },
     "execution_count": 217,
     "metadata": {},
     "output_type": "execute_result"
    }
   ],
   "source": [
    "chi2_contingency(pd.crosstab(borrowed_agric[\"borrowed_past_12_months\"], borrowed_agric[\"above2\"]))"
   ]
  },
  {
   "cell_type": "code",
   "execution_count": null,
   "id": "425470a6-43a4-4b38-89f1-4fb2aa63a191",
   "metadata": {},
   "outputs": [],
   "source": []
  },
  {
   "cell_type": "code",
   "execution_count": 81,
   "id": "8c1b2268-7c3c-4eff-8ca6-727d3c40a8de",
   "metadata": {},
   "outputs": [
    {
     "data": {
      "text/plain": [
       "Household_Head_Gender  above2    \n",
       "Female Headed          above 2.15    0.867925\n",
       "                       below 2.15    0.132075\n",
       "Male Headed            above 2.15    0.594059\n",
       "                       below 2.15    0.405941\n",
       "Youth Headed           above 2.15    0.600000\n",
       "                       below 2.15    0.400000\n",
       "Name: proportion, dtype: float64"
      ]
     },
     "execution_count": 81,
     "metadata": {},
     "output_type": "execute_result"
    }
   ],
   "source": [
    "borrowed_agric.groupby('Household_Head_Gender')['above2'].value_counts(normalize=True)"
   ]
  },
  {
   "cell_type": "code",
   "execution_count": 82,
   "id": "1fdc8364-5503-4998-80a4-03da7a662b1d",
   "metadata": {},
   "outputs": [
    {
     "data": {
      "text/plain": [
       "livestock_present_hh\n",
       "1    3050\n",
       "0     847\n",
       "Name: count, dtype: int64"
      ]
     },
     "execution_count": 82,
     "metadata": {},
     "output_type": "execute_result"
    }
   ],
   "source": [
    "df['livestock_present_hh'].value_counts()"
   ]
  },
  {
   "cell_type": "code",
   "execution_count": 356,
   "id": "46f3dd59-11d9-4e2a-b7cd-15073cc0cf98",
   "metadata": {},
   "outputs": [
    {
     "data": {
      "text/plain": [
       "Chi2ContingencyResult(statistic=0.4934907456495009, pvalue=0.4823742812498092, dof=1, expected_freq=array([[128.57429719,  61.42570281],\n",
       "       [545.42570281, 260.57429719]]))"
      ]
     },
     "execution_count": 356,
     "metadata": {},
     "output_type": "execute_result"
    }
   ],
   "source": [
    "chi2_contingency(pd.crosstab(group3[\"livestock_present_hh\"], group3[\"above2\"]))"
   ]
  },
  {
   "cell_type": "code",
   "execution_count": 357,
   "id": "de725c9f-c47d-43b7-a648-5f1afb566041",
   "metadata": {},
   "outputs": [
    {
     "data": {
      "text/plain": [
       "Chi2ContingencyResult(statistic=0.15421933577808716, pvalue=0.6945353846274672, dof=1, expected_freq=array([[220.41476408, 110.58523592],\n",
       "       [654.58523592, 328.41476408]]))"
      ]
     },
     "execution_count": 357,
     "metadata": {},
     "output_type": "execute_result"
    }
   ],
   "source": [
    "chi2_contingency(pd.crosstab(group4[\"livestock_present_hh\"], group4[\"above2\"]))"
   ]
  },
  {
   "cell_type": "code",
   "execution_count": null,
   "id": "a44f8b5e-36fe-4aa3-93c4-bdf22f9a99a5",
   "metadata": {},
   "outputs": [],
   "source": []
  },
  {
   "cell_type": "code",
   "execution_count": 282,
   "id": "9b60ae05-284d-4266-a6b3-443434877f8c",
   "metadata": {},
   "outputs": [
    {
     "data": {
      "text/plain": [
       "above2      Quartile\n",
       "above 2.15  Group 1     0.757746\n",
       "            Group 2     0.795161\n",
       "            Group 3     0.816024\n",
       "            Group 4     0.752000\n",
       "below 2.15  Group 1     0.820106\n",
       "            Group 2     0.814070\n",
       "            Group 3     0.795031\n",
       "            Group 4     0.740319\n",
       "Name: livestock_present_hh, dtype: float64"
      ]
     },
     "execution_count": 282,
     "metadata": {},
     "output_type": "execute_result"
    }
   ],
   "source": [
    "df.groupby(['above2','Quartile'])['livestock_present_hh'].mean()"
   ]
  },
  {
   "cell_type": "code",
   "execution_count": null,
   "id": "ab5516e8-f736-4f3b-ba37-311eb905fc1f",
   "metadata": {},
   "outputs": [],
   "source": []
  },
  {
   "cell_type": "code",
   "execution_count": 172,
   "id": "2ca80955-fe8a-4a94-9d97-caae5672e10c",
   "metadata": {},
   "outputs": [
    {
     "data": {
      "text/html": [
       "<div>\n",
       "<style scoped>\n",
       "    .dataframe tbody tr th:only-of-type {\n",
       "        vertical-align: middle;\n",
       "    }\n",
       "\n",
       "    .dataframe tbody tr th {\n",
       "        vertical-align: top;\n",
       "    }\n",
       "\n",
       "    .dataframe thead th {\n",
       "        text-align: right;\n",
       "    }\n",
       "</style>\n",
       "<table border=\"1\" class=\"dataframe\">\n",
       "  <thead>\n",
       "    <tr style=\"text-align: right;\">\n",
       "      <th>above2</th>\n",
       "      <th>above 2.15</th>\n",
       "      <th>below 2.15</th>\n",
       "    </tr>\n",
       "    <tr>\n",
       "      <th>livestock_present_hh</th>\n",
       "      <th></th>\n",
       "      <th></th>\n",
       "    </tr>\n",
       "  </thead>\n",
       "  <tbody>\n",
       "    <tr>\n",
       "      <th>0</th>\n",
       "      <td>557</td>\n",
       "      <td>290</td>\n",
       "    </tr>\n",
       "    <tr>\n",
       "      <th>1</th>\n",
       "      <td>1983</td>\n",
       "      <td>1067</td>\n",
       "    </tr>\n",
       "  </tbody>\n",
       "</table>\n",
       "</div>"
      ],
      "text/plain": [
       "above2                above 2.15  below 2.15\n",
       "livestock_present_hh                        \n",
       "0                            557         290\n",
       "1                           1983        1067"
      ]
     },
     "execution_count": 172,
     "metadata": {},
     "output_type": "execute_result"
    }
   ],
   "source": [
    "table_live = pd.crosstab(df[\"livestock_present_hh\"], df[\"above2\"])\n",
    "table_live"
   ]
  },
  {
   "cell_type": "code",
   "execution_count": null,
   "id": "aa253714-f3cc-4d02-9035-67cd79b74c19",
   "metadata": {},
   "outputs": [],
   "source": [
    "chi2_contingency(table_live)"
   ]
  },
  {
   "cell_type": "code",
   "execution_count": null,
   "id": "f7f992cb-d228-4e82-b127-f29fa52843c6",
   "metadata": {},
   "outputs": [],
   "source": []
  },
  {
   "cell_type": "code",
   "execution_count": 86,
   "id": "f6e0c4a6-cc72-4da4-88bf-15e867b68ecc",
   "metadata": {},
   "outputs": [],
   "source": [
    "vsla_participation = df[df['vsla_participation'] == 1]"
   ]
  },
  {
   "cell_type": "code",
   "execution_count": 87,
   "id": "37afe418-7c14-4ebd-aade-41a2e6490dee",
   "metadata": {},
   "outputs": [
    {
     "name": "stderr",
     "output_type": "stream",
     "text": [
      "/var/folders/xd/0btgr76j2zxc4__ynw0yhwbm0000gn/T/ipykernel_61592/2177381589.py:1: SettingWithCopyWarning: \n",
      "A value is trying to be set on a copy of a slice from a DataFrame.\n",
      "Try using .loc[row_indexer,col_indexer] = value instead\n",
      "\n",
      "See the caveats in the documentation: https://pandas.pydata.org/pandas-docs/stable/user_guide/indexing.html#returning-a-view-versus-a-copy\n",
      "  vsla_participation['vsla_saving'] = (vsla_participation['Total Savings (Ugx)'].apply(lambda x: 1 if x!= 0 else 0))\n"
     ]
    }
   ],
   "source": [
    "vsla_participation['vsla_saving'] = (vsla_participation['Total Savings (Ugx)'].apply(lambda x: 1 if x!= 0 else 0))"
   ]
  },
  {
   "cell_type": "code",
   "execution_count": 202,
   "id": "618fa811-48d3-48a8-9dad-3f46a31176d7",
   "metadata": {},
   "outputs": [
    {
     "data": {
      "text/plain": [
       "above2\n",
       "above 2.15    0.990335\n",
       "below 2.15    0.980025\n",
       "Name: vsla_saving, dtype: float64"
      ]
     },
     "execution_count": 202,
     "metadata": {},
     "output_type": "execute_result"
    }
   ],
   "source": [
    "vsla_participation.groupby('above2')['vsla_saving'].mean()"
   ]
  },
  {
   "cell_type": "code",
   "execution_count": 89,
   "id": "4a02bae9-fab7-422f-88bd-9316e6e2d753",
   "metadata": {},
   "outputs": [
    {
     "data": {
      "text/plain": [
       "vsla_saving  above2    \n",
       "0            below 2.15    0.516129\n",
       "             above 2.15    0.483871\n",
       "1            above 2.15    0.661929\n",
       "             below 2.15    0.338071\n",
       "Name: proportion, dtype: float64"
      ]
     },
     "execution_count": 89,
     "metadata": {},
     "output_type": "execute_result"
    }
   ],
   "source": [
    "vsla_participation.groupby('vsla_saving')['above2'].value_counts(normalize=True)"
   ]
  },
  {
   "cell_type": "code",
   "execution_count": 90,
   "id": "e5fc1092-f87c-4be9-81f5-af87bbed8240",
   "metadata": {},
   "outputs": [],
   "source": [
    "#vsla_participation[['saving_amount_rtv_vsla_cashround','saving_amount_non_rtv_vsla']].apply(lambda x,y: 1 if x,y != 0 else 0 "
   ]
  },
  {
   "cell_type": "code",
   "execution_count": 91,
   "id": "e0249f09-7ffd-44e0-b24d-faf7eb4e0655",
   "metadata": {},
   "outputs": [
    {
     "name": "stderr",
     "output_type": "stream",
     "text": [
      "/var/folders/xd/0btgr76j2zxc4__ynw0yhwbm0000gn/T/ipykernel_61592/1626854993.py:1: SettingWithCopyWarning: \n",
      "A value is trying to be set on a copy of a slice from a DataFrame.\n",
      "Try using .loc[row_indexer,col_indexer] = value instead\n",
      "\n",
      "See the caveats in the documentation: https://pandas.pydata.org/pandas-docs/stable/user_guide/indexing.html#returning-a-view-versus-a-copy\n",
      "  df['rtv_saving'] = df['saving_amount_rtv_vsla_cashround'].fillna(0).apply(lambda x: 1 if x!= 0 else 0)\n"
     ]
    }
   ],
   "source": [
    "df['rtv_saving'] = df['saving_amount_rtv_vsla_cashround'].fillna(0).apply(lambda x: 1 if x!= 0 else 0)"
   ]
  },
  {
   "cell_type": "code",
   "execution_count": 92,
   "id": "2dbcd18b-599e-4925-b06a-9b3c7079f33c",
   "metadata": {},
   "outputs": [
    {
     "data": {
      "text/plain": [
       "saving_amount_rtv_vsla_cashround\n",
       "NaN          2329\n",
       "100000.0      210\n",
       "50000.0       136\n",
       "60000.0       106\n",
       "200000.0       96\n",
       "             ... \n",
       "217000.0        1\n",
       "182500.0        1\n",
       "3000000.0       1\n",
       "341000.0        1\n",
       "55000.0         1\n",
       "Name: count, Length: 117, dtype: int64"
      ]
     },
     "execution_count": 92,
     "metadata": {},
     "output_type": "execute_result"
    }
   ],
   "source": [
    "df['saving_amount_rtv_vsla_cashround'].value_counts(dropna=False)"
   ]
  },
  {
   "cell_type": "code",
   "execution_count": 93,
   "id": "4f56a463-ed0a-4d61-9400-bfe46f868d18",
   "metadata": {},
   "outputs": [
    {
     "data": {
      "text/plain": [
       "0             NaN\n",
       "1         40000.0\n",
       "2         50000.0\n",
       "3         14000.0\n",
       "4             NaN\n",
       "          ...    \n",
       "3892          NaN\n",
       "3893     120000.0\n",
       "3894    2000000.0\n",
       "3895          NaN\n",
       "3896          NaN\n",
       "Name: saving_amount_rtv_vsla_cashround, Length: 3897, dtype: float64"
      ]
     },
     "execution_count": 93,
     "metadata": {},
     "output_type": "execute_result"
    }
   ],
   "source": [
    "df['saving_amount_rtv_vsla_cashround']"
   ]
  },
  {
   "cell_type": "code",
   "execution_count": 94,
   "id": "b12d6dc9-ff35-4e9b-847e-897a2f468f2b",
   "metadata": {},
   "outputs": [
    {
     "data": {
      "text/plain": [
       "rtv_saving\n",
       "0    2344\n",
       "1    1553\n",
       "Name: count, dtype: int64"
      ]
     },
     "execution_count": 94,
     "metadata": {},
     "output_type": "execute_result"
    }
   ],
   "source": [
    "df['rtv_saving'].value_counts()"
   ]
  },
  {
   "cell_type": "code",
   "execution_count": 95,
   "id": "d471cae1-834e-48df-93cf-6a23290339f6",
   "metadata": {},
   "outputs": [
    {
     "data": {
      "text/plain": [
       "above2\n",
       "above 2.15    0.405512\n",
       "below 2.15    0.385409\n",
       "Name: rtv_saving, dtype: float64"
      ]
     },
     "execution_count": 95,
     "metadata": {},
     "output_type": "execute_result"
    }
   ],
   "source": [
    "df.groupby('above2')['rtv_saving'].mean()"
   ]
  },
  {
   "cell_type": "code",
   "execution_count": 119,
   "id": "93c2ef0c-65a7-465a-b7e6-cb5f25766f57",
   "metadata": {},
   "outputs": [
    {
     "data": {
      "text/plain": [
       "above2\n",
       "above 2.15    0.580295\n",
       "below 2.15    0.582369\n",
       "Name: AGRIC (%), dtype: float64"
      ]
     },
     "execution_count": 119,
     "metadata": {},
     "output_type": "execute_result"
    }
   ],
   "source": [
    "df.groupby('above2')['AGRIC (%)'].mean()"
   ]
  },
  {
   "cell_type": "code",
   "execution_count": 141,
   "id": "15e53e02-e419-4d77-ba33-d0c16c89e425",
   "metadata": {},
   "outputs": [
    {
     "name": "stderr",
     "output_type": "stream",
     "text": [
      "/var/folders/xd/0btgr76j2zxc4__ynw0yhwbm0000gn/T/ipykernel_61592/1280631364.py:1: SettingWithCopyWarning: \n",
      "A value is trying to be set on a copy of a slice from a DataFrame.\n",
      "Try using .loc[row_indexer,col_indexer] = value instead\n",
      "\n",
      "See the caveats in the documentation: https://pandas.pydata.org/pandas-docs/stable/user_guide/indexing.html#returning-a-view-versus-a-copy\n",
      "  df['agric_comp'] = df['AGRIC (%)'].apply(lambda x: 1 if x >= 0.5 else 0)\n",
      "/var/folders/xd/0btgr76j2zxc4__ynw0yhwbm0000gn/T/ipykernel_61592/1280631364.py:2: SettingWithCopyWarning: \n",
      "A value is trying to be set on a copy of a slice from a DataFrame.\n",
      "Try using .loc[row_indexer,col_indexer] = value instead\n",
      "\n",
      "See the caveats in the documentation: https://pandas.pydata.org/pandas-docs/stable/user_guide/indexing.html#returning-a-view-versus-a-copy\n",
      "  df['wash_comp'] = df['WASH (%)'].apply(lambda x: 1 if x >= 0.5 else 0)\n"
     ]
    }
   ],
   "source": [
    "df['agric_comp'] = df['AGRIC (%)'].apply(lambda x: 1 if x >= 0.5 else 0)\n",
    "df['wash_comp'] = df['WASH (%)'].apply(lambda x: 1 if x >= 0.5 else 0)"
   ]
  },
  {
   "cell_type": "code",
   "execution_count": 142,
   "id": "f8f66b39-3a02-46df-87d7-22516aa4da26",
   "metadata": {},
   "outputs": [
    {
     "data": {
      "text/plain": [
       "above2      agric_comp\n",
       "above 2.15  1             1649\n",
       "            0              891\n",
       "below 2.15  1              897\n",
       "            0              460\n",
       "Name: count, dtype: int64"
      ]
     },
     "execution_count": 142,
     "metadata": {},
     "output_type": "execute_result"
    }
   ],
   "source": [
    "df.groupby('above2')['agric_comp'].value_counts()"
   ]
  },
  {
   "cell_type": "code",
   "execution_count": 143,
   "id": "d75cc7a7-be5a-4ab2-98ec-17000a18b0f0",
   "metadata": {},
   "outputs": [
    {
     "data": {
      "text/plain": [
       "above2\n",
       "above 2.15    0.649213\n",
       "below 2.15    0.661017\n",
       "Name: agric_comp, dtype: float64"
      ]
     },
     "execution_count": 143,
     "metadata": {},
     "output_type": "execute_result"
    }
   ],
   "source": [
    "df.groupby('above2')['agric_comp'].mean()"
   ]
  },
  {
   "cell_type": "code",
   "execution_count": 294,
   "id": "07f75c90-46bd-4236-a831-d7dbe170c3bc",
   "metadata": {},
   "outputs": [
    {
     "data": {
      "text/plain": [
       "above2      Household_Head_Gender\n",
       "above 2.15  Female Headed            0.632000\n",
       "            Male Headed              0.673684\n",
       "            Youth Headed             0.559259\n",
       "below 2.15  Female Headed            0.637500\n",
       "            Male Headed              0.681818\n",
       "            Youth Headed             0.577778\n",
       "Name: agric_comp, dtype: float64"
      ]
     },
     "execution_count": 294,
     "metadata": {},
     "output_type": "execute_result"
    }
   ],
   "source": [
    "df.groupby(['above2','Household_Head_Gender'])['agric_comp'].mean()"
   ]
  },
  {
   "cell_type": "code",
   "execution_count": 127,
   "id": "f55c454e-75a5-47d3-abe8-f49c14a9a965",
   "metadata": {},
   "outputs": [
    {
     "data": {
      "text/plain": [
       "above2\n",
       "above 2.15    0.821654\n",
       "below 2.15    0.826824\n",
       "Name: wash_comp, dtype: float64"
      ]
     },
     "execution_count": 127,
     "metadata": {},
     "output_type": "execute_result"
    }
   ],
   "source": [
    "df.groupby('above2')['wash_comp'].mean()"
   ]
  },
  {
   "cell_type": "code",
   "execution_count": 129,
   "id": "882bc745-9d10-4fa9-8fd9-5e9e1793e1bb",
   "metadata": {},
   "outputs": [
    {
     "data": {
      "text/plain": [
       "above2      Household_Head_Gender\n",
       "above 2.15  Female Headed            0.809333\n",
       "            Male Headed              0.852632\n",
       "            Youth Headed             0.681481\n",
       "below 2.15  Female Headed            0.825000\n",
       "            Male Headed              0.835920\n",
       "            Youth Headed             0.770370\n",
       "Name: wash_comp, dtype: float64"
      ]
     },
     "execution_count": 129,
     "metadata": {},
     "output_type": "execute_result"
    }
   ],
   "source": [
    "df.groupby(['above2','Household_Head_Gender'])['wash_comp'].mean()"
   ]
  },
  {
   "cell_type": "code",
   "execution_count": 102,
   "id": "9d371965-84c6-4d82-95e2-41132c99c201",
   "metadata": {},
   "outputs": [
    {
     "data": {
      "text/plain": [
       "above2\n",
       "above 2.15    0.651783\n",
       "below 2.15    0.348217\n",
       "Name: proportion, dtype: float64"
      ]
     },
     "execution_count": 102,
     "metadata": {},
     "output_type": "execute_result"
    }
   ],
   "source": [
    "df['above2'].value_counts(normalize=True)"
   ]
  },
  {
   "cell_type": "code",
   "execution_count": null,
   "id": "5cdaf076-9218-4a65-97f8-6e304b3216f4",
   "metadata": {},
   "outputs": [],
   "source": []
  },
  {
   "cell_type": "code",
   "execution_count": 103,
   "id": "88ca821d-b16b-4720-bab6-ef00e080fea2",
   "metadata": {},
   "outputs": [
    {
     "data": {
      "text/plain": [
       "Household_Head_Gender  above2    \n",
       "Female Headed          above 2.15    0.574933\n",
       "                       below 2.15    0.556797\n",
       "Male Headed            above 2.15    0.595066\n",
       "                       below 2.15    0.601275\n",
       "Youth Headed           above 2.15    0.512037\n",
       "                       below 2.15    0.516667\n",
       "Name: AGRIC (%), dtype: float64"
      ]
     },
     "execution_count": 103,
     "metadata": {},
     "output_type": "execute_result"
    }
   ],
   "source": [
    "df.groupby(['Household_Head_Gender','above2'])['AGRIC (%)'].mean()"
   ]
  },
  {
   "cell_type": "code",
   "execution_count": 104,
   "id": "98ba8335-6139-422c-956b-69cf8dce9ea7",
   "metadata": {},
   "outputs": [
    {
     "data": {
      "text/plain": [
       "above2\n",
       "above 2.15    0.711357\n",
       "below 2.15    0.707146\n",
       "Name: WASH (%), dtype: float64"
      ]
     },
     "execution_count": 104,
     "metadata": {},
     "output_type": "execute_result"
    }
   ],
   "source": [
    "df.groupby('above2')['WASH (%)'].mean()"
   ]
  },
  {
   "cell_type": "code",
   "execution_count": null,
   "id": "fa4f8248-b7a6-4fe4-a470-9bd58ca12ceb",
   "metadata": {},
   "outputs": [],
   "source": []
  },
  {
   "cell_type": "code",
   "execution_count": null,
   "id": "ff6e4c1f-cdfe-4b79-85e1-0a39fc519b58",
   "metadata": {},
   "outputs": [],
   "source": []
  },
  {
   "cell_type": "code",
   "execution_count": 105,
   "id": "228b2e7f-27e5-416d-bf78-efb8b2515397",
   "metadata": {},
   "outputs": [
    {
     "data": {
      "text/plain": [
       "above2\n",
       "above 2.15    51.482677\n",
       "below 2.15    49.584377\n",
       "Name: hhh_age, dtype: float64"
      ]
     },
     "execution_count": 105,
     "metadata": {},
     "output_type": "execute_result"
    }
   ],
   "source": [
    "df.groupby('above2')['hhh_age'].mean()"
   ]
  },
  {
   "cell_type": "code",
   "execution_count": null,
   "id": "aade5a4e-7ae0-4b48-b092-a72c06063ce8",
   "metadata": {},
   "outputs": [],
   "source": []
  },
  {
   "cell_type": "code",
   "execution_count": 115,
   "id": "aafed639-2335-4238-93f0-c4eeb75f7a38",
   "metadata": {},
   "outputs": [
    {
     "data": {
      "text/plain": [
       "above2      Household_Head_Gender\n",
       "above 2.15  Female Headed            61.645333\n",
       "            Male Headed              50.767763\n",
       "            Youth Headed             27.277778\n",
       "below 2.15  Female Headed            56.384375\n",
       "            Male Headed              50.522173\n",
       "            Youth Headed             27.200000\n",
       "Name: hhh_age, dtype: float64"
      ]
     },
     "execution_count": 115,
     "metadata": {},
     "output_type": "execute_result"
    }
   ],
   "source": [
    "df.groupby(['above2', 'Household_Head_Gender'])['hhh_age'].mean()"
   ]
  },
  {
   "cell_type": "code",
   "execution_count": null,
   "id": "a998ae86-1a33-4439-b03d-a19e7505c42e",
   "metadata": {},
   "outputs": [],
   "source": []
  },
  {
   "cell_type": "code",
   "execution_count": 108,
   "id": "25b91972-cebb-4c3f-9048-b02c934edbd8",
   "metadata": {},
   "outputs": [
    {
     "data": {
      "text/plain": [
       "above2\n",
       "above 2.15    2.096457\n",
       "below 2.15    2.915254\n",
       "Name: children_num, dtype: float64"
      ]
     },
     "execution_count": 108,
     "metadata": {},
     "output_type": "execute_result"
    }
   ],
   "source": [
    "df.groupby('above2')['children_num'].mean()"
   ]
  },
  {
   "cell_type": "code",
   "execution_count": 285,
   "id": "db3c7e4d-66bf-4c79-b1f8-2a084f28f3ed",
   "metadata": {},
   "outputs": [
    {
     "data": {
      "text/plain": [
       "above2      Quartile\n",
       "above 2.15  Group 1     2.084507\n",
       "            Group 2     2.000000\n",
       "            Group 3     2.029674\n",
       "            Group 4     2.216000\n",
       "below 2.15  Group 1     3.026455\n",
       "            Group 2     2.894472\n",
       "            Group 3     2.655280\n",
       "            Group 4     3.077449\n",
       "Name: children_num, dtype: float64"
      ]
     },
     "execution_count": 285,
     "metadata": {},
     "output_type": "execute_result"
    }
   ],
   "source": [
    "df.groupby(['above2','Quartile'])['children_num'].mean()"
   ]
  },
  {
   "cell_type": "code",
   "execution_count": 180,
   "id": "61f6f8c1-8eda-4a87-87e8-14a93e6791f9",
   "metadata": {},
   "outputs": [
    {
     "data": {
      "text/plain": [
       "F_onewayResult(statistic=220.79343708333477, pvalue=1.2732157833282639e-48)"
      ]
     },
     "execution_count": 180,
     "metadata": {},
     "output_type": "execute_result"
    }
   ],
   "source": [
    "f_oneway(above['children_num'].dropna(), below['children_num'].dropna())"
   ]
  },
  {
   "cell_type": "code",
   "execution_count": 358,
   "id": "61db3f35-8300-475b-98ba-c90d5c4c763f",
   "metadata": {},
   "outputs": [
    {
     "data": {
      "text/plain": [
       "F_onewayResult(statistic=33.637165796002115, pvalue=8.917671884826634e-09)"
      ]
     },
     "execution_count": 358,
     "metadata": {},
     "output_type": "execute_result"
    }
   ],
   "source": [
    "f_oneway(group3_below['children_num'].dropna(), group3_above['children_num'].dropna())"
   ]
  },
  {
   "cell_type": "code",
   "execution_count": 359,
   "id": "86c5ab58-4160-4397-955b-6161bbd0ca65",
   "metadata": {},
   "outputs": [
    {
     "data": {
      "text/plain": [
       "F_onewayResult(statistic=80.869300525878, pvalue=8.225133455269887e-19)"
      ]
     },
     "execution_count": 359,
     "metadata": {},
     "output_type": "execute_result"
    }
   ],
   "source": [
    "f_oneway(group4_below['children_num'].dropna(), group4_above['children_num'].dropna())"
   ]
  },
  {
   "cell_type": "code",
   "execution_count": 109,
   "id": "ad6fc6d5-91d8-4b37-857d-bd2a543029fc",
   "metadata": {},
   "outputs": [
    {
     "data": {
      "text/plain": [
       "above2      Household_Head_Gender\n",
       "above 2.15  Female Headed            1.597333\n",
       "            Male Headed              2.436842\n",
       "            Youth Headed             1.566667\n",
       "below 2.15  Female Headed            2.534375\n",
       "            Male Headed              3.105322\n",
       "            Youth Headed             2.548148\n",
       "Name: children_num, dtype: float64"
      ]
     },
     "execution_count": 109,
     "metadata": {},
     "output_type": "execute_result"
    }
   ],
   "source": [
    "df.groupby(['above2','Household_Head_Gender'])['children_num'].mean()"
   ]
  },
  {
   "cell_type": "code",
   "execution_count": 268,
   "id": "22c9c142-67b4-4529-967f-4ae91d64f107",
   "metadata": {},
   "outputs": [
    {
     "data": {
      "text/plain": [
       "F_onewayResult(statistic=89.04993103354705, pvalue=2.3264859546132643e-20)"
      ]
     },
     "execution_count": 268,
     "metadata": {},
     "output_type": "execute_result"
    }
   ],
   "source": [
    "perform_anova_for_gender_and_variable('Female Headed','children_num')"
   ]
  },
  {
   "cell_type": "code",
   "execution_count": 269,
   "id": "88bc35cd-4552-410f-97fa-ac6cc39b0480",
   "metadata": {},
   "outputs": [
    {
     "data": {
      "text/plain": [
       "F_onewayResult(statistic=88.17075203021314, pvalue=1.3388044412592908e-20)"
      ]
     },
     "execution_count": 269,
     "metadata": {},
     "output_type": "execute_result"
    }
   ],
   "source": [
    "perform_anova_for_gender_and_variable('Male Headed','children_num')"
   ]
  },
  {
   "cell_type": "code",
   "execution_count": 270,
   "id": "3f764b9d-652b-4859-8254-e912db99f19d",
   "metadata": {},
   "outputs": [
    {
     "data": {
      "text/plain": [
       "F_onewayResult(statistic=56.3773065836366, pvalue=3.8815115905468863e-13)"
      ]
     },
     "execution_count": 270,
     "metadata": {},
     "output_type": "execute_result"
    }
   ],
   "source": [
    "perform_anova_for_gender_and_variable('Youth Headed','children_num')"
   ]
  },
  {
   "cell_type": "code",
   "execution_count": null,
   "id": "b7bfb816-a3d6-42d4-9b41-322364e486ea",
   "metadata": {},
   "outputs": [],
   "source": []
  },
  {
   "cell_type": "code",
   "execution_count": 112,
   "id": "9f87d80d-1694-48a6-ad69-97102e26439b",
   "metadata": {},
   "outputs": [
    {
     "name": "stderr",
     "output_type": "stream",
     "text": [
      "/var/folders/xd/0btgr76j2zxc4__ynw0yhwbm0000gn/T/ipykernel_61592/99410283.py:1: SettingWithCopyWarning: \n",
      "A value is trying to be set on a copy of a slice from a DataFrame.\n",
      "Try using .loc[row_indexer,col_indexer] = value instead\n",
      "\n",
      "See the caveats in the documentation: https://pandas.pydata.org/pandas-docs/stable/user_guide/indexing.html#returning-a-view-versus-a-copy\n",
      "  df['casual_participation'] = df['Casual Labour (Ugx)'].apply(lambda x: 1 if x!=0 else 0)\n"
     ]
    }
   ],
   "source": [
    "df['casual_participation'] = df['Casual Labour (Ugx)'].apply(lambda x: 1 if x!=0 else 0)"
   ]
  },
  {
   "cell_type": "code",
   "execution_count": 113,
   "id": "1cdea213-d4d6-456b-8fc6-d3472ee2d823",
   "metadata": {},
   "outputs": [
    {
     "data": {
      "text/plain": [
       "above2\n",
       "above 2.15    0.411811\n",
       "below 2.15    0.413412\n",
       "Name: casual_participation, dtype: float64"
      ]
     },
     "execution_count": 113,
     "metadata": {},
     "output_type": "execute_result"
    }
   ],
   "source": [
    "df.groupby('above2')['casual_participation'].mean()"
   ]
  },
  {
   "cell_type": "code",
   "execution_count": 286,
   "id": "17da8194-d79a-4234-82c1-4e8d97e2a716",
   "metadata": {},
   "outputs": [
    {
     "data": {
      "text/plain": [
       "above2      Quartile\n",
       "above 2.15  Group 1     0.422535\n",
       "            Group 2     0.420968\n",
       "            Group 3     0.384273\n",
       "            Group 4     0.425143\n",
       "below 2.15  Group 1     0.444444\n",
       "            Group 2     0.386935\n",
       "            Group 3     0.341615\n",
       "            Group 4     0.471526\n",
       "Name: casual_participation, dtype: float64"
      ]
     },
     "execution_count": 286,
     "metadata": {},
     "output_type": "execute_result"
    }
   ],
   "source": [
    "df.groupby(['above2','Quartile'])['casual_participation'].mean()"
   ]
  },
  {
   "cell_type": "code",
   "execution_count": 114,
   "id": "723e5fc4-2aec-4144-aaf6-294c409f168c",
   "metadata": {},
   "outputs": [
    {
     "data": {
      "text/plain": [
       "above2      Household_Head_Gender\n",
       "above 2.15  Female Headed            0.356000\n",
       "            Male Headed              0.420395\n",
       "            Youth Headed             0.518519\n",
       "below 2.15  Female Headed            0.378125\n",
       "            Male Headed              0.411308\n",
       "            Youth Headed             0.511111\n",
       "Name: casual_participation, dtype: float64"
      ]
     },
     "execution_count": 114,
     "metadata": {},
     "output_type": "execute_result"
    }
   ],
   "source": [
    "df.groupby(['above2','Household_Head_Gender'])['casual_participation'].mean()"
   ]
  },
  {
   "cell_type": "code",
   "execution_count": 271,
   "id": "91fd5516-de54-43c1-bae7-df113ac7220f",
   "metadata": {},
   "outputs": [
    {
     "data": {
      "text/plain": [
       "Chi2ContingencyResult(statistic=0.003914535671853427, pvalue=0.9501119051310793, dof=1, expected_freq=array([[1492.584039,  797.415961],\n",
       "       [1047.415961,  559.584039]]))"
      ]
     },
     "execution_count": 271,
     "metadata": {},
     "output_type": "execute_result"
    }
   ],
   "source": [
    "chi2_contingency(pd.crosstab(df['casual_participation'], df['above2']))"
   ]
  },
  {
   "cell_type": "code",
   "execution_count": 360,
   "id": "69d4977a-2b69-4ca3-bd8f-27fc9eb19229",
   "metadata": {},
   "outputs": [
    {
     "data": {
      "text/plain": [
       "Chi2ContingencyResult(statistic=1.522151484399099, pvalue=0.21729419964445454, dof=1, expected_freq=array([[424.29518072, 202.70481928],\n",
       "       [249.70481928, 119.29518072]]))"
      ]
     },
     "execution_count": 360,
     "metadata": {},
     "output_type": "execute_result"
    }
   ],
   "source": [
    "chi2_contingency(pd.crosstab(group3['casual_participation'], group3['above2']))"
   ]
  },
  {
   "cell_type": "code",
   "execution_count": 361,
   "id": "c9a7b137-ae1a-47b7-9556-ce327425623a",
   "metadata": {},
   "outputs": [
    {
     "data": {
      "text/plain": [
       "Chi2ContingencyResult(statistic=2.3669629292310113, pvalue=0.1239279426376627, dof=1, expected_freq=array([[489.44063927, 245.55936073],\n",
       "       [385.55936073, 193.44063927]]))"
      ]
     },
     "execution_count": 361,
     "metadata": {},
     "output_type": "execute_result"
    }
   ],
   "source": [
    "chi2_contingency(pd.crosstab(group4['casual_participation'], group4['above2']))"
   ]
  },
  {
   "cell_type": "code",
   "execution_count": 272,
   "id": "58d43858-cfcb-40e5-a62d-f84e57aa0cc4",
   "metadata": {},
   "outputs": [
    {
     "data": {
      "text/plain": [
       "Chi2ContingencyResult(statistic=0.3841520787039824, pvalue=0.5353894481267522, dof=1, expected_freq=array([[478.03738318, 203.96261682],\n",
       "       [271.96261682, 116.03738318]]))"
      ]
     },
     "execution_count": 272,
     "metadata": {},
     "output_type": "execute_result"
    }
   ],
   "source": [
    "chi2_contingency(pd.crosstab(female['casual_participation'], female['above2']))"
   ]
  },
  {
   "cell_type": "code",
   "execution_count": 273,
   "id": "80bcfbce-26ee-4b3d-a35c-f0dcd3847e3b",
   "metadata": {},
   "outputs": [
    {
     "data": {
      "text/plain": [
       "Chi2ContingencyResult(statistic=0.1566900189587808, pvalue=0.6922224013944164, dof=1, expected_freq=array([[886.14368291, 525.85631709],\n",
       "       [633.85631709, 376.14368291]]))"
      ]
     },
     "execution_count": 273,
     "metadata": {},
     "output_type": "execute_result"
    }
   ],
   "source": [
    "chi2_contingency(pd.crosstab(joint['casual_participation'], joint['above2']))"
   ]
  },
  {
   "cell_type": "code",
   "execution_count": 274,
   "id": "e18f56ba-3190-4b32-9e4b-778639ec245e",
   "metadata": {},
   "outputs": [
    {
     "data": {
      "text/plain": [
       "Chi2ContingencyResult(statistic=0.0012358412264427301, pvalue=0.97195651680297, dof=1, expected_freq=array([[130.66666667,  65.33333333],\n",
       "       [139.33333333,  69.66666667]]))"
      ]
     },
     "execution_count": 274,
     "metadata": {},
     "output_type": "execute_result"
    }
   ],
   "source": [
    "chi2_contingency(pd.crosstab(youth['casual_participation'], youth['above2']))"
   ]
  },
  {
   "cell_type": "code",
   "execution_count": null,
   "id": "14a40134-ff12-4660-9866-c5370d9b57e5",
   "metadata": {},
   "outputs": [],
   "source": []
  },
  {
   "cell_type": "markdown",
   "id": "88db6124-752e-4c83-a84d-0c9933accfee",
   "metadata": {},
   "source": [
    "## Business Participation"
   ]
  },
  {
   "cell_type": "code",
   "execution_count": 98,
   "id": "96e4c9c2-9acb-4566-bd98-77a01ea4cbf0",
   "metadata": {},
   "outputs": [
    {
     "name": "stderr",
     "output_type": "stream",
     "text": [
      "/var/folders/xd/0btgr76j2zxc4__ynw0yhwbm0000gn/T/ipykernel_20832/867436911.py:1: SettingWithCopyWarning: \n",
      "A value is trying to be set on a copy of a slice from a DataFrame.\n",
      "Try using .loc[row_indexer,col_indexer] = value instead\n",
      "\n",
      "See the caveats in the documentation: https://pandas.pydata.org/pandas-docs/stable/user_guide/indexing.html#returning-a-view-versus-a-copy\n",
      "  df['business_participation'] = df['Personal Business & Self Employment (Ugx)'].apply(lambda x: 1 if x!=0 else 0)\n"
     ]
    }
   ],
   "source": [
    "df['business_participation'] = df['Personal Business & Self Employment (Ugx)'].apply(lambda x: 1 if x!=0 else 0)"
   ]
  },
  {
   "cell_type": "code",
   "execution_count": 99,
   "id": "4de9f161-8518-4f1f-bff0-a1d6425b7a15",
   "metadata": {},
   "outputs": [
    {
     "data": {
      "text/plain": [
       "above2\n",
       "above 2.15    0.401181\n",
       "below 2.15    0.263080\n",
       "Name: business_participation, dtype: float64"
      ]
     },
     "execution_count": 99,
     "metadata": {},
     "output_type": "execute_result"
    }
   ],
   "source": [
    "df.groupby('above2')['business_participation'].mean()"
   ]
  },
  {
   "cell_type": "code",
   "execution_count": 100,
   "id": "2074de6b-5fd8-480b-ad16-4eaedca97394",
   "metadata": {},
   "outputs": [
    {
     "data": {
      "text/plain": [
       "above2      Quartile\n",
       "above 2.15  Group 1     0.405634\n",
       "            Group 2     0.441935\n",
       "            Group 3     0.418398\n",
       "            Group 4     0.354286\n",
       "below 2.15  Group 1     0.201058\n",
       "            Group 2     0.311558\n",
       "            Group 3     0.288820\n",
       "            Group 4     0.225513\n",
       "Name: business_participation, dtype: float64"
      ]
     },
     "execution_count": 100,
     "metadata": {},
     "output_type": "execute_result"
    }
   ],
   "source": [
    "df.groupby(['above2','Quartile'])['business_participation'].mean()"
   ]
  },
  {
   "cell_type": "code",
   "execution_count": 101,
   "id": "fdb2ed5d-266a-4a9c-8b56-2a7dac53b945",
   "metadata": {},
   "outputs": [
    {
     "data": {
      "text/plain": [
       "above2      Household_Head_Gender\n",
       "above 2.15  Female Headed            0.357333\n",
       "            Male Headed              0.425000\n",
       "            Youth Headed             0.388889\n",
       "below 2.15  Female Headed            0.246875\n",
       "            Male Headed              0.273836\n",
       "            Youth Headed             0.229630\n",
       "Name: business_participation, dtype: float64"
      ]
     },
     "execution_count": 101,
     "metadata": {},
     "output_type": "execute_result"
    }
   ],
   "source": [
    "df.groupby(['above2','Household_Head_Gender'])['business_participation'].mean()"
   ]
  },
  {
   "cell_type": "code",
   "execution_count": 102,
   "id": "4b4d15bf-40ec-416b-ac88-e4c8b58457d4",
   "metadata": {},
   "outputs": [
    {
     "data": {
      "text/plain": [
       "Chi2ContingencyResult(statistic=73.245695799274, pvalue=1.1447453828287854e-17, dof=1, expected_freq=array([[1643.14600975,  877.85399025],\n",
       "       [ 896.85399025,  479.14600975]]))"
      ]
     },
     "execution_count": 102,
     "metadata": {},
     "output_type": "execute_result"
    }
   ],
   "source": [
    "chi2_contingency(pd.crosstab(df[\"business_participation\"], df[\"above2\"]))"
   ]
  },
  {
   "cell_type": "code",
   "execution_count": 110,
   "id": "9d98bbbd-cbd7-4b0e-8187-02efdf4c5a03",
   "metadata": {},
   "outputs": [
    {
     "data": {
      "text/plain": [
       "Chi2ContingencyResult(statistic=15.038129935014055, pvalue=0.00010536080419623893, dof=1, expected_freq=array([[420.23493976, 200.76506024],\n",
       "       [253.76506024, 121.23493976]]))"
      ]
     },
     "execution_count": 110,
     "metadata": {},
     "output_type": "execute_result"
    }
   ],
   "source": [
    "chi2_contingency(pd.crosstab(group3['business_participation'], group3['above2']))"
   ]
  },
  {
   "cell_type": "code",
   "execution_count": 111,
   "id": "410cc6ec-465d-485e-bfff-44ef502bffaa",
   "metadata": {},
   "outputs": [
    {
     "data": {
      "text/plain": [
       "Chi2ContingencyResult(statistic=22.015721802770884, pvalue=2.7042624200725434e-06, dof=1, expected_freq=array([[602.64459665, 302.35540335],\n",
       "       [272.35540335, 136.64459665]]))"
      ]
     },
     "execution_count": 111,
     "metadata": {},
     "output_type": "execute_result"
    }
   ],
   "source": [
    "chi2_contingency(pd.crosstab(group4['business_participation'], group4['above2']))"
   ]
  },
  {
   "cell_type": "code",
   "execution_count": 107,
   "id": "ba20ae99-802b-4221-87f3-023724c81892",
   "metadata": {},
   "outputs": [
    {
     "data": {
      "text/plain": [
       "Chi2ContingencyResult(statistic=11.989908707547935, pvalue=0.0005348941015171787, dof=1, expected_freq=array([[506.77570093, 216.22429907],\n",
       "       [243.22429907, 103.77570093]]))"
      ]
     },
     "execution_count": 107,
     "metadata": {},
     "output_type": "execute_result"
    }
   ],
   "source": [
    "chi2_contingency(pd.crosstab(female[\"business_participation\"], female[\"above2\"]))"
   ]
  },
  {
   "cell_type": "code",
   "execution_count": 108,
   "id": "c0172e53-1f43-4d8e-88cb-c9ec628d2439",
   "metadata": {},
   "outputs": [
    {
     "data": {
      "text/plain": [
       "Chi2ContingencyResult(statistic=54.925291066053106, pvalue=1.251995169271115e-13, dof=1, expected_freq=array([[959.57060281, 569.42939719],\n",
       "       [560.42939719, 332.57060281]]))"
      ]
     },
     "execution_count": 108,
     "metadata": {},
     "output_type": "execute_result"
    }
   ],
   "source": [
    "chi2_contingency(pd.crosstab(joint[\"business_participation\"], joint[\"above2\"]))"
   ]
  },
  {
   "cell_type": "code",
   "execution_count": 109,
   "id": "e06f0c93-1513-4167-bab9-884d072785a2",
   "metadata": {},
   "outputs": [
    {
     "data": {
      "text/plain": [
       "Chi2ContingencyResult(statistic=9.533009649026896, pvalue=0.002018089087435214, dof=1, expected_freq=array([[179.33333333,  89.66666667],\n",
       "       [ 90.66666667,  45.33333333]]))"
      ]
     },
     "execution_count": 109,
     "metadata": {},
     "output_type": "execute_result"
    }
   ],
   "source": [
    "chi2_contingency(pd.crosstab(youth[\"business_participation\"], youth[\"above2\"]))"
   ]
  },
  {
   "cell_type": "markdown",
   "id": "66161352-3274-450b-98f1-9fe1def783f1",
   "metadata": {},
   "source": [
    "Perennial crops grown"
   ]
  },
  {
   "cell_type": "code",
   "execution_count": 175,
   "id": "850a39b0-250c-43eb-b5ff-a75a149e0f8a",
   "metadata": {},
   "outputs": [],
   "source": [
    "# Creating a list of strings as requested\n",
    "perenial_list = [\n",
    "    \"perennial_crops_grown_1\", \"perennial_crops_grown_2\", \"perennial_crops_grown_3\",\n",
    "    \"perennial_crops_grown_4\", \"perennial_crops_grown_5\", \"perennial_crops_grown_6\",\n",
    "    \"perennial_crops_grown_7\", \"perennial_crops_grown_8\", \"perennial_crops_grown_9\",\n",
    "    \"perennial_crops_grown_10\", \"perennial_crops_grown_11\", \"perennial_crops_grown_12\",\n",
    "    \"perennial_crops_grown_13\", \"perennial_crops_grown_14\", \"perennial_crops_grown_15\",\n",
    "    \"perennial_crops_grown_16\", \"perennial_crops_grown_17\", \"perennial_crops_grown_18\",\n",
    "    \"perennial_crops_grown_19\", \"perennial_crops_grown_20\", \"perennial_crops_grown_21\",\n",
    "    \"perennial_crops_grown_22\", \"perennial_crops_grown_23\", \"perennial_crops_grown_24\",\n",
    "    \"perennial_crops_grown_25\", \"perennial_crops_grown_26\", \"perennial_crops_grown_27\",\n",
    "    \"perennial_crops_grown_28\", \"perennial_crops_grown_97\", \"other_perennial_crop_grown\"\n",
    "]"
   ]
  },
  {
   "cell_type": "markdown",
   "id": "ce1cb130-0c8e-4ff9-9c70-d3a0019c80ed",
   "metadata": {},
   "source": [
    "Which of the following perennial crops does your household own?\n",
    "Select all that apply\n",
    "\n",
    "1\tFood Banana\n",
    "2\tRipe Banana\n",
    "3\tAlcohol Banana\n",
    "4\tCoffee\n",
    "5\tVanilla\n",
    "6\tTea\n",
    "7\tSugar cane\n",
    "8\tJackfruit\n",
    "9\tMangoes\n",
    "10\tOranges\n",
    "11\tPassion Fruits\n",
    "12\tTomato Fruits\n",
    "13\tApple\n",
    "14\tGuava\n",
    "15\tAvocado\n",
    "16\tEucalyptus\n",
    "17\tPine\n",
    "18\tMahogany\n",
    "19\tCyprus\n",
    "20\tOak\n",
    "21\tMusizi\n",
    "22\tAcacia\n",
    "23\tHog Thorn\n",
    "24\tNeem\n",
    "25\tCaliandra\n",
    "26\tGraveria\n",
    "27\tBamboo\n",
    "28\tCocoa\n",
    "97\tOther,specify"
   ]
  },
  {
   "cell_type": "markdown",
   "id": "56045550-026c-47f3-ab2a-f26e7f47076c",
   "metadata": {},
   "source": [
    "Food Banana |       3326       29.37       89.58\n",
    "Ripe Banana |        464        4.10       12.50\n",
    "Alcohol Banana |        661        5.84       17.80\n",
    "Coffee |       2359       20.83       63.53\n",
    "Vanilla  perennial_crops_grown_5 |          3        0.03        0.08\n",
    "Tea |        156        1.38        4.20\n",
    "Sugar cane |        336        2.97        9.05\n",
    "Jackfruit |        786        6.94       21.17\n",
    "Mangoes |        525        4.64       14.14\n",
    "Oranges |         56        0.49        1.51\n",
    "Passion Fruits |        152        1.34        4.09\n",
    "Tomato Fruits |         27        0.24        0.73\n",
    "perennial~13 perennial_crops_grown_13 |          7        0.06        0.19\n",
    "perennial~14 perennial_crops_grown_14 |        266        2.35        7.16\n",
    "perennial~15 perennial_crops_grown_15 |       1556       13.74       41.91\n",
    "perennial~16 perennial_crops_grown_16 |        489        4.32       13.17\n",
    "perennial~17 perennial_crops_grown_17 |         44        0.39        1.19\n",
    "perennial~18 perennial_crops_grown_18 |          4        0.04        0.11\n",
    "perennial~19 perennial_crops_grown_19 |         22        0.19        0.59\n",
    "perennial~20 perennial_crops_grown_20 |          1        0.01        0.03\n",
    "perennial~21 perennial_crops_grown_21 |          0        0.00        0.00\n",
    "perennial~22 perennial_crops_grown_22 |          1        0.01        0.03\n",
    "perennial~23 perennial_crops_grown_23 |          0        0.00        0.00\n",
    "perennial~24 perennial_crops_grown_24 |          3        0.03        0.08\n",
    "perennial~25 perennial_crops_grown_25 |          6        0.05        0.16\n",
    "perennial~26 perennial_crops_grown_26 |         15        0.13        0.40\n",
    "perennial~27 perennial_crops_grown_27 |          1        0.01        0.03\n",
    "perennial~28 perennial_crops_grown_28 |          0        0.00        0.00\n",
    "perennial~97 perennial_crops_grown_97 |         59        0.52        1.59\n"
   ]
  },
  {
   "cell_type": "code",
   "execution_count": 182,
   "id": "c7c08030-ee44-4c2d-b3a4-b70bc43fea35",
   "metadata": {},
   "outputs": [
    {
     "ename": "KeyError",
     "evalue": "'perenial_list'",
     "output_type": "error",
     "traceback": [
      "\u001b[0;31m---------------------------------------------------------------------------\u001b[0m",
      "\u001b[0;31mKeyError\u001b[0m                                  Traceback (most recent call last)",
      "File \u001b[0;32m~/mambaforge/lib/python3.10/site-packages/pandas/core/indexes/base.py:3790\u001b[0m, in \u001b[0;36mIndex.get_loc\u001b[0;34m(self, key)\u001b[0m\n\u001b[1;32m   3789\u001b[0m \u001b[38;5;28;01mtry\u001b[39;00m:\n\u001b[0;32m-> 3790\u001b[0m     \u001b[38;5;28;01mreturn\u001b[39;00m \u001b[38;5;28;43mself\u001b[39;49m\u001b[38;5;241;43m.\u001b[39;49m\u001b[43m_engine\u001b[49m\u001b[38;5;241;43m.\u001b[39;49m\u001b[43mget_loc\u001b[49m\u001b[43m(\u001b[49m\u001b[43mcasted_key\u001b[49m\u001b[43m)\u001b[49m\n\u001b[1;32m   3791\u001b[0m \u001b[38;5;28;01mexcept\u001b[39;00m \u001b[38;5;167;01mKeyError\u001b[39;00m \u001b[38;5;28;01mas\u001b[39;00m err:\n",
      "File \u001b[0;32mindex.pyx:152\u001b[0m, in \u001b[0;36mpandas._libs.index.IndexEngine.get_loc\u001b[0;34m()\u001b[0m\n",
      "File \u001b[0;32mindex.pyx:181\u001b[0m, in \u001b[0;36mpandas._libs.index.IndexEngine.get_loc\u001b[0;34m()\u001b[0m\n",
      "File \u001b[0;32mpandas/_libs/hashtable_class_helper.pxi:7080\u001b[0m, in \u001b[0;36mpandas._libs.hashtable.PyObjectHashTable.get_item\u001b[0;34m()\u001b[0m\n",
      "File \u001b[0;32mpandas/_libs/hashtable_class_helper.pxi:7088\u001b[0m, in \u001b[0;36mpandas._libs.hashtable.PyObjectHashTable.get_item\u001b[0;34m()\u001b[0m\n",
      "\u001b[0;31mKeyError\u001b[0m: 'perenial_list'",
      "\nThe above exception was the direct cause of the following exception:\n",
      "\u001b[0;31mKeyError\u001b[0m                                  Traceback (most recent call last)",
      "Cell \u001b[0;32mIn[182], line 1\u001b[0m\n\u001b[0;32m----> 1\u001b[0m \u001b[43mdf\u001b[49m\u001b[43m[\u001b[49m\u001b[38;5;124;43m'\u001b[39;49m\u001b[38;5;124;43mperenial_list\u001b[39;49m\u001b[38;5;124;43m'\u001b[39;49m\u001b[43m]\u001b[49m\n",
      "File \u001b[0;32m~/mambaforge/lib/python3.10/site-packages/pandas/core/frame.py:3896\u001b[0m, in \u001b[0;36mDataFrame.__getitem__\u001b[0;34m(self, key)\u001b[0m\n\u001b[1;32m   3894\u001b[0m \u001b[38;5;28;01mif\u001b[39;00m \u001b[38;5;28mself\u001b[39m\u001b[38;5;241m.\u001b[39mcolumns\u001b[38;5;241m.\u001b[39mnlevels \u001b[38;5;241m>\u001b[39m \u001b[38;5;241m1\u001b[39m:\n\u001b[1;32m   3895\u001b[0m     \u001b[38;5;28;01mreturn\u001b[39;00m \u001b[38;5;28mself\u001b[39m\u001b[38;5;241m.\u001b[39m_getitem_multilevel(key)\n\u001b[0;32m-> 3896\u001b[0m indexer \u001b[38;5;241m=\u001b[39m \u001b[38;5;28;43mself\u001b[39;49m\u001b[38;5;241;43m.\u001b[39;49m\u001b[43mcolumns\u001b[49m\u001b[38;5;241;43m.\u001b[39;49m\u001b[43mget_loc\u001b[49m\u001b[43m(\u001b[49m\u001b[43mkey\u001b[49m\u001b[43m)\u001b[49m\n\u001b[1;32m   3897\u001b[0m \u001b[38;5;28;01mif\u001b[39;00m is_integer(indexer):\n\u001b[1;32m   3898\u001b[0m     indexer \u001b[38;5;241m=\u001b[39m [indexer]\n",
      "File \u001b[0;32m~/mambaforge/lib/python3.10/site-packages/pandas/core/indexes/base.py:3797\u001b[0m, in \u001b[0;36mIndex.get_loc\u001b[0;34m(self, key)\u001b[0m\n\u001b[1;32m   3792\u001b[0m     \u001b[38;5;28;01mif\u001b[39;00m \u001b[38;5;28misinstance\u001b[39m(casted_key, \u001b[38;5;28mslice\u001b[39m) \u001b[38;5;129;01mor\u001b[39;00m (\n\u001b[1;32m   3793\u001b[0m         \u001b[38;5;28misinstance\u001b[39m(casted_key, abc\u001b[38;5;241m.\u001b[39mIterable)\n\u001b[1;32m   3794\u001b[0m         \u001b[38;5;129;01mand\u001b[39;00m \u001b[38;5;28many\u001b[39m(\u001b[38;5;28misinstance\u001b[39m(x, \u001b[38;5;28mslice\u001b[39m) \u001b[38;5;28;01mfor\u001b[39;00m x \u001b[38;5;129;01min\u001b[39;00m casted_key)\n\u001b[1;32m   3795\u001b[0m     ):\n\u001b[1;32m   3796\u001b[0m         \u001b[38;5;28;01mraise\u001b[39;00m InvalidIndexError(key)\n\u001b[0;32m-> 3797\u001b[0m     \u001b[38;5;28;01mraise\u001b[39;00m \u001b[38;5;167;01mKeyError\u001b[39;00m(key) \u001b[38;5;28;01mfrom\u001b[39;00m \u001b[38;5;21;01merr\u001b[39;00m\n\u001b[1;32m   3798\u001b[0m \u001b[38;5;28;01mexcept\u001b[39;00m \u001b[38;5;167;01mTypeError\u001b[39;00m:\n\u001b[1;32m   3799\u001b[0m     \u001b[38;5;66;03m# If we have a listlike key, _check_indexing_error will raise\u001b[39;00m\n\u001b[1;32m   3800\u001b[0m     \u001b[38;5;66;03m#  InvalidIndexError. Otherwise we fall through and re-raise\u001b[39;00m\n\u001b[1;32m   3801\u001b[0m     \u001b[38;5;66;03m#  the TypeError.\u001b[39;00m\n\u001b[1;32m   3802\u001b[0m     \u001b[38;5;28mself\u001b[39m\u001b[38;5;241m.\u001b[39m_check_indexing_error(key)\n",
      "\u001b[0;31mKeyError\u001b[0m: 'perenial_list'"
     ]
    }
   ],
   "source": [
    "df['perenial_list']"
   ]
  },
  {
   "cell_type": "code",
   "execution_count": null,
   "id": "5f4feeb8-1be4-442b-bc80-55cb7de01fd8",
   "metadata": {},
   "outputs": [],
   "source": []
  },
  {
   "cell_type": "code",
   "execution_count": 177,
   "id": "0c8f1698-f301-4271-8e0d-7359bb4e7271",
   "metadata": {},
   "outputs": [
    {
     "data": {
      "text/plain": [
       "30"
      ]
     },
     "execution_count": 177,
     "metadata": {},
     "output_type": "execute_result"
    }
   ],
   "source": [
    "len(perenial_list)"
   ]
  },
  {
   "cell_type": "code",
   "execution_count": 119,
   "id": "02317e44-fde2-4c83-a6be-e4b7fa0ab12f",
   "metadata": {},
   "outputs": [
    {
     "data": {
      "text/html": [
       "<div>\n",
       "<style scoped>\n",
       "    .dataframe tbody tr th:only-of-type {\n",
       "        vertical-align: middle;\n",
       "    }\n",
       "\n",
       "    .dataframe tbody tr th {\n",
       "        vertical-align: top;\n",
       "    }\n",
       "\n",
       "    .dataframe thead th {\n",
       "        text-align: right;\n",
       "    }\n",
       "</style>\n",
       "<table border=\"1\" class=\"dataframe\">\n",
       "  <thead>\n",
       "    <tr style=\"text-align: right;\">\n",
       "      <th></th>\n",
       "      <th>perennial_crops_grown_1</th>\n",
       "      <th>perennial_crops_grown_2</th>\n",
       "      <th>perennial_crops_grown_3</th>\n",
       "      <th>perennial_crops_grown_4</th>\n",
       "      <th>perennial_crops_grown_5</th>\n",
       "      <th>perennial_crops_grown_6</th>\n",
       "      <th>perennial_crops_grown_7</th>\n",
       "      <th>perennial_crops_grown_8</th>\n",
       "      <th>perennial_crops_grown_9</th>\n",
       "      <th>perennial_crops_grown_10</th>\n",
       "      <th>...</th>\n",
       "      <th>perennial_crops_grown_21</th>\n",
       "      <th>perennial_crops_grown_22</th>\n",
       "      <th>perennial_crops_grown_23</th>\n",
       "      <th>perennial_crops_grown_24</th>\n",
       "      <th>perennial_crops_grown_25</th>\n",
       "      <th>perennial_crops_grown_26</th>\n",
       "      <th>perennial_crops_grown_27</th>\n",
       "      <th>perennial_crops_grown_28</th>\n",
       "      <th>perennial_crops_grown_97</th>\n",
       "      <th>other_perennial_crop_grown</th>\n",
       "    </tr>\n",
       "  </thead>\n",
       "  <tbody>\n",
       "    <tr>\n",
       "      <th>0</th>\n",
       "      <td>1</td>\n",
       "      <td>0</td>\n",
       "      <td>0</td>\n",
       "      <td>0</td>\n",
       "      <td>0</td>\n",
       "      <td>0</td>\n",
       "      <td>0</td>\n",
       "      <td>0</td>\n",
       "      <td>0</td>\n",
       "      <td>0</td>\n",
       "      <td>...</td>\n",
       "      <td>0</td>\n",
       "      <td>0</td>\n",
       "      <td>0</td>\n",
       "      <td>0</td>\n",
       "      <td>0</td>\n",
       "      <td>0</td>\n",
       "      <td>0</td>\n",
       "      <td>0</td>\n",
       "      <td>0</td>\n",
       "      <td>1</td>\n",
       "    </tr>\n",
       "    <tr>\n",
       "      <th>1</th>\n",
       "      <td>1</td>\n",
       "      <td>0</td>\n",
       "      <td>1</td>\n",
       "      <td>0</td>\n",
       "      <td>0</td>\n",
       "      <td>0</td>\n",
       "      <td>0</td>\n",
       "      <td>0</td>\n",
       "      <td>0</td>\n",
       "      <td>0</td>\n",
       "      <td>...</td>\n",
       "      <td>0</td>\n",
       "      <td>0</td>\n",
       "      <td>0</td>\n",
       "      <td>0</td>\n",
       "      <td>0</td>\n",
       "      <td>0</td>\n",
       "      <td>0</td>\n",
       "      <td>0</td>\n",
       "      <td>0</td>\n",
       "      <td>1</td>\n",
       "    </tr>\n",
       "    <tr>\n",
       "      <th>2</th>\n",
       "      <td>1</td>\n",
       "      <td>0</td>\n",
       "      <td>0</td>\n",
       "      <td>1</td>\n",
       "      <td>0</td>\n",
       "      <td>0</td>\n",
       "      <td>0</td>\n",
       "      <td>0</td>\n",
       "      <td>0</td>\n",
       "      <td>0</td>\n",
       "      <td>...</td>\n",
       "      <td>0</td>\n",
       "      <td>0</td>\n",
       "      <td>0</td>\n",
       "      <td>0</td>\n",
       "      <td>0</td>\n",
       "      <td>0</td>\n",
       "      <td>0</td>\n",
       "      <td>0</td>\n",
       "      <td>0</td>\n",
       "      <td>1</td>\n",
       "    </tr>\n",
       "    <tr>\n",
       "      <th>3</th>\n",
       "      <td>1</td>\n",
       "      <td>1</td>\n",
       "      <td>0</td>\n",
       "      <td>1</td>\n",
       "      <td>0</td>\n",
       "      <td>0</td>\n",
       "      <td>0</td>\n",
       "      <td>0</td>\n",
       "      <td>0</td>\n",
       "      <td>0</td>\n",
       "      <td>...</td>\n",
       "      <td>0</td>\n",
       "      <td>0</td>\n",
       "      <td>0</td>\n",
       "      <td>0</td>\n",
       "      <td>0</td>\n",
       "      <td>0</td>\n",
       "      <td>0</td>\n",
       "      <td>0</td>\n",
       "      <td>0</td>\n",
       "      <td>1</td>\n",
       "    </tr>\n",
       "    <tr>\n",
       "      <th>4</th>\n",
       "      <td>1</td>\n",
       "      <td>0</td>\n",
       "      <td>0</td>\n",
       "      <td>0</td>\n",
       "      <td>0</td>\n",
       "      <td>0</td>\n",
       "      <td>0</td>\n",
       "      <td>0</td>\n",
       "      <td>0</td>\n",
       "      <td>0</td>\n",
       "      <td>...</td>\n",
       "      <td>0</td>\n",
       "      <td>0</td>\n",
       "      <td>0</td>\n",
       "      <td>0</td>\n",
       "      <td>0</td>\n",
       "      <td>0</td>\n",
       "      <td>0</td>\n",
       "      <td>0</td>\n",
       "      <td>0</td>\n",
       "      <td>1</td>\n",
       "    </tr>\n",
       "    <tr>\n",
       "      <th>...</th>\n",
       "      <td>...</td>\n",
       "      <td>...</td>\n",
       "      <td>...</td>\n",
       "      <td>...</td>\n",
       "      <td>...</td>\n",
       "      <td>...</td>\n",
       "      <td>...</td>\n",
       "      <td>...</td>\n",
       "      <td>...</td>\n",
       "      <td>...</td>\n",
       "      <td>...</td>\n",
       "      <td>...</td>\n",
       "      <td>...</td>\n",
       "      <td>...</td>\n",
       "      <td>...</td>\n",
       "      <td>...</td>\n",
       "      <td>...</td>\n",
       "      <td>...</td>\n",
       "      <td>...</td>\n",
       "      <td>...</td>\n",
       "      <td>...</td>\n",
       "    </tr>\n",
       "    <tr>\n",
       "      <th>3892</th>\n",
       "      <td>1</td>\n",
       "      <td>0</td>\n",
       "      <td>0</td>\n",
       "      <td>0</td>\n",
       "      <td>0</td>\n",
       "      <td>0</td>\n",
       "      <td>0</td>\n",
       "      <td>0</td>\n",
       "      <td>0</td>\n",
       "      <td>0</td>\n",
       "      <td>...</td>\n",
       "      <td>0</td>\n",
       "      <td>0</td>\n",
       "      <td>0</td>\n",
       "      <td>0</td>\n",
       "      <td>0</td>\n",
       "      <td>0</td>\n",
       "      <td>0</td>\n",
       "      <td>0</td>\n",
       "      <td>0</td>\n",
       "      <td>1</td>\n",
       "    </tr>\n",
       "    <tr>\n",
       "      <th>3893</th>\n",
       "      <td>0</td>\n",
       "      <td>0</td>\n",
       "      <td>0</td>\n",
       "      <td>0</td>\n",
       "      <td>0</td>\n",
       "      <td>0</td>\n",
       "      <td>0</td>\n",
       "      <td>0</td>\n",
       "      <td>0</td>\n",
       "      <td>0</td>\n",
       "      <td>...</td>\n",
       "      <td>0</td>\n",
       "      <td>0</td>\n",
       "      <td>0</td>\n",
       "      <td>0</td>\n",
       "      <td>0</td>\n",
       "      <td>0</td>\n",
       "      <td>0</td>\n",
       "      <td>0</td>\n",
       "      <td>0</td>\n",
       "      <td>1</td>\n",
       "    </tr>\n",
       "    <tr>\n",
       "      <th>3894</th>\n",
       "      <td>1</td>\n",
       "      <td>0</td>\n",
       "      <td>0</td>\n",
       "      <td>0</td>\n",
       "      <td>0</td>\n",
       "      <td>0</td>\n",
       "      <td>0</td>\n",
       "      <td>0</td>\n",
       "      <td>0</td>\n",
       "      <td>0</td>\n",
       "      <td>...</td>\n",
       "      <td>0</td>\n",
       "      <td>0</td>\n",
       "      <td>0</td>\n",
       "      <td>0</td>\n",
       "      <td>0</td>\n",
       "      <td>0</td>\n",
       "      <td>0</td>\n",
       "      <td>0</td>\n",
       "      <td>0</td>\n",
       "      <td>1</td>\n",
       "    </tr>\n",
       "    <tr>\n",
       "      <th>3895</th>\n",
       "      <td>0</td>\n",
       "      <td>0</td>\n",
       "      <td>0</td>\n",
       "      <td>0</td>\n",
       "      <td>0</td>\n",
       "      <td>0</td>\n",
       "      <td>0</td>\n",
       "      <td>0</td>\n",
       "      <td>0</td>\n",
       "      <td>0</td>\n",
       "      <td>...</td>\n",
       "      <td>0</td>\n",
       "      <td>0</td>\n",
       "      <td>0</td>\n",
       "      <td>0</td>\n",
       "      <td>0</td>\n",
       "      <td>0</td>\n",
       "      <td>0</td>\n",
       "      <td>0</td>\n",
       "      <td>0</td>\n",
       "      <td>1</td>\n",
       "    </tr>\n",
       "    <tr>\n",
       "      <th>3896</th>\n",
       "      <td>1</td>\n",
       "      <td>1</td>\n",
       "      <td>0</td>\n",
       "      <td>1</td>\n",
       "      <td>0</td>\n",
       "      <td>0</td>\n",
       "      <td>0</td>\n",
       "      <td>0</td>\n",
       "      <td>0</td>\n",
       "      <td>1</td>\n",
       "      <td>...</td>\n",
       "      <td>0</td>\n",
       "      <td>0</td>\n",
       "      <td>0</td>\n",
       "      <td>0</td>\n",
       "      <td>1</td>\n",
       "      <td>1</td>\n",
       "      <td>0</td>\n",
       "      <td>0</td>\n",
       "      <td>0</td>\n",
       "      <td>1</td>\n",
       "    </tr>\n",
       "  </tbody>\n",
       "</table>\n",
       "<p>3897 rows × 30 columns</p>\n",
       "</div>"
      ],
      "text/plain": [
       "      perennial_crops_grown_1  perennial_crops_grown_2  \\\n",
       "0                           1                        0   \n",
       "1                           1                        0   \n",
       "2                           1                        0   \n",
       "3                           1                        1   \n",
       "4                           1                        0   \n",
       "...                       ...                      ...   \n",
       "3892                        1                        0   \n",
       "3893                        0                        0   \n",
       "3894                        1                        0   \n",
       "3895                        0                        0   \n",
       "3896                        1                        1   \n",
       "\n",
       "      perennial_crops_grown_3  perennial_crops_grown_4  \\\n",
       "0                           0                        0   \n",
       "1                           1                        0   \n",
       "2                           0                        1   \n",
       "3                           0                        1   \n",
       "4                           0                        0   \n",
       "...                       ...                      ...   \n",
       "3892                        0                        0   \n",
       "3893                        0                        0   \n",
       "3894                        0                        0   \n",
       "3895                        0                        0   \n",
       "3896                        0                        1   \n",
       "\n",
       "      perennial_crops_grown_5  perennial_crops_grown_6  \\\n",
       "0                           0                        0   \n",
       "1                           0                        0   \n",
       "2                           0                        0   \n",
       "3                           0                        0   \n",
       "4                           0                        0   \n",
       "...                       ...                      ...   \n",
       "3892                        0                        0   \n",
       "3893                        0                        0   \n",
       "3894                        0                        0   \n",
       "3895                        0                        0   \n",
       "3896                        0                        0   \n",
       "\n",
       "      perennial_crops_grown_7  perennial_crops_grown_8  \\\n",
       "0                           0                        0   \n",
       "1                           0                        0   \n",
       "2                           0                        0   \n",
       "3                           0                        0   \n",
       "4                           0                        0   \n",
       "...                       ...                      ...   \n",
       "3892                        0                        0   \n",
       "3893                        0                        0   \n",
       "3894                        0                        0   \n",
       "3895                        0                        0   \n",
       "3896                        0                        0   \n",
       "\n",
       "      perennial_crops_grown_9  perennial_crops_grown_10  ...  \\\n",
       "0                           0                         0  ...   \n",
       "1                           0                         0  ...   \n",
       "2                           0                         0  ...   \n",
       "3                           0                         0  ...   \n",
       "4                           0                         0  ...   \n",
       "...                       ...                       ...  ...   \n",
       "3892                        0                         0  ...   \n",
       "3893                        0                         0  ...   \n",
       "3894                        0                         0  ...   \n",
       "3895                        0                         0  ...   \n",
       "3896                        0                         1  ...   \n",
       "\n",
       "      perennial_crops_grown_21  perennial_crops_grown_22  \\\n",
       "0                            0                         0   \n",
       "1                            0                         0   \n",
       "2                            0                         0   \n",
       "3                            0                         0   \n",
       "4                            0                         0   \n",
       "...                        ...                       ...   \n",
       "3892                         0                         0   \n",
       "3893                         0                         0   \n",
       "3894                         0                         0   \n",
       "3895                         0                         0   \n",
       "3896                         0                         0   \n",
       "\n",
       "      perennial_crops_grown_23  perennial_crops_grown_24  \\\n",
       "0                            0                         0   \n",
       "1                            0                         0   \n",
       "2                            0                         0   \n",
       "3                            0                         0   \n",
       "4                            0                         0   \n",
       "...                        ...                       ...   \n",
       "3892                         0                         0   \n",
       "3893                         0                         0   \n",
       "3894                         0                         0   \n",
       "3895                         0                         0   \n",
       "3896                         0                         0   \n",
       "\n",
       "      perennial_crops_grown_25  perennial_crops_grown_26  \\\n",
       "0                            0                         0   \n",
       "1                            0                         0   \n",
       "2                            0                         0   \n",
       "3                            0                         0   \n",
       "4                            0                         0   \n",
       "...                        ...                       ...   \n",
       "3892                         0                         0   \n",
       "3893                         0                         0   \n",
       "3894                         0                         0   \n",
       "3895                         0                         0   \n",
       "3896                         1                         1   \n",
       "\n",
       "      perennial_crops_grown_27  perennial_crops_grown_28  \\\n",
       "0                            0                         0   \n",
       "1                            0                         0   \n",
       "2                            0                         0   \n",
       "3                            0                         0   \n",
       "4                            0                         0   \n",
       "...                        ...                       ...   \n",
       "3892                         0                         0   \n",
       "3893                         0                         0   \n",
       "3894                         0                         0   \n",
       "3895                         0                         0   \n",
       "3896                         0                         0   \n",
       "\n",
       "      perennial_crops_grown_97  other_perennial_crop_grown  \n",
       "0                            0                           1  \n",
       "1                            0                           1  \n",
       "2                            0                           1  \n",
       "3                            0                           1  \n",
       "4                            0                           1  \n",
       "...                        ...                         ...  \n",
       "3892                         0                           1  \n",
       "3893                         0                           1  \n",
       "3894                         0                           1  \n",
       "3895                         0                           1  \n",
       "3896                         0                           1  \n",
       "\n",
       "[3897 rows x 30 columns]"
      ]
     },
     "execution_count": 119,
     "metadata": {},
     "output_type": "execute_result"
    }
   ],
   "source": [
    "per_df = (df[perenial_list] != 0).astype(int)\n",
    "per_df"
   ]
  },
  {
   "cell_type": "code",
   "execution_count": 187,
   "id": "46df6249-1eb1-44ee-904a-77728215ace7",
   "metadata": {},
   "outputs": [
    {
     "data": {
      "text/plain": [
       "26.736636636636636"
      ]
     },
     "execution_count": 187,
     "metadata": {},
     "output_type": "execute_result"
    }
   ],
   "source": [
    "df['food_banana_sold'].mean()"
   ]
  },
  {
   "cell_type": "code",
   "execution_count": 189,
   "id": "9a6bf82c-5a96-40d7-8ed9-1c2a7e83ad61",
   "metadata": {},
   "outputs": [
    {
     "data": {
      "text/plain": [
       "above2\n",
       "above 2.15    113.116740\n",
       "below 2.15     55.838679\n",
       "Name: food_banana_yeild, dtype: float64"
      ]
     },
     "execution_count": 189,
     "metadata": {},
     "output_type": "execute_result"
    }
   ],
   "source": [
    "df.groupby('above2')['food_banana_yeild'].mean()"
   ]
  },
  {
   "cell_type": "code",
   "execution_count": 212,
   "id": "c3bcd4e6-ac0a-4886-8535-f509f7ec887b",
   "metadata": {},
   "outputs": [
    {
     "data": {
      "text/plain": [
       "Household_Head_Gender  above2    \n",
       "Female Headed          above 2.15    105.168182\n",
       "                       below 2.15     49.712551\n",
       "Male Headed            above 2.15    120.982469\n",
       "                       below 2.15     59.036262\n",
       "Youth Headed           above 2.15     90.203320\n",
       "                       below 2.15     47.718750\n",
       "Name: food_banana_yeild, dtype: float64"
      ]
     },
     "execution_count": 212,
     "metadata": {},
     "output_type": "execute_result"
    }
   ],
   "source": [
    "df.groupby(['Household_Head_Gender','above2'])['food_banana_yeild'].mean()"
   ]
  },
  {
   "cell_type": "code",
   "execution_count": 202,
   "id": "1d775574-979a-4e5f-be34-a3bd5dc71390",
   "metadata": {},
   "outputs": [
    {
     "data": {
      "text/plain": [
       "F_onewayResult(statistic=209.57330911439638, pvalue=4.1651226485736396e-46)"
      ]
     },
     "execution_count": 202,
     "metadata": {},
     "output_type": "execute_result"
    }
   ],
   "source": [
    "f_oneway(above['food_banana_yeild'].dropna(), below['food_banana_yeild'].dropna())"
   ]
  },
  {
   "cell_type": "code",
   "execution_count": 249,
   "id": "6892a7a7-30b3-4d85-a354-626bdd84c81b",
   "metadata": {},
   "outputs": [
    {
     "name": "stdout",
     "output_type": "stream",
     "text": [
      "Female Headed:1.4041962365365018e-11\n",
      "Male Headed:2.0760663622301267e-33\n",
      "Youth Headed:8.809233994500135e-07\n"
     ]
    }
   ],
   "source": [
    "pvalue('food_banana_yeild')"
   ]
  },
  {
   "cell_type": "code",
   "execution_count": 190,
   "id": "e1c57028-b33f-4dc6-927f-3a2deea2d3a0",
   "metadata": {},
   "outputs": [
    {
     "data": {
      "text/plain": [
       "above2\n",
       "above 2.15    31.528194\n",
       "below 2.15    16.475472\n",
       "Name: food_banana_sold, dtype: float64"
      ]
     },
     "execution_count": 190,
     "metadata": {},
     "output_type": "execute_result"
    }
   ],
   "source": [
    "df.groupby('above2')['food_banana_sold'].mean()"
   ]
  },
  {
   "cell_type": "code",
   "execution_count": 190,
   "id": "d428f90e-7455-432e-bca6-1ae2dc5487b4",
   "metadata": {},
   "outputs": [
    {
     "data": {
      "text/plain": [
       "above2\n",
       "above 2.15    31.528194\n",
       "below 2.15    16.475472\n",
       "Name: food_banana_sold, dtype: float64"
      ]
     },
     "execution_count": 190,
     "metadata": {},
     "output_type": "execute_result"
    }
   ],
   "source": [
    "df.groupby('above2')['food_banana_sold'].mean()"
   ]
  },
  {
   "cell_type": "code",
   "execution_count": 215,
   "id": "e62be8bf-79ff-430f-8d82-b63347654930",
   "metadata": {},
   "outputs": [
    {
     "data": {
      "text/plain": [
       "Household_Head_Gender  above2    \n",
       "Female Headed          above 2.15    31.975758\n",
       "                       below 2.15    15.056680\n",
       "Male Headed            above 2.15    33.081081\n",
       "                       below 2.15    17.117155\n",
       "Youth Headed           above 2.15    21.481328\n",
       "                       below 2.15    15.333333\n",
       "Name: food_banana_sold, dtype: float64"
      ]
     },
     "execution_count": 215,
     "metadata": {},
     "output_type": "execute_result"
    }
   ],
   "source": [
    "df.groupby(['Household_Head_Gender','above2'])['food_banana_sold'].mean()"
   ]
  },
  {
   "cell_type": "code",
   "execution_count": 203,
   "id": "c0c12666-e5b2-4717-86fe-ca92854da162",
   "metadata": {},
   "outputs": [
    {
     "data": {
      "text/plain": [
       "F_onewayResult(statistic=49.449692829280856, pvalue=2.459149517127525e-12)"
      ]
     },
     "execution_count": 203,
     "metadata": {},
     "output_type": "execute_result"
    }
   ],
   "source": [
    "f_oneway(above['food_banana_sold'].dropna(), below['food_banana_sold'].dropna())"
   ]
  },
  {
   "cell_type": "code",
   "execution_count": 250,
   "id": "ba2189ff-2206-4015-ae57-9fba3ff48211",
   "metadata": {},
   "outputs": [
    {
     "name": "stdout",
     "output_type": "stream",
     "text": [
      "Female Headed:0.000174527673072616\n",
      "Male Headed:3.93661022705777e-09\n",
      "Youth Headed:0.21466759423953352\n"
     ]
    }
   ],
   "source": [
    "pvalue('food_banana_sold')"
   ]
  },
  {
   "cell_type": "code",
   "execution_count": null,
   "id": "921aff45-60ce-4e7b-ad6e-c06d187018bd",
   "metadata": {},
   "outputs": [],
   "source": []
  },
  {
   "cell_type": "code",
   "execution_count": 398,
   "id": "7a0f8fce-0422-41c8-bbe0-30992de0e5dd",
   "metadata": {},
   "outputs": [
    {
     "name": "stderr",
     "output_type": "stream",
     "text": [
      "/var/folders/xd/0btgr76j2zxc4__ynw0yhwbm0000gn/T/ipykernel_20832/1199303882.py:1: SettingWithCopyWarning: \n",
      "A value is trying to be set on a copy of a slice from a DataFrame.\n",
      "Try using .loc[row_indexer,col_indexer] = value instead\n",
      "\n",
      "See the caveats in the documentation: https://pandas.pydata.org/pandas-docs/stable/user_guide/indexing.html#returning-a-view-versus-a-copy\n",
      "  df['food_banana_price'] = (df['food_banana_price'] * 0.8066)/1270.608\n"
     ]
    }
   ],
   "source": [
    "df['food_banana_price'] = (df['food_banana_price'] * 0.8066)/1270.608"
   ]
  },
  {
   "cell_type": "code",
   "execution_count": 399,
   "id": "4d74a03a-e3e4-4fbc-8528-e97f8ce139fd",
   "metadata": {},
   "outputs": [
    {
     "name": "stderr",
     "output_type": "stream",
     "text": [
      "/var/folders/xd/0btgr76j2zxc4__ynw0yhwbm0000gn/T/ipykernel_20832/565300336.py:1: SettingWithCopyWarning: \n",
      "A value is trying to be set on a copy of a slice from a DataFrame.\n",
      "Try using .loc[row_indexer,col_indexer] = value instead\n",
      "\n",
      "See the caveats in the documentation: https://pandas.pydata.org/pandas-docs/stable/user_guide/indexing.html#returning-a-view-versus-a-copy\n",
      "  df['food_banana_value'] = df[['food_banana_yeild','food_banana_price']].product(axis=1)\n"
     ]
    }
   ],
   "source": [
    "df['food_banana_value'] = df[['food_banana_yeild','food_banana_price']].product(axis=1)"
   ]
  },
  {
   "cell_type": "code",
   "execution_count": 531,
   "id": "70783bac-2c99-4363-b854-9d8309618607",
   "metadata": {},
   "outputs": [],
   "source": [
    "df_ = df[df['food_banana_value'] != 0]"
   ]
  },
  {
   "cell_type": "code",
   "execution_count": 532,
   "id": "ae017e4d-f732-4048-aaa7-f96dc5a54957",
   "metadata": {},
   "outputs": [
    {
     "data": {
      "text/plain": [
       "above2\n",
       "above 2.15    573.370634\n",
       "below 2.15    209.810979\n",
       "Name: food_banana_value, dtype: float64"
      ]
     },
     "execution_count": 532,
     "metadata": {},
     "output_type": "execute_result"
    }
   ],
   "source": [
    "df_.groupby('above2')['food_banana_value'].mean()"
   ]
  },
  {
   "cell_type": "code",
   "execution_count": 533,
   "id": "3a435c46-d46a-4e9b-a795-5325cb4d8780",
   "metadata": {},
   "outputs": [
    {
     "data": {
      "text/plain": [
       "above2\n",
       "above 2.15    380.88852\n",
       "below 2.15    126.96284\n",
       "Name: food_banana_value, dtype: float64"
      ]
     },
     "execution_count": 533,
     "metadata": {},
     "output_type": "execute_result"
    }
   ],
   "source": [
    "df_.groupby('above2')['food_banana_value'].median()"
   ]
  },
  {
   "cell_type": "code",
   "execution_count": 401,
   "id": "0a3ed3f1-19f3-40ec-a00d-a0c9700acaba",
   "metadata": {},
   "outputs": [
    {
     "data": {
      "text/plain": [
       "Household_Head_Gender  above2    \n",
       "Female Headed          above 2.15    507.570184\n",
       "                       below 2.15    185.901359\n",
       "Male Headed            above 2.15    618.453690\n",
       "                       below 2.15    222.223976\n",
       "Youth Headed           above 2.15    472.618425\n",
       "                       below 2.15    164.898562\n",
       "Name: food_banana_value, dtype: float64"
      ]
     },
     "execution_count": 401,
     "metadata": {},
     "output_type": "execute_result"
    }
   ],
   "source": [
    "df.groupby(['Household_Head_Gender','above2'])['food_banana_value'].mean()"
   ]
  },
  {
   "cell_type": "code",
   "execution_count": 402,
   "id": "54e65312-59d4-4e6b-876c-2ac1a0893c8d",
   "metadata": {},
   "outputs": [
    {
     "data": {
      "text/plain": [
       "F_onewayResult(statistic=738.5962240999401, pvalue=4.272296740214785e-148)"
      ]
     },
     "execution_count": 402,
     "metadata": {},
     "output_type": "execute_result"
    }
   ],
   "source": [
    "f_oneway(above['food_banana_sold'].dropna(), below['food_banana_value'].dropna())"
   ]
  },
  {
   "cell_type": "code",
   "execution_count": 394,
   "id": "ae80e3e6-876b-4838-bdc0-32ba2926e685",
   "metadata": {},
   "outputs": [
    {
     "name": "stdout",
     "output_type": "stream",
     "text": [
      "Female Headed:5.892082176936991e-18\n",
      "Male Headed:4.3266659438565873e-54\n",
      "Youth Headed:8.162165875212351e-11\n"
     ]
    }
   ],
   "source": [
    "pvalue('food_banana_value')"
   ]
  },
  {
   "cell_type": "code",
   "execution_count": null,
   "id": "513b3826-5f09-4b76-a539-77e1bf769352",
   "metadata": {},
   "outputs": [],
   "source": []
  },
  {
   "cell_type": "code",
   "execution_count": null,
   "id": "a55a8c65-cd1b-47cc-ba0f-31b7d0b69897",
   "metadata": {},
   "outputs": [],
   "source": []
  },
  {
   "cell_type": "code",
   "execution_count": null,
   "id": "4c8f276d-095b-4923-9f9f-c1ebdf90df8b",
   "metadata": {},
   "outputs": [],
   "source": []
  },
  {
   "cell_type": "code",
   "execution_count": null,
   "id": "bc0bad6c-dae7-4bfc-8130-6a76622a9dd5",
   "metadata": {},
   "outputs": [],
   "source": []
  },
  {
   "cell_type": "code",
   "execution_count": null,
   "id": "022d9af2-2838-443d-ab95-12f078ff2469",
   "metadata": {},
   "outputs": [],
   "source": []
  },
  {
   "cell_type": "code",
   "execution_count": 194,
   "id": "320af1e2-df5e-430f-b4e3-17e4493ede25",
   "metadata": {},
   "outputs": [
    {
     "name": "stderr",
     "output_type": "stream",
     "text": [
      "/var/folders/xd/0btgr76j2zxc4__ynw0yhwbm0000gn/T/ipykernel_20832/2659047873.py:1: SettingWithCopyWarning: \n",
      "A value is trying to be set on a copy of a slice from a DataFrame.\n",
      "Try using .loc[row_indexer,col_indexer] = value instead\n",
      "\n",
      "See the caveats in the documentation: https://pandas.pydata.org/pandas-docs/stable/user_guide/indexing.html#returning-a-view-versus-a-copy\n",
      "  df['coffee_yield'] = df[['coffee_yeild_robusta','coffee_yeild_nasaland']].sum(axis=1)\n"
     ]
    }
   ],
   "source": [
    "df['coffee_yield'] = df[['coffee_yeild_robusta','coffee_yeild_nasaland']].sum(axis=1)"
   ]
  },
  {
   "cell_type": "code",
   "execution_count": 196,
   "id": "a064aa51-c02f-42e9-9316-1f5b79029652",
   "metadata": {},
   "outputs": [
    {
     "data": {
      "text/plain": [
       "above2\n",
       "above 2.15    128.894488\n",
       "below 2.15     66.185704\n",
       "Name: coffee_yield, dtype: float64"
      ]
     },
     "execution_count": 196,
     "metadata": {},
     "output_type": "execute_result"
    }
   ],
   "source": [
    "df.groupby('above2')['coffee_yield'].mean()"
   ]
  },
  {
   "cell_type": "code",
   "execution_count": 213,
   "id": "4087d172-34dc-4ad8-ba1c-6482659079e9",
   "metadata": {},
   "outputs": [
    {
     "data": {
      "text/plain": [
       "Household_Head_Gender  above2    \n",
       "Female Headed          above 2.15    111.253333\n",
       "                       below 2.15     51.993750\n",
       "Male Headed            above 2.15    142.110526\n",
       "                       below 2.15     71.296009\n",
       "Youth Headed           above 2.15    103.496296\n",
       "                       below 2.15     65.681481\n",
       "Name: coffee_yield, dtype: float64"
      ]
     },
     "execution_count": 213,
     "metadata": {},
     "output_type": "execute_result"
    }
   ],
   "source": [
    "df.groupby(['Household_Head_Gender','above2'])['coffee_yield'].mean()"
   ]
  },
  {
   "cell_type": "code",
   "execution_count": null,
   "id": "5372a450-69fd-4a3f-92cd-5277d78c1af9",
   "metadata": {},
   "outputs": [],
   "source": []
  },
  {
   "cell_type": "code",
   "execution_count": null,
   "id": "9c48717b-b7d3-4a32-80a5-587b81b0c97e",
   "metadata": {},
   "outputs": [],
   "source": []
  },
  {
   "cell_type": "code",
   "execution_count": null,
   "id": "bc4e14cd-98bf-46a6-ab8b-acd6b30df68b",
   "metadata": {},
   "outputs": [],
   "source": []
  },
  {
   "cell_type": "code",
   "execution_count": null,
   "id": "3ce91e7e-068f-4864-ae4c-f2e11aebde0b",
   "metadata": {},
   "outputs": [],
   "source": []
  },
  {
   "cell_type": "code",
   "execution_count": 199,
   "id": "626cbd47-62e8-489e-85fb-6b3180208f30",
   "metadata": {},
   "outputs": [
    {
     "name": "stderr",
     "output_type": "stream",
     "text": [
      "/var/folders/xd/0btgr76j2zxc4__ynw0yhwbm0000gn/T/ipykernel_20832/4178366304.py:1: SettingWithCopyWarning: \n",
      "A value is trying to be set on a copy of a slice from a DataFrame.\n",
      "Try using .loc[row_indexer,col_indexer] = value instead\n",
      "\n",
      "See the caveats in the documentation: https://pandas.pydata.org/pandas-docs/stable/user_guide/indexing.html#returning-a-view-versus-a-copy\n",
      "  df['coffee_sold'] = df[[\"coffee_sold_fresh_nasaland\",\"coffee_sold_dry_nasaland\",\"coffee_sold_process_nasaland\",\n"
     ]
    }
   ],
   "source": [
    "df['coffee_sold'] = df[[\"coffee_sold_fresh_nasaland\",\"coffee_sold_dry_nasaland\",\"coffee_sold_process_nasaland\",\n",
    "    \"coffee_sold_fresh_robusta\",\"coffee_sold_dry_robusta\",\"coffee_sold_process_robusta\"]].sum(axis=1)"
   ]
  },
  {
   "cell_type": "code",
   "execution_count": 220,
   "id": "3bc347e1-50b6-4fe2-bff4-56327fd59135",
   "metadata": {},
   "outputs": [
    {
     "name": "stderr",
     "output_type": "stream",
     "text": [
      "/var/folders/xd/0btgr76j2zxc4__ynw0yhwbm0000gn/T/ipykernel_20832/3937576490.py:1: SettingWithCopyWarning: \n",
      "A value is trying to be set on a copy of a slice from a DataFrame.\n",
      "Try using .loc[row_indexer,col_indexer] = value instead\n",
      "\n",
      "See the caveats in the documentation: https://pandas.pydata.org/pandas-docs/stable/user_guide/indexing.html#returning-a-view-versus-a-copy\n",
      "  df[\"coffee_sold_fresh\"] = df[[\"coffee_sold_fresh_nasaland\",\"coffee_sold_fresh_robusta\"]].sum(axis=1)\n",
      "/var/folders/xd/0btgr76j2zxc4__ynw0yhwbm0000gn/T/ipykernel_20832/3937576490.py:2: SettingWithCopyWarning: \n",
      "A value is trying to be set on a copy of a slice from a DataFrame.\n",
      "Try using .loc[row_indexer,col_indexer] = value instead\n",
      "\n",
      "See the caveats in the documentation: https://pandas.pydata.org/pandas-docs/stable/user_guide/indexing.html#returning-a-view-versus-a-copy\n",
      "  df[\"coffee_sold_dry\"] = df[[\"coffee_sold_dry_nasaland\",\"coffee_sold_dry_robusta\"]].sum(axis=1)\n",
      "/var/folders/xd/0btgr76j2zxc4__ynw0yhwbm0000gn/T/ipykernel_20832/3937576490.py:3: SettingWithCopyWarning: \n",
      "A value is trying to be set on a copy of a slice from a DataFrame.\n",
      "Try using .loc[row_indexer,col_indexer] = value instead\n",
      "\n",
      "See the caveats in the documentation: https://pandas.pydata.org/pandas-docs/stable/user_guide/indexing.html#returning-a-view-versus-a-copy\n",
      "  df[\"coffee_sold_processed\"] = df[[\"coffee_sold_process_nasaland\",\"coffee_sold_process_robusta\"]].sum(axis=1)\n"
     ]
    }
   ],
   "source": [
    "df[\"coffee_sold_fresh\"] = df[[\"coffee_sold_fresh_nasaland\",\"coffee_sold_fresh_robusta\"]].sum(axis=1)\n",
    "df[\"coffee_sold_dry\"] = df[[\"coffee_sold_dry_nasaland\",\"coffee_sold_dry_robusta\"]].sum(axis=1)\n",
    "df[\"coffee_sold_processed\"] = df[[\"coffee_sold_process_nasaland\",\"coffee_sold_process_robusta\"]].sum(axis=1)"
   ]
  },
  {
   "cell_type": "code",
   "execution_count": 205,
   "id": "3f579553-710c-4943-930d-5031790d6ae9",
   "metadata": {},
   "outputs": [
    {
     "data": {
      "text/plain": [
       "above2\n",
       "above 2.15    129.352756\n",
       "below 2.15     62.587325\n",
       "Name: coffee_sold, dtype: float64"
      ]
     },
     "execution_count": 205,
     "metadata": {},
     "output_type": "execute_result"
    }
   ],
   "source": [
    "df.groupby('above2')[\"coffee_sold\"].mean()"
   ]
  },
  {
   "cell_type": "code",
   "execution_count": 251,
   "id": "9a86109c-3c1b-47fb-b5c4-0437f534a38e",
   "metadata": {},
   "outputs": [
    {
     "name": "stdout",
     "output_type": "stream",
     "text": [
      "Female Headed:5.4286804418825326e-08\n",
      "Male Headed:4.669981657488582e-25\n",
      "Youth Headed:0.0069234348874391075\n"
     ]
    }
   ],
   "source": [
    "pvalue('coffee_sold')"
   ]
  },
  {
   "cell_type": "code",
   "execution_count": 221,
   "id": "0b698cdb-1f17-4afd-b41b-42ed6e365080",
   "metadata": {},
   "outputs": [
    {
     "data": {
      "text/plain": [
       "above2\n",
       "above 2.15    82.146457\n",
       "below 2.15    52.488578\n",
       "Name: coffee_sold_fresh, dtype: float64"
      ]
     },
     "execution_count": 221,
     "metadata": {},
     "output_type": "execute_result"
    }
   ],
   "source": [
    "df.groupby('above2')[\"coffee_sold_fresh\"].mean()"
   ]
  },
  {
   "cell_type": "code",
   "execution_count": 222,
   "id": "a8a64daa-de8c-4213-9e17-03144c877aef",
   "metadata": {},
   "outputs": [
    {
     "data": {
      "text/plain": [
       "Household_Head_Gender  above2    \n",
       "Female Headed          above 2.15    72.189333\n",
       "                       below 2.15    39.775000\n",
       "Male Headed            above 2.15    88.792763\n",
       "                       below 2.15    56.947894\n",
       "Youth Headed           above 2.15    72.388889\n",
       "                       below 2.15    52.829630\n",
       "Name: coffee_sold_fresh, dtype: float64"
      ]
     },
     "execution_count": 222,
     "metadata": {},
     "output_type": "execute_result"
    }
   ],
   "source": [
    "df.groupby(['Household_Head_Gender','above2'])[\"coffee_sold_fresh\"].mean()"
   ]
  },
  {
   "cell_type": "code",
   "execution_count": 247,
   "id": "aa6aa72c-b100-4260-9e78-4f0bc4bfd045",
   "metadata": {},
   "outputs": [
    {
     "data": {
      "text/plain": [
       "F_onewayResult(statistic=43.96808725879828, pvalue=3.796224404684608e-11)"
      ]
     },
     "execution_count": 247,
     "metadata": {},
     "output_type": "execute_result"
    }
   ],
   "source": [
    "f_oneway(above['coffee_sold_fresh'].dropna(), below['coffee_sold_fresh'].dropna())"
   ]
  },
  {
   "cell_type": "code",
   "execution_count": 248,
   "id": "c5591825-9509-42e3-a1ff-4a9c55f57e1e",
   "metadata": {},
   "outputs": [
    {
     "name": "stdout",
     "output_type": "stream",
     "text": [
      "Female Headed:0.00018992905053891334\n",
      "Male Headed:2.1681910577009e-08\n",
      "Youth Headed:0.1509461839194047\n"
     ]
    }
   ],
   "source": [
    "pvalue('coffee_sold_fresh')"
   ]
  },
  {
   "cell_type": "code",
   "execution_count": null,
   "id": "6d954139-6b21-469e-9754-eb9d84bb16ed",
   "metadata": {},
   "outputs": [],
   "source": []
  },
  {
   "cell_type": "code",
   "execution_count": null,
   "id": "f82897f2-395d-4c3d-ae77-1ab478e1b24c",
   "metadata": {},
   "outputs": [],
   "source": []
  },
  {
   "cell_type": "code",
   "execution_count": 223,
   "id": "0d22ccfa-0430-4d8b-b109-8d105e135e6b",
   "metadata": {},
   "outputs": [
    {
     "data": {
      "text/plain": [
       "above2\n",
       "above 2.15    31.322835\n",
       "below 2.15     7.312454\n",
       "Name: coffee_sold_dry, dtype: float64"
      ]
     },
     "execution_count": 223,
     "metadata": {},
     "output_type": "execute_result"
    }
   ],
   "source": [
    "df.groupby('above2')[\"coffee_sold_dry\"].mean()"
   ]
  },
  {
   "cell_type": "code",
   "execution_count": 229,
   "id": "417fd269-65a0-4c0a-9762-9ae0980fe8b1",
   "metadata": {},
   "outputs": [
    {
     "data": {
      "text/plain": [
       "F_onewayResult(statistic=52.84977441491726, pvalue=4.3295032391969604e-13)"
      ]
     },
     "execution_count": 229,
     "metadata": {},
     "output_type": "execute_result"
    }
   ],
   "source": [
    "f_oneway(above['coffee_sold_dry'].dropna(), below['coffee_sold_dry'].dropna())"
   ]
  },
  {
   "cell_type": "code",
   "execution_count": 224,
   "id": "79f51fae-1f4e-46bc-a2cc-3a512018257b",
   "metadata": {},
   "outputs": [
    {
     "data": {
      "text/plain": [
       "Household_Head_Gender  above2    \n",
       "Female Headed          above 2.15    26.149333\n",
       "                       below 2.15     5.146875\n",
       "Male Headed            above 2.15    35.711842\n",
       "                       below 2.15     8.467849\n",
       "Youth Headed           above 2.15    20.985185\n",
       "                       below 2.15     4.725926\n",
       "Name: coffee_sold_dry, dtype: float64"
      ]
     },
     "execution_count": 224,
     "metadata": {},
     "output_type": "execute_result"
    }
   ],
   "source": [
    "df.groupby(['Household_Head_Gender','above2'])[\"coffee_sold_dry\"].mean()"
   ]
  },
  {
   "cell_type": "code",
   "execution_count": 240,
   "id": "ab1313f9-add0-40ca-a1ab-a5362abc328f",
   "metadata": {},
   "outputs": [],
   "source": [
    "def pvalue(variable):\n",
    "    household_types = ['Female Headed', 'Male Headed', 'Youth Headed']\n",
    "    for hh in household_types:\n",
    "        print(f\"{hh}:{perform_anova_for_gender_and_variable(hh,variable).pvalue}\")"
   ]
  },
  {
   "cell_type": "code",
   "execution_count": 241,
   "id": "be83d9b1-0b07-40b0-b12f-122f3a6cc4a8",
   "metadata": {},
   "outputs": [
    {
     "name": "stdout",
     "output_type": "stream",
     "text": [
      "Female Headed:0.0019318503484913872\n",
      "Male Headed:9.031408742902446e-11\n",
      "Youth Headed:0.054435162440931176\n"
     ]
    }
   ],
   "source": [
    "pvalue('coffee_sold_dry')"
   ]
  },
  {
   "cell_type": "code",
   "execution_count": null,
   "id": "b41d5792-f9a7-4557-abc8-fd8a1d82e438",
   "metadata": {},
   "outputs": [],
   "source": []
  },
  {
   "cell_type": "code",
   "execution_count": null,
   "id": "14e52fa5-aa6a-4907-ab93-be3e76ddc5bf",
   "metadata": {},
   "outputs": [],
   "source": []
  },
  {
   "cell_type": "code",
   "execution_count": 243,
   "id": "67ee1dfa-6840-453a-915d-f7c0088fb2ac",
   "metadata": {},
   "outputs": [
    {
     "data": {
      "text/plain": [
       "above2\n",
       "above 2.15    15.883465\n",
       "below 2.15     2.786293\n",
       "Name: coffee_sold_processed, dtype: float64"
      ]
     },
     "execution_count": 243,
     "metadata": {},
     "output_type": "execute_result"
    }
   ],
   "source": [
    "df.groupby('above2')[\"coffee_sold_processed\"].mean()"
   ]
  },
  {
   "cell_type": "code",
   "execution_count": 244,
   "id": "4affa94d-2e77-4f81-bd24-a2521eb6384d",
   "metadata": {},
   "outputs": [
    {
     "data": {
      "text/plain": [
       "Household_Head_Gender  above2    \n",
       "Female Headed          above 2.15    12.641333\n",
       "                       below 2.15     3.837500\n",
       "Male Headed            above 2.15    18.650000\n",
       "                       below 2.15     2.431264\n",
       "Youth Headed           above 2.15     9.314815\n",
       "                       below 2.15     2.666667\n",
       "Name: coffee_sold_processed, dtype: float64"
      ]
     },
     "execution_count": 244,
     "metadata": {},
     "output_type": "execute_result"
    }
   ],
   "source": [
    "df.groupby(['Household_Head_Gender','above2'])[\"coffee_sold_processed\"].mean()"
   ]
  },
  {
   "cell_type": "code",
   "execution_count": 245,
   "id": "1fa0694d-6c6e-48fc-9213-44301ec827a9",
   "metadata": {},
   "outputs": [
    {
     "data": {
      "text/plain": [
       "F_onewayResult(statistic=71.10850301559697, pvalue=4.7012922258278865e-17)"
      ]
     },
     "execution_count": 245,
     "metadata": {},
     "output_type": "execute_result"
    }
   ],
   "source": [
    "f_oneway(above['coffee_sold_processed'].dropna(), below['coffee_sold_processed'].dropna())"
   ]
  },
  {
   "cell_type": "code",
   "execution_count": 246,
   "id": "92001b12-6006-4bc1-80f7-c3f8b1fe3676",
   "metadata": {},
   "outputs": [
    {
     "name": "stdout",
     "output_type": "stream",
     "text": [
      "Female Headed:0.002323841401743927\n",
      "Male Headed:9.684987180109845e-15\n",
      "Youth Headed:0.033414449485279864\n"
     ]
    }
   ],
   "source": [
    "pvalue('coffee_sold_processed')"
   ]
  },
  {
   "cell_type": "code",
   "execution_count": 242,
   "id": "2520a1b3-95ca-4141-bd47-0bc7150520f4",
   "metadata": {},
   "outputs": [
    {
     "data": {
      "text/plain": [
       "above2\n",
       "above 2.15    15.883465\n",
       "below 2.15     2.786293\n",
       "Name: coffee_sold_processed, dtype: float64"
      ]
     },
     "execution_count": 242,
     "metadata": {},
     "output_type": "execute_result"
    }
   ],
   "source": [
    "df.groupby('above2')[\"coffee_sold_processed\"].mean()"
   ]
  },
  {
   "cell_type": "code",
   "execution_count": 222,
   "id": "969c6553-f925-40c6-ab12-dc9797afcf27",
   "metadata": {},
   "outputs": [
    {
     "data": {
      "text/plain": [
       "Household_Head_Gender  above2    \n",
       "Female Headed          above 2.15    72.189333\n",
       "                       below 2.15    39.775000\n",
       "Male Headed            above 2.15    88.792763\n",
       "                       below 2.15    56.947894\n",
       "Youth Headed           above 2.15    72.388889\n",
       "                       below 2.15    52.829630\n",
       "Name: coffee_sold_fresh, dtype: float64"
      ]
     },
     "execution_count": 222,
     "metadata": {},
     "output_type": "execute_result"
    }
   ],
   "source": [
    "df.groupby(['Household_Head_Gender','above2'])[\"coffee_sold_fresh\"].mean()"
   ]
  },
  {
   "cell_type": "code",
   "execution_count": null,
   "id": "c533286d-682a-4f2c-9864-25cf0dd50565",
   "metadata": {},
   "outputs": [],
   "source": []
  },
  {
   "cell_type": "code",
   "execution_count": 214,
   "id": "c5ab3960-f045-4016-ab0a-85316ea0a434",
   "metadata": {},
   "outputs": [
    {
     "data": {
      "text/plain": [
       "Household_Head_Gender  above2    \n",
       "Female Headed          above 2.15    110.980000\n",
       "                       below 2.15     48.759375\n",
       "Male Headed            above 2.15    143.154605\n",
       "                       below 2.15     67.847007\n",
       "Youth Headed           above 2.15    102.688889\n",
       "                       below 2.15     60.222222\n",
       "Name: coffee_sold, dtype: float64"
      ]
     },
     "execution_count": 214,
     "metadata": {},
     "output_type": "execute_result"
    }
   ],
   "source": [
    "df.groupby(['Household_Head_Gender','above2'])[\"coffee_sold\"].mean()"
   ]
  },
  {
   "cell_type": "code",
   "execution_count": 210,
   "id": "f2cd54cc-b703-4e6f-ab68-6f3b8773f558",
   "metadata": {},
   "outputs": [
    {
     "data": {
      "text/plain": [
       "F_onewayResult(statistic=137.48961717549736, pvalue=3.1374080606684217e-31)"
      ]
     },
     "execution_count": 210,
     "metadata": {},
     "output_type": "execute_result"
    }
   ],
   "source": [
    "f_oneway(above['coffee_sold'].dropna(), below['coffee_sold'].dropna())"
   ]
  },
  {
   "cell_type": "code",
   "execution_count": null,
   "id": "2946fb40-92de-449f-bc35-b9beead40589",
   "metadata": {},
   "outputs": [],
   "source": [
    "coffee_price_fresh_nasaland\tcoffee_price_dried_nasaland\tcoffee_price_process_nasaland\n",
    "coffee_sold_fresh_robusta\tcoffee_sold_dry_robusta\tcoffee_sold_process_robusta"
   ]
  },
  {
   "cell_type": "code",
   "execution_count": 253,
   "id": "5c745d63-9f78-4a75-a0df-3d5c8a0f3fbf",
   "metadata": {},
   "outputs": [
    {
     "data": {
      "text/html": [
       "<div>\n",
       "<style scoped>\n",
       "    .dataframe tbody tr th:only-of-type {\n",
       "        vertical-align: middle;\n",
       "    }\n",
       "\n",
       "    .dataframe tbody tr th {\n",
       "        vertical-align: top;\n",
       "    }\n",
       "\n",
       "    .dataframe thead th {\n",
       "        text-align: right;\n",
       "    }\n",
       "</style>\n",
       "<table border=\"1\" class=\"dataframe\">\n",
       "  <thead>\n",
       "    <tr style=\"text-align: right;\">\n",
       "      <th></th>\n",
       "      <th>coffee_price_fresh_nasaland</th>\n",
       "      <th>coffee_sold_fresh_robusta</th>\n",
       "    </tr>\n",
       "  </thead>\n",
       "  <tbody>\n",
       "    <tr>\n",
       "      <th>0</th>\n",
       "      <td>NaN</td>\n",
       "      <td>NaN</td>\n",
       "    </tr>\n",
       "    <tr>\n",
       "      <th>1</th>\n",
       "      <td>NaN</td>\n",
       "      <td>NaN</td>\n",
       "    </tr>\n",
       "    <tr>\n",
       "      <th>2</th>\n",
       "      <td>NaN</td>\n",
       "      <td>30.0</td>\n",
       "    </tr>\n",
       "    <tr>\n",
       "      <th>3</th>\n",
       "      <td>NaN</td>\n",
       "      <td>30.0</td>\n",
       "    </tr>\n",
       "    <tr>\n",
       "      <th>4</th>\n",
       "      <td>NaN</td>\n",
       "      <td>NaN</td>\n",
       "    </tr>\n",
       "    <tr>\n",
       "      <th>...</th>\n",
       "      <td>...</td>\n",
       "      <td>...</td>\n",
       "    </tr>\n",
       "    <tr>\n",
       "      <th>3892</th>\n",
       "      <td>NaN</td>\n",
       "      <td>NaN</td>\n",
       "    </tr>\n",
       "    <tr>\n",
       "      <th>3893</th>\n",
       "      <td>NaN</td>\n",
       "      <td>NaN</td>\n",
       "    </tr>\n",
       "    <tr>\n",
       "      <th>3894</th>\n",
       "      <td>NaN</td>\n",
       "      <td>NaN</td>\n",
       "    </tr>\n",
       "    <tr>\n",
       "      <th>3895</th>\n",
       "      <td>NaN</td>\n",
       "      <td>NaN</td>\n",
       "    </tr>\n",
       "    <tr>\n",
       "      <th>3896</th>\n",
       "      <td>NaN</td>\n",
       "      <td>0.0</td>\n",
       "    </tr>\n",
       "  </tbody>\n",
       "</table>\n",
       "<p>3897 rows × 2 columns</p>\n",
       "</div>"
      ],
      "text/plain": [
       "      coffee_price_fresh_nasaland  coffee_sold_fresh_robusta\n",
       "0                             NaN                        NaN\n",
       "1                             NaN                        NaN\n",
       "2                             NaN                       30.0\n",
       "3                             NaN                       30.0\n",
       "4                             NaN                        NaN\n",
       "...                           ...                        ...\n",
       "3892                          NaN                        NaN\n",
       "3893                          NaN                        NaN\n",
       "3894                          NaN                        NaN\n",
       "3895                          NaN                        NaN\n",
       "3896                          NaN                        0.0\n",
       "\n",
       "[3897 rows x 2 columns]"
      ]
     },
     "execution_count": 253,
     "metadata": {},
     "output_type": "execute_result"
    }
   ],
   "source": [
    "df[['coffee_price_fresh_nasaland','coffee_sold_fresh_robusta']]"
   ]
  },
  {
   "cell_type": "code",
   "execution_count": 256,
   "id": "fe6c3b60-4882-436b-9658-3f4acd3401b9",
   "metadata": {},
   "outputs": [
    {
     "name": "stderr",
     "output_type": "stream",
     "text": [
      "/var/folders/xd/0btgr76j2zxc4__ynw0yhwbm0000gn/T/ipykernel_20832/3453938140.py:1: SettingWithCopyWarning: \n",
      "A value is trying to be set on a copy of a slice from a DataFrame.\n",
      "Try using .loc[row_indexer,col_indexer] = value instead\n",
      "\n",
      "See the caveats in the documentation: https://pandas.pydata.org/pandas-docs/stable/user_guide/indexing.html#returning-a-view-versus-a-copy\n",
      "  df['coffee_price_fresh'] = df[['coffee_price_fresh_nasaland','coffee_sold_fresh_robusta']].mean(axis=1)\n"
     ]
    }
   ],
   "source": [
    "df['coffee_price_fresh'] = df[['coffee_price_fresh_nasaland','coffee_sold_fresh_robusta']].mean(axis=1)"
   ]
  },
  {
   "cell_type": "code",
   "execution_count": 263,
   "id": "cc2f5604-60e2-4711-8f35-79a59dff1661",
   "metadata": {},
   "outputs": [
    {
     "data": {
      "text/plain": [
       "above2\n",
       "above 2.15    873.607317\n",
       "below 2.15    913.465229\n",
       "Name: coffee_price_fresh, dtype: float64"
      ]
     },
     "execution_count": 263,
     "metadata": {},
     "output_type": "execute_result"
    }
   ],
   "source": [
    "df.groupby('above2')['coffee_price_fresh'].mean()"
   ]
  },
  {
   "cell_type": "code",
   "execution_count": 267,
   "id": "9b5ee0c3-ff7a-43f8-bafa-4407a26fe925",
   "metadata": {},
   "outputs": [
    {
     "data": {
      "text/plain": [
       "F_onewayResult(statistic=1.512656799541001, pvalue=0.21885687488649577)"
      ]
     },
     "execution_count": 267,
     "metadata": {},
     "output_type": "execute_result"
    }
   ],
   "source": [
    "f_oneway(above['coffee_price_fresh'].dropna(), below['coffee_price_fresh'].dropna())"
   ]
  },
  {
   "cell_type": "code",
   "execution_count": 261,
   "id": "8ed8d7e1-c8df-418f-b766-78096a9b75aa",
   "metadata": {},
   "outputs": [
    {
     "data": {
      "text/plain": [
       "Household_Head_Gender  above2    \n",
       "Female Headed          above 2.15    906.056193\n",
       "                       below 2.15    868.589172\n",
       "Male Headed            above 2.15    864.679054\n",
       "                       below 2.15    929.601434\n",
       "Youth Headed           above 2.15    844.452381\n",
       "                       below 2.15    902.263514\n",
       "Name: coffee_price_fresh, dtype: float64"
      ]
     },
     "execution_count": 261,
     "metadata": {},
     "output_type": "execute_result"
    }
   ],
   "source": [
    "df.groupby(['Household_Head_Gender','above2'])['coffee_price_fresh'].mean()"
   ]
  },
  {
   "cell_type": "code",
   "execution_count": 268,
   "id": "44eb8e1a-c3af-4a35-a5b0-3b10c499423d",
   "metadata": {},
   "outputs": [
    {
     "name": "stdout",
     "output_type": "stream",
     "text": [
      "Female Headed:0.5753494028919024\n",
      "Male Headed:0.10376565487212099\n",
      "Youth Headed:0.5713940815229838\n"
     ]
    }
   ],
   "source": [
    "pvalue('coffee_price_fresh')"
   ]
  },
  {
   "cell_type": "code",
   "execution_count": 413,
   "id": "70686906-0d72-4258-80ed-6c2d7e210eee",
   "metadata": {},
   "outputs": [
    {
     "name": "stderr",
     "output_type": "stream",
     "text": [
      "/var/folders/xd/0btgr76j2zxc4__ynw0yhwbm0000gn/T/ipykernel_20832/1109384115.py:1: SettingWithCopyWarning: \n",
      "A value is trying to be set on a copy of a slice from a DataFrame.\n",
      "Try using .loc[row_indexer,col_indexer] = value instead\n",
      "\n",
      "See the caveats in the documentation: https://pandas.pydata.org/pandas-docs/stable/user_guide/indexing.html#returning-a-view-versus-a-copy\n",
      "  df['coffee_price_dry'] = (df['coffee_price_dry']*0.8066) / 1270.608\n"
     ]
    }
   ],
   "source": [
    "df['coffee_price_dry'] = (df['coffee_price_dry']*0.8066) / 1270.608"
   ]
  },
  {
   "cell_type": "code",
   "execution_count": 414,
   "id": "35cac6ac-0cfb-437c-a84a-d6d06ae31292",
   "metadata": {},
   "outputs": [
    {
     "name": "stderr",
     "output_type": "stream",
     "text": [
      "/var/folders/xd/0btgr76j2zxc4__ynw0yhwbm0000gn/T/ipykernel_20832/744589117.py:1: SettingWithCopyWarning: \n",
      "A value is trying to be set on a copy of a slice from a DataFrame.\n",
      "Try using .loc[row_indexer,col_indexer] = value instead\n",
      "\n",
      "See the caveats in the documentation: https://pandas.pydata.org/pandas-docs/stable/user_guide/indexing.html#returning-a-view-versus-a-copy\n",
      "  df['coffee_value_dry'] = df[['coffee_sold_dry','coffee_price_dry']].product(axis=1)\n"
     ]
    }
   ],
   "source": [
    "df['coffee_value_dry'] = df[['coffee_sold_dry','coffee_price_dry']].product(axis=1)"
   ]
  },
  {
   "cell_type": "code",
   "execution_count": 422,
   "id": "483832f6-2e45-4a4d-987b-b18044babab0",
   "metadata": {},
   "outputs": [],
   "source": [
    "df_ = df[df['coffee_value_dry'] != 0]"
   ]
  },
  {
   "cell_type": "code",
   "execution_count": 423,
   "id": "9ffc002e-efc3-4a19-b6ee-fc9845495d45",
   "metadata": {},
   "outputs": [
    {
     "data": {
      "text/plain": [
       "above2\n",
       "above 2.15    364.857472\n",
       "below 2.15    138.203796\n",
       "Name: coffee_value_dry, dtype: float64"
      ]
     },
     "execution_count": 423,
     "metadata": {},
     "output_type": "execute_result"
    }
   ],
   "source": [
    "df_.groupby('above2')['coffee_value_dry'].mean()"
   ]
  },
  {
   "cell_type": "code",
   "execution_count": 424,
   "id": "9843f3ef-666e-4f49-8544-dd55c52fed9b",
   "metadata": {},
   "outputs": [
    {
     "data": {
      "text/plain": [
       "above2\n",
       "above 2.15    129.152949\n",
       "below 2.15     67.925119\n",
       "Name: coffee_value_dry, dtype: float64"
      ]
     },
     "execution_count": 424,
     "metadata": {},
     "output_type": "execute_result"
    }
   ],
   "source": [
    "df_.groupby('above2')['coffee_value_dry'].median()"
   ]
  },
  {
   "cell_type": "code",
   "execution_count": 425,
   "id": "589ee52f-04a0-4733-bba7-d91d617b40da",
   "metadata": {},
   "outputs": [],
   "source": [
    "below = df_[df_['above2'] == 'above 2.15']\n",
    "above = df_[df_['above2'] == 'below 2.15']"
   ]
  },
  {
   "cell_type": "code",
   "execution_count": null,
   "id": "45e04e3c-b992-4310-9f1f-574cbf351f76",
   "metadata": {},
   "outputs": [],
   "source": []
  },
  {
   "cell_type": "code",
   "execution_count": 426,
   "id": "982a9dec-c844-4061-a02d-17c83c8c7417",
   "metadata": {},
   "outputs": [
    {
     "data": {
      "text/plain": [
       "F_onewayResult(statistic=16.379397564991002, pvalue=6.133900992602114e-05)"
      ]
     },
     "execution_count": 426,
     "metadata": {},
     "output_type": "execute_result"
    }
   ],
   "source": [
    "f_oneway(above['coffee_value_dry'].dropna(), below['coffee_value_dry'].dropna())"
   ]
  },
  {
   "cell_type": "code",
   "execution_count": null,
   "id": "660ccdab-c0da-4185-a83d-58d3fb012cbd",
   "metadata": {},
   "outputs": [],
   "source": []
  },
  {
   "cell_type": "code",
   "execution_count": null,
   "id": "87951580-5be8-46a6-a4c4-4719f3c957f7",
   "metadata": {},
   "outputs": [],
   "source": []
  },
  {
   "cell_type": "code",
   "execution_count": null,
   "id": "b3bcb559-0ded-482c-89b7-59a82fd96ab1",
   "metadata": {},
   "outputs": [],
   "source": []
  },
  {
   "cell_type": "code",
   "execution_count": 427,
   "id": "31a9fbd2-46bd-425c-89f3-e1c2530ffadd",
   "metadata": {},
   "outputs": [
    {
     "name": "stderr",
     "output_type": "stream",
     "text": [
      "/var/folders/xd/0btgr76j2zxc4__ynw0yhwbm0000gn/T/ipykernel_20832/3524914453.py:1: SettingWithCopyWarning: \n",
      "A value is trying to be set on a copy of a slice from a DataFrame.\n",
      "Try using .loc[row_indexer,col_indexer] = value instead\n",
      "\n",
      "See the caveats in the documentation: https://pandas.pydata.org/pandas-docs/stable/user_guide/indexing.html#returning-a-view-versus-a-copy\n",
      "  df['coffee_price_fresh'] = (df['coffee_price_fresh']*0.8066) / 1270.608\n"
     ]
    }
   ],
   "source": [
    "df['coffee_price_fresh'] = (df['coffee_price_fresh']*0.8066) / 1270.608"
   ]
  },
  {
   "cell_type": "code",
   "execution_count": 428,
   "id": "b8cbefd5-a70e-4260-8b98-9f3d339ce512",
   "metadata": {},
   "outputs": [
    {
     "name": "stderr",
     "output_type": "stream",
     "text": [
      "/var/folders/xd/0btgr76j2zxc4__ynw0yhwbm0000gn/T/ipykernel_20832/130586935.py:1: SettingWithCopyWarning: \n",
      "A value is trying to be set on a copy of a slice from a DataFrame.\n",
      "Try using .loc[row_indexer,col_indexer] = value instead\n",
      "\n",
      "See the caveats in the documentation: https://pandas.pydata.org/pandas-docs/stable/user_guide/indexing.html#returning-a-view-versus-a-copy\n",
      "  df['coffee_value_fresh'] = df[['coffee_sold_fresh','coffee_price_fresh']].product(axis=1)\n"
     ]
    }
   ],
   "source": [
    "df['coffee_value_fresh'] = df[['coffee_sold_fresh','coffee_price_fresh']].product(axis=1)"
   ]
  },
  {
   "cell_type": "code",
   "execution_count": 429,
   "id": "62286408-2a17-49f5-9935-24113ef181e4",
   "metadata": {},
   "outputs": [],
   "source": [
    "df_ = df[df['coffee_value_fresh'] != 0]"
   ]
  },
  {
   "cell_type": "code",
   "execution_count": 430,
   "id": "6a4ba23e-92b0-43ed-a2f9-68a18ab7fd7c",
   "metadata": {},
   "outputs": [
    {
     "data": {
      "text/plain": [
       "above2\n",
       "above 2.15    116.603348\n",
       "below 2.15     71.788197\n",
       "Name: coffee_value_fresh, dtype: float64"
      ]
     },
     "execution_count": 430,
     "metadata": {},
     "output_type": "execute_result"
    }
   ],
   "source": [
    "df_.groupby('above2')['coffee_value_fresh'].mean()"
   ]
  },
  {
   "cell_type": "code",
   "execution_count": 431,
   "id": "b537dff0-5160-4a32-bdee-7757a213dbcd",
   "metadata": {},
   "outputs": [
    {
     "data": {
      "text/plain": [
       "above2\n",
       "above 2.15    56.212797\n",
       "below 2.15    35.232188\n",
       "Name: coffee_value_fresh, dtype: float64"
      ]
     },
     "execution_count": 431,
     "metadata": {},
     "output_type": "execute_result"
    }
   ],
   "source": [
    "df_.groupby('above2')['coffee_value_fresh'].median()"
   ]
  },
  {
   "cell_type": "code",
   "execution_count": 432,
   "id": "079e2cae-72dc-4419-b34d-8112c66d4ebe",
   "metadata": {},
   "outputs": [],
   "source": [
    "below = df_[df_['above2'] == 'above 2.15']\n",
    "above = df_[df_['above2'] == 'below 2.15']"
   ]
  },
  {
   "cell_type": "code",
   "execution_count": null,
   "id": "92d653d0-6c7a-432c-a8ad-7d0774723f9a",
   "metadata": {},
   "outputs": [],
   "source": []
  },
  {
   "cell_type": "code",
   "execution_count": 433,
   "id": "46221c32-9542-4d5a-9203-b0fbae57b1fe",
   "metadata": {},
   "outputs": [
    {
     "data": {
      "text/plain": [
       "F_onewayResult(statistic=36.3510606415938, pvalue=1.9969768458020515e-09)"
      ]
     },
     "execution_count": 433,
     "metadata": {},
     "output_type": "execute_result"
    }
   ],
   "source": [
    "f_oneway(above['coffee_value_fresh'].dropna(), below['coffee_value_fresh'].dropna())"
   ]
  },
  {
   "cell_type": "code",
   "execution_count": null,
   "id": "943e3151-09b3-4880-9632-8b1823dfd9d1",
   "metadata": {},
   "outputs": [],
   "source": []
  },
  {
   "cell_type": "code",
   "execution_count": null,
   "id": "4a7d6375-f711-471d-9ea6-f8a1a24fe4ec",
   "metadata": {},
   "outputs": [],
   "source": []
  },
  {
   "cell_type": "code",
   "execution_count": null,
   "id": "a0714a1f-a1db-457b-9b9f-bb8c3a974500",
   "metadata": {},
   "outputs": [],
   "source": []
  },
  {
   "cell_type": "code",
   "execution_count": null,
   "id": "77ea9632-b6a9-4c1f-9c15-2c5c51a5d588",
   "metadata": {},
   "outputs": [],
   "source": []
  },
  {
   "cell_type": "code",
   "execution_count": null,
   "id": "03bb679b-5acc-463a-b9c5-e00809af560b",
   "metadata": {},
   "outputs": [],
   "source": []
  },
  {
   "cell_type": "code",
   "execution_count": null,
   "id": "1c01af89-2cbc-4a1f-84cb-0a0cadc96f93",
   "metadata": {},
   "outputs": [],
   "source": []
  },
  {
   "cell_type": "code",
   "execution_count": 434,
   "id": "e6578a2b-8234-41da-9914-3c688af32bcb",
   "metadata": {},
   "outputs": [
    {
     "name": "stderr",
     "output_type": "stream",
     "text": [
      "/var/folders/xd/0btgr76j2zxc4__ynw0yhwbm0000gn/T/ipykernel_20832/2343467621.py:1: SettingWithCopyWarning: \n",
      "A value is trying to be set on a copy of a slice from a DataFrame.\n",
      "Try using .loc[row_indexer,col_indexer] = value instead\n",
      "\n",
      "See the caveats in the documentation: https://pandas.pydata.org/pandas-docs/stable/user_guide/indexing.html#returning-a-view-versus-a-copy\n",
      "  df['coffee_price_processed'] = (df['coffee_price_processed']*0.8066) / 1270.608\n"
     ]
    }
   ],
   "source": [
    "df['coffee_price_processed'] = (df['coffee_price_processed']*0.8066) / 1270.608"
   ]
  },
  {
   "cell_type": "code",
   "execution_count": 435,
   "id": "fb5376cb-b885-4bea-9689-8e94a9828724",
   "metadata": {},
   "outputs": [
    {
     "name": "stderr",
     "output_type": "stream",
     "text": [
      "/var/folders/xd/0btgr76j2zxc4__ynw0yhwbm0000gn/T/ipykernel_20832/1941648826.py:1: SettingWithCopyWarning: \n",
      "A value is trying to be set on a copy of a slice from a DataFrame.\n",
      "Try using .loc[row_indexer,col_indexer] = value instead\n",
      "\n",
      "See the caveats in the documentation: https://pandas.pydata.org/pandas-docs/stable/user_guide/indexing.html#returning-a-view-versus-a-copy\n",
      "  df['coffee_value_processed'] = df[['coffee_sold_processed','coffee_price_processed']].product(axis=1)\n"
     ]
    }
   ],
   "source": [
    "df['coffee_value_processed'] = df[['coffee_sold_processed','coffee_price_processed']].product(axis=1)"
   ]
  },
  {
   "cell_type": "code",
   "execution_count": 436,
   "id": "486b5225-6740-4678-8316-aa6b1cee2ce7",
   "metadata": {},
   "outputs": [],
   "source": [
    "df_ = df[df['coffee_value_processed'] != 0]"
   ]
  },
  {
   "cell_type": "code",
   "execution_count": 437,
   "id": "a9d2bfd2-7227-4351-a4ad-27407271eb8d",
   "metadata": {},
   "outputs": [
    {
     "data": {
      "text/plain": [
       "above2\n",
       "above 2.15    440.576206\n",
       "below 2.15    164.779084\n",
       "Name: coffee_value_processed, dtype: float64"
      ]
     },
     "execution_count": 437,
     "metadata": {},
     "output_type": "execute_result"
    }
   ],
   "source": [
    "df_.groupby('above2')['coffee_value_processed'].mean()"
   ]
  },
  {
   "cell_type": "code",
   "execution_count": 438,
   "id": "023ec72e-5350-47ad-9c84-bcd5e5057e17",
   "metadata": {},
   "outputs": [
    {
     "data": {
      "text/plain": [
       "above2\n",
       "above 2.15    215.836828\n",
       "below 2.15    101.098129\n",
       "Name: coffee_value_processed, dtype: float64"
      ]
     },
     "execution_count": 438,
     "metadata": {},
     "output_type": "execute_result"
    }
   ],
   "source": [
    "df_.groupby('above2')['coffee_value_processed'].median()"
   ]
  },
  {
   "cell_type": "code",
   "execution_count": 439,
   "id": "1cf29b86-ffeb-440d-b9d8-542fbbe195f3",
   "metadata": {},
   "outputs": [],
   "source": [
    "below = df_[df_['above2'] == 'above 2.15']\n",
    "above = df_[df_['above2'] == 'below 2.15']"
   ]
  },
  {
   "cell_type": "code",
   "execution_count": null,
   "id": "f9338a7f-785c-4a9f-8ee7-53a6e8331f0b",
   "metadata": {},
   "outputs": [],
   "source": []
  },
  {
   "cell_type": "code",
   "execution_count": 440,
   "id": "984e0d60-411d-4769-9f15-0b5c5623f3d4",
   "metadata": {},
   "outputs": [
    {
     "data": {
      "text/plain": [
       "F_onewayResult(statistic=28.20264190409435, pvalue=1.8562556020467663e-07)"
      ]
     },
     "execution_count": 440,
     "metadata": {},
     "output_type": "execute_result"
    }
   ],
   "source": [
    "f_oneway(above['coffee_value_fresh'].dropna(), below['coffee_value_processed'].dropna())"
   ]
  },
  {
   "cell_type": "code",
   "execution_count": null,
   "id": "dfb4b20e-15b0-4dd1-b3a1-1be227b44653",
   "metadata": {},
   "outputs": [],
   "source": [
    "df['coffee_price_dry"
   ]
  },
  {
   "cell_type": "code",
   "execution_count": null,
   "id": "e1f72947-bd8b-4a53-be32-1a33afc02684",
   "metadata": {},
   "outputs": [],
   "source": []
  },
  {
   "cell_type": "code",
   "execution_count": null,
   "id": "e8e23218-3b6e-49b4-ba85-45f279831bd5",
   "metadata": {},
   "outputs": [],
   "source": []
  },
  {
   "cell_type": "code",
   "execution_count": null,
   "id": "5b2b5d4a-4eed-4def-b4aa-313bf25741e1",
   "metadata": {},
   "outputs": [],
   "source": []
  },
  {
   "cell_type": "markdown",
   "id": "ebacc7d8-2f7f-4a6d-9f47-d8a6bff35eab",
   "metadata": {},
   "source": [
    "Which of the following crops did your household plant during the last complete Season 1?\n",
    "FO go through each type of crop with the interviewee and select all that were cropped\n",
    "\n",
    "1\tBeans\n",
    "2\tGround Nuts\n",
    "3\tSoya\n",
    "4\tPeas\n",
    "5\tMaize\n",
    "6\tMillet\n",
    "7\tSorghum\n",
    "8\tBarley\n",
    "9\tRice\n",
    "10\tIrish Potatoes\n",
    "11\tSweet Potatoes\n",
    "12\tCassava\n",
    "13\tYams\n",
    "14\tGarlic\n",
    "15\tGinger\n",
    "16\tTobbacco\n",
    "97\tOther,specify"
   ]
  },
  {
   "cell_type": "code",
   "execution_count": null,
   "id": "ce4bf2ab-8f1d-4ee1-a61d-17b764195cca",
   "metadata": {},
   "outputs": [],
   "source": []
  },
  {
   "cell_type": "code",
   "execution_count": 293,
   "id": "0eaa84e2-06f2-4138-b717-d658ccfdb2e5",
   "metadata": {},
   "outputs": [
    {
     "data": {
      "text/html": [
       "<div>\n",
       "<style scoped>\n",
       "    .dataframe tbody tr th:only-of-type {\n",
       "        vertical-align: middle;\n",
       "    }\n",
       "\n",
       "    .dataframe tbody tr th {\n",
       "        vertical-align: top;\n",
       "    }\n",
       "\n",
       "    .dataframe thead th {\n",
       "        text-align: right;\n",
       "    }\n",
       "</style>\n",
       "<table border=\"1\" class=\"dataframe\">\n",
       "  <thead>\n",
       "    <tr style=\"text-align: right;\">\n",
       "      <th></th>\n",
       "      <th>sn_1_beans_planted</th>\n",
       "      <th>sn_2_beans_planted</th>\n",
       "    </tr>\n",
       "  </thead>\n",
       "  <tbody>\n",
       "    <tr>\n",
       "      <th>0</th>\n",
       "      <td>NaN</td>\n",
       "      <td>6.0</td>\n",
       "    </tr>\n",
       "    <tr>\n",
       "      <th>1</th>\n",
       "      <td>10.0</td>\n",
       "      <td>15.0</td>\n",
       "    </tr>\n",
       "    <tr>\n",
       "      <th>2</th>\n",
       "      <td>3.0</td>\n",
       "      <td>3.0</td>\n",
       "    </tr>\n",
       "    <tr>\n",
       "      <th>3</th>\n",
       "      <td>35.0</td>\n",
       "      <td>10.0</td>\n",
       "    </tr>\n",
       "    <tr>\n",
       "      <th>4</th>\n",
       "      <td>8.0</td>\n",
       "      <td>9.0</td>\n",
       "    </tr>\n",
       "    <tr>\n",
       "      <th>...</th>\n",
       "      <td>...</td>\n",
       "      <td>...</td>\n",
       "    </tr>\n",
       "    <tr>\n",
       "      <th>3892</th>\n",
       "      <td>15.0</td>\n",
       "      <td>7.0</td>\n",
       "    </tr>\n",
       "    <tr>\n",
       "      <th>3893</th>\n",
       "      <td>10.0</td>\n",
       "      <td>NaN</td>\n",
       "    </tr>\n",
       "    <tr>\n",
       "      <th>3894</th>\n",
       "      <td>40.0</td>\n",
       "      <td>400.0</td>\n",
       "    </tr>\n",
       "    <tr>\n",
       "      <th>3895</th>\n",
       "      <td>20.0</td>\n",
       "      <td>30.0</td>\n",
       "    </tr>\n",
       "    <tr>\n",
       "      <th>3896</th>\n",
       "      <td>20.0</td>\n",
       "      <td>30.0</td>\n",
       "    </tr>\n",
       "  </tbody>\n",
       "</table>\n",
       "<p>3897 rows × 2 columns</p>\n",
       "</div>"
      ],
      "text/plain": [
       "      sn_1_beans_planted  sn_2_beans_planted\n",
       "0                    NaN                 6.0\n",
       "1                   10.0                15.0\n",
       "2                    3.0                 3.0\n",
       "3                   35.0                10.0\n",
       "4                    8.0                 9.0\n",
       "...                  ...                 ...\n",
       "3892                15.0                 7.0\n",
       "3893                10.0                 NaN\n",
       "3894                40.0               400.0\n",
       "3895                20.0                30.0\n",
       "3896                20.0                30.0\n",
       "\n",
       "[3897 rows x 2 columns]"
      ]
     },
     "execution_count": 293,
     "metadata": {},
     "output_type": "execute_result"
    }
   ],
   "source": [
    "df[['sn_1_beans_planted','sn_2_beans_planted']]"
   ]
  },
  {
   "cell_type": "code",
   "execution_count": 297,
   "id": "5c20668b-896d-489f-9924-d4c835e6949b",
   "metadata": {},
   "outputs": [
    {
     "name": "stderr",
     "output_type": "stream",
     "text": [
      "/var/folders/xd/0btgr76j2zxc4__ynw0yhwbm0000gn/T/ipykernel_20832/3646049930.py:1: SettingWithCopyWarning: \n",
      "A value is trying to be set on a copy of a slice from a DataFrame.\n",
      "Try using .loc[row_indexer,col_indexer] = value instead\n",
      "\n",
      "See the caveats in the documentation: https://pandas.pydata.org/pandas-docs/stable/user_guide/indexing.html#returning-a-view-versus-a-copy\n",
      "  df['beans_planted'] = df[['sn_1_beans_planted','sn_2_beans_planted']].sum(axis=1)\n"
     ]
    }
   ],
   "source": [
    "df['beans_planted'] = df[['sn_1_beans_planted','sn_2_beans_planted']].sum(axis=1)"
   ]
  },
  {
   "cell_type": "code",
   "execution_count": 299,
   "id": "035a161b-9ac5-4383-86bd-3ea9ca0e8b4c",
   "metadata": {},
   "outputs": [
    {
     "name": "stderr",
     "output_type": "stream",
     "text": [
      "/var/folders/xd/0btgr76j2zxc4__ynw0yhwbm0000gn/T/ipykernel_20832/1778157539.py:1: SettingWithCopyWarning: \n",
      "A value is trying to be set on a copy of a slice from a DataFrame.\n",
      "Try using .loc[row_indexer,col_indexer] = value instead\n",
      "\n",
      "See the caveats in the documentation: https://pandas.pydata.org/pandas-docs/stable/user_guide/indexing.html#returning-a-view-versus-a-copy\n",
      "  df['beans_yield'] = df[['sn_1_beans_Total_Yield','sn_2_beans_Total_Yield']].sum(axis=1)\n"
     ]
    }
   ],
   "source": [
    "df['beans_yield'] = df[['sn_1_beans_Total_Yield','sn_2_beans_Total_Yield']].sum(axis=1)"
   ]
  },
  {
   "cell_type": "code",
   "execution_count": 301,
   "id": "0aee6ff9-8f40-4ac2-bf43-7a9edb6c20a9",
   "metadata": {},
   "outputs": [
    {
     "name": "stderr",
     "output_type": "stream",
     "text": [
      "/var/folders/xd/0btgr76j2zxc4__ynw0yhwbm0000gn/T/ipykernel_20832/1435189620.py:1: SettingWithCopyWarning: \n",
      "A value is trying to be set on a copy of a slice from a DataFrame.\n",
      "Try using .loc[row_indexer,col_indexer] = value instead\n",
      "\n",
      "See the caveats in the documentation: https://pandas.pydata.org/pandas-docs/stable/user_guide/indexing.html#returning-a-view-versus-a-copy\n",
      "  df['beans_yield_per_u'] = df['beans_yield'] / df['beans_planted']\n"
     ]
    }
   ],
   "source": [
    "df['beans_yield_per_u'] = df['beans_yield'] / df['beans_planted']"
   ]
  },
  {
   "cell_type": "code",
   "execution_count": 302,
   "id": "b1bf59ae-8df1-4e62-92a3-cd680523777e",
   "metadata": {},
   "outputs": [
    {
     "data": {
      "text/plain": [
       "above2\n",
       "above 2.15    10.474305\n",
       "below 2.15     6.873814\n",
       "Name: beans_yield_per_u, dtype: float64"
      ]
     },
     "execution_count": 302,
     "metadata": {},
     "output_type": "execute_result"
    }
   ],
   "source": [
    "df.groupby('above2')['beans_yield_per_u'].mean()"
   ]
  },
  {
   "cell_type": "code",
   "execution_count": 316,
   "id": "81db7e12-148a-4d24-94eb-b768d6a4f665",
   "metadata": {},
   "outputs": [
    {
     "data": {
      "text/plain": [
       "F_onewayResult(statistic=7.678807331666786, pvalue=0.005614017964793437)"
      ]
     },
     "execution_count": 316,
     "metadata": {},
     "output_type": "execute_result"
    }
   ],
   "source": [
    "f_oneway(above['beans_yield_per_u'].dropna(),below['beans_yield_per_u'].dropna())"
   ]
  },
  {
   "cell_type": "code",
   "execution_count": 317,
   "id": "7cf5c4dc-d773-4375-aa0e-43960751fc08",
   "metadata": {},
   "outputs": [
    {
     "data": {
      "text/plain": [
       "Household_Head_Gender  above2    \n",
       "Female Headed          above 2.15    14.284666\n",
       "                       below 2.15     7.111766\n",
       "Male Headed            above 2.15     8.667716\n",
       "                       below 2.15     6.813320\n",
       "Youth Headed           above 2.15    10.089382\n",
       "                       below 2.15     6.713427\n",
       "Name: beans_yield_per_u, dtype: float64"
      ]
     },
     "execution_count": 317,
     "metadata": {},
     "output_type": "execute_result"
    }
   ],
   "source": [
    "df.groupby(['Household_Head_Gender','above2'])['beans_yield_per_u'].mean()"
   ]
  },
  {
   "cell_type": "code",
   "execution_count": 318,
   "id": "54c09e45-6448-4029-bc47-d08f0cb5ef40",
   "metadata": {},
   "outputs": [
    {
     "name": "stdout",
     "output_type": "stream",
     "text": [
      "Female Headed:0.08527380908266222\n",
      "Male Headed:0.03729461852494381\n",
      "Youth Headed:0.3968219879600018\n"
     ]
    }
   ],
   "source": [
    "pvalue('beans_yield_per_u')"
   ]
  },
  {
   "cell_type": "code",
   "execution_count": null,
   "id": "ab55bef9-4f24-4682-a6c4-0dd9dcff710e",
   "metadata": {},
   "outputs": [],
   "source": []
  },
  {
   "cell_type": "code",
   "execution_count": 443,
   "id": "c435bb84-5567-4649-821a-c936dfa0255c",
   "metadata": {},
   "outputs": [
    {
     "name": "stderr",
     "output_type": "stream",
     "text": [
      "/var/folders/xd/0btgr76j2zxc4__ynw0yhwbm0000gn/T/ipykernel_20832/2616813586.py:1: SettingWithCopyWarning: \n",
      "A value is trying to be set on a copy of a slice from a DataFrame.\n",
      "Try using .loc[row_indexer,col_indexer] = value instead\n",
      "\n",
      "See the caveats in the documentation: https://pandas.pydata.org/pandas-docs/stable/user_guide/indexing.html#returning-a-view-versus-a-copy\n",
      "  df['beans_yield_fresh'] = df[['sn_1_beans_Total_Yield_Fresh','sn_2_beans_Total_Yield_Fresh']].sum(axis=1)\n"
     ]
    }
   ],
   "source": [
    "df['beans_yield_fresh'] = df[['sn_1_beans_Total_Yield_Fresh','sn_2_beans_Total_Yield_Fresh']].sum(axis=1)"
   ]
  },
  {
   "cell_type": "code",
   "execution_count": 444,
   "id": "d6dd86fd-84ad-4497-ac60-93d427453e55",
   "metadata": {},
   "outputs": [
    {
     "name": "stderr",
     "output_type": "stream",
     "text": [
      "/var/folders/xd/0btgr76j2zxc4__ynw0yhwbm0000gn/T/ipykernel_20832/3251361485.py:1: SettingWithCopyWarning: \n",
      "A value is trying to be set on a copy of a slice from a DataFrame.\n",
      "Try using .loc[row_indexer,col_indexer] = value instead\n",
      "\n",
      "See the caveats in the documentation: https://pandas.pydata.org/pandas-docs/stable/user_guide/indexing.html#returning-a-view-versus-a-copy\n",
      "  df['beans_yield_dry'] = df[['sn_1_beans_Total_Yield_dry','sn_2_beans_Total_Yield_dry']].sum(axis=1)\n"
     ]
    }
   ],
   "source": [
    "df['beans_yield_dry'] = df[['sn_1_beans_Total_Yield_dry','sn_2_beans_Total_Yield_dry']].sum(axis=1)"
   ]
  },
  {
   "cell_type": "code",
   "execution_count": 447,
   "id": "aae3208d-f9d7-4005-895b-b1081dcf0944",
   "metadata": {},
   "outputs": [
    {
     "name": "stderr",
     "output_type": "stream",
     "text": [
      "/var/folders/xd/0btgr76j2zxc4__ynw0yhwbm0000gn/T/ipykernel_20832/1763011005.py:1: SettingWithCopyWarning: \n",
      "A value is trying to be set on a copy of a slice from a DataFrame.\n",
      "Try using .loc[row_indexer,col_indexer] = value instead\n",
      "\n",
      "See the caveats in the documentation: https://pandas.pydata.org/pandas-docs/stable/user_guide/indexing.html#returning-a-view-versus-a-copy\n",
      "  df['beans_price_fresh'] = df[['sn_1_beans_Market_Price_fresh','sn_2_beans_Market_Price_fresh']].mean(axis=1)\n"
     ]
    }
   ],
   "source": [
    "df['beans_price_fresh'] = df[['sn_1_beans_Market_Price_fresh','sn_2_beans_Market_Price_fresh']].mean(axis=1)"
   ]
  },
  {
   "cell_type": "code",
   "execution_count": 448,
   "id": "014a099e-5a44-4ab9-82d7-038529ea30e4",
   "metadata": {},
   "outputs": [
    {
     "name": "stderr",
     "output_type": "stream",
     "text": [
      "/var/folders/xd/0btgr76j2zxc4__ynw0yhwbm0000gn/T/ipykernel_20832/1676202018.py:1: SettingWithCopyWarning: \n",
      "A value is trying to be set on a copy of a slice from a DataFrame.\n",
      "Try using .loc[row_indexer,col_indexer] = value instead\n",
      "\n",
      "See the caveats in the documentation: https://pandas.pydata.org/pandas-docs/stable/user_guide/indexing.html#returning-a-view-versus-a-copy\n",
      "  df['beans_price_dry'] = df[['sn_1_beans_Market_Price_dry','sn_2_beans_Market_Price_dry']].mean(axis=1)\n"
     ]
    }
   ],
   "source": [
    "df['beans_price_dry'] = df[['sn_1_beans_Market_Price_dry','sn_2_beans_Market_Price_dry']].mean(axis=1)"
   ]
  },
  {
   "cell_type": "code",
   "execution_count": null,
   "id": "6de4e735-6660-443e-9d7f-5c8e63583986",
   "metadata": {},
   "outputs": [],
   "source": []
  },
  {
   "cell_type": "code",
   "execution_count": 449,
   "id": "a9c8e830-9b6c-470c-a532-6d7a6c41bdb1",
   "metadata": {},
   "outputs": [
    {
     "name": "stderr",
     "output_type": "stream",
     "text": [
      "/var/folders/xd/0btgr76j2zxc4__ynw0yhwbm0000gn/T/ipykernel_20832/897146517.py:1: SettingWithCopyWarning: \n",
      "A value is trying to be set on a copy of a slice from a DataFrame.\n",
      "Try using .loc[row_indexer,col_indexer] = value instead\n",
      "\n",
      "See the caveats in the documentation: https://pandas.pydata.org/pandas-docs/stable/user_guide/indexing.html#returning-a-view-versus-a-copy\n",
      "  df['beans_price_dry'] = (df['beans_price_dry']*0.8066) / 1270.608\n"
     ]
    }
   ],
   "source": [
    "df['beans_price_dry'] = (df['beans_price_dry']*0.8066) / 1270.608"
   ]
  },
  {
   "cell_type": "code",
   "execution_count": 450,
   "id": "edb2d71a-41ac-4075-af66-96e9d50a3de6",
   "metadata": {},
   "outputs": [
    {
     "name": "stderr",
     "output_type": "stream",
     "text": [
      "/var/folders/xd/0btgr76j2zxc4__ynw0yhwbm0000gn/T/ipykernel_20832/2203152567.py:1: SettingWithCopyWarning: \n",
      "A value is trying to be set on a copy of a slice from a DataFrame.\n",
      "Try using .loc[row_indexer,col_indexer] = value instead\n",
      "\n",
      "See the caveats in the documentation: https://pandas.pydata.org/pandas-docs/stable/user_guide/indexing.html#returning-a-view-versus-a-copy\n",
      "  df['beans_price_fresh'] = (df['beans_price_fresh']*0.8066) / 1270.608\n"
     ]
    }
   ],
   "source": [
    "df['beans_price_fresh'] = (df['beans_price_fresh']*0.8066) / 1270.608"
   ]
  },
  {
   "cell_type": "code",
   "execution_count": null,
   "id": "622aca4a-fecf-43a5-a4dd-860217e87f15",
   "metadata": {},
   "outputs": [],
   "source": []
  },
  {
   "cell_type": "code",
   "execution_count": 453,
   "id": "d8bd2b18-405d-439d-a54f-5baa04b7cde3",
   "metadata": {},
   "outputs": [
    {
     "name": "stderr",
     "output_type": "stream",
     "text": [
      "/var/folders/xd/0btgr76j2zxc4__ynw0yhwbm0000gn/T/ipykernel_20832/489576516.py:1: SettingWithCopyWarning: \n",
      "A value is trying to be set on a copy of a slice from a DataFrame.\n",
      "Try using .loc[row_indexer,col_indexer] = value instead\n",
      "\n",
      "See the caveats in the documentation: https://pandas.pydata.org/pandas-docs/stable/user_guide/indexing.html#returning-a-view-versus-a-copy\n",
      "  df['beans_dry_value'] = df[['beans_yield_dry','beans_price_dry']].product(axis=1)\n"
     ]
    }
   ],
   "source": [
    "df['beans_dry_value'] = df[['beans_yield_dry','beans_price_dry']].product(axis=1)"
   ]
  },
  {
   "cell_type": "code",
   "execution_count": 455,
   "id": "e37b5700-d8da-4292-a1fb-868d9a298687",
   "metadata": {},
   "outputs": [
    {
     "name": "stderr",
     "output_type": "stream",
     "text": [
      "/var/folders/xd/0btgr76j2zxc4__ynw0yhwbm0000gn/T/ipykernel_20832/1885115140.py:1: SettingWithCopyWarning: \n",
      "A value is trying to be set on a copy of a slice from a DataFrame.\n",
      "Try using .loc[row_indexer,col_indexer] = value instead\n",
      "\n",
      "See the caveats in the documentation: https://pandas.pydata.org/pandas-docs/stable/user_guide/indexing.html#returning-a-view-versus-a-copy\n",
      "  df['beans_fresh_value'] = df[['beans_yield_fresh','beans_price_fresh']].product(axis=1)\n"
     ]
    }
   ],
   "source": [
    "df['beans_fresh_value'] = df[['beans_yield_fresh','beans_price_fresh']].product(axis=1)"
   ]
  },
  {
   "cell_type": "code",
   "execution_count": 458,
   "id": "943daa34-025c-4349-a41f-24d14e3b0572",
   "metadata": {},
   "outputs": [
    {
     "name": "stderr",
     "output_type": "stream",
     "text": [
      "/var/folders/xd/0btgr76j2zxc4__ynw0yhwbm0000gn/T/ipykernel_20832/3236075683.py:1: SettingWithCopyWarning: \n",
      "A value is trying to be set on a copy of a slice from a DataFrame.\n",
      "Try using .loc[row_indexer,col_indexer] = value instead\n",
      "\n",
      "See the caveats in the documentation: https://pandas.pydata.org/pandas-docs/stable/user_guide/indexing.html#returning-a-view-versus-a-copy\n",
      "  df['total_bean_value'] = df[['beans_dry_value','beans_fresh_value']].sum(axis=1)\n"
     ]
    }
   ],
   "source": [
    "df['total_bean_value'] = df[['beans_dry_value','beans_fresh_value']].sum(axis=1)"
   ]
  },
  {
   "cell_type": "code",
   "execution_count": 455,
   "id": "99758739-7830-435b-bf70-16a352829cfa",
   "metadata": {},
   "outputs": [
    {
     "name": "stderr",
     "output_type": "stream",
     "text": [
      "/var/folders/xd/0btgr76j2zxc4__ynw0yhwbm0000gn/T/ipykernel_20832/1885115140.py:1: SettingWithCopyWarning: \n",
      "A value is trying to be set on a copy of a slice from a DataFrame.\n",
      "Try using .loc[row_indexer,col_indexer] = value instead\n",
      "\n",
      "See the caveats in the documentation: https://pandas.pydata.org/pandas-docs/stable/user_guide/indexing.html#returning-a-view-versus-a-copy\n",
      "  df['beans_fresh_value'] = df[['beans_yield_fresh','beans_price_fresh']].product(axis=1)\n"
     ]
    }
   ],
   "source": [
    "df['beans_fresh_value'] = df[['beans_yield_fresh','beans_price_fresh']].product(axis=1)"
   ]
  },
  {
   "cell_type": "code",
   "execution_count": 525,
   "id": "267b64d0-abaf-4331-9bc2-ac704b4daa89",
   "metadata": {},
   "outputs": [],
   "source": [
    "df_ = df[df['total_bean_value'] != 0]"
   ]
  },
  {
   "cell_type": "code",
   "execution_count": 527,
   "id": "bdef8da8-3b67-4565-a4e2-070327671f34",
   "metadata": {},
   "outputs": [],
   "source": [
    "below_ = df_[df_['above2'] == 'above 2.15']\n",
    "above_ = df_[df_['above2'] == 'below 2.15']"
   ]
  },
  {
   "cell_type": "code",
   "execution_count": 528,
   "id": "84fcff63-3bb9-409b-97bf-97f77290c003",
   "metadata": {},
   "outputs": [
    {
     "data": {
      "text/plain": [
       "above2\n",
       "above 2.15    355.751924\n",
       "below 2.15    250.624990\n",
       "Name: total_bean_value, dtype: float64"
      ]
     },
     "execution_count": 528,
     "metadata": {},
     "output_type": "execute_result"
    }
   ],
   "source": [
    "df_.groupby('above2')['total_bean_value'].mean()"
   ]
  },
  {
   "cell_type": "code",
   "execution_count": 529,
   "id": "bcb7f2c0-f521-460f-ab96-bab1fc1ab65d",
   "metadata": {},
   "outputs": [
    {
     "data": {
      "text/plain": [
       "above2\n",
       "above 2.15    284.872872\n",
       "below 2.15    214.249792\n",
       "Name: total_bean_value, dtype: float64"
      ]
     },
     "execution_count": 529,
     "metadata": {},
     "output_type": "execute_result"
    }
   ],
   "source": [
    "df_.groupby('above2')['total_bean_value'].median()"
   ]
  },
  {
   "cell_type": "code",
   "execution_count": 530,
   "id": "c30e182b-7c06-4802-bc93-45df0e659951",
   "metadata": {},
   "outputs": [
    {
     "data": {
      "text/plain": [
       "F_onewayResult(statistic=166.9695831733368, pvalue=2.0023521983931575e-37)"
      ]
     },
     "execution_count": 530,
     "metadata": {},
     "output_type": "execute_result"
    }
   ],
   "source": [
    "f_oneway(above_['total_bean_value'].dropna(),below_['total_bean_value'].dropna())"
   ]
  },
  {
   "cell_type": "code",
   "execution_count": null,
   "id": "8f9e72e3-bd52-49ce-a447-74f95f23784e",
   "metadata": {},
   "outputs": [],
   "source": []
  },
  {
   "cell_type": "code",
   "execution_count": null,
   "id": "e6f8bb5e-cfa7-4ca3-afa8-6383e89d68cd",
   "metadata": {},
   "outputs": [],
   "source": []
  },
  {
   "cell_type": "markdown",
   "id": "335dc412-106b-456d-9293-c937eb17f9d6",
   "metadata": {},
   "source": [
    "## Maize"
   ]
  },
  {
   "cell_type": "code",
   "execution_count": 466,
   "id": "bdae88c4-00b2-4e9c-a26f-d3cf95fc6afd",
   "metadata": {},
   "outputs": [
    {
     "name": "stderr",
     "output_type": "stream",
     "text": [
      "/var/folders/xd/0btgr76j2zxc4__ynw0yhwbm0000gn/T/ipykernel_20832/2339827010.py:1: SettingWithCopyWarning: \n",
      "A value is trying to be set on a copy of a slice from a DataFrame.\n",
      "Try using .loc[row_indexer,col_indexer] = value instead\n",
      "\n",
      "See the caveats in the documentation: https://pandas.pydata.org/pandas-docs/stable/user_guide/indexing.html#returning-a-view-versus-a-copy\n",
      "  df['maize_yield_fresh'] = df[['sn_1_maize_Total_Yield_Fresh','sn_2_maize_Total_Yield_Fresh']].sum(axis=1)\n"
     ]
    }
   ],
   "source": [
    "df['maize_yield_fresh'] = df[['sn_1_maize_Total_Yield_Fresh','sn_2_maize_Total_Yield_Fresh']].sum(axis=1)"
   ]
  },
  {
   "cell_type": "code",
   "execution_count": 467,
   "id": "44cfb914-efd3-43f5-8ecd-daa81aa2997f",
   "metadata": {},
   "outputs": [
    {
     "name": "stderr",
     "output_type": "stream",
     "text": [
      "/var/folders/xd/0btgr76j2zxc4__ynw0yhwbm0000gn/T/ipykernel_20832/790865532.py:1: SettingWithCopyWarning: \n",
      "A value is trying to be set on a copy of a slice from a DataFrame.\n",
      "Try using .loc[row_indexer,col_indexer] = value instead\n",
      "\n",
      "See the caveats in the documentation: https://pandas.pydata.org/pandas-docs/stable/user_guide/indexing.html#returning-a-view-versus-a-copy\n",
      "  df['maize_yield_dry'] = df[['sn_1_maize_Total_Yield_dry','sn_2_maize_Total_Yield_dry']].sum(axis=1)\n"
     ]
    }
   ],
   "source": [
    "df['maize_yield_dry'] = df[['sn_1_maize_Total_Yield_dry','sn_2_maize_Total_Yield_dry']].sum(axis=1)"
   ]
  },
  {
   "cell_type": "code",
   "execution_count": 468,
   "id": "2a8484d5-1119-4b86-a73f-6648eeac593e",
   "metadata": {},
   "outputs": [
    {
     "name": "stderr",
     "output_type": "stream",
     "text": [
      "/var/folders/xd/0btgr76j2zxc4__ynw0yhwbm0000gn/T/ipykernel_20832/2074214222.py:1: SettingWithCopyWarning: \n",
      "A value is trying to be set on a copy of a slice from a DataFrame.\n",
      "Try using .loc[row_indexer,col_indexer] = value instead\n",
      "\n",
      "See the caveats in the documentation: https://pandas.pydata.org/pandas-docs/stable/user_guide/indexing.html#returning-a-view-versus-a-copy\n",
      "  df['maize_price_fresh'] = df[['sn_1_maize_Market_Price_fresh','sn_2_maize_Market_Price_fresh']].mean(axis=1)\n"
     ]
    }
   ],
   "source": [
    "df['maize_price_fresh'] = df[['sn_1_maize_Market_Price_fresh','sn_2_maize_Market_Price_fresh']].mean(axis=1)"
   ]
  },
  {
   "cell_type": "code",
   "execution_count": 469,
   "id": "2ff6e0c3-1846-4757-8666-931beb857986",
   "metadata": {},
   "outputs": [
    {
     "name": "stderr",
     "output_type": "stream",
     "text": [
      "/var/folders/xd/0btgr76j2zxc4__ynw0yhwbm0000gn/T/ipykernel_20832/1222526888.py:1: SettingWithCopyWarning: \n",
      "A value is trying to be set on a copy of a slice from a DataFrame.\n",
      "Try using .loc[row_indexer,col_indexer] = value instead\n",
      "\n",
      "See the caveats in the documentation: https://pandas.pydata.org/pandas-docs/stable/user_guide/indexing.html#returning-a-view-versus-a-copy\n",
      "  df['maize_price_dry'] = df[['sn_1_maize_Market_Price_dry','sn_2_maize_Market_Price_dry']].mean(axis=1)\n"
     ]
    }
   ],
   "source": [
    "df['maize_price_dry'] = df[['sn_1_maize_Market_Price_dry','sn_2_maize_Market_Price_dry']].mean(axis=1)"
   ]
  },
  {
   "cell_type": "code",
   "execution_count": null,
   "id": "0724cd39-0b5c-478e-9351-e8c7334ec0fd",
   "metadata": {},
   "outputs": [],
   "source": []
  },
  {
   "cell_type": "code",
   "execution_count": 470,
   "id": "10b96a1f-b626-4d88-8e07-2ec573c9d61b",
   "metadata": {},
   "outputs": [
    {
     "name": "stderr",
     "output_type": "stream",
     "text": [
      "/var/folders/xd/0btgr76j2zxc4__ynw0yhwbm0000gn/T/ipykernel_20832/3490224141.py:1: SettingWithCopyWarning: \n",
      "A value is trying to be set on a copy of a slice from a DataFrame.\n",
      "Try using .loc[row_indexer,col_indexer] = value instead\n",
      "\n",
      "See the caveats in the documentation: https://pandas.pydata.org/pandas-docs/stable/user_guide/indexing.html#returning-a-view-versus-a-copy\n",
      "  df['maize_price_dry'] = (df['maize_price_dry']*0.8066) / 1270.608\n"
     ]
    }
   ],
   "source": [
    "df['maize_price_dry'] = (df['maize_price_dry']*0.8066) / 1270.608"
   ]
  },
  {
   "cell_type": "code",
   "execution_count": 471,
   "id": "155a50ac-ab7d-4e89-98a1-2dca3f1324d7",
   "metadata": {},
   "outputs": [
    {
     "name": "stderr",
     "output_type": "stream",
     "text": [
      "/var/folders/xd/0btgr76j2zxc4__ynw0yhwbm0000gn/T/ipykernel_20832/4062492533.py:1: SettingWithCopyWarning: \n",
      "A value is trying to be set on a copy of a slice from a DataFrame.\n",
      "Try using .loc[row_indexer,col_indexer] = value instead\n",
      "\n",
      "See the caveats in the documentation: https://pandas.pydata.org/pandas-docs/stable/user_guide/indexing.html#returning-a-view-versus-a-copy\n",
      "  df['maize_price_fresh'] = (df['maize_price_fresh']*0.8066) / 1270.608\n"
     ]
    }
   ],
   "source": [
    "df['maize_price_fresh'] = (df['maize_price_fresh']*0.8066) / 1270.608"
   ]
  },
  {
   "cell_type": "code",
   "execution_count": null,
   "id": "d0b0e514-d380-4c3c-90e0-971bff958f52",
   "metadata": {},
   "outputs": [],
   "source": []
  },
  {
   "cell_type": "code",
   "execution_count": 472,
   "id": "ffc9af01-a8f4-421f-88f8-291f20514a1f",
   "metadata": {},
   "outputs": [
    {
     "name": "stderr",
     "output_type": "stream",
     "text": [
      "/var/folders/xd/0btgr76j2zxc4__ynw0yhwbm0000gn/T/ipykernel_20832/2411875017.py:1: SettingWithCopyWarning: \n",
      "A value is trying to be set on a copy of a slice from a DataFrame.\n",
      "Try using .loc[row_indexer,col_indexer] = value instead\n",
      "\n",
      "See the caveats in the documentation: https://pandas.pydata.org/pandas-docs/stable/user_guide/indexing.html#returning-a-view-versus-a-copy\n",
      "  df['maize_dry_value'] = df[['maize_yield_dry','maize_price_dry']].product(axis=1)\n"
     ]
    }
   ],
   "source": [
    "df['maize_dry_value'] = df[['maize_yield_dry','maize_price_dry']].product(axis=1)"
   ]
  },
  {
   "cell_type": "code",
   "execution_count": 473,
   "id": "d63f3784-5a25-48f0-96a9-662b5fe8e8e1",
   "metadata": {},
   "outputs": [
    {
     "name": "stderr",
     "output_type": "stream",
     "text": [
      "/var/folders/xd/0btgr76j2zxc4__ynw0yhwbm0000gn/T/ipykernel_20832/2084119589.py:1: SettingWithCopyWarning: \n",
      "A value is trying to be set on a copy of a slice from a DataFrame.\n",
      "Try using .loc[row_indexer,col_indexer] = value instead\n",
      "\n",
      "See the caveats in the documentation: https://pandas.pydata.org/pandas-docs/stable/user_guide/indexing.html#returning-a-view-versus-a-copy\n",
      "  df['maize_fresh_value'] = df[['maize_yield_fresh','maize_price_fresh']].product(axis=1)\n"
     ]
    }
   ],
   "source": [
    "df['maize_fresh_value'] = df[['maize_yield_fresh','maize_price_fresh']].product(axis=1)"
   ]
  },
  {
   "cell_type": "code",
   "execution_count": 474,
   "id": "900f0175-03e1-44c0-a4ca-37209b3a6b00",
   "metadata": {},
   "outputs": [
    {
     "name": "stderr",
     "output_type": "stream",
     "text": [
      "/var/folders/xd/0btgr76j2zxc4__ynw0yhwbm0000gn/T/ipykernel_20832/2847411569.py:1: SettingWithCopyWarning: \n",
      "A value is trying to be set on a copy of a slice from a DataFrame.\n",
      "Try using .loc[row_indexer,col_indexer] = value instead\n",
      "\n",
      "See the caveats in the documentation: https://pandas.pydata.org/pandas-docs/stable/user_guide/indexing.html#returning-a-view-versus-a-copy\n",
      "  df['total_maize_value'] = df[['maize_dry_value','maize_fresh_value']].sum(axis=1)\n"
     ]
    }
   ],
   "source": [
    "df['total_maize_value'] = df[['maize_dry_value','maize_fresh_value']].sum(axis=1)"
   ]
  },
  {
   "cell_type": "code",
   "execution_count": 475,
   "id": "bcbb4857-a893-485c-8173-6ae0f9285ef8",
   "metadata": {},
   "outputs": [
    {
     "name": "stderr",
     "output_type": "stream",
     "text": [
      "/var/folders/xd/0btgr76j2zxc4__ynw0yhwbm0000gn/T/ipykernel_20832/2084119589.py:1: SettingWithCopyWarning: \n",
      "A value is trying to be set on a copy of a slice from a DataFrame.\n",
      "Try using .loc[row_indexer,col_indexer] = value instead\n",
      "\n",
      "See the caveats in the documentation: https://pandas.pydata.org/pandas-docs/stable/user_guide/indexing.html#returning-a-view-versus-a-copy\n",
      "  df['maize_fresh_value'] = df[['maize_yield_fresh','maize_price_fresh']].product(axis=1)\n"
     ]
    }
   ],
   "source": [
    "df['maize_fresh_value'] = df[['maize_yield_fresh','maize_price_fresh']].product(axis=1)"
   ]
  },
  {
   "cell_type": "code",
   "execution_count": 521,
   "id": "c5f57fde-7b46-4ee7-b587-488308f1b5d9",
   "metadata": {},
   "outputs": [],
   "source": [
    "below_ = df[df['above2'] == 'above 2.15']\n",
    "above_ = df[df['above2'] == 'below 2.15']"
   ]
  },
  {
   "cell_type": "code",
   "execution_count": 520,
   "id": "46502665-2cdc-44b3-9c94-e03badde7099",
   "metadata": {},
   "outputs": [],
   "source": [
    "df_ = df[df['total_maize_value'] != 0]"
   ]
  },
  {
   "cell_type": "code",
   "execution_count": 522,
   "id": "4987fccb-c5f6-45a7-8ba0-f319440b2fcf",
   "metadata": {},
   "outputs": [
    {
     "data": {
      "text/plain": [
       "above2\n",
       "above 2.15    84.659657\n",
       "below 2.15    51.266635\n",
       "Name: total_maize_value, dtype: float64"
      ]
     },
     "execution_count": 522,
     "metadata": {},
     "output_type": "execute_result"
    }
   ],
   "source": [
    "df_.groupby('above2')['total_maize_value'].mean()"
   ]
  },
  {
   "cell_type": "code",
   "execution_count": 523,
   "id": "69c8717e-3bdd-4197-b864-ed36b4fdfd1f",
   "metadata": {},
   "outputs": [
    {
     "data": {
      "text/plain": [
       "above2\n",
       "above 2.15    57.450685\n",
       "below 2.15    36.184409\n",
       "Name: total_maize_value, dtype: float64"
      ]
     },
     "execution_count": 523,
     "metadata": {},
     "output_type": "execute_result"
    }
   ],
   "source": [
    "df_.groupby('above2')['total_maize_value'].median()"
   ]
  },
  {
   "cell_type": "code",
   "execution_count": 524,
   "id": "1504c7f9-c68f-4285-bfde-6533e2cd503e",
   "metadata": {},
   "outputs": [
    {
     "data": {
      "text/plain": [
       "F_onewayResult(statistic=173.3426139325533, pvalue=9.164485420461923e-39)"
      ]
     },
     "execution_count": 524,
     "metadata": {},
     "output_type": "execute_result"
    }
   ],
   "source": [
    "f_oneway(above_['total_bean_value'].dropna(),below_['total_bean_value'].dropna())"
   ]
  },
  {
   "cell_type": "code",
   "execution_count": null,
   "id": "c659d82b-e833-4766-8793-d522c4334515",
   "metadata": {},
   "outputs": [],
   "source": []
  },
  {
   "cell_type": "code",
   "execution_count": null,
   "id": "47808318-de2d-4fd3-ac57-266d82a1b93d",
   "metadata": {},
   "outputs": [],
   "source": []
  },
  {
   "cell_type": "markdown",
   "id": "0a7406e1-dbb1-4d3e-900c-5989dd0a7526",
   "metadata": {},
   "source": [
    "### Gnuts"
   ]
  },
  {
   "cell_type": "code",
   "execution_count": 486,
   "id": "b13cbf06-44a1-4be8-82f6-0b7fdb8722ca",
   "metadata": {},
   "outputs": [
    {
     "data": {
      "text/plain": [
       "0       0.0\n",
       "1       0.0\n",
       "2       0.0\n",
       "3       0.0\n",
       "4       0.0\n",
       "       ... \n",
       "3892    0.0\n",
       "3893    0.0\n",
       "3894    0.0\n",
       "3895    0.0\n",
       "3896    0.0\n",
       "Name: gnuts_yield, Length: 3897, dtype: float64"
      ]
     },
     "execution_count": 486,
     "metadata": {},
     "output_type": "execute_result"
    }
   ],
   "source": [
    "df['gnuts_yield']"
   ]
  },
  {
   "cell_type": "code",
   "execution_count": 489,
   "id": "a8b58266-9aaf-42b5-884a-437883f249c8",
   "metadata": {},
   "outputs": [
    {
     "name": "stderr",
     "output_type": "stream",
     "text": [
      "/var/folders/xd/0btgr76j2zxc4__ynw0yhwbm0000gn/T/ipykernel_20832/1418844226.py:1: SettingWithCopyWarning: \n",
      "A value is trying to be set on a copy of a slice from a DataFrame.\n",
      "Try using .loc[row_indexer,col_indexer] = value instead\n",
      "\n",
      "See the caveats in the documentation: https://pandas.pydata.org/pandas-docs/stable/user_guide/indexing.html#returning-a-view-versus-a-copy\n",
      "  df['gnuts_price'] = df[['sn_1_gnuts_Market_Price','sn_2_gnuts_Market_Price']].mean(axis=1)\n"
     ]
    }
   ],
   "source": [
    "df['gnuts_price'] = df[['sn_1_gnuts_Market_Price','sn_2_gnuts_Market_Price']].mean(axis=1)"
   ]
  },
  {
   "cell_type": "code",
   "execution_count": 490,
   "id": "bb6ff0fd-5aa1-44ff-8e9a-f67126247ca4",
   "metadata": {},
   "outputs": [
    {
     "name": "stderr",
     "output_type": "stream",
     "text": [
      "/var/folders/xd/0btgr76j2zxc4__ynw0yhwbm0000gn/T/ipykernel_20832/3296395724.py:1: SettingWithCopyWarning: \n",
      "A value is trying to be set on a copy of a slice from a DataFrame.\n",
      "Try using .loc[row_indexer,col_indexer] = value instead\n",
      "\n",
      "See the caveats in the documentation: https://pandas.pydata.org/pandas-docs/stable/user_guide/indexing.html#returning-a-view-versus-a-copy\n",
      "  df['gnuts_price'] = (df['gnuts_price']*0.8066) / 1270.608\n"
     ]
    }
   ],
   "source": [
    "df['gnuts_price'] = (df['gnuts_price']*0.8066) / 1270.608"
   ]
  },
  {
   "cell_type": "code",
   "execution_count": null,
   "id": "bc27216d-6780-4691-92e8-1e6c6ec96039",
   "metadata": {},
   "outputs": [],
   "source": []
  },
  {
   "cell_type": "code",
   "execution_count": 491,
   "id": "2fc00bfb-b87f-4135-9701-6b229c19e481",
   "metadata": {},
   "outputs": [
    {
     "name": "stderr",
     "output_type": "stream",
     "text": [
      "/var/folders/xd/0btgr76j2zxc4__ynw0yhwbm0000gn/T/ipykernel_20832/2665226028.py:1: SettingWithCopyWarning: \n",
      "A value is trying to be set on a copy of a slice from a DataFrame.\n",
      "Try using .loc[row_indexer,col_indexer] = value instead\n",
      "\n",
      "See the caveats in the documentation: https://pandas.pydata.org/pandas-docs/stable/user_guide/indexing.html#returning-a-view-versus-a-copy\n",
      "  df['gnuts_value'] = df[['gnuts_yield','gnuts_price']].product(axis=1)\n"
     ]
    }
   ],
   "source": [
    "df['gnuts_value'] = df[['gnuts_yield','gnuts_price']].product(axis=1)"
   ]
  },
  {
   "cell_type": "code",
   "execution_count": 518,
   "id": "b8a10231-937b-426e-8c16-4bc4a5de3919",
   "metadata": {},
   "outputs": [],
   "source": [
    "below_ = df[df['above2'] == 'above 2.15']\n",
    "above_ = df[df['above2'] == 'below 2.15']"
   ]
  },
  {
   "cell_type": "code",
   "execution_count": 515,
   "id": "ab638100-373a-42fd-967b-f52662715a35",
   "metadata": {},
   "outputs": [],
   "source": [
    "df_ = df[df['gnuts_value'] != 0]"
   ]
  },
  {
   "cell_type": "code",
   "execution_count": 516,
   "id": "40db8327-5ca2-4073-a930-1087fe89ad39",
   "metadata": {},
   "outputs": [
    {
     "data": {
      "text/plain": [
       "above2\n",
       "above 2.15    186.599615\n",
       "below 2.15    153.697373\n",
       "Name: gnuts_value, dtype: float64"
      ]
     },
     "execution_count": 516,
     "metadata": {},
     "output_type": "execute_result"
    }
   ],
   "source": [
    "df_.groupby('above2')['gnuts_value'].mean()"
   ]
  },
  {
   "cell_type": "code",
   "execution_count": 517,
   "id": "2ffffe4c-214a-4800-abf2-ab5fa41e8b09",
   "metadata": {},
   "outputs": [
    {
     "data": {
      "text/plain": [
       "above2\n",
       "above 2.15    148.546523\n",
       "below 2.15    126.962840\n",
       "Name: gnuts_value, dtype: float64"
      ]
     },
     "execution_count": 517,
     "metadata": {},
     "output_type": "execute_result"
    }
   ],
   "source": [
    "df_.groupby('above2')['gnuts_value'].median()"
   ]
  },
  {
   "cell_type": "code",
   "execution_count": 519,
   "id": "4568a3fc-1915-44c6-abbf-fdeb3a965cdd",
   "metadata": {},
   "outputs": [
    {
     "data": {
      "text/plain": [
       "F_onewayResult(statistic=45.205095932133894, pvalue=2.0326669263344954e-11)"
      ]
     },
     "execution_count": 519,
     "metadata": {},
     "output_type": "execute_result"
    }
   ],
   "source": [
    "f_oneway(above_['gnuts_value'].dropna(),below_['gnuts_value'].dropna())"
   ]
  },
  {
   "cell_type": "code",
   "execution_count": null,
   "id": "e23abb97-fb92-4a20-8254-3ca931d8bdbd",
   "metadata": {},
   "outputs": [],
   "source": []
  },
  {
   "cell_type": "code",
   "execution_count": null,
   "id": "e182c85d-13a4-4830-89fc-b0692d4e25d2",
   "metadata": {},
   "outputs": [],
   "source": []
  },
  {
   "cell_type": "code",
   "execution_count": null,
   "id": "13a24de9-c229-4c8c-a948-8c4457809cd3",
   "metadata": {},
   "outputs": [],
   "source": []
  },
  {
   "cell_type": "markdown",
   "id": "9ffc92b2-18f8-421a-9ca0-37afa303fd30",
   "metadata": {},
   "source": [
    "### irish"
   ]
  },
  {
   "cell_type": "code",
   "execution_count": 502,
   "id": "f0444de1-93ba-4d70-a0ed-bb821b297541",
   "metadata": {},
   "outputs": [
    {
     "data": {
      "text/plain": [
       "0        0.0\n",
       "1        0.0\n",
       "2        0.0\n",
       "3        0.0\n",
       "4        0.0\n",
       "        ... \n",
       "3892     0.0\n",
       "3893     8.0\n",
       "3894     0.0\n",
       "3895    11.0\n",
       "3896     7.0\n",
       "Name: irish_yield, Length: 3897, dtype: float64"
      ]
     },
     "execution_count": 502,
     "metadata": {},
     "output_type": "execute_result"
    }
   ],
   "source": [
    "df['irish_yield']"
   ]
  },
  {
   "cell_type": "code",
   "execution_count": 503,
   "id": "2c1ce7c8-1baf-49c8-992b-1d43df517dda",
   "metadata": {},
   "outputs": [
    {
     "name": "stderr",
     "output_type": "stream",
     "text": [
      "/var/folders/xd/0btgr76j2zxc4__ynw0yhwbm0000gn/T/ipykernel_20832/3860861857.py:1: SettingWithCopyWarning: \n",
      "A value is trying to be set on a copy of a slice from a DataFrame.\n",
      "Try using .loc[row_indexer,col_indexer] = value instead\n",
      "\n",
      "See the caveats in the documentation: https://pandas.pydata.org/pandas-docs/stable/user_guide/indexing.html#returning-a-view-versus-a-copy\n",
      "  df['irish_price'] = df[['sn_1_irish_potatoes_Market_Price','sn_2_irish_potatoes_Market_Price']].mean(axis=1)\n"
     ]
    }
   ],
   "source": [
    "df['irish_price'] = df[['sn_1_irish_potatoes_Market_Price','sn_2_irish_potatoes_Market_Price']].mean(axis=1)"
   ]
  },
  {
   "cell_type": "code",
   "execution_count": 504,
   "id": "b480d68b-f936-488e-a2af-b9e7c8ace442",
   "metadata": {},
   "outputs": [
    {
     "name": "stderr",
     "output_type": "stream",
     "text": [
      "/var/folders/xd/0btgr76j2zxc4__ynw0yhwbm0000gn/T/ipykernel_20832/822916957.py:1: SettingWithCopyWarning: \n",
      "A value is trying to be set on a copy of a slice from a DataFrame.\n",
      "Try using .loc[row_indexer,col_indexer] = value instead\n",
      "\n",
      "See the caveats in the documentation: https://pandas.pydata.org/pandas-docs/stable/user_guide/indexing.html#returning-a-view-versus-a-copy\n",
      "  df['irish_price'] = (df['irish_price']*0.8066) / 1270.608\n"
     ]
    }
   ],
   "source": [
    "df['irish_price'] = (df['irish_price']*0.8066) / 1270.608"
   ]
  },
  {
   "cell_type": "code",
   "execution_count": null,
   "id": "61ed6e5a-e704-49c3-8936-e47259a880db",
   "metadata": {},
   "outputs": [],
   "source": []
  },
  {
   "cell_type": "code",
   "execution_count": null,
   "id": "daa44ba3-1da8-4f3c-94b7-3232f1f413fe",
   "metadata": {},
   "outputs": [],
   "source": []
  },
  {
   "cell_type": "code",
   "execution_count": 505,
   "id": "31f4ec07-1a9f-4634-82d8-e88d28662880",
   "metadata": {},
   "outputs": [
    {
     "name": "stderr",
     "output_type": "stream",
     "text": [
      "/var/folders/xd/0btgr76j2zxc4__ynw0yhwbm0000gn/T/ipykernel_20832/353239147.py:1: SettingWithCopyWarning: \n",
      "A value is trying to be set on a copy of a slice from a DataFrame.\n",
      "Try using .loc[row_indexer,col_indexer] = value instead\n",
      "\n",
      "See the caveats in the documentation: https://pandas.pydata.org/pandas-docs/stable/user_guide/indexing.html#returning-a-view-versus-a-copy\n",
      "  df['irish_value'] = df[['irish_yield','irish_price']].product(axis=1)\n"
     ]
    }
   ],
   "source": [
    "df['irish_value'] = df[['irish_yield','irish_price']].product(axis=1)"
   ]
  },
  {
   "cell_type": "code",
   "execution_count": 506,
   "id": "d78070f6-27f2-4beb-81b5-7ab8ea34a59d",
   "metadata": {},
   "outputs": [],
   "source": [
    "below_ = df[df['above2'] == 'above 2.15']\n",
    "above_ = df[df['above2'] == 'below 2.15']"
   ]
  },
  {
   "cell_type": "code",
   "execution_count": 507,
   "id": "4cfcefed-7f56-471b-8726-68f57e1ec3d1",
   "metadata": {},
   "outputs": [],
   "source": [
    "df_ = df[df['irish_value'] != 0]"
   ]
  },
  {
   "cell_type": "code",
   "execution_count": 510,
   "id": "3ade1d95-a407-4cb3-a1b2-5ad951c7d30b",
   "metadata": {},
   "outputs": [
    {
     "data": {
      "text/plain": [
       "above2\n",
       "above 2.15    478.794860\n",
       "below 2.15    245.520684\n",
       "Name: irish_value, dtype: float64"
      ]
     },
     "execution_count": 510,
     "metadata": {},
     "output_type": "execute_result"
    }
   ],
   "source": [
    "df_.groupby('above2')['irish_value'].mean()"
   ]
  },
  {
   "cell_type": "code",
   "execution_count": 511,
   "id": "1645b6cd-ddb7-4ee1-ba73-34a1ecb3270f",
   "metadata": {},
   "outputs": [
    {
     "data": {
      "text/plain": [
       "above2\n",
       "above 2.15    323.755242\n",
       "below 2.15    190.444260\n",
       "Name: irish_value, dtype: float64"
      ]
     },
     "execution_count": 511,
     "metadata": {},
     "output_type": "execute_result"
    }
   ],
   "source": [
    "df_.groupby('above2')['irish_value'].median()"
   ]
  },
  {
   "cell_type": "code",
   "execution_count": 512,
   "id": "caa6bf37-b7c4-4ed8-bd0b-2f09df3b7a87",
   "metadata": {},
   "outputs": [
    {
     "data": {
      "text/plain": [
       "F_onewayResult(statistic=41.721924580416484, pvalue=1.1818912361888562e-10)"
      ]
     },
     "execution_count": 512,
     "metadata": {},
     "output_type": "execute_result"
    }
   ],
   "source": [
    "f_oneway(above_['irish_value'].dropna(),below_['irish_value'].dropna())"
   ]
  },
  {
   "cell_type": "code",
   "execution_count": null,
   "id": "49d6d200-6333-4531-b0de-9ddba99ef7a5",
   "metadata": {},
   "outputs": [],
   "source": []
  },
  {
   "cell_type": "code",
   "execution_count": null,
   "id": "38c3905d-fe5e-4666-b9f8-1df04c3b05a4",
   "metadata": {},
   "outputs": [],
   "source": []
  },
  {
   "cell_type": "code",
   "execution_count": null,
   "id": "6646ff6d-d341-4446-88ab-e544dcfdf351",
   "metadata": {},
   "outputs": [],
   "source": []
  },
  {
   "cell_type": "code",
   "execution_count": null,
   "id": "a6413537-e09a-4ec3-a3ee-0fe423b4ad46",
   "metadata": {},
   "outputs": [],
   "source": [
    "sn_1_gnuts_Market_Price"
   ]
  },
  {
   "cell_type": "code",
   "execution_count": null,
   "id": "9f7b03c4-7cc2-47a0-8ca1-6324a9676349",
   "metadata": {},
   "outputs": [],
   "source": []
  },
  {
   "cell_type": "code",
   "execution_count": null,
   "id": "d7340001-ec94-4066-b6e2-53301c0dd79f",
   "metadata": {},
   "outputs": [],
   "source": []
  },
  {
   "cell_type": "code",
   "execution_count": null,
   "id": "2f104ea9-c0a5-4eea-b34f-c14ff2455b0a",
   "metadata": {},
   "outputs": [],
   "source": [
    "sn_1_beans_Total_Yield_Fresh"
   ]
  },
  {
   "cell_type": "code",
   "execution_count": null,
   "id": "cfe20d9a-7a60-4bec-b623-187069ef34c6",
   "metadata": {},
   "outputs": [],
   "source": [
    "sn_1_beans_Market_Price_fresh "
   ]
  },
  {
   "cell_type": "code",
   "execution_count": null,
   "id": "1f18d94a-9ad1-4e59-9484-1005c8010179",
   "metadata": {},
   "outputs": [],
   "source": []
  },
  {
   "cell_type": "code",
   "execution_count": null,
   "id": "ac74b3ca-0875-4c8e-a6aa-6e5d2c02d828",
   "metadata": {},
   "outputs": [],
   "source": []
  },
  {
   "cell_type": "code",
   "execution_count": null,
   "id": "36228c99-1133-4b71-b319-ad98764ea946",
   "metadata": {},
   "outputs": [],
   "source": []
  },
  {
   "cell_type": "code",
   "execution_count": null,
   "id": "a0da2c35-8591-46d8-a669-36a65c67e15b",
   "metadata": {},
   "outputs": [],
   "source": []
  },
  {
   "cell_type": "code",
   "execution_count": null,
   "id": "8e3ef16a-8ce3-4a62-bb7b-a6da6a4d8224",
   "metadata": {},
   "outputs": [],
   "source": []
  },
  {
   "cell_type": "code",
   "execution_count": null,
   "id": "dd74227c-5d18-47ef-a2ed-9f506bf31cef",
   "metadata": {},
   "outputs": [],
   "source": []
  },
  {
   "cell_type": "code",
   "execution_count": null,
   "id": "f1f21320-4d9b-4d62-9429-610ac154ddbe",
   "metadata": {},
   "outputs": [],
   "source": []
  },
  {
   "cell_type": "code",
   "execution_count": null,
   "id": "9a24c3d1-fc91-4398-8f7f-8d3cf79f8683",
   "metadata": {},
   "outputs": [],
   "source": []
  },
  {
   "cell_type": "code",
   "execution_count": null,
   "id": "8f99b6ec-9820-4211-aebb-09ed37d0f74b",
   "metadata": {},
   "outputs": [],
   "source": []
  },
  {
   "cell_type": "code",
   "execution_count": 303,
   "id": "ec0bfad9-55d7-4198-a4b2-3a7dde4b042c",
   "metadata": {},
   "outputs": [
    {
     "name": "stderr",
     "output_type": "stream",
     "text": [
      "/var/folders/xd/0btgr76j2zxc4__ynw0yhwbm0000gn/T/ipykernel_20832/369593718.py:1: SettingWithCopyWarning: \n",
      "A value is trying to be set on a copy of a slice from a DataFrame.\n",
      "Try using .loc[row_indexer,col_indexer] = value instead\n",
      "\n",
      "See the caveats in the documentation: https://pandas.pydata.org/pandas-docs/stable/user_guide/indexing.html#returning-a-view-versus-a-copy\n",
      "  df['maize_planted'] = df[['sn_1_maize_planted','sn_2_maize_planted']].sum(axis=1)\n"
     ]
    }
   ],
   "source": [
    "df['maize_planted'] = df[['sn_1_maize_planted','sn_2_maize_planted']].sum(axis=1)"
   ]
  },
  {
   "cell_type": "code",
   "execution_count": 304,
   "id": "f377bf37-743c-48f2-a58a-bdbf8bf20346",
   "metadata": {},
   "outputs": [
    {
     "name": "stderr",
     "output_type": "stream",
     "text": [
      "/var/folders/xd/0btgr76j2zxc4__ynw0yhwbm0000gn/T/ipykernel_20832/1466422790.py:1: SettingWithCopyWarning: \n",
      "A value is trying to be set on a copy of a slice from a DataFrame.\n",
      "Try using .loc[row_indexer,col_indexer] = value instead\n",
      "\n",
      "See the caveats in the documentation: https://pandas.pydata.org/pandas-docs/stable/user_guide/indexing.html#returning-a-view-versus-a-copy\n",
      "  df['maize_yield'] = df[['sn_1_maize_Total_Yield','sn_2_maize_Total_Yield']].sum(axis=1)\n"
     ]
    }
   ],
   "source": [
    "df['maize_yield'] = df[['sn_1_maize_Total_Yield','sn_2_maize_Total_Yield']].sum(axis=1)"
   ]
  },
  {
   "cell_type": "code",
   "execution_count": 305,
   "id": "4a8ef1fc-5ca3-47cb-99b7-c43159497c69",
   "metadata": {},
   "outputs": [
    {
     "name": "stderr",
     "output_type": "stream",
     "text": [
      "/var/folders/xd/0btgr76j2zxc4__ynw0yhwbm0000gn/T/ipykernel_20832/1142878643.py:1: SettingWithCopyWarning: \n",
      "A value is trying to be set on a copy of a slice from a DataFrame.\n",
      "Try using .loc[row_indexer,col_indexer] = value instead\n",
      "\n",
      "See the caveats in the documentation: https://pandas.pydata.org/pandas-docs/stable/user_guide/indexing.html#returning-a-view-versus-a-copy\n",
      "  df['maize_yield_per_u'] = df['maize_yield'] / df['maize_planted']\n"
     ]
    }
   ],
   "source": [
    "df['maize_yield_per_u'] = df['maize_yield'] / df['maize_planted']"
   ]
  },
  {
   "cell_type": "code",
   "execution_count": 319,
   "id": "258fb1d9-2bfa-4907-84a0-dbf7341ec37d",
   "metadata": {},
   "outputs": [
    {
     "data": {
      "text/plain": [
       "above2\n",
       "above 2.15    24.120403\n",
       "below 2.15    20.728287\n",
       "Name: maize_yield_per_u, dtype: float64"
      ]
     },
     "execution_count": 319,
     "metadata": {},
     "output_type": "execute_result"
    }
   ],
   "source": [
    "df.groupby('above2')['maize_yield_per_u'].mean()"
   ]
  },
  {
   "cell_type": "code",
   "execution_count": 321,
   "id": "f2cd9f45-d703-4319-a29d-e0b4d9c9b894",
   "metadata": {},
   "outputs": [
    {
     "data": {
      "text/plain": [
       "F_onewayResult(statistic=10.074581581320055, pvalue=0.001526410722166961)"
      ]
     },
     "execution_count": 321,
     "metadata": {},
     "output_type": "execute_result"
    }
   ],
   "source": [
    "f_oneway(above['maize_yield_per_u'].dropna(),below['maize_yield_per_u'].dropna())"
   ]
  },
  {
   "cell_type": "code",
   "execution_count": 322,
   "id": "fdff709b-48b7-45bf-8d99-4dcc7a972eaa",
   "metadata": {},
   "outputs": [
    {
     "data": {
      "text/plain": [
       "Household_Head_Gender  above2    \n",
       "Female Headed          above 2.15    21.340404\n",
       "                       below 2.15    21.957276\n",
       "Male Headed            above 2.15    25.610651\n",
       "                       below 2.15    20.731894\n",
       "Youth Headed           above 2.15    22.929398\n",
       "                       below 2.15    17.325017\n",
       "Name: maize_yield_per_u, dtype: float64"
      ]
     },
     "execution_count": 322,
     "metadata": {},
     "output_type": "execute_result"
    }
   ],
   "source": [
    "df.groupby(['Household_Head_Gender','above2'])['maize_yield_per_u'].mean()"
   ]
  },
  {
   "cell_type": "code",
   "execution_count": 323,
   "id": "4c980e28-a169-4bff-980a-7d76b9904c0e",
   "metadata": {},
   "outputs": [
    {
     "name": "stdout",
     "output_type": "stream",
     "text": [
      "Female Headed:0.7506609722657799\n",
      "Male Headed:0.0003395252452256863\n",
      "Youth Headed:0.1275401813958019\n"
     ]
    }
   ],
   "source": [
    "pvalue('maize_yield_per_u')"
   ]
  },
  {
   "cell_type": "code",
   "execution_count": null,
   "id": "6bf4501a-abed-4165-9076-f51a74623c48",
   "metadata": {},
   "outputs": [],
   "source": []
  },
  {
   "cell_type": "code",
   "execution_count": null,
   "id": "7aaf7c94-5300-4d71-8b7b-5b0a158cc93a",
   "metadata": {},
   "outputs": [],
   "source": []
  },
  {
   "cell_type": "code",
   "execution_count": null,
   "id": "69deb0bb-3c31-4771-bd44-264ec6261618",
   "metadata": {},
   "outputs": [],
   "source": []
  },
  {
   "cell_type": "code",
   "execution_count": 306,
   "id": "18df84ae-33c5-4c46-ae7e-80e47226b3fd",
   "metadata": {},
   "outputs": [
    {
     "name": "stderr",
     "output_type": "stream",
     "text": [
      "/var/folders/xd/0btgr76j2zxc4__ynw0yhwbm0000gn/T/ipykernel_20832/794040103.py:1: SettingWithCopyWarning: \n",
      "A value is trying to be set on a copy of a slice from a DataFrame.\n",
      "Try using .loc[row_indexer,col_indexer] = value instead\n",
      "\n",
      "See the caveats in the documentation: https://pandas.pydata.org/pandas-docs/stable/user_guide/indexing.html#returning-a-view-versus-a-copy\n",
      "  df['irish_planted'] = df[['sn_1_irish_potatoes_planted','sn_2_irish_potatoes_planted']].sum(axis=1)\n"
     ]
    }
   ],
   "source": [
    "df['irish_planted'] = df[['sn_1_irish_potatoes_planted','sn_2_irish_potatoes_planted']].sum(axis=1)"
   ]
  },
  {
   "cell_type": "code",
   "execution_count": 307,
   "id": "89f6fe36-37ea-4706-8a50-27881dc935ce",
   "metadata": {},
   "outputs": [
    {
     "name": "stderr",
     "output_type": "stream",
     "text": [
      "/var/folders/xd/0btgr76j2zxc4__ynw0yhwbm0000gn/T/ipykernel_20832/1111601365.py:1: SettingWithCopyWarning: \n",
      "A value is trying to be set on a copy of a slice from a DataFrame.\n",
      "Try using .loc[row_indexer,col_indexer] = value instead\n",
      "\n",
      "See the caveats in the documentation: https://pandas.pydata.org/pandas-docs/stable/user_guide/indexing.html#returning-a-view-versus-a-copy\n",
      "  df['irish_yield'] = df[['sn_1_irish_potatoes_Total_Yield','sn_2_irish_potatoes_Total_Yield']].sum(axis=1)\n"
     ]
    }
   ],
   "source": [
    "df['irish_yield'] = df[['sn_1_irish_potatoes_Total_Yield','sn_2_irish_potatoes_Total_Yield']].sum(axis=1)"
   ]
  },
  {
   "cell_type": "code",
   "execution_count": 308,
   "id": "f84432a9-45ac-4993-a422-3447741a064e",
   "metadata": {},
   "outputs": [
    {
     "name": "stderr",
     "output_type": "stream",
     "text": [
      "/var/folders/xd/0btgr76j2zxc4__ynw0yhwbm0000gn/T/ipykernel_20832/1275664288.py:1: SettingWithCopyWarning: \n",
      "A value is trying to be set on a copy of a slice from a DataFrame.\n",
      "Try using .loc[row_indexer,col_indexer] = value instead\n",
      "\n",
      "See the caveats in the documentation: https://pandas.pydata.org/pandas-docs/stable/user_guide/indexing.html#returning-a-view-versus-a-copy\n",
      "  df['irish_potatoes_yield_per_u'] = df['irish_yield'] / df['irish_planted']\n"
     ]
    }
   ],
   "source": [
    "df['irish_potatoes_yield_per_u'] = df['irish_yield'] / df['irish_planted']"
   ]
  },
  {
   "cell_type": "code",
   "execution_count": null,
   "id": "4dd48256-101b-4c50-9e9a-94c7bdb70c6b",
   "metadata": {},
   "outputs": [],
   "source": []
  },
  {
   "cell_type": "code",
   "execution_count": null,
   "id": "f579539d-e3a9-4463-a0d8-cee5f6512dd9",
   "metadata": {},
   "outputs": [],
   "source": []
  },
  {
   "cell_type": "code",
   "execution_count": 324,
   "id": "1fa279be-07df-42a6-8cdb-982ff0df31c5",
   "metadata": {},
   "outputs": [
    {
     "data": {
      "text/plain": [
       "above2\n",
       "above 2.15    4.431264\n",
       "below 2.15    3.969952\n",
       "Name: irish_potatoes_yield_per_u, dtype: float64"
      ]
     },
     "execution_count": 324,
     "metadata": {},
     "output_type": "execute_result"
    }
   ],
   "source": [
    "df.groupby('above2')['irish_potatoes_yield_per_u'].mean()"
   ]
  },
  {
   "cell_type": "code",
   "execution_count": 325,
   "id": "3ccd1ca2-d77e-4cbf-bddd-27025e937a29",
   "metadata": {},
   "outputs": [
    {
     "data": {
      "text/plain": [
       "F_onewayResult(statistic=2.0296067412218206, pvalue=0.15469022613061337)"
      ]
     },
     "execution_count": 325,
     "metadata": {},
     "output_type": "execute_result"
    }
   ],
   "source": [
    "f_oneway(above['irish_potatoes_yield_per_u'].dropna(),below['irish_potatoes_yield_per_u'].dropna())"
   ]
  },
  {
   "cell_type": "code",
   "execution_count": 326,
   "id": "0b51591a-0d14-4aae-9f6d-4d25642d5000",
   "metadata": {},
   "outputs": [
    {
     "data": {
      "text/plain": [
       "Household_Head_Gender  above2    \n",
       "Female Headed          above 2.15    4.437111\n",
       "                       below 2.15    4.679322\n",
       "Male Headed            above 2.15    4.550296\n",
       "                       below 2.15    3.862262\n",
       "Youth Headed           above 2.15    3.733345\n",
       "                       below 2.15    3.291667\n",
       "Name: irish_potatoes_yield_per_u, dtype: float64"
      ]
     },
     "execution_count": 326,
     "metadata": {},
     "output_type": "execute_result"
    }
   ],
   "source": [
    "df.groupby(['Household_Head_Gender','above2'])['irish_potatoes_yield_per_u'].mean()"
   ]
  },
  {
   "cell_type": "code",
   "execution_count": 327,
   "id": "1a9ab707-2a05-419f-a826-7d6ec6a881d3",
   "metadata": {},
   "outputs": [
    {
     "name": "stdout",
     "output_type": "stream",
     "text": [
      "Female Headed:0.7207463256556379\n",
      "Male Headed:0.10718703492754679\n",
      "Youth Headed:0.41307396561598353\n"
     ]
    }
   ],
   "source": [
    "pvalue('irish_potatoes_yield_per_u')"
   ]
  },
  {
   "cell_type": "code",
   "execution_count": null,
   "id": "a5e1b40c-2860-42b5-8190-fedb6887e03c",
   "metadata": {},
   "outputs": [],
   "source": []
  },
  {
   "cell_type": "code",
   "execution_count": 309,
   "id": "1eb43592-363f-4894-8abf-6505f339a257",
   "metadata": {},
   "outputs": [
    {
     "name": "stderr",
     "output_type": "stream",
     "text": [
      "/var/folders/xd/0btgr76j2zxc4__ynw0yhwbm0000gn/T/ipykernel_20832/2259223592.py:1: SettingWithCopyWarning: \n",
      "A value is trying to be set on a copy of a slice from a DataFrame.\n",
      "Try using .loc[row_indexer,col_indexer] = value instead\n",
      "\n",
      "See the caveats in the documentation: https://pandas.pydata.org/pandas-docs/stable/user_guide/indexing.html#returning-a-view-versus-a-copy\n",
      "  df['gnuts_planted'] = df[['sn_1_gnuts_planted','sn_2_gnuts_planted']].sum(axis=1)\n"
     ]
    }
   ],
   "source": [
    "df['gnuts_planted'] = df[['sn_1_gnuts_planted','sn_2_gnuts_planted']].sum(axis=1)"
   ]
  },
  {
   "cell_type": "code",
   "execution_count": 310,
   "id": "06779edc-9047-416d-bf26-a417f77cab09",
   "metadata": {},
   "outputs": [
    {
     "name": "stderr",
     "output_type": "stream",
     "text": [
      "/var/folders/xd/0btgr76j2zxc4__ynw0yhwbm0000gn/T/ipykernel_20832/2716322990.py:1: SettingWithCopyWarning: \n",
      "A value is trying to be set on a copy of a slice from a DataFrame.\n",
      "Try using .loc[row_indexer,col_indexer] = value instead\n",
      "\n",
      "See the caveats in the documentation: https://pandas.pydata.org/pandas-docs/stable/user_guide/indexing.html#returning-a-view-versus-a-copy\n",
      "  df['gnuts_yield'] = df[['sn_1_gnuts_Total_Yield','sn_2_gnuts_Total_Yield']].sum(axis=1)\n"
     ]
    }
   ],
   "source": [
    "df['gnuts_yield'] = df[['sn_1_gnuts_Total_Yield','sn_2_gnuts_Total_Yield']].sum(axis=1)"
   ]
  },
  {
   "cell_type": "code",
   "execution_count": 311,
   "id": "a1f3d6d9-e7fe-428c-89d1-f5cdc0faf237",
   "metadata": {},
   "outputs": [
    {
     "name": "stderr",
     "output_type": "stream",
     "text": [
      "/var/folders/xd/0btgr76j2zxc4__ynw0yhwbm0000gn/T/ipykernel_20832/2685050400.py:1: SettingWithCopyWarning: \n",
      "A value is trying to be set on a copy of a slice from a DataFrame.\n",
      "Try using .loc[row_indexer,col_indexer] = value instead\n",
      "\n",
      "See the caveats in the documentation: https://pandas.pydata.org/pandas-docs/stable/user_guide/indexing.html#returning-a-view-versus-a-copy\n",
      "  df['gnuts_yield_per_u'] = df['gnuts_yield'] / df['gnuts_planted']\n"
     ]
    }
   ],
   "source": [
    "df['gnuts_yield_per_u'] = df['gnuts_yield'] / df['gnuts_planted']"
   ]
  },
  {
   "cell_type": "code",
   "execution_count": null,
   "id": "e88325db-42e4-4e05-bfc3-1ea6b6f3422b",
   "metadata": {},
   "outputs": [],
   "source": []
  },
  {
   "cell_type": "code",
   "execution_count": 328,
   "id": "0d608238-a4b8-4e59-b4d5-39619d4bbfc5",
   "metadata": {},
   "outputs": [
    {
     "data": {
      "text/plain": [
       "above2\n",
       "above 2.15    6.697399\n",
       "below 2.15    7.134366\n",
       "Name: gnuts_yield_per_u, dtype: float64"
      ]
     },
     "execution_count": 328,
     "metadata": {},
     "output_type": "execute_result"
    }
   ],
   "source": [
    "df.groupby('above2')['gnuts_yield_per_u'].mean()"
   ]
  },
  {
   "cell_type": "code",
   "execution_count": 329,
   "id": "88d6ffb6-660a-4773-a970-25e9f9fcf5d5",
   "metadata": {},
   "outputs": [
    {
     "data": {
      "text/plain": [
       "F_onewayResult(statistic=1.9989274814516762, pvalue=0.15761071872903593)"
      ]
     },
     "execution_count": 329,
     "metadata": {},
     "output_type": "execute_result"
    }
   ],
   "source": [
    "f_oneway(above['gnuts_yield_per_u'].dropna(),below['gnuts_yield_per_u'].dropna())"
   ]
  },
  {
   "cell_type": "code",
   "execution_count": 330,
   "id": "3dc038cc-96d1-42d6-8d6c-919a4e00c575",
   "metadata": {},
   "outputs": [
    {
     "data": {
      "text/plain": [
       "Household_Head_Gender  above2    \n",
       "Female Headed          above 2.15    6.620673\n",
       "                       below 2.15    7.543793\n",
       "Male Headed            above 2.15    6.724041\n",
       "                       below 2.15    6.969108\n",
       "Youth Headed           above 2.15    6.764661\n",
       "                       below 2.15    7.274457\n",
       "Name: gnuts_yield_per_u, dtype: float64"
      ]
     },
     "execution_count": 330,
     "metadata": {},
     "output_type": "execute_result"
    }
   ],
   "source": [
    "df.groupby(['Household_Head_Gender','above2'])['gnuts_yield_per_u'].mean()"
   ]
  },
  {
   "cell_type": "code",
   "execution_count": 331,
   "id": "1a1f4f2b-c001-46eb-89b7-578b591f4e08",
   "metadata": {},
   "outputs": [
    {
     "name": "stdout",
     "output_type": "stream",
     "text": [
      "Female Headed:0.1711863913793805\n",
      "Male Headed:0.5112156670384093\n",
      "Youth Headed:0.5833126777366724\n"
     ]
    }
   ],
   "source": [
    "pvalue('gnuts_yield_per_u')"
   ]
  },
  {
   "cell_type": "code",
   "execution_count": null,
   "id": "66ec235b-224a-4273-a56c-342797300e17",
   "metadata": {},
   "outputs": [],
   "source": []
  },
  {
   "cell_type": "code",
   "execution_count": null,
   "id": "1f9f6a05-4f99-474a-9bd0-ea026604bb39",
   "metadata": {},
   "outputs": [],
   "source": []
  },
  {
   "cell_type": "code",
   "execution_count": 270,
   "id": "bf72caf6-c958-4497-a907-c35a0be4ce48",
   "metadata": {},
   "outputs": [
    {
     "data": {
      "text/plain": [
       "above2\n",
       "above 2.15    1963.076829\n",
       "below 2.15    2080.990960\n",
       "Name: coffee_price_dry, dtype: float64"
      ]
     },
     "execution_count": 270,
     "metadata": {},
     "output_type": "execute_result"
    }
   ],
   "source": [
    "df.groupby('above2')['coffee_price_dry'].mean()"
   ]
  },
  {
   "cell_type": "code",
   "execution_count": 271,
   "id": "43ba31fb-10ff-4357-a0b4-491a518533ca",
   "metadata": {},
   "outputs": [
    {
     "data": {
      "text/plain": [
       "F_onewayResult(statistic=2.340618627806415, pvalue=0.12617368165686924)"
      ]
     },
     "execution_count": 271,
     "metadata": {},
     "output_type": "execute_result"
    }
   ],
   "source": [
    "f_oneway(above['coffee_price_dry'].dropna(), below['coffee_price_dry'].dropna())"
   ]
  },
  {
   "cell_type": "code",
   "execution_count": 272,
   "id": "a4ec72ab-46a8-4321-9439-df71c3ddf7ef",
   "metadata": {},
   "outputs": [
    {
     "data": {
      "text/plain": [
       "Household_Head_Gender  above2    \n",
       "Female Headed          above 2.15    2042.022936\n",
       "                       below 2.15    2105.127389\n",
       "Male Headed            above 2.15    1935.006757\n",
       "                       below 2.15    2072.289959\n",
       "Youth Headed           above 2.15    1931.291667\n",
       "                       below 2.15    2087.162162\n",
       "Name: coffee_price_dry, dtype: float64"
      ]
     },
     "execution_count": 272,
     "metadata": {},
     "output_type": "execute_result"
    }
   ],
   "source": [
    "df.groupby(['Household_Head_Gender','above2'])['coffee_price_dry'].mean()"
   ]
  },
  {
   "cell_type": "code",
   "execution_count": 273,
   "id": "e11c127b-f1b8-4339-8c29-f97022c50dbc",
   "metadata": {},
   "outputs": [
    {
     "name": "stdout",
     "output_type": "stream",
     "text": [
      "Female Headed:0.6918115081164214\n",
      "Male Headed:0.1464935096929233\n",
      "Youth Headed:0.5303912024840671\n"
     ]
    }
   ],
   "source": [
    "pvalue('coffee_price_dry')"
   ]
  },
  {
   "cell_type": "code",
   "execution_count": null,
   "id": "450d7c22-c7d2-4bf7-be6d-35638d99be68",
   "metadata": {},
   "outputs": [],
   "source": []
  },
  {
   "cell_type": "markdown",
   "id": "ed7a125d-20b4-477b-805d-70f3048ef2e6",
   "metadata": {},
   "source": [
    "food Banana"
   ]
  },
  {
   "cell_type": "code",
   "execution_count": 333,
   "id": "f4eacd42-412f-4938-9998-d9d3b21a0049",
   "metadata": {},
   "outputs": [
    {
     "data": {
      "text/plain": [
       "0       70.0\n",
       "1       80.0\n",
       "2       20.0\n",
       "3       20.0\n",
       "4       55.0\n",
       "        ... \n",
       "3892     8.0\n",
       "3893     NaN\n",
       "3894    20.0\n",
       "3895     NaN\n",
       "3896    40.0\n",
       "Name: food_banana_yeild, Length: 3897, dtype: float64"
      ]
     },
     "execution_count": 333,
     "metadata": {},
     "output_type": "execute_result"
    }
   ],
   "source": [
    "df['food_banana_yeild']"
   ]
  },
  {
   "cell_type": "code",
   "execution_count": 332,
   "id": "206a5028-1a73-49bf-8a8f-1f6245343166",
   "metadata": {},
   "outputs": [
    {
     "data": {
      "text/plain": [
       "0        80.0\n",
       "1       100.0\n",
       "2        30.0\n",
       "3        10.0\n",
       "4        70.0\n",
       "        ...  \n",
       "3892      8.0\n",
       "3893      NaN\n",
       "3894    170.0\n",
       "3895      NaN\n",
       "3896     15.0\n",
       "Name: mature_food_banana_planted, Length: 3897, dtype: float64"
      ]
     },
     "execution_count": 332,
     "metadata": {},
     "output_type": "execute_result"
    }
   ],
   "source": [
    "df['mature_food_banana_planted']"
   ]
  },
  {
   "cell_type": "code",
   "execution_count": 357,
   "id": "b1bacd5b-4155-49ab-bf11-24a42d34d736",
   "metadata": {},
   "outputs": [],
   "source": [
    "import numpy as np"
   ]
  },
  {
   "cell_type": "code",
   "execution_count": 358,
   "id": "e2de38aa-d405-41f3-b1d4-c9c458b9b0db",
   "metadata": {},
   "outputs": [
    {
     "name": "stderr",
     "output_type": "stream",
     "text": [
      "/var/folders/xd/0btgr76j2zxc4__ynw0yhwbm0000gn/T/ipykernel_20832/975940242.py:1: SettingWithCopyWarning: \n",
      "A value is trying to be set on a copy of a slice from a DataFrame.\n",
      "Try using .loc[row_indexer,col_indexer] = value instead\n",
      "\n",
      "See the caveats in the documentation: https://pandas.pydata.org/pandas-docs/stable/user_guide/indexing.html#returning-a-view-versus-a-copy\n",
      "  df['food_banana_yield_per_u'] = np.where(df['mature_food_banana_planted'] != 0,\n"
     ]
    }
   ],
   "source": [
    "df['food_banana_yield_per_u'] = np.where(df['mature_food_banana_planted'] != 0, \n",
    "                                         df['food_banana_yeild'] / df['mature_food_banana_planted'], \n",
    "                                         0)"
   ]
  },
  {
   "cell_type": "code",
   "execution_count": 359,
   "id": "ab4ca5b2-df4f-45c7-ba0d-d535bf25a220",
   "metadata": {},
   "outputs": [
    {
     "data": {
      "text/plain": [
       "array([8.00e+01, 1.00e+02, 3.00e+01, 1.00e+01, 7.00e+01, 5.00e+01,\n",
       "       7.50e+01, 1.50e+02, 2.00e+02, 3.00e+02, 1.60e+02, 1.10e+02,\n",
       "       3.00e+00, 6.00e+00, 9.00e+01, 1.20e+02, 6.00e+01, 2.50e+01,\n",
       "       1.40e+02, 1.50e+01, 0.00e+00, 4.00e+01, 2.00e+01, 3.50e+02,\n",
       "            nan, 2.00e+00, 1.30e+02, 1.25e+02, 3.50e+01, 2.50e+02,\n",
       "       8.80e+01, 2.60e+02, 4.00e+02, 4.00e+00, 1.80e+02, 5.00e+00,\n",
       "       5.00e+02, 2.40e+02, 4.00e+03, 4.80e+02, 4.50e+02, 2.80e+02,\n",
       "       3.10e+02, 2.25e+02, 1.70e+02, 8.50e+01, 3.40e+02, 6.00e+02,\n",
       "       4.60e+01, 4.30e+02, 3.80e+01, 4.50e+01, 9.50e+01, 1.60e+01,\n",
       "       7.00e+00, 6.50e+01, 1.00e+00, 8.00e+00, 2.10e+01, 1.00e+03,\n",
       "       2.30e+02, 4.20e+02, 1.40e+01, 3.20e+02, 1.20e+01, 1.90e+02,\n",
       "       1.30e+01, 1.50e+03, 7.00e+02, 9.00e+02, 8.00e+02, 8.90e+02,\n",
       "       1.80e+01, 2.00e+04, 1.90e+01, 8.60e+01, 2.80e+01, 5.50e+02,\n",
       "       6.00e+03, 9.00e+00, 2.20e+01, 3.60e+01, 4.20e+01])"
      ]
     },
     "execution_count": 359,
     "metadata": {},
     "output_type": "execute_result"
    }
   ],
   "source": [
    "df['mature_food_banana_planted'].unique()"
   ]
  },
  {
   "cell_type": "code",
   "execution_count": 346,
   "id": "5cce1b04-2f6f-47b2-adaf-9c4b11ec5e91",
   "metadata": {},
   "outputs": [
    {
     "name": "stderr",
     "output_type": "stream",
     "text": [
      "/var/folders/xd/0btgr76j2zxc4__ynw0yhwbm0000gn/T/ipykernel_20832/583469647.py:1: SettingWithCopyWarning: \n",
      "A value is trying to be set on a copy of a slice from a DataFrame.\n",
      "Try using .loc[row_indexer,col_indexer] = value instead\n",
      "\n",
      "See the caveats in the documentation: https://pandas.pydata.org/pandas-docs/stable/user_guide/indexing.html#returning-a-view-versus-a-copy\n",
      "  df['food_banana_yield_per_u'] = df['food_banana_yeild'] / df['mature_food_banana_planted']\n"
     ]
    }
   ],
   "source": [
    "df['food_banana_yield_per_u'] = df['food_banana_yeild'] / df['mature_food_banana_planted']"
   ]
  },
  {
   "cell_type": "code",
   "execution_count": 343,
   "id": "f0f671be-fed4-41e5-a403-596f09ff5024",
   "metadata": {},
   "outputs": [
    {
     "name": "stderr",
     "output_type": "stream",
     "text": [
      "/var/folders/xd/0btgr76j2zxc4__ynw0yhwbm0000gn/T/ipykernel_20832/4263040704.py:1: SettingWithCopyWarning: \n",
      "A value is trying to be set on a copy of a slice from a DataFrame\n",
      "\n",
      "See the caveats in the documentation: https://pandas.pydata.org/pandas-docs/stable/user_guide/indexing.html#returning-a-view-versus-a-copy\n",
      "  df['food_banana_yield_per_u'].dropna(inplace=True)\n"
     ]
    }
   ],
   "source": []
  },
  {
   "cell_type": "code",
   "execution_count": 361,
   "id": "3d6ae785-8a55-4381-a3d5-98611889967c",
   "metadata": {},
   "outputs": [
    {
     "data": {
      "text/plain": [
       "above2\n",
       "above 2.15    2.349872\n",
       "below 2.15    2.117280\n",
       "Name: food_banana_yield_per_u, dtype: float64"
      ]
     },
     "execution_count": 361,
     "metadata": {},
     "output_type": "execute_result"
    }
   ],
   "source": [
    "df.groupby('above2')['food_banana_yield_per_u'].mean()"
   ]
  },
  {
   "cell_type": "code",
   "execution_count": 365,
   "id": "332e9c7e-8283-4e67-9240-c3586a4b1837",
   "metadata": {},
   "outputs": [
    {
     "data": {
      "text/plain": [
       "F_onewayResult(statistic=0.9702655944504842, pvalue=0.32468555446460645)"
      ]
     },
     "execution_count": 365,
     "metadata": {},
     "output_type": "execute_result"
    }
   ],
   "source": [
    "f_oneway(above['food_banana_yield_per_u'].dropna(), below['food_banana_yield_per_u'].dropna())"
   ]
  },
  {
   "cell_type": "code",
   "execution_count": null,
   "id": "b35f7d0a-6c9f-4e96-b8ab-2846fe67ae7c",
   "metadata": {},
   "outputs": [],
   "source": []
  },
  {
   "cell_type": "markdown",
   "id": "17349398-5ad5-458f-86c2-484583dee4f8",
   "metadata": {},
   "source": [
    "\n",
    "\n",
    "## coffeee per unt"
   ]
  },
  {
   "cell_type": "code",
   "execution_count": 369,
   "id": "ea786136-13c4-4bc3-8790-5b11498e543a",
   "metadata": {},
   "outputs": [
    {
     "name": "stderr",
     "output_type": "stream",
     "text": [
      "/var/folders/xd/0btgr76j2zxc4__ynw0yhwbm0000gn/T/ipykernel_20832/558901480.py:1: SettingWithCopyWarning: \n",
      "A value is trying to be set on a copy of a slice from a DataFrame.\n",
      "Try using .loc[row_indexer,col_indexer] = value instead\n",
      "\n",
      "See the caveats in the documentation: https://pandas.pydata.org/pandas-docs/stable/user_guide/indexing.html#returning-a-view-versus-a-copy\n",
      "  df['coffee_planted'] = df[['mature_coffee_planted_nasaland','mature_coffee_planted_robusta']].sum(axis=1)\n"
     ]
    }
   ],
   "source": [
    "df['coffee_planted'] = df[['mature_coffee_planted_nasaland','mature_coffee_planted_robusta']].sum(axis=1)"
   ]
  },
  {
   "cell_type": "code",
   "execution_count": 370,
   "id": "5e7a109e-ed6d-4638-93a5-cf0d7e1bc317",
   "metadata": {},
   "outputs": [
    {
     "name": "stderr",
     "output_type": "stream",
     "text": [
      "/var/folders/xd/0btgr76j2zxc4__ynw0yhwbm0000gn/T/ipykernel_20832/1878261104.py:1: SettingWithCopyWarning: \n",
      "A value is trying to be set on a copy of a slice from a DataFrame.\n",
      "Try using .loc[row_indexer,col_indexer] = value instead\n",
      "\n",
      "See the caveats in the documentation: https://pandas.pydata.org/pandas-docs/stable/user_guide/indexing.html#returning-a-view-versus-a-copy\n",
      "  df['coffee_yield'] = df[['coffee_yeild_nasaland','coffee_yeild_robusta']].sum(axis=1)\n"
     ]
    }
   ],
   "source": [
    "df['coffee_yield'] = df[['coffee_yeild_nasaland','coffee_yeild_robusta']].sum(axis=1)"
   ]
  },
  {
   "cell_type": "code",
   "execution_count": 371,
   "id": "983dcc72-70d4-4d24-af06-f91ae03ecb4f",
   "metadata": {},
   "outputs": [
    {
     "name": "stderr",
     "output_type": "stream",
     "text": [
      "/var/folders/xd/0btgr76j2zxc4__ynw0yhwbm0000gn/T/ipykernel_20832/2377805685.py:1: SettingWithCopyWarning: \n",
      "A value is trying to be set on a copy of a slice from a DataFrame.\n",
      "Try using .loc[row_indexer,col_indexer] = value instead\n",
      "\n",
      "See the caveats in the documentation: https://pandas.pydata.org/pandas-docs/stable/user_guide/indexing.html#returning-a-view-versus-a-copy\n",
      "  df['coffee_yield_per_unit'] = df['coffee_yield'] / df['coffee_planted']\n"
     ]
    }
   ],
   "source": [
    "df['coffee_yield_per_unit'] = df['coffee_yield'] / df['coffee_planted']"
   ]
  },
  {
   "cell_type": "code",
   "execution_count": 373,
   "id": "0e7b132c-18e1-4721-a980-3514ec8f5163",
   "metadata": {},
   "outputs": [
    {
     "name": "stderr",
     "output_type": "stream",
     "text": [
      "/var/folders/xd/0btgr76j2zxc4__ynw0yhwbm0000gn/T/ipykernel_20832/1801357950.py:1: SettingWithCopyWarning: \n",
      "A value is trying to be set on a copy of a slice from a DataFrame.\n",
      "Try using .loc[row_indexer,col_indexer] = value instead\n",
      "\n",
      "See the caveats in the documentation: https://pandas.pydata.org/pandas-docs/stable/user_guide/indexing.html#returning-a-view-versus-a-copy\n",
      "  df['coffee_yield_per_unit'] = np.where(df['coffee_planted'] != 0,\n"
     ]
    }
   ],
   "source": [
    "df['coffee_yield_per_unit'] = np.where(df['coffee_planted'] != 0, \n",
    "                                         df['coffee_yield'] / df['coffee_planted'], \n",
    "                                         0)"
   ]
  },
  {
   "cell_type": "code",
   "execution_count": 374,
   "id": "6fd930b9-9379-4f51-a8f9-1be1d74193dc",
   "metadata": {},
   "outputs": [
    {
     "data": {
      "text/plain": [
       "array([0.00000000e+00, 3.00000000e+00, 4.28571429e+00, 2.50000000e+00,\n",
       "       2.20000000e+01, 8.00000000e-01, 1.20000000e+00, 3.33333333e+00,\n",
       "       1.66666667e+00, 1.50000000e+00, 2.25000000e+00, 2.66666667e+00,\n",
       "       1.40000000e+00, 1.00000000e+00, 2.40000000e+00, 2.33333333e+00,\n",
       "       2.00000000e+00, 4.00000000e+00, 7.00000000e-01, 1.00000000e+01,\n",
       "       7.24137931e-01, 7.00000000e+00, 1.14285714e+00, 2.00000000e-01,\n",
       "       1.10000000e+00, 4.50000000e+00, 1.25000000e+00, 2.14285714e+00,\n",
       "       1.90909091e+00, 2.30000000e+00, 5.00000000e+00, 1.12500000e+00,\n",
       "       5.71428571e+00, 2.94117647e+00, 6.80000000e-01, 3.00000000e-01,\n",
       "       2.75000000e+00, 1.87500000e+00, 6.66666667e-01, 2.61538462e+00,\n",
       "       1.89873418e+00, 6.00000000e+00, 1.80000000e+00, 3.75000000e+00,\n",
       "       6.66666667e+00, 2.60000000e+00, 6.25000000e+00, 4.28571429e-01,\n",
       "       3.57142857e+00, 7.29927007e-01, 1.16666667e+00, 2.57142857e+00,\n",
       "       2.80000000e+00, 1.42857143e+00, 3.33333333e-01, 2.87500000e+00,\n",
       "       1.33333333e+00, 3.60000000e+00, 7.50000000e-01, 4.66666667e-01,\n",
       "       6.00000000e-01, 2.13333333e+00, 4.00000000e-01, 2.80000000e-01,\n",
       "       1.50000000e-01, 1.16000000e+00, 2.44444444e+00, 1.60000000e+00,\n",
       "       2.77777778e+00, 2.28571429e+00, 4.80000000e-01, 4.33333333e+00,\n",
       "       3.50000000e+00, 9.85185185e-01, 1.86956522e+00, 5.00000000e-01,\n",
       "       1.62500000e+00, 2.22222222e+00, 2.10000000e+00, 2.00000000e+01,\n",
       "       2.83333333e+00, 7.14285714e+00, 1.27272727e+00, 2.08000000e+00,\n",
       "       8.00000000e+00, 1.20000000e-01, 3.20000000e+00, 2.37500000e+00,\n",
       "       2.66666667e-01, 4.16666667e-01, 4.44444444e-01, 3.12500000e+00,\n",
       "       1.90000000e+00, 3.16666667e+00, 2.15000000e+00, 1.57142857e+00,\n",
       "       1.70000000e+00, 3.25000000e+00, 1.71428571e+00, 9.00000000e-01,\n",
       "       3.57142857e-01, 5.18518519e+00, 2.20000000e+00, 2.62500000e+00,\n",
       "       4.25000000e+00, 5.33333333e-01, 2.40000000e-01, 8.00000000e-02,\n",
       "       5.55555556e-01, 2.71428571e+00, 1.25000000e-01, 1.60000000e-01,\n",
       "       2.70000000e+00, 5.42857143e-01, 3.45454545e-01, 2.26666667e+00,\n",
       "       5.75000000e-01, 1.20000000e+01, 7.75000000e-01, 2.42857143e+00,\n",
       "       3.40000000e+00, 2.12500000e+00, 3.20000000e-01, 1.17647059e+00,\n",
       "       1.38333333e-01, 3.14285714e+00, 1.53846154e+00, 9.56521739e-01,\n",
       "       3.50000000e-01, 1.93675889e-01, 7.36842105e-01, 1.83333333e-01,\n",
       "       8.57142857e-01, 8.33333333e-01, 9.35483871e-01, 6.15384615e+00,\n",
       "       7.14285714e-01, 1.45454545e+00, 1.66666667e+01, 4.44444444e+00,\n",
       "       7.33333333e-01, 1.13333333e+00, 1.33333333e+01, 9.20000000e-02,\n",
       "       3.24324324e+00, 3.91304348e+00, 1.38461538e+01, 1.75000000e+00,\n",
       "       2.64285714e+00, 3.33333333e+01, 8.75000000e-01, 4.71428571e+00,\n",
       "       1.29411765e+00, 2.85714286e+00, 3.00000000e+01, 1.90476190e+00,\n",
       "       5.42857143e+00, 5.55555556e+00, 6.29213483e+00, 1.41666667e+00,\n",
       "       2.76923077e+00, 2.30769231e+00, 1.31250000e+00, 7.50000000e+00,\n",
       "       5.83333333e-01, 1.52173913e+01, 2.50000000e-01, 1.11111111e+00,\n",
       "       1.09090909e+00, 2.08333333e+00, 4.66666667e+00, 1.76923077e+00,\n",
       "       4.16666667e+00, 6.36363636e+00, 5.71428571e-01, 6.25000000e-01,\n",
       "       4.67500000e+00, 3.70370370e+00, 1.70967742e+00, 1.50000000e+01,\n",
       "       4.61538462e+00, 2.22222222e+01, 4.25531915e+00, 1.63043478e+00,\n",
       "       1.85714286e+00, 1.36363636e+00, 1.52173913e+00, 6.95652174e-01,\n",
       "       1.00000000e-01, 6.40000000e-01, 1.66666667e-01, 4.45000000e+00,\n",
       "       8.57142857e+00, 4.80000000e+00, 4.33333333e-01, 8.33333333e+00,\n",
       "       2.08333333e-01, 2.38095238e+00, 4.92063492e-01, 2.14285714e+01,\n",
       "       1.55555556e+00, 9.00000000e+00, 2.30769231e-01, 4.73684211e+00,\n",
       "       4.53333333e-01, 1.46666667e+00, 1.84615385e+00, 1.13636364e+00,\n",
       "       2.86666667e+00, 6.81666667e+00, 5.98958333e-01, 5.00000000e-03,\n",
       "       2.33333333e-01, 5.33333333e+00, 7.64705882e+00, 8.50000000e-01,\n",
       "       3.65384615e+00, 5.77777778e+00, 1.28571429e+00, 8.88888889e-01,\n",
       "       3.80952381e+00, 3.30578512e-01, 1.54545455e-01, 4.14285714e+00,\n",
       "       3.05921053e+00, 1.21951220e+00, 1.11538462e+00, 1.13333333e+01,\n",
       "       2.60869565e+00, 3.11111111e+00, 8.88888889e+00, 6.84210526e+00,\n",
       "       1.19333333e+00, 3.75000000e-01, 7.69230769e-01, 3.09090909e-01,\n",
       "       3.07692308e-01, 3.62222222e+00, 1.05000000e+00, 4.85714286e+00,\n",
       "       3.28571429e+00, 5.60000000e-01, 2.85714286e-01, 2.16216216e+00,\n",
       "       6.66666667e-02, 1.05714286e+00, 4.03846154e+00, 2.34782609e+00,\n",
       "       8.83720930e-01, 9.16666667e-01, 5.50000000e-01, 4.40000000e-01,\n",
       "       1.25000000e+01, 1.80281690e+00, 4.34782609e+00, 1.14285714e+01,\n",
       "       2.75000000e-01, 9.60000000e-01, 3.18750000e+00, 6.42857143e-01,\n",
       "       7.55555556e-01, 7.77777778e+00, 4.42307692e+00, 1.22000000e+00,\n",
       "       2.92307692e+00, 1.44000000e+00, 3.14285714e-01, 4.61538462e-01,\n",
       "       2.10526316e+00, 5.21739130e-01, 1.83333333e+00, 3.86666667e+00,\n",
       "       5.14285714e-01, 2.02500000e+00, 6.85714286e+00, 1.37500000e+00,\n",
       "       1.13888889e+00, 2.16666667e+00, 1.77777778e+00, 1.23076923e+00,\n",
       "       1.52000000e+00, 2.47619048e-01, 1.72000000e+01, 4.78260870e+00,\n",
       "       5.60000000e+00, 1.31578947e+00, 5.45454545e+00, 1.05263158e+00,\n",
       "       5.20000000e+00, 5.25714286e-01, 1.35922330e+00, 5.62500000e-01,\n",
       "       2.33644860e+00, 4.00000000e-02, 8.82352941e-01, 1.81818182e+00,\n",
       "       3.28358209e-01, 2.17500000e+00, 4.25000000e-01, 5.88235294e-01,\n",
       "       1.73913043e+00, 8.80000000e-01, 6.92307692e+00, 1.12000000e+00,\n",
       "       2.90909091e+00, 2.41666667e+00, 1.94444444e+00, 1.06666667e+01,\n",
       "       4.50000000e-01, 4.60000000e+00, 7.82608696e-01, 1.64285714e+00,\n",
       "       9.09090909e-01, 1.41843972e+00, 6.00000000e-02, 1.47368421e+00,\n",
       "       7.33333333e-02, 1.30000000e+00, 1.82608696e+00, 1.57894737e+00,\n",
       "       3.45454545e+00, 1.85000000e+00, 3.48837209e-01, 2.15384615e+00,\n",
       "       2.95238095e+00, 8.69565217e-01, 3.07692308e-02, 1.76470588e+00,\n",
       "       7.40000000e+00, 1.73333333e+00, 2.19047619e+00, 4.76190476e+00,\n",
       "       2.58333333e+00, 1.33333333e-01, 1.55000000e+00, 5.40000000e+00,\n",
       "       1.70212766e+00, 1.08888889e+00, 2.18181818e+00, 3.23076923e-01,\n",
       "       3.06666667e-01, 2.20000000e-01, 5.23809524e+00, 2.87500000e-01,\n",
       "       5.25000000e-01, 3.63636364e+00, 6.75000000e+00, 3.66666667e-01,\n",
       "       2.08695652e-01, 2.47058824e-01, 5.76923077e+00, 6.50000000e-01,\n",
       "       2.58333333e-01, 8.27272727e-01, 1.75000000e-01, 8.66666667e-01,\n",
       "       8.33333333e-02])"
      ]
     },
     "execution_count": 374,
     "metadata": {},
     "output_type": "execute_result"
    }
   ],
   "source": [
    "df['coffee_yield_per_unit'].unique()"
   ]
  },
  {
   "cell_type": "code",
   "execution_count": 380,
   "id": "d051f135-6dd0-481d-abce-4e8127fbd03e",
   "metadata": {},
   "outputs": [],
   "source": [
    "df_copy = df[df['coffee_yield_per_unit'] != 0]"
   ]
  },
  {
   "cell_type": "code",
   "execution_count": 381,
   "id": "024fcfef-d3f9-4259-b046-ed44e3191384",
   "metadata": {},
   "outputs": [
    {
     "data": {
      "text/plain": [
       "above2\n",
       "above 2.15    2.536317\n",
       "below 2.15    2.695950\n",
       "Name: coffee_yield_per_unit, dtype: float64"
      ]
     },
     "execution_count": 381,
     "metadata": {},
     "output_type": "execute_result"
    }
   ],
   "source": [
    "df_copy.groupby('above2')['coffee_yield_per_unit'].mean()"
   ]
  },
  {
   "cell_type": "code",
   "execution_count": 385,
   "id": "e0b484fd-137b-4b94-a18c-bddcaf7a0356",
   "metadata": {},
   "outputs": [
    {
     "data": {
      "text/plain": [
       "above2\n",
       "above 2.15    1.536769\n",
       "below 2.15    1.346982\n",
       "Name: coffee_yield_per_unit, dtype: float64"
      ]
     },
     "execution_count": 385,
     "metadata": {},
     "output_type": "execute_result"
    }
   ],
   "source": [
    "df.groupby('above2')['coffee_yield_per_unit'].mean()"
   ]
  },
  {
   "cell_type": "code",
   "execution_count": 382,
   "id": "ad4fb0ef-443d-4e56-834e-224f6a21025e",
   "metadata": {},
   "outputs": [],
   "source": [
    "above_copy = df_copy[df_copy['above2'] == 'above 2.15']\n",
    "below_copy = df_copy[df_copy['above2'] == 'below 2.15']"
   ]
  },
  {
   "cell_type": "code",
   "execution_count": null,
   "id": "f99a3167-29ee-4c95-9777-a9f400b6561b",
   "metadata": {},
   "outputs": [],
   "source": []
  },
  {
   "cell_type": "code",
   "execution_count": 384,
   "id": "1b47bfc6-5a01-4450-8a2d-b0368a68e41d",
   "metadata": {},
   "outputs": [
    {
     "data": {
      "text/plain": [
       "F_onewayResult(statistic=5.375511705025344, pvalue=0.020472871588690354)"
      ]
     },
     "execution_count": 384,
     "metadata": {},
     "output_type": "execute_result"
    }
   ],
   "source": [
    "f_oneway(above['coffee_yield_per_unit'].dropna(), below['coffee_yield_per_unit'].dropna())"
   ]
  },
  {
   "cell_type": "code",
   "execution_count": null,
   "id": "c706a2c2-68d7-4a55-8f4f-4a42677f0a48",
   "metadata": {},
   "outputs": [],
   "source": []
  },
  {
   "cell_type": "code",
   "execution_count": null,
   "id": "ea3464aa-a5b6-4804-a9b9-b4f020db6be2",
   "metadata": {},
   "outputs": [],
   "source": []
  },
  {
   "cell_type": "code",
   "execution_count": null,
   "id": "fed70435-b684-4404-970b-178093a73822",
   "metadata": {},
   "outputs": [],
   "source": []
  },
  {
   "cell_type": "code",
   "execution_count": null,
   "id": "2d19d589-150b-4248-9b92-e04657fecb34",
   "metadata": {},
   "outputs": [],
   "source": []
  },
  {
   "cell_type": "code",
   "execution_count": null,
   "id": "b7159096-d217-43ff-a5a4-517c1b9b07ec",
   "metadata": {},
   "outputs": [],
   "source": []
  },
  {
   "cell_type": "code",
   "execution_count": null,
   "id": "11a03c2a-b831-4bfa-a7d0-6f03c1785679",
   "metadata": {},
   "outputs": [],
   "source": []
  },
  {
   "cell_type": "code",
   "execution_count": null,
   "id": "703b5d8b-7b3c-4d39-ba8a-f85c6dd0c210",
   "metadata": {},
   "outputs": [],
   "source": []
  },
  {
   "cell_type": "code",
   "execution_count": null,
   "id": "dedae765-5150-41ed-9d04-7682e57885b3",
   "metadata": {},
   "outputs": [],
   "source": []
  },
  {
   "cell_type": "code",
   "execution_count": null,
   "id": "8337b10c-d0db-4e8d-a83f-61b72153c3ee",
   "metadata": {},
   "outputs": [],
   "source": []
  },
  {
   "cell_type": "code",
   "execution_count": 275,
   "id": "06de92cd-9525-44eb-8d18-71d48d93b3b7",
   "metadata": {},
   "outputs": [
    {
     "data": {
      "text/plain": [
       "above2\n",
       "above 2.15    4284.491159\n",
       "below 2.15    4694.401947\n",
       "Name: coffee_price_processed, dtype: float64"
      ]
     },
     "execution_count": 275,
     "metadata": {},
     "output_type": "execute_result"
    }
   ],
   "source": [
    "df.groupby('above2')['coffee_price_processed'].mean()"
   ]
  },
  {
   "cell_type": "code",
   "execution_count": 276,
   "id": "82f5a867-cc0a-4ebe-b892-38fbc2c137ce",
   "metadata": {},
   "outputs": [
    {
     "data": {
      "text/plain": [
       "F_onewayResult(statistic=6.094214021505826, pvalue=0.013632986628837185)"
      ]
     },
     "execution_count": 276,
     "metadata": {},
     "output_type": "execute_result"
    }
   ],
   "source": [
    "f_oneway(above['coffee_price_processed'].dropna(), below['coffee_price_processed'].dropna())"
   ]
  },
  {
   "cell_type": "code",
   "execution_count": 277,
   "id": "66ecf964-6de1-4513-a31f-68027f2ca225",
   "metadata": {},
   "outputs": [
    {
     "data": {
      "text/plain": [
       "Household_Head_Gender  above2    \n",
       "Female Headed          above 2.15    4415.790138\n",
       "                       below 2.15    4799.872611\n",
       "Male Headed            above 2.15    4245.348456\n",
       "                       below 2.15    4670.471311\n",
       "Youth Headed           above 2.15    4185.119048\n",
       "                       below 2.15    4628.445946\n",
       "Name: coffee_price_processed, dtype: float64"
      ]
     },
     "execution_count": 277,
     "metadata": {},
     "output_type": "execute_result"
    }
   ],
   "source": [
    "df.groupby(['Household_Head_Gender','above2'])['coffee_price_processed'].mean()"
   ]
  },
  {
   "cell_type": "code",
   "execution_count": 278,
   "id": "08a39fca-1d26-4dfd-b69e-258b19bb2442",
   "metadata": {},
   "outputs": [
    {
     "name": "stdout",
     "output_type": "stream",
     "text": [
      "Female Headed:0.26080994789090545\n",
      "Male Headed:0.03776934015866465\n",
      "Youth Headed:0.40063536812260625\n"
     ]
    }
   ],
   "source": [
    "pvalue('coffee_price_processed')"
   ]
  },
  {
   "cell_type": "code",
   "execution_count": 283,
   "id": "fa6b9a6b-41d0-4f58-b3b4-45410b2177a1",
   "metadata": {},
   "outputs": [
    {
     "name": "stderr",
     "output_type": "stream",
     "text": [
      "/var/folders/xd/0btgr76j2zxc4__ynw0yhwbm0000gn/T/ipykernel_20832/2114905085.py:1: SettingWithCopyWarning: \n",
      "A value is trying to be set on a copy of a slice from a DataFrame.\n",
      "Try using .loc[row_indexer,col_indexer] = value instead\n",
      "\n",
      "See the caveats in the documentation: https://pandas.pydata.org/pandas-docs/stable/user_guide/indexing.html#returning-a-view-versus-a-copy\n",
      "  df['coffee_mkt_value'] = df[['coffee_price_fresh','coffee_yield']].product(axis=1)\n"
     ]
    }
   ],
   "source": [
    "df['coffee_mkt_value'] = df[['coffee_price_fresh','coffee_yield']].product(axis=1)"
   ]
  },
  {
   "cell_type": "code",
   "execution_count": 290,
   "id": "bb8d5652-0f73-4516-8969-77ad407f9268",
   "metadata": {},
   "outputs": [
    {
     "data": {
      "text/plain": [
       "above2\n",
       "above 2.15    130816.882480\n",
       "below 2.15     62932.672439\n",
       "Name: coffee_mkt_value, dtype: float64"
      ]
     },
     "execution_count": 290,
     "metadata": {},
     "output_type": "execute_result"
    }
   ],
   "source": [
    "df.groupby('above2')['coffee_mkt_value'].mean()"
   ]
  },
  {
   "cell_type": "code",
   "execution_count": 291,
   "id": "80f32904-bfff-4539-b8bb-330cec8802c3",
   "metadata": {},
   "outputs": [
    {
     "data": {
      "text/plain": [
       "F_onewayResult(statistic=73.57357552621764, pvalue=1.3791782866439117e-17)"
      ]
     },
     "execution_count": 291,
     "metadata": {},
     "output_type": "execute_result"
    }
   ],
   "source": [
    "f_oneway(above['coffee_mkt_value'].dropna(), below['coffee_mkt_value'].dropna())"
   ]
  },
  {
   "cell_type": "code",
   "execution_count": 285,
   "id": "1219a348-94df-4c12-878c-edd42cb7cad3",
   "metadata": {},
   "outputs": [
    {
     "data": {
      "text/plain": [
       "Household_Head_Gender  above2    \n",
       "Female Headed          above 2.15    121396.873333\n",
       "                       below 2.15     46900.657813\n",
       "Male Headed            above 2.15    141454.541776\n",
       "                       below 2.15     67931.611419\n",
       "Youth Headed           above 2.15     97097.492593\n",
       "                       below 2.15     67534.166667\n",
       "Name: coffee_mkt_value, dtype: float64"
      ]
     },
     "execution_count": 285,
     "metadata": {},
     "output_type": "execute_result"
    }
   ],
   "source": [
    "df.groupby(['Household_Head_Gender','above2'])['coffee_mkt_value'].mean()"
   ]
  },
  {
   "cell_type": "code",
   "execution_count": 292,
   "id": "b7218100-8227-473d-b838-c8651b767521",
   "metadata": {},
   "outputs": [
    {
     "name": "stdout",
     "output_type": "stream",
     "text": [
      "Female Headed:2.1182318748754674e-05\n",
      "Male Headed:3.0579241514334507e-14\n",
      "Youth Headed:0.15283248050478046\n"
     ]
    }
   ],
   "source": [
    "pvalue('coffee_mkt_value')"
   ]
  },
  {
   "cell_type": "code",
   "execution_count": 257,
   "id": "3a909f5d-75f7-4c80-b320-cf3227326a9e",
   "metadata": {},
   "outputs": [
    {
     "name": "stderr",
     "output_type": "stream",
     "text": [
      "/var/folders/xd/0btgr76j2zxc4__ynw0yhwbm0000gn/T/ipykernel_20832/3806066688.py:1: SettingWithCopyWarning: \n",
      "A value is trying to be set on a copy of a slice from a DataFrame.\n",
      "Try using .loc[row_indexer,col_indexer] = value instead\n",
      "\n",
      "See the caveats in the documentation: https://pandas.pydata.org/pandas-docs/stable/user_guide/indexing.html#returning-a-view-versus-a-copy\n",
      "  df['coffee_price_dry'] = df[['coffee_price_dried_nasaland','coffee_sold_dry_robusta']].mean(axis=1)\n"
     ]
    }
   ],
   "source": [
    "df['coffee_price_dry'] = df[['coffee_price_dried_nasaland','coffee_sold_dry_robusta']].mean(axis=1)"
   ]
  },
  {
   "cell_type": "code",
   "execution_count": 258,
   "id": "081f3c82-f740-4983-9758-bbadb72566c5",
   "metadata": {},
   "outputs": [
    {
     "name": "stderr",
     "output_type": "stream",
     "text": [
      "/var/folders/xd/0btgr76j2zxc4__ynw0yhwbm0000gn/T/ipykernel_20832/2858950365.py:1: SettingWithCopyWarning: \n",
      "A value is trying to be set on a copy of a slice from a DataFrame.\n",
      "Try using .loc[row_indexer,col_indexer] = value instead\n",
      "\n",
      "See the caveats in the documentation: https://pandas.pydata.org/pandas-docs/stable/user_guide/indexing.html#returning-a-view-versus-a-copy\n",
      "  df['coffee_price_processed'] = df[['coffee_price_process_nasaland','coffee_sold_process_robusta']].mean(axis=1)\n"
     ]
    }
   ],
   "source": [
    "df['coffee_price_processed'] = df[['coffee_price_process_nasaland','coffee_sold_process_robusta']].mean(axis=1)"
   ]
  },
  {
   "cell_type": "code",
   "execution_count": 179,
   "id": "d5a5d646-42bb-4159-b8dc-a802e29c208c",
   "metadata": {},
   "outputs": [
    {
     "data": {
      "text/plain": [
       "0                             1\n",
       "1                        1 3 15\n",
       "2                           1 4\n",
       "3                      1 2 4 16\n",
       "4                             1\n",
       "                 ...           \n",
       "3892                       1 16\n",
       "3893                         15\n",
       "3894                    1 15 16\n",
       "3895                         16\n",
       "3896    1 2 4 10 15 16 17 25 26\n",
       "Name: perennial_crops_grown, Length: 3897, dtype: object"
      ]
     },
     "execution_count": 179,
     "metadata": {},
     "output_type": "execute_result"
    }
   ],
   "source": [
    "df['perennial_crops_grown']"
   ]
  },
  {
   "cell_type": "code",
   "execution_count": 120,
   "id": "cab49102-92fd-4499-972d-b2683032f69c",
   "metadata": {},
   "outputs": [
    {
     "name": "stderr",
     "output_type": "stream",
     "text": [
      "/var/folders/xd/0btgr76j2zxc4__ynw0yhwbm0000gn/T/ipykernel_20832/944613766.py:1: SettingWithCopyWarning: \n",
      "A value is trying to be set on a copy of a slice from a DataFrame.\n",
      "Try using .loc[row_indexer,col_indexer] = value instead\n",
      "\n",
      "See the caveats in the documentation: https://pandas.pydata.org/pandas-docs/stable/user_guide/indexing.html#returning-a-view-versus-a-copy\n",
      "  df['perenial Count'] = per_df.sum(axis=1)\n"
     ]
    }
   ],
   "source": [
    "df['perenial Count'] = per_df.sum(axis=1)"
   ]
  },
  {
   "cell_type": "code",
   "execution_count": 172,
   "id": "55966092-bf95-492e-8584-30328f83664b",
   "metadata": {},
   "outputs": [
    {
     "data": {
      "text/html": [
       "<div>\n",
       "<style scoped>\n",
       "    .dataframe tbody tr th:only-of-type {\n",
       "        vertical-align: middle;\n",
       "    }\n",
       "\n",
       "    .dataframe tbody tr th {\n",
       "        vertical-align: top;\n",
       "    }\n",
       "\n",
       "    .dataframe thead th {\n",
       "        text-align: right;\n",
       "    }\n",
       "</style>\n",
       "<table border=\"1\" class=\"dataframe\">\n",
       "  <thead>\n",
       "    <tr style=\"text-align: right;\">\n",
       "      <th></th>\n",
       "      <th>SubmissionDate</th>\n",
       "      <th>starttime</th>\n",
       "      <th>endtime</th>\n",
       "      <th>version</th>\n",
       "      <th>duration</th>\n",
       "      <th>survey_start</th>\n",
       "      <th>intro_start</th>\n",
       "      <th>text_audit</th>\n",
       "      <th>district</th>\n",
       "      <th>Surveyor_Name</th>\n",
       "      <th>...</th>\n",
       "      <th>seasonal adjusted</th>\n",
       "      <th>formal adjusted</th>\n",
       "      <th>business adjusted</th>\n",
       "      <th>perenial adjusted</th>\n",
       "      <th>casual adjusted</th>\n",
       "      <th>business_participation</th>\n",
       "      <th>perenial Count</th>\n",
       "      <th>rem adjusted</th>\n",
       "      <th>assets adjusted</th>\n",
       "      <th>live adjusted</th>\n",
       "    </tr>\n",
       "  </thead>\n",
       "  <tbody>\n",
       "    <tr>\n",
       "      <th>96</th>\n",
       "      <td>2023-08-04 19:04:48.000</td>\n",
       "      <td>2023-08-04 15:15:41.000</td>\n",
       "      <td>2023-08-04 15:59:59.000</td>\n",
       "      <td>2308030036</td>\n",
       "      <td>2608</td>\n",
       "      <td>13.0</td>\n",
       "      <td>13.0</td>\n",
       "      <td>https://rtvuganda.surveycto.com/view/submissio...</td>\n",
       "      <td>2</td>\n",
       "      <td>29</td>\n",
       "      <td>...</td>\n",
       "      <td>124.613451</td>\n",
       "      <td>0.000000</td>\n",
       "      <td>0.000000</td>\n",
       "      <td>0.0</td>\n",
       "      <td>0.000000</td>\n",
       "      <td>0</td>\n",
       "      <td>30</td>\n",
       "      <td>0.000000</td>\n",
       "      <td>634.062557</td>\n",
       "      <td>5.497652</td>\n",
       "    </tr>\n",
       "    <tr>\n",
       "      <th>129</th>\n",
       "      <td>2023-08-03 20:40:01.000</td>\n",
       "      <td>2023-08-03 17:54:39.000</td>\n",
       "      <td>2023-08-03 19:06:54.000</td>\n",
       "      <td>2308030036</td>\n",
       "      <td>3905</td>\n",
       "      <td>2.0</td>\n",
       "      <td>2.0</td>\n",
       "      <td>https://rtvuganda.surveycto.com/view/submissio...</td>\n",
       "      <td>2</td>\n",
       "      <td>29</td>\n",
       "      <td>...</td>\n",
       "      <td>187.510933</td>\n",
       "      <td>0.000000</td>\n",
       "      <td>0.000000</td>\n",
       "      <td>0.0</td>\n",
       "      <td>115.169863</td>\n",
       "      <td>0</td>\n",
       "      <td>30</td>\n",
       "      <td>0.000000</td>\n",
       "      <td>387.498601</td>\n",
       "      <td>0.000000</td>\n",
       "    </tr>\n",
       "    <tr>\n",
       "      <th>266</th>\n",
       "      <td>2023-08-04 22:06:06.000</td>\n",
       "      <td>2023-08-04 12:41:58.000</td>\n",
       "      <td>2023-08-04 18:31:49.000</td>\n",
       "      <td>2308030036</td>\n",
       "      <td>3524</td>\n",
       "      <td>27.0</td>\n",
       "      <td>27.0</td>\n",
       "      <td>https://rtvuganda.surveycto.com/view/submissio...</td>\n",
       "      <td>2</td>\n",
       "      <td>27</td>\n",
       "      <td>...</td>\n",
       "      <td>270.019342</td>\n",
       "      <td>0.000000</td>\n",
       "      <td>436.685730</td>\n",
       "      <td>0.0</td>\n",
       "      <td>0.000000</td>\n",
       "      <td>1</td>\n",
       "      <td>30</td>\n",
       "      <td>11.516986</td>\n",
       "      <td>23.033973</td>\n",
       "      <td>0.000000</td>\n",
       "    </tr>\n",
       "    <tr>\n",
       "      <th>290</th>\n",
       "      <td>2023-08-04 19:04:53.000</td>\n",
       "      <td>2023-08-04 09:45:53.000</td>\n",
       "      <td>2023-08-04 11:15:39.000</td>\n",
       "      <td>2308030036</td>\n",
       "      <td>3525</td>\n",
       "      <td>65.0</td>\n",
       "      <td>65.0</td>\n",
       "      <td>https://rtvuganda.surveycto.com/view/submissio...</td>\n",
       "      <td>2</td>\n",
       "      <td>29</td>\n",
       "      <td>...</td>\n",
       "      <td>181.413268</td>\n",
       "      <td>388.742717</td>\n",
       "      <td>93.298252</td>\n",
       "      <td>0.0</td>\n",
       "      <td>0.000000</td>\n",
       "      <td>1</td>\n",
       "      <td>30</td>\n",
       "      <td>0.000000</td>\n",
       "      <td>72.565307</td>\n",
       "      <td>0.000000</td>\n",
       "    </tr>\n",
       "    <tr>\n",
       "      <th>304</th>\n",
       "      <td>2023-08-05 20:25:03.000</td>\n",
       "      <td>2023-08-05 15:00:04.000</td>\n",
       "      <td>2023-08-05 15:52:29.000</td>\n",
       "      <td>2308030036</td>\n",
       "      <td>3145</td>\n",
       "      <td>3.0</td>\n",
       "      <td>3.0</td>\n",
       "      <td>https://rtvuganda.surveycto.com/view/submissio...</td>\n",
       "      <td>2</td>\n",
       "      <td>29</td>\n",
       "      <td>...</td>\n",
       "      <td>151.175440</td>\n",
       "      <td>0.000000</td>\n",
       "      <td>0.000000</td>\n",
       "      <td>0.0</td>\n",
       "      <td>190.779147</td>\n",
       "      <td>0</td>\n",
       "      <td>30</td>\n",
       "      <td>5.677951</td>\n",
       "      <td>354.871926</td>\n",
       "      <td>85.169262</td>\n",
       "    </tr>\n",
       "    <tr>\n",
       "      <th>...</th>\n",
       "      <td>...</td>\n",
       "      <td>...</td>\n",
       "      <td>...</td>\n",
       "      <td>...</td>\n",
       "      <td>...</td>\n",
       "      <td>...</td>\n",
       "      <td>...</td>\n",
       "      <td>...</td>\n",
       "      <td>...</td>\n",
       "      <td>...</td>\n",
       "      <td>...</td>\n",
       "      <td>...</td>\n",
       "      <td>...</td>\n",
       "      <td>...</td>\n",
       "      <td>...</td>\n",
       "      <td>...</td>\n",
       "      <td>...</td>\n",
       "      <td>...</td>\n",
       "      <td>...</td>\n",
       "      <td>...</td>\n",
       "      <td>...</td>\n",
       "    </tr>\n",
       "    <tr>\n",
       "      <th>3790</th>\n",
       "      <td>2023-08-12 12:09:50.976</td>\n",
       "      <td>2023-08-12 10:23:21.005</td>\n",
       "      <td>2023-08-12 12:09:41.990</td>\n",
       "      <td>2308112000</td>\n",
       "      <td>6253</td>\n",
       "      <td>9.0</td>\n",
       "      <td>9.0</td>\n",
       "      <td>https://rtvuganda.surveycto.com/view/submissio...</td>\n",
       "      <td>7</td>\n",
       "      <td>112</td>\n",
       "      <td>...</td>\n",
       "      <td>811.176470</td>\n",
       "      <td>0.000000</td>\n",
       "      <td>0.000000</td>\n",
       "      <td>0.0</td>\n",
       "      <td>0.000000</td>\n",
       "      <td>0</td>\n",
       "      <td>30</td>\n",
       "      <td>31.099417</td>\n",
       "      <td>305.810938</td>\n",
       "      <td>25.916181</td>\n",
       "    </tr>\n",
       "    <tr>\n",
       "      <th>3817</th>\n",
       "      <td>2023-08-10 20:58:36.970</td>\n",
       "      <td>2023-08-10 09:43:55.027</td>\n",
       "      <td>2023-08-10 10:30:55.037</td>\n",
       "      <td>2308100803</td>\n",
       "      <td>2722</td>\n",
       "      <td>3.0</td>\n",
       "      <td>3.0</td>\n",
       "      <td>https://rtvuganda.surveycto.com/view/submissio...</td>\n",
       "      <td>7</td>\n",
       "      <td>121</td>\n",
       "      <td>...</td>\n",
       "      <td>421.587848</td>\n",
       "      <td>0.000000</td>\n",
       "      <td>56.779508</td>\n",
       "      <td>0.0</td>\n",
       "      <td>141.948770</td>\n",
       "      <td>1</td>\n",
       "      <td>30</td>\n",
       "      <td>36.906680</td>\n",
       "      <td>630.252540</td>\n",
       "      <td>457.075040</td>\n",
       "    </tr>\n",
       "    <tr>\n",
       "      <th>3821</th>\n",
       "      <td>2023-08-07 18:10:44.976</td>\n",
       "      <td>2023-08-07 07:44:51.994</td>\n",
       "      <td>2023-08-07 10:49:37.027</td>\n",
       "      <td>2308070650</td>\n",
       "      <td>5130</td>\n",
       "      <td>6.0</td>\n",
       "      <td>6.0</td>\n",
       "      <td>https://rtvuganda.surveycto.com/view/submissio...</td>\n",
       "      <td>7</td>\n",
       "      <td>121</td>\n",
       "      <td>...</td>\n",
       "      <td>835.701317</td>\n",
       "      <td>0.000000</td>\n",
       "      <td>0.000000</td>\n",
       "      <td>0.0</td>\n",
       "      <td>0.000000</td>\n",
       "      <td>0</td>\n",
       "      <td>30</td>\n",
       "      <td>0.000000</td>\n",
       "      <td>544.417539</td>\n",
       "      <td>0.000000</td>\n",
       "    </tr>\n",
       "    <tr>\n",
       "      <th>3839</th>\n",
       "      <td>2023-08-12 20:30:56.966</td>\n",
       "      <td>2023-08-12 06:41:25.987</td>\n",
       "      <td>2023-08-12 09:44:06.000</td>\n",
       "      <td>2308112000</td>\n",
       "      <td>3521</td>\n",
       "      <td>9.0</td>\n",
       "      <td>9.0</td>\n",
       "      <td>https://rtvuganda.surveycto.com/view/submissio...</td>\n",
       "      <td>7</td>\n",
       "      <td>110</td>\n",
       "      <td>...</td>\n",
       "      <td>208.664692</td>\n",
       "      <td>1226.437375</td>\n",
       "      <td>0.000000</td>\n",
       "      <td>0.0</td>\n",
       "      <td>0.000000</td>\n",
       "      <td>0</td>\n",
       "      <td>30</td>\n",
       "      <td>36.906680</td>\n",
       "      <td>339.257561</td>\n",
       "      <td>99.364139</td>\n",
       "    </tr>\n",
       "    <tr>\n",
       "      <th>3875</th>\n",
       "      <td>2023-08-07 18:10:51.974</td>\n",
       "      <td>2023-08-07 13:41:29.040</td>\n",
       "      <td>2023-08-07 14:37:35.011</td>\n",
       "      <td>2308070650</td>\n",
       "      <td>3276</td>\n",
       "      <td>3.0</td>\n",
       "      <td>3.0</td>\n",
       "      <td>https://rtvuganda.surveycto.com/view/submissio...</td>\n",
       "      <td>7</td>\n",
       "      <td>121</td>\n",
       "      <td>...</td>\n",
       "      <td>609.811917</td>\n",
       "      <td>0.000000</td>\n",
       "      <td>141.948770</td>\n",
       "      <td>0.0</td>\n",
       "      <td>0.000000</td>\n",
       "      <td>1</td>\n",
       "      <td>30</td>\n",
       "      <td>17.033852</td>\n",
       "      <td>1022.315043</td>\n",
       "      <td>445.719139</td>\n",
       "    </tr>\n",
       "  </tbody>\n",
       "</table>\n",
       "<p>184 rows × 5687 columns</p>\n",
       "</div>"
      ],
      "text/plain": [
       "              SubmissionDate               starttime                 endtime  \\\n",
       "96   2023-08-04 19:04:48.000 2023-08-04 15:15:41.000 2023-08-04 15:59:59.000   \n",
       "129  2023-08-03 20:40:01.000 2023-08-03 17:54:39.000 2023-08-03 19:06:54.000   \n",
       "266  2023-08-04 22:06:06.000 2023-08-04 12:41:58.000 2023-08-04 18:31:49.000   \n",
       "290  2023-08-04 19:04:53.000 2023-08-04 09:45:53.000 2023-08-04 11:15:39.000   \n",
       "304  2023-08-05 20:25:03.000 2023-08-05 15:00:04.000 2023-08-05 15:52:29.000   \n",
       "...                      ...                     ...                     ...   \n",
       "3790 2023-08-12 12:09:50.976 2023-08-12 10:23:21.005 2023-08-12 12:09:41.990   \n",
       "3817 2023-08-10 20:58:36.970 2023-08-10 09:43:55.027 2023-08-10 10:30:55.037   \n",
       "3821 2023-08-07 18:10:44.976 2023-08-07 07:44:51.994 2023-08-07 10:49:37.027   \n",
       "3839 2023-08-12 20:30:56.966 2023-08-12 06:41:25.987 2023-08-12 09:44:06.000   \n",
       "3875 2023-08-07 18:10:51.974 2023-08-07 13:41:29.040 2023-08-07 14:37:35.011   \n",
       "\n",
       "         version  duration  survey_start  intro_start  \\\n",
       "96    2308030036      2608          13.0         13.0   \n",
       "129   2308030036      3905           2.0          2.0   \n",
       "266   2308030036      3524          27.0         27.0   \n",
       "290   2308030036      3525          65.0         65.0   \n",
       "304   2308030036      3145           3.0          3.0   \n",
       "...          ...       ...           ...          ...   \n",
       "3790  2308112000      6253           9.0          9.0   \n",
       "3817  2308100803      2722           3.0          3.0   \n",
       "3821  2308070650      5130           6.0          6.0   \n",
       "3839  2308112000      3521           9.0          9.0   \n",
       "3875  2308070650      3276           3.0          3.0   \n",
       "\n",
       "                                             text_audit  district  \\\n",
       "96    https://rtvuganda.surveycto.com/view/submissio...         2   \n",
       "129   https://rtvuganda.surveycto.com/view/submissio...         2   \n",
       "266   https://rtvuganda.surveycto.com/view/submissio...         2   \n",
       "290   https://rtvuganda.surveycto.com/view/submissio...         2   \n",
       "304   https://rtvuganda.surveycto.com/view/submissio...         2   \n",
       "...                                                 ...       ...   \n",
       "3790  https://rtvuganda.surveycto.com/view/submissio...         7   \n",
       "3817  https://rtvuganda.surveycto.com/view/submissio...         7   \n",
       "3821  https://rtvuganda.surveycto.com/view/submissio...         7   \n",
       "3839  https://rtvuganda.surveycto.com/view/submissio...         7   \n",
       "3875  https://rtvuganda.surveycto.com/view/submissio...         7   \n",
       "\n",
       "      Surveyor_Name  ... seasonal adjusted  formal adjusted business adjusted  \\\n",
       "96               29  ...        124.613451         0.000000          0.000000   \n",
       "129              29  ...        187.510933         0.000000          0.000000   \n",
       "266              27  ...        270.019342         0.000000        436.685730   \n",
       "290              29  ...        181.413268       388.742717         93.298252   \n",
       "304              29  ...        151.175440         0.000000          0.000000   \n",
       "...             ...  ...               ...              ...               ...   \n",
       "3790            112  ...        811.176470         0.000000          0.000000   \n",
       "3817            121  ...        421.587848         0.000000         56.779508   \n",
       "3821            121  ...        835.701317         0.000000          0.000000   \n",
       "3839            110  ...        208.664692      1226.437375          0.000000   \n",
       "3875            121  ...        609.811917         0.000000        141.948770   \n",
       "\n",
       "     perenial adjusted casual adjusted business_participation perenial Count  \\\n",
       "96                 0.0        0.000000                      0             30   \n",
       "129                0.0      115.169863                      0             30   \n",
       "266                0.0        0.000000                      1             30   \n",
       "290                0.0        0.000000                      1             30   \n",
       "304                0.0      190.779147                      0             30   \n",
       "...                ...             ...                    ...            ...   \n",
       "3790               0.0        0.000000                      0             30   \n",
       "3817               0.0      141.948770                      1             30   \n",
       "3821               0.0        0.000000                      0             30   \n",
       "3839               0.0        0.000000                      0             30   \n",
       "3875               0.0        0.000000                      1             30   \n",
       "\n",
       "     rem adjusted assets adjusted live adjusted  \n",
       "96       0.000000      634.062557      5.497652  \n",
       "129      0.000000      387.498601      0.000000  \n",
       "266     11.516986       23.033973      0.000000  \n",
       "290      0.000000       72.565307      0.000000  \n",
       "304      5.677951      354.871926     85.169262  \n",
       "...           ...             ...           ...  \n",
       "3790    31.099417      305.810938     25.916181  \n",
       "3817    36.906680      630.252540    457.075040  \n",
       "3821     0.000000      544.417539      0.000000  \n",
       "3839    36.906680      339.257561     99.364139  \n",
       "3875    17.033852     1022.315043    445.719139  \n",
       "\n",
       "[184 rows x 5687 columns]"
      ]
     },
     "execution_count": 172,
     "metadata": {},
     "output_type": "execute_result"
    }
   ],
   "source": [
    "df[df['perenial Count'] == 30]"
   ]
  },
  {
   "cell_type": "code",
   "execution_count": 157,
   "id": "87eb536d-10ae-4834-93bf-ee5148aff34d",
   "metadata": {},
   "outputs": [
    {
     "data": {
      "text/plain": [
       "above2\n",
       "above 2.15    4.919685\n",
       "below 2.15    5.941046\n",
       "Name: perenial Count, dtype: float64"
      ]
     },
     "execution_count": 157,
     "metadata": {},
     "output_type": "execute_result"
    }
   ],
   "source": [
    "df.groupby('above2')['perenial Count'].mean()"
   ]
  },
  {
   "cell_type": "code",
   "execution_count": 288,
   "id": "23a3b85e-436a-4843-accb-2607758b5438",
   "metadata": {},
   "outputs": [
    {
     "data": {
      "text/plain": [
       "above2      Quartile\n",
       "above 2.15  Group 1     4.518310\n",
       "            Group 2     4.675806\n",
       "            Group 3     5.262611\n",
       "            Group 4     5.003429\n",
       "below 2.15  Group 1     3.941799\n",
       "            Group 2     6.590452\n",
       "            Group 3     7.708075\n",
       "            Group 4     4.970387\n",
       "Name: perenial Count, dtype: float64"
      ]
     },
     "execution_count": 288,
     "metadata": {},
     "output_type": "execute_result"
    }
   ],
   "source": [
    "df.groupby(['above2','Quartile'])['perenial Count'].mean()"
   ]
  },
  {
   "cell_type": "code",
   "execution_count": 158,
   "id": "2af6d0be-6fde-4f6f-8be2-5259b8901b5c",
   "metadata": {},
   "outputs": [
    {
     "data": {
      "text/plain": [
       "above2      Household_Head_Gender\n",
       "above 2.15  Female Headed            4.810667\n",
       "            Male Headed              5.000000\n",
       "            Youth Headed             4.770370\n",
       "below 2.15  Female Headed            5.981250\n",
       "            Male Headed              5.606430\n",
       "            Youth Headed             8.081481\n",
       "Name: perenial Count, dtype: float64"
      ]
     },
     "execution_count": 158,
     "metadata": {},
     "output_type": "execute_result"
    }
   ],
   "source": [
    "df.groupby(['above2', 'Household_Head_Gender'])['perenial Count'].mean()"
   ]
  },
  {
   "cell_type": "code",
   "execution_count": 125,
   "id": "db9672d8-7926-4bcd-9b14-c69b21b5ef31",
   "metadata": {},
   "outputs": [
    {
     "data": {
      "text/plain": [
       "F_onewayResult(statistic=27.981642474760797, pvalue=1.2920828820997691e-07)"
      ]
     },
     "execution_count": 125,
     "metadata": {},
     "output_type": "execute_result"
    }
   ],
   "source": [
    "f_oneway(above['perenial Count'].dropna(), below['perenial Count'].dropna())"
   ]
  },
  {
   "cell_type": "code",
   "execution_count": 126,
   "id": "e25f3672-e1d5-40f9-b320-90d7a69e91f3",
   "metadata": {},
   "outputs": [
    {
     "data": {
      "text/plain": [
       "F_onewayResult(statistic=9.511430053842638, pvalue=0.00209441153205132)"
      ]
     },
     "execution_count": 126,
     "metadata": {},
     "output_type": "execute_result"
    }
   ],
   "source": [
    "perform_anova_for_gender_and_variable('Female Headed','perenial Count')"
   ]
  },
  {
   "cell_type": "code",
   "execution_count": 127,
   "id": "6b88976a-c735-47f0-9af1-71b8c9411672",
   "metadata": {},
   "outputs": [
    {
     "data": {
      "text/plain": [
       "F_onewayResult(statistic=6.834135919580719, pvalue=0.008998650636646371)"
      ]
     },
     "execution_count": 127,
     "metadata": {},
     "output_type": "execute_result"
    }
   ],
   "source": [
    "perform_anova_for_gender_and_variable('Male Headed','perenial Count')"
   ]
  },
  {
   "cell_type": "code",
   "execution_count": 128,
   "id": "c3011cbc-007e-4cee-9fd4-74308e218b23",
   "metadata": {},
   "outputs": [
    {
     "data": {
      "text/plain": [
       "F_onewayResult(statistic=20.434085422533435, pvalue=8.12472716018591e-06)"
      ]
     },
     "execution_count": 128,
     "metadata": {},
     "output_type": "execute_result"
    }
   ],
   "source": [
    "perform_anova_for_gender_and_variable('Youth Headed','perenial Count')"
   ]
  },
  {
   "cell_type": "code",
   "execution_count": 132,
   "id": "f15cd62a-c272-4636-8d3d-073c4eb2cee2",
   "metadata": {},
   "outputs": [
    {
     "data": {
      "text/plain": [
       "F_onewayResult(statistic=25.264435633392974, pvalue=5.925974486517219e-07)"
      ]
     },
     "execution_count": 132,
     "metadata": {},
     "output_type": "execute_result"
    }
   ],
   "source": [
    "f_oneway(group3_below['perenial Count'].dropna(), group3_above['perenial Count'].dropna())"
   ]
  },
  {
   "cell_type": "code",
   "execution_count": 133,
   "id": "1f37522f-2a9d-495b-9008-fcd5528cfecf",
   "metadata": {},
   "outputs": [
    {
     "data": {
      "text/plain": [
       "F_onewayResult(statistic=0.014125213129116621, pvalue=0.9054127535654152)"
      ]
     },
     "execution_count": 133,
     "metadata": {},
     "output_type": "execute_result"
    }
   ],
   "source": [
    "f_oneway(group4_below['perenial Count'].dropna(), group4_above['perenial Count'].dropna())"
   ]
  },
  {
   "cell_type": "code",
   "execution_count": 176,
   "id": "98e347a4-3873-4330-abb4-5a6fa42aa497",
   "metadata": {},
   "outputs": [
    {
     "data": {
      "text/plain": [
       "5       1.0\n",
       "10      1.5\n",
       "13      2.0\n",
       "16      0.5\n",
       "20      1.0\n",
       "       ... \n",
       "3892    1.0\n",
       "3893    1.5\n",
       "3894    7.0\n",
       "3895    3.0\n",
       "3896    2.0\n",
       "Name: Land_size_for_Crop_Agriculture_Acres, Length: 2540, dtype: float64"
      ]
     },
     "execution_count": 176,
     "metadata": {},
     "output_type": "execute_result"
    }
   ],
   "source": [
    "below['Land_size_for_Crop_Agriculture_Acres']"
   ]
  },
  {
   "cell_type": "code",
   "execution_count": null,
   "id": "7508bc1d-b9df-4ba8-837b-fbeadb21118b",
   "metadata": {},
   "outputs": [],
   "source": []
  },
  {
   "cell_type": "markdown",
   "id": "6b7dd844-60f9-4c55-bd08-2c0eff3b3eed",
   "metadata": {},
   "source": [
    "Which of the following perennial crops does your household own?\n",
    "Select all that apply\n",
    "\n",
    "1\tFood Banana\n",
    "2\tRipe Banana\n",
    "3\tAlcohol Banana\n",
    "4\tCoffee\n",
    "5\tVanilla\n",
    "6\tTea\n",
    "7\tSugar cane\n",
    "8\tJackfruit\n",
    "9\tMangoes\n",
    "10\tOranges\n",
    "11\tPassion Fruits\n",
    "12\tTomato Fruits\n",
    "13\tApple\n",
    "14\tGuava\n",
    "15\tAvocado\n",
    "16\tEucalyptus\n",
    "17\tPine\n",
    "18\tMahogany\n",
    "19\tCyprus\n",
    "20\tOak\n",
    "21\tMusizi\n",
    "22\tAcacia\n",
    "23\tHog Thorn\n",
    "24\tNeem\n",
    "25\tCaliandra\n",
    "26\tGraveria\n",
    "27\tBamboo\n",
    "28\tCocoa\n",
    "97\tOther,specify"
   ]
  },
  {
   "cell_type": "code",
   "execution_count": 162,
   "id": "18136f74-ddb2-4147-b891-6ae2289a6285",
   "metadata": {},
   "outputs": [
    {
     "data": {
      "text/plain": [
       "0.6353353083759763"
      ]
     },
     "execution_count": 162,
     "metadata": {},
     "output_type": "execute_result"
    }
   ],
   "source": [
    "df['perennial_crops_grown_4'].mean()"
   ]
  },
  {
   "cell_type": "markdown",
   "id": "db1ab563-24c8-4c98-8ee9-2fbf05e1d8ba",
   "metadata": {},
   "source": [
    "coffee COUNTS"
   ]
  },
  {
   "cell_type": "code",
   "execution_count": 164,
   "id": "c4cee6c0-5759-4d5d-a770-a262028befec",
   "metadata": {},
   "outputs": [
    {
     "data": {
      "text/plain": [
       "above2\n",
       "above 2.15    0.662359\n",
       "below 2.15    0.581245\n",
       "Name: perennial_crops_grown_4, dtype: float64"
      ]
     },
     "execution_count": 164,
     "metadata": {},
     "output_type": "execute_result"
    }
   ],
   "source": [
    "df.groupby('above2')['perennial_crops_grown_4'].mean()"
   ]
  },
  {
   "cell_type": "code",
   "execution_count": 165,
   "id": "2b077843-00ef-4afb-b1ef-66982e04bff5",
   "metadata": {},
   "outputs": [
    {
     "data": {
      "text/plain": [
       "above2      Household_Head_Gender\n",
       "above 2.15  Female Headed            0.597260\n",
       "            Male Headed              0.698113\n",
       "            Youth Headed             0.641221\n",
       "below 2.15  Female Headed            0.539519\n",
       "            Male Headed              0.585132\n",
       "            Youth Headed             0.660714\n",
       "Name: perennial_crops_grown_4, dtype: float64"
      ]
     },
     "execution_count": 165,
     "metadata": {},
     "output_type": "execute_result"
    }
   ],
   "source": [
    "df.groupby(['above2','Household_Head_Gender'])['perennial_crops_grown_4'].mean()"
   ]
  },
  {
   "cell_type": "code",
   "execution_count": null,
   "id": "a91c2bbb-c81c-454a-8e7d-dae39a1a1d94",
   "metadata": {},
   "outputs": [],
   "source": []
  },
  {
   "cell_type": "markdown",
   "id": "962a8ad2-1031-4249-8512-46f9ed86f5f8",
   "metadata": {},
   "source": [
    "Banana COUNTS"
   ]
  },
  {
   "cell_type": "code",
   "execution_count": 163,
   "id": "db933a27-21e5-491f-80fa-0fc879148a84",
   "metadata": {},
   "outputs": [
    {
     "data": {
      "text/plain": [
       "0.8957716132507406"
      ]
     },
     "execution_count": 163,
     "metadata": {},
     "output_type": "execute_result"
    }
   ],
   "source": [
    "df['perennial_crops_grown_1'].mean()"
   ]
  },
  {
   "cell_type": "code",
   "execution_count": 166,
   "id": "5ebf3fea-a6e9-421a-b1ce-d3bd57bc79d1",
   "metadata": {},
   "outputs": [
    {
     "data": {
      "text/plain": [
       "above2\n",
       "above 2.15    0.913974\n",
       "below 2.15    0.859337\n",
       "Name: perennial_crops_grown_1, dtype: float64"
      ]
     },
     "execution_count": 166,
     "metadata": {},
     "output_type": "execute_result"
    }
   ],
   "source": [
    "df.groupby('above2')['perennial_crops_grown_1'].mean()"
   ]
  },
  {
   "cell_type": "code",
   "execution_count": 168,
   "id": "0545b820-5b66-450d-9360-88c5445f205b",
   "metadata": {},
   "outputs": [
    {
     "data": {
      "text/plain": [
       "above2      Quartile\n",
       "above 2.15  Group 1     0.971831\n",
       "            Group 2     0.900662\n",
       "            Group 3     0.894574\n",
       "            Group 4     0.912383\n",
       "below 2.15  Group 1     0.973404\n",
       "            Group 2     0.854701\n",
       "            Group 3     0.856089\n",
       "            Group 4     0.811005\n",
       "Name: perennial_crops_grown_1, dtype: float64"
      ]
     },
     "execution_count": 168,
     "metadata": {},
     "output_type": "execute_result"
    }
   ],
   "source": [
    "df.groupby(['above2','Quartile'])['perennial_crops_grown_1'].mean()"
   ]
  },
  {
   "cell_type": "code",
   "execution_count": 169,
   "id": "18fc495c-4da6-41a6-b1a8-b4cca88b6cda",
   "metadata": {},
   "outputs": [
    {
     "data": {
      "text/plain": [
       "above2      Quartile\n",
       "above 2.15  Group 1     0.797183\n",
       "            Group 2     0.508278\n",
       "            Group 3     0.586047\n",
       "            Group 4     0.769860\n",
       "below 2.15  Group 1     0.675532\n",
       "            Group 2     0.484330\n",
       "            Group 3     0.450185\n",
       "            Group 4     0.703349\n",
       "Name: perennial_crops_grown_4, dtype: float64"
      ]
     },
     "execution_count": 169,
     "metadata": {},
     "output_type": "execute_result"
    }
   ],
   "source": [
    "df.groupby(['above2','Quartile'])['perennial_crops_grown_4'].mean()"
   ]
  },
  {
   "cell_type": "code",
   "execution_count": 167,
   "id": "6becd690-88fb-4352-af0a-946551273d49",
   "metadata": {},
   "outputs": [
    {
     "data": {
      "text/plain": [
       "above2      Household_Head_Gender\n",
       "above 2.15  Female Headed            0.902740\n",
       "            Male Headed              0.918464\n",
       "            Youth Headed             0.919847\n",
       "below 2.15  Female Headed            0.848797\n",
       "            Male Headed              0.863309\n",
       "            Youth Headed             0.857143\n",
       "Name: perennial_crops_grown_1, dtype: float64"
      ]
     },
     "execution_count": 167,
     "metadata": {},
     "output_type": "execute_result"
    }
   ],
   "source": [
    "df.groupby(['above2','Household_Head_Gender'])['perennial_crops_grown_1'].mean()"
   ]
  },
  {
   "cell_type": "code",
   "execution_count": null,
   "id": "41bd15b1-3176-4d82-90c6-a9f159b2ba22",
   "metadata": {},
   "outputs": [],
   "source": []
  },
  {
   "cell_type": "code",
   "execution_count": null,
   "id": "f61b5849-cf56-4fae-bacc-305385ca8d06",
   "metadata": {},
   "outputs": [],
   "source": []
  },
  {
   "cell_type": "code",
   "execution_count": 161,
   "id": "577bc8c6-474d-4ddd-89d9-20ab8eb970c1",
   "metadata": {},
   "outputs": [
    {
     "data": {
      "text/plain": [
       "above2\n",
       "above 2.15    1.661611\n",
       "below 2.15    1.437143\n",
       "Name: Land_size_for_Crop_Agriculture_Acres, dtype: float64"
      ]
     },
     "execution_count": 161,
     "metadata": {},
     "output_type": "execute_result"
    }
   ],
   "source": [
    "df.groupby('above2')['Land_size_for_Crop_Agriculture_Acres'].mean()"
   ]
  },
  {
   "cell_type": "code",
   "execution_count": 163,
   "id": "3689cec4-cbe8-42b7-84e5-1595f47250f1",
   "metadata": {},
   "outputs": [
    {
     "data": {
      "text/plain": [
       "above2      Household_Head_Gender\n",
       "above 2.15  Female Headed            1.474289\n",
       "            Male Headed              1.855809\n",
       "            Youth Headed             1.075954\n",
       "below 2.15  Female Headed            1.288916\n",
       "            Male Headed              1.556173\n",
       "            Youth Headed             0.980682\n",
       "Name: Land_size_for_Crop_Agriculture_Acres, dtype: float64"
      ]
     },
     "execution_count": 163,
     "metadata": {},
     "output_type": "execute_result"
    }
   ],
   "source": [
    "df.groupby(['above2','Household_Head_Gender'])['Land_size_for_Crop_Agriculture_Acres'].mean()"
   ]
  },
  {
   "cell_type": "code",
   "execution_count": 164,
   "id": "8060f568-3a9b-4cc4-ba69-da515e88142b",
   "metadata": {},
   "outputs": [],
   "source": [
    "below = df[df['above2'] == 'above 2.15']\n",
    "above = df[df['above2'] == 'below 2.15']"
   ]
  },
  {
   "cell_type": "code",
   "execution_count": 166,
   "id": "d1dd392c-1cff-4bff-9000-9e9bba3254aa",
   "metadata": {},
   "outputs": [
    {
     "data": {
      "text/plain": [
       "0       0.25\n",
       "1       1.00\n",
       "2        NaN\n",
       "3       1.00\n",
       "4       1.00\n",
       "        ... \n",
       "3892    1.00\n",
       "3893    1.50\n",
       "3894    7.00\n",
       "3895    3.00\n",
       "3896    2.00\n",
       "Name: Land_size_for_Crop_Agriculture_Acres, Length: 3897, dtype: float64"
      ]
     },
     "execution_count": 166,
     "metadata": {},
     "output_type": "execute_result"
    }
   ],
   "source": [
    "df['Land_size_for_Crop_Agriculture_Acres']"
   ]
  },
  {
   "cell_type": "code",
   "execution_count": 177,
   "id": "6363e3b8-dbfb-45ff-ad1c-2f201a1fc31a",
   "metadata": {},
   "outputs": [
    {
     "data": {
      "text/plain": [
       "F_onewayResult(statistic=11.869979941821425, pvalue=0.0005765862942619117)"
      ]
     },
     "execution_count": 177,
     "metadata": {},
     "output_type": "execute_result"
    }
   ],
   "source": [
    "f_oneway(above['Land_size_for_Crop_Agriculture_Acres'].dropna(), below['Land_size_for_Crop_Agriculture_Acres'].dropna())"
   ]
  },
  {
   "cell_type": "code",
   "execution_count": 112,
   "id": "e64eb60b-3963-45e3-af22-713f898b4e17",
   "metadata": {},
   "outputs": [
    {
     "data": {
      "text/plain": [
       "F_onewayResult(statistic=-8.889081273280369e-31, pvalue=nan)"
      ]
     },
     "execution_count": 112,
     "metadata": {},
     "output_type": "execute_result"
    }
   ],
   "source": [
    "f_oneway(group3['Land_size_for_Crop_Agriculture_Acres'].dropna(), group3['Land_size_for_Crop_Agriculture_Acres'].dropna())"
   ]
  },
  {
   "cell_type": "code",
   "execution_count": 113,
   "id": "59cbf2ad-b30e-46e9-99ad-a0eb895bf09c",
   "metadata": {},
   "outputs": [
    {
     "data": {
      "text/plain": [
       "F_onewayResult(statistic=1.1622584286195135e-30, pvalue=1.0)"
      ]
     },
     "execution_count": 113,
     "metadata": {},
     "output_type": "execute_result"
    }
   ],
   "source": [
    "f_oneway(group4['Land_size_for_Crop_Agriculture_Acres'].dropna(), group4['Land_size_for_Crop_Agriculture_Acres'].dropna())"
   ]
  },
  {
   "cell_type": "code",
   "execution_count": 176,
   "id": "9fa1578f-976f-4c7c-b7b0-2aa1630474d6",
   "metadata": {},
   "outputs": [
    {
     "data": {
      "text/plain": [
       "5       1.0\n",
       "10      1.5\n",
       "13      2.0\n",
       "16      0.5\n",
       "20      1.0\n",
       "       ... \n",
       "3892    1.0\n",
       "3893    1.5\n",
       "3894    7.0\n",
       "3895    3.0\n",
       "3896    2.0\n",
       "Name: Land_size_for_Crop_Agriculture_Acres, Length: 2540, dtype: float64"
      ]
     },
     "execution_count": 176,
     "metadata": {},
     "output_type": "execute_result"
    }
   ],
   "source": [
    "below['Land_size_for_Crop_Agriculture_Acres']"
   ]
  },
  {
   "cell_type": "code",
   "execution_count": 362,
   "id": "a3f7049d-f040-478d-a4f2-4d19c95d824d",
   "metadata": {},
   "outputs": [],
   "source": [
    "df.to_excel(\"Year2_transformed.xlsx\", index=False)"
   ]
  },
  {
   "cell_type": "code",
   "execution_count": 114,
   "id": "67cb405a-ffa5-446b-b8d0-8e9b23279040",
   "metadata": {},
   "outputs": [],
   "source": [
    "group3.to_excel(\"group3_transformed.xlsx\", index=False)\n",
    "group4.to_excel(\"group4_transformed.xlsx\", index=False)"
   ]
  },
  {
   "cell_type": "markdown",
   "id": "202e2d56-c02a-4a2b-8df6-24d0008b3ae6",
   "metadata": {
    "jp-MarkdownHeadingCollapsed": true
   },
   "source": [
    "## Year one"
   ]
  },
  {
   "cell_type": "code",
   "execution_count": null,
   "id": "52518e19-9fec-4708-a6ca-0ced4aca611e",
   "metadata": {},
   "outputs": [],
   "source": []
  },
  {
   "cell_type": "code",
   "execution_count": null,
   "id": "bf59a03b-7918-4494-92ac-a4af56a9ef51",
   "metadata": {},
   "outputs": [],
   "source": []
  },
  {
   "cell_type": "code",
   "execution_count": 29,
   "id": "6c1d4522-64b7-47aa-8a39-730cca0b82a3",
   "metadata": {},
   "outputs": [],
   "source": [
    "df_y1 = pd.read_excel('ALL2021cohorts.xlsx', sheet_name='All2021CohortYr1',header=5)"
   ]
  },
  {
   "cell_type": "code",
   "execution_count": 30,
   "id": "b5fb8241-300f-4b8c-a5c7-7c2b87ffebcc",
   "metadata": {},
   "outputs": [
    {
     "data": {
      "text/html": [
       "<div>\n",
       "<style scoped>\n",
       "    .dataframe tbody tr th:only-of-type {\n",
       "        vertical-align: middle;\n",
       "    }\n",
       "\n",
       "    .dataframe tbody tr th {\n",
       "        vertical-align: top;\n",
       "    }\n",
       "\n",
       "    .dataframe thead th {\n",
       "        text-align: right;\n",
       "    }\n",
       "</style>\n",
       "<table border=\"1\" class=\"dataframe\">\n",
       "  <thead>\n",
       "    <tr style=\"text-align: right;\">\n",
       "      <th></th>\n",
       "      <th>SubmissionDate</th>\n",
       "      <th>starttime</th>\n",
       "      <th>endtime</th>\n",
       "      <th>version</th>\n",
       "      <th>duration</th>\n",
       "      <th>survey_start</th>\n",
       "      <th>intro_start</th>\n",
       "      <th>district</th>\n",
       "      <th>Surveyor_Name</th>\n",
       "      <th>Surveyor_Name2</th>\n",
       "      <th>...</th>\n",
       "      <th>WASH (%)</th>\n",
       "      <th>AGRIC (%)</th>\n",
       "      <th>Status</th>\n",
       "      <th>Unnamed: 4650</th>\n",
       "      <th>hh_size.1</th>\n",
       "      <th>hh_size_adjusted.1</th>\n",
       "      <th>HH Income/Day (USD_adult_equiv_adj)</th>\n",
       "      <th>Consumption/Day (USD_adult_equiv_adj)</th>\n",
       "      <th>HH Income + Consumption + Residues/Day (USD_adult_equiv_adj)</th>\n",
       "      <th>HH Income + Consumption + Assets + Residues / Day (USD_adult_equiv_adj)</th>\n",
       "    </tr>\n",
       "  </thead>\n",
       "  <tbody>\n",
       "    <tr>\n",
       "      <th>0</th>\n",
       "      <td>Aug 18, 2022 10:47:35 PM</td>\n",
       "      <td>Aug 18, 2022 2:40:30 PM</td>\n",
       "      <td>Aug 18, 2022 9:57:10 PM</td>\n",
       "      <td>2.208122e+09</td>\n",
       "      <td>4054.0</td>\n",
       "      <td>3.0</td>\n",
       "      <td>3.0</td>\n",
       "      <td>2.0</td>\n",
       "      <td>27.0</td>\n",
       "      <td>Godwin Rukundo</td>\n",
       "      <td>...</td>\n",
       "      <td>0.535714</td>\n",
       "      <td>0.333333</td>\n",
       "      <td>RTV</td>\n",
       "      <td>NaN</td>\n",
       "      <td>7.0</td>\n",
       "      <td>2.645751</td>\n",
       "      <td>0.286840</td>\n",
       "      <td>0.441187</td>\n",
       "      <td>0.728027</td>\n",
       "      <td>0.728027</td>\n",
       "    </tr>\n",
       "    <tr>\n",
       "      <th>1</th>\n",
       "      <td>Aug 20, 2022 7:05:30 PM</td>\n",
       "      <td>Aug 20, 2022 8:58:31 AM</td>\n",
       "      <td>Aug 20, 2022 6:22:37 PM</td>\n",
       "      <td>2.208122e+09</td>\n",
       "      <td>2852.0</td>\n",
       "      <td>2.0</td>\n",
       "      <td>2.0</td>\n",
       "      <td>2.0</td>\n",
       "      <td>32.0</td>\n",
       "      <td>Jallah Kembabazi</td>\n",
       "      <td>...</td>\n",
       "      <td>0.857143</td>\n",
       "      <td>0.638889</td>\n",
       "      <td>RTV</td>\n",
       "      <td>NaN</td>\n",
       "      <td>2.0</td>\n",
       "      <td>1.414214</td>\n",
       "      <td>1.106988</td>\n",
       "      <td>0.336032</td>\n",
       "      <td>1.443020</td>\n",
       "      <td>1.443020</td>\n",
       "    </tr>\n",
       "    <tr>\n",
       "      <th>2</th>\n",
       "      <td>Aug 22, 2022 7:49:27 PM</td>\n",
       "      <td>Aug 22, 2022 10:55:03 AM</td>\n",
       "      <td>Aug 22, 2022 5:30:42 PM</td>\n",
       "      <td>2.208122e+09</td>\n",
       "      <td>1468.0</td>\n",
       "      <td>3.0</td>\n",
       "      <td>3.0</td>\n",
       "      <td>2.0</td>\n",
       "      <td>14.0</td>\n",
       "      <td>Agatha Babirye</td>\n",
       "      <td>...</td>\n",
       "      <td>0.500000</td>\n",
       "      <td>0.305556</td>\n",
       "      <td>RTV</td>\n",
       "      <td>NaN</td>\n",
       "      <td>3.0</td>\n",
       "      <td>1.732051</td>\n",
       "      <td>0.224294</td>\n",
       "      <td>0.970201</td>\n",
       "      <td>1.194495</td>\n",
       "      <td>1.194495</td>\n",
       "    </tr>\n",
       "    <tr>\n",
       "      <th>3</th>\n",
       "      <td>Aug 19, 2022 7:26:56 PM</td>\n",
       "      <td>Aug 19, 2022 10:40:08 AM</td>\n",
       "      <td>Aug 19, 2022 3:13:17 PM</td>\n",
       "      <td>2.208122e+09</td>\n",
       "      <td>2821.0</td>\n",
       "      <td>20.0</td>\n",
       "      <td>20.0</td>\n",
       "      <td>2.0</td>\n",
       "      <td>22.0</td>\n",
       "      <td>Dickens Ainebyona</td>\n",
       "      <td>...</td>\n",
       "      <td>0.464286</td>\n",
       "      <td>0.555556</td>\n",
       "      <td>RTV</td>\n",
       "      <td>NaN</td>\n",
       "      <td>3.0</td>\n",
       "      <td>1.732051</td>\n",
       "      <td>0.787011</td>\n",
       "      <td>0.274369</td>\n",
       "      <td>1.061379</td>\n",
       "      <td>1.207431</td>\n",
       "    </tr>\n",
       "    <tr>\n",
       "      <th>4</th>\n",
       "      <td>Aug 22, 2022 5:39:13 PM</td>\n",
       "      <td>Aug 22, 2022 2:53:16 PM</td>\n",
       "      <td>Aug 22, 2022 4:16:27 PM</td>\n",
       "      <td>2.208122e+09</td>\n",
       "      <td>3735.0</td>\n",
       "      <td>27.0</td>\n",
       "      <td>27.0</td>\n",
       "      <td>2.0</td>\n",
       "      <td>27.0</td>\n",
       "      <td>Godwin Rukundo</td>\n",
       "      <td>...</td>\n",
       "      <td>0.607143</td>\n",
       "      <td>0.500000</td>\n",
       "      <td>RTV</td>\n",
       "      <td>NaN</td>\n",
       "      <td>5.0</td>\n",
       "      <td>2.236068</td>\n",
       "      <td>0.175063</td>\n",
       "      <td>0.095192</td>\n",
       "      <td>0.270254</td>\n",
       "      <td>0.965204</td>\n",
       "    </tr>\n",
       "    <tr>\n",
       "      <th>...</th>\n",
       "      <td>...</td>\n",
       "      <td>...</td>\n",
       "      <td>...</td>\n",
       "      <td>...</td>\n",
       "      <td>...</td>\n",
       "      <td>...</td>\n",
       "      <td>...</td>\n",
       "      <td>...</td>\n",
       "      <td>...</td>\n",
       "      <td>...</td>\n",
       "      <td>...</td>\n",
       "      <td>...</td>\n",
       "      <td>...</td>\n",
       "      <td>...</td>\n",
       "      <td>...</td>\n",
       "      <td>...</td>\n",
       "      <td>...</td>\n",
       "      <td>...</td>\n",
       "      <td>...</td>\n",
       "      <td>...</td>\n",
       "      <td>...</td>\n",
       "    </tr>\n",
       "    <tr>\n",
       "      <th>3913</th>\n",
       "      <td>Aug 5, 2022 6:10:02 PM</td>\n",
       "      <td>Aug 5, 2022 12:05:07 PM</td>\n",
       "      <td>Aug 5, 2022 1:19:00 PM</td>\n",
       "      <td>2.208042e+09</td>\n",
       "      <td>4375.0</td>\n",
       "      <td>24.0</td>\n",
       "      <td>24.0</td>\n",
       "      <td>7.0</td>\n",
       "      <td>116.0</td>\n",
       "      <td>Akatukunda Nosi</td>\n",
       "      <td>...</td>\n",
       "      <td>0.500000</td>\n",
       "      <td>0.500000</td>\n",
       "      <td>RTV</td>\n",
       "      <td>NaN</td>\n",
       "      <td>5.0</td>\n",
       "      <td>2.236068</td>\n",
       "      <td>6.145451</td>\n",
       "      <td>0.268283</td>\n",
       "      <td>6.413734</td>\n",
       "      <td>6.893734</td>\n",
       "    </tr>\n",
       "    <tr>\n",
       "      <th>3914</th>\n",
       "      <td>Aug 12, 2022 8:45:26 AM</td>\n",
       "      <td>Aug 11, 2022 12:00:08 PM</td>\n",
       "      <td>Aug 11, 2022 10:09:35 PM</td>\n",
       "      <td>2.208100e+09</td>\n",
       "      <td>6878.0</td>\n",
       "      <td>2.0</td>\n",
       "      <td>2.0</td>\n",
       "      <td>7.0</td>\n",
       "      <td>117.0</td>\n",
       "      <td>Manzi Patrick</td>\n",
       "      <td>...</td>\n",
       "      <td>0.428571</td>\n",
       "      <td>0.833333</td>\n",
       "      <td>RTV</td>\n",
       "      <td>NaN</td>\n",
       "      <td>2.0</td>\n",
       "      <td>1.414214</td>\n",
       "      <td>3.094559</td>\n",
       "      <td>0.587736</td>\n",
       "      <td>3.682295</td>\n",
       "      <td>11.028997</td>\n",
       "    </tr>\n",
       "    <tr>\n",
       "      <th>3915</th>\n",
       "      <td>Aug 6, 2022 8:52:26 PM</td>\n",
       "      <td>Aug 6, 2022 12:02:31 PM</td>\n",
       "      <td>Aug 6, 2022 8:28:39 PM</td>\n",
       "      <td>2.208052e+09</td>\n",
       "      <td>4968.0</td>\n",
       "      <td>3.0</td>\n",
       "      <td>3.0</td>\n",
       "      <td>7.0</td>\n",
       "      <td>127.0</td>\n",
       "      <td>Akandwanaho Charles</td>\n",
       "      <td>...</td>\n",
       "      <td>0.785714</td>\n",
       "      <td>0.472222</td>\n",
       "      <td>RTV</td>\n",
       "      <td>NaN</td>\n",
       "      <td>9.0</td>\n",
       "      <td>3.000000</td>\n",
       "      <td>2.106571</td>\n",
       "      <td>0.808598</td>\n",
       "      <td>2.915169</td>\n",
       "      <td>5.225018</td>\n",
       "    </tr>\n",
       "    <tr>\n",
       "      <th>3916</th>\n",
       "      <td>Aug 6, 2022 8:52:29 PM</td>\n",
       "      <td>Aug 6, 2022 1:24:45 PM</td>\n",
       "      <td>Aug 6, 2022 8:51:27 PM</td>\n",
       "      <td>2.208052e+09</td>\n",
       "      <td>4548.0</td>\n",
       "      <td>3.0</td>\n",
       "      <td>3.0</td>\n",
       "      <td>7.0</td>\n",
       "      <td>127.0</td>\n",
       "      <td>Akandwanaho Charles</td>\n",
       "      <td>...</td>\n",
       "      <td>0.785714</td>\n",
       "      <td>0.472222</td>\n",
       "      <td>RTV</td>\n",
       "      <td>NaN</td>\n",
       "      <td>8.0</td>\n",
       "      <td>2.828427</td>\n",
       "      <td>2.107545</td>\n",
       "      <td>1.116379</td>\n",
       "      <td>3.223924</td>\n",
       "      <td>5.549315</td>\n",
       "    </tr>\n",
       "    <tr>\n",
       "      <th>3917</th>\n",
       "      <td>Aug 4, 2022 6:58:05 PM</td>\n",
       "      <td>Aug 4, 2022 2:54:25 PM</td>\n",
       "      <td>Aug 4, 2022 4:17:44 PM</td>\n",
       "      <td>2.208012e+09</td>\n",
       "      <td>4942.0</td>\n",
       "      <td>6.0</td>\n",
       "      <td>6.0</td>\n",
       "      <td>7.0</td>\n",
       "      <td>105.0</td>\n",
       "      <td>Mugabe Dickson</td>\n",
       "      <td>...</td>\n",
       "      <td>0.392857</td>\n",
       "      <td>0.416667</td>\n",
       "      <td>RTV</td>\n",
       "      <td>NaN</td>\n",
       "      <td>7.0</td>\n",
       "      <td>2.645751</td>\n",
       "      <td>3.181535</td>\n",
       "      <td>0.182690</td>\n",
       "      <td>3.364224</td>\n",
       "      <td>6.027739</td>\n",
       "    </tr>\n",
       "  </tbody>\n",
       "</table>\n",
       "<p>3918 rows × 4657 columns</p>\n",
       "</div>"
      ],
      "text/plain": [
       "                SubmissionDate                 starttime  \\\n",
       "0     Aug 18, 2022 10:47:35 PM   Aug 18, 2022 2:40:30 PM   \n",
       "1      Aug 20, 2022 7:05:30 PM   Aug 20, 2022 8:58:31 AM   \n",
       "2      Aug 22, 2022 7:49:27 PM  Aug 22, 2022 10:55:03 AM   \n",
       "3      Aug 19, 2022 7:26:56 PM  Aug 19, 2022 10:40:08 AM   \n",
       "4      Aug 22, 2022 5:39:13 PM   Aug 22, 2022 2:53:16 PM   \n",
       "...                        ...                       ...   \n",
       "3913    Aug 5, 2022 6:10:02 PM   Aug 5, 2022 12:05:07 PM   \n",
       "3914   Aug 12, 2022 8:45:26 AM  Aug 11, 2022 12:00:08 PM   \n",
       "3915    Aug 6, 2022 8:52:26 PM   Aug 6, 2022 12:02:31 PM   \n",
       "3916    Aug 6, 2022 8:52:29 PM    Aug 6, 2022 1:24:45 PM   \n",
       "3917    Aug 4, 2022 6:58:05 PM    Aug 4, 2022 2:54:25 PM   \n",
       "\n",
       "                       endtime       version  duration  survey_start  \\\n",
       "0      Aug 18, 2022 9:57:10 PM  2.208122e+09    4054.0           3.0   \n",
       "1      Aug 20, 2022 6:22:37 PM  2.208122e+09    2852.0           2.0   \n",
       "2      Aug 22, 2022 5:30:42 PM  2.208122e+09    1468.0           3.0   \n",
       "3      Aug 19, 2022 3:13:17 PM  2.208122e+09    2821.0          20.0   \n",
       "4      Aug 22, 2022 4:16:27 PM  2.208122e+09    3735.0          27.0   \n",
       "...                        ...           ...       ...           ...   \n",
       "3913    Aug 5, 2022 1:19:00 PM  2.208042e+09    4375.0          24.0   \n",
       "3914  Aug 11, 2022 10:09:35 PM  2.208100e+09    6878.0           2.0   \n",
       "3915    Aug 6, 2022 8:28:39 PM  2.208052e+09    4968.0           3.0   \n",
       "3916    Aug 6, 2022 8:51:27 PM  2.208052e+09    4548.0           3.0   \n",
       "3917    Aug 4, 2022 4:17:44 PM  2.208012e+09    4942.0           6.0   \n",
       "\n",
       "      intro_start  district  Surveyor_Name       Surveyor_Name2  ...  \\\n",
       "0             3.0       2.0           27.0       Godwin Rukundo  ...   \n",
       "1             2.0       2.0           32.0     Jallah Kembabazi  ...   \n",
       "2             3.0       2.0           14.0       Agatha Babirye  ...   \n",
       "3            20.0       2.0           22.0    Dickens Ainebyona  ...   \n",
       "4            27.0       2.0           27.0       Godwin Rukundo  ...   \n",
       "...           ...       ...            ...                  ...  ...   \n",
       "3913         24.0       7.0          116.0      Akatukunda Nosi  ...   \n",
       "3914          2.0       7.0          117.0        Manzi Patrick  ...   \n",
       "3915          3.0       7.0          127.0  Akandwanaho Charles  ...   \n",
       "3916          3.0       7.0          127.0  Akandwanaho Charles  ...   \n",
       "3917          6.0       7.0          105.0       Mugabe Dickson  ...   \n",
       "\n",
       "      WASH (%) AGRIC (%) Status Unnamed: 4650 hh_size.1 hh_size_adjusted.1  \\\n",
       "0     0.535714  0.333333    RTV           NaN       7.0           2.645751   \n",
       "1     0.857143  0.638889    RTV           NaN       2.0           1.414214   \n",
       "2     0.500000  0.305556    RTV           NaN       3.0           1.732051   \n",
       "3     0.464286  0.555556    RTV           NaN       3.0           1.732051   \n",
       "4     0.607143  0.500000    RTV           NaN       5.0           2.236068   \n",
       "...        ...       ...    ...           ...       ...                ...   \n",
       "3913  0.500000  0.500000    RTV           NaN       5.0           2.236068   \n",
       "3914  0.428571  0.833333    RTV           NaN       2.0           1.414214   \n",
       "3915  0.785714  0.472222    RTV           NaN       9.0           3.000000   \n",
       "3916  0.785714  0.472222    RTV           NaN       8.0           2.828427   \n",
       "3917  0.392857  0.416667    RTV           NaN       7.0           2.645751   \n",
       "\n",
       "     HH Income/Day (USD_adult_equiv_adj)  \\\n",
       "0                               0.286840   \n",
       "1                               1.106988   \n",
       "2                               0.224294   \n",
       "3                               0.787011   \n",
       "4                               0.175063   \n",
       "...                                  ...   \n",
       "3913                            6.145451   \n",
       "3914                            3.094559   \n",
       "3915                            2.106571   \n",
       "3916                            2.107545   \n",
       "3917                            3.181535   \n",
       "\n",
       "     Consumption/Day (USD_adult_equiv_adj)  \\\n",
       "0                                 0.441187   \n",
       "1                                 0.336032   \n",
       "2                                 0.970201   \n",
       "3                                 0.274369   \n",
       "4                                 0.095192   \n",
       "...                                    ...   \n",
       "3913                              0.268283   \n",
       "3914                              0.587736   \n",
       "3915                              0.808598   \n",
       "3916                              1.116379   \n",
       "3917                              0.182690   \n",
       "\n",
       "     HH Income + Consumption + Residues/Day (USD_adult_equiv_adj)  \\\n",
       "0                                              0.728027             \n",
       "1                                              1.443020             \n",
       "2                                              1.194495             \n",
       "3                                              1.061379             \n",
       "4                                              0.270254             \n",
       "...                                                 ...             \n",
       "3913                                           6.413734             \n",
       "3914                                           3.682295             \n",
       "3915                                           2.915169             \n",
       "3916                                           3.223924             \n",
       "3917                                           3.364224             \n",
       "\n",
       "      HH Income + Consumption + Assets + Residues / Day (USD_adult_equiv_adj)  \n",
       "0                                              0.728027                        \n",
       "1                                              1.443020                        \n",
       "2                                              1.194495                        \n",
       "3                                              1.207431                        \n",
       "4                                              0.965204                        \n",
       "...                                                 ...                        \n",
       "3913                                           6.893734                        \n",
       "3914                                          11.028997                        \n",
       "3915                                           5.225018                        \n",
       "3916                                           5.549315                        \n",
       "3917                                           6.027739                        \n",
       "\n",
       "[3918 rows x 4657 columns]"
      ]
     },
     "execution_count": 30,
     "metadata": {},
     "output_type": "execute_result"
    }
   ],
   "source": [
    "df_y1.iloc[:3918,:]"
   ]
  },
  {
   "cell_type": "code",
   "execution_count": 31,
   "id": "67662875-7381-43e4-a204-60b3dc2252e6",
   "metadata": {},
   "outputs": [
    {
     "data": {
      "text/plain": [
       "Gender\n",
       "Male      2719\n",
       "Female    1199\n",
       "Name: count, dtype: int64"
      ]
     },
     "execution_count": 31,
     "metadata": {},
     "output_type": "execute_result"
    }
   ],
   "source": [
    "df_y1['Gender'] = df_y1['hhh_sex'].replace(sex_mapping)\n",
    "df_y1['Gender'].value_counts()"
   ]
  },
  {
   "cell_type": "code",
   "execution_count": 32,
   "id": "70c9d599-5742-4f25-8004-19adc79890a2",
   "metadata": {},
   "outputs": [],
   "source": [
    "df_y1['Household_Head_Gender'] = df_y1['Gender']"
   ]
  },
  {
   "cell_type": "code",
   "execution_count": 33,
   "id": "4c6c97ce-1ef4-46bc-af19-4d803da5ef96",
   "metadata": {},
   "outputs": [],
   "source": [
    "df_y1['Household_Head_Gender'] = df_y1.apply(lambda row: 'Youth Headed' if row['hhh_age'] < 30 else str(row['Household_Head_Gender']) + ' Headed', axis=1)"
   ]
  },
  {
   "cell_type": "code",
   "execution_count": 34,
   "id": "5bcaa95e-6e21-4ac9-b111-8e3dcb7b4560",
   "metadata": {},
   "outputs": [
    {
     "data": {
      "text/plain": [
       "Household_Head_Gender\n",
       "Male Headed      2367\n",
       "Female Headed    1153\n",
       "Youth Headed      398\n",
       "nan Headed          2\n",
       "Name: count, dtype: int64"
      ]
     },
     "execution_count": 34,
     "metadata": {},
     "output_type": "execute_result"
    }
   ],
   "source": [
    "df_y1['Household_Head_Gender'].value_counts()"
   ]
  },
  {
   "cell_type": "code",
   "execution_count": 35,
   "id": "c5357ff9-6786-4caf-acbd-ebdbef35ca48",
   "metadata": {},
   "outputs": [
    {
     "data": {
      "text/html": [
       "<div>\n",
       "<style scoped>\n",
       "    .dataframe tbody tr th:only-of-type {\n",
       "        vertical-align: middle;\n",
       "    }\n",
       "\n",
       "    .dataframe tbody tr th {\n",
       "        vertical-align: top;\n",
       "    }\n",
       "\n",
       "    .dataframe thead th {\n",
       "        text-align: right;\n",
       "    }\n",
       "</style>\n",
       "<table border=\"1\" class=\"dataframe\">\n",
       "  <thead>\n",
       "    <tr style=\"text-align: right;\">\n",
       "      <th></th>\n",
       "      <th>HH Income/Day (USD_adult_equiv_adj)</th>\n",
       "      <th>HH Income + Consumption + Residues/Day (USD_adult_equiv_adj)</th>\n",
       "    </tr>\n",
       "    <tr>\n",
       "      <th>Household_Head_Gender</th>\n",
       "      <th></th>\n",
       "      <th></th>\n",
       "    </tr>\n",
       "  </thead>\n",
       "  <tbody>\n",
       "    <tr>\n",
       "      <th>Female Headed</th>\n",
       "      <td>1.340591</td>\n",
       "      <td>2.281453</td>\n",
       "    </tr>\n",
       "    <tr>\n",
       "      <th>Male Headed</th>\n",
       "      <td>1.495538</td>\n",
       "      <td>2.403108</td>\n",
       "    </tr>\n",
       "    <tr>\n",
       "      <th>Youth Headed</th>\n",
       "      <td>1.721100</td>\n",
       "      <td>2.588078</td>\n",
       "    </tr>\n",
       "    <tr>\n",
       "      <th>nan Headed</th>\n",
       "      <td>NaN</td>\n",
       "      <td>NaN</td>\n",
       "    </tr>\n",
       "  </tbody>\n",
       "</table>\n",
       "</div>"
      ],
      "text/plain": [
       "                       HH Income/Day (USD_adult_equiv_adj)  \\\n",
       "Household_Head_Gender                                        \n",
       "Female Headed                                     1.340591   \n",
       "Male Headed                                       1.495538   \n",
       "Youth Headed                                      1.721100   \n",
       "nan Headed                                             NaN   \n",
       "\n",
       "                       HH Income + Consumption + Residues/Day (USD_adult_equiv_adj)  \n",
       "Household_Head_Gender                                                                \n",
       "Female Headed                                                   2.281453             \n",
       "Male Headed                                                     2.403108             \n",
       "Youth Headed                                                    2.588078             \n",
       "nan Headed                                                           NaN             "
      ]
     },
     "execution_count": 35,
     "metadata": {},
     "output_type": "execute_result"
    }
   ],
   "source": [
    "df_y1.groupby('Household_Head_Gender')[['HH Income/Day (USD_adult_equiv_adj)','HH Income + Consumption + Residues/Day (USD_adult_equiv_adj)']].mean()"
   ]
  },
  {
   "cell_type": "code",
   "execution_count": 36,
   "id": "b6ded22e-212d-4e41-8fd8-64479eae07ba",
   "metadata": {},
   "outputs": [
    {
     "data": {
      "text/html": [
       "<div>\n",
       "<style scoped>\n",
       "    .dataframe tbody tr th:only-of-type {\n",
       "        vertical-align: middle;\n",
       "    }\n",
       "\n",
       "    .dataframe tbody tr th {\n",
       "        vertical-align: top;\n",
       "    }\n",
       "\n",
       "    .dataframe thead th {\n",
       "        text-align: right;\n",
       "    }\n",
       "</style>\n",
       "<table border=\"1\" class=\"dataframe\">\n",
       "  <thead>\n",
       "    <tr style=\"text-align: right;\">\n",
       "      <th></th>\n",
       "      <th>HH Income/Day (USD_adult_equiv_adj)</th>\n",
       "      <th>HH Income + Consumption + Residues/Day (USD_adult_equiv_adj)</th>\n",
       "    </tr>\n",
       "    <tr>\n",
       "      <th>Household_Head_Gender</th>\n",
       "      <th></th>\n",
       "      <th></th>\n",
       "    </tr>\n",
       "  </thead>\n",
       "  <tbody>\n",
       "    <tr>\n",
       "      <th>Female Headed</th>\n",
       "      <td>0.980256</td>\n",
       "      <td>1.897269</td>\n",
       "    </tr>\n",
       "    <tr>\n",
       "      <th>Male Headed</th>\n",
       "      <td>1.153268</td>\n",
       "      <td>2.015757</td>\n",
       "    </tr>\n",
       "    <tr>\n",
       "      <th>Youth Headed</th>\n",
       "      <td>1.311826</td>\n",
       "      <td>2.199827</td>\n",
       "    </tr>\n",
       "    <tr>\n",
       "      <th>nan Headed</th>\n",
       "      <td>NaN</td>\n",
       "      <td>NaN</td>\n",
       "    </tr>\n",
       "  </tbody>\n",
       "</table>\n",
       "</div>"
      ],
      "text/plain": [
       "                       HH Income/Day (USD_adult_equiv_adj)  \\\n",
       "Household_Head_Gender                                        \n",
       "Female Headed                                     0.980256   \n",
       "Male Headed                                       1.153268   \n",
       "Youth Headed                                      1.311826   \n",
       "nan Headed                                             NaN   \n",
       "\n",
       "                       HH Income + Consumption + Residues/Day (USD_adult_equiv_adj)  \n",
       "Household_Head_Gender                                                                \n",
       "Female Headed                                                   1.897269             \n",
       "Male Headed                                                     2.015757             \n",
       "Youth Headed                                                    2.199827             \n",
       "nan Headed                                                           NaN             "
      ]
     },
     "execution_count": 36,
     "metadata": {},
     "output_type": "execute_result"
    }
   ],
   "source": [
    "df_y1.groupby('Household_Head_Gender')[['HH Income/Day (USD_adult_equiv_adj)',\n",
    "                                     'HH Income + Consumption + Residues/Day (USD_adult_equiv_adj)']].median()"
   ]
  },
  {
   "cell_type": "code",
   "execution_count": 37,
   "id": "1f627f66-f3b1-4277-8581-c99967a4f92a",
   "metadata": {},
   "outputs": [
    {
     "data": {
      "text/plain": [
       "(1.4728526520828218, 1.128702795652476)"
      ]
     },
     "execution_count": 37,
     "metadata": {},
     "output_type": "execute_result"
    }
   ],
   "source": [
    "df_y1['HH Income/Day (USD_adult_equiv_adj)'].mean(), df_y1['HH Income/Day (USD_adult_equiv_adj)'].median()"
   ]
  },
  {
   "cell_type": "code",
   "execution_count": 38,
   "id": "325faa08-679b-4e4f-ab6f-9dd7ada5bea5",
   "metadata": {},
   "outputs": [
    {
     "data": {
      "text/plain": [
       "(2.386096820884156, 2.0036418895636734)"
      ]
     },
     "execution_count": 38,
     "metadata": {},
     "output_type": "execute_result"
    }
   ],
   "source": [
    "df_y1['HH Income + Consumption + Residues/Day (USD_adult_equiv_adj)'].mean(), df_y1['HH Income + Consumption + Residues/Day (USD_adult_equiv_adj)'].median()"
   ]
  },
  {
   "cell_type": "code",
   "execution_count": null,
   "id": "4e7c7e12-dae1-4f94-85d1-a43dda5b608a",
   "metadata": {},
   "outputs": [],
   "source": []
  },
  {
   "cell_type": "code",
   "execution_count": null,
   "id": "899f5dca-6f77-4f9d-afea-eb5492213c45",
   "metadata": {},
   "outputs": [],
   "source": []
  },
  {
   "cell_type": "code",
   "execution_count": null,
   "id": "ed486721-6648-40da-9b61-e3c61dac1fd6",
   "metadata": {},
   "outputs": [],
   "source": []
  },
  {
   "cell_type": "code",
   "execution_count": 39,
   "id": "dd0be2f6-c8c1-442f-bb3c-be5ff7539586",
   "metadata": {},
   "outputs": [],
   "source": [
    "boundaries = [0, 0.75, 1.25, 2, 3, float('inf')]\n",
    "labels = [\"0-<0.75/Day\", \"0.75-<1.25/Day\", \"1.25-<2/Day\", \"2-<3/Day\", \"3+/Day\"]"
   ]
  },
  {
   "cell_type": "code",
   "execution_count": 40,
   "id": "40eeae94-0a64-4045-95de-74c535a3abdb",
   "metadata": {},
   "outputs": [],
   "source": [
    "df_y1['income_group'] = pd.cut(df_y1['HH Income + Consumption + Residues/Day (USD_adult_equiv_adj)'], bins=boundaries, labels=labels, right=False)"
   ]
  },
  {
   "cell_type": "code",
   "execution_count": 41,
   "id": "4dbbbe0a-6123-4849-bca1-da81e4c1e4d6",
   "metadata": {},
   "outputs": [
    {
     "data": {
      "text/plain": [
       "income_group\n",
       "3+/Day            0.262124\n",
       "1.25-<2/Day       0.258806\n",
       "2-<3/Day          0.238897\n",
       "0.75-<1.25/Day    0.149566\n",
       "0-<0.75/Day       0.090607\n",
       "Name: proportion, dtype: float64"
      ]
     },
     "execution_count": 41,
     "metadata": {},
     "output_type": "execute_result"
    }
   ],
   "source": [
    "df_y1['income_group'].value_counts(normalize=True)"
   ]
  },
  {
   "cell_type": "code",
   "execution_count": null,
   "id": "3040953d-18ce-45a9-8420-164d0929aff5",
   "metadata": {},
   "outputs": [],
   "source": []
  },
  {
   "cell_type": "markdown",
   "id": "10a1e88d-cef8-4e70-b9c9-26c2e0a3848a",
   "metadata": {},
   "source": [
    "0-<2.15/Day\n",
    "2.15+/Day"
   ]
  },
  {
   "cell_type": "code",
   "execution_count": 42,
   "id": "097592a9-f889-4171-8f6e-3c30d3830d68",
   "metadata": {},
   "outputs": [],
   "source": [
    "boundaries_1 = [0, 2.15,float('inf')]\n",
    "labels_1 = [\"0-<2.15/Day\", \"2.15+/Day\"]"
   ]
  },
  {
   "cell_type": "code",
   "execution_count": 43,
   "id": "a20db5c1-2060-44c1-aced-db76bd670172",
   "metadata": {},
   "outputs": [],
   "source": [
    "df_y1['income_group_1'] = pd.cut(df_y1['HH Income + Consumption + Residues/Day (USD_adult_equiv_adj)'], bins=boundaries_1, labels=labels_1, right=False)"
   ]
  },
  {
   "cell_type": "code",
   "execution_count": 44,
   "id": "1e4e2857-ef0b-4d77-bebc-849f8fe040c8",
   "metadata": {},
   "outputs": [
    {
     "data": {
      "text/plain": [
       "income_group_1\n",
       "0-<2.15/Day    0.548239\n",
       "2.15+/Day      0.451761\n",
       "Name: proportion, dtype: float64"
      ]
     },
     "execution_count": 44,
     "metadata": {},
     "output_type": "execute_result"
    }
   ],
   "source": [
    "df_y1['income_group_1'].value_counts(normalize=True)"
   ]
  },
  {
   "cell_type": "code",
   "execution_count": null,
   "id": "5163430c-150c-45cf-8417-169395cf9e69",
   "metadata": {},
   "outputs": [],
   "source": []
  },
  {
   "cell_type": "code",
   "execution_count": null,
   "id": "d731879c-bf32-4dce-9806-3366e07eb3d5",
   "metadata": {},
   "outputs": [],
   "source": []
  },
  {
   "cell_type": "code",
   "execution_count": 45,
   "id": "3826dcb0-2efb-4da5-84eb-1fc48e1bed99",
   "metadata": {},
   "outputs": [],
   "source": [
    "df_y1['income_group_2'] = pd.cut(df_y1['HH Income + Consumption + Residues/Day (USD_adult_equiv_adj)'], bins=boundaries_2, labels=labels_2, right=False)"
   ]
  },
  {
   "cell_type": "code",
   "execution_count": 46,
   "id": "6077e5b8-453b-4d0b-a895-c022c411f958",
   "metadata": {},
   "outputs": [
    {
     "data": {
      "text/plain": [
       "income_group_2\n",
       "1.25-<2.15/Day    0.308065\n",
       "3+/Day            0.262124\n",
       "2.5-<3/Day        0.189638\n",
       "0.75-<1.25/Day    0.149566\n",
       "0-<0.75/Day       0.090607\n",
       "Name: proportion, dtype: float64"
      ]
     },
     "execution_count": 46,
     "metadata": {},
     "output_type": "execute_result"
    }
   ],
   "source": [
    "df_y1['income_group_2'].value_counts(normalize=True)"
   ]
  },
  {
   "cell_type": "code",
   "execution_count": null,
   "id": "3620a79b-6ed5-40e2-b615-5d410b7906c1",
   "metadata": {},
   "outputs": [],
   "source": []
  },
  {
   "cell_type": "code",
   "execution_count": null,
   "id": "81d5147c-ec51-4be7-b9ca-ded8465088c4",
   "metadata": {},
   "outputs": [],
   "source": []
  },
  {
   "cell_type": "markdown",
   "id": "0dc44a30-e3a5-4788-869a-ce16d186d1e5",
   "metadata": {
    "jp-MarkdownHeadingCollapsed": true
   },
   "source": [
    "## Baseline"
   ]
  },
  {
   "cell_type": "code",
   "execution_count": 47,
   "id": "5c37e392-adb2-446c-af0c-a5bb0f3a5cdf",
   "metadata": {},
   "outputs": [],
   "source": [
    "import numpy as np"
   ]
  },
  {
   "cell_type": "code",
   "execution_count": 48,
   "id": "e94d0273-6aad-4545-b180-6868874fc476",
   "metadata": {},
   "outputs": [],
   "source": [
    "base = pd.read_excel('ALL2021cohorts.xlsx', sheet_name='All2021CohortBaseline',header=5)\n",
    "rub_base = pd.read_excel('ALL2021cohorts.xlsx', sheet_name='Rubanda2021Cohort_Base',header=5)"
   ]
  },
  {
   "cell_type": "code",
   "execution_count": 5,
   "id": "5f5cc76f-ecb9-46c2-9752-5339c0d59123",
   "metadata": {},
   "outputs": [
    {
     "data": {
      "text/plain": [
       "(1419, 6736)"
      ]
     },
     "execution_count": 5,
     "metadata": {},
     "output_type": "execute_result"
    }
   ],
   "source": [
    "base.shape"
   ]
  },
  {
   "cell_type": "code",
   "execution_count": 6,
   "id": "138f6d1a-046b-4669-bd53-58fcf7cec091",
   "metadata": {},
   "outputs": [
    {
     "data": {
      "text/plain": [
       "(319, 6715)"
      ]
     },
     "execution_count": 6,
     "metadata": {},
     "output_type": "execute_result"
    }
   ],
   "source": [
    "rub_base.shape"
   ]
  },
  {
   "cell_type": "markdown",
   "id": "0549c0b7-0246-49aa-bc16-b5534821d6da",
   "metadata": {},
   "source": [
    "Income"
   ]
  },
  {
   "cell_type": "code",
   "execution_count": 7,
   "id": "218ea661-abbc-4aa2-ba61-fb8892ba9d5c",
   "metadata": {},
   "outputs": [],
   "source": [
    "not_rub = np.array(base['HH Income/Day (USD_adult_equiv_adj)'])"
   ]
  },
  {
   "cell_type": "code",
   "execution_count": 8,
   "id": "ff3b2556-414e-440c-bb3c-8c5783c9e0fe",
   "metadata": {},
   "outputs": [],
   "source": [
    "rub = np.array(rub_base['HH Income/Day (USD_adult_equiv_adj)'])"
   ]
  },
  {
   "cell_type": "code",
   "execution_count": 9,
   "id": "8d29d5d6-07c8-4a78-9c10-3f51793b1907",
   "metadata": {},
   "outputs": [
    {
     "data": {
      "text/plain": [
       "0.6349192540696366"
      ]
     },
     "execution_count": 9,
     "metadata": {},
     "output_type": "execute_result"
    }
   ],
   "source": [
    "base_income = np.concatenate([rub, not_rub])\n",
    "base_income.mean()"
   ]
  },
  {
   "cell_type": "code",
   "execution_count": 27,
   "id": "ee1214bb-f12f-47a4-8d36-14bb296d76d8",
   "metadata": {},
   "outputs": [
    {
     "data": {
      "text/plain": [
       "(0.6349192540696368, 0.36896133476836035)"
      ]
     },
     "execution_count": 27,
     "metadata": {},
     "output_type": "execute_result"
    }
   ],
   "source": [
    "base_cohort['HH Income/Day (USD_adult_equiv_adj)'].mean(), base_cohort['HH Income/Day (USD_adult_equiv_adj)'].median()"
   ]
  },
  {
   "cell_type": "markdown",
   "id": "cf1b6634-ab33-4d86-a7ec-a4a1ae2adc8e",
   "metadata": {},
   "source": [
    "Income and production"
   ]
  },
  {
   "cell_type": "code",
   "execution_count": 11,
   "id": "256d78b0-593d-45ce-96a0-b612478ba715",
   "metadata": {},
   "outputs": [],
   "source": [
    "not_rub_ = np.array(base['HH Income + Consumption + Residues/Day (USD_adult_equiv_adj)'])"
   ]
  },
  {
   "cell_type": "code",
   "execution_count": 12,
   "id": "5a8cfa10-6ff0-4957-b207-307df77a9e59",
   "metadata": {},
   "outputs": [],
   "source": [
    "rub_ = np.array(rub_base['HH Income + Consumption + Residues/Day (USD_adult_equiv_adj)'])"
   ]
  },
  {
   "cell_type": "code",
   "execution_count": 13,
   "id": "d79704eb-75b5-423f-abca-dc211b303f46",
   "metadata": {},
   "outputs": [
    {
     "data": {
      "text/plain": [
       "1.1698599562155263"
      ]
     },
     "execution_count": 13,
     "metadata": {},
     "output_type": "execute_result"
    }
   ],
   "source": [
    "base_income_production = np.concatenate([rub_, not_rub_])\n",
    "base_income_production.mean()"
   ]
  },
  {
   "cell_type": "code",
   "execution_count": 14,
   "id": "478ef229-447b-4219-8e8c-1cae59cad1e1",
   "metadata": {},
   "outputs": [
    {
     "data": {
      "text/plain": [
       "((1419, 6736), (319, 6715))"
      ]
     },
     "execution_count": 14,
     "metadata": {},
     "output_type": "execute_result"
    }
   ],
   "source": [
    "base.shape, rub_base.shape"
   ]
  },
  {
   "cell_type": "code",
   "execution_count": null,
   "id": "03771c41-e1b3-4194-866e-72d116204a7d",
   "metadata": {},
   "outputs": [],
   "source": []
  },
  {
   "cell_type": "code",
   "execution_count": 15,
   "id": "33dfacad-3c27-4dc8-bebc-39e659424ffe",
   "metadata": {},
   "outputs": [],
   "source": [
    "base_cohort = pd.concat([base[['hhh_sex','hhh_age','HH Income/Day (USD_adult_equiv_adj)','HH Income + Consumption + Residues/Day (USD_adult_equiv_adj)']],\n",
    "               rub_base[['hhh_sex','hhh_age','HH Income/Day (USD_adult_equiv_adj)','HH Income + Consumption + Residues/Day (USD_adult_equiv_adj)']]])"
   ]
  },
  {
   "cell_type": "code",
   "execution_count": 68,
   "id": "edfc2410-9e2c-45c8-8fa9-192168d3f89f",
   "metadata": {},
   "outputs": [
    {
     "data": {
      "text/plain": [
       "(1738, 6)"
      ]
     },
     "execution_count": 68,
     "metadata": {},
     "output_type": "execute_result"
    }
   ],
   "source": [
    "base_cohort.shape"
   ]
  },
  {
   "cell_type": "code",
   "execution_count": 17,
   "id": "5fe313ea-00bf-43e7-960a-833ae68801f3",
   "metadata": {},
   "outputs": [
    {
     "ename": "NameError",
     "evalue": "name 'sex_mapping' is not defined",
     "output_type": "error",
     "traceback": [
      "\u001b[0;31m---------------------------------------------------------------------------\u001b[0m",
      "\u001b[0;31mNameError\u001b[0m                                 Traceback (most recent call last)",
      "Cell \u001b[0;32mIn[17], line 1\u001b[0m\n\u001b[0;32m----> 1\u001b[0m base_cohort[\u001b[38;5;124m'\u001b[39m\u001b[38;5;124mGender\u001b[39m\u001b[38;5;124m'\u001b[39m] \u001b[38;5;241m=\u001b[39m base_cohort[\u001b[38;5;124m'\u001b[39m\u001b[38;5;124mhhh_sex\u001b[39m\u001b[38;5;124m'\u001b[39m]\u001b[38;5;241m.\u001b[39mreplace(\u001b[43msex_mapping\u001b[49m)\n\u001b[1;32m      2\u001b[0m base_cohort[\u001b[38;5;124m'\u001b[39m\u001b[38;5;124mGender\u001b[39m\u001b[38;5;124m'\u001b[39m]\u001b[38;5;241m.\u001b[39mvalue_counts()\n",
      "\u001b[0;31mNameError\u001b[0m: name 'sex_mapping' is not defined"
     ]
    }
   ],
   "source": [
    "base_cohort['Gender'] = base_cohort['hhh_sex'].replace(sex_mapping)\n",
    "base_cohort['Gender'].value_counts()"
   ]
  },
  {
   "cell_type": "code",
   "execution_count": 22,
   "id": "f4cadf24-b826-41a6-b0d7-938a15575e79",
   "metadata": {},
   "outputs": [],
   "source": [
    "base_cohort['Household_Head_Gender'] = base_cohort['Gender']"
   ]
  },
  {
   "cell_type": "code",
   "execution_count": 23,
   "id": "ed49d870-143c-468f-aa97-c1e33c9db739",
   "metadata": {},
   "outputs": [],
   "source": [
    "base_cohort['Household_Head_Gender'] = base_cohort.apply(lambda row: 'Youth Headed' if row['hhh_age'] <= 30 else str(row['Household_Head_Gender']) + ' Headed', axis=1)"
   ]
  },
  {
   "cell_type": "code",
   "execution_count": 24,
   "id": "ba2174a6-6163-4992-a6c5-5fbe5751603b",
   "metadata": {},
   "outputs": [
    {
     "data": {
      "text/plain": [
       "Household_Head_Gender\n",
       "Male Headed      1034\n",
       "Female Headed     396\n",
       "Youth Headed      308\n",
       "Name: count, dtype: int64"
      ]
     },
     "execution_count": 24,
     "metadata": {},
     "output_type": "execute_result"
    }
   ],
   "source": [
    "base_cohort['Household_Head_Gender'].value_counts()"
   ]
  },
  {
   "cell_type": "code",
   "execution_count": 105,
   "id": "c5ae251d-07c3-4a5a-883c-d1f45ed05f87",
   "metadata": {},
   "outputs": [
    {
     "data": {
      "text/html": [
       "<div>\n",
       "<style scoped>\n",
       "    .dataframe tbody tr th:only-of-type {\n",
       "        vertical-align: middle;\n",
       "    }\n",
       "\n",
       "    .dataframe tbody tr th {\n",
       "        vertical-align: top;\n",
       "    }\n",
       "\n",
       "    .dataframe thead th {\n",
       "        text-align: right;\n",
       "    }\n",
       "</style>\n",
       "<table border=\"1\" class=\"dataframe\">\n",
       "  <thead>\n",
       "    <tr style=\"text-align: right;\">\n",
       "      <th></th>\n",
       "      <th>HH Income/Day (USD_adult_equiv_adj)</th>\n",
       "      <th>HH Income + Consumption + Residues/Day (USD_adult_equiv_adj)</th>\n",
       "    </tr>\n",
       "    <tr>\n",
       "      <th>Household_Head_Gender</th>\n",
       "      <th></th>\n",
       "      <th></th>\n",
       "    </tr>\n",
       "  </thead>\n",
       "  <tbody>\n",
       "    <tr>\n",
       "      <th>Female Headed</th>\n",
       "      <td>0.529179</td>\n",
       "      <td>1.159329</td>\n",
       "    </tr>\n",
       "    <tr>\n",
       "      <th>Male Headed</th>\n",
       "      <td>0.644360</td>\n",
       "      <td>1.152417</td>\n",
       "    </tr>\n",
       "    <tr>\n",
       "      <th>Youth Headed</th>\n",
       "      <td>0.739178</td>\n",
       "      <td>1.241958</td>\n",
       "    </tr>\n",
       "  </tbody>\n",
       "</table>\n",
       "</div>"
      ],
      "text/plain": [
       "                       HH Income/Day (USD_adult_equiv_adj)  \\\n",
       "Household_Head_Gender                                        \n",
       "Female Headed                                     0.529179   \n",
       "Male Headed                                       0.644360   \n",
       "Youth Headed                                      0.739178   \n",
       "\n",
       "                       HH Income + Consumption + Residues/Day (USD_adult_equiv_adj)  \n",
       "Household_Head_Gender                                                                \n",
       "Female Headed                                                   1.159329             \n",
       "Male Headed                                                     1.152417             \n",
       "Youth Headed                                                    1.241958             "
      ]
     },
     "execution_count": 105,
     "metadata": {},
     "output_type": "execute_result"
    }
   ],
   "source": [
    "base_cohort.groupby('Household_Head_Gender')[['HH Income/Day (USD_adult_equiv_adj)','HH Income + Consumption + Residues/Day (USD_adult_equiv_adj)']].mean()"
   ]
  },
  {
   "cell_type": "code",
   "execution_count": 106,
   "id": "d3a111e2-be2e-4a85-ab45-8774b3b2b79e",
   "metadata": {},
   "outputs": [
    {
     "data": {
      "text/html": [
       "<div>\n",
       "<style scoped>\n",
       "    .dataframe tbody tr th:only-of-type {\n",
       "        vertical-align: middle;\n",
       "    }\n",
       "\n",
       "    .dataframe tbody tr th {\n",
       "        vertical-align: top;\n",
       "    }\n",
       "\n",
       "    .dataframe thead th {\n",
       "        text-align: right;\n",
       "    }\n",
       "</style>\n",
       "<table border=\"1\" class=\"dataframe\">\n",
       "  <thead>\n",
       "    <tr style=\"text-align: right;\">\n",
       "      <th></th>\n",
       "      <th>HH Income/Day (USD_adult_equiv_adj)</th>\n",
       "      <th>HH Income + Consumption + Residues/Day (USD_adult_equiv_adj)</th>\n",
       "    </tr>\n",
       "    <tr>\n",
       "      <th>Household_Head_Gender</th>\n",
       "      <th></th>\n",
       "      <th></th>\n",
       "    </tr>\n",
       "  </thead>\n",
       "  <tbody>\n",
       "    <tr>\n",
       "      <th>Female Headed</th>\n",
       "      <td>0.368777</td>\n",
       "      <td>0.863817</td>\n",
       "    </tr>\n",
       "    <tr>\n",
       "      <th>Male Headed</th>\n",
       "      <td>0.337692</td>\n",
       "      <td>0.782185</td>\n",
       "    </tr>\n",
       "    <tr>\n",
       "      <th>Youth Headed</th>\n",
       "      <td>0.448730</td>\n",
       "      <td>0.863416</td>\n",
       "    </tr>\n",
       "  </tbody>\n",
       "</table>\n",
       "</div>"
      ],
      "text/plain": [
       "                       HH Income/Day (USD_adult_equiv_adj)  \\\n",
       "Household_Head_Gender                                        \n",
       "Female Headed                                     0.368777   \n",
       "Male Headed                                       0.337692   \n",
       "Youth Headed                                      0.448730   \n",
       "\n",
       "                       HH Income + Consumption + Residues/Day (USD_adult_equiv_adj)  \n",
       "Household_Head_Gender                                                                \n",
       "Female Headed                                                   0.863817             \n",
       "Male Headed                                                     0.782185             \n",
       "Youth Headed                                                    0.863416             "
      ]
     },
     "execution_count": 106,
     "metadata": {},
     "output_type": "execute_result"
    }
   ],
   "source": [
    "base_cohort.groupby('Household_Head_Gender')[['HH Income/Day (USD_adult_equiv_adj)',\n",
    "                                     'HH Income + Consumption + Residues/Day (USD_adult_equiv_adj)']].median()"
   ]
  },
  {
   "cell_type": "code",
   "execution_count": 59,
   "id": "d89fcf1c-37d4-42fb-ba5f-9c85014bfe70",
   "metadata": {},
   "outputs": [],
   "source": [
    "base_cohort.to_excel(\"base_cohort.xlsx\")"
   ]
  },
  {
   "cell_type": "code",
   "execution_count": 74,
   "id": "1f137ac3-222d-40bb-80f1-36730210542f",
   "metadata": {},
   "outputs": [],
   "source": [
    "## with median"
   ]
  },
  {
   "cell_type": "code",
   "execution_count": 104,
   "id": "1d32f0f7-4768-453c-8d68-6b452e4abe7f",
   "metadata": {},
   "outputs": [
    {
     "data": {
      "text/plain": [
       "(1.1698599562155263, 0.8124417601652123)"
      ]
     },
     "execution_count": 104,
     "metadata": {},
     "output_type": "execute_result"
    }
   ],
   "source": [
    "base_cohort['HH Income + Consumption + Residues/Day (USD_adult_equiv_adj)'].mean(), base_cohort['HH Income + Consumption + Residues/Day (USD_adult_equiv_adj)'].median()"
   ]
  },
  {
   "cell_type": "code",
   "execution_count": null,
   "id": "adc66e1e-90e2-4c9d-923f-7a627225d1d2",
   "metadata": {},
   "outputs": [],
   "source": []
  },
  {
   "cell_type": "code",
   "execution_count": null,
   "id": "08f8f2b9-3654-4a63-9785-cfa2a937ce02",
   "metadata": {},
   "outputs": [],
   "source": []
  },
  {
   "cell_type": "code",
   "execution_count": 102,
   "id": "d02b0a97-c6b3-47b2-b0ca-b30f27e683c3",
   "metadata": {},
   "outputs": [],
   "source": [
    "base_cohort['income_group'] = pd.cut(base_cohort['HH Income + Consumption + Residues/Day (USD_adult_equiv_adj)'], bins=boundaries, labels=labels, right=False)"
   ]
  },
  {
   "cell_type": "code",
   "execution_count": 103,
   "id": "4aafe002-515c-41ec-957f-8dc9a8343b43",
   "metadata": {},
   "outputs": [
    {
     "data": {
      "text/plain": [
       "income_group\n",
       "0-<0.75/Day       0.450518\n",
       "0.75-<1.25/Day    0.265247\n",
       "1.25-<2/Day       0.157652\n",
       "2-<3/Day          0.070771\n",
       "3+/Day            0.055811\n",
       "Name: proportion, dtype: float64"
      ]
     },
     "execution_count": 103,
     "metadata": {},
     "output_type": "execute_result"
    }
   ],
   "source": [
    "base_cohort['income_group'].value_counts(normalize=True)"
   ]
  },
  {
   "cell_type": "code",
   "execution_count": null,
   "id": "2a025a04-d29d-4ace-acde-7a4f82c5c952",
   "metadata": {},
   "outputs": [],
   "source": []
  },
  {
   "cell_type": "code",
   "execution_count": null,
   "id": "dab40e93-4d46-43c7-bf93-d7870074fbea",
   "metadata": {},
   "outputs": [],
   "source": []
  },
  {
   "cell_type": "code",
   "execution_count": 18,
   "id": "3438f763-47d5-4788-89ee-b21fef991fd8",
   "metadata": {},
   "outputs": [],
   "source": [
    "base_cohort['income_group_1'] = pd.cut(base_cohort['HH Income + Consumption + Residues/Day (USD_adult_equiv_adj)'], bins=boundaries, labels=labels, right=False)"
   ]
  },
  {
   "cell_type": "code",
   "execution_count": 19,
   "id": "f85d19c5-ad7a-409f-8451-603704a5b633",
   "metadata": {},
   "outputs": [
    {
     "data": {
      "text/plain": [
       "income_group_1\n",
       "0-<2.15/Day    0.886076\n",
       "3+/Day         0.113924\n",
       "Name: proportion, dtype: float64"
      ]
     },
     "execution_count": 19,
     "metadata": {},
     "output_type": "execute_result"
    }
   ],
   "source": [
    "base_cohort['income_group_1'].value_counts(normalize=True)"
   ]
  },
  {
   "cell_type": "code",
   "execution_count": null,
   "id": "ca6f97cb-3ed2-4d87-8461-9612da277ccb",
   "metadata": {},
   "outputs": [],
   "source": []
  },
  {
   "cell_type": "code",
   "execution_count": null,
   "id": "30eaee6a-8cfa-410e-ad2d-f4966ca9439c",
   "metadata": {},
   "outputs": [],
   "source": []
  },
  {
   "cell_type": "code",
   "execution_count": 56,
   "id": "a1c910e8-f840-4262-a1aa-19fcde4b5ea7",
   "metadata": {},
   "outputs": [],
   "source": [
    "base_cohort['income_group_2'] = pd.cut(base_cohort['HH Income + Consumption + Residues/Day (USD_adult_equiv_adj)'], bins=boundaries_2, labels=labels_2, right=False)"
   ]
  },
  {
   "cell_type": "code",
   "execution_count": 58,
   "id": "16b92035-55dc-4d67-bc33-cf0ec2a5b1d3",
   "metadata": {},
   "outputs": [
    {
     "data": {
      "text/plain": [
       "income_group_2\n",
       "0-<0.75/Day       0.450518\n",
       "0.75-<1.25/Day    0.265247\n",
       "1.25-<2.15/Day    0.170311\n",
       "2.5-<3/Day        0.058113\n",
       "3+/Day            0.055811\n",
       "Name: proportion, dtype: float64"
      ]
     },
     "execution_count": 58,
     "metadata": {},
     "output_type": "execute_result"
    }
   ],
   "source": [
    "base_cohort['income_group_2'].value_counts(normalize=True)"
   ]
  },
  {
   "cell_type": "markdown",
   "id": "d86d8a4b-4809-4a0b-928d-41d67cbcd6bd",
   "metadata": {},
   "source": [
    "## Peer"
   ]
  },
  {
   "cell_type": "markdown",
   "id": "023641b6-1394-48dd-a423-80094ce495ad",
   "metadata": {
    "jp-MarkdownHeadingCollapsed": true
   },
   "source": [
    "# Year 2"
   ]
  },
  {
   "cell_type": "code",
   "execution_count": 30,
   "id": "91c10fb7-26aa-4177-ad08-9371ce13e55b",
   "metadata": {},
   "outputs": [],
   "source": [
    "peer_grad = pd.read_excel('ALL2021cohorts.xlsx', sheet_name='All2021ControlYr2',header=5)"
   ]
  },
  {
   "cell_type": "code",
   "execution_count": 32,
   "id": "593e5835-25d2-40aa-a9cf-f844871e2ef5",
   "metadata": {},
   "outputs": [
    {
     "data": {
      "text/plain": [
       "Status\n",
       "RTV     3897\n",
       "PEER    1899\n",
       "Name: count, dtype: int64"
      ]
     },
     "execution_count": 32,
     "metadata": {},
     "output_type": "execute_result"
    }
   ],
   "source": [
    "df1['Status'].value_counts()"
   ]
  },
  {
   "cell_type": "code",
   "execution_count": 33,
   "id": "10ef1d47-08b7-4a86-ba4b-7dcd80787325",
   "metadata": {},
   "outputs": [],
   "source": [
    "peer_grad = df1[df1['Status'] == \"PEER\"]"
   ]
  },
  {
   "cell_type": "code",
   "execution_count": 34,
   "id": "b6aea202-275e-4529-97ea-2be919462084",
   "metadata": {},
   "outputs": [
    {
     "data": {
      "text/plain": [
       "(1899, 5670)"
      ]
     },
     "execution_count": 34,
     "metadata": {},
     "output_type": "execute_result"
    }
   ],
   "source": [
    "peer_grad.shape"
   ]
  },
  {
   "cell_type": "code",
   "execution_count": 63,
   "id": "0610ab41-45c9-47be-9706-feb0c8435073",
   "metadata": {},
   "outputs": [
    {
     "name": "stderr",
     "output_type": "stream",
     "text": [
      "/var/folders/xd/0btgr76j2zxc4__ynw0yhwbm0000gn/T/ipykernel_3524/439533858.py:1: SettingWithCopyWarning: \n",
      "A value is trying to be set on a copy of a slice from a DataFrame.\n",
      "Try using .loc[row_indexer,col_indexer] = value instead\n",
      "\n",
      "See the caveats in the documentation: https://pandas.pydata.org/pandas-docs/stable/user_guide/indexing.html#returning-a-view-versus-a-copy\n",
      "  peer_grad['Gender'] = peer_grad['hhh_sex'].replace(sex_mapping)\n"
     ]
    },
    {
     "data": {
      "text/plain": [
       "Gender\n",
       "Male      1357\n",
       "Female     542\n",
       "Name: count, dtype: int64"
      ]
     },
     "execution_count": 63,
     "metadata": {},
     "output_type": "execute_result"
    }
   ],
   "source": [
    "peer_grad['Gender'] = peer_grad['hhh_sex'].replace(sex_mapping)\n",
    "peer_grad['Gender'].value_counts()"
   ]
  },
  {
   "cell_type": "code",
   "execution_count": 65,
   "id": "fd92dafe-d34f-4ed0-9689-d5b0e9345bc7",
   "metadata": {},
   "outputs": [
    {
     "name": "stderr",
     "output_type": "stream",
     "text": [
      "/var/folders/xd/0btgr76j2zxc4__ynw0yhwbm0000gn/T/ipykernel_3524/1685898727.py:1: SettingWithCopyWarning: \n",
      "A value is trying to be set on a copy of a slice from a DataFrame.\n",
      "Try using .loc[row_indexer,col_indexer] = value instead\n",
      "\n",
      "See the caveats in the documentation: https://pandas.pydata.org/pandas-docs/stable/user_guide/indexing.html#returning-a-view-versus-a-copy\n",
      "  peer_grad['Household_Head_Gender'] = peer_grad['Gender']\n"
     ]
    }
   ],
   "source": [
    "peer_grad['Household_Head_Gender'] = peer_grad['Gender']"
   ]
  },
  {
   "cell_type": "code",
   "execution_count": 66,
   "id": "f6445083-5974-47c4-bc45-48b83d3b8a98",
   "metadata": {},
   "outputs": [
    {
     "name": "stderr",
     "output_type": "stream",
     "text": [
      "/var/folders/xd/0btgr76j2zxc4__ynw0yhwbm0000gn/T/ipykernel_3524/2411608141.py:1: SettingWithCopyWarning: \n",
      "A value is trying to be set on a copy of a slice from a DataFrame.\n",
      "Try using .loc[row_indexer,col_indexer] = value instead\n",
      "\n",
      "See the caveats in the documentation: https://pandas.pydata.org/pandas-docs/stable/user_guide/indexing.html#returning-a-view-versus-a-copy\n",
      "  peer_grad['Household_Head_Gender'] = peer_grad.apply(lambda row: 'Youth Headed' if row['hhh_age'] <= 30 else str(row['Household_Head_Gender']) + ' Headed', axis=1)\n"
     ]
    }
   ],
   "source": [
    "peer_grad['Household_Head_Gender'] = peer_grad.apply(lambda row: 'Youth Headed' if row['hhh_age'] <= 30 else str(row['Household_Head_Gender']) + ' Headed', axis=1)"
   ]
  },
  {
   "cell_type": "code",
   "execution_count": 67,
   "id": "3647ecdf-bc5f-4862-889d-ad96686f47ab",
   "metadata": {},
   "outputs": [
    {
     "data": {
      "text/plain": [
       "Household_Head_Gender\n",
       "Male Headed      1152\n",
       "Female Headed     512\n",
       "Youth Headed      235\n",
       "Name: count, dtype: int64"
      ]
     },
     "execution_count": 67,
     "metadata": {},
     "output_type": "execute_result"
    }
   ],
   "source": [
    "peer_grad['Household_Head_Gender'].value_counts()"
   ]
  },
  {
   "cell_type": "code",
   "execution_count": 71,
   "id": "88fd540c-195a-4d12-83d6-2386bc0ace8e",
   "metadata": {},
   "outputs": [
    {
     "data": {
      "text/html": [
       "<div>\n",
       "<style scoped>\n",
       "    .dataframe tbody tr th:only-of-type {\n",
       "        vertical-align: middle;\n",
       "    }\n",
       "\n",
       "    .dataframe tbody tr th {\n",
       "        vertical-align: top;\n",
       "    }\n",
       "\n",
       "    .dataframe thead th {\n",
       "        text-align: right;\n",
       "    }\n",
       "</style>\n",
       "<table border=\"1\" class=\"dataframe\">\n",
       "  <thead>\n",
       "    <tr style=\"text-align: right;\">\n",
       "      <th></th>\n",
       "      <th>HH Income/Day (USD_adult_equiv_adj)</th>\n",
       "      <th>HH Income + Consumption + Residues/Day (USD_adult_equiv_adj)</th>\n",
       "    </tr>\n",
       "    <tr>\n",
       "      <th>Household_Head_Gender</th>\n",
       "      <th></th>\n",
       "      <th></th>\n",
       "    </tr>\n",
       "  </thead>\n",
       "  <tbody>\n",
       "    <tr>\n",
       "      <th>Female Headed</th>\n",
       "      <td>0.904958</td>\n",
       "      <td>1.767008</td>\n",
       "    </tr>\n",
       "    <tr>\n",
       "      <th>Male Headed</th>\n",
       "      <td>1.045394</td>\n",
       "      <td>1.799758</td>\n",
       "    </tr>\n",
       "    <tr>\n",
       "      <th>Youth Headed</th>\n",
       "      <td>1.349831</td>\n",
       "      <td>2.059824</td>\n",
       "    </tr>\n",
       "  </tbody>\n",
       "</table>\n",
       "</div>"
      ],
      "text/plain": [
       "                       HH Income/Day (USD_adult_equiv_adj)  \\\n",
       "Household_Head_Gender                                        \n",
       "Female Headed                                     0.904958   \n",
       "Male Headed                                       1.045394   \n",
       "Youth Headed                                      1.349831   \n",
       "\n",
       "                       HH Income + Consumption + Residues/Day (USD_adult_equiv_adj)  \n",
       "Household_Head_Gender                                                                \n",
       "Female Headed                                                   1.767008             \n",
       "Male Headed                                                     1.799758             \n",
       "Youth Headed                                                    2.059824             "
      ]
     },
     "execution_count": 71,
     "metadata": {},
     "output_type": "execute_result"
    }
   ],
   "source": [
    "peer_grad.groupby('Household_Head_Gender')[['HH Income/Day (USD_adult_equiv_adj)','HH Income + Consumption + Residues/Day (USD_adult_equiv_adj)']].mean()"
   ]
  },
  {
   "cell_type": "code",
   "execution_count": 72,
   "id": "521a704d-c2cf-4395-bc3b-039bf63780aa",
   "metadata": {},
   "outputs": [
    {
     "data": {
      "text/html": [
       "<div>\n",
       "<style scoped>\n",
       "    .dataframe tbody tr th:only-of-type {\n",
       "        vertical-align: middle;\n",
       "    }\n",
       "\n",
       "    .dataframe tbody tr th {\n",
       "        vertical-align: top;\n",
       "    }\n",
       "\n",
       "    .dataframe thead th {\n",
       "        text-align: right;\n",
       "    }\n",
       "</style>\n",
       "<table border=\"1\" class=\"dataframe\">\n",
       "  <thead>\n",
       "    <tr style=\"text-align: right;\">\n",
       "      <th></th>\n",
       "      <th>HH Income/Day (USD_adult_equiv_adj)</th>\n",
       "      <th>HH Income + Consumption + Residues/Day (USD_adult_equiv_adj)</th>\n",
       "    </tr>\n",
       "    <tr>\n",
       "      <th>Household_Head_Gender</th>\n",
       "      <th></th>\n",
       "      <th></th>\n",
       "    </tr>\n",
       "  </thead>\n",
       "  <tbody>\n",
       "    <tr>\n",
       "      <th>Female Headed</th>\n",
       "      <td>0.687371</td>\n",
       "      <td>1.531812</td>\n",
       "    </tr>\n",
       "    <tr>\n",
       "      <th>Male Headed</th>\n",
       "      <td>0.794294</td>\n",
       "      <td>1.598325</td>\n",
       "    </tr>\n",
       "    <tr>\n",
       "      <th>Youth Headed</th>\n",
       "      <td>1.110576</td>\n",
       "      <td>1.806055</td>\n",
       "    </tr>\n",
       "  </tbody>\n",
       "</table>\n",
       "</div>"
      ],
      "text/plain": [
       "                       HH Income/Day (USD_adult_equiv_adj)  \\\n",
       "Household_Head_Gender                                        \n",
       "Female Headed                                     0.687371   \n",
       "Male Headed                                       0.794294   \n",
       "Youth Headed                                      1.110576   \n",
       "\n",
       "                       HH Income + Consumption + Residues/Day (USD_adult_equiv_adj)  \n",
       "Household_Head_Gender                                                                \n",
       "Female Headed                                                   1.531812             \n",
       "Male Headed                                                     1.598325             \n",
       "Youth Headed                                                    1.806055             "
      ]
     },
     "execution_count": 72,
     "metadata": {},
     "output_type": "execute_result"
    }
   ],
   "source": [
    "peer_grad.groupby('Household_Head_Gender')[['HH Income/Day (USD_adult_equiv_adj)',\n",
    "                                     'HH Income + Consumption + Residues/Day (USD_adult_equiv_adj)']].median()"
   ]
  },
  {
   "cell_type": "code",
   "execution_count": 69,
   "id": "48a188d4-1b03-4a03-b6ea-26533961f2fa",
   "metadata": {},
   "outputs": [
    {
     "data": {
      "text/plain": [
       "(1.045204170284326, 0.7948221617212186)"
      ]
     },
     "execution_count": 69,
     "metadata": {},
     "output_type": "execute_result"
    }
   ],
   "source": [
    "peer_grad['HH Income/Day (USD_adult_equiv_adj)'].mean(), peer_grad['HH Income/Day (USD_adult_equiv_adj)'].median()"
   ]
  },
  {
   "cell_type": "code",
   "execution_count": 70,
   "id": "c300b747-dbc6-4597-9079-0784b99ed9b4",
   "metadata": {},
   "outputs": [
    {
     "data": {
      "text/plain": [
       "(1.8231110959752512, 1.6087757102672366)"
      ]
     },
     "execution_count": 70,
     "metadata": {},
     "output_type": "execute_result"
    }
   ],
   "source": [
    "peer_grad['HH Income + Consumption + Residues/Day (USD_adult_equiv_adj)'].mean(), peer_grad['HH Income + Consumption + Residues/Day (USD_adult_equiv_adj)'].median()"
   ]
  },
  {
   "cell_type": "code",
   "execution_count": null,
   "id": "cafa6ef3-9906-4d90-9558-5d3edd0c9b1d",
   "metadata": {},
   "outputs": [],
   "source": []
  },
  {
   "cell_type": "code",
   "execution_count": null,
   "id": "25e527a3-d7ae-49d6-b6d7-d0795e609497",
   "metadata": {},
   "outputs": [],
   "source": []
  },
  {
   "cell_type": "code",
   "execution_count": null,
   "id": "50dc9d45-0ec9-454d-ad88-32a2d85a5f48",
   "metadata": {},
   "outputs": [],
   "source": []
  },
  {
   "cell_type": "code",
   "execution_count": 21,
   "id": "228ecc61-0cc8-4b1e-8452-16248134680d",
   "metadata": {},
   "outputs": [],
   "source": [
    "boundaries = [0, 0.75, 1.25, 2, 3, float('inf')]\n",
    "labels = [\"0-<0.75/Day\", \"0.75-<1.25/Day\", \"1.25-<2/Day\", \"2-<3/Day\", \"3+/Day\"]"
   ]
  },
  {
   "cell_type": "code",
   "execution_count": 35,
   "id": "19297883-5d83-470c-b5f1-ec572a37fd33",
   "metadata": {},
   "outputs": [
    {
     "name": "stderr",
     "output_type": "stream",
     "text": [
      "/var/folders/xd/0btgr76j2zxc4__ynw0yhwbm0000gn/T/ipykernel_71511/3354475881.py:1: SettingWithCopyWarning: \n",
      "A value is trying to be set on a copy of a slice from a DataFrame.\n",
      "Try using .loc[row_indexer,col_indexer] = value instead\n",
      "\n",
      "See the caveats in the documentation: https://pandas.pydata.org/pandas-docs/stable/user_guide/indexing.html#returning-a-view-versus-a-copy\n",
      "  peer_grad['income_group'] = pd.cut(peer_grad['HH Income + Consumption + Residues/Day (USD_adult_equiv_adj)'], bins=boundaries, labels=labels, right=False)\n"
     ]
    }
   ],
   "source": [
    "peer_grad['income_group'] = pd.cut(peer_grad['HH Income + Consumption + Residues/Day (USD_adult_equiv_adj)'], bins=boundaries, labels=labels, right=False)"
   ]
  },
  {
   "cell_type": "code",
   "execution_count": 36,
   "id": "f43e8497-3665-4aed-bfd7-76950bd8459d",
   "metadata": {},
   "outputs": [
    {
     "data": {
      "text/plain": [
       "income_group\n",
       "1.25-<2/Day       0.272249\n",
       "2-<3/Day          0.226962\n",
       "0.75-<1.25/Day    0.211164\n",
       "0-<0.75/Day       0.152712\n",
       "3+/Day            0.136914\n",
       "Name: proportion, dtype: float64"
      ]
     },
     "execution_count": 36,
     "metadata": {},
     "output_type": "execute_result"
    }
   ],
   "source": [
    "peer_grad['income_group'].value_counts(normalize=True)"
   ]
  },
  {
   "cell_type": "code",
   "execution_count": null,
   "id": "6fc5b15d-6e36-47e6-8155-fe37c6cb2639",
   "metadata": {},
   "outputs": [],
   "source": []
  },
  {
   "cell_type": "markdown",
   "id": "c9081261-4a7d-48e1-ac28-dd9efd0c3c29",
   "metadata": {},
   "source": [
    "0-<2.15/Day\n",
    "2.15+/Day"
   ]
  },
  {
   "cell_type": "code",
   "execution_count": 25,
   "id": "f08fdae1-c446-46cf-b134-51a8aca46b2c",
   "metadata": {},
   "outputs": [],
   "source": [
    "boundaries_1 = [0, 2.15,float('inf')]\n",
    "labels_1 = [\"0-<2.15/Day\", \"2.15+/Day\"]"
   ]
  },
  {
   "cell_type": "code",
   "execution_count": 37,
   "id": "0bf3abc4-52d7-495e-b144-f63425149c0e",
   "metadata": {},
   "outputs": [
    {
     "name": "stderr",
     "output_type": "stream",
     "text": [
      "/var/folders/xd/0btgr76j2zxc4__ynw0yhwbm0000gn/T/ipykernel_71511/3264097000.py:1: SettingWithCopyWarning: \n",
      "A value is trying to be set on a copy of a slice from a DataFrame.\n",
      "Try using .loc[row_indexer,col_indexer] = value instead\n",
      "\n",
      "See the caveats in the documentation: https://pandas.pydata.org/pandas-docs/stable/user_guide/indexing.html#returning-a-view-versus-a-copy\n",
      "  peer_grad['income_group_1'] = pd.cut(peer_grad['HH Income + Consumption + Residues/Day (USD_adult_equiv_adj)'], bins=boundaries_1, labels=labels_1, right=False)\n"
     ]
    }
   ],
   "source": [
    "peer_grad['income_group_1'] = pd.cut(peer_grad['HH Income + Consumption + Residues/Day (USD_adult_equiv_adj)'], bins=boundaries_1, labels=labels_1, right=False)"
   ]
  },
  {
   "cell_type": "code",
   "execution_count": 38,
   "id": "21d70471-412b-4d3c-aae8-0d6160ba9c79",
   "metadata": {},
   "outputs": [
    {
     "data": {
      "text/plain": [
       "income_group_1\n",
       "0-<2.15/Day    0.681411\n",
       "2.15+/Day      0.318589\n",
       "Name: proportion, dtype: float64"
      ]
     },
     "execution_count": 38,
     "metadata": {},
     "output_type": "execute_result"
    }
   ],
   "source": [
    "peer_grad['income_group_1'].value_counts(normalize=True)"
   ]
  },
  {
   "cell_type": "code",
   "execution_count": null,
   "id": "c279247b-ac4d-4971-b849-9e2f246a4d2d",
   "metadata": {},
   "outputs": [],
   "source": []
  },
  {
   "cell_type": "code",
   "execution_count": null,
   "id": "7526a1bd-fd69-4a41-8469-0633c620d3a6",
   "metadata": {},
   "outputs": [],
   "source": []
  },
  {
   "cell_type": "code",
   "execution_count": 59,
   "id": "206de88d-fbc8-45c0-a71d-52ae0bfa326f",
   "metadata": {},
   "outputs": [
    {
     "name": "stderr",
     "output_type": "stream",
     "text": [
      "/var/folders/xd/0btgr76j2zxc4__ynw0yhwbm0000gn/T/ipykernel_71511/1083476796.py:1: SettingWithCopyWarning: \n",
      "A value is trying to be set on a copy of a slice from a DataFrame.\n",
      "Try using .loc[row_indexer,col_indexer] = value instead\n",
      "\n",
      "See the caveats in the documentation: https://pandas.pydata.org/pandas-docs/stable/user_guide/indexing.html#returning-a-view-versus-a-copy\n",
      "  peer_grad['income_group_2'] = pd.cut(peer_grad['HH Income + Consumption + Residues/Day (USD_adult_equiv_adj)'], bins=boundaries_2, labels=labels_2, right=False)\n"
     ]
    }
   ],
   "source": [
    "peer_grad['income_group_2'] = pd.cut(peer_grad['HH Income + Consumption + Residues/Day (USD_adult_equiv_adj)'], bins=boundaries_2, labels=labels_2, right=False)"
   ]
  },
  {
   "cell_type": "code",
   "execution_count": 60,
   "id": "c3c5c598-f08c-41ad-9f82-bbf4af1ecc1f",
   "metadata": {},
   "outputs": [
    {
     "data": {
      "text/plain": [
       "income_group_2\n",
       "1.25-<2.15/Day    0.317536\n",
       "0.75-<1.25/Day    0.211164\n",
       "2.5-<3/Day        0.181675\n",
       "0-<0.75/Day       0.152712\n",
       "3+/Day            0.136914\n",
       "Name: proportion, dtype: float64"
      ]
     },
     "execution_count": 60,
     "metadata": {},
     "output_type": "execute_result"
    }
   ],
   "source": [
    "peer_grad['income_group_2'].value_counts(normalize=True)"
   ]
  },
  {
   "cell_type": "code",
   "execution_count": null,
   "id": "ca582bc0-2e7a-457e-8755-6481e059d5ab",
   "metadata": {},
   "outputs": [],
   "source": []
  },
  {
   "cell_type": "code",
   "execution_count": null,
   "id": "edd5c901-6190-4d0f-9a58-ece6889ad28c",
   "metadata": {},
   "outputs": [],
   "source": []
  },
  {
   "cell_type": "code",
   "execution_count": null,
   "id": "4aa39b11-43e9-4a37-9258-edf387ba21a2",
   "metadata": {},
   "outputs": [],
   "source": []
  },
  {
   "cell_type": "markdown",
   "id": "68020141-37c4-4e8d-a2eb-e34614e51a99",
   "metadata": {
    "jp-MarkdownHeadingCollapsed": true
   },
   "source": [
    "# Year one"
   ]
  },
  {
   "cell_type": "code",
   "execution_count": 39,
   "id": "6a2490aa-c239-4645-b5b6-141b5ecd3e4e",
   "metadata": {},
   "outputs": [],
   "source": [
    "peer_grad_y1 = pd.read_excel('ALL2021cohorts.xlsx', sheet_name='All2021ControlYr1',header=5)"
   ]
  },
  {
   "cell_type": "code",
   "execution_count": 122,
   "id": "236636cd-58ed-42a3-af46-7b31499824c0",
   "metadata": {},
   "outputs": [
    {
     "data": {
      "text/plain": [
       "Gender\n",
       "Male      1369\n",
       "Female     524\n",
       "Name: count, dtype: int64"
      ]
     },
     "execution_count": 122,
     "metadata": {},
     "output_type": "execute_result"
    }
   ],
   "source": [
    "peer_grad_y1['Gender'] = peer_grad_y1['hhh_sex'].replace(sex_mapping)\n",
    "peer_grad_y1['Gender'].value_counts()"
   ]
  },
  {
   "cell_type": "code",
   "execution_count": 123,
   "id": "2507c856-5942-42b2-af57-47a05e38f791",
   "metadata": {},
   "outputs": [],
   "source": [
    "peer_grad_y1['Household_Head_Gender'] = peer_grad_y1['Gender']"
   ]
  },
  {
   "cell_type": "code",
   "execution_count": 124,
   "id": "4df74669-338b-44f1-9401-bdf5cf3e3678",
   "metadata": {},
   "outputs": [],
   "source": [
    "peer_grad_y1['Household_Head_Gender'] = peer_grad_y1.apply(lambda row: 'Youth Headed' if row['hhh_age'] < 30 else str(row['Household_Head_Gender']) + ' Headed', axis=1)"
   ]
  },
  {
   "cell_type": "code",
   "execution_count": 125,
   "id": "fa84d72d-e4c2-4909-942b-8573936b7bc7",
   "metadata": {},
   "outputs": [
    {
     "data": {
      "text/plain": [
       "Household_Head_Gender\n",
       "Male Headed      1200\n",
       "Female Headed     496\n",
       "Youth Headed      197\n",
       "Name: count, dtype: int64"
      ]
     },
     "execution_count": 125,
     "metadata": {},
     "output_type": "execute_result"
    }
   ],
   "source": [
    "peer_grad_y1['Household_Head_Gender'].value_counts()"
   ]
  },
  {
   "cell_type": "code",
   "execution_count": 126,
   "id": "3309f91e-c5ee-4f03-a742-e8c33ac4acb1",
   "metadata": {},
   "outputs": [
    {
     "data": {
      "text/html": [
       "<div>\n",
       "<style scoped>\n",
       "    .dataframe tbody tr th:only-of-type {\n",
       "        vertical-align: middle;\n",
       "    }\n",
       "\n",
       "    .dataframe tbody tr th {\n",
       "        vertical-align: top;\n",
       "    }\n",
       "\n",
       "    .dataframe thead th {\n",
       "        text-align: right;\n",
       "    }\n",
       "</style>\n",
       "<table border=\"1\" class=\"dataframe\">\n",
       "  <thead>\n",
       "    <tr style=\"text-align: right;\">\n",
       "      <th></th>\n",
       "      <th>HH Income/Day (USD_adult_equiv_adj)</th>\n",
       "      <th>HH Income + Consumption + Residues/Day (USD_adult_equiv_adj)</th>\n",
       "    </tr>\n",
       "    <tr>\n",
       "      <th>Household_Head_Gender</th>\n",
       "      <th></th>\n",
       "      <th></th>\n",
       "    </tr>\n",
       "  </thead>\n",
       "  <tbody>\n",
       "    <tr>\n",
       "      <th>Female Headed</th>\n",
       "      <td>0.886557</td>\n",
       "      <td>1.587980</td>\n",
       "    </tr>\n",
       "    <tr>\n",
       "      <th>Male Headed</th>\n",
       "      <td>1.116796</td>\n",
       "      <td>1.802425</td>\n",
       "    </tr>\n",
       "    <tr>\n",
       "      <th>Youth Headed</th>\n",
       "      <td>1.235355</td>\n",
       "      <td>1.970656</td>\n",
       "    </tr>\n",
       "  </tbody>\n",
       "</table>\n",
       "</div>"
      ],
      "text/plain": [
       "                       HH Income/Day (USD_adult_equiv_adj)  \\\n",
       "Household_Head_Gender                                        \n",
       "Female Headed                                     0.886557   \n",
       "Male Headed                                       1.116796   \n",
       "Youth Headed                                      1.235355   \n",
       "\n",
       "                       HH Income + Consumption + Residues/Day (USD_adult_equiv_adj)  \n",
       "Household_Head_Gender                                                                \n",
       "Female Headed                                                   1.587980             \n",
       "Male Headed                                                     1.802425             \n",
       "Youth Headed                                                    1.970656             "
      ]
     },
     "execution_count": 126,
     "metadata": {},
     "output_type": "execute_result"
    }
   ],
   "source": [
    "peer_grad_y1.groupby('Household_Head_Gender')[['HH Income/Day (USD_adult_equiv_adj)','HH Income + Consumption + Residues/Day (USD_adult_equiv_adj)']].mean()"
   ]
  },
  {
   "cell_type": "code",
   "execution_count": 127,
   "id": "b478bbf0-4c05-43c7-b2de-98cad8a30877",
   "metadata": {},
   "outputs": [
    {
     "data": {
      "text/html": [
       "<div>\n",
       "<style scoped>\n",
       "    .dataframe tbody tr th:only-of-type {\n",
       "        vertical-align: middle;\n",
       "    }\n",
       "\n",
       "    .dataframe tbody tr th {\n",
       "        vertical-align: top;\n",
       "    }\n",
       "\n",
       "    .dataframe thead th {\n",
       "        text-align: right;\n",
       "    }\n",
       "</style>\n",
       "<table border=\"1\" class=\"dataframe\">\n",
       "  <thead>\n",
       "    <tr style=\"text-align: right;\">\n",
       "      <th></th>\n",
       "      <th>HH Income/Day (USD_adult_equiv_adj)</th>\n",
       "      <th>HH Income + Consumption + Residues/Day (USD_adult_equiv_adj)</th>\n",
       "    </tr>\n",
       "    <tr>\n",
       "      <th>Household_Head_Gender</th>\n",
       "      <th></th>\n",
       "      <th></th>\n",
       "    </tr>\n",
       "  </thead>\n",
       "  <tbody>\n",
       "    <tr>\n",
       "      <th>Female Headed</th>\n",
       "      <td>0.598974</td>\n",
       "      <td>1.228293</td>\n",
       "    </tr>\n",
       "    <tr>\n",
       "      <th>Male Headed</th>\n",
       "      <td>0.727223</td>\n",
       "      <td>1.340883</td>\n",
       "    </tr>\n",
       "    <tr>\n",
       "      <th>Youth Headed</th>\n",
       "      <td>0.884135</td>\n",
       "      <td>1.563892</td>\n",
       "    </tr>\n",
       "  </tbody>\n",
       "</table>\n",
       "</div>"
      ],
      "text/plain": [
       "                       HH Income/Day (USD_adult_equiv_adj)  \\\n",
       "Household_Head_Gender                                        \n",
       "Female Headed                                     0.598974   \n",
       "Male Headed                                       0.727223   \n",
       "Youth Headed                                      0.884135   \n",
       "\n",
       "                       HH Income + Consumption + Residues/Day (USD_adult_equiv_adj)  \n",
       "Household_Head_Gender                                                                \n",
       "Female Headed                                                   1.228293             \n",
       "Male Headed                                                     1.340883             \n",
       "Youth Headed                                                    1.563892             "
      ]
     },
     "execution_count": 127,
     "metadata": {},
     "output_type": "execute_result"
    }
   ],
   "source": [
    "peer_grad_y1.groupby('Household_Head_Gender')[['HH Income/Day (USD_adult_equiv_adj)',\n",
    "                                     'HH Income + Consumption + Residues/Day (USD_adult_equiv_adj)']].median()"
   ]
  },
  {
   "cell_type": "code",
   "execution_count": 82,
   "id": "537a24c7-2714-47c6-80c8-15e7f8af55d8",
   "metadata": {},
   "outputs": [
    {
     "data": {
      "text/plain": [
       "(1.0688074882256249, 0.7041784240993112)"
      ]
     },
     "execution_count": 82,
     "metadata": {},
     "output_type": "execute_result"
    }
   ],
   "source": [
    "peer_grad_y1['HH Income/Day (USD_adult_equiv_adj)'].mean(), peer_grad_y1['HH Income/Day (USD_adult_equiv_adj)'].median()"
   ]
  },
  {
   "cell_type": "code",
   "execution_count": 76,
   "id": "e91b46e6-9ddf-4200-80d2-3c4928ca2fe7",
   "metadata": {},
   "outputs": [
    {
     "data": {
      "text/plain": [
       "(1.7637438616537733, 1.3416400889471705)"
      ]
     },
     "execution_count": 76,
     "metadata": {},
     "output_type": "execute_result"
    }
   ],
   "source": [
    "peer_grad_y1['HH Income + Consumption + Residues/Day (USD_adult_equiv_adj)'].mean(), peer_grad_y1['HH Income + Consumption + Residues/Day (USD_adult_equiv_adj)'].median()"
   ]
  },
  {
   "cell_type": "code",
   "execution_count": null,
   "id": "b97b75a6-a8db-4956-8ea4-b51c3626d60e",
   "metadata": {},
   "outputs": [],
   "source": []
  },
  {
   "cell_type": "code",
   "execution_count": null,
   "id": "668e1bae-31e6-4f71-a9ba-ac766bbe6a73",
   "metadata": {},
   "outputs": [],
   "source": []
  },
  {
   "cell_type": "code",
   "execution_count": null,
   "id": "956851f5-9273-4c44-833b-44ac3d18b56e",
   "metadata": {},
   "outputs": [],
   "source": []
  },
  {
   "cell_type": "code",
   "execution_count": 21,
   "id": "d6e8a9b6-2439-4578-8d70-d6bf073b0930",
   "metadata": {},
   "outputs": [],
   "source": [
    "boundaries = [0, 0.75, 1.25, 2, 3, float('inf')]\n",
    "labels = [\"0-<0.75/Day\", \"0.75-<1.25/Day\", \"1.25-<2/Day\", \"2-<3/Day\", \"3+/Day\"]"
   ]
  },
  {
   "cell_type": "code",
   "execution_count": 40,
   "id": "4b5a6858-b74d-40a0-bab7-074a0f7a7ca0",
   "metadata": {},
   "outputs": [],
   "source": [
    "peer_grad_y1['income_group'] = pd.cut(peer_grad_y1['HH Income + Consumption + Residues/Day (USD_adult_equiv_adj)'], bins=boundaries, labels=labels, right=False)"
   ]
  },
  {
   "cell_type": "code",
   "execution_count": 41,
   "id": "a1a040b9-3fcf-4f57-b53a-85254a877057",
   "metadata": {},
   "outputs": [
    {
     "data": {
      "text/plain": [
       "income_group\n",
       "1.25-<2/Day       0.266772\n",
       "0.75-<1.25/Day    0.250924\n",
       "0-<0.75/Day       0.208663\n",
       "2-<3/Day          0.151083\n",
       "3+/Day            0.122557\n",
       "Name: proportion, dtype: float64"
      ]
     },
     "execution_count": 41,
     "metadata": {},
     "output_type": "execute_result"
    }
   ],
   "source": [
    "peer_grad_y1['income_group'].value_counts(normalize=True)"
   ]
  },
  {
   "cell_type": "code",
   "execution_count": null,
   "id": "5b87998a-1e62-4b6e-b93a-d556d2492c83",
   "metadata": {},
   "outputs": [],
   "source": []
  },
  {
   "cell_type": "markdown",
   "id": "483ee45d-4283-4efc-a7c8-ee72c82afbf0",
   "metadata": {},
   "source": [
    "0-<2.15/Day\n",
    "2.15+/Day"
   ]
  },
  {
   "cell_type": "code",
   "execution_count": 25,
   "id": "805cd593-624a-4e14-b976-2f5a0a124e31",
   "metadata": {},
   "outputs": [],
   "source": [
    "boundaries_1 = [0, 2.15,float('inf')]\n",
    "labels_1 = [\"0-<2.15/Day\", \"2.15+/Day\"]"
   ]
  },
  {
   "cell_type": "code",
   "execution_count": 42,
   "id": "47c70d42-4679-489c-a65d-a1439aaf0fd8",
   "metadata": {},
   "outputs": [],
   "source": [
    "peer_grad_y1['income_group_1'] = pd.cut(peer_grad_y1['HH Income + Consumption + Residues/Day (USD_adult_equiv_adj)'], bins=boundaries_1, labels=labels_1, right=False)"
   ]
  },
  {
   "cell_type": "code",
   "execution_count": 43,
   "id": "96b99c04-7852-49cc-aec2-3a9bc01b0500",
   "metadata": {},
   "outputs": [
    {
     "data": {
      "text/plain": [
       "income_group_1\n",
       "0-<2.15/Day    0.755415\n",
       "2.15+/Day      0.244585\n",
       "Name: proportion, dtype: float64"
      ]
     },
     "execution_count": 43,
     "metadata": {},
     "output_type": "execute_result"
    }
   ],
   "source": [
    "peer_grad_y1['income_group_1'].value_counts(normalize=True)"
   ]
  },
  {
   "cell_type": "code",
   "execution_count": null,
   "id": "9cba26a9-496a-4303-ab5e-e5736a986e33",
   "metadata": {},
   "outputs": [],
   "source": []
  },
  {
   "cell_type": "code",
   "execution_count": null,
   "id": "6a3bed86-c113-4c20-a3ca-820ab4236c15",
   "metadata": {},
   "outputs": [],
   "source": []
  },
  {
   "cell_type": "code",
   "execution_count": 61,
   "id": "da840be2-f312-4a2e-a07d-34b3733d6d54",
   "metadata": {},
   "outputs": [],
   "source": [
    "peer_grad_y1['income_group_2'] = pd.cut(peer_grad_y1['HH Income + Consumption + Residues/Day (USD_adult_equiv_adj)'], bins=boundaries_2, labels=labels_2, right=False)"
   ]
  },
  {
   "cell_type": "code",
   "execution_count": 62,
   "id": "2d0d5d95-27f4-42b1-ab48-509cf3062ce7",
   "metadata": {},
   "outputs": [
    {
     "data": {
      "text/plain": [
       "income_group_2\n",
       "1.25-<2.15/Day    0.295827\n",
       "0.75-<1.25/Day    0.250924\n",
       "0-<0.75/Day       0.208663\n",
       "3+/Day            0.122557\n",
       "2.5-<3/Day        0.122029\n",
       "Name: proportion, dtype: float64"
      ]
     },
     "execution_count": 62,
     "metadata": {},
     "output_type": "execute_result"
    }
   ],
   "source": [
    "peer_grad_y1['income_group_2'].value_counts(normalize=True)"
   ]
  },
  {
   "cell_type": "code",
   "execution_count": null,
   "id": "b60ceff8-18df-4161-9d25-61ef0f92777c",
   "metadata": {},
   "outputs": [],
   "source": []
  },
  {
   "cell_type": "code",
   "execution_count": null,
   "id": "4859615f-4121-409b-99dd-3f49d24abb63",
   "metadata": {},
   "outputs": [],
   "source": []
  },
  {
   "cell_type": "code",
   "execution_count": null,
   "id": "f85853ce-6c25-4cb0-9d10-31caeb057a14",
   "metadata": {},
   "outputs": [],
   "source": []
  },
  {
   "cell_type": "markdown",
   "id": "09ab4983-2632-4bec-9a93-66a038121594",
   "metadata": {
    "jp-MarkdownHeadingCollapsed": true
   },
   "source": [
    "# Baseline"
   ]
  },
  {
   "cell_type": "code",
   "execution_count": 44,
   "id": "7e72590e-3f0b-4599-a3b0-7ed29edd33ed",
   "metadata": {},
   "outputs": [],
   "source": [
    "base_peer = pd.read_excel('ALL2021cohorts.xlsx', sheet_name='All2021ControlBaseline',header=5)\n",
    "rub_base_peer = pd.read_excel('ALL2021cohorts.xlsx', sheet_name='Rubanda2021Control_Base',header=5)"
   ]
  },
  {
   "cell_type": "code",
   "execution_count": 74,
   "id": "26116182-9873-437f-a4ea-827d3807117a",
   "metadata": {},
   "outputs": [
    {
     "data": {
      "text/plain": [
       "(1241, 4280)"
      ]
     },
     "execution_count": 74,
     "metadata": {},
     "output_type": "execute_result"
    }
   ],
   "source": [
    "base_peer.shape"
   ]
  },
  {
   "cell_type": "code",
   "execution_count": 75,
   "id": "e57fd5b8-3567-4c05-b5ea-d2e07d54b630",
   "metadata": {},
   "outputs": [
    {
     "data": {
      "text/plain": [
       "(710, 4493)"
      ]
     },
     "execution_count": 75,
     "metadata": {},
     "output_type": "execute_result"
    }
   ],
   "source": [
    "rub_base_peer.shape"
   ]
  },
  {
   "cell_type": "markdown",
   "id": "243e86e5-dda2-469f-931b-2582de2edaff",
   "metadata": {},
   "source": [
    "## Income"
   ]
  },
  {
   "cell_type": "code",
   "execution_count": 82,
   "id": "5d068135-333b-444b-845d-4f24fbe59d3d",
   "metadata": {},
   "outputs": [],
   "source": [
    "not_rub_peer = np.array(base_peer['HH Income/Day (USD_adult_equiv_adj)'])"
   ]
  },
  {
   "cell_type": "code",
   "execution_count": 83,
   "id": "4d0599e0-f8b6-44f1-8992-333d30482de2",
   "metadata": {},
   "outputs": [],
   "source": [
    "rub_peer = np.array(rub_base_peer['HH Income/Day (USD_adult_equiv_adj)'])"
   ]
  },
  {
   "cell_type": "code",
   "execution_count": 84,
   "id": "e79b3c79-1193-4c28-849c-27688a8f7485",
   "metadata": {},
   "outputs": [
    {
     "data": {
      "text/plain": [
       "0.9674011587096087"
      ]
     },
     "execution_count": 84,
     "metadata": {},
     "output_type": "execute_result"
    }
   ],
   "source": [
    "base_income_peer = np.concatenate([rub_peer, not_rub_peer])\n",
    "base_income_peer.mean()"
   ]
  },
  {
   "cell_type": "code",
   "execution_count": 87,
   "id": "a5ca9ff9-fe62-4e83-ad55-2ea6e680526a",
   "metadata": {},
   "outputs": [
    {
     "data": {
      "text/plain": [
       "(0.9674011587096087, 0.7699375968395449)"
      ]
     },
     "execution_count": 87,
     "metadata": {},
     "output_type": "execute_result"
    }
   ],
   "source": [
    "base_peer['HH Income/Day (USD_adult_equiv_adj)'].mean(), base_peer['HH Income/Day (USD_adult_equiv_adj)'].median()"
   ]
  },
  {
   "cell_type": "code",
   "execution_count": null,
   "id": "f58a7d22-a0b5-4e91-938e-9ef4c372df10",
   "metadata": {},
   "outputs": [],
   "source": []
  },
  {
   "cell_type": "markdown",
   "id": "78f698f0-63ed-4b96-8f97-51e3ee73c4d9",
   "metadata": {},
   "source": [
    "Income and production"
   ]
  },
  {
   "cell_type": "code",
   "execution_count": 46,
   "id": "088c9e87-b7fa-46d8-8f3e-093b32927c6d",
   "metadata": {},
   "outputs": [],
   "source": [
    "prod_not_rub_ = np.array(base_peer['HH Income + Consumption + Residues/Day (USD_adult_equiv_adj)'])"
   ]
  },
  {
   "cell_type": "code",
   "execution_count": 47,
   "id": "fa4ac921-43e3-40c7-8345-64653ffadb1d",
   "metadata": {},
   "outputs": [],
   "source": [
    "prod_rub_ = np.array(rub_base_peer['HH Income + Consumption + Residues/Day (USD_adult_equiv_adj)'])"
   ]
  },
  {
   "cell_type": "code",
   "execution_count": 129,
   "id": "678c2dd6-0433-4d9b-908a-e6abf08c8ea8",
   "metadata": {},
   "outputs": [
    {
     "data": {
      "text/plain": [
       "1.620533365795722"
      ]
     },
     "execution_count": 129,
     "metadata": {},
     "output_type": "execute_result"
    }
   ],
   "source": [
    "base_income_production = np.concatenate([prod_rub_, prod_not_rub_])\n",
    "base_income_production.mean()"
   ]
  },
  {
   "cell_type": "code",
   "execution_count": 128,
   "id": "fd52ae89-69c5-4f23-8174-2eefe1946cf3",
   "metadata": {},
   "outputs": [
    {
     "data": {
      "text/plain": [
       "((1951, 2), (710, 4488))"
      ]
     },
     "execution_count": 128,
     "metadata": {},
     "output_type": "execute_result"
    }
   ],
   "source": [
    "base_peer.shape, rub_base_peer.shape"
   ]
  },
  {
   "cell_type": "code",
   "execution_count": 45,
   "id": "069fdf17-e347-4a72-8a0c-1213f9aa5b63",
   "metadata": {},
   "outputs": [],
   "source": [
    "base_peer = pd.concat([base_peer[['hhh_sex','hhh_age','HH Income/Day (USD_adult_equiv_adj)','HH Income + Consumption + Residues/Day (USD_adult_equiv_adj)']],\n",
    "               rub_base_peer[['hhh_sex','hhh_age','HH Income/Day (USD_adult_equiv_adj)','HH Income + Consumption + Residues/Day (USD_adult_equiv_adj)']]])"
   ]
  },
  {
   "cell_type": "code",
   "execution_count": 146,
   "id": "149da43d-8528-4f34-8666-5bf8d43ecbe5",
   "metadata": {},
   "outputs": [
    {
     "data": {
      "text/html": [
       "<div>\n",
       "<style scoped>\n",
       "    .dataframe tbody tr th:only-of-type {\n",
       "        vertical-align: middle;\n",
       "    }\n",
       "\n",
       "    .dataframe tbody tr th {\n",
       "        vertical-align: top;\n",
       "    }\n",
       "\n",
       "    .dataframe thead th {\n",
       "        text-align: right;\n",
       "    }\n",
       "</style>\n",
       "<table border=\"1\" class=\"dataframe\">\n",
       "  <thead>\n",
       "    <tr style=\"text-align: right;\">\n",
       "      <th></th>\n",
       "      <th>hhh_sex</th>\n",
       "      <th>hhh_age</th>\n",
       "      <th>HH Income/Day (USD_adult_equiv_adj)</th>\n",
       "      <th>HH Income + Consumption + Residues/Day (USD_adult_equiv_adj)</th>\n",
       "    </tr>\n",
       "  </thead>\n",
       "  <tbody>\n",
       "    <tr>\n",
       "      <th>0</th>\n",
       "      <td>1</td>\n",
       "      <td>58</td>\n",
       "      <td>0.215799</td>\n",
       "      <td>0.443370</td>\n",
       "    </tr>\n",
       "    <tr>\n",
       "      <th>1</th>\n",
       "      <td>1</td>\n",
       "      <td>27</td>\n",
       "      <td>0.290348</td>\n",
       "      <td>0.497341</td>\n",
       "    </tr>\n",
       "    <tr>\n",
       "      <th>2</th>\n",
       "      <td>1</td>\n",
       "      <td>70</td>\n",
       "      <td>0.293836</td>\n",
       "      <td>0.543204</td>\n",
       "    </tr>\n",
       "    <tr>\n",
       "      <th>3</th>\n",
       "      <td>1</td>\n",
       "      <td>78</td>\n",
       "      <td>0.360799</td>\n",
       "      <td>0.573547</td>\n",
       "    </tr>\n",
       "    <tr>\n",
       "      <th>4</th>\n",
       "      <td>2</td>\n",
       "      <td>36</td>\n",
       "      <td>0.302555</td>\n",
       "      <td>0.573721</td>\n",
       "    </tr>\n",
       "  </tbody>\n",
       "</table>\n",
       "</div>"
      ],
      "text/plain": [
       "   hhh_sex  hhh_age  HH Income/Day (USD_adult_equiv_adj)  \\\n",
       "0        1       58                             0.215799   \n",
       "1        1       27                             0.290348   \n",
       "2        1       70                             0.293836   \n",
       "3        1       78                             0.360799   \n",
       "4        2       36                             0.302555   \n",
       "\n",
       "   HH Income + Consumption + Residues/Day (USD_adult_equiv_adj)  \n",
       "0                                           0.443370             \n",
       "1                                           0.497341             \n",
       "2                                           0.543204             \n",
       "3                                           0.573547             \n",
       "4                                           0.573721             "
      ]
     },
     "execution_count": 146,
     "metadata": {},
     "output_type": "execute_result"
    }
   ],
   "source": [
    "base_peer.head()"
   ]
  },
  {
   "cell_type": "code",
   "execution_count": null,
   "id": "c7e985e3-fcfb-4867-badc-e0d5c171232d",
   "metadata": {},
   "outputs": [],
   "source": []
  },
  {
   "cell_type": "code",
   "execution_count": 89,
   "id": "2487fea8-3b9e-4396-847f-25e1fd7771ce",
   "metadata": {},
   "outputs": [
    {
     "data": {
      "text/plain": [
       "Gender\n",
       "Male      1479\n",
       "Female     472\n",
       "Name: count, dtype: int64"
      ]
     },
     "execution_count": 89,
     "metadata": {},
     "output_type": "execute_result"
    }
   ],
   "source": [
    "base_peer['Gender'] = base_peer['hhh_sex'].replace(sex_mapping)\n",
    "base_peer['Gender'].value_counts()"
   ]
  },
  {
   "cell_type": "code",
   "execution_count": 90,
   "id": "2b861a53-d5ac-4073-b22f-b9eaeb6ffdea",
   "metadata": {},
   "outputs": [],
   "source": [
    "base_peer['Household_Head_Gender'] = base_peer['Gender']"
   ]
  },
  {
   "cell_type": "code",
   "execution_count": 91,
   "id": "13e712fa-69db-443b-96d8-ce7baf2cbea0",
   "metadata": {},
   "outputs": [],
   "source": [
    "base_peer['Household_Head_Gender'] = base_peer.apply(lambda row: 'Youth Headed' if row['hhh_age'] < 30 else str(row['Household_Head_Gender']) + ' Headed', axis=1)"
   ]
  },
  {
   "cell_type": "code",
   "execution_count": 92,
   "id": "e455672d-2ff7-457d-9f70-c3a2f2044482",
   "metadata": {},
   "outputs": [
    {
     "data": {
      "text/plain": [
       "Household_Head_Gender\n",
       "Male Headed      1260\n",
       "Female Headed     453\n",
       "Youth Headed      238\n",
       "Name: count, dtype: int64"
      ]
     },
     "execution_count": 92,
     "metadata": {},
     "output_type": "execute_result"
    }
   ],
   "source": [
    "base_peer['Household_Head_Gender'].value_counts()"
   ]
  },
  {
   "cell_type": "code",
   "execution_count": 93,
   "id": "25e60029-3957-4f6f-8866-1cb18034b82d",
   "metadata": {},
   "outputs": [
    {
     "data": {
      "text/html": [
       "<div>\n",
       "<style scoped>\n",
       "    .dataframe tbody tr th:only-of-type {\n",
       "        vertical-align: middle;\n",
       "    }\n",
       "\n",
       "    .dataframe tbody tr th {\n",
       "        vertical-align: top;\n",
       "    }\n",
       "\n",
       "    .dataframe thead th {\n",
       "        text-align: right;\n",
       "    }\n",
       "</style>\n",
       "<table border=\"1\" class=\"dataframe\">\n",
       "  <thead>\n",
       "    <tr style=\"text-align: right;\">\n",
       "      <th></th>\n",
       "      <th>HH Income/Day (USD_adult_equiv_adj)</th>\n",
       "      <th>HH Income + Consumption + Residues/Day (USD_adult_equiv_adj)</th>\n",
       "    </tr>\n",
       "    <tr>\n",
       "      <th>Household_Head_Gender</th>\n",
       "      <th></th>\n",
       "      <th></th>\n",
       "    </tr>\n",
       "  </thead>\n",
       "  <tbody>\n",
       "    <tr>\n",
       "      <th>Female Headed</th>\n",
       "      <td>0.859761</td>\n",
       "      <td>1.525616</td>\n",
       "    </tr>\n",
       "    <tr>\n",
       "      <th>Male Headed</th>\n",
       "      <td>0.964693</td>\n",
       "      <td>1.613478</td>\n",
       "    </tr>\n",
       "    <tr>\n",
       "      <th>Youth Headed</th>\n",
       "      <td>1.186615</td>\n",
       "      <td>1.838549</td>\n",
       "    </tr>\n",
       "  </tbody>\n",
       "</table>\n",
       "</div>"
      ],
      "text/plain": [
       "                       HH Income/Day (USD_adult_equiv_adj)  \\\n",
       "Household_Head_Gender                                        \n",
       "Female Headed                                     0.859761   \n",
       "Male Headed                                       0.964693   \n",
       "Youth Headed                                      1.186615   \n",
       "\n",
       "                       HH Income + Consumption + Residues/Day (USD_adult_equiv_adj)  \n",
       "Household_Head_Gender                                                                \n",
       "Female Headed                                                   1.525616             \n",
       "Male Headed                                                     1.613478             \n",
       "Youth Headed                                                    1.838549             "
      ]
     },
     "execution_count": 93,
     "metadata": {},
     "output_type": "execute_result"
    }
   ],
   "source": [
    "base_peer.groupby('Household_Head_Gender')[['HH Income/Day (USD_adult_equiv_adj)','HH Income + Consumption + Residues/Day (USD_adult_equiv_adj)']].mean()"
   ]
  },
  {
   "cell_type": "code",
   "execution_count": 152,
   "id": "059255b8-0a53-4186-bf98-5e9985b454ae",
   "metadata": {},
   "outputs": [
    {
     "data": {
      "text/html": [
       "<div>\n",
       "<style scoped>\n",
       "    .dataframe tbody tr th:only-of-type {\n",
       "        vertical-align: middle;\n",
       "    }\n",
       "\n",
       "    .dataframe tbody tr th {\n",
       "        vertical-align: top;\n",
       "    }\n",
       "\n",
       "    .dataframe thead th {\n",
       "        text-align: right;\n",
       "    }\n",
       "</style>\n",
       "<table border=\"1\" class=\"dataframe\">\n",
       "  <thead>\n",
       "    <tr style=\"text-align: right;\">\n",
       "      <th></th>\n",
       "      <th>HH Income/Day (USD_adult_equiv_adj)</th>\n",
       "      <th>HH Income + Consumption + Residues/Day (USD_adult_equiv_adj)</th>\n",
       "    </tr>\n",
       "    <tr>\n",
       "      <th>Household_Head_Gender</th>\n",
       "      <th></th>\n",
       "      <th></th>\n",
       "    </tr>\n",
       "  </thead>\n",
       "  <tbody>\n",
       "    <tr>\n",
       "      <th>Female Headed</th>\n",
       "      <td>0.725275</td>\n",
       "      <td>1.268257</td>\n",
       "    </tr>\n",
       "    <tr>\n",
       "      <th>Male Headed</th>\n",
       "      <td>0.747561</td>\n",
       "      <td>1.274203</td>\n",
       "    </tr>\n",
       "    <tr>\n",
       "      <th>Youth Headed</th>\n",
       "      <td>1.070241</td>\n",
       "      <td>1.631893</td>\n",
       "    </tr>\n",
       "  </tbody>\n",
       "</table>\n",
       "</div>"
      ],
      "text/plain": [
       "                       HH Income/Day (USD_adult_equiv_adj)  \\\n",
       "Household_Head_Gender                                        \n",
       "Female Headed                                     0.725275   \n",
       "Male Headed                                       0.747561   \n",
       "Youth Headed                                      1.070241   \n",
       "\n",
       "                       HH Income + Consumption + Residues/Day (USD_adult_equiv_adj)  \n",
       "Household_Head_Gender                                                                \n",
       "Female Headed                                                   1.268257             \n",
       "Male Headed                                                     1.274203             \n",
       "Youth Headed                                                    1.631893             "
      ]
     },
     "execution_count": 152,
     "metadata": {},
     "output_type": "execute_result"
    }
   ],
   "source": [
    "base_peer.groupby('Household_Head_Gender')[['HH Income/Day (USD_adult_equiv_adj)',\n",
    "                                     'HH Income + Consumption + Residues/Day (USD_adult_equiv_adj)']].median()"
   ]
  },
  {
   "cell_type": "code",
   "execution_count": 80,
   "id": "69551131-0167-433e-869a-9281f6dd6094",
   "metadata": {},
   "outputs": [
    {
     "data": {
      "text/plain": [
       "(1.9436957903052967, 1.6217652665883164)"
      ]
     },
     "execution_count": 80,
     "metadata": {},
     "output_type": "execute_result"
    }
   ],
   "source": [
    "base_peer['HH Income + Consumption + Residues/Day (USD_adult_equiv_adj)'].mean(), base_peer['HH Income + Consumption + Residues/Day (USD_adult_equiv_adj)'].median()"
   ]
  },
  {
   "cell_type": "code",
   "execution_count": 58,
   "id": "f64ee755-48f2-49c9-8c11-04b8a6634a77",
   "metadata": {},
   "outputs": [],
   "source": [
    "base_peer.to_excel(\"base_peer.xlsx\")"
   ]
  },
  {
   "cell_type": "code",
   "execution_count": null,
   "id": "c5e6a3ea-6c77-418f-9ae5-9f4253995a8b",
   "metadata": {},
   "outputs": [],
   "source": []
  },
  {
   "cell_type": "code",
   "execution_count": null,
   "id": "b91738d2-e788-407e-9139-5e7b83c32aa4",
   "metadata": {},
   "outputs": [],
   "source": []
  },
  {
   "cell_type": "code",
   "execution_count": null,
   "id": "492c01e9-c56d-4c11-a5dc-a770e21e70e9",
   "metadata": {},
   "outputs": [],
   "source": []
  },
  {
   "cell_type": "code",
   "execution_count": 21,
   "id": "c1909bfd-a4e4-48ff-b447-c9900c945022",
   "metadata": {},
   "outputs": [],
   "source": [
    "boundaries = [0, 0.75, 1.25, 2, 3, float('inf')]\n",
    "labels = [\"0-<0.75/Day\", \"0.75-<1.25/Day\", \"1.25-<2/Day\", \"2-<3/Day\", \"3+/Day\"]"
   ]
  },
  {
   "cell_type": "code",
   "execution_count": 46,
   "id": "fc105e58-1f6a-426d-9a21-30109ec89dc0",
   "metadata": {},
   "outputs": [],
   "source": [
    "base_peer['income_group'] = pd.cut(base_peer['HH Income + Consumption + Residues/Day (USD_adult_equiv_adj)'], bins=boundaries, labels=labels, right=False)"
   ]
  },
  {
   "cell_type": "code",
   "execution_count": 47,
   "id": "65d6d4c1-445a-448b-8056-53c5f0a8f0c5",
   "metadata": {},
   "outputs": [
    {
     "data": {
      "text/plain": [
       "income_group\n",
       "0.75-<1.25/Day    0.303947\n",
       "1.25-<2/Day       0.285495\n",
       "0-<0.75/Day       0.162993\n",
       "2-<3/Day          0.154280\n",
       "3+/Day            0.093285\n",
       "Name: proportion, dtype: float64"
      ]
     },
     "execution_count": 47,
     "metadata": {},
     "output_type": "execute_result"
    }
   ],
   "source": [
    "base_peer['income_group'].value_counts(normalize=True)"
   ]
  },
  {
   "cell_type": "code",
   "execution_count": null,
   "id": "945e556c-d433-4bb3-8f65-a7eecc7eddee",
   "metadata": {},
   "outputs": [],
   "source": []
  },
  {
   "cell_type": "markdown",
   "id": "7cb82823-dda4-4775-a097-4c3d8ad71b01",
   "metadata": {},
   "source": [
    "0-<2.15/Day\n",
    "2.15+/Day"
   ]
  },
  {
   "cell_type": "code",
   "execution_count": 25,
   "id": "b4c7aa03-5f23-4c5a-b23e-e164c69478c6",
   "metadata": {},
   "outputs": [],
   "source": [
    "boundaries_1 = [0, 2.15,float('inf')]\n",
    "labels_1 = [\"0-<2.15/Day\", \"2.15+/Day\"]"
   ]
  },
  {
   "cell_type": "code",
   "execution_count": 48,
   "id": "f16387ab-79d3-4883-b73b-3e81b218df76",
   "metadata": {},
   "outputs": [],
   "source": [
    "base_peer['income_group_1'] = pd.cut(base_peer['HH Income + Consumption + Residues/Day (USD_adult_equiv_adj)'], bins=boundaries_1, labels=labels_1, right=False)"
   ]
  },
  {
   "cell_type": "code",
   "execution_count": 49,
   "id": "c0edb483-cc43-4013-8c42-23e6eeaa4241",
   "metadata": {},
   "outputs": [
    {
     "data": {
      "text/plain": [
       "income_group_1\n",
       "0-<2.15/Day    0.783701\n",
       "2.15+/Day      0.216299\n",
       "Name: proportion, dtype: float64"
      ]
     },
     "execution_count": 49,
     "metadata": {},
     "output_type": "execute_result"
    }
   ],
   "source": [
    "base_peer['income_group_1'].value_counts(normalize=True)"
   ]
  },
  {
   "cell_type": "code",
   "execution_count": null,
   "id": "8c87b6c9-a6f3-4d9b-a3f6-3b4451915a77",
   "metadata": {},
   "outputs": [],
   "source": []
  },
  {
   "cell_type": "code",
   "execution_count": null,
   "id": "554e2e38-d632-4a42-ac9f-128f00a79af9",
   "metadata": {},
   "outputs": [],
   "source": []
  },
  {
   "cell_type": "code",
   "execution_count": null,
   "id": "fa1fb2ae-3aee-4076-9b59-7c24840ca456",
   "metadata": {},
   "outputs": [],
   "source": []
  },
  {
   "cell_type": "code",
   "execution_count": 63,
   "id": "5455265c-aa70-4083-865b-8a67582e51c3",
   "metadata": {},
   "outputs": [],
   "source": [
    "base_peer['income_group_2'] = pd.cut(base_peer['HH Income + Consumption + Residues/Day (USD_adult_equiv_adj)'], bins=boundaries_2, labels=labels_2, right=False)"
   ]
  },
  {
   "cell_type": "code",
   "execution_count": 64,
   "id": "24fce7fd-2857-476f-baf1-a2a603d66017",
   "metadata": {},
   "outputs": [
    {
     "data": {
      "text/plain": [
       "income_group_2\n",
       "1.25-<2.15/Day    0.316761\n",
       "0.75-<1.25/Day    0.303947\n",
       "0-<0.75/Day       0.162993\n",
       "2.5-<3/Day        0.123014\n",
       "3+/Day            0.093285\n",
       "Name: proportion, dtype: float64"
      ]
     },
     "execution_count": 64,
     "metadata": {},
     "output_type": "execute_result"
    }
   ],
   "source": [
    "base_peer['income_group_2'].value_counts(normalize=True)"
   ]
  },
  {
   "cell_type": "code",
   "execution_count": null,
   "id": "63756869-7198-4aeb-a438-24eacc6c8d88",
   "metadata": {},
   "outputs": [],
   "source": []
  },
  {
   "cell_type": "code",
   "execution_count": null,
   "id": "32b3ebbb-4a88-4b8b-b3ce-d4496c88e3c5",
   "metadata": {},
   "outputs": [],
   "source": []
  },
  {
   "cell_type": "code",
   "execution_count": null,
   "id": "b88c4282-796b-4d5f-92f4-3d3971381578",
   "metadata": {},
   "outputs": [],
   "source": []
  }
 ],
 "metadata": {
  "kernelspec": {
   "display_name": "Python 3 (ipykernel)",
   "language": "python",
   "name": "python3"
  },
  "language_info": {
   "codemirror_mode": {
    "name": "ipython",
    "version": 3
   },
   "file_extension": ".py",
   "mimetype": "text/x-python",
   "name": "python",
   "nbconvert_exporter": "python",
   "pygments_lexer": "ipython3",
   "version": "3.10.9"
  }
 },
 "nbformat": 4,
 "nbformat_minor": 5
}
