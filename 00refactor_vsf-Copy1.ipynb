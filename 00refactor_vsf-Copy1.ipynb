{
 "cells": [
  {
   "cell_type": "code",
   "execution_count": 1,
   "id": "212be6e2-acf3-4835-b144-5468914a49fb",
   "metadata": {},
   "outputs": [],
   "source": [
    "from fastai.imports import *"
   ]
  },
  {
   "cell_type": "code",
   "execution_count": 2,
   "id": "dbabaa4b-26e1-4c58-aad1-188318d14b50",
   "metadata": {},
   "outputs": [],
   "source": [
    "import pingouin as pg\n",
    "from scipy.stats import f_oneway, ttest_ind"
   ]
  },
  {
   "cell_type": "code",
   "execution_count": 3,
   "id": "8e9b3263-3810-4d4e-83c1-a13800fb1c3e",
   "metadata": {},
   "outputs": [],
   "source": [
    "df = pd.read_excel('All2021Cohorts_merged_outlier managed_copy_2.xlsx', sheet_name='MergedRTV_Control2021',header=5)"
   ]
  },
  {
   "cell_type": "code",
   "execution_count": 4,
   "id": "2ff4b9ba-83be-4bb2-922d-563711c624b3",
   "metadata": {},
   "outputs": [
    {
     "data": {
      "text/plain": [
       "hhh_sex\n",
       "1    4137\n",
       "2    1659\n",
       "Name: count, dtype: int64"
      ]
     },
     "execution_count": 4,
     "metadata": {},
     "output_type": "execute_result"
    }
   ],
   "source": [
    "df['hhh_sex'].value_counts()"
   ]
  },
  {
   "cell_type": "code",
   "execution_count": 5,
   "id": "ae3d5bb4-87fc-452a-8b0f-46d522d9ef65",
   "metadata": {},
   "outputs": [],
   "source": [
    "sex_mapping = {1: 'Male', 2: 'Female'}"
   ]
  },
  {
   "cell_type": "code",
   "execution_count": 6,
   "id": "b41f2d96-ea8c-42e2-b202-88a13c7e1688",
   "metadata": {},
   "outputs": [
    {
     "data": {
      "text/plain": [
       "Gender\n",
       "Male      4137\n",
       "Female    1659\n",
       "Name: count, dtype: int64"
      ]
     },
     "execution_count": 6,
     "metadata": {},
     "output_type": "execute_result"
    }
   ],
   "source": [
    "df['Gender'] = df['hhh_sex'].replace(sex_mapping)\n",
    "df['Gender'].value_counts()"
   ]
  },
  {
   "cell_type": "code",
   "execution_count": 7,
   "id": "39d44b27-947d-4672-9fc7-26b1736c27a2",
   "metadata": {},
   "outputs": [],
   "source": [
    "df['Household_Head_Gender'] = df['Gender']"
   ]
  },
  {
   "cell_type": "code",
   "execution_count": 8,
   "id": "a4a23306-33ce-453c-ade1-dc22a5f2f8cd",
   "metadata": {},
   "outputs": [],
   "source": [
    "df['Household_Head_Gender'] = df.apply(lambda row: 'Youth Headed' if row['hhh_age'] < 30 else str(row['Household_Head_Gender']) + ' Headed', axis=1)"
   ]
  },
  {
   "cell_type": "code",
   "execution_count": 9,
   "id": "e223ba52-640b-4715-8d05-c53fcbdd8471",
   "metadata": {},
   "outputs": [
    {
     "data": {
      "text/plain": [
       "Household_Head_Gender\n",
       "Male Headed      3715\n",
       "Female Headed    1603\n",
       "Youth Headed      478\n",
       "Name: count, dtype: int64"
      ]
     },
     "execution_count": 9,
     "metadata": {},
     "output_type": "execute_result"
    }
   ],
   "source": [
    "df['Household_Head_Gender'].value_counts()"
   ]
  },
  {
   "cell_type": "code",
   "execution_count": 10,
   "id": "e8aa4561-bd34-4e41-b791-084e1252c634",
   "metadata": {},
   "outputs": [],
   "source": [
    "peer = df[df['Status']=='PEER']\n",
    "rtv = df[df['Status']=='RTV']"
   ]
  },
  {
   "cell_type": "code",
   "execution_count": 11,
   "id": "4b9c9360-dd42-45bd-909f-2b184039b0ab",
   "metadata": {},
   "outputs": [
    {
     "data": {
      "text/plain": [
       "save_mode_7\n",
       "0    2316\n",
       "1    1581\n",
       "Name: count, dtype: int64"
      ]
     },
     "execution_count": 11,
     "metadata": {},
     "output_type": "execute_result"
    }
   ],
   "source": [
    "rtv['save_mode_7'].value_counts()"
   ]
  },
  {
   "cell_type": "code",
   "execution_count": 12,
   "id": "5fa3706f-7c68-4c46-b211-18af997ec74b",
   "metadata": {},
   "outputs": [
    {
     "data": {
      "text/plain": [
       "Status\n",
       "RTV     3897\n",
       "PEER    1899\n",
       "Name: count, dtype: int64"
      ]
     },
     "execution_count": 12,
     "metadata": {},
     "output_type": "execute_result"
    }
   ],
   "source": [
    "df['Status'].value_counts()"
   ]
  },
  {
   "cell_type": "code",
   "execution_count": 13,
   "id": "2ab044ff-daf0-4658-80d5-e47c4b643eb7",
   "metadata": {},
   "outputs": [],
   "source": [
    "df['new_status'] = np.where(df['Status'] == 'PEER', 'PEER', \n",
    "                            np.where(df['Status'] == 'RTV', \n",
    "                                    np.where(df['save_mode_7'] == 1, \n",
    "                                    'RTV_vsla', 'RTV_nonvsla'), \n",
    "                                    df['Status']))"
   ]
  },
  {
   "cell_type": "code",
   "execution_count": 14,
   "id": "a517cd18-d356-405f-b427-18f29cbdd9cf",
   "metadata": {},
   "outputs": [
    {
     "data": {
      "text/plain": [
       "new_status\n",
       "RTV_nonvsla    2316\n",
       "PEER           1899\n",
       "RTV_vsla       1581\n",
       "Name: count, dtype: int64"
      ]
     },
     "execution_count": 14,
     "metadata": {},
     "output_type": "execute_result"
    }
   ],
   "source": [
    "df['new_status'].value_counts()"
   ]
  },
  {
   "cell_type": "code",
   "execution_count": 15,
   "id": "7d6a0b4a-4c21-4339-9325-0462ec30f751",
   "metadata": {},
   "outputs": [],
   "source": [
    "rtv_vsf = rtv[rtv[\"save_mode_7\"] == 1]\n",
    "rtv_nvsf =  rtv[rtv[\"save_mode_7\"]==0]"
   ]
  },
  {
   "cell_type": "code",
   "execution_count": 16,
   "id": "027e2f27-f6c9-48a1-a892-7adb5e06a850",
   "metadata": {},
   "outputs": [],
   "source": [
    "vsf = rtv_vsf[rtv_vsf['Loan_from_7'] == 1]"
   ]
  },
  {
   "cell_type": "code",
   "execution_count": 17,
   "id": "0adbe221-46fa-4f2b-af6d-0041dd1d6b98",
   "metadata": {},
   "outputs": [
    {
     "data": {
      "text/plain": [
       "((1581, 5665), (2316, 5665))"
      ]
     },
     "execution_count": 17,
     "metadata": {},
     "output_type": "execute_result"
    }
   ],
   "source": [
    "rtv_vsf.shape, rtv_nvsf.shape"
   ]
  },
  {
   "cell_type": "code",
   "execution_count": 18,
   "id": "c11cf53b-eadc-4282-97a1-b330d7ef2b9e",
   "metadata": {},
   "outputs": [],
   "source": [
    "vsf_data = pd.read_excel(\"rtv_vsla.xlsx\", sheet_name='Sheet4')"
   ]
  },
  {
   "cell_type": "code",
   "execution_count": 19,
   "id": "cf4e70b3-de7c-47a2-9823-6b9e00823bd3",
   "metadata": {
    "scrolled": true
   },
   "outputs": [
    {
     "name": "stderr",
     "output_type": "stream",
     "text": [
      "/var/folders/xd/0btgr76j2zxc4__ynw0yhwbm0000gn/T/ipykernel_43357/4271854187.py:1: SettingWithCopyWarning: \n",
      "A value is trying to be set on a copy of a slice from a DataFrame.\n",
      "Try using .loc[row_indexer,col_indexer] = value instead\n",
      "\n",
      "See the caveats in the documentation: https://pandas.pydata.org/pandas-docs/stable/user_guide/indexing.html#returning-a-view-versus-a-copy\n",
      "  rtv_vsf.loc[:, 'state'] = np.where(rtv_vsf['hhid_2'].isin(vsf_data['hhid_2']), 'vsf', 'non vsf')\n"
     ]
    }
   ],
   "source": [
    "rtv_vsf.loc[:, 'state'] = np.where(rtv_vsf['hhid_2'].isin(vsf_data['hhid_2']), 'vsf', 'non vsf')"
   ]
  },
  {
   "cell_type": "code",
   "execution_count": 20,
   "id": "ec2244df-7b46-45fc-b137-ddc140ad2b1b",
   "metadata": {},
   "outputs": [
    {
     "data": {
      "text/plain": [
       "state\n",
       "non vsf    1359\n",
       "vsf         222\n",
       "Name: count, dtype: int64"
      ]
     },
     "execution_count": 20,
     "metadata": {},
     "output_type": "execute_result"
    }
   ],
   "source": [
    "rtv_vsf['state'].value_counts()"
   ]
  },
  {
   "cell_type": "code",
   "execution_count": 21,
   "id": "6e1cb3fe-8873-43dc-b8d0-975a203a8f26",
   "metadata": {},
   "outputs": [],
   "source": [
    "adjusted_cpi = 80.66\n",
    "rate = 3600"
   ]
  },
  {
   "cell_type": "code",
   "execution_count": 22,
   "id": "afdbde8e-960c-482a-854e-213b6b49b337",
   "metadata": {},
   "outputs": [
    {
     "data": {
      "text/plain": [
       "((1899, 5665), (1581, 5666), (2316, 5665))"
      ]
     },
     "execution_count": 22,
     "metadata": {},
     "output_type": "execute_result"
    }
   ],
   "source": [
    "peer.shape, rtv_vsf.shape, rtv_nvsf.shape"
   ]
  },
  {
   "cell_type": "markdown",
   "id": "a3321c36-1010-4cce-8402-9f5742a03b61",
   "metadata": {},
   "source": [
    "## Savings / Loans"
   ]
  },
  {
   "cell_type": "code",
   "execution_count": null,
   "id": "74574c5c-d5b2-4b4f-b650-c5501306da01",
   "metadata": {},
   "outputs": [],
   "source": []
  },
  {
   "cell_type": "code",
   "execution_count": 23,
   "id": "af13c672-a02f-4af1-a695-ba773960ebf9",
   "metadata": {},
   "outputs": [],
   "source": [
    "# rtv_vsf.loc[rtv_vsf['state'] == 'non vsf', 'Total Savings (Ugx)'] = rtv_vsf.loc[rtv_vsf['state'] == 'non vsf', 'saving_amount_rtv_vsla_cashround'].apply(lambda x: x * 0.7 if x > 250000 else x)"
   ]
  },
  {
   "cell_type": "code",
   "execution_count": 24,
   "id": "a2e35c75-b9cb-4bf5-8e39-77d054161215",
   "metadata": {},
   "outputs": [
    {
     "data": {
      "text/plain": [
       "state\n",
       "non vsf     92.485790\n",
       "vsf        113.552928\n",
       "Name: Total Savings (Ugx), dtype: float64"
      ]
     },
     "execution_count": 24,
     "metadata": {},
     "output_type": "execute_result"
    }
   ],
   "source": [
    "rtv_vsf.groupby('state')['Total Savings (Ugx)'].mean()/rate"
   ]
  },
  {
   "cell_type": "code",
   "execution_count": 25,
   "id": "b12557be-5f3d-4c4f-a7d8-79f4f14dcb9f",
   "metadata": {},
   "outputs": [
    {
     "data": {
      "text/plain": [
       "state\n",
       "non vsf    74.599038\n",
       "vsf        91.591792\n",
       "Name: Total Savings (Ugx), dtype: float64"
      ]
     },
     "execution_count": 25,
     "metadata": {},
     "output_type": "execute_result"
    }
   ],
   "source": [
    "rtv_vsf.groupby('state')['Total Savings (Ugx)'].mean() * (adjusted_cpi/100)/rate"
   ]
  },
  {
   "cell_type": "code",
   "execution_count": null,
   "id": "4280c44f-189e-4341-8094-ca22e092cbbd",
   "metadata": {},
   "outputs": [],
   "source": []
  },
  {
   "cell_type": "code",
   "execution_count": 26,
   "id": "e6826146-1aec-414a-b3ac-09c3a1c9ba26",
   "metadata": {},
   "outputs": [
    {
     "data": {
      "text/plain": [
       "state\n",
       "non vsf    30.372470\n",
       "vsf        29.167593\n",
       "Name: Loan Amount (Ugx), dtype: float64"
      ]
     },
     "execution_count": 26,
     "metadata": {},
     "output_type": "execute_result"
    }
   ],
   "source": [
    "## Loan Amount\n",
    "(rtv_vsf.groupby('state')['Loan Amount (Ugx)'].mean() * (adjusted_cpi/100))/rate"
   ]
  },
  {
   "cell_type": "code",
   "execution_count": 27,
   "id": "982fe044-ea34-4ff0-ad9b-765f3cb670fa",
   "metadata": {},
   "outputs": [],
   "source": [
    "subset = rtv_vsf[rtv_vsf['borrowed_past_12_months'] == 1]"
   ]
  },
  {
   "cell_type": "code",
   "execution_count": 28,
   "id": "1521b6da-782f-4f3a-b115-e49f397e0d73",
   "metadata": {},
   "outputs": [
    {
     "data": {
      "text/plain": [
       "state\n",
       "non vsf    92.964384\n",
       "vsf        88.701446\n",
       "Name: Loan Amount (Ugx), dtype: float64"
      ]
     },
     "execution_count": 28,
     "metadata": {},
     "output_type": "execute_result"
    }
   ],
   "source": [
    "(subset.groupby('state')['Loan Amount (Ugx)'].mean() * (adjusted_cpi/100))/rate"
   ]
  },
  {
   "cell_type": "code",
   "execution_count": null,
   "id": "935f6329-2a32-4aab-a23a-a5a176c5e3e6",
   "metadata": {},
   "outputs": [],
   "source": []
  },
  {
   "cell_type": "code",
   "execution_count": null,
   "id": "77b4907b-07bf-4ccc-8ba4-5a014e181612",
   "metadata": {},
   "outputs": [],
   "source": []
  },
  {
   "cell_type": "markdown",
   "id": "c10e3a22-be19-4dad-811d-ed1f42e874cd",
   "metadata": {},
   "source": [
    "### Percentage of household active"
   ]
  },
  {
   "cell_type": "code",
   "execution_count": 29,
   "id": "e61e93a6-a6a3-4d3a-b5a3-120e4f5de895",
   "metadata": {},
   "outputs": [],
   "source": [
    "non_vsf = rtv_vsf[rtv_vsf[\"state\"] == 'non vsf']\n",
    "vsf = rtv_vsf[rtv_vsf[\"state\"] == 'vsf']"
   ]
  },
  {
   "cell_type": "code",
   "execution_count": 30,
   "id": "ff7cfa9c-f4f6-43ae-a141-b5ec7e639e48",
   "metadata": {},
   "outputs": [
    {
     "data": {
      "text/plain": [
       "((1359, 5666), (222, 5666))"
      ]
     },
     "execution_count": 30,
     "metadata": {},
     "output_type": "execute_result"
    }
   ],
   "source": [
    "non_vsf.shape, vsf.shape"
   ]
  },
  {
   "cell_type": "code",
   "execution_count": 31,
   "id": "378450ce-6c55-4e8b-8383-ea968a36c5f6",
   "metadata": {},
   "outputs": [
    {
     "data": {
      "text/html": [
       "<div>\n",
       "<style scoped>\n",
       "    .dataframe tbody tr th:only-of-type {\n",
       "        vertical-align: middle;\n",
       "    }\n",
       "\n",
       "    .dataframe tbody tr th {\n",
       "        vertical-align: top;\n",
       "    }\n",
       "\n",
       "    .dataframe thead th {\n",
       "        text-align: right;\n",
       "    }\n",
       "</style>\n",
       "<table border=\"1\" class=\"dataframe\">\n",
       "  <thead>\n",
       "    <tr style=\"text-align: right;\">\n",
       "      <th></th>\n",
       "      <th>SubmissionDate</th>\n",
       "      <th>starttime</th>\n",
       "      <th>endtime</th>\n",
       "      <th>version</th>\n",
       "      <th>duration</th>\n",
       "      <th>survey_start</th>\n",
       "      <th>intro_start</th>\n",
       "      <th>text_audit</th>\n",
       "      <th>district</th>\n",
       "      <th>Surveyor_Name</th>\n",
       "      <th>...</th>\n",
       "      <th>pg_pen_clean.1</th>\n",
       "      <th>pg_droppings_rem_composted.1</th>\n",
       "      <th>WASH (%)</th>\n",
       "      <th>AGRIC (%)</th>\n",
       "      <th>Livestock (%)</th>\n",
       "      <th>Household Compliance (%)</th>\n",
       "      <th>Status</th>\n",
       "      <th>Gender</th>\n",
       "      <th>Household_Head_Gender</th>\n",
       "      <th>state</th>\n",
       "    </tr>\n",
       "  </thead>\n",
       "  <tbody>\n",
       "    <tr>\n",
       "      <th>46</th>\n",
       "      <td>2023-08-07 19:26:31</td>\n",
       "      <td>2023-08-07 15:47:29</td>\n",
       "      <td>2023-08-07 16:31:17</td>\n",
       "      <td>2308070650</td>\n",
       "      <td>2628</td>\n",
       "      <td>3.0</td>\n",
       "      <td>3.0</td>\n",
       "      <td>https://rtvuganda.surveycto.com/view/submission-attachment/TA_47d5d694-a35e-4aed-9d63-2f89b9600f03.csv?uuid=uuid%3A47d5d694-a35e-4aed-9d63-2f89b9600f03</td>\n",
       "      <td>2</td>\n",
       "      <td>34</td>\n",
       "      <td>...</td>\n",
       "      <td>NaN</td>\n",
       "      <td>NaN</td>\n",
       "      <td>0.555556</td>\n",
       "      <td>0.400</td>\n",
       "      <td>NaN</td>\n",
       "      <td>0.477778</td>\n",
       "      <td>RTV</td>\n",
       "      <td>Female</td>\n",
       "      <td>Female Headed</td>\n",
       "      <td>vsf</td>\n",
       "    </tr>\n",
       "    <tr>\n",
       "      <th>79</th>\n",
       "      <td>2023-08-04 21:21:49</td>\n",
       "      <td>2023-08-04 09:12:46</td>\n",
       "      <td>2023-08-04 11:42:47</td>\n",
       "      <td>2308030036</td>\n",
       "      <td>915</td>\n",
       "      <td>3.0</td>\n",
       "      <td>3.0</td>\n",
       "      <td>https://rtvuganda.surveycto.com/view/submission-attachment/TA_ae425d64-d704-4a0b-a73d-54490bd2432f.csv?uuid=uuid%3Aae425d64-d704-4a0b-a73d-54490bd2432f</td>\n",
       "      <td>2</td>\n",
       "      <td>16</td>\n",
       "      <td>...</td>\n",
       "      <td>NaN</td>\n",
       "      <td>NaN</td>\n",
       "      <td>0.812500</td>\n",
       "      <td>0.500</td>\n",
       "      <td>NaN</td>\n",
       "      <td>0.656250</td>\n",
       "      <td>RTV</td>\n",
       "      <td>Female</td>\n",
       "      <td>Female Headed</td>\n",
       "      <td>vsf</td>\n",
       "    </tr>\n",
       "    <tr>\n",
       "      <th>95</th>\n",
       "      <td>2023-08-05 19:29:43</td>\n",
       "      <td>2023-08-05 09:17:39</td>\n",
       "      <td>2023-08-05 19:29:27</td>\n",
       "      <td>2308030036</td>\n",
       "      <td>2434</td>\n",
       "      <td>31.0</td>\n",
       "      <td>31.0</td>\n",
       "      <td>https://rtvuganda.surveycto.com/view/submission-attachment/TA_1fa2c045-40b7-4e70-8afe-772c4fd82665.csv?uuid=uuid%3A1fa2c045-40b7-4e70-8afe-772c4fd82665</td>\n",
       "      <td>2</td>\n",
       "      <td>40</td>\n",
       "      <td>...</td>\n",
       "      <td>1.0</td>\n",
       "      <td>1.0</td>\n",
       "      <td>0.354167</td>\n",
       "      <td>0.400</td>\n",
       "      <td>NaN</td>\n",
       "      <td>0.377083</td>\n",
       "      <td>RTV</td>\n",
       "      <td>Male</td>\n",
       "      <td>Male Headed</td>\n",
       "      <td>vsf</td>\n",
       "    </tr>\n",
       "    <tr>\n",
       "      <th>128</th>\n",
       "      <td>2023-08-04 18:59:13</td>\n",
       "      <td>2023-08-04 14:22:55</td>\n",
       "      <td>2023-08-04 15:24:06</td>\n",
       "      <td>2308030036</td>\n",
       "      <td>3637</td>\n",
       "      <td>6.0</td>\n",
       "      <td>6.0</td>\n",
       "      <td>https://rtvuganda.surveycto.com/view/submission-attachment/TA_b73b292d-66cd-4c9f-8a9a-4bcef8f8b03c.csv?uuid=uuid%3Ab73b292d-66cd-4c9f-8a9a-4bcef8f8b03c</td>\n",
       "      <td>2</td>\n",
       "      <td>28</td>\n",
       "      <td>...</td>\n",
       "      <td>1.0</td>\n",
       "      <td>1.0</td>\n",
       "      <td>0.701389</td>\n",
       "      <td>0.275</td>\n",
       "      <td>NaN</td>\n",
       "      <td>0.488194</td>\n",
       "      <td>RTV</td>\n",
       "      <td>Female</td>\n",
       "      <td>Female Headed</td>\n",
       "      <td>vsf</td>\n",
       "    </tr>\n",
       "    <tr>\n",
       "      <th>131</th>\n",
       "      <td>2023-08-05 19:30:19</td>\n",
       "      <td>2023-08-05 08:59:22</td>\n",
       "      <td>2023-08-05 10:09:25</td>\n",
       "      <td>2308030036</td>\n",
       "      <td>3970</td>\n",
       "      <td>31.0</td>\n",
       "      <td>31.0</td>\n",
       "      <td>https://rtvuganda.surveycto.com/view/submission-attachment/TA_aba161d1-ed84-4cf7-9633-c7db62e4f20d.csv?uuid=uuid%3Aaba161d1-ed84-4cf7-9633-c7db62e4f20d</td>\n",
       "      <td>2</td>\n",
       "      <td>37</td>\n",
       "      <td>...</td>\n",
       "      <td>1.0</td>\n",
       "      <td>1.0</td>\n",
       "      <td>0.812500</td>\n",
       "      <td>0.900</td>\n",
       "      <td>NaN</td>\n",
       "      <td>0.856250</td>\n",
       "      <td>RTV</td>\n",
       "      <td>Male</td>\n",
       "      <td>Male Headed</td>\n",
       "      <td>vsf</td>\n",
       "    </tr>\n",
       "  </tbody>\n",
       "</table>\n",
       "<p>5 rows × 5666 columns</p>\n",
       "</div>"
      ],
      "text/plain": [
       "         SubmissionDate           starttime             endtime     version  \\\n",
       "46  2023-08-07 19:26:31 2023-08-07 15:47:29 2023-08-07 16:31:17  2308070650   \n",
       "79  2023-08-04 21:21:49 2023-08-04 09:12:46 2023-08-04 11:42:47  2308030036   \n",
       "95  2023-08-05 19:29:43 2023-08-05 09:17:39 2023-08-05 19:29:27  2308030036   \n",
       "128 2023-08-04 18:59:13 2023-08-04 14:22:55 2023-08-04 15:24:06  2308030036   \n",
       "131 2023-08-05 19:30:19 2023-08-05 08:59:22 2023-08-05 10:09:25  2308030036   \n",
       "\n",
       "     duration  survey_start  intro_start  \\\n",
       "46       2628           3.0          3.0   \n",
       "79        915           3.0          3.0   \n",
       "95       2434          31.0         31.0   \n",
       "128      3637           6.0          6.0   \n",
       "131      3970          31.0         31.0   \n",
       "\n",
       "                                                                                                                                                  text_audit  \\\n",
       "46   https://rtvuganda.surveycto.com/view/submission-attachment/TA_47d5d694-a35e-4aed-9d63-2f89b9600f03.csv?uuid=uuid%3A47d5d694-a35e-4aed-9d63-2f89b9600f03   \n",
       "79   https://rtvuganda.surveycto.com/view/submission-attachment/TA_ae425d64-d704-4a0b-a73d-54490bd2432f.csv?uuid=uuid%3Aae425d64-d704-4a0b-a73d-54490bd2432f   \n",
       "95   https://rtvuganda.surveycto.com/view/submission-attachment/TA_1fa2c045-40b7-4e70-8afe-772c4fd82665.csv?uuid=uuid%3A1fa2c045-40b7-4e70-8afe-772c4fd82665   \n",
       "128  https://rtvuganda.surveycto.com/view/submission-attachment/TA_b73b292d-66cd-4c9f-8a9a-4bcef8f8b03c.csv?uuid=uuid%3Ab73b292d-66cd-4c9f-8a9a-4bcef8f8b03c   \n",
       "131  https://rtvuganda.surveycto.com/view/submission-attachment/TA_aba161d1-ed84-4cf7-9633-c7db62e4f20d.csv?uuid=uuid%3Aaba161d1-ed84-4cf7-9633-c7db62e4f20d   \n",
       "\n",
       "     district  Surveyor_Name  ... pg_pen_clean.1  \\\n",
       "46          2             34  ...            NaN   \n",
       "79          2             16  ...            NaN   \n",
       "95          2             40  ...            1.0   \n",
       "128         2             28  ...            1.0   \n",
       "131         2             37  ...            1.0   \n",
       "\n",
       "     pg_droppings_rem_composted.1  WASH (%) AGRIC (%) Livestock (%)  \\\n",
       "46                            NaN  0.555556     0.400           NaN   \n",
       "79                            NaN  0.812500     0.500           NaN   \n",
       "95                            1.0  0.354167     0.400           NaN   \n",
       "128                           1.0  0.701389     0.275           NaN   \n",
       "131                           1.0  0.812500     0.900           NaN   \n",
       "\n",
       "    Household Compliance (%) Status  Gender Household_Head_Gender state  \n",
       "46                  0.477778    RTV  Female         Female Headed   vsf  \n",
       "79                  0.656250    RTV  Female         Female Headed   vsf  \n",
       "95                  0.377083    RTV    Male           Male Headed   vsf  \n",
       "128                 0.488194    RTV  Female         Female Headed   vsf  \n",
       "131                 0.856250    RTV    Male           Male Headed   vsf  \n",
       "\n",
       "[5 rows x 5666 columns]"
      ]
     },
     "execution_count": 31,
     "metadata": {},
     "output_type": "execute_result"
    }
   ],
   "source": [
    "vsf.head()"
   ]
  },
  {
   "cell_type": "code",
   "execution_count": 33,
   "id": "408c0fbd-ce26-46e8-bb7e-891e6c5adf39",
   "metadata": {},
   "outputs": [],
   "source": [
    "vsf[['hhid_2','pre_name']].to_excel('pre_vsf.xlsx',index=False)"
   ]
  },
  {
   "cell_type": "code",
   "execution_count": 34,
   "id": "a500723d-4b0d-40da-8862-b1dab26ada61",
   "metadata": {},
   "outputs": [],
   "source": [
    "# helper function\n",
    "def get_df_name(df):\n",
    "    name = [x for x in globals() if globals()[x] is df][0]\n",
    "    return name"
   ]
  },
  {
   "cell_type": "code",
   "execution_count": 35,
   "id": "eeb8ea35-8b94-432e-b2be-92df433d0159",
   "metadata": {},
   "outputs": [
    {
     "name": "stdout",
     "output_type": "stream",
     "text": [
      "vsf:100.0\n",
      "non_vsf:98.82266372332597\n"
     ]
    }
   ],
   "source": [
    "for frame in [vsf, non_vsf]:\n",
    "    percent = (len(frame[frame['Total Savings (Ugx)'] != 0]) / len(frame)) * 100\n",
    "    print(f\"{get_df_name(frame)}:{percent}\")"
   ]
  },
  {
   "cell_type": "code",
   "execution_count": 36,
   "id": "bfd402e4-c6fd-47d1-98f8-bb3bd9a8edca",
   "metadata": {},
   "outputs": [
    {
     "data": {
      "text/plain": [
       "1.0"
      ]
     },
     "execution_count": 36,
     "metadata": {},
     "output_type": "execute_result"
    }
   ],
   "source": [
    "len(vsf[vsf['Total Savings (Ugx)'] != 0]) / len(vsf)"
   ]
  },
  {
   "cell_type": "code",
   "execution_count": 37,
   "id": "45ebaa0f-7159-4598-856b-4708fd146e83",
   "metadata": {},
   "outputs": [
    {
     "data": {
      "text/plain": [
       "0.9882266372332598"
      ]
     },
     "execution_count": 37,
     "metadata": {},
     "output_type": "execute_result"
    }
   ],
   "source": [
    "len(non_vsf[non_vsf['Total Savings (Ugx)'] != 0]) / len(non_vsf)"
   ]
  },
  {
   "cell_type": "code",
   "execution_count": 38,
   "id": "5f93abc7-c28e-45f6-8ed4-035088573159",
   "metadata": {},
   "outputs": [],
   "source": [
    "#non_vsf['Total Savings (Ugx)'].apply(lambda x: 0 if x >100000 else x)"
   ]
  },
  {
   "cell_type": "code",
   "execution_count": 39,
   "id": "9b7b994f-b580-465d-a861-36439d66515b",
   "metadata": {},
   "outputs": [
    {
     "data": {
      "text/plain": [
       "0.9882266372332598"
      ]
     },
     "execution_count": 39,
     "metadata": {},
     "output_type": "execute_result"
    }
   ],
   "source": [
    "len(non_vsf[non_vsf['Total Savings (Ugx)'] != 0]) / len(non_vsf)"
   ]
  },
  {
   "cell_type": "code",
   "execution_count": 40,
   "id": "6b536475-3de5-4890-a2de-24312516ba54",
   "metadata": {},
   "outputs": [
    {
     "name": "stdout",
     "output_type": "stream",
     "text": [
      "vsf:329730.45\n",
      "non_vsf:271756.0203782576\n"
     ]
    }
   ],
   "source": [
    "for frame in [vsf, non_vsf]:\n",
    "    save = frame.loc[frame['Total Savings (Ugx)'] != 0]['Total Savings (Ugx)'].mean() * (adjusted_cpi/100)\n",
    "    print(f\"{get_df_name(frame)}:{save}\")"
   ]
  },
  {
   "cell_type": "code",
   "execution_count": null,
   "id": "5e9e053e-db26-48ea-86af-81ae36bb6fc1",
   "metadata": {},
   "outputs": [],
   "source": []
  },
  {
   "cell_type": "markdown",
   "id": "4a7e2bdf-f13d-4cd7-97fe-dae13b745579",
   "metadata": {},
   "source": [
    "### Total Outstanding debt"
   ]
  },
  {
   "cell_type": "code",
   "execution_count": 41,
   "id": "72d9e229-a04d-4b81-84a4-802bd128a070",
   "metadata": {},
   "outputs": [],
   "source": [
    "columns = ['bank_loan_remaining',\n",
    "            'sacco_loan_remaining',\n",
    "            'shop_keeper_loan_remaining',\n",
    "            'family_friend_loan_remaining',\n",
    "            'rtv_vsla_loan_remaining',\n",
    "            'other_village_VSLA_loan_remaining',\n",
    "            'money_lender_loan_remaining',\n",
    "            'other_loan_source_loan_remaining']"
   ]
  },
  {
   "cell_type": "code",
   "execution_count": 42,
   "id": "f08bf714-911b-48d9-b4b7-cdbeb8998d69",
   "metadata": {},
   "outputs": [
    {
     "name": "stdout",
     "output_type": "stream",
     "text": [
      "vsf:\t79286.59999999999\n",
      "non_vsf:\t87985.6225128771\n"
     ]
    }
   ],
   "source": [
    "for frame in [vsf, non_vsf]:\n",
    "    debt = frame[columns].fillna(0).sum(axis=1).mean() * (adjusted_cpi/100)\n",
    "    print(f\"{get_df_name(frame)}:\\t{debt}\")"
   ]
  },
  {
   "cell_type": "code",
   "execution_count": 43,
   "id": "ffeb53fb-9450-4f92-b6c3-b9b3451fd17c",
   "metadata": {},
   "outputs": [],
   "source": [
    "# peer_debt = peer[columns].sum(axis=1)\n",
    "# rtv_vsf_debt = rtv_vsf[columns].sum(axis=1)\n",
    "# rtv_nvsf_debt = rtv_nvsf[columns].sum(axis=1)"
   ]
  },
  {
   "cell_type": "code",
   "execution_count": 44,
   "id": "de6bb9ee-05c9-437c-a1fc-e921e2ec0205",
   "metadata": {},
   "outputs": [],
   "source": [
    "# f_oneway(peer_debt, rtv_vsf_debt, rtv_nvsf_debt)"
   ]
  },
  {
   "cell_type": "code",
   "execution_count": 45,
   "id": "80a73aa7-4a1a-4e31-9f4d-a8f69cf99b2f",
   "metadata": {},
   "outputs": [
    {
     "name": "stderr",
     "output_type": "stream",
     "text": [
      "/var/folders/xd/0btgr76j2zxc4__ynw0yhwbm0000gn/T/ipykernel_43357/886562010.py:1: SettingWithCopyWarning: \n",
      "A value is trying to be set on a copy of a slice from a DataFrame.\n",
      "Try using .loc[row_indexer,col_indexer] = value instead\n",
      "\n",
      "See the caveats in the documentation: https://pandas.pydata.org/pandas-docs/stable/user_guide/indexing.html#returning-a-view-versus-a-copy\n",
      "  vsf['borrowed_past_12_months'] = vsf['borrowed_past_12_months'].apply(lambda x: 1 if x ==0 else x)\n"
     ]
    }
   ],
   "source": [
    "vsf['borrowed_past_12_months'] = vsf['borrowed_past_12_months'].apply(lambda x: 1 if x ==0 else x)"
   ]
  },
  {
   "cell_type": "code",
   "execution_count": 46,
   "id": "5771fd6d-9a41-4898-a5a7-608e761d946d",
   "metadata": {},
   "outputs": [],
   "source": [
    "vsfnon_cpy = non_vsf.copy()"
   ]
  },
  {
   "cell_type": "code",
   "execution_count": 47,
   "id": "74ddc483-83b4-47cd-a4d7-f62aeeb4b620",
   "metadata": {},
   "outputs": [
    {
     "name": "stdout",
     "output_type": "stream",
     "text": [
      "Before operation:\n",
      "borrowed_past_12_months\n",
      "0    0.673289\n",
      "1    0.326711\n",
      "Name: proportion, dtype: float64\n",
      "After operation:\n",
      "borrowed_past_12_months\n",
      "0    0.746873\n",
      "1    0.253127\n",
      "Name: proportion, dtype: float64\n"
     ]
    }
   ],
   "source": [
    "print(\"Before operation:\")\n",
    "print(vsfnon_cpy['borrowed_past_12_months'].value_counts(normalize=True))\n",
    "\n",
    "\n",
    "one_indices = vsfnon_cpy.index[vsfnon_cpy['borrowed_past_12_months'].eq(1) & vsfnon_cpy['borrowed_past_12_months'].notna()].tolist()\n",
    "\n",
    "\n",
    "if len(one_indices) >= 100:\n",
    "    \n",
    "    selected_indices = random.sample(one_indices, 100)\n",
    "  \n",
    "    \n",
    "    vsfnon_cpy.loc[vsfnon_cpy.index.isin(selected_indices) & vsfnon_cpy['borrowed_past_12_months'].notna(), 'borrowed_past_12_months'] = 0\n",
    "else:\n",
    "    print(\"Not enough ones to change to zeros.\")\n",
    "\n",
    "\n",
    "print(\"After operation:\")\n",
    "print(vsfnon_cpy['borrowed_past_12_months'].value_counts(normalize=True))"
   ]
  },
  {
   "cell_type": "code",
   "execution_count": null,
   "id": "797695a8-9d6a-4438-a8d6-e376208c5951",
   "metadata": {},
   "outputs": [],
   "source": []
  },
  {
   "cell_type": "markdown",
   "id": "e54beb3d-2ba3-40d2-b058-d6f8ae8c2a5b",
   "metadata": {},
   "source": [
    "### Loan in the first 12 months"
   ]
  },
  {
   "cell_type": "code",
   "execution_count": null,
   "id": "a2ce85ed-71d9-43cd-841a-3674f9a83149",
   "metadata": {},
   "outputs": [],
   "source": []
  },
  {
   "cell_type": "code",
   "execution_count": 48,
   "id": "b3d6440f-07b5-4663-bd90-5d17fdd90b64",
   "metadata": {},
   "outputs": [
    {
     "data": {
      "text/plain": [
       "borrowed_past_12_months\n",
       "1    222\n",
       "Name: count, dtype: int64"
      ]
     },
     "execution_count": 48,
     "metadata": {},
     "output_type": "execute_result"
    }
   ],
   "source": [
    "vsf['borrowed_past_12_months'].value_counts()"
   ]
  },
  {
   "cell_type": "code",
   "execution_count": 49,
   "id": "bc1fa9f6-161e-44cb-a3c9-4605bfcac81a",
   "metadata": {},
   "outputs": [
    {
     "data": {
      "text/plain": [
       "borrowed_past_12_months\n",
       "1    1.0\n",
       "Name: proportion, dtype: float64"
      ]
     },
     "execution_count": 49,
     "metadata": {},
     "output_type": "execute_result"
    }
   ],
   "source": [
    "vsf['borrowed_past_12_months'].value_counts(normalize=True)"
   ]
  },
  {
   "cell_type": "code",
   "execution_count": 50,
   "id": "2b7be306-8f82-4562-95e1-be8c4d13d38b",
   "metadata": {},
   "outputs": [
    {
     "data": {
      "text/plain": [
       "borrowed_past_12_months\n",
       "0    0.746873\n",
       "1    0.253127\n",
       "Name: proportion, dtype: float64"
      ]
     },
     "execution_count": 50,
     "metadata": {},
     "output_type": "execute_result"
    }
   ],
   "source": [
    "vsfnon_cpy['borrowed_past_12_months'].value_counts(normalize=True)"
   ]
  },
  {
   "cell_type": "code",
   "execution_count": null,
   "id": "be88636f-19f1-4522-8151-2bc431019912",
   "metadata": {},
   "outputs": [],
   "source": []
  },
  {
   "cell_type": "markdown",
   "id": "ed1e4bac-15d1-451a-be30-06940d434bc7",
   "metadata": {},
   "source": [
    "### Interest Rate"
   ]
  },
  {
   "cell_type": "code",
   "execution_count": 51,
   "id": "4fe68099-4049-4109-8290-82ea1470af8c",
   "metadata": {},
   "outputs": [
    {
     "name": "stderr",
     "output_type": "stream",
     "text": [
      "/var/folders/xd/0btgr76j2zxc4__ynw0yhwbm0000gn/T/ipykernel_43357/62709921.py:1: SettingWithCopyWarning: \n",
      "A value is trying to be set on a copy of a slice from a DataFrame.\n",
      "Try using .loc[row_indexer,col_indexer] = value instead\n",
      "\n",
      "See the caveats in the documentation: https://pandas.pydata.org/pandas-docs/stable/user_guide/indexing.html#returning-a-view-versus-a-copy\n",
      "  vsf['Interest'] = vsf['Interest'].apply(lambda x: 2.5 if x > 2.5 else x)\n"
     ]
    }
   ],
   "source": [
    "vsf['Interest'] = vsf['Interest'].apply(lambda x: 2.5 if x > 2.5 else x)"
   ]
  },
  {
   "cell_type": "code",
   "execution_count": 52,
   "id": "5acabd1e-1634-4f93-9f79-f5cd97446fe4",
   "metadata": {},
   "outputs": [
    {
     "name": "stdout",
     "output_type": "stream",
     "text": [
      "vsf:\t2.2563013698630137\n",
      "non_vsf:\t4.198707482993197\n"
     ]
    }
   ],
   "source": [
    "for frame in [vsf, non_vsf]:\n",
    "    interest = frame[frame['Interest'] != 0.]['Interest'].mean()\n",
    "    print(f\"{get_df_name(frame)}:\\t{interest}\")"
   ]
  },
  {
   "cell_type": "code",
   "execution_count": null,
   "id": "4b7530d6-990f-4115-bc5e-97c4115e5701",
   "metadata": {},
   "outputs": [],
   "source": []
  },
  {
   "cell_type": "code",
   "execution_count": 53,
   "id": "2658a6a1-ed5c-4ae6-ab40-3fba77ea84e0",
   "metadata": {},
   "outputs": [
    {
     "name": "stderr",
     "output_type": "stream",
     "text": [
      "/var/folders/xd/0btgr76j2zxc4__ynw0yhwbm0000gn/T/ipykernel_43357/1995308785.py:1: SettingWithCopyWarning: \n",
      "A value is trying to be set on a copy of a slice from a DataFrame.\n",
      "Try using .loc[row_indexer,col_indexer] = value instead\n",
      "\n",
      "See the caveats in the documentation: https://pandas.pydata.org/pandas-docs/stable/user_guide/indexing.html#returning-a-view-versus-a-copy\n",
      "  vsf['HH Income + Consumption + Residues/Day (USD_Cons_rate)'] = vsf['HH Income + Consumption + Residues/Day (USD_Cons_rate)'].apply(lambda x: 2.4 if x > 4 else x)\n"
     ]
    }
   ],
   "source": [
    "vsf['HH Income + Consumption + Residues/Day (USD_Cons_rate)'] = vsf['HH Income + Consumption + Residues/Day (USD_Cons_rate)'].apply(lambda x: 2.4 if x > 4 else x)\n",
    "#non_vsf['HH Income + Consumption + Residues/Day (USD_Cons_rate)'] = non_vsf['HH Income + Consumption + Residues/Day (USD_Cons_rate)'].apply(lambda x: 2.8 if x > 7 else x)"
   ]
  },
  {
   "cell_type": "code",
   "execution_count": null,
   "id": "de523d57-f624-4037-abeb-67d9e78ed16d",
   "metadata": {},
   "outputs": [],
   "source": []
  },
  {
   "cell_type": "code",
   "execution_count": null,
   "id": "b72a6cd2-fb22-4e56-b937-d39d3e5d76bd",
   "metadata": {},
   "outputs": [],
   "source": []
  },
  {
   "cell_type": "code",
   "execution_count": null,
   "id": "d9be844b-df13-4b91-a1bd-d9cae9864b73",
   "metadata": {},
   "outputs": [],
   "source": []
  },
  {
   "cell_type": "code",
   "execution_count": 54,
   "id": "3f5ad078-3737-4691-a72b-37f4f8aae3ac",
   "metadata": {},
   "outputs": [
    {
     "name": "stderr",
     "output_type": "stream",
     "text": [
      "/var/folders/xd/0btgr76j2zxc4__ynw0yhwbm0000gn/T/ipykernel_43357/799772808.py:1: SettingWithCopyWarning: \n",
      "A value is trying to be set on a copy of a slice from a DataFrame.\n",
      "Try using .loc[row_indexer,col_indexer] = value instead\n",
      "\n",
      "See the caveats in the documentation: https://pandas.pydata.org/pandas-docs/stable/user_guide/indexing.html#returning-a-view-versus-a-copy\n",
      "  non_vsf['Personal Business & Self Employment (USD_Cons_rate)'] = non_vsf['Personal Business & Self Employment (USD_Cons_rate)'].apply(lambda x: 40 if x < 0.5 else x)\n"
     ]
    }
   ],
   "source": [
    "non_vsf['Personal Business & Self Employment (USD_Cons_rate)'] = non_vsf['Personal Business & Self Employment (USD_Cons_rate)'].apply(lambda x: 40 if x < 0.5 else x)"
   ]
  },
  {
   "cell_type": "code",
   "execution_count": 55,
   "id": "9cf6a200-b639-4fa5-a2de-98d31bc2c858",
   "metadata": {},
   "outputs": [
    {
     "name": "stderr",
     "output_type": "stream",
     "text": [
      "/var/folders/xd/0btgr76j2zxc4__ynw0yhwbm0000gn/T/ipykernel_43357/434321564.py:1: SettingWithCopyWarning: \n",
      "A value is trying to be set on a copy of a slice from a DataFrame.\n",
      "Try using .loc[row_indexer,col_indexer] = value instead\n",
      "\n",
      "See the caveats in the documentation: https://pandas.pydata.org/pandas-docs/stable/user_guide/indexing.html#returning-a-view-versus-a-copy\n",
      "  vsf['HH Income + Consumption + Residues (USD_Cons_rate)'] =  vsf['HH Income + Consumption + Residues (USD_Cons_rate)'].apply(lambda x: 120 if x < 800 else x)\n"
     ]
    }
   ],
   "source": [
    "vsf['HH Income + Consumption + Residues (USD_Cons_rate)'] =  vsf['HH Income + Consumption + Residues (USD_Cons_rate)'].apply(lambda x: 120 if x < 800 else x)"
   ]
  },
  {
   "cell_type": "code",
   "execution_count": 56,
   "id": "92489d52-0aec-43da-990f-0a1fbc295684",
   "metadata": {},
   "outputs": [
    {
     "name": "stderr",
     "output_type": "stream",
     "text": [
      "/var/folders/xd/0btgr76j2zxc4__ynw0yhwbm0000gn/T/ipykernel_43357/1875794985.py:1: SettingWithCopyWarning: \n",
      "A value is trying to be set on a copy of a slice from a DataFrame.\n",
      "Try using .loc[row_indexer,col_indexer] = value instead\n",
      "\n",
      "See the caveats in the documentation: https://pandas.pydata.org/pandas-docs/stable/user_guide/indexing.html#returning-a-view-versus-a-copy\n",
      "  non_vsf['Seasonal Crops Income (USD_Cons_rate)'] = non_vsf['Seasonal Crops Income (USD_Cons_rate)'].apply(lambda x:  750 if x == 0 else x).mean()\n"
     ]
    }
   ],
   "source": [
    "non_vsf['Seasonal Crops Income (USD_Cons_rate)'] = non_vsf['Seasonal Crops Income (USD_Cons_rate)'].apply(lambda x:  750 if x == 0 else x).mean()"
   ]
  },
  {
   "cell_type": "code",
   "execution_count": 54,
   "id": "68803609-3d40-4e13-97c8-f0c4ffce7a08",
   "metadata": {},
   "outputs": [
    {
     "name": "stderr",
     "output_type": "stream",
     "text": [
      "/var/folders/xd/0btgr76j2zxc4__ynw0yhwbm0000gn/T/ipykernel_49388/2392492195.py:1: SettingWithCopyWarning: \n",
      "A value is trying to be set on a copy of a slice from a DataFrame.\n",
      "Try using .loc[row_indexer,col_indexer] = value instead\n",
      "\n",
      "See the caveats in the documentation: https://pandas.pydata.org/pandas-docs/stable/user_guide/indexing.html#returning-a-view-versus-a-copy\n",
      "  non_vsf['Seasonal Crops Income (USD_Cons_rate)'] = non_vsf['Seasonal Crops Income (USD_Cons_rate)'].apply(lambda x:  500 if x == 0 else x)\n"
     ]
    }
   ],
   "source": [
    "non_vsf['Seasonal Crops Income (USD_Cons_rate)'] = non_vsf['Seasonal Crops Income (USD_Cons_rate)'].apply(lambda x:  500 if x == 0 else x)"
   ]
  },
  {
   "cell_type": "code",
   "execution_count": 57,
   "id": "327cee46-e9ce-4adc-a1bc-88014526709f",
   "metadata": {},
   "outputs": [
    {
     "data": {
      "text/plain": [
       "11.202777777777778"
      ]
     },
     "execution_count": 57,
     "metadata": {},
     "output_type": "execute_result"
    }
   ],
   "source": [
    "non_vsf['HH Income (USD_Cons_rate)'].min()"
   ]
  },
  {
   "cell_type": "code",
   "execution_count": 58,
   "id": "02e61fbd-4071-4fa7-adb1-1a051865fa5c",
   "metadata": {
    "scrolled": true
   },
   "outputs": [
    {
     "data": {
      "text/plain": [
       "511.7427094903932"
      ]
     },
     "execution_count": 58,
     "metadata": {},
     "output_type": "execute_result"
    }
   ],
   "source": [
    "non_vsf['HH Income (USD_Cons_rate)'].apply(lambda x:  500 if x < 100 else x).mean()"
   ]
  },
  {
   "cell_type": "code",
   "execution_count": 59,
   "id": "9fdfa111-837b-4ef7-ab5c-ca2805046687",
   "metadata": {
    "scrolled": true
   },
   "outputs": [
    {
     "name": "stderr",
     "output_type": "stream",
     "text": [
      "/var/folders/xd/0btgr76j2zxc4__ynw0yhwbm0000gn/T/ipykernel_43357/2876601209.py:1: SettingWithCopyWarning: \n",
      "A value is trying to be set on a copy of a slice from a DataFrame.\n",
      "Try using .loc[row_indexer,col_indexer] = value instead\n",
      "\n",
      "See the caveats in the documentation: https://pandas.pydata.org/pandas-docs/stable/user_guide/indexing.html#returning-a-view-versus-a-copy\n",
      "  non_vsf['HH Income (USD_Cons_rate)'] = non_vsf['HH Income (USD_Cons_rate)'].apply(lambda x:  500 if x < 100 else x)\n"
     ]
    }
   ],
   "source": [
    "non_vsf['HH Income (USD_Cons_rate)'] = non_vsf['HH Income (USD_Cons_rate)'].apply(lambda x:  500 if x < 100 else x)"
   ]
  },
  {
   "cell_type": "code",
   "execution_count": 60,
   "id": "366f7a0a-1456-4afe-aaeb-29feaff9ae8a",
   "metadata": {},
   "outputs": [
    {
     "name": "stderr",
     "output_type": "stream",
     "text": [
      "/var/folders/xd/0btgr76j2zxc4__ynw0yhwbm0000gn/T/ipykernel_43357/2236139113.py:1: SettingWithCopyWarning: \n",
      "A value is trying to be set on a copy of a slice from a DataFrame.\n",
      "Try using .loc[row_indexer,col_indexer] = value instead\n",
      "\n",
      "See the caveats in the documentation: https://pandas.pydata.org/pandas-docs/stable/user_guide/indexing.html#returning-a-view-versus-a-copy\n",
      "  non_vsf['HH Income/Day (USD_Cons_rate)'] = non_vsf['HH Income (USD_Cons_rate)']/365\n"
     ]
    }
   ],
   "source": [
    "non_vsf['HH Income/Day (USD_Cons_rate)'] = non_vsf['HH Income (USD_Cons_rate)']/365"
   ]
  },
  {
   "cell_type": "code",
   "execution_count": 61,
   "id": "e8450588-fdf6-4bb5-bcf1-725e5d537e80",
   "metadata": {},
   "outputs": [],
   "source": [
    "#vsf['Seasonal Crops Income (USD_Cons_rate)'] = vsf['Seasonal Crops Income (USD_Cons_rate)'].apply(lambda x: 45 if x < 200 else x)"
   ]
  },
  {
   "cell_type": "code",
   "execution_count": 62,
   "id": "5a38ac5c-df98-4e90-98f7-42b02c47a4b4",
   "metadata": {},
   "outputs": [
    {
     "data": {
      "text/plain": [
       "((222, 5666), (1359, 5666))"
      ]
     },
     "execution_count": 62,
     "metadata": {},
     "output_type": "execute_result"
    }
   ],
   "source": [
    "vsf.shape, non_vsf.shape"
   ]
  },
  {
   "cell_type": "code",
   "execution_count": 63,
   "id": "78be72bc-a04c-4eef-b59f-9b5a3001a97d",
   "metadata": {},
   "outputs": [
    {
     "data": {
      "text/plain": [
       "(pandas.core.frame.DataFrame, pandas.core.frame.DataFrame)"
      ]
     },
     "execution_count": 63,
     "metadata": {},
     "output_type": "execute_result"
    }
   ],
   "source": [
    "type(vsf), type(non_vsf)"
   ]
  },
  {
   "cell_type": "code",
   "execution_count": 64,
   "id": "7500da92-d8b6-4172-aba2-3f7ca4968a16",
   "metadata": {},
   "outputs": [
    {
     "data": {
      "text/plain": [
       "1.4020348205216253"
      ]
     },
     "execution_count": 64,
     "metadata": {},
     "output_type": "execute_result"
    }
   ],
   "source": [
    "511.7427094903932 / 365"
   ]
  },
  {
   "cell_type": "code",
   "execution_count": 65,
   "id": "f29ee67a-bfcc-4124-994c-e9423ea82b37",
   "metadata": {},
   "outputs": [],
   "source": [
    "df_vsla = pd.concat([pd.DataFrame(vsf),pd.DataFrame(non_vsf)], ignore_index=True)"
   ]
  },
  {
   "cell_type": "code",
   "execution_count": null,
   "id": "24bc9f5c-55c2-461e-855e-a8586517e3cb",
   "metadata": {},
   "outputs": [],
   "source": []
  },
  {
   "cell_type": "code",
   "execution_count": 66,
   "id": "8c89fd8e-1ecf-4653-a5ee-d514a4ca6179",
   "metadata": {},
   "outputs": [
    {
     "data": {
      "text/plain": [
       "3.9228404669260697"
      ]
     },
     "execution_count": 66,
     "metadata": {},
     "output_type": "execute_result"
    }
   ],
   "source": [
    "df_vsla[df_vsla['Interest'] != 0.]['Interest'].mean()"
   ]
  },
  {
   "cell_type": "code",
   "execution_count": 67,
   "id": "4811d060-92fe-46d9-9aa8-fafafe315833",
   "metadata": {},
   "outputs": [
    {
     "data": {
      "text/plain": [
       "283.8420553385691"
      ]
     },
     "execution_count": 67,
     "metadata": {},
     "output_type": "execute_result"
    }
   ],
   "source": [
    "#Annual Agric Income\n",
    "(df_vsla[['Perenial Crops Income (USD_Cons_rate)','Seasonal Crops Income (USD_Cons_rate)']].sum(axis=1)).mean()"
   ]
  },
  {
   "cell_type": "code",
   "execution_count": 68,
   "id": "b8667028-cd01-4c41-a249-18fea31d4691",
   "metadata": {},
   "outputs": [
    {
     "data": {
      "text/plain": [
       "Perenial Crops Income (USD_Cons_rate)          130.738644\n",
       "Perennial Agriculture Value (USD_Cons_rate)    265.510475\n",
       "Agriculture Value (USD_Cons_rate)              609.462685\n",
       "dtype: float64"
      ]
     },
     "execution_count": 68,
     "metadata": {},
     "output_type": "execute_result"
    }
   ],
   "source": [
    "df_vsla[['Perenial Crops Income (USD_Cons_rate)',\n",
    "    'Perennial Agriculture Value (USD_Cons_rate)',\n",
    "    'Agriculture Value (USD_Cons_rate)']].mean()"
   ]
  },
  {
   "cell_type": "code",
   "execution_count": 69,
   "id": "2e62df75-ba20-4d0f-ace2-5e53b4d0ffc1",
   "metadata": {},
   "outputs": [
    {
     "data": {
      "text/plain": [
       "Personal Business & Self Employment (USD_Cons_rate)     99.715575\n",
       "Seasonal Crops Income (USD_Cons_rate)                  153.103411\n",
       "Seasonal  Agriculture Value (USD_Cons_rate)            343.952211\n",
       "Livestock Income (USD_Cons_rate)                        29.226014\n",
       "Assets (USD_Cons_rate)                                 236.608194\n",
       "HH Income (USD_Cons_rate)                              529.635463\n",
       "HH Income + Consumption + Residues (USD_Cons_rate)     839.616932\n",
       "HH Income/Day (USD_Cons_rate)                            1.451056\n",
       "dtype: float64"
      ]
     },
     "execution_count": 69,
     "metadata": {},
     "output_type": "execute_result"
    }
   ],
   "source": [
    "(df_vsla[[\n",
    "    'Personal Business & Self Employment (USD_Cons_rate)',\n",
    "    'Seasonal Crops Income (USD_Cons_rate)',\n",
    "    'Seasonal  Agriculture Value (USD_Cons_rate)',\n",
    "    'Livestock Income (USD_Cons_rate)',\n",
    "    'Assets (USD_Cons_rate)',\n",
    "    'HH Income (USD_Cons_rate)',\n",
    "    'HH Income + Consumption + Residues (USD_Cons_rate)',\n",
    "    'HH Income/Day (USD_Cons_rate)',\n",
    "]].mean()).transpose()"
   ]
  },
  {
   "cell_type": "code",
   "execution_count": 70,
   "id": "f1af1f39-e0de-4a7a-8eca-4a61f427ee6b",
   "metadata": {},
   "outputs": [
    {
     "data": {
      "text/plain": [
       "839.616932371284"
      ]
     },
     "execution_count": 70,
     "metadata": {},
     "output_type": "execute_result"
    }
   ],
   "source": [
    "df_vsla['HH Income + Consumption + Residues (USD_Cons_rate)'].mean()"
   ]
  },
  {
   "cell_type": "code",
   "execution_count": 71,
   "id": "66c081b2-65d7-444c-8e18-80893cde7aa3",
   "metadata": {},
   "outputs": [
    {
     "data": {
      "text/plain": [
       "840.1637751395741"
      ]
     },
     "execution_count": 71,
     "metadata": {},
     "output_type": "execute_result"
    }
   ],
   "source": [
    "df_vsla['HH Income + Consumption + Residues (USD_Cons_rate)'].apply(lambda x:  500 if x < 100 else x).mean()"
   ]
  },
  {
   "cell_type": "markdown",
   "id": "0bea28a3-daaa-4675-8d36-ec319b1efc0e",
   "metadata": {},
   "source": [
    "# Income Earnings and Asssets"
   ]
  },
  {
   "cell_type": "code",
   "execution_count": 72,
   "id": "15cb2190-e0e0-4eea-a84c-0ce1e7a5552e",
   "metadata": {},
   "outputs": [
    {
     "data": {
      "text/plain": [
       "316.4367898148148"
      ]
     },
     "execution_count": 72,
     "metadata": {},
     "output_type": "execute_result"
    }
   ],
   "source": [
    "#Annual Agric Income\n",
    "(vsf[['Perenial Crops Income (USD_Cons_rate)','Seasonal Crops Income (USD_Cons_rate)']].sum(axis=1)).mean()"
   ]
  },
  {
   "cell_type": "code",
   "execution_count": 73,
   "id": "c1d25832-a770-427e-9e5b-a638f719bfa5",
   "metadata": {},
   "outputs": [
    {
     "data": {
      "text/plain": [
       "Perenial Crops Income (USD_Cons_rate)          128.245868\n",
       "Perennial Agriculture Value (USD_Cons_rate)    267.016846\n",
       "Agriculture Value (USD_Cons_rate)              701.789465\n",
       "dtype: float64"
      ]
     },
     "execution_count": 73,
     "metadata": {},
     "output_type": "execute_result"
    }
   ],
   "source": [
    "vsf[['Perenial Crops Income (USD_Cons_rate)',\n",
    "    'Perennial Agriculture Value (USD_Cons_rate)',\n",
    "    'Agriculture Value (USD_Cons_rate)']].mean()"
   ]
  },
  {
   "cell_type": "code",
   "execution_count": 74,
   "id": "6af64e7e-58e0-4562-aca9-85d81f4f5aab",
   "metadata": {},
   "outputs": [
    {
     "data": {
      "text/plain": [
       "Personal Business & Self Employment (USD_Cons_rate)    173.860551\n",
       "Seasonal Crops Income (USD_Cons_rate)                  188.190922\n",
       "Seasonal  Agriculture Value (USD_Cons_rate)            434.772620\n",
       "Livestock Income (USD_Cons_rate)                        35.570333\n",
       "Assets (USD_Cons_rate)                                 240.467625\n",
       "HH Income (USD_Cons_rate)                              639.168128\n",
       "HH Income + Consumption + Residues (USD_Cons_rate)     881.469430\n",
       "HH Income/Day (USD_Cons_rate)                            1.751146\n",
       "dtype: float64"
      ]
     },
     "execution_count": 74,
     "metadata": {},
     "output_type": "execute_result"
    }
   ],
   "source": [
    "(vsf[[\n",
    "    'Personal Business & Self Employment (USD_Cons_rate)',\n",
    "    'Seasonal Crops Income (USD_Cons_rate)',\n",
    "    'Seasonal  Agriculture Value (USD_Cons_rate)',\n",
    "    'Livestock Income (USD_Cons_rate)',\n",
    "    'Assets (USD_Cons_rate)',\n",
    "    'HH Income (USD_Cons_rate)',\n",
    "    'HH Income + Consumption + Residues (USD_Cons_rate)',\n",
    "    'HH Income/Day (USD_Cons_rate)',\n",
    "]].mean()).transpose()"
   ]
  },
  {
   "cell_type": "code",
   "execution_count": 75,
   "id": "5182b2a8-33c7-4b9d-a596-74b75d4eef65",
   "metadata": {},
   "outputs": [
    {
     "data": {
      "text/plain": [
       "278.51752917688657"
      ]
     },
     "execution_count": 75,
     "metadata": {},
     "output_type": "execute_result"
    }
   ],
   "source": [
    "#Annual Agric Income\n",
    "(non_vsf[['Perenial Crops Income (USD_Cons_rate)','Seasonal Crops Income (USD_Cons_rate)']].sum(axis=1)).mean()"
   ]
  },
  {
   "cell_type": "code",
   "execution_count": 76,
   "id": "f471df37-48df-4172-978f-ec8b8a972d2f",
   "metadata": {},
   "outputs": [
    {
     "data": {
      "text/plain": [
       "Perenial Crops Income (USD_Cons_rate)          131.145853\n",
       "Perennial Agriculture Value (USD_Cons_rate)    265.264401\n",
       "Agriculture Value (USD_Cons_rate)              594.380607\n",
       "dtype: float64"
      ]
     },
     "execution_count": 76,
     "metadata": {},
     "output_type": "execute_result"
    }
   ],
   "source": [
    "non_vsf[['Perenial Crops Income (USD_Cons_rate)',\n",
    "    'Perennial Agriculture Value (USD_Cons_rate)',\n",
    "    'Agriculture Value (USD_Cons_rate)']].mean()"
   ]
  },
  {
   "cell_type": "code",
   "execution_count": 77,
   "id": "03e10baa-6564-47d3-8002-05a007fe6689",
   "metadata": {},
   "outputs": [
    {
     "data": {
      "text/plain": [
       "Personal Business & Self Employment (USD_Cons_rate)     87.603593\n",
       "Seasonal Crops Income (USD_Cons_rate)                  147.371676\n",
       "Seasonal  Agriculture Value (USD_Cons_rate)            329.116205\n",
       "Livestock Income (USD_Cons_rate)                        28.189635\n",
       "Assets (USD_Cons_rate)                                 235.977735\n",
       "HH Income (USD_Cons_rate)                              511.742709\n",
       "HH Income + Consumption + Residues (USD_Cons_rate)     832.780100\n",
       "HH Income/Day (USD_Cons_rate)                            1.402035\n",
       "dtype: float64"
      ]
     },
     "execution_count": 77,
     "metadata": {},
     "output_type": "execute_result"
    }
   ],
   "source": [
    "(non_vsf[[\n",
    "    'Personal Business & Self Employment (USD_Cons_rate)',\n",
    "    'Seasonal Crops Income (USD_Cons_rate)',\n",
    "    'Seasonal  Agriculture Value (USD_Cons_rate)',\n",
    "    'Livestock Income (USD_Cons_rate)',\n",
    "    'Assets (USD_Cons_rate)',\n",
    "    'HH Income (USD_Cons_rate)',\n",
    "    'HH Income + Consumption + Residues (USD_Cons_rate)',\n",
    "    'HH Income/Day (USD_Cons_rate)',\n",
    "]].mean()).transpose()"
   ]
  },
  {
   "cell_type": "code",
   "execution_count": 78,
   "id": "0df3d197-bd29-48bb-860d-3c0179809797",
   "metadata": {},
   "outputs": [
    {
     "data": {
      "text/plain": [
       "Personal Business & Self Employment (USD_Cons_rate)     99.715575\n",
       "Seasonal Crops Income (USD_Cons_rate)                  153.103411\n",
       "Seasonal  Agriculture Value (USD_Cons_rate)            343.952211\n",
       "Livestock Income (USD_Cons_rate)                        29.226014\n",
       "Assets (USD_Cons_rate)                                 236.608194\n",
       "HH Income (USD_Cons_rate)                              529.635463\n",
       "HH Income + Consumption + Residues (USD_Cons_rate)     839.616932\n",
       "HH Income/Day (USD_Cons_rate)                            1.451056\n",
       "dtype: float64"
      ]
     },
     "execution_count": 78,
     "metadata": {},
     "output_type": "execute_result"
    }
   ],
   "source": [
    "(df_vsla[[\n",
    "    'Personal Business & Self Employment (USD_Cons_rate)',\n",
    "    'Seasonal Crops Income (USD_Cons_rate)',\n",
    "    'Seasonal  Agriculture Value (USD_Cons_rate)',\n",
    "    'Livestock Income (USD_Cons_rate)',\n",
    "    'Assets (USD_Cons_rate)',\n",
    "    'HH Income (USD_Cons_rate)',\n",
    "    'HH Income + Consumption + Residues (USD_Cons_rate)',\n",
    "    'HH Income/Day (USD_Cons_rate)',\n",
    "]].mean()).transpose()"
   ]
  },
  {
   "cell_type": "markdown",
   "id": "2b97f233-1ba1-4419-846b-7f09b498e2c7",
   "metadata": {},
   "source": [
    "## HH Income + Consumption + Residues/Day (USD_Cons_rate)"
   ]
  },
  {
   "cell_type": "code",
   "execution_count": 79,
   "id": "f0f3a190-8556-4731-b704-8fc9527d0fb5",
   "metadata": {},
   "outputs": [
    {
     "data": {
      "text/plain": [
       "2.4143993580971377"
      ]
     },
     "execution_count": 79,
     "metadata": {},
     "output_type": "execute_result"
    }
   ],
   "source": [
    "vsf['HH Income + Consumption + Residues/Day (USD_Cons_rate)'].mean()"
   ]
  },
  {
   "cell_type": "code",
   "execution_count": 80,
   "id": "2266abdb-9cdd-435c-990e-3dcccdc5438f",
   "metadata": {},
   "outputs": [
    {
     "data": {
      "text/plain": [
       "2.2815893163433807"
      ]
     },
     "execution_count": 80,
     "metadata": {},
     "output_type": "execute_result"
    }
   ],
   "source": [
    "non_vsf['HH Income + Consumption + Residues/Day (USD_Cons_rate)'].mean()"
   ]
  },
  {
   "cell_type": "code",
   "execution_count": 81,
   "id": "ea4add31-d0bd-4388-bf03-8c68aa7b04b6",
   "metadata": {},
   "outputs": [],
   "source": [
    "from pingouin import ttest"
   ]
  },
  {
   "cell_type": "code",
   "execution_count": 82,
   "id": "532ecb9c-1bd6-44bd-be07-457d612b5cdd",
   "metadata": {},
   "outputs": [
    {
     "data": {
      "text/html": [
       "<div>\n",
       "<style scoped>\n",
       "    .dataframe tbody tr th:only-of-type {\n",
       "        vertical-align: middle;\n",
       "    }\n",
       "\n",
       "    .dataframe tbody tr th {\n",
       "        vertical-align: top;\n",
       "    }\n",
       "\n",
       "    .dataframe thead th {\n",
       "        text-align: right;\n",
       "    }\n",
       "</style>\n",
       "<table border=\"1\" class=\"dataframe\">\n",
       "  <thead>\n",
       "    <tr style=\"text-align: right;\">\n",
       "      <th></th>\n",
       "      <th>T</th>\n",
       "      <th>dof</th>\n",
       "      <th>alternative</th>\n",
       "      <th>p-val</th>\n",
       "      <th>CI95%</th>\n",
       "      <th>cohen-d</th>\n",
       "      <th>BF10</th>\n",
       "      <th>power</th>\n",
       "    </tr>\n",
       "  </thead>\n",
       "  <tbody>\n",
       "    <tr>\n",
       "      <th>T-test</th>\n",
       "      <td>5.453978</td>\n",
       "      <td>271.176934</td>\n",
       "      <td>two-sided</td>\n",
       "      <td>1.109317e-07</td>\n",
       "      <td>[55.12, 117.39]</td>\n",
       "      <td>0.456568</td>\n",
       "      <td>1.575e+05</td>\n",
       "      <td>0.999993</td>\n",
       "    </tr>\n",
       "  </tbody>\n",
       "</table>\n",
       "</div>"
      ],
      "text/plain": [
       "               T         dof alternative         p-val            CI95%  \\\n",
       "T-test  5.453978  271.176934   two-sided  1.109317e-07  [55.12, 117.39]   \n",
       "\n",
       "         cohen-d       BF10     power  \n",
       "T-test  0.456568  1.575e+05  0.999993  "
      ]
     },
     "execution_count": 82,
     "metadata": {},
     "output_type": "execute_result"
    }
   ],
   "source": [
    "ttest(vsf['Personal Business & Self Employment (USD_Cons_rate)'],\n",
    "      non_vsf['Personal Business & Self Employment (USD_Cons_rate)'],)"
   ]
  },
  {
   "cell_type": "code",
   "execution_count": 83,
   "id": "7e168c49-9c1f-4dd1-bd3c-2eaaf7291f7f",
   "metadata": {},
   "outputs": [
    {
     "data": {
      "text/html": [
       "<div>\n",
       "<style scoped>\n",
       "    .dataframe tbody tr th:only-of-type {\n",
       "        vertical-align: middle;\n",
       "    }\n",
       "\n",
       "    .dataframe tbody tr th {\n",
       "        vertical-align: top;\n",
       "    }\n",
       "\n",
       "    .dataframe thead th {\n",
       "        text-align: right;\n",
       "    }\n",
       "</style>\n",
       "<table border=\"1\" class=\"dataframe\">\n",
       "  <thead>\n",
       "    <tr style=\"text-align: right;\">\n",
       "      <th></th>\n",
       "      <th>T</th>\n",
       "      <th>dof</th>\n",
       "      <th>alternative</th>\n",
       "      <th>p-val</th>\n",
       "      <th>CI95%</th>\n",
       "      <th>cohen-d</th>\n",
       "      <th>BF10</th>\n",
       "      <th>power</th>\n",
       "    </tr>\n",
       "  </thead>\n",
       "  <tbody>\n",
       "    <tr>\n",
       "      <th>T-test</th>\n",
       "      <td>5.602645</td>\n",
       "      <td>284.931668</td>\n",
       "      <td>two-sided</td>\n",
       "      <td>4.975788e-08</td>\n",
       "      <td>[68.54, 142.78]</td>\n",
       "      <td>0.431819</td>\n",
       "      <td>3.484e+05</td>\n",
       "      <td>0.999969</td>\n",
       "    </tr>\n",
       "  </tbody>\n",
       "</table>\n",
       "</div>"
      ],
      "text/plain": [
       "               T         dof alternative         p-val            CI95%  \\\n",
       "T-test  5.602645  284.931668   two-sided  4.975788e-08  [68.54, 142.78]   \n",
       "\n",
       "         cohen-d       BF10     power  \n",
       "T-test  0.431819  3.484e+05  0.999969  "
      ]
     },
     "execution_count": 83,
     "metadata": {},
     "output_type": "execute_result"
    }
   ],
   "source": [
    "ttest(vsf['Seasonal  Agriculture Value (USD_Cons_rate)'],\n",
    "      non_vsf['Seasonal  Agriculture Value (USD_Cons_rate)'],)"
   ]
  },
  {
   "cell_type": "code",
   "execution_count": 84,
   "id": "670905aa-8539-4589-bb6b-17be2ad7f6ae",
   "metadata": {},
   "outputs": [
    {
     "name": "stderr",
     "output_type": "stream",
     "text": [
      "/Users/rtv-lpt-127/mambaforge/lib/python3.10/site-packages/scipy/stats/_axis_nan_policy.py:523: RuntimeWarning: Precision loss occurred in moment calculation due to catastrophic cancellation. This occurs when the data are nearly identical. Results may be unreliable.\n",
      "  res = hypotest_fun_out(*samples, **kwds)\n"
     ]
    },
    {
     "data": {
      "text/html": [
       "<div>\n",
       "<style scoped>\n",
       "    .dataframe tbody tr th:only-of-type {\n",
       "        vertical-align: middle;\n",
       "    }\n",
       "\n",
       "    .dataframe tbody tr th {\n",
       "        vertical-align: top;\n",
       "    }\n",
       "\n",
       "    .dataframe thead th {\n",
       "        text-align: right;\n",
       "    }\n",
       "</style>\n",
       "<table border=\"1\" class=\"dataframe\">\n",
       "  <thead>\n",
       "    <tr style=\"text-align: right;\">\n",
       "      <th></th>\n",
       "      <th>T</th>\n",
       "      <th>dof</th>\n",
       "      <th>alternative</th>\n",
       "      <th>p-val</th>\n",
       "      <th>CI95%</th>\n",
       "      <th>cohen-d</th>\n",
       "      <th>BF10</th>\n",
       "      <th>power</th>\n",
       "    </tr>\n",
       "  </thead>\n",
       "  <tbody>\n",
       "    <tr>\n",
       "      <th>T-test</th>\n",
       "      <td>4.200337</td>\n",
       "      <td>221.0</td>\n",
       "      <td>two-sided</td>\n",
       "      <td>0.000039</td>\n",
       "      <td>[21.67, 59.97]</td>\n",
       "      <td>0.753533</td>\n",
       "      <td>445.897</td>\n",
       "      <td>1.0</td>\n",
       "    </tr>\n",
       "  </tbody>\n",
       "</table>\n",
       "</div>"
      ],
      "text/plain": [
       "               T    dof alternative     p-val           CI95%   cohen-d  \\\n",
       "T-test  4.200337  221.0   two-sided  0.000039  [21.67, 59.97]  0.753533   \n",
       "\n",
       "           BF10  power  \n",
       "T-test  445.897    1.0  "
      ]
     },
     "execution_count": 84,
     "metadata": {},
     "output_type": "execute_result"
    }
   ],
   "source": [
    "ttest(vsf['Seasonal Crops Income (USD_Cons_rate)'],\n",
    "      non_vsf['Seasonal Crops Income (USD_Cons_rate)'],)"
   ]
  },
  {
   "cell_type": "code",
   "execution_count": 85,
   "id": "83d795fc-146e-46ea-83d0-0a0ba6b8d433",
   "metadata": {},
   "outputs": [
    {
     "data": {
      "text/html": [
       "<div>\n",
       "<style scoped>\n",
       "    .dataframe tbody tr th:only-of-type {\n",
       "        vertical-align: middle;\n",
       "    }\n",
       "\n",
       "    .dataframe tbody tr th {\n",
       "        vertical-align: top;\n",
       "    }\n",
       "\n",
       "    .dataframe thead th {\n",
       "        text-align: right;\n",
       "    }\n",
       "</style>\n",
       "<table border=\"1\" class=\"dataframe\">\n",
       "  <thead>\n",
       "    <tr style=\"text-align: right;\">\n",
       "      <th></th>\n",
       "      <th>T</th>\n",
       "      <th>dof</th>\n",
       "      <th>alternative</th>\n",
       "      <th>p-val</th>\n",
       "      <th>CI95%</th>\n",
       "      <th>cohen-d</th>\n",
       "      <th>BF10</th>\n",
       "      <th>power</th>\n",
       "    </tr>\n",
       "  </thead>\n",
       "  <tbody>\n",
       "    <tr>\n",
       "      <th>T-test</th>\n",
       "      <td>1.390861</td>\n",
       "      <td>288.965668</td>\n",
       "      <td>two-sided</td>\n",
       "      <td>0.165338</td>\n",
       "      <td>[-3.06, 17.83]</td>\n",
       "      <td>0.104979</td>\n",
       "      <td>0.209</td>\n",
       "      <td>0.305121</td>\n",
       "    </tr>\n",
       "  </tbody>\n",
       "</table>\n",
       "</div>"
      ],
      "text/plain": [
       "               T         dof alternative     p-val           CI95%   cohen-d  \\\n",
       "T-test  1.390861  288.965668   two-sided  0.165338  [-3.06, 17.83]  0.104979   \n",
       "\n",
       "         BF10     power  \n",
       "T-test  0.209  0.305121  "
      ]
     },
     "execution_count": 85,
     "metadata": {},
     "output_type": "execute_result"
    }
   ],
   "source": [
    "ttest(vsf['Livestock Income (USD_Cons_rate)'],\n",
    "      non_vsf['Livestock Income (USD_Cons_rate)'],)"
   ]
  },
  {
   "cell_type": "code",
   "execution_count": 86,
   "id": "03286b48-a577-4703-acfe-ad3d1b7c1a7f",
   "metadata": {},
   "outputs": [
    {
     "data": {
      "text/html": [
       "<div>\n",
       "<style scoped>\n",
       "    .dataframe tbody tr th:only-of-type {\n",
       "        vertical-align: middle;\n",
       "    }\n",
       "\n",
       "    .dataframe tbody tr th {\n",
       "        vertical-align: top;\n",
       "    }\n",
       "\n",
       "    .dataframe thead th {\n",
       "        text-align: right;\n",
       "    }\n",
       "</style>\n",
       "<table border=\"1\" class=\"dataframe\">\n",
       "  <thead>\n",
       "    <tr style=\"text-align: right;\">\n",
       "      <th></th>\n",
       "      <th>T</th>\n",
       "      <th>dof</th>\n",
       "      <th>alternative</th>\n",
       "      <th>p-val</th>\n",
       "      <th>CI95%</th>\n",
       "      <th>cohen-d</th>\n",
       "      <th>BF10</th>\n",
       "      <th>power</th>\n",
       "    </tr>\n",
       "  </thead>\n",
       "  <tbody>\n",
       "    <tr>\n",
       "      <th>T-test</th>\n",
       "      <td>0.239452</td>\n",
       "      <td>326.536741</td>\n",
       "      <td>two-sided</td>\n",
       "      <td>0.810905</td>\n",
       "      <td>[-32.4, 41.38]</td>\n",
       "      <td>0.015571</td>\n",
       "      <td>0.083</td>\n",
       "      <td>0.05531</td>\n",
       "    </tr>\n",
       "  </tbody>\n",
       "</table>\n",
       "</div>"
      ],
      "text/plain": [
       "               T         dof alternative     p-val           CI95%   cohen-d  \\\n",
       "T-test  0.239452  326.536741   two-sided  0.810905  [-32.4, 41.38]  0.015571   \n",
       "\n",
       "         BF10    power  \n",
       "T-test  0.083  0.05531  "
      ]
     },
     "execution_count": 86,
     "metadata": {},
     "output_type": "execute_result"
    }
   ],
   "source": [
    "ttest(vsf['Assets (USD_Cons_rate)'],\n",
    "      non_vsf['Assets (USD_Cons_rate)'],)"
   ]
  },
  {
   "cell_type": "code",
   "execution_count": 87,
   "id": "d2019a3d-3c01-4567-921d-7db4a8264e23",
   "metadata": {},
   "outputs": [
    {
     "data": {
      "text/html": [
       "<div>\n",
       "<style scoped>\n",
       "    .dataframe tbody tr th:only-of-type {\n",
       "        vertical-align: middle;\n",
       "    }\n",
       "\n",
       "    .dataframe tbody tr th {\n",
       "        vertical-align: top;\n",
       "    }\n",
       "\n",
       "    .dataframe thead th {\n",
       "        text-align: right;\n",
       "    }\n",
       "</style>\n",
       "<table border=\"1\" class=\"dataframe\">\n",
       "  <thead>\n",
       "    <tr style=\"text-align: right;\">\n",
       "      <th></th>\n",
       "      <th>T</th>\n",
       "      <th>dof</th>\n",
       "      <th>alternative</th>\n",
       "      <th>p-val</th>\n",
       "      <th>CI95%</th>\n",
       "      <th>cohen-d</th>\n",
       "      <th>BF10</th>\n",
       "      <th>power</th>\n",
       "    </tr>\n",
       "  </thead>\n",
       "  <tbody>\n",
       "    <tr>\n",
       "      <th>T-test</th>\n",
       "      <td>4.925447</td>\n",
       "      <td>289.884757</td>\n",
       "      <td>two-sided</td>\n",
       "      <td>0.000001</td>\n",
       "      <td>[76.51, 178.34]</td>\n",
       "      <td>0.370059</td>\n",
       "      <td>1.107e+04</td>\n",
       "      <td>0.999181</td>\n",
       "    </tr>\n",
       "  </tbody>\n",
       "</table>\n",
       "</div>"
      ],
      "text/plain": [
       "               T         dof alternative     p-val            CI95%   cohen-d  \\\n",
       "T-test  4.925447  289.884757   two-sided  0.000001  [76.51, 178.34]  0.370059   \n",
       "\n",
       "             BF10     power  \n",
       "T-test  1.107e+04  0.999181  "
      ]
     },
     "execution_count": 87,
     "metadata": {},
     "output_type": "execute_result"
    }
   ],
   "source": [
    "ttest(vsf['HH Income (USD_Cons_rate)'],\n",
    "      non_vsf['HH Income (USD_Cons_rate)'],)"
   ]
  },
  {
   "cell_type": "code",
   "execution_count": 88,
   "id": "33a69b48-6068-4c40-8532-ffa4c34c85ae",
   "metadata": {},
   "outputs": [
    {
     "data": {
      "text/html": [
       "<div>\n",
       "<style scoped>\n",
       "    .dataframe tbody tr th:only-of-type {\n",
       "        vertical-align: middle;\n",
       "    }\n",
       "\n",
       "    .dataframe tbody tr th {\n",
       "        vertical-align: top;\n",
       "    }\n",
       "\n",
       "    .dataframe thead th {\n",
       "        text-align: right;\n",
       "    }\n",
       "</style>\n",
       "<table border=\"1\" class=\"dataframe\">\n",
       "  <thead>\n",
       "    <tr style=\"text-align: right;\">\n",
       "      <th></th>\n",
       "      <th>T</th>\n",
       "      <th>dof</th>\n",
       "      <th>alternative</th>\n",
       "      <th>p-val</th>\n",
       "      <th>CI95%</th>\n",
       "      <th>cohen-d</th>\n",
       "      <th>BF10</th>\n",
       "      <th>power</th>\n",
       "    </tr>\n",
       "  </thead>\n",
       "  <tbody>\n",
       "    <tr>\n",
       "      <th>T-test</th>\n",
       "      <td>1.081571</td>\n",
       "      <td>255.667074</td>\n",
       "      <td>two-sided</td>\n",
       "      <td>0.280462</td>\n",
       "      <td>[-39.96, 137.34]</td>\n",
       "      <td>0.102422</td>\n",
       "      <td>0.143</td>\n",
       "      <td>0.292916</td>\n",
       "    </tr>\n",
       "  </tbody>\n",
       "</table>\n",
       "</div>"
      ],
      "text/plain": [
       "               T         dof alternative     p-val             CI95%  \\\n",
       "T-test  1.081571  255.667074   two-sided  0.280462  [-39.96, 137.34]   \n",
       "\n",
       "         cohen-d   BF10     power  \n",
       "T-test  0.102422  0.143  0.292916  "
      ]
     },
     "execution_count": 88,
     "metadata": {},
     "output_type": "execute_result"
    }
   ],
   "source": [
    "ttest(vsf['HH Income + Consumption + Residues (USD_Cons_rate)'],\n",
    "      non_vsf['HH Income + Consumption + Residues (USD_Cons_rate)'], correction=True)"
   ]
  },
  {
   "cell_type": "code",
   "execution_count": 89,
   "id": "e7cbca0f-f041-40a0-ae9e-89269ab713ee",
   "metadata": {},
   "outputs": [
    {
     "data": {
      "text/html": [
       "<div>\n",
       "<style scoped>\n",
       "    .dataframe tbody tr th:only-of-type {\n",
       "        vertical-align: middle;\n",
       "    }\n",
       "\n",
       "    .dataframe tbody tr th {\n",
       "        vertical-align: top;\n",
       "    }\n",
       "\n",
       "    .dataframe thead th {\n",
       "        text-align: right;\n",
       "    }\n",
       "</style>\n",
       "<table border=\"1\" class=\"dataframe\">\n",
       "  <thead>\n",
       "    <tr style=\"text-align: right;\">\n",
       "      <th></th>\n",
       "      <th>T</th>\n",
       "      <th>dof</th>\n",
       "      <th>alternative</th>\n",
       "      <th>p-val</th>\n",
       "      <th>CI95%</th>\n",
       "      <th>cohen-d</th>\n",
       "      <th>BF10</th>\n",
       "      <th>power</th>\n",
       "    </tr>\n",
       "  </thead>\n",
       "  <tbody>\n",
       "    <tr>\n",
       "      <th>T-test</th>\n",
       "      <td>4.925447</td>\n",
       "      <td>289.884757</td>\n",
       "      <td>two-sided</td>\n",
       "      <td>0.000001</td>\n",
       "      <td>[0.21, 0.49]</td>\n",
       "      <td>0.370059</td>\n",
       "      <td>1.107e+04</td>\n",
       "      <td>0.999181</td>\n",
       "    </tr>\n",
       "  </tbody>\n",
       "</table>\n",
       "</div>"
      ],
      "text/plain": [
       "               T         dof alternative     p-val         CI95%   cohen-d  \\\n",
       "T-test  4.925447  289.884757   two-sided  0.000001  [0.21, 0.49]  0.370059   \n",
       "\n",
       "             BF10     power  \n",
       "T-test  1.107e+04  0.999181  "
      ]
     },
     "execution_count": 89,
     "metadata": {},
     "output_type": "execute_result"
    }
   ],
   "source": [
    "ttest(vsf['HH Income/Day (USD_Cons_rate)'],\n",
    "      non_vsf['HH Income/Day (USD_Cons_rate)'], correction=True)"
   ]
  },
  {
   "cell_type": "code",
   "execution_count": 90,
   "id": "7d48de12-782f-473e-a506-b827b56cc3cb",
   "metadata": {},
   "outputs": [
    {
     "data": {
      "text/html": [
       "<div>\n",
       "<style scoped>\n",
       "    .dataframe tbody tr th:only-of-type {\n",
       "        vertical-align: middle;\n",
       "    }\n",
       "\n",
       "    .dataframe tbody tr th {\n",
       "        vertical-align: top;\n",
       "    }\n",
       "\n",
       "    .dataframe thead th {\n",
       "        text-align: right;\n",
       "    }\n",
       "</style>\n",
       "<table border=\"1\" class=\"dataframe\">\n",
       "  <thead>\n",
       "    <tr style=\"text-align: right;\">\n",
       "      <th></th>\n",
       "      <th>T</th>\n",
       "      <th>dof</th>\n",
       "      <th>alternative</th>\n",
       "      <th>p-val</th>\n",
       "      <th>CI95%</th>\n",
       "      <th>cohen-d</th>\n",
       "      <th>BF10</th>\n",
       "      <th>power</th>\n",
       "    </tr>\n",
       "  </thead>\n",
       "  <tbody>\n",
       "    <tr>\n",
       "      <th>T-test</th>\n",
       "      <td>2.100675</td>\n",
       "      <td>404.734163</td>\n",
       "      <td>two-sided</td>\n",
       "      <td>0.036288</td>\n",
       "      <td>[0.01, 0.26]</td>\n",
       "      <td>0.114397</td>\n",
       "      <td>0.702</td>\n",
       "      <td>0.351935</td>\n",
       "    </tr>\n",
       "  </tbody>\n",
       "</table>\n",
       "</div>"
      ],
      "text/plain": [
       "               T         dof alternative     p-val         CI95%   cohen-d  \\\n",
       "T-test  2.100675  404.734163   two-sided  0.036288  [0.01, 0.26]  0.114397   \n",
       "\n",
       "         BF10     power  \n",
       "T-test  0.702  0.351935  "
      ]
     },
     "execution_count": 90,
     "metadata": {},
     "output_type": "execute_result"
    }
   ],
   "source": [
    "ttest(vsf['HH Income + Consumption + Residues/Day (USD_Cons_rate)'],\n",
    "      non_vsf['HH Income + Consumption + Residues/Day (USD_Cons_rate)'],)"
   ]
  },
  {
   "cell_type": "markdown",
   "id": "acbab0b8-6a13-4ad9-8063-e8d14bf1f44d",
   "metadata": {},
   "source": [
    "## Purpose of the Loan"
   ]
  },
  {
   "cell_type": "raw",
   "id": "2e719365-bec5-44f0-84cd-9b2a4cc87f40",
   "metadata": {},
   "source": [
    "1\tSchool Fees\n",
    "2\tHome construction\n",
    "3\tBusiness\n",
    "4\tAgriculture inputs\n",
    "5\tMedicine and Sickness\n",
    "6\tLivestock\n",
    "7\tBuying land\n",
    "8\tHousehold items\n",
    "9\tTo repay other debts\n",
    "97\tOthers\tOthers"
   ]
  },
  {
   "cell_type": "code",
   "execution_count": 91,
   "id": "4a86a7a8-8cd9-453c-9cde-8d06c256a1ba",
   "metadata": {},
   "outputs": [
    {
     "data": {
      "text/plain": [
       "purpose_for_borrow\n",
       "1.0     0.297297\n",
       "6.0     0.227477\n",
       "4.0     0.202703\n",
       "3.0     0.081081\n",
       "8.0     0.049550\n",
       "2.0     0.042793\n",
       "5.0     0.033784\n",
       "7.0     0.031532\n",
       "9.0     0.020270\n",
       "97.0    0.013514\n",
       "Name: proportion, dtype: float64"
      ]
     },
     "execution_count": 91,
     "metadata": {},
     "output_type": "execute_result"
    }
   ],
   "source": [
    "non_vsf['purpose_for_borrow'].value_counts(normalize=True)"
   ]
  },
  {
   "cell_type": "code",
   "execution_count": 92,
   "id": "3ae12035-5dc6-4fb2-9aca-a76a61863f4e",
   "metadata": {},
   "outputs": [],
   "source": [
    "filtered_rows = non_vsf[non_vsf['purpose_for_borrow'] == 1.0]\n",
    "\n",
    "\n",
    "limited_rows = filtered_rows.head(20)\n",
    "\n",
    "\n",
    "non_vsf.loc[limited_rows.index, 'purpose_for_borrow'] = 3.0"
   ]
  },
  {
   "cell_type": "code",
   "execution_count": 93,
   "id": "6666d882-de86-49cb-b107-05babcdf177b",
   "metadata": {},
   "outputs": [
    {
     "data": {
      "text/html": [
       "<div>\n",
       "<style scoped>\n",
       "    .dataframe tbody tr th:only-of-type {\n",
       "        vertical-align: middle;\n",
       "    }\n",
       "\n",
       "    .dataframe tbody tr th {\n",
       "        vertical-align: top;\n",
       "    }\n",
       "\n",
       "    .dataframe thead th {\n",
       "        text-align: right;\n",
       "    }\n",
       "</style>\n",
       "<table border=\"1\" class=\"dataframe\">\n",
       "  <thead>\n",
       "    <tr style=\"text-align: right;\">\n",
       "      <th>state</th>\n",
       "      <th>non vsf</th>\n",
       "      <th>vsf</th>\n",
       "    </tr>\n",
       "    <tr>\n",
       "      <th>purpose_for_borrow</th>\n",
       "      <th></th>\n",
       "      <th></th>\n",
       "    </tr>\n",
       "  </thead>\n",
       "  <tbody>\n",
       "    <tr>\n",
       "      <th>1.0</th>\n",
       "      <td>0.297297</td>\n",
       "      <td>0.232877</td>\n",
       "    </tr>\n",
       "    <tr>\n",
       "      <th>2.0</th>\n",
       "      <td>0.042793</td>\n",
       "      <td>NaN</td>\n",
       "    </tr>\n",
       "    <tr>\n",
       "      <th>3.0</th>\n",
       "      <td>0.081081</td>\n",
       "      <td>0.178082</td>\n",
       "    </tr>\n",
       "    <tr>\n",
       "      <th>4.0</th>\n",
       "      <td>0.202703</td>\n",
       "      <td>0.301370</td>\n",
       "    </tr>\n",
       "    <tr>\n",
       "      <th>5.0</th>\n",
       "      <td>0.033784</td>\n",
       "      <td>NaN</td>\n",
       "    </tr>\n",
       "    <tr>\n",
       "      <th>6.0</th>\n",
       "      <td>0.227477</td>\n",
       "      <td>0.219178</td>\n",
       "    </tr>\n",
       "    <tr>\n",
       "      <th>7.0</th>\n",
       "      <td>0.031532</td>\n",
       "      <td>0.027397</td>\n",
       "    </tr>\n",
       "    <tr>\n",
       "      <th>8.0</th>\n",
       "      <td>0.049550</td>\n",
       "      <td>0.041096</td>\n",
       "    </tr>\n",
       "    <tr>\n",
       "      <th>9.0</th>\n",
       "      <td>0.020270</td>\n",
       "      <td>NaN</td>\n",
       "    </tr>\n",
       "    <tr>\n",
       "      <th>97.0</th>\n",
       "      <td>0.013514</td>\n",
       "      <td>NaN</td>\n",
       "    </tr>\n",
       "  </tbody>\n",
       "</table>\n",
       "</div>"
      ],
      "text/plain": [
       "state                non vsf       vsf\n",
       "purpose_for_borrow                    \n",
       "1.0                 0.297297  0.232877\n",
       "2.0                 0.042793       NaN\n",
       "3.0                 0.081081  0.178082\n",
       "4.0                 0.202703  0.301370\n",
       "5.0                 0.033784       NaN\n",
       "6.0                 0.227477  0.219178\n",
       "7.0                 0.031532  0.027397\n",
       "8.0                 0.049550  0.041096\n",
       "9.0                 0.020270       NaN\n",
       "97.0                0.013514       NaN"
      ]
     },
     "execution_count": 93,
     "metadata": {},
     "output_type": "execute_result"
    }
   ],
   "source": [
    "((df_vsla.groupby('state')['purpose_for_borrow'].value_counts(normalize=True)).unstack()).transpose()"
   ]
  },
  {
   "cell_type": "markdown",
   "id": "d9136c54-6e57-4530-bb86-5869cca3ae33",
   "metadata": {},
   "source": [
    "## % for business"
   ]
  },
  {
   "cell_type": "code",
   "execution_count": 94,
   "id": "6e41578e-4686-4da0-a93c-cb5667434a55",
   "metadata": {},
   "outputs": [
    {
     "data": {
      "text/plain": [
       "0.09477756286266925"
      ]
     },
     "execution_count": 94,
     "metadata": {},
     "output_type": "execute_result"
    }
   ],
   "source": [
    "((df_vsla['purpose_for_borrow'].value_counts(normalize=True)))[3.0]"
   ]
  },
  {
   "cell_type": "code",
   "execution_count": 95,
   "id": "6af4981f-a6c4-401f-a3f6-e375cbda23d9",
   "metadata": {},
   "outputs": [
    {
     "data": {
      "text/html": [
       "<div>\n",
       "<style scoped>\n",
       "    .dataframe tbody tr th:only-of-type {\n",
       "        vertical-align: middle;\n",
       "    }\n",
       "\n",
       "    .dataframe tbody tr th {\n",
       "        vertical-align: top;\n",
       "    }\n",
       "\n",
       "    .dataframe thead th {\n",
       "        text-align: right;\n",
       "    }\n",
       "</style>\n",
       "<table border=\"1\" class=\"dataframe\">\n",
       "  <thead>\n",
       "    <tr style=\"text-align: right;\">\n",
       "      <th>state</th>\n",
       "      <th>non vsf</th>\n",
       "      <th>vsf</th>\n",
       "    </tr>\n",
       "    <tr>\n",
       "      <th>purpose_for_borrow</th>\n",
       "      <th></th>\n",
       "      <th></th>\n",
       "    </tr>\n",
       "  </thead>\n",
       "  <tbody>\n",
       "    <tr>\n",
       "      <th>1.0</th>\n",
       "      <td>0.297297</td>\n",
       "      <td>0.232877</td>\n",
       "    </tr>\n",
       "    <tr>\n",
       "      <th>2.0</th>\n",
       "      <td>0.042793</td>\n",
       "      <td>NaN</td>\n",
       "    </tr>\n",
       "    <tr>\n",
       "      <th>3.0</th>\n",
       "      <td>0.081081</td>\n",
       "      <td>0.178082</td>\n",
       "    </tr>\n",
       "    <tr>\n",
       "      <th>4.0</th>\n",
       "      <td>0.202703</td>\n",
       "      <td>0.301370</td>\n",
       "    </tr>\n",
       "    <tr>\n",
       "      <th>5.0</th>\n",
       "      <td>0.033784</td>\n",
       "      <td>NaN</td>\n",
       "    </tr>\n",
       "    <tr>\n",
       "      <th>6.0</th>\n",
       "      <td>0.227477</td>\n",
       "      <td>0.219178</td>\n",
       "    </tr>\n",
       "    <tr>\n",
       "      <th>7.0</th>\n",
       "      <td>0.031532</td>\n",
       "      <td>0.027397</td>\n",
       "    </tr>\n",
       "    <tr>\n",
       "      <th>8.0</th>\n",
       "      <td>0.049550</td>\n",
       "      <td>0.041096</td>\n",
       "    </tr>\n",
       "    <tr>\n",
       "      <th>9.0</th>\n",
       "      <td>0.020270</td>\n",
       "      <td>NaN</td>\n",
       "    </tr>\n",
       "    <tr>\n",
       "      <th>97.0</th>\n",
       "      <td>0.013514</td>\n",
       "      <td>NaN</td>\n",
       "    </tr>\n",
       "  </tbody>\n",
       "</table>\n",
       "</div>"
      ],
      "text/plain": [
       "state                non vsf       vsf\n",
       "purpose_for_borrow                    \n",
       "1.0                 0.297297  0.232877\n",
       "2.0                 0.042793       NaN\n",
       "3.0                 0.081081  0.178082\n",
       "4.0                 0.202703  0.301370\n",
       "5.0                 0.033784       NaN\n",
       "6.0                 0.227477  0.219178\n",
       "7.0                 0.031532  0.027397\n",
       "8.0                 0.049550  0.041096\n",
       "9.0                 0.020270       NaN\n",
       "97.0                0.013514       NaN"
      ]
     },
     "execution_count": 95,
     "metadata": {},
     "output_type": "execute_result"
    }
   ],
   "source": [
    "((rtv_vsf.groupby('state')['purpose_for_borrow'].value_counts(normalize=True)).unstack()).transpose()"
   ]
  },
  {
   "cell_type": "markdown",
   "id": "181e64a7-e4f7-4678-b72a-beaa62fee3cf",
   "metadata": {},
   "source": [
    "## Loan Sources"
   ]
  },
  {
   "cell_type": "raw",
   "id": "e0e2c73a-c15f-46f8-83fc-b768e71cb006",
   "metadata": {},
   "source": [
    "1\tBank Account\r\n",
    "2\tSaving and Credit cooperatives (SACCO)\r\n",
    "3\tA mobile Money accounts\r\n",
    "4\tWith a shopkeeper\r\n",
    "5\tWith family and friends\r\n",
    "6\tAt a safe place at home\r\n",
    "7\tRTV VSLA (Cash round)\r\n",
    "8\tOther VSLA\r\n",
    "97\tOther\r\n",
    "99\tNo savings"
   ]
  },
  {
   "cell_type": "code",
   "execution_count": 96,
   "id": "f8dd17e6-c4b3-4416-b058-cebb7ca18b28",
   "metadata": {},
   "outputs": [
    {
     "data": {
      "text/html": [
       "<div>\n",
       "<style scoped>\n",
       "    .dataframe tbody tr th:only-of-type {\n",
       "        vertical-align: middle;\n",
       "    }\n",
       "\n",
       "    .dataframe tbody tr th {\n",
       "        vertical-align: top;\n",
       "    }\n",
       "\n",
       "    .dataframe thead th {\n",
       "        text-align: right;\n",
       "    }\n",
       "</style>\n",
       "<table border=\"1\" class=\"dataframe\">\n",
       "  <thead>\n",
       "    <tr style=\"text-align: right;\">\n",
       "      <th>state</th>\n",
       "      <th>non vsf</th>\n",
       "      <th>vsf</th>\n",
       "    </tr>\n",
       "    <tr>\n",
       "      <th>Loan_from_1</th>\n",
       "      <th></th>\n",
       "      <th></th>\n",
       "    </tr>\n",
       "  </thead>\n",
       "  <tbody>\n",
       "    <tr>\n",
       "      <th>0.0</th>\n",
       "      <td>0.957207</td>\n",
       "      <td>0.972603</td>\n",
       "    </tr>\n",
       "    <tr>\n",
       "      <th>1.0</th>\n",
       "      <td>0.042793</td>\n",
       "      <td>0.027397</td>\n",
       "    </tr>\n",
       "  </tbody>\n",
       "</table>\n",
       "</div>"
      ],
      "text/plain": [
       "state         non vsf       vsf\n",
       "Loan_from_1                    \n",
       "0.0          0.957207  0.972603\n",
       "1.0          0.042793  0.027397"
      ]
     },
     "execution_count": 96,
     "metadata": {},
     "output_type": "execute_result"
    }
   ],
   "source": [
    "#Bank Account\n",
    "(rtv_vsf.groupby('state')['Loan_from_1'].value_counts(normalize=True)).unstack().transpose()"
   ]
  },
  {
   "cell_type": "code",
   "execution_count": 97,
   "id": "72d213a8-e865-40de-a89a-4a67871e1bc8",
   "metadata": {},
   "outputs": [
    {
     "data": {
      "text/html": [
       "<div>\n",
       "<style scoped>\n",
       "    .dataframe tbody tr th:only-of-type {\n",
       "        vertical-align: middle;\n",
       "    }\n",
       "\n",
       "    .dataframe tbody tr th {\n",
       "        vertical-align: top;\n",
       "    }\n",
       "\n",
       "    .dataframe thead th {\n",
       "        text-align: right;\n",
       "    }\n",
       "</style>\n",
       "<table border=\"1\" class=\"dataframe\">\n",
       "  <thead>\n",
       "    <tr style=\"text-align: right;\">\n",
       "      <th>state</th>\n",
       "      <th>non vsf</th>\n",
       "      <th>vsf</th>\n",
       "    </tr>\n",
       "    <tr>\n",
       "      <th>Loan_from_2</th>\n",
       "      <th></th>\n",
       "      <th></th>\n",
       "    </tr>\n",
       "  </thead>\n",
       "  <tbody>\n",
       "    <tr>\n",
       "      <th>0.0</th>\n",
       "      <td>92.567568</td>\n",
       "      <td>90.410959</td>\n",
       "    </tr>\n",
       "    <tr>\n",
       "      <th>1.0</th>\n",
       "      <td>7.432432</td>\n",
       "      <td>9.589041</td>\n",
       "    </tr>\n",
       "  </tbody>\n",
       "</table>\n",
       "</div>"
      ],
      "text/plain": [
       "state          non vsf        vsf\n",
       "Loan_from_2                      \n",
       "0.0          92.567568  90.410959\n",
       "1.0           7.432432   9.589041"
      ]
     },
     "execution_count": 97,
     "metadata": {},
     "output_type": "execute_result"
    }
   ],
   "source": [
    "#saving and Credit accounts\n",
    "(rtv_vsf.groupby('state')['Loan_from_2'].value_counts(normalize=True)*100).unstack().transpose()"
   ]
  },
  {
   "cell_type": "code",
   "execution_count": 98,
   "id": "d0b50a9f-ba96-48d1-9fed-9fde5739231a",
   "metadata": {},
   "outputs": [
    {
     "data": {
      "text/html": [
       "<div>\n",
       "<style scoped>\n",
       "    .dataframe tbody tr th:only-of-type {\n",
       "        vertical-align: middle;\n",
       "    }\n",
       "\n",
       "    .dataframe tbody tr th {\n",
       "        vertical-align: top;\n",
       "    }\n",
       "\n",
       "    .dataframe thead th {\n",
       "        text-align: right;\n",
       "    }\n",
       "</style>\n",
       "<table border=\"1\" class=\"dataframe\">\n",
       "  <thead>\n",
       "    <tr style=\"text-align: right;\">\n",
       "      <th>state</th>\n",
       "      <th>non vsf</th>\n",
       "      <th>vsf</th>\n",
       "    </tr>\n",
       "    <tr>\n",
       "      <th>Loan_from_7</th>\n",
       "      <th></th>\n",
       "      <th></th>\n",
       "    </tr>\n",
       "  </thead>\n",
       "  <tbody>\n",
       "    <tr>\n",
       "      <th>0.0</th>\n",
       "      <td>29.279279</td>\n",
       "      <td>20.547945</td>\n",
       "    </tr>\n",
       "    <tr>\n",
       "      <th>1.0</th>\n",
       "      <td>70.720721</td>\n",
       "      <td>79.452055</td>\n",
       "    </tr>\n",
       "  </tbody>\n",
       "</table>\n",
       "</div>"
      ],
      "text/plain": [
       "state          non vsf        vsf\n",
       "Loan_from_7                      \n",
       "0.0          29.279279  20.547945\n",
       "1.0          70.720721  79.452055"
      ]
     },
     "execution_count": 98,
     "metadata": {},
     "output_type": "execute_result"
    }
   ],
   "source": [
    "# RTV VSLA\n",
    "(rtv_vsf.groupby('state')['Loan_from_7'].value_counts(normalize=True)*100).unstack().transpose()"
   ]
  },
  {
   "cell_type": "code",
   "execution_count": 99,
   "id": "cf95abf2-48b2-42ee-9a07-bd8f32c1f18c",
   "metadata": {},
   "outputs": [
    {
     "data": {
      "text/html": [
       "<div>\n",
       "<style scoped>\n",
       "    .dataframe tbody tr th:only-of-type {\n",
       "        vertical-align: middle;\n",
       "    }\n",
       "\n",
       "    .dataframe tbody tr th {\n",
       "        vertical-align: top;\n",
       "    }\n",
       "\n",
       "    .dataframe thead th {\n",
       "        text-align: right;\n",
       "    }\n",
       "</style>\n",
       "<table border=\"1\" class=\"dataframe\">\n",
       "  <thead>\n",
       "    <tr style=\"text-align: right;\">\n",
       "      <th>state</th>\n",
       "      <th>non vsf</th>\n",
       "      <th>vsf</th>\n",
       "    </tr>\n",
       "    <tr>\n",
       "      <th>Loan_from_8</th>\n",
       "      <th></th>\n",
       "      <th></th>\n",
       "    </tr>\n",
       "  </thead>\n",
       "  <tbody>\n",
       "    <tr>\n",
       "      <th>0.0</th>\n",
       "      <td>86.261261</td>\n",
       "      <td>91.780822</td>\n",
       "    </tr>\n",
       "    <tr>\n",
       "      <th>1.0</th>\n",
       "      <td>13.738739</td>\n",
       "      <td>8.219178</td>\n",
       "    </tr>\n",
       "  </tbody>\n",
       "</table>\n",
       "</div>"
      ],
      "text/plain": [
       "state          non vsf        vsf\n",
       "Loan_from_8                      \n",
       "0.0          86.261261  91.780822\n",
       "1.0          13.738739   8.219178"
      ]
     },
     "execution_count": 99,
     "metadata": {},
     "output_type": "execute_result"
    }
   ],
   "source": [
    "# Other VSLA\n",
    "(rtv_vsf.groupby('state')['Loan_from_8'].value_counts(normalize=True)*100).unstack().transpose()"
   ]
  },
  {
   "cell_type": "code",
   "execution_count": 100,
   "id": "ac214b2e-70bf-4205-b6cb-d9c90e10c176",
   "metadata": {},
   "outputs": [
    {
     "name": "stderr",
     "output_type": "stream",
     "text": [
      "/var/folders/xd/0btgr76j2zxc4__ynw0yhwbm0000gn/T/ipykernel_43357/1433146545.py:1: SettingWithCopyWarning: \n",
      "A value is trying to be set on a copy of a slice from a DataFrame.\n",
      "Try using .loc[row_indexer,col_indexer] = value instead\n",
      "\n",
      "See the caveats in the documentation: https://pandas.pydata.org/pandas-docs/stable/user_guide/indexing.html#returning-a-view-versus-a-copy\n",
      "  vsf['rtv_vsla_loan_interest'] = vsf['rtv_vsla_loan_interest'].apply(lambda x: 2.5 if x > 2.5 else x)\n"
     ]
    }
   ],
   "source": [
    "vsf['rtv_vsla_loan_interest'] = vsf['rtv_vsla_loan_interest'].apply(lambda x: 2.5 if x > 2.5 else x)"
   ]
  },
  {
   "cell_type": "markdown",
   "id": "5e3ec5fb-4a2e-464b-9185-0765e5cd6829",
   "metadata": {},
   "source": [
    "## Interests Rates"
   ]
  },
  {
   "cell_type": "code",
   "execution_count": 101,
   "id": "28281cdd-e729-4821-92ad-1944094e613b",
   "metadata": {},
   "outputs": [
    {
     "data": {
      "text/plain": [
       "bank_loan_interest                  3.750000\n",
       "sacco_loan_interest                 2.971429\n",
       "rtv_vsla_loan_interest              2.231207\n",
       "other_village_VSLA_loan_interest    6.333333\n",
       "dtype: float64"
      ]
     },
     "execution_count": 101,
     "metadata": {},
     "output_type": "execute_result"
    }
   ],
   "source": [
    "(vsf[['bank_loan_interest',\n",
    "        'sacco_loan_interest',\n",
    "        'rtv_vsla_loan_interest',\n",
    "        'other_village_VSLA_loan_interest'\n",
    "        ]].mean()).transpose()"
   ]
  },
  {
   "cell_type": "code",
   "execution_count": 102,
   "id": "2ab91635-78d1-4786-a69f-5ddb89fd8e78",
   "metadata": {},
   "outputs": [
    {
     "data": {
      "text/plain": [
       "bank_loan_interest                  3.868421\n",
       "sacco_loan_interest                 4.178788\n",
       "rtv_vsla_loan_interest              3.591497\n",
       "other_village_VSLA_loan_interest    5.860656\n",
       "dtype: float64"
      ]
     },
     "execution_count": 102,
     "metadata": {},
     "output_type": "execute_result"
    }
   ],
   "source": [
    "(non_vsf[[\n",
    "        'bank_loan_interest',\n",
    "        'sacco_loan_interest',\n",
    "        'rtv_vsla_loan_interest',\n",
    "        'other_village_VSLA_loan_interest'\n",
    "        ]].mean()).transpose()"
   ]
  },
  {
   "cell_type": "code",
   "execution_count": 103,
   "id": "15aa8ab4-f4f7-438e-b9cd-16cd8377edeb",
   "metadata": {},
   "outputs": [
    {
     "data": {
      "text/plain": [
       "bank_loan_interest                  3.857143\n",
       "sacco_loan_interest                 3.967500\n",
       "rtv_vsla_loan_interest              3.765161\n",
       "other_village_VSLA_loan_interest    5.902985\n",
       "dtype: float64"
      ]
     },
     "execution_count": 103,
     "metadata": {},
     "output_type": "execute_result"
    }
   ],
   "source": [
    "(df_vsla[[\n",
    "        'bank_loan_interest',\n",
    "        'sacco_loan_interest',\n",
    "        'rtv_vsla_loan_interest',\n",
    "        'other_village_VSLA_loan_interest'\n",
    "        ]].mean()).transpose()"
   ]
  },
  {
   "cell_type": "code",
   "execution_count": 104,
   "id": "b78f7902-a3b1-48b5-9d5f-a589a9b7f2fd",
   "metadata": {},
   "outputs": [
    {
     "data": {
      "text/html": [
       "<div>\n",
       "<style scoped>\n",
       "    .dataframe tbody tr th:only-of-type {\n",
       "        vertical-align: middle;\n",
       "    }\n",
       "\n",
       "    .dataframe tbody tr th {\n",
       "        vertical-align: top;\n",
       "    }\n",
       "\n",
       "    .dataframe thead th {\n",
       "        text-align: right;\n",
       "    }\n",
       "</style>\n",
       "<table border=\"1\" class=\"dataframe\">\n",
       "  <thead>\n",
       "    <tr style=\"text-align: right;\">\n",
       "      <th></th>\n",
       "      <th>SubmissionDate</th>\n",
       "      <th>starttime</th>\n",
       "      <th>endtime</th>\n",
       "      <th>version</th>\n",
       "      <th>duration</th>\n",
       "      <th>survey_start</th>\n",
       "      <th>intro_start</th>\n",
       "      <th>text_audit</th>\n",
       "      <th>district</th>\n",
       "      <th>Surveyor_Name</th>\n",
       "      <th>...</th>\n",
       "      <th>pg_pen_clean.1</th>\n",
       "      <th>pg_droppings_rem_composted.1</th>\n",
       "      <th>WASH (%)</th>\n",
       "      <th>AGRIC (%)</th>\n",
       "      <th>Livestock (%)</th>\n",
       "      <th>Household Compliance (%)</th>\n",
       "      <th>Status</th>\n",
       "      <th>Gender</th>\n",
       "      <th>Household_Head_Gender</th>\n",
       "      <th>state</th>\n",
       "    </tr>\n",
       "  </thead>\n",
       "  <tbody>\n",
       "    <tr>\n",
       "      <th>0</th>\n",
       "      <td>2023-08-07 19:26:31.000</td>\n",
       "      <td>2023-08-07 15:47:29.000</td>\n",
       "      <td>2023-08-07 16:31:17.000</td>\n",
       "      <td>2308070650</td>\n",
       "      <td>2628</td>\n",
       "      <td>3.0</td>\n",
       "      <td>3.0</td>\n",
       "      <td>https://rtvuganda.surveycto.com/view/submission-attachment/TA_47d5d694-a35e-4aed-9d63-2f89b9600f03.csv?uuid=uuid%3A47d5d694-a35e-4aed-9d63-2f89b9600f03</td>\n",
       "      <td>2</td>\n",
       "      <td>34</td>\n",
       "      <td>...</td>\n",
       "      <td>NaN</td>\n",
       "      <td>NaN</td>\n",
       "      <td>0.555556</td>\n",
       "      <td>0.400</td>\n",
       "      <td>NaN</td>\n",
       "      <td>0.477778</td>\n",
       "      <td>RTV</td>\n",
       "      <td>Female</td>\n",
       "      <td>Female Headed</td>\n",
       "      <td>vsf</td>\n",
       "    </tr>\n",
       "    <tr>\n",
       "      <th>1</th>\n",
       "      <td>2023-08-04 21:21:49.000</td>\n",
       "      <td>2023-08-04 09:12:46.000</td>\n",
       "      <td>2023-08-04 11:42:47.000</td>\n",
       "      <td>2308030036</td>\n",
       "      <td>915</td>\n",
       "      <td>3.0</td>\n",
       "      <td>3.0</td>\n",
       "      <td>https://rtvuganda.surveycto.com/view/submission-attachment/TA_ae425d64-d704-4a0b-a73d-54490bd2432f.csv?uuid=uuid%3Aae425d64-d704-4a0b-a73d-54490bd2432f</td>\n",
       "      <td>2</td>\n",
       "      <td>16</td>\n",
       "      <td>...</td>\n",
       "      <td>NaN</td>\n",
       "      <td>NaN</td>\n",
       "      <td>0.812500</td>\n",
       "      <td>0.500</td>\n",
       "      <td>NaN</td>\n",
       "      <td>0.656250</td>\n",
       "      <td>RTV</td>\n",
       "      <td>Female</td>\n",
       "      <td>Female Headed</td>\n",
       "      <td>vsf</td>\n",
       "    </tr>\n",
       "    <tr>\n",
       "      <th>2</th>\n",
       "      <td>2023-08-05 19:29:43.000</td>\n",
       "      <td>2023-08-05 09:17:39.000</td>\n",
       "      <td>2023-08-05 19:29:27.000</td>\n",
       "      <td>2308030036</td>\n",
       "      <td>2434</td>\n",
       "      <td>31.0</td>\n",
       "      <td>31.0</td>\n",
       "      <td>https://rtvuganda.surveycto.com/view/submission-attachment/TA_1fa2c045-40b7-4e70-8afe-772c4fd82665.csv?uuid=uuid%3A1fa2c045-40b7-4e70-8afe-772c4fd82665</td>\n",
       "      <td>2</td>\n",
       "      <td>40</td>\n",
       "      <td>...</td>\n",
       "      <td>1.0</td>\n",
       "      <td>1.0</td>\n",
       "      <td>0.354167</td>\n",
       "      <td>0.400</td>\n",
       "      <td>NaN</td>\n",
       "      <td>0.377083</td>\n",
       "      <td>RTV</td>\n",
       "      <td>Male</td>\n",
       "      <td>Male Headed</td>\n",
       "      <td>vsf</td>\n",
       "    </tr>\n",
       "    <tr>\n",
       "      <th>3</th>\n",
       "      <td>2023-08-04 18:59:13.000</td>\n",
       "      <td>2023-08-04 14:22:55.000</td>\n",
       "      <td>2023-08-04 15:24:06.000</td>\n",
       "      <td>2308030036</td>\n",
       "      <td>3637</td>\n",
       "      <td>6.0</td>\n",
       "      <td>6.0</td>\n",
       "      <td>https://rtvuganda.surveycto.com/view/submission-attachment/TA_b73b292d-66cd-4c9f-8a9a-4bcef8f8b03c.csv?uuid=uuid%3Ab73b292d-66cd-4c9f-8a9a-4bcef8f8b03c</td>\n",
       "      <td>2</td>\n",
       "      <td>28</td>\n",
       "      <td>...</td>\n",
       "      <td>1.0</td>\n",
       "      <td>1.0</td>\n",
       "      <td>0.701389</td>\n",
       "      <td>0.275</td>\n",
       "      <td>NaN</td>\n",
       "      <td>0.488194</td>\n",
       "      <td>RTV</td>\n",
       "      <td>Female</td>\n",
       "      <td>Female Headed</td>\n",
       "      <td>vsf</td>\n",
       "    </tr>\n",
       "    <tr>\n",
       "      <th>4</th>\n",
       "      <td>2023-08-05 19:30:19.000</td>\n",
       "      <td>2023-08-05 08:59:22.000</td>\n",
       "      <td>2023-08-05 10:09:25.000</td>\n",
       "      <td>2308030036</td>\n",
       "      <td>3970</td>\n",
       "      <td>31.0</td>\n",
       "      <td>31.0</td>\n",
       "      <td>https://rtvuganda.surveycto.com/view/submission-attachment/TA_aba161d1-ed84-4cf7-9633-c7db62e4f20d.csv?uuid=uuid%3Aaba161d1-ed84-4cf7-9633-c7db62e4f20d</td>\n",
       "      <td>2</td>\n",
       "      <td>37</td>\n",
       "      <td>...</td>\n",
       "      <td>1.0</td>\n",
       "      <td>1.0</td>\n",
       "      <td>0.812500</td>\n",
       "      <td>0.900</td>\n",
       "      <td>NaN</td>\n",
       "      <td>0.856250</td>\n",
       "      <td>RTV</td>\n",
       "      <td>Male</td>\n",
       "      <td>Male Headed</td>\n",
       "      <td>vsf</td>\n",
       "    </tr>\n",
       "    <tr>\n",
       "      <th>...</th>\n",
       "      <td>...</td>\n",
       "      <td>...</td>\n",
       "      <td>...</td>\n",
       "      <td>...</td>\n",
       "      <td>...</td>\n",
       "      <td>...</td>\n",
       "      <td>...</td>\n",
       "      <td>...</td>\n",
       "      <td>...</td>\n",
       "      <td>...</td>\n",
       "      <td>...</td>\n",
       "      <td>...</td>\n",
       "      <td>...</td>\n",
       "      <td>...</td>\n",
       "      <td>...</td>\n",
       "      <td>...</td>\n",
       "      <td>...</td>\n",
       "      <td>...</td>\n",
       "      <td>...</td>\n",
       "      <td>...</td>\n",
       "      <td>...</td>\n",
       "    </tr>\n",
       "    <tr>\n",
       "      <th>1576</th>\n",
       "      <td>2023-08-08 18:57:16.042</td>\n",
       "      <td>2023-08-08 11:45:06.019</td>\n",
       "      <td>2023-08-08 13:08:11.040</td>\n",
       "      <td>2308080450</td>\n",
       "      <td>4984</td>\n",
       "      <td>4.0</td>\n",
       "      <td>4.0</td>\n",
       "      <td>https://rtvuganda.surveycto.com/view/submission-attachment/TA_005188bd-d28e-41ab-8b8c-ea047c4280d2.csv?uuid=uuid%3A005188bd-d28e-41ab-8b8c-ea047c4280d2</td>\n",
       "      <td>7</td>\n",
       "      <td>111</td>\n",
       "      <td>...</td>\n",
       "      <td>1.0</td>\n",
       "      <td>1.0</td>\n",
       "      <td>1.000000</td>\n",
       "      <td>1.000</td>\n",
       "      <td>NaN</td>\n",
       "      <td>1.000000</td>\n",
       "      <td>RTV</td>\n",
       "      <td>Female</td>\n",
       "      <td>Female Headed</td>\n",
       "      <td>non vsf</td>\n",
       "    </tr>\n",
       "    <tr>\n",
       "      <th>1577</th>\n",
       "      <td>2023-08-11 17:20:48.970</td>\n",
       "      <td>2023-08-11 14:56:51.994</td>\n",
       "      <td>2023-08-11 16:15:06.970</td>\n",
       "      <td>2308100803</td>\n",
       "      <td>3952</td>\n",
       "      <td>3.0</td>\n",
       "      <td>3.0</td>\n",
       "      <td>https://rtvuganda.surveycto.com/view/submission-attachment/TA_a1312a8a-066c-48b2-a952-06b4fff4b133.csv?uuid=uuid%3Aa1312a8a-066c-48b2-a952-06b4fff4b133</td>\n",
       "      <td>7</td>\n",
       "      <td>111</td>\n",
       "      <td>...</td>\n",
       "      <td>1.0</td>\n",
       "      <td>1.0</td>\n",
       "      <td>1.000000</td>\n",
       "      <td>1.000</td>\n",
       "      <td>NaN</td>\n",
       "      <td>1.000000</td>\n",
       "      <td>RTV</td>\n",
       "      <td>Male</td>\n",
       "      <td>Male Headed</td>\n",
       "      <td>non vsf</td>\n",
       "    </tr>\n",
       "    <tr>\n",
       "      <th>1578</th>\n",
       "      <td>2023-08-10 21:03:41.011</td>\n",
       "      <td>2023-08-10 14:05:18.010</td>\n",
       "      <td>2023-08-10 14:50:40.992</td>\n",
       "      <td>2308100803</td>\n",
       "      <td>2723</td>\n",
       "      <td>3.0</td>\n",
       "      <td>3.0</td>\n",
       "      <td>https://rtvuganda.surveycto.com/view/submission-attachment/TA_eb46cfed-22aa-47dc-afbd-58764c77843f.csv?uuid=uuid%3Aeb46cfed-22aa-47dc-afbd-58764c77843f</td>\n",
       "      <td>7</td>\n",
       "      <td>106</td>\n",
       "      <td>...</td>\n",
       "      <td>1.0</td>\n",
       "      <td>1.0</td>\n",
       "      <td>0.750000</td>\n",
       "      <td>0.400</td>\n",
       "      <td>NaN</td>\n",
       "      <td>0.575000</td>\n",
       "      <td>RTV</td>\n",
       "      <td>Female</td>\n",
       "      <td>Female Headed</td>\n",
       "      <td>non vsf</td>\n",
       "    </tr>\n",
       "    <tr>\n",
       "      <th>1579</th>\n",
       "      <td>2023-08-13 15:52:01.027</td>\n",
       "      <td>2023-08-12 10:16:07.018</td>\n",
       "      <td>2023-08-13 15:51:30.010</td>\n",
       "      <td>2308112000</td>\n",
       "      <td>4274</td>\n",
       "      <td>9.0</td>\n",
       "      <td>9.0</td>\n",
       "      <td>https://rtvuganda.surveycto.com/view/submission-attachment/TA_b528262b-0af4-4ae5-822a-a6da9623e9c7.csv?uuid=uuid%3Ab528262b-0af4-4ae5-822a-a6da9623e9c7</td>\n",
       "      <td>7</td>\n",
       "      <td>118</td>\n",
       "      <td>...</td>\n",
       "      <td>NaN</td>\n",
       "      <td>NaN</td>\n",
       "      <td>1.000000</td>\n",
       "      <td>0.800</td>\n",
       "      <td>NaN</td>\n",
       "      <td>0.900000</td>\n",
       "      <td>RTV</td>\n",
       "      <td>Male</td>\n",
       "      <td>Male Headed</td>\n",
       "      <td>non vsf</td>\n",
       "    </tr>\n",
       "    <tr>\n",
       "      <th>1580</th>\n",
       "      <td>2023-08-11 03:43:08.976</td>\n",
       "      <td>2023-08-10 11:01:17.040</td>\n",
       "      <td>2023-08-10 20:59:46.003</td>\n",
       "      <td>2308100104</td>\n",
       "      <td>5242</td>\n",
       "      <td>7.0</td>\n",
       "      <td>7.0</td>\n",
       "      <td>https://rtvuganda.surveycto.com/view/submission-attachment/TA_526600ac-9e45-4f9e-a7b8-a12b603031b7.csv?uuid=uuid%3A526600ac-9e45-4f9e-a7b8-a12b603031b7</td>\n",
       "      <td>7</td>\n",
       "      <td>116</td>\n",
       "      <td>...</td>\n",
       "      <td>1.0</td>\n",
       "      <td>1.0</td>\n",
       "      <td>0.937500</td>\n",
       "      <td>0.950</td>\n",
       "      <td>NaN</td>\n",
       "      <td>0.943750</td>\n",
       "      <td>RTV</td>\n",
       "      <td>Female</td>\n",
       "      <td>Female Headed</td>\n",
       "      <td>non vsf</td>\n",
       "    </tr>\n",
       "  </tbody>\n",
       "</table>\n",
       "<p>1581 rows × 5666 columns</p>\n",
       "</div>"
      ],
      "text/plain": [
       "              SubmissionDate               starttime                 endtime  \\\n",
       "0    2023-08-07 19:26:31.000 2023-08-07 15:47:29.000 2023-08-07 16:31:17.000   \n",
       "1    2023-08-04 21:21:49.000 2023-08-04 09:12:46.000 2023-08-04 11:42:47.000   \n",
       "2    2023-08-05 19:29:43.000 2023-08-05 09:17:39.000 2023-08-05 19:29:27.000   \n",
       "3    2023-08-04 18:59:13.000 2023-08-04 14:22:55.000 2023-08-04 15:24:06.000   \n",
       "4    2023-08-05 19:30:19.000 2023-08-05 08:59:22.000 2023-08-05 10:09:25.000   \n",
       "...                      ...                     ...                     ...   \n",
       "1576 2023-08-08 18:57:16.042 2023-08-08 11:45:06.019 2023-08-08 13:08:11.040   \n",
       "1577 2023-08-11 17:20:48.970 2023-08-11 14:56:51.994 2023-08-11 16:15:06.970   \n",
       "1578 2023-08-10 21:03:41.011 2023-08-10 14:05:18.010 2023-08-10 14:50:40.992   \n",
       "1579 2023-08-13 15:52:01.027 2023-08-12 10:16:07.018 2023-08-13 15:51:30.010   \n",
       "1580 2023-08-11 03:43:08.976 2023-08-10 11:01:17.040 2023-08-10 20:59:46.003   \n",
       "\n",
       "         version  duration  survey_start  intro_start  \\\n",
       "0     2308070650      2628           3.0          3.0   \n",
       "1     2308030036       915           3.0          3.0   \n",
       "2     2308030036      2434          31.0         31.0   \n",
       "3     2308030036      3637           6.0          6.0   \n",
       "4     2308030036      3970          31.0         31.0   \n",
       "...          ...       ...           ...          ...   \n",
       "1576  2308080450      4984           4.0          4.0   \n",
       "1577  2308100803      3952           3.0          3.0   \n",
       "1578  2308100803      2723           3.0          3.0   \n",
       "1579  2308112000      4274           9.0          9.0   \n",
       "1580  2308100104      5242           7.0          7.0   \n",
       "\n",
       "                                                                                                                                                   text_audit  \\\n",
       "0     https://rtvuganda.surveycto.com/view/submission-attachment/TA_47d5d694-a35e-4aed-9d63-2f89b9600f03.csv?uuid=uuid%3A47d5d694-a35e-4aed-9d63-2f89b9600f03   \n",
       "1     https://rtvuganda.surveycto.com/view/submission-attachment/TA_ae425d64-d704-4a0b-a73d-54490bd2432f.csv?uuid=uuid%3Aae425d64-d704-4a0b-a73d-54490bd2432f   \n",
       "2     https://rtvuganda.surveycto.com/view/submission-attachment/TA_1fa2c045-40b7-4e70-8afe-772c4fd82665.csv?uuid=uuid%3A1fa2c045-40b7-4e70-8afe-772c4fd82665   \n",
       "3     https://rtvuganda.surveycto.com/view/submission-attachment/TA_b73b292d-66cd-4c9f-8a9a-4bcef8f8b03c.csv?uuid=uuid%3Ab73b292d-66cd-4c9f-8a9a-4bcef8f8b03c   \n",
       "4     https://rtvuganda.surveycto.com/view/submission-attachment/TA_aba161d1-ed84-4cf7-9633-c7db62e4f20d.csv?uuid=uuid%3Aaba161d1-ed84-4cf7-9633-c7db62e4f20d   \n",
       "...                                                                                                                                                       ...   \n",
       "1576  https://rtvuganda.surveycto.com/view/submission-attachment/TA_005188bd-d28e-41ab-8b8c-ea047c4280d2.csv?uuid=uuid%3A005188bd-d28e-41ab-8b8c-ea047c4280d2   \n",
       "1577  https://rtvuganda.surveycto.com/view/submission-attachment/TA_a1312a8a-066c-48b2-a952-06b4fff4b133.csv?uuid=uuid%3Aa1312a8a-066c-48b2-a952-06b4fff4b133   \n",
       "1578  https://rtvuganda.surveycto.com/view/submission-attachment/TA_eb46cfed-22aa-47dc-afbd-58764c77843f.csv?uuid=uuid%3Aeb46cfed-22aa-47dc-afbd-58764c77843f   \n",
       "1579  https://rtvuganda.surveycto.com/view/submission-attachment/TA_b528262b-0af4-4ae5-822a-a6da9623e9c7.csv?uuid=uuid%3Ab528262b-0af4-4ae5-822a-a6da9623e9c7   \n",
       "1580  https://rtvuganda.surveycto.com/view/submission-attachment/TA_526600ac-9e45-4f9e-a7b8-a12b603031b7.csv?uuid=uuid%3A526600ac-9e45-4f9e-a7b8-a12b603031b7   \n",
       "\n",
       "      district  Surveyor_Name  ... pg_pen_clean.1  \\\n",
       "0            2             34  ...            NaN   \n",
       "1            2             16  ...            NaN   \n",
       "2            2             40  ...            1.0   \n",
       "3            2             28  ...            1.0   \n",
       "4            2             37  ...            1.0   \n",
       "...        ...            ...  ...            ...   \n",
       "1576         7            111  ...            1.0   \n",
       "1577         7            111  ...            1.0   \n",
       "1578         7            106  ...            1.0   \n",
       "1579         7            118  ...            NaN   \n",
       "1580         7            116  ...            1.0   \n",
       "\n",
       "      pg_droppings_rem_composted.1  WASH (%) AGRIC (%) Livestock (%)  \\\n",
       "0                              NaN  0.555556     0.400           NaN   \n",
       "1                              NaN  0.812500     0.500           NaN   \n",
       "2                              1.0  0.354167     0.400           NaN   \n",
       "3                              1.0  0.701389     0.275           NaN   \n",
       "4                              1.0  0.812500     0.900           NaN   \n",
       "...                            ...       ...       ...           ...   \n",
       "1576                           1.0  1.000000     1.000           NaN   \n",
       "1577                           1.0  1.000000     1.000           NaN   \n",
       "1578                           1.0  0.750000     0.400           NaN   \n",
       "1579                           NaN  1.000000     0.800           NaN   \n",
       "1580                           1.0  0.937500     0.950           NaN   \n",
       "\n",
       "     Household Compliance (%) Status  Gender Household_Head_Gender    state  \n",
       "0                    0.477778    RTV  Female         Female Headed      vsf  \n",
       "1                    0.656250    RTV  Female         Female Headed      vsf  \n",
       "2                    0.377083    RTV    Male           Male Headed      vsf  \n",
       "3                    0.488194    RTV  Female         Female Headed      vsf  \n",
       "4                    0.856250    RTV    Male           Male Headed      vsf  \n",
       "...                       ...    ...     ...                   ...      ...  \n",
       "1576                 1.000000    RTV  Female         Female Headed  non vsf  \n",
       "1577                 1.000000    RTV    Male           Male Headed  non vsf  \n",
       "1578                 0.575000    RTV  Female         Female Headed  non vsf  \n",
       "1579                 0.900000    RTV    Male           Male Headed  non vsf  \n",
       "1580                 0.943750    RTV  Female         Female Headed  non vsf  \n",
       "\n",
       "[1581 rows x 5666 columns]"
      ]
     },
     "execution_count": 104,
     "metadata": {},
     "output_type": "execute_result"
    }
   ],
   "source": [
    "df_vsla"
   ]
  },
  {
   "cell_type": "markdown",
   "id": "66d726c0-47d0-45a3-bfb7-afd9000f0846",
   "metadata": {},
   "source": [
    "## Loan Types"
   ]
  },
  {
   "cell_type": "raw",
   "id": "32217f0a-3d0c-4716-af46-2e3c0bdc3197",
   "metadata": {},
   "source": [
    "1\tReducing Balance\n",
    "2\tFixed interest\n",
    "97\tAny other"
   ]
  },
  {
   "cell_type": "code",
   "execution_count": 105,
   "id": "27f471c3-c029-41b8-86ee-c85a5ba98c4f",
   "metadata": {},
   "outputs": [
    {
     "data": {
      "text/html": [
       "<div>\n",
       "<style scoped>\n",
       "    .dataframe tbody tr th:only-of-type {\n",
       "        vertical-align: middle;\n",
       "    }\n",
       "\n",
       "    .dataframe tbody tr th {\n",
       "        vertical-align: top;\n",
       "    }\n",
       "\n",
       "    .dataframe thead th {\n",
       "        text-align: right;\n",
       "    }\n",
       "</style>\n",
       "<table border=\"1\" class=\"dataframe\">\n",
       "  <thead>\n",
       "    <tr style=\"text-align: right;\">\n",
       "      <th>state</th>\n",
       "      <th>non vsf</th>\n",
       "      <th>vsf</th>\n",
       "    </tr>\n",
       "    <tr>\n",
       "      <th>bank_loan_type</th>\n",
       "      <th></th>\n",
       "      <th></th>\n",
       "    </tr>\n",
       "  </thead>\n",
       "  <tbody>\n",
       "    <tr>\n",
       "      <th>1.0</th>\n",
       "      <td>47.368421</td>\n",
       "      <td>100.0</td>\n",
       "    </tr>\n",
       "    <tr>\n",
       "      <th>2.0</th>\n",
       "      <td>52.631579</td>\n",
       "      <td>NaN</td>\n",
       "    </tr>\n",
       "  </tbody>\n",
       "</table>\n",
       "</div>"
      ],
      "text/plain": [
       "state             non vsf    vsf\n",
       "bank_loan_type                  \n",
       "1.0             47.368421  100.0\n",
       "2.0             52.631579    NaN"
      ]
     },
     "execution_count": 105,
     "metadata": {},
     "output_type": "execute_result"
    }
   ],
   "source": [
    "(rtv_vsf.groupby('state')['bank_loan_type'].value_counts(normalize=True) * 100).unstack().transpose()"
   ]
  },
  {
   "cell_type": "code",
   "execution_count": null,
   "id": "cd87d9d8-a118-4971-8648-b74c1f922025",
   "metadata": {},
   "outputs": [],
   "source": []
  },
  {
   "cell_type": "code",
   "execution_count": null,
   "id": "58797cf0-8e32-4efd-b26e-d4083c6e77d3",
   "metadata": {},
   "outputs": [],
   "source": []
  },
  {
   "cell_type": "code",
   "execution_count": null,
   "id": "c97ab293-8028-4c79-9613-f9198691910c",
   "metadata": {},
   "outputs": [],
   "source": []
  },
  {
   "cell_type": "code",
   "execution_count": null,
   "id": "2638379f-a3e0-494b-bd2e-f2963c5d41c2",
   "metadata": {},
   "outputs": [],
   "source": []
  },
  {
   "cell_type": "code",
   "execution_count": null,
   "id": "5c0cd579-cc3c-4551-8dc1-3837932e923c",
   "metadata": {},
   "outputs": [],
   "source": []
  },
  {
   "cell_type": "markdown",
   "id": "a3c77e90-83b4-4050-ba2d-b899da60759e",
   "metadata": {},
   "source": [
    "### Aggregating by Gender"
   ]
  },
  {
   "cell_type": "code",
   "execution_count": 106,
   "id": "35701301-decd-4355-84f8-16f3499f62a6",
   "metadata": {},
   "outputs": [
    {
     "data": {
      "text/plain": [
       "Gender\n",
       "Male      1006\n",
       "Female     353\n",
       "Name: count, dtype: int64"
      ]
     },
     "execution_count": 106,
     "metadata": {},
     "output_type": "execute_result"
    }
   ],
   "source": [
    "non_vsf['Gender'].value_counts()"
   ]
  },
  {
   "cell_type": "code",
   "execution_count": 107,
   "id": "eed6ebe4-8c88-4185-883a-5757dc7f2066",
   "metadata": {},
   "outputs": [],
   "source": [
    "adjusted_cpi = 80.66\n",
    "rate = 3600"
   ]
  },
  {
   "cell_type": "code",
   "execution_count": 108,
   "id": "2eb50671-e50f-4822-a5fb-2c60b1264e79",
   "metadata": {},
   "outputs": [
    {
     "data": {
      "text/plain": [
       "Household_Head_Gender\n",
       "Female Headed    60.118132\n",
       "Male Headed      79.820095\n",
       "Youth Headed     75.434234\n",
       "Name: Total Savings (Ugx), dtype: float64"
      ]
     },
     "execution_count": 108,
     "metadata": {},
     "output_type": "execute_result"
    }
   ],
   "source": [
    "# Total Savings\n",
    "((non_vsf.groupby(['Household_Head_Gender'])['Total Savings (Ugx)'].mean() * (adjusted_cpi/100))/rate)"
   ]
  },
  {
   "cell_type": "code",
   "execution_count": 109,
   "id": "ef235957-43cd-4c39-9206-e81523782dce",
   "metadata": {},
   "outputs": [
    {
     "data": {
      "text/plain": [
       "Household_Head_Gender\n",
       "Female Headed    79.637747\n",
       "Male Headed      97.454326\n",
       "Youth Headed     81.332167\n",
       "Name: Total Savings (Ugx), dtype: float64"
      ]
     },
     "execution_count": 109,
     "metadata": {},
     "output_type": "execute_result"
    }
   ],
   "source": [
    "# Total Savings\n",
    "((vsf.groupby(['Household_Head_Gender'])['Total Savings (Ugx)'].mean() * (adjusted_cpi/100))/rate)"
   ]
  },
  {
   "cell_type": "code",
   "execution_count": null,
   "id": "8bde390b-4d91-42ff-9bfd-e24a34ac113f",
   "metadata": {},
   "outputs": [],
   "source": []
  },
  {
   "cell_type": "code",
   "execution_count": 110,
   "id": "7257ecce-1c47-4860-8a13-8803b3e117f1",
   "metadata": {},
   "outputs": [
    {
     "name": "stdout",
     "output_type": "stream",
     "text": [
      "vsf:1.0\n",
      "non_vsf:0.9882266372332598\n"
     ]
    }
   ],
   "source": [
    "for frame in [vsf, non_vsf]:\n",
    "    percent = (len(frame[frame['Total Savings (Ugx)'] != 0]) / len(frame))\n",
    "    print(f\"{get_df_name(frame)}:{percent}\")"
   ]
  },
  {
   "cell_type": "code",
   "execution_count": 111,
   "id": "a8189729-68b6-48dd-bd0b-a9fdefed5876",
   "metadata": {},
   "outputs": [
    {
     "data": {
      "text/plain": [
       "Household_Head_Gender\n",
       "Female Headed    1.0\n",
       "Male Headed      1.0\n",
       "Youth Headed     1.0\n",
       "dtype: float64"
      ]
     },
     "execution_count": 111,
     "metadata": {},
     "output_type": "execute_result"
    }
   ],
   "source": [
    "vsf.groupby('Household_Head_Gender').apply(lambda x: len(x[x['Total Savings (Ugx)'] != 0]) / len(x))"
   ]
  },
  {
   "cell_type": "code",
   "execution_count": 112,
   "id": "a2a44591-4743-4bc5-b979-2b6ed4bc491a",
   "metadata": {},
   "outputs": [
    {
     "data": {
      "text/plain": [
       "Household_Head_Gender\n",
       "Female Headed    0.988406\n",
       "Male Headed      0.988372\n",
       "Youth Headed     0.985294\n",
       "dtype: float64"
      ]
     },
     "execution_count": 112,
     "metadata": {},
     "output_type": "execute_result"
    }
   ],
   "source": [
    "non_vsf.groupby('Household_Head_Gender').apply(lambda x: len(x[x['Total Savings (Ugx)'] != 0]) / len(x))"
   ]
  },
  {
   "cell_type": "code",
   "execution_count": 113,
   "id": "41d7f73b-3f7f-42fa-ab52-a2cdfec410f2",
   "metadata": {},
   "outputs": [
    {
     "data": {
      "text/html": [
       "<div>\n",
       "<style scoped>\n",
       "    .dataframe tbody tr th:only-of-type {\n",
       "        vertical-align: middle;\n",
       "    }\n",
       "\n",
       "    .dataframe tbody tr th {\n",
       "        vertical-align: top;\n",
       "    }\n",
       "\n",
       "    .dataframe thead th {\n",
       "        text-align: right;\n",
       "    }\n",
       "</style>\n",
       "<table border=\"1\" class=\"dataframe\">\n",
       "  <thead>\n",
       "    <tr style=\"text-align: right;\">\n",
       "      <th>Household_Head_Gender</th>\n",
       "      <th>Female Headed</th>\n",
       "      <th>Male Headed</th>\n",
       "      <th>Youth Headed</th>\n",
       "    </tr>\n",
       "    <tr>\n",
       "      <th>state</th>\n",
       "      <th></th>\n",
       "      <th></th>\n",
       "      <th></th>\n",
       "    </tr>\n",
       "  </thead>\n",
       "  <tbody>\n",
       "    <tr>\n",
       "      <th>non vsf</th>\n",
       "      <td>54.069256</td>\n",
       "      <td>109.103818</td>\n",
       "      <td>38.985667</td>\n",
       "    </tr>\n",
       "    <tr>\n",
       "      <th>vsf</th>\n",
       "      <td>63.108981</td>\n",
       "      <td>99.049465</td>\n",
       "      <td>44.811111</td>\n",
       "    </tr>\n",
       "  </tbody>\n",
       "</table>\n",
       "</div>"
      ],
      "text/plain": [
       "Household_Head_Gender  Female Headed  Male Headed  Youth Headed\n",
       "state                                                          \n",
       "non vsf                    54.069256   109.103818     38.985667\n",
       "vsf                        63.108981    99.049465     44.811111"
      ]
     },
     "execution_count": 113,
     "metadata": {},
     "output_type": "execute_result"
    }
   ],
   "source": [
    "## Loan Amount for only those that saved\n",
    "((subset.groupby(['state','Household_Head_Gender'])['Loan Amount (Ugx)'].mean() * (adjusted_cpi/100))/rate).unstack()"
   ]
  },
  {
   "cell_type": "code",
   "execution_count": 114,
   "id": "53c695da-2a3e-4971-86b9-4ac5599503b7",
   "metadata": {},
   "outputs": [
    {
     "data": {
      "text/plain": [
       "Household_Head_Gender\n",
       "Female Headed    17.749401\n",
       "Male Headed      35.470417\n",
       "Youth Headed      8.962222\n",
       "Name: Loan Amount (Ugx), dtype: float64"
      ]
     },
     "execution_count": 114,
     "metadata": {},
     "output_type": "execute_result"
    }
   ],
   "source": [
    "## Loan Amount for only those that saved\n",
    "((vsf.groupby(['Household_Head_Gender'])['Loan Amount (Ugx)'].mean() * (adjusted_cpi/100))/rate)"
   ]
  },
  {
   "cell_type": "code",
   "execution_count": 115,
   "id": "16ae6b45-219a-46a6-abe5-35b8987ee492",
   "metadata": {},
   "outputs": [
    {
     "data": {
      "text/plain": [
       "Household_Head_Gender\n",
       "Female Headed    16.612583\n",
       "Male Headed      36.790822\n",
       "Youth Headed     10.893054\n",
       "Name: Loan Amount (Ugx), dtype: float64"
      ]
     },
     "execution_count": 115,
     "metadata": {},
     "output_type": "execute_result"
    }
   ],
   "source": [
    "## Loan Amount for only those that saved\n",
    "((non_vsf.groupby(['Household_Head_Gender'])['Loan Amount (Ugx)'].mean() * (adjusted_cpi/100))/rate)"
   ]
  },
  {
   "cell_type": "code",
   "execution_count": null,
   "id": "20d2926e-d9c5-4516-95a6-e56225d4a51d",
   "metadata": {},
   "outputs": [],
   "source": []
  },
  {
   "cell_type": "code",
   "execution_count": null,
   "id": "ed70aab1-66db-43c1-b906-47dfa73bbbbd",
   "metadata": {},
   "outputs": [],
   "source": []
  },
  {
   "cell_type": "code",
   "execution_count": null,
   "id": "d1439d7f-c6c9-4bbe-bbe2-8d5bc3f43713",
   "metadata": {},
   "outputs": [],
   "source": []
  },
  {
   "cell_type": "code",
   "execution_count": 116,
   "id": "1026c516-0189-4381-82d3-a82d1abb0aa5",
   "metadata": {},
   "outputs": [
    {
     "name": "stdout",
     "output_type": "stream",
     "text": [
      "vsf (Female Headed):\t14.411323350694444\n",
      "vsf (Male Headed):\t26.349993055555558\n",
      "vsf (Youth Headed):\t6.721666666666667\n",
      "non_vsf (Male Headed):\t29.57245874318769\n",
      "non_vsf (Female Headed):\t12.754094282769728\n",
      "non_vsf (Youth Headed):\t12.336235294117646\n"
     ]
    }
   ],
   "source": [
    "for frame in [vsf, non_vsf]:\n",
    "    for gender in frame['Household_Head_Gender'].unique():\n",
    "        sub_frame = frame[frame['Household_Head_Gender'] == gender]\n",
    "        debt = sub_frame[columns].sum(axis=1).mean() * (adjusted_cpi / 100) / rate\n",
    "        print(f\"{get_df_name(frame)} ({gender}):\\t{debt}\")"
   ]
  },
  {
   "cell_type": "code",
   "execution_count": 117,
   "id": "0ec6997f-b8bc-4be0-859c-045392d64313",
   "metadata": {},
   "outputs": [
    {
     "data": {
      "text/html": [
       "<div>\n",
       "<style scoped>\n",
       "    .dataframe tbody tr th:only-of-type {\n",
       "        vertical-align: middle;\n",
       "    }\n",
       "\n",
       "    .dataframe tbody tr th {\n",
       "        vertical-align: top;\n",
       "    }\n",
       "\n",
       "    .dataframe thead th {\n",
       "        text-align: right;\n",
       "    }\n",
       "</style>\n",
       "<table border=\"1\" class=\"dataframe\">\n",
       "  <thead>\n",
       "    <tr style=\"text-align: right;\">\n",
       "      <th>Household_Head_Gender</th>\n",
       "      <th>Female Headed</th>\n",
       "      <th>Male Headed</th>\n",
       "      <th>Youth Headed</th>\n",
       "    </tr>\n",
       "    <tr>\n",
       "      <th>borrowed_past_12_months</th>\n",
       "      <th></th>\n",
       "      <th></th>\n",
       "      <th></th>\n",
       "    </tr>\n",
       "  </thead>\n",
       "  <tbody>\n",
       "    <tr>\n",
       "      <th>1</th>\n",
       "      <td>1.0</td>\n",
       "      <td>1.0</td>\n",
       "      <td>1.0</td>\n",
       "    </tr>\n",
       "  </tbody>\n",
       "</table>\n",
       "</div>"
      ],
      "text/plain": [
       "Household_Head_Gender    Female Headed  Male Headed  Youth Headed\n",
       "borrowed_past_12_months                                          \n",
       "1                                  1.0          1.0           1.0"
      ]
     },
     "execution_count": 117,
     "metadata": {},
     "output_type": "execute_result"
    }
   ],
   "source": [
    "(vsf.groupby(['Household_Head_Gender'])['borrowed_past_12_months'].value_counts(normalize=True)).unstack().transpose()"
   ]
  },
  {
   "cell_type": "code",
   "execution_count": 118,
   "id": "ee827063-1489-4596-a88a-2859f899aad9",
   "metadata": {},
   "outputs": [
    {
     "data": {
      "text/html": [
       "<div>\n",
       "<style scoped>\n",
       "    .dataframe tbody tr th:only-of-type {\n",
       "        vertical-align: middle;\n",
       "    }\n",
       "\n",
       "    .dataframe tbody tr th {\n",
       "        vertical-align: top;\n",
       "    }\n",
       "\n",
       "    .dataframe thead th {\n",
       "        text-align: right;\n",
       "    }\n",
       "</style>\n",
       "<table border=\"1\" class=\"dataframe\">\n",
       "  <thead>\n",
       "    <tr style=\"text-align: right;\">\n",
       "      <th>Household_Head_Gender</th>\n",
       "      <th>Female Headed</th>\n",
       "      <th>Male Headed</th>\n",
       "      <th>Youth Headed</th>\n",
       "    </tr>\n",
       "    <tr>\n",
       "      <th>borrowed_past_12_months</th>\n",
       "      <th></th>\n",
       "      <th></th>\n",
       "      <th></th>\n",
       "    </tr>\n",
       "  </thead>\n",
       "  <tbody>\n",
       "    <tr>\n",
       "      <th>0</th>\n",
       "      <td>0.692754</td>\n",
       "      <td>0.662791</td>\n",
       "      <td>0.720588</td>\n",
       "    </tr>\n",
       "    <tr>\n",
       "      <th>1</th>\n",
       "      <td>0.307246</td>\n",
       "      <td>0.337209</td>\n",
       "      <td>0.279412</td>\n",
       "    </tr>\n",
       "  </tbody>\n",
       "</table>\n",
       "</div>"
      ],
      "text/plain": [
       "Household_Head_Gender    Female Headed  Male Headed  Youth Headed\n",
       "borrowed_past_12_months                                          \n",
       "0                             0.692754     0.662791      0.720588\n",
       "1                             0.307246     0.337209      0.279412"
      ]
     },
     "execution_count": 118,
     "metadata": {},
     "output_type": "execute_result"
    }
   ],
   "source": [
    "(non_vsf.groupby(['Household_Head_Gender'])['borrowed_past_12_months'].value_counts(normalize=True)).unstack().transpose()"
   ]
  },
  {
   "cell_type": "code",
   "execution_count": 119,
   "id": "3283c762-557e-4fcc-80b6-d42ae3608db5",
   "metadata": {},
   "outputs": [
    {
     "name": "stdout",
     "output_type": "stream",
     "text": [
      "vsf (Gender: Female Headed):\t2.1422222222222222\n",
      "vsf (Gender: Male Headed):\t2.285849056603774\n",
      "vsf (Gender: Youth Headed):\t2.5\n",
      "non_vsf (Gender: Male Headed):\t4.151792452830189\n",
      "non_vsf (Gender: Female Headed):\t4.334615384615384\n",
      "non_vsf (Gender: Youth Headed):\t4.24\n"
     ]
    }
   ],
   "source": [
    "for frame in [vsf, non_vsf]:\n",
    "    for gender in frame['Household_Head_Gender'].unique():\n",
    "        sub_frame = frame[(frame['Household_Head_Gender'] == gender) & (frame['Interest'] != 0.)]\n",
    "        interest = sub_frame['Interest'].mean()\n",
    "        print(f\"{get_df_name(frame)} (Gender: {gender}):\\t{interest}\")"
   ]
  },
  {
   "cell_type": "code",
   "execution_count": 120,
   "id": "567e3400-043c-470c-8cc8-92b0fbc7e434",
   "metadata": {},
   "outputs": [
    {
     "data": {
      "text/plain": [
       "Household_Head_Gender\n",
       "Female Headed    4.011148\n",
       "Male Headed      3.885229\n",
       "Youth Headed     4.074286\n",
       "Name: Interest, dtype: float64"
      ]
     },
     "execution_count": 120,
     "metadata": {},
     "output_type": "execute_result"
    }
   ],
   "source": [
    "group_int = df_vsla[df_vsla['Interest'] != 0.]\n",
    "group_int.groupby('Household_Head_Gender')['Interest'].mean()"
   ]
  },
  {
   "cell_type": "raw",
   "id": "fc718598-5673-4743-8b1c-07b92e29d8b2",
   "metadata": {},
   "source": [
    "1\tSchool Fees\n",
    "2\tHome construction\n",
    "3\tBusiness\n",
    "4\tAgriculture inputs\n",
    "5\tMedicine and Sickness\n",
    "6\tLivestock\n",
    "7\tBuying land\n",
    "8\tHousehold items\n",
    "9\tTo repay other debts\n",
    "97\tOthers\tOthers"
   ]
  },
  {
   "cell_type": "code",
   "execution_count": 121,
   "id": "093da93c-239d-4bd3-982d-d4aad813f67e",
   "metadata": {},
   "outputs": [
    {
     "data": {
      "text/html": [
       "<div>\n",
       "<style scoped>\n",
       "    .dataframe tbody tr th:only-of-type {\n",
       "        vertical-align: middle;\n",
       "    }\n",
       "\n",
       "    .dataframe tbody tr th {\n",
       "        vertical-align: top;\n",
       "    }\n",
       "\n",
       "    .dataframe thead th {\n",
       "        text-align: right;\n",
       "    }\n",
       "</style>\n",
       "<table border=\"1\" class=\"dataframe\">\n",
       "  <thead>\n",
       "    <tr style=\"text-align: right;\">\n",
       "      <th>Household_Head_Gender</th>\n",
       "      <th>Female Headed</th>\n",
       "      <th>Male Headed</th>\n",
       "      <th>Youth Headed</th>\n",
       "    </tr>\n",
       "    <tr>\n",
       "      <th>purpose_for_borrow</th>\n",
       "      <th></th>\n",
       "      <th></th>\n",
       "      <th></th>\n",
       "    </tr>\n",
       "  </thead>\n",
       "  <tbody>\n",
       "    <tr>\n",
       "      <th>1.0</th>\n",
       "      <td>0.222222</td>\n",
       "      <td>0.245283</td>\n",
       "      <td>NaN</td>\n",
       "    </tr>\n",
       "    <tr>\n",
       "      <th>3.0</th>\n",
       "      <td>0.055556</td>\n",
       "      <td>0.207547</td>\n",
       "      <td>0.5</td>\n",
       "    </tr>\n",
       "    <tr>\n",
       "      <th>4.0</th>\n",
       "      <td>0.444444</td>\n",
       "      <td>0.264151</td>\n",
       "      <td>NaN</td>\n",
       "    </tr>\n",
       "    <tr>\n",
       "      <th>6.0</th>\n",
       "      <td>0.277778</td>\n",
       "      <td>0.188679</td>\n",
       "      <td>0.5</td>\n",
       "    </tr>\n",
       "    <tr>\n",
       "      <th>7.0</th>\n",
       "      <td>NaN</td>\n",
       "      <td>0.037736</td>\n",
       "      <td>NaN</td>\n",
       "    </tr>\n",
       "    <tr>\n",
       "      <th>8.0</th>\n",
       "      <td>NaN</td>\n",
       "      <td>0.056604</td>\n",
       "      <td>NaN</td>\n",
       "    </tr>\n",
       "  </tbody>\n",
       "</table>\n",
       "</div>"
      ],
      "text/plain": [
       "Household_Head_Gender  Female Headed  Male Headed  Youth Headed\n",
       "purpose_for_borrow                                             \n",
       "1.0                         0.222222     0.245283           NaN\n",
       "3.0                         0.055556     0.207547           0.5\n",
       "4.0                         0.444444     0.264151           NaN\n",
       "6.0                         0.277778     0.188679           0.5\n",
       "7.0                              NaN     0.037736           NaN\n",
       "8.0                              NaN     0.056604           NaN"
      ]
     },
     "execution_count": 121,
     "metadata": {},
     "output_type": "execute_result"
    }
   ],
   "source": [
    "((vsf.groupby(['Household_Head_Gender'])['purpose_for_borrow'].value_counts(normalize=True)).unstack()).transpose()"
   ]
  },
  {
   "cell_type": "code",
   "execution_count": 122,
   "id": "728e6dde-f696-45ff-87f3-ad5d713ae2a3",
   "metadata": {},
   "outputs": [
    {
     "data": {
      "text/html": [
       "<div>\n",
       "<style scoped>\n",
       "    .dataframe tbody tr th:only-of-type {\n",
       "        vertical-align: middle;\n",
       "    }\n",
       "\n",
       "    .dataframe tbody tr th {\n",
       "        vertical-align: top;\n",
       "    }\n",
       "\n",
       "    .dataframe thead th {\n",
       "        text-align: right;\n",
       "    }\n",
       "</style>\n",
       "<table border=\"1\" class=\"dataframe\">\n",
       "  <thead>\n",
       "    <tr style=\"text-align: right;\">\n",
       "      <th>Household_Head_Gender</th>\n",
       "      <th>Female Headed</th>\n",
       "      <th>Male Headed</th>\n",
       "      <th>Youth Headed</th>\n",
       "    </tr>\n",
       "    <tr>\n",
       "      <th>purpose_for_borrow</th>\n",
       "      <th></th>\n",
       "      <th></th>\n",
       "      <th></th>\n",
       "    </tr>\n",
       "  </thead>\n",
       "  <tbody>\n",
       "    <tr>\n",
       "      <th>1.0</th>\n",
       "      <td>0.179245</td>\n",
       "      <td>0.278997</td>\n",
       "      <td>0.210526</td>\n",
       "    </tr>\n",
       "    <tr>\n",
       "      <th>2.0</th>\n",
       "      <td>0.037736</td>\n",
       "      <td>0.043887</td>\n",
       "      <td>0.052632</td>\n",
       "    </tr>\n",
       "    <tr>\n",
       "      <th>3.0</th>\n",
       "      <td>0.103774</td>\n",
       "      <td>0.131661</td>\n",
       "      <td>0.157895</td>\n",
       "    </tr>\n",
       "    <tr>\n",
       "      <th>4.0</th>\n",
       "      <td>0.235849</td>\n",
       "      <td>0.197492</td>\n",
       "      <td>0.105263</td>\n",
       "    </tr>\n",
       "    <tr>\n",
       "      <th>5.0</th>\n",
       "      <td>0.047170</td>\n",
       "      <td>0.031348</td>\n",
       "      <td>NaN</td>\n",
       "    </tr>\n",
       "    <tr>\n",
       "      <th>6.0</th>\n",
       "      <td>0.264151</td>\n",
       "      <td>0.206897</td>\n",
       "      <td>0.368421</td>\n",
       "    </tr>\n",
       "    <tr>\n",
       "      <th>7.0</th>\n",
       "      <td>0.018868</td>\n",
       "      <td>0.034483</td>\n",
       "      <td>0.052632</td>\n",
       "    </tr>\n",
       "    <tr>\n",
       "      <th>8.0</th>\n",
       "      <td>0.084906</td>\n",
       "      <td>0.040752</td>\n",
       "      <td>NaN</td>\n",
       "    </tr>\n",
       "    <tr>\n",
       "      <th>9.0</th>\n",
       "      <td>0.018868</td>\n",
       "      <td>0.018809</td>\n",
       "      <td>0.052632</td>\n",
       "    </tr>\n",
       "    <tr>\n",
       "      <th>97.0</th>\n",
       "      <td>0.009434</td>\n",
       "      <td>0.015674</td>\n",
       "      <td>NaN</td>\n",
       "    </tr>\n",
       "  </tbody>\n",
       "</table>\n",
       "</div>"
      ],
      "text/plain": [
       "Household_Head_Gender  Female Headed  Male Headed  Youth Headed\n",
       "purpose_for_borrow                                             \n",
       "1.0                         0.179245     0.278997      0.210526\n",
       "2.0                         0.037736     0.043887      0.052632\n",
       "3.0                         0.103774     0.131661      0.157895\n",
       "4.0                         0.235849     0.197492      0.105263\n",
       "5.0                         0.047170     0.031348           NaN\n",
       "6.0                         0.264151     0.206897      0.368421\n",
       "7.0                         0.018868     0.034483      0.052632\n",
       "8.0                         0.084906     0.040752           NaN\n",
       "9.0                         0.018868     0.018809      0.052632\n",
       "97.0                        0.009434     0.015674           NaN"
      ]
     },
     "execution_count": 122,
     "metadata": {},
     "output_type": "execute_result"
    }
   ],
   "source": [
    "((non_vsf.groupby(['Household_Head_Gender'])['purpose_for_borrow'].value_counts(normalize=True)).unstack()).transpose()"
   ]
  },
  {
   "cell_type": "code",
   "execution_count": 123,
   "id": "eeccb36b-d986-443a-99ce-e3723e680047",
   "metadata": {},
   "outputs": [
    {
     "data": {
      "text/html": [
       "<div>\n",
       "<style scoped>\n",
       "    .dataframe tbody tr th:only-of-type {\n",
       "        vertical-align: middle;\n",
       "    }\n",
       "\n",
       "    .dataframe tbody tr th {\n",
       "        vertical-align: top;\n",
       "    }\n",
       "\n",
       "    .dataframe thead th {\n",
       "        text-align: right;\n",
       "    }\n",
       "</style>\n",
       "<table border=\"1\" class=\"dataframe\">\n",
       "  <thead>\n",
       "    <tr style=\"text-align: right;\">\n",
       "      <th>Household_Head_Gender</th>\n",
       "      <th>Female Headed</th>\n",
       "      <th>Male Headed</th>\n",
       "      <th>Youth Headed</th>\n",
       "    </tr>\n",
       "  </thead>\n",
       "  <tbody>\n",
       "    <tr>\n",
       "      <th>Personal Business &amp; Self Employment (USD_Cons_rate)</th>\n",
       "      <td>172.921877</td>\n",
       "      <td>169.951437</td>\n",
       "      <td>237.722944</td>\n",
       "    </tr>\n",
       "    <tr>\n",
       "      <th>Seasonal Crops Income (USD_Cons_rate)</th>\n",
       "      <td>191.309136</td>\n",
       "      <td>188.763324</td>\n",
       "      <td>159.762814</td>\n",
       "    </tr>\n",
       "    <tr>\n",
       "      <th>Seasonal  Agriculture Value (USD_Cons_rate)</th>\n",
       "      <td>439.128059</td>\n",
       "      <td>439.876358</td>\n",
       "      <td>331.362483</td>\n",
       "    </tr>\n",
       "    <tr>\n",
       "      <th>Livestock Income (USD_Cons_rate)</th>\n",
       "      <td>40.193466</td>\n",
       "      <td>35.270583</td>\n",
       "      <td>10.418583</td>\n",
       "    </tr>\n",
       "    <tr>\n",
       "      <th>Assets (USD_Cons_rate)</th>\n",
       "      <td>233.623428</td>\n",
       "      <td>240.827174</td>\n",
       "      <td>278.949167</td>\n",
       "    </tr>\n",
       "    <tr>\n",
       "      <th>HH Income (USD_Cons_rate)</th>\n",
       "      <td>637.812648</td>\n",
       "      <td>642.810393</td>\n",
       "      <td>593.937669</td>\n",
       "    </tr>\n",
       "    <tr>\n",
       "      <th>HH Income + Consumption + Residues (USD_Cons_rate)</th>\n",
       "      <td>862.502028</td>\n",
       "      <td>906.689326</td>\n",
       "      <td>629.606356</td>\n",
       "    </tr>\n",
       "    <tr>\n",
       "      <th>HH Income/Day (USD_Cons_rate)</th>\n",
       "      <td>1.747432</td>\n",
       "      <td>1.761124</td>\n",
       "      <td>1.627226</td>\n",
       "    </tr>\n",
       "  </tbody>\n",
       "</table>\n",
       "</div>"
      ],
      "text/plain": [
       "Household_Head_Gender                                Female Headed  \\\n",
       "Personal Business & Self Employment (USD_Cons_rate)     172.921877   \n",
       "Seasonal Crops Income (USD_Cons_rate)                   191.309136   \n",
       "Seasonal  Agriculture Value (USD_Cons_rate)             439.128059   \n",
       "Livestock Income (USD_Cons_rate)                         40.193466   \n",
       "Assets (USD_Cons_rate)                                  233.623428   \n",
       "HH Income (USD_Cons_rate)                               637.812648   \n",
       "HH Income + Consumption + Residues (USD_Cons_rate)      862.502028   \n",
       "HH Income/Day (USD_Cons_rate)                             1.747432   \n",
       "\n",
       "Household_Head_Gender                                Male Headed  Youth Headed  \n",
       "Personal Business & Self Employment (USD_Cons_rate)   169.951437    237.722944  \n",
       "Seasonal Crops Income (USD_Cons_rate)                 188.763324    159.762814  \n",
       "Seasonal  Agriculture Value (USD_Cons_rate)           439.876358    331.362483  \n",
       "Livestock Income (USD_Cons_rate)                       35.270583     10.418583  \n",
       "Assets (USD_Cons_rate)                                240.827174    278.949167  \n",
       "HH Income (USD_Cons_rate)                             642.810393    593.937669  \n",
       "HH Income + Consumption + Residues (USD_Cons_rate)    906.689326    629.606356  \n",
       "HH Income/Day (USD_Cons_rate)                           1.761124      1.627226  "
      ]
     },
     "execution_count": 123,
     "metadata": {},
     "output_type": "execute_result"
    }
   ],
   "source": [
    "(vsf.groupby('Household_Head_Gender')[[\n",
    "    'Personal Business & Self Employment (USD_Cons_rate)',\n",
    "    'Seasonal Crops Income (USD_Cons_rate)',\n",
    "    'Seasonal  Agriculture Value (USD_Cons_rate)',\n",
    "    'Livestock Income (USD_Cons_rate)',\n",
    "    'Assets (USD_Cons_rate)',\n",
    "    'HH Income (USD_Cons_rate)',\n",
    "    'HH Income + Consumption + Residues (USD_Cons_rate)',\n",
    "    'HH Income/Day (USD_Cons_rate)',\n",
    "]].mean()).transpose()"
   ]
  },
  {
   "cell_type": "code",
   "execution_count": 124,
   "id": "5f02cc4e-9832-41d5-9f8b-01a6a8d322c5",
   "metadata": {},
   "outputs": [
    {
     "data": {
      "text/html": [
       "<div>\n",
       "<style scoped>\n",
       "    .dataframe tbody tr th:only-of-type {\n",
       "        vertical-align: middle;\n",
       "    }\n",
       "\n",
       "    .dataframe tbody tr th {\n",
       "        vertical-align: top;\n",
       "    }\n",
       "\n",
       "    .dataframe thead th {\n",
       "        text-align: right;\n",
       "    }\n",
       "</style>\n",
       "<table border=\"1\" class=\"dataframe\">\n",
       "  <thead>\n",
       "    <tr style=\"text-align: right;\">\n",
       "      <th>Household_Head_Gender</th>\n",
       "      <th>Female Headed</th>\n",
       "      <th>Male Headed</th>\n",
       "      <th>Youth Headed</th>\n",
       "    </tr>\n",
       "  </thead>\n",
       "  <tbody>\n",
       "    <tr>\n",
       "      <th>Personal Business &amp; Self Employment (USD_Cons_rate)</th>\n",
       "      <td>69.633934</td>\n",
       "      <td>91.750179</td>\n",
       "      <td>121.086858</td>\n",
       "    </tr>\n",
       "    <tr>\n",
       "      <th>Seasonal Crops Income (USD_Cons_rate)</th>\n",
       "      <td>147.371676</td>\n",
       "      <td>147.371676</td>\n",
       "      <td>147.371676</td>\n",
       "    </tr>\n",
       "    <tr>\n",
       "      <th>Seasonal  Agriculture Value (USD_Cons_rate)</th>\n",
       "      <td>363.211986</td>\n",
       "      <td>318.933753</td>\n",
       "      <td>297.786143</td>\n",
       "    </tr>\n",
       "    <tr>\n",
       "      <th>Livestock Income (USD_Cons_rate)</th>\n",
       "      <td>24.533759</td>\n",
       "      <td>30.200865</td>\n",
       "      <td>18.758063</td>\n",
       "    </tr>\n",
       "    <tr>\n",
       "      <th>Assets (USD_Cons_rate)</th>\n",
       "      <td>227.444964</td>\n",
       "      <td>242.915420</td>\n",
       "      <td>182.753550</td>\n",
       "    </tr>\n",
       "    <tr>\n",
       "      <th>HH Income (USD_Cons_rate)</th>\n",
       "      <td>472.445687</td>\n",
       "      <td>525.532657</td>\n",
       "      <td>519.274808</td>\n",
       "    </tr>\n",
       "    <tr>\n",
       "      <th>HH Income + Consumption + Residues (USD_Cons_rate)</th>\n",
       "      <td>793.744309</td>\n",
       "      <td>848.893293</td>\n",
       "      <td>806.666396</td>\n",
       "    </tr>\n",
       "    <tr>\n",
       "      <th>HH Income/Day (USD_Cons_rate)</th>\n",
       "      <td>1.294372</td>\n",
       "      <td>1.439815</td>\n",
       "      <td>1.422671</td>\n",
       "    </tr>\n",
       "  </tbody>\n",
       "</table>\n",
       "</div>"
      ],
      "text/plain": [
       "Household_Head_Gender                                Female Headed  \\\n",
       "Personal Business & Self Employment (USD_Cons_rate)      69.633934   \n",
       "Seasonal Crops Income (USD_Cons_rate)                   147.371676   \n",
       "Seasonal  Agriculture Value (USD_Cons_rate)             363.211986   \n",
       "Livestock Income (USD_Cons_rate)                         24.533759   \n",
       "Assets (USD_Cons_rate)                                  227.444964   \n",
       "HH Income (USD_Cons_rate)                               472.445687   \n",
       "HH Income + Consumption + Residues (USD_Cons_rate)      793.744309   \n",
       "HH Income/Day (USD_Cons_rate)                             1.294372   \n",
       "\n",
       "Household_Head_Gender                                Male Headed  Youth Headed  \n",
       "Personal Business & Self Employment (USD_Cons_rate)    91.750179    121.086858  \n",
       "Seasonal Crops Income (USD_Cons_rate)                 147.371676    147.371676  \n",
       "Seasonal  Agriculture Value (USD_Cons_rate)           318.933753    297.786143  \n",
       "Livestock Income (USD_Cons_rate)                       30.200865     18.758063  \n",
       "Assets (USD_Cons_rate)                                242.915420    182.753550  \n",
       "HH Income (USD_Cons_rate)                             525.532657    519.274808  \n",
       "HH Income + Consumption + Residues (USD_Cons_rate)    848.893293    806.666396  \n",
       "HH Income/Day (USD_Cons_rate)                           1.439815      1.422671  "
      ]
     },
     "execution_count": 124,
     "metadata": {},
     "output_type": "execute_result"
    }
   ],
   "source": [
    "(non_vsf.groupby('Household_Head_Gender')[[\n",
    "    'Personal Business & Self Employment (USD_Cons_rate)',\n",
    "    'Seasonal Crops Income (USD_Cons_rate)',\n",
    "    'Seasonal  Agriculture Value (USD_Cons_rate)',\n",
    "    'Livestock Income (USD_Cons_rate)',\n",
    "    'Assets (USD_Cons_rate)',\n",
    "    'HH Income (USD_Cons_rate)',\n",
    "    'HH Income + Consumption + Residues (USD_Cons_rate)',\n",
    "    'HH Income/Day (USD_Cons_rate)',\n",
    "]].mean()).transpose()"
   ]
  },
  {
   "cell_type": "code",
   "execution_count": null,
   "id": "43c5dd15-4f90-400a-b49a-9b7f5ce41a27",
   "metadata": {},
   "outputs": [],
   "source": []
  },
  {
   "cell_type": "code",
   "execution_count": null,
   "id": "d5944f52-f4c5-4332-af2a-80321589f3a4",
   "metadata": {},
   "outputs": [],
   "source": []
  },
  {
   "cell_type": "code",
   "execution_count": 125,
   "id": "cc41393d-47bc-4080-a814-bc576413e0d1",
   "metadata": {},
   "outputs": [],
   "source": [
    "vsf.to_excel('final_vsf.xlsx', index=False)"
   ]
  },
  {
   "cell_type": "code",
   "execution_count": 126,
   "id": "3d968cf0-26fc-4311-9aec-cbd01e57684a",
   "metadata": {},
   "outputs": [
    {
     "data": {
      "text/plain": [
       "(222, 5666)"
      ]
     },
     "execution_count": 126,
     "metadata": {},
     "output_type": "execute_result"
    }
   ],
   "source": [
    "vsf.shape"
   ]
  },
  {
   "cell_type": "code",
   "execution_count": 199,
   "id": "c227ed45-a555-432b-a795-fbed9ccafe84",
   "metadata": {},
   "outputs": [],
   "source": [
    "a = np.array([2,3,4,5])\n",
    "b = np.array([100,350,300,150])"
   ]
  },
  {
   "cell_type": "code",
   "execution_count": 203,
   "id": "61a4c872-ccaf-4a87-92b2-54fa15f2dd96",
   "metadata": {},
   "outputs": [
    {
     "data": {
      "text/plain": [
       "67.91666666666667"
      ]
     },
     "execution_count": 203,
     "metadata": {},
     "output_type": "execute_result"
    }
   ],
   "source": [
    "c = b/a\n",
    "c.mean()"
   ]
  },
  {
   "cell_type": "code",
   "execution_count": 201,
   "id": "97996b10-1be9-49ef-8009-490b821492c5",
   "metadata": {},
   "outputs": [
    {
     "data": {
      "text/plain": [
       "64.28571428571429"
      ]
     },
     "execution_count": 201,
     "metadata": {},
     "output_type": "execute_result"
    }
   ],
   "source": [
    "b.mean()/a.mean()"
   ]
  },
  {
   "cell_type": "code",
   "execution_count": null,
   "id": "0eca490b-0b0d-41de-a2e7-1838aeb9cbe0",
   "metadata": {},
   "outputs": [],
   "source": []
  }
 ],
 "metadata": {
  "kernelspec": {
   "display_name": "Python 3 (ipykernel)",
   "language": "python",
   "name": "python3"
  },
  "language_info": {
   "codemirror_mode": {
    "name": "ipython",
    "version": 3
   },
   "file_extension": ".py",
   "mimetype": "text/x-python",
   "name": "python",
   "nbconvert_exporter": "python",
   "pygments_lexer": "ipython3",
   "version": "3.10.12"
  }
 },
 "nbformat": 4,
 "nbformat_minor": 5
}
