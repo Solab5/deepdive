{
 "cells": [
  {
   "cell_type": "code",
   "execution_count": 1,
   "id": "94968b4e-b9e9-4e39-b040-3be6bde3e532",
   "metadata": {},
   "outputs": [],
   "source": [
    "from fastai.imports import *"
   ]
  },
  {
   "cell_type": "code",
   "execution_count": 2,
   "id": "8443e59f-8824-427f-ac62-cc05606fc201",
   "metadata": {},
   "outputs": [],
   "source": [
    "df = pd.read_excel('Rubirizi2022CohortYr1.xlsx',header=5)"
   ]
  },
  {
   "cell_type": "code",
   "execution_count": 3,
   "id": "caff0219-146e-4d0d-933e-f06bdf95fb3e",
   "metadata": {},
   "outputs": [],
   "source": [
    "kaliro = pd.read_excel('KALIRO yr1 AHS 2023.xlsx',sheet_name='Kaliro Aggregator_RTV_YR1',header=5)"
   ]
  },
  {
   "cell_type": "code",
   "execution_count": 4,
   "id": "a02a39e9-5b10-4d74-8cae-fac9aaa2fdcc",
   "metadata": {},
   "outputs": [
    {
     "data": {
      "text/html": [
       "<div>\n",
       "<style scoped>\n",
       "    .dataframe tbody tr th:only-of-type {\n",
       "        vertical-align: middle;\n",
       "    }\n",
       "\n",
       "    .dataframe tbody tr th {\n",
       "        vertical-align: top;\n",
       "    }\n",
       "\n",
       "    .dataframe thead th {\n",
       "        text-align: right;\n",
       "    }\n",
       "</style>\n",
       "<table border=\"1\" class=\"dataframe\">\n",
       "  <thead>\n",
       "    <tr style=\"text-align: right;\">\n",
       "      <th></th>\n",
       "      <th>SubmissionDate</th>\n",
       "      <th>starttime</th>\n",
       "      <th>endtime</th>\n",
       "      <th>version</th>\n",
       "      <th>duration</th>\n",
       "      <th>survey_start</th>\n",
       "      <th>intro_start</th>\n",
       "      <th>text_audit</th>\n",
       "      <th>district</th>\n",
       "      <th>Surveyor_Name</th>\n",
       "      <th>...</th>\n",
       "      <th>gs_pen_clean.1</th>\n",
       "      <th>gs_droppings_rem_composted.1</th>\n",
       "      <th>pg_pen_constr.1</th>\n",
       "      <th>pg_pen_clean.1</th>\n",
       "      <th>pg_droppings_rem_composted.1</th>\n",
       "      <th>WASH (%)</th>\n",
       "      <th>AGRIC (%)</th>\n",
       "      <th>Livestock (%)</th>\n",
       "      <th>Household Compliance (%)</th>\n",
       "      <th>Status</th>\n",
       "    </tr>\n",
       "  </thead>\n",
       "  <tbody>\n",
       "    <tr>\n",
       "      <th>0</th>\n",
       "      <td>2023-08-18 19:02:30</td>\n",
       "      <td>2023-08-18 16:54:54</td>\n",
       "      <td>2023-08-18 17:45:05</td>\n",
       "      <td>2308161026</td>\n",
       "      <td>2362</td>\n",
       "      <td>24</td>\n",
       "      <td>24</td>\n",
       "      <td>https://rtvuganda.surveycto.com/view/submission-attachment/TA_50d64490-30f7-449f-a740-4fb4a2d9c98f.csv?uuid=uuid%3A50d64490-30f7-449f-a740-4fb4a2d9c98f</td>\n",
       "      <td>9</td>\n",
       "      <td>30</td>\n",
       "      <td>...</td>\n",
       "      <td>NaN</td>\n",
       "      <td>NaN</td>\n",
       "      <td>NaN</td>\n",
       "      <td>NaN</td>\n",
       "      <td>NaN</td>\n",
       "      <td>0.763889</td>\n",
       "      <td>0.300</td>\n",
       "      <td>NaN</td>\n",
       "      <td>0.531944</td>\n",
       "      <td>RTV</td>\n",
       "    </tr>\n",
       "    <tr>\n",
       "      <th>1</th>\n",
       "      <td>2023-08-19 18:58:40</td>\n",
       "      <td>2023-08-19 11:49:20</td>\n",
       "      <td>2023-08-19 12:27:13</td>\n",
       "      <td>2308182343</td>\n",
       "      <td>2228</td>\n",
       "      <td>22</td>\n",
       "      <td>22</td>\n",
       "      <td>https://rtvuganda.surveycto.com/view/submission-attachment/TA_5f6a255d-aa2a-45a6-b98a-8d9bff8bfc40.csv?uuid=uuid%3A5f6a255d-aa2a-45a6-b98a-8d9bff8bfc40</td>\n",
       "      <td>9</td>\n",
       "      <td>30</td>\n",
       "      <td>...</td>\n",
       "      <td>NaN</td>\n",
       "      <td>NaN</td>\n",
       "      <td>NaN</td>\n",
       "      <td>NaN</td>\n",
       "      <td>NaN</td>\n",
       "      <td>0.888889</td>\n",
       "      <td>0.800</td>\n",
       "      <td>NaN</td>\n",
       "      <td>0.844444</td>\n",
       "      <td>RTV</td>\n",
       "    </tr>\n",
       "    <tr>\n",
       "      <th>2</th>\n",
       "      <td>2023-08-17 20:12:53</td>\n",
       "      <td>2023-08-17 17:11:09</td>\n",
       "      <td>2023-08-17 17:39:48</td>\n",
       "      <td>2308161026</td>\n",
       "      <td>1720</td>\n",
       "      <td>14</td>\n",
       "      <td>14</td>\n",
       "      <td>https://rtvuganda.surveycto.com/view/submission-attachment/TA_96d0f61d-db51-430a-8715-9265308ee48b.csv?uuid=uuid%3A96d0f61d-db51-430a-8715-9265308ee48b</td>\n",
       "      <td>9</td>\n",
       "      <td>33</td>\n",
       "      <td>...</td>\n",
       "      <td>NaN</td>\n",
       "      <td>NaN</td>\n",
       "      <td>NaN</td>\n",
       "      <td>NaN</td>\n",
       "      <td>NaN</td>\n",
       "      <td>0.333333</td>\n",
       "      <td>0.400</td>\n",
       "      <td>NaN</td>\n",
       "      <td>0.366667</td>\n",
       "      <td>RTV</td>\n",
       "    </tr>\n",
       "    <tr>\n",
       "      <th>3</th>\n",
       "      <td>2023-08-15 19:16:53</td>\n",
       "      <td>2023-08-15 14:34:34</td>\n",
       "      <td>2023-08-15 15:07:41</td>\n",
       "      <td>2308132155</td>\n",
       "      <td>1967</td>\n",
       "      <td>5</td>\n",
       "      <td>5</td>\n",
       "      <td>https://rtvuganda.surveycto.com/view/submission-attachment/TA_096e73d7-a817-463e-aed5-b1706087a2b5.csv?uuid=uuid%3A096e73d7-a817-463e-aed5-b1706087a2b5</td>\n",
       "      <td>9</td>\n",
       "      <td>38</td>\n",
       "      <td>...</td>\n",
       "      <td>0.0</td>\n",
       "      <td>1.0</td>\n",
       "      <td>NaN</td>\n",
       "      <td>NaN</td>\n",
       "      <td>NaN</td>\n",
       "      <td>0.812500</td>\n",
       "      <td>0.975</td>\n",
       "      <td>NaN</td>\n",
       "      <td>0.893750</td>\n",
       "      <td>RTV</td>\n",
       "    </tr>\n",
       "    <tr>\n",
       "      <th>4</th>\n",
       "      <td>2023-08-18 07:32:18</td>\n",
       "      <td>2023-08-17 12:37:44</td>\n",
       "      <td>2023-08-17 13:43:39</td>\n",
       "      <td>2308132155</td>\n",
       "      <td>3872</td>\n",
       "      <td>30</td>\n",
       "      <td>30</td>\n",
       "      <td>https://rtvuganda.surveycto.com/view/submission-attachment/TA_b9edd42b-8f3e-4c77-beb6-f5f1fc84dc17.csv?uuid=uuid%3Ab9edd42b-8f3e-4c77-beb6-f5f1fc84dc17</td>\n",
       "      <td>9</td>\n",
       "      <td>31</td>\n",
       "      <td>...</td>\n",
       "      <td>0.0</td>\n",
       "      <td>1.0</td>\n",
       "      <td>NaN</td>\n",
       "      <td>NaN</td>\n",
       "      <td>NaN</td>\n",
       "      <td>0.763889</td>\n",
       "      <td>0.275</td>\n",
       "      <td>NaN</td>\n",
       "      <td>0.519444</td>\n",
       "      <td>RTV</td>\n",
       "    </tr>\n",
       "  </tbody>\n",
       "</table>\n",
       "<p>5 rows × 5662 columns</p>\n",
       "</div>"
      ],
      "text/plain": [
       "       SubmissionDate           starttime             endtime     version  \\\n",
       "0 2023-08-18 19:02:30 2023-08-18 16:54:54 2023-08-18 17:45:05  2308161026   \n",
       "1 2023-08-19 18:58:40 2023-08-19 11:49:20 2023-08-19 12:27:13  2308182343   \n",
       "2 2023-08-17 20:12:53 2023-08-17 17:11:09 2023-08-17 17:39:48  2308161026   \n",
       "3 2023-08-15 19:16:53 2023-08-15 14:34:34 2023-08-15 15:07:41  2308132155   \n",
       "4 2023-08-18 07:32:18 2023-08-17 12:37:44 2023-08-17 13:43:39  2308132155   \n",
       "\n",
       "   duration  survey_start  intro_start  \\\n",
       "0      2362            24           24   \n",
       "1      2228            22           22   \n",
       "2      1720            14           14   \n",
       "3      1967             5            5   \n",
       "4      3872            30           30   \n",
       "\n",
       "                                                                                                                                                text_audit  \\\n",
       "0  https://rtvuganda.surveycto.com/view/submission-attachment/TA_50d64490-30f7-449f-a740-4fb4a2d9c98f.csv?uuid=uuid%3A50d64490-30f7-449f-a740-4fb4a2d9c98f   \n",
       "1  https://rtvuganda.surveycto.com/view/submission-attachment/TA_5f6a255d-aa2a-45a6-b98a-8d9bff8bfc40.csv?uuid=uuid%3A5f6a255d-aa2a-45a6-b98a-8d9bff8bfc40   \n",
       "2  https://rtvuganda.surveycto.com/view/submission-attachment/TA_96d0f61d-db51-430a-8715-9265308ee48b.csv?uuid=uuid%3A96d0f61d-db51-430a-8715-9265308ee48b   \n",
       "3  https://rtvuganda.surveycto.com/view/submission-attachment/TA_096e73d7-a817-463e-aed5-b1706087a2b5.csv?uuid=uuid%3A096e73d7-a817-463e-aed5-b1706087a2b5   \n",
       "4  https://rtvuganda.surveycto.com/view/submission-attachment/TA_b9edd42b-8f3e-4c77-beb6-f5f1fc84dc17.csv?uuid=uuid%3Ab9edd42b-8f3e-4c77-beb6-f5f1fc84dc17   \n",
       "\n",
       "   district  Surveyor_Name  ... gs_pen_clean.1  gs_droppings_rem_composted.1  \\\n",
       "0         9             30  ...            NaN                           NaN   \n",
       "1         9             30  ...            NaN                           NaN   \n",
       "2         9             33  ...            NaN                           NaN   \n",
       "3         9             38  ...            0.0                           1.0   \n",
       "4         9             31  ...            0.0                           1.0   \n",
       "\n",
       "  pg_pen_constr.1 pg_pen_clean.1 pg_droppings_rem_composted.1  WASH (%)  \\\n",
       "0             NaN            NaN                          NaN  0.763889   \n",
       "1             NaN            NaN                          NaN  0.888889   \n",
       "2             NaN            NaN                          NaN  0.333333   \n",
       "3             NaN            NaN                          NaN  0.812500   \n",
       "4             NaN            NaN                          NaN  0.763889   \n",
       "\n",
       "  AGRIC (%) Livestock (%) Household Compliance (%)  Status  \n",
       "0     0.300           NaN                 0.531944     RTV  \n",
       "1     0.800           NaN                 0.844444     RTV  \n",
       "2     0.400           NaN                 0.366667     RTV  \n",
       "3     0.975           NaN                 0.893750     RTV  \n",
       "4     0.275           NaN                 0.519444     RTV  \n",
       "\n",
       "[5 rows x 5662 columns]"
      ]
     },
     "execution_count": 4,
     "metadata": {},
     "output_type": "execute_result"
    }
   ],
   "source": [
    "kaliro.head()"
   ]
  },
  {
   "cell_type": "code",
   "execution_count": 3,
   "id": "1215f9a8-7e3c-4e30-a2b8-44b481faef6f",
   "metadata": {},
   "outputs": [
    {
     "data": {
      "text/html": [
       "<div>\n",
       "<style scoped>\n",
       "    .dataframe tbody tr th:only-of-type {\n",
       "        vertical-align: middle;\n",
       "    }\n",
       "\n",
       "    .dataframe tbody tr th {\n",
       "        vertical-align: top;\n",
       "    }\n",
       "\n",
       "    .dataframe thead th {\n",
       "        text-align: right;\n",
       "    }\n",
       "</style>\n",
       "<table border=\"1\" class=\"dataframe\">\n",
       "  <thead>\n",
       "    <tr style=\"text-align: right;\">\n",
       "      <th></th>\n",
       "      <th>SubmissionDate</th>\n",
       "      <th>starttime</th>\n",
       "      <th>endtime</th>\n",
       "      <th>version</th>\n",
       "      <th>duration</th>\n",
       "      <th>survey_start</th>\n",
       "      <th>intro_start</th>\n",
       "      <th>text_audit</th>\n",
       "      <th>district</th>\n",
       "      <th>Surveyor_Name</th>\n",
       "      <th>...</th>\n",
       "      <th>gs_pen_clean.1</th>\n",
       "      <th>gs_droppings_rem_composted.1</th>\n",
       "      <th>pg_pen_constr.1</th>\n",
       "      <th>pg_pen_clean.1</th>\n",
       "      <th>pg_droppings_rem_composted.1</th>\n",
       "      <th>WASH (%)</th>\n",
       "      <th>AGRIC (%)</th>\n",
       "      <th>Livestock (%)</th>\n",
       "      <th>Household Compliance (%)</th>\n",
       "      <th>Status</th>\n",
       "    </tr>\n",
       "  </thead>\n",
       "  <tbody>\n",
       "    <tr>\n",
       "      <th>0</th>\n",
       "      <td>2023-08-23 20:09:46</td>\n",
       "      <td>2023-08-23 08:53:30</td>\n",
       "      <td>2023-08-23 09:52:24</td>\n",
       "      <td>2308202234</td>\n",
       "      <td>1465</td>\n",
       "      <td>12.0</td>\n",
       "      <td>12.0</td>\n",
       "      <td>https://rtvuganda.surveycto.com/view/submission-attachment/TA_d8d0529f-ab1b-4448-af39-c188001b4e78.csv?uuid=uuid%3Ad8d0529f-ab1b-4448-af39-c188001b4e78</td>\n",
       "      <td>13</td>\n",
       "      <td>127</td>\n",
       "      <td>...</td>\n",
       "      <td>NaN</td>\n",
       "      <td>NaN</td>\n",
       "      <td>NaN</td>\n",
       "      <td>NaN</td>\n",
       "      <td>NaN</td>\n",
       "      <td>0.708333</td>\n",
       "      <td>0.375</td>\n",
       "      <td>NaN</td>\n",
       "      <td>0.541667</td>\n",
       "      <td>RTV</td>\n",
       "    </tr>\n",
       "    <tr>\n",
       "      <th>1</th>\n",
       "      <td>2023-08-28 17:04:11</td>\n",
       "      <td>2023-08-28 12:41:06</td>\n",
       "      <td>2023-08-28 16:19:07</td>\n",
       "      <td>2308280814</td>\n",
       "      <td>1547</td>\n",
       "      <td>7.0</td>\n",
       "      <td>7.0</td>\n",
       "      <td>https://rtvuganda.surveycto.com/view/submission-attachment/TA_2e8bc8f8-97e4-4ac0-aebd-00919da536ff.csv?uuid=uuid%3A2e8bc8f8-97e4-4ac0-aebd-00919da536ff</td>\n",
       "      <td>13</td>\n",
       "      <td>144</td>\n",
       "      <td>...</td>\n",
       "      <td>NaN</td>\n",
       "      <td>NaN</td>\n",
       "      <td>NaN</td>\n",
       "      <td>NaN</td>\n",
       "      <td>NaN</td>\n",
       "      <td>0.812500</td>\n",
       "      <td>0.100</td>\n",
       "      <td>NaN</td>\n",
       "      <td>0.456250</td>\n",
       "      <td>RTV</td>\n",
       "    </tr>\n",
       "    <tr>\n",
       "      <th>2</th>\n",
       "      <td>2023-08-25 19:54:24</td>\n",
       "      <td>2023-08-25 09:14:08</td>\n",
       "      <td>2023-08-25 10:26:14</td>\n",
       "      <td>2308250033</td>\n",
       "      <td>1769</td>\n",
       "      <td>3.0</td>\n",
       "      <td>3.0</td>\n",
       "      <td>https://rtvuganda.surveycto.com/view/submission-attachment/TA_555cefc1-4ba9-4920-8181-932168a75078.csv?uuid=uuid%3A555cefc1-4ba9-4920-8181-932168a75078</td>\n",
       "      <td>13</td>\n",
       "      <td>127</td>\n",
       "      <td>...</td>\n",
       "      <td>NaN</td>\n",
       "      <td>NaN</td>\n",
       "      <td>NaN</td>\n",
       "      <td>NaN</td>\n",
       "      <td>NaN</td>\n",
       "      <td>0.513889</td>\n",
       "      <td>0.450</td>\n",
       "      <td>NaN</td>\n",
       "      <td>0.481944</td>\n",
       "      <td>RTV</td>\n",
       "    </tr>\n",
       "    <tr>\n",
       "      <th>3</th>\n",
       "      <td>2023-08-26 15:17:42</td>\n",
       "      <td>2023-08-26 08:48:40</td>\n",
       "      <td>2023-08-26 10:01:15</td>\n",
       "      <td>2308250033</td>\n",
       "      <td>1520</td>\n",
       "      <td>4.0</td>\n",
       "      <td>4.0</td>\n",
       "      <td>https://rtvuganda.surveycto.com/view/submission-attachment/TA_799f9252-0ab2-4f04-bd27-2bdd283ec4ff.csv?uuid=uuid%3A799f9252-0ab2-4f04-bd27-2bdd283ec4ff</td>\n",
       "      <td>13</td>\n",
       "      <td>127</td>\n",
       "      <td>...</td>\n",
       "      <td>1.0</td>\n",
       "      <td>0.0</td>\n",
       "      <td>NaN</td>\n",
       "      <td>NaN</td>\n",
       "      <td>NaN</td>\n",
       "      <td>0.652778</td>\n",
       "      <td>0.100</td>\n",
       "      <td>NaN</td>\n",
       "      <td>0.376389</td>\n",
       "      <td>RTV</td>\n",
       "    </tr>\n",
       "    <tr>\n",
       "      <th>4</th>\n",
       "      <td>2023-08-24 16:56:27</td>\n",
       "      <td>2023-08-24 11:20:43</td>\n",
       "      <td>2023-08-24 12:05:12</td>\n",
       "      <td>2308240653</td>\n",
       "      <td>931</td>\n",
       "      <td>3.0</td>\n",
       "      <td>3.0</td>\n",
       "      <td>https://rtvuganda.surveycto.com/view/submission-attachment/TA_ad73ce4e-0194-4309-ad56-5dd957b57b2d.csv?uuid=uuid%3Aad73ce4e-0194-4309-ad56-5dd957b57b2d</td>\n",
       "      <td>13</td>\n",
       "      <td>127</td>\n",
       "      <td>...</td>\n",
       "      <td>1.0</td>\n",
       "      <td>0.0</td>\n",
       "      <td>NaN</td>\n",
       "      <td>NaN</td>\n",
       "      <td>NaN</td>\n",
       "      <td>0.479167</td>\n",
       "      <td>0.100</td>\n",
       "      <td>NaN</td>\n",
       "      <td>0.289583</td>\n",
       "      <td>RTV</td>\n",
       "    </tr>\n",
       "  </tbody>\n",
       "</table>\n",
       "<p>5 rows × 5662 columns</p>\n",
       "</div>"
      ],
      "text/plain": [
       "       SubmissionDate           starttime             endtime     version  \\\n",
       "0 2023-08-23 20:09:46 2023-08-23 08:53:30 2023-08-23 09:52:24  2308202234   \n",
       "1 2023-08-28 17:04:11 2023-08-28 12:41:06 2023-08-28 16:19:07  2308280814   \n",
       "2 2023-08-25 19:54:24 2023-08-25 09:14:08 2023-08-25 10:26:14  2308250033   \n",
       "3 2023-08-26 15:17:42 2023-08-26 08:48:40 2023-08-26 10:01:15  2308250033   \n",
       "4 2023-08-24 16:56:27 2023-08-24 11:20:43 2023-08-24 12:05:12  2308240653   \n",
       "\n",
       "   duration  survey_start  intro_start  \\\n",
       "0      1465          12.0         12.0   \n",
       "1      1547           7.0          7.0   \n",
       "2      1769           3.0          3.0   \n",
       "3      1520           4.0          4.0   \n",
       "4       931           3.0          3.0   \n",
       "\n",
       "                                                                                                                                                text_audit  \\\n",
       "0  https://rtvuganda.surveycto.com/view/submission-attachment/TA_d8d0529f-ab1b-4448-af39-c188001b4e78.csv?uuid=uuid%3Ad8d0529f-ab1b-4448-af39-c188001b4e78   \n",
       "1  https://rtvuganda.surveycto.com/view/submission-attachment/TA_2e8bc8f8-97e4-4ac0-aebd-00919da536ff.csv?uuid=uuid%3A2e8bc8f8-97e4-4ac0-aebd-00919da536ff   \n",
       "2  https://rtvuganda.surveycto.com/view/submission-attachment/TA_555cefc1-4ba9-4920-8181-932168a75078.csv?uuid=uuid%3A555cefc1-4ba9-4920-8181-932168a75078   \n",
       "3  https://rtvuganda.surveycto.com/view/submission-attachment/TA_799f9252-0ab2-4f04-bd27-2bdd283ec4ff.csv?uuid=uuid%3A799f9252-0ab2-4f04-bd27-2bdd283ec4ff   \n",
       "4  https://rtvuganda.surveycto.com/view/submission-attachment/TA_ad73ce4e-0194-4309-ad56-5dd957b57b2d.csv?uuid=uuid%3Aad73ce4e-0194-4309-ad56-5dd957b57b2d   \n",
       "\n",
       "   district  Surveyor_Name  ... gs_pen_clean.1  gs_droppings_rem_composted.1  \\\n",
       "0        13            127  ...            NaN                           NaN   \n",
       "1        13            144  ...            NaN                           NaN   \n",
       "2        13            127  ...            NaN                           NaN   \n",
       "3        13            127  ...            1.0                           0.0   \n",
       "4        13            127  ...            1.0                           0.0   \n",
       "\n",
       "  pg_pen_constr.1 pg_pen_clean.1 pg_droppings_rem_composted.1  WASH (%)  \\\n",
       "0             NaN            NaN                          NaN  0.708333   \n",
       "1             NaN            NaN                          NaN  0.812500   \n",
       "2             NaN            NaN                          NaN  0.513889   \n",
       "3             NaN            NaN                          NaN  0.652778   \n",
       "4             NaN            NaN                          NaN  0.479167   \n",
       "\n",
       "  AGRIC (%) Livestock (%) Household Compliance (%)  Status  \n",
       "0     0.375           NaN                 0.541667     RTV  \n",
       "1     0.100           NaN                 0.456250     RTV  \n",
       "2     0.450           NaN                 0.481944     RTV  \n",
       "3     0.100           NaN                 0.376389     RTV  \n",
       "4     0.100           NaN                 0.289583     RTV  \n",
       "\n",
       "[5 rows x 5662 columns]"
      ]
     },
     "execution_count": 3,
     "metadata": {},
     "output_type": "execute_result"
    }
   ],
   "source": [
    "df.head()"
   ]
  },
  {
   "cell_type": "markdown",
   "id": "2395372f-2bea-4311-bd2b-96fd3758bd0c",
   "metadata": {},
   "source": [
    "- Total Land Owned\n",
    "- Land for Crop Agriculture\n",
    "- Average Crop Varieties grown\n",
    "- VSLA partcipation\n",
    "- HH Participation in crop agriculture"
   ]
  },
  {
   "cell_type": "code",
   "execution_count": null,
   "id": "94ffe8e1-8d91-48ad-aec7-1eda2d25cf84",
   "metadata": {},
   "outputs": [],
   "source": [
    "df['Season1_cropped']"
   ]
  },
  {
   "cell_type": "code",
   "execution_count": null,
   "id": "ac980ff8-1338-444b-8f98-8413bf6619a5",
   "metadata": {},
   "outputs": [],
   "source": [
    "df['Season2_cropped']"
   ]
  },
  {
   "cell_type": "code",
   "execution_count": null,
   "id": "a5184733-aa94-49fb-95db-9872a7ded6e3",
   "metadata": {},
   "outputs": [],
   "source": [
    "df['Size_land_owned','Land_size_for_Crop_Agriculture_Acres', 'seasonal_crops_planted', 'season2_crops_planted'"
   ]
  },
  {
   "cell_type": "code",
   "execution_count": 9,
   "id": "0e31958f-e080-4f01-8631-33f46592aa8e",
   "metadata": {},
   "outputs": [],
   "source": [
    "df['Average Crop Varieties grown'] = df[['seasonal_crops_planted','season2_crops_planted']].sum(axis=1)"
   ]
  },
  {
   "cell_type": "code",
   "execution_count": 34,
   "id": "e43aec61-b147-42c6-97dc-a2f7011c5eb3",
   "metadata": {},
   "outputs": [
    {
     "data": {
      "text/html": [
       "<div>\n",
       "<style scoped>\n",
       "    .dataframe tbody tr th:only-of-type {\n",
       "        vertical-align: middle;\n",
       "    }\n",
       "\n",
       "    .dataframe tbody tr th {\n",
       "        vertical-align: top;\n",
       "    }\n",
       "\n",
       "    .dataframe thead th {\n",
       "        text-align: right;\n",
       "    }\n",
       "</style>\n",
       "<table border=\"1\" class=\"dataframe\">\n",
       "  <thead>\n",
       "    <tr style=\"text-align: right;\">\n",
       "      <th></th>\n",
       "      <th>seasonal_crops_planted</th>\n",
       "      <th>season2_crops_planted</th>\n",
       "    </tr>\n",
       "  </thead>\n",
       "  <tbody>\n",
       "    <tr>\n",
       "      <th>0</th>\n",
       "      <td>1</td>\n",
       "      <td>0</td>\n",
       "    </tr>\n",
       "    <tr>\n",
       "      <th>1</th>\n",
       "      <td>0</td>\n",
       "      <td>2</td>\n",
       "    </tr>\n",
       "    <tr>\n",
       "      <th>2</th>\n",
       "      <td>0</td>\n",
       "      <td>0</td>\n",
       "    </tr>\n",
       "    <tr>\n",
       "      <th>3</th>\n",
       "      <td>1</td>\n",
       "      <td>0</td>\n",
       "    </tr>\n",
       "    <tr>\n",
       "      <th>4</th>\n",
       "      <td>2</td>\n",
       "      <td>2</td>\n",
       "    </tr>\n",
       "    <tr>\n",
       "      <th>...</th>\n",
       "      <td>...</td>\n",
       "      <td>...</td>\n",
       "    </tr>\n",
       "    <tr>\n",
       "      <th>939</th>\n",
       "      <td>8</td>\n",
       "      <td>8</td>\n",
       "    </tr>\n",
       "    <tr>\n",
       "      <th>940</th>\n",
       "      <td>2</td>\n",
       "      <td>2</td>\n",
       "    </tr>\n",
       "    <tr>\n",
       "      <th>941</th>\n",
       "      <td>6</td>\n",
       "      <td>5</td>\n",
       "    </tr>\n",
       "    <tr>\n",
       "      <th>942</th>\n",
       "      <td>6</td>\n",
       "      <td>5</td>\n",
       "    </tr>\n",
       "    <tr>\n",
       "      <th>943</th>\n",
       "      <td>2</td>\n",
       "      <td>2</td>\n",
       "    </tr>\n",
       "  </tbody>\n",
       "</table>\n",
       "<p>944 rows × 2 columns</p>\n",
       "</div>"
      ],
      "text/plain": [
       "     seasonal_crops_planted  season2_crops_planted\n",
       "0                         1                      0\n",
       "1                         0                      2\n",
       "2                         0                      0\n",
       "3                         1                      0\n",
       "4                         2                      2\n",
       "..                      ...                    ...\n",
       "939                       8                      8\n",
       "940                       2                      2\n",
       "941                       6                      5\n",
       "942                       6                      5\n",
       "943                       2                      2\n",
       "\n",
       "[944 rows x 2 columns]"
      ]
     },
     "execution_count": 34,
     "metadata": {},
     "output_type": "execute_result"
    }
   ],
   "source": [
    "kaliro[['seasonal_crops_planted','season2_crops_planted']]"
   ]
  },
  {
   "cell_type": "code",
   "execution_count": 35,
   "id": "bc9e6e45-f88a-45ff-81ce-69fc9d4c47b2",
   "metadata": {},
   "outputs": [
    {
     "data": {
      "text/plain": [
       "5.705508474576271"
      ]
     },
     "execution_count": 35,
     "metadata": {},
     "output_type": "execute_result"
    }
   ],
   "source": [
    "kaliro[['seasonal_crops_planted','season2_crops_planted']].sum(axis=1).mean()"
   ]
  },
  {
   "cell_type": "code",
   "execution_count": 26,
   "id": "87d2365d-10a2-4225-9b34-a99175bf8972",
   "metadata": {},
   "outputs": [
    {
     "data": {
      "text/plain": [
       "seasonal_crops_planted    2.979478\n",
       "season2_crops_planted     3.010261\n",
       "dtype: float64"
      ]
     },
     "execution_count": 26,
     "metadata": {},
     "output_type": "execute_result"
    }
   ],
   "source": [
    "df[['seasonal_crops_planted','season2_crops_planted']].mean()"
   ]
  },
  {
   "cell_type": "code",
   "execution_count": 30,
   "id": "dfda2060-e01b-4525-a7a9-8462ca4e9540",
   "metadata": {},
   "outputs": [
    {
     "data": {
      "text/plain": [
       "seasonal_crops_planted    3.282839\n",
       "season2_crops_planted     2.422669\n",
       "dtype: float64"
      ]
     },
     "execution_count": 30,
     "metadata": {},
     "output_type": "execute_result"
    }
   ],
   "source": [
    "kaliro[['seasonal_crops_planted','season2_crops_planted']].mean()"
   ]
  },
  {
   "cell_type": "code",
   "execution_count": 36,
   "id": "7078727d-15d5-4c39-8f0b-ea7792b08843",
   "metadata": {},
   "outputs": [
    {
     "data": {
      "text/plain": [
       "2.852754"
      ]
     },
     "execution_count": 36,
     "metadata": {},
     "output_type": "execute_result"
    }
   ],
   "source": [
    "(3.282839 + 2.422669)/2"
   ]
  },
  {
   "cell_type": "code",
   "execution_count": 23,
   "id": "a5acf2b5-5b76-4978-be71-2d08a426a8f9",
   "metadata": {},
   "outputs": [],
   "source": [
    "df['HH Participation in crop agriculture'] = ((df['Season1_cropped'] == 1.0) | (df['Season2_cropped'] == 1.0)).astype(int)"
   ]
  },
  {
   "cell_type": "code",
   "execution_count": 46,
   "id": "ef98537c-d5e8-4e12-8975-bac4adbec01b",
   "metadata": {},
   "outputs": [],
   "source": [
    "df['vsla_participation'] = ((df['save_mode_7']==1) | (df['save_mode_8']==1)).astype(int)"
   ]
  },
  {
   "cell_type": "code",
   "execution_count": 50,
   "id": "c9e9a692-d30a-4401-9c69-d4c2dbd09e84",
   "metadata": {},
   "outputs": [
    {
     "data": {
      "text/plain": [
       "Size_land_owned                         2.316518\n",
       "Land_size_for_Crop_Agriculture_Acres    2.006273\n",
       "Average Crop Varieties grown            5.989739\n",
       "HH Participation in crop agriculture    0.973881\n",
       "vsla_participation                      0.688433\n",
       "save_mode_7                             0.459888\n",
       "save_mode_8                             0.436567\n",
       "dtype: float64"
      ]
     },
     "execution_count": 50,
     "metadata": {},
     "output_type": "execute_result"
    }
   ],
   "source": [
    "df[['Size_land_owned','Land_size_for_Crop_Agriculture_Acres', \n",
    "    'Average Crop Varieties grown', 'HH Participation in crop agriculture',\n",
    "    'vsla_participation',\n",
    "    'save_mode_7','save_mode_8',\n",
    "     ]].mean()"
   ]
  },
  {
   "cell_type": "code",
   "execution_count": null,
   "id": "c26d3823-6c41-485c-9f04-c910ef0c6572",
   "metadata": {},
   "outputs": [],
   "source": []
  },
  {
   "cell_type": "markdown",
   "id": "bb187104-3c63-430b-8326-467853f6ead2",
   "metadata": {},
   "source": [
    "## Business"
   ]
  },
  {
   "cell_type": "raw",
   "id": "700f7c71-dce1-4917-9919-776cecd0fb3a",
   "metadata": {},
   "source": [
    "Type of Personal Business/Self Employment Title\t\n",
    "1\tFishing/Fish Mongering\n",
    "2\tRetail Shop/Whole sale Shop/Produce dealer (store)\n",
    "3\tMobile Money\n",
    "4\tHawker\n",
    "5\tTimber/Trees trade/Carpentry\n",
    "6\tLivestock trading\n",
    "7\tDriver/Motorbike rider/Bicycle rider\n",
    "8\tButchery/Butcher\n",
    "9\tRestaurant/Bar\n",
    "10\tHairdresser/Barber\n",
    "11\tTailor/Cobbler\n",
    "12\tCharcoal / Firewood\n",
    "13\tGrain milling (Posho/Millet/Cassava)\n",
    "14\tMechanic (Motorbikes/cars/bicycle)\n",
    "15\tDrug shop (Human&Vet)/Health Facility\n",
    "16\tBrewing\n",
    "17\tCraft Making (Baskets/Mats/Molding)\n",
    "18\tHardware\n",
    "19\tBrick making\n",
    "20\tMasonry\n",
    "21\tFuel Station (Petrol/Diesel/Paraffin)\n",
    "22\tMining (Sand/Rocks/Aggregate/Gold)\n",
    "23\tFood vendor(food/drinks/Cereals/vegetables\n",
    "24\tPrivate School\n",
    "25\tScrap (Metal/Plastic)\n",
    "26\tWelding\n",
    "27\tStone Quarrying"
   ]
  },
  {
   "cell_type": "code",
   "execution_count": 55,
   "id": "1117441e-f332-43d5-afea-75a78d3e2af3",
   "metadata": {},
   "outputs": [
    {
     "data": {
      "text/plain": [
       "Business_type_1\n",
       "0.0    226\n",
       "1.0      6\n",
       "Name: count, dtype: int64"
      ]
     },
     "execution_count": 55,
     "metadata": {},
     "output_type": "execute_result"
    }
   ],
   "source": [
    "df['Business_type_1'].value_counts()"
   ]
  },
  {
   "cell_type": "code",
   "execution_count": 53,
   "id": "ab406c60-70b6-47f4-87a7-48e93cef7427",
   "metadata": {},
   "outputs": [
    {
     "data": {
      "text/plain": [
       "Business_type_1     0.025862\n",
       "Business_type_2     0.284483\n",
       "Business_type_3     0.004310\n",
       "Business_type_4     0.012931\n",
       "Business_type_5     0.021552\n",
       "Business_type_6     0.004310\n",
       "Business_type_7     0.086207\n",
       "Business_type_8     0.000000\n",
       "Business_type_9     0.051724\n",
       "Business_type_10    0.025862\n",
       "Business_type_11    0.017241\n",
       "Business_type_12    0.008621\n",
       "Business_type_13    0.004310\n",
       "Business_type_14    0.012931\n",
       "Business_type_15    0.017241\n",
       "Business_type_16    0.310345\n",
       "Business_type_17    0.012931\n",
       "Business_type_18    0.004310\n",
       "Business_type_19    0.012931\n",
       "Business_type_20    0.008621\n",
       "Business_type_21    0.000000\n",
       "Business_type_22    0.008621\n",
       "Business_type_23    0.090517\n",
       "Business_type_24    0.000000\n",
       "Business_type_25    0.004310\n",
       "Business_type_26    0.008621\n",
       "Business_type_27    0.000000\n",
       "dtype: float64"
      ]
     },
     "execution_count": 53,
     "metadata": {},
     "output_type": "execute_result"
    }
   ],
   "source": [
    "df[['Business_type_1','Business_type_2','Business_type_3','Business_type_4','Business_type_5','Business_type_6',\n",
    "   'Business_type_7','Business_type_8','Business_type_9','Business_type_10','Business_type_11','Business_type_12',\n",
    "   'Business_type_13','Business_type_14','Business_type_15','Business_type_16','Business_type_17','Business_type_18',\n",
    "   'Business_type_19','Business_type_20','Business_type_21','Business_type_22','Business_type_23','Business_type_24',\n",
    "   'Business_type_25','Business_type_26','Business_type_27']].mean()\n",
    "   "
   ]
  },
  {
   "cell_type": "markdown",
   "id": "7bf4652c-5085-466e-9cde-3b7d3b00afc2",
   "metadata": {},
   "source": [
    "## Livestock"
   ]
  },
  {
   "cell_type": "markdown",
   "id": "f7d7e942-d65a-4a5a-aa0e-e8f4d2fbba50",
   "metadata": {},
   "source": [
    "- Goats\n",
    "- Sheep\n",
    "- Chicken\n",
    "- Pigs\n",
    "- Rabbits\n",
    "- Cows\n",
    "- Turkey\n",
    "- Bees\n",
    "- Guinea Pigs\n",
    "- Ducks\n",
    "- Quails\n",
    "- None"
   ]
  },
  {
   "cell_type": "raw",
   "id": "fcff4834-a5df-4080-b738-22fc676c2961",
   "metadata": {},
   "source": [
    "Has the household owned any of the following livestock animals during the last 12 months?\n",
    "FO go through each type of livestock with the interviewee and select all that the household owns. Please select other for any livestock the household owns that is not on the list\n",
    "\n",
    "1\tGoats\n",
    "2\tSheep\n",
    "3\tChicken\n",
    "4\tPigs\n",
    "5\tRabbits\n",
    "6\tCows\n",
    "7\tTurkey\n",
    "8\tBees\n",
    "9\tGuinea Pigs\n",
    "10\tDucks\n",
    "11\tQuails\n",
    "-99\tNone"
   ]
  },
  {
   "cell_type": "code",
   "execution_count": 64,
   "id": "c25edcae-2633-4300-a687-5c06a05a9059",
   "metadata": {},
   "outputs": [
    {
     "data": {
      "text/plain": [
       "Livestock_list_1      0.695201\n",
       "Livestock_list_2      0.076524\n",
       "Livestock_list_3      0.564202\n",
       "Livestock_list_4      0.206226\n",
       "Livestock_list_5      0.011673\n",
       "Livestock_list_6      0.011673\n",
       "Livestock_list_7      0.023346\n",
       "Livestock_list_8      0.002594\n",
       "Livestock_list_9      0.000000\n",
       "Livestock_list_10     0.090791\n",
       "Livestock_list_11     0.000000\n",
       "Livestock_list__99    0.000000\n",
       "dtype: float64"
      ]
     },
     "execution_count": 64,
     "metadata": {},
     "output_type": "execute_result"
    }
   ],
   "source": [
    "df[['Livestock_list_1','Livestock_list_2','Livestock_list_3','Livestock_list_4',\n",
    "   'Livestock_list_5','Livestock_list_6','Livestock_list_7','Livestock_list_8',\n",
    "   'Livestock_list_9','Livestock_list_10','Livestock_list_11','Livestock_list__99']].mean()"
   ]
  },
  {
   "cell_type": "code",
   "execution_count": null,
   "id": "e4b0ae56-0223-47da-9b98-2212096dbbe2",
   "metadata": {},
   "outputs": [],
   "source": []
  }
 ],
 "metadata": {
  "kernelspec": {
   "display_name": "Python 3 (ipykernel)",
   "language": "python",
   "name": "python3"
  },
  "language_info": {
   "codemirror_mode": {
    "name": "ipython",
    "version": 3
   },
   "file_extension": ".py",
   "mimetype": "text/x-python",
   "name": "python",
   "nbconvert_exporter": "python",
   "pygments_lexer": "ipython3",
   "version": "3.10.12"
  }
 },
 "nbformat": 4,
 "nbformat_minor": 5
}
