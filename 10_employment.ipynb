{
 "cells": [
  {
   "cell_type": "code",
   "execution_count": 2,
   "id": "04d6c4a4-a8a1-489c-8dfc-83ce1b16c953",
   "metadata": {},
   "outputs": [],
   "source": [
    "from fastai.imports import *"
   ]
  },
  {
   "cell_type": "code",
   "execution_count": 3,
   "id": "67db3b9a-3e08-4c29-b66f-f9f0bca2df66",
   "metadata": {},
   "outputs": [],
   "source": [
    "df = pd.read_excel('All2021Cohorts_merged_outlier managed_copy_2.xlsx', sheet_name='MergedRTV_Control2021',header=5)"
   ]
  },
  {
   "cell_type": "code",
   "execution_count": 4,
   "id": "2f33424f-5377-47fb-b5da-9797345a4959",
   "metadata": {},
   "outputs": [],
   "source": [
    "formal_salaried1 = (df['formal_salaried1'] >= 1.0) & (df['formal_salaried1'] <= 11.0)\n",
    "formal_salaried2 = (df['formal_salaried2'] >= 1.0) & (df['formal_salaried2'] <= 11.0)\n",
    "formal_salaried3 = (df['formal_salaried3'] >= 1.0) & (df['formal_salaried3'] <= 11.0)\n",
    "formal_salaried4 = (df['formal_salaried4'] >= 1.0) & (df['formal_salaried4'] <= 11.0)\n",
    "formal_salaried5 = (df['formal_salaried5'] >= 1.0) & (df['formal_salaried5'] <= 11.0)\n",
    "formal_salaried6 = (df['formal_salaried6'] >= 1.0) & (df['formal_salaried6'] <= 11.0)"
   ]
  },
  {
   "cell_type": "code",
   "execution_count": 5,
   "id": "1ad88444-f8aa-4e84-a2ac-2a9208e0f08a",
   "metadata": {},
   "outputs": [],
   "source": [
    "informal_salaried1 = (df['formal_salaried1'] > 11.0)\n",
    "informal_salaried2 = (df['formal_salaried2'] > 11.0)\n",
    "informal_salaried3 = (df['formal_salaried3'] > 11.0)\n",
    "informal_salaried4 = (df['formal_salaried4'] > 11.0)\n",
    "informal_salaried5 = (df['formal_salaried5'] > 11.0)\n",
    "informal_salaried6 = (df['formal_salaried6'] > 11.0)"
   ]
  },
  {
   "cell_type": "code",
   "execution_count": 6,
   "id": "1bdfaa9b-832a-4f5c-9529-178b1f09920d",
   "metadata": {},
   "outputs": [],
   "source": [
    "infcount1 = informal_salaried1.sum()\n",
    "infcount2 = informal_salaried2.sum()\n",
    "infcount3 = informal_salaried3.sum()\n",
    "infcount4 = informal_salaried4.sum()\n",
    "infcount5 = informal_salaried5.sum()\n",
    "infcount6 = informal_salaried6.sum()"
   ]
  },
  {
   "cell_type": "code",
   "execution_count": 7,
   "id": "d352397c-0d98-46b4-93b1-4924066b9333",
   "metadata": {},
   "outputs": [
    {
     "ename": "NameError",
     "evalue": "name 'fcount1' is not defined",
     "output_type": "error",
     "traceback": [
      "\u001b[0;31m---------------------------------------------------------------------------\u001b[0m",
      "\u001b[0;31mNameError\u001b[0m                                 Traceback (most recent call last)",
      "Cell \u001b[0;32mIn[7], line 1\u001b[0m\n\u001b[0;32m----> 1\u001b[0m \u001b[43mfcount1\u001b[49m,fcount2,fcount3,fcount4,fcount5,fcount6\n",
      "\u001b[0;31mNameError\u001b[0m: name 'fcount1' is not defined"
     ]
    }
   ],
   "source": [
    "fcount1,fcount2,fcount3,fcount4,fcount5,fcount6"
   ]
  },
  {
   "cell_type": "code",
   "execution_count": 8,
   "id": "c8a75032-c369-4898-847f-6d29579f1492",
   "metadata": {},
   "outputs": [
    {
     "data": {
      "text/plain": [
       "(131, 16, 1, 0, 0, 0)"
      ]
     },
     "execution_count": 8,
     "metadata": {},
     "output_type": "execute_result"
    }
   ],
   "source": [
    "infcount1,infcount2,infcount3,infcount4,infcount5,infcount6"
   ]
  },
  {
   "cell_type": "code",
   "execution_count": 9,
   "id": "016cefe6-d0e9-497a-89e7-b58ceff4d224",
   "metadata": {},
   "outputs": [],
   "source": [
    "foverall_count = (formal_salaried1 | formal_salaried2 | formal_salaried3 | formal_salaried4 | formal_salaried5 | formal_salaried6).sum()"
   ]
  },
  {
   "cell_type": "code",
   "execution_count": 10,
   "id": "f17a6677-f51b-48ca-8742-480af5a2c2b7",
   "metadata": {},
   "outputs": [
    {
     "data": {
      "text/plain": [
       "309"
      ]
     },
     "execution_count": 10,
     "metadata": {},
     "output_type": "execute_result"
    }
   ],
   "source": [
    "foverall_count"
   ]
  },
  {
   "cell_type": "code",
   "execution_count": null,
   "id": "098aba81-8efd-4fc5-b4bf-ff72090826ac",
   "metadata": {},
   "outputs": [],
   "source": []
  },
  {
   "cell_type": "code",
   "execution_count": 11,
   "id": "a7adf49e-04a5-4e2d-9eef-d4e21ab36f68",
   "metadata": {},
   "outputs": [
    {
     "data": {
      "text/plain": [
       "(309, 5663)"
      ]
     },
     "execution_count": 11,
     "metadata": {},
     "output_type": "execute_result"
    }
   ],
   "source": [
    "filtered_df = df[formal_salaried1 | formal_salaried2 | formal_salaried3 | formal_salaried4 | formal_salaried5 | formal_salaried6]\n",
    "filtered_df.shape"
   ]
  },
  {
   "cell_type": "code",
   "execution_count": 12,
   "id": "6ffd1972-76dd-45a2-a579-42fc6410e251",
   "metadata": {},
   "outputs": [
    {
     "data": {
      "text/plain": [
       "(136, 5663)"
      ]
     },
     "execution_count": 12,
     "metadata": {},
     "output_type": "execute_result"
    }
   ],
   "source": [
    "infiltered_df = df[informal_salaried1 | informal_salaried2 | informal_salaried3 | informal_salaried4 | informal_salaried5 | informal_salaried6]\n",
    "infiltered_df.shape"
   ]
  },
  {
   "cell_type": "code",
   "execution_count": null,
   "id": "46c5ee10-b92d-443c-9af0-ab33ee2d5b3a",
   "metadata": {},
   "outputs": [],
   "source": []
  },
  {
   "cell_type": "code",
   "execution_count": 106,
   "id": "8e2db8cf-c188-4136-97cc-c368e04171ab",
   "metadata": {},
   "outputs": [],
   "source": [
    "peer = df[df['Status']=='PEER']\n",
    "rtv = df[df['Status']=='RTV']"
   ]
  },
  {
   "cell_type": "code",
   "execution_count": 118,
   "id": "169ac371-c6fd-4fe7-ba1f-ce5f2a0d8aed",
   "metadata": {},
   "outputs": [
    {
     "name": "stderr",
     "output_type": "stream",
     "text": [
      "/var/folders/xd/0btgr76j2zxc4__ynw0yhwbm0000gn/T/ipykernel_64862/2090392999.py:1: SettingWithCopyWarning: \n",
      "A value is trying to be set on a copy of a slice from a DataFrame.\n",
      "Try using .loc[row_indexer,col_indexer] = value instead\n",
      "\n",
      "See the caveats in the documentation: https://pandas.pydata.org/pandas-docs/stable/user_guide/indexing.html#returning-a-view-versus-a-copy\n",
      "  rtv['Criteria_Label'] = np.nan\n"
     ]
    }
   ],
   "source": [
    "rtv['Criteria_Label'] = np.nan"
   ]
  },
  {
   "cell_type": "code",
   "execution_count": 119,
   "id": "38e12835-7201-4b4c-b578-39babec9c2b7",
   "metadata": {},
   "outputs": [
    {
     "data": {
      "text/plain": [
       "Series([], Name: count, dtype: int64)"
      ]
     },
     "execution_count": 119,
     "metadata": {},
     "output_type": "execute_result"
    }
   ],
   "source": [
    "rtv['Criteria_Label'].value_counts()"
   ]
  },
  {
   "cell_type": "code",
   "execution_count": 120,
   "id": "b16d9cc6-881b-40ad-873c-ce493258d80f",
   "metadata": {},
   "outputs": [],
   "source": [
    "formal_indices = filtered_df.index.intersection(rtv.index)"
   ]
  },
  {
   "cell_type": "code",
   "execution_count": 121,
   "id": "92375e77-ea24-48c9-92d4-fcd4a3ce97ff",
   "metadata": {},
   "outputs": [
    {
     "data": {
      "text/plain": [
       "212"
      ]
     },
     "execution_count": 121,
     "metadata": {},
     "output_type": "execute_result"
    }
   ],
   "source": [
    "len(formal_indices)"
   ]
  },
  {
   "cell_type": "code",
   "execution_count": 122,
   "id": "84b5497e-18e4-4e80-89cf-93d2578ca4bd",
   "metadata": {},
   "outputs": [],
   "source": [
    "informal_indices = infiltered_df.index.intersection(rtv.index)"
   ]
  },
  {
   "cell_type": "code",
   "execution_count": 123,
   "id": "6c138322-6395-47b3-8551-bea0375d897a",
   "metadata": {},
   "outputs": [
    {
     "data": {
      "text/plain": [
       "93"
      ]
     },
     "execution_count": 123,
     "metadata": {},
     "output_type": "execute_result"
    }
   ],
   "source": [
    "len(informal_indices)"
   ]
  },
  {
   "cell_type": "code",
   "execution_count": 124,
   "id": "1dd2e353-02d2-4b87-9b4e-780c3f21cd1c",
   "metadata": {},
   "outputs": [
    {
     "name": "stderr",
     "output_type": "stream",
     "text": [
      "/var/folders/xd/0btgr76j2zxc4__ynw0yhwbm0000gn/T/ipykernel_64862/3418550005.py:1: FutureWarning: Setting an item of incompatible dtype is deprecated and will raise in a future error of pandas. Value 'Formal' has dtype incompatible with float64, please explicitly cast to a compatible dtype first.\n",
      "  rtv.loc[formal_indices, 'Criteria_Label'] = 'Formal'\n"
     ]
    }
   ],
   "source": [
    "rtv.loc[formal_indices, 'Criteria_Label'] = 'Formal'"
   ]
  },
  {
   "cell_type": "code",
   "execution_count": 125,
   "id": "989bdd08-4e76-4dbb-9fae-c81a94c400e0",
   "metadata": {},
   "outputs": [],
   "source": [
    "informal_only_indices = informal_indices.difference(formal_indices)"
   ]
  },
  {
   "cell_type": "code",
   "execution_count": 126,
   "id": "78cb0a25-bd87-4aa7-bd3f-86502c88de03",
   "metadata": {},
   "outputs": [],
   "source": [
    "rtv.loc[informal_only_indices, 'Criteria_Label'] = 'inFormal'"
   ]
  },
  {
   "cell_type": "code",
   "execution_count": 127,
   "id": "d93c3d72-ffcc-4d70-bb21-4c3af560ad05",
   "metadata": {},
   "outputs": [],
   "source": [
    "both_indices = informal_indices.intersection(formal_indices)\n",
    "rtv.loc[both_indices, 'Criteria_Label'] = 'Both'"
   ]
  },
  {
   "cell_type": "code",
   "execution_count": 128,
   "id": "95960c2f-2be9-4d0f-8723-e0c36bb58ae1",
   "metadata": {},
   "outputs": [
    {
     "data": {
      "text/plain": [
       "Criteria_Label\n",
       "Formal      207\n",
       "inFormal     88\n",
       "Both          5\n",
       "Name: count, dtype: int64"
      ]
     },
     "execution_count": 128,
     "metadata": {},
     "output_type": "execute_result"
    }
   ],
   "source": [
    "rtv['Criteria_Label'].value_counts()"
   ]
  },
  {
   "cell_type": "code",
   "execution_count": 129,
   "id": "abfa2a4e-5132-4c64-b9ad-23a858347abc",
   "metadata": {},
   "outputs": [
    {
     "data": {
      "text/plain": [
       "Criteria_Label\n",
       "Formal      0.690000\n",
       "inFormal    0.293333\n",
       "Both        0.016667\n",
       "Name: proportion, dtype: float64"
      ]
     },
     "execution_count": 129,
     "metadata": {},
     "output_type": "execute_result"
    }
   ],
   "source": [
    "rtv['Criteria_Label'].value_counts(normalize=True)"
   ]
  },
  {
   "cell_type": "code",
   "execution_count": 153,
   "id": "d6491a69-e5fa-421a-8ca0-c294a9325b8d",
   "metadata": {},
   "outputs": [],
   "source": [
    "dummies = pd.get_dummies(rtv['Criteria_Label'], prefix='Criteria')"
   ]
  },
  {
   "cell_type": "code",
   "execution_count": 154,
   "id": "b30d3977-9f73-44c2-b220-bca6952ec524",
   "metadata": {},
   "outputs": [
    {
     "data": {
      "text/html": [
       "<div>\n",
       "<style scoped>\n",
       "    .dataframe tbody tr th:only-of-type {\n",
       "        vertical-align: middle;\n",
       "    }\n",
       "\n",
       "    .dataframe tbody tr th {\n",
       "        vertical-align: top;\n",
       "    }\n",
       "\n",
       "    .dataframe thead th {\n",
       "        text-align: right;\n",
       "    }\n",
       "</style>\n",
       "<table border=\"1\" class=\"dataframe\">\n",
       "  <thead>\n",
       "    <tr style=\"text-align: right;\">\n",
       "      <th></th>\n",
       "      <th>Criteria_Both</th>\n",
       "      <th>Criteria_Formal</th>\n",
       "      <th>Criteria_inFormal</th>\n",
       "    </tr>\n",
       "  </thead>\n",
       "  <tbody>\n",
       "    <tr>\n",
       "      <th>0</th>\n",
       "      <td>False</td>\n",
       "      <td>False</td>\n",
       "      <td>False</td>\n",
       "    </tr>\n",
       "    <tr>\n",
       "      <th>1</th>\n",
       "      <td>False</td>\n",
       "      <td>False</td>\n",
       "      <td>False</td>\n",
       "    </tr>\n",
       "  </tbody>\n",
       "</table>\n",
       "</div>"
      ],
      "text/plain": [
       "   Criteria_Both  Criteria_Formal  Criteria_inFormal\n",
       "0          False            False              False\n",
       "1          False            False              False"
      ]
     },
     "execution_count": 154,
     "metadata": {},
     "output_type": "execute_result"
    }
   ],
   "source": [
    "dummies.head(2)"
   ]
  },
  {
   "cell_type": "code",
   "execution_count": 155,
   "id": "f4ee0f19-ffa8-4931-a8ee-2e8ec2efce72",
   "metadata": {},
   "outputs": [
    {
     "data": {
      "text/plain": [
       "(3897, 5664)"
      ]
     },
     "execution_count": 155,
     "metadata": {},
     "output_type": "execute_result"
    }
   ],
   "source": [
    "rtv.shape"
   ]
  },
  {
   "cell_type": "code",
   "execution_count": 157,
   "id": "5b4371b5-c53d-4c42-a5bf-23b8c3a8a416",
   "metadata": {},
   "outputs": [],
   "source": [
    "rtv = pd.concat([rtv, dummies], axis=1)"
   ]
  },
  {
   "cell_type": "code",
   "execution_count": 158,
   "id": "68e7f8d9-e07d-45aa-84e5-2109df53ba84",
   "metadata": {},
   "outputs": [
    {
     "data": {
      "text/plain": [
       "Criteria_Both\n",
       "False    3892\n",
       "True        5\n",
       "Name: count, dtype: int64"
      ]
     },
     "execution_count": 158,
     "metadata": {},
     "output_type": "execute_result"
    }
   ],
   "source": [
    "rtv.Criteria_Both.value_counts()"
   ]
  },
  {
   "cell_type": "code",
   "execution_count": 159,
   "id": "46d07200-001a-4c4c-bf29-f9f2dd5c3b02",
   "metadata": {},
   "outputs": [
    {
     "data": {
      "text/plain": [
       "(3897, 5667)"
      ]
     },
     "execution_count": 159,
     "metadata": {},
     "output_type": "execute_result"
    }
   ],
   "source": [
    "rtv.shape"
   ]
  },
  {
   "cell_type": "code",
   "execution_count": 160,
   "id": "9c9f8c13-7822-41ba-bb99-2af022da53f3",
   "metadata": {},
   "outputs": [
    {
     "data": {
      "text/plain": [
       "Criteria_Both\n",
       "False    483.728954\n",
       "True     864.370484\n",
       "Name: HH Income (USD_Cons_rate), dtype: float64"
      ]
     },
     "execution_count": 160,
     "metadata": {},
     "output_type": "execute_result"
    }
   ],
   "source": [
    "rtv.groupby('Criteria_Both')['HH Income (USD_Cons_rate)'].mean()"
   ]
  },
  {
   "cell_type": "code",
   "execution_count": 161,
   "id": "14648517-79f8-4268-bc04-5509b96ef656",
   "metadata": {},
   "outputs": [
    {
     "data": {
      "text/plain": [
       "Criteria_Formal\n",
       "False    456.395556\n",
       "True     980.170726\n",
       "Name: HH Income (USD_Cons_rate), dtype: float64"
      ]
     },
     "execution_count": 161,
     "metadata": {},
     "output_type": "execute_result"
    }
   ],
   "source": [
    "rtv.groupby('Criteria_Formal')['HH Income (USD_Cons_rate)'].mean()"
   ]
  },
  {
   "cell_type": "code",
   "execution_count": 105,
   "id": "1647e068-2af8-4646-a159-29f8b6f551b6",
   "metadata": {},
   "outputs": [
    {
     "data": {
      "text/html": [
       "<div>\n",
       "<style scoped>\n",
       "    .dataframe tbody tr th:only-of-type {\n",
       "        vertical-align: middle;\n",
       "    }\n",
       "\n",
       "    .dataframe tbody tr th {\n",
       "        vertical-align: top;\n",
       "    }\n",
       "\n",
       "    .dataframe thead th {\n",
       "        text-align: right;\n",
       "    }\n",
       "</style>\n",
       "<table border=\"1\" class=\"dataframe\">\n",
       "  <thead>\n",
       "    <tr style=\"text-align: right;\">\n",
       "      <th></th>\n",
       "      <th>Formal Employment (USD_Cons_rate)</th>\n",
       "      <th>HH Income (USD_Cons_rate)</th>\n",
       "      <th>HH Income + Consumption + Residues (USD_Cons_rate)</th>\n",
       "      <th>HH Income/Day (USD_Cons_rate)</th>\n",
       "      <th>HH Income + Consumption + Residues/Day (USD_Cons_rate)</th>\n",
       "    </tr>\n",
       "    <tr>\n",
       "      <th>Criteria_Formal</th>\n",
       "      <th></th>\n",
       "      <th></th>\n",
       "      <th></th>\n",
       "      <th></th>\n",
       "      <th></th>\n",
       "    </tr>\n",
       "  </thead>\n",
       "  <tbody>\n",
       "    <tr>\n",
       "      <th>False</th>\n",
       "      <td>8.789778</td>\n",
       "      <td>456.395556</td>\n",
       "      <td>791.906881</td>\n",
       "      <td>1.250399</td>\n",
       "      <td>2.169608</td>\n",
       "    </tr>\n",
       "    <tr>\n",
       "      <th>True</th>\n",
       "      <td>583.507775</td>\n",
       "      <td>980.170726</td>\n",
       "      <td>1277.651198</td>\n",
       "      <td>2.685399</td>\n",
       "      <td>3.500414</td>\n",
       "    </tr>\n",
       "  </tbody>\n",
       "</table>\n",
       "</div>"
      ],
      "text/plain": [
       "                 Formal Employment (USD_Cons_rate)  HH Income (USD_Cons_rate)  \\\n",
       "Criteria_Formal                                                                 \n",
       "False                                     8.789778                 456.395556   \n",
       "True                                    583.507775                 980.170726   \n",
       "\n",
       "                 HH Income + Consumption + Residues (USD_Cons_rate)  \\\n",
       "Criteria_Formal                                                       \n",
       "False                                                    791.906881   \n",
       "True                                                    1277.651198   \n",
       "\n",
       "                 HH Income/Day (USD_Cons_rate)  \\\n",
       "Criteria_Formal                                  \n",
       "False                                 1.250399   \n",
       "True                                  2.685399   \n",
       "\n",
       "                 HH Income + Consumption + Residues/Day (USD_Cons_rate)  \n",
       "Criteria_Formal                                                          \n",
       "False                                                          2.169608  \n",
       "True                                                           3.500414  "
      ]
     },
     "execution_count": 105,
     "metadata": {},
     "output_type": "execute_result"
    }
   ],
   "source": [
    "rtv.groupby('Criteria_Formal')[[\n",
    "    'Formal Employment (USD_Cons_rate)',\n",
    "    'HH Income (USD_Cons_rate)',\n",
    "    'HH Income + Consumption + Residues (USD_Cons_rate)',\n",
    "    'HH Income/Day (USD_Cons_rate)',\n",
    "    'HH Income + Consumption + Residues/Day (USD_Cons_rate)'\n",
    "]].mean()"
   ]
  },
  {
   "cell_type": "code",
   "execution_count": 104,
   "id": "5f6b8f4e-c795-4af8-a439-871753fcdeae",
   "metadata": {},
   "outputs": [
    {
     "data": {
      "text/html": [
       "<div>\n",
       "<style scoped>\n",
       "    .dataframe tbody tr th:only-of-type {\n",
       "        vertical-align: middle;\n",
       "    }\n",
       "\n",
       "    .dataframe tbody tr th {\n",
       "        vertical-align: top;\n",
       "    }\n",
       "\n",
       "    .dataframe thead th {\n",
       "        text-align: right;\n",
       "    }\n",
       "</style>\n",
       "<table border=\"1\" class=\"dataframe\">\n",
       "  <thead>\n",
       "    <tr style=\"text-align: right;\">\n",
       "      <th></th>\n",
       "      <th>Formal Employment (USD_Cons_rate)</th>\n",
       "      <th>HH Income (USD_Cons_rate)</th>\n",
       "      <th>HH Income + Consumption + Residues (USD_Cons_rate)</th>\n",
       "      <th>HH Income/Day (USD_Cons_rate)</th>\n",
       "      <th>HH Income + Consumption + Residues/Day (USD_Cons_rate)</th>\n",
       "    </tr>\n",
       "    <tr>\n",
       "      <th>Criteria_inFormal</th>\n",
       "      <th></th>\n",
       "      <th></th>\n",
       "      <th></th>\n",
       "      <th></th>\n",
       "      <th></th>\n",
       "    </tr>\n",
       "  </thead>\n",
       "  <tbody>\n",
       "    <tr>\n",
       "      <th>False</th>\n",
       "      <td>32.459527</td>\n",
       "      <td>476.432420</td>\n",
       "      <td>810.860921</td>\n",
       "      <td>1.305294</td>\n",
       "      <td>2.221537</td>\n",
       "    </tr>\n",
       "    <tr>\n",
       "      <th>True</th>\n",
       "      <td>336.159712</td>\n",
       "      <td>821.180157</td>\n",
       "      <td>1114.101606</td>\n",
       "      <td>2.249809</td>\n",
       "      <td>3.052333</td>\n",
       "    </tr>\n",
       "  </tbody>\n",
       "</table>\n",
       "</div>"
      ],
      "text/plain": [
       "                   Formal Employment (USD_Cons_rate)  \\\n",
       "Criteria_inFormal                                      \n",
       "False                                      32.459527   \n",
       "True                                      336.159712   \n",
       "\n",
       "                   HH Income (USD_Cons_rate)  \\\n",
       "Criteria_inFormal                              \n",
       "False                             476.432420   \n",
       "True                              821.180157   \n",
       "\n",
       "                   HH Income + Consumption + Residues (USD_Cons_rate)  \\\n",
       "Criteria_inFormal                                                       \n",
       "False                                                      810.860921   \n",
       "True                                                      1114.101606   \n",
       "\n",
       "                   HH Income/Day (USD_Cons_rate)  \\\n",
       "Criteria_inFormal                                  \n",
       "False                                   1.305294   \n",
       "True                                    2.249809   \n",
       "\n",
       "                   HH Income + Consumption + Residues/Day (USD_Cons_rate)  \n",
       "Criteria_inFormal                                                          \n",
       "False                                                            2.221537  \n",
       "True                                                             3.052333  "
      ]
     },
     "execution_count": 104,
     "metadata": {},
     "output_type": "execute_result"
    }
   ],
   "source": [
    "rtv.groupby('Criteria_inFormal')[[\n",
    "    'Formal Employment (USD_Cons_rate)',\n",
    "    'HH Income (USD_Cons_rate)',\n",
    "    'HH Income + Consumption + Residues (USD_Cons_rate)',\n",
    "    'HH Income/Day (USD_Cons_rate)',\n",
    "    'HH Income + Consumption + Residues/Day (USD_Cons_rate)'\n",
    "]].mean()"
   ]
  },
  {
   "cell_type": "code",
   "execution_count": 60,
   "id": "c278de09-2960-485f-9a6c-5876c2a8f10e",
   "metadata": {},
   "outputs": [
    {
     "data": {
      "text/plain": [
       "Criteria_inFormal\n",
       "False    476.432420\n",
       "True     821.180157\n",
       "Name: HH Income (USD_Cons_rate), dtype: float64"
      ]
     },
     "execution_count": 60,
     "metadata": {},
     "output_type": "execute_result"
    }
   ],
   "source": [
    "rtv.groupby('Criteria_inFormal')['HH Income (USD_Cons_rate)'].mean()"
   ]
  },
  {
   "cell_type": "code",
   "execution_count": null,
   "id": "53fbc148-cd7d-4e2d-b397-1053a9737c1a",
   "metadata": {},
   "outputs": [],
   "source": []
  },
  {
   "cell_type": "code",
   "execution_count": null,
   "id": "b1760e62-22fe-4280-832b-cbc82b1f0ebe",
   "metadata": {},
   "outputs": [],
   "source": []
  },
  {
   "cell_type": "code",
   "execution_count": null,
   "id": "6be3fde5-47f1-4684-ae0f-92da46f46dee",
   "metadata": {},
   "outputs": [],
   "source": []
  },
  {
   "cell_type": "code",
   "execution_count": 131,
   "id": "6563eb8b-7257-4635-9f06-6160bc3e8abf",
   "metadata": {},
   "outputs": [
    {
     "name": "stderr",
     "output_type": "stream",
     "text": [
      "/var/folders/xd/0btgr76j2zxc4__ynw0yhwbm0000gn/T/ipykernel_64862/490926834.py:1: SettingWithCopyWarning: \n",
      "A value is trying to be set on a copy of a slice from a DataFrame.\n",
      "Try using .loc[row_indexer,col_indexer] = value instead\n",
      "\n",
      "See the caveats in the documentation: https://pandas.pydata.org/pandas-docs/stable/user_guide/indexing.html#returning-a-view-versus-a-copy\n",
      "  peer['Criteria_Label'] = np.nan\n"
     ]
    }
   ],
   "source": [
    "peer['Criteria_Label'] = np.nan"
   ]
  },
  {
   "cell_type": "code",
   "execution_count": 132,
   "id": "24064f1f-c189-497a-86bd-a189f33a9bbc",
   "metadata": {},
   "outputs": [
    {
     "data": {
      "text/plain": [
       "Series([], Name: count, dtype: int64)"
      ]
     },
     "execution_count": 132,
     "metadata": {},
     "output_type": "execute_result"
    }
   ],
   "source": [
    "peer['Criteria_Label'].value_counts()"
   ]
  },
  {
   "cell_type": "code",
   "execution_count": 133,
   "id": "6a2d1fc8-1b52-4c63-9e30-ce4593ad9bbb",
   "metadata": {},
   "outputs": [],
   "source": [
    "formal_indices_p = filtered_df.index.intersection(peer.index)"
   ]
  },
  {
   "cell_type": "code",
   "execution_count": 134,
   "id": "a0331ab6-18f4-4714-bbc6-c5656de444b3",
   "metadata": {},
   "outputs": [
    {
     "data": {
      "text/plain": [
       "97"
      ]
     },
     "execution_count": 134,
     "metadata": {},
     "output_type": "execute_result"
    }
   ],
   "source": [
    "len(formal_indices_p)"
   ]
  },
  {
   "cell_type": "code",
   "execution_count": 135,
   "id": "6df8ce58-536d-4569-acfb-eeafa1c6d6c4",
   "metadata": {},
   "outputs": [],
   "source": [
    "informal_indices_p = infiltered_df.index.intersection(peer.index)"
   ]
  },
  {
   "cell_type": "code",
   "execution_count": 136,
   "id": "23e14f6e-728b-4a68-9591-c41eeae3b992",
   "metadata": {},
   "outputs": [
    {
     "data": {
      "text/plain": [
       "43"
      ]
     },
     "execution_count": 136,
     "metadata": {},
     "output_type": "execute_result"
    }
   ],
   "source": [
    "len(informal_indices_p)"
   ]
  },
  {
   "cell_type": "code",
   "execution_count": 137,
   "id": "3025daf6-d645-4a09-8ae6-bd78f5c5c69a",
   "metadata": {},
   "outputs": [
    {
     "name": "stderr",
     "output_type": "stream",
     "text": [
      "/var/folders/xd/0btgr76j2zxc4__ynw0yhwbm0000gn/T/ipykernel_64862/334181936.py:1: FutureWarning: Setting an item of incompatible dtype is deprecated and will raise in a future error of pandas. Value 'Formal' has dtype incompatible with float64, please explicitly cast to a compatible dtype first.\n",
      "  peer.loc[formal_indices_p, 'Criteria_Label'] = 'Formal'\n"
     ]
    }
   ],
   "source": [
    "peer.loc[formal_indices_p, 'Criteria_Label'] = 'Formal'"
   ]
  },
  {
   "cell_type": "code",
   "execution_count": 138,
   "id": "e637ef09-b30b-4ef0-9e76-1e47c8d72e8e",
   "metadata": {},
   "outputs": [],
   "source": [
    "informal_only_indices_p = informal_indices_p.difference(formal_indices_p)"
   ]
  },
  {
   "cell_type": "code",
   "execution_count": 139,
   "id": "b2e5389c-509e-4128-8e5a-3d744ebbb92b",
   "metadata": {},
   "outputs": [],
   "source": [
    "peer.loc[informal_only_indices_p, 'Criteria_Label'] = 'inFormal'"
   ]
  },
  {
   "cell_type": "code",
   "execution_count": 140,
   "id": "4fc531b4-b45b-46a7-abc9-424ba5b992d2",
   "metadata": {},
   "outputs": [],
   "source": [
    "both_indices_p = informal_indices_p.intersection(formal_indices_p)\n",
    "peer.loc[both_indices_p, 'Criteria_Label'] = 'Both'"
   ]
  },
  {
   "cell_type": "code",
   "execution_count": 141,
   "id": "86072be3-cbd8-4849-a596-5a553130e91a",
   "metadata": {},
   "outputs": [
    {
     "data": {
      "text/plain": [
       "Criteria_Label\n",
       "Formal      95\n",
       "inFormal    41\n",
       "Both         2\n",
       "Name: count, dtype: int64"
      ]
     },
     "execution_count": 141,
     "metadata": {},
     "output_type": "execute_result"
    }
   ],
   "source": [
    "peer['Criteria_Label'].value_counts()"
   ]
  },
  {
   "cell_type": "code",
   "execution_count": 142,
   "id": "0d689828-7da2-44fe-880d-9fadff2006eb",
   "metadata": {},
   "outputs": [
    {
     "data": {
      "text/plain": [
       "Criteria_Label\n",
       "Formal      0.688406\n",
       "inFormal    0.297101\n",
       "Both        0.014493\n",
       "Name: proportion, dtype: float64"
      ]
     },
     "execution_count": 142,
     "metadata": {},
     "output_type": "execute_result"
    }
   ],
   "source": [
    "peer['Criteria_Label'].value_counts(normalize=True)"
   ]
  },
  {
   "cell_type": "code",
   "execution_count": 143,
   "id": "74fe3614-32bf-433c-bdad-ad2c714a4a88",
   "metadata": {},
   "outputs": [
    {
     "data": {
      "text/plain": [
       "Criteria_Label\n",
       "Both        864.370484\n",
       "Formal      980.170726\n",
       "inFormal    821.180157\n",
       "Name: HH Income (USD_Cons_rate), dtype: float64"
      ]
     },
     "execution_count": 143,
     "metadata": {},
     "output_type": "execute_result"
    }
   ],
   "source": [
    "rtv.groupby('Criteria_Label')['HH Income (USD_Cons_rate)'].mean()"
   ]
  },
  {
   "cell_type": "code",
   "execution_count": null,
   "id": "b51b7396-2b1d-4aac-9458-7aa750d62d85",
   "metadata": {},
   "outputs": [],
   "source": []
  },
  {
   "cell_type": "code",
   "execution_count": null,
   "id": "9309cc5c-7b4b-469a-b1da-fe170fa24be2",
   "metadata": {},
   "outputs": [],
   "source": []
  },
  {
   "cell_type": "code",
   "execution_count": 144,
   "id": "1121be54-ee6e-4fd6-8557-606486071ff8",
   "metadata": {},
   "outputs": [],
   "source": [
    "dummies_p = pd.get_dummies(peer['Criteria_Label'], prefix='Criteria')"
   ]
  },
  {
   "cell_type": "code",
   "execution_count": 145,
   "id": "dbcc918a-09e3-4cee-9092-2f5cb1e722de",
   "metadata": {},
   "outputs": [
    {
     "data": {
      "text/html": [
       "<div>\n",
       "<style scoped>\n",
       "    .dataframe tbody tr th:only-of-type {\n",
       "        vertical-align: middle;\n",
       "    }\n",
       "\n",
       "    .dataframe tbody tr th {\n",
       "        vertical-align: top;\n",
       "    }\n",
       "\n",
       "    .dataframe thead th {\n",
       "        text-align: right;\n",
       "    }\n",
       "</style>\n",
       "<table border=\"1\" class=\"dataframe\">\n",
       "  <thead>\n",
       "    <tr style=\"text-align: right;\">\n",
       "      <th></th>\n",
       "      <th>Criteria_Both</th>\n",
       "      <th>Criteria_Formal</th>\n",
       "      <th>Criteria_inFormal</th>\n",
       "    </tr>\n",
       "  </thead>\n",
       "  <tbody>\n",
       "    <tr>\n",
       "      <th>3897</th>\n",
       "      <td>False</td>\n",
       "      <td>False</td>\n",
       "      <td>False</td>\n",
       "    </tr>\n",
       "    <tr>\n",
       "      <th>3898</th>\n",
       "      <td>False</td>\n",
       "      <td>False</td>\n",
       "      <td>False</td>\n",
       "    </tr>\n",
       "  </tbody>\n",
       "</table>\n",
       "</div>"
      ],
      "text/plain": [
       "      Criteria_Both  Criteria_Formal  Criteria_inFormal\n",
       "3897          False            False              False\n",
       "3898          False            False              False"
      ]
     },
     "execution_count": 145,
     "metadata": {},
     "output_type": "execute_result"
    }
   ],
   "source": [
    "dummies_p.head(2)"
   ]
  },
  {
   "cell_type": "code",
   "execution_count": 146,
   "id": "cd50766a-a1a7-4864-bf90-67d0fce0e483",
   "metadata": {},
   "outputs": [
    {
     "data": {
      "text/plain": [
       "(1899, 5664)"
      ]
     },
     "execution_count": 146,
     "metadata": {},
     "output_type": "execute_result"
    }
   ],
   "source": [
    "peer.shape"
   ]
  },
  {
   "cell_type": "code",
   "execution_count": 147,
   "id": "4190baa0-03f7-4930-9825-74561307761a",
   "metadata": {},
   "outputs": [
    {
     "data": {
      "text/plain": [
       "(1899, 5664)"
      ]
     },
     "execution_count": 147,
     "metadata": {},
     "output_type": "execute_result"
    }
   ],
   "source": [
    "peer.shape"
   ]
  },
  {
   "cell_type": "code",
   "execution_count": 148,
   "id": "97c4f44b-6a64-4c14-8282-c1fbfe8b0a48",
   "metadata": {},
   "outputs": [],
   "source": [
    "peer = pd.concat([peer, dummies_p], axis=1)"
   ]
  },
  {
   "cell_type": "code",
   "execution_count": 149,
   "id": "8b3c3868-70cc-419a-92a8-3183cdba9797",
   "metadata": {},
   "outputs": [
    {
     "data": {
      "text/plain": [
       "Criteria_Both\n",
       "False    1897\n",
       "True        2\n",
       "Name: count, dtype: int64"
      ]
     },
     "execution_count": 149,
     "metadata": {},
     "output_type": "execute_result"
    }
   ],
   "source": [
    "peer.Criteria_Both.value_counts()"
   ]
  },
  {
   "cell_type": "code",
   "execution_count": 150,
   "id": "e1464974-ade2-4ec0-9159-df2d9bb25508",
   "metadata": {},
   "outputs": [
    {
     "data": {
      "text/plain": [
       "Criteria_Formal\n",
       "False    1804\n",
       "True       95\n",
       "Name: count, dtype: int64"
      ]
     },
     "execution_count": 150,
     "metadata": {},
     "output_type": "execute_result"
    }
   ],
   "source": [
    "peer.Criteria_Formal.value_counts()"
   ]
  },
  {
   "cell_type": "code",
   "execution_count": 151,
   "id": "b6178d28-7ad6-4b45-943b-dc414bb567aa",
   "metadata": {},
   "outputs": [
    {
     "data": {
      "text/plain": [
       "Criteria_Both\n",
       "False     280.682954\n",
       "True     1004.553083\n",
       "Name: HH Income (USD_Cons_rate), dtype: float64"
      ]
     },
     "execution_count": 151,
     "metadata": {},
     "output_type": "execute_result"
    }
   ],
   "source": [
    "peer.groupby('Criteria_Both')['HH Income (USD_Cons_rate)'].mean()"
   ]
  },
  {
   "cell_type": "code",
   "execution_count": 152,
   "id": "5ebd592a-19ae-438c-a7de-7f630ff8c3f8",
   "metadata": {},
   "outputs": [
    {
     "data": {
      "text/plain": [
       "Criteria_Formal\n",
       "False    260.571776\n",
       "True     677.823008\n",
       "Name: HH Income (USD_Cons_rate), dtype: float64"
      ]
     },
     "execution_count": 152,
     "metadata": {},
     "output_type": "execute_result"
    }
   ],
   "source": [
    "peer.groupby('Criteria_Formal')['HH Income (USD_Cons_rate)'].mean()"
   ]
  },
  {
   "cell_type": "code",
   "execution_count": 81,
   "id": "a55d323b-b6c7-487f-9cde-9b4df5b38ce2",
   "metadata": {},
   "outputs": [
    {
     "data": {
      "text/plain": [
       "Criteria_inFormal\n",
       "False    274.800686\n",
       "True     582.560839\n",
       "Name: HH Income (USD_Cons_rate), dtype: float64"
      ]
     },
     "execution_count": 81,
     "metadata": {},
     "output_type": "execute_result"
    }
   ],
   "source": [
    "peer.groupby('Criteria_inFormal')['HH Income (USD_Cons_rate)'].mean()"
   ]
  },
  {
   "cell_type": "code",
   "execution_count": 103,
   "id": "6e353e6d-9a86-4301-b56e-4f1ea9d07315",
   "metadata": {},
   "outputs": [
    {
     "data": {
      "text/html": [
       "<div>\n",
       "<style scoped>\n",
       "    .dataframe tbody tr th:only-of-type {\n",
       "        vertical-align: middle;\n",
       "    }\n",
       "\n",
       "    .dataframe tbody tr th {\n",
       "        vertical-align: top;\n",
       "    }\n",
       "\n",
       "    .dataframe thead th {\n",
       "        text-align: right;\n",
       "    }\n",
       "</style>\n",
       "<table border=\"1\" class=\"dataframe\">\n",
       "  <thead>\n",
       "    <tr style=\"text-align: right;\">\n",
       "      <th></th>\n",
       "      <th>Formal Employment (USD_Cons_rate)</th>\n",
       "      <th>HH Income (USD_Cons_rate)</th>\n",
       "      <th>HH Income + Consumption + Residues (USD_Cons_rate)</th>\n",
       "      <th>HH Income/Day (USD_Cons_rate)</th>\n",
       "      <th>HH Income + Consumption + Residues/Day (USD_Cons_rate)</th>\n",
       "    </tr>\n",
       "    <tr>\n",
       "      <th>Criteria_Formal</th>\n",
       "      <th></th>\n",
       "      <th></th>\n",
       "      <th></th>\n",
       "      <th></th>\n",
       "      <th></th>\n",
       "    </tr>\n",
       "  </thead>\n",
       "  <tbody>\n",
       "    <tr>\n",
       "      <th>False</th>\n",
       "      <td>9.445979</td>\n",
       "      <td>260.571776</td>\n",
       "      <td>465.591246</td>\n",
       "      <td>0.713895</td>\n",
       "      <td>1.275592</td>\n",
       "    </tr>\n",
       "    <tr>\n",
       "      <th>True</th>\n",
       "      <td>460.257281</td>\n",
       "      <td>677.823008</td>\n",
       "      <td>891.638694</td>\n",
       "      <td>1.857049</td>\n",
       "      <td>2.442846</td>\n",
       "    </tr>\n",
       "  </tbody>\n",
       "</table>\n",
       "</div>"
      ],
      "text/plain": [
       "                 Formal Employment (USD_Cons_rate)  HH Income (USD_Cons_rate)  \\\n",
       "Criteria_Formal                                                                 \n",
       "False                                     9.445979                 260.571776   \n",
       "True                                    460.257281                 677.823008   \n",
       "\n",
       "                 HH Income + Consumption + Residues (USD_Cons_rate)  \\\n",
       "Criteria_Formal                                                       \n",
       "False                                                    465.591246   \n",
       "True                                                     891.638694   \n",
       "\n",
       "                 HH Income/Day (USD_Cons_rate)  \\\n",
       "Criteria_Formal                                  \n",
       "False                                 0.713895   \n",
       "True                                  1.857049   \n",
       "\n",
       "                 HH Income + Consumption + Residues/Day (USD_Cons_rate)  \n",
       "Criteria_Formal                                                          \n",
       "False                                                          1.275592  \n",
       "True                                                           2.442846  "
      ]
     },
     "execution_count": 103,
     "metadata": {},
     "output_type": "execute_result"
    }
   ],
   "source": [
    "peer.groupby('Criteria_Formal')[[\n",
    "    'Formal Employment (USD_Cons_rate)',\n",
    "    'HH Income (USD_Cons_rate)',\n",
    "    'HH Income + Consumption + Residues (USD_Cons_rate)',\n",
    "    'HH Income/Day (USD_Cons_rate)',\n",
    "    'HH Income + Consumption + Residues/Day (USD_Cons_rate)'\n",
    "]].mean()"
   ]
  },
  {
   "cell_type": "code",
   "execution_count": 102,
   "id": "924d1f6e-f2bd-49b6-9eb9-d9df795aa717",
   "metadata": {},
   "outputs": [
    {
     "data": {
      "text/html": [
       "<div>\n",
       "<style scoped>\n",
       "    .dataframe tbody tr th:only-of-type {\n",
       "        vertical-align: middle;\n",
       "    }\n",
       "\n",
       "    .dataframe tbody tr th {\n",
       "        vertical-align: top;\n",
       "    }\n",
       "\n",
       "    .dataframe thead th {\n",
       "        text-align: right;\n",
       "    }\n",
       "</style>\n",
       "<table border=\"1\" class=\"dataframe\">\n",
       "  <thead>\n",
       "    <tr style=\"text-align: right;\">\n",
       "      <th></th>\n",
       "      <th>Formal Employment (USD_Cons_rate)</th>\n",
       "      <th>HH Income (USD_Cons_rate)</th>\n",
       "      <th>HH Income + Consumption + Residues (USD_Cons_rate)</th>\n",
       "      <th>HH Income/Day (USD_Cons_rate)</th>\n",
       "      <th>HH Income + Consumption + Residues/Day (USD_Cons_rate)</th>\n",
       "    </tr>\n",
       "    <tr>\n",
       "      <th>Criteria_inFormal</th>\n",
       "      <th></th>\n",
       "      <th></th>\n",
       "      <th></th>\n",
       "      <th></th>\n",
       "      <th></th>\n",
       "    </tr>\n",
       "  </thead>\n",
       "  <tbody>\n",
       "    <tr>\n",
       "      <th>False</th>\n",
       "      <td>24.420608</td>\n",
       "      <td>274.800686</td>\n",
       "      <td>480.338583</td>\n",
       "      <td>0.752879</td>\n",
       "      <td>1.315996</td>\n",
       "    </tr>\n",
       "    <tr>\n",
       "      <th>True</th>\n",
       "      <td>375.402351</td>\n",
       "      <td>582.560839</td>\n",
       "      <td>784.468229</td>\n",
       "      <td>1.596057</td>\n",
       "      <td>2.149228</td>\n",
       "    </tr>\n",
       "  </tbody>\n",
       "</table>\n",
       "</div>"
      ],
      "text/plain": [
       "                   Formal Employment (USD_Cons_rate)  \\\n",
       "Criteria_inFormal                                      \n",
       "False                                      24.420608   \n",
       "True                                      375.402351   \n",
       "\n",
       "                   HH Income (USD_Cons_rate)  \\\n",
       "Criteria_inFormal                              \n",
       "False                             274.800686   \n",
       "True                              582.560839   \n",
       "\n",
       "                   HH Income + Consumption + Residues (USD_Cons_rate)  \\\n",
       "Criteria_inFormal                                                       \n",
       "False                                                      480.338583   \n",
       "True                                                       784.468229   \n",
       "\n",
       "                   HH Income/Day (USD_Cons_rate)  \\\n",
       "Criteria_inFormal                                  \n",
       "False                                   0.752879   \n",
       "True                                    1.596057   \n",
       "\n",
       "                   HH Income + Consumption + Residues/Day (USD_Cons_rate)  \n",
       "Criteria_inFormal                                                          \n",
       "False                                                            1.315996  \n",
       "True                                                             2.149228  "
      ]
     },
     "execution_count": 102,
     "metadata": {},
     "output_type": "execute_result"
    }
   ],
   "source": [
    "peer.groupby('Criteria_inFormal')[[\n",
    "    'Formal Employment (USD_Cons_rate)',\n",
    "    'HH Income (USD_Cons_rate)',\n",
    "    'HH Income + Consumption + Residues (USD_Cons_rate)',\n",
    "    'HH Income/Day (USD_Cons_rate)',\n",
    "    'HH Income + Consumption + Residues/Day (USD_Cons_rate)'\n",
    "]].mean()"
   ]
  },
  {
   "cell_type": "code",
   "execution_count": null,
   "id": "5b26125d-03cb-46ae-9e1d-e51c270a349f",
   "metadata": {},
   "outputs": [],
   "source": []
  },
  {
   "cell_type": "code",
   "execution_count": null,
   "id": "9b517393-3fd5-43ff-be0d-c7bac63a7358",
   "metadata": {},
   "outputs": [],
   "source": []
  },
  {
   "cell_type": "code",
   "execution_count": null,
   "id": "1549a921-5be3-441d-b440-4c213aabcd79",
   "metadata": {},
   "outputs": [],
   "source": []
  },
  {
   "cell_type": "code",
   "execution_count": null,
   "id": "9997ee30-f1e8-42aa-bdb8-ddf4b275910b",
   "metadata": {},
   "outputs": [],
   "source": []
  },
  {
   "cell_type": "code",
   "execution_count": null,
   "id": "ef9c3b9a-aaf4-4183-bd68-5b7c5489c4ea",
   "metadata": {},
   "outputs": [],
   "source": []
  },
  {
   "cell_type": "raw",
   "id": "854a7ef3-d767-4de9-a1f4-cbf573426edf",
   "metadata": {},
   "source": [
    "What type of formal salaried employment is [hh_member_salaried1] engaged in?\t\n",
    "1\tEducation\n",
    "2\tHealth (Nurse,Doctor,MidWife and Lab tech)\n",
    "3\tOperation (Transport officer, Finance, procurement and Supplies)\n",
    "4\tSecurity (Police, UPDF and Night guards)\n",
    "5\tAdministration (Secretaries,managers etc)\n",
    "6\tLegal (Lawyer,court bailiff)\n",
    "7\tPolitician\n",
    "8\tReligious institution\n",
    "9\tSocial workers (CBOs and NGOs)\n",
    "10\tManufacturing\n",
    "11\tConstruction and Engineering\n",
    "12\tShop/business attendant\n",
    "13\tFood Vendors\n",
    "14\tStreet vendor\n",
    "15\tAgriculture Produce store\n",
    "16\tDiary outlet\n",
    "17\tNon-registered school\n",
    "18\tCatering\n",
    "19\tBuilding and Construction\n",
    "20\tHouse Helper\n",
    "21\tEntertainment/music/dance groups\n",
    "22\tCinema/Videography\n",
    "23\tSalaried cleaners\n",
    "24\tFuel station attendant"
   ]
  },
  {
   "cell_type": "markdown",
   "id": "77578326-ef09-4433-953b-49f3cff637fe",
   "metadata": {},
   "source": [
    "### Formal Employment"
   ]
  },
  {
   "cell_type": "code",
   "execution_count": 107,
   "id": "bc462854-cc54-4f50-9e4d-113ca9284496",
   "metadata": {},
   "outputs": [],
   "source": [
    "concat_series = pd.concat([\n",
    "    rtv['formal_salaried1'], \n",
    "    rtv['formal_salaried2'], \n",
    "    rtv['formal_salaried3'],\n",
    "    rtv['formal_salaried4'], \n",
    "    rtv['formal_salaried5'], \n",
    "    rtv['formal_salaried6']\n",
    "])"
   ]
  },
  {
   "cell_type": "code",
   "execution_count": 108,
   "id": "b0619a9d-34bb-4379-89bc-7e3073e2c0dd",
   "metadata": {},
   "outputs": [],
   "source": [
    "specified_values = [1.0, 2.0, 3.0, 4.0, 5.0, 6.0, 7.0, 8.0,9.0, 10.0, 11.0]\n",
    "\n",
    "formal_subset = concat_series[concat_series.isin(specified_values)]\n",
    "\n",
    "\n",
    "informal_subset = concat_series[~concat_series.isin(specified_values)]"
   ]
  },
  {
   "cell_type": "code",
   "execution_count": 109,
   "id": "6db798b8-1da4-4744-8324-d4ba753278ea",
   "metadata": {},
   "outputs": [
    {
     "data": {
      "text/plain": [
       "1.0     0.519313\n",
       "4.0     0.223176\n",
       "8.0     0.051502\n",
       "7.0     0.047210\n",
       "2.0     0.042918\n",
       "5.0     0.034335\n",
       "11.0    0.034335\n",
       "3.0     0.021459\n",
       "9.0     0.017167\n",
       "10.0    0.008584\n",
       "Name: proportion, dtype: float64"
      ]
     },
     "execution_count": 109,
     "metadata": {},
     "output_type": "execute_result"
    }
   ],
   "source": [
    "formal_subset.value_counts(normalize=True)"
   ]
  },
  {
   "cell_type": "code",
   "execution_count": 110,
   "id": "63c32d4a-829a-444f-9824-8e3c4b5347fb",
   "metadata": {},
   "outputs": [
    {
     "data": {
      "text/plain": [
       "20.0    0.303922\n",
       "23.0    0.156863\n",
       "15.0    0.137255\n",
       "12.0    0.117647\n",
       "18.0    0.098039\n",
       "17.0    0.068627\n",
       "19.0    0.049020\n",
       "14.0    0.029412\n",
       "13.0    0.019608\n",
       "24.0    0.019608\n",
       "Name: proportion, dtype: float64"
      ]
     },
     "execution_count": 110,
     "metadata": {},
     "output_type": "execute_result"
    }
   ],
   "source": [
    "informal_subset.value_counts(normalize=True)"
   ]
  },
  {
   "cell_type": "code",
   "execution_count": null,
   "id": "e8df0aef-6f42-4958-8ffb-c1d80a39921f",
   "metadata": {},
   "outputs": [],
   "source": []
  },
  {
   "cell_type": "code",
   "execution_count": 111,
   "id": "c944a7a8-e61c-4d05-922f-f7a9f5f7a5fd",
   "metadata": {},
   "outputs": [],
   "source": [
    "peer_concat_series = pd.concat([\n",
    "    peer['formal_salaried1'], \n",
    "    peer['formal_salaried2'], \n",
    "    peer['formal_salaried3'],\n",
    "    peer['formal_salaried4'], \n",
    "    peer['formal_salaried5'], \n",
    "    peer['formal_salaried6']\n",
    "])"
   ]
  },
  {
   "cell_type": "code",
   "execution_count": 112,
   "id": "0d008067-3d4f-4027-a7f8-2a91634ed326",
   "metadata": {},
   "outputs": [],
   "source": [
    "peer_specified_values = [1.0, 2.0, 3.0, 4.0, 5.0, 6.0, 7.0, 8.0,9.0, 10.0, 11.0]\n",
    "\n",
    "peer_formal_subset = peer_concat_series[peer_concat_series.isin(peer_specified_values)]\n",
    "\n",
    "\n",
    "peer_informal_subset = peer_concat_series[~peer_concat_series.isin(peer_specified_values)]"
   ]
  },
  {
   "cell_type": "code",
   "execution_count": 113,
   "id": "d99404a0-8869-4fe3-858a-094317aa8390",
   "metadata": {},
   "outputs": [
    {
     "data": {
      "text/plain": [
       "1.0     0.518519\n",
       "4.0     0.101852\n",
       "8.0     0.074074\n",
       "3.0     0.074074\n",
       "11.0    0.064815\n",
       "2.0     0.064815\n",
       "7.0     0.027778\n",
       "9.0     0.027778\n",
       "5.0     0.027778\n",
       "10.0    0.018519\n",
       "Name: proportion, dtype: float64"
      ]
     },
     "execution_count": 113,
     "metadata": {},
     "output_type": "execute_result"
    }
   ],
   "source": [
    "peer_formal_subset.value_counts(normalize=True)"
   ]
  },
  {
   "cell_type": "code",
   "execution_count": 114,
   "id": "87d5b817-6f3e-4015-8a01-1adc5f95210b",
   "metadata": {},
   "outputs": [
    {
     "data": {
      "text/plain": [
       "20.0    0.456522\n",
       "18.0    0.173913\n",
       "12.0    0.130435\n",
       "19.0    0.108696\n",
       "15.0    0.065217\n",
       "23.0    0.043478\n",
       "24.0    0.021739\n",
       "Name: proportion, dtype: float64"
      ]
     },
     "execution_count": 114,
     "metadata": {},
     "output_type": "execute_result"
    }
   ],
   "source": [
    "peer_informal_subset.value_counts(normalize=True)"
   ]
  },
  {
   "cell_type": "code",
   "execution_count": null,
   "id": "6a575945-c043-451b-bd40-10dfe49415bd",
   "metadata": {},
   "outputs": [],
   "source": []
  },
  {
   "cell_type": "code",
   "execution_count": 162,
   "id": "5b881aa7-5a02-499f-8a05-cd58c09cb3a7",
   "metadata": {},
   "outputs": [
    {
     "data": {
      "text/plain": [
       "<pandas.core.groupby.generic.DataFrameGroupBy object at 0x147937b50>"
      ]
     },
     "execution_count": 162,
     "metadata": {},
     "output_type": "execute_result"
    }
   ],
   "source": [
    "rtv.groupby(['Criteria_Formal', ''])['']"
   ]
  },
  {
   "cell_type": "code",
   "execution_count": 165,
   "id": "1a0a6054-5690-4cdd-a4d3-ea761e94e07f",
   "metadata": {},
   "outputs": [
    {
     "data": {
      "text/html": [
       "<div>\n",
       "<style scoped>\n",
       "    .dataframe tbody tr th:only-of-type {\n",
       "        vertical-align: middle;\n",
       "    }\n",
       "\n",
       "    .dataframe tbody tr th {\n",
       "        vertical-align: top;\n",
       "    }\n",
       "\n",
       "    .dataframe thead th {\n",
       "        text-align: right;\n",
       "    }\n",
       "</style>\n",
       "<table border=\"1\" class=\"dataframe\">\n",
       "  <thead>\n",
       "    <tr style=\"text-align: right;\">\n",
       "      <th></th>\n",
       "      <th>formal_salaried1</th>\n",
       "      <th>formal_salaried2</th>\n",
       "      <th>formal_salaried3</th>\n",
       "      <th>formal_salaried4</th>\n",
       "    </tr>\n",
       "  </thead>\n",
       "  <tbody>\n",
       "    <tr>\n",
       "      <th>0</th>\n",
       "      <td>NaN</td>\n",
       "      <td>NaN</td>\n",
       "      <td>NaN</td>\n",
       "      <td>NaN</td>\n",
       "    </tr>\n",
       "    <tr>\n",
       "      <th>1</th>\n",
       "      <td>NaN</td>\n",
       "      <td>NaN</td>\n",
       "      <td>NaN</td>\n",
       "      <td>NaN</td>\n",
       "    </tr>\n",
       "    <tr>\n",
       "      <th>2</th>\n",
       "      <td>NaN</td>\n",
       "      <td>NaN</td>\n",
       "      <td>NaN</td>\n",
       "      <td>NaN</td>\n",
       "    </tr>\n",
       "    <tr>\n",
       "      <th>3</th>\n",
       "      <td>NaN</td>\n",
       "      <td>NaN</td>\n",
       "      <td>NaN</td>\n",
       "      <td>NaN</td>\n",
       "    </tr>\n",
       "    <tr>\n",
       "      <th>4</th>\n",
       "      <td>NaN</td>\n",
       "      <td>NaN</td>\n",
       "      <td>NaN</td>\n",
       "      <td>NaN</td>\n",
       "    </tr>\n",
       "    <tr>\n",
       "      <th>...</th>\n",
       "      <td>...</td>\n",
       "      <td>...</td>\n",
       "      <td>...</td>\n",
       "      <td>...</td>\n",
       "    </tr>\n",
       "    <tr>\n",
       "      <th>5791</th>\n",
       "      <td>NaN</td>\n",
       "      <td>NaN</td>\n",
       "      <td>NaN</td>\n",
       "      <td>NaN</td>\n",
       "    </tr>\n",
       "    <tr>\n",
       "      <th>5792</th>\n",
       "      <td>NaN</td>\n",
       "      <td>NaN</td>\n",
       "      <td>NaN</td>\n",
       "      <td>NaN</td>\n",
       "    </tr>\n",
       "    <tr>\n",
       "      <th>5793</th>\n",
       "      <td>NaN</td>\n",
       "      <td>NaN</td>\n",
       "      <td>NaN</td>\n",
       "      <td>NaN</td>\n",
       "    </tr>\n",
       "    <tr>\n",
       "      <th>5794</th>\n",
       "      <td>NaN</td>\n",
       "      <td>NaN</td>\n",
       "      <td>NaN</td>\n",
       "      <td>NaN</td>\n",
       "    </tr>\n",
       "    <tr>\n",
       "      <th>5795</th>\n",
       "      <td>NaN</td>\n",
       "      <td>NaN</td>\n",
       "      <td>NaN</td>\n",
       "      <td>NaN</td>\n",
       "    </tr>\n",
       "  </tbody>\n",
       "</table>\n",
       "<p>5796 rows × 4 columns</p>\n",
       "</div>"
      ],
      "text/plain": [
       "      formal_salaried1  formal_salaried2  formal_salaried3  formal_salaried4\n",
       "0                  NaN               NaN               NaN               NaN\n",
       "1                  NaN               NaN               NaN               NaN\n",
       "2                  NaN               NaN               NaN               NaN\n",
       "3                  NaN               NaN               NaN               NaN\n",
       "4                  NaN               NaN               NaN               NaN\n",
       "...                ...               ...               ...               ...\n",
       "5791               NaN               NaN               NaN               NaN\n",
       "5792               NaN               NaN               NaN               NaN\n",
       "5793               NaN               NaN               NaN               NaN\n",
       "5794               NaN               NaN               NaN               NaN\n",
       "5795               NaN               NaN               NaN               NaN\n",
       "\n",
       "[5796 rows x 4 columns]"
      ]
     },
     "execution_count": 165,
     "metadata": {},
     "output_type": "execute_result"
    }
   ],
   "source": [
    "df[['formal_salaried1','formal_salaried2','formal_salaried3','formal_salaried4' ]]"
   ]
  },
  {
   "cell_type": "code",
   "execution_count": 171,
   "id": "a25512bf-baa2-4d29-9ef7-f879dc62b91f",
   "metadata": {},
   "outputs": [
    {
     "data": {
      "text/plain": [
       "nan,nan,nan,nan      5358\n",
       "1.0,nan,nan,nan       128\n",
       "4.0,nan,nan,nan        58\n",
       "20.0,nan,nan,nan       35\n",
       "1.0,1.0,nan,nan        18\n",
       "8.0,nan,nan,nan        18\n",
       "23.0,nan,nan,nan       17\n",
       "18.0,nan,nan,nan       17\n",
       "2.0,nan,nan,nan        15\n",
       "7.0,nan,nan,nan        14\n",
       "15.0,nan,nan,nan       14\n",
       "12.0,nan,nan,nan       13\n",
       "11.0,nan,nan,nan       11\n",
       "19.0,nan,nan,nan       10\n",
       "3.0,nan,nan,nan         9\n",
       "5.0,nan,nan,nan         8\n",
       "17.0,nan,nan,nan        7\n",
       "9.0,nan,nan,nan         7\n",
       "20.0,20.0,nan,nan       6\n",
       "4.0,1.0,nan,nan         3\n",
       "10.0,nan,nan,nan        3\n",
       "24.0,nan,nan,nan        3\n",
       "8.0,1.0,nan,nan         2\n",
       "1.0,12.0,nan,nan        2\n",
       "3.0,5.0,nan,nan         1\n",
       "1.0,11.0,nan,nan        1\n",
       "13.0,nan,nan,nan        1\n",
       "20.0,18.0,nan,nan       1\n",
       "3.0,1.0,nan,nan         1\n",
       "20.0,1.0,nan,nan        1\n",
       "1.0,10.0,nan,nan        1\n",
       "11.0,2.0,20.0,nan       1\n",
       "11.0,1.0,nan,nan        1\n",
       "15.0,15.0,nan,nan       1\n",
       "11.0,12.0,nan,nan       1\n",
       "23.0,20.0,nan,nan       1\n",
       "20.0,4.0,nan,nan        1\n",
       "3.0,2.0,nan,nan         1\n",
       "13.0,14.0,nan,nan       1\n",
       "12.0,12.0,nan,nan       1\n",
       "5.0,14.0,nan,nan        1\n",
       "4.0,5.0,nan,nan         1\n",
       "15.0,14.0,nan,nan       1\n",
       "1.0,3.0,nan,nan         1\n",
       "Name: count, dtype: int64"
      ]
     },
     "execution_count": 171,
     "metadata": {},
     "output_type": "execute_result"
    }
   ],
   "source": [
    "df[['formal_salaried1', 'formal_salaried2', 'formal_salaried3', 'formal_salaried4']].apply(lambda x: ','.join(map(str, x)), axis=1).value_counts()"
   ]
  },
  {
   "cell_type": "code",
   "execution_count": 168,
   "id": "191fb187-3dbf-46f5-99aa-c55d552f89e2",
   "metadata": {},
   "outputs": [],
   "source": [
    "df['new_variable'] = df[['formal_salaried1', 'formal_salaried2', 'formal_salaried3', 'formal_salaried4']].apply(\n",
    "    lambda x: ','.join(map(str, [val for val in x if not np.isnan(val)])), axis=1\n",
    ")"
   ]
  },
  {
   "cell_type": "code",
   "execution_count": 184,
   "id": "582de052-1abc-49eb-8789-50e9fb69f693",
   "metadata": {},
   "outputs": [
    {
     "data": {
      "text/plain": [
       "0        \n",
       "1        \n",
       "2        \n",
       "3        \n",
       "4        \n",
       "       ..\n",
       "5791     \n",
       "5792     \n",
       "5793     \n",
       "5794     \n",
       "5795     \n",
       "Name: new_variable, Length: 5796, dtype: object"
      ]
     },
     "execution_count": 184,
     "metadata": {},
     "output_type": "execute_result"
    }
   ],
   "source": [
    "df['new_variable']"
   ]
  },
  {
   "cell_type": "code",
   "execution_count": 181,
   "id": "8a019f3a-f507-4ac8-be40-f7713b06b4ce",
   "metadata": {},
   "outputs": [
    {
     "data": {
      "text/plain": [
       "formal_salaried1\n",
       "1.0     151\n",
       "4.0      62\n",
       "20.0     44\n",
       "8.0      20\n",
       "23.0     18\n",
       "18.0     17\n",
       "15.0     16\n",
       "2.0      15\n",
       "7.0      14\n",
       "11.0     14\n",
       "12.0     14\n",
       "3.0      12\n",
       "19.0     10\n",
       "5.0       9\n",
       "9.0       7\n",
       "17.0      7\n",
       "24.0      3\n",
       "10.0      3\n",
       "13.0      2\n",
       "Name: count, dtype: int64"
      ]
     },
     "execution_count": 181,
     "metadata": {},
     "output_type": "execute_result"
    }
   ],
   "source": [
    "df['formal_salaried1'].value_counts()"
   ]
  },
  {
   "cell_type": "code",
   "execution_count": 183,
   "id": "34a127a6-f8f5-4b12-bd25-a5b52ba536b7",
   "metadata": {},
   "outputs": [
    {
     "data": {
      "text/plain": [
       "440"
      ]
     },
     "execution_count": 183,
     "metadata": {},
     "output_type": "execute_result"
    }
   ],
   "source": [
    "df['work_netpay_salaried1'].count()"
   ]
  },
  {
   "cell_type": "code",
   "execution_count": 175,
   "id": "83ca5821-64f4-440a-b586-b3e94a962398",
   "metadata": {},
   "outputs": [
    {
     "data": {
      "text/plain": [
       "formal_salaried1\n",
       "1.0     263809.523810\n",
       "2.0     215555.555556\n",
       "3.0     276000.000000\n",
       "4.0     269803.921569\n",
       "5.0     268333.333333\n",
       "7.0      77272.727273\n",
       "8.0     180000.000000\n",
       "9.0     200000.000000\n",
       "10.0    120000.000000\n",
       "11.0    311428.571429\n",
       "12.0    166250.000000\n",
       "13.0     80000.000000\n",
       "15.0    139230.769231\n",
       "17.0    154285.714286\n",
       "18.0    150000.000000\n",
       "19.0    224000.000000\n",
       "20.0    126923.076923\n",
       "23.0    192500.000000\n",
       "24.0    275000.000000\n",
       "Name: work_netpay_salaried1, dtype: float64"
      ]
     },
     "execution_count": 175,
     "metadata": {},
     "output_type": "execute_result"
    }
   ],
   "source": [
    "rtv.groupby('formal_salaried1')['work_netpay_salaried1'].mean()"
   ]
  },
  {
   "cell_type": "code",
   "execution_count": null,
   "id": "7bad865b-3394-4e80-8d4b-90d6b03a8d5a",
   "metadata": {},
   "outputs": [],
   "source": []
  },
  {
   "cell_type": "code",
   "execution_count": null,
   "id": "9d9c5259-a94c-48e1-b50f-ee07a8758db6",
   "metadata": {},
   "outputs": [],
   "source": []
  },
  {
   "cell_type": "code",
   "execution_count": null,
   "id": "881a8e4c-2e4a-4444-b733-430a4a7d43fa",
   "metadata": {},
   "outputs": [],
   "source": []
  },
  {
   "cell_type": "code",
   "execution_count": null,
   "id": "78882e39-71d1-422c-8f13-027e92d5faf6",
   "metadata": {},
   "outputs": [],
   "source": []
  },
  {
   "cell_type": "code",
   "execution_count": 306,
   "id": "18374cf5-c787-4251-bc1a-23fcd9166cd9",
   "metadata": {},
   "outputs": [],
   "source": [
    "ds_2 = df[(df['formal_salaried1'] == 1.0) | (df['formal_salaried2'] == 1.0) | (df['formal_salaried3'] == 1.0)][['formal_salaried1', 'work_netpay_salaried1', 'formal_salaried2', 'work_netpay_salaried2', 'formal_salaried3', 'work_netpay_salaried3']]"
   ]
  },
  {
   "cell_type": "code",
   "execution_count": 308,
   "id": "1a611676-8fb5-4811-93ce-ad6640c7833d",
   "metadata": {},
   "outputs": [
    {
     "data": {
      "text/html": [
       "<div>\n",
       "<style scoped>\n",
       "    .dataframe tbody tr th:only-of-type {\n",
       "        vertical-align: middle;\n",
       "    }\n",
       "\n",
       "    .dataframe tbody tr th {\n",
       "        vertical-align: top;\n",
       "    }\n",
       "\n",
       "    .dataframe thead th {\n",
       "        text-align: right;\n",
       "    }\n",
       "</style>\n",
       "<table border=\"1\" class=\"dataframe\">\n",
       "  <thead>\n",
       "    <tr style=\"text-align: right;\">\n",
       "      <th></th>\n",
       "      <th>formal_salaried1</th>\n",
       "      <th>work_netpay_salaried1</th>\n",
       "      <th>formal_salaried2</th>\n",
       "      <th>work_netpay_salaried2</th>\n",
       "      <th>formal_salaried3</th>\n",
       "      <th>work_netpay_salaried3</th>\n",
       "    </tr>\n",
       "  </thead>\n",
       "  <tbody>\n",
       "    <tr>\n",
       "      <th>189</th>\n",
       "      <td>1.0</td>\n",
       "      <td>100000.0</td>\n",
       "      <td>NaN</td>\n",
       "      <td>NaN</td>\n",
       "      <td>NaN</td>\n",
       "      <td>NaN</td>\n",
       "    </tr>\n",
       "    <tr>\n",
       "      <th>218</th>\n",
       "      <td>4.0</td>\n",
       "      <td>150000.0</td>\n",
       "      <td>1.0</td>\n",
       "      <td>100000.0</td>\n",
       "      <td>NaN</td>\n",
       "      <td>NaN</td>\n",
       "    </tr>\n",
       "    <tr>\n",
       "      <th>226</th>\n",
       "      <td>1.0</td>\n",
       "      <td>70000.0</td>\n",
       "      <td>NaN</td>\n",
       "      <td>NaN</td>\n",
       "      <td>NaN</td>\n",
       "      <td>NaN</td>\n",
       "    </tr>\n",
       "    <tr>\n",
       "      <th>228</th>\n",
       "      <td>1.0</td>\n",
       "      <td>100000.0</td>\n",
       "      <td>NaN</td>\n",
       "      <td>NaN</td>\n",
       "      <td>NaN</td>\n",
       "      <td>NaN</td>\n",
       "    </tr>\n",
       "    <tr>\n",
       "      <th>358</th>\n",
       "      <td>1.0</td>\n",
       "      <td>70000.0</td>\n",
       "      <td>NaN</td>\n",
       "      <td>NaN</td>\n",
       "      <td>NaN</td>\n",
       "      <td>NaN</td>\n",
       "    </tr>\n",
       "  </tbody>\n",
       "</table>\n",
       "</div>"
      ],
      "text/plain": [
       "     formal_salaried1  work_netpay_salaried1  formal_salaried2  \\\n",
       "189               1.0               100000.0               NaN   \n",
       "218               4.0               150000.0               1.0   \n",
       "226               1.0                70000.0               NaN   \n",
       "228               1.0               100000.0               NaN   \n",
       "358               1.0                70000.0               NaN   \n",
       "\n",
       "     work_netpay_salaried2  formal_salaried3  work_netpay_salaried3  \n",
       "189                    NaN               NaN                    NaN  \n",
       "218               100000.0               NaN                    NaN  \n",
       "226                    NaN               NaN                    NaN  \n",
       "228                    NaN               NaN                    NaN  \n",
       "358                    NaN               NaN                    NaN  "
      ]
     },
     "execution_count": 308,
     "metadata": {},
     "output_type": "execute_result"
    }
   ],
   "source": [
    "ds_2.head()"
   ]
  },
  {
   "cell_type": "code",
   "execution_count": 311,
   "id": "8b1ab4e1-fb00-4d1d-84a3-580711103c46",
   "metadata": {},
   "outputs": [
    {
     "data": {
      "text/plain": [
       "189     100000.0\n",
       "218     100000.0\n",
       "226      70000.0\n",
       "228     100000.0\n",
       "358      70000.0\n",
       "          ...   \n",
       "5773    500000.0\n",
       "5778    360000.0\n",
       "5779    250000.0\n",
       "5782    350000.0\n",
       "5790    300000.0\n",
       "Length: 159, dtype: float64"
      ]
     },
     "execution_count": 311,
     "metadata": {},
     "output_type": "execute_result"
    }
   ],
   "source": [
    "ds_2.apply(lambda x: \n",
    "         (x['work_netpay_salaried1'] if x['formal_salaried1'] == 1.0 else 0) +\n",
    "         (x['work_netpay_salaried2'] if x['formal_salaried2'] == 1.0 else 0) +\n",
    "         (x['work_netpay_salaried3'] if x['formal_salaried3'] == 1.0 else 0),\n",
    "         axis=1)"
   ]
  },
  {
   "cell_type": "markdown",
   "id": "7a0715ad-f8e5-4014-88e6-c505ff17c55f",
   "metadata": {},
   "source": [
    "## Education"
   ]
  },
  {
   "cell_type": "code",
   "execution_count": 226,
   "id": "a1ac383d-ee79-46d8-92e7-fc8fdb0d8ca3",
   "metadata": {},
   "outputs": [],
   "source": [
    "adjusted_cpi = 80.66/100\n",
    "rate = 3600"
   ]
  },
  {
   "cell_type": "code",
   "execution_count": 420,
   "id": "845bf20a-6d6e-44c9-8b2c-6ab39d4ee5e2",
   "metadata": {},
   "outputs": [],
   "source": [
    "Education_rtv = rtv[(rtv['formal_salaried1'] == 1.0) | (rtv['formal_salaried2'] == 1.0) | (rtv['formal_salaried3'] == 1.0)][['formal_salaried1', 'work_netpay_salaried1', 'formal_salaried2', 'work_netpay_salaried2', 'formal_salaried3', 'work_netpay_salaried3']]"
   ]
  },
  {
   "cell_type": "code",
   "execution_count": 421,
   "id": "4820b473-e783-44be-9a36-a602e429fe9a",
   "metadata": {},
   "outputs": [
    {
     "data": {
      "text/plain": [
       "64.45194444444445"
      ]
     },
     "execution_count": 421,
     "metadata": {},
     "output_type": "execute_result"
    }
   ],
   "source": [
    "Education_rtv.apply(lambda x: \n",
    "         (x['work_netpay_salaried1'] if x['formal_salaried1'] == 1.0 else 0) +\n",
    "         (x['work_netpay_salaried2'] if x['formal_salaried2'] == 1.0 else 0) +\n",
    "         (x['work_netpay_salaried3'] if x['formal_salaried3'] == 1.0 else 0),\n",
    "         axis=1).mean() * adjusted_cpi / rate"
   ]
  },
  {
   "cell_type": "code",
   "execution_count": 422,
   "id": "10298bc1-8976-42d4-b043-78144e5e8f7a",
   "metadata": {},
   "outputs": [],
   "source": [
    "Education_peer = peer[(peer['formal_salaried1'] == 1.0) | (peer['formal_salaried2'] == 1.0) | (peer['formal_salaried3'] == 1.0)][['formal_salaried1', 'work_netpay_salaried1', 'formal_salaried2', 'work_netpay_salaried2', 'formal_salaried3', 'work_netpay_salaried3']]"
   ]
  },
  {
   "cell_type": "code",
   "execution_count": 423,
   "id": "c3f5c780-c797-4395-8839-91d5014c9127",
   "metadata": {},
   "outputs": [
    {
     "data": {
      "text/plain": [
       "72.41475555555556"
      ]
     },
     "execution_count": 423,
     "metadata": {},
     "output_type": "execute_result"
    }
   ],
   "source": [
    "Education_peer.apply(lambda x: \n",
    "         (x['work_netpay_salaried1'] if x['formal_salaried1'] == 1.0 else 0) +\n",
    "         (x['work_netpay_salaried2'] if x['formal_salaried2'] == 1.0 else 0) +\n",
    "         (x['work_netpay_salaried3'] if x['formal_salaried3'] == 1.0 else 0),\n",
    "         axis=1).mean() * adjusted_cpi / rate"
   ]
  },
  {
   "cell_type": "code",
   "execution_count": null,
   "id": "4f8f5996-9dc6-46b3-aa80-9867a0d64514",
   "metadata": {},
   "outputs": [],
   "source": []
  },
  {
   "cell_type": "markdown",
   "id": "a679aeeb-9552-42be-a650-dfc93d756143",
   "metadata": {},
   "source": [
    "## Health"
   ]
  },
  {
   "cell_type": "code",
   "execution_count": 424,
   "id": "7891c4c8-d21f-4d62-a55a-6f4cc00949e6",
   "metadata": {},
   "outputs": [],
   "source": [
    "Health_rtv = rtv[(rtv['formal_salaried1'] == 2.0) | (rtv['formal_salaried2'] == 2.0) | (rtv['formal_salaried3'] == 2.0)][['formal_salaried1', 'work_netpay_salaried1', 'formal_salaried2', 'work_netpay_salaried2', 'formal_salaried3', 'work_netpay_salaried3']]"
   ]
  },
  {
   "cell_type": "code",
   "execution_count": 425,
   "id": "bccf2979-9677-4f2c-b4de-bdcd67515a94",
   "metadata": {},
   "outputs": [
    {
     "data": {
      "text/plain": [
       "50.18844444444444"
      ]
     },
     "execution_count": 425,
     "metadata": {},
     "output_type": "execute_result"
    }
   ],
   "source": [
    "Health_rtv.apply(lambda x: \n",
    "         (x['work_netpay_salaried1'] if x['formal_salaried1'] == 2.0 else 0) +\n",
    "         (x['work_netpay_salaried2'] if x['formal_salaried2'] == 2.0 else 0) +\n",
    "         (x['work_netpay_salaried3'] if x['formal_salaried3'] == 2.0 else 0),\n",
    "         axis=1).mean() * adjusted_cpi / rate"
   ]
  },
  {
   "cell_type": "code",
   "execution_count": 426,
   "id": "02424e63-a744-417a-9001-6db6986ddd4c",
   "metadata": {},
   "outputs": [],
   "source": [
    "Health_peer = peer[(peer['formal_salaried1'] == 2.0) | (peer['formal_salaried2'] == 2.0) | (peer['formal_salaried3'] == 2.0)][['formal_salaried1', 'work_netpay_salaried1', 'formal_salaried2', 'work_netpay_salaried2', 'formal_salaried3', 'work_netpay_salaried3']]"
   ]
  },
  {
   "cell_type": "code",
   "execution_count": 427,
   "id": "0181b399-09c9-46a6-86a1-b4957829cd91",
   "metadata": {},
   "outputs": [
    {
     "data": {
      "text/plain": [
       "45.131190476190476"
      ]
     },
     "execution_count": 427,
     "metadata": {},
     "output_type": "execute_result"
    }
   ],
   "source": [
    "Health_peer.apply(lambda x: \n",
    "         (x['work_netpay_salaried1'] if x['formal_salaried1'] == 2.0 else 0) +\n",
    "         (x['work_netpay_salaried2'] if x['formal_salaried2'] == 2.0 else 0) +\n",
    "         (x['work_netpay_salaried3'] if x['formal_salaried3'] == 2.0 else 0),\n",
    "         axis=1).mean() * adjusted_cpi / rate"
   ]
  },
  {
   "cell_type": "code",
   "execution_count": null,
   "id": "84dbe031-e878-4236-b3e3-428b17d6f198",
   "metadata": {},
   "outputs": [],
   "source": []
  },
  {
   "cell_type": "code",
   "execution_count": null,
   "id": "85b8390c-db6f-4a6a-bff3-c02d7d86dfb2",
   "metadata": {},
   "outputs": [],
   "source": []
  },
  {
   "cell_type": "markdown",
   "id": "56af2390-1070-4d45-a58c-d4f7be0b784f",
   "metadata": {},
   "source": [
    "## Operation"
   ]
  },
  {
   "cell_type": "code",
   "execution_count": 428,
   "id": "27c85272-08b5-4d34-a5e0-3b8ba0d84113",
   "metadata": {},
   "outputs": [],
   "source": [
    "Operation_rtv = rtv[(rtv['formal_salaried1'] == 3.0) | (rtv['formal_salaried2'] == 3.0) | (rtv['formal_salaried3'] == 3.0)][['formal_salaried1', 'work_netpay_salaried1', 'formal_salaried2', 'work_netpay_salaried2', 'formal_salaried3', 'work_netpay_salaried3']]"
   ]
  },
  {
   "cell_type": "code",
   "execution_count": 429,
   "id": "9fe18b70-c559-44af-a413-3e398404c728",
   "metadata": {},
   "outputs": [
    {
     "data": {
      "text/plain": [
       "61.839333333333336"
      ]
     },
     "execution_count": 429,
     "metadata": {},
     "output_type": "execute_result"
    }
   ],
   "source": [
    "Operation_rtv.apply(lambda x: \n",
    "         (x['work_netpay_salaried1'] if x['formal_salaried1'] == 3.0 else 0) +\n",
    "         (x['work_netpay_salaried2'] if x['formal_salaried2'] == 3.0 else 0) +\n",
    "         (x['work_netpay_salaried3'] if x['formal_salaried3'] == 3.0 else 0),\n",
    "         axis=1).mean() * adjusted_cpi / rate"
   ]
  },
  {
   "cell_type": "code",
   "execution_count": 430,
   "id": "739e61b3-1e4f-44c3-b635-f176ac44fe63",
   "metadata": {},
   "outputs": [],
   "source": [
    "Operation_peer = peer[(peer['formal_salaried1'] == 3.0) | (peer['formal_salaried2'] == 3.0) | (peer['formal_salaried3'] == 3.0)][['formal_salaried1', 'work_netpay_salaried1', 'formal_salaried2', 'work_netpay_salaried2', 'formal_salaried3', 'work_netpay_salaried3']]"
   ]
  },
  {
   "cell_type": "code",
   "execution_count": 431,
   "id": "044128d8-0db7-4bdd-82e0-682cd2819765",
   "metadata": {},
   "outputs": [
    {
     "data": {
      "text/plain": [
       "60.77506944444445"
      ]
     },
     "execution_count": 431,
     "metadata": {},
     "output_type": "execute_result"
    }
   ],
   "source": [
    "Operation_peer.apply(lambda x: \n",
    "         (x['work_netpay_salaried1'] if x['formal_salaried1'] == 3.0 else 0) +\n",
    "         (x['work_netpay_salaried2'] if x['formal_salaried2'] == 3.0 else 0) +\n",
    "         (x['work_netpay_salaried3'] if x['formal_salaried3'] == 3.0 else 0),\n",
    "         axis=1).mean() * adjusted_cpi / rate"
   ]
  },
  {
   "cell_type": "code",
   "execution_count": null,
   "id": "08d337ae-ad40-4ce5-a57e-fe5a2ec970f6",
   "metadata": {},
   "outputs": [],
   "source": []
  },
  {
   "cell_type": "markdown",
   "id": "5d273f9f-fe58-4569-8e5c-179497fbae21",
   "metadata": {},
   "source": [
    "## Security"
   ]
  },
  {
   "cell_type": "code",
   "execution_count": 432,
   "id": "761de269-4bfb-4b32-9d79-682a3b61da9f",
   "metadata": {},
   "outputs": [],
   "source": [
    "Security_rtv = rtv[(rtv['formal_salaried1'] == 4.0) | (rtv['formal_salaried2'] == 4.0) | (rtv['formal_salaried3'] == 4.0)][['formal_salaried1', 'work_netpay_salaried1', 'formal_salaried2', 'work_netpay_salaried2', 'formal_salaried3', 'work_netpay_salaried3']]"
   ]
  },
  {
   "cell_type": "code",
   "execution_count": 433,
   "id": "2b130c45-59b7-444f-8428-40d2f1f86272",
   "metadata": {},
   "outputs": [
    {
     "data": {
      "text/plain": [
       "59.71942307692308"
      ]
     },
     "execution_count": 433,
     "metadata": {},
     "output_type": "execute_result"
    }
   ],
   "source": [
    "Security_rtv.apply(lambda x: \n",
    "         (x['work_netpay_salaried1'] if x['formal_salaried1'] == 4.0 else 0) +\n",
    "         (x['work_netpay_salaried2'] if x['formal_salaried2'] == 4.0 else 0) +\n",
    "         (x['work_netpay_salaried3'] if x['formal_salaried3'] == 4.0 else 0),\n",
    "         axis=1).mean() * adjusted_cpi / rate"
   ]
  },
  {
   "cell_type": "code",
   "execution_count": 434,
   "id": "7981eb33-811e-4ae0-aa39-a27e2200f97e",
   "metadata": {},
   "outputs": [],
   "source": [
    "Security_peer = peer[(peer['formal_salaried1'] == 4.0) | (peer['formal_salaried2'] == 4.0) | (peer['formal_salaried3'] == 4.0)][['formal_salaried1', 'work_netpay_salaried1', 'formal_salaried2', 'work_netpay_salaried2', 'formal_salaried3', 'work_netpay_salaried3']]"
   ]
  },
  {
   "cell_type": "code",
   "execution_count": 435,
   "id": "a164c689-e4ea-48eb-a67f-2bd9cd0d5d03",
   "metadata": {},
   "outputs": [
    {
     "data": {
      "text/plain": [
       "50.92171717171716"
      ]
     },
     "execution_count": 435,
     "metadata": {},
     "output_type": "execute_result"
    }
   ],
   "source": [
    "Security_peer.apply(lambda x: \n",
    "         (x['work_netpay_salaried1'] if x['formal_salaried1'] == 4.0 else 0) +\n",
    "         (x['work_netpay_salaried2'] if x['formal_salaried2'] == 4.0 else 0) +\n",
    "         (x['work_netpay_salaried3'] if x['formal_salaried3'] == 4.0 else 0),\n",
    "         axis=1).mean() * adjusted_cpi / rate"
   ]
  },
  {
   "cell_type": "code",
   "execution_count": null,
   "id": "cd31522b-82a6-4777-85cf-5fc81004bf2e",
   "metadata": {},
   "outputs": [],
   "source": []
  },
  {
   "cell_type": "markdown",
   "id": "3105a9bc-fe2d-4c2e-90a4-3adb3544c70b",
   "metadata": {},
   "source": [
    "## Administration"
   ]
  },
  {
   "cell_type": "code",
   "execution_count": 436,
   "id": "5cfac1b2-1c3a-48d7-979f-90e25ff14b72",
   "metadata": {},
   "outputs": [],
   "source": [
    "admin_rtv = rtv[(rtv['formal_salaried1'] == 5.0) | (rtv['formal_salaried2'] == 5.0) | (rtv['formal_salaried3'] == 5.0)][['formal_salaried1', 'work_netpay_salaried1', 'formal_salaried2', 'work_netpay_salaried2', 'formal_salaried3', 'work_netpay_salaried3']]"
   ]
  },
  {
   "cell_type": "code",
   "execution_count": 437,
   "id": "e5ffa097-4053-4b61-ab6d-7e5dc2c31691",
   "metadata": {},
   "outputs": [
    {
     "data": {
      "text/plain": [
       "61.335208333333334"
      ]
     },
     "execution_count": 437,
     "metadata": {},
     "output_type": "execute_result"
    }
   ],
   "source": [
    "admin_rtv.apply(lambda x: \n",
    "         (x['work_netpay_salaried1'] if x['formal_salaried1'] == 5.0 else 0) +\n",
    "         (x['work_netpay_salaried2'] if x['formal_salaried2'] == 5.0 else 0) +\n",
    "         (x['work_netpay_salaried3'] if x['formal_salaried3'] == 5.0 else 0),\n",
    "         axis=1).mean() * adjusted_cpi / rate"
   ]
  },
  {
   "cell_type": "code",
   "execution_count": 438,
   "id": "e3989422-eae3-40b6-826a-436b1eb2dd18",
   "metadata": {},
   "outputs": [],
   "source": [
    "admin_peer = peer[(peer['formal_salaried1'] == 5.0) | (peer['formal_salaried2'] == 5.0) | (peer['formal_salaried3'] == 5.0)][['formal_salaried1', 'work_netpay_salaried1', 'formal_salaried2', 'work_netpay_salaried2', 'formal_salaried3', 'work_netpay_salaried3']]"
   ]
  },
  {
   "cell_type": "code",
   "execution_count": 439,
   "id": "3fb4e67c-42a2-4493-936e-1eee3c3a142d",
   "metadata": {},
   "outputs": [
    {
     "data": {
      "text/plain": [
       "58.254444444444445"
      ]
     },
     "execution_count": 439,
     "metadata": {},
     "output_type": "execute_result"
    }
   ],
   "source": [
    "admin_peer.apply(lambda x: \n",
    "         (x['work_netpay_salaried1'] if x['formal_salaried1'] == 5.0 else 0) +\n",
    "         (x['work_netpay_salaried2'] if x['formal_salaried2'] == 5.0 else 0) +\n",
    "         (x['work_netpay_salaried3'] if x['formal_salaried3'] == 5.0 else 0),\n",
    "         axis=1).mean() * adjusted_cpi / rate"
   ]
  },
  {
   "cell_type": "code",
   "execution_count": null,
   "id": "cbb6686a-3ef2-4c6a-8fbf-9645f87961dc",
   "metadata": {},
   "outputs": [],
   "source": []
  },
  {
   "cell_type": "markdown",
   "id": "9aa114bb-76ef-464c-b032-782f8c7b8f35",
   "metadata": {},
   "source": [
    "## Legal"
   ]
  },
  {
   "cell_type": "code",
   "execution_count": 440,
   "id": "6c736ef7-f8d6-4708-81e9-ad2be05c2e99",
   "metadata": {},
   "outputs": [],
   "source": [
    "legal_rtv = rtv[(rtv['formal_salaried1'] == 6.0) | (rtv['formal_salaried2'] == 6.0) | (rtv['formal_salaried3'] == 6.0)][['formal_salaried1', 'work_netpay_salaried1', 'formal_salaried2', 'work_netpay_salaried2', 'formal_salaried3', 'work_netpay_salaried3']]"
   ]
  },
  {
   "cell_type": "code",
   "execution_count": 441,
   "id": "f5756e30-4be3-4096-ac95-6ee440ecb02f",
   "metadata": {},
   "outputs": [
    {
     "data": {
      "text/plain": [
       "nan"
      ]
     },
     "execution_count": 441,
     "metadata": {},
     "output_type": "execute_result"
    }
   ],
   "source": [
    "legal_rtv.apply(lambda x: \n",
    "         (x['work_netpay_salaried1'] if x['formal_salaried1'] == 6.0 else 0) +\n",
    "         (x['work_netpay_salaried2'] if x['formal_salaried2'] == 6.0 else 0) +\n",
    "         (x['work_netpay_salaried3'] if x['formal_salaried3'] == 6.0 else 0),\n",
    "         axis=1).mean() * adjusted_cpi / rate"
   ]
  },
  {
   "cell_type": "code",
   "execution_count": 442,
   "id": "d8a7c6d4-f406-4382-bae8-9014d3cf92fa",
   "metadata": {},
   "outputs": [],
   "source": [
    "legal_peer = peer[(peer['formal_salaried1'] == 6.0) | (peer['formal_salaried2'] == 6.0) | (peer['formal_salaried3'] == 6.0)][['formal_salaried1', 'work_netpay_salaried1', 'formal_salaried2', 'work_netpay_salaried2', 'formal_salaried3', 'work_netpay_salaried3']]"
   ]
  },
  {
   "cell_type": "code",
   "execution_count": 443,
   "id": "5f81e08d-6222-439a-9bcf-b6bcdc25388d",
   "metadata": {},
   "outputs": [
    {
     "data": {
      "text/plain": [
       "nan"
      ]
     },
     "execution_count": 443,
     "metadata": {},
     "output_type": "execute_result"
    }
   ],
   "source": [
    "legal_peer.apply(lambda x: \n",
    "         (x['work_netpay_salaried1'] if x['formal_salaried1'] == 6.0 else 0) +\n",
    "         (x['work_netpay_salaried2'] if x['formal_salaried2'] == 6.0 else 0) +\n",
    "         (x['work_netpay_salaried3'] if x['formal_salaried3'] == 6.0 else 0),\n",
    "         axis=1).mean() * adjusted_cpi / rate"
   ]
  },
  {
   "cell_type": "code",
   "execution_count": null,
   "id": "264346af-7651-47f6-8a66-c5ba829eb898",
   "metadata": {},
   "outputs": [],
   "source": []
  },
  {
   "cell_type": "markdown",
   "id": "53c84c19-2982-4de3-a7bf-95c9ef57d01a",
   "metadata": {},
   "source": [
    "## Politician"
   ]
  },
  {
   "cell_type": "code",
   "execution_count": 444,
   "id": "3cb3f0f1-f533-460f-be0d-331c3caadb2c",
   "metadata": {},
   "outputs": [],
   "source": [
    "politician_rtv = rtv[(rtv['formal_salaried1'] == 7.0) | (rtv['formal_salaried2'] == 7.0) | (rtv['formal_salaried3'] == 7.0)][['formal_salaried1', 'work_netpay_salaried1', 'formal_salaried2', 'work_netpay_salaried2', 'formal_salaried3', 'work_netpay_salaried3']]"
   ]
  },
  {
   "cell_type": "code",
   "execution_count": 445,
   "id": "45b6c1d2-5d9c-4c95-ab95-fefc013be7d7",
   "metadata": {},
   "outputs": [
    {
     "data": {
      "text/plain": [
       "17.31338383838384"
      ]
     },
     "execution_count": 445,
     "metadata": {},
     "output_type": "execute_result"
    }
   ],
   "source": [
    "politician_rtv.apply(lambda x: \n",
    "         (x['work_netpay_salaried1'] if x['formal_salaried1'] == 7.0 else 0) +\n",
    "         (x['work_netpay_salaried2'] if x['formal_salaried2'] == 7.0 else 0) +\n",
    "         (x['work_netpay_salaried3'] if x['formal_salaried3'] == 7.0 else 0),\n",
    "         axis=1).mean() * adjusted_cpi / rate"
   ]
  },
  {
   "cell_type": "code",
   "execution_count": 446,
   "id": "47debe71-daa1-48d0-93dd-9668dec467cd",
   "metadata": {},
   "outputs": [],
   "source": [
    "politician_peer = peer[(peer['formal_salaried1'] == 7.0) | (peer['formal_salaried2'] == 7.0) | (peer['formal_salaried3'] == 7.0)][['formal_salaried1', 'work_netpay_salaried1', 'formal_salaried2', 'work_netpay_salaried2', 'formal_salaried3', 'work_netpay_salaried3']]"
   ]
  },
  {
   "cell_type": "code",
   "execution_count": 447,
   "id": "6b97227d-ccf7-4bf6-9d85-c9f0496c0eeb",
   "metadata": {},
   "outputs": [
    {
     "data": {
      "text/plain": [
       "25.39296296296296"
      ]
     },
     "execution_count": 447,
     "metadata": {},
     "output_type": "execute_result"
    }
   ],
   "source": [
    "politician_peer.apply(lambda x: \n",
    "         (x['work_netpay_salaried1'] if x['formal_salaried1'] == 7.0 else 0) +\n",
    "         (x['work_netpay_salaried2'] if x['formal_salaried2'] == 7.0 else 0) +\n",
    "         (x['work_netpay_salaried3'] if x['formal_salaried3'] == 7.0 else 0),\n",
    "         axis=1).mean() * adjusted_cpi / rate"
   ]
  },
  {
   "cell_type": "code",
   "execution_count": null,
   "id": "c388fff4-a46d-490d-9f4e-4130994eb81a",
   "metadata": {},
   "outputs": [],
   "source": []
  },
  {
   "cell_type": "markdown",
   "id": "9f1f9773-ab86-463a-9214-846fd63e1014",
   "metadata": {},
   "source": [
    "## Religious Institution"
   ]
  },
  {
   "cell_type": "code",
   "execution_count": 448,
   "id": "2581c900-0842-4438-a70e-19c50051b319",
   "metadata": {},
   "outputs": [],
   "source": [
    "religious_rtv = rtv[(rtv['formal_salaried1'] == 8.0) | (rtv['formal_salaried2'] == 8.0) | (rtv['formal_salaried3'] == 8.0)][['formal_salaried1', 'work_netpay_salaried1', 'formal_salaried2', 'work_netpay_salaried2', 'formal_salaried3', 'work_netpay_salaried3']]"
   ]
  },
  {
   "cell_type": "code",
   "execution_count": 449,
   "id": "eefc67c2-1462-4aaf-b81a-f8ddaf6741dd",
   "metadata": {},
   "outputs": [
    {
     "data": {
      "text/plain": [
       "40.33"
      ]
     },
     "execution_count": 449,
     "metadata": {},
     "output_type": "execute_result"
    }
   ],
   "source": [
    "religious_rtv.apply(lambda x: \n",
    "         (x['work_netpay_salaried1'] if x['formal_salaried1'] == 8.0 else 0) +\n",
    "         (x['work_netpay_salaried2'] if x['formal_salaried2'] == 8.0 else 0) +\n",
    "         (x['work_netpay_salaried3'] if x['formal_salaried3'] == 8.0 else 0),\n",
    "         axis=1).mean() * adjusted_cpi / rate"
   ]
  },
  {
   "cell_type": "code",
   "execution_count": 450,
   "id": "7379adf0-0e3a-400f-ab11-2f12cf0c7921",
   "metadata": {},
   "outputs": [],
   "source": [
    "religious_peer = peer[(peer['formal_salaried1'] == 8.0) | (peer['formal_salaried2'] == 8.0) | (peer['formal_salaried3'] == 8.0)][['formal_salaried1', 'work_netpay_salaried1', 'formal_salaried2', 'work_netpay_salaried2', 'formal_salaried3', 'work_netpay_salaried3']]"
   ]
  },
  {
   "cell_type": "code",
   "execution_count": 451,
   "id": "4e948351-5cae-45c4-ac57-b9f49cec7f18",
   "metadata": {},
   "outputs": [
    {
     "data": {
      "text/plain": [
       "41.170208333333335"
      ]
     },
     "execution_count": 451,
     "metadata": {},
     "output_type": "execute_result"
    }
   ],
   "source": [
    "religious_peer.apply(lambda x: \n",
    "         (x['work_netpay_salaried1'] if x['formal_salaried1'] == 8.0 else 0) +\n",
    "         (x['work_netpay_salaried2'] if x['formal_salaried2'] == 8.0 else 0) +\n",
    "         (x['work_netpay_salaried3'] if x['formal_salaried3'] == 8.0 else 0),\n",
    "         axis=1).mean() * adjusted_cpi / rate"
   ]
  },
  {
   "cell_type": "code",
   "execution_count": null,
   "id": "f771fe55-1f67-4401-9078-5d2744a762f5",
   "metadata": {},
   "outputs": [],
   "source": []
  },
  {
   "cell_type": "markdown",
   "id": "4a22d3a2-34db-4ba5-940b-177dfa518699",
   "metadata": {},
   "source": [
    "## Social Workers"
   ]
  },
  {
   "cell_type": "code",
   "execution_count": 452,
   "id": "8744faf4-0622-4c91-8b03-5e458fac1cb5",
   "metadata": {},
   "outputs": [],
   "source": [
    "social_rtv = rtv[(rtv['formal_salaried1'] == 9.0) | (rtv['formal_salaried2'] == 9.0) | (rtv['formal_salaried3'] == 9.0)][['formal_salaried1', 'work_netpay_salaried1', 'formal_salaried2', 'work_netpay_salaried2', 'formal_salaried3', 'work_netpay_salaried3']]"
   ]
  },
  {
   "cell_type": "code",
   "execution_count": 453,
   "id": "a9fc02b0-5634-4bad-8b79-1d65ddc876b9",
   "metadata": {},
   "outputs": [
    {
     "data": {
      "text/plain": [
       "44.81111111111111"
      ]
     },
     "execution_count": 453,
     "metadata": {},
     "output_type": "execute_result"
    }
   ],
   "source": [
    "social_rtv.apply(lambda x: \n",
    "         (x['work_netpay_salaried1'] if x['formal_salaried1'] == 9.0 else 0) +\n",
    "         (x['work_netpay_salaried2'] if x['formal_salaried2'] == 9.0 else 0) +\n",
    "         (x['work_netpay_salaried3'] if x['formal_salaried3'] == 9.0 else 0),\n",
    "         axis=1).mean() * adjusted_cpi / rate"
   ]
  },
  {
   "cell_type": "code",
   "execution_count": 454,
   "id": "45cc38b1-9fee-42c9-b59d-92912591b99b",
   "metadata": {},
   "outputs": [],
   "source": [
    "social_peer = peer[(peer['formal_salaried1'] == 9.0) | (peer['formal_salaried2'] == 9.0) | (peer['formal_salaried3'] == 9.0)][['formal_salaried1', 'work_netpay_salaried1', 'formal_salaried2', 'work_netpay_salaried2', 'formal_salaried3', 'work_netpay_salaried3']]"
   ]
  },
  {
   "cell_type": "code",
   "execution_count": 455,
   "id": "69067353-4c26-48ff-986f-8f3e85884ba5",
   "metadata": {},
   "outputs": [
    {
     "data": {
      "text/plain": [
       "59.748148148148154"
      ]
     },
     "execution_count": 455,
     "metadata": {},
     "output_type": "execute_result"
    }
   ],
   "source": [
    "social_peer.apply(lambda x: \n",
    "         (x['work_netpay_salaried1'] if x['formal_salaried1'] == 9.0 else 0) +\n",
    "         (x['work_netpay_salaried2'] if x['formal_salaried2'] == 9.0 else 0) +\n",
    "         (x['work_netpay_salaried3'] if x['formal_salaried3'] == 9.0 else 0),\n",
    "         axis=1).mean() * adjusted_cpi / rate"
   ]
  },
  {
   "cell_type": "code",
   "execution_count": null,
   "id": "0cb9603d-d22d-476b-99e7-1529bbcc2e74",
   "metadata": {},
   "outputs": [],
   "source": []
  },
  {
   "cell_type": "markdown",
   "id": "94ee0761-7f9a-4cfc-b88d-c67b68e0b5e5",
   "metadata": {},
   "source": [
    "## Manufacturing"
   ]
  },
  {
   "cell_type": "code",
   "execution_count": 456,
   "id": "e36ee283-cfd0-45be-bd5a-00fcb83e4aa6",
   "metadata": {},
   "outputs": [],
   "source": [
    "manufa_rtv = rtv[(rtv['formal_salaried1'] == 10.0) | (rtv['formal_salaried2'] == 10.0) | (rtv['formal_salaried3'] == 10.0)][['formal_salaried1', 'work_netpay_salaried1', 'formal_salaried2', 'work_netpay_salaried2', 'formal_salaried3', 'work_netpay_salaried3']]"
   ]
  },
  {
   "cell_type": "code",
   "execution_count": 457,
   "id": "69d66688-8b7e-4495-b870-7b4a6bc99eff",
   "metadata": {},
   "outputs": [
    {
     "data": {
      "text/plain": [
       "58.254444444444445"
      ]
     },
     "execution_count": 457,
     "metadata": {},
     "output_type": "execute_result"
    }
   ],
   "source": [
    "manufa_rtv.apply(lambda x: \n",
    "         (x['work_netpay_salaried1'] if x['formal_salaried1'] == 10.0 else 0) +\n",
    "         (x['work_netpay_salaried2'] if x['formal_salaried2'] == 10.0 else 0) +\n",
    "         (x['work_netpay_salaried3'] if x['formal_salaried3'] == 10.0 else 0),\n",
    "         axis=1).mean() * adjusted_cpi / rate"
   ]
  },
  {
   "cell_type": "code",
   "execution_count": 458,
   "id": "c632900f-e77e-4b35-a507-d8c7a2046efd",
   "metadata": {},
   "outputs": [],
   "source": [
    "manufa_peer = peer[(peer['formal_salaried1'] == 10.0) | (peer['formal_salaried2'] == 10.0) | (peer['formal_salaried3'] == 10.0)][['formal_salaried1', 'work_netpay_salaried1', 'formal_salaried2', 'work_netpay_salaried2', 'formal_salaried3', 'work_netpay_salaried3']]"
   ]
  },
  {
   "cell_type": "code",
   "execution_count": 459,
   "id": "4df88fd8-70df-4080-babd-f0a62aa2bdec",
   "metadata": {},
   "outputs": [
    {
     "data": {
      "text/plain": [
       "48.17194444444444"
      ]
     },
     "execution_count": 459,
     "metadata": {},
     "output_type": "execute_result"
    }
   ],
   "source": [
    "manufa_peer.apply(lambda x: \n",
    "         (x['work_netpay_salaried1'] if x['formal_salaried1'] == 10.0 else 0) +\n",
    "         (x['work_netpay_salaried2'] if x['formal_salaried2'] == 10.0 else 0) +\n",
    "         (x['work_netpay_salaried3'] if x['formal_salaried3'] == 10.0 else 0),\n",
    "         axis=1).mean() * adjusted_cpi / rate"
   ]
  },
  {
   "cell_type": "code",
   "execution_count": null,
   "id": "6e5ae2eb-316d-4479-a0c2-49209c9cc522",
   "metadata": {},
   "outputs": [],
   "source": []
  },
  {
   "cell_type": "markdown",
   "id": "78751dc9-62b6-492c-87cf-cb91e4fdefc3",
   "metadata": {},
   "source": [
    "## Construction"
   ]
  },
  {
   "cell_type": "code",
   "execution_count": 460,
   "id": "991c2d64-ebe2-4b0b-a616-7d644271c2fa",
   "metadata": {},
   "outputs": [],
   "source": [
    "constr_rtv = rtv[(rtv['formal_salaried1'] == 11.0) | (rtv['formal_salaried2'] == 11.0) | (rtv['formal_salaried3'] == 11.0)][['formal_salaried1', 'work_netpay_salaried1', 'formal_salaried2', 'work_netpay_salaried2', 'formal_salaried3', 'work_netpay_salaried3']]"
   ]
  },
  {
   "cell_type": "code",
   "execution_count": 461,
   "id": "9bf64e2b-cc68-4349-9023-010ee22945dc",
   "metadata": {},
   "outputs": [
    {
     "data": {
      "text/plain": [
       "69.45722222222223"
      ]
     },
     "execution_count": 461,
     "metadata": {},
     "output_type": "execute_result"
    }
   ],
   "source": [
    "constr_rtv.apply(lambda x: \n",
    "         (x['work_netpay_salaried1'] if x['formal_salaried1'] == 11.0 else 0) +\n",
    "         (x['work_netpay_salaried2'] if x['formal_salaried2'] == 11.0 else 0) +\n",
    "         (x['work_netpay_salaried3'] if x['formal_salaried3'] == 11.0 else 0),\n",
    "         axis=1).mean() * adjusted_cpi / rate"
   ]
  },
  {
   "cell_type": "code",
   "execution_count": 463,
   "id": "5b650a9d-929f-4725-97b4-852b2c586249",
   "metadata": {},
   "outputs": [],
   "source": [
    "constr_peer = peer[(peer['formal_salaried1'] == 11.0) | (peer['formal_salaried2'] == 11.0) | (peer['formal_salaried3'] == 11.0)][['formal_salaried1', 'work_netpay_salaried1', 'formal_salaried2', 'work_netpay_salaried2', 'formal_salaried3', 'work_netpay_salaried3']]"
   ]
  },
  {
   "cell_type": "code",
   "execution_count": 464,
   "id": "2f1f09c7-6fd4-41e6-ad7f-c422382d621c",
   "metadata": {},
   "outputs": [
    {
     "data": {
      "text/plain": [
       "57.93436507936508"
      ]
     },
     "execution_count": 464,
     "metadata": {},
     "output_type": "execute_result"
    }
   ],
   "source": [
    "constr_peer.apply(lambda x: \n",
    "         (x['work_netpay_salaried1'] if x['formal_salaried1'] == 11.0 else 0) +\n",
    "         (x['work_netpay_salaried2'] if x['formal_salaried2'] == 11.0 else 0) +\n",
    "         (x['work_netpay_salaried3'] if x['formal_salaried3'] == 11.0 else 0),\n",
    "         axis=1).mean() * adjusted_cpi / rate"
   ]
  },
  {
   "cell_type": "code",
   "execution_count": null,
   "id": "a7a9f7fe-476c-4bd5-bc6b-90c43f378d89",
   "metadata": {},
   "outputs": [],
   "source": []
  },
  {
   "cell_type": "markdown",
   "id": "fbe00b6c-ebea-4bb3-8c6b-2257b493756f",
   "metadata": {},
   "source": [
    "# Informal Sector"
   ]
  },
  {
   "cell_type": "markdown",
   "id": "646a3760-5459-4d67-9a51-8d97424a5efa",
   "metadata": {},
   "source": [
    "## Shop business"
   ]
  },
  {
   "cell_type": "code",
   "execution_count": 465,
   "id": "b3bebb72-12ca-4c83-aa2a-b96baf098cd0",
   "metadata": {},
   "outputs": [],
   "source": [
    "shop_rtv = rtv[(rtv['formal_salaried1'] == 12.0) | (rtv['formal_salaried2'] == 12.0) | (rtv['formal_salaried3'] == 12.0)][['formal_salaried1', 'work_netpay_salaried1', 'formal_salaried2', 'work_netpay_salaried2', 'formal_salaried3', 'work_netpay_salaried3']]"
   ]
  },
  {
   "cell_type": "code",
   "execution_count": 466,
   "id": "d7729777-ba7d-4e9a-930b-eb5539981dd8",
   "metadata": {},
   "outputs": [
    {
     "data": {
      "text/plain": [
       "38.70050505050505"
      ]
     },
     "execution_count": 466,
     "metadata": {},
     "output_type": "execute_result"
    }
   ],
   "source": [
    "shop_rtv.apply(lambda x: \n",
    "         (x['work_netpay_salaried1'] if x['formal_salaried1'] == 12.0 else 0) +\n",
    "         (x['work_netpay_salaried2'] if x['formal_salaried2'] == 12.0 else 0) +\n",
    "         (x['work_netpay_salaried3'] if x['formal_salaried3'] == 12.0 else 0),\n",
    "         axis=1).mean() * adjusted_cpi / rate"
   ]
  },
  {
   "cell_type": "code",
   "execution_count": 467,
   "id": "245d5fc0-6df3-46a6-a382-5cdd0441d894",
   "metadata": {},
   "outputs": [],
   "source": [
    "shop_peer = peer[(peer['formal_salaried1'] == 12.0) | (peer['formal_salaried2'] == 12.0) | (peer['formal_salaried3'] == 12.0)][['formal_salaried1', 'work_netpay_salaried1', 'formal_salaried2', 'work_netpay_salaried2', 'formal_salaried3', 'work_netpay_salaried3']]"
   ]
  },
  {
   "cell_type": "code",
   "execution_count": 468,
   "id": "2b6111f3-93c4-481f-89c0-883d5616c580",
   "metadata": {},
   "outputs": [
    {
     "data": {
      "text/plain": [
       "38.46287037037037"
      ]
     },
     "execution_count": 468,
     "metadata": {},
     "output_type": "execute_result"
    }
   ],
   "source": [
    "shop_peer.apply(lambda x: \n",
    "         (x['work_netpay_salaried1'] if x['formal_salaried1'] == 12.0 else 0) +\n",
    "         (x['work_netpay_salaried2'] if x['formal_salaried2'] == 12.0 else 0) +\n",
    "         (x['work_netpay_salaried3'] if x['formal_salaried3'] == 12.0 else 0),\n",
    "         axis=1).mean() * adjusted_cpi / rate"
   ]
  },
  {
   "cell_type": "code",
   "execution_count": null,
   "id": "296cab4c-7972-4e76-890c-349162019dbb",
   "metadata": {},
   "outputs": [],
   "source": []
  },
  {
   "cell_type": "markdown",
   "id": "6cd3396a-9e8a-48ad-8214-1f972c2302f6",
   "metadata": {},
   "source": [
    "## Food vendors"
   ]
  },
  {
   "cell_type": "code",
   "execution_count": 469,
   "id": "b2f1cebd-9f8c-4eb0-9389-a1e2fc86bc34",
   "metadata": {},
   "outputs": [],
   "source": [
    "food_rtv = rtv[(rtv['formal_salaried1'] == 13.0) | (rtv['formal_salaried2'] == 13.0) | (rtv['formal_salaried3'] == 13.0)][['formal_salaried1', 'work_netpay_salaried1', 'formal_salaried2', 'work_netpay_salaried2', 'formal_salaried3', 'work_netpay_salaried3']]"
   ]
  },
  {
   "cell_type": "code",
   "execution_count": 470,
   "id": "425a0943-7c71-4868-8ad6-998b359f1d58",
   "metadata": {},
   "outputs": [
    {
     "data": {
      "text/plain": [
       "17.924444444444443"
      ]
     },
     "execution_count": 470,
     "metadata": {},
     "output_type": "execute_result"
    }
   ],
   "source": [
    "food_rtv.apply(lambda x: \n",
    "         (x['work_netpay_salaried1'] if x['formal_salaried1'] == 13.0 else 0) +\n",
    "         (x['work_netpay_salaried2'] if x['formal_salaried2'] == 13.0 else 0) +\n",
    "         (x['work_netpay_salaried3'] if x['formal_salaried3'] == 13.0 else 0),\n",
    "         axis=1).mean() * adjusted_cpi / rate"
   ]
  },
  {
   "cell_type": "code",
   "execution_count": 471,
   "id": "eaa5f63e-7a06-49ec-9689-63e22ad9fddb",
   "metadata": {},
   "outputs": [],
   "source": [
    "food_peer = peer[(peer['formal_salaried1'] == 13.0) | (peer['formal_salaried2'] == 13.0) | (peer['formal_salaried3'] == 13.0)][['formal_salaried1', 'work_netpay_salaried1', 'formal_salaried2', 'work_netpay_salaried2', 'formal_salaried3', 'work_netpay_salaried3']]"
   ]
  },
  {
   "cell_type": "code",
   "execution_count": 472,
   "id": "5a525cc2-5a12-496c-913e-47a20ff7b224",
   "metadata": {},
   "outputs": [
    {
     "data": {
      "text/plain": [
       "nan"
      ]
     },
     "execution_count": 472,
     "metadata": {},
     "output_type": "execute_result"
    }
   ],
   "source": [
    "food_peer.apply(lambda x: \n",
    "         (x['work_netpay_salaried1'] if x['formal_salaried1'] == 13.0 else 0) +\n",
    "         (x['work_netpay_salaried2'] if x['formal_salaried2'] == 13.0 else 0) +\n",
    "         (x['work_netpay_salaried3'] if x['formal_salaried3'] == 13.0 else 0),\n",
    "         axis=1).mean() * adjusted_cpi / rate"
   ]
  },
  {
   "cell_type": "code",
   "execution_count": null,
   "id": "ec98af4b-4a32-49a6-bcce-3ad176c5f6a6",
   "metadata": {},
   "outputs": [],
   "source": []
  },
  {
   "cell_type": "markdown",
   "id": "f05fce73-6952-489a-b520-1a1cccca323c",
   "metadata": {},
   "source": [
    "## Street vendors"
   ]
  },
  {
   "cell_type": "code",
   "execution_count": 473,
   "id": "ff47c822-bcf0-4fed-949d-163bcb0f17e5",
   "metadata": {},
   "outputs": [],
   "source": [
    "street_rtv = rtv[(rtv['formal_salaried1'] == 14.0) | (rtv['formal_salaried2'] == 14.0) | (rtv['formal_salaried3'] == 14.0)][['formal_salaried1', 'work_netpay_salaried1', 'formal_salaried2', 'work_netpay_salaried2', 'formal_salaried3', 'work_netpay_salaried3']]"
   ]
  },
  {
   "cell_type": "code",
   "execution_count": 474,
   "id": "eaf4f511-463b-42a4-9801-bc67a7e681ac",
   "metadata": {},
   "outputs": [
    {
     "data": {
      "text/plain": [
       "41.07685185185185"
      ]
     },
     "execution_count": 474,
     "metadata": {},
     "output_type": "execute_result"
    }
   ],
   "source": [
    "street_rtv.apply(lambda x: \n",
    "         (x['work_netpay_salaried1'] if x['formal_salaried1'] == 14.0 else 0) +\n",
    "         (x['work_netpay_salaried2'] if x['formal_salaried2'] == 14.0 else 0) +\n",
    "         (x['work_netpay_salaried3'] if x['formal_salaried3'] == 14.0 else 0),\n",
    "         axis=1).mean() * adjusted_cpi / rate"
   ]
  },
  {
   "cell_type": "code",
   "execution_count": 475,
   "id": "57393314-18a9-47f8-a270-b73b20b9635b",
   "metadata": {},
   "outputs": [],
   "source": [
    "street_peer = peer[(peer['formal_salaried1'] == 14.0) | (peer['formal_salaried2'] == 14.0) | (peer['formal_salaried3'] == 14.0)][['formal_salaried1', 'work_netpay_salaried1', 'formal_salaried2', 'work_netpay_salaried2', 'formal_salaried3', 'work_netpay_salaried3']]"
   ]
  },
  {
   "cell_type": "code",
   "execution_count": 476,
   "id": "d91a218f-04b2-4ece-a512-a9db20c790b0",
   "metadata": {},
   "outputs": [
    {
     "data": {
      "text/plain": [
       "nan"
      ]
     },
     "execution_count": 476,
     "metadata": {},
     "output_type": "execute_result"
    }
   ],
   "source": [
    "street_peer.apply(lambda x: \n",
    "         (x['work_netpay_salaried1'] if x['formal_salaried1'] == 14.0 else 0) +\n",
    "         (x['work_netpay_salaried2'] if x['formal_salaried2'] == 14.0 else 0) +\n",
    "         (x['work_netpay_salaried3'] if x['formal_salaried3'] == 14.0 else 0),\n",
    "         axis=1).mean() * adjusted_cpi / rate"
   ]
  },
  {
   "cell_type": "markdown",
   "id": "102d5d95-72fa-4d6c-8c1e-2655e1eaadc2",
   "metadata": {},
   "source": [
    "## Agriculture Produce store"
   ]
  },
  {
   "cell_type": "code",
   "execution_count": 477,
   "id": "691ea498-6779-48fd-971d-aa0593a79a72",
   "metadata": {},
   "outputs": [],
   "source": [
    "agric_rtv = rtv[(rtv['formal_salaried1'] == 15.0) | (rtv['formal_salaried2'] == 15.0) | (rtv['formal_salaried3'] == 15.0)][['formal_salaried1', 'work_netpay_salaried1', 'formal_salaried2', 'work_netpay_salaried2', 'formal_salaried3', 'work_netpay_salaried3']]"
   ]
  },
  {
   "cell_type": "code",
   "execution_count": 478,
   "id": "919eeeef-b2a7-4624-9a15-b692b052e990",
   "metadata": {},
   "outputs": [
    {
     "data": {
      "text/plain": [
       "32.40188034188034"
      ]
     },
     "execution_count": 478,
     "metadata": {},
     "output_type": "execute_result"
    }
   ],
   "source": [
    "agric_rtv.apply(lambda x: \n",
    "         (x['work_netpay_salaried1'] if x['formal_salaried1'] == 15.0 else 0) +\n",
    "         (x['work_netpay_salaried2'] if x['formal_salaried2'] == 15.0 else 0) +\n",
    "         (x['work_netpay_salaried3'] if x['formal_salaried3'] == 15.0 else 0),\n",
    "         axis=1).mean() * adjusted_cpi / rate"
   ]
  },
  {
   "cell_type": "code",
   "execution_count": 479,
   "id": "9e198b7d-92b1-4ecc-bade-54e5ed798cf9",
   "metadata": {},
   "outputs": [],
   "source": [
    "agric_peer = peer[(peer['formal_salaried1'] == 15.0) | (peer['formal_salaried2'] == 15.0) | (peer['formal_salaried3'] == 15.0)][['formal_salaried1', 'work_netpay_salaried1', 'formal_salaried2', 'work_netpay_salaried2', 'formal_salaried3', 'work_netpay_salaried3']]"
   ]
  },
  {
   "cell_type": "code",
   "execution_count": 480,
   "id": "51a7b661-f401-4731-8dfb-f81f16d5b43d",
   "metadata": {},
   "outputs": [
    {
     "data": {
      "text/plain": [
       "53.77333333333333"
      ]
     },
     "execution_count": 480,
     "metadata": {},
     "output_type": "execute_result"
    }
   ],
   "source": [
    "agric_peer.apply(lambda x: \n",
    "         (x['work_netpay_salaried1'] if x['formal_salaried1'] == 15.0 else 0) +\n",
    "         (x['work_netpay_salaried2'] if x['formal_salaried2'] == 15.0 else 0) +\n",
    "         (x['work_netpay_salaried3'] if x['formal_salaried3'] == 15.0 else 0),\n",
    "         axis=1).mean() * adjusted_cpi / rate"
   ]
  },
  {
   "cell_type": "markdown",
   "id": "55821b3d-e1ad-40fd-a8e2-32577ac6dd41",
   "metadata": {},
   "source": [
    "## Diary outlet"
   ]
  },
  {
   "cell_type": "code",
   "execution_count": 481,
   "id": "5be6f472-8cd8-45e2-81b3-5f406c0f026d",
   "metadata": {},
   "outputs": [],
   "source": [
    "diary_rtv = rtv[(rtv['formal_salaried1'] == 16.0) | (rtv['formal_salaried2'] == 16.0) | (rtv['formal_salaried3'] == 16.0)][['formal_salaried1', 'work_netpay_salaried1', 'formal_salaried2', 'work_netpay_salaried2', 'formal_salaried3', 'work_netpay_salaried3']]"
   ]
  },
  {
   "cell_type": "code",
   "execution_count": 379,
   "id": "7ebf1a6a-0e25-43a5-8b43-f24cfa26b0a3",
   "metadata": {},
   "outputs": [
    {
     "data": {
      "text/plain": [
       "nan"
      ]
     },
     "execution_count": 379,
     "metadata": {},
     "output_type": "execute_result"
    }
   ],
   "source": [
    "diary_rtv.apply(lambda x: \n",
    "         (x['work_netpay_salaried1'] if x['formal_salaried1'] == 16.0 else 0) +\n",
    "         (x['work_netpay_salaried2'] if x['formal_salaried2'] == 16.0 else 0) +\n",
    "         (x['work_netpay_salaried3'] if x['formal_salaried3'] == 16.0 else 0),\n",
    "         axis=1).mean() * adjusted_cpi / rate"
   ]
  },
  {
   "cell_type": "code",
   "execution_count": 482,
   "id": "7b6563b0-0699-4a0e-b0f1-547105dc1b0c",
   "metadata": {},
   "outputs": [],
   "source": [
    "diary_peer = peer[(peer['formal_salaried1'] == 16.0) | (peer['formal_salaried2'] == 16.0) | (peer['formal_salaried3'] == 16.0)][['formal_salaried1', 'work_netpay_salaried1', 'formal_salaried2', 'work_netpay_salaried2', 'formal_salaried3', 'work_netpay_salaried3']]"
   ]
  },
  {
   "cell_type": "code",
   "execution_count": 483,
   "id": "33b312a8-3b63-4e1a-a51c-6f0ae26dddb3",
   "metadata": {},
   "outputs": [
    {
     "data": {
      "text/plain": [
       "nan"
      ]
     },
     "execution_count": 483,
     "metadata": {},
     "output_type": "execute_result"
    }
   ],
   "source": [
    "diary_peer.apply(lambda x: \n",
    "         (x['work_netpay_salaried1'] if x['formal_salaried1'] == 16.0 else 0) +\n",
    "         (x['work_netpay_salaried2'] if x['formal_salaried2'] == 16.0 else 0) +\n",
    "         (x['work_netpay_salaried3'] if x['formal_salaried3'] == 16.0 else 0),\n",
    "         axis=1).mean() * adjusted_cpi / rate"
   ]
  },
  {
   "cell_type": "markdown",
   "id": "45e97854-d7b3-4b48-ab1d-a544d5489dfb",
   "metadata": {},
   "source": [
    "## Non-registered school"
   ]
  },
  {
   "cell_type": "code",
   "execution_count": 484,
   "id": "73d39596-553e-4615-a410-1c865c3539fa",
   "metadata": {},
   "outputs": [],
   "source": [
    "nonreg_rtv = rtv[(rtv['formal_salaried1'] == 17.0) | (rtv['formal_salaried2'] == 17.0) | (rtv['formal_salaried3'] == 17.0)][['formal_salaried1', 'work_netpay_salaried1', 'formal_salaried2', 'work_netpay_salaried2', 'formal_salaried3', 'work_netpay_salaried3']]"
   ]
  },
  {
   "cell_type": "code",
   "execution_count": 383,
   "id": "bfcdab91-f6c3-4fcc-a905-4e809f213d76",
   "metadata": {},
   "outputs": [
    {
     "data": {
      "text/plain": [
       "34.56857142857143"
      ]
     },
     "execution_count": 383,
     "metadata": {},
     "output_type": "execute_result"
    }
   ],
   "source": [
    "nonreg_rtv.apply(lambda x: \n",
    "         (x['work_netpay_salaried1'] if x['formal_salaried1'] == 17.0 else 0) +\n",
    "         (x['work_netpay_salaried2'] if x['formal_salaried2'] == 17.0 else 0) +\n",
    "         (x['work_netpay_salaried3'] if x['formal_salaried3'] == 17.0 else 0),\n",
    "         axis=1).mean() * adjusted_cpi / rate"
   ]
  },
  {
   "cell_type": "code",
   "execution_count": 485,
   "id": "bf8332a1-2b70-4822-bc9f-46b8c8d70959",
   "metadata": {},
   "outputs": [],
   "source": [
    "nonreg_peer = peer[(peer['formal_salaried1'] == 17.0) | (peer['formal_salaried2'] == 17.0) | (peer['formal_salaried3'] == 17.0)][['formal_salaried1', 'work_netpay_salaried1', 'formal_salaried2', 'work_netpay_salaried2', 'formal_salaried3', 'work_netpay_salaried3']]"
   ]
  },
  {
   "cell_type": "code",
   "execution_count": 486,
   "id": "c5b689cb-3b8b-4bbd-ac77-0363d805e47c",
   "metadata": {},
   "outputs": [
    {
     "data": {
      "text/plain": [
       "nan"
      ]
     },
     "execution_count": 486,
     "metadata": {},
     "output_type": "execute_result"
    }
   ],
   "source": [
    "nonreg_peer.apply(lambda x: \n",
    "         (x['work_netpay_salaried1'] if x['formal_salaried1'] == 17.0 else 0) +\n",
    "         (x['work_netpay_salaried2'] if x['formal_salaried2'] == 17.0 else 0) +\n",
    "         (x['work_netpay_salaried3'] if x['formal_salaried3'] == 17.0 else 0),\n",
    "         axis=1).mean() * adjusted_cpi / rate"
   ]
  },
  {
   "cell_type": "code",
   "execution_count": null,
   "id": "5305a917-9c06-400b-983c-2b006e927d05",
   "metadata": {},
   "outputs": [],
   "source": []
  },
  {
   "cell_type": "markdown",
   "id": "baf4fcc7-dd56-465a-a16a-a9fa6bbdb985",
   "metadata": {},
   "source": [
    "## Catering"
   ]
  },
  {
   "cell_type": "code",
   "execution_count": 487,
   "id": "c553b0a8-ea17-4d2c-bd10-e9cf9492c289",
   "metadata": {},
   "outputs": [],
   "source": [
    "cater_rtv = rtv[(rtv['formal_salaried1'] == 18.0) | (rtv['formal_salaried2'] == 18.0) | (rtv['formal_salaried3'] == 18.0)][['formal_salaried1', 'work_netpay_salaried1', 'formal_salaried2', 'work_netpay_salaried2', 'formal_salaried3', 'work_netpay_salaried3']]"
   ]
  },
  {
   "cell_type": "code",
   "execution_count": 488,
   "id": "97967e7f-fcc2-4612-81b3-045f12645969",
   "metadata": {},
   "outputs": [
    {
     "data": {
      "text/plain": [
       "33.608333333333334"
      ]
     },
     "execution_count": 488,
     "metadata": {},
     "output_type": "execute_result"
    }
   ],
   "source": [
    "cater_rtv.apply(lambda x: \n",
    "         (x['work_netpay_salaried1'] if x['formal_salaried1'] == 18.0 else 0) +\n",
    "         (x['work_netpay_salaried2'] if x['formal_salaried2'] == 18.0 else 0) +\n",
    "         (x['work_netpay_salaried3'] if x['formal_salaried3'] == 18.0 else 0),\n",
    "         axis=1).mean() * adjusted_cpi / rate"
   ]
  },
  {
   "cell_type": "code",
   "execution_count": 489,
   "id": "0f1175bf-3987-4586-b69c-4bfb66ab1d13",
   "metadata": {},
   "outputs": [],
   "source": [
    "cater_peer = peer[(peer['formal_salaried1'] == 18.0) | (peer['formal_salaried2'] == 18.0) | (peer['formal_salaried3'] == 18.0)][['formal_salaried1', 'work_netpay_salaried1', 'formal_salaried2', 'work_netpay_salaried2', 'formal_salaried3', 'work_netpay_salaried3']]"
   ]
  },
  {
   "cell_type": "code",
   "execution_count": 490,
   "id": "9e01a4e6-9ee7-4a08-98d0-61c03d946503",
   "metadata": {},
   "outputs": [
    {
     "data": {
      "text/plain": [
       "25.486319444444444"
      ]
     },
     "execution_count": 490,
     "metadata": {},
     "output_type": "execute_result"
    }
   ],
   "source": [
    "cater_peer.apply(lambda x: \n",
    "         (x['work_netpay_salaried1'] if x['formal_salaried1'] == 18.0 else 0) +\n",
    "         (x['work_netpay_salaried2'] if x['formal_salaried2'] == 18.0 else 0) +\n",
    "         (x['work_netpay_salaried3'] if x['formal_salaried3'] == 18.0 else 0),\n",
    "         axis=1).mean() * adjusted_cpi / rate"
   ]
  },
  {
   "cell_type": "code",
   "execution_count": null,
   "id": "6b8df495-180a-477e-9624-9593ca007779",
   "metadata": {},
   "outputs": [],
   "source": []
  },
  {
   "cell_type": "markdown",
   "id": "cf97afa6-87d7-4e9a-a11f-96975191246d",
   "metadata": {},
   "source": [
    "## Building and Construction"
   ]
  },
  {
   "cell_type": "code",
   "execution_count": 396,
   "id": "0ab1c5fd-f958-4161-a167-3a81057bf0b8",
   "metadata": {},
   "outputs": [],
   "source": [
    "buidandCo_rtv = rtv[(rtv['formal_salaried1'] == 19.0) | (rtv['formal_salaried2'] == 19.0) | (rtv['formal_salaried3'] == 19.0)][['formal_salaried1', 'work_netpay_salaried1', 'formal_salaried2', 'work_netpay_salaried2', 'formal_salaried3', 'work_netpay_salaried3']]"
   ]
  },
  {
   "cell_type": "code",
   "execution_count": 397,
   "id": "f8ba3412-848f-4cf4-8f73-783d0f9c7839",
   "metadata": {},
   "outputs": [
    {
     "data": {
      "text/plain": [
       "50.18844444444444"
      ]
     },
     "execution_count": 397,
     "metadata": {},
     "output_type": "execute_result"
    }
   ],
   "source": [
    "buidandCo_rtv.apply(lambda x: \n",
    "         (x['work_netpay_salaried1'] if x['formal_salaried1'] == 19.0 else 0) +\n",
    "         (x['work_netpay_salaried2'] if x['formal_salaried2'] == 19.0 else 0) +\n",
    "         (x['work_netpay_salaried3'] if x['formal_salaried3'] == 19.0 else 0),\n",
    "         axis=1).mean() * adjusted_cpi / rate"
   ]
  },
  {
   "cell_type": "code",
   "execution_count": 394,
   "id": "5311c8b9-b06f-47e4-a34f-a7e8752cdc77",
   "metadata": {},
   "outputs": [],
   "source": [
    "buidandCo_peer = peer[(peer['formal_salaried1'] == 19.0) | (peer['formal_salaried2'] == 19.0) | (peer['formal_salaried3'] == 19.0)][['formal_salaried1', 'work_netpay_salaried1', 'formal_salaried2', 'work_netpay_salaried2', 'formal_salaried3', 'work_netpay_salaried3']]"
   ]
  },
  {
   "cell_type": "code",
   "execution_count": 395,
   "id": "89ba551a-158c-48cb-95e0-27c4fd00bac0",
   "metadata": {},
   "outputs": [
    {
     "data": {
      "text/plain": [
       "64.97611111111111"
      ]
     },
     "execution_count": 395,
     "metadata": {},
     "output_type": "execute_result"
    }
   ],
   "source": [
    "buidandCo_peer.apply(lambda x: \n",
    "         (x['work_netpay_salaried1'] if x['formal_salaried1'] == 19.0 else 0) +\n",
    "         (x['work_netpay_salaried2'] if x['formal_salaried2'] == 19.0 else 0) +\n",
    "         (x['work_netpay_salaried3'] if x['formal_salaried3'] == 19.0 else 0),\n",
    "         axis=1).mean() * adjusted_cpi / rate"
   ]
  },
  {
   "cell_type": "markdown",
   "id": "eb5bf5d4-fac4-449d-98eb-0356052bb37e",
   "metadata": {},
   "source": [
    "## House Helper"
   ]
  },
  {
   "cell_type": "code",
   "execution_count": 398,
   "id": "887d834e-ad5c-40e5-a34f-704a17b13dd0",
   "metadata": {},
   "outputs": [],
   "source": [
    "helper_rtv = rtv[(rtv['formal_salaried1'] == 20.0) | (rtv['formal_salaried2'] == 20.0) | (rtv['formal_salaried3'] == 20.0)][['formal_salaried1', 'work_netpay_salaried1', 'formal_salaried2', 'work_netpay_salaried2', 'formal_salaried3', 'work_netpay_salaried3']]"
   ]
  },
  {
   "cell_type": "code",
   "execution_count": 399,
   "id": "ced7b4ec-b317-4baa-94ce-8c8d20f9d3f9",
   "metadata": {},
   "outputs": [
    {
     "data": {
      "text/plain": [
       "38.3245633654321"
      ]
     },
     "execution_count": 399,
     "metadata": {},
     "output_type": "execute_result"
    }
   ],
   "source": [
    "helper_rtv.apply(lambda x: \n",
    "         (x['work_netpay_salaried1'] if x['formal_salaried1'] == 20.0 else 0) +\n",
    "         (x['work_netpay_salaried2'] if x['formal_salaried2'] == 20.0 else 0) +\n",
    "         (x['work_netpay_salaried3'] if x['formal_salaried3'] == 20.0 else 0),\n",
    "         axis=1).mean() * adjusted_cpi / rate"
   ]
  },
  {
   "cell_type": "code",
   "execution_count": 400,
   "id": "79f5cc25-2895-4571-987b-de4af94c5e33",
   "metadata": {},
   "outputs": [],
   "source": [
    "helper_peer = peer[(peer['formal_salaried1'] == 20.0) | (peer['formal_salaried2'] == 20.0) | (peer['formal_salaried3'] == 20.0)][['formal_salaried1', 'work_netpay_salaried1', 'formal_salaried2', 'work_netpay_salaried2', 'formal_salaried3', 'work_netpay_salaried3']]"
   ]
  },
  {
   "cell_type": "code",
   "execution_count": 401,
   "id": "2856b3e7-ffd1-4073-9f3b-f5dfff0facd2",
   "metadata": {},
   "outputs": [
    {
     "data": {
      "text/plain": [
       "52.71201754385965"
      ]
     },
     "execution_count": 401,
     "metadata": {},
     "output_type": "execute_result"
    }
   ],
   "source": [
    "helper_peer.apply(lambda x: \n",
    "         (x['work_netpay_salaried1'] if x['formal_salaried1'] == 20.0 else 0) +\n",
    "         (x['work_netpay_salaried2'] if x['formal_salaried2'] == 20.0 else 0) +\n",
    "         (x['work_netpay_salaried3'] if x['formal_salaried3'] == 20.0 else 0),\n",
    "         axis=1).mean() * adjusted_cpi / rate"
   ]
  },
  {
   "cell_type": "markdown",
   "id": "5f56d10c-bc70-437e-86c5-4ee39ec12658",
   "metadata": {},
   "source": [
    "## Entertainment/music/dance groups"
   ]
  },
  {
   "cell_type": "code",
   "execution_count": 402,
   "id": "35c285c0-4ea4-4d2a-8a88-1fc886add6dd",
   "metadata": {},
   "outputs": [],
   "source": [
    "entert_rtv = rtv[(rtv['formal_salaried1'] == 21.0) | (rtv['formal_salaried2'] == 21.0) | (rtv['formal_salaried3'] == 21.0)][['formal_salaried1', 'work_netpay_salaried1', 'formal_salaried2', 'work_netpay_salaried2', 'formal_salaried3', 'work_netpay_salaried3']]"
   ]
  },
  {
   "cell_type": "code",
   "execution_count": 406,
   "id": "f46651f9-d441-4e43-ad44-dc56fe4c9acf",
   "metadata": {},
   "outputs": [
    {
     "data": {
      "text/plain": [
       "nan"
      ]
     },
     "execution_count": 406,
     "metadata": {},
     "output_type": "execute_result"
    }
   ],
   "source": [
    "entert_rtv.apply(lambda x: \n",
    "         (x['work_netpay_salaried1'] if x['formal_salaried1'] == 21.0 else 0) +\n",
    "         (x['work_netpay_salaried2'] if x['formal_salaried2'] == 21.0 else 0) +\n",
    "         (x['work_netpay_salaried3'] if x['formal_salaried3'] == 21.0 else 0),\n",
    "         axis=1).mean() * adjusted_cpi / rate"
   ]
  },
  {
   "cell_type": "code",
   "execution_count": 404,
   "id": "6dce2041-1be4-4f7e-80e8-77f0dd505295",
   "metadata": {},
   "outputs": [],
   "source": [
    "entert_peer = peer[(peer['formal_salaried1'] == 21.0) | (peer['formal_salaried2'] == 21.0) | (peer['formal_salaried3'] == 21.0)][['formal_salaried1', 'work_netpay_salaried1', 'formal_salaried2', 'work_netpay_salaried2', 'formal_salaried3', 'work_netpay_salaried3']]"
   ]
  },
  {
   "cell_type": "code",
   "execution_count": 407,
   "id": "d87653b2-a908-4ea7-bae5-e857816cca0b",
   "metadata": {},
   "outputs": [
    {
     "data": {
      "text/plain": [
       "nan"
      ]
     },
     "execution_count": 407,
     "metadata": {},
     "output_type": "execute_result"
    }
   ],
   "source": [
    "entert_peer.apply(lambda x: \n",
    "         (x['work_netpay_salaried1'] if x['formal_salaried1'] == 21.0 else 0) +\n",
    "         (x['work_netpay_salaried2'] if x['formal_salaried2'] == 21.0 else 0) +\n",
    "         (x['work_netpay_salaried3'] if x['formal_salaried3'] == 21.0 else 0),\n",
    "         axis=1).mean() * adjusted_cpi / rate"
   ]
  },
  {
   "cell_type": "markdown",
   "id": "5ba49237-afed-4c4f-bda4-0f295b2b35b4",
   "metadata": {},
   "source": [
    "## Cinema/Videography"
   ]
  },
  {
   "cell_type": "code",
   "execution_count": 408,
   "id": "c370a090-4242-47e0-a1db-99f9aa4f0f06",
   "metadata": {},
   "outputs": [],
   "source": [
    "cinema_rtv = rtv[(rtv['formal_salaried1'] == 22.0) | (rtv['formal_salaried2'] == 22.0) | (rtv['formal_salaried3'] == 22.0)][['formal_salaried1', 'work_netpay_salaried1', 'formal_salaried2', 'work_netpay_salaried2', 'formal_salaried3', 'work_netpay_salaried3']]"
   ]
  },
  {
   "cell_type": "code",
   "execution_count": 409,
   "id": "f53d0058-87e6-4308-bf10-e8c33500107c",
   "metadata": {},
   "outputs": [
    {
     "data": {
      "text/plain": [
       "nan"
      ]
     },
     "execution_count": 409,
     "metadata": {},
     "output_type": "execute_result"
    }
   ],
   "source": [
    "cinema_rtv.apply(lambda x: \n",
    "         (x['work_netpay_salaried1'] if x['formal_salaried1'] == 22.0 else 0) +\n",
    "         (x['work_netpay_salaried2'] if x['formal_salaried2'] == 22.0 else 0) +\n",
    "         (x['work_netpay_salaried3'] if x['formal_salaried3'] == 22.0 else 0),\n",
    "         axis=1).mean() * adjusted_cpi / rate"
   ]
  },
  {
   "cell_type": "code",
   "execution_count": 410,
   "id": "5c2ba351-4266-43a9-96fa-78c0c6708701",
   "metadata": {},
   "outputs": [],
   "source": [
    "cinema_peer = peer[(peer['formal_salaried1'] == 22.0) | (peer['formal_salaried2'] == 22.0) | (peer['formal_salaried3'] == 22.0)][['formal_salaried1', 'work_netpay_salaried1', 'formal_salaried2', 'work_netpay_salaried2', 'formal_salaried3', 'work_netpay_salaried3']]"
   ]
  },
  {
   "cell_type": "code",
   "execution_count": 411,
   "id": "8f9b4df3-5c39-4fc4-b84c-b15fedb44cce",
   "metadata": {},
   "outputs": [
    {
     "data": {
      "text/plain": [
       "nan"
      ]
     },
     "execution_count": 411,
     "metadata": {},
     "output_type": "execute_result"
    }
   ],
   "source": [
    "cinema_peer.apply(lambda x: \n",
    "         (x['work_netpay_salaried1'] if x['formal_salaried1'] == 22.0 else 0) +\n",
    "         (x['work_netpay_salaried2'] if x['formal_salaried2'] == 22.0 else 0) +\n",
    "         (x['work_netpay_salaried3'] if x['formal_salaried3'] == 22.0 else 0),\n",
    "         axis=1).mean() * adjusted_cpi / rate"
   ]
  },
  {
   "cell_type": "markdown",
   "id": "f380dbe3-7615-4900-b524-4e52354cb651",
   "metadata": {},
   "source": [
    "## Salaried cleaners"
   ]
  },
  {
   "cell_type": "code",
   "execution_count": 412,
   "id": "c3d3cb8c-2a6b-49bc-8414-9292f685c562",
   "metadata": {},
   "outputs": [],
   "source": [
    "salaried_rtv = rtv[(rtv['formal_salaried1'] == 23.0) | (rtv['formal_salaried2'] == 23.0) | (rtv['formal_salaried3'] == 23.0)][['formal_salaried1', 'work_netpay_salaried1', 'formal_salaried2', 'work_netpay_salaried2', 'formal_salaried3', 'work_netpay_salaried3']]"
   ]
  },
  {
   "cell_type": "code",
   "execution_count": 413,
   "id": "2c7c07e1-8ebe-4527-8a62-269fa2ebd509",
   "metadata": {},
   "outputs": [
    {
     "data": {
      "text/plain": [
       "43.130694444444444"
      ]
     },
     "execution_count": 413,
     "metadata": {},
     "output_type": "execute_result"
    }
   ],
   "source": [
    "salaried_rtv.apply(lambda x: \n",
    "         (x['work_netpay_salaried1'] if x['formal_salaried1'] == 23.0 else 0) +\n",
    "         (x['work_netpay_salaried2'] if x['formal_salaried2'] == 23.0 else 0) +\n",
    "         (x['work_netpay_salaried3'] if x['formal_salaried3'] == 23.0 else 0),\n",
    "         axis=1).mean() * adjusted_cpi / rate"
   ]
  },
  {
   "cell_type": "code",
   "execution_count": 414,
   "id": "90a071a5-649f-402b-987d-e6dc5043d753",
   "metadata": {},
   "outputs": [],
   "source": [
    "salaried_peer = peer[(peer['formal_salaried1'] == 23.0) | (peer['formal_salaried2'] == 23.0) | (peer['formal_salaried3'] == 23.0)][['formal_salaried1', 'work_netpay_salaried1', 'formal_salaried2', 'work_netpay_salaried2', 'formal_salaried3', 'work_netpay_salaried3']]"
   ]
  },
  {
   "cell_type": "code",
   "execution_count": 415,
   "id": "574fc1a6-d6a3-4eb9-8bd4-8e25dfea734d",
   "metadata": {},
   "outputs": [
    {
     "data": {
      "text/plain": [
       "50.4125"
      ]
     },
     "execution_count": 415,
     "metadata": {},
     "output_type": "execute_result"
    }
   ],
   "source": [
    "salaried_peer.apply(lambda x: \n",
    "         (x['work_netpay_salaried1'] if x['formal_salaried1'] == 23.0 else 0) +\n",
    "         (x['work_netpay_salaried2'] if x['formal_salaried2'] == 23.0 else 0) +\n",
    "         (x['work_netpay_salaried3'] if x['formal_salaried3'] == 23.0 else 0),\n",
    "         axis=1).mean() * adjusted_cpi / rate"
   ]
  },
  {
   "cell_type": "markdown",
   "id": "2f92f298-b132-4fb7-baa7-8f66dc4792ca",
   "metadata": {},
   "source": [
    "## Fuel station attendant"
   ]
  },
  {
   "cell_type": "code",
   "execution_count": 416,
   "id": "bd6076bb-4ddf-402d-bee4-b22de09a336b",
   "metadata": {},
   "outputs": [],
   "source": [
    "fuel_rtv = rtv[(rtv['formal_salaried1'] == 24.0) | (rtv['formal_salaried2'] == 24.0) | (rtv['formal_salaried3'] == 24.0)][['formal_salaried1', 'work_netpay_salaried1', 'formal_salaried2', 'work_netpay_salaried2', 'formal_salaried3', 'work_netpay_salaried3']]"
   ]
  },
  {
   "cell_type": "code",
   "execution_count": 417,
   "id": "0183ab49-0e80-40b7-953e-5c936c548d2d",
   "metadata": {},
   "outputs": [
    {
     "data": {
      "text/plain": [
       "61.61527777777778"
      ]
     },
     "execution_count": 417,
     "metadata": {},
     "output_type": "execute_result"
    }
   ],
   "source": [
    "fuel_rtv.apply(lambda x: \n",
    "         (x['work_netpay_salaried1'] if x['formal_salaried1'] == 24.0 else 0) +\n",
    "         (x['work_netpay_salaried2'] if x['formal_salaried2'] == 24.0 else 0) +\n",
    "         (x['work_netpay_salaried3'] if x['formal_salaried3'] == 24.0 else 0),\n",
    "         axis=1).mean() * adjusted_cpi / rate"
   ]
  },
  {
   "cell_type": "code",
   "execution_count": 418,
   "id": "a17c59fb-3416-4aa5-a5e3-0d0dbd34c0a8",
   "metadata": {},
   "outputs": [],
   "source": [
    "fuel_peer = peer[(peer['formal_salaried1'] == 24.0) | (peer['formal_salaried2'] == 24.0) | (peer['formal_salaried3'] == 24.0)][['formal_salaried1', 'work_netpay_salaried1', 'formal_salaried2', 'work_netpay_salaried2', 'formal_salaried3', 'work_netpay_salaried3']]"
   ]
  },
  {
   "cell_type": "code",
   "execution_count": 419,
   "id": "efcdd737-12f6-4f15-a13e-06359ef69ac7",
   "metadata": {},
   "outputs": [
    {
     "data": {
      "text/plain": [
       "45.93138888888889"
      ]
     },
     "execution_count": 419,
     "metadata": {},
     "output_type": "execute_result"
    }
   ],
   "source": [
    "fuel_peer.apply(lambda x: \n",
    "         (x['work_netpay_salaried1'] if x['formal_salaried1'] == 24.0 else 0) +\n",
    "         (x['work_netpay_salaried2'] if x['formal_salaried2'] == 24.0 else 0) +\n",
    "         (x['work_netpay_salaried3'] if x['formal_salaried3'] == 24.0 else 0),\n",
    "         axis=1).mean() * adjusted_cpi / rate"
   ]
  },
  {
   "cell_type": "code",
   "execution_count": null,
   "id": "addf806e-655e-4a31-9606-5ba15ca9cf7a",
   "metadata": {},
   "outputs": [],
   "source": []
  }
 ],
 "metadata": {
  "kernelspec": {
   "display_name": "Python 3 (ipykernel)",
   "language": "python",
   "name": "python3"
  },
  "language_info": {
   "codemirror_mode": {
    "name": "ipython",
    "version": 3
   },
   "file_extension": ".py",
   "mimetype": "text/x-python",
   "name": "python",
   "nbconvert_exporter": "python",
   "pygments_lexer": "ipython3",
   "version": "3.10.12"
  }
 },
 "nbformat": 4,
 "nbformat_minor": 5
}
