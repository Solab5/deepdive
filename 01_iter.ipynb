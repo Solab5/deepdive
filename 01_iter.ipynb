{
 "cells": [
  {
   "cell_type": "code",
   "execution_count": 1,
   "id": "212be6e2-acf3-4835-b144-5468914a49fb",
   "metadata": {},
   "outputs": [],
   "source": [
    "from fastai.imports import *"
   ]
  },
  {
   "cell_type": "code",
   "execution_count": 2,
   "id": "8e9b3263-3810-4d4e-83c1-a13800fb1c3e",
   "metadata": {},
   "outputs": [],
   "source": [
    "df = pd.read_excel('All2021Cohorts_merged_outlier managed.xlsx', sheet_name='MergedRTV_Control2021',header=5)"
   ]
  },
  {
   "cell_type": "code",
   "execution_count": 3,
   "id": "1d66cf01-2d12-4402-898b-d1b10459d93f",
   "metadata": {},
   "outputs": [
    {
     "data": {
      "text/plain": [
       "(5796, 5663)"
      ]
     },
     "execution_count": 3,
     "metadata": {},
     "output_type": "execute_result"
    }
   ],
   "source": [
    "df.shape"
   ]
  },
  {
   "cell_type": "code",
   "execution_count": 4,
   "id": "5749c633-d98d-44ab-a6a4-5de706d59647",
   "metadata": {},
   "outputs": [
    {
     "data": {
      "text/plain": [
       "244723.66856452727"
      ]
     },
     "execution_count": 4,
     "metadata": {},
     "output_type": "execute_result"
    }
   ],
   "source": [
    "df['Total Savings (Ugx)'].mean()"
   ]
  },
  {
   "cell_type": "code",
   "execution_count": 5,
   "id": "e8aa4561-bd34-4e41-b791-084e1252c634",
   "metadata": {},
   "outputs": [],
   "source": [
    "peer = df[df['Status']=='PEER']\n",
    "rtv = df[df['Status']=='RTV']"
   ]
  },
  {
   "cell_type": "code",
   "execution_count": 6,
   "id": "afdbde8e-960c-482a-854e-213b6b49b337",
   "metadata": {},
   "outputs": [
    {
     "data": {
      "text/plain": [
       "((1899, 5663), (3897, 5663))"
      ]
     },
     "execution_count": 6,
     "metadata": {},
     "output_type": "execute_result"
    }
   ],
   "source": [
    "peer.shape, rtv.shape"
   ]
  },
  {
   "cell_type": "code",
   "execution_count": null,
   "id": "9c6825e9-3328-4022-b1a9-1935cedd6bdd",
   "metadata": {},
   "outputs": [],
   "source": []
  },
  {
   "cell_type": "code",
   "execution_count": 27,
   "id": "66b3c4dd-199c-4b46-a8a7-995393a97731",
   "metadata": {},
   "outputs": [
    {
     "data": {
      "text/plain": [
       "168926.27698788836"
      ]
     },
     "execution_count": 27,
     "metadata": {},
     "output_type": "execute_result"
    }
   ],
   "source": [
    "peer['Total Savings (Ugx)'].mean()"
   ]
  },
  {
   "cell_type": "code",
   "execution_count": null,
   "id": "737d9a8e-228d-497f-9982-625e9ddcbac9",
   "metadata": {},
   "outputs": [],
   "source": []
  },
  {
   "cell_type": "code",
   "execution_count": 8,
   "id": "79a86277-1282-4048-b866-ffa59ce82c05",
   "metadata": {},
   "outputs": [
    {
     "data": {
      "text/plain": [
       "mean      140661.400737\n",
       "median         0.000000\n",
       "Name: Loan Amount (Ugx), dtype: float64"
      ]
     },
     "execution_count": 8,
     "metadata": {},
     "output_type": "execute_result"
    }
   ],
   "source": [
    "peer['Loan Amount (Ugx)'].agg(['mean','median'])"
   ]
  },
  {
   "cell_type": "markdown",
   "id": "c10e3a22-be19-4dad-811d-ed1f42e874cd",
   "metadata": {},
   "source": [
    "## Percentage of household active"
   ]
  },
  {
   "cell_type": "code",
   "execution_count": 9,
   "id": "eeb8ea35-8b94-432e-b2be-92df433d0159",
   "metadata": {},
   "outputs": [
    {
     "data": {
      "text/plain": [
       "71.09004739336493"
      ]
     },
     "execution_count": 9,
     "metadata": {},
     "output_type": "execute_result"
    }
   ],
   "source": [
    "percent = (len(peer[peer['Total Savings (Ugx)'] != 0]) / len(peer)) * 100\n",
    "percent"
   ]
  },
  {
   "cell_type": "markdown",
   "id": "4a7e2bdf-f13d-4cd7-97fe-dae13b745579",
   "metadata": {},
   "source": [
    "## Total Outstanding Data"
   ]
  },
  {
   "cell_type": "code",
   "execution_count": 10,
   "id": "3c4a3720-5a3a-40ea-9acb-e5dadeefb874",
   "metadata": {},
   "outputs": [],
   "source": [
    "Total_outstanding_debt = (peer[['bank_loan_remaining',\n",
    "                            'sacco_loan_remaining',\n",
    "                            'shop_keeper_loan_remaining',\n",
    "                            'family_friend_loan_remaining',\n",
    "                            'rtv_vsla_loan_remaining',\n",
    "                            'other_village_VSLA_loan_remaining',\n",
    "                            'money_lender_loan_remaining',\n",
    "                            'other_loan_source_loan_remaining']].sum(axis=1)).mean()"
   ]
  },
  {
   "cell_type": "code",
   "execution_count": 11,
   "id": "b89b8f4c-cfd9-4479-80f0-2713668c7001",
   "metadata": {},
   "outputs": [
    {
     "data": {
      "text/plain": [
       "119914.48762506583"
      ]
     },
     "execution_count": 11,
     "metadata": {},
     "output_type": "execute_result"
    }
   ],
   "source": [
    "Total_outstanding_debt"
   ]
  },
  {
   "cell_type": "markdown",
   "id": "e54beb3d-2ba3-40d2-b058-d6f8ae8c2a5b",
   "metadata": {},
   "source": [
    "## Loan in the first 12 months"
   ]
  },
  {
   "cell_type": "code",
   "execution_count": 12,
   "id": "4dfaabe4-9e4c-409f-a3d2-0646ec46f3b4",
   "metadata": {},
   "outputs": [
    {
     "data": {
      "text/plain": [
       "borrowed_past_12_months\n",
       "0    84.518167\n",
       "1    15.481833\n",
       "Name: proportion, dtype: float64"
      ]
     },
     "execution_count": 12,
     "metadata": {},
     "output_type": "execute_result"
    }
   ],
   "source": [
    "peer['borrowed_past_12_months'].value_counts(normalize=True)*100"
   ]
  },
  {
   "cell_type": "markdown",
   "id": "ed1e4bac-15d1-451a-be30-06940d434bc7",
   "metadata": {},
   "source": [
    "## Interest Rate"
   ]
  },
  {
   "cell_type": "code",
   "execution_count": 13,
   "id": "9f222863-b59c-4918-a946-5b232ea205d9",
   "metadata": {},
   "outputs": [
    {
     "data": {
      "text/plain": [
       "0.8042785676671932"
      ]
     },
     "execution_count": 13,
     "metadata": {},
     "output_type": "execute_result"
    }
   ],
   "source": [
    "peer['Interest'].mean()"
   ]
  },
  {
   "cell_type": "markdown",
   "id": "0ef61ae6-4190-4143-94c0-f140d6c84887",
   "metadata": {},
   "source": [
    "## Business Income"
   ]
  },
  {
   "cell_type": "code",
   "execution_count": 14,
   "id": "5283a512-3fd5-4293-a541-f84e583cff02",
   "metadata": {},
   "outputs": [
    {
     "data": {
      "text/plain": [
       "45.578185389180646"
      ]
     },
     "execution_count": 14,
     "metadata": {},
     "output_type": "execute_result"
    }
   ],
   "source": [
    "peer['Personal Business & Self Employment (USD)'].mean()"
   ]
  },
  {
   "cell_type": "markdown",
   "id": "5a538388-3518-46da-baa0-ee0ffcf52518",
   "metadata": {},
   "source": [
    "## Seasonal Income"
   ]
  },
  {
   "cell_type": "code",
   "execution_count": 15,
   "id": "6bb4704e-f406-426b-b63d-cf927ebca3ee",
   "metadata": {},
   "outputs": [
    {
     "data": {
      "text/plain": [
       "56.30513499281272"
      ]
     },
     "execution_count": 15,
     "metadata": {},
     "output_type": "execute_result"
    }
   ],
   "source": [
    "peer['Seasonal Crops Income (USD)'].mean()"
   ]
  },
  {
   "cell_type": "code",
   "execution_count": 16,
   "id": "4726ead9-d3d1-4a19-8a03-8970a92b1f2b",
   "metadata": {},
   "outputs": [
    {
     "data": {
      "text/plain": [
       "221.33064116248948"
      ]
     },
     "execution_count": 16,
     "metadata": {},
     "output_type": "execute_result"
    }
   ],
   "source": [
    "peer['Seasonal  Agriculture Value (USD)'].mean()"
   ]
  },
  {
   "cell_type": "code",
   "execution_count": 17,
   "id": "80e38e7a-6771-4d7f-88ed-e9edbe1d5f29",
   "metadata": {},
   "outputs": [
    {
     "data": {
      "text/plain": [
       "12.037288473307433"
      ]
     },
     "execution_count": 17,
     "metadata": {},
     "output_type": "execute_result"
    }
   ],
   "source": [
    "peer['Livestock Income (USD)'].mean()"
   ]
  },
  {
   "cell_type": "code",
   "execution_count": 18,
   "id": "83f5d2a8-756c-405f-ab68-4c1b1b196653",
   "metadata": {},
   "outputs": [
    {
     "data": {
      "text/plain": [
       "122.66399100522324"
      ]
     },
     "execution_count": 18,
     "metadata": {},
     "output_type": "execute_result"
    }
   ],
   "source": [
    "peer['Assets (USD)'].mean()"
   ]
  },
  {
   "cell_type": "code",
   "execution_count": 19,
   "id": "9d864502-9ce7-4a10-8e22-2d2c870f6e28",
   "metadata": {},
   "outputs": [
    {
     "data": {
      "text/plain": [
       "339.49751220414726"
      ]
     },
     "execution_count": 19,
     "metadata": {},
     "output_type": "execute_result"
    }
   ],
   "source": [
    "peer['HH Income (USD)'].mean()"
   ]
  },
  {
   "cell_type": "code",
   "execution_count": 20,
   "id": "580df6f7-e22d-4f53-b238-cec398ea3701",
   "metadata": {},
   "outputs": [
    {
     "data": {
      "text/plain": [
       "587.336035324424"
      ]
     },
     "execution_count": 20,
     "metadata": {},
     "output_type": "execute_result"
    }
   ],
   "source": [
    "peer['HH Income + Consumption + Residues (USD)'].mean()"
   ]
  },
  {
   "cell_type": "code",
   "execution_count": 21,
   "id": "bcfa1c34-890a-4023-a9df-0c6b54d46a0e",
   "metadata": {},
   "outputs": [
    {
     "data": {
      "text/plain": [
       "0.9301301704223213"
      ]
     },
     "execution_count": 21,
     "metadata": {},
     "output_type": "execute_result"
    }
   ],
   "source": [
    "peer['HH Income/Day (USD) '].mean()"
   ]
  },
  {
   "cell_type": "code",
   "execution_count": 25,
   "id": "98f18581-0255-4e17-bd85-d3d0282150aa",
   "metadata": {},
   "outputs": [
    {
     "data": {
      "text/plain": [
       "1.6091398228066411"
      ]
     },
     "execution_count": 25,
     "metadata": {},
     "output_type": "execute_result"
    }
   ],
   "source": [
    "peer['HH Income + Consumption + Residues/Day (USD)'].mean()"
   ]
  },
  {
   "cell_type": "markdown",
   "id": "acbab0b8-6a13-4ad9-8063-e8d14bf1f44d",
   "metadata": {},
   "source": [
    "## Purpose of the Loan"
   ]
  },
  {
   "cell_type": "markdown",
   "id": "54faadd8-a09d-400a-b80b-f518de9e4bda",
   "metadata": {},
   "source": [
    "1\tSchool Fees\r\n",
    "2\tHome construction\r\n",
    "3\tBusiness\r\n",
    "4\tAgriculture inputs\r\n",
    "5\tMedicine and Sickness\r\n",
    "6\tLivestock\r\n",
    "7\tBuying land\r\n",
    "8\tHousehold items\r\n",
    "9\tTo repay other debts\r\n",
    "97\tOthers97\tOthers97\tOthers"
   ]
  },
  {
   "cell_type": "code",
   "execution_count": 81,
   "id": "259a8490-ad4d-4db5-8fa0-ad6dc7432e3b",
   "metadata": {},
   "outputs": [
    {
     "data": {
      "text/plain": [
       "purpose_for_borrow\n",
       "1.0     34.353741\n",
       "4.0     17.687075\n",
       "3.0     11.904762\n",
       "2.0      8.503401\n",
       "5.0      7.142857\n",
       "8.0      6.462585\n",
       "7.0      5.442177\n",
       "97.0     4.081633\n",
       "9.0      2.380952\n",
       "6.0      2.040816\n",
       "Name: proportion, dtype: float64"
      ]
     },
     "execution_count": 81,
     "metadata": {},
     "output_type": "execute_result"
    }
   ],
   "source": [
    "peer['purpose_for_borrow'].value_counts(normalize=True)*100"
   ]
  },
  {
   "cell_type": "markdown",
   "id": "181e64a7-e4f7-4678-b72a-beaa62fee3cf",
   "metadata": {},
   "source": [
    "## Loan Sources"
   ]
  },
  {
   "cell_type": "markdown",
   "id": "4c4abc76-b531-4ea0-a7d7-b22061523925",
   "metadata": {},
   "source": [
    "1\tBank Account\r\n",
    "2\tSaving and Credit cooperatives (SACCO)\r\n",
    "3\tA mobile Money accounts\r\n",
    "4\tWith a shopkeeper\r\n",
    "5\tWith family and friends\r\n",
    "6\tAt a safe place at home\r\n",
    "7\tRTV VSLA (Cash round)\r\n",
    "8\tOther VSLA\r\n",
    "97\tOther\r\n",
    "99\tNo savings"
   ]
  },
  {
   "cell_type": "code",
   "execution_count": 116,
   "id": "d0f04154-8fff-4f6a-b1ac-73515d3d92e9",
   "metadata": {},
   "outputs": [
    {
     "data": {
      "text/plain": [
       "Loan_from_1\n",
       "0.0    88.435374\n",
       "1.0    11.564626\n",
       "Name: proportion, dtype: float64"
      ]
     },
     "execution_count": 116,
     "metadata": {},
     "output_type": "execute_result"
    }
   ],
   "source": [
    "peer['Loan_from_1'].value_counts(normalize=True)*100"
   ]
  },
  {
   "cell_type": "code",
   "execution_count": 117,
   "id": "10d3487b-c423-496e-8910-11a23a414a5e",
   "metadata": {},
   "outputs": [
    {
     "data": {
      "text/plain": [
       "Loan_from_2\n",
       "0.0    73.469388\n",
       "1.0    26.530612\n",
       "Name: proportion, dtype: float64"
      ]
     },
     "execution_count": 117,
     "metadata": {},
     "output_type": "execute_result"
    }
   ],
   "source": [
    "peer['Loan_from_2'].value_counts(normalize=True)*100"
   ]
  },
  {
   "cell_type": "code",
   "execution_count": 118,
   "id": "d0b50a9f-ba96-48d1-9fed-9fde5739231a",
   "metadata": {},
   "outputs": [
    {
     "data": {
      "text/plain": [
       "Loan_from_7\n",
       "0.0    90.47619\n",
       "1.0     9.52381\n",
       "Name: proportion, dtype: float64"
      ]
     },
     "execution_count": 118,
     "metadata": {},
     "output_type": "execute_result"
    }
   ],
   "source": [
    "peer['Loan_from_7'].value_counts(normalize=True)*100"
   ]
  },
  {
   "cell_type": "code",
   "execution_count": 119,
   "id": "cf95abf2-48b2-42ee-9a07-bd8f32c1f18c",
   "metadata": {},
   "outputs": [
    {
     "data": {
      "text/plain": [
       "Loan_from_3\n",
       "0.0    100.0\n",
       "Name: proportion, dtype: float64"
      ]
     },
     "execution_count": 119,
     "metadata": {},
     "output_type": "execute_result"
    }
   ],
   "source": [
    "peer['Loan_from_3'].value_counts(normalize=True)*100"
   ]
  },
  {
   "cell_type": "code",
   "execution_count": 124,
   "id": "bc5c7638-a88d-4a7c-8f31-9512a8d6d897",
   "metadata": {},
   "outputs": [
    {
     "data": {
      "text/plain": [
       "Loan_from_8\n",
       "0.0    59.183673\n",
       "1.0    40.816327\n",
       "Name: proportion, dtype: float64"
      ]
     },
     "execution_count": 124,
     "metadata": {},
     "output_type": "execute_result"
    }
   ],
   "source": [
    "peer['Loan_from_8'].value_counts(normalize=True)*100"
   ]
  },
  {
   "cell_type": "code",
   "execution_count": 125,
   "id": "b67b5846-cd5b-4a2b-8114-9891471cd389",
   "metadata": {},
   "outputs": [
    {
     "data": {
      "text/plain": [
       "Loan_from_97\n",
       "0.0    96.598639\n",
       "1.0     3.401361\n",
       "Name: proportion, dtype: float64"
      ]
     },
     "execution_count": 125,
     "metadata": {},
     "output_type": "execute_result"
    }
   ],
   "source": [
    "peer['Loan_from_97'].value_counts(normalize=True)*100"
   ]
  },
  {
   "cell_type": "code",
   "execution_count": 126,
   "id": "4c9882ab-81fb-46e0-a56a-1df30d600487",
   "metadata": {},
   "outputs": [
    {
     "data": {
      "text/plain": [
       "Loan_from_99\n",
       "0.0    98.979592\n",
       "1.0     1.020408\n",
       "Name: proportion, dtype: float64"
      ]
     },
     "execution_count": 126,
     "metadata": {},
     "output_type": "execute_result"
    }
   ],
   "source": [
    "peer['Loan_from_99'].value_counts(normalize=True)*100"
   ]
  },
  {
   "cell_type": "markdown",
   "id": "5e3ec5fb-4a2e-464b-9185-0765e5cd6829",
   "metadata": {},
   "source": [
    "## Interests Rates"
   ]
  },
  {
   "cell_type": "code",
   "execution_count": 140,
   "id": "f583c997-22ce-4022-bb47-7bff2e7b1a66",
   "metadata": {},
   "outputs": [
    {
     "data": {
      "text/plain": [
       "4.133823529411765"
      ]
     },
     "execution_count": 140,
     "metadata": {},
     "output_type": "execute_result"
    }
   ],
   "source": [
    "peer['bank_loan_interest'].mean()"
   ]
  },
  {
   "cell_type": "code",
   "execution_count": 141,
   "id": "968fd200-7af8-4ad5-95cf-66d4a0b03218",
   "metadata": {},
   "outputs": [
    {
     "data": {
      "text/plain": [
       "5.44551282051282"
      ]
     },
     "execution_count": 141,
     "metadata": {},
     "output_type": "execute_result"
    }
   ],
   "source": [
    "peer['sacco_loan_interest'].mean()"
   ]
  },
  {
   "cell_type": "code",
   "execution_count": 142,
   "id": "a95d3a97-8df2-4d7c-9185-e9f413787cd7",
   "metadata": {},
   "outputs": [
    {
     "data": {
      "text/plain": [
       "5.5625"
      ]
     },
     "execution_count": 142,
     "metadata": {},
     "output_type": "execute_result"
    }
   ],
   "source": [
    "peer['rtv_vsla_loan_interest'].mean()"
   ]
  },
  {
   "cell_type": "code",
   "execution_count": null,
   "id": "e2a86d67-0360-43ce-9299-06be0cfc32e0",
   "metadata": {},
   "outputs": [],
   "source": []
  }
 ],
 "metadata": {
  "kernelspec": {
   "display_name": "Python 3 (ipykernel)",
   "language": "python",
   "name": "python3"
  },
  "language_info": {
   "codemirror_mode": {
    "name": "ipython",
    "version": 3
   },
   "file_extension": ".py",
   "mimetype": "text/x-python",
   "name": "python",
   "nbconvert_exporter": "python",
   "pygments_lexer": "ipython3",
   "version": "3.10.12"
  }
 },
 "nbformat": 4,
 "nbformat_minor": 5
}
