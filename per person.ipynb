{
 "cells": [
  {
   "cell_type": "code",
   "execution_count": 2,
   "id": "9d52116b-f6c0-4b3d-92b5-8a1ce2304c97",
   "metadata": {},
   "outputs": [],
   "source": [
    "import pandas as pd"
   ]
  },
  {
   "cell_type": "markdown",
   "id": "42b554d3-9649-4b14-8cf3-24fe5dd3d6d0",
   "metadata": {},
   "source": [
    "## Graduating cohorts"
   ]
  },
  {
   "cell_type": "code",
   "execution_count": 3,
   "id": "a70e642f-cb4e-49d4-b105-e1d4444935f6",
   "metadata": {},
   "outputs": [],
   "source": [
    "df1 = pd.read_excel('All2021Cohorts_merged_outlier managed.xlsx', sheet_name='MergedRTV_Control2021',header=5)"
   ]
  },
  {
   "cell_type": "code",
   "execution_count": 4,
   "id": "be94a17c-c3a3-4af8-b0cb-fd61b931ebb2",
   "metadata": {},
   "outputs": [],
   "source": [
    "df = df1[df1['Status'] == \"RTV\"]"
   ]
  },
  {
   "cell_type": "code",
   "execution_count": 5,
   "id": "a7f75b1f-3b1f-4431-adc7-f3be620905ce",
   "metadata": {},
   "outputs": [
    {
     "data": {
      "text/plain": [
       "(3897, 5670)"
      ]
     },
     "execution_count": 5,
     "metadata": {},
     "output_type": "execute_result"
    }
   ],
   "source": [
    "df.shape"
   ]
  },
  {
   "cell_type": "code",
   "execution_count": 6,
   "id": "389e475d-6b97-45f8-b69e-c00c31f02057",
   "metadata": {},
   "outputs": [],
   "source": [
    "boundaries = [0, 0.75, 1.25, 2, 3, float('inf')]\n",
    "labels = [\"0-<0.75/Day\", \"0.75-<1.25/Day\", \"1.25-<2/Day\", \"2-<3/Day\", \"3+/Day\"]"
   ]
  },
  {
   "cell_type": "code",
   "execution_count": 7,
   "id": "eb10c443-8f31-4579-b607-2bed98a1320c",
   "metadata": {},
   "outputs": [
    {
     "name": "stderr",
     "output_type": "stream",
     "text": [
      "/var/folders/xd/0btgr76j2zxc4__ynw0yhwbm0000gn/T/ipykernel_34903/2164301761.py:1: SettingWithCopyWarning: \n",
      "A value is trying to be set on a copy of a slice from a DataFrame.\n",
      "Try using .loc[row_indexer,col_indexer] = value instead\n",
      "\n",
      "See the caveats in the documentation: https://pandas.pydata.org/pandas-docs/stable/user_guide/indexing.html#returning-a-view-versus-a-copy\n",
      "  df['income_group'] = pd.cut(df['HH Income + Consumption + Residues/Day (USD_adult_equiv_adj)'], bins=boundaries, labels=labels, right=False)\n"
     ]
    }
   ],
   "source": [
    "df['income_group'] = pd.cut(df['HH Income + Consumption + Residues/Day (USD_adult_equiv_adj)'], bins=boundaries, labels=labels, right=False)"
   ]
  },
  {
   "cell_type": "code",
   "execution_count": 8,
   "id": "0bb315eb-1768-432d-86b6-92306630f074",
   "metadata": {},
   "outputs": [
    {
     "data": {
      "text/plain": [
       "income_group\n",
       "3+/Day            0.420580\n",
       "2-<3/Day          0.275340\n",
       "1.25-<2/Day       0.209392\n",
       "0.75-<1.25/Day    0.073646\n",
       "0-<0.75/Day       0.021042\n",
       "Name: proportion, dtype: float64"
      ]
     },
     "execution_count": 8,
     "metadata": {},
     "output_type": "execute_result"
    }
   ],
   "source": [
    "df['income_group'].value_counts(normalize=True)"
   ]
  },
  {
   "cell_type": "code",
   "execution_count": null,
   "id": "44a60e8d-df2f-4038-a256-26bddaee2806",
   "metadata": {},
   "outputs": [],
   "source": []
  },
  {
   "cell_type": "markdown",
   "id": "de38ef63-cddc-4cab-9a0f-5be6ef62a037",
   "metadata": {},
   "source": [
    "0-<2.15/Day\n",
    "2.15+/Day"
   ]
  },
  {
   "cell_type": "code",
   "execution_count": 9,
   "id": "9c17cec7-d7d4-4971-9e9f-3bbd5195da61",
   "metadata": {},
   "outputs": [],
   "source": [
    "boundaries = [0, 2.15,float('inf')]\n",
    "labels = [\"0-<2.15/Day\", \"3+/Day\"]"
   ]
  },
  {
   "cell_type": "code",
   "execution_count": 10,
   "id": "92ecdacc-68a3-49cc-a0ce-797eeefca9e4",
   "metadata": {},
   "outputs": [
    {
     "name": "stderr",
     "output_type": "stream",
     "text": [
      "/var/folders/xd/0btgr76j2zxc4__ynw0yhwbm0000gn/T/ipykernel_34903/1597046779.py:1: SettingWithCopyWarning: \n",
      "A value is trying to be set on a copy of a slice from a DataFrame.\n",
      "Try using .loc[row_indexer,col_indexer] = value instead\n",
      "\n",
      "See the caveats in the documentation: https://pandas.pydata.org/pandas-docs/stable/user_guide/indexing.html#returning-a-view-versus-a-copy\n",
      "  df['income_group_1'] = pd.cut(df['HH Income + Consumption + Residues/Day (USD_adult_equiv_adj)'], bins=boundaries, labels=labels, right=False)\n"
     ]
    }
   ],
   "source": [
    "df['income_group_1'] = pd.cut(df['HH Income + Consumption + Residues/Day (USD_adult_equiv_adj)'], bins=boundaries, labels=labels, right=False)"
   ]
  },
  {
   "cell_type": "code",
   "execution_count": 11,
   "id": "bb158f6e-db75-4bda-9301-822f261bac2b",
   "metadata": {},
   "outputs": [
    {
     "data": {
      "text/plain": [
       "income_group_1\n",
       "3+/Day         0.651783\n",
       "0-<2.15/Day    0.348217\n",
       "Name: proportion, dtype: float64"
      ]
     },
     "execution_count": 11,
     "metadata": {},
     "output_type": "execute_result"
    }
   ],
   "source": [
    "df['income_group_1'].value_counts(normalize=True)"
   ]
  },
  {
   "cell_type": "code",
   "execution_count": null,
   "id": "3ea01622-0235-449f-a761-521d989ce4e7",
   "metadata": {},
   "outputs": [],
   "source": []
  },
  {
   "cell_type": "code",
   "execution_count": null,
   "id": "b5a19630-80fd-4447-8618-4b513b53d197",
   "metadata": {},
   "outputs": [],
   "source": []
  },
  {
   "cell_type": "code",
   "execution_count": 12,
   "id": "bc6b7236-6045-4bf6-a5ff-82cf6118e95d",
   "metadata": {},
   "outputs": [],
   "source": [
    "boundaries_2 = [0, 0.75, 1.25, 2.15, 3, float('inf')]\n",
    "labels_2 = [\"0-<0.75/Day\", \"0.75-<1.25/Day\", \"1.25-<2.15/Day\", \"2.5-<3/Day\", \"3+/Day\"]"
   ]
  },
  {
   "cell_type": "markdown",
   "id": "a0ee2a4e-660c-4116-8fc5-e5f4a2cb7c82",
   "metadata": {},
   "source": [
    "0-<0.75/Day\n",
    "0.75-<1.25/Day\n",
    "1.25-<2.15/Day\n",
    "2.15-<3/Day\n",
    "3+/Day"
   ]
  },
  {
   "cell_type": "code",
   "execution_count": 13,
   "id": "f62fbc74-9738-4f8a-b4fe-c846394e4ac4",
   "metadata": {},
   "outputs": [
    {
     "name": "stderr",
     "output_type": "stream",
     "text": [
      "/var/folders/xd/0btgr76j2zxc4__ynw0yhwbm0000gn/T/ipykernel_34903/3197324783.py:1: SettingWithCopyWarning: \n",
      "A value is trying to be set on a copy of a slice from a DataFrame.\n",
      "Try using .loc[row_indexer,col_indexer] = value instead\n",
      "\n",
      "See the caveats in the documentation: https://pandas.pydata.org/pandas-docs/stable/user_guide/indexing.html#returning-a-view-versus-a-copy\n",
      "  df['income_group_2'] = pd.cut(df['HH Income + Consumption + Residues/Day (USD_adult_equiv_adj)'], bins=boundaries_2, labels=labels_2, right=False)\n"
     ]
    }
   ],
   "source": [
    "df['income_group_2'] = pd.cut(df['HH Income + Consumption + Residues/Day (USD_adult_equiv_adj)'], bins=boundaries_2, labels=labels_2, right=False)"
   ]
  },
  {
   "cell_type": "code",
   "execution_count": 14,
   "id": "91c2da82-6673-4ad6-bf5d-b8acda0671d0",
   "metadata": {},
   "outputs": [
    {
     "data": {
      "text/plain": [
       "income_group_2\n",
       "3+/Day            0.420580\n",
       "1.25-<2.15/Day    0.253528\n",
       "2.5-<3/Day        0.231203\n",
       "0.75-<1.25/Day    0.073646\n",
       "0-<0.75/Day       0.021042\n",
       "Name: proportion, dtype: float64"
      ]
     },
     "execution_count": 14,
     "metadata": {},
     "output_type": "execute_result"
    }
   ],
   "source": [
    "df['income_group_2'].value_counts(normalize=True)"
   ]
  },
  {
   "cell_type": "code",
   "execution_count": null,
   "id": "f5ba6e6d-841b-4e4e-8b88-8b87dcec450b",
   "metadata": {},
   "outputs": [],
   "source": []
  },
  {
   "cell_type": "code",
   "execution_count": null,
   "id": "bf5bbc92-3733-401e-8b8b-67cb68fc6ee0",
   "metadata": {},
   "outputs": [],
   "source": []
  },
  {
   "cell_type": "markdown",
   "id": "36f578a2-6c36-4fc2-9d9e-bd86fb035bb8",
   "metadata": {},
   "source": [
    "## Gender"
   ]
  },
  {
   "cell_type": "code",
   "execution_count": 6,
   "id": "00b2fdbf-1930-415c-a22d-d86c8f823b4e",
   "metadata": {},
   "outputs": [],
   "source": [
    "sex_mapping = {1: 'Male', 2: 'Female'}"
   ]
  },
  {
   "cell_type": "code",
   "execution_count": 16,
   "id": "7b20cde9-ed11-4f2c-b951-f4d5723b4bca",
   "metadata": {},
   "outputs": [
    {
     "name": "stderr",
     "output_type": "stream",
     "text": [
      "/var/folders/xd/0btgr76j2zxc4__ynw0yhwbm0000gn/T/ipykernel_34903/1841865522.py:1: SettingWithCopyWarning: \n",
      "A value is trying to be set on a copy of a slice from a DataFrame.\n",
      "Try using .loc[row_indexer,col_indexer] = value instead\n",
      "\n",
      "See the caveats in the documentation: https://pandas.pydata.org/pandas-docs/stable/user_guide/indexing.html#returning-a-view-versus-a-copy\n",
      "  df['Gender'] = df['hhh_sex'].replace(sex_mapping)\n"
     ]
    },
    {
     "data": {
      "text/plain": [
       "Gender\n",
       "Male      2780\n",
       "Female    1117\n",
       "Name: count, dtype: int64"
      ]
     },
     "execution_count": 16,
     "metadata": {},
     "output_type": "execute_result"
    }
   ],
   "source": [
    "df['Gender'] = df['hhh_sex'].replace(sex_mapping)\n",
    "df['Gender'].value_counts()"
   ]
  },
  {
   "cell_type": "code",
   "execution_count": 17,
   "id": "fdc23039-0782-412a-a55a-21761d7c8a19",
   "metadata": {},
   "outputs": [
    {
     "name": "stderr",
     "output_type": "stream",
     "text": [
      "/var/folders/xd/0btgr76j2zxc4__ynw0yhwbm0000gn/T/ipykernel_34903/3609605823.py:1: SettingWithCopyWarning: \n",
      "A value is trying to be set on a copy of a slice from a DataFrame.\n",
      "Try using .loc[row_indexer,col_indexer] = value instead\n",
      "\n",
      "See the caveats in the documentation: https://pandas.pydata.org/pandas-docs/stable/user_guide/indexing.html#returning-a-view-versus-a-copy\n",
      "  df['Household_Head_Gender'] = df['Gender']\n"
     ]
    }
   ],
   "source": [
    "df['Household_Head_Gender'] = df['Gender']"
   ]
  },
  {
   "cell_type": "code",
   "execution_count": 18,
   "id": "51a1c0e1-85ea-4366-9328-969cc7a6a769",
   "metadata": {},
   "outputs": [
    {
     "name": "stderr",
     "output_type": "stream",
     "text": [
      "/var/folders/xd/0btgr76j2zxc4__ynw0yhwbm0000gn/T/ipykernel_34903/1821649342.py:1: SettingWithCopyWarning: \n",
      "A value is trying to be set on a copy of a slice from a DataFrame.\n",
      "Try using .loc[row_indexer,col_indexer] = value instead\n",
      "\n",
      "See the caveats in the documentation: https://pandas.pydata.org/pandas-docs/stable/user_guide/indexing.html#returning-a-view-versus-a-copy\n",
      "  df['Household_Head_Gender'] = df.apply(lambda row: 'Youth Headed' if row['hhh_age'] <= 30 else str(row['Household_Head_Gender']) + ' Headed', axis=1)\n"
     ]
    }
   ],
   "source": [
    "df['Household_Head_Gender'] = df.apply(lambda row: 'Youth Headed' if row['hhh_age'] <= 30 else str(row['Household_Head_Gender']) + ' Headed', axis=1)"
   ]
  },
  {
   "cell_type": "code",
   "execution_count": 19,
   "id": "b152a2d4-5206-4e78-a01f-c6dbdca3739e",
   "metadata": {},
   "outputs": [
    {
     "data": {
      "text/plain": [
       "Household_Head_Gender\n",
       "Male Headed      2422\n",
       "Female Headed    1070\n",
       "Youth Headed      405\n",
       "Name: count, dtype: int64"
      ]
     },
     "execution_count": 19,
     "metadata": {},
     "output_type": "execute_result"
    }
   ],
   "source": [
    "df['Household_Head_Gender'].value_counts()"
   ]
  },
  {
   "cell_type": "code",
   "execution_count": 20,
   "id": "0dab474f-01cd-4c21-be0e-9eaffa4e71ec",
   "metadata": {},
   "outputs": [
    {
     "data": {
      "text/html": [
       "<div>\n",
       "<style scoped>\n",
       "    .dataframe tbody tr th:only-of-type {\n",
       "        vertical-align: middle;\n",
       "    }\n",
       "\n",
       "    .dataframe tbody tr th {\n",
       "        vertical-align: top;\n",
       "    }\n",
       "\n",
       "    .dataframe thead th {\n",
       "        text-align: right;\n",
       "    }\n",
       "</style>\n",
       "<table border=\"1\" class=\"dataframe\">\n",
       "  <thead>\n",
       "    <tr style=\"text-align: right;\">\n",
       "      <th></th>\n",
       "      <th>HH Income/Day (USD_adult_equiv_adj)</th>\n",
       "      <th>HH Income + Consumption + Residues/Day (USD_adult_equiv_adj)</th>\n",
       "    </tr>\n",
       "    <tr>\n",
       "      <th>Household_Head_Gender</th>\n",
       "      <th></th>\n",
       "      <th></th>\n",
       "    </tr>\n",
       "  </thead>\n",
       "  <tbody>\n",
       "    <tr>\n",
       "      <th>Female Headed</th>\n",
       "      <td>1.925332</td>\n",
       "      <td>3.380974</td>\n",
       "    </tr>\n",
       "    <tr>\n",
       "      <th>Male Headed</th>\n",
       "      <td>1.813333</td>\n",
       "      <td>3.021307</td>\n",
       "    </tr>\n",
       "    <tr>\n",
       "      <th>Youth Headed</th>\n",
       "      <td>1.894796</td>\n",
       "      <td>3.118754</td>\n",
       "    </tr>\n",
       "  </tbody>\n",
       "</table>\n",
       "</div>"
      ],
      "text/plain": [
       "                       HH Income/Day (USD_adult_equiv_adj)  \\\n",
       "Household_Head_Gender                                        \n",
       "Female Headed                                     1.925332   \n",
       "Male Headed                                       1.813333   \n",
       "Youth Headed                                      1.894796   \n",
       "\n",
       "                       HH Income + Consumption + Residues/Day (USD_adult_equiv_adj)  \n",
       "Household_Head_Gender                                                                \n",
       "Female Headed                                                   3.380974             \n",
       "Male Headed                                                     3.021307             \n",
       "Youth Headed                                                    3.118754             "
      ]
     },
     "execution_count": 20,
     "metadata": {},
     "output_type": "execute_result"
    }
   ],
   "source": [
    "df.groupby('Household_Head_Gender')[['HH Income/Day (USD_adult_equiv_adj)','HH Income + Consumption + Residues/Day (USD_adult_equiv_adj)']].mean()"
   ]
  },
  {
   "cell_type": "code",
   "execution_count": 21,
   "id": "7464675f-502d-4da2-8e40-a871c1ebd0f3",
   "metadata": {},
   "outputs": [
    {
     "data": {
      "text/html": [
       "<div>\n",
       "<style scoped>\n",
       "    .dataframe tbody tr th:only-of-type {\n",
       "        vertical-align: middle;\n",
       "    }\n",
       "\n",
       "    .dataframe tbody tr th {\n",
       "        vertical-align: top;\n",
       "    }\n",
       "\n",
       "    .dataframe thead th {\n",
       "        text-align: right;\n",
       "    }\n",
       "</style>\n",
       "<table border=\"1\" class=\"dataframe\">\n",
       "  <thead>\n",
       "    <tr style=\"text-align: right;\">\n",
       "      <th></th>\n",
       "      <th>HH Income/Day (USD_adult_equiv_adj)</th>\n",
       "      <th>HH Income + Consumption + Residues/Day (USD_adult_equiv_adj)</th>\n",
       "    </tr>\n",
       "    <tr>\n",
       "      <th>Household_Head_Gender</th>\n",
       "      <th></th>\n",
       "      <th></th>\n",
       "    </tr>\n",
       "  </thead>\n",
       "  <tbody>\n",
       "    <tr>\n",
       "      <th>Female Headed</th>\n",
       "      <td>1.486138</td>\n",
       "      <td>2.879421</td>\n",
       "    </tr>\n",
       "    <tr>\n",
       "      <th>Male Headed</th>\n",
       "      <td>1.413147</td>\n",
       "      <td>2.615283</td>\n",
       "    </tr>\n",
       "    <tr>\n",
       "      <th>Youth Headed</th>\n",
       "      <td>1.488323</td>\n",
       "      <td>2.704357</td>\n",
       "    </tr>\n",
       "  </tbody>\n",
       "</table>\n",
       "</div>"
      ],
      "text/plain": [
       "                       HH Income/Day (USD_adult_equiv_adj)  \\\n",
       "Household_Head_Gender                                        \n",
       "Female Headed                                     1.486138   \n",
       "Male Headed                                       1.413147   \n",
       "Youth Headed                                      1.488323   \n",
       "\n",
       "                       HH Income + Consumption + Residues/Day (USD_adult_equiv_adj)  \n",
       "Household_Head_Gender                                                                \n",
       "Female Headed                                                   2.879421             \n",
       "Male Headed                                                     2.615283             \n",
       "Youth Headed                                                    2.704357             "
      ]
     },
     "execution_count": 21,
     "metadata": {},
     "output_type": "execute_result"
    }
   ],
   "source": [
    "df.groupby('Household_Head_Gender')[['HH Income/Day (USD_adult_equiv_adj)',\n",
    "                                     'HH Income + Consumption + Residues/Day (USD_adult_equiv_adj)']].median()"
   ]
  },
  {
   "cell_type": "code",
   "execution_count": 22,
   "id": "f70b58e1-71a0-47d6-85c6-fe31cc030000",
   "metadata": {},
   "outputs": [
    {
     "data": {
      "text/plain": [
       "(1.8525508053997848, 1.4467107542912363)"
      ]
     },
     "execution_count": 22,
     "metadata": {},
     "output_type": "execute_result"
    }
   ],
   "source": [
    "df['HH Income/Day (USD_adult_equiv_adj)'].mean(), df['HH Income/Day (USD_adult_equiv_adj)'].median()"
   ]
  },
  {
   "cell_type": "code",
   "execution_count": 23,
   "id": "e139f316-b6ef-4ce4-8e71-249d46db74ad",
   "metadata": {},
   "outputs": [
    {
     "data": {
      "text/plain": [
       "(3.1301879342027688, 2.7047657594140104)"
      ]
     },
     "execution_count": 23,
     "metadata": {},
     "output_type": "execute_result"
    }
   ],
   "source": [
    "df['HH Income + Consumption + Residues/Day (USD_adult_equiv_adj)'].mean(), df['HH Income + Consumption + Residues/Day (USD_adult_equiv_adj)'].median()"
   ]
  },
  {
   "cell_type": "code",
   "execution_count": null,
   "id": "ff414dfc-d9ae-4570-bd65-30a91960664a",
   "metadata": {},
   "outputs": [],
   "source": []
  },
  {
   "cell_type": "code",
   "execution_count": 24,
   "id": "89cfdde1-d994-4c9b-9a42-519a730f2583",
   "metadata": {},
   "outputs": [
    {
     "data": {
      "text/plain": [
       "(3897, 5675)"
      ]
     },
     "execution_count": 24,
     "metadata": {},
     "output_type": "execute_result"
    }
   ],
   "source": [
    "df.shape"
   ]
  },
  {
   "cell_type": "code",
   "execution_count": 25,
   "id": "1bd10ae7-2acc-4946-ba17-742aead1f57b",
   "metadata": {},
   "outputs": [
    {
     "data": {
      "text/plain": [
       "('hhh_age', 'hh_size', 'Size_land_owned')"
      ]
     },
     "execution_count": 25,
     "metadata": {},
     "output_type": "execute_result"
    }
   ],
   "source": [
    "'hhh_age', 'hh_size', 'Size_land_owned'"
   ]
  },
  {
   "cell_type": "code",
   "execution_count": 26,
   "id": "95c3660e-426c-4dcb-b057-511ba5639b72",
   "metadata": {},
   "outputs": [
    {
     "data": {
      "text/html": [
       "<div>\n",
       "<style scoped>\n",
       "    .dataframe tbody tr th:only-of-type {\n",
       "        vertical-align: middle;\n",
       "    }\n",
       "\n",
       "    .dataframe tbody tr th {\n",
       "        vertical-align: top;\n",
       "    }\n",
       "\n",
       "    .dataframe thead th {\n",
       "        text-align: right;\n",
       "    }\n",
       "</style>\n",
       "<table border=\"1\" class=\"dataframe\">\n",
       "  <thead>\n",
       "    <tr style=\"text-align: right;\">\n",
       "      <th></th>\n",
       "      <th>hhh_age</th>\n",
       "      <th>hh_size</th>\n",
       "      <th>Size_land_owned</th>\n",
       "      <th>HH Income + Consumption + Residues/Day (USD_adult_equiv_adj)</th>\n",
       "    </tr>\n",
       "    <tr>\n",
       "      <th>Quartile</th>\n",
       "      <th></th>\n",
       "      <th></th>\n",
       "      <th></th>\n",
       "      <th></th>\n",
       "    </tr>\n",
       "  </thead>\n",
       "  <tbody>\n",
       "    <tr>\n",
       "      <th>Group 1</th>\n",
       "      <td>51.012868</td>\n",
       "      <td>4.913603</td>\n",
       "      <td>1.776384</td>\n",
       "      <td>3.140071</td>\n",
       "    </tr>\n",
       "    <tr>\n",
       "      <th>Group 2</th>\n",
       "      <td>52.107073</td>\n",
       "      <td>4.766208</td>\n",
       "      <td>1.849960</td>\n",
       "      <td>3.091513</td>\n",
       "    </tr>\n",
       "    <tr>\n",
       "      <th>Group 3</th>\n",
       "      <td>51.133534</td>\n",
       "      <td>4.706827</td>\n",
       "      <td>2.104562</td>\n",
       "      <td>3.144407</td>\n",
       "    </tr>\n",
       "    <tr>\n",
       "      <th>Group 4</th>\n",
       "      <td>49.544901</td>\n",
       "      <td>4.959665</td>\n",
       "      <td>1.991133</td>\n",
       "      <td>3.141367</td>\n",
       "    </tr>\n",
       "  </tbody>\n",
       "</table>\n",
       "</div>"
      ],
      "text/plain": [
       "            hhh_age   hh_size  Size_land_owned  \\\n",
       "Quartile                                         \n",
       "Group 1   51.012868  4.913603         1.776384   \n",
       "Group 2   52.107073  4.766208         1.849960   \n",
       "Group 3   51.133534  4.706827         2.104562   \n",
       "Group 4   49.544901  4.959665         1.991133   \n",
       "\n",
       "          HH Income + Consumption + Residues/Day (USD_adult_equiv_adj)  \n",
       "Quartile                                                                \n",
       "Group 1                                            3.140071             \n",
       "Group 2                                            3.091513             \n",
       "Group 3                                            3.144407             \n",
       "Group 4                                            3.141367             "
      ]
     },
     "execution_count": 26,
     "metadata": {},
     "output_type": "execute_result"
    }
   ],
   "source": [
    "df.groupby('Quartile')[['hhh_age', 'hh_size', 'Size_land_owned','HH Income + Consumption + Residues/Day (USD_adult_equiv_adj)']].mean()"
   ]
  },
  {
   "cell_type": "code",
   "execution_count": 27,
   "id": "bdaf9693-034e-4d96-b978-b56f6a6d0b4e",
   "metadata": {},
   "outputs": [
    {
     "data": {
      "text/plain": [
       "0       1.378681\n",
       "1       1.388220\n",
       "2       1.633805\n",
       "3       0.904773\n",
       "4       1.470823\n",
       "          ...   \n",
       "3892    7.459116\n",
       "3893    5.642950\n",
       "3894    7.050770\n",
       "3895    9.588845\n",
       "3896    6.140915\n",
       "Name: HH Income + Consumption + Residues/Day (USD_adult_equiv_adj), Length: 3897, dtype: float64"
      ]
     },
     "execution_count": 27,
     "metadata": {},
     "output_type": "execute_result"
    }
   ],
   "source": [
    "df['HH Income + Consumption + Residues/Day (USD_adult_equiv_adj)']"
   ]
  },
  {
   "cell_type": "code",
   "execution_count": 28,
   "id": "0dd25e56-76a6-41ad-bd41-ebdf2bef86eb",
   "metadata": {},
   "outputs": [
    {
     "name": "stderr",
     "output_type": "stream",
     "text": [
      "/var/folders/xd/0btgr76j2zxc4__ynw0yhwbm0000gn/T/ipykernel_34903/3415046989.py:1: SettingWithCopyWarning: \n",
      "A value is trying to be set on a copy of a slice from a DataFrame.\n",
      "Try using .loc[row_indexer,col_indexer] = value instead\n",
      "\n",
      "See the caveats in the documentation: https://pandas.pydata.org/pandas-docs/stable/user_guide/indexing.html#returning-a-view-versus-a-copy\n",
      "  df['above2'] = df['HH Income + Consumption + Residues/Day (USD_adult_equiv_adj)'].apply(lambda x: \"above 2.15\" if x >= 2.15 else \"below 2.15\")\n"
     ]
    }
   ],
   "source": [
    "df['above2'] = df['HH Income + Consumption + Residues/Day (USD_adult_equiv_adj)'].apply(lambda x: \"above 2.15\" if x >= 2.15 else \"below 2.15\")"
   ]
  },
  {
   "cell_type": "code",
   "execution_count": 29,
   "id": "b6f436c3-dad6-4d55-8f65-5aa30c5471fa",
   "metadata": {},
   "outputs": [
    {
     "data": {
      "text/plain": [
       "above2\n",
       "above 2.15    2540\n",
       "below 2.15    1357\n",
       "Name: count, dtype: int64"
      ]
     },
     "execution_count": 29,
     "metadata": {},
     "output_type": "execute_result"
    }
   ],
   "source": [
    "df['above2'].value_counts()"
   ]
  },
  {
   "cell_type": "code",
   "execution_count": 30,
   "id": "5473aa71-0b8f-4f93-8a40-85aea99c4641",
   "metadata": {},
   "outputs": [
    {
     "data": {
      "text/plain": [
       "above2\n",
       "above 2.15    0.651783\n",
       "below 2.15    0.348217\n",
       "Name: proportion, dtype: float64"
      ]
     },
     "execution_count": 30,
     "metadata": {},
     "output_type": "execute_result"
    }
   ],
   "source": [
    "df['above2'].value_counts(normalize=True)"
   ]
  },
  {
   "cell_type": "code",
   "execution_count": 48,
   "id": "5a26a815-a126-45f4-8a32-87e2936a71db",
   "metadata": {},
   "outputs": [
    {
     "data": {
      "text/html": [
       "<div>\n",
       "<style scoped>\n",
       "    .dataframe tbody tr th:only-of-type {\n",
       "        vertical-align: middle;\n",
       "    }\n",
       "\n",
       "    .dataframe tbody tr th {\n",
       "        vertical-align: top;\n",
       "    }\n",
       "\n",
       "    .dataframe thead th {\n",
       "        text-align: right;\n",
       "    }\n",
       "</style>\n",
       "<table border=\"1\" class=\"dataframe\">\n",
       "  <thead>\n",
       "    <tr style=\"text-align: right;\">\n",
       "      <th>above2</th>\n",
       "      <th>above 2.15</th>\n",
       "      <th>below 2.15</th>\n",
       "    </tr>\n",
       "    <tr>\n",
       "      <th>Household_Head_Gender</th>\n",
       "      <th></th>\n",
       "      <th></th>\n",
       "    </tr>\n",
       "  </thead>\n",
       "  <tbody>\n",
       "    <tr>\n",
       "      <th>Female Headed</th>\n",
       "      <td>0.700935</td>\n",
       "      <td>0.299065</td>\n",
       "    </tr>\n",
       "    <tr>\n",
       "      <th>Male Headed</th>\n",
       "      <td>0.627581</td>\n",
       "      <td>0.372419</td>\n",
       "    </tr>\n",
       "    <tr>\n",
       "      <th>Youth Headed</th>\n",
       "      <td>0.666667</td>\n",
       "      <td>0.333333</td>\n",
       "    </tr>\n",
       "  </tbody>\n",
       "</table>\n",
       "</div>"
      ],
      "text/plain": [
       "above2                 above 2.15  below 2.15\n",
       "Household_Head_Gender                        \n",
       "Female Headed            0.700935    0.299065\n",
       "Male Headed              0.627581    0.372419\n",
       "Youth Headed             0.666667    0.333333"
      ]
     },
     "execution_count": 48,
     "metadata": {},
     "output_type": "execute_result"
    }
   ],
   "source": [
    "df.groupby('Household_Head_Gender')[['above2']].value_counts(normalize=True).unstack()"
   ]
  },
  {
   "cell_type": "code",
   "execution_count": 65,
   "id": "cd1ed279-4b71-4f84-a87b-22e345a05215",
   "metadata": {},
   "outputs": [
    {
     "data": {
      "text/html": [
       "<div>\n",
       "<style scoped>\n",
       "    .dataframe tbody tr th:only-of-type {\n",
       "        vertical-align: middle;\n",
       "    }\n",
       "\n",
       "    .dataframe tbody tr th {\n",
       "        vertical-align: top;\n",
       "    }\n",
       "\n",
       "    .dataframe thead th {\n",
       "        text-align: right;\n",
       "    }\n",
       "</style>\n",
       "<table border=\"1\" class=\"dataframe\">\n",
       "  <thead>\n",
       "    <tr style=\"text-align: right;\">\n",
       "      <th>Household_Head_Gender</th>\n",
       "      <th>Female Headed</th>\n",
       "      <th>Male Headed</th>\n",
       "      <th>Youth Headed</th>\n",
       "    </tr>\n",
       "    <tr>\n",
       "      <th>above2</th>\n",
       "      <th></th>\n",
       "      <th></th>\n",
       "      <th></th>\n",
       "    </tr>\n",
       "  </thead>\n",
       "  <tbody>\n",
       "    <tr>\n",
       "      <th>above 2.15</th>\n",
       "      <td>0.295276</td>\n",
       "      <td>0.598425</td>\n",
       "      <td>0.106299</td>\n",
       "    </tr>\n",
       "    <tr>\n",
       "      <th>below 2.15</th>\n",
       "      <td>0.235814</td>\n",
       "      <td>0.664702</td>\n",
       "      <td>0.099484</td>\n",
       "    </tr>\n",
       "  </tbody>\n",
       "</table>\n",
       "</div>"
      ],
      "text/plain": [
       "Household_Head_Gender  Female Headed  Male Headed  Youth Headed\n",
       "above2                                                         \n",
       "above 2.15                  0.295276     0.598425      0.106299\n",
       "below 2.15                  0.235814     0.664702      0.099484"
      ]
     },
     "execution_count": 65,
     "metadata": {},
     "output_type": "execute_result"
    }
   ],
   "source": [
    "df.groupby('above2')[['Household_Head_Gender']].value_counts(normalize=True).unstack()"
   ]
  },
  {
   "cell_type": "code",
   "execution_count": 33,
   "id": "c59bc97e-c77d-40cc-bda3-c8d3445a8f9e",
   "metadata": {},
   "outputs": [
    {
     "data": {
      "text/html": [
       "<div>\n",
       "<style scoped>\n",
       "    .dataframe tbody tr th:only-of-type {\n",
       "        vertical-align: middle;\n",
       "    }\n",
       "\n",
       "    .dataframe tbody tr th {\n",
       "        vertical-align: top;\n",
       "    }\n",
       "\n",
       "    .dataframe thead th {\n",
       "        text-align: right;\n",
       "    }\n",
       "</style>\n",
       "<table border=\"1\" class=\"dataframe\">\n",
       "  <thead>\n",
       "    <tr style=\"text-align: right;\">\n",
       "      <th>above2</th>\n",
       "      <th>above 2.15</th>\n",
       "      <th>below 2.15</th>\n",
       "    </tr>\n",
       "    <tr>\n",
       "      <th>hhh_read_write</th>\n",
       "      <th></th>\n",
       "      <th></th>\n",
       "    </tr>\n",
       "  </thead>\n",
       "  <tbody>\n",
       "    <tr>\n",
       "      <th>0</th>\n",
       "      <td>0.644996</td>\n",
       "      <td>0.355004</td>\n",
       "    </tr>\n",
       "    <tr>\n",
       "      <th>1</th>\n",
       "      <td>0.654692</td>\n",
       "      <td>0.345308</td>\n",
       "    </tr>\n",
       "  </tbody>\n",
       "</table>\n",
       "</div>"
      ],
      "text/plain": [
       "above2          above 2.15  below 2.15\n",
       "hhh_read_write                        \n",
       "0                 0.644996    0.355004\n",
       "1                 0.654692    0.345308"
      ]
     },
     "execution_count": 33,
     "metadata": {},
     "output_type": "execute_result"
    }
   ],
   "source": [
    "df.groupby('hhh_read_write')[['above2']].value_counts(normalize=True).unstack()"
   ]
  },
  {
   "cell_type": "code",
   "execution_count": 63,
   "id": "098ce18a-e7ba-4971-b0d8-bc7feb2ecb81",
   "metadata": {},
   "outputs": [
    {
     "data": {
      "text/html": [
       "<div>\n",
       "<style scoped>\n",
       "    .dataframe tbody tr th:only-of-type {\n",
       "        vertical-align: middle;\n",
       "    }\n",
       "\n",
       "    .dataframe tbody tr th {\n",
       "        vertical-align: top;\n",
       "    }\n",
       "\n",
       "    .dataframe thead th {\n",
       "        text-align: right;\n",
       "    }\n",
       "</style>\n",
       "<table border=\"1\" class=\"dataframe\">\n",
       "  <thead>\n",
       "    <tr style=\"text-align: right;\">\n",
       "      <th>hhh_read_write</th>\n",
       "      <th>0</th>\n",
       "      <th>1</th>\n",
       "    </tr>\n",
       "    <tr>\n",
       "      <th>above2</th>\n",
       "      <th></th>\n",
       "      <th></th>\n",
       "    </tr>\n",
       "  </thead>\n",
       "  <tbody>\n",
       "    <tr>\n",
       "      <th>above 2.15</th>\n",
       "      <td>0.296850</td>\n",
       "      <td>0.703150</td>\n",
       "    </tr>\n",
       "    <tr>\n",
       "      <th>below 2.15</th>\n",
       "      <td>0.305822</td>\n",
       "      <td>0.694178</td>\n",
       "    </tr>\n",
       "  </tbody>\n",
       "</table>\n",
       "</div>"
      ],
      "text/plain": [
       "hhh_read_write         0         1\n",
       "above2                            \n",
       "above 2.15      0.296850  0.703150\n",
       "below 2.15      0.305822  0.694178"
      ]
     },
     "execution_count": 63,
     "metadata": {},
     "output_type": "execute_result"
    }
   ],
   "source": [
    "df.groupby('above2')[['hhh_read_write']].value_counts(normalize=True).unstack()"
   ]
  },
  {
   "cell_type": "code",
   "execution_count": 34,
   "id": "c2cf4506-4af2-4e0e-9c3a-51376059788e",
   "metadata": {},
   "outputs": [
    {
     "data": {
      "text/html": [
       "<div>\n",
       "<style scoped>\n",
       "    .dataframe tbody tr th:only-of-type {\n",
       "        vertical-align: middle;\n",
       "    }\n",
       "\n",
       "    .dataframe tbody tr th {\n",
       "        vertical-align: top;\n",
       "    }\n",
       "\n",
       "    .dataframe thead th {\n",
       "        text-align: right;\n",
       "    }\n",
       "</style>\n",
       "<table border=\"1\" class=\"dataframe\">\n",
       "  <thead>\n",
       "    <tr style=\"text-align: right;\">\n",
       "      <th></th>\n",
       "      <th>hhh_read_write</th>\n",
       "      <th>0</th>\n",
       "      <th>1</th>\n",
       "    </tr>\n",
       "    <tr>\n",
       "      <th>Household_Head_Gender</th>\n",
       "      <th>above2</th>\n",
       "      <th></th>\n",
       "      <th></th>\n",
       "    </tr>\n",
       "  </thead>\n",
       "  <tbody>\n",
       "    <tr>\n",
       "      <th rowspan=\"2\" valign=\"top\">Female Headed</th>\n",
       "      <th>above 2.15</th>\n",
       "      <td>0.382243</td>\n",
       "      <td>0.318692</td>\n",
       "    </tr>\n",
       "    <tr>\n",
       "      <th>below 2.15</th>\n",
       "      <td>0.162617</td>\n",
       "      <td>0.136449</td>\n",
       "    </tr>\n",
       "    <tr>\n",
       "      <th rowspan=\"2\" valign=\"top\">Male Headed</th>\n",
       "      <th>above 2.15</th>\n",
       "      <td>0.127168</td>\n",
       "      <td>0.500413</td>\n",
       "    </tr>\n",
       "    <tr>\n",
       "      <th>below 2.15</th>\n",
       "      <td>0.090008</td>\n",
       "      <td>0.282411</td>\n",
       "    </tr>\n",
       "    <tr>\n",
       "      <th rowspan=\"2\" valign=\"top\">Youth Headed</th>\n",
       "      <th>above 2.15</th>\n",
       "      <td>0.091358</td>\n",
       "      <td>0.575309</td>\n",
       "    </tr>\n",
       "    <tr>\n",
       "      <th>below 2.15</th>\n",
       "      <td>0.056790</td>\n",
       "      <td>0.276543</td>\n",
       "    </tr>\n",
       "  </tbody>\n",
       "</table>\n",
       "</div>"
      ],
      "text/plain": [
       "hhh_read_write                           0         1\n",
       "Household_Head_Gender above2                        \n",
       "Female Headed         above 2.15  0.382243  0.318692\n",
       "                      below 2.15  0.162617  0.136449\n",
       "Male Headed           above 2.15  0.127168  0.500413\n",
       "                      below 2.15  0.090008  0.282411\n",
       "Youth Headed          above 2.15  0.091358  0.575309\n",
       "                      below 2.15  0.056790  0.276543"
      ]
     },
     "execution_count": 34,
     "metadata": {},
     "output_type": "execute_result"
    }
   ],
   "source": [
    "df.groupby('Household_Head_Gender')[['above2','hhh_read_write']].value_counts(normalize=True).unstack()"
   ]
  },
  {
   "cell_type": "code",
   "execution_count": 35,
   "id": "03047ec6-7ffd-4284-928e-04e5356aa625",
   "metadata": {},
   "outputs": [
    {
     "data": {
      "text/plain": [
       "         above2    \n",
       "hh_size  above 2.15    4.474803\n",
       "         below 2.15    5.526161\n",
       "dtype: float64"
      ]
     },
     "execution_count": 35,
     "metadata": {},
     "output_type": "execute_result"
    }
   ],
   "source": [
    "(df.groupby(['above2'])[['hh_size']]).mean().unstack()"
   ]
  },
  {
   "cell_type": "code",
   "execution_count": 36,
   "id": "90541683-0cd2-4f3a-952b-07bc10506e56",
   "metadata": {},
   "outputs": [
    {
     "data": {
      "text/html": [
       "<div>\n",
       "<style scoped>\n",
       "    .dataframe tbody tr th:only-of-type {\n",
       "        vertical-align: middle;\n",
       "    }\n",
       "\n",
       "    .dataframe tbody tr th {\n",
       "        vertical-align: top;\n",
       "    }\n",
       "\n",
       "    .dataframe thead tr th {\n",
       "        text-align: left;\n",
       "    }\n",
       "\n",
       "    .dataframe thead tr:last-of-type th {\n",
       "        text-align: right;\n",
       "    }\n",
       "</style>\n",
       "<table border=\"1\" class=\"dataframe\">\n",
       "  <thead>\n",
       "    <tr>\n",
       "      <th></th>\n",
       "      <th colspan=\"2\" halign=\"left\">hh_size</th>\n",
       "    </tr>\n",
       "    <tr>\n",
       "      <th>above2</th>\n",
       "      <th>above 2.15</th>\n",
       "      <th>below 2.15</th>\n",
       "    </tr>\n",
       "    <tr>\n",
       "      <th>Household_Head_Gender</th>\n",
       "      <th></th>\n",
       "      <th></th>\n",
       "    </tr>\n",
       "  </thead>\n",
       "  <tbody>\n",
       "    <tr>\n",
       "      <th>Female Headed</th>\n",
       "      <td>3.577333</td>\n",
       "      <td>4.709375</td>\n",
       "    </tr>\n",
       "    <tr>\n",
       "      <th>Male Headed</th>\n",
       "      <td>5.096711</td>\n",
       "      <td>5.958980</td>\n",
       "    </tr>\n",
       "    <tr>\n",
       "      <th>Youth Headed</th>\n",
       "      <td>3.466667</td>\n",
       "      <td>4.570370</td>\n",
       "    </tr>\n",
       "  </tbody>\n",
       "</table>\n",
       "</div>"
      ],
      "text/plain": [
       "                         hh_size           \n",
       "above2                above 2.15 below 2.15\n",
       "Household_Head_Gender                      \n",
       "Female Headed           3.577333   4.709375\n",
       "Male Headed             5.096711   5.958980\n",
       "Youth Headed            3.466667   4.570370"
      ]
     },
     "execution_count": 36,
     "metadata": {},
     "output_type": "execute_result"
    }
   ],
   "source": [
    "(df.groupby(['Household_Head_Gender','above2'])[['hh_size']]).mean().unstack()"
   ]
  },
  {
   "cell_type": "code",
   "execution_count": 37,
   "id": "bc3040c5-a85a-4f02-9f54-fbe74a44e40c",
   "metadata": {},
   "outputs": [
    {
     "data": {
      "text/html": [
       "<div>\n",
       "<style scoped>\n",
       "    .dataframe tbody tr th:only-of-type {\n",
       "        vertical-align: middle;\n",
       "    }\n",
       "\n",
       "    .dataframe tbody tr th {\n",
       "        vertical-align: top;\n",
       "    }\n",
       "\n",
       "    .dataframe thead tr th {\n",
       "        text-align: left;\n",
       "    }\n",
       "\n",
       "    .dataframe thead tr:last-of-type th {\n",
       "        text-align: right;\n",
       "    }\n",
       "</style>\n",
       "<table border=\"1\" class=\"dataframe\">\n",
       "  <thead>\n",
       "    <tr>\n",
       "      <th></th>\n",
       "      <th colspan=\"2\" halign=\"left\">Size_land_owned</th>\n",
       "    </tr>\n",
       "    <tr>\n",
       "      <th>above2</th>\n",
       "      <th>above 2.15</th>\n",
       "      <th>below 2.15</th>\n",
       "    </tr>\n",
       "    <tr>\n",
       "      <th>Household_Head_Gender</th>\n",
       "      <th></th>\n",
       "      <th></th>\n",
       "    </tr>\n",
       "  </thead>\n",
       "  <tbody>\n",
       "    <tr>\n",
       "      <th>Female Headed</th>\n",
       "      <td>1.846545</td>\n",
       "      <td>1.582767</td>\n",
       "    </tr>\n",
       "    <tr>\n",
       "      <th>Male Headed</th>\n",
       "      <td>2.286551</td>\n",
       "      <td>1.923485</td>\n",
       "    </tr>\n",
       "    <tr>\n",
       "      <th>Youth Headed</th>\n",
       "      <td>1.272176</td>\n",
       "      <td>1.150379</td>\n",
       "    </tr>\n",
       "  </tbody>\n",
       "</table>\n",
       "</div>"
      ],
      "text/plain": [
       "                      Size_land_owned           \n",
       "above2                     above 2.15 below 2.15\n",
       "Household_Head_Gender                           \n",
       "Female Headed                1.846545   1.582767\n",
       "Male Headed                  2.286551   1.923485\n",
       "Youth Headed                 1.272176   1.150379"
      ]
     },
     "execution_count": 37,
     "metadata": {},
     "output_type": "execute_result"
    }
   ],
   "source": [
    "(df.groupby(['Household_Head_Gender','above2'])[['Size_land_owned']]).mean().unstack()"
   ]
  },
  {
   "cell_type": "code",
   "execution_count": 69,
   "id": "c21f33d3-d10a-4519-be85-1cfd046ec1ab",
   "metadata": {},
   "outputs": [
    {
     "data": {
      "text/plain": [
       "                 above2    \n",
       "Size_land_owned  above 2.15    2.050544\n",
       "                 below 2.15    1.767830\n",
       "dtype: float64"
      ]
     },
     "execution_count": 69,
     "metadata": {},
     "output_type": "execute_result"
    }
   ],
   "source": [
    "(df.groupby(['above2'])[['Size_land_owned']]).mean().unstack()"
   ]
  },
  {
   "cell_type": "code",
   "execution_count": 39,
   "id": "30498b01-936f-49ad-bbc0-9efb18bfbeb2",
   "metadata": {},
   "outputs": [
    {
     "data": {
      "text/html": [
       "<div>\n",
       "<style scoped>\n",
       "    .dataframe tbody tr th:only-of-type {\n",
       "        vertical-align: middle;\n",
       "    }\n",
       "\n",
       "    .dataframe tbody tr th {\n",
       "        vertical-align: top;\n",
       "    }\n",
       "\n",
       "    .dataframe thead th {\n",
       "        text-align: right;\n",
       "    }\n",
       "</style>\n",
       "<table border=\"1\" class=\"dataframe\">\n",
       "  <thead>\n",
       "    <tr style=\"text-align: right;\">\n",
       "      <th>above2</th>\n",
       "      <th>above 2.15</th>\n",
       "      <th>below 2.15</th>\n",
       "    </tr>\n",
       "    <tr>\n",
       "      <th>leadership_head</th>\n",
       "      <th></th>\n",
       "      <th></th>\n",
       "    </tr>\n",
       "  </thead>\n",
       "  <tbody>\n",
       "    <tr>\n",
       "      <th>0</th>\n",
       "      <td>0.641531</td>\n",
       "      <td>0.358469</td>\n",
       "    </tr>\n",
       "    <tr>\n",
       "      <th>1</th>\n",
       "      <td>0.673291</td>\n",
       "      <td>0.326709</td>\n",
       "    </tr>\n",
       "  </tbody>\n",
       "</table>\n",
       "</div>"
      ],
      "text/plain": [
       "above2           above 2.15  below 2.15\n",
       "leadership_head                        \n",
       "0                  0.641531    0.358469\n",
       "1                  0.673291    0.326709"
      ]
     },
     "execution_count": 39,
     "metadata": {},
     "output_type": "execute_result"
    }
   ],
   "source": [
    "(df.groupby(['leadership_head'])[['above2']]).value_counts(normalize=True).unstack()"
   ]
  },
  {
   "cell_type": "code",
   "execution_count": 62,
   "id": "ea30a74d-1a8f-486e-94b4-187e79a23b9e",
   "metadata": {},
   "outputs": [
    {
     "data": {
      "text/html": [
       "<div>\n",
       "<style scoped>\n",
       "    .dataframe tbody tr th:only-of-type {\n",
       "        vertical-align: middle;\n",
       "    }\n",
       "\n",
       "    .dataframe tbody tr th {\n",
       "        vertical-align: top;\n",
       "    }\n",
       "\n",
       "    .dataframe thead th {\n",
       "        text-align: right;\n",
       "    }\n",
       "</style>\n",
       "<table border=\"1\" class=\"dataframe\">\n",
       "  <thead>\n",
       "    <tr style=\"text-align: right;\">\n",
       "      <th>leadership_head</th>\n",
       "      <th>0</th>\n",
       "      <th>1</th>\n",
       "    </tr>\n",
       "    <tr>\n",
       "      <th>above2</th>\n",
       "      <th></th>\n",
       "      <th></th>\n",
       "    </tr>\n",
       "  </thead>\n",
       "  <tbody>\n",
       "    <tr>\n",
       "      <th>above 2.15</th>\n",
       "      <td>0.666535</td>\n",
       "      <td>0.333465</td>\n",
       "    </tr>\n",
       "    <tr>\n",
       "      <th>below 2.15</th>\n",
       "      <td>0.697126</td>\n",
       "      <td>0.302874</td>\n",
       "    </tr>\n",
       "  </tbody>\n",
       "</table>\n",
       "</div>"
      ],
      "text/plain": [
       "leadership_head         0         1\n",
       "above2                             \n",
       "above 2.15       0.666535  0.333465\n",
       "below 2.15       0.697126  0.302874"
      ]
     },
     "execution_count": 62,
     "metadata": {},
     "output_type": "execute_result"
    }
   ],
   "source": [
    "(df.groupby(['above2'])[['leadership_head']]).value_counts(normalize=True).unstack()"
   ]
  },
  {
   "cell_type": "code",
   "execution_count": 40,
   "id": "be9c36c3-a953-45c9-86bf-7702f4b93ee6",
   "metadata": {},
   "outputs": [
    {
     "data": {
      "text/html": [
       "<div>\n",
       "<style scoped>\n",
       "    .dataframe tbody tr th:only-of-type {\n",
       "        vertical-align: middle;\n",
       "    }\n",
       "\n",
       "    .dataframe tbody tr th {\n",
       "        vertical-align: top;\n",
       "    }\n",
       "\n",
       "    .dataframe thead th {\n",
       "        text-align: right;\n",
       "    }\n",
       "</style>\n",
       "<table border=\"1\" class=\"dataframe\">\n",
       "  <thead>\n",
       "    <tr style=\"text-align: right;\">\n",
       "      <th></th>\n",
       "      <th>leadership_head</th>\n",
       "      <th>0</th>\n",
       "      <th>1</th>\n",
       "    </tr>\n",
       "    <tr>\n",
       "      <th>Household_Head_Gender</th>\n",
       "      <th>above2</th>\n",
       "      <th></th>\n",
       "      <th></th>\n",
       "    </tr>\n",
       "  </thead>\n",
       "  <tbody>\n",
       "    <tr>\n",
       "      <th rowspan=\"2\" valign=\"top\">Female Headed</th>\n",
       "      <th>above 2.15</th>\n",
       "      <td>0.718667</td>\n",
       "      <td>0.281333</td>\n",
       "    </tr>\n",
       "    <tr>\n",
       "      <th>below 2.15</th>\n",
       "      <td>0.803125</td>\n",
       "      <td>0.196875</td>\n",
       "    </tr>\n",
       "    <tr>\n",
       "      <th rowspan=\"2\" valign=\"top\">Male Headed</th>\n",
       "      <th>above 2.15</th>\n",
       "      <td>0.626974</td>\n",
       "      <td>0.373026</td>\n",
       "    </tr>\n",
       "    <tr>\n",
       "      <th>below 2.15</th>\n",
       "      <td>0.651885</td>\n",
       "      <td>0.348115</td>\n",
       "    </tr>\n",
       "    <tr>\n",
       "      <th rowspan=\"2\" valign=\"top\">Youth Headed</th>\n",
       "      <th>above 2.15</th>\n",
       "      <td>0.744444</td>\n",
       "      <td>0.255556</td>\n",
       "    </tr>\n",
       "    <tr>\n",
       "      <th>below 2.15</th>\n",
       "      <td>0.748148</td>\n",
       "      <td>0.251852</td>\n",
       "    </tr>\n",
       "  </tbody>\n",
       "</table>\n",
       "</div>"
      ],
      "text/plain": [
       "leadership_head                          0         1\n",
       "Household_Head_Gender above2                        \n",
       "Female Headed         above 2.15  0.718667  0.281333\n",
       "                      below 2.15  0.803125  0.196875\n",
       "Male Headed           above 2.15  0.626974  0.373026\n",
       "                      below 2.15  0.651885  0.348115\n",
       "Youth Headed          above 2.15  0.744444  0.255556\n",
       "                      below 2.15  0.748148  0.251852"
      ]
     },
     "execution_count": 40,
     "metadata": {},
     "output_type": "execute_result"
    }
   ],
   "source": [
    "(df.groupby(['Household_Head_Gender','above2'])[['leadership_head']]).value_counts(normalize=True).unstack()"
   ]
  },
  {
   "cell_type": "code",
   "execution_count": 41,
   "id": "6713366b-826e-4d54-8ea3-46222330d9a2",
   "metadata": {},
   "outputs": [
    {
     "data": {
      "text/html": [
       "<div>\n",
       "<style scoped>\n",
       "    .dataframe tbody tr th:only-of-type {\n",
       "        vertical-align: middle;\n",
       "    }\n",
       "\n",
       "    .dataframe tbody tr th {\n",
       "        vertical-align: top;\n",
       "    }\n",
       "\n",
       "    .dataframe thead tr th {\n",
       "        text-align: left;\n",
       "    }\n",
       "\n",
       "    .dataframe thead tr:last-of-type th {\n",
       "        text-align: right;\n",
       "    }\n",
       "</style>\n",
       "<table border=\"1\" class=\"dataframe\">\n",
       "  <thead>\n",
       "    <tr>\n",
       "      <th></th>\n",
       "      <th colspan=\"2\" halign=\"left\">hhh_age</th>\n",
       "    </tr>\n",
       "    <tr>\n",
       "      <th>above2</th>\n",
       "      <th>above 2.15</th>\n",
       "      <th>below 2.15</th>\n",
       "    </tr>\n",
       "    <tr>\n",
       "      <th>Household_Head_Gender</th>\n",
       "      <th></th>\n",
       "      <th></th>\n",
       "    </tr>\n",
       "  </thead>\n",
       "  <tbody>\n",
       "    <tr>\n",
       "      <th>Female Headed</th>\n",
       "      <td>61.645333</td>\n",
       "      <td>56.384375</td>\n",
       "    </tr>\n",
       "    <tr>\n",
       "      <th>Male Headed</th>\n",
       "      <td>50.767763</td>\n",
       "      <td>50.522173</td>\n",
       "    </tr>\n",
       "    <tr>\n",
       "      <th>Youth Headed</th>\n",
       "      <td>27.277778</td>\n",
       "      <td>27.200000</td>\n",
       "    </tr>\n",
       "  </tbody>\n",
       "</table>\n",
       "</div>"
      ],
      "text/plain": [
       "                         hhh_age           \n",
       "above2                above 2.15 below 2.15\n",
       "Household_Head_Gender                      \n",
       "Female Headed          61.645333  56.384375\n",
       "Male Headed            50.767763  50.522173\n",
       "Youth Headed           27.277778  27.200000"
      ]
     },
     "execution_count": 41,
     "metadata": {},
     "output_type": "execute_result"
    }
   ],
   "source": [
    "(df.groupby(['Household_Head_Gender','above2'])[['hhh_age']]).mean().unstack()"
   ]
  },
  {
   "cell_type": "code",
   "execution_count": 67,
   "id": "63acd9f3-9948-481e-a0d2-c4adaa5bf549",
   "metadata": {},
   "outputs": [
    {
     "data": {
      "text/html": [
       "<div>\n",
       "<style scoped>\n",
       "    .dataframe tbody tr th:only-of-type {\n",
       "        vertical-align: middle;\n",
       "    }\n",
       "\n",
       "    .dataframe tbody tr th {\n",
       "        vertical-align: top;\n",
       "    }\n",
       "\n",
       "    .dataframe thead th {\n",
       "        text-align: right;\n",
       "    }\n",
       "</style>\n",
       "<table border=\"1\" class=\"dataframe\">\n",
       "  <thead>\n",
       "    <tr style=\"text-align: right;\">\n",
       "      <th>above2</th>\n",
       "      <th>above 2.15</th>\n",
       "      <th>below 2.15</th>\n",
       "    </tr>\n",
       "    <tr>\n",
       "      <th>daily_meals</th>\n",
       "      <th></th>\n",
       "      <th></th>\n",
       "    </tr>\n",
       "  </thead>\n",
       "  <tbody>\n",
       "    <tr>\n",
       "      <th>1</th>\n",
       "      <td>0.612500</td>\n",
       "      <td>0.387500</td>\n",
       "    </tr>\n",
       "    <tr>\n",
       "      <th>2</th>\n",
       "      <td>0.632431</td>\n",
       "      <td>0.367569</td>\n",
       "    </tr>\n",
       "    <tr>\n",
       "      <th>3</th>\n",
       "      <td>0.730038</td>\n",
       "      <td>0.269962</td>\n",
       "    </tr>\n",
       "  </tbody>\n",
       "</table>\n",
       "</div>"
      ],
      "text/plain": [
       "above2       above 2.15  below 2.15\n",
       "daily_meals                        \n",
       "1              0.612500    0.387500\n",
       "2              0.632431    0.367569\n",
       "3              0.730038    0.269962"
      ]
     },
     "execution_count": 67,
     "metadata": {},
     "output_type": "execute_result"
    }
   ],
   "source": [
    "df.groupby('daily_meals')['above2'].value_counts(normalize=True).unstack()"
   ]
  },
  {
   "cell_type": "code",
   "execution_count": 49,
   "id": "7fa0d41c-36bf-4966-b61b-d6a734f18f11",
   "metadata": {},
   "outputs": [
    {
     "data": {
      "text/html": [
       "<div>\n",
       "<style scoped>\n",
       "    .dataframe tbody tr th:only-of-type {\n",
       "        vertical-align: middle;\n",
       "    }\n",
       "\n",
       "    .dataframe tbody tr th {\n",
       "        vertical-align: top;\n",
       "    }\n",
       "\n",
       "    .dataframe thead th {\n",
       "        text-align: right;\n",
       "    }\n",
       "</style>\n",
       "<table border=\"1\" class=\"dataframe\">\n",
       "  <thead>\n",
       "    <tr style=\"text-align: right;\">\n",
       "      <th>daily_meals</th>\n",
       "      <th>1</th>\n",
       "      <th>2</th>\n",
       "      <th>3</th>\n",
       "    </tr>\n",
       "    <tr>\n",
       "      <th>above2</th>\n",
       "      <th></th>\n",
       "      <th></th>\n",
       "      <th></th>\n",
       "    </tr>\n",
       "  </thead>\n",
       "  <tbody>\n",
       "    <tr>\n",
       "      <th>above 2.15</th>\n",
       "      <td>0.019291</td>\n",
       "      <td>0.753937</td>\n",
       "      <td>0.226772</td>\n",
       "    </tr>\n",
       "    <tr>\n",
       "      <th>below 2.15</th>\n",
       "      <td>0.022845</td>\n",
       "      <td>0.820192</td>\n",
       "      <td>0.156964</td>\n",
       "    </tr>\n",
       "  </tbody>\n",
       "</table>\n",
       "</div>"
      ],
      "text/plain": [
       "daily_meals         1         2         3\n",
       "above2                                   \n",
       "above 2.15   0.019291  0.753937  0.226772\n",
       "below 2.15   0.022845  0.820192  0.156964"
      ]
     },
     "execution_count": 49,
     "metadata": {},
     "output_type": "execute_result"
    }
   ],
   "source": [
    "df.groupby('above2')['daily_meals'].value_counts(normalize=True).unstack()"
   ]
  },
  {
   "cell_type": "code",
   "execution_count": null,
   "id": "77d00506-bbbe-44c3-ad6f-70d8fd5d3d30",
   "metadata": {},
   "outputs": [],
   "source": []
  },
  {
   "cell_type": "code",
   "execution_count": null,
   "id": "54621f65-6e87-4223-8878-c02a4a89811e",
   "metadata": {},
   "outputs": [],
   "source": []
  },
  {
   "cell_type": "code",
   "execution_count": 80,
   "id": "9fa7d10d-221a-4356-8faf-7dc62a5247e7",
   "metadata": {},
   "outputs": [
    {
     "data": {
      "text/html": [
       "<div>\n",
       "<style scoped>\n",
       "    .dataframe tbody tr th:only-of-type {\n",
       "        vertical-align: middle;\n",
       "    }\n",
       "\n",
       "    .dataframe tbody tr th {\n",
       "        vertical-align: top;\n",
       "    }\n",
       "\n",
       "    .dataframe thead th {\n",
       "        text-align: right;\n",
       "    }\n",
       "</style>\n",
       "<table border=\"1\" class=\"dataframe\">\n",
       "  <thead>\n",
       "    <tr style=\"text-align: right;\">\n",
       "      <th></th>\n",
       "      <th>daily_meals</th>\n",
       "      <th>1</th>\n",
       "      <th>2</th>\n",
       "      <th>3</th>\n",
       "    </tr>\n",
       "    <tr>\n",
       "      <th>Household_Head_Gender</th>\n",
       "      <th>above2</th>\n",
       "      <th></th>\n",
       "      <th></th>\n",
       "      <th></th>\n",
       "    </tr>\n",
       "  </thead>\n",
       "  <tbody>\n",
       "    <tr>\n",
       "      <th rowspan=\"2\" valign=\"top\">Female Headed</th>\n",
       "      <th>above 2.15</th>\n",
       "      <td>0.024000</td>\n",
       "      <td>0.746667</td>\n",
       "      <td>0.229333</td>\n",
       "    </tr>\n",
       "    <tr>\n",
       "      <th>below 2.15</th>\n",
       "      <td>0.034375</td>\n",
       "      <td>0.831250</td>\n",
       "      <td>0.134375</td>\n",
       "    </tr>\n",
       "    <tr>\n",
       "      <th rowspan=\"2\" valign=\"top\">Male Headed</th>\n",
       "      <th>above 2.15</th>\n",
       "      <td>0.019079</td>\n",
       "      <td>0.755263</td>\n",
       "      <td>0.225658</td>\n",
       "    </tr>\n",
       "    <tr>\n",
       "      <th>below 2.15</th>\n",
       "      <td>0.017738</td>\n",
       "      <td>0.814856</td>\n",
       "      <td>0.167406</td>\n",
       "    </tr>\n",
       "    <tr>\n",
       "      <th rowspan=\"2\" valign=\"top\">Youth Headed</th>\n",
       "      <th>above 2.15</th>\n",
       "      <td>0.007407</td>\n",
       "      <td>0.766667</td>\n",
       "      <td>0.225926</td>\n",
       "    </tr>\n",
       "    <tr>\n",
       "      <th>below 2.15</th>\n",
       "      <td>0.029630</td>\n",
       "      <td>0.829630</td>\n",
       "      <td>0.140741</td>\n",
       "    </tr>\n",
       "  </tbody>\n",
       "</table>\n",
       "</div>"
      ],
      "text/plain": [
       "daily_meals                              1         2         3\n",
       "Household_Head_Gender above2                                  \n",
       "Female Headed         above 2.15  0.024000  0.746667  0.229333\n",
       "                      below 2.15  0.034375  0.831250  0.134375\n",
       "Male Headed           above 2.15  0.019079  0.755263  0.225658\n",
       "                      below 2.15  0.017738  0.814856  0.167406\n",
       "Youth Headed          above 2.15  0.007407  0.766667  0.225926\n",
       "                      below 2.15  0.029630  0.829630  0.140741"
      ]
     },
     "execution_count": 80,
     "metadata": {},
     "output_type": "execute_result"
    }
   ],
   "source": [
    "df.groupby(['Household_Head_Gender','above2'])['daily_meals'].value_counts(normalize=True).unstack()"
   ]
  },
  {
   "cell_type": "code",
   "execution_count": 53,
   "id": "ab9700e7-d6dd-4750-bd8f-97b6f9fbe9bb",
   "metadata": {},
   "outputs": [
    {
     "name": "stderr",
     "output_type": "stream",
     "text": [
      "/var/folders/xd/0btgr76j2zxc4__ynw0yhwbm0000gn/T/ipykernel_34903/2885387722.py:1: SettingWithCopyWarning: \n",
      "A value is trying to be set on a copy of a slice from a DataFrame.\n",
      "Try using .loc[row_indexer,col_indexer] = value instead\n",
      "\n",
      "See the caveats in the documentation: https://pandas.pydata.org/pandas-docs/stable/user_guide/indexing.html#returning-a-view-versus-a-copy\n",
      "  df['vsla_participation'] = ((df['save_mode_7']==1) | (df['save_mode_8']==1)).astype(int)\n"
     ]
    }
   ],
   "source": [
    "df['vsla_participation'] = ((df['save_mode_7']==1) | (df['save_mode_8']==1)).astype(int)"
   ]
  },
  {
   "cell_type": "code",
   "execution_count": 54,
   "id": "760fb4f9-beed-4de5-9f5e-a31175b25fd2",
   "metadata": {},
   "outputs": [
    {
     "data": {
      "text/html": [
       "<div>\n",
       "<style scoped>\n",
       "    .dataframe tbody tr th:only-of-type {\n",
       "        vertical-align: middle;\n",
       "    }\n",
       "\n",
       "    .dataframe tbody tr th {\n",
       "        vertical-align: top;\n",
       "    }\n",
       "\n",
       "    .dataframe thead th {\n",
       "        text-align: right;\n",
       "    }\n",
       "</style>\n",
       "<table border=\"1\" class=\"dataframe\">\n",
       "  <thead>\n",
       "    <tr style=\"text-align: right;\">\n",
       "      <th>vsla_participation</th>\n",
       "      <th>0</th>\n",
       "      <th>1</th>\n",
       "    </tr>\n",
       "    <tr>\n",
       "      <th>above2</th>\n",
       "      <th></th>\n",
       "      <th></th>\n",
       "    </tr>\n",
       "  </thead>\n",
       "  <tbody>\n",
       "    <tr>\n",
       "      <th>above 2.15</th>\n",
       "      <td>0.388976</td>\n",
       "      <td>0.611024</td>\n",
       "    </tr>\n",
       "    <tr>\n",
       "      <th>below 2.15</th>\n",
       "      <td>0.409727</td>\n",
       "      <td>0.590273</td>\n",
       "    </tr>\n",
       "  </tbody>\n",
       "</table>\n",
       "</div>"
      ],
      "text/plain": [
       "vsla_participation         0         1\n",
       "above2                                \n",
       "above 2.15          0.388976  0.611024\n",
       "below 2.15          0.409727  0.590273"
      ]
     },
     "execution_count": 54,
     "metadata": {},
     "output_type": "execute_result"
    }
   ],
   "source": [
    "df.groupby('above2')['vsla_participation'].value_counts(normalize=True).unstack()"
   ]
  },
  {
   "cell_type": "code",
   "execution_count": 81,
   "id": "0c8eaff7-6e2c-4f35-b387-f495704a74fa",
   "metadata": {},
   "outputs": [
    {
     "data": {
      "text/html": [
       "<div>\n",
       "<style scoped>\n",
       "    .dataframe tbody tr th:only-of-type {\n",
       "        vertical-align: middle;\n",
       "    }\n",
       "\n",
       "    .dataframe tbody tr th {\n",
       "        vertical-align: top;\n",
       "    }\n",
       "\n",
       "    .dataframe thead th {\n",
       "        text-align: right;\n",
       "    }\n",
       "</style>\n",
       "<table border=\"1\" class=\"dataframe\">\n",
       "  <thead>\n",
       "    <tr style=\"text-align: right;\">\n",
       "      <th></th>\n",
       "      <th>vsla_participation</th>\n",
       "      <th>0</th>\n",
       "      <th>1</th>\n",
       "    </tr>\n",
       "    <tr>\n",
       "      <th>Household_Head_Gender</th>\n",
       "      <th>above2</th>\n",
       "      <th></th>\n",
       "      <th></th>\n",
       "    </tr>\n",
       "  </thead>\n",
       "  <tbody>\n",
       "    <tr>\n",
       "      <th rowspan=\"2\" valign=\"top\">Female Headed</th>\n",
       "      <th>above 2.15</th>\n",
       "      <td>0.429333</td>\n",
       "      <td>0.570667</td>\n",
       "    </tr>\n",
       "    <tr>\n",
       "      <th>below 2.15</th>\n",
       "      <td>0.471875</td>\n",
       "      <td>0.528125</td>\n",
       "    </tr>\n",
       "    <tr>\n",
       "      <th rowspan=\"2\" valign=\"top\">Male Headed</th>\n",
       "      <th>above 2.15</th>\n",
       "      <td>0.370395</td>\n",
       "      <td>0.629605</td>\n",
       "    </tr>\n",
       "    <tr>\n",
       "      <th>below 2.15</th>\n",
       "      <td>0.375831</td>\n",
       "      <td>0.624169</td>\n",
       "    </tr>\n",
       "    <tr>\n",
       "      <th rowspan=\"2\" valign=\"top\">Youth Headed</th>\n",
       "      <th>above 2.15</th>\n",
       "      <td>0.381481</td>\n",
       "      <td>0.618519</td>\n",
       "    </tr>\n",
       "    <tr>\n",
       "      <th>below 2.15</th>\n",
       "      <td>0.488889</td>\n",
       "      <td>0.511111</td>\n",
       "    </tr>\n",
       "  </tbody>\n",
       "</table>\n",
       "</div>"
      ],
      "text/plain": [
       "vsla_participation                       0         1\n",
       "Household_Head_Gender above2                        \n",
       "Female Headed         above 2.15  0.429333  0.570667\n",
       "                      below 2.15  0.471875  0.528125\n",
       "Male Headed           above 2.15  0.370395  0.629605\n",
       "                      below 2.15  0.375831  0.624169\n",
       "Youth Headed          above 2.15  0.381481  0.618519\n",
       "                      below 2.15  0.488889  0.511111"
      ]
     },
     "execution_count": 81,
     "metadata": {},
     "output_type": "execute_result"
    }
   ],
   "source": [
    "df.groupby(['Household_Head_Gender','above2'])['vsla_participation'].value_counts(normalize=True).unstack()"
   ]
  },
  {
   "cell_type": "code",
   "execution_count": 68,
   "id": "63b6d440-0202-4dba-9a2d-c6d10f1558ad",
   "metadata": {},
   "outputs": [
    {
     "data": {
      "text/html": [
       "<div>\n",
       "<style scoped>\n",
       "    .dataframe tbody tr th:only-of-type {\n",
       "        vertical-align: middle;\n",
       "    }\n",
       "\n",
       "    .dataframe tbody tr th {\n",
       "        vertical-align: top;\n",
       "    }\n",
       "\n",
       "    .dataframe thead th {\n",
       "        text-align: right;\n",
       "    }\n",
       "</style>\n",
       "<table border=\"1\" class=\"dataframe\">\n",
       "  <thead>\n",
       "    <tr style=\"text-align: right;\">\n",
       "      <th>above2</th>\n",
       "      <th>above 2.15</th>\n",
       "      <th>below 2.15</th>\n",
       "    </tr>\n",
       "    <tr>\n",
       "      <th>vsla_participation</th>\n",
       "      <th></th>\n",
       "      <th></th>\n",
       "    </tr>\n",
       "  </thead>\n",
       "  <tbody>\n",
       "    <tr>\n",
       "      <th>0</th>\n",
       "      <td>0.639896</td>\n",
       "      <td>0.360104</td>\n",
       "    </tr>\n",
       "    <tr>\n",
       "      <th>1</th>\n",
       "      <td>0.659584</td>\n",
       "      <td>0.340416</td>\n",
       "    </tr>\n",
       "  </tbody>\n",
       "</table>\n",
       "</div>"
      ],
      "text/plain": [
       "above2              above 2.15  below 2.15\n",
       "vsla_participation                        \n",
       "0                     0.639896    0.360104\n",
       "1                     0.659584    0.340416"
      ]
     },
     "execution_count": 68,
     "metadata": {},
     "output_type": "execute_result"
    }
   ],
   "source": [
    "df.groupby('vsla_participation')['above2'].value_counts(normalize=True).unstack()"
   ]
  },
  {
   "cell_type": "code",
   "execution_count": 55,
   "id": "460b1622-ecf9-4fe9-8f54-635d32ddc07f",
   "metadata": {},
   "outputs": [
    {
     "name": "stderr",
     "output_type": "stream",
     "text": [
      "/var/folders/xd/0btgr76j2zxc4__ynw0yhwbm0000gn/T/ipykernel_34903/2423799788.py:1: SettingWithCopyWarning: \n",
      "A value is trying to be set on a copy of a slice from a DataFrame.\n",
      "Try using .loc[row_indexer,col_indexer] = value instead\n",
      "\n",
      "See the caveats in the documentation: https://pandas.pydata.org/pandas-docs/stable/user_guide/indexing.html#returning-a-view-versus-a-copy\n",
      "  df['beans_presence'] = df.apply(lambda row: row['Season_1_1'] or row['Season_2_1'], axis=1)\n",
      "/var/folders/xd/0btgr76j2zxc4__ynw0yhwbm0000gn/T/ipykernel_34903/2423799788.py:2: SettingWithCopyWarning: \n",
      "A value is trying to be set on a copy of a slice from a DataFrame.\n",
      "Try using .loc[row_indexer,col_indexer] = value instead\n",
      "\n",
      "See the caveats in the documentation: https://pandas.pydata.org/pandas-docs/stable/user_guide/indexing.html#returning-a-view-versus-a-copy\n",
      "  df['gnuts_presence'] = df.apply(lambda row: row['Season_1_2'] or row['Season_2_2'], axis=1)\n",
      "/var/folders/xd/0btgr76j2zxc4__ynw0yhwbm0000gn/T/ipykernel_34903/2423799788.py:3: SettingWithCopyWarning: \n",
      "A value is trying to be set on a copy of a slice from a DataFrame.\n",
      "Try using .loc[row_indexer,col_indexer] = value instead\n",
      "\n",
      "See the caveats in the documentation: https://pandas.pydata.org/pandas-docs/stable/user_guide/indexing.html#returning-a-view-versus-a-copy\n",
      "  df['soya_presence'] = df.apply(lambda row: row['Season_1_3'] or row['Season_2_3'], axis=1)\n",
      "/var/folders/xd/0btgr76j2zxc4__ynw0yhwbm0000gn/T/ipykernel_34903/2423799788.py:4: SettingWithCopyWarning: \n",
      "A value is trying to be set on a copy of a slice from a DataFrame.\n",
      "Try using .loc[row_indexer,col_indexer] = value instead\n",
      "\n",
      "See the caveats in the documentation: https://pandas.pydata.org/pandas-docs/stable/user_guide/indexing.html#returning-a-view-versus-a-copy\n",
      "  df['peas_presence'] = df.apply(lambda row: row['Season_1_4'] or row['Season_2_4'], axis=1)\n",
      "/var/folders/xd/0btgr76j2zxc4__ynw0yhwbm0000gn/T/ipykernel_34903/2423799788.py:5: SettingWithCopyWarning: \n",
      "A value is trying to be set on a copy of a slice from a DataFrame.\n",
      "Try using .loc[row_indexer,col_indexer] = value instead\n",
      "\n",
      "See the caveats in the documentation: https://pandas.pydata.org/pandas-docs/stable/user_guide/indexing.html#returning-a-view-versus-a-copy\n",
      "  df['maize_presence'] = df.apply(lambda row: row['Season_1_5'] or row['Season_2_5'], axis=1)\n",
      "/var/folders/xd/0btgr76j2zxc4__ynw0yhwbm0000gn/T/ipykernel_34903/2423799788.py:6: SettingWithCopyWarning: \n",
      "A value is trying to be set on a copy of a slice from a DataFrame.\n",
      "Try using .loc[row_indexer,col_indexer] = value instead\n",
      "\n",
      "See the caveats in the documentation: https://pandas.pydata.org/pandas-docs/stable/user_guide/indexing.html#returning-a-view-versus-a-copy\n",
      "  df['millet_presence'] = df.apply(lambda row: row['Season_1_6'] or row['Season_2_6'], axis=1)\n",
      "/var/folders/xd/0btgr76j2zxc4__ynw0yhwbm0000gn/T/ipykernel_34903/2423799788.py:7: SettingWithCopyWarning: \n",
      "A value is trying to be set on a copy of a slice from a DataFrame.\n",
      "Try using .loc[row_indexer,col_indexer] = value instead\n",
      "\n",
      "See the caveats in the documentation: https://pandas.pydata.org/pandas-docs/stable/user_guide/indexing.html#returning-a-view-versus-a-copy\n",
      "  df['sorghum_presence'] = df.apply(lambda row: row['Season_1_7'] or row['Season_2_7'], axis=1)\n",
      "/var/folders/xd/0btgr76j2zxc4__ynw0yhwbm0000gn/T/ipykernel_34903/2423799788.py:8: SettingWithCopyWarning: \n",
      "A value is trying to be set on a copy of a slice from a DataFrame.\n",
      "Try using .loc[row_indexer,col_indexer] = value instead\n",
      "\n",
      "See the caveats in the documentation: https://pandas.pydata.org/pandas-docs/stable/user_guide/indexing.html#returning-a-view-versus-a-copy\n",
      "  df['barley_presence'] = df.apply(lambda row: row['Season_1_8'] or row['Season_2_8'], axis=1)\n",
      "/var/folders/xd/0btgr76j2zxc4__ynw0yhwbm0000gn/T/ipykernel_34903/2423799788.py:9: SettingWithCopyWarning: \n",
      "A value is trying to be set on a copy of a slice from a DataFrame.\n",
      "Try using .loc[row_indexer,col_indexer] = value instead\n",
      "\n",
      "See the caveats in the documentation: https://pandas.pydata.org/pandas-docs/stable/user_guide/indexing.html#returning-a-view-versus-a-copy\n",
      "  df['rice_presence'] = df.apply(lambda row: row['Season_1_9'] or row['Season_2_9'], axis=1)\n",
      "/var/folders/xd/0btgr76j2zxc4__ynw0yhwbm0000gn/T/ipykernel_34903/2423799788.py:10: SettingWithCopyWarning: \n",
      "A value is trying to be set on a copy of a slice from a DataFrame.\n",
      "Try using .loc[row_indexer,col_indexer] = value instead\n",
      "\n",
      "See the caveats in the documentation: https://pandas.pydata.org/pandas-docs/stable/user_guide/indexing.html#returning-a-view-versus-a-copy\n",
      "  df['irish_presence'] = df.apply(lambda row: row['Season_1_10'] or row['Season_2_10'], axis=1)\n",
      "/var/folders/xd/0btgr76j2zxc4__ynw0yhwbm0000gn/T/ipykernel_34903/2423799788.py:11: SettingWithCopyWarning: \n",
      "A value is trying to be set on a copy of a slice from a DataFrame.\n",
      "Try using .loc[row_indexer,col_indexer] = value instead\n",
      "\n",
      "See the caveats in the documentation: https://pandas.pydata.org/pandas-docs/stable/user_guide/indexing.html#returning-a-view-versus-a-copy\n",
      "  df['sweet_presence'] = df.apply(lambda row: row['Season_1_11'] or row['Season_2_11'], axis=1)\n",
      "/var/folders/xd/0btgr76j2zxc4__ynw0yhwbm0000gn/T/ipykernel_34903/2423799788.py:12: SettingWithCopyWarning: \n",
      "A value is trying to be set on a copy of a slice from a DataFrame.\n",
      "Try using .loc[row_indexer,col_indexer] = value instead\n",
      "\n",
      "See the caveats in the documentation: https://pandas.pydata.org/pandas-docs/stable/user_guide/indexing.html#returning-a-view-versus-a-copy\n",
      "  df['cassava_presence'] = df.apply(lambda row: row['Season_1_12'] or row['Season_2_12'], axis=1)\n",
      "/var/folders/xd/0btgr76j2zxc4__ynw0yhwbm0000gn/T/ipykernel_34903/2423799788.py:13: SettingWithCopyWarning: \n",
      "A value is trying to be set on a copy of a slice from a DataFrame.\n",
      "Try using .loc[row_indexer,col_indexer] = value instead\n",
      "\n",
      "See the caveats in the documentation: https://pandas.pydata.org/pandas-docs/stable/user_guide/indexing.html#returning-a-view-versus-a-copy\n",
      "  df['yams_presence'] = df.apply(lambda row: row['Season_1_13'] or row['Season_2_13'], axis=1)\n",
      "/var/folders/xd/0btgr76j2zxc4__ynw0yhwbm0000gn/T/ipykernel_34903/2423799788.py:14: SettingWithCopyWarning: \n",
      "A value is trying to be set on a copy of a slice from a DataFrame.\n",
      "Try using .loc[row_indexer,col_indexer] = value instead\n",
      "\n",
      "See the caveats in the documentation: https://pandas.pydata.org/pandas-docs/stable/user_guide/indexing.html#returning-a-view-versus-a-copy\n",
      "  df['garlic_presence'] = df.apply(lambda row: row['Season_1_14'] or row['Season_2_14'], axis=1)\n",
      "/var/folders/xd/0btgr76j2zxc4__ynw0yhwbm0000gn/T/ipykernel_34903/2423799788.py:15: SettingWithCopyWarning: \n",
      "A value is trying to be set on a copy of a slice from a DataFrame.\n",
      "Try using .loc[row_indexer,col_indexer] = value instead\n",
      "\n",
      "See the caveats in the documentation: https://pandas.pydata.org/pandas-docs/stable/user_guide/indexing.html#returning-a-view-versus-a-copy\n",
      "  df['ginger_presence'] = df.apply(lambda row: row['Season_1_15'] or row['Season_2_15'], axis=1)\n",
      "/var/folders/xd/0btgr76j2zxc4__ynw0yhwbm0000gn/T/ipykernel_34903/2423799788.py:16: SettingWithCopyWarning: \n",
      "A value is trying to be set on a copy of a slice from a DataFrame.\n",
      "Try using .loc[row_indexer,col_indexer] = value instead\n",
      "\n",
      "See the caveats in the documentation: https://pandas.pydata.org/pandas-docs/stable/user_guide/indexing.html#returning-a-view-versus-a-copy\n",
      "  df['tobacco_presence'] = df.apply(lambda row: row['Season_1_16'] or row['Season_2_16'], axis=1)\n",
      "/var/folders/xd/0btgr76j2zxc4__ynw0yhwbm0000gn/T/ipykernel_34903/2423799788.py:17: SettingWithCopyWarning: \n",
      "A value is trying to be set on a copy of a slice from a DataFrame.\n",
      "Try using .loc[row_indexer,col_indexer] = value instead\n",
      "\n",
      "See the caveats in the documentation: https://pandas.pydata.org/pandas-docs/stable/user_guide/indexing.html#returning-a-view-versus-a-copy\n",
      "  df['other_presence'] = df.apply(lambda row: row['Season_1_97'] or row['Season_2_97'], axis=1)\n"
     ]
    }
   ],
   "source": [
    "df['beans_presence'] = df.apply(lambda row: row['Season_1_1'] or row['Season_2_1'], axis=1)\n",
    "df['gnuts_presence'] = df.apply(lambda row: row['Season_1_2'] or row['Season_2_2'], axis=1)\n",
    "df['soya_presence'] = df.apply(lambda row: row['Season_1_3'] or row['Season_2_3'], axis=1)\n",
    "df['peas_presence'] = df.apply(lambda row: row['Season_1_4'] or row['Season_2_4'], axis=1)\n",
    "df['maize_presence'] = df.apply(lambda row: row['Season_1_5'] or row['Season_2_5'], axis=1)\n",
    "df['millet_presence'] = df.apply(lambda row: row['Season_1_6'] or row['Season_2_6'], axis=1)\n",
    "df['sorghum_presence'] = df.apply(lambda row: row['Season_1_7'] or row['Season_2_7'], axis=1)\n",
    "df['barley_presence'] = df.apply(lambda row: row['Season_1_8'] or row['Season_2_8'], axis=1)\n",
    "df['rice_presence'] = df.apply(lambda row: row['Season_1_9'] or row['Season_2_9'], axis=1)\n",
    "df['irish_presence'] = df.apply(lambda row: row['Season_1_10'] or row['Season_2_10'], axis=1)\n",
    "df['sweet_presence'] = df.apply(lambda row: row['Season_1_11'] or row['Season_2_11'], axis=1)\n",
    "df['cassava_presence'] = df.apply(lambda row: row['Season_1_12'] or row['Season_2_12'], axis=1)\n",
    "df['yams_presence'] = df.apply(lambda row: row['Season_1_13'] or row['Season_2_13'], axis=1)\n",
    "df['garlic_presence'] = df.apply(lambda row: row['Season_1_14'] or row['Season_2_14'], axis=1)\n",
    "df['ginger_presence'] = df.apply(lambda row: row['Season_1_15'] or row['Season_2_15'], axis=1)\n",
    "df['tobacco_presence'] = df.apply(lambda row: row['Season_1_16'] or row['Season_2_16'], axis=1)\n",
    "df['other_presence'] = df.apply(lambda row: row['Season_1_97'] or row['Season_2_97'], axis=1)"
   ]
  },
  {
   "cell_type": "code",
   "execution_count": 56,
   "id": "b63f5c68-fdc7-483e-907e-0c1179005069",
   "metadata": {},
   "outputs": [
    {
     "name": "stderr",
     "output_type": "stream",
     "text": [
      "/var/folders/xd/0btgr76j2zxc4__ynw0yhwbm0000gn/T/ipykernel_34903/3436129895.py:1: SettingWithCopyWarning: \n",
      "A value is trying to be set on a copy of a slice from a DataFrame.\n",
      "Try using .loc[row_indexer,col_indexer] = value instead\n",
      "\n",
      "See the caveats in the documentation: https://pandas.pydata.org/pandas-docs/stable/user_guide/indexing.html#returning-a-view-versus-a-copy\n",
      "  df['crop_varieties'] = df[['beans_presence','gnuts_presence','soya_presence','peas_presence','maize_presence','millet_presence','sorghum_presence',\n"
     ]
    }
   ],
   "source": [
    "df['crop_varieties'] = df[['beans_presence','gnuts_presence','soya_presence','peas_presence','maize_presence','millet_presence','sorghum_presence',\n",
    "'barley_presence','rice_presence','irish_presence','sweet_presence','cassava_presence','yams_presence','garlic_presence',\n",
    "'ginger_presence','tobacco_presence','other_presence'\n",
    "]].sum(axis=1)"
   ]
  },
  {
   "cell_type": "code",
   "execution_count": 60,
   "id": "a1c302ef-8b85-4844-adb2-e5536ede11b9",
   "metadata": {},
   "outputs": [
    {
     "data": {
      "text/plain": [
       "above2\n",
       "above 2.15    4.221654\n",
       "below 2.15    3.604274\n",
       "Name: crop_varieties, dtype: float64"
      ]
     },
     "execution_count": 60,
     "metadata": {},
     "output_type": "execute_result"
    }
   ],
   "source": [
    "df.groupby('above2')['crop_varieties'].mean()"
   ]
  },
  {
   "cell_type": "code",
   "execution_count": 85,
   "id": "e6be0d58-37bb-47e4-8465-1f6ca36abfa5",
   "metadata": {},
   "outputs": [
    {
     "data": {
      "text/html": [
       "<div>\n",
       "<style scoped>\n",
       "    .dataframe tbody tr th:only-of-type {\n",
       "        vertical-align: middle;\n",
       "    }\n",
       "\n",
       "    .dataframe tbody tr th {\n",
       "        vertical-align: top;\n",
       "    }\n",
       "\n",
       "    .dataframe thead th {\n",
       "        text-align: right;\n",
       "    }\n",
       "</style>\n",
       "<table border=\"1\" class=\"dataframe\">\n",
       "  <thead>\n",
       "    <tr style=\"text-align: right;\">\n",
       "      <th>above2</th>\n",
       "      <th>above 2.15</th>\n",
       "      <th>below 2.15</th>\n",
       "    </tr>\n",
       "    <tr>\n",
       "      <th>Household_Head_Gender</th>\n",
       "      <th></th>\n",
       "      <th></th>\n",
       "    </tr>\n",
       "  </thead>\n",
       "  <tbody>\n",
       "    <tr>\n",
       "      <th>Female Headed</th>\n",
       "      <td>4.270667</td>\n",
       "      <td>3.606250</td>\n",
       "    </tr>\n",
       "    <tr>\n",
       "      <th>Male Headed</th>\n",
       "      <td>4.236184</td>\n",
       "      <td>3.648559</td>\n",
       "    </tr>\n",
       "    <tr>\n",
       "      <th>Youth Headed</th>\n",
       "      <td>4.003704</td>\n",
       "      <td>3.303704</td>\n",
       "    </tr>\n",
       "  </tbody>\n",
       "</table>\n",
       "</div>"
      ],
      "text/plain": [
       "above2                 above 2.15  below 2.15\n",
       "Household_Head_Gender                        \n",
       "Female Headed            4.270667    3.606250\n",
       "Male Headed              4.236184    3.648559\n",
       "Youth Headed             4.003704    3.303704"
      ]
     },
     "execution_count": 85,
     "metadata": {},
     "output_type": "execute_result"
    }
   ],
   "source": [
    "df.groupby(['Household_Head_Gender','above2'])['crop_varieties'].mean().unstack()"
   ]
  },
  {
   "cell_type": "code",
   "execution_count": null,
   "id": "db30b533-8b09-4064-9d43-2bca9d253516",
   "metadata": {},
   "outputs": [],
   "source": []
  },
  {
   "cell_type": "code",
   "execution_count": 71,
   "id": "58d7d51b-cec1-42c0-b635-b7849c76401d",
   "metadata": {},
   "outputs": [
    {
     "data": {
      "text/html": [
       "<div>\n",
       "<style scoped>\n",
       "    .dataframe tbody tr th:only-of-type {\n",
       "        vertical-align: middle;\n",
       "    }\n",
       "\n",
       "    .dataframe tbody tr th {\n",
       "        vertical-align: top;\n",
       "    }\n",
       "\n",
       "    .dataframe thead th {\n",
       "        text-align: right;\n",
       "    }\n",
       "</style>\n",
       "<table border=\"1\" class=\"dataframe\">\n",
       "  <thead>\n",
       "    <tr style=\"text-align: right;\">\n",
       "      <th></th>\n",
       "      <th>Formal Employment (USD)</th>\n",
       "      <th>Personal Business &amp; Self Employment (USD)</th>\n",
       "      <th>Casual Labour (USD)</th>\n",
       "      <th>Remittances &amp; Gifts (USD)</th>\n",
       "      <th>Rent Income (Property &amp; Land) USD</th>\n",
       "      <th>Seasonal Crops Income (USD)</th>\n",
       "      <th>Perenial Crops Income (USD)</th>\n",
       "      <th>Livestock Income (USD)</th>\n",
       "    </tr>\n",
       "  </thead>\n",
       "  <tbody>\n",
       "    <tr>\n",
       "      <th>0</th>\n",
       "      <td>0.000000</td>\n",
       "      <td>0.000000</td>\n",
       "      <td>54.054054</td>\n",
       "      <td>40.540541</td>\n",
       "      <td>0.0</td>\n",
       "      <td>55.405405</td>\n",
       "      <td>37.837838</td>\n",
       "      <td>0.000000</td>\n",
       "    </tr>\n",
       "    <tr>\n",
       "      <th>1</th>\n",
       "      <td>0.000000</td>\n",
       "      <td>0.000000</td>\n",
       "      <td>0.000000</td>\n",
       "      <td>8.108108</td>\n",
       "      <td>0.0</td>\n",
       "      <td>15.945946</td>\n",
       "      <td>124.324324</td>\n",
       "      <td>0.000000</td>\n",
       "    </tr>\n",
       "    <tr>\n",
       "      <th>2</th>\n",
       "      <td>0.000000</td>\n",
       "      <td>0.000000</td>\n",
       "      <td>110.270270</td>\n",
       "      <td>32.432432</td>\n",
       "      <td>0.0</td>\n",
       "      <td>77.567568</td>\n",
       "      <td>17.837838</td>\n",
       "      <td>0.000000</td>\n",
       "    </tr>\n",
       "    <tr>\n",
       "      <th>3</th>\n",
       "      <td>0.000000</td>\n",
       "      <td>5.405405</td>\n",
       "      <td>0.000000</td>\n",
       "      <td>0.000000</td>\n",
       "      <td>0.0</td>\n",
       "      <td>152.702703</td>\n",
       "      <td>33.513514</td>\n",
       "      <td>0.000000</td>\n",
       "    </tr>\n",
       "    <tr>\n",
       "      <th>4</th>\n",
       "      <td>0.000000</td>\n",
       "      <td>0.000000</td>\n",
       "      <td>0.000000</td>\n",
       "      <td>148.648649</td>\n",
       "      <td>0.0</td>\n",
       "      <td>28.108108</td>\n",
       "      <td>0.000000</td>\n",
       "      <td>0.000000</td>\n",
       "    </tr>\n",
       "    <tr>\n",
       "      <th>...</th>\n",
       "      <td>...</td>\n",
       "      <td>...</td>\n",
       "      <td>...</td>\n",
       "      <td>...</td>\n",
       "      <td>...</td>\n",
       "      <td>...</td>\n",
       "      <td>...</td>\n",
       "      <td>...</td>\n",
       "    </tr>\n",
       "    <tr>\n",
       "      <th>3892</th>\n",
       "      <td>1581.081081</td>\n",
       "      <td>0.000000</td>\n",
       "      <td>0.000000</td>\n",
       "      <td>16.216216</td>\n",
       "      <td>0.0</td>\n",
       "      <td>491.891892</td>\n",
       "      <td>0.000000</td>\n",
       "      <td>0.000000</td>\n",
       "    </tr>\n",
       "    <tr>\n",
       "      <th>3893</th>\n",
       "      <td>0.000000</td>\n",
       "      <td>367.567568</td>\n",
       "      <td>0.000000</td>\n",
       "      <td>40.540541</td>\n",
       "      <td>0.0</td>\n",
       "      <td>1259.459459</td>\n",
       "      <td>6.486486</td>\n",
       "      <td>0.000000</td>\n",
       "    </tr>\n",
       "    <tr>\n",
       "      <th>3894</th>\n",
       "      <td>0.000000</td>\n",
       "      <td>297.297297</td>\n",
       "      <td>0.000000</td>\n",
       "      <td>108.108108</td>\n",
       "      <td>0.0</td>\n",
       "      <td>656.486486</td>\n",
       "      <td>106.756757</td>\n",
       "      <td>0.000000</td>\n",
       "    </tr>\n",
       "    <tr>\n",
       "      <th>3895</th>\n",
       "      <td>0.000000</td>\n",
       "      <td>0.000000</td>\n",
       "      <td>0.000000</td>\n",
       "      <td>0.000000</td>\n",
       "      <td>0.0</td>\n",
       "      <td>707.837838</td>\n",
       "      <td>0.000000</td>\n",
       "      <td>297.297297</td>\n",
       "    </tr>\n",
       "    <tr>\n",
       "      <th>3896</th>\n",
       "      <td>0.000000</td>\n",
       "      <td>0.000000</td>\n",
       "      <td>0.000000</td>\n",
       "      <td>54.054054</td>\n",
       "      <td>0.0</td>\n",
       "      <td>536.081081</td>\n",
       "      <td>97.513514</td>\n",
       "      <td>60.810811</td>\n",
       "    </tr>\n",
       "  </tbody>\n",
       "</table>\n",
       "<p>3897 rows × 8 columns</p>\n",
       "</div>"
      ],
      "text/plain": [
       "      Formal Employment (USD)  Personal Business & Self Employment (USD)  \\\n",
       "0                    0.000000                                   0.000000   \n",
       "1                    0.000000                                   0.000000   \n",
       "2                    0.000000                                   0.000000   \n",
       "3                    0.000000                                   5.405405   \n",
       "4                    0.000000                                   0.000000   \n",
       "...                       ...                                        ...   \n",
       "3892              1581.081081                                   0.000000   \n",
       "3893                 0.000000                                 367.567568   \n",
       "3894                 0.000000                                 297.297297   \n",
       "3895                 0.000000                                   0.000000   \n",
       "3896                 0.000000                                   0.000000   \n",
       "\n",
       "      Casual Labour (USD)  Remittances & Gifts (USD)  \\\n",
       "0               54.054054                  40.540541   \n",
       "1                0.000000                   8.108108   \n",
       "2              110.270270                  32.432432   \n",
       "3                0.000000                   0.000000   \n",
       "4                0.000000                 148.648649   \n",
       "...                   ...                        ...   \n",
       "3892             0.000000                  16.216216   \n",
       "3893             0.000000                  40.540541   \n",
       "3894             0.000000                 108.108108   \n",
       "3895             0.000000                   0.000000   \n",
       "3896             0.000000                  54.054054   \n",
       "\n",
       "      Rent Income (Property & Land) USD  Seasonal Crops Income (USD)  \\\n",
       "0                                   0.0                    55.405405   \n",
       "1                                   0.0                    15.945946   \n",
       "2                                   0.0                    77.567568   \n",
       "3                                   0.0                   152.702703   \n",
       "4                                   0.0                    28.108108   \n",
       "...                                 ...                          ...   \n",
       "3892                                0.0                   491.891892   \n",
       "3893                                0.0                  1259.459459   \n",
       "3894                                0.0                   656.486486   \n",
       "3895                                0.0                   707.837838   \n",
       "3896                                0.0                   536.081081   \n",
       "\n",
       "      Perenial Crops Income (USD)  Livestock Income (USD)  \n",
       "0                       37.837838                0.000000  \n",
       "1                      124.324324                0.000000  \n",
       "2                       17.837838                0.000000  \n",
       "3                       33.513514                0.000000  \n",
       "4                        0.000000                0.000000  \n",
       "...                           ...                     ...  \n",
       "3892                     0.000000                0.000000  \n",
       "3893                     6.486486                0.000000  \n",
       "3894                   106.756757                0.000000  \n",
       "3895                     0.000000              297.297297  \n",
       "3896                    97.513514               60.810811  \n",
       "\n",
       "[3897 rows x 8 columns]"
      ]
     },
     "execution_count": 71,
     "metadata": {},
     "output_type": "execute_result"
    }
   ],
   "source": [
    "df[['Formal Employment (USD)','Personal Business & Self Employment (USD)','Casual Labour (USD)','Remittances & Gifts (USD)','Rent Income (Property & Land) USD','Seasonal Crops Income (USD)','Perenial Crops Income (USD)','Livestock Income (USD)']]"
   ]
  },
  {
   "cell_type": "code",
   "execution_count": 72,
   "id": "9d2d6a85-1046-4e77-9005-f6dcb7b19f5a",
   "metadata": {},
   "outputs": [],
   "source": [
    "specified_columns = ['Formal Employment (USD)','Personal Business & Self Employment (USD)','Casual Labour (USD)',\n",
    "                     'Remittances & Gifts (USD)','Rent Income (Property & Land) USD','Seasonal Crops Income (USD)',\n",
    "                     'Perenial Crops Income (USD)','Livestock Income (USD)']"
   ]
  },
  {
   "cell_type": "code",
   "execution_count": 73,
   "id": "f15387bf-5bec-4049-95fc-e6d6df58e2df",
   "metadata": {},
   "outputs": [
    {
     "data": {
      "text/html": [
       "<div>\n",
       "<style scoped>\n",
       "    .dataframe tbody tr th:only-of-type {\n",
       "        vertical-align: middle;\n",
       "    }\n",
       "\n",
       "    .dataframe tbody tr th {\n",
       "        vertical-align: top;\n",
       "    }\n",
       "\n",
       "    .dataframe thead th {\n",
       "        text-align: right;\n",
       "    }\n",
       "</style>\n",
       "<table border=\"1\" class=\"dataframe\">\n",
       "  <thead>\n",
       "    <tr style=\"text-align: right;\">\n",
       "      <th></th>\n",
       "      <th>Formal Employment (USD)</th>\n",
       "      <th>Personal Business &amp; Self Employment (USD)</th>\n",
       "      <th>Casual Labour (USD)</th>\n",
       "      <th>Remittances &amp; Gifts (USD)</th>\n",
       "      <th>Rent Income (Property &amp; Land) USD</th>\n",
       "      <th>Seasonal Crops Income (USD)</th>\n",
       "      <th>Perenial Crops Income (USD)</th>\n",
       "      <th>Livestock Income (USD)</th>\n",
       "    </tr>\n",
       "  </thead>\n",
       "  <tbody>\n",
       "    <tr>\n",
       "      <th>0</th>\n",
       "      <td>0</td>\n",
       "      <td>0</td>\n",
       "      <td>1</td>\n",
       "      <td>1</td>\n",
       "      <td>0</td>\n",
       "      <td>1</td>\n",
       "      <td>1</td>\n",
       "      <td>0</td>\n",
       "    </tr>\n",
       "    <tr>\n",
       "      <th>1</th>\n",
       "      <td>0</td>\n",
       "      <td>0</td>\n",
       "      <td>0</td>\n",
       "      <td>1</td>\n",
       "      <td>0</td>\n",
       "      <td>1</td>\n",
       "      <td>1</td>\n",
       "      <td>0</td>\n",
       "    </tr>\n",
       "    <tr>\n",
       "      <th>2</th>\n",
       "      <td>0</td>\n",
       "      <td>0</td>\n",
       "      <td>1</td>\n",
       "      <td>1</td>\n",
       "      <td>0</td>\n",
       "      <td>1</td>\n",
       "      <td>1</td>\n",
       "      <td>0</td>\n",
       "    </tr>\n",
       "    <tr>\n",
       "      <th>3</th>\n",
       "      <td>0</td>\n",
       "      <td>1</td>\n",
       "      <td>0</td>\n",
       "      <td>0</td>\n",
       "      <td>0</td>\n",
       "      <td>1</td>\n",
       "      <td>1</td>\n",
       "      <td>0</td>\n",
       "    </tr>\n",
       "    <tr>\n",
       "      <th>4</th>\n",
       "      <td>0</td>\n",
       "      <td>0</td>\n",
       "      <td>0</td>\n",
       "      <td>1</td>\n",
       "      <td>0</td>\n",
       "      <td>1</td>\n",
       "      <td>0</td>\n",
       "      <td>0</td>\n",
       "    </tr>\n",
       "    <tr>\n",
       "      <th>...</th>\n",
       "      <td>...</td>\n",
       "      <td>...</td>\n",
       "      <td>...</td>\n",
       "      <td>...</td>\n",
       "      <td>...</td>\n",
       "      <td>...</td>\n",
       "      <td>...</td>\n",
       "      <td>...</td>\n",
       "    </tr>\n",
       "    <tr>\n",
       "      <th>3892</th>\n",
       "      <td>1</td>\n",
       "      <td>0</td>\n",
       "      <td>0</td>\n",
       "      <td>1</td>\n",
       "      <td>0</td>\n",
       "      <td>1</td>\n",
       "      <td>0</td>\n",
       "      <td>0</td>\n",
       "    </tr>\n",
       "    <tr>\n",
       "      <th>3893</th>\n",
       "      <td>0</td>\n",
       "      <td>1</td>\n",
       "      <td>0</td>\n",
       "      <td>1</td>\n",
       "      <td>0</td>\n",
       "      <td>1</td>\n",
       "      <td>1</td>\n",
       "      <td>0</td>\n",
       "    </tr>\n",
       "    <tr>\n",
       "      <th>3894</th>\n",
       "      <td>0</td>\n",
       "      <td>1</td>\n",
       "      <td>0</td>\n",
       "      <td>1</td>\n",
       "      <td>0</td>\n",
       "      <td>1</td>\n",
       "      <td>1</td>\n",
       "      <td>0</td>\n",
       "    </tr>\n",
       "    <tr>\n",
       "      <th>3895</th>\n",
       "      <td>0</td>\n",
       "      <td>0</td>\n",
       "      <td>0</td>\n",
       "      <td>0</td>\n",
       "      <td>0</td>\n",
       "      <td>1</td>\n",
       "      <td>0</td>\n",
       "      <td>1</td>\n",
       "    </tr>\n",
       "    <tr>\n",
       "      <th>3896</th>\n",
       "      <td>0</td>\n",
       "      <td>0</td>\n",
       "      <td>0</td>\n",
       "      <td>1</td>\n",
       "      <td>0</td>\n",
       "      <td>1</td>\n",
       "      <td>1</td>\n",
       "      <td>1</td>\n",
       "    </tr>\n",
       "  </tbody>\n",
       "</table>\n",
       "<p>3897 rows × 8 columns</p>\n",
       "</div>"
      ],
      "text/plain": [
       "      Formal Employment (USD)  Personal Business & Self Employment (USD)  \\\n",
       "0                           0                                          0   \n",
       "1                           0                                          0   \n",
       "2                           0                                          0   \n",
       "3                           0                                          1   \n",
       "4                           0                                          0   \n",
       "...                       ...                                        ...   \n",
       "3892                        1                                          0   \n",
       "3893                        0                                          1   \n",
       "3894                        0                                          1   \n",
       "3895                        0                                          0   \n",
       "3896                        0                                          0   \n",
       "\n",
       "      Casual Labour (USD)  Remittances & Gifts (USD)  \\\n",
       "0                       1                          1   \n",
       "1                       0                          1   \n",
       "2                       1                          1   \n",
       "3                       0                          0   \n",
       "4                       0                          1   \n",
       "...                   ...                        ...   \n",
       "3892                    0                          1   \n",
       "3893                    0                          1   \n",
       "3894                    0                          1   \n",
       "3895                    0                          0   \n",
       "3896                    0                          1   \n",
       "\n",
       "      Rent Income (Property & Land) USD  Seasonal Crops Income (USD)  \\\n",
       "0                                     0                            1   \n",
       "1                                     0                            1   \n",
       "2                                     0                            1   \n",
       "3                                     0                            1   \n",
       "4                                     0                            1   \n",
       "...                                 ...                          ...   \n",
       "3892                                  0                            1   \n",
       "3893                                  0                            1   \n",
       "3894                                  0                            1   \n",
       "3895                                  0                            1   \n",
       "3896                                  0                            1   \n",
       "\n",
       "      Perenial Crops Income (USD)  Livestock Income (USD)  \n",
       "0                               1                       0  \n",
       "1                               1                       0  \n",
       "2                               1                       0  \n",
       "3                               1                       0  \n",
       "4                               0                       0  \n",
       "...                           ...                     ...  \n",
       "3892                            0                       0  \n",
       "3893                            1                       0  \n",
       "3894                            1                       0  \n",
       "3895                            0                       1  \n",
       "3896                            1                       1  \n",
       "\n",
       "[3897 rows x 8 columns]"
      ]
     },
     "execution_count": 73,
     "metadata": {},
     "output_type": "execute_result"
    }
   ],
   "source": [
    "binary_df = (df[specified_columns] != 0).astype(int)\n",
    "binary_df"
   ]
  },
  {
   "cell_type": "code",
   "execution_count": 74,
   "id": "49a83736-e0c3-4e96-b5d9-d4e52ef3bccb",
   "metadata": {},
   "outputs": [],
   "source": [
    "binary_df = (df[specified_columns] != 0).astype(int)"
   ]
  },
  {
   "cell_type": "code",
   "execution_count": 75,
   "id": "2586f38a-fc11-4a8f-9414-26a31f98f879",
   "metadata": {},
   "outputs": [
    {
     "name": "stderr",
     "output_type": "stream",
     "text": [
      "/var/folders/xd/0btgr76j2zxc4__ynw0yhwbm0000gn/T/ipykernel_34903/1304738042.py:1: SettingWithCopyWarning: \n",
      "A value is trying to be set on a copy of a slice from a DataFrame.\n",
      "Try using .loc[row_indexer,col_indexer] = value instead\n",
      "\n",
      "See the caveats in the documentation: https://pandas.pydata.org/pandas-docs/stable/user_guide/indexing.html#returning-a-view-versus-a-copy\n",
      "  df['Income Sources Count'] = binary_df.sum(axis=1)\n"
     ]
    }
   ],
   "source": [
    "df['Income Sources Count'] = binary_df.sum(axis=1)"
   ]
  },
  {
   "cell_type": "code",
   "execution_count": 79,
   "id": "7a98abae-3ab6-4751-aa5b-2571c73bdb27",
   "metadata": {},
   "outputs": [
    {
     "data": {
      "text/plain": [
       "above2\n",
       "above 2.15    3.917323\n",
       "below 2.15    3.434046\n",
       "Name: Income Sources Count, dtype: float64"
      ]
     },
     "execution_count": 79,
     "metadata": {},
     "output_type": "execute_result"
    }
   ],
   "source": [
    "df.groupby('above2')['Income Sources Count'].mean()"
   ]
  },
  {
   "cell_type": "code",
   "execution_count": 83,
   "id": "35c0a442-61ee-4be9-a9b8-4620ad241aae",
   "metadata": {},
   "outputs": [
    {
     "data": {
      "text/html": [
       "<div>\n",
       "<style scoped>\n",
       "    .dataframe tbody tr th:only-of-type {\n",
       "        vertical-align: middle;\n",
       "    }\n",
       "\n",
       "    .dataframe tbody tr th {\n",
       "        vertical-align: top;\n",
       "    }\n",
       "\n",
       "    .dataframe thead th {\n",
       "        text-align: right;\n",
       "    }\n",
       "</style>\n",
       "<table border=\"1\" class=\"dataframe\">\n",
       "  <thead>\n",
       "    <tr style=\"text-align: right;\">\n",
       "      <th>above2</th>\n",
       "      <th>above 2.15</th>\n",
       "      <th>below 2.15</th>\n",
       "    </tr>\n",
       "    <tr>\n",
       "      <th>Household_Head_Gender</th>\n",
       "      <th></th>\n",
       "      <th></th>\n",
       "    </tr>\n",
       "  </thead>\n",
       "  <tbody>\n",
       "    <tr>\n",
       "      <th>Female Headed</th>\n",
       "      <td>3.870667</td>\n",
       "      <td>3.409375</td>\n",
       "    </tr>\n",
       "    <tr>\n",
       "      <th>Male Headed</th>\n",
       "      <td>3.959868</td>\n",
       "      <td>3.454545</td>\n",
       "    </tr>\n",
       "    <tr>\n",
       "      <th>Youth Headed</th>\n",
       "      <td>3.807407</td>\n",
       "      <td>3.355556</td>\n",
       "    </tr>\n",
       "  </tbody>\n",
       "</table>\n",
       "</div>"
      ],
      "text/plain": [
       "above2                 above 2.15  below 2.15\n",
       "Household_Head_Gender                        \n",
       "Female Headed            3.870667    3.409375\n",
       "Male Headed              3.959868    3.454545\n",
       "Youth Headed             3.807407    3.355556"
      ]
     },
     "execution_count": 83,
     "metadata": {},
     "output_type": "execute_result"
    }
   ],
   "source": [
    "df.groupby(['Household_Head_Gender','above2'])['Income Sources Count'].mean().unstack()"
   ]
  },
  {
   "cell_type": "code",
   "execution_count": 87,
   "id": "ef028b85-3d49-4d44-8aff-ba2528cca623",
   "metadata": {},
   "outputs": [
    {
     "data": {
      "text/plain": [
       "above2\n",
       "above 2.15    1.661611\n",
       "below 2.15    1.437143\n",
       "Name: Land_size_for_Crop_Agriculture_Acres, dtype: float64"
      ]
     },
     "execution_count": 87,
     "metadata": {},
     "output_type": "execute_result"
    }
   ],
   "source": [
    "df.groupby('above2')['Land_size_for_Crop_Agriculture_Acres'].mean()"
   ]
  },
  {
   "cell_type": "code",
   "execution_count": 90,
   "id": "9124ad29-3df2-432f-a19d-805099a42098",
   "metadata": {},
   "outputs": [
    {
     "data": {
      "text/plain": [
       "above2      borrowed_past_12_months\n",
       "above 2.15  0                          0.783071\n",
       "            1                          0.216929\n",
       "below 2.15  0                          0.770081\n",
       "            1                          0.229919\n",
       "Name: proportion, dtype: float64"
      ]
     },
     "execution_count": 90,
     "metadata": {},
     "output_type": "execute_result"
    }
   ],
   "source": [
    "df.groupby('above2')['borrowed_past_12_months'].value_counts(normalize=True)"
   ]
  },
  {
   "cell_type": "code",
   "execution_count": 91,
   "id": "1fc330ec-f1b3-4556-805a-457d193e6341",
   "metadata": {},
   "outputs": [
    {
     "data": {
      "text/plain": [
       "borrowed_past_12_months  above2    \n",
       "0                        above 2.15    0.65557\n",
       "                         below 2.15    0.34443\n",
       "1                        above 2.15    0.63847\n",
       "                         below 2.15    0.36153\n",
       "Name: proportion, dtype: float64"
      ]
     },
     "execution_count": 91,
     "metadata": {},
     "output_type": "execute_result"
    }
   ],
   "source": [
    "df.groupby('borrowed_past_12_months')['above2'].value_counts(normalize=True)"
   ]
  },
  {
   "cell_type": "code",
   "execution_count": null,
   "id": "0aef043d-fbc1-448f-8d5f-19915c30bbc4",
   "metadata": {},
   "outputs": [],
   "source": []
  },
  {
   "cell_type": "markdown",
   "id": "202e2d56-c02a-4a2b-8df6-24d0008b3ae6",
   "metadata": {},
   "source": [
    "## Year one"
   ]
  },
  {
   "cell_type": "code",
   "execution_count": 2,
   "id": "de173a03-a044-42ea-9252-a2919527764d",
   "metadata": {},
   "outputs": [],
   "source": [
    "import pandas as pd"
   ]
  },
  {
   "cell_type": "code",
   "execution_count": 3,
   "id": "6c1d4522-64b7-47aa-8a39-730cca0b82a3",
   "metadata": {},
   "outputs": [],
   "source": [
    "df_y1 = pd.read_excel('ALL2021cohorts.xlsx', sheet_name='All2021CohortYr1',header=5)"
   ]
  },
  {
   "cell_type": "code",
   "execution_count": 4,
   "id": "b5fb8241-300f-4b8c-a5c7-7c2b87ffebcc",
   "metadata": {},
   "outputs": [
    {
     "data": {
      "text/html": [
       "<div>\n",
       "<style scoped>\n",
       "    .dataframe tbody tr th:only-of-type {\n",
       "        vertical-align: middle;\n",
       "    }\n",
       "\n",
       "    .dataframe tbody tr th {\n",
       "        vertical-align: top;\n",
       "    }\n",
       "\n",
       "    .dataframe thead th {\n",
       "        text-align: right;\n",
       "    }\n",
       "</style>\n",
       "<table border=\"1\" class=\"dataframe\">\n",
       "  <thead>\n",
       "    <tr style=\"text-align: right;\">\n",
       "      <th></th>\n",
       "      <th>SubmissionDate</th>\n",
       "      <th>starttime</th>\n",
       "      <th>endtime</th>\n",
       "      <th>version</th>\n",
       "      <th>duration</th>\n",
       "      <th>survey_start</th>\n",
       "      <th>intro_start</th>\n",
       "      <th>district</th>\n",
       "      <th>Surveyor_Name</th>\n",
       "      <th>Surveyor_Name2</th>\n",
       "      <th>...</th>\n",
       "      <th>WASH (%)</th>\n",
       "      <th>AGRIC (%)</th>\n",
       "      <th>Status</th>\n",
       "      <th>Unnamed: 4650</th>\n",
       "      <th>hh_size.1</th>\n",
       "      <th>hh_size_adjusted.1</th>\n",
       "      <th>HH Income/Day (USD_adult_equiv_adj)</th>\n",
       "      <th>Consumption/Day (USD_adult_equiv_adj)</th>\n",
       "      <th>HH Income + Consumption + Residues/Day (USD_adult_equiv_adj)</th>\n",
       "      <th>HH Income + Consumption + Assets + Residues / Day (USD_adult_equiv_adj)</th>\n",
       "    </tr>\n",
       "  </thead>\n",
       "  <tbody>\n",
       "    <tr>\n",
       "      <th>0</th>\n",
       "      <td>Aug 18, 2022 10:47:35 PM</td>\n",
       "      <td>Aug 18, 2022 2:40:30 PM</td>\n",
       "      <td>Aug 18, 2022 9:57:10 PM</td>\n",
       "      <td>2.208122e+09</td>\n",
       "      <td>4054.0</td>\n",
       "      <td>3.0</td>\n",
       "      <td>3.0</td>\n",
       "      <td>2.0</td>\n",
       "      <td>27.0</td>\n",
       "      <td>Godwin Rukundo</td>\n",
       "      <td>...</td>\n",
       "      <td>0.535714</td>\n",
       "      <td>0.333333</td>\n",
       "      <td>RTV</td>\n",
       "      <td>NaN</td>\n",
       "      <td>7.0</td>\n",
       "      <td>2.645751</td>\n",
       "      <td>0.286840</td>\n",
       "      <td>0.441187</td>\n",
       "      <td>0.728027</td>\n",
       "      <td>0.728027</td>\n",
       "    </tr>\n",
       "    <tr>\n",
       "      <th>1</th>\n",
       "      <td>Aug 20, 2022 7:05:30 PM</td>\n",
       "      <td>Aug 20, 2022 8:58:31 AM</td>\n",
       "      <td>Aug 20, 2022 6:22:37 PM</td>\n",
       "      <td>2.208122e+09</td>\n",
       "      <td>2852.0</td>\n",
       "      <td>2.0</td>\n",
       "      <td>2.0</td>\n",
       "      <td>2.0</td>\n",
       "      <td>32.0</td>\n",
       "      <td>Jallah Kembabazi</td>\n",
       "      <td>...</td>\n",
       "      <td>0.857143</td>\n",
       "      <td>0.638889</td>\n",
       "      <td>RTV</td>\n",
       "      <td>NaN</td>\n",
       "      <td>2.0</td>\n",
       "      <td>1.414214</td>\n",
       "      <td>1.106988</td>\n",
       "      <td>0.336032</td>\n",
       "      <td>1.443020</td>\n",
       "      <td>1.443020</td>\n",
       "    </tr>\n",
       "    <tr>\n",
       "      <th>2</th>\n",
       "      <td>Aug 22, 2022 7:49:27 PM</td>\n",
       "      <td>Aug 22, 2022 10:55:03 AM</td>\n",
       "      <td>Aug 22, 2022 5:30:42 PM</td>\n",
       "      <td>2.208122e+09</td>\n",
       "      <td>1468.0</td>\n",
       "      <td>3.0</td>\n",
       "      <td>3.0</td>\n",
       "      <td>2.0</td>\n",
       "      <td>14.0</td>\n",
       "      <td>Agatha Babirye</td>\n",
       "      <td>...</td>\n",
       "      <td>0.500000</td>\n",
       "      <td>0.305556</td>\n",
       "      <td>RTV</td>\n",
       "      <td>NaN</td>\n",
       "      <td>3.0</td>\n",
       "      <td>1.732051</td>\n",
       "      <td>0.224294</td>\n",
       "      <td>0.970201</td>\n",
       "      <td>1.194495</td>\n",
       "      <td>1.194495</td>\n",
       "    </tr>\n",
       "    <tr>\n",
       "      <th>3</th>\n",
       "      <td>Aug 19, 2022 7:26:56 PM</td>\n",
       "      <td>Aug 19, 2022 10:40:08 AM</td>\n",
       "      <td>Aug 19, 2022 3:13:17 PM</td>\n",
       "      <td>2.208122e+09</td>\n",
       "      <td>2821.0</td>\n",
       "      <td>20.0</td>\n",
       "      <td>20.0</td>\n",
       "      <td>2.0</td>\n",
       "      <td>22.0</td>\n",
       "      <td>Dickens Ainebyona</td>\n",
       "      <td>...</td>\n",
       "      <td>0.464286</td>\n",
       "      <td>0.555556</td>\n",
       "      <td>RTV</td>\n",
       "      <td>NaN</td>\n",
       "      <td>3.0</td>\n",
       "      <td>1.732051</td>\n",
       "      <td>0.787011</td>\n",
       "      <td>0.274369</td>\n",
       "      <td>1.061379</td>\n",
       "      <td>1.207431</td>\n",
       "    </tr>\n",
       "    <tr>\n",
       "      <th>4</th>\n",
       "      <td>Aug 22, 2022 5:39:13 PM</td>\n",
       "      <td>Aug 22, 2022 2:53:16 PM</td>\n",
       "      <td>Aug 22, 2022 4:16:27 PM</td>\n",
       "      <td>2.208122e+09</td>\n",
       "      <td>3735.0</td>\n",
       "      <td>27.0</td>\n",
       "      <td>27.0</td>\n",
       "      <td>2.0</td>\n",
       "      <td>27.0</td>\n",
       "      <td>Godwin Rukundo</td>\n",
       "      <td>...</td>\n",
       "      <td>0.607143</td>\n",
       "      <td>0.500000</td>\n",
       "      <td>RTV</td>\n",
       "      <td>NaN</td>\n",
       "      <td>5.0</td>\n",
       "      <td>2.236068</td>\n",
       "      <td>0.175063</td>\n",
       "      <td>0.095192</td>\n",
       "      <td>0.270254</td>\n",
       "      <td>0.965204</td>\n",
       "    </tr>\n",
       "    <tr>\n",
       "      <th>...</th>\n",
       "      <td>...</td>\n",
       "      <td>...</td>\n",
       "      <td>...</td>\n",
       "      <td>...</td>\n",
       "      <td>...</td>\n",
       "      <td>...</td>\n",
       "      <td>...</td>\n",
       "      <td>...</td>\n",
       "      <td>...</td>\n",
       "      <td>...</td>\n",
       "      <td>...</td>\n",
       "      <td>...</td>\n",
       "      <td>...</td>\n",
       "      <td>...</td>\n",
       "      <td>...</td>\n",
       "      <td>...</td>\n",
       "      <td>...</td>\n",
       "      <td>...</td>\n",
       "      <td>...</td>\n",
       "      <td>...</td>\n",
       "      <td>...</td>\n",
       "    </tr>\n",
       "    <tr>\n",
       "      <th>3913</th>\n",
       "      <td>Aug 5, 2022 6:10:02 PM</td>\n",
       "      <td>Aug 5, 2022 12:05:07 PM</td>\n",
       "      <td>Aug 5, 2022 1:19:00 PM</td>\n",
       "      <td>2.208042e+09</td>\n",
       "      <td>4375.0</td>\n",
       "      <td>24.0</td>\n",
       "      <td>24.0</td>\n",
       "      <td>7.0</td>\n",
       "      <td>116.0</td>\n",
       "      <td>Akatukunda Nosi</td>\n",
       "      <td>...</td>\n",
       "      <td>0.500000</td>\n",
       "      <td>0.500000</td>\n",
       "      <td>RTV</td>\n",
       "      <td>NaN</td>\n",
       "      <td>5.0</td>\n",
       "      <td>2.236068</td>\n",
       "      <td>6.145451</td>\n",
       "      <td>0.268283</td>\n",
       "      <td>6.413734</td>\n",
       "      <td>6.893734</td>\n",
       "    </tr>\n",
       "    <tr>\n",
       "      <th>3914</th>\n",
       "      <td>Aug 12, 2022 8:45:26 AM</td>\n",
       "      <td>Aug 11, 2022 12:00:08 PM</td>\n",
       "      <td>Aug 11, 2022 10:09:35 PM</td>\n",
       "      <td>2.208100e+09</td>\n",
       "      <td>6878.0</td>\n",
       "      <td>2.0</td>\n",
       "      <td>2.0</td>\n",
       "      <td>7.0</td>\n",
       "      <td>117.0</td>\n",
       "      <td>Manzi Patrick</td>\n",
       "      <td>...</td>\n",
       "      <td>0.428571</td>\n",
       "      <td>0.833333</td>\n",
       "      <td>RTV</td>\n",
       "      <td>NaN</td>\n",
       "      <td>2.0</td>\n",
       "      <td>1.414214</td>\n",
       "      <td>3.094559</td>\n",
       "      <td>0.587736</td>\n",
       "      <td>3.682295</td>\n",
       "      <td>11.028997</td>\n",
       "    </tr>\n",
       "    <tr>\n",
       "      <th>3915</th>\n",
       "      <td>Aug 6, 2022 8:52:26 PM</td>\n",
       "      <td>Aug 6, 2022 12:02:31 PM</td>\n",
       "      <td>Aug 6, 2022 8:28:39 PM</td>\n",
       "      <td>2.208052e+09</td>\n",
       "      <td>4968.0</td>\n",
       "      <td>3.0</td>\n",
       "      <td>3.0</td>\n",
       "      <td>7.0</td>\n",
       "      <td>127.0</td>\n",
       "      <td>Akandwanaho Charles</td>\n",
       "      <td>...</td>\n",
       "      <td>0.785714</td>\n",
       "      <td>0.472222</td>\n",
       "      <td>RTV</td>\n",
       "      <td>NaN</td>\n",
       "      <td>9.0</td>\n",
       "      <td>3.000000</td>\n",
       "      <td>2.106571</td>\n",
       "      <td>0.808598</td>\n",
       "      <td>2.915169</td>\n",
       "      <td>5.225018</td>\n",
       "    </tr>\n",
       "    <tr>\n",
       "      <th>3916</th>\n",
       "      <td>Aug 6, 2022 8:52:29 PM</td>\n",
       "      <td>Aug 6, 2022 1:24:45 PM</td>\n",
       "      <td>Aug 6, 2022 8:51:27 PM</td>\n",
       "      <td>2.208052e+09</td>\n",
       "      <td>4548.0</td>\n",
       "      <td>3.0</td>\n",
       "      <td>3.0</td>\n",
       "      <td>7.0</td>\n",
       "      <td>127.0</td>\n",
       "      <td>Akandwanaho Charles</td>\n",
       "      <td>...</td>\n",
       "      <td>0.785714</td>\n",
       "      <td>0.472222</td>\n",
       "      <td>RTV</td>\n",
       "      <td>NaN</td>\n",
       "      <td>8.0</td>\n",
       "      <td>2.828427</td>\n",
       "      <td>2.107545</td>\n",
       "      <td>1.116379</td>\n",
       "      <td>3.223924</td>\n",
       "      <td>5.549315</td>\n",
       "    </tr>\n",
       "    <tr>\n",
       "      <th>3917</th>\n",
       "      <td>Aug 4, 2022 6:58:05 PM</td>\n",
       "      <td>Aug 4, 2022 2:54:25 PM</td>\n",
       "      <td>Aug 4, 2022 4:17:44 PM</td>\n",
       "      <td>2.208012e+09</td>\n",
       "      <td>4942.0</td>\n",
       "      <td>6.0</td>\n",
       "      <td>6.0</td>\n",
       "      <td>7.0</td>\n",
       "      <td>105.0</td>\n",
       "      <td>Mugabe Dickson</td>\n",
       "      <td>...</td>\n",
       "      <td>0.392857</td>\n",
       "      <td>0.416667</td>\n",
       "      <td>RTV</td>\n",
       "      <td>NaN</td>\n",
       "      <td>7.0</td>\n",
       "      <td>2.645751</td>\n",
       "      <td>3.181535</td>\n",
       "      <td>0.182690</td>\n",
       "      <td>3.364224</td>\n",
       "      <td>6.027739</td>\n",
       "    </tr>\n",
       "  </tbody>\n",
       "</table>\n",
       "<p>3918 rows × 4657 columns</p>\n",
       "</div>"
      ],
      "text/plain": [
       "                SubmissionDate                 starttime  \\\n",
       "0     Aug 18, 2022 10:47:35 PM   Aug 18, 2022 2:40:30 PM   \n",
       "1      Aug 20, 2022 7:05:30 PM   Aug 20, 2022 8:58:31 AM   \n",
       "2      Aug 22, 2022 7:49:27 PM  Aug 22, 2022 10:55:03 AM   \n",
       "3      Aug 19, 2022 7:26:56 PM  Aug 19, 2022 10:40:08 AM   \n",
       "4      Aug 22, 2022 5:39:13 PM   Aug 22, 2022 2:53:16 PM   \n",
       "...                        ...                       ...   \n",
       "3913    Aug 5, 2022 6:10:02 PM   Aug 5, 2022 12:05:07 PM   \n",
       "3914   Aug 12, 2022 8:45:26 AM  Aug 11, 2022 12:00:08 PM   \n",
       "3915    Aug 6, 2022 8:52:26 PM   Aug 6, 2022 12:02:31 PM   \n",
       "3916    Aug 6, 2022 8:52:29 PM    Aug 6, 2022 1:24:45 PM   \n",
       "3917    Aug 4, 2022 6:58:05 PM    Aug 4, 2022 2:54:25 PM   \n",
       "\n",
       "                       endtime       version  duration  survey_start  \\\n",
       "0      Aug 18, 2022 9:57:10 PM  2.208122e+09    4054.0           3.0   \n",
       "1      Aug 20, 2022 6:22:37 PM  2.208122e+09    2852.0           2.0   \n",
       "2      Aug 22, 2022 5:30:42 PM  2.208122e+09    1468.0           3.0   \n",
       "3      Aug 19, 2022 3:13:17 PM  2.208122e+09    2821.0          20.0   \n",
       "4      Aug 22, 2022 4:16:27 PM  2.208122e+09    3735.0          27.0   \n",
       "...                        ...           ...       ...           ...   \n",
       "3913    Aug 5, 2022 1:19:00 PM  2.208042e+09    4375.0          24.0   \n",
       "3914  Aug 11, 2022 10:09:35 PM  2.208100e+09    6878.0           2.0   \n",
       "3915    Aug 6, 2022 8:28:39 PM  2.208052e+09    4968.0           3.0   \n",
       "3916    Aug 6, 2022 8:51:27 PM  2.208052e+09    4548.0           3.0   \n",
       "3917    Aug 4, 2022 4:17:44 PM  2.208012e+09    4942.0           6.0   \n",
       "\n",
       "      intro_start  district  Surveyor_Name       Surveyor_Name2  ...  \\\n",
       "0             3.0       2.0           27.0       Godwin Rukundo  ...   \n",
       "1             2.0       2.0           32.0     Jallah Kembabazi  ...   \n",
       "2             3.0       2.0           14.0       Agatha Babirye  ...   \n",
       "3            20.0       2.0           22.0    Dickens Ainebyona  ...   \n",
       "4            27.0       2.0           27.0       Godwin Rukundo  ...   \n",
       "...           ...       ...            ...                  ...  ...   \n",
       "3913         24.0       7.0          116.0      Akatukunda Nosi  ...   \n",
       "3914          2.0       7.0          117.0        Manzi Patrick  ...   \n",
       "3915          3.0       7.0          127.0  Akandwanaho Charles  ...   \n",
       "3916          3.0       7.0          127.0  Akandwanaho Charles  ...   \n",
       "3917          6.0       7.0          105.0       Mugabe Dickson  ...   \n",
       "\n",
       "      WASH (%) AGRIC (%) Status Unnamed: 4650 hh_size.1 hh_size_adjusted.1  \\\n",
       "0     0.535714  0.333333    RTV           NaN       7.0           2.645751   \n",
       "1     0.857143  0.638889    RTV           NaN       2.0           1.414214   \n",
       "2     0.500000  0.305556    RTV           NaN       3.0           1.732051   \n",
       "3     0.464286  0.555556    RTV           NaN       3.0           1.732051   \n",
       "4     0.607143  0.500000    RTV           NaN       5.0           2.236068   \n",
       "...        ...       ...    ...           ...       ...                ...   \n",
       "3913  0.500000  0.500000    RTV           NaN       5.0           2.236068   \n",
       "3914  0.428571  0.833333    RTV           NaN       2.0           1.414214   \n",
       "3915  0.785714  0.472222    RTV           NaN       9.0           3.000000   \n",
       "3916  0.785714  0.472222    RTV           NaN       8.0           2.828427   \n",
       "3917  0.392857  0.416667    RTV           NaN       7.0           2.645751   \n",
       "\n",
       "     HH Income/Day (USD_adult_equiv_adj)  \\\n",
       "0                               0.286840   \n",
       "1                               1.106988   \n",
       "2                               0.224294   \n",
       "3                               0.787011   \n",
       "4                               0.175063   \n",
       "...                                  ...   \n",
       "3913                            6.145451   \n",
       "3914                            3.094559   \n",
       "3915                            2.106571   \n",
       "3916                            2.107545   \n",
       "3917                            3.181535   \n",
       "\n",
       "     Consumption/Day (USD_adult_equiv_adj)  \\\n",
       "0                                 0.441187   \n",
       "1                                 0.336032   \n",
       "2                                 0.970201   \n",
       "3                                 0.274369   \n",
       "4                                 0.095192   \n",
       "...                                    ...   \n",
       "3913                              0.268283   \n",
       "3914                              0.587736   \n",
       "3915                              0.808598   \n",
       "3916                              1.116379   \n",
       "3917                              0.182690   \n",
       "\n",
       "     HH Income + Consumption + Residues/Day (USD_adult_equiv_adj)  \\\n",
       "0                                              0.728027             \n",
       "1                                              1.443020             \n",
       "2                                              1.194495             \n",
       "3                                              1.061379             \n",
       "4                                              0.270254             \n",
       "...                                                 ...             \n",
       "3913                                           6.413734             \n",
       "3914                                           3.682295             \n",
       "3915                                           2.915169             \n",
       "3916                                           3.223924             \n",
       "3917                                           3.364224             \n",
       "\n",
       "      HH Income + Consumption + Assets + Residues / Day (USD_adult_equiv_adj)  \n",
       "0                                              0.728027                        \n",
       "1                                              1.443020                        \n",
       "2                                              1.194495                        \n",
       "3                                              1.207431                        \n",
       "4                                              0.965204                        \n",
       "...                                                 ...                        \n",
       "3913                                           6.893734                        \n",
       "3914                                          11.028997                        \n",
       "3915                                           5.225018                        \n",
       "3916                                           5.549315                        \n",
       "3917                                           6.027739                        \n",
       "\n",
       "[3918 rows x 4657 columns]"
      ]
     },
     "execution_count": 4,
     "metadata": {},
     "output_type": "execute_result"
    }
   ],
   "source": [
    "df_y1.iloc[:3918,:]"
   ]
  },
  {
   "cell_type": "code",
   "execution_count": 7,
   "id": "67662875-7381-43e4-a204-60b3dc2252e6",
   "metadata": {},
   "outputs": [
    {
     "data": {
      "text/plain": [
       "Gender\n",
       "Male      2719\n",
       "Female    1199\n",
       "Name: count, dtype: int64"
      ]
     },
     "execution_count": 7,
     "metadata": {},
     "output_type": "execute_result"
    }
   ],
   "source": [
    "df_y1['Gender'] = df_y1['hhh_sex'].replace(sex_mapping)\n",
    "df_y1['Gender'].value_counts()"
   ]
  },
  {
   "cell_type": "code",
   "execution_count": 8,
   "id": "70c9d599-5742-4f25-8004-19adc79890a2",
   "metadata": {},
   "outputs": [],
   "source": [
    "df_y1['Household_Head_Gender'] = df_y1['Gender']"
   ]
  },
  {
   "cell_type": "code",
   "execution_count": 9,
   "id": "4c6c97ce-1ef4-46bc-af19-4d803da5ef96",
   "metadata": {},
   "outputs": [],
   "source": [
    "df_y1['Household_Head_Gender'] = df_y1.apply(lambda row: 'Youth Headed' if row['hhh_age'] < 30 else str(row['Household_Head_Gender']) + ' Headed', axis=1)"
   ]
  },
  {
   "cell_type": "code",
   "execution_count": 10,
   "id": "5bcaa95e-6e21-4ac9-b111-8e3dcb7b4560",
   "metadata": {},
   "outputs": [
    {
     "data": {
      "text/plain": [
       "Household_Head_Gender\n",
       "Male Headed      2367\n",
       "Female Headed    1153\n",
       "Youth Headed      398\n",
       "nan Headed          2\n",
       "Name: count, dtype: int64"
      ]
     },
     "execution_count": 10,
     "metadata": {},
     "output_type": "execute_result"
    }
   ],
   "source": [
    "df_y1['Household_Head_Gender'].value_counts()"
   ]
  },
  {
   "cell_type": "code",
   "execution_count": 11,
   "id": "c5357ff9-6786-4caf-acbd-ebdbef35ca48",
   "metadata": {},
   "outputs": [
    {
     "data": {
      "text/html": [
       "<div>\n",
       "<style scoped>\n",
       "    .dataframe tbody tr th:only-of-type {\n",
       "        vertical-align: middle;\n",
       "    }\n",
       "\n",
       "    .dataframe tbody tr th {\n",
       "        vertical-align: top;\n",
       "    }\n",
       "\n",
       "    .dataframe thead th {\n",
       "        text-align: right;\n",
       "    }\n",
       "</style>\n",
       "<table border=\"1\" class=\"dataframe\">\n",
       "  <thead>\n",
       "    <tr style=\"text-align: right;\">\n",
       "      <th></th>\n",
       "      <th>HH Income/Day (USD_adult_equiv_adj)</th>\n",
       "      <th>HH Income + Consumption + Residues/Day (USD_adult_equiv_adj)</th>\n",
       "    </tr>\n",
       "    <tr>\n",
       "      <th>Household_Head_Gender</th>\n",
       "      <th></th>\n",
       "      <th></th>\n",
       "    </tr>\n",
       "  </thead>\n",
       "  <tbody>\n",
       "    <tr>\n",
       "      <th>Female Headed</th>\n",
       "      <td>1.340591</td>\n",
       "      <td>2.281453</td>\n",
       "    </tr>\n",
       "    <tr>\n",
       "      <th>Male Headed</th>\n",
       "      <td>1.495538</td>\n",
       "      <td>2.403108</td>\n",
       "    </tr>\n",
       "    <tr>\n",
       "      <th>Youth Headed</th>\n",
       "      <td>1.721100</td>\n",
       "      <td>2.588078</td>\n",
       "    </tr>\n",
       "    <tr>\n",
       "      <th>nan Headed</th>\n",
       "      <td>NaN</td>\n",
       "      <td>NaN</td>\n",
       "    </tr>\n",
       "  </tbody>\n",
       "</table>\n",
       "</div>"
      ],
      "text/plain": [
       "                       HH Income/Day (USD_adult_equiv_adj)  \\\n",
       "Household_Head_Gender                                        \n",
       "Female Headed                                     1.340591   \n",
       "Male Headed                                       1.495538   \n",
       "Youth Headed                                      1.721100   \n",
       "nan Headed                                             NaN   \n",
       "\n",
       "                       HH Income + Consumption + Residues/Day (USD_adult_equiv_adj)  \n",
       "Household_Head_Gender                                                                \n",
       "Female Headed                                                   2.281453             \n",
       "Male Headed                                                     2.403108             \n",
       "Youth Headed                                                    2.588078             \n",
       "nan Headed                                                           NaN             "
      ]
     },
     "execution_count": 11,
     "metadata": {},
     "output_type": "execute_result"
    }
   ],
   "source": [
    "df_y1.groupby('Household_Head_Gender')[['HH Income/Day (USD_adult_equiv_adj)','HH Income + Consumption + Residues/Day (USD_adult_equiv_adj)']].mean()"
   ]
  },
  {
   "cell_type": "code",
   "execution_count": 12,
   "id": "b6ded22e-212d-4e41-8fd8-64479eae07ba",
   "metadata": {},
   "outputs": [
    {
     "data": {
      "text/html": [
       "<div>\n",
       "<style scoped>\n",
       "    .dataframe tbody tr th:only-of-type {\n",
       "        vertical-align: middle;\n",
       "    }\n",
       "\n",
       "    .dataframe tbody tr th {\n",
       "        vertical-align: top;\n",
       "    }\n",
       "\n",
       "    .dataframe thead th {\n",
       "        text-align: right;\n",
       "    }\n",
       "</style>\n",
       "<table border=\"1\" class=\"dataframe\">\n",
       "  <thead>\n",
       "    <tr style=\"text-align: right;\">\n",
       "      <th></th>\n",
       "      <th>HH Income/Day (USD_adult_equiv_adj)</th>\n",
       "      <th>HH Income + Consumption + Residues/Day (USD_adult_equiv_adj)</th>\n",
       "    </tr>\n",
       "    <tr>\n",
       "      <th>Household_Head_Gender</th>\n",
       "      <th></th>\n",
       "      <th></th>\n",
       "    </tr>\n",
       "  </thead>\n",
       "  <tbody>\n",
       "    <tr>\n",
       "      <th>Female Headed</th>\n",
       "      <td>0.980256</td>\n",
       "      <td>1.897269</td>\n",
       "    </tr>\n",
       "    <tr>\n",
       "      <th>Male Headed</th>\n",
       "      <td>1.153268</td>\n",
       "      <td>2.015757</td>\n",
       "    </tr>\n",
       "    <tr>\n",
       "      <th>Youth Headed</th>\n",
       "      <td>1.311826</td>\n",
       "      <td>2.199827</td>\n",
       "    </tr>\n",
       "    <tr>\n",
       "      <th>nan Headed</th>\n",
       "      <td>NaN</td>\n",
       "      <td>NaN</td>\n",
       "    </tr>\n",
       "  </tbody>\n",
       "</table>\n",
       "</div>"
      ],
      "text/plain": [
       "                       HH Income/Day (USD_adult_equiv_adj)  \\\n",
       "Household_Head_Gender                                        \n",
       "Female Headed                                     0.980256   \n",
       "Male Headed                                       1.153268   \n",
       "Youth Headed                                      1.311826   \n",
       "nan Headed                                             NaN   \n",
       "\n",
       "                       HH Income + Consumption + Residues/Day (USD_adult_equiv_adj)  \n",
       "Household_Head_Gender                                                                \n",
       "Female Headed                                                   1.897269             \n",
       "Male Headed                                                     2.015757             \n",
       "Youth Headed                                                    2.199827             \n",
       "nan Headed                                                           NaN             "
      ]
     },
     "execution_count": 12,
     "metadata": {},
     "output_type": "execute_result"
    }
   ],
   "source": [
    "df_y1.groupby('Household_Head_Gender')[['HH Income/Day (USD_adult_equiv_adj)',\n",
    "                                     'HH Income + Consumption + Residues/Day (USD_adult_equiv_adj)']].median()"
   ]
  },
  {
   "cell_type": "code",
   "execution_count": 13,
   "id": "1f627f66-f3b1-4277-8581-c99967a4f92a",
   "metadata": {},
   "outputs": [
    {
     "data": {
      "text/plain": [
       "(1.4728526520828218, 1.128702795652476)"
      ]
     },
     "execution_count": 13,
     "metadata": {},
     "output_type": "execute_result"
    }
   ],
   "source": [
    "df_y1['HH Income/Day (USD_adult_equiv_adj)'].mean(), df_y1['HH Income/Day (USD_adult_equiv_adj)'].median()"
   ]
  },
  {
   "cell_type": "code",
   "execution_count": 14,
   "id": "325faa08-679b-4e4f-ab6f-9dd7ada5bea5",
   "metadata": {},
   "outputs": [
    {
     "data": {
      "text/plain": [
       "(2.386096820884156, 2.0036418895636734)"
      ]
     },
     "execution_count": 14,
     "metadata": {},
     "output_type": "execute_result"
    }
   ],
   "source": [
    "df_y1['HH Income + Consumption + Residues/Day (USD_adult_equiv_adj)'].mean(), df_y1['HH Income + Consumption + Residues/Day (USD_adult_equiv_adj)'].median()"
   ]
  },
  {
   "cell_type": "code",
   "execution_count": null,
   "id": "4e7c7e12-dae1-4f94-85d1-a43dda5b608a",
   "metadata": {},
   "outputs": [],
   "source": []
  },
  {
   "cell_type": "code",
   "execution_count": null,
   "id": "899f5dca-6f77-4f9d-afea-eb5492213c45",
   "metadata": {},
   "outputs": [],
   "source": []
  },
  {
   "cell_type": "code",
   "execution_count": 15,
   "id": "ed486721-6648-40da-9b61-e3c61dac1fd6",
   "metadata": {},
   "outputs": [],
   "source": [
    "boundaries_ppp = [0, 0.75, 1.25, 1.77,2.15,3,float('inf')]\n",
    "labels_ppp = [\"0-<0.75/Day\", \"0.75-<1.25/Day\", \"1.25-<1.77/Day\", \"1.77-<2.15 /Day\", \"2.15-3/Day\", \">3+/Day\"]"
   ]
  },
  {
   "cell_type": "code",
   "execution_count": 16,
   "id": "dd0be2f6-c8c1-442f-bb3c-be5ff7539586",
   "metadata": {},
   "outputs": [],
   "source": [
    "boundaries = [0, 0.75, 1.25, 2, 3, float('inf')]\n",
    "labels = [\"0-<0.75/Day\", \"0.75-<1.25/Day\", \"1.25-<2/Day\", \"2-<3/Day\", \"3+/Day\"]"
   ]
  },
  {
   "cell_type": "code",
   "execution_count": 17,
   "id": "40eeae94-0a64-4045-95de-74c535a3abdb",
   "metadata": {},
   "outputs": [],
   "source": [
    "df_y1['income_group'] = pd.cut(df_y1['HH Income + Consumption + Residues/Day (USD_adult_equiv_adj)'], bins=boundaries, labels=labels, right=False)"
   ]
  },
  {
   "cell_type": "code",
   "execution_count": 18,
   "id": "4dbbbe0a-6123-4849-bca1-da81e4c1e4d6",
   "metadata": {},
   "outputs": [
    {
     "data": {
      "text/plain": [
       "income_group\n",
       "3+/Day            0.262124\n",
       "1.25-<2/Day       0.258806\n",
       "2-<3/Day          0.238897\n",
       "0.75-<1.25/Day    0.149566\n",
       "0-<0.75/Day       0.090607\n",
       "Name: proportion, dtype: float64"
      ]
     },
     "execution_count": 18,
     "metadata": {},
     "output_type": "execute_result"
    }
   ],
   "source": [
    "df_y1['income_group'].value_counts(normalize=True)"
   ]
  },
  {
   "cell_type": "code",
   "execution_count": null,
   "id": "45935446-9644-4237-94e7-899a951bf582",
   "metadata": {},
   "outputs": [],
   "source": []
  },
  {
   "cell_type": "code",
   "execution_count": null,
   "id": "de9dde6f-4e2a-4527-b40a-7c94a8371e6b",
   "metadata": {},
   "outputs": [],
   "source": []
  },
  {
   "cell_type": "code",
   "execution_count": 19,
   "id": "1abccb20-1c6a-4ab6-a4da-6886e1e8ab1b",
   "metadata": {},
   "outputs": [],
   "source": [
    "df_y1['income_group_add'] = pd.cut(df_y1['HH Income + Consumption + Residues/Day (USD_adult_equiv_adj)'], bins=boundaries_ppp, labels=labels_ppp, right=False)"
   ]
  },
  {
   "cell_type": "code",
   "execution_count": 20,
   "id": "24adbbe4-004e-410f-8a7f-12fe6ce3c2f3",
   "metadata": {},
   "outputs": [
    {
     "data": {
      "text/plain": [
       "income_group_add\n",
       ">3+/Day            0.262124\n",
       "2.15-3/Day         0.189638\n",
       "1.25-<1.77/Day     0.175089\n",
       "0.75-<1.25/Day     0.149566\n",
       "1.77-<2.15 /Day    0.132976\n",
       "0-<0.75/Day        0.090607\n",
       "Name: proportion, dtype: float64"
      ]
     },
     "execution_count": 20,
     "metadata": {},
     "output_type": "execute_result"
    }
   ],
   "source": [
    "df_y1['income_group_add'].value_counts(normalize=True)"
   ]
  },
  {
   "cell_type": "code",
   "execution_count": null,
   "id": "3040953d-18ce-45a9-8420-164d0929aff5",
   "metadata": {},
   "outputs": [],
   "source": []
  },
  {
   "cell_type": "markdown",
   "id": "10a1e88d-cef8-4e70-b9c9-26c2e0a3848a",
   "metadata": {},
   "source": [
    "0-<2.15/Day\n",
    "2.15+/Day"
   ]
  },
  {
   "cell_type": "code",
   "execution_count": 42,
   "id": "097592a9-f889-4171-8f6e-3c30d3830d68",
   "metadata": {},
   "outputs": [],
   "source": [
    "boundaries_1 = [0, 2.15,float('inf')]\n",
    "labels_1 = [\"0-<2.15/Day\", \"2.15+/Day\"]"
   ]
  },
  {
   "cell_type": "code",
   "execution_count": 43,
   "id": "a20db5c1-2060-44c1-aced-db76bd670172",
   "metadata": {},
   "outputs": [],
   "source": [
    "df_y1['income_group_1'] = pd.cut(df_y1['HH Income + Consumption + Residues/Day (USD_adult_equiv_adj)'], bins=boundaries_1, labels=labels_1, right=False)"
   ]
  },
  {
   "cell_type": "code",
   "execution_count": 44,
   "id": "1e4e2857-ef0b-4d77-bebc-849f8fe040c8",
   "metadata": {},
   "outputs": [
    {
     "data": {
      "text/plain": [
       "income_group_1\n",
       "0-<2.15/Day    0.548239\n",
       "2.15+/Day      0.451761\n",
       "Name: proportion, dtype: float64"
      ]
     },
     "execution_count": 44,
     "metadata": {},
     "output_type": "execute_result"
    }
   ],
   "source": [
    "df_y1['income_group_1'].value_counts(normalize=True)"
   ]
  },
  {
   "cell_type": "code",
   "execution_count": null,
   "id": "5163430c-150c-45cf-8417-169395cf9e69",
   "metadata": {},
   "outputs": [],
   "source": []
  },
  {
   "cell_type": "code",
   "execution_count": null,
   "id": "d731879c-bf32-4dce-9806-3366e07eb3d5",
   "metadata": {},
   "outputs": [],
   "source": []
  },
  {
   "cell_type": "code",
   "execution_count": 45,
   "id": "3826dcb0-2efb-4da5-84eb-1fc48e1bed99",
   "metadata": {},
   "outputs": [],
   "source": [
    "df_y1['income_group_2'] = pd.cut(df_y1['HH Income + Consumption + Residues/Day (USD_adult_equiv_adj)'], bins=boundaries_2, labels=labels_2, right=False)"
   ]
  },
  {
   "cell_type": "code",
   "execution_count": 46,
   "id": "6077e5b8-453b-4d0b-a895-c022c411f958",
   "metadata": {},
   "outputs": [
    {
     "data": {
      "text/plain": [
       "income_group_2\n",
       "1.25-<2.15/Day    0.308065\n",
       "3+/Day            0.262124\n",
       "2.5-<3/Day        0.189638\n",
       "0.75-<1.25/Day    0.149566\n",
       "0-<0.75/Day       0.090607\n",
       "Name: proportion, dtype: float64"
      ]
     },
     "execution_count": 46,
     "metadata": {},
     "output_type": "execute_result"
    }
   ],
   "source": [
    "df_y1['income_group_2'].value_counts(normalize=True)"
   ]
  },
  {
   "cell_type": "code",
   "execution_count": null,
   "id": "3620a79b-6ed5-40e2-b615-5d410b7906c1",
   "metadata": {},
   "outputs": [],
   "source": []
  },
  {
   "cell_type": "code",
   "execution_count": null,
   "id": "81d5147c-ec51-4be7-b9ca-ded8465088c4",
   "metadata": {},
   "outputs": [],
   "source": []
  },
  {
   "cell_type": "markdown",
   "id": "0dc44a30-e3a5-4788-869a-ce16d186d1e5",
   "metadata": {
    "jp-MarkdownHeadingCollapsed": true
   },
   "source": [
    "## Baseline"
   ]
  },
  {
   "cell_type": "code",
   "execution_count": 47,
   "id": "5c37e392-adb2-446c-af0c-a5bb0f3a5cdf",
   "metadata": {},
   "outputs": [],
   "source": [
    "import numpy as np"
   ]
  },
  {
   "cell_type": "code",
   "execution_count": 48,
   "id": "e94d0273-6aad-4545-b180-6868874fc476",
   "metadata": {},
   "outputs": [],
   "source": [
    "base = pd.read_excel('ALL2021cohorts.xlsx', sheet_name='All2021CohortBaseline',header=5)\n",
    "rub_base = pd.read_excel('ALL2021cohorts.xlsx', sheet_name='Rubanda2021Cohort_Base',header=5)"
   ]
  },
  {
   "cell_type": "code",
   "execution_count": 5,
   "id": "5f5cc76f-ecb9-46c2-9752-5339c0d59123",
   "metadata": {},
   "outputs": [
    {
     "data": {
      "text/plain": [
       "(1419, 6736)"
      ]
     },
     "execution_count": 5,
     "metadata": {},
     "output_type": "execute_result"
    }
   ],
   "source": [
    "base.shape"
   ]
  },
  {
   "cell_type": "code",
   "execution_count": 6,
   "id": "138f6d1a-046b-4669-bd53-58fcf7cec091",
   "metadata": {},
   "outputs": [
    {
     "data": {
      "text/plain": [
       "(319, 6715)"
      ]
     },
     "execution_count": 6,
     "metadata": {},
     "output_type": "execute_result"
    }
   ],
   "source": [
    "rub_base.shape"
   ]
  },
  {
   "cell_type": "markdown",
   "id": "0549c0b7-0246-49aa-bc16-b5534821d6da",
   "metadata": {},
   "source": [
    "Income"
   ]
  },
  {
   "cell_type": "code",
   "execution_count": 7,
   "id": "218ea661-abbc-4aa2-ba61-fb8892ba9d5c",
   "metadata": {},
   "outputs": [],
   "source": [
    "not_rub = np.array(base['HH Income/Day (USD_adult_equiv_adj)'])"
   ]
  },
  {
   "cell_type": "code",
   "execution_count": 8,
   "id": "ff3b2556-414e-440c-bb3c-8c5783c9e0fe",
   "metadata": {},
   "outputs": [],
   "source": [
    "rub = np.array(rub_base['HH Income/Day (USD_adult_equiv_adj)'])"
   ]
  },
  {
   "cell_type": "code",
   "execution_count": 9,
   "id": "8d29d5d6-07c8-4a78-9c10-3f51793b1907",
   "metadata": {},
   "outputs": [
    {
     "data": {
      "text/plain": [
       "0.6349192540696366"
      ]
     },
     "execution_count": 9,
     "metadata": {},
     "output_type": "execute_result"
    }
   ],
   "source": [
    "base_income = np.concatenate([rub, not_rub])\n",
    "base_income.mean()"
   ]
  },
  {
   "cell_type": "code",
   "execution_count": 27,
   "id": "ee1214bb-f12f-47a4-8d36-14bb296d76d8",
   "metadata": {},
   "outputs": [
    {
     "data": {
      "text/plain": [
       "(0.6349192540696368, 0.36896133476836035)"
      ]
     },
     "execution_count": 27,
     "metadata": {},
     "output_type": "execute_result"
    }
   ],
   "source": [
    "base_cohort['HH Income/Day (USD_adult_equiv_adj)'].mean(), base_cohort['HH Income/Day (USD_adult_equiv_adj)'].median()"
   ]
  },
  {
   "cell_type": "markdown",
   "id": "cf1b6634-ab33-4d86-a7ec-a4a1ae2adc8e",
   "metadata": {},
   "source": [
    "Income and production"
   ]
  },
  {
   "cell_type": "code",
   "execution_count": 11,
   "id": "256d78b0-593d-45ce-96a0-b612478ba715",
   "metadata": {},
   "outputs": [],
   "source": [
    "not_rub_ = np.array(base['HH Income + Consumption + Residues/Day (USD_adult_equiv_adj)'])"
   ]
  },
  {
   "cell_type": "code",
   "execution_count": 12,
   "id": "5a8cfa10-6ff0-4957-b207-307df77a9e59",
   "metadata": {},
   "outputs": [],
   "source": [
    "rub_ = np.array(rub_base['HH Income + Consumption + Residues/Day (USD_adult_equiv_adj)'])"
   ]
  },
  {
   "cell_type": "code",
   "execution_count": 13,
   "id": "d79704eb-75b5-423f-abca-dc211b303f46",
   "metadata": {},
   "outputs": [
    {
     "data": {
      "text/plain": [
       "1.1698599562155263"
      ]
     },
     "execution_count": 13,
     "metadata": {},
     "output_type": "execute_result"
    }
   ],
   "source": [
    "base_income_production = np.concatenate([rub_, not_rub_])\n",
    "base_income_production.mean()"
   ]
  },
  {
   "cell_type": "code",
   "execution_count": 14,
   "id": "478ef229-447b-4219-8e8c-1cae59cad1e1",
   "metadata": {},
   "outputs": [
    {
     "data": {
      "text/plain": [
       "((1419, 6736), (319, 6715))"
      ]
     },
     "execution_count": 14,
     "metadata": {},
     "output_type": "execute_result"
    }
   ],
   "source": [
    "base.shape, rub_base.shape"
   ]
  },
  {
   "cell_type": "code",
   "execution_count": null,
   "id": "03771c41-e1b3-4194-866e-72d116204a7d",
   "metadata": {},
   "outputs": [],
   "source": []
  },
  {
   "cell_type": "code",
   "execution_count": 15,
   "id": "33dfacad-3c27-4dc8-bebc-39e659424ffe",
   "metadata": {},
   "outputs": [],
   "source": [
    "base_cohort = pd.concat([base[['hhh_sex','hhh_age','HH Income/Day (USD_adult_equiv_adj)','HH Income + Consumption + Residues/Day (USD_adult_equiv_adj)']],\n",
    "               rub_base[['hhh_sex','hhh_age','HH Income/Day (USD_adult_equiv_adj)','HH Income + Consumption + Residues/Day (USD_adult_equiv_adj)']]])"
   ]
  },
  {
   "cell_type": "code",
   "execution_count": 68,
   "id": "edfc2410-9e2c-45c8-8fa9-192168d3f89f",
   "metadata": {},
   "outputs": [
    {
     "data": {
      "text/plain": [
       "(1738, 6)"
      ]
     },
     "execution_count": 68,
     "metadata": {},
     "output_type": "execute_result"
    }
   ],
   "source": [
    "base_cohort.shape"
   ]
  },
  {
   "cell_type": "code",
   "execution_count": 17,
   "id": "5fe313ea-00bf-43e7-960a-833ae68801f3",
   "metadata": {},
   "outputs": [
    {
     "ename": "NameError",
     "evalue": "name 'sex_mapping' is not defined",
     "output_type": "error",
     "traceback": [
      "\u001b[0;31m---------------------------------------------------------------------------\u001b[0m",
      "\u001b[0;31mNameError\u001b[0m                                 Traceback (most recent call last)",
      "Cell \u001b[0;32mIn[17], line 1\u001b[0m\n\u001b[0;32m----> 1\u001b[0m base_cohort[\u001b[38;5;124m'\u001b[39m\u001b[38;5;124mGender\u001b[39m\u001b[38;5;124m'\u001b[39m] \u001b[38;5;241m=\u001b[39m base_cohort[\u001b[38;5;124m'\u001b[39m\u001b[38;5;124mhhh_sex\u001b[39m\u001b[38;5;124m'\u001b[39m]\u001b[38;5;241m.\u001b[39mreplace(\u001b[43msex_mapping\u001b[49m)\n\u001b[1;32m      2\u001b[0m base_cohort[\u001b[38;5;124m'\u001b[39m\u001b[38;5;124mGender\u001b[39m\u001b[38;5;124m'\u001b[39m]\u001b[38;5;241m.\u001b[39mvalue_counts()\n",
      "\u001b[0;31mNameError\u001b[0m: name 'sex_mapping' is not defined"
     ]
    }
   ],
   "source": [
    "base_cohort['Gender'] = base_cohort['hhh_sex'].replace(sex_mapping)\n",
    "base_cohort['Gender'].value_counts()"
   ]
  },
  {
   "cell_type": "code",
   "execution_count": 22,
   "id": "f4cadf24-b826-41a6-b0d7-938a15575e79",
   "metadata": {},
   "outputs": [],
   "source": [
    "base_cohort['Household_Head_Gender'] = base_cohort['Gender']"
   ]
  },
  {
   "cell_type": "code",
   "execution_count": 23,
   "id": "ed49d870-143c-468f-aa97-c1e33c9db739",
   "metadata": {},
   "outputs": [],
   "source": [
    "base_cohort['Household_Head_Gender'] = base_cohort.apply(lambda row: 'Youth Headed' if row['hhh_age'] <= 30 else str(row['Household_Head_Gender']) + ' Headed', axis=1)"
   ]
  },
  {
   "cell_type": "code",
   "execution_count": 24,
   "id": "ba2174a6-6163-4992-a6c5-5fbe5751603b",
   "metadata": {},
   "outputs": [
    {
     "data": {
      "text/plain": [
       "Household_Head_Gender\n",
       "Male Headed      1034\n",
       "Female Headed     396\n",
       "Youth Headed      308\n",
       "Name: count, dtype: int64"
      ]
     },
     "execution_count": 24,
     "metadata": {},
     "output_type": "execute_result"
    }
   ],
   "source": [
    "base_cohort['Household_Head_Gender'].value_counts()"
   ]
  },
  {
   "cell_type": "code",
   "execution_count": 105,
   "id": "c5ae251d-07c3-4a5a-883c-d1f45ed05f87",
   "metadata": {},
   "outputs": [
    {
     "data": {
      "text/html": [
       "<div>\n",
       "<style scoped>\n",
       "    .dataframe tbody tr th:only-of-type {\n",
       "        vertical-align: middle;\n",
       "    }\n",
       "\n",
       "    .dataframe tbody tr th {\n",
       "        vertical-align: top;\n",
       "    }\n",
       "\n",
       "    .dataframe thead th {\n",
       "        text-align: right;\n",
       "    }\n",
       "</style>\n",
       "<table border=\"1\" class=\"dataframe\">\n",
       "  <thead>\n",
       "    <tr style=\"text-align: right;\">\n",
       "      <th></th>\n",
       "      <th>HH Income/Day (USD_adult_equiv_adj)</th>\n",
       "      <th>HH Income + Consumption + Residues/Day (USD_adult_equiv_adj)</th>\n",
       "    </tr>\n",
       "    <tr>\n",
       "      <th>Household_Head_Gender</th>\n",
       "      <th></th>\n",
       "      <th></th>\n",
       "    </tr>\n",
       "  </thead>\n",
       "  <tbody>\n",
       "    <tr>\n",
       "      <th>Female Headed</th>\n",
       "      <td>0.529179</td>\n",
       "      <td>1.159329</td>\n",
       "    </tr>\n",
       "    <tr>\n",
       "      <th>Male Headed</th>\n",
       "      <td>0.644360</td>\n",
       "      <td>1.152417</td>\n",
       "    </tr>\n",
       "    <tr>\n",
       "      <th>Youth Headed</th>\n",
       "      <td>0.739178</td>\n",
       "      <td>1.241958</td>\n",
       "    </tr>\n",
       "  </tbody>\n",
       "</table>\n",
       "</div>"
      ],
      "text/plain": [
       "                       HH Income/Day (USD_adult_equiv_adj)  \\\n",
       "Household_Head_Gender                                        \n",
       "Female Headed                                     0.529179   \n",
       "Male Headed                                       0.644360   \n",
       "Youth Headed                                      0.739178   \n",
       "\n",
       "                       HH Income + Consumption + Residues/Day (USD_adult_equiv_adj)  \n",
       "Household_Head_Gender                                                                \n",
       "Female Headed                                                   1.159329             \n",
       "Male Headed                                                     1.152417             \n",
       "Youth Headed                                                    1.241958             "
      ]
     },
     "execution_count": 105,
     "metadata": {},
     "output_type": "execute_result"
    }
   ],
   "source": [
    "base_cohort.groupby('Household_Head_Gender')[['HH Income/Day (USD_adult_equiv_adj)','HH Income + Consumption + Residues/Day (USD_adult_equiv_adj)']].mean()"
   ]
  },
  {
   "cell_type": "code",
   "execution_count": 106,
   "id": "d3a111e2-be2e-4a85-ab45-8774b3b2b79e",
   "metadata": {},
   "outputs": [
    {
     "data": {
      "text/html": [
       "<div>\n",
       "<style scoped>\n",
       "    .dataframe tbody tr th:only-of-type {\n",
       "        vertical-align: middle;\n",
       "    }\n",
       "\n",
       "    .dataframe tbody tr th {\n",
       "        vertical-align: top;\n",
       "    }\n",
       "\n",
       "    .dataframe thead th {\n",
       "        text-align: right;\n",
       "    }\n",
       "</style>\n",
       "<table border=\"1\" class=\"dataframe\">\n",
       "  <thead>\n",
       "    <tr style=\"text-align: right;\">\n",
       "      <th></th>\n",
       "      <th>HH Income/Day (USD_adult_equiv_adj)</th>\n",
       "      <th>HH Income + Consumption + Residues/Day (USD_adult_equiv_adj)</th>\n",
       "    </tr>\n",
       "    <tr>\n",
       "      <th>Household_Head_Gender</th>\n",
       "      <th></th>\n",
       "      <th></th>\n",
       "    </tr>\n",
       "  </thead>\n",
       "  <tbody>\n",
       "    <tr>\n",
       "      <th>Female Headed</th>\n",
       "      <td>0.368777</td>\n",
       "      <td>0.863817</td>\n",
       "    </tr>\n",
       "    <tr>\n",
       "      <th>Male Headed</th>\n",
       "      <td>0.337692</td>\n",
       "      <td>0.782185</td>\n",
       "    </tr>\n",
       "    <tr>\n",
       "      <th>Youth Headed</th>\n",
       "      <td>0.448730</td>\n",
       "      <td>0.863416</td>\n",
       "    </tr>\n",
       "  </tbody>\n",
       "</table>\n",
       "</div>"
      ],
      "text/plain": [
       "                       HH Income/Day (USD_adult_equiv_adj)  \\\n",
       "Household_Head_Gender                                        \n",
       "Female Headed                                     0.368777   \n",
       "Male Headed                                       0.337692   \n",
       "Youth Headed                                      0.448730   \n",
       "\n",
       "                       HH Income + Consumption + Residues/Day (USD_adult_equiv_adj)  \n",
       "Household_Head_Gender                                                                \n",
       "Female Headed                                                   0.863817             \n",
       "Male Headed                                                     0.782185             \n",
       "Youth Headed                                                    0.863416             "
      ]
     },
     "execution_count": 106,
     "metadata": {},
     "output_type": "execute_result"
    }
   ],
   "source": [
    "base_cohort.groupby('Household_Head_Gender')[['HH Income/Day (USD_adult_equiv_adj)',\n",
    "                                     'HH Income + Consumption + Residues/Day (USD_adult_equiv_adj)']].median()"
   ]
  },
  {
   "cell_type": "code",
   "execution_count": 59,
   "id": "d89fcf1c-37d4-42fb-ba5f-9c85014bfe70",
   "metadata": {},
   "outputs": [],
   "source": [
    "base_cohort.to_excel(\"base_cohort.xlsx\")"
   ]
  },
  {
   "cell_type": "code",
   "execution_count": 74,
   "id": "1f137ac3-222d-40bb-80f1-36730210542f",
   "metadata": {},
   "outputs": [],
   "source": [
    "## with median"
   ]
  },
  {
   "cell_type": "code",
   "execution_count": 104,
   "id": "1d32f0f7-4768-453c-8d68-6b452e4abe7f",
   "metadata": {},
   "outputs": [
    {
     "data": {
      "text/plain": [
       "(1.1698599562155263, 0.8124417601652123)"
      ]
     },
     "execution_count": 104,
     "metadata": {},
     "output_type": "execute_result"
    }
   ],
   "source": [
    "base_cohort['HH Income + Consumption + Residues/Day (USD_adult_equiv_adj)'].mean(), base_cohort['HH Income + Consumption + Residues/Day (USD_adult_equiv_adj)'].median()"
   ]
  },
  {
   "cell_type": "code",
   "execution_count": null,
   "id": "adc66e1e-90e2-4c9d-923f-7a627225d1d2",
   "metadata": {},
   "outputs": [],
   "source": []
  },
  {
   "cell_type": "code",
   "execution_count": null,
   "id": "08f8f2b9-3654-4a63-9785-cfa2a937ce02",
   "metadata": {},
   "outputs": [],
   "source": []
  },
  {
   "cell_type": "code",
   "execution_count": 102,
   "id": "d02b0a97-c6b3-47b2-b0ca-b30f27e683c3",
   "metadata": {},
   "outputs": [],
   "source": [
    "base_cohort['income_group'] = pd.cut(base_cohort['HH Income + Consumption + Residues/Day (USD_adult_equiv_adj)'], bins=boundaries, labels=labels, right=False)"
   ]
  },
  {
   "cell_type": "code",
   "execution_count": 103,
   "id": "4aafe002-515c-41ec-957f-8dc9a8343b43",
   "metadata": {},
   "outputs": [
    {
     "data": {
      "text/plain": [
       "income_group\n",
       "0-<0.75/Day       0.450518\n",
       "0.75-<1.25/Day    0.265247\n",
       "1.25-<2/Day       0.157652\n",
       "2-<3/Day          0.070771\n",
       "3+/Day            0.055811\n",
       "Name: proportion, dtype: float64"
      ]
     },
     "execution_count": 103,
     "metadata": {},
     "output_type": "execute_result"
    }
   ],
   "source": [
    "base_cohort['income_group'].value_counts(normalize=True)"
   ]
  },
  {
   "cell_type": "code",
   "execution_count": null,
   "id": "2a025a04-d29d-4ace-acde-7a4f82c5c952",
   "metadata": {},
   "outputs": [],
   "source": []
  },
  {
   "cell_type": "code",
   "execution_count": null,
   "id": "dab40e93-4d46-43c7-bf93-d7870074fbea",
   "metadata": {},
   "outputs": [],
   "source": []
  },
  {
   "cell_type": "code",
   "execution_count": 18,
   "id": "3438f763-47d5-4788-89ee-b21fef991fd8",
   "metadata": {},
   "outputs": [],
   "source": [
    "base_cohort['income_group_1'] = pd.cut(base_cohort['HH Income + Consumption + Residues/Day (USD_adult_equiv_adj)'], bins=boundaries, labels=labels, right=False)"
   ]
  },
  {
   "cell_type": "code",
   "execution_count": 19,
   "id": "f85d19c5-ad7a-409f-8451-603704a5b633",
   "metadata": {},
   "outputs": [
    {
     "data": {
      "text/plain": [
       "income_group_1\n",
       "0-<2.15/Day    0.886076\n",
       "3+/Day         0.113924\n",
       "Name: proportion, dtype: float64"
      ]
     },
     "execution_count": 19,
     "metadata": {},
     "output_type": "execute_result"
    }
   ],
   "source": [
    "base_cohort['income_group_1'].value_counts(normalize=True)"
   ]
  },
  {
   "cell_type": "code",
   "execution_count": null,
   "id": "ca6f97cb-3ed2-4d87-8461-9612da277ccb",
   "metadata": {},
   "outputs": [],
   "source": []
  },
  {
   "cell_type": "code",
   "execution_count": null,
   "id": "30eaee6a-8cfa-410e-ad2d-f4966ca9439c",
   "metadata": {},
   "outputs": [],
   "source": []
  },
  {
   "cell_type": "code",
   "execution_count": 56,
   "id": "a1c910e8-f840-4262-a1aa-19fcde4b5ea7",
   "metadata": {},
   "outputs": [],
   "source": [
    "base_cohort['income_group_2'] = pd.cut(base_cohort['HH Income + Consumption + Residues/Day (USD_adult_equiv_adj)'], bins=boundaries_2, labels=labels_2, right=False)"
   ]
  },
  {
   "cell_type": "code",
   "execution_count": 58,
   "id": "16b92035-55dc-4d67-bc33-cf0ec2a5b1d3",
   "metadata": {},
   "outputs": [
    {
     "data": {
      "text/plain": [
       "income_group_2\n",
       "0-<0.75/Day       0.450518\n",
       "0.75-<1.25/Day    0.265247\n",
       "1.25-<2.15/Day    0.170311\n",
       "2.5-<3/Day        0.058113\n",
       "3+/Day            0.055811\n",
       "Name: proportion, dtype: float64"
      ]
     },
     "execution_count": 58,
     "metadata": {},
     "output_type": "execute_result"
    }
   ],
   "source": [
    "base_cohort['income_group_2'].value_counts(normalize=True)"
   ]
  },
  {
   "cell_type": "markdown",
   "id": "d86d8a4b-4809-4a0b-928d-41d67cbcd6bd",
   "metadata": {},
   "source": [
    "## Peer"
   ]
  },
  {
   "cell_type": "markdown",
   "id": "023641b6-1394-48dd-a423-80094ce495ad",
   "metadata": {
    "jp-MarkdownHeadingCollapsed": true
   },
   "source": [
    "# Year 2"
   ]
  },
  {
   "cell_type": "code",
   "execution_count": 30,
   "id": "91c10fb7-26aa-4177-ad08-9371ce13e55b",
   "metadata": {},
   "outputs": [],
   "source": [
    "peer_grad = pd.read_excel('ALL2021cohorts.xlsx', sheet_name='All2021ControlYr2',header=5)"
   ]
  },
  {
   "cell_type": "code",
   "execution_count": 32,
   "id": "593e5835-25d2-40aa-a9cf-f844871e2ef5",
   "metadata": {},
   "outputs": [
    {
     "data": {
      "text/plain": [
       "Status\n",
       "RTV     3897\n",
       "PEER    1899\n",
       "Name: count, dtype: int64"
      ]
     },
     "execution_count": 32,
     "metadata": {},
     "output_type": "execute_result"
    }
   ],
   "source": [
    "df1['Status'].value_counts()"
   ]
  },
  {
   "cell_type": "code",
   "execution_count": 33,
   "id": "10ef1d47-08b7-4a86-ba4b-7dcd80787325",
   "metadata": {},
   "outputs": [],
   "source": [
    "peer_grad = df1[df1['Status'] == \"PEER\"]"
   ]
  },
  {
   "cell_type": "code",
   "execution_count": 34,
   "id": "b6aea202-275e-4529-97ea-2be919462084",
   "metadata": {},
   "outputs": [
    {
     "data": {
      "text/plain": [
       "(1899, 5670)"
      ]
     },
     "execution_count": 34,
     "metadata": {},
     "output_type": "execute_result"
    }
   ],
   "source": [
    "peer_grad.shape"
   ]
  },
  {
   "cell_type": "code",
   "execution_count": 63,
   "id": "0610ab41-45c9-47be-9706-feb0c8435073",
   "metadata": {},
   "outputs": [
    {
     "name": "stderr",
     "output_type": "stream",
     "text": [
      "/var/folders/xd/0btgr76j2zxc4__ynw0yhwbm0000gn/T/ipykernel_3524/439533858.py:1: SettingWithCopyWarning: \n",
      "A value is trying to be set on a copy of a slice from a DataFrame.\n",
      "Try using .loc[row_indexer,col_indexer] = value instead\n",
      "\n",
      "See the caveats in the documentation: https://pandas.pydata.org/pandas-docs/stable/user_guide/indexing.html#returning-a-view-versus-a-copy\n",
      "  peer_grad['Gender'] = peer_grad['hhh_sex'].replace(sex_mapping)\n"
     ]
    },
    {
     "data": {
      "text/plain": [
       "Gender\n",
       "Male      1357\n",
       "Female     542\n",
       "Name: count, dtype: int64"
      ]
     },
     "execution_count": 63,
     "metadata": {},
     "output_type": "execute_result"
    }
   ],
   "source": [
    "peer_grad['Gender'] = peer_grad['hhh_sex'].replace(sex_mapping)\n",
    "peer_grad['Gender'].value_counts()"
   ]
  },
  {
   "cell_type": "code",
   "execution_count": 65,
   "id": "fd92dafe-d34f-4ed0-9689-d5b0e9345bc7",
   "metadata": {},
   "outputs": [
    {
     "name": "stderr",
     "output_type": "stream",
     "text": [
      "/var/folders/xd/0btgr76j2zxc4__ynw0yhwbm0000gn/T/ipykernel_3524/1685898727.py:1: SettingWithCopyWarning: \n",
      "A value is trying to be set on a copy of a slice from a DataFrame.\n",
      "Try using .loc[row_indexer,col_indexer] = value instead\n",
      "\n",
      "See the caveats in the documentation: https://pandas.pydata.org/pandas-docs/stable/user_guide/indexing.html#returning-a-view-versus-a-copy\n",
      "  peer_grad['Household_Head_Gender'] = peer_grad['Gender']\n"
     ]
    }
   ],
   "source": [
    "peer_grad['Household_Head_Gender'] = peer_grad['Gender']"
   ]
  },
  {
   "cell_type": "code",
   "execution_count": 66,
   "id": "f6445083-5974-47c4-bc45-48b83d3b8a98",
   "metadata": {},
   "outputs": [
    {
     "name": "stderr",
     "output_type": "stream",
     "text": [
      "/var/folders/xd/0btgr76j2zxc4__ynw0yhwbm0000gn/T/ipykernel_3524/2411608141.py:1: SettingWithCopyWarning: \n",
      "A value is trying to be set on a copy of a slice from a DataFrame.\n",
      "Try using .loc[row_indexer,col_indexer] = value instead\n",
      "\n",
      "See the caveats in the documentation: https://pandas.pydata.org/pandas-docs/stable/user_guide/indexing.html#returning-a-view-versus-a-copy\n",
      "  peer_grad['Household_Head_Gender'] = peer_grad.apply(lambda row: 'Youth Headed' if row['hhh_age'] <= 30 else str(row['Household_Head_Gender']) + ' Headed', axis=1)\n"
     ]
    }
   ],
   "source": [
    "peer_grad['Household_Head_Gender'] = peer_grad.apply(lambda row: 'Youth Headed' if row['hhh_age'] <= 30 else str(row['Household_Head_Gender']) + ' Headed', axis=1)"
   ]
  },
  {
   "cell_type": "code",
   "execution_count": 67,
   "id": "3647ecdf-bc5f-4862-889d-ad96686f47ab",
   "metadata": {},
   "outputs": [
    {
     "data": {
      "text/plain": [
       "Household_Head_Gender\n",
       "Male Headed      1152\n",
       "Female Headed     512\n",
       "Youth Headed      235\n",
       "Name: count, dtype: int64"
      ]
     },
     "execution_count": 67,
     "metadata": {},
     "output_type": "execute_result"
    }
   ],
   "source": [
    "peer_grad['Household_Head_Gender'].value_counts()"
   ]
  },
  {
   "cell_type": "code",
   "execution_count": 71,
   "id": "88fd540c-195a-4d12-83d6-2386bc0ace8e",
   "metadata": {},
   "outputs": [
    {
     "data": {
      "text/html": [
       "<div>\n",
       "<style scoped>\n",
       "    .dataframe tbody tr th:only-of-type {\n",
       "        vertical-align: middle;\n",
       "    }\n",
       "\n",
       "    .dataframe tbody tr th {\n",
       "        vertical-align: top;\n",
       "    }\n",
       "\n",
       "    .dataframe thead th {\n",
       "        text-align: right;\n",
       "    }\n",
       "</style>\n",
       "<table border=\"1\" class=\"dataframe\">\n",
       "  <thead>\n",
       "    <tr style=\"text-align: right;\">\n",
       "      <th></th>\n",
       "      <th>HH Income/Day (USD_adult_equiv_adj)</th>\n",
       "      <th>HH Income + Consumption + Residues/Day (USD_adult_equiv_adj)</th>\n",
       "    </tr>\n",
       "    <tr>\n",
       "      <th>Household_Head_Gender</th>\n",
       "      <th></th>\n",
       "      <th></th>\n",
       "    </tr>\n",
       "  </thead>\n",
       "  <tbody>\n",
       "    <tr>\n",
       "      <th>Female Headed</th>\n",
       "      <td>0.904958</td>\n",
       "      <td>1.767008</td>\n",
       "    </tr>\n",
       "    <tr>\n",
       "      <th>Male Headed</th>\n",
       "      <td>1.045394</td>\n",
       "      <td>1.799758</td>\n",
       "    </tr>\n",
       "    <tr>\n",
       "      <th>Youth Headed</th>\n",
       "      <td>1.349831</td>\n",
       "      <td>2.059824</td>\n",
       "    </tr>\n",
       "  </tbody>\n",
       "</table>\n",
       "</div>"
      ],
      "text/plain": [
       "                       HH Income/Day (USD_adult_equiv_adj)  \\\n",
       "Household_Head_Gender                                        \n",
       "Female Headed                                     0.904958   \n",
       "Male Headed                                       1.045394   \n",
       "Youth Headed                                      1.349831   \n",
       "\n",
       "                       HH Income + Consumption + Residues/Day (USD_adult_equiv_adj)  \n",
       "Household_Head_Gender                                                                \n",
       "Female Headed                                                   1.767008             \n",
       "Male Headed                                                     1.799758             \n",
       "Youth Headed                                                    2.059824             "
      ]
     },
     "execution_count": 71,
     "metadata": {},
     "output_type": "execute_result"
    }
   ],
   "source": [
    "peer_grad.groupby('Household_Head_Gender')[['HH Income/Day (USD_adult_equiv_adj)','HH Income + Consumption + Residues/Day (USD_adult_equiv_adj)']].mean()"
   ]
  },
  {
   "cell_type": "code",
   "execution_count": 72,
   "id": "521a704d-c2cf-4395-bc3b-039bf63780aa",
   "metadata": {},
   "outputs": [
    {
     "data": {
      "text/html": [
       "<div>\n",
       "<style scoped>\n",
       "    .dataframe tbody tr th:only-of-type {\n",
       "        vertical-align: middle;\n",
       "    }\n",
       "\n",
       "    .dataframe tbody tr th {\n",
       "        vertical-align: top;\n",
       "    }\n",
       "\n",
       "    .dataframe thead th {\n",
       "        text-align: right;\n",
       "    }\n",
       "</style>\n",
       "<table border=\"1\" class=\"dataframe\">\n",
       "  <thead>\n",
       "    <tr style=\"text-align: right;\">\n",
       "      <th></th>\n",
       "      <th>HH Income/Day (USD_adult_equiv_adj)</th>\n",
       "      <th>HH Income + Consumption + Residues/Day (USD_adult_equiv_adj)</th>\n",
       "    </tr>\n",
       "    <tr>\n",
       "      <th>Household_Head_Gender</th>\n",
       "      <th></th>\n",
       "      <th></th>\n",
       "    </tr>\n",
       "  </thead>\n",
       "  <tbody>\n",
       "    <tr>\n",
       "      <th>Female Headed</th>\n",
       "      <td>0.687371</td>\n",
       "      <td>1.531812</td>\n",
       "    </tr>\n",
       "    <tr>\n",
       "      <th>Male Headed</th>\n",
       "      <td>0.794294</td>\n",
       "      <td>1.598325</td>\n",
       "    </tr>\n",
       "    <tr>\n",
       "      <th>Youth Headed</th>\n",
       "      <td>1.110576</td>\n",
       "      <td>1.806055</td>\n",
       "    </tr>\n",
       "  </tbody>\n",
       "</table>\n",
       "</div>"
      ],
      "text/plain": [
       "                       HH Income/Day (USD_adult_equiv_adj)  \\\n",
       "Household_Head_Gender                                        \n",
       "Female Headed                                     0.687371   \n",
       "Male Headed                                       0.794294   \n",
       "Youth Headed                                      1.110576   \n",
       "\n",
       "                       HH Income + Consumption + Residues/Day (USD_adult_equiv_adj)  \n",
       "Household_Head_Gender                                                                \n",
       "Female Headed                                                   1.531812             \n",
       "Male Headed                                                     1.598325             \n",
       "Youth Headed                                                    1.806055             "
      ]
     },
     "execution_count": 72,
     "metadata": {},
     "output_type": "execute_result"
    }
   ],
   "source": [
    "peer_grad.groupby('Household_Head_Gender')[['HH Income/Day (USD_adult_equiv_adj)',\n",
    "                                     'HH Income + Consumption + Residues/Day (USD_adult_equiv_adj)']].median()"
   ]
  },
  {
   "cell_type": "code",
   "execution_count": 69,
   "id": "48a188d4-1b03-4a03-b6ea-26533961f2fa",
   "metadata": {},
   "outputs": [
    {
     "data": {
      "text/plain": [
       "(1.045204170284326, 0.7948221617212186)"
      ]
     },
     "execution_count": 69,
     "metadata": {},
     "output_type": "execute_result"
    }
   ],
   "source": [
    "peer_grad['HH Income/Day (USD_adult_equiv_adj)'].mean(), peer_grad['HH Income/Day (USD_adult_equiv_adj)'].median()"
   ]
  },
  {
   "cell_type": "code",
   "execution_count": 70,
   "id": "c300b747-dbc6-4597-9079-0784b99ed9b4",
   "metadata": {},
   "outputs": [
    {
     "data": {
      "text/plain": [
       "(1.8231110959752512, 1.6087757102672366)"
      ]
     },
     "execution_count": 70,
     "metadata": {},
     "output_type": "execute_result"
    }
   ],
   "source": [
    "peer_grad['HH Income + Consumption + Residues/Day (USD_adult_equiv_adj)'].mean(), peer_grad['HH Income + Consumption + Residues/Day (USD_adult_equiv_adj)'].median()"
   ]
  },
  {
   "cell_type": "code",
   "execution_count": null,
   "id": "cafa6ef3-9906-4d90-9558-5d3edd0c9b1d",
   "metadata": {},
   "outputs": [],
   "source": []
  },
  {
   "cell_type": "code",
   "execution_count": null,
   "id": "25e527a3-d7ae-49d6-b6d7-d0795e609497",
   "metadata": {},
   "outputs": [],
   "source": []
  },
  {
   "cell_type": "code",
   "execution_count": null,
   "id": "50dc9d45-0ec9-454d-ad88-32a2d85a5f48",
   "metadata": {},
   "outputs": [],
   "source": []
  },
  {
   "cell_type": "code",
   "execution_count": 21,
   "id": "228ecc61-0cc8-4b1e-8452-16248134680d",
   "metadata": {},
   "outputs": [],
   "source": [
    "boundaries = [0, 0.75, 1.25, 2, 3, float('inf')]\n",
    "labels = [\"0-<0.75/Day\", \"0.75-<1.25/Day\", \"1.25-<2/Day\", \"2-<3/Day\", \"3+/Day\"]"
   ]
  },
  {
   "cell_type": "code",
   "execution_count": 35,
   "id": "19297883-5d83-470c-b5f1-ec572a37fd33",
   "metadata": {},
   "outputs": [
    {
     "name": "stderr",
     "output_type": "stream",
     "text": [
      "/var/folders/xd/0btgr76j2zxc4__ynw0yhwbm0000gn/T/ipykernel_71511/3354475881.py:1: SettingWithCopyWarning: \n",
      "A value is trying to be set on a copy of a slice from a DataFrame.\n",
      "Try using .loc[row_indexer,col_indexer] = value instead\n",
      "\n",
      "See the caveats in the documentation: https://pandas.pydata.org/pandas-docs/stable/user_guide/indexing.html#returning-a-view-versus-a-copy\n",
      "  peer_grad['income_group'] = pd.cut(peer_grad['HH Income + Consumption + Residues/Day (USD_adult_equiv_adj)'], bins=boundaries, labels=labels, right=False)\n"
     ]
    }
   ],
   "source": [
    "peer_grad['income_group'] = pd.cut(peer_grad['HH Income + Consumption + Residues/Day (USD_adult_equiv_adj)'], bins=boundaries, labels=labels, right=False)"
   ]
  },
  {
   "cell_type": "code",
   "execution_count": 36,
   "id": "f43e8497-3665-4aed-bfd7-76950bd8459d",
   "metadata": {},
   "outputs": [
    {
     "data": {
      "text/plain": [
       "income_group\n",
       "1.25-<2/Day       0.272249\n",
       "2-<3/Day          0.226962\n",
       "0.75-<1.25/Day    0.211164\n",
       "0-<0.75/Day       0.152712\n",
       "3+/Day            0.136914\n",
       "Name: proportion, dtype: float64"
      ]
     },
     "execution_count": 36,
     "metadata": {},
     "output_type": "execute_result"
    }
   ],
   "source": [
    "peer_grad['income_group'].value_counts(normalize=True)"
   ]
  },
  {
   "cell_type": "code",
   "execution_count": null,
   "id": "6fc5b15d-6e36-47e6-8155-fe37c6cb2639",
   "metadata": {},
   "outputs": [],
   "source": []
  },
  {
   "cell_type": "markdown",
   "id": "c9081261-4a7d-48e1-ac28-dd9efd0c3c29",
   "metadata": {},
   "source": [
    "0-<2.15/Day\n",
    "2.15+/Day"
   ]
  },
  {
   "cell_type": "code",
   "execution_count": 25,
   "id": "f08fdae1-c446-46cf-b134-51a8aca46b2c",
   "metadata": {},
   "outputs": [],
   "source": [
    "boundaries_1 = [0, 2.15,float('inf')]\n",
    "labels_1 = [\"0-<2.15/Day\", \"2.15+/Day\"]"
   ]
  },
  {
   "cell_type": "code",
   "execution_count": 37,
   "id": "0bf3abc4-52d7-495e-b144-f63425149c0e",
   "metadata": {},
   "outputs": [
    {
     "name": "stderr",
     "output_type": "stream",
     "text": [
      "/var/folders/xd/0btgr76j2zxc4__ynw0yhwbm0000gn/T/ipykernel_71511/3264097000.py:1: SettingWithCopyWarning: \n",
      "A value is trying to be set on a copy of a slice from a DataFrame.\n",
      "Try using .loc[row_indexer,col_indexer] = value instead\n",
      "\n",
      "See the caveats in the documentation: https://pandas.pydata.org/pandas-docs/stable/user_guide/indexing.html#returning-a-view-versus-a-copy\n",
      "  peer_grad['income_group_1'] = pd.cut(peer_grad['HH Income + Consumption + Residues/Day (USD_adult_equiv_adj)'], bins=boundaries_1, labels=labels_1, right=False)\n"
     ]
    }
   ],
   "source": [
    "peer_grad['income_group_1'] = pd.cut(peer_grad['HH Income + Consumption + Residues/Day (USD_adult_equiv_adj)'], bins=boundaries_1, labels=labels_1, right=False)"
   ]
  },
  {
   "cell_type": "code",
   "execution_count": 38,
   "id": "21d70471-412b-4d3c-aae8-0d6160ba9c79",
   "metadata": {},
   "outputs": [
    {
     "data": {
      "text/plain": [
       "income_group_1\n",
       "0-<2.15/Day    0.681411\n",
       "2.15+/Day      0.318589\n",
       "Name: proportion, dtype: float64"
      ]
     },
     "execution_count": 38,
     "metadata": {},
     "output_type": "execute_result"
    }
   ],
   "source": [
    "peer_grad['income_group_1'].value_counts(normalize=True)"
   ]
  },
  {
   "cell_type": "code",
   "execution_count": null,
   "id": "c279247b-ac4d-4971-b849-9e2f246a4d2d",
   "metadata": {},
   "outputs": [],
   "source": []
  },
  {
   "cell_type": "code",
   "execution_count": null,
   "id": "7526a1bd-fd69-4a41-8469-0633c620d3a6",
   "metadata": {},
   "outputs": [],
   "source": []
  },
  {
   "cell_type": "code",
   "execution_count": 59,
   "id": "206de88d-fbc8-45c0-a71d-52ae0bfa326f",
   "metadata": {},
   "outputs": [
    {
     "name": "stderr",
     "output_type": "stream",
     "text": [
      "/var/folders/xd/0btgr76j2zxc4__ynw0yhwbm0000gn/T/ipykernel_71511/1083476796.py:1: SettingWithCopyWarning: \n",
      "A value is trying to be set on a copy of a slice from a DataFrame.\n",
      "Try using .loc[row_indexer,col_indexer] = value instead\n",
      "\n",
      "See the caveats in the documentation: https://pandas.pydata.org/pandas-docs/stable/user_guide/indexing.html#returning-a-view-versus-a-copy\n",
      "  peer_grad['income_group_2'] = pd.cut(peer_grad['HH Income + Consumption + Residues/Day (USD_adult_equiv_adj)'], bins=boundaries_2, labels=labels_2, right=False)\n"
     ]
    }
   ],
   "source": [
    "peer_grad['income_group_2'] = pd.cut(peer_grad['HH Income + Consumption + Residues/Day (USD_adult_equiv_adj)'], bins=boundaries_2, labels=labels_2, right=False)"
   ]
  },
  {
   "cell_type": "code",
   "execution_count": 60,
   "id": "c3c5c598-f08c-41ad-9f82-bbf4af1ecc1f",
   "metadata": {},
   "outputs": [
    {
     "data": {
      "text/plain": [
       "income_group_2\n",
       "1.25-<2.15/Day    0.317536\n",
       "0.75-<1.25/Day    0.211164\n",
       "2.5-<3/Day        0.181675\n",
       "0-<0.75/Day       0.152712\n",
       "3+/Day            0.136914\n",
       "Name: proportion, dtype: float64"
      ]
     },
     "execution_count": 60,
     "metadata": {},
     "output_type": "execute_result"
    }
   ],
   "source": [
    "peer_grad['income_group_2'].value_counts(normalize=True)"
   ]
  },
  {
   "cell_type": "code",
   "execution_count": null,
   "id": "ca582bc0-2e7a-457e-8755-6481e059d5ab",
   "metadata": {},
   "outputs": [],
   "source": []
  },
  {
   "cell_type": "code",
   "execution_count": null,
   "id": "edd5c901-6190-4d0f-9a58-ece6889ad28c",
   "metadata": {},
   "outputs": [],
   "source": []
  },
  {
   "cell_type": "code",
   "execution_count": null,
   "id": "4aa39b11-43e9-4a37-9258-edf387ba21a2",
   "metadata": {},
   "outputs": [],
   "source": []
  },
  {
   "cell_type": "markdown",
   "id": "68020141-37c4-4e8d-a2eb-e34614e51a99",
   "metadata": {
    "jp-MarkdownHeadingCollapsed": true
   },
   "source": [
    "# Year one"
   ]
  },
  {
   "cell_type": "code",
   "execution_count": 39,
   "id": "6a2490aa-c239-4645-b5b6-141b5ecd3e4e",
   "metadata": {},
   "outputs": [],
   "source": [
    "peer_grad_y1 = pd.read_excel('ALL2021cohorts.xlsx', sheet_name='All2021ControlYr1',header=5)"
   ]
  },
  {
   "cell_type": "code",
   "execution_count": 122,
   "id": "236636cd-58ed-42a3-af46-7b31499824c0",
   "metadata": {},
   "outputs": [
    {
     "data": {
      "text/plain": [
       "Gender\n",
       "Male      1369\n",
       "Female     524\n",
       "Name: count, dtype: int64"
      ]
     },
     "execution_count": 122,
     "metadata": {},
     "output_type": "execute_result"
    }
   ],
   "source": [
    "peer_grad_y1['Gender'] = peer_grad_y1['hhh_sex'].replace(sex_mapping)\n",
    "peer_grad_y1['Gender'].value_counts()"
   ]
  },
  {
   "cell_type": "code",
   "execution_count": 123,
   "id": "2507c856-5942-42b2-af57-47a05e38f791",
   "metadata": {},
   "outputs": [],
   "source": [
    "peer_grad_y1['Household_Head_Gender'] = peer_grad_y1['Gender']"
   ]
  },
  {
   "cell_type": "code",
   "execution_count": 124,
   "id": "4df74669-338b-44f1-9401-bdf5cf3e3678",
   "metadata": {},
   "outputs": [],
   "source": [
    "peer_grad_y1['Household_Head_Gender'] = peer_grad_y1.apply(lambda row: 'Youth Headed' if row['hhh_age'] < 30 else str(row['Household_Head_Gender']) + ' Headed', axis=1)"
   ]
  },
  {
   "cell_type": "code",
   "execution_count": 125,
   "id": "fa84d72d-e4c2-4909-942b-8573936b7bc7",
   "metadata": {},
   "outputs": [
    {
     "data": {
      "text/plain": [
       "Household_Head_Gender\n",
       "Male Headed      1200\n",
       "Female Headed     496\n",
       "Youth Headed      197\n",
       "Name: count, dtype: int64"
      ]
     },
     "execution_count": 125,
     "metadata": {},
     "output_type": "execute_result"
    }
   ],
   "source": [
    "peer_grad_y1['Household_Head_Gender'].value_counts()"
   ]
  },
  {
   "cell_type": "code",
   "execution_count": 126,
   "id": "3309f91e-c5ee-4f03-a742-e8c33ac4acb1",
   "metadata": {},
   "outputs": [
    {
     "data": {
      "text/html": [
       "<div>\n",
       "<style scoped>\n",
       "    .dataframe tbody tr th:only-of-type {\n",
       "        vertical-align: middle;\n",
       "    }\n",
       "\n",
       "    .dataframe tbody tr th {\n",
       "        vertical-align: top;\n",
       "    }\n",
       "\n",
       "    .dataframe thead th {\n",
       "        text-align: right;\n",
       "    }\n",
       "</style>\n",
       "<table border=\"1\" class=\"dataframe\">\n",
       "  <thead>\n",
       "    <tr style=\"text-align: right;\">\n",
       "      <th></th>\n",
       "      <th>HH Income/Day (USD_adult_equiv_adj)</th>\n",
       "      <th>HH Income + Consumption + Residues/Day (USD_adult_equiv_adj)</th>\n",
       "    </tr>\n",
       "    <tr>\n",
       "      <th>Household_Head_Gender</th>\n",
       "      <th></th>\n",
       "      <th></th>\n",
       "    </tr>\n",
       "  </thead>\n",
       "  <tbody>\n",
       "    <tr>\n",
       "      <th>Female Headed</th>\n",
       "      <td>0.886557</td>\n",
       "      <td>1.587980</td>\n",
       "    </tr>\n",
       "    <tr>\n",
       "      <th>Male Headed</th>\n",
       "      <td>1.116796</td>\n",
       "      <td>1.802425</td>\n",
       "    </tr>\n",
       "    <tr>\n",
       "      <th>Youth Headed</th>\n",
       "      <td>1.235355</td>\n",
       "      <td>1.970656</td>\n",
       "    </tr>\n",
       "  </tbody>\n",
       "</table>\n",
       "</div>"
      ],
      "text/plain": [
       "                       HH Income/Day (USD_adult_equiv_adj)  \\\n",
       "Household_Head_Gender                                        \n",
       "Female Headed                                     0.886557   \n",
       "Male Headed                                       1.116796   \n",
       "Youth Headed                                      1.235355   \n",
       "\n",
       "                       HH Income + Consumption + Residues/Day (USD_adult_equiv_adj)  \n",
       "Household_Head_Gender                                                                \n",
       "Female Headed                                                   1.587980             \n",
       "Male Headed                                                     1.802425             \n",
       "Youth Headed                                                    1.970656             "
      ]
     },
     "execution_count": 126,
     "metadata": {},
     "output_type": "execute_result"
    }
   ],
   "source": [
    "peer_grad_y1.groupby('Household_Head_Gender')[['HH Income/Day (USD_adult_equiv_adj)','HH Income + Consumption + Residues/Day (USD_adult_equiv_adj)']].mean()"
   ]
  },
  {
   "cell_type": "code",
   "execution_count": 127,
   "id": "b478bbf0-4c05-43c7-b2de-98cad8a30877",
   "metadata": {},
   "outputs": [
    {
     "data": {
      "text/html": [
       "<div>\n",
       "<style scoped>\n",
       "    .dataframe tbody tr th:only-of-type {\n",
       "        vertical-align: middle;\n",
       "    }\n",
       "\n",
       "    .dataframe tbody tr th {\n",
       "        vertical-align: top;\n",
       "    }\n",
       "\n",
       "    .dataframe thead th {\n",
       "        text-align: right;\n",
       "    }\n",
       "</style>\n",
       "<table border=\"1\" class=\"dataframe\">\n",
       "  <thead>\n",
       "    <tr style=\"text-align: right;\">\n",
       "      <th></th>\n",
       "      <th>HH Income/Day (USD_adult_equiv_adj)</th>\n",
       "      <th>HH Income + Consumption + Residues/Day (USD_adult_equiv_adj)</th>\n",
       "    </tr>\n",
       "    <tr>\n",
       "      <th>Household_Head_Gender</th>\n",
       "      <th></th>\n",
       "      <th></th>\n",
       "    </tr>\n",
       "  </thead>\n",
       "  <tbody>\n",
       "    <tr>\n",
       "      <th>Female Headed</th>\n",
       "      <td>0.598974</td>\n",
       "      <td>1.228293</td>\n",
       "    </tr>\n",
       "    <tr>\n",
       "      <th>Male Headed</th>\n",
       "      <td>0.727223</td>\n",
       "      <td>1.340883</td>\n",
       "    </tr>\n",
       "    <tr>\n",
       "      <th>Youth Headed</th>\n",
       "      <td>0.884135</td>\n",
       "      <td>1.563892</td>\n",
       "    </tr>\n",
       "  </tbody>\n",
       "</table>\n",
       "</div>"
      ],
      "text/plain": [
       "                       HH Income/Day (USD_adult_equiv_adj)  \\\n",
       "Household_Head_Gender                                        \n",
       "Female Headed                                     0.598974   \n",
       "Male Headed                                       0.727223   \n",
       "Youth Headed                                      0.884135   \n",
       "\n",
       "                       HH Income + Consumption + Residues/Day (USD_adult_equiv_adj)  \n",
       "Household_Head_Gender                                                                \n",
       "Female Headed                                                   1.228293             \n",
       "Male Headed                                                     1.340883             \n",
       "Youth Headed                                                    1.563892             "
      ]
     },
     "execution_count": 127,
     "metadata": {},
     "output_type": "execute_result"
    }
   ],
   "source": [
    "peer_grad_y1.groupby('Household_Head_Gender')[['HH Income/Day (USD_adult_equiv_adj)',\n",
    "                                     'HH Income + Consumption + Residues/Day (USD_adult_equiv_adj)']].median()"
   ]
  },
  {
   "cell_type": "code",
   "execution_count": 82,
   "id": "537a24c7-2714-47c6-80c8-15e7f8af55d8",
   "metadata": {},
   "outputs": [
    {
     "data": {
      "text/plain": [
       "(1.0688074882256249, 0.7041784240993112)"
      ]
     },
     "execution_count": 82,
     "metadata": {},
     "output_type": "execute_result"
    }
   ],
   "source": [
    "peer_grad_y1['HH Income/Day (USD_adult_equiv_adj)'].mean(), peer_grad_y1['HH Income/Day (USD_adult_equiv_adj)'].median()"
   ]
  },
  {
   "cell_type": "code",
   "execution_count": 76,
   "id": "e91b46e6-9ddf-4200-80d2-3c4928ca2fe7",
   "metadata": {},
   "outputs": [
    {
     "data": {
      "text/plain": [
       "(1.7637438616537733, 1.3416400889471705)"
      ]
     },
     "execution_count": 76,
     "metadata": {},
     "output_type": "execute_result"
    }
   ],
   "source": [
    "peer_grad_y1['HH Income + Consumption + Residues/Day (USD_adult_equiv_adj)'].mean(), peer_grad_y1['HH Income + Consumption + Residues/Day (USD_adult_equiv_adj)'].median()"
   ]
  },
  {
   "cell_type": "code",
   "execution_count": null,
   "id": "b97b75a6-a8db-4956-8ea4-b51c3626d60e",
   "metadata": {},
   "outputs": [],
   "source": []
  },
  {
   "cell_type": "code",
   "execution_count": null,
   "id": "668e1bae-31e6-4f71-a9ba-ac766bbe6a73",
   "metadata": {},
   "outputs": [],
   "source": []
  },
  {
   "cell_type": "code",
   "execution_count": null,
   "id": "956851f5-9273-4c44-833b-44ac3d18b56e",
   "metadata": {},
   "outputs": [],
   "source": []
  },
  {
   "cell_type": "code",
   "execution_count": 21,
   "id": "d6e8a9b6-2439-4578-8d70-d6bf073b0930",
   "metadata": {},
   "outputs": [],
   "source": [
    "boundaries = [0, 0.75, 1.25, 2, 3, float('inf')]\n",
    "labels = [\"0-<0.75/Day\", \"0.75-<1.25/Day\", \"1.25-<2/Day\", \"2-<3/Day\", \"3+/Day\"]"
   ]
  },
  {
   "cell_type": "code",
   "execution_count": 40,
   "id": "4b5a6858-b74d-40a0-bab7-074a0f7a7ca0",
   "metadata": {},
   "outputs": [],
   "source": [
    "peer_grad_y1['income_group'] = pd.cut(peer_grad_y1['HH Income + Consumption + Residues/Day (USD_adult_equiv_adj)'], bins=boundaries, labels=labels, right=False)"
   ]
  },
  {
   "cell_type": "code",
   "execution_count": 41,
   "id": "a1a040b9-3fcf-4f57-b53a-85254a877057",
   "metadata": {},
   "outputs": [
    {
     "data": {
      "text/plain": [
       "income_group\n",
       "1.25-<2/Day       0.266772\n",
       "0.75-<1.25/Day    0.250924\n",
       "0-<0.75/Day       0.208663\n",
       "2-<3/Day          0.151083\n",
       "3+/Day            0.122557\n",
       "Name: proportion, dtype: float64"
      ]
     },
     "execution_count": 41,
     "metadata": {},
     "output_type": "execute_result"
    }
   ],
   "source": [
    "peer_grad_y1['income_group'].value_counts(normalize=True)"
   ]
  },
  {
   "cell_type": "code",
   "execution_count": null,
   "id": "5b87998a-1e62-4b6e-b93a-d556d2492c83",
   "metadata": {},
   "outputs": [],
   "source": []
  },
  {
   "cell_type": "markdown",
   "id": "483ee45d-4283-4efc-a7c8-ee72c82afbf0",
   "metadata": {},
   "source": [
    "0-<2.15/Day\n",
    "2.15+/Day"
   ]
  },
  {
   "cell_type": "code",
   "execution_count": 25,
   "id": "805cd593-624a-4e14-b976-2f5a0a124e31",
   "metadata": {},
   "outputs": [],
   "source": [
    "boundaries_1 = [0, 2.15,float('inf')]\n",
    "labels_1 = [\"0-<2.15/Day\", \"2.15+/Day\"]"
   ]
  },
  {
   "cell_type": "code",
   "execution_count": 42,
   "id": "47c70d42-4679-489c-a65d-a1439aaf0fd8",
   "metadata": {},
   "outputs": [],
   "source": [
    "peer_grad_y1['income_group_1'] = pd.cut(peer_grad_y1['HH Income + Consumption + Residues/Day (USD_adult_equiv_adj)'], bins=boundaries_1, labels=labels_1, right=False)"
   ]
  },
  {
   "cell_type": "code",
   "execution_count": 43,
   "id": "96b99c04-7852-49cc-aec2-3a9bc01b0500",
   "metadata": {},
   "outputs": [
    {
     "data": {
      "text/plain": [
       "income_group_1\n",
       "0-<2.15/Day    0.755415\n",
       "2.15+/Day      0.244585\n",
       "Name: proportion, dtype: float64"
      ]
     },
     "execution_count": 43,
     "metadata": {},
     "output_type": "execute_result"
    }
   ],
   "source": [
    "peer_grad_y1['income_group_1'].value_counts(normalize=True)"
   ]
  },
  {
   "cell_type": "code",
   "execution_count": null,
   "id": "9cba26a9-496a-4303-ab5e-e5736a986e33",
   "metadata": {},
   "outputs": [],
   "source": []
  },
  {
   "cell_type": "code",
   "execution_count": null,
   "id": "6a3bed86-c113-4c20-a3ca-820ab4236c15",
   "metadata": {},
   "outputs": [],
   "source": []
  },
  {
   "cell_type": "code",
   "execution_count": 61,
   "id": "da840be2-f312-4a2e-a07d-34b3733d6d54",
   "metadata": {},
   "outputs": [],
   "source": [
    "peer_grad_y1['income_group_2'] = pd.cut(peer_grad_y1['HH Income + Consumption + Residues/Day (USD_adult_equiv_adj)'], bins=boundaries_2, labels=labels_2, right=False)"
   ]
  },
  {
   "cell_type": "code",
   "execution_count": 62,
   "id": "2d0d5d95-27f4-42b1-ab48-509cf3062ce7",
   "metadata": {},
   "outputs": [
    {
     "data": {
      "text/plain": [
       "income_group_2\n",
       "1.25-<2.15/Day    0.295827\n",
       "0.75-<1.25/Day    0.250924\n",
       "0-<0.75/Day       0.208663\n",
       "3+/Day            0.122557\n",
       "2.5-<3/Day        0.122029\n",
       "Name: proportion, dtype: float64"
      ]
     },
     "execution_count": 62,
     "metadata": {},
     "output_type": "execute_result"
    }
   ],
   "source": [
    "peer_grad_y1['income_group_2'].value_counts(normalize=True)"
   ]
  },
  {
   "cell_type": "code",
   "execution_count": null,
   "id": "b60ceff8-18df-4161-9d25-61ef0f92777c",
   "metadata": {},
   "outputs": [],
   "source": []
  },
  {
   "cell_type": "code",
   "execution_count": null,
   "id": "4859615f-4121-409b-99dd-3f49d24abb63",
   "metadata": {},
   "outputs": [],
   "source": []
  },
  {
   "cell_type": "code",
   "execution_count": null,
   "id": "f85853ce-6c25-4cb0-9d10-31caeb057a14",
   "metadata": {},
   "outputs": [],
   "source": []
  },
  {
   "cell_type": "markdown",
   "id": "09ab4983-2632-4bec-9a93-66a038121594",
   "metadata": {
    "jp-MarkdownHeadingCollapsed": true
   },
   "source": [
    "# Baseline"
   ]
  },
  {
   "cell_type": "code",
   "execution_count": 44,
   "id": "7e72590e-3f0b-4599-a3b0-7ed29edd33ed",
   "metadata": {},
   "outputs": [],
   "source": [
    "base_peer = pd.read_excel('ALL2021cohorts.xlsx', sheet_name='All2021ControlBaseline',header=5)\n",
    "rub_base_peer = pd.read_excel('ALL2021cohorts.xlsx', sheet_name='Rubanda2021Control_Base',header=5)"
   ]
  },
  {
   "cell_type": "code",
   "execution_count": 74,
   "id": "26116182-9873-437f-a4ea-827d3807117a",
   "metadata": {},
   "outputs": [
    {
     "data": {
      "text/plain": [
       "(1241, 4280)"
      ]
     },
     "execution_count": 74,
     "metadata": {},
     "output_type": "execute_result"
    }
   ],
   "source": [
    "base_peer.shape"
   ]
  },
  {
   "cell_type": "code",
   "execution_count": 75,
   "id": "e57fd5b8-3567-4c05-b5ea-d2e07d54b630",
   "metadata": {},
   "outputs": [
    {
     "data": {
      "text/plain": [
       "(710, 4493)"
      ]
     },
     "execution_count": 75,
     "metadata": {},
     "output_type": "execute_result"
    }
   ],
   "source": [
    "rub_base_peer.shape"
   ]
  },
  {
   "cell_type": "markdown",
   "id": "243e86e5-dda2-469f-931b-2582de2edaff",
   "metadata": {},
   "source": [
    "## Income"
   ]
  },
  {
   "cell_type": "code",
   "execution_count": 82,
   "id": "5d068135-333b-444b-845d-4f24fbe59d3d",
   "metadata": {},
   "outputs": [],
   "source": [
    "not_rub_peer = np.array(base_peer['HH Income/Day (USD_adult_equiv_adj)'])"
   ]
  },
  {
   "cell_type": "code",
   "execution_count": 83,
   "id": "4d0599e0-f8b6-44f1-8992-333d30482de2",
   "metadata": {},
   "outputs": [],
   "source": [
    "rub_peer = np.array(rub_base_peer['HH Income/Day (USD_adult_equiv_adj)'])"
   ]
  },
  {
   "cell_type": "code",
   "execution_count": 84,
   "id": "e79b3c79-1193-4c28-849c-27688a8f7485",
   "metadata": {},
   "outputs": [
    {
     "data": {
      "text/plain": [
       "0.9674011587096087"
      ]
     },
     "execution_count": 84,
     "metadata": {},
     "output_type": "execute_result"
    }
   ],
   "source": [
    "base_income_peer = np.concatenate([rub_peer, not_rub_peer])\n",
    "base_income_peer.mean()"
   ]
  },
  {
   "cell_type": "code",
   "execution_count": 87,
   "id": "a5ca9ff9-fe62-4e83-ad55-2ea6e680526a",
   "metadata": {},
   "outputs": [
    {
     "data": {
      "text/plain": [
       "(0.9674011587096087, 0.7699375968395449)"
      ]
     },
     "execution_count": 87,
     "metadata": {},
     "output_type": "execute_result"
    }
   ],
   "source": [
    "base_peer['HH Income/Day (USD_adult_equiv_adj)'].mean(), base_peer['HH Income/Day (USD_adult_equiv_adj)'].median()"
   ]
  },
  {
   "cell_type": "code",
   "execution_count": null,
   "id": "f58a7d22-a0b5-4e91-938e-9ef4c372df10",
   "metadata": {},
   "outputs": [],
   "source": []
  },
  {
   "cell_type": "markdown",
   "id": "78f698f0-63ed-4b96-8f97-51e3ee73c4d9",
   "metadata": {},
   "source": [
    "Income and production"
   ]
  },
  {
   "cell_type": "code",
   "execution_count": 46,
   "id": "088c9e87-b7fa-46d8-8f3e-093b32927c6d",
   "metadata": {},
   "outputs": [],
   "source": [
    "prod_not_rub_ = np.array(base_peer['HH Income + Consumption + Residues/Day (USD_adult_equiv_adj)'])"
   ]
  },
  {
   "cell_type": "code",
   "execution_count": 47,
   "id": "fa4ac921-43e3-40c7-8345-64653ffadb1d",
   "metadata": {},
   "outputs": [],
   "source": [
    "prod_rub_ = np.array(rub_base_peer['HH Income + Consumption + Residues/Day (USD_adult_equiv_adj)'])"
   ]
  },
  {
   "cell_type": "code",
   "execution_count": 129,
   "id": "678c2dd6-0433-4d9b-908a-e6abf08c8ea8",
   "metadata": {},
   "outputs": [
    {
     "data": {
      "text/plain": [
       "1.620533365795722"
      ]
     },
     "execution_count": 129,
     "metadata": {},
     "output_type": "execute_result"
    }
   ],
   "source": [
    "base_income_production = np.concatenate([prod_rub_, prod_not_rub_])\n",
    "base_income_production.mean()"
   ]
  },
  {
   "cell_type": "code",
   "execution_count": 128,
   "id": "fd52ae89-69c5-4f23-8174-2eefe1946cf3",
   "metadata": {},
   "outputs": [
    {
     "data": {
      "text/plain": [
       "((1951, 2), (710, 4488))"
      ]
     },
     "execution_count": 128,
     "metadata": {},
     "output_type": "execute_result"
    }
   ],
   "source": [
    "base_peer.shape, rub_base_peer.shape"
   ]
  },
  {
   "cell_type": "code",
   "execution_count": 45,
   "id": "069fdf17-e347-4a72-8a0c-1213f9aa5b63",
   "metadata": {},
   "outputs": [],
   "source": [
    "base_peer = pd.concat([base_peer[['hhh_sex','hhh_age','HH Income/Day (USD_adult_equiv_adj)','HH Income + Consumption + Residues/Day (USD_adult_equiv_adj)']],\n",
    "               rub_base_peer[['hhh_sex','hhh_age','HH Income/Day (USD_adult_equiv_adj)','HH Income + Consumption + Residues/Day (USD_adult_equiv_adj)']]])"
   ]
  },
  {
   "cell_type": "code",
   "execution_count": 146,
   "id": "149da43d-8528-4f34-8666-5bf8d43ecbe5",
   "metadata": {},
   "outputs": [
    {
     "data": {
      "text/html": [
       "<div>\n",
       "<style scoped>\n",
       "    .dataframe tbody tr th:only-of-type {\n",
       "        vertical-align: middle;\n",
       "    }\n",
       "\n",
       "    .dataframe tbody tr th {\n",
       "        vertical-align: top;\n",
       "    }\n",
       "\n",
       "    .dataframe thead th {\n",
       "        text-align: right;\n",
       "    }\n",
       "</style>\n",
       "<table border=\"1\" class=\"dataframe\">\n",
       "  <thead>\n",
       "    <tr style=\"text-align: right;\">\n",
       "      <th></th>\n",
       "      <th>hhh_sex</th>\n",
       "      <th>hhh_age</th>\n",
       "      <th>HH Income/Day (USD_adult_equiv_adj)</th>\n",
       "      <th>HH Income + Consumption + Residues/Day (USD_adult_equiv_adj)</th>\n",
       "    </tr>\n",
       "  </thead>\n",
       "  <tbody>\n",
       "    <tr>\n",
       "      <th>0</th>\n",
       "      <td>1</td>\n",
       "      <td>58</td>\n",
       "      <td>0.215799</td>\n",
       "      <td>0.443370</td>\n",
       "    </tr>\n",
       "    <tr>\n",
       "      <th>1</th>\n",
       "      <td>1</td>\n",
       "      <td>27</td>\n",
       "      <td>0.290348</td>\n",
       "      <td>0.497341</td>\n",
       "    </tr>\n",
       "    <tr>\n",
       "      <th>2</th>\n",
       "      <td>1</td>\n",
       "      <td>70</td>\n",
       "      <td>0.293836</td>\n",
       "      <td>0.543204</td>\n",
       "    </tr>\n",
       "    <tr>\n",
       "      <th>3</th>\n",
       "      <td>1</td>\n",
       "      <td>78</td>\n",
       "      <td>0.360799</td>\n",
       "      <td>0.573547</td>\n",
       "    </tr>\n",
       "    <tr>\n",
       "      <th>4</th>\n",
       "      <td>2</td>\n",
       "      <td>36</td>\n",
       "      <td>0.302555</td>\n",
       "      <td>0.573721</td>\n",
       "    </tr>\n",
       "  </tbody>\n",
       "</table>\n",
       "</div>"
      ],
      "text/plain": [
       "   hhh_sex  hhh_age  HH Income/Day (USD_adult_equiv_adj)  \\\n",
       "0        1       58                             0.215799   \n",
       "1        1       27                             0.290348   \n",
       "2        1       70                             0.293836   \n",
       "3        1       78                             0.360799   \n",
       "4        2       36                             0.302555   \n",
       "\n",
       "   HH Income + Consumption + Residues/Day (USD_adult_equiv_adj)  \n",
       "0                                           0.443370             \n",
       "1                                           0.497341             \n",
       "2                                           0.543204             \n",
       "3                                           0.573547             \n",
       "4                                           0.573721             "
      ]
     },
     "execution_count": 146,
     "metadata": {},
     "output_type": "execute_result"
    }
   ],
   "source": [
    "base_peer.head()"
   ]
  },
  {
   "cell_type": "code",
   "execution_count": null,
   "id": "c7e985e3-fcfb-4867-badc-e0d5c171232d",
   "metadata": {},
   "outputs": [],
   "source": []
  },
  {
   "cell_type": "code",
   "execution_count": 89,
   "id": "2487fea8-3b9e-4396-847f-25e1fd7771ce",
   "metadata": {},
   "outputs": [
    {
     "data": {
      "text/plain": [
       "Gender\n",
       "Male      1479\n",
       "Female     472\n",
       "Name: count, dtype: int64"
      ]
     },
     "execution_count": 89,
     "metadata": {},
     "output_type": "execute_result"
    }
   ],
   "source": [
    "base_peer['Gender'] = base_peer['hhh_sex'].replace(sex_mapping)\n",
    "base_peer['Gender'].value_counts()"
   ]
  },
  {
   "cell_type": "code",
   "execution_count": 90,
   "id": "2b861a53-d5ac-4073-b22f-b9eaeb6ffdea",
   "metadata": {},
   "outputs": [],
   "source": [
    "base_peer['Household_Head_Gender'] = base_peer['Gender']"
   ]
  },
  {
   "cell_type": "code",
   "execution_count": 91,
   "id": "13e712fa-69db-443b-96d8-ce7baf2cbea0",
   "metadata": {},
   "outputs": [],
   "source": [
    "base_peer['Household_Head_Gender'] = base_peer.apply(lambda row: 'Youth Headed' if row['hhh_age'] < 30 else str(row['Household_Head_Gender']) + ' Headed', axis=1)"
   ]
  },
  {
   "cell_type": "code",
   "execution_count": 92,
   "id": "e455672d-2ff7-457d-9f70-c3a2f2044482",
   "metadata": {},
   "outputs": [
    {
     "data": {
      "text/plain": [
       "Household_Head_Gender\n",
       "Male Headed      1260\n",
       "Female Headed     453\n",
       "Youth Headed      238\n",
       "Name: count, dtype: int64"
      ]
     },
     "execution_count": 92,
     "metadata": {},
     "output_type": "execute_result"
    }
   ],
   "source": [
    "base_peer['Household_Head_Gender'].value_counts()"
   ]
  },
  {
   "cell_type": "code",
   "execution_count": 93,
   "id": "25e60029-3957-4f6f-8866-1cb18034b82d",
   "metadata": {},
   "outputs": [
    {
     "data": {
      "text/html": [
       "<div>\n",
       "<style scoped>\n",
       "    .dataframe tbody tr th:only-of-type {\n",
       "        vertical-align: middle;\n",
       "    }\n",
       "\n",
       "    .dataframe tbody tr th {\n",
       "        vertical-align: top;\n",
       "    }\n",
       "\n",
       "    .dataframe thead th {\n",
       "        text-align: right;\n",
       "    }\n",
       "</style>\n",
       "<table border=\"1\" class=\"dataframe\">\n",
       "  <thead>\n",
       "    <tr style=\"text-align: right;\">\n",
       "      <th></th>\n",
       "      <th>HH Income/Day (USD_adult_equiv_adj)</th>\n",
       "      <th>HH Income + Consumption + Residues/Day (USD_adult_equiv_adj)</th>\n",
       "    </tr>\n",
       "    <tr>\n",
       "      <th>Household_Head_Gender</th>\n",
       "      <th></th>\n",
       "      <th></th>\n",
       "    </tr>\n",
       "  </thead>\n",
       "  <tbody>\n",
       "    <tr>\n",
       "      <th>Female Headed</th>\n",
       "      <td>0.859761</td>\n",
       "      <td>1.525616</td>\n",
       "    </tr>\n",
       "    <tr>\n",
       "      <th>Male Headed</th>\n",
       "      <td>0.964693</td>\n",
       "      <td>1.613478</td>\n",
       "    </tr>\n",
       "    <tr>\n",
       "      <th>Youth Headed</th>\n",
       "      <td>1.186615</td>\n",
       "      <td>1.838549</td>\n",
       "    </tr>\n",
       "  </tbody>\n",
       "</table>\n",
       "</div>"
      ],
      "text/plain": [
       "                       HH Income/Day (USD_adult_equiv_adj)  \\\n",
       "Household_Head_Gender                                        \n",
       "Female Headed                                     0.859761   \n",
       "Male Headed                                       0.964693   \n",
       "Youth Headed                                      1.186615   \n",
       "\n",
       "                       HH Income + Consumption + Residues/Day (USD_adult_equiv_adj)  \n",
       "Household_Head_Gender                                                                \n",
       "Female Headed                                                   1.525616             \n",
       "Male Headed                                                     1.613478             \n",
       "Youth Headed                                                    1.838549             "
      ]
     },
     "execution_count": 93,
     "metadata": {},
     "output_type": "execute_result"
    }
   ],
   "source": [
    "base_peer.groupby('Household_Head_Gender')[['HH Income/Day (USD_adult_equiv_adj)','HH Income + Consumption + Residues/Day (USD_adult_equiv_adj)']].mean()"
   ]
  },
  {
   "cell_type": "code",
   "execution_count": 152,
   "id": "059255b8-0a53-4186-bf98-5e9985b454ae",
   "metadata": {},
   "outputs": [
    {
     "data": {
      "text/html": [
       "<div>\n",
       "<style scoped>\n",
       "    .dataframe tbody tr th:only-of-type {\n",
       "        vertical-align: middle;\n",
       "    }\n",
       "\n",
       "    .dataframe tbody tr th {\n",
       "        vertical-align: top;\n",
       "    }\n",
       "\n",
       "    .dataframe thead th {\n",
       "        text-align: right;\n",
       "    }\n",
       "</style>\n",
       "<table border=\"1\" class=\"dataframe\">\n",
       "  <thead>\n",
       "    <tr style=\"text-align: right;\">\n",
       "      <th></th>\n",
       "      <th>HH Income/Day (USD_adult_equiv_adj)</th>\n",
       "      <th>HH Income + Consumption + Residues/Day (USD_adult_equiv_adj)</th>\n",
       "    </tr>\n",
       "    <tr>\n",
       "      <th>Household_Head_Gender</th>\n",
       "      <th></th>\n",
       "      <th></th>\n",
       "    </tr>\n",
       "  </thead>\n",
       "  <tbody>\n",
       "    <tr>\n",
       "      <th>Female Headed</th>\n",
       "      <td>0.725275</td>\n",
       "      <td>1.268257</td>\n",
       "    </tr>\n",
       "    <tr>\n",
       "      <th>Male Headed</th>\n",
       "      <td>0.747561</td>\n",
       "      <td>1.274203</td>\n",
       "    </tr>\n",
       "    <tr>\n",
       "      <th>Youth Headed</th>\n",
       "      <td>1.070241</td>\n",
       "      <td>1.631893</td>\n",
       "    </tr>\n",
       "  </tbody>\n",
       "</table>\n",
       "</div>"
      ],
      "text/plain": [
       "                       HH Income/Day (USD_adult_equiv_adj)  \\\n",
       "Household_Head_Gender                                        \n",
       "Female Headed                                     0.725275   \n",
       "Male Headed                                       0.747561   \n",
       "Youth Headed                                      1.070241   \n",
       "\n",
       "                       HH Income + Consumption + Residues/Day (USD_adult_equiv_adj)  \n",
       "Household_Head_Gender                                                                \n",
       "Female Headed                                                   1.268257             \n",
       "Male Headed                                                     1.274203             \n",
       "Youth Headed                                                    1.631893             "
      ]
     },
     "execution_count": 152,
     "metadata": {},
     "output_type": "execute_result"
    }
   ],
   "source": [
    "base_peer.groupby('Household_Head_Gender')[['HH Income/Day (USD_adult_equiv_adj)',\n",
    "                                     'HH Income + Consumption + Residues/Day (USD_adult_equiv_adj)']].median()"
   ]
  },
  {
   "cell_type": "code",
   "execution_count": 80,
   "id": "69551131-0167-433e-869a-9281f6dd6094",
   "metadata": {},
   "outputs": [
    {
     "data": {
      "text/plain": [
       "(1.9436957903052967, 1.6217652665883164)"
      ]
     },
     "execution_count": 80,
     "metadata": {},
     "output_type": "execute_result"
    }
   ],
   "source": [
    "base_peer['HH Income + Consumption + Residues/Day (USD_adult_equiv_adj)'].mean(), base_peer['HH Income + Consumption + Residues/Day (USD_adult_equiv_adj)'].median()"
   ]
  },
  {
   "cell_type": "code",
   "execution_count": 58,
   "id": "f64ee755-48f2-49c9-8c11-04b8a6634a77",
   "metadata": {},
   "outputs": [],
   "source": [
    "base_peer.to_excel(\"base_peer.xlsx\")"
   ]
  },
  {
   "cell_type": "code",
   "execution_count": null,
   "id": "c5e6a3ea-6c77-418f-9ae5-9f4253995a8b",
   "metadata": {},
   "outputs": [],
   "source": []
  },
  {
   "cell_type": "code",
   "execution_count": null,
   "id": "b91738d2-e788-407e-9139-5e7b83c32aa4",
   "metadata": {},
   "outputs": [],
   "source": []
  },
  {
   "cell_type": "code",
   "execution_count": null,
   "id": "492c01e9-c56d-4c11-a5dc-a770e21e70e9",
   "metadata": {},
   "outputs": [],
   "source": []
  },
  {
   "cell_type": "code",
   "execution_count": 21,
   "id": "c1909bfd-a4e4-48ff-b447-c9900c945022",
   "metadata": {},
   "outputs": [],
   "source": [
    "boundaries = [0, 0.75, 1.25, 2, 3, float('inf')]\n",
    "labels = [\"0-<0.75/Day\", \"0.75-<1.25/Day\", \"1.25-<2/Day\", \"2-<3/Day\", \"3+/Day\"]"
   ]
  },
  {
   "cell_type": "code",
   "execution_count": 46,
   "id": "fc105e58-1f6a-426d-9a21-30109ec89dc0",
   "metadata": {},
   "outputs": [],
   "source": [
    "base_peer['income_group'] = pd.cut(base_peer['HH Income + Consumption + Residues/Day (USD_adult_equiv_adj)'], bins=boundaries, labels=labels, right=False)"
   ]
  },
  {
   "cell_type": "code",
   "execution_count": 47,
   "id": "65d6d4c1-445a-448b-8056-53c5f0a8f0c5",
   "metadata": {},
   "outputs": [
    {
     "data": {
      "text/plain": [
       "income_group\n",
       "0.75-<1.25/Day    0.303947\n",
       "1.25-<2/Day       0.285495\n",
       "0-<0.75/Day       0.162993\n",
       "2-<3/Day          0.154280\n",
       "3+/Day            0.093285\n",
       "Name: proportion, dtype: float64"
      ]
     },
     "execution_count": 47,
     "metadata": {},
     "output_type": "execute_result"
    }
   ],
   "source": [
    "base_peer['income_group'].value_counts(normalize=True)"
   ]
  },
  {
   "cell_type": "code",
   "execution_count": null,
   "id": "945e556c-d433-4bb3-8f65-a7eecc7eddee",
   "metadata": {},
   "outputs": [],
   "source": []
  },
  {
   "cell_type": "markdown",
   "id": "7cb82823-dda4-4775-a097-4c3d8ad71b01",
   "metadata": {},
   "source": [
    "0-<2.15/Day\n",
    "2.15+/Day"
   ]
  },
  {
   "cell_type": "code",
   "execution_count": 25,
   "id": "b4c7aa03-5f23-4c5a-b23e-e164c69478c6",
   "metadata": {},
   "outputs": [],
   "source": [
    "boundaries_1 = [0, 2.15,float('inf')]\n",
    "labels_1 = [\"0-<2.15/Day\", \"2.15+/Day\"]"
   ]
  },
  {
   "cell_type": "code",
   "execution_count": 48,
   "id": "f16387ab-79d3-4883-b73b-3e81b218df76",
   "metadata": {},
   "outputs": [],
   "source": [
    "base_peer['income_group_1'] = pd.cut(base_peer['HH Income + Consumption + Residues/Day (USD_adult_equiv_adj)'], bins=boundaries_1, labels=labels_1, right=False)"
   ]
  },
  {
   "cell_type": "code",
   "execution_count": 49,
   "id": "c0edb483-cc43-4013-8c42-23e6eeaa4241",
   "metadata": {},
   "outputs": [
    {
     "data": {
      "text/plain": [
       "income_group_1\n",
       "0-<2.15/Day    0.783701\n",
       "2.15+/Day      0.216299\n",
       "Name: proportion, dtype: float64"
      ]
     },
     "execution_count": 49,
     "metadata": {},
     "output_type": "execute_result"
    }
   ],
   "source": [
    "base_peer['income_group_1'].value_counts(normalize=True)"
   ]
  },
  {
   "cell_type": "code",
   "execution_count": null,
   "id": "8c87b6c9-a6f3-4d9b-a3f6-3b4451915a77",
   "metadata": {},
   "outputs": [],
   "source": []
  },
  {
   "cell_type": "code",
   "execution_count": null,
   "id": "554e2e38-d632-4a42-ac9f-128f00a79af9",
   "metadata": {},
   "outputs": [],
   "source": []
  },
  {
   "cell_type": "code",
   "execution_count": null,
   "id": "fa1fb2ae-3aee-4076-9b59-7c24840ca456",
   "metadata": {},
   "outputs": [],
   "source": []
  },
  {
   "cell_type": "code",
   "execution_count": 63,
   "id": "5455265c-aa70-4083-865b-8a67582e51c3",
   "metadata": {},
   "outputs": [],
   "source": [
    "base_peer['income_group_2'] = pd.cut(base_peer['HH Income + Consumption + Residues/Day (USD_adult_equiv_adj)'], bins=boundaries_2, labels=labels_2, right=False)"
   ]
  },
  {
   "cell_type": "code",
   "execution_count": 64,
   "id": "24fce7fd-2857-476f-baf1-a2a603d66017",
   "metadata": {},
   "outputs": [
    {
     "data": {
      "text/plain": [
       "income_group_2\n",
       "1.25-<2.15/Day    0.316761\n",
       "0.75-<1.25/Day    0.303947\n",
       "0-<0.75/Day       0.162993\n",
       "2.5-<3/Day        0.123014\n",
       "3+/Day            0.093285\n",
       "Name: proportion, dtype: float64"
      ]
     },
     "execution_count": 64,
     "metadata": {},
     "output_type": "execute_result"
    }
   ],
   "source": [
    "base_peer['income_group_2'].value_counts(normalize=True)"
   ]
  },
  {
   "cell_type": "code",
   "execution_count": null,
   "id": "63756869-7198-4aeb-a438-24eacc6c8d88",
   "metadata": {},
   "outputs": [],
   "source": []
  },
  {
   "cell_type": "code",
   "execution_count": null,
   "id": "32b3ebbb-4a88-4b8b-b3ce-d4496c88e3c5",
   "metadata": {},
   "outputs": [],
   "source": []
  },
  {
   "cell_type": "code",
   "execution_count": null,
   "id": "b88c4282-796b-4d5f-92f4-3d3971381578",
   "metadata": {},
   "outputs": [],
   "source": []
  }
 ],
 "metadata": {
  "kernelspec": {
   "display_name": "Python 3 (ipykernel)",
   "language": "python",
   "name": "python3"
  },
  "language_info": {
   "codemirror_mode": {
    "name": "ipython",
    "version": 3
   },
   "file_extension": ".py",
   "mimetype": "text/x-python",
   "name": "python",
   "nbconvert_exporter": "python",
   "pygments_lexer": "ipython3",
   "version": "3.10.9"
  }
 },
 "nbformat": 4,
 "nbformat_minor": 5
}
